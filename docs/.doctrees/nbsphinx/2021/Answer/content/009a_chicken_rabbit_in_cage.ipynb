{
 "cells": [
  {
   "cell_type": "markdown",
   "id": "included-education",
   "metadata": {},
   "source": [
    "## 第9讲 鸡兔同笼问题"
   ]
  },
  {
   "cell_type": "markdown",
   "id": "thermal-guide",
   "metadata": {},
   "source": [
    "### Exercise 1"
   ]
  },
  {
   "cell_type": "markdown",
   "id": "e02d3d13",
   "metadata": {},
   "source": [
    "1. Complete the following program so the the program will output the calendar of May 2021 like the follwoing:      \n",
    "   补充填写下面的程序使得它能够输出如下格式的2021年5月的月历：   \n",
    "```text\n",
    "              May 2021         \n",
    "    Sun Mon Tue Wed Thu Fri Sat\n",
    "                             1  \n",
    "     2   3   4   5   6   7   8  \n",
    "     9  10  11  12  13  14  15  \n",
    "    16  17  18  19  20  21  22  \n",
    "    23  24  25  26  27  28  29  \n",
    "    30  31\n",
    "```"
   ]
  },
  {
   "cell_type": "code",
   "execution_count": 1,
   "id": "ca3b8e59",
   "metadata": {},
   "outputs": [
    {
     "name": "stdout",
     "output_type": "stream",
     "text": [
      "          May 2021         \n",
      "Sun Mon Tue Wed Thu Fri Sat\n",
      "                         1  \n",
      " 2   3   4   5   6   7   8  \n",
      " 9  10  11  12  13  14  15  \n",
      "16  17  18  19  20  21  22  \n",
      "23  24  25  26  27  28  29  \n",
      "30  31  "
     ]
    }
   ],
   "source": [
    "# Attention: running original codes will go into a infinite loop.\n",
    "# stop and restart the kernal if this occurs.\n",
    "# 注意：直接运行未经修改的代码会导致死循环\n",
    "# 出现这种情况请停止运行并重启kernal\n",
    "\n",
    "month_year_title = \"          May 2021         \"\n",
    "weeks_title =      \"Sun Mon Tue Wed Thu Fri Sat\"\n",
    "# starting from the date \"1st May\"\n",
    "cur_date, cur_weekday, max_date = 1, 6, 31  \n",
    "# spaces are used to locate the position of 1st May\n",
    "n_space_filled, n_space_to_fill = 0, cur_weekday * 4 # why is 4 here?\n",
    "print(month_year_title)\n",
    "print(weeks_title)\n",
    "\n",
    "while n_space_filled < n_space_to_fill:  # 填充第一行1日之前的空格\n",
    "    print(\" \", end=\"\")\n",
    "    n_space_filled += 1\n",
    "    \n",
    "while cur_date <= max_date:\n",
    "    if cur_date < 10:\n",
    "        print(\" \", end=\"\")     # if the date is less than 10, we print an \n",
    "                               #    extra \" \" before the number\n",
    "    print(cur_date, end=\"  \")  # add some spaces between dates to layout them properly\n",
    "    if cur_weekday == 6:       # 6 means the weekday is Saturday\n",
    "        print()\n",
    "        cur_weekday = 0        # 0 means the weekday is Sunday, \n",
    "    else:                      # if current weekday is not Saturaday\n",
    "        cur_weekday += 1\n",
    "        pass\n",
    "    \n",
    "    cur_date += 1\n",
    "    pass"
   ]
  },
  {
   "cell_type": "markdown",
   "id": "adapted-austin",
   "metadata": {},
   "source": [
    "### Exercise 2"
   ]
  },
  {
   "cell_type": "markdown",
   "id": "f086daef",
   "metadata": {},
   "source": [
    "2. Yunzi and Sophie are brother and sister; they haven't been seeing each other for almost 5 years. Sophie plans to visit Yunzi if the pandamic of COVID-19 will be globally declared over this summer and Sophie's mom will successfully book the ticked to China. Please work with Sophie and Yunzi to list all the possibilities of the 2 conditions and tell if Sophie is able to visit Yunzi this summer. Also write Python codes to answer the same quesitons.\n",
    "\n",
    "   耘耔和菲菲是姐弟俩，他们已经有接近5年没有见到彼此了。菲菲计划如果今年夏天全球疫情结束且她的妈妈能买到回中国的机票的话就回去拜访耘耔弟弟。请同菲菲一起列出来前面所说的两个条件(全球疫情是否结束，菲菲妈妈能否买到机票）的所有可能组合，并且针对每一个可能性指出菲菲能否在今年夏天拜访耘耔弟弟。也请编写Python代码来回答同样的问题。\n",
    "\n",
    "   Use each code cell to handle one possibility of conditions. You may not need to use all the 6 cells provided below.\n",
    "   \n",
    "   针对每一种可能性的组合用一个代码单元格编写代码。你应该不需要用完所有的6个代码单元格。"
   ]
  },
  {
   "cell_type": "code",
   "execution_count": null,
   "id": "031814c4",
   "metadata": {},
   "outputs": [],
   "source": []
  },
  {
   "cell_type": "code",
   "execution_count": null,
   "id": "b9b37e48",
   "metadata": {},
   "outputs": [],
   "source": []
  },
  {
   "cell_type": "code",
   "execution_count": null,
   "id": "8a694b58",
   "metadata": {},
   "outputs": [],
   "source": []
  },
  {
   "cell_type": "code",
   "execution_count": null,
   "id": "62404a4d",
   "metadata": {},
   "outputs": [],
   "source": []
  },
  {
   "cell_type": "code",
   "execution_count": null,
   "id": "ac7aedb0",
   "metadata": {},
   "outputs": [],
   "source": []
  },
  {
   "cell_type": "code",
   "execution_count": null,
   "id": "240c11ba",
   "metadata": {},
   "outputs": [],
   "source": []
  },
  {
   "cell_type": "markdown",
   "id": "separate-shuttle",
   "metadata": {},
   "source": [
    "### Exercise 3"
   ]
  },
  {
   "cell_type": "markdown",
   "id": "c6236abd",
   "metadata": {},
   "source": [
    "3. A turtle is climbing up from the bottom of a 12 meter-deep well, eachday it will climb 2 meters high at daytime but will step down 0.8 meters at night. Once the turtle climbs to the surface of ground, which is the top of the well, it will not step down anymore. How many days will it take for the turtle to escape from the well? Write your program to answer this question and print out each location indicated by the distance from the bottom of the well to location of the turtle just before the start of each next day.\n",
    "\n",
    "   一个小乌龟正打算从一个12米深的井底往上爬，每一天的白天它会向上爬2米，可是在夜间它会倒退0.8米。当有一天小乌龟爬到井口到达地面时它就不会再往下退了。现在问你，小乌龟需要花费多少天才能从井底爬到地面上。编写Python程序来回答这个问题，并且打印出每一个第二天来临前小乌龟的位置（用它距离井底的距离来表示）"
   ]
  },
  {
   "cell_type": "code",
   "execution_count": 2,
   "id": "419a48be",
   "metadata": {},
   "outputs": [],
   "source": []
  },
  {
   "cell_type": "markdown",
   "id": "whole-compression",
   "metadata": {},
   "source": [
    "### Exercise 4"
   ]
  },
  {
   "cell_type": "markdown",
   "id": "decent-entertainment",
   "metadata": {},
   "source": [
    "4. Cut a 2.6 meters long rope into 4 segments as the 4 sides to make an rectangle. In order to maximize the area of the rectangle enclosed, how will you cut the rope? Write a programm to verify your result.\n",
    "\n",
    "   把一个2.6米长的绳子剪成4段作为一个长方形的4条边。应该如何切割这个绳子才能使得围成的长方形的面积最大？编写程序来验证你的计算结果。"
   ]
  },
  {
   "cell_type": "code",
   "execution_count": 3,
   "id": "egyptian-county",
   "metadata": {},
   "outputs": [],
   "source": [
    "# Your answers are here\n",
    "#\n",
    "#\n",
    "# Your codes are here\n",
    "#\n",
    "#"
   ]
  },
  {
   "cell_type": "markdown",
   "id": "speaking-heavy",
   "metadata": {},
   "source": [
    "### Exercise 5"
   ]
  },
  {
   "cell_type": "markdown",
   "id": "novel-senegal",
   "metadata": {},
   "source": [
    "5. (Hard, Optional) Jason and Tony stand at two opposite ends of a 1000 meters long straight road. Suppose Jason is at the left end and Tony is at the right. At time 8:00, both Jason and Tony start to run towards the other end of the road but with different speed: 5 meters per second for Jason, and 3 meters per second for Tony. Once either of Jason or Tony reaches the end, he will turn back immediately and run towards the other end with the value of speed unchanged, and so on until to 8:10. It's obvious that Jason and Tony will meet each other several times at some points of time and place of the road.    \n",
    "   （难, 可选做）Jason和Tony分别站在一条1000米笔直的马路两端。假定Jason在这个马路的左侧端点，Tony在右侧。在8:00（八点整）这一时刻，Jason和Tony分别用各自恒定的速度跑向对方所在的马路端点，其中Jason每秒跑5米，Tony每秒跑3米。当他们中的任何一个跑到马路的另一端时会立即掉头再朝着另一个端点跑去，并保持自己的速度值不变，如此反复直到8:10。很明显，Jason和Tony会在某一个时间点、马路上的某一个位置相遇，并且他们会多次相遇。\n",
    "   \n",
    "   Now the question is:    \n",
    "   现在问：\n",
    "   - If two children keep walking until to 8:10, how many times will they meet each other?    \n",
    "     如果两个小朋友一直跑到8:10（八点十分），他们会相遇多少次？\n",
    "   - At which points of time and place will they meet?    \n",
    "     每一次相遇分别发生在什么时间和什么地点？\n",
    "   - At the stop time of 8:10, where will Jason and Tony be stopping and which direction are they facing to?    \n",
    "     在8:10分停止的时候，Jason和Tony分别停在什么位置？方向如何？\n",
    "   - Can you draw and simulate the whole event by drawing shapes and lines on `turtle`?    \n",
    "     你能用`turtle`来绘图模拟整个跑步的场景吗？\n",
    "   \n",
    "   Hint: you can describe a place(location) by indicating how many meters it is measured from one end of the road.      \n",
    "   提示：在描述一个地点（位置）时，可以用这个地点距离马路的某一个端点的距离来表示。"
   ]
  },
  {
   "cell_type": "code",
   "execution_count": 4,
   "id": "a1b798b3",
   "metadata": {},
   "outputs": [
    {
     "name": "stdout",
     "output_type": "stream",
     "text": [
      "Meet 1\n",
      "Jason and Tony meet at time: 124.99000000002704\n",
      "pos_Jason: 624.9999999999793, speed_Jason:5\n",
      "pos_tony: 625.0000000003411, speed_tony:-3\n",
      "Meet 2\n",
      "Jason and Tony meet at time: 374.98999999980396\n",
      "pos_Jason: 125.00000000071844, speed_Jason:-5\n",
      "pos_tony: 124.99999999933625, speed_tony:3\n",
      "Meet 3\n",
      "Jason and Tony meet at time: 499.98999999969027\n",
      "pos_Jason: 499.999999999356, speed_Jason:5\n",
      "pos_tony: 499.99999999911927, speed_tony:3\n"
     ]
    }
   ],
   "source": [
    "cur_time, max_time = 0, 10 * 60         # seconds\n",
    "length_road = 1000                      # 1000 meters\n",
    "pos_jason, pos_tony = 0, 1000           # the pos of left end of road is 0\n",
    "                                        # Jason is at the left, Tony right end\n",
    "n_meet = 0                              # times they meet\n",
    "speed_jason, speed_tony = 5, -3         # set jason's initial direction as positive\n",
    "                                        # then tony's speed is negative\n",
    "durable_error = 0.01\n",
    "delta_time = 0.01                       # second\n",
    "while cur_time <= max_time:\n",
    "    pos_jason += speed_jason * delta_time\n",
    "    if pos_jason >= length_road and speed_jason > 0:\n",
    "        pos_jason = length_road - (pos_jason - length_road)\n",
    "        speed_jason *= -1\n",
    "    if pos_jason <= 0 and speed_jason < 0:\n",
    "        pos_jason *= -1\n",
    "        speed_jason *= -1\n",
    "    \n",
    "    pos_tony += speed_tony * delta_time\n",
    "    if pos_tony >= length_road and speed_tony > 0:\n",
    "        pos_tony = length_road - (pos_tony - length_road)\n",
    "        speed_tony *= -1\n",
    "    if pos_tony <= 0 and speed_tony < 0:\n",
    "        pos_tony *= -1\n",
    "        speed_tony *= -1\n",
    "        \n",
    "    if abs(pos_tony - pos_jason) <= durable_error:\n",
    "        n_meet += 1\n",
    "        print(\"Meet {}\".format(n_meet))\n",
    "        print(\"Jason and Tony meet at time: {}\".format(cur_time))\n",
    "        print(\"pos_Jason: {}, speed_Jason:{}\".format(pos_jason, speed_jason))\n",
    "        print(\"pos_tony: {}, speed_tony:{}\".format(pos_tony, speed_tony))\n",
    "        \n",
    "    cur_time += delta_time"
   ]
  },
  {
   "cell_type": "code",
   "execution_count": null,
   "id": "annual-opinion",
   "metadata": {},
   "outputs": [],
   "source": []
  }
 ],
 "metadata": {
  "kernelspec": {
   "display_name": "Python 3",
   "language": "python",
   "name": "python3"
  },
  "language_info": {
   "codemirror_mode": {
    "name": "ipython",
    "version": 3
   },
   "file_extension": ".py",
   "mimetype": "text/x-python",
   "name": "python",
   "nbconvert_exporter": "python",
   "pygments_lexer": "ipython3",
   "version": "3.8.5"
  }
 },
 "nbformat": 4,
 "nbformat_minor": 5
}
