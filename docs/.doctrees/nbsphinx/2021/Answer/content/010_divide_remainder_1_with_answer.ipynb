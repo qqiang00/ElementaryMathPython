{
 "cells": [
  {
   "cell_type": "markdown",
   "id": "relative-location",
   "metadata": {},
   "source": [
    "## 第10讲 整除与余数（一）"
   ]
  },
  {
   "cell_type": "markdown",
   "id": "d12f05dd",
   "metadata": {},
   "source": [
    "### 问题描述"
   ]
  },
  {
   "cell_type": "markdown",
   "id": "b4965b15-9c2f-45ca-8da3-32b32fdda23e",
   "metadata": {},
   "source": [
    "在1, 2, 3,..., 98, 99, 100这100个整数中，哪些能够被6整除？哪些能被10整除？能同时被6和10整除的数又是哪些？"
   ]
  },
  {
   "cell_type": "markdown",
   "id": "animated-batch",
   "metadata": {},
   "source": [
    "### 数学背景"
   ]
  },
  {
   "cell_type": "markdown",
   "id": "6eb1e15a-3782-4bd2-a395-53d6296ffbe1",
   "metadata": {},
   "source": [
    "1. 试商法进行除法运算\n",
    "2. 整除、余数的概念\n",
    "3. 余数与除数的比较关系"
   ]
  },
  {
   "cell_type": "markdown",
   "id": "sorted-furniture",
   "metadata": {
    "heading_collapsed": true
   },
   "source": [
    "### 预备知识"
   ]
  },
  {
   "cell_type": "markdown",
   "id": "841e9239",
   "metadata": {},
   "source": [
    "#### 1.模拟试商法求解除法算式: $23 \\div 5$的商和余数\n",
    "\n",
    "   修改下面程序的错误："
   ]
  },
  {
   "cell_type": "code",
   "execution_count": 10,
   "id": "5b22a1cb-69e8-4d67-a337-eaf431db91df",
   "metadata": {},
   "outputs": [
    {
     "name": "stdout",
     "output_type": "stream",
     "text": [
      "23 / 5 = 4 ... 3\n",
      "23不能被5整除\n"
     ]
    }
   ],
   "source": [
    "beichushu, chushu = 23, 5\n",
    "shang, yushu = 0, None\n",
    "\n",
    "while shang * chushu <= beichushu:\n",
    "    yushu = beichushu - shang * chushu\n",
    "    shang += 1\n",
    "\n",
    "# TODO： add code here to debug\n",
    "shang -= 1\n",
    "print(\"{} / {} = {} ... {}\".format(beichushu, chushu, shang, yushu))\n",
    "if yushu == 0:\n",
    "    print(\"{}能被{}整除\".format(beichushu, chushu))\n",
    "else:\n",
    "    print(\"{}不能被{}整除\".format(beichushu, chushu))"
   ]
  },
  {
   "cell_type": "code",
   "execution_count": 12,
   "id": "f39efcaa-e327-4d77-984c-b67b2616c618",
   "metadata": {},
   "outputs": [
    {
     "data": {
      "text/plain": [
       "3"
      ]
     },
     "execution_count": 12,
     "metadata": {},
     "output_type": "execute_result"
    }
   ],
   "source": [
    "# before loop 未进入循环前： shang:0, yushu:None\n",
    "# step      4: shang  4:yushu   shang*chushu <= beichushu  5:yushu    6:shang\n",
    "\n",
    "# 1            0      None         0<=23 Yes (True)         23         1\n",
    "# 2            1      23           5<=23     True           18         2\n",
    "# 3            2      18           10<=23 (True)            13         3\n",
    "# 4            3      13           True                     8          4\n",
    "# 5            4      8            True                     3          5\n",
    "# 6            5      3            5*5<=23? No(False)       /          /\n",
    "\n",
    "# out of loop 离开循环\n",
    "shang -= 1   # shang == 4\n",
    "yushu        # 3"
   ]
  },
  {
   "cell_type": "markdown",
   "id": "81fb8ff8-8957-4782-b25c-f03ecf84d681",
   "metadata": {},
   "source": [
    "#### 2.余数总是比除数小。"
   ]
  },
  {
   "cell_type": "code",
   "execution_count": 19,
   "id": "57701df6-d48d-4644-a95b-3b3d73e58494",
   "metadata": {},
   "outputs": [
    {
     "name": "stdout",
     "output_type": "stream",
     "text": [
      "23 / 5 = 4 ... 3\n",
      "23不能被5整除\n"
     ]
    }
   ],
   "source": [
    "beichushu, chushu = 23, 5\n",
    "shang, yushu = 0, beichushu - 0 * chushu\n",
    "while yushu >= chushu:\n",
    "    shang += 1\n",
    "    yushu = beichushu - shang * chushu\n",
    "    \n",
    "print(\"{} / {} = {} ... {}\".format(beichushu, chushu, shang, yushu))\n",
    "if yushu == 0:\n",
    "    print(\"{}能被{}整除\".format(beichushu, chushu))\n",
    "else:\n",
    "    print(\"{}不能被{}整除\".format(beichushu, chushu))"
   ]
  },
  {
   "cell_type": "markdown",
   "id": "90ed2975-119e-4319-9932-9ff3726d0704",
   "metadata": {},
   "source": [
    "列表解释每一次循环体执行时关键变量的信息"
   ]
  },
  {
   "cell_type": "code",
   "execution_count": 14,
   "id": "2d38d501-6700-4a56-ab8d-b341d9c76609",
   "metadata": {},
   "outputs": [],
   "source": [
    "# before loop 循环开始前: shang: 0, yushu = 23\n",
    "\n",
    "# in loop 在循环中\n",
    "# step   line3:yushu    yushu >= chushu?     line4:shang    line5:yushu\n",
    "# 1           23             True                 1            18\n",
    "# 2           18             True                 2            13\n",
    "# 3           13             True                 3             8\n",
    "# 4            8             True                 4             3\n",
    "# 5            3             False                /             /\n",
    "\n",
    "# out of loop 离开循环后\n",
    "# line7: executed 执行了，print\n",
    "# line8: executed 执行了， check if condition 检查if的条件\n",
    "# line9: not executed, 未执行\n",
    "# line10: executed, \n",
    "# line11: print out输出不能整除"
   ]
  },
  {
   "cell_type": "markdown",
   "id": "8cbbd4ae-abf1-46d5-9a4d-96c671c45bf0",
   "metadata": {},
   "source": [
    "#### 3.新的运算符`//`和`%`\n",
    "Python提供与加减乘除（`+`, `-`, `*`, `/`）地位类似的两个运算符`//`和`%`来分别计算一个数除以另一个数的商和余数，这两个运算符的名字本别为“取整”和”取余“，对应的运算表达式分别为“取整表达式”和“取余表达式”。例如`24`除以`5`的商和余数可以分别直接用下面的表达式算出。"
   ]
  },
  {
   "cell_type": "code",
   "execution_count": 20,
   "id": "d8e0afda-34dd-4244-bc90-dcba87e0057c",
   "metadata": {},
   "outputs": [
    {
     "name": "stdout",
     "output_type": "stream",
     "text": [
      "23 / 5 = 4 ... 3\n",
      "23不能被5整除\n"
     ]
    }
   ],
   "source": [
    "beichushu, chuchu = 23, 5\n",
    "shang = beichushu // chushu    # 取整（商）表达式\n",
    "yushu = beichushu % chushu     # 取余表达式 \n",
    "\n",
    "print(\"{} / {} = {} ... {}\".format(beichushu, chushu, shang, yushu))\n",
    "if yushu == 0:\n",
    "    print(\"{}能被{}整除\".format(beichushu, chushu))\n",
    "else:\n",
    "    print(\"{}不能被{}整除\".format(beichushu, chushu))"
   ]
  },
  {
   "cell_type": "markdown",
   "id": "64de3c03-a83f-46a6-bb30-342b4663ce34",
   "metadata": {},
   "source": [
    "#### 4.使用英文的变量名重写上面的代码"
   ]
  },
  {
   "cell_type": "code",
   "execution_count": 23,
   "id": "e106c846-1bc8-498d-9178-630ec5816736",
   "metadata": {},
   "outputs": [
    {
     "name": "stdout",
     "output_type": "stream",
     "text": [
      "24 / 5 = 4 ... 4\n",
      "24不能被5整除\n"
     ]
    }
   ],
   "source": [
    "dividend, divisor = 24, 5\n",
    "qoutient = dividend // divisor\n",
    "remainder = dividend % divisor\n",
    "\n",
    "print(\"{} / {} = {} ... {}\".format(dividend, divisor, qoutient, remainder))\n",
    "if yushu == 0:\n",
    "    print(\"{}能被{}整除\".format(dividend, divisor))\n",
    "else:\n",
    "    print(\"{}不能被{}整除\".format(dividend, divisor))"
   ]
  },
  {
   "cell_type": "markdown",
   "id": "d55f37d9",
   "metadata": {},
   "source": [
    "### 编程求解"
   ]
  },
  {
   "cell_type": "code",
   "execution_count": 21,
   "id": "6659bf8c-b604-4cbe-87cc-4de2e556008b",
   "metadata": {},
   "outputs": [
    {
     "name": "stdout",
     "output_type": "stream",
     "text": [
      "6能被6整除。\n",
      "10能被10整除。\n",
      "12能被6整除。\n",
      "18能被6整除。\n",
      "20能被10整除。\n",
      "24能被6整除。\n",
      "30能被6整除。\n",
      "30能被10整除。\n",
      "30能同时被6和10整除。\n",
      "36能被6整除。\n",
      "40能被10整除。\n",
      "42能被6整除。\n",
      "48能被6整除。\n",
      "50能被10整除。\n",
      "54能被6整除。\n",
      "60能被6整除。\n",
      "60能被10整除。\n",
      "60能同时被6和10整除。\n",
      "66能被6整除。\n",
      "70能被10整除。\n",
      "72能被6整除。\n",
      "78能被6整除。\n",
      "80能被10整除。\n",
      "84能被6整除。\n",
      "90能被6整除。\n",
      "90能被10整除。\n",
      "90能同时被6和10整除。\n",
      "96能被6整除。\n",
      "100能被10整除。\n"
     ]
    }
   ],
   "source": [
    "divisor1, divisor2 = 6, 10                    # 声明两个除数 \n",
    "min_dividend, max_dividend = 1, 100           # 声明最小和最大被除数\n",
    "cur_dividend = min_dividend                   # 声明当前正在分析的被除数\n",
    "\n",
    "while cur_dividend <= max_dividend:           # while 循环起始及条件\n",
    "    \n",
    "    remainder1 = cur_dividend % divisor1      # 计算第一个余数\n",
    "    if remainder1 == 0:                       # 判断第一个余数是否为0，为0表示整除\n",
    "        print(\"{}能被{}整除。\".format(cur_dividend, divisor1))\n",
    "    \n",
    "    remainder2 = cur_dividend % divisor2      # 计算第二个余数\n",
    "    if remainder2 == 0:                       # 判断第二个余数是否为0，为0表示整除\n",
    "        print(\"{}能被{}整除。\".format(cur_dividend, divisor2))\n",
    "        \n",
    "    if remainder1 == 0 and remainder2 == 0:   # 判断两个余数是否同时为0，同时为0表示\n",
    "                                              # 当前被除数可以同时被两个除数整除\n",
    "        print(\"{}能同时被{}和{}整除。\".format(cur_dividend, divisor1, divisor2))\n",
    "        \n",
    "    cur_dividend += 1                         # 准备下一个被除数"
   ]
  },
  {
   "cell_type": "markdown",
   "id": "latest-contamination",
   "metadata": {},
   "source": [
    "### 知识点小结\n",
    "1. 学习“取整”和“取余”两个新运算符：`//`，`%`\n",
    "2. 复习`.format`方法控制字符串的格式\n",
    "3. 复习`if`条件语句，学习没有`else`配对的、单独使用`if`的条件语句，多个单独出现的`if`语句的意义\n",
    "4. 复习`and`连接两个条件表达式\n",
    "5. 复习`while`循环语句"
   ]
  },
  {
   "cell_type": "markdown",
   "id": "afb3f674",
   "metadata": {},
   "source": []
  },
  {
   "cell_type": "code",
   "execution_count": null,
   "id": "rural-branch",
   "metadata": {
    "hidden": true
   },
   "outputs": [],
   "source": []
  },
  {
   "cell_type": "code",
   "execution_count": null,
   "id": "urban-glance",
   "metadata": {
    "hidden": true
   },
   "outputs": [],
   "source": []
  },
  {
   "cell_type": "markdown",
   "id": "bizarre-assurance",
   "metadata": {},
   "source": [
    "### 计算机小知识"
   ]
  },
  {
   "cell_type": "markdown",
   "id": "92100f08",
   "metadata": {},
   "source": [
    "暂缺"
   ]
  },
  {
   "cell_type": "markdown",
   "id": "digital-consensus",
   "metadata": {
    "heading_collapsed": true
   },
   "source": [
    "### 练习"
   ]
  },
  {
   "cell_type": "markdown",
   "id": "de4cfdc5",
   "metadata": {},
   "source": [
    "1. 对下面的每一个除法算式，分别使用例题中用过的三套代码来计算商和余数。\n",
    "   - $97 \\div 13$\n",
    "   - $84 \\div 7$\n",
    "   - $92 \\div 3$\n",
    "   - $92 \\div 4$"
   ]
  },
  {
   "cell_type": "code",
   "execution_count": null,
   "id": "weighted-mortality",
   "metadata": {
    "hidden": true
   },
   "outputs": [],
   "source": [
    "# 请自行添加代码单元格，一共需要12个代码单元格"
   ]
  },
  {
   "cell_type": "code",
   "execution_count": 1,
   "id": "ef6ab01f-45c8-44bf-af32-c292fb6ebb78",
   "metadata": {},
   "outputs": [
    {
     "name": "stdout",
     "output_type": "stream",
     "text": [
      "97 / 13 = 7 ... 6\n",
      "97不能被13整除\n"
     ]
    }
   ],
   "source": [
    "beichushu, chushu = 97, 13\n",
    "shang, yushu = 0, None\n",
    "\n",
    "while shang * chushu <= beichushu:\n",
    "    yushu = beichushu - shang * chushu\n",
    "    shang += 1\n",
    "\n",
    "shang -= 1\n",
    "print(\"{} / {} = {} ... {}\".format(beichushu, chushu, shang, yushu))\n",
    "if yushu == 0:\n",
    "    print(\"{}能被{}整除\".format(beichushu, chushu))\n",
    "else:\n",
    "    print(\"{}不能被{}整除\".format(beichushu, chushu))"
   ]
  },
  {
   "cell_type": "code",
   "execution_count": 2,
   "id": "7fd21e0f-5dfe-4608-a9af-4bc28679462d",
   "metadata": {},
   "outputs": [
    {
     "name": "stdout",
     "output_type": "stream",
     "text": [
      "97 / 13 = 7 ... 6\n",
      "97不能被13整除\n"
     ]
    }
   ],
   "source": [
    "beichushu, chushu = 97, 13\n",
    "shang, yushu = 0, beichushu - 0 * chushu\n",
    "while yushu >= chushu:\n",
    "    shang += 1\n",
    "    yushu = beichushu - shang * chushu\n",
    "    \n",
    "print(\"{} / {} = {} ... {}\".format(beichushu, chushu, shang, yushu))\n",
    "if yushu == 0:\n",
    "    print(\"{}能被{}整除\".format(beichushu, chushu))\n",
    "else:\n",
    "    print(\"{}不能被{}整除\".format(beichushu, chushu))"
   ]
  },
  {
   "cell_type": "code",
   "execution_count": 3,
   "id": "dc8ecdb1-37da-401f-9fa2-5d8018a35338",
   "metadata": {},
   "outputs": [
    {
     "name": "stdout",
     "output_type": "stream",
     "text": [
      "97 / 13 = 7 ... 6\n",
      "97不能被13整除\n"
     ]
    }
   ],
   "source": [
    "beichushu, chushu = 97, 13\n",
    "shang = beichushu // chushu    # 取整（商）表达式\n",
    "yushu = beichushu % chushu     # 取余表达式 \n",
    "\n",
    "print(\"{} / {} = {} ... {}\".format(beichushu, chushu, shang, yushu))\n",
    "if yushu == 0:\n",
    "    print(\"{}能被{}整除\".format(beichushu, chushu))\n",
    "else:\n",
    "    print(\"{}不能被{}整除\".format(beichushu, chushu))"
   ]
  },
  {
   "cell_type": "code",
   "execution_count": 4,
   "id": "391cf6f6-f337-4b8a-82da-d7773e3f9e64",
   "metadata": {},
   "outputs": [
    {
     "name": "stdout",
     "output_type": "stream",
     "text": [
      "84 / 7 = 12 ... 0\n",
      "84能被7整除\n"
     ]
    }
   ],
   "source": [
    "beichushu, chushu = 84, 7\n",
    "shang, yushu = 0, None\n",
    "\n",
    "while shang * chushu <= beichushu:\n",
    "    yushu = beichushu - shang * chushu\n",
    "    shang += 1\n",
    "\n",
    "shang -= 1\n",
    "print(\"{} / {} = {} ... {}\".format(beichushu, chushu, shang, yushu))\n",
    "if yushu == 0:\n",
    "    print(\"{}能被{}整除\".format(beichushu, chushu))\n",
    "else:\n",
    "    print(\"{}不能被{}整除\".format(beichushu, chushu))"
   ]
  },
  {
   "cell_type": "code",
   "execution_count": 5,
   "id": "ab945159-3c75-49d2-ae91-7e775216374a",
   "metadata": {},
   "outputs": [
    {
     "name": "stdout",
     "output_type": "stream",
     "text": [
      "84 / 7 = 12 ... 0\n",
      "84能被7整除\n"
     ]
    }
   ],
   "source": [
    "beichushu, chushu = 84, 7\n",
    "shang, yushu = 0, beichushu - 0 * chushu\n",
    "while yushu >= chushu:\n",
    "    shang += 1\n",
    "    yushu = beichushu - shang * chushu\n",
    "    \n",
    "print(\"{} / {} = {} ... {}\".format(beichushu, chushu, shang, yushu))\n",
    "if yushu == 0:\n",
    "    print(\"{}能被{}整除\".format(beichushu, chushu))\n",
    "else:\n",
    "    print(\"{}不能被{}整除\".format(beichushu, chushu))"
   ]
  },
  {
   "cell_type": "code",
   "execution_count": 6,
   "id": "52efe2da-1c39-4b3c-a6cc-a8322af54fdd",
   "metadata": {},
   "outputs": [
    {
     "name": "stdout",
     "output_type": "stream",
     "text": [
      "84 / 7 = 12 ... 0\n",
      "84能被7整除\n"
     ]
    }
   ],
   "source": [
    "beichushu, chushu = 84, 7\n",
    "shang = beichushu // chushu    # 取整（商）表达式\n",
    "yushu = beichushu % chushu     # 取余表达式 \n",
    "\n",
    "print(\"{} / {} = {} ... {}\".format(beichushu, chushu, shang, yushu))\n",
    "if yushu == 0:\n",
    "    print(\"{}能被{}整除\".format(beichushu, chushu))\n",
    "else:\n",
    "    print(\"{}不能被{}整除\".format(beichushu, chushu))"
   ]
  },
  {
   "cell_type": "code",
   "execution_count": 7,
   "id": "f4fc60f0-288b-40d6-9fd2-680b17ab9d63",
   "metadata": {},
   "outputs": [
    {
     "name": "stdout",
     "output_type": "stream",
     "text": [
      "92 / 3 = 30 ... 2\n",
      "92不能被3整除\n"
     ]
    }
   ],
   "source": [
    "beichushu, chushu = 92, 3\n",
    "shang, yushu = 0, None\n",
    "\n",
    "while shang * chushu <= beichushu:\n",
    "    yushu = beichushu - shang * chushu\n",
    "    shang += 1\n",
    "\n",
    "shang -= 1\n",
    "print(\"{} / {} = {} ... {}\".format(beichushu, chushu, shang, yushu))\n",
    "if yushu == 0:\n",
    "    print(\"{}能被{}整除\".format(beichushu, chushu))\n",
    "else:\n",
    "    print(\"{}不能被{}整除\".format(beichushu, chushu))"
   ]
  },
  {
   "cell_type": "code",
   "execution_count": 8,
   "id": "4e657bb4-9e8c-4281-98bf-3b1446cb5bb9",
   "metadata": {},
   "outputs": [
    {
     "name": "stdout",
     "output_type": "stream",
     "text": [
      "92 / 3 = 30 ... 2\n",
      "92不能被3整除\n"
     ]
    }
   ],
   "source": [
    "beichushu, chushu = 92, 3\n",
    "shang, yushu = 0, beichushu - 0 * chushu\n",
    "while yushu >= chushu:\n",
    "    shang += 1\n",
    "    yushu = beichushu - shang * chushu\n",
    "    \n",
    "print(\"{} / {} = {} ... {}\".format(beichushu, chushu, shang, yushu))\n",
    "if yushu == 0:\n",
    "    print(\"{}能被{}整除\".format(beichushu, chushu))\n",
    "else:\n",
    "    print(\"{}不能被{}整除\".format(beichushu, chushu))"
   ]
  },
  {
   "cell_type": "code",
   "execution_count": 9,
   "id": "9ec5e7f2-2576-4788-bb98-aa772fd9f4ad",
   "metadata": {},
   "outputs": [
    {
     "name": "stdout",
     "output_type": "stream",
     "text": [
      "92 / 3 = 30 ... 2\n",
      "92不能被3整除\n"
     ]
    }
   ],
   "source": [
    "beichushu, chushu = 92, 3\n",
    "shang = beichushu // chushu    # 取整（商）表达式\n",
    "yushu = beichushu % chushu     # 取余表达式 \n",
    "\n",
    "print(\"{} / {} = {} ... {}\".format(beichushu, chushu, shang, yushu))\n",
    "if yushu == 0:\n",
    "    print(\"{}能被{}整除\".format(beichushu, chushu))\n",
    "else:\n",
    "    print(\"{}不能被{}整除\".format(beichushu, chushu))"
   ]
  },
  {
   "cell_type": "code",
   "execution_count": 10,
   "id": "a233a872-e7f0-4819-aa89-478723b87eb2",
   "metadata": {},
   "outputs": [
    {
     "name": "stdout",
     "output_type": "stream",
     "text": [
      "92 / 4 = 23 ... 0\n",
      "92能被4整除\n"
     ]
    }
   ],
   "source": [
    "beichushu, chushu = 92, 4\n",
    "shang, yushu = 0, None\n",
    "\n",
    "while shang * chushu <= beichushu:\n",
    "    yushu = beichushu - shang * chushu\n",
    "    shang += 1\n",
    "\n",
    "# TODO： add code here to debug\n",
    "shang -= 1\n",
    "print(\"{} / {} = {} ... {}\".format(beichushu, chushu, shang, yushu))\n",
    "if yushu == 0:\n",
    "    print(\"{}能被{}整除\".format(beichushu, chushu))\n",
    "else:\n",
    "    print(\"{}不能被{}整除\".format(beichushu, chushu))"
   ]
  },
  {
   "cell_type": "code",
   "execution_count": 11,
   "id": "c7c3ea5d-4cda-4ca5-a750-26dc9bf91bd7",
   "metadata": {},
   "outputs": [
    {
     "name": "stdout",
     "output_type": "stream",
     "text": [
      "92 / 4 = 23 ... 0\n",
      "92能被4整除\n"
     ]
    }
   ],
   "source": [
    "beichushu, chushu = 92, 4\n",
    "shang, yushu = 0, beichushu - 0 * chushu\n",
    "while yushu >= chushu:\n",
    "    shang += 1\n",
    "    yushu = beichushu - shang * chushu\n",
    "    \n",
    "print(\"{} / {} = {} ... {}\".format(beichushu, chushu, shang, yushu))\n",
    "if yushu == 0:\n",
    "    print(\"{}能被{}整除\".format(beichushu, chushu))\n",
    "else:\n",
    "    print(\"{}不能被{}整除\".format(beichushu, chushu))"
   ]
  },
  {
   "cell_type": "code",
   "execution_count": 12,
   "id": "d87ae8d0-3e30-44e6-a738-575cc9addc03",
   "metadata": {},
   "outputs": [
    {
     "name": "stdout",
     "output_type": "stream",
     "text": [
      "92 / 4 = 23 ... 0\n",
      "92能被4整除\n"
     ]
    }
   ],
   "source": [
    "beichushu, chushu = 92, 4\n",
    "shang = beichushu // chushu    # 取整（商）表达式\n",
    "yushu = beichushu % chushu     # 取余表达式 \n",
    "\n",
    "print(\"{} / {} = {} ... {}\".format(beichushu, chushu, shang, yushu))\n",
    "if yushu == 0:\n",
    "    print(\"{}能被{}整除\".format(beichushu, chushu))\n",
    "else:\n",
    "    print(\"{}不能被{}整除\".format(beichushu, chushu))"
   ]
  },
  {
   "cell_type": "markdown",
   "id": "f1f50205-0de5-43da-8418-270b2363490b",
   "metadata": {
    "hidden": true
   },
   "source": [
    "2. 补全下面单元格中的代码，统计在从1到100这100个整数中，分别能被6、10整除的数有多少个，能同时被这两个数整除的数又有多少个？"
   ]
  },
  {
   "cell_type": "code",
   "execution_count": 13,
   "id": "constitutional-fairy",
   "metadata": {
    "hidden": true
   },
   "outputs": [
    {
     "name": "stdout",
     "output_type": "stream",
     "text": [
      "16个数能被6整除\n",
      "10个数能被10整除\n",
      "3个数能同时被6和10整除\n"
     ]
    }
   ],
   "source": [
    "divisor1, divisor2 = 6, 10                    # 声明两个除数 \n",
    "min_dividend, max_dividend = 1, 100           # 声明最小和最大被除数\n",
    "cur_dividend = min_dividend                   # 生命当前正在分析的被除数\n",
    "#TODO： add code here to declare variables that store the result\n",
    "#       添加代码声明一些变量存储结果\n",
    "n_div1, n_div2, n_div1_div2 = 0, 0, 0\n",
    "while cur_dividend <= max_dividend:           # while 循环起始及条件\n",
    "    remainder1 = cur_dividend % divisor1      # 计算第一个余数\n",
    "    if remainder1 == 0:                       # 判断第一个余数是否为0，为0表示整除\n",
    "        #TODO： add code here 在这里添加代码更新能被第一个除数整除的数的个数\n",
    "        n_div1 += 1\n",
    "        pass                                  # 不要删除这一行，下同\n",
    "    \n",
    "    remainder2 = cur_dividend % divisor2      # 计算第二个余数\n",
    "    if remainder2 == 0:                       # 判断第二个余数是否为0，为0表示整除\n",
    "        #TODO： add code here 在这里添加代码更新能被第二个除数整除的数的个数\n",
    "        n_div2 += 1\n",
    "        pass\n",
    "    \n",
    "    if remainder1 == 0 and remainder2 == 0:   # 判断两个余数是否同时为0，同时为0表示\n",
    "                                              # 当前被除数可以同时被两个除数整除\n",
    "        #TODO： add code here 在这里添加代码更新能同时被两个除数整除的数的个数\n",
    "        n_div1_div2 += 1\n",
    "        pass\n",
    "    \n",
    "    cur_dividend += 1                         # 准备下一个被除数   \n",
    "\n",
    "#TODO： add code here to print out final result\n",
    "#      在这里添加代码输出最后结果\n",
    "print(\"{}个数能被{}整除\".format(n_div1, divisor1))\n",
    "print(\"{}个数能被{}整除\".format(n_div2, divisor2))\n",
    "print(\"{}个数能同时被{}和{}整除\".format(n_div1_div2, divisor1, divisor2))"
   ]
  },
  {
   "cell_type": "markdown",
   "id": "5fdb0f45-6636-46b3-8fb9-06e98901a9f0",
   "metadata": {},
   "source": [
    "3. 本节例题中在判断1到100这100个整数能否被6和10整除时，被除数是从1逐渐增大到100进入循环内部的。现在请您对例题中的代码（已经复制到下方代码单元格）作适当的修改，使得循环检查的被除数从100开始逐渐递减到1。运行你修改的代码，观察输出的结果与例题中的输出有什么差别。"
   ]
  },
  {
   "cell_type": "code",
   "execution_count": 14,
   "id": "a9cff680-ea47-46f8-b6b6-80ab4730f5dd",
   "metadata": {},
   "outputs": [
    {
     "name": "stdout",
     "output_type": "stream",
     "text": [
      "100能被10整除。\n",
      "96能被6整除。\n",
      "90能被6整除。\n",
      "90能被10整除。\n",
      "90能同时被6和10整除。\n",
      "84能被6整除。\n",
      "80能被10整除。\n",
      "78能被6整除。\n",
      "72能被6整除。\n",
      "70能被10整除。\n",
      "66能被6整除。\n",
      "60能被6整除。\n",
      "60能被10整除。\n",
      "60能同时被6和10整除。\n",
      "54能被6整除。\n",
      "50能被10整除。\n",
      "48能被6整除。\n",
      "42能被6整除。\n",
      "40能被10整除。\n",
      "36能被6整除。\n",
      "30能被6整除。\n",
      "30能被10整除。\n",
      "30能同时被6和10整除。\n",
      "24能被6整除。\n",
      "20能被10整除。\n",
      "18能被6整除。\n",
      "12能被6整除。\n",
      "10能被10整除。\n",
      "6能被6整除。\n"
     ]
    }
   ],
   "source": [
    "divisor1, divisor2 = 6, 10                    # 声明两个除数 \n",
    "min_dividend, max_dividend = 1, 100           # 声明最小和最大被除数\n",
    "cur_dividend = max_dividend                   # 声明当前正在分析的被除数\n",
    "\n",
    "while cur_dividend >= min_dividend:           # while 循环起始及条件\n",
    "    \n",
    "    remainder1 = cur_dividend % divisor1      # 计算第一个余数\n",
    "    if remainder1 == 0:                       # 判断第一个余数是否为0，为0表示整除\n",
    "        print(\"{}能被{}整除。\".format(cur_dividend, divisor1))\n",
    "    \n",
    "    remainder2 = cur_dividend % divisor2      # 计算第二个余数\n",
    "    if remainder2 == 0:                       # 判断第二个余数是否为0，为0表示整除\n",
    "        print(\"{}能被{}整除。\".format(cur_dividend, divisor2))\n",
    "        \n",
    "    if remainder1 == 0 and remainder2 == 0:   # 判断两个余数是否同时为0，同时为0表示\n",
    "                                              # 当前被除数可以同时被两个除数整除\n",
    "        print(\"{}能同时被{}和{}整除。\".format(cur_dividend, divisor1, divisor2))\n",
    "        \n",
    "    cur_dividend -= 1                         # 准备下一个被除数"
   ]
  },
  {
   "cell_type": "markdown",
   "id": "777f7a09-a623-47ee-82d1-e41fe184ff62",
   "metadata": {
    "hidden": true
   },
   "source": [
    "4. 自己动手编写程序统计在1到100这100个整数中，能同时被3和9整除的数分别是哪些。在程序中添加一些代码来验证，所有能被9整除的数也一定能被3整除。 \n",
    "   提示：当程序判断一个被除数能被9整除后，验证该数除以3的余数为0，记录验证通过的被除数的数量与能被9整除的数的个数比较结果相等。"
   ]
  },
  {
   "cell_type": "code",
   "execution_count": 20,
   "id": "dependent-brook",
   "metadata": {
    "hidden": true
   },
   "outputs": [
    {
     "name": "stdout",
     "output_type": "stream",
     "text": [
      "3能被3整除\n",
      "6能被3整除\n",
      "9能被3整除\n",
      "9能被9整除,也能被3整除\n",
      "12能被3整除\n",
      "15能被3整除\n",
      "18能被3整除\n",
      "18能被9整除,也能被3整除\n",
      "21能被3整除\n",
      "24能被3整除\n",
      "27能被3整除\n",
      "27能被9整除,也能被3整除\n",
      "30能被3整除\n",
      "33能被3整除\n",
      "36能被3整除\n",
      "36能被9整除,也能被3整除\n",
      "39能被3整除\n",
      "42能被3整除\n",
      "45能被3整除\n",
      "45能被9整除,也能被3整除\n",
      "48能被3整除\n",
      "51能被3整除\n",
      "54能被3整除\n",
      "54能被9整除,也能被3整除\n",
      "57能被3整除\n",
      "60能被3整除\n",
      "63能被3整除\n",
      "63能被9整除,也能被3整除\n",
      "66能被3整除\n",
      "69能被3整除\n",
      "72能被3整除\n",
      "72能被9整除,也能被3整除\n",
      "75能被3整除\n",
      "78能被3整除\n",
      "81能被3整除\n",
      "81能被9整除,也能被3整除\n",
      "84能被3整除\n",
      "87能被3整除\n",
      "90能被3整除\n",
      "90能被9整除,也能被3整除\n",
      "93能被3整除\n",
      "96能被3整除\n",
      "99能被3整除\n",
      "99能被9整除,也能被3整除\n",
      "能被9整除的数的个数和能同时被3和9整除的数的个数相等,都是11个\n"
     ]
    }
   ],
   "source": [
    "min_num, max_num = 1, 100\n",
    "cur_num = min_num\n",
    "n_nine, n_nine_three = 0, 0\n",
    "while cur_num <= max_num:\n",
    "    if cur_num % 3 == 0:\n",
    "        print(\"{}能被3整除\".format(cur_num))\n",
    "    \n",
    "    if cur_num % 9 == 0:\n",
    "        print(\"{}能被9整除\".format(cur_num), end=\",\")\n",
    "        n_nine += 1\n",
    "        if cur_num % 3 == 0:\n",
    "            print(\"也能被3整除\".format(cur_num))\n",
    "            n_nine_three += 1\n",
    "        else:\n",
    "            print()\n",
    "            print(\"找到了一个能被9整除但不能被3整除的数:{}\".format(cur_num))\n",
    "            \n",
    "    cur_num += 1\n",
    "    \n",
    "if n_nine == n_nine_three:\n",
    "    print(\"能被9整除的数的个数和能同时被3和9整除的数的个数相等\", end=\",\")\n",
    "    print(\"都是{}个\".format(n_nine))\n",
    "else:\n",
    "    print(\"能被9整除的数的个数和能同时被3和9整除的数的个数不等\", end=\",\")\n",
    "    print(\"分别为:{},{}\".format(n_nine, n_nine_three))"
   ]
  },
  {
   "cell_type": "markdown",
   "id": "5b11cf7b-e448-45e2-a1e6-8491391a538e",
   "metadata": {
    "hidden": true
   },
   "source": [
    "5. 幼儿园的校长把所有的小朋友们集合起来分组由老师带队出去游玩。在分组的时候，老师和小朋友们惊奇地发现，如果把全体小朋友们平均（每组人数相同称为“平均”）分成2组，会剩余一个小朋友无法分到任何一个组中；如果把全体小朋友平均分成3组，也会剩余一个小朋友；如果平均分成5组，还是会剩余一个小朋友。已知这个幼儿园小朋友的总人数在90和100之间，你能准确的算出这个幼儿园一共有多少小朋友吗？请先尝试笔算，再编写程序验证你的计算结果。"
   ]
  },
  {
   "cell_type": "code",
   "execution_count": 21,
   "id": "steady-wagner",
   "metadata": {
    "hidden": true
   },
   "outputs": [
    {
     "name": "stdout",
     "output_type": "stream",
     "text": [
      "幼儿园小朋友总数为91符合题目要求\n"
     ]
    }
   ],
   "source": [
    "# 第一种写法\n",
    "n_children_min, n_children_max = 90, 100\n",
    "n_children = n_children_min\n",
    "while n_children <= n_children_max:\n",
    "    if n_children % 2 == 1 and n_children % 3 == 1 and n_children % 5 == 1:\n",
    "        print(\"幼儿园小朋友总数为{}符合题目要求\".format(n_children))\n",
    "        \n",
    "    n_children += 1\n"
   ]
  },
  {
   "cell_type": "code",
   "execution_count": 22,
   "id": "dd12ac91-89be-4d0a-a187-018ea680158c",
   "metadata": {},
   "outputs": [
    {
     "name": "stdout",
     "output_type": "stream",
     "text": [
      "幼儿园小朋友总数为91符合题目要求\n"
     ]
    }
   ],
   "source": [
    "# 第二种写法\n",
    "n_children_min, n_children_max = 90, 100\n",
    "n_children = n_children_min\n",
    "while n_children <= n_children_max:\n",
    "    if n_children % 2 == 1:\n",
    "        if n_children %3 == 1:\n",
    "            if n_children % 5 == 1:\n",
    "                print(\"幼儿园小朋友总数为{}符合题目要求\".format(n_children))\n",
    "        \n",
    "    n_children += 1"
   ]
  },
  {
   "cell_type": "code",
   "execution_count": null,
   "id": "982d2579-010b-402e-b95e-90239529328a",
   "metadata": {},
   "outputs": [],
   "source": []
  }
 ],
 "metadata": {
  "kernelspec": {
   "display_name": "Python 3",
   "language": "python",
   "name": "python3"
  },
  "language_info": {
   "codemirror_mode": {
    "name": "ipython",
    "version": 3
   },
   "file_extension": ".py",
   "mimetype": "text/x-python",
   "name": "python",
   "nbconvert_exporter": "python",
   "pygments_lexer": "ipython3",
   "version": "3.8.5"
  }
 },
 "nbformat": 4,
 "nbformat_minor": 5
}
