{
 "cells": [
  {
   "cell_type": "markdown",
   "id": "relative-location",
   "metadata": {},
   "source": [
    "## 第21讲 正方形与平方"
   ]
  },
  {
   "cell_type": "markdown",
   "id": "d12f05dd",
   "metadata": {},
   "source": [
    "### Problem 问题描述"
   ]
  },
  {
   "cell_type": "markdown",
   "id": "87c843e7-cbef-4128-9360-c3ebd33dcc1b",
   "metadata": {},
   "source": [
    "使用`qianglib`库提供的方法，绘制方格坐标纸，其中坐标系的原点`(0,0)`位于绘图区的最左下方，使用的`scale`值为`20`. Use the methods provided in the library `qianglib`, draw a grid coordinate system where the origin `(0, 0)` is at the bottom left of the coordinate system."
   ]
  },
  {
   "cell_type": "markdown",
   "id": "075dc2c3-429c-4e18-af1c-d6dadc442312",
   "metadata": {},
   "source": [
    "1. 以点A(10, 12), B(20, 12)两点为端点，绘制一条线段AB，编程计算这条边的边长。Given the coordiante values of point A(10, 12) and B(20, 12), Draw a line segment with A and B as endpoints. Calculate the length of AB by programming."
   ]
  },
  {
   "cell_type": "markdown",
   "id": "85c32d31-f2ea-4ac1-bb4f-783f228d8829",
   "metadata": {},
   "source": [
    "2. 绘制一个正方形，使得先前绘制的线段AB为正方形的一条边。Draw a square and make line segment AB be one side of the square.\n"
   ]
  },
  {
   "cell_type": "markdown",
   "id": "dfe5e1fa-2c40-44d8-8096-cf6bbf0b0d83",
   "metadata": {},
   "source": [
    "3. 数一数这个正方形内一共有多少个边长为1的单位正方形，这个数量同时也是这个正方形的面积。 Count how many unit square(side length with 1) does the Square have. The result will be the area of the square as well.\n"
   ]
  },
  {
   "cell_type": "markdown",
   "id": "6da7bf19-5016-46db-9d97-84b05ebf7eec",
   "metadata": {},
   "source": [
    "4. 保持点A的横纵坐标值不变，保持点B的纵坐标不便，将点B的横坐标分别改为11至20之间的任何一个数，重新绘制线段AB，计算它的长度，并以它为一条边绘制正方形，对于每画出一次的正方形，计算或数出来这个正方形里有多少边长为1的单位正方形。将结果填入下面的表格。Keep the both coordinate values of A and vertical vlue of B as they are, change only the horizontal value of B to every integer from 11 to 20. redraw the line segment AB and corresponding square. For each square you draw, calculate its side length and how many unit square it contains. Write the result into the following table.\n",
    "\n",
    "| A       |  B      | Side Length | #Unit Square(Area) |\n",
    "|:---------:|:---------:|-----|--------------------|\n",
    "|(10, 12) |(11, 12) |     |                        |\n",
    "|(10, 12) |(12, 12) |     |                        |\n",
    "|(10, 12) |(13, 12) |     |                        |\n",
    "|(10, 12) |(14, 12) |     |                        |\n",
    "|(10, 12) |(15, 12) |     |                        |\n",
    "|(10, 12) |(16, 12) |     |                        |\n",
    "|(10, 12) |(17, 12) |     |                        |\n",
    "|(10, 12) |(18, 12) |     |                        |\n",
    "|(10, 12) |(19, 12) |     |                        |\n",
    "|(10, 12) |(20, 12) |     |                        |\n"
   ]
  },
  {
   "cell_type": "markdown",
   "id": "52a0ec99-ed1b-4791-b59b-f2ddfdae8db1",
   "metadata": {},
   "source": [
    "5. 编写一个方法，该方法接受一个整数参数，计算这个整数参数乘以自己的积，并把这个结果作为方法的返回值。然后调用该方法，将1-10之间的每一个整数作为参数传给该方法，打印每一次方法得到的返回值。Write a method which receives an integer `a` as a parameter and return the value of `a*a`。 For each integer from 1 to 10, call this method with the integer as parameter, print out the return value of the method. "
   ]
  },
  {
   "cell_type": "markdown",
   "id": "edfa00a3-562f-4797-a23b-3dd20b3b2f8a",
   "metadata": {},
   "source": [
    "6. 用目前已经学过的编程知识，尝试编写一个方法来计算一个给定面积的正方形它的（近似）边长。调用你写的方法来计算当一个正方形面积分别位1，4，9，15，25，30时，它的边长大概是多少。Use the coding skills learned so far, try to write a method to get the side length of a square with given area. call the method you implemented to get the side length of the square whose areas are the following: 1, 4, 9, 15, 25, 30.\n",
    "\n",
    "   "
   ]
  },
  {
   "cell_type": "markdown",
   "id": "1270f26d-e2ca-45e0-a679-ec82361795da",
   "metadata": {},
   "source": [
    "### Math Background 数学背景\n",
    "\n",
    "1. 正方形的面积等于边长与自己的乘积\n",
    "2. 两个相同的数相乘又称为这个数的平方或2次方。\n",
    "3. 一个数$a$的平方可以写成$a\\times a$或者$a^2$"
   ]
  },
  {
   "cell_type": "markdown",
   "id": "sorted-furniture",
   "metadata": {
    "heading_collapsed": true
   },
   "source": [
    "### Prerequisites 预备知识"
   ]
  },
  {
   "cell_type": "markdown",
   "id": "ac3f3f62-7bb0-4f00-9a4e-4085b96c14dd",
   "metadata": {},
   "source": [
    "无"
   ]
  },
  {
   "cell_type": "markdown",
   "id": "d55f37d9",
   "metadata": {},
   "source": [
    "### Solution 编程求解"
   ]
  },
  {
   "cell_type": "code",
   "execution_count": 1,
   "id": "b1ae7be3-fdde-46b5-820e-c35a55d2fbe0",
   "metadata": {
    "execution": {
     "iopub.execute_input": "2022-01-23T02:56:32.152304Z",
     "iopub.status.busy": "2022-01-23T02:56:32.151205Z",
     "iopub.status.idle": "2022-01-23T02:56:32.187876Z",
     "shell.execute_reply": "2022-01-23T02:56:32.187267Z"
    }
   },
   "outputs": [],
   "source": [
    "from turtle import setup, reset, pu, pd, bye, left, right, fd, bk, screensize\n",
    "from turtle import goto, seth, write, ht, st, home, dot, pen, speed\n",
    "from qianglib import prepare_paper, draw_grid, mark, lines, line, polygon, text"
   ]
  },
  {
   "cell_type": "code",
   "execution_count": 2,
   "id": "bed66e63-7d02-4c22-bf10-8863883aab94",
   "metadata": {
    "execution": {
     "iopub.execute_input": "2022-01-23T02:56:32.636426Z",
     "iopub.status.busy": "2022-01-23T02:56:32.635980Z",
     "iopub.status.idle": "2022-01-23T02:56:46.784051Z",
     "shell.execute_reply": "2022-01-23T02:56:46.784534Z"
    }
   },
   "outputs": [],
   "source": [
    "width, height = 800, 600\n",
    "setup(width, height, 0, 0)\n",
    "prepare_paper(width, height, scale=20, min_x=0, min_y=0, max_y=25)"
   ]
  },
  {
   "cell_type": "markdown",
   "id": "fe71a786-9c32-4ccb-8ac0-747e43eb8623",
   "metadata": {},
   "source": [
    "1. "
   ]
  },
  {
   "cell_type": "code",
   "execution_count": 3,
   "id": "0cf88bf6-e6ba-4f56-a1fb-09b5e09d594b",
   "metadata": {
    "execution": {
     "iopub.execute_input": "2022-01-23T02:56:46.788399Z",
     "iopub.status.busy": "2022-01-23T02:56:46.787848Z",
     "iopub.status.idle": "2022-01-23T02:56:48.141782Z",
     "shell.execute_reply": "2022-01-23T02:56:48.142228Z"
    }
   },
   "outputs": [],
   "source": [
    "A, B = (10, 12), (20, 12)\n",
    "line(A, B)"
   ]
  },
  {
   "cell_type": "code",
   "execution_count": 4,
   "id": "a4a0d700-2265-4af1-b6c9-408be9bb5635",
   "metadata": {
    "execution": {
     "iopub.execute_input": "2022-01-23T02:56:48.147506Z",
     "iopub.status.busy": "2022-01-23T02:56:48.146930Z",
     "iopub.status.idle": "2022-01-23T02:56:49.628279Z",
     "shell.execute_reply": "2022-01-23T02:56:49.627572Z"
    }
   },
   "outputs": [],
   "source": [
    "mark(A, \"A\"+str(A))\n",
    "mark(B, \"B\"+str(B))"
   ]
  },
  {
   "cell_type": "code",
   "execution_count": 5,
   "id": "b052fe87-5adc-4316-ba94-194acab8c074",
   "metadata": {
    "execution": {
     "iopub.execute_input": "2022-01-23T02:56:49.631548Z",
     "iopub.status.busy": "2022-01-23T02:56:49.631130Z",
     "iopub.status.idle": "2022-01-23T02:56:49.633748Z",
     "shell.execute_reply": "2022-01-23T02:56:49.633360Z"
    }
   },
   "outputs": [
    {
     "name": "stdout",
     "output_type": "stream",
     "text": [
      "10\n"
     ]
    }
   ],
   "source": [
    "side_length = B[0] - A[0]\n",
    "print(side_length)"
   ]
  },
  {
   "cell_type": "markdown",
   "id": "97170fed-9174-4af2-8dad-6140db8ab723",
   "metadata": {},
   "source": [
    "2."
   ]
  },
  {
   "cell_type": "code",
   "execution_count": 6,
   "id": "a5bc912d-ff31-4d1d-8769-44fa70ccb19b",
   "metadata": {
    "execution": {
     "iopub.execute_input": "2022-01-23T02:56:49.637553Z",
     "iopub.status.busy": "2022-01-23T02:56:49.637073Z",
     "iopub.status.idle": "2022-01-23T02:56:50.347011Z",
     "shell.execute_reply": "2022-01-23T02:56:50.346452Z"
    }
   },
   "outputs": [],
   "source": [
    "C = (B[0], B[1]-side_length)\n",
    "mark(C, \"C\"+str(C))"
   ]
  },
  {
   "cell_type": "code",
   "execution_count": 7,
   "id": "56d93e4d-97a4-467c-aa43-e0c2fed11816",
   "metadata": {
    "execution": {
     "iopub.execute_input": "2022-01-23T02:56:50.351554Z",
     "iopub.status.busy": "2022-01-23T02:56:50.351040Z",
     "iopub.status.idle": "2022-01-23T02:56:51.142005Z",
     "shell.execute_reply": "2022-01-23T02:56:51.143208Z"
    }
   },
   "outputs": [],
   "source": [
    "D = (A[0], A[1]-side_length)\n",
    "mark(D, \"D\"+str(D))"
   ]
  },
  {
   "cell_type": "code",
   "execution_count": 8,
   "id": "4118544a-76bf-43c0-bc74-99f231247d07",
   "metadata": {
    "execution": {
     "iopub.execute_input": "2022-01-23T02:56:51.147502Z",
     "iopub.status.busy": "2022-01-23T02:56:51.146662Z",
     "iopub.status.idle": "2022-01-23T02:56:53.574003Z",
     "shell.execute_reply": "2022-01-23T02:56:53.573455Z"
    }
   },
   "outputs": [],
   "source": [
    "square_down = [A, B, C, D]  \n",
    "            # [A, D, C, B]\n",
    "            # [B, C, D ，A]\n",
    "polygon(square_down, color=\"red\", line_width=3)       "
   ]
  },
  {
   "cell_type": "code",
   "execution_count": 9,
   "id": "3ecb3a7d-701f-4001-b6b2-bd7efb406f0b",
   "metadata": {
    "execution": {
     "iopub.execute_input": "2022-01-23T02:56:53.577624Z",
     "iopub.status.busy": "2022-01-23T02:56:53.577115Z",
     "iopub.status.idle": "2022-01-23T02:56:54.544477Z",
     "shell.execute_reply": "2022-01-23T02:56:54.543931Z"
    }
   },
   "outputs": [],
   "source": [
    "E = (B[0], B[1]+side_length)\n",
    "mark(E, \"E\"+str(E))"
   ]
  },
  {
   "cell_type": "code",
   "execution_count": 10,
   "id": "ffff4797-9472-42cc-8b13-176f3717a671",
   "metadata": {
    "execution": {
     "iopub.execute_input": "2022-01-23T02:56:54.548692Z",
     "iopub.status.busy": "2022-01-23T02:56:54.548067Z",
     "iopub.status.idle": "2022-01-23T02:56:55.320211Z",
     "shell.execute_reply": "2022-01-23T02:56:55.319712Z"
    }
   },
   "outputs": [],
   "source": [
    "F = (A[0], A[1]+side_length)\n",
    "mark(F, \"F\"+str(F))"
   ]
  },
  {
   "cell_type": "code",
   "execution_count": 11,
   "id": "a29ad60d-b9b9-46af-9aae-1b81900dcddd",
   "metadata": {
    "execution": {
     "iopub.execute_input": "2022-01-23T02:56:55.324453Z",
     "iopub.status.busy": "2022-01-23T02:56:55.323967Z",
     "iopub.status.idle": "2022-01-23T02:56:57.910394Z",
     "shell.execute_reply": "2022-01-23T02:56:57.910940Z"
    }
   },
   "outputs": [],
   "source": [
    "square_up = [A, B, E, F]\n",
    "polygon(square_up, color=\"green\", line_width=3)"
   ]
  },
  {
   "cell_type": "markdown",
   "id": "b9f21440-8672-4b85-9df8-d9cfe623b0bc",
   "metadata": {},
   "source": [
    "3. "
   ]
  },
  {
   "cell_type": "code",
   "execution_count": 12,
   "id": "a1da77b9-5d4a-433b-b2ec-f3056edf9806",
   "metadata": {
    "execution": {
     "iopub.execute_input": "2022-01-23T02:56:57.915110Z",
     "iopub.status.busy": "2022-01-23T02:56:57.914646Z",
     "iopub.status.idle": "2022-01-23T02:56:57.917614Z",
     "shell.execute_reply": "2022-01-23T02:56:57.917209Z"
    }
   },
   "outputs": [
    {
     "name": "stdout",
     "output_type": "stream",
     "text": [
      "number of square unit: 100\n"
     ]
    }
   ],
   "source": [
    "num_square_unit = side_length * side_length\n",
    "print(\"number of square unit: {}\".format(num_square_unit))"
   ]
  },
  {
   "cell_type": "markdown",
   "id": "23b1bba4-d09e-48fa-86a0-5ffd6d411755",
   "metadata": {},
   "source": [
    "4.\n",
    "\n",
    "| A       |  B      | Side Length | #Unit Square(Area) |\n",
    "|:---------:|:---------:|----:|--------------------:|\n",
    "|(10, 12) |(11, 12) |  1   |      1                   |\n",
    "|(10, 12) |(12, 12) |  2   |      4                   |\n",
    "|(10, 12) |(13, 12) |  3   |      9                   |\n",
    "|(10, 12) |(14, 12) |  4   |       16                 |\n",
    "|(10, 12) |(15, 12) |  5   |      25                  |\n",
    "|(10, 12) |(16, 12) |  6   |      36                  |\n",
    "|(10, 12) |(17, 12) |  7   |      49                  |\n",
    "|(10, 12) |(18, 12) |  8   |      64                  |\n",
    "|(10, 12) |(19, 12) |  9   |      81                  |\n",
    "|(10, 12) |(20, 12) |  10   |     100                 |\n"
   ]
  },
  {
   "cell_type": "markdown",
   "id": "24596bc3-18a1-4c26-b202-71ad869fb19e",
   "metadata": {},
   "source": [
    "5."
   ]
  },
  {
   "cell_type": "code",
   "execution_count": 13,
   "id": "9cd3ee42-cff9-4748-8e97-b47f55ab9527",
   "metadata": {
    "execution": {
     "iopub.execute_input": "2022-01-23T02:56:57.921046Z",
     "iopub.status.busy": "2022-01-23T02:56:57.920536Z",
     "iopub.status.idle": "2022-01-23T02:56:57.923299Z",
     "shell.execute_reply": "2022-01-23T02:56:57.923899Z"
    }
   },
   "outputs": [],
   "source": [
    "def square_area(side_length):\n",
    "    return side_length**2"
   ]
  },
  {
   "cell_type": "code",
   "execution_count": 14,
   "id": "96932220-1f5c-4533-9130-ff4ebd109404",
   "metadata": {
    "execution": {
     "iopub.execute_input": "2022-01-23T02:56:57.929463Z",
     "iopub.status.busy": "2022-01-23T02:56:57.928908Z",
     "iopub.status.idle": "2022-01-23T02:56:57.931858Z",
     "shell.execute_reply": "2022-01-23T02:56:57.932230Z"
    }
   },
   "outputs": [
    {
     "name": "stdout",
     "output_type": "stream",
     "text": [
      "area for side length  1 is   1\n",
      "area for side length  2 is   4\n",
      "area for side length  3 is   9\n",
      "area for side length  4 is  16\n",
      "area for side length  5 is  25\n",
      "area for side length  6 is  36\n",
      "area for side length  7 is  49\n",
      "area for side length  8 is  64\n",
      "area for side length  9 is  81\n",
      "area for side length 10 is 100\n"
     ]
    }
   ],
   "source": [
    "for side_length in range(1, 11):\n",
    "    area = square_area(side_length)\n",
    "    print(\"area for side length {:2} is {:3}\".format(side_length, area))"
   ]
  },
  {
   "cell_type": "markdown",
   "id": "69475c3d-0d44-4b23-9fd6-f9b336bb6845",
   "metadata": {},
   "source": [
    "6."
   ]
  },
  {
   "cell_type": "code",
   "execution_count": 15,
   "id": "6ede6ace-b1dd-462b-b530-aefd3aa8a728",
   "metadata": {
    "execution": {
     "iopub.execute_input": "2022-01-23T02:56:57.935911Z",
     "iopub.status.busy": "2022-01-23T02:56:57.935381Z",
     "iopub.status.idle": "2022-01-23T02:56:57.937374Z",
     "shell.execute_reply": "2022-01-23T02:56:57.937761Z"
    }
   },
   "outputs": [],
   "source": [
    "def side_length_of_square(area):\n",
    "    side_length = 0\n",
    "    dx = 0.001\n",
    "    while square_area(side_length) < area:\n",
    "        side_length += dx\n",
    "    \n",
    "    return side_length"
   ]
  },
  {
   "cell_type": "code",
   "execution_count": 16,
   "id": "39ed86e2-a5cd-448a-b53c-56dc79383624",
   "metadata": {
    "execution": {
     "iopub.execute_input": "2022-01-23T02:56:57.945227Z",
     "iopub.status.busy": "2022-01-23T02:56:57.944692Z",
     "iopub.status.idle": "2022-01-23T02:56:57.947278Z",
     "shell.execute_reply": "2022-01-23T02:56:57.947655Z"
    }
   },
   "outputs": [
    {
     "name": "stdout",
     "output_type": "stream",
     "text": [
      "side length for square area  1 is close to 1.0 \n",
      "side length for square area  4 is close to 2.0 \n",
      "side length for square area  9 is close to 3.0 \n",
      "side length for square area 15 is close to 3.87\n",
      "side length for square area 25 is close to 5.0 \n",
      "side length for square area 30 is close to 5.48\n"
     ]
    }
   ],
   "source": [
    "for area in [1, 4, 9, 15, 25, 30]:\n",
    "    side_length = side_length_of_square(area)\n",
    "    print(\"side length for square area {:2} is close to {:<4.3}\".format(\n",
    "        area, side_length))    "
   ]
  },
  {
   "cell_type": "markdown",
   "id": "latest-contamination",
   "metadata": {},
   "source": [
    "### Summary 知识点小结"
   ]
  },
  {
   "cell_type": "markdown",
   "id": "afb3f674",
   "metadata": {},
   "source": [
    "1. 乘方运算符`**`\n",
    "2. 复习tuple\n",
    "3. 复习qianglib的一些方法\n",
    "4. 复习方法的返回值\n"
   ]
  },
  {
   "cell_type": "markdown",
   "id": "bizarre-assurance",
   "metadata": {},
   "source": [
    "### 计算机小知识"
   ]
  },
  {
   "cell_type": "markdown",
   "id": "92100f08",
   "metadata": {},
   "source": [
    "暂缺"
   ]
  },
  {
   "cell_type": "markdown",
   "id": "digital-consensus",
   "metadata": {
    "heading_collapsed": true,
    "tags": []
   },
   "source": [
    "### Assignments 作业"
   ]
  },
  {
   "cell_type": "markdown",
   "id": "26f10946-1b61-417f-a697-b8a72b4e749d",
   "metadata": {},
   "source": [
    "1. 在本讲中，我们用一个包含4个元素的`list`变量来描述一个四边平行于坐标轴的正方形，其中这个`list`变量里的每一个元素都是长度为类似`(x, y)`形式的`tuple`类型的数据，它表示正方形四个顶点中的一个顶点的坐标。事实上，这样的边平行于坐标轴的正方形还可以用这个正方形中心点的坐标外加一个表示长度的变量来描述。\n",
    "\n",
    "   例如：`[(10, 12), (20, 12), (20, 2), (10, 2)]`表示的正方形可以用`(15, 7)`和`10`来表示。其中`(15, 7)`是这个正方形中心点的坐标，`10`则代表正方形的边长。\n",
    "   \n",
    "   1). 请你声明并实现一个方法，该方法通过调用`qianglib`库的一些绘图方法绘制出一个边平行于坐标轴的正方形。同时，这个方法接受两个参数，第一个参数为要绘制的正方形的中心点的坐标，数据为`tuple`类型，第二个参数为正方形的边长，数据为整数`integer`或小数类型。该方法仅完成绘制，没有返回值。\n",
    "   \n",
    "   2). 请调用你创建的绘制正方形的方法，绘制出中心点在`(15, 15)`边长分别为`2，4，6，10，12`这5个边平行于坐标轴的正方形。\n",
    "   \n",
    "   3). 比较并用文字说出两种描述正方形的方式各自的优点和缺点。  \n",
    "   \n",
    "   In this lecture, we use a `list` variable containing 4 elements to describe a square with four sides parallel to coordinate axises, where each element in the `list` variable has a `tuple` data structure of `(x, y)`, representing the coordinates of one of the four vertices of the square. In fact, such a square can also be described by the coordinates of the center point of the square plus a variable representing the length.\n",
    "\n",
    "   For example: consider a square defined by a list like: `[(10, 12), (20, 12), (20, 2), (10, 2)]`， it can also be represented by `(15, 7)` and `10`, where `(15, 7)` is the coordinates of the center point of the square, and `10` is the side length of the square.\n",
    "   \n",
    "   1). Please declare and implement a method that draws a square with sides parallel to the coordinate axis by calling some drawing methods in the `qianglib` library. More specifically, this method should accept two parameters with the first parameter indicating the coordinates of the center point (`tuple` of `(x, y)`) of the square to be drawn and the second parameter being equal to the side length (`integer` or a `decimal`) of the square. This method only completes the drawing and has no return value.\n",
    "   \n",
    "   2). Please call the method you created, draw 5 squares (side parallel to axis) whose center point are the same as `(15, 15)` and side lengths are `2, 4, 6, 10, 12`, respectively.\n",
    "   \n",
    "   3). Compare and use your own words to describe the advantages and disadvantages of the above two ways of describing squares.   "
   ]
  },
  {
   "cell_type": "markdown",
   "id": "04b5ee4c-8dd0-451e-b339-3384cb6dffe4",
   "metadata": {},
   "source": [
    "2. 整数3，4和5这三个数字之间有一种奇妙的关系：$$3^2 + 4^2 = 5^2$$ 这种关系可以描述为：**3个整数（可以不是相邻的）中，两个较小整数的平方的和恰好等于最大的那个整数的平方**。事实上满足这样关系的整数有无数组。例如5，12和13也是这样($5^2 + 12^2 = 13^2$)。请你编写一段程序找出最大的数不超过100时的所有满足这种关系的3个整数组合。\n",
    "\n",
    "   There is a wonderful relationship between the three numbers of integers 3, 4 and 5:$$3^2 + 4^2 = 5^2$$ This relationship can be described as: **Among 3 integers (which may not be adjacent), the sum of the squares of the two smaller integers is exactly equal to the square of the largest integer**. In fact, there are infinite number of such set. Here is another case: 5, 12, and 13, where $5^2 + 12^2 = 13^2$. Please write a program to find all combinations of 3 integers that satisfy this relationship when the largest number does not exceed 100."
   ]
  },
  {
   "cell_type": "markdown",
   "id": "d1d73312-43b9-4a00-a9e2-efde6584ad6b",
   "metadata": {},
   "source": [
    "3. (可选做) **从1开始的连续奇数的和总能表示成这些连续奇数的个数的平方**。数学表达形式为：$$1 + 3 + 5 + \\cdots + (2n-1) = n^2$$ 总是成立的，对于任何$n\\gt1$。\n",
    "    \n",
    "    例如，$$1+3=2^2$$ $$1+3+5=3^2$$ $$1+3+5+7=4^2$$ 等等。\n",
    "    \n",
    "    请你编写一个方法来验证这个规律，该方法只接受整数`n`作为参数，在这个方法内部分别计算上面等式左右两边表达式的值，并比较他们是否相等，如果相等方法返回值为`True`，否则为`False`。随后使用循环控制语句在循环代码内部调用你编写的方法对 $n\\le100$ 内的所有情况进行验证，打印输出验证结果。<p></p>\n",
    "    \n",
    "    \n",
    "    (optional) **The sum of consecutive odd integers starting from 1 can always be expressed as the square of the number of these consecutive odd integers**. The mathematical expression for this law is: $$1 + 3 + 5 + \\cdots + (2n-1) = n^2$$ always holds, for any $n\\gt 1$.\n",
    "    \n",
    "     For example, $$1+3=2^2$$ $$1+3+5=3^2$$ $$1+3+5+7=4^2$$ and so on.\n",
    "    \n",
    "     Please write a method to verify this law. The method only accepts an integer `n` as its parameter. Inside the method, the values of the left and right expressions of the above equation are calculated separately and compared whether they are equal. If they are equal, the method returns `True`; otherwise, returns `False`. Then call the method inside a loop control statement to verify all the scenarios where $n\\le100$. Print out the verification result. <p></p>"
   ]
  },
  {
   "cell_type": "code",
   "execution_count": 17,
   "id": "5dfc553c-35ec-4d46-9340-d8837ce37f1f",
   "metadata": {
    "execution": {
     "iopub.execute_input": "2022-01-23T02:56:57.951421Z",
     "iopub.status.busy": "2022-01-23T02:56:57.950966Z",
     "iopub.status.idle": "2022-01-23T02:56:57.953452Z",
     "shell.execute_reply": "2022-01-23T02:56:57.952945Z"
    }
   },
   "outputs": [],
   "source": [
    "def verify_law(n):\n",
    "    is_law_correct = None\n",
    "    return is_law_correct"
   ]
  },
  {
   "cell_type": "code",
   "execution_count": 18,
   "id": "3703937a-3d29-4068-a316-7555d729402a",
   "metadata": {
    "execution": {
     "iopub.execute_input": "2022-01-23T02:56:57.959207Z",
     "iopub.status.busy": "2022-01-23T02:56:57.957076Z",
     "iopub.status.idle": "2022-01-23T02:56:57.967430Z",
     "shell.execute_reply": "2022-01-23T02:56:57.967799Z"
    }
   },
   "outputs": [
    {
     "name": "stdout",
     "output_type": "stream",
     "text": [
      "for n =   1, the law doesn't hold\n",
      "for n =   2, the law doesn't hold\n",
      "for n =   3, the law doesn't hold\n",
      "for n =   4, the law doesn't hold\n",
      "for n =   5, the law doesn't hold\n",
      "for n =   6, the law doesn't hold\n",
      "for n =   7, the law doesn't hold\n",
      "for n =   8, the law doesn't hold\n",
      "for n =   9, the law doesn't hold\n",
      "for n =  10, the law doesn't hold\n",
      "for n =  11, the law doesn't hold\n",
      "for n =  12, the law doesn't hold\n",
      "for n =  13, the law doesn't hold\n",
      "for n =  14, the law doesn't hold\n",
      "for n =  15, the law doesn't hold\n",
      "for n =  16, the law doesn't hold\n",
      "for n =  17, the law doesn't hold\n",
      "for n =  18, the law doesn't hold\n",
      "for n =  19, the law doesn't hold\n",
      "for n =  20, the law doesn't hold\n",
      "for n =  21, the law doesn't hold\n",
      "for n =  22, the law doesn't hold\n",
      "for n =  23, the law doesn't hold\n",
      "for n =  24, the law doesn't hold\n",
      "for n =  25, the law doesn't hold\n",
      "for n =  26, the law doesn't hold\n",
      "for n =  27, the law doesn't hold\n",
      "for n =  28, the law doesn't hold\n",
      "for n =  29, the law doesn't hold\n",
      "for n =  30, the law doesn't hold\n",
      "for n =  31, the law doesn't hold\n",
      "for n =  32, the law doesn't hold\n",
      "for n =  33, the law doesn't hold\n",
      "for n =  34, the law doesn't hold\n",
      "for n =  35, the law doesn't hold\n",
      "for n =  36, the law doesn't hold\n",
      "for n =  37, the law doesn't hold\n",
      "for n =  38, the law doesn't hold\n",
      "for n =  39, the law doesn't hold\n",
      "for n =  40, the law doesn't hold\n",
      "for n =  41, the law doesn't hold\n",
      "for n =  42, the law doesn't hold\n",
      "for n =  43, the law doesn't hold\n",
      "for n =  44, the law doesn't hold\n",
      "for n =  45, the law doesn't hold\n",
      "for n =  46, the law doesn't hold\n",
      "for n =  47, the law doesn't hold\n",
      "for n =  48, the law doesn't hold\n",
      "for n =  49, the law doesn't hold\n",
      "for n =  50, the law doesn't hold\n",
      "for n =  51, the law doesn't hold\n",
      "for n =  52, the law doesn't hold\n",
      "for n =  53, the law doesn't hold\n",
      "for n =  54, the law doesn't hold\n",
      "for n =  55, the law doesn't hold\n",
      "for n =  56, the law doesn't hold\n",
      "for n =  57, the law doesn't hold\n",
      "for n =  58, the law doesn't hold\n",
      "for n =  59, the law doesn't hold\n",
      "for n =  60, the law doesn't hold\n",
      "for n =  61, the law doesn't hold\n",
      "for n =  62, the law doesn't hold\n",
      "for n =  63, the law doesn't hold\n",
      "for n =  64, the law doesn't hold\n",
      "for n =  65, the law doesn't hold\n",
      "for n =  66, the law doesn't hold\n",
      "for n =  67, the law doesn't hold\n",
      "for n =  68, the law doesn't hold\n",
      "for n =  69, the law doesn't hold\n",
      "for n =  70, the law doesn't hold\n",
      "for n =  71, the law doesn't hold\n",
      "for n =  72, the law doesn't hold\n",
      "for n =  73, the law doesn't hold\n",
      "for n =  74, the law doesn't hold\n",
      "for n =  75, the law doesn't hold\n",
      "for n =  76, the law doesn't hold\n",
      "for n =  77, the law doesn't hold\n",
      "for n =  78, the law doesn't hold\n",
      "for n =  79, the law doesn't hold\n",
      "for n =  80, the law doesn't hold\n",
      "for n =  81, the law doesn't hold\n",
      "for n =  82, the law doesn't hold\n",
      "for n =  83, the law doesn't hold\n",
      "for n =  84, the law doesn't hold\n",
      "for n =  85, the law doesn't hold\n",
      "for n =  86, the law doesn't hold\n",
      "for n =  87, the law doesn't hold\n",
      "for n =  88, the law doesn't hold\n",
      "for n =  89, the law doesn't hold\n",
      "for n =  90, the law doesn't hold\n",
      "for n =  91, the law doesn't hold\n",
      "for n =  92, the law doesn't hold\n",
      "for n =  93, the law doesn't hold\n",
      "for n =  94, the law doesn't hold\n",
      "for n =  95, the law doesn't hold\n",
      "for n =  96, the law doesn't hold\n",
      "for n =  97, the law doesn't hold\n",
      "for n =  98, the law doesn't hold\n",
      "for n =  99, the law doesn't hold\n",
      "for n = 100, the law doesn't hold\n"
     ]
    }
   ],
   "source": [
    "for i in range(1, 101):\n",
    "    #TODO call your method and print out the result.\n",
    "    result = verify_law(i)\n",
    "    if result is True:\n",
    "        print(\"for n = {:3}, the law holds\".format(i))\n",
    "    else:\n",
    "        print(\"for n = {:3}, the law doesn't hold\".format(i))\n",
    "    pass"
   ]
  },
  {
   "cell_type": "code",
   "execution_count": null,
   "id": "df4769a7-1dab-43d1-ba66-c13742f65f0d",
   "metadata": {},
   "outputs": [],
   "source": []
  }
 ],
 "metadata": {
  "kernelspec": {
   "display_name": "Python 3",
   "language": "python",
   "name": "python3"
  },
  "language_info": {
   "codemirror_mode": {
    "name": "ipython",
    "version": 3
   },
   "file_extension": ".py",
   "mimetype": "text/x-python",
   "name": "python",
   "nbconvert_exporter": "python",
   "pygments_lexer": "ipython3",
   "version": "3.8.10"
  }
 },
 "nbformat": 4,
 "nbformat_minor": 5
}
