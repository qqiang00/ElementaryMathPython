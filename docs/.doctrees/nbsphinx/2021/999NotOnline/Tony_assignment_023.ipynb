{
 "cells": [
  {
   "cell_type": "code",
   "execution_count": 1,
   "id": "analyzed-handy",
   "metadata": {},
   "outputs": [
    {
     "ename": "ModuleNotFoundError",
     "evalue": "No module named 'qianglib'",
     "output_type": "error",
     "traceback": [
      "\u001b[0;31m---------------------------------------------------------------------------\u001b[0m",
      "\u001b[0;31mModuleNotFoundError\u001b[0m                       Traceback (most recent call last)",
      "\u001b[0;32m<ipython-input-1-1a55a921d9a5>\u001b[0m in \u001b[0;36m<module>\u001b[0;34m\u001b[0m\n\u001b[1;32m      1\u001b[0m \u001b[0;32mfrom\u001b[0m \u001b[0mturtle\u001b[0m \u001b[0;32mimport\u001b[0m \u001b[0msetup\u001b[0m\u001b[0;34m,\u001b[0m \u001b[0mreset\u001b[0m\u001b[0;34m,\u001b[0m \u001b[0mpu\u001b[0m\u001b[0;34m,\u001b[0m \u001b[0mpd\u001b[0m\u001b[0;34m,\u001b[0m \u001b[0mbye\u001b[0m\u001b[0;34m,\u001b[0m \u001b[0mleft\u001b[0m\u001b[0;34m,\u001b[0m \u001b[0mright\u001b[0m\u001b[0;34m,\u001b[0m \u001b[0mfd\u001b[0m\u001b[0;34m,\u001b[0m \u001b[0mbk\u001b[0m\u001b[0;34m,\u001b[0m \u001b[0mscreensize\u001b[0m\u001b[0;34m\u001b[0m\u001b[0;34m\u001b[0m\u001b[0m\n\u001b[1;32m      2\u001b[0m \u001b[0;32mfrom\u001b[0m \u001b[0mturtle\u001b[0m \u001b[0;32mimport\u001b[0m \u001b[0mgoto\u001b[0m\u001b[0;34m,\u001b[0m \u001b[0mseth\u001b[0m\u001b[0;34m,\u001b[0m \u001b[0mwrite\u001b[0m\u001b[0;34m,\u001b[0m \u001b[0mht\u001b[0m\u001b[0;34m,\u001b[0m \u001b[0mst\u001b[0m\u001b[0;34m,\u001b[0m \u001b[0mhome\u001b[0m\u001b[0;34m,\u001b[0m \u001b[0mdot\u001b[0m\u001b[0;34m,\u001b[0m \u001b[0mpen\u001b[0m\u001b[0;34m,\u001b[0m \u001b[0mspeed\u001b[0m\u001b[0;34m\u001b[0m\u001b[0;34m\u001b[0m\u001b[0m\n\u001b[0;32m----> 3\u001b[0;31m \u001b[0;32mfrom\u001b[0m \u001b[0mqianglib\u001b[0m \u001b[0;32mimport\u001b[0m \u001b[0mprepare_paper\u001b[0m\u001b[0;34m,\u001b[0m \u001b[0mdraw_grid\u001b[0m\u001b[0;34m,\u001b[0m \u001b[0mmark\u001b[0m\u001b[0;34m,\u001b[0m \u001b[0mlines\u001b[0m\u001b[0;34m,\u001b[0m \u001b[0mline\u001b[0m\u001b[0;34m,\u001b[0m \u001b[0mpolygon\u001b[0m\u001b[0;34m,\u001b[0m \u001b[0mtext\u001b[0m\u001b[0;34m\u001b[0m\u001b[0;34m\u001b[0m\u001b[0m\n\u001b[0m\u001b[1;32m      4\u001b[0m \u001b[0;32mfrom\u001b[0m \u001b[0mtonylib\u001b[0m \u001b[0;32mimport\u001b[0m \u001b[0mis_parallel\u001b[0m\u001b[0;34m\u001b[0m\u001b[0;34m\u001b[0m\u001b[0m\n",
      "\u001b[0;31mModuleNotFoundError\u001b[0m: No module named 'qianglib'"
     ]
    }
   ],
   "source": [
    "from turtle import setup, reset, pu, pd, bye, left, right, fd, bk, screensize\n",
    "from turtle import goto, seth, write, ht, st, home, dot, pen, speed\n",
    "from qianglib import prepare_paper, draw_grid, mark, lines, line, polygon, text\n",
    "from tonylib import is_parallel"
   ]
  },
  {
   "cell_type": "code",
   "execution_count": 54,
   "id": "proved-bernard",
   "metadata": {},
   "outputs": [],
   "source": [
    "width, height = 800, 600\n",
    "setup(width, height, 0, 0)\n",
    "prepare_paper(width, height, scale=20, min_x=0, min_y=0, max_y=25)"
   ]
  },
  {
   "cell_type": "code",
   "execution_count": 75,
   "id": "intermediate-dairy",
   "metadata": {},
   "outputs": [],
   "source": [
    "#1\n",
    "def is_parallelogram(a, b, c, d):\n",
    "    x = 0\n",
    "    y = 1\n",
    "    if a[x] == b[x] and a[y] == b[y] and c[x] == d[x] or c[y] == d[y]:\n",
    "        if find_base == True:\n",
    "            print(\"it is a parallelogram\")\n",
    "        else:\n",
    "            print(\"it is not a parallelogram\")\n",
    "            \n",
    "    return "
   ]
  },
  {
   "cell_type": "code",
   "execution_count": 55,
   "id": "regional-michigan",
   "metadata": {},
   "outputs": [],
   "source": [
    "#2\n",
    "a = [(5, 9), (10, 9), (13, 14), (8, 14)] #yes\n",
    "b = [(15, 9), (20, 9), (23, 14), (20, 14)] #no\n",
    "c = [(27, 9), (32, 10), (32, 14), (27, 13)] #yes\n",
    "d = [(5, 1), (10, 2), (10, 7), (5, 5)] #no\n",
    "e = [(15, 4), (18, 1), (21, 4), (18, 7)] #no\n",
    "f = [(27, 1), (32, 1), (32, 7), (27, 7)] #yes\n",
    "polygon(a, color=\"red\")\n",
    "polygon(b, color=\"blue\")\n",
    "polygon(c, color=\"green\")\n",
    "polygon(d, color=\"yellow\")\n",
    "polygon(e, color=\"black\")\n",
    "polygon(f, color=\"teal\")"
   ]
  },
  {
   "cell_type": "code",
   "execution_count": 76,
   "id": "connected-programming",
   "metadata": {},
   "outputs": [],
   "source": [
    "#3\n",
    "def find_base(p1, p2):\n",
    "    if p1[0] == p2[0] or p1[y] == p2[y]:\n",
    "        if p1[0] >= p2[0] and p1[1] >= p2[0]:\n",
    "            a = p1[0] - p2[0]\n",
    "            b = p1[1] - p2[1]\n",
    "        else: \n",
    "            a = p2[0] - p1[0]\n",
    "            b = p2[1] - p1[1]\n",
    "    return"
   ]
  },
  {
   "cell_type": "code",
   "execution_count": 77,
   "id": "earned-gibson",
   "metadata": {},
   "outputs": [],
   "source": [
    "is_parallelogram((5, 1), (10, 2), (10, 7), (5, 5))"
   ]
  },
  {
   "cell_type": "code",
   "execution_count": 40,
   "id": "impaired-corps",
   "metadata": {},
   "outputs": [],
   "source": [
    "bye()"
   ]
  },
  {
   "cell_type": "code",
   "execution_count": null,
   "id": "hidden-backup",
   "metadata": {},
   "outputs": [],
   "source": []
  }
 ],
 "metadata": {
  "kernelspec": {
   "display_name": "Python 3",
   "language": "python",
   "name": "python3"
  },
  "language_info": {
   "codemirror_mode": {
    "name": "ipython",
    "version": 3
   },
   "file_extension": ".py",
   "mimetype": "text/x-python",
   "name": "python",
   "nbconvert_exporter": "python",
   "pygments_lexer": "ipython3",
   "version": "3.8.10"
  }
 },
 "nbformat": 4,
 "nbformat_minor": 5
}
