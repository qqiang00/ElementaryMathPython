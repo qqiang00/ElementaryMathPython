{
 "cells": [
  {
   "cell_type": "markdown",
   "id": "relative-location",
   "metadata": {},
   "source": [
    "## 第23讲 平行四边形和它的面积"
   ]
  },
  {
   "cell_type": "markdown",
   "id": "d12f05dd",
   "metadata": {},
   "source": [
    "### Problem 问题描述"
   ]
  },
  {
   "cell_type": "markdown",
   "id": "87c843e7-cbef-4128-9360-c3ebd33dcc1b",
   "metadata": {},
   "source": [
    "使用`qianglib`库提供的方法，绘制方格坐标纸，其中坐标系的原点`(0,0)`位于绘图区的最左下方，使用的`scale`值为`20`. Use the methods provided in the library `qianglib`, draw a grid coordinate system where the origin `(0, 0)` is at the bottom left of the coordinate system."
   ]
  },
  {
   "cell_type": "markdown",
   "id": "d1dd0125-5662-4c64-a90c-9b663cebf35a",
   "metadata": {},
   "source": [
    "1. 使用黑色、线宽为3，分别绘制出下列三个列表所表示的封闭图形：\n",
    "    - [(2, 15), (10, 15), (14, 19), (6, 19)]\n",
    "    - [(6, 4), (14, 4), (14, 8), (6, 8)]\n",
    "    - [(22, 15), (30, 15), (26, 19)]"
   ]
  },
  {
   "cell_type": "markdown",
   "id": "58eddaf8-4cf4-48fa-9f4b-268ed4f852d9",
   "metadata": {},
   "source": [
    "2. 手工数一数，绘制出的每一个图形内部包含多少个完整的边长为1的小正方形，这个数字同时就是对应的每一个图形的面积。如果图形的一条边从正方形内部穿过，说明这个小正方形并不完全被包含在图形内部，仔细并估计这个正方形是否有超过一半的面积被包括在图形内部，如果是则可以把这个小正方形记入统计，如果不是，则放弃记入这个小正方形。这样数出来的三个图形面积有什么大小关系。思考为什么三个图形的面积会有如此神奇的关系？"
   ]
  },
  {
   "cell_type": "markdown",
   "id": "0f24d83d-8e6c-4d2a-bcab-0c7b103a3a41",
   "metadata": {},
   "source": [
    "3. 根据平行四边形的定义，编写一个方法判断：一个拥有四个点坐标信息元素的列表变量是否代表着一个平行四边形。你可以自己设定方法名，在编写这个方法前认真思考这个方法的参数和返回值如何设计才比较好。"
   ]
  },
  {
   "cell_type": "markdown",
   "id": "6446307a-a454-458b-8c21-dc60173cca91",
   "metadata": {},
   "source": [
    "4. 下面的列表中，每一行都给出了四个点的坐标组成的列表，它可能代表着一个四边形。对于每一行的列表数据：用`polygon`方法绘制出它代表的图形。随后，调用你上一步实现的方法，观察你的方法能否正确判断绘制出的图形是否是一个平行四边形。\n",
    "   - [(),(),(),()]"
   ]
  },
  {
   "cell_type": "markdown",
   "id": "c7fbec31-a02d-41b0-b808-833d72c1ab5f",
   "metadata": {},
   "source": [
    "3. 尝试找出一条线段（找到表示这条线段的两个端点即可），它把上面绘出的平行四边形分割成两部分，分割得到的两部分可以拼接称为绘制出的矩形，这说明了什么？是不是每一个平行四边形都可以这样拼接称为一个面积和它相同的矩形？"
   ]
  },
  {
   "cell_type": "markdown",
   "id": "6f041a5f-71c1-477c-95be-7e3361e55a3c",
   "metadata": {},
   "source": [
    "**Answer Area**"
   ]
  },
  {
   "cell_type": "code",
   "execution_count": null,
   "id": "f98826bb-85f0-431c-b110-c72f99caf65a",
   "metadata": {},
   "outputs": [],
   "source": []
  },
  {
   "cell_type": "markdown",
   "id": "1270f26d-e2ca-45e0-a679-ec82361795da",
   "metadata": {},
   "source": [
    "### Math Background 数学背景\n",
    "1. 由四条边组成的封闭图形称为四边形；由两组平行线段组成的四边形称为平行四边形\n",
    "2. 如果一个四边形是平行四边形，它不一定是矩形，更不一定是正方形\n",
    "3. 如果一个图形是矩形，它一定也是平行四边形；如果一个图形是正方形，那它也是矩形，也是平行四边形\n",
    "2. 两个完全一样的三角形可以拼接成一个平行四边形\n",
    "3. 平行四边形可以通过裁减变成一个和它面积相同的矩形\n",
    "4. 平行四边形的面积公式: $S=b \\cdot h$\n",
    "5. 矩形的面积公式： $S=a \\cdot b$\n",
    "6. 三角形的面积公式：$S=\\frac{1}{2}\\cdot b\\cdot h$\n"
   ]
  },
  {
   "cell_type": "markdown",
   "id": "sorted-furniture",
   "metadata": {
    "heading_collapsed": true
   },
   "source": [
    "### Prerequisites 预备知识"
   ]
  },
  {
   "cell_type": "markdown",
   "id": "ac3f3f62-7bb0-4f00-9a4e-4085b96c14dd",
   "metadata": {},
   "source": [
    "无"
   ]
  },
  {
   "cell_type": "markdown",
   "id": "d55f37d9",
   "metadata": {},
   "source": [
    "### Solution 编程求解"
   ]
  },
  {
   "cell_type": "code",
   "execution_count": 1,
   "id": "b1ae7be3-fdde-46b5-820e-c35a55d2fbe0",
   "metadata": {},
   "outputs": [],
   "source": [
    "from turtle import setup, reset, pu, pd, bye, left, right, fd, bk, screensize\n",
    "from turtle import goto, seth, write, ht, st, home, dot, pen, speed\n",
    "from qianglib import prepare_paper, draw_grid, mark, lines, line, polygon, text"
   ]
  },
  {
   "cell_type": "code",
   "execution_count": 2,
   "id": "bed66e63-7d02-4c22-bf10-8863883aab94",
   "metadata": {},
   "outputs": [],
   "source": [
    "width, height = 800, 600\n",
    "setup(width, height, 0, 0)\n",
    "prepare_paper(width, height, scale=20, min_x=0, min_y=0, max_y=25)"
   ]
  },
  {
   "cell_type": "code",
   "execution_count": 11,
   "id": "06a7859a-b00c-46b3-ae98-5b423dc22f8e",
   "metadata": {},
   "outputs": [],
   "source": [
    "prepare_paper(width, height, scale=20, min_x=0, min_y=0, max_y=25)"
   ]
  },
  {
   "cell_type": "code",
   "execution_count": 12,
   "id": "0cf88bf6-e6ba-4f56-a1fb-09b5e09d594b",
   "metadata": {},
   "outputs": [],
   "source": [
    "A, B, C, D = (2, 15), (10, 15), (14, 19), (6, 19)\n",
    "parallelogram1 = [A, B, C, D]\n",
    "polygon(parallelogram1, color=\"black\", linewidth=3)\n",
    "mark(A, \"A\")\n",
    "mark(B, \"B\")\n",
    "mark(C, \"C\")\n",
    "mark(D, \"D\")"
   ]
  },
  {
   "cell_type": "code",
   "execution_count": 14,
   "id": "95756c24-f479-4bfd-b314-9c6420699f77",
   "metadata": {},
   "outputs": [],
   "source": [
    "E = (B[0], C[1])\n",
    "mark(E, \"E\")\n",
    "line(start=B, end=E, color=\"red\")"
   ]
  },
  {
   "cell_type": "code",
   "execution_count": 16,
   "id": "ab8983b3-7181-483c-8b58-073d5e996e03",
   "metadata": {},
   "outputs": [],
   "source": [
    "F = (D[0], A[1])\n",
    "mark(F, \"F\")\n",
    "line(start=D, end=F, color=\"blue\")"
   ]
  },
  {
   "cell_type": "code",
   "execution_count": 17,
   "id": "229b89dd-6a42-4104-8e4b-480d747683e5",
   "metadata": {},
   "outputs": [],
   "source": [
    "polygon([A, D, F], color=\"blue\", fillcolor=\"blue\")"
   ]
  },
  {
   "cell_type": "code",
   "execution_count": 18,
   "id": "d0762748-a7d8-4a10-a07e-627753b56dc7",
   "metadata": {},
   "outputs": [],
   "source": [
    "F_p = (C[0], B[1])\n",
    "polygon([B, F_p, C], color=\"blue\", fillcolor=\"red\")"
   ]
  },
  {
   "cell_type": "code",
   "execution_count": 19,
   "id": "a4a0d700-2265-4af1-b6c9-408be9bb5635",
   "metadata": {},
   "outputs": [],
   "source": [
    "rectangle1 = [(6, 4), (14, 4), (14, 8), (6, 8)]\n",
    "polygon(rectangle1, color=\"black\", linewidth=3)"
   ]
  },
  {
   "cell_type": "markdown",
   "id": "latest-contamination",
   "metadata": {},
   "source": [
    "### Summary 知识点小结"
   ]
  },
  {
   "cell_type": "markdown",
   "id": "afb3f674",
   "metadata": {},
   "source": [
    "1. 复习tuple\n",
    "2. 复习qianglib的一些方法\n",
    "3. 复习方法的返回值\n"
   ]
  },
  {
   "cell_type": "markdown",
   "id": "bizarre-assurance",
   "metadata": {},
   "source": [
    "### 计算机小知识"
   ]
  },
  {
   "cell_type": "markdown",
   "id": "92100f08",
   "metadata": {},
   "source": [
    "暂缺"
   ]
  },
  {
   "cell_type": "markdown",
   "id": "digital-consensus",
   "metadata": {
    "heading_collapsed": true
   },
   "source": [
    "### Assignments 作业\n",
    "\n",
    "#### Complete Question 4,5 and 6 完成本讲问题4，5和6."
   ]
  },
  {
   "cell_type": "code",
   "execution_count": null,
   "id": "a50e42c9-8771-4b61-83d0-1fd9ffd0d3f5",
   "metadata": {},
   "outputs": [],
   "source": []
  }
 ],
 "metadata": {
  "kernelspec": {
   "display_name": "Python 3",
   "language": "python",
   "name": "python3"
  },
  "language_info": {
   "codemirror_mode": {
    "name": "ipython",
    "version": 3
   },
   "file_extension": ".py",
   "mimetype": "text/x-python",
   "name": "python",
   "nbconvert_exporter": "python",
   "pygments_lexer": "ipython3",
   "version": "3.8.10"
  }
 },
 "nbformat": 4,
 "nbformat_minor": 5
}
