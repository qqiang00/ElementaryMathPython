{
 "cells": [
  {
   "cell_type": "markdown",
   "id": "relative-location",
   "metadata": {},
   "source": [
    "## 第26讲 勾股定理-毕达哥拉斯定理"
   ]
  },
  {
   "cell_type": "markdown",
   "id": "d12f05dd",
   "metadata": {},
   "source": [
    "### Problem 问题描述"
   ]
  },
  {
   "cell_type": "markdown",
   "id": "2dc69c35-8349-4c87-b823-72f2bf77c214",
   "metadata": {},
   "source": [
    "给定两个正方形，它们的边长分别为$a=6$和$b=8$，请你找到第三个正方形，确定它的边长$c$，使得第三个正方形的面积正好是前两个正方形面积的和。即:$$a^2+b^2=c^2$$\n",
    "\n",
    "Given two squares with side lengths $a=6$ and $b=8$, find a third square by specifying its side length $c$ such that the area of the third square is exactly the sum of the areas of the first two squares:\n",
    "$$a^2+b^2=c^2$$\n",
    "<img src=\"figures/L025_pythagoras_theorem.png\" width=\"500px\" />"
   ]
  },
  {
   "cell_type": "markdown",
   "id": "87c843e7-cbef-4128-9360-c3ebd33dcc1b",
   "metadata": {},
   "source": []
  },
  {
   "cell_type": "markdown",
   "id": "6f041a5f-71c1-477c-95be-7e3361e55a3c",
   "metadata": {},
   "source": [
    "**Answer Area**"
   ]
  },
  {
   "cell_type": "code",
   "execution_count": null,
   "id": "f98826bb-85f0-431c-b110-c72f99caf65a",
   "metadata": {},
   "outputs": [],
   "source": []
  },
  {
   "cell_type": "markdown",
   "id": "1270f26d-e2ca-45e0-a679-ec82361795da",
   "metadata": {},
   "source": [
    "### Math Background 数学背景\n",
    "\n",
    "1. 直角三角形三边长满足勾股定理\n",
    "2. 勾股定理的证明"
   ]
  },
  {
   "cell_type": "markdown",
   "id": "sorted-furniture",
   "metadata": {
    "heading_collapsed": true
   },
   "source": [
    "### Prerequisites 预备知识"
   ]
  },
  {
   "cell_type": "markdown",
   "id": "ac3f3f62-7bb0-4f00-9a4e-4085b96c14dd",
   "metadata": {},
   "source": [
    "1. 使用`qianglib`库提供的方法，绘制方格坐标纸，其中坐标系的原点`(0,0)`位于绘图区的最左下方，使用的`scale`值为`20`. Use the methods provided in the library `qianglib`, draw a grid coordinate system where the origin `(0, 0)` is at the bottom left of the coordinate system."
   ]
  },
  {
   "cell_type": "markdown",
   "id": "d55f37d9",
   "metadata": {},
   "source": [
    "### Solution 编程求解"
   ]
  },
  {
   "cell_type": "markdown",
   "id": "fe71a786-9c32-4ccb-8ac0-747e43eb8623",
   "metadata": {},
   "source": [
    "1. "
   ]
  },
  {
   "cell_type": "code",
   "execution_count": 3,
   "id": "b1ae7be3-fdde-46b5-820e-c35a55d2fbe0",
   "metadata": {},
   "outputs": [],
   "source": [
    "from turtle import setup, reset, pu, pd, bye, left, right, fd, bk, screensize\n",
    "from turtle import goto, seth, write, ht, st, home, dot, pen, speed\n",
    "from qianglib import prepare_paper, draw_grid, mark, lines, line, polygon, text"
   ]
  },
  {
   "cell_type": "code",
   "execution_count": 4,
   "id": "bed66e63-7d02-4c22-bf10-8863883aab94",
   "metadata": {},
   "outputs": [],
   "source": [
    "width, height = 1000, 600\n",
    "setup(width, height, 0, 0)\n"
   ]
  },
  {
   "cell_type": "code",
   "execution_count": 5,
   "id": "88876840-dedf-4f9f-84b9-9ff8f1460360",
   "metadata": {},
   "outputs": [],
   "source": [
    "prepare_paper(width, height, scale=20, min_x=0, min_y=0, max_y=25)"
   ]
  },
  {
   "cell_type": "code",
   "execution_count": 10,
   "id": "6d3f7a79-8ac6-4a73-82f4-5a19e0974a86",
   "metadata": {},
   "outputs": [],
   "source": [
    "A = (10, 9)\n",
    "B = (A[0] + 8, A[1])\n",
    "C = (A[0], A[1]+6)\n",
    "D = (A[0], A[1]-8)\n",
    "E = (B[0], B[1]-8)\n",
    "F = (C[0]-6, C[1])\n",
    "G = (A[0]-6, A[1])\n",
    "H = (B[0] + 10*3/5, B[1]+10*4/5)\n",
    "I = (C[0] + 10*3/5, C[1]+10*4/5)\n",
    "\n",
    "points = [A, B, C, D, E, F, G, H, I]\n",
    "point_names = \"ABCDEFGHI\""
   ]
  },
  {
   "cell_type": "code",
   "execution_count": 11,
   "id": "d2159069-7e46-447f-957a-f12aa1edafc3",
   "metadata": {},
   "outputs": [],
   "source": [
    "triangle = [A, B, C]\n",
    "square_small = [A, C, F, G]\n",
    "square_median = [A, B, E, D]\n",
    "square_large = [B, H, I, C]"
   ]
  },
  {
   "cell_type": "code",
   "execution_count": 12,
   "id": "1088a5d7-1559-4ac0-865d-46e70600cd1f",
   "metadata": {},
   "outputs": [],
   "source": [
    "polygon(triangle, line_width=3, color=\"black\")"
   ]
  },
  {
   "cell_type": "code",
   "execution_count": 13,
   "id": "014c5d81-947e-405b-b1f7-5c0bbae17580",
   "metadata": {},
   "outputs": [],
   "source": [
    "polygon(square_small, line_width=3, color=\"red\")"
   ]
  },
  {
   "cell_type": "code",
   "execution_count": 14,
   "id": "e536c503-f730-4db5-ba76-8f58b62271fd",
   "metadata": {},
   "outputs": [],
   "source": [
    "polygon(square_median, line_width=3, color=\"green\")"
   ]
  },
  {
   "cell_type": "code",
   "execution_count": 15,
   "id": "670be59a-8a2d-4eba-9694-7219fc79cfa6",
   "metadata": {},
   "outputs": [],
   "source": [
    "polygon(square_large, line_width=3, color=\"cyan\")"
   ]
  },
  {
   "cell_type": "code",
   "execution_count": 16,
   "id": "55d8342b-25f5-4293-aba1-6d7cc75ef100",
   "metadata": {},
   "outputs": [],
   "source": [
    "for i, point in enumerate(points):\n",
    "    mark(point, point_names[i]+str(point))"
   ]
  },
  {
   "cell_type": "code",
   "execution_count": 17,
   "id": "3d71ae57-549d-48b3-acfb-b1f0848feff8",
   "metadata": {},
   "outputs": [],
   "source": [
    "AA = (28, 1)\n",
    "points = [AA, (AA[0]+8, AA[1]), (AA[0]+14, AA[1]), (AA[0]+14, AA[1]+8),\n",
    "          (AA[0]+14, AA[1]+14), (AA[0]+6, AA[1]+14), (AA[0], AA[1]+14),\n",
    "          (AA[0], AA[1]+6)]\n",
    "                          \n",
    "color = \"green\"                                 \n",
    "for i in range(len(points)):\n",
    "    if i % 2 == 0:\n",
    "        color = \"green\"\n",
    "    else:\n",
    "        color = \"red\"\n",
    "    line(points[i], points[(i+1)%len(points)], line_width=3, color=color)\n",
    "                        \n",
    "for i in range(1, len(points), 2):\n",
    "    line(points[i], points[(i+2)%len(points)], line_width=3, color=\"cyan\")"
   ]
  },
  {
   "cell_type": "code",
   "execution_count": 18,
   "id": "1373ed57-b870-46e4-a19a-98080f801407",
   "metadata": {},
   "outputs": [],
   "source": [
    "J = (A[0]-6, A[1]-8)\n",
    "K = (A[0]+8, A[1]+6)\n",
    "\n",
    "line(G, D, line_width=3, color=\"cyan\")\n",
    "line(G, J, line_width=3, color=\"green\")\n",
    "line(J, D, line_width=3, color=\"red\")\n",
    "mark(J, \"J\"+str(J))\n",
    "\n",
    "line(C, K, line_width=3, color=\"green\")\n",
    "line(K, B, line_width=3, color=\"red\")\n",
    "mark(K, \"K\"+str(K))\n"
   ]
  },
  {
   "cell_type": "markdown",
   "id": "latest-contamination",
   "metadata": {},
   "source": [
    "### Summary 知识点小结"
   ]
  },
  {
   "cell_type": "markdown",
   "id": "afb3f674",
   "metadata": {},
   "source": [
    "1. 乘方运算符`**`\n",
    "2. 复习tuple\n",
    "3. 复习qianglib的一些方法\n",
    "4. 复习方法的返回值\n"
   ]
  },
  {
   "cell_type": "markdown",
   "id": "bizarre-assurance",
   "metadata": {},
   "source": [
    "### 计算机小知识"
   ]
  },
  {
   "cell_type": "markdown",
   "id": "92100f08",
   "metadata": {},
   "source": [
    "暂缺"
   ]
  },
  {
   "cell_type": "markdown",
   "id": "digital-consensus",
   "metadata": {
    "heading_collapsed": true
   },
   "source": [
    "### Assignments 作业"
   ]
  }
 ],
 "metadata": {
  "kernelspec": {
   "display_name": "Python 3",
   "language": "python",
   "name": "python3"
  },
  "language_info": {
   "codemirror_mode": {
    "name": "ipython",
    "version": 3
   },
   "file_extension": ".py",
   "mimetype": "text/x-python",
   "name": "python",
   "nbconvert_exporter": "python",
   "pygments_lexer": "ipython3",
   "version": "3.8.10"
  }
 },
 "nbformat": 4,
 "nbformat_minor": 5
}
