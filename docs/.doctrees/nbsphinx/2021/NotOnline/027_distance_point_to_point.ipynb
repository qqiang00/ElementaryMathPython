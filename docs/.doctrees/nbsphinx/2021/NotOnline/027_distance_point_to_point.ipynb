{
 "cells": [
  {
   "cell_type": "markdown",
   "id": "relative-location",
   "metadata": {},
   "source": [
    "## 第27讲 平方根与点到点的距离\n",
    "Lecture27 Square Root and Distance Between Two Points"
   ]
  },
  {
   "cell_type": "markdown",
   "id": "d12f05dd",
   "metadata": {},
   "source": [
    "### Problem 问题描述"
   ]
  },
  {
   "cell_type": "markdown",
   "id": "87c843e7-cbef-4128-9360-c3ebd33dcc1b",
   "metadata": {},
   "source": [
    "使用`qianglib`库提供的方法，绘制方格坐标纸，其中坐标系的原点`(0,0)`位于绘图区的最左下方，使用的`scale`值为`20`. Use the methods provided in the library `qianglib`, draw a grid coordinate system where the origin `(0, 0)` is at the bottom left of the coordinate system.\n",
    "\n",
    "1. Mark all the points (0, 0), (6, 12), (10, 24), (24, 18), (16, 16), (25, 25) in a draw paper; 在绘图纸上标记上述所有的点；\n",
    "2. For each point except O(0, 0), calculate the exact area of a square whose side length is the distance between O(0, 0) to that point. you don't need to draw the square; 对于除了O(0,0)以外的其它所有点，准确计算由这个点到圆点O(0, 0)的距离为边长的正方形的面积。你不需要绘制这个正方形；\n",
    "3. For each point except O(0, 0), estimate the distance between O(0, 0) to the point. The result should be precised to 0.001; 对于除了O(0,0)以外的其它所有点，计算由这个点到圆点O(0, 0)的距离。结果精确到0.001；\n",
    "4. Draw the line AB, AC, AD, AE, BC, BD, BE, CD, CE, and DE. approximately calculate the length of these lines. The result should be precised to 0.001; 绘制下列线段AB, AC, AD, AE, BC, BD, BE, CD, CE, and DE，计算这些线段的长度。结果精确到0.001.\n",
    "\n",
    "\n"
   ]
  },
  {
   "cell_type": "markdown",
   "id": "1270f26d-e2ca-45e0-a679-ec82361795da",
   "metadata": {},
   "source": [
    "### Math Background 数学背景\n",
    "\n",
    "1. 线段可以用两个不同点的坐标唯一确定\n",
    "2. 使用毕达哥拉斯定理精确计算两点间距离\n",
    "3. 平方根的意义"
   ]
  },
  {
   "cell_type": "markdown",
   "id": "sorted-furniture",
   "metadata": {
    "heading_collapsed": true
   },
   "source": [
    "### Prerequisites 预备知识"
   ]
  },
  {
   "cell_type": "code",
   "execution_count": null,
   "id": "10d7cbd2-e8ae-4d34-aa19-40dd730997dd",
   "metadata": {},
   "outputs": [],
   "source": [
    "area = 180\n",
    "side = None\n",
    "\n",
    "#square:  area = side * side\n",
    "# side     area\n",
    "#  3       9     \n",
    "#  4       16\n",
    "#  a       s_a <= 180\n",
    "#  b=a+1   s_b >= 180"
   ]
  },
  {
   "cell_type": "code",
   "execution_count": 1,
   "id": "84e792f7-0544-412d-af3c-16ae4669414b",
   "metadata": {},
   "outputs": [],
   "source": [
    "def find_int_a2(area):\n",
    "    a, step = 0, 0.1\n",
    "    #print(\"let's start from a = {}\".format(a))\n",
    "    while a**2 <= area:\n",
    "        #print(\"-\"*20)\n",
    "        #print(\"{}*{} is smaller than or equal to {}\".format(a, area))\n",
    "        a+=step\n",
    "        #print(\"let's increase {} by 1 to try {} again\".format(a-1, a))\n",
    "    \n",
    "    #print(\"Out of loop, because {}*{} > {}\".format(a, a, area)) \n",
    "    #print(\"the result will be {}\".format(a-1))\n",
    "    return a-step"
   ]
  },
  {
   "cell_type": "code",
   "execution_count": 9,
   "id": "a5dbee95-8736-4301-b237-29e0114b2819",
   "metadata": {},
   "outputs": [
    {
     "data": {
      "text/plain": [
       "31622776.60168379"
      ]
     },
     "execution_count": 9,
     "metadata": {},
     "output_type": "execute_result"
    }
   ],
   "source": [
    "from math import sqrt   # sqrt\n",
    "sqrt(1000000000000000)"
   ]
  },
  {
   "cell_type": "code",
   "execution_count": null,
   "id": "39e042bf-3d38-4b59-afc8-e19d4df4a906",
   "metadata": {},
   "outputs": [],
   "source": [
    "# To calcualte the square root of a number is equivalent to calcualte the side length of a square whose area is the number.\n",
    "# To calculate the square of a number is equivalent to calcualte the area of a square whose side length is the number."
   ]
  },
  {
   "cell_type": "code",
   "execution_count": 10,
   "id": "89e8c6e3-c20c-4cd7-980c-9715b5450602",
   "metadata": {},
   "outputs": [
    {
     "name": "stdout",
     "output_type": "stream",
     "text": [
      "4.0\n"
     ]
    }
   ],
   "source": [
    "# sqrt()   +, - * /\n",
    "# 2+2, 4-2, a+b, a-b\n",
    "\n",
    "a = 16\n",
    "result = sqrt(a)\n",
    "print(result)\n",
    "# the square root of 16 is 4.0\n",
    "# if the area of a square is 16, then the side length of this square is 4.0"
   ]
  },
  {
   "cell_type": "code",
   "execution_count": null,
   "id": "55ddbd8a-4ff4-4b2c-8266-eb22255069f0",
   "metadata": {},
   "outputs": [],
   "source": [
    "# **2  + - * / \n",
    "# square(a) <=> a*a\n",
    "# the square of a a is equal to a*a, and is equal to a**2\n"
   ]
  },
  {
   "cell_type": "code",
   "execution_count": null,
   "id": "a5e8e744-2ee9-49fa-afdb-91a0d279943c",
   "metadata": {},
   "outputs": [],
   "source": [
    "# power overwhelming\n",
    "# power(a, b)   # a*a*a*a....*a   (multiplication of b numbers of a \n",
    "# **"
   ]
  },
  {
   "cell_type": "code",
   "execution_count": 13,
   "id": "ab4948ee-8678-4b78-ac04-f27c4d4d28f3",
   "metadata": {},
   "outputs": [],
   "source": [
    "from math import pow"
   ]
  },
  {
   "cell_type": "code",
   "execution_count": 15,
   "id": "4702f93c-e938-4434-b152-2d764d5cfb6c",
   "metadata": {},
   "outputs": [
    {
     "data": {
      "text/plain": [
       "True"
      ]
     },
     "execution_count": 15,
     "metadata": {},
     "output_type": "execute_result"
    }
   ],
   "source": [
    "pow(2, 10) == 2**10\n",
    "\n",
    "pow(10, 2) == 10*10"
   ]
  },
  {
   "cell_type": "code",
   "execution_count": null,
   "id": "5425dc77-0787-41aa-9962-ceec14adbb9e",
   "metadata": {},
   "outputs": [],
   "source": [
    "from math import pow, sqrt\n",
    "# "
   ]
  },
  {
   "cell_type": "markdown",
   "id": "ac3f3f62-7bb0-4f00-9a4e-4085b96c14dd",
   "metadata": {},
   "source": [
    "无"
   ]
  },
  {
   "cell_type": "markdown",
   "id": "d55f37d9",
   "metadata": {},
   "source": [
    "### Solution 编程求解"
   ]
  },
  {
   "cell_type": "markdown",
   "id": "fe71a786-9c32-4ccb-8ac0-747e43eb8623",
   "metadata": {},
   "source": [
    "1. "
   ]
  },
  {
   "cell_type": "code",
   "execution_count": 1,
   "id": "b1ae7be3-fdde-46b5-820e-c35a55d2fbe0",
   "metadata": {},
   "outputs": [],
   "source": [
    "from turtle import setup, reset, pu, pd, bye, left, right, fd, bk, screensize\n",
    "from turtle import goto, seth, write, ht, st, home, dot, pen, speed\n",
    "from qianglib import prepare_paper, draw_grid, mark, lines, line, polygon, text"
   ]
  },
  {
   "cell_type": "code",
   "execution_count": 2,
   "id": "bed66e63-7d02-4c22-bf10-8863883aab94",
   "metadata": {},
   "outputs": [],
   "source": [
    "width, height = 800, 600\n",
    "setup(width, height, 0, 0)\n",
    "prepare_paper(width, height, scale=20, min_x=0, min_y=0, max_y=25)"
   ]
  },
  {
   "cell_type": "code",
   "execution_count": 3,
   "id": "d099fae4-94c6-465a-935f-31715f6d782d",
   "metadata": {},
   "outputs": [],
   "source": [
    "A, B = (7, 11), (19, 20)\n",
    "line1 = [A, B]"
   ]
  },
  {
   "cell_type": "code",
   "execution_count": 4,
   "id": "67d0006e-4516-47cd-b1cb-7ad5ad0fe530",
   "metadata": {},
   "outputs": [],
   "source": [
    "line(start=A, end=B, mark_vertex=True, label_color=\"red\", vertex_labels=[\"A(x0, y0)\", \"B(x1, y1)\"], offset=(0.5, -1))"
   ]
  },
  {
   "cell_type": "code",
   "execution_count": 5,
   "id": "5bf97b13-a32a-482f-adce-45b48b114dc8",
   "metadata": {},
   "outputs": [],
   "source": [
    "C = (B[0], A[1])"
   ]
  },
  {
   "cell_type": "code",
   "execution_count": 6,
   "id": "2df91c30-262d-45b7-af8c-25f725089ddc",
   "metadata": {},
   "outputs": [],
   "source": [
    "#lines([A, B, C], mark_vertex=True, vertex_labels=[\"A\", \"B\", \"C\"], closed=True, offset=(0.5, -1))"
   ]
  },
  {
   "cell_type": "code",
   "execution_count": 7,
   "id": "1d2e16ae-6e6b-453e-a1d9-31592a09de49",
   "metadata": {},
   "outputs": [],
   "source": [
    "#mark(C, \"C\", show_pos=True)"
   ]
  },
  {
   "cell_type": "code",
   "execution_count": 8,
   "id": "6d06b409-175f-41a4-ac06-44f61139cd19",
   "metadata": {},
   "outputs": [],
   "source": [
    "text((15, 15), \"Dist(A, B) = sqrt( (y1-y0)^2 + (x1-x0)^2 )\", align=\"left\", \n",
    "     color=\"red\", font=(\"arial\", 12, \"normal\"))"
   ]
  },
  {
   "cell_type": "code",
   "execution_count": null,
   "id": "f0b29e2a-9970-4943-b8c7-d14b7e51cd3f",
   "metadata": {},
   "outputs": [],
   "source": [
    "E = (22, 5)\n",
    "mark(E, show_pos=True)"
   ]
  },
  {
   "cell_type": "code",
   "execution_count": null,
   "id": "1b97b920-36e2-45da-b28c-3c3b28360c44",
   "metadata": {},
   "outputs": [],
   "source": [
    "F = (25, 5)\n",
    "mark(F, \"F\", show_pos=True)"
   ]
  },
  {
   "cell_type": "markdown",
   "id": "14358711-c248-4466-b134-58b895246206",
   "metadata": {},
   "source": [
    "2. "
   ]
  },
  {
   "cell_type": "markdown",
   "id": "latest-contamination",
   "metadata": {},
   "source": [
    "### Summary 知识点小结"
   ]
  },
  {
   "cell_type": "markdown",
   "id": "afb3f674",
   "metadata": {},
   "source": [
    "1. 复习tuple\n",
    "2. 复习qianglib的一些方法\n",
    "3. 复习方法的返回值"
   ]
  },
  {
   "cell_type": "markdown",
   "id": "bizarre-assurance",
   "metadata": {},
   "source": [
    "### 计算机小知识"
   ]
  },
  {
   "cell_type": "markdown",
   "id": "92100f08",
   "metadata": {},
   "source": [
    "暂缺"
   ]
  },
  {
   "cell_type": "markdown",
   "id": "digital-consensus",
   "metadata": {
    "heading_collapsed": true
   },
   "source": [
    "### Assignments 作业"
   ]
  },
  {
   "cell_type": "code",
   "execution_count": null,
   "id": "e4911dff-ff7d-4d2e-afdb-36a0c05f0629",
   "metadata": {},
   "outputs": [],
   "source": []
  }
 ],
 "metadata": {
  "kernelspec": {
   "display_name": "Python 3 (ipykernel)",
   "language": "python",
   "name": "python3"
  },
  "language_info": {
   "codemirror_mode": {
    "name": "ipython",
    "version": 3
   },
   "file_extension": ".py",
   "mimetype": "text/x-python",
   "name": "python",
   "nbconvert_exporter": "python",
   "pygments_lexer": "ipython3",
   "version": "3.9.0"
  }
 },
 "nbformat": 4,
 "nbformat_minor": 5
}
