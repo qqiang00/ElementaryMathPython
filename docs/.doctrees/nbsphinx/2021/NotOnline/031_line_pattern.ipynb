{
 "cells": [
  {
   "cell_type": "markdown",
   "id": "b9c7f5e2-3a33-48bb-86b1-31d9b7e70437",
   "metadata": {},
   "source": [
    "## Lecture 31 Equation of Lines"
   ]
  },
  {
   "cell_type": "code",
   "execution_count": 6,
   "id": "3aa90587-d83a-48ef-af3d-cfe092491b35",
   "metadata": {},
   "outputs": [],
   "source": [
    "from turtle import setup, reset, pu, pd, bye, left, right, fd, bk, screensize\n",
    "from turtle import goto, seth, write, ht, st, home, dot, pen, speed, getscreen\n",
    "from qianglib import prepare_paper, draw_grid, mark, lines, line, polygon, text\n",
    "from qianglib import get_center"
   ]
  },
  {
   "cell_type": "code",
   "execution_count": 9,
   "id": "76076efd-edde-4d45-ba4f-153eae2795cc",
   "metadata": {},
   "outputs": [],
   "source": [
    "width, height = 800, 600\n",
    "setup(width, height, 0, 0)"
   ]
  },
  {
   "cell_type": "code",
   "execution_count": 15,
   "id": "ddf24450-7a22-49ce-8b5d-4a998f757a7e",
   "metadata": {},
   "outputs": [],
   "source": [
    "reset()\n",
    "prepare_paper(width, height, scale=20, min_x=-20, min_y=-15)"
   ]
  },
  {
   "cell_type": "code",
   "execution_count": 16,
   "id": "e78be065-dddc-4d93-8703-eb1dce1b6e7a",
   "metadata": {},
   "outputs": [],
   "source": [
    "xs = [-5, -4, -3, -2, -1, 0, 1, 2, 3, 4, 5]"
   ]
  },
  {
   "cell_type": "code",
   "execution_count": 17,
   "id": "07e7cc75-0591-4480-addc-13d1e76eb34a",
   "metadata": {},
   "outputs": [],
   "source": [
    "def get_y(x):\n",
    "    return 0.5*x"
   ]
  },
  {
   "cell_type": "code",
   "execution_count": 18,
   "id": "fcd2f2f9-9f9c-40da-b51a-f652cfa92ed5",
   "metadata": {},
   "outputs": [],
   "source": [
    "for x in xs:\n",
    "    p = (x, get_y(x))\n",
    "    mark(p, color=\"blue\")"
   ]
  },
  {
   "cell_type": "code",
   "execution_count": null,
   "id": "66ff2cd1-7dc0-4acf-b928-70570f7ef7e6",
   "metadata": {},
   "outputs": [],
   "source": [
    "def get_y(x):\n",
    "    \"\"\"\n",
    "    compute x/2\n",
    "    param:\n",
    "        x is an integer or float(decimal), not a list\n",
    "    return: x / 2, float(decimal) or int, not alist\n",
    "    \n",
    "    \"\"\"\n",
    "    y = None\n",
    "    #TODO\n",
    "    return y"
   ]
  },
  {
   "cell_type": "code",
   "execution_count": 20,
   "id": "85977987-8b97-43f7-9120-d792d3338e62",
   "metadata": {},
   "outputs": [
    {
     "name": "stdout",
     "output_type": "stream",
     "text": [
      "2.5\n"
     ]
    }
   ],
   "source": [
    "x_min = -15\n",
    "x_max = 15\n",
    "y_min = get_y(x_min)\n",
    "y_max = get_y(x_max)\n",
    "mark(p_min, color=\"red\")\n",
    "mark(p_max, color=\"red\")\n",
    "p_min = (x_min, y_min)\n",
    "p_max = (x_max, y_max)\n",
    "line(p_min, p_max)"
   ]
  },
  {
   "cell_type": "markdown",
   "id": "df25d456-240c-464e-ba5d-cf1fd259250b",
   "metadata": {},
   "source": [
    "$$y = \\frac{1}{2} x$$"
   ]
  },
  {
   "cell_type": "markdown",
   "id": "e35c415f-5ff9-4743-bc37-1b683d9a0362",
   "metadata": {},
   "source": [
    "1. use qianglib.py to draw\n",
    "\n",
    "   "
   ]
  },
  {
   "cell_type": "markdown",
   "id": "14ef5a20-dd23-4abe-8ec8-1e242bda500f",
   "metadata": {},
   "source": [
    "2. Look at the following patterns\n",
    "   1. y = 0.5x\n",
    "   2. y = 2x\n",
    "   3. y = 3x\n",
    "   4. y = 2x + 1\n",
    "   5. y = 2x - 1\n",
    "   \n",
    "   For each pattern above\n",
    "   1. for each pattern, implement the method for the pattern: get the y of the pattern given a x. You decide the method name for each pattern.\n",
    "   2. for each pattern, use x_min = -15, and x_max = 15 as x values for two points, get the y values: y_min and y_max, build two points p1(x_min, y_min) and p2(x_max, y_max)\n",
    "   3. draw the line formed by p1 and p2 use different colors, label the line with corresponding pattern\n",
    "\n",
    "3. Observe and tell the relationship between the lines: whose slope is larger? or some other relationship\n",
    "\n",
    "4. redraw the lines in GeoGebra (https://www.geogebra.org/geometry), save the drawings and prepare to share it in next class.\n"
   ]
  },
  {
   "cell_type": "code",
   "execution_count": null,
   "id": "72ceec8b-bc9e-4b0b-bc18-b31f32dd45b4",
   "metadata": {},
   "outputs": [],
   "source": [
    "y = 10 x"
   ]
  },
  {
   "cell_type": "code",
   "execution_count": null,
   "id": "2528c9ed-5510-4d65-9c68-59447220c1b7",
   "metadata": {},
   "outputs": [],
   "source": [
    "\n",
    "\n",
    "\n",
    "A(0, -1)\n",
    "B( ,  0)"
   ]
  },
  {
   "cell_type": "code",
   "execution_count": null,
   "id": "a0b7dee5-f76f-4937-8f97-610d895422fa",
   "metadata": {},
   "outputs": [],
   "source": [
    "y=2x+1"
   ]
  },
  {
   "cell_type": "code",
   "execution_count": null,
   "id": "48fcb12f-e7bb-4ab0-abe4-8656636f1172",
   "metadata": {},
   "outputs": [],
   "source": [
    "y=2x"
   ]
  },
  {
   "cell_type": "code",
   "execution_count": null,
   "id": "d5dd7125-272d-4086-b7be-115c31ebd70b",
   "metadata": {},
   "outputs": [],
   "source": [
    "y=2x-1"
   ]
  },
  {
   "cell_type": "code",
   "execution_count": null,
   "id": "cafd6eb9-2dc9-4ef7-b3f5-6201b39d1914",
   "metadata": {},
   "outputs": [],
   "source": [
    "y=ax+b"
   ]
  },
  {
   "cell_type": "code",
   "execution_count": null,
   "id": "2f84b8ce-4e0d-427d-877b-1db7373cca93",
   "metadata": {},
   "outputs": [],
   "source": [
    "y = x+1\n",
    "A(0, 1)\n",
    "\n",
    "B(1, 2)"
   ]
  },
  {
   "cell_type": "code",
   "execution_count": null,
   "id": "3e843d0f-68da-4639-af21-84f4323b0d9a",
   "metadata": {},
   "outputs": [],
   "source": [
    "y=x+5\n",
    "C(0, 5)\n",
    "D(1, 6)"
   ]
  },
  {
   "cell_type": "code",
   "execution_count": null,
   "id": "79530278-cf99-4234-ba4f-0f7bf9da8071",
   "metadata": {},
   "outputs": [],
   "source": [
    "y=2x+3\n",
    "E(0, 3) \n",
    "F(1, 5)"
   ]
  },
  {
   "cell_type": "code",
   "execution_count": null,
   "id": "48bb0ccf-835a-4f2e-bb8b-32235e871062",
   "metadata": {},
   "outputs": [],
   "source": [
    "G(2, 7)"
   ]
  },
  {
   "cell_type": "code",
   "execution_count": null,
   "id": "24857fa9-83bf-422e-a2d8-82ca1d757d5b",
   "metadata": {},
   "outputs": [],
   "source": [
    "H(-2, -1)"
   ]
  },
  {
   "cell_type": "code",
   "execution_count": null,
   "id": "77aaaff0-656c-4cb8-830c-90d0537c9724",
   "metadata": {},
   "outputs": [],
   "source": [
    "y=2x+3\n",
    "y=x+1"
   ]
  },
  {
   "cell_type": "code",
   "execution_count": null,
   "id": "dacfed0d-c5d6-42dd-9660-d7e061c2ea2a",
   "metadata": {},
   "outputs": [],
   "source": [
    "y=2x(-2)+3\n",
    " =-4+3\n",
    " =-1"
   ]
  },
  {
   "cell_type": "code",
   "execution_count": null,
   "id": "b52218f2-67fc-49a5-b64e-9de6328d6ff4",
   "metadata": {},
   "outputs": [],
   "source": [
    "y = x+1   (x=-2)\n",
    "  = -2+1\n",
    "  = -1"
   ]
  },
  {
   "cell_type": "code",
   "execution_count": null,
   "id": "9a45f79f-8e72-47a9-89c8-4694a1c335c8",
   "metadata": {},
   "outputs": [],
   "source": [
    "y = x*x"
   ]
  },
  {
   "cell_type": "markdown",
   "id": "57fe6f89-77c6-466f-981c-4bb80feea44d",
   "metadata": {},
   "source": [
    "Plot the two lines, and find their shared point.\n",
    "$$y = x + 3$$\n",
    "$$y = 3x + 1$$"
   ]
  },
  {
   "cell_type": "code",
   "execution_count": null,
   "id": "489c29c0-d377-43bf-b7f2-59bceca61145",
   "metadata": {},
   "outputs": [],
   "source": []
  }
 ],
 "metadata": {
  "kernelspec": {
   "display_name": "Python 3 (ipykernel)",
   "language": "python",
   "name": "python3"
  },
  "language_info": {
   "codemirror_mode": {
    "name": "ipython",
    "version": 3
   },
   "file_extension": ".py",
   "mimetype": "text/x-python",
   "name": "python",
   "nbconvert_exporter": "python",
   "pygments_lexer": "ipython3",
   "version": "3.9.0"
  }
 },
 "nbformat": 4,
 "nbformat_minor": 5
}
