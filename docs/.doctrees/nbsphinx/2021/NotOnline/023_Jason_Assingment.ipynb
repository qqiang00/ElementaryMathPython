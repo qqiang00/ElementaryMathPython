{
 "cells": [
  {
   "cell_type": "markdown",
   "id": "familiar-fireplace",
   "metadata": {},
   "source": [
    "## 第23讲 平行四边形和它的面积"
   ]
  },
  {
   "cell_type": "markdown",
   "id": "assured-advertiser",
   "metadata": {},
   "source": [
    "### Problem 问题描述"
   ]
  },
  {
   "cell_type": "markdown",
   "id": "noted-update",
   "metadata": {},
   "source": [
    "使用`qianglib`库提供的方法，绘制方格坐标纸，其中坐标系的原点`(0,0)`位于绘图区的最左下方，使用的`scale`值为`20`. Use the methods provided in the library `qianglib`, draw a grid coordinate system where the origin `(0, 0)` is at the bottom left of the coordinate system."
   ]
  },
  {
   "cell_type": "markdown",
   "id": "protected-flight",
   "metadata": {},
   "source": [
    "1. Use 'black' color, 3 as line width to draw following two quadrilaterals. 使用黑色、数值为3的线宽，分别绘制出下列两个列表所表示的四边形：\n",
    "    - quad1:[(2, 15), (10, 15), (14, 19), (6, 19)] （四边形1）\n",
    "    - quad2:[(6, 4), (14, 4), (14, 8), (6, 8)] （四边形2）"
   ]
  },
  {
   "cell_type": "markdown",
   "id": "special-resort",
   "metadata": {},
   "source": [
    "2. 绘制出的两个图形是平行四边形或者矩形吗？ What are the exact shape names for the quadrilaterals drawn?\n",
    "   - is quad1 a parallelogram（平行四边形）: ?\n",
    "   - is quad2 a parallelogram: ?\n",
    "   - is quad1 a rectangle（矩形）: ?\n",
    "   - is quad2 a rectangle: ?\n",
    "   "
   ]
  },
  {
   "cell_type": "markdown",
   "id": "interior-ability",
   "metadata": {},
   "source": [
    "3. Count manually how many small square units (side length = 1) are contained in each figure drawn. This result is also the area of each corresponding figure. **Note**: If a side line of a figure penetrates the small square unit, it means that the small square unit is not completely contained in the figure. However, if more than half of the area of this square unit is included in the figure, count it on; otherwise, discard it. 手工数一数，绘制出的每一个图形内部包含多少个完整的边长为1的小正方形，这个数字同时就是对应的每一个图形的面积。**注意**：如果图形的一条边从正方形内部穿过，说明这个小正方形并不完全被包含在图形内部，仔细并估计这个正方形是否有超过一半的面积被包括在图形内部，如果是则可以把这个小正方形记入统计，如果不是，则放弃记入这个小正方形。\n",
    "   - Area for quad1 is:?\n",
    "   - Area for quad2 is:?"
   ]
  },
  {
   "cell_type": "markdown",
   "id": "frozen-light",
   "metadata": {},
   "source": [
    "4. Try to find a line, indicated by the coordiante values of its two end points, to cut each figure into two parts. Splicing the two parts to make it a rectangle. In the process of cutting and splicing, the total area of the graphics remains unchanged. Does it mean that each parallelogram can be transformed to a rectangle that has the same area? 尝试找出一条线段（找到表示这条线段的两个端点即可），它把上面绘出的平行四边形分割成两部分，分割得到的两部分可以拼接称为绘制出的矩形。是不是每一个平行四边形都可以这样拼接称为一个面积和它相同的矩形？\n",
    "    - end points of the line: (?, ?) and (?, ?)\n",
    "    - Can every parallelogram be transformed to a rectangle with the same area by such cutting and splicing?: ?"
   ]
  },
  {
   "cell_type": "markdown",
   "id": "unexpected-volume",
   "metadata": {},
   "source": [
    "### Math Background 数学背景\n",
    "1. 由四条边组成的封闭图形称为四边形；由两组平行线段组成的四边形称为平行四边形\n",
    "2. 如果一个四边形是平行四边形，它不一定是矩形，更不一定是正方形\n",
    "3. 如果一个图形是矩形，它一定也是平行四边形；如果一个图形是正方形，那它也是矩形，也是平行四边形\n",
    "3. 平行四边形可以通过裁剪变成一个和它面积相同的矩形\n",
    "4. 平行四边形的面积公式: $S=b \\cdot h$\n",
    "5. 矩形的面积公式： $S=a \\cdot b$"
   ]
  },
  {
   "cell_type": "markdown",
   "id": "purple-reducing",
   "metadata": {
    "heading_collapsed": true
   },
   "source": [
    "### Prerequisites 预备知识"
   ]
  },
  {
   "cell_type": "markdown",
   "id": "suspected-wagner",
   "metadata": {},
   "source": [
    "~~rewrite `polygon` method in `qianglib`, add some support methods~~"
   ]
  },
  {
   "cell_type": "markdown",
   "id": "uniform-replica",
   "metadata": {},
   "source": [
    "### Solution 编程求解"
   ]
  },
  {
   "cell_type": "code",
   "execution_count": 3,
   "id": "ranking-museum",
   "metadata": {},
   "outputs": [],
   "source": [
    "from turtle import setup, reset, pu, pd, bye, left, right, fd, bk, screensize\n",
    "from turtle import goto, seth, write, ht, st, home, dot, pen, speed\n",
    "from qianglib import prepare_paper, draw_grid, mark, lines, line, text\n",
    "from qianglib import polygon\n",
    "#from qianglib import generate_parallelogram, generate_rectangle, get_center, add_v\n",
    "#from qianglib import rectangle"
   ]
  },
  {
   "cell_type": "code",
   "execution_count": 4,
   "id": "worth-syria",
   "metadata": {},
   "outputs": [],
   "source": [
    "width, height = 800, 600\n",
    "setup(width, height, 0, 0)"
   ]
  },
  {
   "cell_type": "code",
   "execution_count": 5,
   "id": "oriented-layout",
   "metadata": {},
   "outputs": [],
   "source": [
    "prepare_paper(width, height, scale=20, min_x=0, min_y=0, max_y=25)"
   ]
  },
  {
   "cell_type": "markdown",
   "id": "stone-script",
   "metadata": {},
   "source": [
    "### Summary 知识点小结"
   ]
  },
  {
   "cell_type": "markdown",
   "id": "important-norwegian",
   "metadata": {},
   "source": [
    "1. 复习tuple\n",
    "2. 复习qianglib的一些方法\n",
    "3. 复习方法的返回值\n"
   ]
  },
  {
   "cell_type": "markdown",
   "id": "continuing-satellite",
   "metadata": {},
   "source": [
    "### 计算机小知识"
   ]
  },
  {
   "cell_type": "code",
   "execution_count": null,
   "id": "ambient-edgar",
   "metadata": {},
   "outputs": [],
   "source": []
  },
  {
   "cell_type": "code",
   "execution_count": 1,
   "id": "normal-iceland",
   "metadata": {},
   "outputs": [],
   "source": [
    "from turtle import setup, reset, pu, pd, bye, left, right, fd, bk, screensize\n",
    "from turtle import goto, seth, write, ht, st, home, dot, pen, speed\n",
    "from qianglib import prepare_paper, draw_grid, mark, lines, line, polygon, text"
   ]
  },
  {
   "cell_type": "code",
   "execution_count": 2,
   "id": "intense-hearing",
   "metadata": {},
   "outputs": [],
   "source": [
    "width, height = 800, 600\n",
    "setup(width, height, 0, 0)\n",
    "prepare_paper(width, height, scale=15, min_x=0, min_y=0, max_y=50, max_x=50)"
   ]
  },
  {
   "cell_type": "markdown",
   "id": "intensive-morrison",
   "metadata": {
    "heading_collapsed": true
   },
   "source": [
    "### Assignments 作业"
   ]
  },
  {
   "cell_type": "markdown",
   "id": "beneficial-little",
   "metadata": {},
   "source": [
    "1. According to the definition of parallelogram, declare and implement a method to tell whether a list variable with 4 coordinate valus of points represents a parallelogram? Give the method a name and carefully design its parameters and return values. 根据平行四边形的定义，编写一个方法判断：一个拥有四个点坐标信息元素的列表变量是否代表着一个平行四边形。你可以自己设定方法名，在编写这个方法前认真思考这个方法的参数和返回值如何设计才比较好。"
   ]
  },
  {
   "cell_type": "code",
   "execution_count": 1,
   "id": "about-reverse",
   "metadata": {},
   "outputs": [],
   "source": [
    "def find_parallelogram(point1, point2, point3, point4):\n",
    "    Is_parallelogram1 = False\n",
    "    Is_parallelogram2 = False\n",
    "    Is = 0\n",
    "    if point1[0] > point2[0] and point3[0] > point4[0]:\n",
    "        if point1[0] - point2[0] == point3[0] - point4[0]:\n",
    "            Is_parallelogram1 = True\n",
    "    elif point1[0] == point2[0] and point3[0] == point4[0]:\n",
    "        Is_parallelogram1 = True\n",
    "    else:\n",
    "        if point2[0] - point1[0] == point4[0] - point3[0]:\n",
    "            Is_parallelogram1 = True\n",
    "    if point1[0] - point3[0] == point2[1] - point4[1]:\n",
    "        Is = True\n",
    "    if point2[1] > point3[1]:\n",
    "        if point2[1] - point3[1] == point1[1] - point4[1]:\n",
    "            Is_parallelogram2 = True\n",
    "    else:\n",
    "        if point3[1] - point2[1] == point4[1] - point1[1]:\n",
    "            Is_parallelogram2 = True\n",
    "    if Is_parallelogram1 == True and Is_parallelogram2 == True:\n",
    "        Is = True\n",
    "    elif Is != True:\n",
    "        Is = None\n",
    "    return Is"
   ]
  },
  {
   "cell_type": "markdown",
   "id": "likely-wayne",
   "metadata": {},
   "source": [
    "2. Below are 6 lists, each contains the coordinates of four points and may represent a parallelogram. For each list: use the `polygon` method provided in `qianglib` to draw it. Then, call the method you implemented in the previous quantion and observe whether your method can correctly determine whether the drawn figure is a parallelogram or not.\n",
    "如下给出了6行由四个点的坐标组成的列表，每一行都有可能代表着一个平行四边形。对于每一行的列表数据：用`qianglib`库里的`polygon`方法绘制出它代表的图形。随后，调用你上一步实现的方法，观察你的方法能否正确判断绘制出的图形是否是一个平行四边形。\n",
    "   - [(5, 9), (10, 9), (13, 14), (8, 14)]\n",
    "   - [(15, 9), (20, 9), (23, 14), (20, 14)]\n",
    "   - [(27, 9), (32, 10), (32, 14), (27, 13)]\n",
    "   - [(5, 1), (10, 2), (10, 7), (5, 5)]\n",
    "   - [(15, 4), (18, 1), (21, 4), (18, 7)]\n",
    "   - [(27, 1), (32, 1), (32, 7), (27, 7)]"
   ]
  },
  {
   "cell_type": "code",
   "execution_count": 6,
   "id": "continental-visitor",
   "metadata": {},
   "outputs": [],
   "source": [
    "po = [[(5, 9), (10, 9), (13, 14), (8, 14)], [(15, 9), (20, 9), (23, 14), (20, 14)], \n",
    "     [(27, 9), (32, 10), (32, 14), (27, 13)], [(5, 1), (10, 2), (10, 7), (5, 5)], \n",
    "     [(15, 4), (18, 1), (21, 4), (18, 7)], [(27, 1), (32, 1), (32, 7), (27, 7)]]\n",
    "for points in po:\n",
    "    polygon(points)"
   ]
  },
  {
   "cell_type": "code",
   "execution_count": 11,
   "id": "annoying-czech",
   "metadata": {},
   "outputs": [
    {
     "name": "stdout",
     "output_type": "stream",
     "text": [
      "True\n",
      "None\n",
      "True\n",
      "None\n",
      "True\n",
      "True\n"
     ]
    }
   ],
   "source": [
    "p1 = find_parallelogram((10, 9), (5, 9), (13, 14), (8, 14))\n",
    "print(p1)\n",
    "p2 = find_parallelogram((20, 9), (15, 9), (23, 14), (20, 14))\n",
    "print(p2)\n",
    "p3 = find_parallelogram((32, 10), (32, 14), (27, 13), (27, 9))\n",
    "print(p3)\n",
    "p4 = find_parallelogram((5, 1), (10, 2), (10, 7), (5, 5))\n",
    "print(p4)\n",
    "p5 = find_parallelogram((21, 4), (18, 7), (18, 1), (15, 4))\n",
    "print(p5)\n",
    "p6 = find_parallelogram((32, 1), (27, 1), (32, 7), (27, 7))\n",
    "print(p6)"
   ]
  },
  {
   "cell_type": "markdown",
   "id": "quarterly-corner",
   "metadata": {},
   "source": [
    "3. Assume that a list variable represents a parallelogram (only consider the case where at least one side of the parallelogram is parallel to either x or y axis), Can you figure out how to get the base and height of this parallelogram? Write a method to solve this problem.假设一个列表型变量表示一个平行四边形（仅考虑平行四边形一条边平行于坐标轴的情况），如何根据给定的四个顶点的坐标来得到这个平行四边形的一组底和高的大小？编写一个方法来求解这个问题。"
   ]
  },
  {
   "cell_type": "code",
   "execution_count": 7,
   "id": "dutch-policy",
   "metadata": {},
   "outputs": [],
   "source": [
    "def get_base_height(point1, point2, point3, point4):\n",
    "    height = point1[1] - point2[1]\n",
    "    base = point2[0] - point3[0]\n",
    "    return [base, height]\n"
   ]
  },
  {
   "cell_type": "markdown",
   "id": "isolated-patrol",
   "metadata": {},
   "source": [
    "4. Use the method written in the previous question to calculate the base and height of each parallelogram filtered from the question 2; calculate the area of each quadrilateral and compare it with the area obtained by mnually counting introduced in the class. 用上一题编写的方法来计算从第2题中筛选出来的每一个平行四边形的一组底和高，然后计算这个四边形的面积，和用课堂上介绍的数格子的方法得到的结果进行比较。"
   ]
  },
  {
   "cell_type": "code",
   "execution_count": 9,
   "id": "unlimited-monaco",
   "metadata": {},
   "outputs": [
    {
     "name": "stdout",
     "output_type": "stream",
     "text": [
      "25\n",
      "20\n",
      "0\n",
      "30\n"
     ]
    }
   ],
   "source": [
    "p1 = get_base_height((8, 14), (10, 9), (5, 9), (13, 14),)\n",
    "print(p1[0] * p1[1])\n",
    "p3 = get_base_height((32, 14), (32, 10), (27, 9), (27, 13))\n",
    "print(p3[0] * p3[1])\n",
    "p5 = get_base_height((21, 4), (18, 7), (18, 1), (15, 4))\n",
    "print(p5[0] * p5[1])\n",
    "p6 = get_base_height((27, 7), (32, 1), (27, 1), (32, 7))\n",
    "print(p6[0] * p6[1])"
   ]
  },
  {
   "cell_type": "code",
   "execution_count": null,
   "id": "sustainable-twenty",
   "metadata": {},
   "outputs": [],
   "source": []
  }
 ],
 "metadata": {
  "kernelspec": {
   "display_name": "Python 3",
   "language": "python",
   "name": "python3"
  },
  "language_info": {
   "codemirror_mode": {
    "name": "ipython",
    "version": 3
   },
   "file_extension": ".py",
   "mimetype": "text/x-python",
   "name": "python",
   "nbconvert_exporter": "python",
   "pygments_lexer": "ipython3",
   "version": "3.8.10"
  }
 },
 "nbformat": 4,
 "nbformat_minor": 5
}
