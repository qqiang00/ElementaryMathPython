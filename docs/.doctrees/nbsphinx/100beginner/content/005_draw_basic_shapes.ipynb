{
 "cells": [
  {
   "cell_type": "markdown",
   "id": "included-education",
   "metadata": {},
   "source": [
    "## 第5讲 绘制简单图形"
   ]
  },
  {
   "cell_type": "markdown",
   "id": "adjacent-chapel",
   "metadata": {},
   "source": [
    "- **Name (姓名)**: [Write Your Name Here]\n",
    "- **Date (日期)**: [Write the Date on which you completed this assignment]\n",
    "\n",
    "\n",
    "- **Score (成绩)**:[Provided by Teacher]\n",
    "- **Comment By Teacher (评语)**: [Provided by Teacher]"
   ]
  },
  {
   "cell_type": "markdown",
   "id": "periodic-register",
   "metadata": {},
   "source": [
    "### Problem\n",
    "\n",
    "1. When you draw a horizontal line segment with 5cm length on paper, what will you do? List all the steps in order and in detail. 当你在一张纸上画长度为5cm的一条水平线段时，你会怎么做？请把所有的细节按照次序列举出来。\n",
    "\n",
    "2. Draw a rectangle by programming with length and width given by using the commands `input`. 使用`input`命令获取输入的长宽数据来编程绘制一个矩形"
   ]
  },
  {
   "cell_type": "markdown",
   "id": "latest-contamination",
   "metadata": {},
   "source": [
    "### Objective 学习目标\n",
    "\n",
    "- Correct the expression from Commands to Function(Methods) 纠正从“命令”到“方法”的这一表达\n",
    "- Review `if`, `else` 复习`if`和`else`语句\n",
    "- Review `input` commands 复习`input`命令\n",
    "- Review codes are executed by its natural written order unless controled by codes using keywords like `if`, `elif`, `else`, and others. 复习程序代码都是按照其书写的自然顺序执行的，除非使用了诸如`if`，`elif`，`else` 和其他一些关键词引导的控制代码\n",
    "- Understand the role of the value(s) enclosed in parentheses`()` after a command 初步理解一个命令后用小圆括号括起来的一个或多个数据的作用\n",
    "- Learn commands that are used to draw shapes in Python's Turtle library. 学习Python的Turtle库里的一些绘图方法\n",
    "- Get a basic idea of what a library is. 简单了解什么是“库”\n",
    "- Start to think the significance of the principle of trying not to write repeated codes. 开始思考尽量不编写重复代码这一编程原则的意义"
   ]
  },
  {
   "cell_type": "markdown",
   "id": "animated-batch",
   "metadata": {},
   "source": [
    "### Math\n",
    "\n",
    "- The definition and property of a line segment, rectangle, square, and circle. 线段、矩形、正方形、圆的定义和性质。\n",
    "- Angles, right angle, acute angle, obtuse angle 角度、直角、锐角、钝角\n",
    "- Direction(Orientation) and Rotation(clockwise and anti clockwise): 方向和旋转（顺时针和逆时针）\n",
    "- Backward and forward, their relationship between current direction 向后和向前，它们和当前方向的关系"
   ]
  },
  {
   "cell_type": "markdown",
   "id": "sorted-furniture",
   "metadata": {},
   "source": [
    "### Python"
   ]
  },
  {
   "cell_type": "code",
   "execution_count": null,
   "id": "collected-resolution",
   "metadata": {},
   "outputs": [],
   "source": [
    "print(\"this sentence will be printed out.\")"
   ]
  },
  {
   "cell_type": "code",
   "execution_count": null,
   "id": "whole-ghost",
   "metadata": {
    "scrolled": true
   },
   "outputs": [],
   "source": [
    "input(\"prompt:\")"
   ]
  },
  {
   "cell_type": "code",
   "execution_count": null,
   "id": "capital-sponsorship",
   "metadata": {},
   "outputs": [],
   "source": [
    "from random import randint, random"
   ]
  },
  {
   "cell_type": "code",
   "execution_count": null,
   "id": "quick-amendment",
   "metadata": {},
   "outputs": [],
   "source": [
    "randint(1, 10)"
   ]
  },
  {
   "cell_type": "code",
   "execution_count": null,
   "id": "indian-despite",
   "metadata": {},
   "outputs": [],
   "source": [
    "random()"
   ]
  },
  {
   "cell_type": "code",
   "execution_count": null,
   "id": "pacific-heating",
   "metadata": {},
   "outputs": [],
   "source": [
    "Jason = \"Jason's name\""
   ]
  },
  {
   "cell_type": "code",
   "execution_count": null,
   "id": "distributed-psychology",
   "metadata": {},
   "outputs": [],
   "source": []
  },
  {
   "cell_type": "code",
   "execution_count": 1,
   "id": "hidden-farmer",
   "metadata": {},
   "outputs": [],
   "source": [
    "# import turtle # import a library named turtle 导入一个名叫turtle的库\n",
    "from turtle import setup, reset, bye, pu, pd, bk, fd, left, right, st, ht\n",
    "# from the turtle library import commands for use later\n",
    "# 从turtle库导入一些命令共随后使用\n",
    "\n",
    "# A commands actually is well organized block of codes for a certain task with\n",
    "# a specified name and some other information.\n",
    "# 一个命令实际上是一段为完成特定任务而精心组织的代码块，并且拥有\n",
    "# 一个确定的名字以及其它一些信息\n",
    "\n",
    "# For easy understanding, we called it Command. From today, we will call \n",
    "# it Function(Method).\n",
    "# 为了便于理解，我们之前一直称之为“命令”，从今天起，我们将称呼它为“方法”。\n",
    "\n",
    "# A library can be considered as a set of functions written and shared by \n",
    "# other programmers\n",
    "# 一个“库”可以被看成是其他程序员编写并分享的一系列的方法。\n",
    "\n",
    "# in your own program, you can use these functions just like the commands \n",
    "# you already learned before such as: print, input, random, randint, etc.\n",
    "# 在你自己的程序里，你可以像使用之前学过的print、input, random, randint\n",
    "# 等方法一样使用这些方法。\n",
    "\n",
    "# You can even write and naming your own commands and share them with others\n",
    "# 你甚至也可以编写命名你自己的方法并且分享给其他人。\n",
    "\n",
    "# We will learn how to write a function soon.\n",
    "# 我们不久将会学习如何编写自己的方法。"
   ]
  },
  {
   "cell_type": "code",
   "execution_count": 2,
   "id": "comic-grill",
   "metadata": {},
   "outputs": [],
   "source": [
    "setup(800, 400, 0, 0) # prepare a draw area with length and with are 500 and 400\n",
    "                      # respectively. 准备一个大小为500*400的绘图区"
   ]
  },
  {
   "cell_type": "code",
   "execution_count": 3,
   "id": "numeric-metallic",
   "metadata": {},
   "outputs": [],
   "source": [
    "reset() # pay attention to the orientation of a solid triangle in the drawing area.\n",
    "               # 注意绘图区内的一个实心三角形的朝向"
   ]
  },
  {
   "cell_type": "code",
   "execution_count": 4,
   "id": "motivated-fitting",
   "metadata": {},
   "outputs": [],
   "source": [
    "pu()           # penup: pick a pen and keep the pen untouched with the paper\n",
    "               # 挑选一只画笔并且保持画笔不接触绘图纸"
   ]
  },
  {
   "cell_type": "code",
   "execution_count": 5,
   "id": "closing-feeling",
   "metadata": {},
   "outputs": [],
   "source": [
    "bk(200)        # backward a certain distance 后退一定距离"
   ]
  },
  {
   "cell_type": "code",
   "execution_count": 6,
   "id": "artificial-tournament",
   "metadata": {},
   "outputs": [],
   "source": [
    "left(90)       # turn a given degree left to current orientation\n",
    "               # 在当前方向基础上往左转一定的角度"
   ]
  },
  {
   "cell_type": "code",
   "execution_count": 7,
   "id": "structural-underground",
   "metadata": {},
   "outputs": [],
   "source": [
    "fd(50)         # forward a certain distance 前进一定距离"
   ]
  },
  {
   "cell_type": "code",
   "execution_count": 8,
   "id": "alien-excellence",
   "metadata": {},
   "outputs": [],
   "source": [
    "pd()           # pen down: let the pen touch the paper and prepare to draw\n",
    "               # 让笔接触绘图纸准备绘图"
   ]
  },
  {
   "cell_type": "code",
   "execution_count": 9,
   "id": "focused-advantage",
   "metadata": {},
   "outputs": [],
   "source": [
    "right(90)      # turn a given degree right to current orientation\n",
    "               # 在当前方向基础上往右转一定的角度"
   ]
  },
  {
   "cell_type": "code",
   "execution_count": 10,
   "id": "internal-still",
   "metadata": {},
   "outputs": [],
   "source": [
    "fd(200)"
   ]
  },
  {
   "cell_type": "code",
   "execution_count": 11,
   "id": "brave-patent",
   "metadata": {},
   "outputs": [],
   "source": [
    "ht()           # hide the turtle(pointer triangle) 隐藏乌龟（表示方向的三角形）"
   ]
  },
  {
   "cell_type": "code",
   "execution_count": null,
   "id": "practical-daughter",
   "metadata": {},
   "outputs": [],
   "source": [
    "st()           # show the turtle(pointer triangle) 显示乌龟（表示方向的三角形）"
   ]
  },
  {
   "cell_type": "code",
   "execution_count": 12,
   "id": "fallen-conservative",
   "metadata": {},
   "outputs": [],
   "source": [
    "bye()          # close drawing and bye 结束绘图"
   ]
  },
  {
   "cell_type": "markdown",
   "id": "fuzzy-computer",
   "metadata": {},
   "source": [
    "Let the students to write codes to draw a rectangle with the length and with provided from `input` methods by completing the following programs."
   ]
  },
  {
   "cell_type": "code",
   "execution_count": null,
   "id": "attempted-bahrain",
   "metadata": {},
   "outputs": [],
   "source": [
    "setup(500, 400, 0, 0)\n",
    "reset()\n",
    "print(\"I am going to draw a rectangle, which size do you want?\")\n",
    "print(\"我要开始在屏幕上绘制一个矩形了，你想要什么尺寸的矩形？\")\n",
    "pu()\n",
    "length = input(\"Please provided the length of a rectangle: \")\n",
    "width = input(\"Please provide the width of the rectangle: \")\n",
    "\n",
    "#TODO: convert the string of length/width into integer of length\n",
    "#      将字符串形式的长、宽转换为数字（整数）形式的长和宽\n",
    "\n",
    "\n",
    "\n",
    "#TODO: replace \"True\" in next line with your own condition to check\n",
    "#       if the value can be drawn in the 500*400 draw area.    \n",
    "#      把下面if条件语句中的True替换为你自己的条件，以便来检查给定的\n",
    "#      长宽表示的矩形能否在500×400的绘图区域内绘制\n",
    "if True: # True here means this if block will always be executed and the \n",
    "         # corresponding else block will never be executed. \n",
    "         # True should be changed here.\n",
    "         # 这里的True表示这个if引导的代码块总会被执行，并且其对应的else代码块\n",
    "         # 总不会不执行。因此True需要被修改成符合实际的条件表达式。\n",
    "    print(\"the values in provided can not build a rectangle, will not draw\")\n",
    "    pass\n",
    "else: \n",
    "    pd()            # put down the pen, start to draw\n",
    "\n",
    "    #TODO: write lines of codes before ht() to complete the drawing.\n",
    "    #      在ht()那行代码前编写多行代码来完成绘制矩形的工作\n",
    "    \n",
    "    ht()            # hide the pointer.\n",
    "    print(\"Voila, I have drawn the rectangle on the screen! Did you see that?\")\n",
    "    print(\"瞧，我已经在屏幕上把你要的矩形画出来了，你看见了吗？\")"
   ]
  },
  {
   "cell_type": "code",
   "execution_count": null,
   "id": "minute-scenario",
   "metadata": {},
   "outputs": [],
   "source": [
    "bye()  # close "
   ]
  },
  {
   "cell_type": "markdown",
   "id": "bizarre-assurance",
   "metadata": {},
   "source": [
    "### Did you know?\n",
    "All the information presented by a screen of a monitor such as text, shapes, pictures, etc. is composed by many different tiny spots with certain colors. the numbers of the spots decides the resolution(the power of representing information one time) of a screen.\n",
    "一个显示器屏幕上能呈现出来的一切信息，诸如文字、图形和图片等，都是有许许多多不同颜色的小点点拼出来的。这些小点点的数量决定了一块屏幕的解析率（能一次展现的信息的多少）"
   ]
  },
  {
   "cell_type": "markdown",
   "id": "digital-consensus",
   "metadata": {},
   "source": [
    "### Exercise\n",
    "### Use the whole week to compelte the 3 exercises.\n",
    "\n",
    "1. The follow code block draws a square with side length 200 right in the center of a given drawn area. Please provide correct comments for each code line explaing its role right after the \"#\" character. The first comment is already provided as an example. 下面的一代码块可以在一个给定的绘图区内绘制边长为200的正方形。请你在每一行代码后的“#”字符后书写一行代码注释来解释这行代码的具体作用。作为示例，第一行代码的作用已经给出。\n",
    "\n",
    "   Hint: you can put each of the code line into a seperate cell, execute them in order and cell by cell, and observe the changes in the draw area.\n",
    "   提示：你可以把代码块里的代码一行一行的分开放到单独的单元格中，并且依次执行他们，在绘图区观察每一个单元格执行后的效果。"
   ]
  },
  {
   "cell_type": "code",
   "execution_count": null,
   "id": "apparent-remains",
   "metadata": {},
   "outputs": [],
   "source": [
    "# if you restarted this page, before run this code cell,\n",
    "# make sure that you executed the cell where turtle methods are imported in this page\n",
    "# 如果你重启了本页面，在执行本单元格的代码前，\n",
    "# 确保你已经执行了本页面中导入turtle库的诸多方法的那一个单元格\n",
    "\n",
    "setup(500, 400, 0, 0)    # prepare a draw area with size 500*400\n",
    "reset()                  # \n",
    "st()                     #\n",
    "pu()                     # \n",
    "bk(100)                  #\n",
    "left(90)                 # \n",
    "bk(100)                  # \n",
    "pd()                     # \n",
    "fd(200)                  # \n",
    "right(90)                # \n",
    "fd(200)                  # \n",
    "right(90)                # \n",
    "fd(200)                  # \n",
    "right(90)                # \n",
    "fd(200)                  # \n",
    "ht()                     #"
   ]
  },
  {
   "cell_type": "code",
   "execution_count": null,
   "id": "occasional-eight",
   "metadata": {},
   "outputs": [],
   "source": [
    "bye()                    # you can only close an opened draw area by executing \n",
    "                         # this bye() method. "
   ]
  },
  {
   "cell_type": "markdown",
   "id": "boring-milton",
   "metadata": {},
   "source": [
    "2. Try to write codes to draw all the three squares in a draw area like the following picture demostrates:\n",
    "   试着编写代码绘制如下图所示的绘图区内的三个正方形。\n",
    "   Requirements:\n",
    "       - All the three squares are absolutely located in the middle of the draw area whose size is 500*400;\n",
    "       - The side lengths of the three squares are: 250, 150, and 50, respectively.\n",
    "   要求：\n",
    "       - 所有的三个正方形都完全位于尺寸为500×400的绘图区域的中心；\n",
    "       - 三个正方形的边长依次为250，150，和50。\n",
    "   You can write as many codes as you want to complete this exercise. But just think if there should be and can be a solution which doesn't need that many lines of codes. write your thinking down as code comments at the end of your codes.\n",
    "   为了完成这个练习，你可以根据自己的需要编写任意行数的代码。但是，思考下有没有必要、以及有没有可能存在一种解决方案（办法），它并不需要写那么多行的代码，把你的思考写成代码注释附在代码末尾。\n",
    "   <img src = \"figures/L005_01_squares.png\" width = 500>\n",
    "   \n",
    "\n"
   ]
  },
  {
   "cell_type": "code",
   "execution_count": null,
   "id": "under-assurance",
   "metadata": {},
   "outputs": [],
   "source": [
    "# Start your codes here, you can write as many codes as you want\n",
    "# 从这里开始书写里的代码\n",
    "# and don't forget to hide the turtle pointer in the end.\n",
    "# 最后不要忘了隐藏表示乌龟的小三角形。\n",
    "\n",
    "\n",
    "\n",
    "\n",
    "\n",
    "\n",
    "\n",
    "\n",
    "\n",
    "\n",
    "\n",
    "\n",
    "\n",
    "\n",
    "\n",
    "# Write your thinking here (between 50 - 100 words) # 在这里写下你的思考(50-200字或单词期间)\n",
    "# your words should answer the questions listed below: 你的文字应该能回答下列三个问题\n",
    "#\n",
    "# 1. If it is possible to write less codes to complete the same task (drawing the three squares)\n",
    "#    是否可能通过更少的代码完成同样的绘制三个正方形的工作\n",
    "# 2. If the answer for question1 is Yes, where we can improve?\n",
    "#    如果上题的答案是肯定的，那么在哪些环节我们的代码可以改进？\n",
    "# 3. If it is necessary to do so, why?\n",
    "#    这样做（用更少的代码完成同样的任务）有没有必要，为什么？\n",
    "# \n",
    "# \n",
    "#\n",
    "#\n",
    "#\n",
    "#\n",
    "#\n",
    "#\n",
    "#\n",
    "#\n",
    "#\n",
    "#\n"
   ]
  },
  {
   "cell_type": "markdown",
   "id": "satisfactory-ozone",
   "metadata": {},
   "source": [
    "3. Use what you learned in this lecture and previous ones to draw whatever a picture(can be the combination of simple shapes) you would like, make a screenshot and send it to your teacher. Leave the codes for your drawing in the below cell. \n",
    "   用你在这节课上和以往的几节课上学到的知识来随心所欲地完成一次绘制（可以是各种简单图形的组合），将结果截图保存发送给你的老师。把生成这个图形的代码留在下面的单元格中。"
   ]
  },
  {
   "cell_type": "code",
   "execution_count": null,
   "id": "personal-retailer",
   "metadata": {},
   "outputs": [],
   "source": [
    "# Leave your codes for your drawing here\n",
    "# "
   ]
  }
 ],
 "metadata": {
  "kernelspec": {
   "display_name": "Python 3",
   "language": "python",
   "name": "python3"
  },
  "language_info": {
   "codemirror_mode": {
    "name": "ipython",
    "version": 3
   },
   "file_extension": ".py",
   "mimetype": "text/x-python",
   "name": "python",
   "nbconvert_exporter": "python",
   "pygments_lexer": "ipython3",
   "version": "3.8.5"
  }
 },
 "nbformat": 4,
 "nbformat_minor": 5
}
