{
 "cells": [
  {
   "cell_type": "markdown",
   "id": "relative-location",
   "metadata": {},
   "source": [
    "## Mid Term Exam 期中考试\n",
    "\n",
    "**Name**:____________________\n",
    "\n",
    "**Score**:_____________________"
   ]
  },
  {
   "cell_type": "markdown",
   "id": "d12f05dd",
   "metadata": {},
   "source": [
    "**Instructions**: \n",
    "\n",
    "1. You are required to use the knowledge only learned from previous lectures. 你仅能使用我们前期课堂上学过的知识来答题。\n",
    "2. You are allowed to use Internet but not allowed to ask for someone else's help through Internet. 可以使用互联网，但不能通过互联网寻求他人帮助。\n",
    "3. You are allowed to ask for your parents' help. Your parents may only give you oral direction; he or she cannot write the codes for you directly. 可以寻求爸爸妈妈的帮助，但是爸爸妈妈只能给你口头指导，不能代替你写代码\n",
    "4. You need to open your video and share your screen all the time so that your teacher can see what you are doing. 考试期间全程打开视频并分享你的屏幕好让老师知道你在做什么\n",
    "5. You may mute yourself. But if you have some questions to ask, you may unmute and talk to your teacher.正常情况下你应该静音，如果你有问题要询问老师，可以取消静音和老师对话。\n",
    "6. Once time is up, completely stop, change the file name to \"010_[yourname]_midterm_exam.ipynb\" and upload your file by slack 一旦时间结束，立即停止答题，将文件名修改为“010__[你的名字]_midterm.ipynb” 通过slack上传。\n",
    "\n",
    "\n",
    "**Notes**:\n",
    "\n",
    "1. There are five questions. 20 points for each. 一共有5道题目，每一题20分\n",
    "2. Total time: 120 minutes. 时间120分钟\n",
    "3. Except Question 5, you should not modify anywhere else in the codes provided other than the #TODO line. 除了#TODO 行之外，您不应修改提供给你的代码中的任何其他位置, 第5题除外。"
   ]
  },
  {
   "cell_type": "markdown",
   "id": "c7cd1f0b-8266-49f3-a77e-806bec2c40ce",
   "metadata": {},
   "source": [
    "<hr>\n",
    "\n",
    "### Question 1\n",
    "\n",
    "Complete the following codes so that the program can accept two inputs from the keyboard, attempt to convert the two inputs to integers, and output the sum of the two integers as the result.\n",
    "\n",
    "完成下面的代码使得程序能够：接受两次来自键盘的输入，试图将两次来自键盘的输入转化为整数，并将两个整数相加的和作为结果输出。"
   ]
  },
  {
   "cell_type": "code",
   "execution_count": null,
   "id": "e18eaa03-92c6-403c-a5bb-3aa87a9748b9",
   "metadata": {},
   "outputs": [],
   "source": [
    "## str1, str2 = None, None\n",
    "result = 0\n",
    "print(\"A simple addition calculator\")\n",
    "str1 = input(\"Please input first integer:\")\n",
    "str2 = input(\"Please input second integer:\")\n",
    "\n",
    "num1 = int(str1)\n",
    "num2 = int(str2)\n",
    "\n",
    "result = str1 + str2\n",
    "\n",
    "print(\"The sum of two inputs are: {}.\".format(result))"
   ]
  },
  {
   "cell_type": "markdown",
   "id": "f5a3939d-c70e-4026-a1a3-738837e64378",
   "metadata": {},
   "source": [
    "<hr>\n",
    "\n",
    "### Question 2\n",
    "Complete the following codes so that the program can generate two integers in the range 0-10 (excluding 0 and 10) in turn, compare the two integers, and then output which integer is larger and the difference. you need to prepare test data youself and test the modified codes. You do not need to note all test data you prepared in a cell.\n",
    "\n",
    "补全下面的代码使得程序能够：依次生成两个范围在0-10（不包括0和10）之间的的整数，比较这两个整数的大小，然后输出哪一个整数大，大多少。你需要自己准备足够的测试数据来测试你修改后的代码，但不需要在一个单元格里写出来你准备的测试数据。\n"
   ]
  },
  {
   "cell_type": "code",
   "execution_count": null,
   "id": "f67ce732-aaaf-47a0-950a-6bc314ab1339",
   "metadata": {},
   "outputs": [],
   "source": [
    "from random import randint\n",
    "min_num, max_num = 1, 9\n",
    "int1 = randint(min_num, max_num)\n",
    "int2 = randint(min_num, max_num)\n",
    "\n",
    "difference = int1 - int2\n",
    "print(\"the two integers are: {} and {}\".format(int1, int2))\n",
    "if difference > 0:\n",
    "    print(\"The first ingeter is larger, difference is {}\".format(difference))\n",
    "else:\n",
    "    if difference < 0:\n",
    "        print(\"The second ingeter is larger, difference is {}\".format(-1 * difference))\n",
    "    else:\n",
    "        print(\"The first ingeter is same, difference is {}\".format(difference))"
   ]
  },
  {
   "cell_type": "markdown",
   "id": "dd59fe4f-d225-4d84-a55a-b0196ff404d7",
   "metadata": {},
   "source": [
    "<hr>\n",
    "\n",
    "### Question 3\n",
    "Complete the following codes so that the program can generate a simple ruler like the following figure shows.\n",
    "完成以下代码，以便程序可以生成一个简单的标尺，如下图所示。\n",
    "\n",
    "**Note** The red dot is the center of the whole drawing area; the ruler is 500 pixels long in total; the distane between adjacent markers is 50 pixels long; there are 9 markers in total. \n",
    "\n",
    "**备注** 红点是整个绘图区域的中心； 标尺总长 500 像素； 相邻标记之间的距离为 50 像素长； 总共有 9 个标记。\n",
    "\n",
    "\n",
    "<img src = \"figures/L010_midterm_exam_q5.png\"/>"
   ]
  },
  {
   "cell_type": "code",
   "execution_count": 1,
   "id": "68c4b2bd-3fd1-4cf3-a743-2d153af394c2",
   "metadata": {},
   "outputs": [],
   "source": [
    "from turtle import setup, reset, left, right, pu, pd, fd, bk, st, ht, dot\n",
    "from turtle import goto, seth, speed, bye\n",
    "setup(600, 200, 0, 0)"
   ]
  },
  {
   "cell_type": "code",
   "execution_count": 2,
   "id": "e8929df5-066b-450f-b28d-d77e3bdcc8fd",
   "metadata": {},
   "outputs": [],
   "source": [
    "reset()\n",
    "line_length = 500\n",
    "dot(5, \"red\")\n",
    "pu()\n",
    "bk(line_length/2)\n",
    "pd()\n",
    "steps = 50\n",
    "length_drawn = 0\n",
    "marker_length = 10\n",
    "\n",
    "while length_drawn < line_length:\n",
    "    fd(steps)\n",
    "    left(90)\n",
    "    if length_drawn < 450:\n",
    "        fd(marker_length)\n",
    "        bk(marker_length)\n",
    "        right(90) \n",
    "    else:\n",
    "        pass\n",
    "    length_drawn = length_drawn + steps\n",
    "ht() "
   ]
  },
  {
   "cell_type": "markdown",
   "id": "f6bc9462-c670-4c17-bac5-542f6d87f131",
   "metadata": {},
   "source": [
    "<hr>\n",
    "\n",
    "### Question 4\n",
    "The following program tries to calculate the sum of all consecutive integers in a given range, please：\n",
    "\n",
    "下面的程序试图计算给定范围内所有连续整数的和，请:\n",
    "\n",
    "1. complete the code and run the program. and test it with the data given below, write the test result in the subsequent cells. If the program runs correctly, it will provide the outputs that are given in the test data; 完善代码后运行程序。并用下面给出的数据进行测试。程序运行正确时应该输出测试数据中给出的输出；\n",
    "\n",
    "2. Point out the imperfections of this program and give suggestions for improvement (text description is enough, no need to modify the program again); 指出这个程序不完善的地方并给出改进意见(文字描述即可，不需要再次修改程序）\n",
    "\n",
    "Test Data 测试数据：\n",
    "\n",
    "| smaller integer 较小的整数 | larger integer 较大的整数 |  Expected Output 期待的正确输出   |\n",
    "|:-----------:|:------------:|:--------------------------:|\n",
    "| 1  | 100  | 1+2+...+100=5050   |\n",
    "| 100  | 1  | Error: the second should be larger than first.|\n",
    "| 1  | 1000  | 1+2+...+1000=500500   |\n",
    "|1   | 2    | 1+2+...+2=3 |\n"
   ]
  },
  {
   "cell_type": "code",
   "execution_count": 6,
   "id": "a9d14934",
   "metadata": {},
   "outputs": [
    {
     "name": "stdout",
     "output_type": "stream",
     "text": [
      "Quick Sum of All Integers between Certain Range\n"
     ]
    },
    {
     "name": "stdin",
     "output_type": "stream",
     "text": [
      "please input the smaller integer: 1\n",
      "Please input the larger integer: 1\n"
     ]
    },
    {
     "name": "stdout",
     "output_type": "stream",
     "text": [
      "Error: the second should be larger than first.\n"
     ]
    }
   ],
   "source": [
    "print(\"Quick Sum of All Integers between Certain Range\")\n",
    "num_start = int(input(\"please input the smaller integer:\"))\n",
    "num_end = int(input(\"Please input the larger integer:\"))\n",
    "if num_end <= num_start:\n",
    "    print(\"Error: the second should be larger than first.\")\n",
    "else:\n",
    "    count = num_start\n",
    "    result = 0\n",
    "    while count <= num_end:\n",
    "        result += count\n",
    "        count += 1\n",
    "    print(\"{}+{}+...+{}={}\".format(num_start, num_start+1, num_end, result))"
   ]
  },
  {
   "cell_type": "code",
   "execution_count": null,
   "id": "81964391-4fee-476d-9ba5-f64d65141a7a",
   "metadata": {},
   "outputs": [],
   "source": [
    "# Write you answer for second part here 在这里写你对第二部分的回答\n",
    "# Low2, I think the \"p\" will be \"P\" like:num_start = int(input(\"Please input the smaller integer:\"))\n",
    "# While the small number is 1, big number is 2, it will be:1 + 2 + ... + 2 = 3."
   ]
  },
  {
   "cell_type": "markdown",
   "id": "7a610a63-4707-4d8c-8666-68af917636d3",
   "metadata": {},
   "source": [
    "<hr>\n",
    "\n",
    "### Question 5\n",
    "\n",
    "The method `randint` accepts two parameters representing the minimum and maximum possible values of the random number generated. It is also possible that these two （maximal and minimal) values are generated. The following program attempts to count how many times the method was run before it **first** generated the minimum value (0) and the maximum value (100), respectively. However, this program has many errors since line 13, please correct the errors in nexe code cell.\n",
    "\n",
    "随机数生成方法`randint`接受两个参数分别表示生成的随机数的最小和最大可能的值，其中最大和最小值也是有机会被生成的。下面的程序试图统计运行了随机数生成方法多少次才分别**首次**生成了最小值0和最大值10。但这段程序自第13行起就有不少错误，请你在随后的代码单元格中纠正错误。\n",
    "\n",
    "\n",
    "```python\n",
    "from random import randint\n",
    "min_num, max_num = 0, 10\n",
    "times_for_min_num = 0                  # 记录生成最小数的尝试次数\n",
    "times_for_max_num = 0                  # 记录生成最大数的尝试次数\n",
    "times_generated = 0                    # 记录当前已经尝试生成随机数的次数\n",
    "\n",
    "while True:\n",
    "    num_generated = randint(min_num, max_num)\n",
    "    times_generated += 1\n",
    "    print(\"In generation {:3}, generated num is {:3}\".format(times_generated, num_generated))\n",
    "    \n",
    "    # Above this line, codes are correct, don't modify them. 不要修改此处以上的代码，他们被认为没有错误。\n",
    "    # Below, there are erros, please correct them. 此行以下的代码有多处错误，请纠正错误。\n",
    "    if num_generated == min_num\n",
    "        times_for_min_num = times_generated\n",
    "    if num_generated = max_num:\n",
    "        times_for_min_num = times_generated\n",
    "    if times_for_min_num > 0 or times_for_max_num > 0:\n",
    "        pass\n",
    "        \n",
    "print(\"{} is generated in generation {}\".format(min_num, times_for_min_num)\n",
    "print(\"{} is generated in generation {}\".format(max_num, times_for_max_num)\n",
    "```"
   ]
  },
  {
   "cell_type": "code",
   "execution_count": 7,
   "id": "dba90473-2945-4af6-b560-43df6a07d6c8",
   "metadata": {},
   "outputs": [
    {
     "name": "stdout",
     "output_type": "stream",
     "text": [
      "In generation   1, generated num is   7\n",
      "In generation   2, generated num is   4\n",
      "In generation   3, generated num is   4\n",
      "In generation   4, generated num is   6\n",
      "In generation   5, generated num is   2\n",
      "In generation   6, generated num is   2\n",
      "In generation   7, generated num is   8\n",
      "In generation   8, generated num is   3\n",
      "In generation   9, generated num is   3\n",
      "In generation  10, generated num is   7\n",
      "In generation  11, generated num is  10\n",
      "In generation  12, generated num is   4\n",
      "In generation  13, generated num is   3\n",
      "In generation  14, generated num is   1\n",
      "In generation  15, generated num is   7\n",
      "In generation  16, generated num is   7\n",
      "In generation  17, generated num is   4\n",
      "In generation  18, generated num is   0\n",
      "0 is generated in generation 18\n",
      "10 is generated in generation 11\n"
     ]
    }
   ],
   "source": [
    "from random import randint\n",
    "min_num, max_num = 0, 10\n",
    "times_for_min_num = 0                  # 记录生成最小数的尝试次数\n",
    "times_for_max_num = 0                  # 记录生成最大数的尝试次数\n",
    "times_generated = 0                    # 记录当前已经尝试生成随机数的次数\n",
    "\n",
    "while True:\n",
    "    num_generated = randint(min_num, max_num)\n",
    "    times_generated += 1\n",
    "    print(\"In generation {:3}, generated num is {:3}\".format(times_generated, num_generated))\n",
    "    \n",
    "    # Above this line, codes are correct, don't modify them. 不要修改此处以上的代码，他们被认为没有错误。\n",
    "    # Below, there are erros, please correct them. 此行以下的代码有多处错误，请纠正错误。\n",
    "    if num_generated == min_num:\n",
    "        if times_for_min_num > 0:\n",
    "            pass\n",
    "        else:\n",
    "            times_for_min_num = times_generated\n",
    "    if num_generated == max_num:\n",
    "        if times_for_max_num > 0:\n",
    "            pass\n",
    "        else:\n",
    "            times_for_max_num = times_generated\n",
    "    if times_for_min_num > 0 and times_for_max_num > 0:\n",
    "        break\n",
    "        \n",
    "print(\"{} is generated in generation {}\".format(min_num, times_for_min_num))\n",
    "print(\"{} is generated in generation {}\".format(max_num, times_for_max_num))"
   ]
  },
  {
   "cell_type": "markdown",
   "id": "c39c3ec8-b260-44e6-b074-71d6fbb483a8",
   "metadata": {},
   "source": [
    "<hr>\n",
    "\n",
    "**You came to the end of the Exam.**\n",
    "\n",
    "**你已经来到了试卷末尾。**"
   ]
  }
 ],
 "metadata": {
  "kernelspec": {
   "display_name": "Python 3 (ipykernel)",
   "language": "python",
   "name": "python3"
  },
  "language_info": {
   "codemirror_mode": {
    "name": "ipython",
    "version": 3
   },
   "file_extension": ".py",
   "mimetype": "text/x-python",
   "name": "python",
   "nbconvert_exporter": "python",
   "pygments_lexer": "ipython3",
   "version": "3.9.0"
  }
 },
 "nbformat": 4,
 "nbformat_minor": 5
}
