{
 "cells": [
  {
   "cell_type": "markdown",
   "id": "included-education",
   "metadata": {},
   "source": [
    "## 第06讲 绘制正多边形（一)\n",
    "Lecture06 Draw Regular Polygons(Part 1)"
   ]
  },
  {
   "cell_type": "markdown",
   "id": "47304028-afd8-46df-8b69-71b9fbdfb230",
   "metadata": {
    "jp-MarkdownHeadingCollapsed": true,
    "tags": []
   },
   "source": [
    "### Problem 问题\n",
    "\n",
    "Use the methods in the `turtle` module to draw step by step as follows: 使用`turtle`模块里的方法按步骤绘制：\n",
    "\n",
    "1. Open a window(draw area) with both width and height 600; 打开宽高均为600的绘图窗口；\n",
    "2. Reset to make the turtle at the center and heading right; 重置海龟使其位于绘图区中央并朝向右侧；\n",
    "3. Lift up the pen; 抬起绘图笔；\n",
    "4. Move turtle 200 right and 60 backward to its current position(center of the draw area), keep the turtle heading right; 将海龟移动至当前位置(绘图区中央）的正右侧200和正后方60的位置，保持海龟仍然朝向右侧；\n",
    "5. Put down the pen, start to Draw; 放下绘图笔，准备绘图；\n",
    "6. Use **<span style=\"color:red\">red</span>** color, repeat **3** times: move forward 120, turn **120** degrees to left; 使用红色画笔，重复3次: 向前移动120后向左转120度；\n",
    "7. Use **<span style=\"color:orange\">orange</span>** color, repeat **4** times: move forward 120, turn **90** degrees to left; 使用橙色画笔，重复4次: 向前移动120后向左转90度；\n",
    "8. Use **<span style=\"color:yellow\">yellow</span>** color, repeat **5** times: move forward 120, turn **72** degrees to left; 使用黄色画笔，重复5次: 向前移动120后向左转72度；\n",
    "9. Use **<span style=\"color:green\">green</span>** color, repeat **6** times: move forward 120, turn **60** degrees to left; 使用绿色画笔，重复6次: 向前移动120后向左转60度；\n",
    "10. Use **<span style=\"color:cyan\">cyan</span>** color, repeat **7** times: move forward 120, turn **51.42857** degrees to left; 使用青色画笔，重复7次: 向前移动120后向左转51.42857度；\n",
    "11. Use **<span style=\"color:blue\">blue</span>** color, repeat **8** times: move forward 120, turn **45** degrees to left; 使用蓝色画笔，重复8次: 向前移动120后向左转45度；\n",
    "12. Use **<span style=\"color:purple\">purple</span>** color, repeat **9** times: move forward 120, turn **40** degrees to left; 使用紫色画笔，重复9次: 向前移动120后向左转40度；\n",
    "13. Use **<span style=\"color:black\">black</span>** color, repeat **10** times: move forward 120, turn **36** degrees to left; 使用黑色画笔，重复10次: 向前移动120后向左转36度；\n",
    "14. Hide turtle. 隐藏海龟图标。\n",
    "\n",
    "Finally, you will be get a figure like the following:\n",
    "\n",
    "<img src=\"figures/L006_01_regular_polygons.png\" width = 500>\n",
    "\n",
    "The figures drawn in turn are: regular triangle, regular quadrilateral (square), regular pentagon, regular hexagon, regular heptagon, regular octagon, regular nonagon, and regular decagon. 依次绘制出来的图形分别为：正三角形、正四边形（正方形）、正五边形、正六边形、正七边形、正八边形、正九边形、和正十边形。\n",
    "\n",
    "For each regular polygon, calculate the product of the number of sides and the angle of each turn. 对于每一个正多边形，计算边的数量和每一次转的角度的乘积。Take regular triangle as an example, the product is 3 * 120 = 360, where 3 is the number of sides(edges) and 120 is the degrees of each left turn。以正三角形为例，它的边数为3，每一次转120度，两者的乘积是3*120=360度。"
   ]
  },
  {
   "cell_type": "markdown",
   "id": "f9f70484-6376-4931-90fd-d86eca0986cd",
   "metadata": {
    "tags": []
   },
   "source": [
    "### Assignments 作业"
   ]
  },
  {
   "cell_type": "markdown",
   "id": "e9bb8f7e-7f1d-423e-a2b8-d4e1911ccf5e",
   "metadata": {},
   "source": [
    "1. 在不使用循环语句的条件下，按照要求一步一步完成本讲示例的编程，最终在绘图窗口里绘制出同样的正三、四、...、十边形。"
   ]
  },
  {
   "cell_type": "code",
   "execution_count": null,
   "id": "55fcb3c0-ecd9-405e-bbd0-a269180bf70f",
   "metadata": {},
   "outputs": [],
   "source": []
  },
  {
   "cell_type": "code",
   "execution_count": null,
   "id": "6d1163fb-34a0-4393-8906-0782d9006c5c",
   "metadata": {},
   "outputs": [],
   "source": []
  },
  {
   "cell_type": "markdown",
   "id": "bba2d9ba-df7a-44fe-a0c2-b3b4ad4420b3",
   "metadata": {},
   "source": [
    "2. 思考并用文字回答在绘制某一个正多边形的时候，为什么小海龟每次绘制的边的长度相同，每次转的度数也相同？如果改变海龟每次绘制的边长或者（和）改变每次转动的角度，那么还能绘制出正多边形吗？"
   ]
  },
  {
   "cell_type": "code",
   "execution_count": 1,
   "id": "138ad958-9cd2-4543-bd99-44b39a4f6558",
   "metadata": {
    "execution": {
     "iopub.execute_input": "2022-03-19T19:19:47.636708Z",
     "iopub.status.busy": "2022-03-19T19:19:47.636708Z",
     "iopub.status.idle": "2022-03-19T19:19:47.652364Z",
     "shell.execute_reply": "2022-03-19T19:19:47.652364Z"
    }
   },
   "outputs": [],
   "source": [
    "# \n",
    "#"
   ]
  },
  {
   "cell_type": "markdown",
   "id": "digital-consensus",
   "metadata": {},
   "source": [
    "3. 仿照本讲示例，绘制边长为50的**正二十边形**。海龟起始点同本讲示例。颜色任选。"
   ]
  },
  {
   "cell_type": "code",
   "execution_count": null,
   "id": "ea26b4cd-8b73-4f0d-87d6-256ad9732a53",
   "metadata": {},
   "outputs": [],
   "source": []
  },
  {
   "cell_type": "markdown",
   "id": "9ca5ecdf-36eb-4d41-bdac-130707951492",
   "metadata": {},
   "source": [
    "4. 仿照本讲示例，绘制边长为10的**正一百边形**。通过修改刚开始绘图时海龟的位置，使得绘制的正一百边形在绘图区域**左右**居中，颜色任选。"
   ]
  },
  {
   "cell_type": "code",
   "execution_count": null,
   "id": "d11874ff-1700-468e-8289-b9c69fa64eb5",
   "metadata": {},
   "outputs": [],
   "source": []
  }
 ],
 "metadata": {
  "kernelspec": {
   "display_name": "Python 3 (ipykernel)",
   "language": "python",
   "name": "python3"
  },
  "language_info": {
   "codemirror_mode": {
    "name": "ipython",
    "version": 3
   },
   "file_extension": ".py",
   "mimetype": "text/x-python",
   "name": "python",
   "nbconvert_exporter": "python",
   "pygments_lexer": "ipython3",
   "version": "3.9.0"
  }
 },
 "nbformat": 4,
 "nbformat_minor": 5
}
