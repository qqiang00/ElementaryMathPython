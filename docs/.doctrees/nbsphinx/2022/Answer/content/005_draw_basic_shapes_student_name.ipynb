{
 "cells": [
  {
   "cell_type": "markdown",
   "id": "included-education",
   "metadata": {},
   "source": [
    "## 第05讲 绘制简单图形\n",
    "Lecture05 Draw Simple Shapes"
   ]
  },
  {
   "cell_type": "markdown",
   "id": "f9f70484-6376-4931-90fd-d86eca0986cd",
   "metadata": {},
   "source": [
    "### Assignments 作业"
   ]
  },
  {
   "cell_type": "code",
   "execution_count": 1,
   "id": "7fd4d5c8-f718-4cd5-8f92-dc1a484a1c5a",
   "metadata": {
    "execution": {
     "iopub.execute_input": "2022-03-18T23:09:01.174652Z",
     "iopub.status.busy": "2022-03-18T23:09:01.174652Z",
     "iopub.status.idle": "2022-03-18T23:09:01.252791Z",
     "shell.execute_reply": "2022-03-18T23:09:01.252791Z"
    }
   },
   "outputs": [],
   "source": [
    "# import turtle # import a library named turtle 导入一个名叫turtle的库\n",
    "from turtle import setup, reset, bye, pu, pd, bk, fd, left, right, st, ht\n",
    "# from turtle import penup, pendown, backward, forward, showturtle, hideturtle"
   ]
  },
  {
   "cell_type": "markdown",
   "id": "digital-consensus",
   "metadata": {},
   "source": [
    "1. The follow code block draws a square with side length 200 right in the center of a given drawn area. Please provide correct comments for each code line explaing its role right after the \"#\" character. The first comment is already provided as an example. 下面的一代码块可以在一个给定的绘图区内绘制边长为200的正方形。请你在每一行代码后的“#”字符后书写一行代码注释来解释这行代码的具体作用。作为示例，第一行代码的作用已经给出。\n",
    "\n",
    "   Hint: you can put each of the code line into a seperate cell, execute them in order and cell by cell, and observe the changes in the draw area.\n",
    "   提示：你可以把代码块里的代码一行一行的分开放到单独的单元格中，并且依次执行他们，在绘图区观察每一个单元格执行后的效果。"
   ]
  },
  {
   "cell_type": "code",
   "execution_count": 2,
   "id": "apparent-remains",
   "metadata": {
    "execution": {
     "iopub.execute_input": "2022-03-18T23:09:01.252791Z",
     "iopub.status.busy": "2022-03-18T23:09:01.252791Z",
     "iopub.status.idle": "2022-03-18T23:09:03.805454Z",
     "shell.execute_reply": "2022-03-18T23:09:03.805454Z"
    }
   },
   "outputs": [],
   "source": [
    "# if you restarted this page, before run this code cell,\n",
    "# make sure that you executed the cell where turtle methods are imported in this page\n",
    "# 如果你重启了本页面，在执行本单元格的代码前，\n",
    "# 确保你已经执行了本页面中导入turtle库的诸多方法的那一个单元格\n",
    "\n",
    "setup(500, 400, 0, 0)    # prepare a draw area with size 500*400\n",
    "reset()                  # 将所有内容清空\n",
    "st()                     # 显示乌龟\n",
    "pu()                     # 将画笔提起\n",
    "bk(100)                  # 后退100像素\n",
    "left(90)                 # 左转90度\n",
    "bk(100)                  # 后退100像素\n",
    "pd()                     # 将画笔放到纸上准备绘图\n",
    "fd(200)                  # 前进200像素\n",
    "right(90)                # 右转90度\n",
    "fd(200)                  # 前进200像素\n",
    "right(90)                # 右转90度\n",
    "fd(200)                  # 前进200像素\n",
    "right(90)                # 右转90度\n",
    "fd(200)                  # 前进200像素\n",
    "ht()                     # 隐藏乌龟"
   ]
  },
  {
   "cell_type": "code",
   "execution_count": 3,
   "id": "occasional-eight",
   "metadata": {
    "execution": {
     "iopub.execute_input": "2022-03-18T23:09:03.805454Z",
     "iopub.status.busy": "2022-03-18T23:09:03.805454Z",
     "iopub.status.idle": "2022-03-18T23:09:03.848291Z",
     "shell.execute_reply": "2022-03-18T23:09:03.848291Z"
    }
   },
   "outputs": [],
   "source": [
    "bye()                    # you can only close an opened draw area by executing \n",
    "                         # this bye() method. "
   ]
  },
  {
   "cell_type": "markdown",
   "id": "boring-milton",
   "metadata": {},
   "source": [
    "2. 1). Try to write codes to draw all the three squares in a draw area like the following picture demostrates:\n",
    "   试着编写代码绘制如下图所示的绘图区内的三个正方形。\n",
    "   Requirements: 要求：\n",
    "     - a) All the three squares are absolutely located in the middle of the draw area whose size is 600*400; 所有的三个正方形都完全位于尺寸为600×400的绘图区域的中心；\n",
    "     - b) The side lengths of the three squares are: 250, 150, and 50, respectively. 三个正方形的边长依次为250，150，和50。\n",
    "\n",
    "   You can write as many codes as you want to complete this exercise. But just think if there should be and can be a solution which doesn't need that many lines of codes. write your thinking down as code comments at the end of your codes. 为了完成这个作业，你可以根据自己的需要编写任意行数的代码。\n",
    "   \n",
    "   2). 思考下有没有必要、以及有没有可能存在一种解决方案（办法），它并不需要写那么多行的代码，回答下面的问题：\n",
    "      - a). If it is possible to write less codes to complete the same task (drawing the three squares) 是否可能通过更少的代码完成同样的绘制三个正方形的工作  \n",
    "      - b). If the answer for previous question is Yes, where can we improve? 如果上题的答案是肯定的，那么在哪些环节我们的代码可以改进？   \n",
    "      - c). If it is necessary to do so, why? 这样做（用更少的代码完成同样的任务）有没有必要，为什么？\n",
    "   <br>\n",
    "      <img src = \"../../Notonline/figures/L005_01_squares.png\" width = 500>"
   ]
  },
  {
   "cell_type": "code",
   "execution_count": 4,
   "id": "under-assurance",
   "metadata": {
    "execution": {
     "iopub.execute_input": "2022-03-18T23:09:03.848291Z",
     "iopub.status.busy": "2022-03-18T23:09:03.848291Z",
     "iopub.status.idle": "2022-03-18T23:09:04.317185Z",
     "shell.execute_reply": "2022-03-18T23:09:04.317185Z"
    }
   },
   "outputs": [
    {
     "ename": "Terminator",
     "evalue": "",
     "output_type": "error",
     "traceback": [
      "\u001b[1;31m---------------------------------------------------------------------------\u001b[0m",
      "\u001b[1;31mTerminator\u001b[0m                                Traceback (most recent call last)",
      "Input \u001b[1;32mIn [4]\u001b[0m, in \u001b[0;36m<cell line: 6>\u001b[1;34m()\u001b[0m\n\u001b[0;32m      1\u001b[0m \u001b[38;5;66;03m# Start your codes here, you can write as many codes as you want\u001b[39;00m\n\u001b[0;32m      2\u001b[0m \u001b[38;5;66;03m# 从这里开始书写里的代码\u001b[39;00m\n\u001b[0;32m      3\u001b[0m \u001b[38;5;66;03m# and don't forget to hide the turtle pointer in the end.\u001b[39;00m\n\u001b[0;32m      4\u001b[0m \u001b[38;5;66;03m# 最后不要忘了隐藏表示乌龟的小三角形。\u001b[39;00m\n\u001b[1;32m----> 6\u001b[0m \u001b[43msetup\u001b[49m\u001b[43m(\u001b[49m\u001b[38;5;241;43m600\u001b[39;49m\u001b[43m,\u001b[49m\u001b[43m \u001b[49m\u001b[38;5;241;43m400\u001b[39;49m\u001b[43m,\u001b[49m\u001b[43m \u001b[49m\u001b[38;5;241;43m0\u001b[39;49m\u001b[43m,\u001b[49m\u001b[43m \u001b[49m\u001b[38;5;241;43m0\u001b[39;49m\u001b[43m)\u001b[49m\n\u001b[0;32m      7\u001b[0m reset()\n\u001b[0;32m      8\u001b[0m pu()\n",
      "File \u001b[1;32m<string>:5\u001b[0m, in \u001b[0;36msetup\u001b[1;34m(width, height, startx, starty)\u001b[0m\n",
      "\u001b[1;31mTerminator\u001b[0m: "
     ]
    }
   ],
   "source": [
    "# Start your codes here, you can write as many codes as you want\n",
    "# 从这里开始书写里的代码\n",
    "# and don't forget to hide the turtle pointer in the end.\n",
    "# 最后不要忘了隐藏表示乌龟的小三角形。\n",
    "\n",
    "setup(600, 400, 0, 0)\n",
    "reset()\n",
    "pu()\n",
    "bk(25)\n",
    "pd()\n",
    "left(90)\n",
    "fd(25)\n",
    "right(90)\n",
    "fd(50)\n",
    "right(90)\n",
    "fd(50)\n",
    "right(90)\n",
    "fd(50)\n",
    "right(90)\n",
    "fd(25)\n",
    "left(90)\n",
    "pu()\n",
    "fd(50)\n",
    "pd()\n",
    "right(90)\n",
    "fd(75)\n",
    "right(90)\n",
    "fd(150)\n",
    "right(90)\n",
    "fd(150)\n",
    "right(90)\n",
    "fd(150)\n",
    "right(90)\n",
    "fd(75)\n",
    "left(90)\n",
    "pu()\n",
    "fd(50)\n",
    "right(90)\n",
    "pd()\n",
    "fd(125)\n",
    "right(90)\n",
    "fd(250)\n",
    "right(90)\n",
    "fd(250)\n",
    "right(90)\n",
    "fd(250)\n",
    "right(90)\n",
    "fd(125)\n",
    "ht()"
   ]
  },
  {
   "cell_type": "markdown",
   "id": "54fee764-a99b-4819-9d57-ac08995d2f1e",
   "metadata": {},
   "source": [
    "Write your thinking here (between 50 - 100 words) # 在这里写下你的思考(50-200字或单词期间)\n",
    "your words should answer the questions listed below: 你的文字应该能回答下列三个问题"
   ]
  },
  {
   "cell_type": "code",
   "execution_count": 5,
   "id": "80330173-a004-473d-9b6f-d84ff53db835",
   "metadata": {
    "execution": {
     "iopub.execute_input": "2022-03-18T23:09:04.317185Z",
     "iopub.status.busy": "2022-03-18T23:09:04.317185Z",
     "iopub.status.idle": "2022-03-18T23:09:04.332799Z",
     "shell.execute_reply": "2022-03-18T23:09:04.332799Z"
    }
   },
   "outputs": [],
   "source": [
    "# 1. If it is possible to write less codes to complete the same task (drawing the three squares)\n",
    "#    是否可能通过更少的代码完成同样的绘制三个正方形的工作\n",
    "#    我觉得可以用一个命令，将正方形的四个顶点定位，然后用一个命令将它们连起来。\n",
    "#"
   ]
  },
  {
   "cell_type": "code",
   "execution_count": 6,
   "id": "aa2f4d96-0953-42de-8b86-f7d63f04aa01",
   "metadata": {
    "execution": {
     "iopub.execute_input": "2022-03-18T23:09:04.332799Z",
     "iopub.status.busy": "2022-03-18T23:09:04.332799Z",
     "iopub.status.idle": "2022-03-18T23:09:04.348419Z",
     "shell.execute_reply": "2022-03-18T23:09:04.348419Z"
    }
   },
   "outputs": [],
   "source": [
    "# 2. If the answer for question1 is Yes, where we can improve?\n",
    "#    如果上题的答案是肯定的，那么在哪些环节我们的代码可以改进？\n",
    "#    在right(···)，fd(···)时，可以改成设置四个顶点，再用一个命令将四个顶点连起来。\n",
    "#"
   ]
  },
  {
   "cell_type": "code",
   "execution_count": 7,
   "id": "cdbbff36-aa54-4bbe-8397-7a386890b46d",
   "metadata": {
    "execution": {
     "iopub.execute_input": "2022-03-18T23:09:04.348419Z",
     "iopub.status.busy": "2022-03-18T23:09:04.348419Z",
     "iopub.status.idle": "2022-03-18T23:09:04.364175Z",
     "shell.execute_reply": "2022-03-18T23:09:04.364175Z"
    }
   },
   "outputs": [],
   "source": [
    "# 3. If it is necessary to do so, why?\n",
    "#    这样做（用更少的代码完成同样的任务）有没有必要，为什么？\n",
    "#    这样做（用更少的代码完成同样的任务）有必要，因为可以节约时间。\n",
    "#"
   ]
  },
  {
   "cell_type": "markdown",
   "id": "satisfactory-ozone",
   "metadata": {},
   "source": [
    "3. Use what you learned in this lecture and previous ones to draw whatever a picture(can be the combination of simple shapes) you would like, make a screenshot and send it to your teacher. Leave the codes for your drawing in the below cell. \n",
    "   用你在这节课上和以往的几节课上学到的知识来随心所欲地完成一次绘制（可以是各种简单图形的组合），将结果截图保存发送给你的老师。把生成这个图形的代码留在下面的单元格中。"
   ]
  },
  {
   "cell_type": "code",
   "execution_count": 8,
   "id": "personal-retailer",
   "metadata": {
    "execution": {
     "iopub.execute_input": "2022-03-18T23:09:04.364175Z",
     "iopub.status.busy": "2022-03-18T23:09:04.364175Z",
     "iopub.status.idle": "2022-03-18T23:09:08.283084Z",
     "shell.execute_reply": "2022-03-18T23:09:08.283084Z"
    }
   },
   "outputs": [],
   "source": [
    "# Leave your codes for your drawing here\n",
    "from turtle import setup, reset, bye, pu, pd, bk, fd, left, right, st, ht\n",
    "setup(600, 500, 0, 0)\n",
    "reset()\n",
    "pu()\n",
    "bk(100)\n",
    "left(90)\n",
    "fd(50)\n",
    "pd()\n",
    "right(60)\n",
    "fd(175)\n",
    "right(60)\n",
    "fd(175)\n",
    "right(150)\n",
    "fd(303)\n",
    "pu()\n",
    "left(180)\n",
    "fd(50)\n",
    "pd()\n",
    "right(90)\n",
    "fd(175)\n",
    "left(90)\n",
    "fd(200)\n",
    "left(90)\n",
    "fd(175)\n",
    "ht()"
   ]
  },
  {
   "cell_type": "markdown",
   "id": "0998e62d-47b0-4a19-bca5-0970c3f0ab5e",
   "metadata": {},
   "source": [
    "4. Write down all the names and role of methods you saw in the lecture1-4. an example `print` is given below:把你在第1讲至第4讲期间见到过的所有方法的名字和它们的作用写在下面"
   ]
  },
  {
   "cell_type": "code",
   "execution_count": 9,
   "id": "6b42ec7f-4a23-4046-9140-829ada95fa73",
   "metadata": {
    "execution": {
     "iopub.execute_input": "2022-03-18T23:09:08.283084Z",
     "iopub.status.busy": "2022-03-18T23:09:08.283084Z",
     "iopub.status.idle": "2022-03-18T23:09:08.298774Z",
     "shell.execute_reply": "2022-03-18T23:09:08.298774Z"
    }
   },
   "outputs": [],
   "source": [
    "# 1. print: print something on the screen"
   ]
  },
  {
   "cell_type": "code",
   "execution_count": 10,
   "id": "0d8ded9e-3033-46be-bf36-c5e33f879292",
   "metadata": {
    "execution": {
     "iopub.execute_input": "2022-03-18T23:09:08.298774Z",
     "iopub.status.busy": "2022-03-18T23:09:08.298774Z",
     "iopub.status.idle": "2022-03-18T23:09:08.314372Z",
     "shell.execute_reply": "2022-03-18T23:09:08.314372Z"
    }
   },
   "outputs": [],
   "source": [
    "# 2. input(): lets you reply to the computer"
   ]
  },
  {
   "cell_type": "code",
   "execution_count": 11,
   "id": "34a550c9-d12d-477f-b31e-b181a9563019",
   "metadata": {
    "execution": {
     "iopub.execute_input": "2022-03-18T23:09:08.314372Z",
     "iopub.status.busy": "2022-03-18T23:09:08.314372Z",
     "iopub.status.idle": "2022-03-18T23:09:08.329988Z",
     "shell.execute_reply": "2022-03-18T23:09:08.329988Z"
    }
   },
   "outputs": [],
   "source": [
    "# 3. random(): chooses a decimal number > 0 but < 1"
   ]
  },
  {
   "cell_type": "code",
   "execution_count": 12,
   "id": "eb7b1966-59fd-4e51-9b68-ca94505778eb",
   "metadata": {
    "execution": {
     "iopub.execute_input": "2022-03-18T23:09:08.329988Z",
     "iopub.status.busy": "2022-03-18T23:09:08.329988Z",
     "iopub.status.idle": "2022-03-18T23:09:08.345565Z",
     "shell.execute_reply": "2022-03-18T23:09:08.345565Z"
    }
   },
   "outputs": [],
   "source": [
    "# 4. randint(0, 10): chooses a random integer between 0 and 10"
   ]
  },
  {
   "cell_type": "code",
   "execution_count": 13,
   "id": "877fb2fd-bc04-4e1a-977e-375e86fa97bb",
   "metadata": {
    "execution": {
     "iopub.execute_input": "2022-03-18T23:09:08.345565Z",
     "iopub.status.busy": "2022-03-18T23:09:08.345565Z",
     "iopub.status.idle": "2022-03-18T23:09:08.361238Z",
     "shell.execute_reply": "2022-03-18T23:09:08.361238Z"
    }
   },
   "outputs": [],
   "source": [
    "# 5. int(): turns what's inside the brackets into integer"
   ]
  }
 ],
 "metadata": {
  "kernelspec": {
   "display_name": "Python 3 (ipykernel)",
   "language": "python",
   "name": "python3"
  },
  "language_info": {
   "codemirror_mode": {
    "name": "ipython",
    "version": 3
   },
   "file_extension": ".py",
   "mimetype": "text/x-python",
   "name": "python",
   "nbconvert_exporter": "python",
   "pygments_lexer": "ipython3",
   "version": "3.9.0"
  }
 },
 "nbformat": 4,
 "nbformat_minor": 5
}
