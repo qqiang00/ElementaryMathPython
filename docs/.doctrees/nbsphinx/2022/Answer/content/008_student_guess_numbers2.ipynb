{
 "cells": [
  {
   "cell_type": "markdown",
   "id": "relative-location",
   "metadata": {},
   "source": [
    "## 第08讲 猜数字（二）\n",
    "Lecture08 Guess Numbers(Part 2)"
   ]
  },
  {
   "cell_type": "markdown",
   "id": "d12f05dd",
   "metadata": {},
   "source": [
    "### Problem 问题描述"
   ]
  },
  {
   "cell_type": "markdown",
   "id": "c7cd1f0b-8266-49f3-a77e-806bec2c40ce",
   "metadata": {},
   "source": [
    "Write a program to play a number guessing game with the computer. Here is how the game works: 编写一个程序和计算机玩一个猜数字的游戏。具体流程如下：\n",
    "\n",
    "1. let the computer **randomly** generate an integer in the range of 0-9 (both included), this number is known only by the computer itself; 让计算机**随机**生成一个范围在0-9之间的整数（包括这两个整数），这个数字只有计算机自己知道；\n",
    "2. as the person who write and run this program, you try to guess what the number is and tell the computer the number by input from keyboard;作为编写并运行这个程序的你尝试着猜一猜这个数字是什么，把你猜的数字通过键盘输入告诉计算机；\n",
    "3. when the computer receives your input, it compares it with the number it generates. If two values are equal, the computer outputs: \"Congratulations, you are right!\", and the program ends; 计算机接收到你的输入后，把它和自己生成的数进行比较，如果一样，计算机输出：“恭喜你，你猜对了!”，程序运行结束；\n",
    "4. If two values are not equal, the computer will let you try again and again until you hit the number; 如果两个数不一样，计算机会让你反复继续尝试直到你猜中那个数字；\n",
    "5. When you did hit the number, and the computer asks you to continue to guess, you can also choose not to play. At this time, you only need to input one of the following codes: \"I don't want to play anymore\", \"I quit\", \"My Mom called me home for dinner\", \"Bye\", \"bye\". When the computer receives it, it outputs \"Unfortunately, you didn't guess it, let's play next time.\" on the screen, and then the program ends；当你没猜中，计算机让你继续猜的时候，你也可以选择不玩了，此时你只需要在输入数字的输入框内输入任意一条下面的信息：\"不玩了\"、\"不猜了\"、\"我妈喊我回家吃饭了\"、\"Bye\"、\"bye\"。当计算机接收到你这样的信息后，在屏幕上输出\"很遗憾，你没有猜出来，下次再玩吧\"，然后程序运行结束。"
   ]
  },
  {
   "cell_type": "markdown",
   "id": "0ff0c340-0c49-42c1-96a8-1f109eed1e67",
   "metadata": {},
   "source": [
    "### Solution 解决方案"
   ]
  },
  {
   "cell_type": "code",
   "execution_count": 22,
   "id": "6cf0130b-541a-4fa3-8959-4b44a5082a17",
   "metadata": {},
   "outputs": [
    {
     "name": "stdout",
     "output_type": "stream",
     "text": [
      "我是你的小助手，我想和你玩一个猜数字的游戏。\n",
      "我会从0-9之间随便挑出一个数字，你可以反复猜直到才对为止\n",
      "如果你不想猜了，可以在输数字的地方输入下面任意一句，我就知道你不想玩了。\n",
      "[\"I don't want to play anymore\", 'I quit', 'My mom called me home for dinner', 'Bye', 'bye', '不玩了', '不猜了', '我妈喊我回家吃饭了']\n"
     ]
    },
    {
     "name": "stdin",
     "output_type": "stream",
     "text": [
      "我选好了，现在你来猜吧(0-9): 3\n",
      "没猜对，继续猜: 4\n",
      "没猜对，继续猜: 5\n",
      "没猜对，继续猜: 6\n",
      "没猜对，继续猜: 7\n",
      "没猜对，继续猜: 8\n",
      "没猜对，继续猜: 9\n",
      "没猜对，继续猜: 1\n",
      "没猜对，继续猜: 2\n"
     ]
    },
    {
     "name": "stdout",
     "output_type": "stream",
     "text": [
      "恭喜你，你猜对了。\n",
      "猜数字游戏结束。\n"
     ]
    }
   ],
   "source": [
    "from time import sleep            \n",
    "from random import randint\n",
    "\n",
    "min_num, max_num = 0, 9\n",
    "\n",
    "# codes 是一个 code 的复数形式\n",
    "codes = [\"I don't want to play anymore\", \n",
    "         \"I quit\", \"My mom called me home for dinner\", \n",
    "         \"Bye\", \n",
    "         \"bye\", \n",
    "         \"不玩了\", \n",
    "         \"不猜了\", \n",
    "         \"我妈喊我回家吃饭了\"\n",
    "        ]\n",
    "\n",
    "print(\"我是你的小助手，我想和你玩一个猜数字的游戏。\")\n",
    "print(\"我会从{}-{}之间随便挑出一个数字，你可以反复猜直到才对为止\".format(min_num, max_num))\n",
    "print(\"如果你不想猜了，可以在输数字的地方输入下面任意一句，我就知道你不想玩了。\")\n",
    "print(codes)\n",
    "num_computer_generated = randint(min_num, max_num)\n",
    "your_guess = input(\"我选好了，现在你来猜吧({}-{}):\".format(min_num, max_num))\n",
    "\n",
    "while True:\n",
    "    if your_guess in codes:\n",
    "        print(\"很遗憾，你没有猜出来，下次再玩吧。\")\n",
    "        break\n",
    "    \n",
    "    else:\n",
    "        num_you_guessed = int(your_guess)                 # 尝试把你的输入变成一个数字\n",
    "        if num_you_guessed == num_computer_generated:\n",
    "            print(\"恭喜你，你猜对了。\")\n",
    "            break\n",
    "        else:\n",
    "            your_guess = input(\"没猜对，继续猜:\")\n",
    "    \n",
    "print(\"猜数字游戏结束。\")"
   ]
  },
  {
   "cell_type": "markdown",
   "id": "864412da-25c3-4e65-b082-48907740b5e5",
   "metadata": {},
   "source": [
    "### Assignments 作业"
   ]
  },
  {
   "cell_type": "markdown",
   "id": "e057088c-ca30-4242-9738-49fe51746328",
   "metadata": {},
   "source": [
    "1. 运行下面三段程序代码，观察各自的输出结果，说出他们的相同点和不同点，你喜欢哪一种？为什么？"
   ]
  },
  {
   "cell_type": "code",
   "execution_count": 18,
   "id": "6e0d1f78-32b5-4b20-ba30-025998224e7e",
   "metadata": {},
   "outputs": [
    {
     "name": "stdout",
     "output_type": "stream",
     "text": [
      "I love China.\n"
     ]
    }
   ],
   "source": [
    "# 程序代码 1\n",
    "country = \"China\"\n",
    "print(\"I love \" + country + \".\")"
   ]
  },
  {
   "cell_type": "code",
   "execution_count": 19,
   "id": "71709d00-41c7-4bbb-90da-355d11313d11",
   "metadata": {},
   "outputs": [
    {
     "name": "stdout",
     "output_type": "stream",
     "text": [
      "I love China .\n"
     ]
    }
   ],
   "source": [
    "# 程序代码 2\n",
    "country = \"China\"\n",
    "print(\"I love\", country, \".\")"
   ]
  },
  {
   "cell_type": "code",
   "execution_count": 20,
   "id": "c3f6014a-02e5-4c5d-9425-4858939dc840",
   "metadata": {},
   "outputs": [
    {
     "name": "stdout",
     "output_type": "stream",
     "text": [
      "I love China.\n"
     ]
    }
   ],
   "source": [
    "# 程序代码 3\n",
    "country = \"China\"\n",
    "print(\"I love {}.\".format(country))"
   ]
  },
  {
   "cell_type": "code",
   "execution_count": 21,
   "id": "5e8c62db-3039-4e89-b523-f53446eab29d",
   "metadata": {},
   "outputs": [],
   "source": [
    "# Your answer here\n"
   ]
  },
  {
   "cell_type": "markdown",
   "id": "2fb9f6a2-23ab-4682-9644-22d1c5a473e0",
   "metadata": {},
   "source": [
    "2. Perfect number guessing game 1: At present, our number guessing game program can only generate a certain number between 0 and 9(both included). Many players are not satisfied with only guessing numbers smaller than or equal to 9. They want to challenge this number guessing game with much lager number. 完善猜数字游戏一：目前我们的猜数字游戏程序只能固定生成0-9这两个数之间（包括）的某一个数，许多玩家不满意只猜比9小的数，他们希望挑战的更大数字范围的猜数字游戏。\n",
    "\n",
    "    Please modify the solution code in this lecture or the code completed in previous question。 The program will allow a player to tell the computer the maximum upper limit of the random number (such as 100). The player tell the computer by keyboard input before the game starts. It should be noted that, in order to control the difficulty of the game, the number required by the program must be above 20 (inclusive) and below 1000 (inclusive), otherwise the computer will ask you to re-enter until this requirement is met. Then the computer randomly generates a random number greater than or equal to 0 and less than or equal to the number you give, and let the player guess the number. Please write the complete code in the code cell below. 请你修改示例程序，让猜数字游戏程序可以让猜数字的人在游戏开始前通过键盘输入来告诉计算机能够生成的随机数的最大上限（比如100）。需要注意的是，为了控制游戏难度，程序要求输入的这个数必须是20（含）以上，1000（含）一下，否则计算机会让你重新输入直到满足这个要求。随后计算机随机生成大于等于0且小于等于你给定的这个数之内的随机数，让玩家猜这个数。请将完整的代码写在下面的代码单元格里。\n",
    "   \n"
   ]
  },
  {
   "cell_type": "code",
   "execution_count": null,
   "id": "76d30dc6-71c5-4d7c-ac65-3b734f1b24bd",
   "metadata": {},
   "outputs": [],
   "source": [
    "# 在这里输入你完善后的程序代码\n"
   ]
  },
  {
   "cell_type": "markdown",
   "id": "9710d397-c1b1-4b0a-a502-440d97ed1ce6",
   "metadata": {},
   "source": [
    "3. Perfect number guessing game 2: Currently, our number guessing game will output same information (\"Unfortunately, you didn't guess it, let's play next time\")  when a player don't want guess anymore. Actually, this is not always reasonable, especially when the player does not make a single guess at all. In this situation, the game should not output that information. 完善猜数字游戏二：目前我们的猜数字游戏程序在任何时候当玩家输入表示不想猜的代码后，程序都会输出相同的信息\"很遗憾，你没有猜出来，下次再玩吧。\"并退出。这在某些情况下是不合理的。比如说，当玩家一次都没有猜就不想猜的时候，程序不应该输出\"很遗憾，你没有猜出来，下次再玩吧。\"。\n",
    "\n",
    "   \n",
    "   lease modify the solution code in this lecture or the code completed in previous question to add the following features to the game: when the times that a player guesses does not reach 3, the game will output \"you only guessed {} times, are you really want to quit?\", where {} represents the times that the player guessed. Provide a box to let player answer the question. If the player answers(by typing on keyboard) one of the following words: \"yes\", \"Yes\", \"是\", and \"真的不想猜了\", the game will output \"It's a bit disappointing, tell me if you want to play in the future.\", the the game terminates. If the player's answer is not in the list, then let the game continue. 请你在示例程序或者上一题已经完成的程序上做修改，实现下述功能：当玩家还没有猜满**3**次的时候想退出时，程序提示玩家\"你才猜了{}次，你真的不想猜了？\"({}表示当前已经猜了的次数），并提供一个输入框供玩家输入他们的回答。当程序接收到的回答是“yes\",\"Yes\",“是”,\"真的不想猜了\"中的某一个时，表示玩家确实不想玩了，此时程序输出类似“有点扫兴呢，下次你想玩的时候再玩吧\"，随后程序运行结束；如果程序收到的回答不在设计的几个之内，则让玩家继续猜。\n",
    "   \n",
    "   \n",
    "    More specially, if a player want to stop the game before making the first guess, the game will output the information \"you have not make the first guess\" instead of \"You only guessed 0 times, are you really want to quit?\". Actually, for this scenario, you can customize the response youself as long as it fits the scenario.   特别的，如果玩家一次都没有猜就不想玩时，可以将计算机的提示修改为：\"你一次都没猜呢\"。你可以按照自己的喜好来设计这些提示信息，只要其符合当时的场景即可。"
   ]
  },
  {
   "cell_type": "code",
   "execution_count": null,
   "id": "35d03e6c-6ac6-4215-9778-dceed0e2c797",
   "metadata": {},
   "outputs": [],
   "source": [
    "# 在这里输入你完善后的程序代码\n"
   ]
  },
  {
   "cell_type": "markdown",
   "id": "7e6e8421-79d4-4f6f-b893-35822b89ae50",
   "metadata": {},
   "source": [
    "4. Perfect Number Guessing Game 3: Many children saied that they liked this number guessing game very much, and they also competed with each other to see who could guess the number with the least number of times. Sometimes they guessed so many times that they could not remember how many times they guessed, so they want the program to tell each player how many times they guessed for the randomly generated number before the program ends. 完善猜数字游戏三：有很多小朋友表示非常喜欢玩这个猜数字游戏，他们在玩的时候也相互比赛看谁能够用最少的次数猜中数字。有时候他们猜的次数太多了，自己都记不住自己猜了几次了，所以他们希望程序再运行结束前告诉每一个玩家这一局共猜了多少次。\n",
    "\n",
    "    Please modify the solution code in this lecture or the code completed in previous question to add this function. Please write the complete code in the code cell below.请你在示例程序或者上一题已经完成的程序上做修改，增加这个功能。请将完整的代码写在下面的代码单元格里。"
   ]
  },
  {
   "cell_type": "code",
   "execution_count": null,
   "id": "c89bf1ed-7dc8-41ef-828b-c080db320541",
   "metadata": {},
   "outputs": [],
   "source": [
    "# 在这里输入你完善后的程序代码\n"
   ]
  },
  {
   "cell_type": "markdown",
   "id": "ea195a6c-ace7-47cf-8214-ff45b04fdd4d",
   "metadata": {},
   "source": [
    "5. (**Optional, 可选做 /10**) Perfect number guessing game 4: Some players find the game a little difficult, especially when the range of guessing numbers becomes wider. They might have guessed many times and have not guessed correctly. They hope that the program can give some hints every time they fail to guess. For example, tell the player whether the correct number is larger or smaller than the number he guessed, so that the guess range can be narrowed in next guess. This looks like a nice feature, but other players may not like it since it makes the game less difficult and less interesting. To take care of both, our program needs to be modified. 完善猜数字游戏四：有一些小朋友玩家觉得有点难，特别是当猜的数字的范围变大时，猜了很多次都没有猜中，他们希望程序能够在每次没猜中的时候给一些提示，告诉玩家正确的数字比自己猜的数字是大还是小，这样在下一次猜的时候就缩小猜的范围了。这看起来是一个很不错的功能，但是也有一些玩家不喜欢这个功能，认为这会降低难度减少趣味性。为了兼顾两者，我们的程序需要做些修改。\n",
    "\n",
    "   Please modify the solution code in this lecture or the code completed in previous question. Add the following feature: when the program starts to run, ask the player whether or not the player needs a hint of which number is larger when there is a wrong guess. Provide an input box for the player to enter a answer. For this question, it's up to you to design a list of answers that indicate the need for a hint. When the player needs a hint, the player will be told such which number is larger after every wrong guess; when the player chooses no hint, no hint will be given after each wrong guess. Please write the complete code in the code cell below. 请你在示例程序或者上一题已经完成的程序上做修改，增加下述功能：在程序一开始运行的时候，询问玩家是否需在每次猜测错误后给出和要猜的数字谁大谁小的提示。提供一个输入框供玩家输入他们的回答。这一次由你自己来设计一些表示需要提示的回答列表。当玩家需要这类提示信息时，在每一次猜错后就告诉玩家这样的提示；当玩家选择不需要提示时，在玩家猜错后就不给提示。请将完整的代码写在下面的代码单元格里。"
   ]
  },
  {
   "cell_type": "code",
   "execution_count": null,
   "id": "f03f6b0d-06d3-444d-b16e-e2e022dabf61",
   "metadata": {},
   "outputs": [],
   "source": [
    "# 在这里输入你完善后的程序代码\n"
   ]
  }
 ],
 "metadata": {
  "kernelspec": {
   "display_name": "Python 3 (ipykernel)",
   "language": "python",
   "name": "python3"
  },
  "language_info": {
   "codemirror_mode": {
    "name": "ipython",
    "version": 3
   },
   "file_extension": ".py",
   "mimetype": "text/x-python",
   "name": "python",
   "nbconvert_exporter": "python",
   "pygments_lexer": "ipython3",
   "version": "3.9.0"
  }
 },
 "nbformat": 4,
 "nbformat_minor": 5
}
