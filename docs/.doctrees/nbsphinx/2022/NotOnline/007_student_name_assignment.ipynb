{
 "cells": [
  {
   "cell_type": "markdown",
   "id": "included-education",
   "metadata": {},
   "source": [
    "## 第07讲 绘制正多边形（二)\n",
    "Lecture07 Draw Regular Polygons（Part 2)"
   ]
  },
  {
   "cell_type": "markdown",
   "id": "f9f70484-6376-4931-90fd-d86eca0986cd",
   "metadata": {
    "tags": []
   },
   "source": [
    "### Assignments 作业"
   ]
  },
  {
   "cell_type": "code",
   "execution_count": 22,
   "id": "52b011de-8ef8-438f-8c24-7d49fb1338d8",
   "metadata": {},
   "outputs": [],
   "source": [
    "from random import randint\n",
    "from turtle import setup, reset, bye, pu, pd, bk, fd, left, right, st, ht\n",
    "# from turtle import penup, pendown, backward, forward, showturtle, hideturtle\n",
    "from turtle import pencolor, pensize\n",
    "setup(600, 400, None, None)"
   ]
  },
  {
   "cell_type": "markdown",
   "id": "ae24b055-8534-4157-a951-25b36982fd6b",
   "metadata": {},
   "source": [
    "1. 使用已经教学过的知识，绘制如下图类似的正八边形。具体要求如下：\n",
    "   - 它一个边为120的正八边形，**左右**居中位于绘图区，每条边的线宽总是3，颜色是绿色；\n",
    "   - 它最下方不是一条边而是一个顶点\n",
    "   - 正八边形每一个顶点都朝向中心延伸出一条线宽为1颜色为红色的长度与八边形边长相等的线段\n",
    "   - 给每一行代码添加注释\n",
    "   \n",
    "   <img src=\"figures/L007_assign01_regular_polygons.png\" width = 500>"
   ]
  },
  {
   "cell_type": "code",
   "execution_count": 48,
   "id": "3e2d7634-9658-40cf-8a07-b722543a667e",
   "metadata": {},
   "outputs": [],
   "source": []
  },
  {
   "cell_type": "markdown",
   "id": "f7814f33-12e2-497e-bf27-4ba207d3cadb",
   "metadata": {},
   "source": [
    "2. 使用已经教学过的知识，编程绘制出下图所示的图形。具体要求如下：\n",
    "   - 它一个边为120的正六边形，仍然在绘图区**左右**居中，每条边的线宽总是3，颜色是绿色；\n",
    "   - 它最下方不是一条边而是一个顶点\n",
    "   - 正六边形中距离最远的3对顶点是用颜色为红色的宽为1的线条连接起来的\n",
    "   - 给每一行代码添加注释\n",
    "   \n",
    "   <img src=\"figures/L007_assign02_regular_polygons.png\" width = 500>"
   ]
  },
  {
   "cell_type": "code",
   "execution_count": 50,
   "id": "e7f6aafb-833b-459a-abe9-c03daad4ee41",
   "metadata": {},
   "outputs": [],
   "source": []
  },
  {
   "cell_type": "markdown",
   "id": "6de8eb4b-5674-4052-b804-99501e591f56",
   "metadata": {},
   "source": [
    "2. 使用已经教学过的知识，编程绘制出下图所示的图形。具体要求如下：\n",
    "   - 它一个边为120的正五边形，仍然在绘图区**左右**居中，每条边的线宽总是3，颜色是绿色；\n",
    "   - 它最**上方**是正五边形的一个顶点，且这个顶点距离绘图区中心（海龟一开始的位置）的距离等于正五边形的边长；\n",
    "   - 每一个顶点都朝向中心延伸出一条线宽为1颜色为红色的长度与边长相等的线段\n",
    "   - 给每一行代码添加注释\n",
    "   \n",
    "   <img src=\"figures/L007_assign03_regular_polygons.png\" width = 500>"
   ]
  },
  {
   "cell_type": "code",
   "execution_count": 52,
   "id": "1a576213-63f4-4b76-b138-deb8cf064c21",
   "metadata": {},
   "outputs": [],
   "source": []
  },
  {
   "cell_type": "markdown",
   "id": "3c843578-33b0-4e36-a753-35a6fd639f9f",
   "metadata": {},
   "source": [
    "4. 使用`while`循环绘制下图。要求：\n",
    "      - 所有的三个正方形都完全位于尺寸为600×400的绘图区域的中心（包括左右和上下都是居中）\n",
    "      - 三个正方形的边长依次为250，150，和50\n",
    "      - 三个正方形的线宽一次为3, 2, 1\n",
    "      - 可以只使用一个`while`循环来实现，也可以使用两个`while`循环嵌套来实现\n",
    "      - 使用了两个`while`循环**并且**代码总行数控制在35行以内（import, setup所在的行不计入总行数），结果正确可以获得额外的10分加分\n",
    "      - 给每一行代码添加你的注释\n",
    "      \n",
    "   <img src=\"figures/L007_assign04_regular_polygons.png\" width = 500>"
   ]
  },
  {
   "cell_type": "code",
   "execution_count": 79,
   "id": "77dabcbe-f4b3-4b3b-a3df-6fc36acefff9",
   "metadata": {},
   "outputs": [],
   "source": []
  }
 ],
 "metadata": {
  "kernelspec": {
   "display_name": "Python 3 (ipykernel)",
   "language": "python",
   "name": "python3"
  },
  "language_info": {
   "codemirror_mode": {
    "name": "ipython",
    "version": 3
   },
   "file_extension": ".py",
   "mimetype": "text/x-python",
   "name": "python",
   "nbconvert_exporter": "python",
   "pygments_lexer": "ipython3",
   "version": "3.9.0"
  }
 },
 "nbformat": 4,
 "nbformat_minor": 5
}
