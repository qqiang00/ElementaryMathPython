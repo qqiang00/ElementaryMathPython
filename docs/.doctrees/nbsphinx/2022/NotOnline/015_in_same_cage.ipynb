{
 "cells": [
  {
   "cell_type": "markdown",
   "id": "relative-location",
   "metadata": {},
   "source": [
    "## 第0讲 模板"
   ]
  },
  {
   "cell_type": "markdown",
   "id": "d12f05dd",
   "metadata": {},
   "source": [
    "### Problem 问题描述"
   ]
  },
  {
   "cell_type": "markdown",
   "id": "c7cd1f0b-8266-49f3-a77e-806bec2c40ce",
   "metadata": {},
   "source": [
    "A healthy chicken has 1 head and 2 feet; a healthy rabbit has 1 head and 4 feet. In a cage are living certain number of healthy chicken and healthy rabbits. there are altogether 35 heads and 94 feet in the cage. How many chicken and rabbits in this cage? \n",
    "\n",
    "一只健康的鸡有1个脑袋2只脚，一只健康的兔子有1个脑袋4只脚。现在在一个笼子里生活着一定数量的健康的鸡和兔子，数了之后发现一共有35个脑袋和94只脚。请问这个笼子里鸡和兔子分别有几只？"
   ]
  },
  {
   "cell_type": "markdown",
   "id": "animated-batch",
   "metadata": {
    "jp-MarkdownHeadingCollapsed": true,
    "tags": []
   },
   "source": [
    "### Math Background 数学背景\n",
    "\n",
    "1. 二元一次方程组"
   ]
  },
  {
   "cell_type": "markdown",
   "id": "sorted-furniture",
   "metadata": {
    "heading_collapsed": true
   },
   "source": [
    "### Prerequisites 预备知识"
   ]
  },
  {
   "cell_type": "markdown",
   "id": "ac3f3f62-7bb0-4f00-9a4e-4085b96c14dd",
   "metadata": {},
   "source": []
  },
  {
   "cell_type": "markdown",
   "id": "d55f37d9",
   "metadata": {},
   "source": [
    "### Solution 编程求解"
   ]
  },
  {
   "cell_type": "code",
   "execution_count": 24,
   "id": "2e5f3aba-93af-461d-be7f-f0384bc9f7dc",
   "metadata": {},
   "outputs": [
    {
     "name": "stdout",
     "output_type": "stream",
     "text": [
      "Day\tOption1\tOption2\n",
      " 1\t 100\t   1\n",
      " 2\t 200\t   2\n",
      " 3\t 300\t   4\n",
      " 4\t 400\t   8\n",
      " 5\t 500\t  16\n",
      " 6\t 600\t  32\n",
      " 7\t 700\t  64\n",
      " 8\t 800\t 128\n",
      " 9\t 900\t 256\n",
      "10\t1000\t 512\n",
      "11\t1100\t1024\n",
      "12\t1200\t2048\n",
      "13\t1300\t4096\n",
      "14\t1400\t8192\n",
      "从第12天开始，方案二每天奖励的大米将会比方案一多\n",
      "方案一将军最终获得大米:10500袋，方案二将军最终获得大米16383袋\n",
      "将军应该选择方案二\n"
     ]
    }
   ],
   "source": [
    "# Solution1\n",
    "total_awarded_option1 = 0\n",
    "total_awarded_option2 = 0\n",
    "cur_award_option1 = 100\n",
    "cur_award_option2 = 1\n",
    "award_increase_option1 = 100\n",
    "award_times_option2 = 2\n",
    "next_award_option1 = cur_award_option1\n",
    "next_award_option2 = cur_award_option2\n",
    "days_awarded = 0\n",
    "days_total = 14\n",
    "special_day = None\n",
    "\n",
    "print(\"Day\\tOption1\\tOption2\")\n",
    "while days_awarded < days_total:\n",
    "    # Option1\n",
    "    cur_award_option1 = next_award_option1\n",
    "    total_awarded_option1 += cur_award_option1\n",
    "    next_award_option1 = cur_award_option1 + award_increase_option1\n",
    "    # Option2\n",
    "    cur_award_option2 = next_award_option2\n",
    "    total_awarded_option2 += cur_award_option2\n",
    "    next_award_option2 = cur_award_option2 * award_times_option2 \n",
    "    \n",
    "    days_awarded += 1\n",
    "    print(\"{:>2}\\t{:>4}\\t{:>4}\".format(days_awarded, \n",
    "                                       cur_award_option1, \n",
    "                                       cur_award_option2))\n",
    "    if cur_award_option2 > cur_award_option1 and special_day is None:\n",
    "        special_day = days_awarded\n",
    "            \n",
    "print(\"从第{}天开始，方案二每天奖励的大米将会比方案一多\".format(special_day))            \n",
    "print(\"方案一将军最终获得大米:{}袋，方案二将军最终获得大米{}袋\"\n",
    "      .format(total_awarded_option1, total_awarded_option2))\n",
    "if total_awarded_option1 > total_awarded_option2:\n",
    "    print(\"将军应该选择方案一\")\n",
    "elif total_awarded_option1 < total_awarded_option2:\n",
    "    print(\"将军应该选择方案二\")\n",
    "else:\n",
    "    print(\"两种方案将军获得的最终奖励一样，都是{}袋\".format(total_awarded_option1))"
   ]
  },
  {
   "cell_type": "code",
   "execution_count": 26,
   "id": "99536414-d32d-4e00-b1fa-fcd26bda234b",
   "metadata": {},
   "outputs": [
    {
     "name": "stdout",
     "output_type": "stream",
     "text": [
      "Day\tOption1\tOption2\n",
      " 1\t 100\t   1\n",
      " 2\t 200\t   2\n",
      " 3\t 300\t   4\n",
      " 4\t 400\t   8\n",
      " 5\t 500\t  16\n",
      " 6\t 600\t  32\n",
      " 7\t 700\t  64\n",
      " 8\t 800\t 128\n",
      " 9\t 900\t 256\n",
      "10\t1000\t 512\n",
      "11\t1100\t1024\n",
      "12\t1200\t2048\n",
      "13\t1300\t4096\n",
      "14\t1400\t8192\n",
      "从第12天开始，方案二每天奖励的大米将会比方案一多\n",
      "方案一将军最终获得大米:10500袋，方案二将军最终获得大米16383袋\n",
      "将军应该选择方案二\n"
     ]
    }
   ],
   "source": [
    "# Solution2\n",
    "total_awarded_option1 = 0\n",
    "total_awarded_option2 = 0\n",
    "cur_award_option1 = 100\n",
    "cur_award_option2 = 1\n",
    "award_increase_option1 = 100\n",
    "award_times_option2 = 2\n",
    "days_awarded = 0\n",
    "days_total = 14\n",
    "special_day = None\n",
    "\n",
    "print(\"Day\\tOption1\\tOption2\")\n",
    "while days_awarded < days_total:\n",
    "    total_awarded_option1 += cur_award_option1\n",
    "    total_awarded_option2 += cur_award_option2\n",
    "    days_awarded += 1\n",
    "    print(\"{:>2}\\t{:>4}\\t{:>4}\".format(days_awarded, \n",
    "                                       cur_award_option1, \n",
    "                                       cur_award_option2))\n",
    "    if cur_award_option2 > cur_award_option1 and special_day is None:\n",
    "        special_day = days_awarded\n",
    "    cur_award_option1 += award_increase_option1\n",
    "    cur_award_option2 *= award_times_option2 \n",
    "    \n",
    "print(\"从第{}天开始，方案二每天奖励的大米将会比方案一多\".format(special_day))\n",
    "print(\"方案一将军最终获得大米:{}袋，方案二将军最终获得大米{}袋\"\n",
    "      .format(total_awarded_option1, total_awarded_option2))\n",
    "if total_awarded_option1 > total_awarded_option2:\n",
    "    print(\"将军应该选择方案一\")\n",
    "elif total_awarded_option1 < total_awarded_option2:\n",
    "    print(\"将军应该选择方案二\")\n",
    "else:\n",
    "    print(\"两种方案将军获得的最终奖励一样，都是{}袋\".format(total_awarded_option1))"
   ]
  },
  {
   "cell_type": "code",
   "execution_count": null,
   "id": "2863a1b3-7c16-4706-bcfe-c15e16083104",
   "metadata": {},
   "outputs": [],
   "source": []
  },
  {
   "cell_type": "markdown",
   "id": "latest-contamination",
   "metadata": {},
   "source": [
    "### Summary 知识点小结"
   ]
  },
  {
   "cell_type": "markdown",
   "id": "afb3f674",
   "metadata": {},
   "source": [
    "1. 阿第三方\n",
    "2. 阿第三方"
   ]
  },
  {
   "cell_type": "code",
   "execution_count": null,
   "id": "rural-branch",
   "metadata": {
    "hidden": true
   },
   "outputs": [],
   "source": []
  },
  {
   "cell_type": "code",
   "execution_count": null,
   "id": "urban-glance",
   "metadata": {
    "hidden": true
   },
   "outputs": [],
   "source": []
  },
  {
   "cell_type": "markdown",
   "id": "bizarre-assurance",
   "metadata": {},
   "source": [
    "### 计算机小知识"
   ]
  },
  {
   "cell_type": "markdown",
   "id": "92100f08",
   "metadata": {},
   "source": [
    "暂缺"
   ]
  },
  {
   "cell_type": "markdown",
   "id": "digital-consensus",
   "metadata": {
    "heading_collapsed": true
   },
   "source": [
    "### Assignments 作业"
   ]
  },
  {
   "cell_type": "markdown",
   "id": "controversial-sleeve",
   "metadata": {
    "hidden": true
   },
   "source": [
    "1. The length and width of a rectangle are 18cm and 13cm respectively. What the perimeter and the area of this rectangle? write only two lines of codes to provide the answer directly, and an extra line of code to print out the result like the follow sentence:"
   ]
  },
  {
   "cell_type": "code",
   "execution_count": null,
   "id": "healthy-auditor",
   "metadata": {
    "hidden": true
   },
   "outputs": [],
   "source": []
  }
 ],
 "metadata": {
  "kernelspec": {
   "display_name": "Python 3 (ipykernel)",
   "language": "python",
   "name": "python3"
  },
  "language_info": {
   "codemirror_mode": {
    "name": "ipython",
    "version": 3
   },
   "file_extension": ".py",
   "mimetype": "text/x-python",
   "name": "python",
   "nbconvert_exporter": "python",
   "pygments_lexer": "ipython3",
   "version": "3.9.0"
  }
 },
 "nbformat": 4,
 "nbformat_minor": 5
}
