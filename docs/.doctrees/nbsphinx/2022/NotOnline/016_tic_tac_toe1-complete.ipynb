{
 "cells": [
  {
   "cell_type": "markdown",
   "id": "6674527b-2570-406a-a335-af74e15846b9",
   "metadata": {
    "tags": []
   },
   "source": [
    "## Design a Tic Tac Toe Game\n",
    "\n",
    "1. 3*3 square, 9 positions, each position has three status: '-', 'x', 'o'; \n",
    "2. 2 players\n",
    "3. char for first drop: 'x' or 'o'\n",
    "4. players\n",
    "5. player who first make a line wins.\n"
   ]
  },
  {
   "cell_type": "code",
   "execution_count": 1,
   "id": "37e0bd6c-0b64-4a96-9734-a8b9b583d4e6",
   "metadata": {
    "execution": {
     "iopub.execute_input": "2022-07-09T03:19:36.831654Z",
     "iopub.status.busy": "2022-07-09T03:19:36.831654Z",
     "iopub.status.idle": "2022-07-09T03:19:36.862925Z",
     "shell.execute_reply": "2022-07-09T03:19:36.862925Z"
    }
   },
   "outputs": [],
   "source": [
    "# Start\n",
    "#  -  -  -\n",
    "#  -  -  -\n",
    "#  -  -  -"
   ]
  },
  {
   "cell_type": "code",
   "execution_count": 2,
   "id": "e8775f88-66b6-4f24-ad2e-543b42426e0c",
   "metadata": {
    "execution": {
     "iopub.execute_input": "2022-07-09T03:19:36.862925Z",
     "iopub.status.busy": "2022-07-09T03:19:36.862925Z",
     "iopub.status.idle": "2022-07-09T03:19:36.878522Z",
     "shell.execute_reply": "2022-07-09T03:19:36.878522Z"
    }
   },
   "outputs": [
    {
     "name": "stdout",
     "output_type": "stream",
     "text": [
      "['-', '-', '-', '-', '-', '-', '-', '-', '-']\n"
     ]
    }
   ],
   "source": [
    "board = ['-']*9\n",
    "print(board)"
   ]
  },
  {
   "cell_type": "code",
   "execution_count": 3,
   "id": "d2b2fb69-92e6-4ecb-a17e-799fe95ef75a",
   "metadata": {
    "execution": {
     "iopub.execute_input": "2022-07-09T03:19:36.878522Z",
     "iopub.status.busy": "2022-07-09T03:19:36.878522Z",
     "iopub.status.idle": "2022-07-09T03:19:37.182140Z",
     "shell.execute_reply": "2022-07-09T03:19:37.181774Z"
    }
   },
   "outputs": [
    {
     "ename": "NameError",
     "evalue": "name 'display_board' is not defined",
     "output_type": "error",
     "traceback": [
      "\u001b[1;31m---------------------------------------------------------------------------\u001b[0m",
      "\u001b[1;31mNameError\u001b[0m                                 Traceback (most recent call last)",
      "Input \u001b[1;32mIn [3]\u001b[0m, in \u001b[0;36m<cell line: 2>\u001b[1;34m()\u001b[0m\n\u001b[0;32m      1\u001b[0m board \u001b[38;5;241m=\u001b[39m [\u001b[38;5;124m'\u001b[39m\u001b[38;5;124m-\u001b[39m\u001b[38;5;124m'\u001b[39m, \u001b[38;5;124m'\u001b[39m\u001b[38;5;124mx\u001b[39m\u001b[38;5;124m'\u001b[39m, \u001b[38;5;124m'\u001b[39m\u001b[38;5;124m-\u001b[39m\u001b[38;5;124m'\u001b[39m, \u001b[38;5;124m'\u001b[39m\u001b[38;5;124mo\u001b[39m\u001b[38;5;124m'\u001b[39m, \u001b[38;5;124m'\u001b[39m\u001b[38;5;124mx\u001b[39m\u001b[38;5;124m'\u001b[39m, \u001b[38;5;124m'\u001b[39m\u001b[38;5;124m-\u001b[39m\u001b[38;5;124m'\u001b[39m, \u001b[38;5;124m'\u001b[39m\u001b[38;5;124m-\u001b[39m\u001b[38;5;124m'\u001b[39m, \u001b[38;5;124m'\u001b[39m\u001b[38;5;124m-\u001b[39m\u001b[38;5;124m'\u001b[39m, \u001b[38;5;124m'\u001b[39m\u001b[38;5;124m-\u001b[39m\u001b[38;5;124m'\u001b[39m]\n\u001b[1;32m----> 2\u001b[0m \u001b[43mdisplay_board\u001b[49m(board)\n",
      "\u001b[1;31mNameError\u001b[0m: name 'display_board' is not defined"
     ]
    }
   ],
   "source": [
    "board = ['-', 'x', '-', 'o', 'x', '-', '-', '-', '-']\n",
    "display_board(board)"
   ]
  },
  {
   "cell_type": "code",
   "execution_count": 4,
   "id": "67bc8e39-e646-4f5a-b16a-5f9fea8c638f",
   "metadata": {
    "execution": {
     "iopub.execute_input": "2022-07-09T03:19:37.182140Z",
     "iopub.status.busy": "2022-07-09T03:19:37.182140Z",
     "iopub.status.idle": "2022-07-09T03:19:37.198001Z",
     "shell.execute_reply": "2022-07-09T03:19:37.198001Z"
    },
    "tags": []
   },
   "outputs": [],
   "source": [
    "def display_board(board):\n",
    "    # print 3 rows * 3 columns\n",
    "    \"\"\"\n",
    "      -  -  -\n",
    "      -  -  -\n",
    "      -  -  -\n",
    "    \"\"\"\n",
    "    print(\"===  board status ===\")\n",
    "    for i, pos_status in enumerate(board):\n",
    "        print(\"{}\".format(pos_status), end=\" \")\n",
    "        if i % 3 == 2:\n",
    "            print() \n",
    "    print()\n",
    "    return   \n",
    "\n",
    "def get_input(board, player):\n",
    "    is_input_valid = False\n",
    "    while not is_input_valid:\n",
    "        try:\n",
    "            pos = int(input(\"{}'s input:\".format(player)))\n",
    "        except:\n",
    "            pass\n",
    "        if pos >= 0 and pos < 9:\n",
    "            if board[pos] == '-':\n",
    "                is_input_valid = True\n",
    "                return pos\n",
    "        print(\"Not valid, input again.\", end=\" \")\n",
    "        \n",
    "def is_somebody_win(board):\n",
    "    i = 0\n",
    "    while i < 3:\n",
    "        if ((board[3*i] == board[3*i+1] == board[3*i+2]) and board[3*i] != '-'):\n",
    "            print(\"row {} lines up\".format(i))\n",
    "            return True        \n",
    "        i += 1\n",
    "    i = 0\n",
    "    while i < 3:\n",
    "        if ((board[i] == board[i+3] == board[i+6]) and board[i] != '-'):\n",
    "            print(\"col {} lines up\".format(i))\n",
    "            return True        \n",
    "        i += 1\n",
    "    \n",
    "    if ((board[0] == board[4] == board[8]) and board[0] != '-') or \\\n",
    "       ((board[2] == board[4] == board[6]) and board[2] != '-'):\n",
    "        print(\"\\ or / lines up\")\n",
    "        return True        \n",
    "    \n",
    "    return False\n",
    "\n",
    "\n",
    "def is_board_full(board):\n",
    "    return '-' not in board"
   ]
  },
  {
   "cell_type": "code",
   "execution_count": 5,
   "id": "52801bd7-1553-4097-afd8-00eb8450f3e1",
   "metadata": {
    "execution": {
     "iopub.execute_input": "2022-07-09T03:19:37.198001Z",
     "iopub.status.busy": "2022-07-09T03:19:37.198001Z",
     "iopub.status.idle": "2022-07-09T03:19:37.331709Z",
     "shell.execute_reply": "2022-07-09T03:19:37.331709Z"
    }
   },
   "outputs": [
    {
     "name": "stdout",
     "output_type": "stream",
     "text": [
      "Welcome to Game 'Tic Tac Toe'\n"
     ]
    },
    {
     "ename": "StdinNotImplementedError",
     "evalue": "raw_input was called, but this frontend does not support input requests.",
     "output_type": "error",
     "traceback": [
      "\u001b[1;31m---------------------------------------------------------------------------\u001b[0m",
      "\u001b[1;31mStdinNotImplementedError\u001b[0m                  Traceback (most recent call last)",
      "Input \u001b[1;32mIn [5]\u001b[0m, in \u001b[0;36m<cell line: 6>\u001b[1;34m()\u001b[0m\n\u001b[0;32m      4\u001b[0m chars \u001b[38;5;241m=\u001b[39m [\u001b[38;5;124m'\u001b[39m\u001b[38;5;124mx\u001b[39m\u001b[38;5;124m'\u001b[39m, \u001b[38;5;124m'\u001b[39m\u001b[38;5;124mo\u001b[39m\u001b[38;5;124m'\u001b[39m, \u001b[38;5;124m'\u001b[39m\u001b[38;5;124m-\u001b[39m\u001b[38;5;124m'\u001b[39m]\n\u001b[0;32m      5\u001b[0m \u001b[38;5;28mprint\u001b[39m(\u001b[38;5;124m\"\u001b[39m\u001b[38;5;124mWelcome to Game \u001b[39m\u001b[38;5;124m'\u001b[39m\u001b[38;5;124mTic Tac Toe\u001b[39m\u001b[38;5;124m'\u001b[39m\u001b[38;5;124m\"\u001b[39m)\n\u001b[1;32m----> 6\u001b[0m players\u001b[38;5;241m.\u001b[39mappend(\u001b[38;5;28;43minput\u001b[39;49m\u001b[43m(\u001b[49m\u001b[38;5;124;43m\"\u001b[39;49m\u001b[38;5;124;43mPlayer1 Name:\u001b[39;49m\u001b[38;5;124;43m\"\u001b[39;49m\u001b[43m)\u001b[49m)\n\u001b[0;32m      7\u001b[0m players\u001b[38;5;241m.\u001b[39mappend(\u001b[38;5;28minput\u001b[39m(\u001b[38;5;124m\"\u001b[39m\u001b[38;5;124mPlayer2 Name:\u001b[39m\u001b[38;5;124m\"\u001b[39m))\n\u001b[0;32m      8\u001b[0m \u001b[38;5;28mprint\u001b[39m(\u001b[38;5;124m\"\u001b[39m\u001b[38;5;132;01m{}\u001b[39;00m\u001b[38;5;124m will have \u001b[39m\u001b[38;5;124m'\u001b[39m\u001b[38;5;124mx\u001b[39m\u001b[38;5;124m'\u001b[39m\u001b[38;5;124m\"\u001b[39m\u001b[38;5;241m.\u001b[39mformat(players[\u001b[38;5;241m0\u001b[39m]))\n",
      "File \u001b[1;32mc:\\users\\qiang\\documents\\elementarymathpython\\venv\\lib\\site-packages\\ipykernel\\kernelbase.py:1072\u001b[0m, in \u001b[0;36mKernel.raw_input\u001b[1;34m(self, prompt)\u001b[0m\n\u001b[0;32m   1065\u001b[0m \u001b[38;5;124;03m\"\"\"Forward raw_input to frontends\u001b[39;00m\n\u001b[0;32m   1066\u001b[0m \n\u001b[0;32m   1067\u001b[0m \u001b[38;5;124;03mRaises\u001b[39;00m\n\u001b[0;32m   1068\u001b[0m \u001b[38;5;124;03m------\u001b[39;00m\n\u001b[0;32m   1069\u001b[0m \u001b[38;5;124;03mStdinNotImplementedError if active frontend doesn't support stdin.\u001b[39;00m\n\u001b[0;32m   1070\u001b[0m \u001b[38;5;124;03m\"\"\"\u001b[39;00m\n\u001b[0;32m   1071\u001b[0m \u001b[38;5;28;01mif\u001b[39;00m \u001b[38;5;129;01mnot\u001b[39;00m \u001b[38;5;28mself\u001b[39m\u001b[38;5;241m.\u001b[39m_allow_stdin:\n\u001b[1;32m-> 1072\u001b[0m     \u001b[38;5;28;01mraise\u001b[39;00m StdinNotImplementedError(\n\u001b[0;32m   1073\u001b[0m         \u001b[38;5;124m\"\u001b[39m\u001b[38;5;124mraw_input was called, but this frontend does not support input requests.\u001b[39m\u001b[38;5;124m\"\u001b[39m\n\u001b[0;32m   1074\u001b[0m     )\n\u001b[0;32m   1075\u001b[0m \u001b[38;5;28;01mreturn\u001b[39;00m \u001b[38;5;28mself\u001b[39m\u001b[38;5;241m.\u001b[39m_input_request(\n\u001b[0;32m   1076\u001b[0m     \u001b[38;5;28mstr\u001b[39m(prompt),\n\u001b[0;32m   1077\u001b[0m     \u001b[38;5;28mself\u001b[39m\u001b[38;5;241m.\u001b[39m_parent_ident[\u001b[38;5;124m\"\u001b[39m\u001b[38;5;124mshell\u001b[39m\u001b[38;5;124m\"\u001b[39m],\n\u001b[0;32m   1078\u001b[0m     \u001b[38;5;28mself\u001b[39m\u001b[38;5;241m.\u001b[39mget_parent(\u001b[38;5;124m\"\u001b[39m\u001b[38;5;124mshell\u001b[39m\u001b[38;5;124m\"\u001b[39m),\n\u001b[0;32m   1079\u001b[0m     password\u001b[38;5;241m=\u001b[39m\u001b[38;5;28;01mFalse\u001b[39;00m,\n\u001b[0;32m   1080\u001b[0m )\n",
      "\u001b[1;31mStdinNotImplementedError\u001b[0m: raw_input was called, but this frontend does not support input requests."
     ]
    }
   ],
   "source": [
    "board = ['-']*9\n",
    "#player1, player2 = \"Qiang\", \"Celine\" # player1 always first\n",
    "players = []\n",
    "chars = ['x', 'o', '-']\n",
    "print(\"Welcome to Game 'Tic Tac Toe'\")\n",
    "players.append(input(\"Player1 Name:\"))\n",
    "players.append(input(\"Player2 Name:\"))\n",
    "print(\"{} will have 'x'\".format(players[0]))\n",
    "board = ['-']*9\n",
    "display_board(board)\n",
    "is_game_over = False\n",
    "player_index = 0\n",
    "winner = None\n",
    "while not is_game_over:\n",
    "    cur_player = players[player_index]\n",
    "    pos_p1 = get_input(board, cur_player)\n",
    "    board[pos_p1] = chars[player_index]\n",
    "    display_board(board)\n",
    "    if is_somebody_win(board):\n",
    "        winner = cur_player\n",
    "        is_game_over = True\n",
    "    elif is_board_full(board):\n",
    "        is_game_over = True\n",
    "    else:\n",
    "        player_index = 1 - player_index\n",
    "\n",
    "if winner is not None:\n",
    "    print(\"{} win\".format(cur_player))    \n",
    "else:\n",
    "    print(\"TIE\")"
   ]
  },
  {
   "cell_type": "code",
   "execution_count": 6,
   "id": "4c24c0c5-ed7b-4513-92b0-994bca1075ba",
   "metadata": {
    "execution": {
     "iopub.execute_input": "2022-07-09T03:19:37.331709Z",
     "iopub.status.busy": "2022-07-09T03:19:37.331709Z",
     "iopub.status.idle": "2022-07-09T03:19:39.529970Z",
     "shell.execute_reply": "2022-07-09T03:19:39.529490Z"
    }
   },
   "outputs": [],
   "source": [
    "from turtle import *\n",
    "import turtle\n",
    "  \n",
    "def func(i,j):\n",
    "     \n",
    "    turtle.right(90)\n",
    "    turtle.forward(150)\n",
    "  \n",
    "turtle.speed(6)\n",
    "turtle.forward(100) \n",
    "turtle.onclick(func)\n",
    "turtle.done()"
   ]
  },
  {
   "cell_type": "code",
   "execution_count": 7,
   "id": "f8106855-49fb-4ea0-b64e-813fa34579d5",
   "metadata": {
    "execution": {
     "iopub.execute_input": "2022-07-09T03:19:39.533534Z",
     "iopub.status.busy": "2022-07-09T03:19:39.533534Z",
     "iopub.status.idle": "2022-07-09T03:19:40.225702Z",
     "shell.execute_reply": "2022-07-09T03:19:40.224282Z"
    }
   },
   "outputs": [],
   "source": [
    "from turtle import *\n",
    "\n",
    "import turtle\n",
    "  \n",
    "\n",
    "ws = turtle.Screen()\n",
    "  \n",
    "\n",
    "def func(i, j):\n",
    "  goto(i, j)\n",
    "  write(str(i)+\",\"+str(j))\n",
    "  \n",
    "\n",
    "ws.onclick(func)\n",
    "ws.mainloop()"
   ]
  },
  {
   "cell_type": "code",
   "execution_count": 8,
   "id": "3d6805a5-025a-478e-91be-e8072cc384ba",
   "metadata": {
    "execution": {
     "iopub.execute_input": "2022-07-09T03:19:40.228716Z",
     "iopub.status.busy": "2022-07-09T03:19:40.228716Z",
     "iopub.status.idle": "2022-07-09T03:19:40.249585Z",
     "shell.execute_reply": "2022-07-09T03:19:40.248556Z"
    }
   },
   "outputs": [
    {
     "ename": "ModuleNotFoundError",
     "evalue": "No module named 'qianglib'",
     "output_type": "error",
     "traceback": [
      "\u001b[1;31m---------------------------------------------------------------------------\u001b[0m",
      "\u001b[1;31mModuleNotFoundError\u001b[0m                       Traceback (most recent call last)",
      "Input \u001b[1;32mIn [8]\u001b[0m, in \u001b[0;36m<cell line: 3>\u001b[1;34m()\u001b[0m\n\u001b[0;32m      1\u001b[0m \u001b[38;5;28;01mfrom\u001b[39;00m \u001b[38;5;21;01mturtle\u001b[39;00m \u001b[38;5;28;01mimport\u001b[39;00m setup, reset, pu, pd, bye, left, right, fd, bk, screensize\n\u001b[0;32m      2\u001b[0m \u001b[38;5;28;01mfrom\u001b[39;00m \u001b[38;5;21;01mturtle\u001b[39;00m \u001b[38;5;28;01mimport\u001b[39;00m goto, seth, write, ht, st, home, dot, pen, speed\n\u001b[1;32m----> 3\u001b[0m \u001b[38;5;28;01mfrom\u001b[39;00m \u001b[38;5;21;01mqianglib\u001b[39;00m \u001b[38;5;28;01mimport\u001b[39;00m prepare_paper, draw_grid, mark, lines, line, polygon, text\n",
      "\u001b[1;31mModuleNotFoundError\u001b[0m: No module named 'qianglib'"
     ]
    }
   ],
   "source": [
    "from turtle import setup, reset, pu, pd, bye, left, right, fd, bk, screensize\n",
    "from turtle import goto, seth, write, ht, st, home, dot, pen, speed\n",
    "from qianglib import prepare_paper, draw_grid, mark, lines, line, polygon, text"
   ]
  },
  {
   "cell_type": "code",
   "execution_count": 9,
   "id": "e399e9eb-4e32-48e1-8e19-e927e3c200d3",
   "metadata": {
    "execution": {
     "iopub.execute_input": "2022-07-09T03:19:40.249876Z",
     "iopub.status.busy": "2022-07-09T03:19:40.249876Z",
     "iopub.status.idle": "2022-07-09T03:19:40.266720Z",
     "shell.execute_reply": "2022-07-09T03:19:40.265975Z"
    }
   },
   "outputs": [
    {
     "ename": "Terminator",
     "evalue": "",
     "output_type": "error",
     "traceback": [
      "\u001b[1;31m---------------------------------------------------------------------------\u001b[0m",
      "\u001b[1;31mTerminator\u001b[0m                                Traceback (most recent call last)",
      "Input \u001b[1;32mIn [9]\u001b[0m, in \u001b[0;36m<cell line: 2>\u001b[1;34m()\u001b[0m\n\u001b[0;32m      1\u001b[0m width, height \u001b[38;5;241m=\u001b[39m \u001b[38;5;241m500\u001b[39m, \u001b[38;5;241m600\u001b[39m\n\u001b[1;32m----> 2\u001b[0m \u001b[43msetup\u001b[49m\u001b[43m(\u001b[49m\u001b[43mwidth\u001b[49m\u001b[43m,\u001b[49m\u001b[43m \u001b[49m\u001b[43mheight\u001b[49m\u001b[43m,\u001b[49m\u001b[43m \u001b[49m\u001b[38;5;241;43m0\u001b[39;49m\u001b[43m,\u001b[49m\u001b[43m \u001b[49m\u001b[38;5;241;43m0\u001b[39;49m\u001b[43m)\u001b[49m\n",
      "File \u001b[1;32m<string>:5\u001b[0m, in \u001b[0;36msetup\u001b[1;34m(width, height, startx, starty)\u001b[0m\n",
      "\u001b[1;31mTerminator\u001b[0m: "
     ]
    }
   ],
   "source": [
    "width, height = 500, 600\n",
    "setup(width, height, 0, 0)\n",
    "#prepare_paper(width, height, scale=100, min_x=0, min_y=0, max_y=3, max_x=3)"
   ]
  },
  {
   "cell_type": "code",
   "execution_count": 10,
   "id": "d056a638-a84f-46e1-9063-a8fbb4c28320",
   "metadata": {
    "execution": {
     "iopub.execute_input": "2022-07-09T03:19:40.266720Z",
     "iopub.status.busy": "2022-07-09T03:19:40.266720Z",
     "iopub.status.idle": "2022-07-09T03:19:40.283363Z",
     "shell.execute_reply": "2022-07-09T03:19:40.282549Z"
    }
   },
   "outputs": [],
   "source": [
    "def draw_grid(center=(0, 0), width=100, line_width=3, color=\"black\"):\n",
    "    line((-1.5*width, -0.5*width), (1.5*width, -0.5*width), line_width=line_width, color=color)\n",
    "    line((-1.5*width, 0.5*width), (1.5*width, 0.5*width), line_width=line_width, color=color)\n",
    "    line((-0.5*width, -1.5*width), (-0.5*width, 1.5*width), line_width=line_width, color=color)\n",
    "    line((0.5*width, -1.5*width), (0.5*width, 1.5*width), line_width=line_width, color=color)\n"
   ]
  },
  {
   "cell_type": "code",
   "execution_count": 11,
   "id": "fc8be5f3-b915-48ca-a502-3bb664657c16",
   "metadata": {
    "execution": {
     "iopub.execute_input": "2022-07-09T03:19:40.286463Z",
     "iopub.status.busy": "2022-07-09T03:19:40.283363Z",
     "iopub.status.idle": "2022-07-09T03:19:40.445736Z",
     "shell.execute_reply": "2022-07-09T03:19:40.445736Z"
    }
   },
   "outputs": [
    {
     "ename": "NameError",
     "evalue": "name 'line' is not defined",
     "output_type": "error",
     "traceback": [
      "\u001b[1;31m---------------------------------------------------------------------------\u001b[0m",
      "\u001b[1;31mNameError\u001b[0m                                 Traceback (most recent call last)",
      "Input \u001b[1;32mIn [11]\u001b[0m, in \u001b[0;36m<cell line: 8>\u001b[1;34m()\u001b[0m\n\u001b[0;32m      5\u001b[0m     goto(i, j)\n\u001b[0;32m      6\u001b[0m     write(\u001b[38;5;28mstr\u001b[39m(i)\u001b[38;5;241m+\u001b[39m\u001b[38;5;124m\"\u001b[39m\u001b[38;5;124m,\u001b[39m\u001b[38;5;124m\"\u001b[39m\u001b[38;5;241m+\u001b[39m\u001b[38;5;28mstr\u001b[39m(j))\n\u001b[1;32m----> 8\u001b[0m \u001b[43mdraw_grid\u001b[49m\u001b[43m(\u001b[49m\u001b[43m)\u001b[49m\n\u001b[0;32m      9\u001b[0m ws\u001b[38;5;241m.\u001b[39monclick(func)\n\u001b[0;32m     10\u001b[0m ws\u001b[38;5;241m.\u001b[39mmainloop()\n",
      "Input \u001b[1;32mIn [10]\u001b[0m, in \u001b[0;36mdraw_grid\u001b[1;34m(center, width, line_width, color)\u001b[0m\n\u001b[0;32m      1\u001b[0m \u001b[38;5;28;01mdef\u001b[39;00m \u001b[38;5;21mdraw_grid\u001b[39m(center\u001b[38;5;241m=\u001b[39m(\u001b[38;5;241m0\u001b[39m, \u001b[38;5;241m0\u001b[39m), width\u001b[38;5;241m=\u001b[39m\u001b[38;5;241m100\u001b[39m, line_width\u001b[38;5;241m=\u001b[39m\u001b[38;5;241m3\u001b[39m, color\u001b[38;5;241m=\u001b[39m\u001b[38;5;124m\"\u001b[39m\u001b[38;5;124mblack\u001b[39m\u001b[38;5;124m\"\u001b[39m):\n\u001b[1;32m----> 2\u001b[0m     \u001b[43mline\u001b[49m((\u001b[38;5;241m-\u001b[39m\u001b[38;5;241m1.5\u001b[39m\u001b[38;5;241m*\u001b[39mwidth, \u001b[38;5;241m-\u001b[39m\u001b[38;5;241m0.5\u001b[39m\u001b[38;5;241m*\u001b[39mwidth), (\u001b[38;5;241m1.5\u001b[39m\u001b[38;5;241m*\u001b[39mwidth, \u001b[38;5;241m-\u001b[39m\u001b[38;5;241m0.5\u001b[39m\u001b[38;5;241m*\u001b[39mwidth), line_width\u001b[38;5;241m=\u001b[39mline_width, color\u001b[38;5;241m=\u001b[39mcolor)\n\u001b[0;32m      3\u001b[0m     line((\u001b[38;5;241m-\u001b[39m\u001b[38;5;241m1.5\u001b[39m\u001b[38;5;241m*\u001b[39mwidth, \u001b[38;5;241m0.5\u001b[39m\u001b[38;5;241m*\u001b[39mwidth), (\u001b[38;5;241m1.5\u001b[39m\u001b[38;5;241m*\u001b[39mwidth, \u001b[38;5;241m0.5\u001b[39m\u001b[38;5;241m*\u001b[39mwidth), line_width\u001b[38;5;241m=\u001b[39mline_width, color\u001b[38;5;241m=\u001b[39mcolor)\n\u001b[0;32m      4\u001b[0m     line((\u001b[38;5;241m-\u001b[39m\u001b[38;5;241m0.5\u001b[39m\u001b[38;5;241m*\u001b[39mwidth, \u001b[38;5;241m-\u001b[39m\u001b[38;5;241m1.5\u001b[39m\u001b[38;5;241m*\u001b[39mwidth), (\u001b[38;5;241m-\u001b[39m\u001b[38;5;241m0.5\u001b[39m\u001b[38;5;241m*\u001b[39mwidth, \u001b[38;5;241m1.5\u001b[39m\u001b[38;5;241m*\u001b[39mwidth), line_width\u001b[38;5;241m=\u001b[39mline_width, color\u001b[38;5;241m=\u001b[39mcolor)\n",
      "\u001b[1;31mNameError\u001b[0m: name 'line' is not defined"
     ]
    }
   ],
   "source": [
    "import turtle\n",
    "ws = turtle.Screen()\n",
    "def func(i, j):\n",
    "    return\n",
    "    goto(i, j)\n",
    "    write(str(i)+\",\"+str(j))\n",
    "\n",
    "draw_grid()\n",
    "ws.onclick(func)\n",
    "ws.mainloop()"
   ]
  },
  {
   "cell_type": "code",
   "execution_count": null,
   "id": "90dbc6a4-a57b-4719-9fbb-3b96900cfbb2",
   "metadata": {},
   "outputs": [],
   "source": []
  },
  {
   "cell_type": "code",
   "execution_count": null,
   "id": "052eeee5-ecc5-4a57-8a56-292a9c23af99",
   "metadata": {},
   "outputs": [],
   "source": []
  }
 ],
 "metadata": {
  "kernelspec": {
   "display_name": "Python 3 (ipykernel)",
   "language": "python",
   "name": "python3"
  },
  "language_info": {
   "codemirror_mode": {
    "name": "ipython",
    "version": 3
   },
   "file_extension": ".py",
   "mimetype": "text/x-python",
   "name": "python",
   "nbconvert_exporter": "python",
   "pygments_lexer": "ipython3",
   "version": "3.9.0"
  }
 },
 "nbformat": 4,
 "nbformat_minor": 5
}
