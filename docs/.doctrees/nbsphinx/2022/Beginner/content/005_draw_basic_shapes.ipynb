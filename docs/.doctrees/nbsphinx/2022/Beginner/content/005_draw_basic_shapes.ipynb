{
 "cells": [
  {
   "cell_type": "markdown",
   "id": "included-education",
   "metadata": {},
   "source": [
    "## 第05讲 绘制简单图形\n",
    "Lecture05 Draw Simple Shapes"
   ]
  },
  {
   "cell_type": "markdown",
   "id": "periodic-register",
   "metadata": {},
   "source": [
    "### Problem\n",
    "\n",
    "Use `turtle` module to:\n",
    "\n",
    "   1. open a window with width 600px and height 400px; 打开一个宽度为600像素，高度为400像素的窗口;\n",
    "   2. draw a rectangle with width 200px and height 160px; 在窗口的绘图区域的绘制一个宽200像素、高120像素的长方形。"
   ]
  },
  {
   "cell_type": "markdown",
   "id": "animated-batch",
   "metadata": {},
   "source": [
    "### Math Background 数学背景\n",
    "\n",
    "1. The definition and property of a line segment, rectangle, square, and circle. 线段、矩形、正方形、圆的定义和性质。\n",
    "2. Angles, right angle, acute angle, obtuse angle 角度、直角、锐角、钝角\n",
    "3. Direction(Orientation) and Rotation(clockwise and anti clockwise): 方向和旋转（顺时针和逆时针）\n",
    "4. Backward and forward, their relationship between current direction 向后和向前，它们和当前方向的关系"
   ]
  },
  {
   "cell_type": "markdown",
   "id": "sorted-furniture",
   "metadata": {},
   "source": [
    "### Prerequisites 预备知识\n",
    "#### 如何使用Python绘图\n",
    "\n",
    "Python提供了一个专门的绘图模块：`turtle`，模块提供了许多与绘图有关的功能。有关这个模块的介绍可以参照网页: https://docs.python.org/3/library/turtle.html\n"
   ]
  },
  {
   "cell_type": "code",
   "execution_count": 1,
   "id": "hidden-farmer",
   "metadata": {},
   "outputs": [],
   "source": [
    "# import turtle # import a library named turtle 导入一个名叫turtle的库\n",
    "from turtle import setup, reset, bye, pu, pd, bk, fd, left, right, st, ht\n",
    "# from turtle import penup, pendown, backward, forward, showturtle, hideturtle"
   ]
  },
  {
   "cell_type": "code",
   "execution_count": 2,
   "id": "comic-grill",
   "metadata": {},
   "outputs": [],
   "source": [
    "# prepare a draw area with length 600px and width 400 px\n",
    "# 准备一个窗口，宽度600像素，高度400像素\n",
    "setup(600, 400, 0, 0) "
   ]
  },
  {
   "cell_type": "code",
   "execution_count": 3,
   "id": "numeric-metallic",
   "metadata": {},
   "outputs": [],
   "source": [
    "# pay attention to the orientation of a solid triangle in the drawing area.\n",
    "# 注意绘图区内的一个实心三角形的朝向\n",
    "reset()"
   ]
  },
  {
   "cell_type": "code",
   "execution_count": 4,
   "id": "motivated-fitting",
   "metadata": {},
   "outputs": [],
   "source": [
    "# penup: pick a pen and keep the pen untouched with the paper\n",
    "# 挑选一只画笔并且保持画笔不接触绘图纸\n",
    "pu()        # penup    "
   ]
  },
  {
   "cell_type": "code",
   "execution_count": 5,
   "id": "closing-feeling",
   "metadata": {},
   "outputs": [],
   "source": [
    "# backward a certain distance 后退一定距离\n",
    "bk(200)        "
   ]
  },
  {
   "cell_type": "code",
   "execution_count": 6,
   "id": "0b4b5616-42c4-439c-b50a-a6af018577e8",
   "metadata": {},
   "outputs": [],
   "source": [
    "pd() # pen down"
   ]
  },
  {
   "cell_type": "code",
   "execution_count": 7,
   "id": "31c810a8-24d0-47ad-95bd-8876256a2764",
   "metadata": {},
   "outputs": [],
   "source": [
    "fd(200) # forward 前进"
   ]
  },
  {
   "cell_type": "code",
   "execution_count": 8,
   "id": "e02ce753-adb2-45e7-895e-95f9dbd3cb4c",
   "metadata": {},
   "outputs": [],
   "source": [
    "fd(100)"
   ]
  },
  {
   "cell_type": "code",
   "execution_count": 9,
   "id": "artificial-tournament",
   "metadata": {},
   "outputs": [],
   "source": [
    "# turn a given degree left to current orientation\n",
    "# 在当前方向基础上往左转一定的角度\n",
    "left(90)       "
   ]
  },
  {
   "cell_type": "code",
   "execution_count": 10,
   "id": "structural-underground",
   "metadata": {},
   "outputs": [],
   "source": [
    "# forward a certain distance 前进一定距离\n",
    "fd(50)         "
   ]
  },
  {
   "cell_type": "code",
   "execution_count": 11,
   "id": "alien-excellence",
   "metadata": {},
   "outputs": [],
   "source": [
    "# pen down: let the pen touch the paper and prepare to draw\n",
    "# 让笔接触绘图纸准备绘图\n",
    "pd()           "
   ]
  },
  {
   "cell_type": "code",
   "execution_count": 12,
   "id": "focused-advantage",
   "metadata": {},
   "outputs": [],
   "source": [
    "# turn a given degree right to current orientation\n",
    "# 在当前方向基础上往右转一定的角度\n",
    "right(90)      "
   ]
  },
  {
   "cell_type": "code",
   "execution_count": 13,
   "id": "internal-still",
   "metadata": {},
   "outputs": [],
   "source": [
    "fd(200)"
   ]
  },
  {
   "cell_type": "code",
   "execution_count": 14,
   "id": "3aefbb88-534e-480f-96af-302a94099a31",
   "metadata": {},
   "outputs": [],
   "source": [
    "bk(100)"
   ]
  },
  {
   "cell_type": "code",
   "execution_count": 15,
   "id": "brave-patent",
   "metadata": {},
   "outputs": [],
   "source": [
    "# hide the turtle(pointer triangle) 隐藏乌龟（表示方向的三角形）\n",
    "ht()     "
   ]
  },
  {
   "cell_type": "code",
   "execution_count": 16,
   "id": "practical-daughter",
   "metadata": {},
   "outputs": [],
   "source": [
    "# show the turtle(pointer triangle) 显示乌龟（表示方向的三角形）\n",
    "st()           "
   ]
  },
  {
   "cell_type": "code",
   "execution_count": 17,
   "id": "fallen-conservative",
   "metadata": {},
   "outputs": [],
   "source": [
    "# close drawing and bye 结束绘图\n",
    "# bye()          "
   ]
  },
  {
   "cell_type": "markdown",
   "id": "fuzzy-computer",
   "metadata": {},
   "source": [
    "Let the students to write codes to draw a rectangle with the length and with provided from `input` methods by completing the following programs."
   ]
  },
  {
   "cell_type": "markdown",
   "id": "edacb659-dafd-41fd-b19d-5bded4563db8",
   "metadata": {},
   "source": [
    "### Solution 编程求解"
   ]
  },
  {
   "cell_type": "code",
   "execution_count": 18,
   "id": "attempted-bahrain",
   "metadata": {},
   "outputs": [
    {
     "name": "stdout",
     "output_type": "stream",
     "text": [
      "Voila, I have drawn the rectangle on the screen! Did you see that?\n",
      "瞧，我已经在屏幕上把你要的矩形画出来了，你看见了吗？\n"
     ]
    }
   ],
   "source": [
    "#setup(600, 400, 0, 0)\n",
    "reset()\n",
    "pu()\n",
    "pd()\n",
    "fd(200)\n",
    "right(90)\n",
    "fd(120)\n",
    "right(90)\n",
    "fd(200)\n",
    "right(90)\n",
    "fd(120)\n",
    "pd()            # put down the pen, start to draw\n",
    "\n",
    "ht()            # hide the pointer.\n",
    "print(\"Voila, I have drawn the rectangle on the screen! Did you see that?\")\n",
    "print(\"瞧，我已经在屏幕上把你要的矩形画出来了，你看见了吗？\")"
   ]
  },
  {
   "cell_type": "code",
   "execution_count": 19,
   "id": "minute-scenario",
   "metadata": {},
   "outputs": [],
   "source": [
    "# bye()  # close "
   ]
  },
  {
   "cell_type": "markdown",
   "id": "2fce4645-f056-4be7-86d7-886d8b72c44e",
   "metadata": {},
   "source": [
    "### Summary 知识点小结\n",
    "\n",
    "1. 可以通过`from a import b`的形式从模块(仓库)`a`导入一个`b`，前提是`a`和`b`存在。 `b`可以是一个方法名；\n"
   ]
  },
  {
   "cell_type": "markdown",
   "id": "bc1af148-1c1d-4b2b-90d9-5a87aab8ebc2",
   "metadata": {},
   "source": [
    "### CS Tips 计算机小知识\n",
    "\n",
    "All the information presented by a screen of a monitor, such as text, shapes, pictures, etc., is composed by many different tiny spots with certain colors. The number of the spots decides the resolution(the power of representing information one time) of a screen. 一个显示器屏幕上能呈现出来的一切信息，诸如文字、图形和图片等，都是有许许多多不同颜色的小点点拼出来的。这些小点点的数量决定了一块屏幕的解析率（能一次展现的信息的多少）"
   ]
  },
  {
   "cell_type": "markdown",
   "id": "f9f70484-6376-4931-90fd-d86eca0986cd",
   "metadata": {},
   "source": [
    "### Assignments 作业"
   ]
  },
  {
   "cell_type": "markdown",
   "id": "digital-consensus",
   "metadata": {},
   "source": [
    "1. The follow code block draws a square with side length 200 right in the center of a given drawn area. Please provide correct comments for each code line explaing its role right after the \"#\" character. The first comment is already provided as an example. 下面的一代码块可以在一个给定的绘图区内绘制边长为200的正方形。请你在每一行代码后的“#”字符后书写一行代码注释来解释这行代码的具体作用。作为示例，第一行代码的作用已经给出。\n",
    "\n",
    "   Hint: you can put each of the code line into a seperate cell, execute them in order and cell by cell, and observe the changes in the draw area.\n",
    "   提示：你可以把代码块里的代码一行一行的分开放到单独的单元格中，并且依次执行他们，在绘图区观察每一个单元格执行后的效果。"
   ]
  },
  {
   "cell_type": "code",
   "execution_count": 20,
   "id": "apparent-remains",
   "metadata": {},
   "outputs": [],
   "source": [
    "# if you restarted this page, before run this code cell,\n",
    "# make sure that you executed the cell where turtle methods are imported in this page\n",
    "# 如果你重启了本页面，在执行本单元格的代码前，\n",
    "# 确保你已经执行了本页面中导入turtle库的诸多方法的那一个单元格\n",
    "\n",
    "setup(500, 400, 0, 0)    # prepare a draw area with size 500*400\n",
    "reset()                  # \n",
    "st()                     #\n",
    "pu()                     # \n",
    "bk(100)                  #\n",
    "left(90)                 # \n",
    "bk(100)                  # \n",
    "pd()                     # \n",
    "fd(200)                  # \n",
    "right(90)                # \n",
    "fd(200)                  # \n",
    "right(90)                # \n",
    "fd(200)                  # \n",
    "right(90)                # \n",
    "fd(200)                  # \n",
    "ht()                     #"
   ]
  },
  {
   "cell_type": "code",
   "execution_count": 21,
   "id": "occasional-eight",
   "metadata": {},
   "outputs": [],
   "source": [
    "bye()                    # you can only close an opened draw area by executing \n",
    "                         # this bye() method. "
   ]
  },
  {
   "cell_type": "markdown",
   "id": "boring-milton",
   "metadata": {},
   "source": [
    "2. 1). Try to write codes to draw all the three squares in a draw area like the following picture demostrates:\n",
    "   试着编写代码绘制如下图所示的绘图区内的三个正方形。\n",
    "   Requirements: 要求：\n",
    "      - a). All the three squares are absolutely located in the middle of the draw area whose size is 600*400; 所有的三个正方形都完全位于尺寸为600×400的绘图区域的中心；\n",
    "      - b). The side lengths of the three squares are: 250, 150, and 50, respectively. 三个正方形的边长依次为250，150，和50。\n",
    "\n",
    "   You can write as many codes as you want to complete this exercise. But just think if there should be and can be a solution which doesn't need that many lines of codes. write your thinking down as code comments at the end of your codes. 为了完成这个作业，你可以根据自己的需要编写任意行数的代码。\n",
    "   \n",
    "   2). 思考下有没有必要、以及有没有可能存在一种解决方案（办法），它并不需要写那么多行的代码，回答下面的问题：\n",
    "      - a). If it is possible to write less codes to complete the same task (drawing the three squares) 是否可能通过更少的代码完成同样的绘制三个正方形的工作  \n",
    "      - b). If the answer for previous question is Yes, where can we improve? 如果上题的答案是肯定的，那么在哪些环节我们的代码可以改进？   \n",
    "      - c). If it is necessary to do so, why? 这样做（用更少的代码完成同样的任务）有没有必要，为什么？\n",
    "   <br>\n",
    "   <img src = \"figures/L005_01_squares.png\" width = 500>"
   ]
  },
  {
   "cell_type": "code",
   "execution_count": 22,
   "id": "under-assurance",
   "metadata": {},
   "outputs": [],
   "source": [
    "# Start your codes here, you can write as many codes as you want\n",
    "# 从这里开始书写里的代码\n",
    "# and don't forget to hide the turtle pointer in the end.\n",
    "# 最后不要忘了隐藏表示乌龟的小三角形。\n",
    "#\n",
    "\n",
    "\n",
    "\n",
    "\n"
   ]
  },
  {
   "cell_type": "markdown",
   "id": "54fee764-a99b-4819-9d57-ac08995d2f1e",
   "metadata": {},
   "source": [
    "Write your thinking here (between 50 - 100 words) # 在这里写下你的思考(50-200字或单词期间)\n",
    "your words should answer the questions listed below: 你的文字应该能回答下列三个问题"
   ]
  },
  {
   "cell_type": "code",
   "execution_count": 23,
   "id": "80330173-a004-473d-9b6f-d84ff53db835",
   "metadata": {},
   "outputs": [],
   "source": [
    "# 1. If it is possible to write less codes to complete the same task (drawing the three squares)\n",
    "#    是否可能通过更少的代码完成同样的绘制三个正方形的工作\n",
    "#\n",
    "#"
   ]
  },
  {
   "cell_type": "code",
   "execution_count": 24,
   "id": "aa2f4d96-0953-42de-8b86-f7d63f04aa01",
   "metadata": {},
   "outputs": [],
   "source": [
    "# 2. If the answer for question1 is Yes, where we can improve?\n",
    "#    如果上题的答案是肯定的，那么在哪些环节我们的代码可以改进？\n",
    "#\n",
    "#"
   ]
  },
  {
   "cell_type": "code",
   "execution_count": 25,
   "id": "cdbbff36-aa54-4bbe-8397-7a386890b46d",
   "metadata": {},
   "outputs": [],
   "source": [
    "# 3. If it is necessary to do so, why?\n",
    "#    这样做（用更少的代码完成同样的任务）有没有必要，为什么？\n",
    "#\n",
    "#"
   ]
  },
  {
   "cell_type": "markdown",
   "id": "satisfactory-ozone",
   "metadata": {},
   "source": [
    "3. Use what you learned in this lecture and previous ones to draw whatever a picture(can be the combination of simple shapes) you would like, make a screenshot and send it to your teacher. Leave the codes for your drawing in the below cell. \n",
    "   用你在这节课上和以往的几节课上学到的知识来随心所欲地完成一次绘制（可以是各种简单图形的组合），将结果截图保存发送给你的老师。把生成这个图形的代码留在下面的单元格中。"
   ]
  },
  {
   "cell_type": "code",
   "execution_count": 26,
   "id": "personal-retailer",
   "metadata": {},
   "outputs": [],
   "source": [
    "# Leave your codes for your drawing here\n",
    "# "
   ]
  },
  {
   "cell_type": "markdown",
   "id": "0998e62d-47b0-4a19-bca5-0970c3f0ab5e",
   "metadata": {},
   "source": [
    "4. Write down all the names and role of methods you saw in the lecture1-4. an example `print` is given below:把你在第1讲至第4讲期间见到过的所有方法的名字和它们的作用写在下面"
   ]
  },
  {
   "cell_type": "code",
   "execution_count": 27,
   "id": "6b42ec7f-4a23-4046-9140-829ada95fa73",
   "metadata": {},
   "outputs": [],
   "source": [
    "# 1. print: 打印一段字符在屏幕上"
   ]
  },
  {
   "cell_type": "code",
   "execution_count": 28,
   "id": "0d8ded9e-3033-46be-bf36-c5e33f879292",
   "metadata": {},
   "outputs": [],
   "source": [
    "# 2."
   ]
  },
  {
   "cell_type": "code",
   "execution_count": 29,
   "id": "34a550c9-d12d-477f-b31e-b181a9563019",
   "metadata": {},
   "outputs": [],
   "source": [
    "# 3."
   ]
  },
  {
   "cell_type": "code",
   "execution_count": 30,
   "id": "eb7b1966-59fd-4e51-9b68-ca94505778eb",
   "metadata": {},
   "outputs": [],
   "source": [
    "# 4."
   ]
  },
  {
   "cell_type": "code",
   "execution_count": 31,
   "id": "877fb2fd-bc04-4e1a-977e-375e86fa97bb",
   "metadata": {},
   "outputs": [],
   "source": [
    "# 5."
   ]
  },
  {
   "cell_type": "code",
   "execution_count": 32,
   "id": "7ba6187c-b218-436c-9006-f833121e11e8",
   "metadata": {},
   "outputs": [],
   "source": [
    "# 6."
   ]
  },
  {
   "cell_type": "code",
   "execution_count": 33,
   "id": "10a2e1cc-5a22-451c-b2b0-2d6b2d73ac95",
   "metadata": {},
   "outputs": [],
   "source": [
    "# you can add more code cell if necessary 如果必要，你可以添加更多的代码单元格"
   ]
  },
  {
   "cell_type": "code",
   "execution_count": null,
   "id": "9c47ca37-45a4-484c-9eb8-c72ce8c76b03",
   "metadata": {},
   "outputs": [],
   "source": []
  }
 ],
 "metadata": {
  "kernelspec": {
   "display_name": "Python 3 (ipykernel)",
   "language": "python",
   "name": "python3"
  },
  "language_info": {
   "codemirror_mode": {
    "name": "ipython",
    "version": 3
   },
   "file_extension": ".py",
   "mimetype": "text/x-python",
   "name": "python",
   "nbconvert_exporter": "python",
   "pygments_lexer": "ipython3",
   "version": "3.9.0"
  }
 },
 "nbformat": 4,
 "nbformat_minor": 5
}
