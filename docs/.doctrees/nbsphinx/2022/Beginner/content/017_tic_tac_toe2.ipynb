{
 "cells": [
  {
   "cell_type": "markdown",
   "id": "6674527b-2570-406a-a335-af74e15846b9",
   "metadata": {
    "tags": []
   },
   "source": [
    "## 第17讲 综合实践：设计Tic Tac Toe游戏（二）\n",
    "\n",
    "Lecture 17. Project: Design a Tic Tac Toe Game (Part2)"
   ]
  },
  {
   "cell_type": "markdown",
   "id": "9594c99c-95fb-406d-bae4-c2c0043c8f1c",
   "metadata": {
    "tags": []
   },
   "source": [
    "### Problem 问题描述\n",
    "\n",
    "(Continued) Write a loop to let two players take actions in turn. (续上一讲）编写循环代码实现两个玩家轮流落子。\n",
    "\n"
   ]
  },
  {
   "cell_type": "markdown",
   "id": "3902b97c-3e50-4ca6-848e-d82e03657fdc",
   "metadata": {},
   "source": [
    "### Math Background 数学背景"
   ]
  },
  {
   "cell_type": "markdown",
   "id": "7a7741c7-f021-4c86-b74f-b651f7aa5919",
   "metadata": {},
   "source": [
    "无"
   ]
  },
  {
   "cell_type": "markdown",
   "id": "8b6a264d-5e40-485b-8e6d-3fae5040f2bb",
   "metadata": {
    "tags": []
   },
   "source": [
    "### Prerequisites 预备知识"
   ]
  },
  {
   "cell_type": "markdown",
   "id": "056e9c9a-6eea-4839-97a0-d91c2cdb426d",
   "metadata": {},
   "source": [
    "1. `%` 和 `//` 运算符"
   ]
  },
  {
   "cell_type": "code",
   "execution_count": null,
   "id": "cc3038e7-e912-408f-be25-a64e95cdd317",
   "metadata": {},
   "outputs": [],
   "source": [
    "i = 0\n",
    "while i <= 10:\n",
    "    print(\"{} % {} = {}\".format(i, 3, i%3))   # mod， 余数， remainder\n",
    "    i += 1"
   ]
  },
  {
   "cell_type": "code",
   "execution_count": null,
   "id": "e02e536e-4304-4a5c-8809-bb133ec5d111",
   "metadata": {},
   "outputs": [],
   "source": [
    "1 // 3"
   ]
  },
  {
   "cell_type": "code",
   "execution_count": null,
   "id": "aae6709d-e67a-4f5d-b00c-456a592da62c",
   "metadata": {},
   "outputs": [],
   "source": [
    "i = 0\n",
    "while i <= 10:\n",
    "    print(\"{} // {} = {} <-> {} / {} = {}\".format(i, 3, i//3, i, 3, i/3))   # div， 商， quotien\n",
    "    i += 1"
   ]
  },
  {
   "cell_type": "markdown",
   "id": "925507bf-b5ee-4df6-a93a-2d581a8a4a8c",
   "metadata": {
    "tags": []
   },
   "source": [
    "### Solution 编程求解"
   ]
  },
  {
   "cell_type": "code",
   "execution_count": null,
   "id": "98c33c83-a824-49bd-b0c7-5637d7bff40e",
   "metadata": {},
   "outputs": [],
   "source": [
    "board = ['-', '-', '-', \n",
    "         '-', '-', '-', \n",
    "         '-', '-', '-']\n",
    "print(board[0], board[1], board[2])\n",
    "print(board[3], board[4], board[5])\n",
    "print(board[6], board[7], board[8])\n",
    "\n",
    "player1, player2 = \"\", \"\"\n",
    "player1 = input(\"please input player1's name (x):\")\n",
    "player2 = input(\"please input player2's name (o):\")\n",
    "print(\"== {}(x) VS {}(o) ==\".format(player1, player2))\n",
    "\n",
    "cur_player, cur_char = player1, \"x\"               # cur_player表示当前需要下棋（行动）的玩家\n",
    "is_game_over = False                    # 表示游戏是否结束\n",
    "winner = None\n",
    "while (not is_game_over):\n",
    "    \n",
    "    #Step 1. 获取当前玩家合法允许的落子位置\n",
    "         # 获取当前玩家的输入位置\n",
    "    prompt_str = \"玩家{}, 输入你的落子({})位置(0-8):\".format(cur_player, cur_char)\n",
    "    target_pos = int(input(prompt_str))\n",
    "    # 检查这个位置是否合法（允许），\n",
    "    if board[target_pos] == '-': # 合法\n",
    "        pass\n",
    "    #如果不允许，要求玩家重复输入位置，直到位置合法位置\n",
    "    else:\n",
    "        while board[target_pos] in ['x', 'o']:\n",
    "            target_pos = int(input(\"不合法，请重新输入你的落子位置(0-8):\"))\n",
    "            \n",
    "    #Step 2. 将这个位置的状态从\"-\"变成当前玩家对应的棋的字符\n",
    "    board[target_pos] = cur_char\n",
    "    #        打印当前棋盘状态\n",
    "    print(board[0], board[1], board[2])\n",
    "    print(board[3], board[4], board[5])\n",
    "    print(board[6], board[7], board[8])\n",
    "\n",
    "    \n",
    "    #Step 3. 判断当前是否已经有人赢了？\n",
    "        # 有人赢了 -> winner = cur_player\n",
    "        # 没有人赢 -> 检查棋盘是不是满了\n",
    "            # 如果棋盘满了 -> 和棋，游戏结束了 game over\n",
    "            # 如果棋盘没有满 -> 更换当前玩家为对方玩家\n",
    "    #cur_player = player2 if cur_player == player1 else player1\n",
    "    #cur_char = \"x\" if cur_player == player1 else \"o\"\n",
    "    if cur_player == player1:\n",
    "        cur_player = player2\n",
    "        cur_char = \"o\"\n",
    "    else:\n",
    "        cur_player = player1\n",
    "        cur_char = \"x\"\n",
    "    \n",
    "# 游戏已经结束\n",
    "# 宣布游戏结果：谁赢了，还是和棋？    "
   ]
  },
  {
   "cell_type": "markdown",
   "id": "2142fc0b-ddb7-4d28-894b-42a8355bc759",
   "metadata": {},
   "source": [
    "### Assignments 作业"
   ]
  },
  {
   "cell_type": "markdown",
   "id": "20f6f1f6-4bc4-4227-9761-7a29baa68108",
   "metadata": {},
   "source": [
    "1. Quetien and Remainder 商和余数\n",
    "    1. Write a program to print out all natural numbers between 1 and 1000(inclusive) that can be divided by 3, 5, 7, and 11. 编写程序找出并打印1-1000（包括1和1000）之间所有能同时被3，5，7, 11整除的自然数。\n",
    "    2. Write a program to print out all natural numbers between 1 and 1000(inclusive) that has as a remainder of 1 when divided by 3, 5, 7, and 11. 编写程序找出并打印1-1000（包括1和1000）之间所有被3，5，7, 11除时余数均为1的自然数。"
   ]
  },
  {
   "cell_type": "code",
   "execution_count": null,
   "id": "8c4ad11f-7476-4b94-9250-22376a3ee611",
   "metadata": {},
   "outputs": [],
   "source": [
    "#A."
   ]
  },
  {
   "cell_type": "code",
   "execution_count": null,
   "id": "e27979bd-87ba-43a4-93aa-a4407829b5a6",
   "metadata": {},
   "outputs": [],
   "source": [
    "#B."
   ]
  },
  {
   "cell_type": "markdown",
   "id": "20421c37-3b5c-43d6-8c14-b1e3318b1eaa",
   "metadata": {},
   "source": [
    "2. Using `//` operator rather than `%` operator, fix the error in the code below to correctly display the tic-tac-tow game board layout. 使用`//`而不是`%`运算符，纠正下面代码中的错误使得其能正确显示tic-tac-tow游戏棋盘布局。\n",
    "\n",
    "```python\n",
    "board = ['-', '-', '-', '-', '-', '-', '-', '-', '-']\n",
    "i = 0\n",
    "while i < len(board):\n",
    "    print(board[i], end = \" \")\n",
    "    if i // 3 == i / 3:   # the condition is wrong, fix it. 此处的条件不正确，修复它\n",
    "        print()\n",
    "    i += 1\n",
    "```"
   ]
  },
  {
   "cell_type": "code",
   "execution_count": 1,
   "id": "411926f8-7216-4926-9ee4-ff80843af1a8",
   "metadata": {},
   "outputs": [
    {
     "name": "stdout",
     "output_type": "stream",
     "text": [
      "- \n",
      "- - - \n",
      "- - - \n",
      "- - "
     ]
    }
   ],
   "source": [
    "board = ['-', '-', '-', '-', '-', '-', '-', '-', '-']\n",
    "i = 0\n",
    "while i < len(board):\n",
    "    print(board[i], end = \" \")\n",
    "    if i // 3 == i / 3:   # the condition is wrong, fix it. 此处的条件不正确，修复它\n",
    "        print()\n",
    "    i += 1"
   ]
  },
  {
   "cell_type": "markdown",
   "id": "da30b17f-7361-45ee-9c58-9e2560702cb0",
   "metadata": {},
   "source": [
    "3. When using the operator `//` to print the tic-tac-toe game board, Milly used the following code. Please read and the code and explain how it displays the board correctly with different board positions. 在使用运算符`//`打印tic-tac-toe游戏棋盘时，Milly同学使用了下面的代码，请阅读理解这段代码并举例（不同的棋盘位置）解释它时如何正确显示这个棋盘的。\n",
    "\n",
    "```python\n",
    "board_places = ['-', '-', '-', '-', '-', '-', '-', '-', '-' ]\n",
    "print(board_places[0], board_places[1], board_places[2])\n",
    "print(board_places[3], board_places[4], board_places[5])\n",
    "print(board_places[6], board_places[7], board_places[8])\n",
    "i = 0\n",
    "while i < len(board_places):\n",
    "    print(board_places[i], end=\" \")\n",
    "    Quotient = i // 3            #商\n",
    "    if i - Quotient * 3 == 2:\n",
    "        print()\n",
    "    i += 1\n",
    "print(\"感谢Milly同学提供此段代码\")\n",
    "```"
   ]
  },
  {
   "cell_type": "code",
   "execution_count": null,
   "id": "bfaefbf5-4f98-4c4e-9c42-67abe6c57296",
   "metadata": {},
   "outputs": [],
   "source": [
    "# write your answer here\n",
    "#\n",
    "#\n",
    "#"
   ]
  },
  {
   "cell_type": "markdown",
   "id": "d64cf349-3c8f-4f32-ab91-455b40b1344e",
   "metadata": {},
   "source": [
    "4. Write a program, using list variables and characters `+`, to represent all $19\\times19$ positions on the **Go(Weiqi)** board, place an \"o\" in the center of the board, and finally print the board. 使用列表型变量和字符`+`编写程序表示围棋棋盘上所有$19\\times19$个可以落子的位置，在棋盘正中央放置一个\"o\"，最终打印这个棋盘。"
   ]
  },
  {
   "cell_type": "code",
   "execution_count": null,
   "id": "9e961329-7ce7-4a9c-b9c3-ac6061042ed9",
   "metadata": {},
   "outputs": [],
   "source": []
  },
  {
   "cell_type": "markdown",
   "id": "3d347a8d-931d-41f3-b0b5-861ad21b29df",
   "metadata": {},
   "source": [
    "5. Try to complete Step3 within the `while` loop of the code provided in the soluton to check if the game has a winner or tie. 尝试完成本讲Solution里提供的代码中`while`循环里的第三步，验证游戏是否有一个赢家或者和棋。"
   ]
  },
  {
   "cell_type": "code",
   "execution_count": null,
   "id": "b8c4ff3f-075c-4c6f-b0bb-3575bccff41a",
   "metadata": {},
   "outputs": [],
   "source": []
  }
 ],
 "metadata": {
  "kernelspec": {
   "display_name": "Python 3 (ipykernel)",
   "language": "python",
   "name": "python3"
  },
  "language_info": {
   "codemirror_mode": {
    "name": "ipython",
    "version": 3
   },
   "file_extension": ".py",
   "mimetype": "text/x-python",
   "name": "python",
   "nbconvert_exporter": "python",
   "pygments_lexer": "ipython3",
   "version": "3.9.0"
  }
 },
 "nbformat": 4,
 "nbformat_minor": 5
}
