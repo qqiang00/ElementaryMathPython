{
 "cells": [
  {
   "cell_type": "markdown",
   "id": "relative-location",
   "metadata": {},
   "source": [
    "## 第03讲 和计算机对话\n",
    "Lecture03 Communicate with Computer"
   ]
  },
  {
   "cell_type": "markdown",
   "id": "d12f05dd",
   "metadata": {},
   "source": [
    "### Problem 问题描述"
   ]
  },
  {
   "cell_type": "markdown",
   "id": "c7cd1f0b-8266-49f3-a77e-806bec2c40ce",
   "metadata": {},
   "source": [
    "Write a program to get the sum of two integers and print out the math expression. Here are the requirements. 编写一段程序，实现两个数的加法计算。具体要求如下：\n",
    "\n",
    "1. The two numbers should be integers between 0 and 100 (both included). Besides, the two integers are specified during during the runtime, received by the input from keyboards rather than before the program runs. 这两个数字应该是 0 到 100 之间的整数（包括这两个数）。 此外，这两个整数是在程序运行期间通过键盘输入确定的，而不是在程序运行之前就指定好的；\n",
    "\n",
    "2. The program receives the two integers, sums them up and get the result.程序接收这两个整数，把他们相加得到他们的和；\n",
    "\n",
    "3. the program prints out the whole math equation, including the two integers，add sign(+), equal sign(=), and the final result. 程序输出整个数学等式，包括两个整数、加法运算符(+)、等号(=)和它们的和。"
   ]
  },
  {
   "cell_type": "markdown",
   "id": "animated-batch",
   "metadata": {},
   "source": [
    "### Math Background 数学背景\n",
    "\n",
    "1. 简单的四则运算"
   ]
  },
  {
   "cell_type": "markdown",
   "id": "sorted-furniture",
   "metadata": {
    "heading_collapsed": true
   },
   "source": [
    "### Prerequisites 预备知识\n",
    "1. 如何通过键盘获取输入\n",
    "2. 如何将键盘输入的字符串数据转化为整数类型的数据"
   ]
  },
  {
   "cell_type": "code",
   "execution_count": 1,
   "id": "9c1f45c3-133d-45f3-9e0f-9da2238828ee",
   "metadata": {},
   "outputs": [
    {
     "name": "stdout",
     "output_type": "stream",
     "text": [
      "18\n"
     ]
    }
   ],
   "source": [
    "age_Milly = 8\n",
    "age_Cynthia = 10\n",
    "age_total = age_Milly + age_Cynthia\n",
    "print(age_total)"
   ]
  },
  {
   "cell_type": "code",
   "execution_count": 2,
   "id": "76b091e7-f33a-4ed1-9230-58534a48a45d",
   "metadata": {},
   "outputs": [
    {
     "data": {
      "text/plain": [
       "8"
      ]
     },
     "execution_count": 2,
     "metadata": {},
     "output_type": "execute_result"
    }
   ],
   "source": [
    "# age_Milly变量在上一个单元格中向计算机进行了注册\n",
    "age_Milly"
   ]
  },
  {
   "cell_type": "code",
   "execution_count": 3,
   "id": "33df4927-acfb-4eb9-8317-cf284442cb81",
   "metadata": {},
   "outputs": [
    {
     "ename": "NameError",
     "evalue": "name 'num1' is not defined",
     "output_type": "error",
     "traceback": [
      "\u001b[0;31m---------------------------------------------------------------------------\u001b[0m",
      "\u001b[0;31mNameError\u001b[0m                                 Traceback (most recent call last)",
      "\u001b[0;32m<ipython-input-3-fb6b95cbc320>\u001b[0m in \u001b[0;36m<module>\u001b[0;34m\u001b[0m\n\u001b[1;32m      1\u001b[0m \u001b[0;31m# 变量num1从未向计算机注册过，运行这个单元格会发生错误提示：计算机不认识num1这个变量\u001b[0m\u001b[0;34m\u001b[0m\u001b[0;34m\u001b[0m\u001b[0;34m\u001b[0m\u001b[0m\n\u001b[0;32m----> 2\u001b[0;31m \u001b[0mnum1\u001b[0m\u001b[0;34m\u001b[0m\u001b[0;34m\u001b[0m\u001b[0m\n\u001b[0m",
      "\u001b[0;31mNameError\u001b[0m: name 'num1' is not defined"
     ]
    }
   ],
   "source": [
    "# 变量num1从未向计算机注册过，运行这个单元格会发生错误提示：计算机不认识num1这个变量\n",
    "num1"
   ]
  },
  {
   "cell_type": "code",
   "execution_count": 4,
   "id": "96853b00-bd9b-4eee-8524-7b93d3bcbcbd",
   "metadata": {},
   "outputs": [],
   "source": [
    "cur_year, target_year = 2022, 2035"
   ]
  },
  {
   "cell_type": "code",
   "execution_count": 5,
   "id": "5a20ed48-3743-44ca-bb49-86054eff570f",
   "metadata": {},
   "outputs": [],
   "source": [
    "# 下面的两行代码与上一个单元格中的一行代码等效\n",
    "cur_year = 2022\n",
    "target_year = 2035"
   ]
  },
  {
   "cell_type": "code",
   "execution_count": 7,
   "id": "8b9b431e-706d-423b-adac-295039245342",
   "metadata": {
    "tags": []
   },
   "outputs": [
    {
     "name": "stdin",
     "output_type": "stream",
     "text": [
      " Friday\n"
     ]
    },
    {
     "data": {
      "text/plain": [
       "'Friday'"
      ]
     },
     "execution_count": 7,
     "metadata": {},
     "output_type": "execute_result"
    }
   ],
   "source": [
    "# input 方法获取来自键盘的输入\n",
    "input()"
   ]
  },
  {
   "cell_type": "code",
   "execution_count": 8,
   "id": "a2bff0f6-506d-49ff-8441-a88d43c76c07",
   "metadata": {},
   "outputs": [
    {
     "name": "stdin",
     "output_type": "stream",
     "text": [
      "What day is today: Friday\n"
     ]
    },
    {
     "data": {
      "text/plain": [
       "'Friday'"
      ]
     },
     "execution_count": 8,
     "metadata": {},
     "output_type": "execute_result"
    }
   ],
   "source": [
    "# input 方法接受字符串型参数作为提示符\n",
    "input(\"What day is today:\")"
   ]
  },
  {
   "cell_type": "code",
   "execution_count": 9,
   "id": "53834dcc-2660-4d37-b8fe-fdc316436062",
   "metadata": {},
   "outputs": [],
   "source": [
    "today = None"
   ]
  },
  {
   "cell_type": "code",
   "execution_count": 10,
   "id": "6de2a283-69fc-46e0-aafd-e99a736ff082",
   "metadata": {},
   "outputs": [
    {
     "name": "stdin",
     "output_type": "stream",
     "text": [
      "What day is today: Friday\n"
     ]
    }
   ],
   "source": [
    "today = input(\"What day is today:\")"
   ]
  },
  {
   "cell_type": "code",
   "execution_count": 11,
   "id": "d7852fa4-c603-4961-acc3-8d67b4e099b2",
   "metadata": {},
   "outputs": [
    {
     "name": "stdout",
     "output_type": "stream",
     "text": [
      "Friday\n"
     ]
    }
   ],
   "source": [
    "print(today)"
   ]
  },
  {
   "cell_type": "code",
   "execution_count": 12,
   "id": "9e1a3ba2-4b90-4b9d-9c6e-ae31e3c8d3dc",
   "metadata": {},
   "outputs": [
    {
     "name": "stdout",
     "output_type": "stream",
     "text": [
      "Today is Friday .\n"
     ]
    }
   ],
   "source": [
    "print(\"Today is\", today, \".\")"
   ]
  },
  {
   "cell_type": "code",
   "execution_count": 13,
   "id": "b4b80f79-2c6e-4474-a84c-76ccd35cb09a",
   "metadata": {},
   "outputs": [
    {
     "name": "stdin",
     "output_type": "stream",
     "text": [
      "give me a integer: 123\n"
     ]
    },
    {
     "ename": "TypeError",
     "evalue": "can only concatenate str (not \"int\") to str",
     "output_type": "error",
     "traceback": [
      "\u001b[0;31m---------------------------------------------------------------------------\u001b[0m",
      "\u001b[0;31mTypeError\u001b[0m                                 Traceback (most recent call last)",
      "\u001b[0;32m<ipython-input-13-8e62c0f4d48b>\u001b[0m in \u001b[0;36m<module>\u001b[0;34m\u001b[0m\n\u001b[1;32m      1\u001b[0m \u001b[0mnum\u001b[0m \u001b[0;34m=\u001b[0m \u001b[0minput\u001b[0m\u001b[0;34m(\u001b[0m\u001b[0;34m\"give me a integer:\"\u001b[0m\u001b[0;34m)\u001b[0m\u001b[0;34m\u001b[0m\u001b[0;34m\u001b[0m\u001b[0m\n\u001b[0;32m----> 2\u001b[0;31m \u001b[0mnum_after\u001b[0m \u001b[0;34m=\u001b[0m \u001b[0mnum\u001b[0m \u001b[0;34m+\u001b[0m \u001b[0;36m1\u001b[0m\u001b[0;34m\u001b[0m\u001b[0;34m\u001b[0m\u001b[0m\n\u001b[0m\u001b[1;32m      3\u001b[0m \u001b[0mprint\u001b[0m\u001b[0;34m(\u001b[0m\u001b[0mnum_after\u001b[0m\u001b[0;34m)\u001b[0m\u001b[0;34m\u001b[0m\u001b[0;34m\u001b[0m\u001b[0m\n\u001b[1;32m      4\u001b[0m \u001b[0;34m\u001b[0m\u001b[0m\n\u001b[1;32m      5\u001b[0m \u001b[0;31m# asdf -> 'asdf'\u001b[0m\u001b[0;34m\u001b[0m\u001b[0;34m\u001b[0m\u001b[0;34m\u001b[0m\u001b[0m\n",
      "\u001b[0;31mTypeError\u001b[0m: can only concatenate str (not \"int\") to str"
     ]
    }
   ],
   "source": [
    "num = input(\"give me a integer:\")\n",
    "num_after = num + 1\n",
    "print(num_after)\n",
    "\n",
    "# asdf -> 'asdf'\n",
    "# 123 -> '123'"
   ]
  },
  {
   "cell_type": "code",
   "execution_count": 14,
   "id": "c6768546-65b1-4384-adc8-294a634ecb44",
   "metadata": {},
   "outputs": [
    {
     "name": "stdin",
     "output_type": "stream",
     "text": [
      "give me a integer: 123\n"
     ]
    },
    {
     "name": "stdout",
     "output_type": "stream",
     "text": [
      "The number after you input is: 124 .\n"
     ]
    }
   ],
   "source": [
    "num = input(\"give me a integer:\")\n",
    "num_after = int(num) + 1\n",
    "print(\"The number after you input is:\", num_after, \".\")"
   ]
  },
  {
   "cell_type": "markdown",
   "id": "d55f37d9",
   "metadata": {},
   "source": [
    "### Solution 编程求解"
   ]
  },
  {
   "cell_type": "code",
   "execution_count": 15,
   "id": "6cf0130b-541a-4fa3-8959-4b44a5082a17",
   "metadata": {},
   "outputs": [
    {
     "name": "stdout",
     "output_type": "stream",
     "text": [
      "我可以帮你做简单的加法运算\n"
     ]
    },
    {
     "name": "stdin",
     "output_type": "stream",
     "text": [
      "请输入第一个加数: 156\n",
      "请输入第二个加数: 315\n"
     ]
    },
    {
     "name": "stdout",
     "output_type": "stream",
     "text": [
      "156 + 315 = 471\n"
     ]
    }
   ],
   "source": [
    "# solution 1 解决方案1\n",
    "print(\"我可以帮你做简单的加法运算\")\n",
    "first_input = input(\"请输入第一个加数:\")\n",
    "second_input = input(\"请输入第二个加数:\")\n",
    "num_a = int(first_input)\n",
    "num_b = int(second_input)\n",
    "sum_ab = num_a + num_b\n",
    "print(num_a, \"+\", num_b, \"=\", sum_ab)"
   ]
  },
  {
   "cell_type": "code",
   "execution_count": 16,
   "id": "46cdb097-856b-4bfe-9927-0f937da7d906",
   "metadata": {},
   "outputs": [
    {
     "name": "stdin",
     "output_type": "stream",
     "text": [
      "请输入第一个整数: 12\n",
      "请输入第二个整数: 26\n"
     ]
    },
    {
     "name": "stdout",
     "output_type": "stream",
     "text": [
      "12 + 26 = 38\n"
     ]
    }
   ],
   "source": [
    "# Solution 2 解决方案2\n",
    "num1 = int(input(\"请输入第一个整数:\"))\n",
    "num2 = int(input(\"请输入第二个整数:\"))\n",
    "print(num1, \"+\", num2, \"=\", num1 + num2)"
   ]
  },
  {
   "cell_type": "markdown",
   "id": "latest-contamination",
   "metadata": {},
   "source": [
    "### Summary 知识点小结"
   ]
  },
  {
   "cell_type": "markdown",
   "id": "afb3f674",
   "metadata": {},
   "source": [
    "1. Use method `input` to get data from keyboard input，received data is a string 使用`print`方法获取来自键盘的输入，得到的数据是一个字符串；\n",
    "2. Use method `int` to convert a string to integer if possible 如果可能，使用`int`方法可以将一个字符串编程一个整数；\n",
    "3. method `print` can print out multiple variable values or strings seperated by comma `print`方法可以同时打印由逗号分隔的多个变量的值或字符串；\n",
    "4. 变量（对象的一种）在使用之前一定要先向计算机（解释器）注册，赋值语句可以完成这样的注册并给变量一个具体的值；计算机（解释器）禁止使用未注册的变量（对象）；\n",
    "5. 当向计算机注册一个变量但并不清楚具体的值时，可以把`None`赋值给这个变量，`None`表示“空”；\n",
    "6. 可以在一行代码中分别给多个变量赋值，多个变量、值之间用逗号隔开，例如：`a, b = 1, 2` 表示分别把`1`和`2`赋值给变量`a`和`b`；\n",
    "7. 变量是分类别的，可以是整数型变量，它存放整数数据；也可以是字符串型变量，它存放字符串数据；还有其他一些类型的变量；\n",
    "8. 使用`int()`方法将尝试把一个其它类型的变量转换成整数型变量；"
   ]
  },
  {
   "cell_type": "markdown",
   "id": "bizarre-assurance",
   "metadata": {},
   "source": [
    "### 计算机小知识"
   ]
  },
  {
   "cell_type": "markdown",
   "id": "92100f08",
   "metadata": {},
   "source": [
    "在计算机中，数据分为多个种类，例如：整数、小数（又称为浮点数）、字符串（一串字符）等。例如，123，0，10等是整数；3.14，12.00，2.71828， 1.414等是小数，'a', 'abc', 'Milly', 'Cynthia'等是字符串。在计算机中小数也是使用整数的形式存储的。"
   ]
  },
  {
   "cell_type": "markdown",
   "id": "digital-consensus",
   "metadata": {
    "heading_collapsed": true
   },
   "source": [
    "### Assignments 作业"
   ]
  },
  {
   "cell_type": "markdown",
   "id": "d15bb705-50dc-43a8-bf40-948094ef9f2a",
   "metadata": {},
   "source": [
    "1. Referring to the example in this lecture, design a simple program that can perform **subtraction**. When the program runs, first print out a sentence telling that the computer will do a **substraction** operation and who will be **minuend** and **subtrahend**, respectively. You can determin the content by yourself but the information should be clear enough without any ambiguity. The rest of the requirements are the same as the example in this lecture. \n",
    "\n",
    "   参照本讲示例的内容，设计一个简单的可以进行减法运算的程序。当程序运行时，你需要首先向屏幕打印输出一行文字，提示即将进行的是减法运算以及明确**被减数**和**减数**。你可以自己决定文字的具体内容，但必须足够清晰以及没有歧义。其它要求同本讲示例的要求。\n",
    "    \n",
    "   **Think and Answer in text**： If the subtrahend is greater than minuend, will your program provide an answer? \n",
    "   \n",
    "   **思考并用文字回答**:如果减数比被减数大，你的程序能给出一个答案吗？"
   ]
  },
  {
   "cell_type": "code",
   "execution_count": null,
   "id": "192b1a79-08c6-43ab-b140-61704f0d0cf0",
   "metadata": {
    "tags": []
   },
   "outputs": [],
   "source": [
    "# write your code here\n"
   ]
  },
  {
   "cell_type": "code",
   "execution_count": null,
   "id": "9256a73b-5f49-48ce-819c-ac8c0ce21c04",
   "metadata": {},
   "outputs": [],
   "source": [
    "# write your answer for the thinking here\n",
    "# "
   ]
  },
  {
   "cell_type": "markdown",
   "id": "2753ccfd-9ba2-4c8b-8f6b-b2514846d624",
   "metadata": {},
   "source": [
    "2. Referring to the example in this lecture, design a simple program that can perform **Division**. When the program runs, first print out a sentence telling that the computer will do a **Division** operation and who will be **Dividend** and **divisor**, respectively. You can determin the content by yourself but the information should be clear enough without any ambiguity. The rest of the requirements are the same as the example in this lecture. \n",
    "\n",
    "   参照本讲示例的内容，设计一个简单的可以进行**除法**的程序。当程序运行时，你需要首先向屏幕打印输出一行文字，提示即将进行的是**除法**运算以及明确**被除数**和**除数**。你可以自己决定文字的具体内容，但必须足够清晰以及没有歧义。其它要求同本讲示例的要求。\n",
    "    \n",
    "   **Think and Answer in text**： If the divisor is equal to 0, will your program provide an answer? Why?\n",
    "   \n",
    "   **思考并用文字回答**:如果除数为0，你的程序能给出答案吗？ 为什么？"
   ]
  },
  {
   "cell_type": "code",
   "execution_count": null,
   "id": "6e8d151d-f43b-41d9-8d86-98d19a565d5e",
   "metadata": {},
   "outputs": [],
   "source": [
    "# write your code here\n"
   ]
  },
  {
   "cell_type": "code",
   "execution_count": null,
   "id": "1051b472-8c03-4ab3-bd22-b7b3d733075e",
   "metadata": {},
   "outputs": [],
   "source": [
    "# write your answer for the thinking here\n",
    "# "
   ]
  },
  {
   "cell_type": "markdown",
   "id": "947f8bf8-763f-4f31-9b04-6b47ccf38a03",
   "metadata": {},
   "source": [
    "3. Use the 2rd to 11th code cells, write a piece of code in a separate code cell to make the program accepts input from the keyboard. Enter the each content listed below in one code cell, try to convert the received string data to an integer using the `int` method, print it out to the screen again. Observe whether the program can run normally without errors. Write all results in the first code cell as a comment. The first data `0` is given as an example. 使用第2-11个单元格，分别用一个单独的代码单元格编写一段代码，使得程序接受来自键盘的输入。通过键盘输入下面所列的内容，尝试使用`int`方法把接收到的字符串数据转换为整数，并再次打印输出到屏幕上。观察程序是否能够正常运行并把每次结果汇总作为注释写在第一个代码单元格中。\n",
    "\n",
    "   输入的内容依次为：`0`, `100`, `10.1`, `10.9`, `\"100\"`, `Milly`, `\"Milly\"`, `Cynthia`, `\"Cynthia\"`, ` `, 共计10个。"
   ]
  },
  {
   "cell_type": "code",
   "execution_count": null,
   "id": "820dfa83-4696-4af2-aa9e-f8e39695564b",
   "metadata": {},
   "outputs": [],
   "source": [
    "# Code Cell 1 for your final text answer\n",
    "# 0          Success, the integer is: 0\n",
    "# 100       \n",
    "# 10.1      \n",
    "# 10.9      \n",
    "# “100”       \n",
    "# Milly     \n",
    "# \"Milly\"   \n",
    "# Cynthia   \n",
    "# “Cynthia\" "
   ]
  },
  {
   "cell_type": "code",
   "execution_count": null,
   "id": "7ba04976-abc0-40f7-a162-204a79d40d8c",
   "metadata": {},
   "outputs": [],
   "source": [
    "# Code Cell 2 for your code for the input 0\n",
    "my_input = input()\n",
    "num1 = int(my_input)\n",
    "print(num1)"
   ]
  },
  {
   "cell_type": "code",
   "execution_count": null,
   "id": "cf6cbee1-b73f-466a-b17b-73ef5bdeabbd",
   "metadata": {},
   "outputs": [],
   "source": [
    "# Code Cell 3 for your code for the input 100\n"
   ]
  },
  {
   "cell_type": "code",
   "execution_count": null,
   "id": "2cea04e0-4734-4286-94b3-5ea3e56b6722",
   "metadata": {},
   "outputs": [],
   "source": [
    "# Code Cell 4 for your code for the input 10.1\n"
   ]
  },
  {
   "cell_type": "code",
   "execution_count": null,
   "id": "91cf2ec4-fce7-4ae7-810a-fe69f420a06b",
   "metadata": {},
   "outputs": [],
   "source": [
    "# Code Cell 5 for your code for the input 10.9\n"
   ]
  },
  {
   "cell_type": "code",
   "execution_count": null,
   "id": "cfb9a0b0-036f-4f62-9b3a-bad54d3e1343",
   "metadata": {},
   "outputs": [],
   "source": [
    "# Code Cell 6 for your code for the input “100”\n"
   ]
  },
  {
   "cell_type": "code",
   "execution_count": null,
   "id": "7705feda-1bfc-45c6-a5c0-150ddc72a46b",
   "metadata": {},
   "outputs": [],
   "source": [
    "# Code Cell 7 for your code for the input Milly\n"
   ]
  },
  {
   "cell_type": "code",
   "execution_count": null,
   "id": "2fc1066b-738d-4771-beb1-77994b386480",
   "metadata": {},
   "outputs": [],
   "source": [
    "# Code Cell 8 for your code for the input \"Milly\"\n"
   ]
  },
  {
   "cell_type": "code",
   "execution_count": null,
   "id": "e797946e-2b8d-4efc-9a1c-0061a3c02723",
   "metadata": {},
   "outputs": [],
   "source": [
    "# Code Cell 9 for your code for the input Cynthia\n"
   ]
  },
  {
   "cell_type": "code",
   "execution_count": null,
   "id": "0fd07332-83a9-4f0f-a58f-3d332cf74853",
   "metadata": {},
   "outputs": [],
   "source": [
    "# Code Cell 10 for your code for the input \"Cynthia\"\n"
   ]
  },
  {
   "cell_type": "code",
   "execution_count": null,
   "id": "d247137a-8a32-4163-b8c7-decfe36b9514",
   "metadata": {},
   "outputs": [],
   "source": [
    "# Code Cell 11 for your code for the input  <a blank character> <一个空格字符>\n"
   ]
  },
  {
   "cell_type": "markdown",
   "id": "controversial-sleeve",
   "metadata": {
    "hidden": true
   },
   "source": [
    "4. You are able to design some simple programs. When you are writing and running programs, the computer is like your little assistant to help you solve some mathematical and real problems. As your assistant, the computer would like to know some of your personal information, such as your name, age, age, what grade you are in school, etc. Please write a program to simulate the following dialogue between you and the computer.\n",
    "\n",
    "   你现在已经能够设计一些最简单的程序了。在编写并运行程序的过程中，计算机就相当于你的小助手协助你解决一些数学和实际问题。作为你的小助手，计算机很想知道你的一些个人信息，比如你的姓名、年龄、年龄、你在几年级上学等。请你编写一段程序模拟下面这段你与计算机之间的对话。\n",
    "   \n",
    "   **Note1**:Before writing the program, give your computer a virtual name, such as \"Happy Little Computer\". Ask your parents how old the computer is, such as 5 years old. These information will be included in the dialog. \n",
    "   \n",
    "   **注意1**：在正式编写程序之前，给你的计算机起一个虚拟的名字，例如“开心小电脑”。询问你的爸爸妈妈正在使用的这台计算机的岁数，例如5岁。这些信息需要在对话中使用。\n",
    "   \n",
    "   **Note2**: In addition to your name, age, and class level, please provide another piece of you personal information to your assistant. Use a descent style to include this information in the dialog between you and your assitant by programming. \n",
    "   \n",
    "   **注意2**：除了姓名、年龄，和年级之外，请你再向计算机提供一条关于你的个人信息，并通过编程体现与计算机的对话中，注意衔接自然。\n",
    "\n",
    "    ```text\n",
    "    - Computer: Hello, my name is Happy Little Computer, what is your name?\n",
    "    - You: (enter your name, eg. XXX)\n",
    "    - Computer: Hello, XXX , nice to meet you. I'd be happy to help you learn programming. How old are you?\n",
    "    - you: (enter age, eg. Y)\n",
    "    - Computer: You are already Y years old. I am 5 years old. What grade are you in school?\n",
    "    - You: (Enter your grade, eg. \"4th grade of primary school\")\n",
    "    - Computer: \"You must be able to learn a lot of new things in 4th grade of primary school. Let's learn and progress together.\n",
    "    - You: Okay, but I'm going to play outside. I'll see you again when I do my programming homework, bye!\n",
    "    - Computer: OK, bye!\n",
    "\n",
    "    - 计算机：你好，我叫 开心小电脑 ，你叫什么名字？\n",
    "    - 你：（输入你的名字，例如XXX）\n",
    "    - 计算机：XXX ，你好，很高兴认识你，我也很乐意协助你一起学习编程。你今年几岁了？\n",
    "    - 你：（输入年龄，例如Y）\n",
    "    - 计算机：原来你今年已经 Y 岁啦。我今年也有 5 岁了。你上小学几年级了？\n",
    "    - 你：（输入你的年级，例如“小学4年级”）\n",
    "    - 计算机：“小学4年级 一定能学到很多新的知识吧，咱们一起学习进步。\n",
    "    - 你：好的，可是我现在要出去玩了，等我写编程作业的时候再来找你，再见！\n",
    "    - 计算机：好的，再见！\n",
    "    ```"
   ]
  },
  {
   "cell_type": "code",
   "execution_count": null,
   "id": "healthy-auditor",
   "metadata": {
    "hidden": true
   },
   "outputs": [],
   "source": []
  }
 ],
 "metadata": {
  "kernelspec": {
   "display_name": "Python 3",
   "language": "python",
   "name": "python3"
  },
  "language_info": {
   "codemirror_mode": {
    "name": "ipython",
    "version": 3
   },
   "file_extension": ".py",
   "mimetype": "text/x-python",
   "name": "python",
   "nbconvert_exporter": "python",
   "pygments_lexer": "ipython3",
   "version": "3.8.10"
  }
 },
 "nbformat": 4,
 "nbformat_minor": 5
}
