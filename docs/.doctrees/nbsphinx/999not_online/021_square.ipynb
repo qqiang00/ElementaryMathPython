{
 "cells": [
  {
   "cell_type": "markdown",
   "id": "relative-location",
   "metadata": {},
   "source": [
    "## 第20讲 正方形与乘方"
   ]
  },
  {
   "cell_type": "markdown",
   "id": "d12f05dd",
   "metadata": {},
   "source": [
    "### Problem 问题描述"
   ]
  },
  {
   "cell_type": "markdown",
   "id": "87c843e7-cbef-4128-9360-c3ebd33dcc1b",
   "metadata": {},
   "source": [
    "使用`qianglib`库提供的方法，绘制方格坐标纸，其中坐标系的原点`(0,0)`位于绘图区的最左下方，使用的`scale`值为`20`. Use the methods provided in the library `qianglib`, draw a grid coordinate system where the origin `(0, 0)` is at the bottom left of the coordinate system."
   ]
  },
  {
   "cell_type": "markdown",
   "id": "075dc2c3-429c-4e18-af1c-d6dadc442312",
   "metadata": {},
   "source": [
    "1. 以点A(10, 12), B(30, 12)两点为端点，绘制一条线段AB，编程计算这条边的边长。Given the coordiante values of point A(10, 12) and B(30, 12), Draw a line segment with A and B as endpoints. Calculate the length of AB by programming."
   ]
  },
  {
   "cell_type": "markdown",
   "id": "85c32d31-f2ea-4ac1-bb4f-783f228d8829",
   "metadata": {},
   "source": [
    "2. 绘制一个正方形，使得先前绘制的线段AB为正方形的一条边。Draw a square and make line segment AB be one side of the square.\n"
   ]
  },
  {
   "cell_type": "markdown",
   "id": "dfe5e1fa-2c40-44d8-8096-cf6bbf0b0d83",
   "metadata": {},
   "source": [
    "3. 数一数这个正方形内一共有多少个边长为1的单位正方形，这个数量同时也是这个正方形的面积。 Count how many unit square(side length with 1) does the Square have. The result will be the area of the square as well.\n"
   ]
  },
  {
   "cell_type": "markdown",
   "id": "6da7bf19-5016-46db-9d97-84b05ebf7eec",
   "metadata": {},
   "source": [
    "4. 保持点A的横纵坐标值不变，保持点B的纵坐标不便，将点B的横坐标分别改为11至20之间的任何一个数，重新绘制线段AB，计算它的长度，并以它为一条边绘制正方形，对于每画出一次的正方形，计算或数出来这个正方形里有多少边长为1的单位正方形。将结果填入下面的表格。Keep the both coordinate values of A and vertical vlue of B as they are, change only the horizontal value of B to every integer from 11 to 20. redraw the line segment AB and corresponding square. For each square you draw, calculate its side length and how many unit square it contains. Write the result into the following table.\n",
    "\n",
    "| A       |  B      | Side Length | #Unit Square |\n",
    "|:---------:|:---------:|-----|--------------------|\n",
    "|(10, 12) |(11, 12) |     |                        |\n",
    "|(10, 12) |(12, 12) |     |                        |\n",
    "|(10, 12) |(13, 12) |     |                        |\n",
    "|(10, 12) |(14, 12) |     |                        |\n",
    "|(10, 12) |(15, 12) |     |                        |\n",
    "|(10, 12) |(16, 12) |     |                        |\n",
    "|(10, 12) |(17, 12) |     |                        |\n",
    "|(10, 12) |(18, 12) |     |                        |\n",
    "|(10, 12) |(19, 12) |     |                        |\n",
    "|(10, 12) |(20, 12) |     |                        |\n"
   ]
  },
  {
   "cell_type": "markdown",
   "id": "52a0ec99-ed1b-4791-b59b-f2ddfdae8db1",
   "metadata": {},
   "source": [
    "5. 编写一个方法，该方法接受一个整数参数，计算这个整数参数乘以自己的积，并把这个结果作为方法的返回值。然后调用该方法，将1-10之间的每一个整数作为参数传给该方法，打印每一次方法得到的返回值。Write a method which receives an integer `a` as a parameter and return the value of `a*a`。 For each integer from 1 to 10, call this method with the integer as parameter, print out the return value of the method. "
   ]
  },
  {
   "cell_type": "markdown",
   "id": "edfa00a3-562f-4797-a23b-3dd20b3b2f8a",
   "metadata": {},
   "source": [
    "6. 尝试编写一个方法来计算一个给定面积的正方形它的（近似）边长。调用你写的方法来计算当一个正方形面积分别位1，4，9，15，25，30时，它的边长大概是多少。Try to write a method to get the side length of a square with given area. call the method you implemented to get the side length of the square who occupy the following areas: 1, 4, 9, 15, 25, 30.\n",
    "\n",
    "   "
   ]
  },
  {
   "cell_type": "markdown",
   "id": "6f041a5f-71c1-477c-95be-7e3361e55a3c",
   "metadata": {},
   "source": [
    "**Answer Area**"
   ]
  },
  {
   "cell_type": "code",
   "execution_count": null,
   "id": "f98826bb-85f0-431c-b110-c72f99caf65a",
   "metadata": {},
   "outputs": [],
   "source": []
  },
  {
   "cell_type": "markdown",
   "id": "1270f26d-e2ca-45e0-a679-ec82361795da",
   "metadata": {},
   "source": [
    "### Math Background 数学背景\n",
    "\n",
    "1. 正方形的面积等于边长与自己的乘积\n",
    "2. 两个相同的数相乘又称为这个数的乘方或2次方"
   ]
  },
  {
   "cell_type": "markdown",
   "id": "sorted-furniture",
   "metadata": {
    "heading_collapsed": true
   },
   "source": [
    "### Prerequisites 预备知识"
   ]
  },
  {
   "cell_type": "markdown",
   "id": "ac3f3f62-7bb0-4f00-9a4e-4085b96c14dd",
   "metadata": {},
   "source": [
    "无"
   ]
  },
  {
   "cell_type": "markdown",
   "id": "d55f37d9",
   "metadata": {},
   "source": [
    "### Solution 编程求解"
   ]
  },
  {
   "cell_type": "markdown",
   "id": "fe71a786-9c32-4ccb-8ac0-747e43eb8623",
   "metadata": {},
   "source": [
    "1. "
   ]
  },
  {
   "cell_type": "code",
   "execution_count": 1,
   "id": "b1ae7be3-fdde-46b5-820e-c35a55d2fbe0",
   "metadata": {},
   "outputs": [],
   "source": [
    "from turtle import setup, reset, pu, pd, bye, left, right, fd, bk, screensize\n",
    "from turtle import goto, seth, write, ht, st, home, dot, pen, speed\n",
    "from qianglib import prepare_paper, draw_grid, mark, lines, line, polygon, text"
   ]
  },
  {
   "cell_type": "code",
   "execution_count": 2,
   "id": "bed66e63-7d02-4c22-bf10-8863883aab94",
   "metadata": {},
   "outputs": [],
   "source": [
    "width, height = 800, 600\n",
    "setup(width, height, 0, 0)\n",
    "prepare_paper(width, height, scale=20, min_x=0, min_y=0, max_y=25)"
   ]
  },
  {
   "cell_type": "markdown",
   "id": "latest-contamination",
   "metadata": {},
   "source": [
    "### Summary 知识点小结"
   ]
  },
  {
   "cell_type": "markdown",
   "id": "afb3f674",
   "metadata": {},
   "source": [
    "1. 乘方运算符`**`\n",
    "2. 复习tuple\n",
    "3. 复习qianglib的一些方法\n",
    "4. 复习方法的返回值\n"
   ]
  },
  {
   "cell_type": "markdown",
   "id": "bizarre-assurance",
   "metadata": {},
   "source": [
    "### 计算机小知识"
   ]
  },
  {
   "cell_type": "markdown",
   "id": "92100f08",
   "metadata": {},
   "source": [
    "暂缺"
   ]
  },
  {
   "cell_type": "markdown",
   "id": "digital-consensus",
   "metadata": {
    "heading_collapsed": true
   },
   "source": [
    "### Assignments 作业"
   ]
  }
 ],
 "metadata": {
  "kernelspec": {
   "display_name": "Python 3",
   "language": "python",
   "name": "python3"
  },
  "language_info": {
   "codemirror_mode": {
    "name": "ipython",
    "version": 3
   },
   "file_extension": ".py",
   "mimetype": "text/x-python",
   "name": "python",
   "nbconvert_exporter": "python",
   "pygments_lexer": "ipython3",
   "version": "3.8.10"
  }
 },
 "nbformat": 4,
 "nbformat_minor": 5
}
