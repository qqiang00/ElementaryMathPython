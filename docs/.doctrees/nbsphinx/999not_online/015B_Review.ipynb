{
 "cells": [
  {
   "cell_type": "markdown",
   "id": "33cac23a-9afb-44c8-b0b0-118f45d56330",
   "metadata": {},
   "source": [
    "## 15 Review"
   ]
  },
  {
   "cell_type": "markdown",
   "id": "778cf963-ea82-4cab-84cb-61354c356d6d",
   "metadata": {},
   "source": [
    "### Why do we need `def`\n"
   ]
  },
  {
   "cell_type": "code",
   "execution_count": null,
   "id": "a1bae22c-37c3-432f-a85b-a3708ff13aa4",
   "metadata": {},
   "outputs": [],
   "source": []
  },
  {
   "cell_type": "markdown",
   "id": "7e6c95b2-5a5d-41a2-80c3-85feb1fc775c",
   "metadata": {},
   "source": [
    "### How do we use `def`\n"
   ]
  },
  {
   "cell_type": "code",
   "execution_count": null,
   "id": "b9107a4e-b4ea-4245-a660-d7d24b918cff",
   "metadata": {},
   "outputs": [],
   "source": []
  },
  {
   "cell_type": "markdown",
   "id": "fc577f21-63b5-498d-b06d-c45378be4ea2",
   "metadata": {},
   "source": [
    "### Examples(Assignments)"
   ]
  },
  {
   "cell_type": "code",
   "execution_count": null,
   "id": "60d05a2b-89ea-4b98-93fc-91ca94950b27",
   "metadata": {},
   "outputs": [],
   "source": []
  }
 ],
 "metadata": {
  "kernelspec": {
   "display_name": "Python 3",
   "language": "python",
   "name": "python3"
  },
  "language_info": {
   "codemirror_mode": {
    "name": "ipython",
    "version": 3
   },
   "file_extension": ".py",
   "mimetype": "text/x-python",
   "name": "python",
   "nbconvert_exporter": "python",
   "pygments_lexer": "ipython3",
   "version": "3.8.10"
  }
 },
 "nbformat": 4,
 "nbformat_minor": 5
}
