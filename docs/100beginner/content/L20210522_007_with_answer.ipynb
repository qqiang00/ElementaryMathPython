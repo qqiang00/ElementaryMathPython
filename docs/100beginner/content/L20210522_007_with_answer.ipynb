{
 "cells": [
  {
   "cell_type": "markdown",
   "id": "included-education",
   "metadata": {},
   "source": [
    "# Lecture 7：找规律猜数字"
   ]
  },
  {
   "cell_type": "markdown",
   "id": "adjacent-chapel",
   "metadata": {},
   "source": [
    "- **Name (姓名)**: [Write Your Name Here]\n",
    "- **Date (日期)**: [Write the Date on which you completed this assignment]\n",
    "\n",
    "\n",
    "- **Score (成绩)**:[Provided by Teacher]\n",
    "- **Comment By Teacher (评语)**: [Provided by Teacher]"
   ]
  },
  {
   "cell_type": "markdown",
   "id": "periodic-register",
   "metadata": {},
   "source": [
    "# Problem\n",
    "1. 下面一共有7行按照一定规律排列的数字，其中每一行中的第5个（索引为4）的数字被空白横线代替了。观察每一排的数字从左到右变化的规律，并在横线处填上符合你找到的规律的数字。\n",
    "\n",
    "   - 1, 2, 3, 4, __, 6, 7, 8, 9, 10, ...\n",
    "   \n",
    "   - 1, 4, 9, 16, __, 36, 49, 64, 81, 100, ...\n",
    "   \n",
    "   - 1, 2, 4, 8, __, 32, 64, 128, 256, 512, ...\n",
    "   \n",
    "   - 1, 2, 4, 7, __, 16, 22, 29, 37, 46, ...\n",
    "   \n",
    "   - 1, 2, 3, 5, __, 13, 21, 34, 55, 89, ...\n",
    "   \n",
    "   - 1, 8, 27, 64, __, 216, 343, 512, 729, 1000, ...\n",
    "   \n",
    "   - 1, 7, 19, 37, __, 91, 127, 169, 217, 271, ... \n",
    "  \n",
    "2. 挑选某一行数字排列，通过编写程序，让程序运行完全输出这一行的数字排列（包括表示空白的横线）\n",
    "3. 自己设计一个规律，并按照这个规律编写程序得到并输出这一排数字，其中将第5个（索引为4的）数字用横线隐去，将程序输出的信息作为题目发送给你身边的朋友，让他们找出其中的规律并填写空白处的数字后交给你你来评判结果对不对。\n",
    "\n"
   ]
  },
  {
   "cell_type": "markdown",
   "id": "latest-contamination",
   "metadata": {},
   "source": [
    "## Objective 学习目标\n",
    "\n",
    "- 熟练使用`while`引导的循环语句，学习`while`和`if`的嵌套使用\n",
    "- 继续练习使用变量自增、自减代码的完整和简便写法（例如：`a = a + 1` 和 `a += 1`)\n",
    "- 初步见识用列表类型的变量来存储某一租有序数据，列表类型变量（英语复数形式）的命名传统\n",
    "- `len`方法用于获取一个列表型变量内元素的个数\n",
    "- 体会用“索引”来表示某一数据在一串有序数字排列中的位置的这一表达方法，使用`i`, `j`, `k`等变量来存储程序中不断变化的索引值\n",
    "- 学习在`print`方法中不换行多次接续输出一排内容。\n",
    "- 继续尝试发现程序代码中的bug"
   ]
  },
  {
   "cell_type": "markdown",
   "id": "animated-batch",
   "metadata": {},
   "source": [
    "## Math\n",
    "\n",
    "- 数列的概念（一串有限或无限个数的数字的有序排列），通项公式。"
   ]
  },
  {
   "cell_type": "markdown",
   "id": "sorted-furniture",
   "metadata": {},
   "source": [
    "## Python"
   ]
  },
  {
   "cell_type": "code",
   "execution_count": 23,
   "id": "enormous-auckland",
   "metadata": {},
   "outputs": [
    {
     "name": "stdout",
     "output_type": "stream",
     "text": [
      "1, 2, 3, 4, __, 6, 7, 8, 9, 10, ...\n"
     ]
    }
   ],
   "source": [
    "# 通过演示第一个数列的生成，讲解：\n",
    "# 1. print 方法中接受 end 参数值的用法\n",
    "# 2. while 循环语句与 if 条件语句的嵌套\n",
    "\n",
    "# 1, 2, 3, 4, __, 6, 7, 8, 9, 10, ...\n",
    "i = 1\n",
    "while i <= 10:\n",
    "    cur_num = i\n",
    "    if i == 5:\n",
    "        print(\"__\", end = \", \")\n",
    "    else:\n",
    "        print(cur_num, end = \", \") \n",
    "        \n",
    "    i += 1\n",
    "\n",
    "print(\"...\")"
   ]
  },
  {
   "cell_type": "code",
   "execution_count": 30,
   "id": "immediate-estate",
   "metadata": {},
   "outputs": [
    {
     "name": "stdout",
     "output_type": "stream",
     "text": [
      "1, 2, 3, 4, __, 6, 7, 8, 9, 10, ...\n"
     ]
    }
   ],
   "source": [
    "# 继续用上一个例子\n",
    "# 增加部分代码演示用一个 list 类型的数据来保存这一排有序的数据集合\n",
    "# 1, 2, 3, 4, __, 6, 7, 8, 9, 10, ...\n",
    "i = 1\n",
    "nums = []\n",
    "while i <= 10:\n",
    "    cur_num = i\n",
    "    nums.append(cur_num)\n",
    "    if i == 5:\n",
    "        print(\"__\", end = \", \")\n",
    "    else:\n",
    "        print(cur_num, end = \", \") \n",
    "        \n",
    "    i += 1\n",
    "\n",
    "print(\"...\")"
   ]
  },
  {
   "cell_type": "code",
   "execution_count": 31,
   "id": "recreational-terrorist",
   "metadata": {},
   "outputs": [
    {
     "name": "stdout",
     "output_type": "stream",
     "text": [
      "[1, 2, 3, 4, 5, 6, 7, 8, 9, 10]\n"
     ]
    }
   ],
   "source": [
    "print(nums)"
   ]
  },
  {
   "cell_type": "code",
   "execution_count": 29,
   "id": "driven-inspection",
   "metadata": {},
   "outputs": [
    {
     "name": "stdout",
     "output_type": "stream",
     "text": [
      "1\n"
     ]
    }
   ],
   "source": [
    "# 介绍 nums 表示数据的类型、特点以及获取该类型数据某一个元素的方法\n",
    "print(nums[0])"
   ]
  },
  {
   "cell_type": "code",
   "execution_count": 34,
   "id": "norman-establishment",
   "metadata": {},
   "outputs": [
    {
     "name": "stdout",
     "output_type": "stream",
     "text": [
      "['Qiang', 'Estelle', 'Sophie', 'Celine']\n",
      "Sophie\n",
      "4\n"
     ]
    }
   ],
   "source": [
    "# 演示list中既可以存储整型数据，也可以存储字符串型数据，还可以存储其它类型数据。\n",
    "# 要求同学们将自己家庭成员的名字昵称存放到一个列表型数据中\n",
    "# 示例：\n",
    "family_members = [\"Qiang\", \"Estelle\", \"Sophie\", \"Celine\"]\n",
    "print(family_members)\n",
    "print(family_members[2])\n",
    "print(len(family_members))"
   ]
  },
  {
   "cell_type": "code",
   "execution_count": null,
   "id": "literary-asset",
   "metadata": {},
   "outputs": [],
   "source": [
    "# 要求同学们从剩余几个数列中挑选一个，模仿并修改上面的程序，\n",
    "# 课堂中自己编写程序输出选中的一个数列"
   ]
  },
  {
   "cell_type": "code",
   "execution_count": 10,
   "id": "severe-specialist",
   "metadata": {},
   "outputs": [
    {
     "name": "stdout",
     "output_type": "stream",
     "text": [
      "1, 4, 9, 16, __, 36, 49, 64, 81, 100, ...\n"
     ]
    }
   ],
   "source": [
    "# 1, 4, 9, 16, __, 36, 49, 64, 81, 100, ...\n",
    "cur_num = 1\n",
    "i = 1\n",
    "while i <= 10:\n",
    "    if i == 5:\n",
    "        print(\"__\", end = \", \")\n",
    "    else:\n",
    "        print(cur_num, end = \", \") \n",
    "        \n",
    "    i += 1\n",
    "    cur_num = i*i\n",
    "\n",
    "print(\"...\")"
   ]
  },
  {
   "cell_type": "code",
   "execution_count": 13,
   "id": "raised-stage",
   "metadata": {},
   "outputs": [
    {
     "name": "stdout",
     "output_type": "stream",
     "text": [
      "1, 2, 4, 8, __, 32, 64, 128, 256, 512, ...\n"
     ]
    }
   ],
   "source": [
    "# 1, 2, 4, 8, __, 32, 64, 128, 256, 512, ...\n",
    "\n",
    "cur_num = 1\n",
    "i = 1\n",
    "while i <= 10:\n",
    "    if i == 5:\n",
    "        print(\"__\", end = \", \")\n",
    "    else:\n",
    "        print(cur_num, end = \", \") \n",
    "        \n",
    "    cur_num = cur_num * 2\n",
    "    i += 1\n",
    "\n",
    "print(\"...\")"
   ]
  },
  {
   "cell_type": "code",
   "execution_count": 14,
   "id": "particular-literacy",
   "metadata": {},
   "outputs": [
    {
     "name": "stdout",
     "output_type": "stream",
     "text": [
      "1, 2, 4, 7, __, 16, 22, 29, 37, 46, ...\n"
     ]
    }
   ],
   "source": [
    "# 1, 2, 4, 7, __, 16, 22, 29, 37, 46, ...\n",
    "cur_num = 1\n",
    "i = 1\n",
    "while i <= 10:\n",
    "    if i == 5:\n",
    "        print(\"__\", end = \", \")\n",
    "    else:\n",
    "        print(cur_num, end = \", \") \n",
    "    \n",
    "    cur_num += i\n",
    "    i += 1\n",
    "\n",
    "print(\"...\")"
   ]
  },
  {
   "cell_type": "code",
   "execution_count": 16,
   "id": "enclosed-target",
   "metadata": {},
   "outputs": [
    {
     "name": "stdout",
     "output_type": "stream",
     "text": [
      "1, 1, 2, 3, __, 8, 13, 21, 34, 55, ...\n"
     ]
    }
   ],
   "source": [
    "# 1, 1, 2, 3, __, 8, 13, 21, 34, 55, ...\n",
    "\n",
    "first_num, second_num = 1, 1\n",
    "i = 1\n",
    "while i <= 10:\n",
    "    if i < 3:\n",
    "        cur_num = 1\n",
    "    else:\n",
    "        cur_num = first_num + second_num\n",
    "    \n",
    "    if i == 5:\n",
    "        print(\"__\", end = \", \")\n",
    "    else:\n",
    "        print(cur_num, end = \", \") \n",
    "    \n",
    "    first_num = second_num\n",
    "    second_num = cur_num\n",
    "    i += 1\n",
    "\n",
    "print(\"...\")"
   ]
  },
  {
   "cell_type": "code",
   "execution_count": 22,
   "id": "neither-sperm",
   "metadata": {},
   "outputs": [
    {
     "name": "stdout",
     "output_type": "stream",
     "text": [
      "1, 8, 27, 64, __, 216, 343, 512, 729, 1000, ...\n"
     ]
    }
   ],
   "source": [
    "# 1, 8, 27, 64, __, 216, 343, 512, 729, 1000, ...\n",
    "\n",
    "i = 1\n",
    "while i <= 10:   \n",
    "    cur_num = i*i*i\n",
    "    if i == 5:\n",
    "        print(\"__\", end = \", \")\n",
    "    else:\n",
    "        print(cur_num, end = \", \") \n",
    "    \n",
    "    i += 1\n",
    "\n",
    "print(\"...\")"
   ]
  },
  {
   "cell_type": "code",
   "execution_count": 21,
   "id": "frequent-florida",
   "metadata": {},
   "outputs": [
    {
     "name": "stdout",
     "output_type": "stream",
     "text": [
      "1, 7, 19, 37, __, 91, 127, 169, 217, 271, ...\n"
     ]
    }
   ],
   "source": [
    "# 1, 7, 19, 37, __, \n",
    "\n",
    "sum_ = 0\n",
    "i = 1\n",
    "while i <= 10:   \n",
    "    cur_num = i*i*i - sum_\n",
    "    if i == 5:\n",
    "        print(\"__\", end = \", \")\n",
    "    else:\n",
    "        print(cur_num, end = \", \") \n",
    "    \n",
    "    sum_ += cur_num\n",
    "    i += 1\n",
    "\n",
    "print(\"...\")"
   ]
  },
  {
   "cell_type": "markdown",
   "id": "bizarre-assurance",
   "metadata": {},
   "source": [
    "## Did you know?\n",
    "当下主流的计算机编程语言都将数值0作为有序排列一组数据中第一个数的索引。"
   ]
  },
  {
   "cell_type": "markdown",
   "id": "digital-consensus",
   "metadata": {},
   "source": [
    "## Exercise"
   ]
  },
  {
   "cell_type": "markdown",
   "id": "novel-senegal",
   "metadata": {},
   "source": [
    "1. 我们已经知道，通常使用0表示一个有序数据列表中第一个数据的索引值。此外，在使用诸如`i`,`j`,`k`等变量名来表示索引值进而控制循环语句的流程时也可以将这些索引变量的初始值设为0。以本讲第一个数字排列为例，下面的程序演示了将索引变量`i`初始值为0时的程序写法，这个程序最后的运行结果与本讲演示时的结果相同。请参考本例，将生成其它数列的程序中的索引变量`i`的初始值都设为0，并作其它相应的改动使其输出的数列与索引值为0时的数列一样。"
   ]
  },
  {
   "cell_type": "code",
   "execution_count": 32,
   "id": "final-haiti",
   "metadata": {},
   "outputs": [
    {
     "name": "stdout",
     "output_type": "stream",
     "text": [
      "1, 2, 3, 4, __, 6, 7, 8, 9, 10, ...\n"
     ]
    }
   ],
   "source": [
    "# 示例：将索引初始值设为 0 的写法\n",
    "\n",
    "# 1, 2, 3, 4, __, 6, 7, 8, 9, 10, ...\n",
    "i = 0\n",
    "while i < 10:\n",
    "    cur_num = i+1\n",
    "    if i == 4:\n",
    "        print(\"__\", end = \", \")\n",
    "    else:\n",
    "        print(cur_num, end = \", \") \n",
    "        \n",
    "    i += 1\n",
    "\n",
    "print(\"...\")"
   ]
  },
  {
   "cell_type": "code",
   "execution_count": null,
   "id": "painted-overall",
   "metadata": {},
   "outputs": [],
   "source": [
    "# 1, 4, 9, 16, __, 36, 49, 64, 81, 100, ...\n",
    "#\n",
    "# TODO: copy and paste the codes for generating the above list here\n",
    "#       change the initial index value from 1 to 0\n",
    "#       make some other changes so that the program will generate the same list.\n",
    "#       先将课堂上讲解的生成该数列的程序复制到此处\n",
    "#       再将索引i的初始值改为0\n",
    "#       同时修改其他代码，使之输出同样的数列"
   ]
  },
  {
   "cell_type": "code",
   "execution_count": null,
   "id": "macro-weekend",
   "metadata": {},
   "outputs": [],
   "source": [
    "# 1, 2, 4, 8, __, 32, 64, 128, 256, 512, ...\n",
    "#\n",
    "# TODO: copy and paste the codes for generating the above list here\n",
    "#       change the initial index value from 1 to 0\n",
    "#       make some other changes so that the program will generate the same list.\n",
    "#       先将课堂上讲解的生成该数列的程序复制到此处\n",
    "#       再将索引i的初始值改为0\n",
    "#       同时修改其他代码，使之输出同样的数列"
   ]
  },
  {
   "cell_type": "code",
   "execution_count": null,
   "id": "surprising-department",
   "metadata": {},
   "outputs": [],
   "source": [
    "# 1, 2, 4, 7, __, 16, 22, 29, 37, 46, ...\n",
    "#\n",
    "# TODO: copy and paste the codes for generating the above list here\n",
    "#       change the initial index value from 1 to 0\n",
    "#       make some other changes so that the program will generate the same list.\n",
    "#       先将课堂上讲解的生成该数列的程序复制到此处\n",
    "#       再将索引i的初始值改为0\n",
    "#       同时修改其他代码，使之输出同样的数列"
   ]
  },
  {
   "cell_type": "code",
   "execution_count": null,
   "id": "significant-innocent",
   "metadata": {},
   "outputs": [],
   "source": [
    "# 1, 2, 3, 5, __, 13, 21, 34, 55, 89, ...\n",
    "#\n",
    "# TODO: copy and paste the codes for generating the above list here\n",
    "#       change the initial index value from 1 to 0\n",
    "#       make some other changes so that the program will generate the same list.\n",
    "#       先将课堂上讲解的生成该数列的程序复制到此处\n",
    "#       再将索引i的初始值改为0\n",
    "#       同时修改其他代码，使之输出同样的数列"
   ]
  },
  {
   "cell_type": "code",
   "execution_count": null,
   "id": "fantastic-equation",
   "metadata": {},
   "outputs": [],
   "source": [
    "# 1, 8, 27, 64, __, 216, 343, 512, 729, 1000, ...\n",
    "#\n",
    "# TODO: copy and paste the codes for generating the above list here\n",
    "#       change the initial index value from 1 to 0\n",
    "#       make some other changes so that the program will generate the same list.\n",
    "#       先将课堂上讲解的生成该数列的程序复制到此处\n",
    "#       再将索引i的初始值改为0\n",
    "#       同时修改其他代码，使之输出同样的数列"
   ]
  },
  {
   "cell_type": "code",
   "execution_count": null,
   "id": "satisfactory-protocol",
   "metadata": {},
   "outputs": [],
   "source": [
    "# 1, 7, 19, 37, __, 91, 127, 169, 217, 271, ...\n",
    "#\n",
    "# TODO: copy and paste the codes for generating the above list here\n",
    "#       change the initial index value from 1 to 0\n",
    "#       make some other changes so that the program will generate the same list.\n",
    "#       先将课堂上讲解的生成该数列的程序复制到此处\n",
    "#       再将索引i的初始值改为0\n",
    "#       同时修改其他代码，使之输出同样的数列"
   ]
  },
  {
   "cell_type": "markdown",
   "id": "surgical-spread",
   "metadata": {},
   "source": [
    "2. Jason, Tony, Sophie, Yunzi是参加Python编程学习的几位小朋友的名字，他们的年龄分别为10，9，9，8岁。修改下方代码单元格中的代码将这四位同学的名字和年龄数据分别存放到一个list类型的变量中。\n",
    "\n",
    "   要求：  \n",
    "   1). 给这两个列表型变量分别起一个你认为合适的变量名；   \n",
    "   2). 4位小朋友的名字按照其首字母在字母表中的次序依次放入表示名字的列表变量中；   \n",
    "   3). 4为小朋友的年龄也按照其名字首字母的在字母表中的次序依次放入表示年龄的列表变量中；\n",
    "   \n",
    "   使用`print`方法打印出：  \n",
    "   1). 这两个列表型变量的内容  \n",
    "   2). 在两个列表型变量中从左到右第3位（索引值为2的）小朋友的姓名和对应的年龄\n",
    "   "
   ]
  },
  {
   "cell_type": "code",
   "execution_count": null,
   "id": "outstanding-dance",
   "metadata": {},
   "outputs": [],
   "source": [
    "# modify the following codes, don't add any code lines.\n",
    "# 修改下面的代码，不要去增加任何行数的代码\n",
    "\n",
    "list1 = []       # change the name 'list1', put 4 names into this variable\n",
    "                 # 修改变量名'list1', 将4个名字放入该变量中\n",
    "list2 = []       # change the name 'list2', put 4 ages into this variable\n",
    "                 # 修改变量名'list2', 将4个年龄放入该变量中\n",
    "print(list1)     # change the name 'list1', print this variable\n",
    "                 # 修改变量名'list1', 打印出这个变量值\n",
    "print(list2)     # change the name 'list2', print this variable\n",
    "                 # 修改变量名'list2', 打印出这个变量值\n",
    "print(list1[0])  # change the name 'list1' and the value '0' to print out \n",
    "                 # the name of the third (with index value of 2) student.\n",
    "                 # 修改变量名'list1'和索引值 0，打印第三位小朋友的名字\n",
    "print(list2[0])  # change the name 'list2' and the value '0' to print out \n",
    "                 # the name of the third (with index value of 2) student.\n",
    "                 # 修改变量名'list2'和索引值 0，打印第三位小朋友的年龄"
   ]
  },
  {
   "cell_type": "markdown",
   "id": "legal-pontiac",
   "metadata": {},
   "source": [
    "3. （难）尝试使用循环语句输出如下图所列的乘法口诀表(颜色和对齐不做要求）：\n",
    "\n",
    "```python\n",
    "1x1=1  \n",
    "1x2=2  2x2=4  \n",
    "1x3=3  2x3=6  3x3=9  \n",
    "1x4=4  2x4=8  3x4=12 4x4=16 \n",
    "1x5=5  2x5=10 3x5=15 4x5=20 5x5=25 \n",
    "1x6=6  2x6=12 3x6=18 4x6=24 5x6=30 6x6=36 \n",
    "1x7=7  2x7=14 3x7=21 4x7=28 5x7=35 6x7=42 7x7=49 \n",
    "1x8=8  2x8=16 3x8=24 4x8=32 5x8=40 6x8=48 7x8=56 8x8=64 \n",
    "1x9=9  2x9=18 3x9=27 4x9=36 5x9=45 6x9=54 7x9=63 8x9=72 9x9=81\n",
    "```"
   ]
  },
  {
   "cell_type": "code",
   "execution_count": 44,
   "id": "muslim-poster",
   "metadata": {},
   "outputs": [
    {
     "name": "stdout",
     "output_type": "stream",
     "text": [
      "1x1=1  \n",
      "1x2=2  2x2=4  \n",
      "1x3=3  2x3=6  3x3=9  \n",
      "1x4=4  2x4=8  3x4=12 4x4=16 \n",
      "1x5=5  2x5=10 3x5=15 4x5=20 5x5=25 \n",
      "1x6=6  2x6=12 3x6=18 4x6=24 5x6=30 6x6=36 \n",
      "1x7=7  2x7=14 3x7=21 4x7=28 5x7=35 6x7=42 7x7=49 \n",
      "1x8=8  2x8=16 3x8=24 4x8=32 5x8=40 6x8=48 7x8=56 8x8=64 \n",
      "1x9=9  2x9=18 3x9=27 4x9=36 5x9=45 6x9=54 7x9=63 8x9=72 9x9=81 \n"
     ]
    }
   ],
   "source": [
    "# TODO: write your code here\n",
    "#\n",
    "#\n",
    "for i in range(1, 10):\n",
    "    for j in range(1, i+1):\n",
    "        print(\"{:}x{:}={:<2}\".format(j, i, i*j), end = \" \")\n",
    "    print()"
   ]
  },
  {
   "cell_type": "markdown",
   "id": "statewide-mattress",
   "metadata": {},
   "source": [
    "4. 尝试使用循环语句（或联合使用if条件语句）分别打印出如下用字符\"*\"和 \" \"（空格）通过不同排列而组成的下列图案。\n",
    "\n",
    "   1).\n",
    "   ```text\n",
    "   * * * * * \n",
    "   * * * * * \n",
    "   * * * * * \n",
    "   * * * * * \n",
    "   * * * * * \n",
    "   ```\n",
    "\n",
    "   2).（难）\n",
    "   ```text\n",
    "   * * * * * \n",
    "   * * * * \n",
    "   * * * \n",
    "   * * \n",
    "   * \n",
    "   ```\n",
    "\n",
    "   3).（难）\n",
    "   ```text\n",
    "   * \n",
    "   * * \n",
    "   * * * \n",
    "   * * * * \n",
    "   * * * * * \n",
    "   ```\n",
    "\n",
    "   4).（难）\n",
    "   ```text\n",
    "   * * * * * \n",
    "     * * * * \n",
    "       * * * \n",
    "         * * \n",
    "           * \n",
    "   ```\n",
    "\n",
    "   5).（难）\n",
    "   ```text          \n",
    "           * \n",
    "         * * \n",
    "       * * * \n",
    "     * * * * \n",
    "   * * * * *\n",
    "   ```\n",
    "   \n",
    "   6).（难）\n",
    "   ```text         \n",
    "        * \n",
    "       * * \n",
    "      * * * \n",
    "     * * * * \n",
    "    * * * * *\n",
    "   ```\n",
    "\n",
    "   7).（极难）\n",
    "   ```text\n",
    "        *     \n",
    "      * * *   \n",
    "    * * * * * \n",
    "      * * *   \n",
    "        *  \n",
    "   ```"
   ]
  },
  {
   "cell_type": "code",
   "execution_count": 36,
   "id": "quantitative-surveillance",
   "metadata": {},
   "outputs": [
    {
     "name": "stdout",
     "output_type": "stream",
     "text": [
      "* * * * * \n",
      "* * * * * \n",
      "* * * * * \n",
      "* * * * * \n",
      "* * * * * \n"
     ]
    }
   ],
   "source": [
    "#打印如下的图案\n",
    "for i in range(0, 5):\n",
    "    for j in range(0, 5):\n",
    "        print(\"*\", end = \" \")\n",
    "    print(\"\")"
   ]
  },
  {
   "cell_type": "code",
   "execution_count": 37,
   "id": "progressive-crash",
   "metadata": {},
   "outputs": [
    {
     "name": "stdout",
     "output_type": "stream",
     "text": [
      "* * * * * \n",
      "* * * * \n",
      "* * * \n",
      "* * \n",
      "* \n"
     ]
    }
   ],
   "source": [
    "#打印如下的图案\n",
    "for i in range(0, 5):\n",
    "    for j in range(0, 5-i):\n",
    "        print(\"*\", end = \" \")\n",
    "    print(\"\")"
   ]
  },
  {
   "cell_type": "code",
   "execution_count": 38,
   "id": "scientific-williams",
   "metadata": {},
   "outputs": [
    {
     "name": "stdout",
     "output_type": "stream",
     "text": [
      "* \n",
      "* * \n",
      "* * * \n",
      "* * * * \n",
      "* * * * * \n"
     ]
    }
   ],
   "source": [
    "#打印如下的图案\n",
    "for i in range(0, 5):\n",
    "    for j in range(0, i+1):\n",
    "        print(\"*\", end = \" \")\n",
    "    print(\"\")"
   ]
  },
  {
   "cell_type": "code",
   "execution_count": 39,
   "id": "lucky-brush",
   "metadata": {
    "code_folding": [
     4
    ]
   },
   "outputs": [
    {
     "name": "stdout",
     "output_type": "stream",
     "text": [
      "          * \n",
      "        * * \n",
      "      * * * \n",
      "    * * * * \n",
      "  * * * * * \n"
     ]
    }
   ],
   "source": [
    "#打印如下的图案\n",
    "for i in range(0, 5):\n",
    "    for j in range(0, 5-i):\n",
    "        print(\" \", end = \" \")\n",
    "    for j in range(0, i+1):\n",
    "        print(\"*\", end = \" \")\n",
    "    print(\"\")"
   ]
  },
  {
   "cell_type": "code",
   "execution_count": 40,
   "id": "fifteen-salad",
   "metadata": {},
   "outputs": [
    {
     "name": "stdout",
     "output_type": "stream",
     "text": [
      "     * \n",
      "    * * \n",
      "   * * * \n",
      "  * * * * \n",
      " * * * * * \n"
     ]
    }
   ],
   "source": [
    "#打印如下的图案\n",
    "for i in range(0, 5):\n",
    "    for j in range(0, 5-i):\n",
    "        print(\"\", end = \" \")\n",
    "    for j in range(0, i+1):\n",
    "        print(\"*\", end = \" \")\n",
    "    print(\"\")"
   ]
  },
  {
   "cell_type": "code",
   "execution_count": 41,
   "id": "suitable-cyprus",
   "metadata": {
    "scrolled": true
   },
   "outputs": [
    {
     "name": "stdout",
     "output_type": "stream",
     "text": [
      "* * * * * \n",
      "  * * * * \n",
      "    * * * \n",
      "      * * \n",
      "        * \n"
     ]
    }
   ],
   "source": [
    "#打印如下的图案\n",
    "for i in range(0, 5):\n",
    "    for j in range(0, i):\n",
    "        print(\" \", end = \" \")\n",
    "    for j in range(0, 5-i):\n",
    "        print(\"*\", end = \" \")\n",
    "    print(\"\")"
   ]
  },
  {
   "cell_type": "code",
   "execution_count": 42,
   "id": "orange-collective",
   "metadata": {},
   "outputs": [
    {
     "name": "stdout",
     "output_type": "stream",
     "text": [
      "    *     \n",
      "  * * *   \n",
      "* * * * * \n",
      "  * * *   \n",
      "    *     \n"
     ]
    }
   ],
   "source": [
    "#打印如下的图案\n",
    "for i in range(0, 5):\n",
    "    for j in range(0, abs(2-i)):\n",
    "        print(\" \", end = \" \")\n",
    "    for j in range(0, 5-2*abs(i-2)): # 难点在于此，可先推导每一行*的数目与行号的关系，\n",
    "                                      # num_star = 5-2×|i-2|\n",
    "                                      # 涉及到绝对值函数的图像以及函数图像的平移\n",
    "        print(\"*\", end = \" \")\n",
    "    for j in range(0, abs(2-i)):\n",
    "        print(\" \", end = \" \")\n",
    "    print(\"\")"
   ]
  },
  {
   "cell_type": "code",
   "execution_count": null,
   "id": "forced-scientist",
   "metadata": {},
   "outputs": [],
   "source": []
  }
 ],
 "metadata": {
  "kernelspec": {
   "display_name": "Python 3",
   "language": "python",
   "name": "python3"
  },
  "language_info": {
   "codemirror_mode": {
    "name": "ipython",
    "version": 3
   },
   "file_extension": ".py",
   "mimetype": "text/x-python",
   "name": "python",
   "nbconvert_exporter": "python",
   "pygments_lexer": "ipython3",
   "version": "3.9.0"
  }
 },
 "nbformat": 4,
 "nbformat_minor": 5
}
