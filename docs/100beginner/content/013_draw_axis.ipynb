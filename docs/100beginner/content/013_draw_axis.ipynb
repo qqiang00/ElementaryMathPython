{
 "cells": [
  {
   "cell_type": "markdown",
   "id": "relative-location",
   "metadata": {},
   "source": [
    "## 第13讲 认识和绘制数轴"
   ]
  },
  {
   "cell_type": "markdown",
   "id": "d12f05dd",
   "metadata": {},
   "source": [
    "### Problem 问题描述"
   ]
  },
  {
   "cell_type": "markdown",
   "id": "c7cd1f0b-8266-49f3-a77e-806bec2c40ce",
   "metadata": {},
   "source": [
    "在长宽分别为600和400像素的绘图区域绘制如下图所示的一条标有刻度、水平方向的带箭头指示方向的数轴。其中数轴的左右两端距离绘图区域左右边界均为20像素，相邻刻度的距离为50像素，刻度线的长度为20像素，表示刻度线数值的数字在刻度线的正下方且底端距离数轴20个像素。\n",
    "\n",
    "<img src=\"figures/L013_axis.png\" width=\"600px\"/>"
   ]
  },
  {
   "cell_type": "markdown",
   "id": "animated-batch",
   "metadata": {},
   "source": [
    "### Math Background 数学背景\n",
    "\n",
    "1. 数轴的构成\n",
    "2. 数轴原点，正负数在数轴轴上的位置比较\n",
    "3. 每一个数在数轴上都有一个点相对应，两个数的差在数轴上表示的是这两个数对应的两个点之间的距离。"
   ]
  },
  {
   "cell_type": "markdown",
   "id": "sorted-furniture",
   "metadata": {
    "heading_collapsed": true
   },
   "source": [
    "### Prerequisites 预备知识"
   ]
  },
  {
   "cell_type": "markdown",
   "id": "ac3f3f62-7bb0-4f00-9a4e-4085b96c14dd",
   "metadata": {},
   "source": [
    "#### 1. `write`方法可以在绘图区书写字符串"
   ]
  },
  {
   "cell_type": "code",
   "execution_count": null,
   "id": "02c782a9-13fa-4f63-a88c-da8e09c8893c",
   "metadata": {},
   "outputs": [],
   "source": [
    "from turtle import setup, reset, pu, pd, bye, left, right, fd, bk, screensize\n",
    "from turtle import goto, seth, write, ht, st, home\n",
    "width, height = 600, 400   # 窗口的宽度和高度（单位为：像素）\n",
    "setup(width, height, 0, 0)"
   ]
  },
  {
   "cell_type": "markdown",
   "id": "058627c2-04cb-4452-a513-233526df8e36",
   "metadata": {},
   "source": [
    "比较提起画笔和放下画笔时下面的代码执行的效果有什么不同"
   ]
  },
  {
   "cell_type": "code",
   "execution_count": null,
   "id": "bf162106-1b44-4571-9abc-c7dbe05b3fd3",
   "metadata": {},
   "outputs": [],
   "source": [
    "reset()\n",
    "pu()\n",
    "write(\"Sophie\", move=True, align=\"center\")"
   ]
  },
  {
   "cell_type": "code",
   "execution_count": null,
   "id": "ab6d5953-0be1-4dfb-88fd-f969f845148b",
   "metadata": {},
   "outputs": [],
   "source": [
    "reset()\n",
    "pd()\n",
    "write(\"Tony\", move=True, align=\"center\", font=(\"Arial\", 30, \"normal\"))"
   ]
  },
  {
   "cell_type": "code",
   "execution_count": null,
   "id": "1c183ee6-001d-4fdb-bc0c-92c88e3e67c5",
   "metadata": {},
   "outputs": [],
   "source": [
    "reset()\n",
    "pd()\n",
    "write(\"Sophie\", move=False, align=\"center\", font=(\"Arial\", 30, \"normal\"))"
   ]
  },
  {
   "cell_type": "markdown",
   "id": "6dd1decb-2dbe-44c4-bc7e-5355e78284c8",
   "metadata": {},
   "source": [
    "#### 2. `tuple`元组数据类型\n",
    "\n",
    "pos_x 是一个tuple类型的变量"
   ]
  },
  {
   "cell_type": "code",
   "execution_count": null,
   "id": "5bd6a9e8-05fa-40dd-98e9-62a3c4f9742a",
   "metadata": {},
   "outputs": [],
   "source": [
    "pos_x = (30, 20)       # pos_x 是一个tuple类型的变量"
   ]
  },
  {
   "cell_type": "markdown",
   "id": "6751aeae-6a5b-4471-9241-d70fc797077e",
   "metadata": {},
   "source": [
    "可以使用索引来获取tuple类型变量的元素"
   ]
  },
  {
   "cell_type": "code",
   "execution_count": null,
   "id": "8a37fce8-a25d-483f-8dff-baf2ba6e4623",
   "metadata": {},
   "outputs": [],
   "source": [
    "print(pos_x[0], pos_x[1])      # 可以使用索引来获取tuple类型变量的元素"
   ]
  },
  {
   "cell_type": "markdown",
   "id": "01d16720-5812-41ac-aa7e-a61e8f70583a",
   "metadata": {},
   "source": [
    "可以使用len()方法来获取tuple类型数据的元素个数"
   ]
  },
  {
   "cell_type": "code",
   "execution_count": null,
   "id": "d0235320-5bfb-460f-b6df-19347ca30450",
   "metadata": {},
   "outputs": [],
   "source": [
    "len(pos_x)                     # 可以使用len()方法来获取tuple类型数据的元素个数"
   ]
  },
  {
   "cell_type": "markdown",
   "id": "475b066d-65ce-4923-97f1-37ffe225c7e1",
   "metadata": {},
   "source": [
    " 不可以更改tuple类型变量里某一个元素的值。例如执行下面的代码将发生错误\n",
    " ```python\n",
    "pos_x[0] = 40\n",
    "```\n",
    "\n",
    "```text\n",
    "---------------------------------------------------------------------------\n",
    "TypeError                                 Traceback (most recent call last)\n",
    "<ipython-input-24-d852e9299be9> in <module>\n",
    "----> 1 pos_x[0] = 40                  \n",
    "\n",
    "TypeError: 'tuple' object does not support item assignment\n",
    "```"
   ]
  },
  {
   "cell_type": "code",
   "execution_count": null,
   "id": "3516d59c-1794-48c2-bce7-b2fc7cc55ccc",
   "metadata": {},
   "outputs": [],
   "source": [
    "# pos_x[0] = 40                  # 不可以更改tuple类型变量里某一个元素的值"
   ]
  },
  {
   "cell_type": "markdown",
   "id": "875364cf-8e2c-4c4d-9ec5-2d738d69d222",
   "metadata": {},
   "source": [
    "可以给整个tuple类型变量赋予一个新的tuple值"
   ]
  },
  {
   "cell_type": "code",
   "execution_count": null,
   "id": "d086e55c-9c90-4dfd-a7fe-54ba1607c7ae",
   "metadata": {},
   "outputs": [],
   "source": [
    "pos_x = (50, 30)               # 可以给整个tuple类型变量赋予一个新的tuple值"
   ]
  },
  {
   "cell_type": "markdown",
   "id": "fc978779-70e5-4ba2-89d3-296691c01502",
   "metadata": {},
   "source": [
    "`tuple`型的变量里的元素的类型可以互不相同"
   ]
  },
  {
   "cell_type": "code",
   "execution_count": null,
   "id": "a2427fbf-d517-42e0-99b9-d42e6d4dd58b",
   "metadata": {},
   "outputs": [],
   "source": [
    "sophie = (\"Sophie\", 11, \"Female\", \"Grade4\") # tuple型的变量里的元素的类型可以互不相同\n",
    "print(sophie)"
   ]
  },
  {
   "cell_type": "markdown",
   "id": "1c77b307-ceef-4e0e-bca4-fed90bf22467",
   "metadata": {},
   "source": [
    "#### 3. 理解同一个方法在接受不同的参数值时执行结果的比较\n",
    "\n",
    "对比输出的文字和海龟位置，观察下面的两条`write`方法在接受不同的`align`值或时效果有什么不同。"
   ]
  },
  {
   "cell_type": "code",
   "execution_count": null,
   "id": "16d83e70-655f-4193-9df9-83c0e3a8c39a",
   "metadata": {},
   "outputs": [],
   "source": [
    "reset()\n",
    "pu()\n",
    "write(\"Jason\", align=\"left\", font=(\"Arial\", 30, \"normal\"))"
   ]
  },
  {
   "cell_type": "code",
   "execution_count": null,
   "id": "72b712ee-e187-410f-af8a-3b88dda773ad",
   "metadata": {},
   "outputs": [],
   "source": [
    "reset()\n",
    "pu()\n",
    "write(\"Jason\", align=\"center\", font=(\"Arial\", 30, \"normal\"))"
   ]
  },
  {
   "cell_type": "markdown",
   "id": "f36b42f0-05cf-4712-82f6-5269267635fb",
   "metadata": {},
   "source": [
    "#### 4. 对比输出的文字，观察下面的几条`write`方法在接受不同的`font`值时效果有什么不同。\n",
    "\n",
    "参数`font`是一个`tuple`类型的变量"
   ]
  },
  {
   "cell_type": "code",
   "execution_count": null,
   "id": "400119a3-e531-48c5-bcdc-30a9433559e9",
   "metadata": {},
   "outputs": [],
   "source": [
    "reset()\n",
    "pu()\n",
    "write(\"Jason\", font=(\"Arial\", 30, \"normal\"))"
   ]
  },
  {
   "cell_type": "code",
   "execution_count": null,
   "id": "62194d60-d4bb-40b0-bc6a-ae8ad45a9b65",
   "metadata": {},
   "outputs": [],
   "source": [
    "reset()\n",
    "pu()\n",
    "write(\"Jason\", font=(\"Arial\", 50, \"normal\"))"
   ]
  },
  {
   "cell_type": "code",
   "execution_count": null,
   "id": "bdffd739-960b-41d4-909a-7dc9d51c93c2",
   "metadata": {},
   "outputs": [],
   "source": [
    "reset()\n",
    "pu()\n",
    "write(\"Jason\", font=(\"Times New Roman\", 50, \"normal\"))"
   ]
  },
  {
   "cell_type": "code",
   "execution_count": null,
   "id": "ba71c691-2b50-43d3-9fc2-ef5a2761694c",
   "metadata": {},
   "outputs": [],
   "source": [
    "reset()\n",
    "pu()\n",
    "write(\"Jason\", font=(\"Arial\", 50, \"italic\"))"
   ]
  },
  {
   "cell_type": "code",
   "execution_count": null,
   "id": "de3793fb-42dc-490d-a238-e00f198b9570",
   "metadata": {},
   "outputs": [],
   "source": [
    "# no reset() here 这里没有reset()\n",
    "pu()\n",
    "bk(200)    # 后退200\n",
    "write(\"Jason\", font=(\"Arial\", 50, \"underline\"))"
   ]
  },
  {
   "cell_type": "markdown",
   "id": "c15f5d91-a940-4a1f-9800-0d1f1808895f",
   "metadata": {},
   "source": [
    "#### 5. 区分`()`何时表示元组数据何时表示方法接受的参数\n",
    "\n",
    "看`()`前面有没有紧跟一个方法名, 下面这行代码声明了一个元组型变量，变量名为`jason`。\n",
    "\n",
    "```python\n",
    "jason = (\"Jason\", (\"Arial\", 50, \"Italic\")) # \n",
    "```\n",
    "\n",
    "下面这行代码是在执行一个名为`jason`的方法\n",
    "```python\n",
    "jason(\"Jason\", (\"Arial\", 50, \"Italic\"))    \n",
    "```"
   ]
  },
  {
   "cell_type": "markdown",
   "id": "086753f8-ec66-4e93-ac8c-98d84b8b0854",
   "metadata": {},
   "source": [
    "#### 6. 练习\n",
    "\n",
    "编写下面的代码，更改变量`name`的值为你的名字，观察代码执行的效果。"
   ]
  },
  {
   "cell_type": "code",
   "execution_count": null,
   "id": "a9acbe63-ff44-4784-9551-809a745eb140",
   "metadata": {},
   "outputs": [],
   "source": [
    "# 如果没有导入绘图库相关方法以及执行setup方法，请解除下面几行代码的注释\n",
    "# from turtle import setup, reset, pu, pd, bye, left, right, fd, bk, screensize\n",
    "# from turtle import goto, seth, write, ht, st, home\n",
    "# width, height = 600, 400   # 窗口的宽度和高度（单位为：像素）\n",
    "# setup(600, 400, 0, 0)\n",
    "reset()\n",
    "pu()\n",
    "ht()\n",
    "name = \"Qiang\"\n",
    "text = \"My name is {}.\\nNice to meet you.\".format(name)\n",
    "write(text, align=\"center\", font=(\"Arial\", 30, \"italic\"))"
   ]
  },
  {
   "cell_type": "markdown",
   "id": "d55f37d9",
   "metadata": {},
   "source": [
    "### Solution 编程求解"
   ]
  },
  {
   "cell_type": "code",
   "execution_count": 1,
   "id": "2863a1b3-7c16-4706-bcfe-c15e16083104",
   "metadata": {},
   "outputs": [],
   "source": [
    "from turtle import setup, reset, pu, pd, bye, left, right, fd, bk, screensize\n",
    "from turtle import goto, seth, write, ht, st, home\n",
    "width, height = 600, 400   # 窗口的宽度和高度（单位为：像素）\n",
    "setup(width, height, 0, 0)"
   ]
  },
  {
   "cell_type": "code",
   "execution_count": 2,
   "id": "136429ff-b9e6-40ad-a996-e10cc96c74e5",
   "metadata": {},
   "outputs": [],
   "source": [
    "origin = (0, 0)            # 原点的位置\n",
    "padding = 20               # 数轴端点距离绘图区边界距离\n",
    "max_x = width/2 - padding  # x轴最大值\n",
    "show_arrow = True          # 是否显示箭头\n",
    "mark_interval = 50         # 刻度线间距\n",
    "mark_line_length = 10      # 刻度线高度\n",
    "text_offset = 20           # 坐标值距离坐标线的距离\n",
    "\n",
    "mark_degree = 90           # 坐标刻度与坐标轴夹角\n",
    "arrow_length = 10          # 箭头长度\n",
    "arrow_degree = 30          # 箭头与坐标轴夹角\n",
    "delta_x = 1                # 每次坐标值变化的幅度"
   ]
  },
  {
   "cell_type": "code",
   "execution_count": 3,
   "id": "7ffd9c3d-bda1-4046-b2b3-85cb713e9ab3",
   "metadata": {},
   "outputs": [],
   "source": [
    "# Solution1: without using goto() 第一种方法：不使用goto()\n",
    "from time import sleep\n",
    "from turtle import speed\n",
    "delta_x = 10\n",
    "\n",
    "reset()    # 重置绘图区\n",
    "min_x = -1 * max_x   # 根据坐标轴允许的最大值，获取该坐标轴允许的最小值\n",
    "\n",
    "pu()       # 提起画笔，暂停绘图\n",
    "home()     # Move turtle to the origin – coordinates (0,0) 移动小海龟至初始位置\n",
    "           # and set its heading to its start-orientation  并设置朝向为初始朝向\n",
    "bk(max_x)  # backward max_x           # fd(min_x)\n",
    "pd()       # 落下画笔，准备绘图\n",
    "speed(1)\n",
    "# draw mark 绘制刻度线\n",
    "cur_x, last_x = min_x, min_x          # 海龟当前位置和最近一次绘图后停留的位置\n",
    "while cur_x <= max_x:                 # 循环\n",
    "    if cur_x % mark_interval == 0:      # 海龟的位置是相邻刻度间隔长度的整数倍\n",
    "        length_move = cur_x - last_x    # 计算海龟应该前进的长度\n",
    "        pd()                            # 落下画笔，准备绘图\n",
    "        fd(length_move)                 # 海龟前进（绘制一小段）\n",
    "        left(mark_degree)               # 向左转90度，海龟朝正上方，准备绘制刻度线\n",
    "        fd(mark_line_length)                 # 绘制刻度线\n",
    "        pu()                            # 把画笔提起暂停绘图\n",
    "        bk(mark_line_length + text_offset)   # 后退（向下）一段长度\n",
    "        text = str(int(cur_x // mark_interval))\n",
    "                                        # 准备刻度值字符串（由整型数据转换而来）\n",
    "        write(text, align=\"center\")     # 在当前位置以居中的形式书写文字字符串\n",
    "        fd(text_offset)                 # 前进（向上）一小段长度\n",
    "        right(mark_degree)              # 向右转90度，海龟次朝向右侧\n",
    "        last_x = cur_x                  # 记录海龟当前位置，为下次绘图的起点\n",
    "        \n",
    "    sleep(0.1)\n",
    "    cur_x += delta_x                  # 当前位置增加一小段长度（个单位距离：像素）\n",
    "\n",
    "pd()                                  # 落下画笔，准备绘制\n",
    "fd(max_x - last_x)                    # 绘制最后一个刻度线到数轴最大x值这一小段\n",
    "\n",
    "if show_arrow:                        # 如果需要绘制箭头\n",
    "    right(arrow_degree)                 # 向右转，海龟朝向右侧偏下\n",
    "    bk(arrow_length)                    # 后退一定距离，绘制箭头一边\n",
    "    fd(arrow_length)                    # 回到max_x位置\n",
    "    left(arrow_degree * 2)              # 向左转，海龟朝向右侧偏上\n",
    "    bk(arrow_length)                    # 后退一定距离，绘制箭头另一边\n",
    "\n",
    "ht()                                  # 隐藏海龟                            "
   ]
  },
  {
   "cell_type": "code",
   "execution_count": 12,
   "id": "55a2d067-87c7-4d3d-a257-d7229353754e",
   "metadata": {},
   "outputs": [],
   "source": [
    "# Solution2: using goto() 第二种方法：使用goto()\n",
    "reset()\n",
    "min_x = -1 * max_x\n",
    "\n",
    "# draw line\n",
    "pu()       # 提起画笔，暂停绘图\n",
    "home()     # Move turtle to the origin – coordinates (0,0) 移动小海龟至初始位置\n",
    "           # and set its heading to its start-orientation  并设置朝向为初始朝向\n",
    "goto(min_x, 0)  # go to the left end of the line  移动海龟到坐标轴直线的最左端\n",
    "pd()       # 落下画笔，准备绘图\n",
    "goto(max_x, 0)  # go to the right end of the line 移动海龟到坐标轴直线的最右段\n",
    "\n",
    "\n",
    "# draw mark 绘制刻度线\n",
    "cur_x = min_x                                \n",
    "while cur_x <= max_x:\n",
    "    if cur_x % mark_interval == 0:\n",
    "        pu()\n",
    "        goto(cur_x, 0)\n",
    "        pd()\n",
    "        goto(cur_x, mark_line_length)         # 绘制刻度线\n",
    "        \n",
    "        pu()                             \n",
    "        goto(cur_x, -text_offset)\n",
    "        pd()\n",
    "        text = str(int(cur_x//mark_interval))\n",
    "        write(text, align=\"center\")      # 书写刻度值\n",
    "        \n",
    "    cur_x += delta_x\n",
    "    \n",
    "if show_arrow:\n",
    "    arrow_x, arrow_y = max_x - 10, -5\n",
    "    pu()\n",
    "    goto(max_x, 0)\n",
    "    pd()\n",
    "    goto(arrow_x, arrow_y)\n",
    "    pu()\n",
    "    goto(max_x, 0)\n",
    "    pd()\n",
    "    goto(arrow_x, -arrow_y)\n",
    "\n",
    "ht()"
   ]
  },
  {
   "cell_type": "code",
   "execution_count": 6,
   "id": "d68a6581-6f7b-43a9-b0be-0ff325c4608d",
   "metadata": {},
   "outputs": [],
   "source": [
    "st()\n",
    "pu()\n",
    "home()\n",
    "pd()\n",
    "goto(200, 100)\n",
    "goto(200, 200)"
   ]
  },
  {
   "cell_type": "code",
   "execution_count": 11,
   "id": "026bf2e5-9960-4756-bd8f-eeee8b2c1ab5",
   "metadata": {},
   "outputs": [],
   "source": [
    "goto(max_x, -50)\n"
   ]
  },
  {
   "cell_type": "code",
   "execution_count": 15,
   "id": "cd459411-a9b1-4616-a454-c3f101c287b8",
   "metadata": {},
   "outputs": [
    {
     "name": "stdout",
     "output_type": "stream",
     "text": [
      "290.0 50\n",
      "5\n"
     ]
    }
   ],
   "source": [
    "text = str(int(cur_x//mark_interval))\n",
    "print(cur_x, mark_interval)\n",
    "print(text)\n",
    "\n"
   ]
  },
  {
   "cell_type": "code",
   "execution_count": 16,
   "id": "a7b7f2d3-474c-457f-8266-e664fc8289a2",
   "metadata": {},
   "outputs": [
    {
     "data": {
      "text/plain": [
       "-1"
      ]
     },
     "execution_count": 16,
     "metadata": {},
     "output_type": "execute_result"
    }
   ],
   "source": [
    "-1//3"
   ]
  },
  {
   "cell_type": "markdown",
   "id": "latest-contamination",
   "metadata": {},
   "source": [
    "### Summary 知识点小结"
   ]
  },
  {
   "cell_type": "markdown",
   "id": "4ab8292a-7ea8-461a-b495-5198f48011c2",
   "metadata": {},
   "source": [
    "1. turtle绘图库里的新方法`write`可以在绘图区海龟的当前位置书写文字；\n",
    "2. 新的数据类型：`tuple`元组数据类型，它与`list`数据类型非常类似，但也有区别；\n",
    "3. 在执行一个方法时，方法名后面的小括号`()`内可以接受一个或多个不同的数据，这些数据成为该方法可以接受的参数。方法接受的参数的值不一样，执行该方法最后得到的结果也通常不同；\n",
    "4. 复习格式化字符串的`format`方法；\n",
    "5. 复习`while`循环，并将`while`过程中循环应用到绘图过程中；\n",
    "6. 复习操作符`//`和`%`。"
   ]
  },
  {
   "cell_type": "markdown",
   "id": "bizarre-assurance",
   "metadata": {},
   "source": [
    "### 计算机小知识"
   ]
  },
  {
   "cell_type": "markdown",
   "id": "92100f08",
   "metadata": {},
   "source": [
    "像素，字体`font`"
   ]
  },
  {
   "cell_type": "markdown",
   "id": "digital-consensus",
   "metadata": {
    "heading_collapsed": true
   },
   "source": [
    "### Assignments 作业"
   ]
  },
  {
   "cell_type": "markdown",
   "id": "797c4125-002c-4373-8301-50ae1097fa59",
   "metadata": {},
   "source": [
    "1. 仔细阅读本讲示例中给出的两种绘制坐标轴方法，回答下面的问题： \n",
    "   Read carefully the two solutions demonstrated in the lecture, answer the following questions:\n",
    "   1. 给第二种方法中的每一行代码添加注释 \n",
    "      Add comments for every code line of the second solution to tell the meaning of each code line.\n",
    "   2. 比较并说出两种方法在绘制坐标轴的差别\n",
    "      Compare the two solutions and tell the difference of them in drawing the axis.\n",
    "   3. 两种方法绘制出来的箭头一模一样吗？为什么？ \n",
    "      Are the arrows drawn by the two solutoins exactly same? why?"
   ]
  },
  {
   "cell_type": "markdown",
   "id": "96268d7b-ecab-4aa7-aa85-5cd4a993e4d0",
   "metadata": {},
   "source": [
    "（在这里写上你的回答 Write your answer here）\n"
   ]
  },
  {
   "cell_type": "markdown",
   "id": "controversial-sleeve",
   "metadata": {
    "hidden": true
   },
   "source": [
    "2. 编程绘制如下图所示的水平坐标轴。所用的刻度间距、刻度线长度等排版指标军与本讲示例相同。其中，与本讲示例不同的是： \n",
    "   By programming, draw horizontal axies as the following figure shows. Most of the parameters, including the marker interval, marker length, etc, have the same value as in the lecture. However, there are still some significant differences, which are:\n",
    "   1. 将表示0刻度坐标值的文字“0”的位置向右移动距离10，刻度线仍保持与相邻的刻度线等距离不变； Move the text \"0\", which indicating the value 0 on the axis, 10 pixels right to its original position. Keep the mark line where it is.\n",
    "   2. 在箭头的下方添加字母\"x\"，字母\"x\"使用的字体是\"Arial\",字号大小为10，风格为“斜体”。Add a letter \"x\" under the arrow at the right end of the axis, use font \"Arial\", size 10, and \"italic\" to write the \"x\"\n",
    "   3. 当调整绘图区域的大小为宽为800像素时，你的代码应该仅需要更新绘图区的宽度而不改变其他地方就能直接调整数轴长度和刻度的显示。When the width of drawing area changed to 800 pixels from 600 pixels, your codes should only need to change the value of `width` while keep others unchanged to draw the axis with new length and markers.\n",
    "\n",
    "<img src=\"figures/L013_assignment1.png\" />\n",
    "\n",
    "<img src=\"figures/L013_assignment1_2.png\" />"
   ]
  },
  {
   "cell_type": "code",
   "execution_count": null,
   "id": "75b71d05-c513-45e6-a74a-153d9239c4ce",
   "metadata": {},
   "outputs": [],
   "source": [
    "from turtle import setup, reset, pu, pd, bye, left, right, fd, bk, screensize\n",
    "from turtle import goto, seth, write, ht, st, home\n",
    "width, height = 800, 400   # 窗口的宽度和高度（单位为：像素）\n",
    "setup(width, height, 0, 0)\n",
    "origin = (0, 0)            # 原点的位置\n",
    "padding = 20               # 数轴端点距离绘图区边界距离\n",
    "max_x = width/2 - padding  # x轴最大值\n",
    "show_arrow = True          # 是否显示箭头\n",
    "mark_interval = 50         # 刻度线间距\n",
    "mark_line_length = 10      # 刻度线高度\n",
    "text_offset = 20           # 坐标值距离坐标线的距离\n",
    "\n",
    "mark_degree = 90           # 坐标刻度与坐标轴夹角\n",
    "arrow_length = 10          # 箭头长度\n",
    "arrow_degree = 30          # 箭头与坐标轴夹角\n",
    "delta_x = 1       "
   ]
  },
  {
   "cell_type": "code",
   "execution_count": null,
   "id": "healthy-auditor",
   "metadata": {
    "hidden": true
   },
   "outputs": [],
   "source": [
    "reset()\n",
    "\n",
    "#TODO: Add your own codes here 在这里添加你自己的代码\n",
    "\n",
    "ht()"
   ]
  },
  {
   "cell_type": "markdown",
   "id": "a01f44b3-b5e4-4796-a783-17fa76a67159",
   "metadata": {},
   "source": [
    "3. 编程绘制一条如下图所示的垂直方向上的坐标轴。要求：By programming, draw an ertical axis as the following figure shows. Requirement：\n",
    "\n",
    "   1. 该图所是的坐标轴基本上是把水平方向的坐标轴围绕这坐标原点向左侧旋转90度得到；\n",
    "      The axis can basically be considered as a 90 degree of anti-closewise rotation of the horizontal axis illustrated in the lecture with original zero point as the rotation center;\n",
    "   2. 大部分控制数轴风格的参数值与示例中的一样，下列除外：但是刻度线位于坐标轴的右侧，刻度值位于坐标轴的左侧。Most of the parameters controlling the style of the axis are same as introduced in the lecture, except: the marker lines are located on right side of the axis line, and the marker values are on the left side;\n",
    "   3. 隐藏表示0刻度坐标值的文字“0”以及对应的刻度线； Hide the marker line and the marker value for origin point;\n",
    "   4. 在箭头的左侧添加字母\"y\"，字母\"y\"使用的字体是\"Arial\",字号大小为10，风格为“斜体”。Add the letter \"y\" on left side of the axis end, the font for \"y\" is \"Arial\", size is 10, and style is \"italic\";\n",
    "   5. 如果绘图区的高度发生改变不再是400像素，你的代码应仅需要修改一处就能重新绘制出填满大部分（保留上下个20像素高的间隙）绘图区高度的数轴。If the height of drawing area is changed to any other value other than 400 pixels, your codes should only need to change one place in order to draw the new vertical axis that fullfill the most height of the draw area (keep 20 pixels paddings for both ends).\n",
    "\n",
    "<img src=\"figures/L013_assignment3.png\" style=\"align:center\" height=\"400px\"/>"
   ]
  },
  {
   "cell_type": "code",
   "execution_count": null,
   "id": "5c72fb7b-3983-470b-a0c5-bfb0ca5216f4",
   "metadata": {},
   "outputs": [],
   "source": [
    "reset()\n",
    "\n",
    "#TODO: Add your own codes here 在这里添加你自己的代码\n",
    "\n",
    "ht()"
   ]
  },
  {
   "cell_type": "markdown",
   "id": "ed12b70d-0ebd-46c3-89f9-998b5ae28e9d",
   "metadata": {},
   "source": [
    "4. 编程绘制一条如下图所示的水平坐标轴。与本讲示例不同的是：By programming, draw a horizontal axis with major and minor marker lines as shown in the figure. Most of the parameters that control the style of the aixs remain same as introduced in the lecture, except:\n",
    "   1. 在刻度线的内部再绘制9条段的次要刻度线，这样原来相邻的两条刻度线被等间距的分为10个等分，每个等分对应的长度为5；Add 9 minor marker lines within two major marker lines so that every major marker interval is divided into 10 equal minor marker intervals, each 5 pixles length;\n",
    "   2. 与原来刻度线的宽度为10不同，次要刻度线的宽度为6； the length of the minor marker line is 6 pixels, keep the length of the major marker line 10 pixels unchanged;\n",
    "   3. (困难，可选做）在左右两侧整数刻度之外的区域**不要**绘制次要刻度线；(Difficult, Optional) Do **NOT** add minor maker lines on the parts where the position is smaller than the minimal major marker value or larger than the maximal major marker value;\n",
    "   4. 将表示0刻度坐标值的文字“0”的位置向右移动距离10，刻度线仍保持与相邻的刻度线等距离不变； Move the text \"0\", which indicating the value 0 on the axis, 10 pixels right to its original position. Keep the mark line where it is;\n",
    "   5. 在箭头的下方添加字母\"x\"，字母\"x\"使用的字体是\"Arial\",字号大小为10，风格为“斜体”。Add a letter \"x\" under the arrow at the right end of the axis, use font \"Arial\", size 10, and \"italic\" to write the \"x\";\n",
    "   6. 当调整绘图区域的大小为宽为800像素时，你的代码应该仅需要更新绘图区的宽度而不改变其他地方就能直接调整数轴长度和刻度的显示。When the width of drawing area changed to 800 pixels from 600 pixels, your codes should only need to change the value of `width` while keep others unchanged to draw the axis with new length and markers.\n",
    "   \n",
    "<img src=\"figures/L013_assignment4.png\" style=\"align:center\" height=\"400px\"/>"
   ]
  },
  {
   "cell_type": "code",
   "execution_count": null,
   "id": "bbdbb38d-8013-40cc-bd87-95797b1a35cc",
   "metadata": {},
   "outputs": [],
   "source": [
    "reset()\n",
    "\n",
    "#TODO: Add your own codes here 在这里添加你自己的代码\n",
    "\n",
    "ht()"
   ]
  },
  {
   "cell_type": "code",
   "execution_count": null,
   "id": "43774b69-ec5b-4902-afa3-a7566ea1faa3",
   "metadata": {},
   "outputs": [],
   "source": []
  }
 ],
 "metadata": {
  "kernelspec": {
   "display_name": "Python 3",
   "language": "python",
   "name": "python3"
  },
  "language_info": {
   "codemirror_mode": {
    "name": "ipython",
    "version": 3
   },
   "file_extension": ".py",
   "mimetype": "text/x-python",
   "name": "python",
   "nbconvert_exporter": "python",
   "pygments_lexer": "ipython3",
   "version": "3.8.10"
  }
 },
 "nbformat": 4,
 "nbformat_minor": 5
}
