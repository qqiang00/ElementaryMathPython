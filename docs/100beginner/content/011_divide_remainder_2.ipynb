{
 "cells": [
  {
   "cell_type": "markdown",
   "id": "relative-location",
   "metadata": {},
   "source": [
    "## 第11讲 整除和余数（二）"
   ]
  },
  {
   "cell_type": "markdown",
   "id": "d12f05dd",
   "metadata": {},
   "source": [
    "### Problem 问题描述"
   ]
  },
  {
   "cell_type": "markdown",
   "id": "28032a84-6c4f-44ab-ac6d-cbd8516caa2e",
   "metadata": {},
   "source": [
    "There are some basic laws when checking whether an integer is divisable by some other small integers:  \n",
    "在判断一个数能否被另一些简单的数整除时，有一些基本的规律：\n",
    "\n",
    "1. An integer is even if its smallest(far right) bit is one of 0, 2, 4, 6, 8. All even numbers are divisable by 2. For example, 12 is an even, it is divisable by 2(12/2=6...0).  \n",
    "   一个数字末位以0，2，4，6，8结尾，则为偶数。偶数都能被2整除。举例：12是一个偶数，它能被2整除。事实上，12/2=6...0；\n",
    "2. If the sum of numbers on an integer's all bits is divisable by 3, so is this integer. For example, the numbers on all bits of integer 183 are 1, 8, 3; the sum of 1+8+3 is 12, which is divisable by 3； therefore, Therefore, 183 is also divisable by 3.  \n",
    "   如果一个数各个位置上的数字加起来得到的和如果能被3整除，那么这个数也能被3整除。举例：183是一个三位数，把它的百、十、个位数字加起来为1+8+3=12,12能被3整除，那么183这个数也能被3整除。事实上，183/3=61...0；\n",
    "3.  If an even is divisable by 2, and the quotien of the even divided by 2 is still an even, this previous even is therefore divisable by 4. For example, 12 is an even, the quotien of 12 divided by 2 is 6 with remainder 0; therefore, 12 is divisable by 4(12/4=3...0).   \n",
    "    如果一个偶数除以2得到的还是偶数，那么前一个偶数能够被4整除。举例：12是一个偶数，它除以2得到的结果6还是一个偶数，那么12就能被4整除。事实上，12/4=3...0；\n",
    "4. if the smallest(far right) bit of an integer is either 0 or 5, this integer is divisable by 5. For example, the smallest bit of 65 is 5, then 65 can be completely divided by 5 (65/5=13...0). Integer 80 ends with 0 as its smallest bit, therefore, 80 is divisable by 5 as well (80/5=16...0).  \n",
    "   末位数字是0或5的数能被5整除。举例：65的末位数字是5，它能被5整除，事实上，65/5=13...0。80的末位数字是0，它也能被5整除。事实上，80/5=16...0；\n",
    "5. If an integer is divisable by both 2 and 3, it is therefore also divisable by the multiplication of 2 and 3, which is 6. For example, 24 is divisable by both 2 and 3, then 24 is also divisable by 6 (24/6=4...0).  \n",
    "   能同时被2和3整除的数也能被6整除。举例：24能同时被2和3整除，24也能被6整除。事实上，24/6=4...0；\n",
    "6. If the sum of the numbers on all bits in an integer is divisable by 9, then this integer is also divisable by 9. For example, the numbers of all bits of 288 are 2, 8, and 8, whose sum is 18. 18 is divisable by 9 (18/9=2...0), which means 288 is also divisable by 9(288/9=32...0).  \n",
    "   如果一个数各个位置上的数字加起来得到的和如果能被9整除，那么这个数也能被9整除。举例：288是一个三位数，把它的百、十、个位数字加起来为2+8+8=18,18能被9整除，那么288这个数也能被9整除。事实上，288/9=32...0；\n",
    "7. ...\n",
    "\n",
    "There are still many other laws addressing the division.  \n",
    "类似的规律还有很多。\n",
    "\n",
    "Based on the above laws of division, write python program and check whether each of the following numbers chosen from 1 to 100 is divisable by both 3, 5, and 9:  \n",
    "结合上面的规律，编写程序判断下面从100以内选出的这串数字能否被3，5，和9整除：\n",
    "\n",
    "$$12,  34,  6,  8,  5,  45,  72,  96, 22, 48, 15, 36, 81, 19,  37,  9$$"
   ]
  },
  {
   "cell_type": "code",
   "execution_count": 4,
   "id": "cc13f41c-348b-471f-a5f9-41f1e108e550",
   "metadata": {},
   "outputs": [
    {
     "name": "stdout",
     "output_type": "stream",
     "text": [
      "45 is divisable by 3, 5, 9\n"
     ]
    }
   ],
   "source": [
    "# traditional apporach.\n",
    "num1, num2, num3, num4 = 12, 45, 34, 6, \n",
    "if num1 % 3 == 0 and num1 % 5 == 0 and num1 % 9 == 0:\n",
    "    print(\"{} is divisable by 3, 5, 9\".format(num1))\n",
    "if num2 % 3 == 0 and num2 % 5 == 0 and num2 % 9 == 0:\n",
    "    print(\"{} is divisable by 3, 5, 9\".format(num2))\n"
   ]
  },
  {
   "cell_type": "code",
   "execution_count": 17,
   "id": "22f4e347-f3df-4cd7-84ee-717daf6f1385",
   "metadata": {},
   "outputs": [
    {
     "name": "stdout",
     "output_type": "stream",
     "text": [
      "12\n"
     ]
    }
   ],
   "source": [
    "# new approach: a list, index 索引, length = 16 (numbers)\n",
    "nums = [12, 34, 6, 8, 5, 45, 72, 96, 22, \\\n",
    "        48, 15, 36, 81, 19, 37, 9]\n",
    "print(nums[0])"
   ]
  },
  {
   "cell_type": "code",
   "execution_count": 14,
   "id": "05e96c5a-54f3-473e-b00e-b5c4bf5c434e",
   "metadata": {},
   "outputs": [
    {
     "name": "stdout",
     "output_type": "stream",
     "text": [
      "37\n"
     ]
    }
   ],
   "source": [
    "print(nums[-2]) # error when you set the number >= 16"
   ]
  },
  {
   "cell_type": "code",
   "execution_count": 28,
   "id": "c9f10176-88d1-403b-ac43-f572c5fba7f8",
   "metadata": {},
   "outputs": [
    {
     "data": {
      "text/plain": [
       "0"
      ]
     },
     "execution_count": 28,
     "metadata": {},
     "output_type": "execute_result"
    }
   ],
   "source": [
    "126 % 3"
   ]
  },
  {
   "cell_type": "code",
   "execution_count": 23,
   "id": "110deef1-66d1-4f73-b3f3-1ccfd7955d26",
   "metadata": {},
   "outputs": [
    {
     "data": {
      "text/plain": [
       "0"
      ]
     },
     "execution_count": 23,
     "metadata": {},
     "output_type": "execute_result"
    }
   ],
   "source": [
    "2879694315984 % 8"
   ]
  },
  {
   "cell_type": "markdown",
   "id": "animated-batch",
   "metadata": {},
   "source": [
    "### Math Background 数学背景\n",
    "\n",
    "1. An integer can have 2, 3, ... bits. The far left bit is the highest bit. For example, the name of the three bits, from far left(highest) to far right(lowest), of an integer with three bits are hundred, ten, and unit bits, respectively. Specifically, the hundred, ten, and unit bits of integer 123 are 1, 2, and 3, respectively.   \n",
    "整数根据其拥有位数的多少可以分为两位数，三位数，...，其中最左侧的数字是最高位的数。例如：三位数从左到右依次是百位、十位和各位。具体说来，123这个三位数，百位上的数字是最左侧的数字1，十位上的数字是2，个位上的数字是3。\n",
    "2. The number on the far left bit of an integer is just the quotien of this integer divided by an smallest integer who owns that highest bits. For example, 873 is an integer which has 3 bits, the number in the highest bit is 8, which can be considered as the quotien of this integer divided by 100, the smallest integer who owns three bits. And the remainder of this division is an integer composed by the other lower bits, which in this case is 73. Similarly, 73 is a two-bit integer, where 7 is the quotien of 73 divided by 10, where 10 is the smallest integer who owns two bits. Again, 3 is an integer with only one bit, and 3 is also the quotien of 3 divided by 1, where 1 is the smallest (positive) integer who has only one bit.  \n",
    "一个多位数最高位上的数字就是这个多位数除以一个除数的商，而这个除数选用具有这个最高位最小的数。例如873这个三位数，最高位百位上的数字是8，这个8其实就是873/100这个除法算式的商，100是最小的的百位数。这个除法算式的余数则这个数字去掉百位数字剩下的数，也就是73。类似的，73是一个十位数，其中7是73/10的商，10是最小的十位数。同样，3是一个个位数，3也是3/1的商，其中1是最小的个位数。"
   ]
  },
  {
   "cell_type": "code",
   "execution_count": null,
   "id": "c4a3847e-6354-48fb-a5a6-4a2b1cf6f4dc",
   "metadata": {},
   "outputs": [],
   "source": []
  },
  {
   "cell_type": "markdown",
   "id": "sorted-furniture",
   "metadata": {
    "heading_collapsed": true
   },
   "source": [
    "### Prerequisites 预备知识"
   ]
  },
  {
   "cell_type": "markdown",
   "id": "157bd962-57c8-4a11-90da-94d3be225981",
   "metadata": {},
   "source": [
    "#### 1. Access to the numbers on all bits of an Integer 获取一个多位数各个位置上的数字\n",
    "\n",
    "Write an program to find the numbers of all bits(from highest to lowest) of 873, assign these numbers to the variable `n_hundred`，`n_ten`, and `n_one` respectively.\n",
    "编程找出873这个三位数的每一位（从高到低）上的数字8，7，3，分别赋给变量:`n_hundred`，`n_ten`，和`n_one`。"
   ]
  },
  {
   "cell_type": "code",
   "execution_count": 30,
   "id": "acdb251c-5cc6-4f1a-bd4e-4d2b7b12695a",
   "metadata": {},
   "outputs": [
    {
     "name": "stdout",
     "output_type": "stream",
     "text": [
      "873的百位数字是8\n",
      "873的十位数字是7\n",
      "873的个位数字是3\n"
     ]
    }
   ],
   "source": [
    "num = 873\n",
    "n_hundred = num // 100\n",
    "n_ten = (num - n_hundred * 100) // 10\n",
    "n_one = (num - n_hundred * 100 - n_ten * 10) #// 1\n",
    "print(\"{}的百位数字是{}\".format(num, n_hundred))\n",
    "print(\"{}的十位数字是{}\".format(num, n_ten))\n",
    "print(\"{}的个位数字是{}\".format(num, n_one))"
   ]
  },
  {
   "cell_type": "markdown",
   "id": "01a61516-378d-4756-ad1c-e84f2a201d4c",
   "metadata": {},
   "source": [
    "__Exercise__: Write program to assign numbers of all bits(from highest to lowest) of 2021 to 4 variables, and print out the value of these varaibles in order:  \n",
    "__练习__: 编程将数字2021的四个位置(千、百、十、个位）的数分别赋值给4个变量，并输出相关信息"
   ]
  },
  {
   "cell_type": "code",
   "execution_count": null,
   "id": "b9b0e060-daa3-4b06-a17f-9aefd81ea5e4",
   "metadata": {},
   "outputs": [],
   "source": []
  },
  {
   "cell_type": "markdown",
   "id": "be69e198-129c-4f1f-b9cc-8bff7952038c",
   "metadata": {},
   "source": [
    "#### 2. A new Data(Variable) Type 新的数据（变量）类型`list`\n",
    "\n",
    "When storeing and processing a list of values is required, it's not really necessary to assign every different variable to each of these values. Instead, a `list` variable can be used to handle this scenario. This special data type has the similar role with the `string` and `integer` type. For example, we can declare a variable `ages` to store the ages of all four students, Yunzi, Tony, Sophie, and Jasson, in this class:  \n",
    "当有一串数字需要存储、处理时，我们可以不必为这串数字中的每一个都声明一个变量，而是可以用一个“列表”类型的变量来声明这一串数字，这个特殊的数据类型与字符串和整数类型地位类似。例如，我们可以使用下面这样的一行代码声明一个变量（ages）来存储班级里所有四个小朋友:Yunzi, Tony, Sophie和Jasson的年龄："
   ]
  },
  {
   "cell_type": "code",
   "execution_count": 33,
   "id": "6778515f-ae80-45a1-b6c3-a2113bb42680",
   "metadata": {},
   "outputs": [
    {
     "name": "stdout",
     "output_type": "stream",
     "text": [
      "<class 'list'>\n",
      "<class 'str'>\n"
     ]
    }
   ],
   "source": [
    "ages = [9, 10, 10, 11]\n",
    "print(type(ages))\n",
    "Sophie_name = \"Sophie\"\n",
    "print(type(Sophie_name))"
   ]
  },
  {
   "cell_type": "markdown",
   "id": "6ea48dd5-dd8f-40ef-9132-f024e045009d",
   "metadata": {},
   "source": [
    "It is still an assignment expression, the left side of the assignment operator is a variable with the name `ages`, while at its right side, a list of age values in order are enclosed in square brackets. Every value in this list is one of its elements. we can operate the values of an element in the list by using the combination of the list variable name and the index of the element. The index of first element is 0; the index of second is 1, and so on. If an list has `n` elements, the index of the last(far right) element is `n-1`.\n",
    "这是一条赋值语句，赋值符号的左侧是变量名ages，右侧是用中括号括起来用逗号依次隔开来的多个数值。列表中的每一个数值成为这个列表变量的一个元素，可以用变量名联合数值在列表中的次序（也称为索引）来获取和操作这个数据，第1个元素的索引值是0，第2个元素的索引值是1，以此类推。如果一个列表变量一共有`n`个元素，那么最后一个元素的索引值为`n-1`。\n",
    "\n",
    "Actually, we can not tell to which student each age(value of the element) refers; in other word, we can only konw the first element in this `ages` list is 8, but we can not tell this 8 is the age of Tony, nor can we tell that it is the age of Sophie or other students.  \n",
    "从上面的列表型变量的声明语句中，我们并没有说明那一个年龄数据是哪一个小朋友的。也就是说，我们只知道这个列表中的第一个年龄数值是8，但是没有任何信息显示数字8是Tony的还是Sophie或者是其他小朋友的。"
   ]
  },
  {
   "cell_type": "code",
   "execution_count": 3,
   "id": "80fea095-f799-4446-9994-c0ecd90acdea",
   "metadata": {},
   "outputs": [
    {
     "name": "stdout",
     "output_type": "stream",
     "text": [
      "8\n",
      "9\n",
      "10\n"
     ]
    }
   ],
   "source": [
    "print(ages[0])               # get the first value in ages, which is 8\n",
    "                             # 获取ages变量里的第一个数值，8\n",
    "print(ages[1])               # get the second value in ages, which is 9\n",
    "                             # 获取ages变量里的第二个数值, 9\n",
    "print(ages[3])               # get the fourth value in ages, which is 10\n",
    "                             # 获取ages变量里的第四个数值，10"
   ]
  },
  {
   "cell_type": "markdown",
   "id": "ee6f4564-4dc6-4474-80f4-d8e7417a7898",
   "metadata": {},
   "source": [
    "In addition, the index of an element in the list can also be defined by a variable with Integer type.  \n",
    "也可以用一个整数类型的变量来表示列表变量中的索引："
   ]
  },
  {
   "cell_type": "code",
   "execution_count": 34,
   "id": "a782d182-ab29-4291-a05b-22429c40b67f",
   "metadata": {},
   "outputs": [
    {
     "name": "stdout",
     "output_type": "stream",
     "text": [
      "10\n"
     ]
    }
   ],
   "source": [
    "index = 2\n",
    "print(ages[index])"
   ]
  },
  {
   "cell_type": "markdown",
   "id": "e4e99704-6f82-4122-8292-a1d45dd7b976",
   "metadata": {},
   "source": [
    "A method `len` can be called to get the total number(length) of the elements in a list. For exmale, the following codes read the length of the `ages` list and print it out.  \n",
    "可以用方法`len`来获取一个列表性变量的总的元素的个数。例如下面的代码讲得到ages变量所有的年龄个数，也就是小朋友的人数：4。"
   ]
  },
  {
   "cell_type": "code",
   "execution_count": 35,
   "id": "e8bea670-e703-4d93-ab85-a6f5e7382c67",
   "metadata": {},
   "outputs": [
    {
     "name": "stdout",
     "output_type": "stream",
     "text": [
      "There are 4 students' ages in ages list.\n"
     ]
    }
   ],
   "source": [
    "ages = [9, 10, 10, 11]\n",
    "total_length = len(ages)\n",
    "print(\"There are {} students' ages in ages list.\".format(total_length))"
   ]
  },
  {
   "cell_type": "markdown",
   "id": "204299e4-8f60-4552-8d6e-922d37ae57ae",
   "metadata": {},
   "source": [
    "The values of the elements in a list can be updated. For example, the following codes change the value of the third element(with index 2) in the `ages` list to 20, and then print all the elements in the list. We can see the new value of the third element.\n",
    "也可以修改ages变量某一个（些）元素的值。例如，下面的代码将ages列表变量的第3个（索引值为2）元素的数据修改为20，并打印出ages变量："
   ]
  },
  {
   "cell_type": "code",
   "execution_count": 36,
   "id": "aa370674-d2a7-446e-be86-cd2d9d588cae",
   "metadata": {},
   "outputs": [
    {
     "name": "stdout",
     "output_type": "stream",
     "text": [
      "[9, 10, 20, 11]\n"
     ]
    }
   ],
   "source": [
    "ages = [9, 10, 10, 11]\n",
    "ages[2] = 20\n",
    "print(ages)"
   ]
  },
  {
   "cell_type": "markdown",
   "id": "6cb6250d-2181-4628-be2a-3bf3119714e2",
   "metadata": {},
   "source": [
    "__Exercise__: declare a variable with the type of `list`; in this variable, store the following values that describe you best: the number of toy cars you have, the number of you toy doll, the number of your favorate books, and the times that you spent weekend outside with your family so far this year, etc. Print out this variable and explain to your classmates the meaning of each element in order.  \n",
    "__练习__: 用一个列表型变量来记录你所拥有的玩具汽车、玩具娃娃、喜欢的课外书的数量、今年周末除去玩的次数等等。打印这个列表型变量，并向其它小朋友解释变量中每一个元素值的意义。"
   ]
  },
  {
   "cell_type": "code",
   "execution_count": null,
   "id": "4336d035-5577-4750-b5b0-b343d320cdc2",
   "metadata": {},
   "outputs": [],
   "source": [
    "___  = [12, 43, 4, 9]"
   ]
  },
  {
   "cell_type": "markdown",
   "id": "d55f37d9",
   "metadata": {},
   "source": [
    "### Solution Codes 编程求解"
   ]
  },
  {
   "cell_type": "code",
   "execution_count": 40,
   "id": "2863a1b3-7c16-4706-bcfe-c15e16083104",
   "metadata": {},
   "outputs": [
    {
     "name": "stdout",
     "output_type": "stream",
     "text": [
      "12能被3整除，因为它的个位和十位数字的和能被3整除\n",
      "6能被3整除，因为它的个位和十位数字的和能被3整除\n",
      "5能被5整除，因为它的个位数字能被5整除\n",
      "45能被3整除，因为它的个位和十位数字的和能被3整除\n",
      "  45能被9整除，因为它的个位和十位数字的和能被9整除\n",
      "45能被5整除，因为它的个位数字能被5整除\n",
      "72能被3整除，因为它的个位和十位数字的和能被3整除\n",
      "  72能被9整除，因为它的个位和十位数字的和能被9整除\n",
      "96能被3整除，因为它的个位和十位数字的和能被3整除\n",
      "48能被3整除，因为它的个位和十位数字的和能被3整除\n",
      "15能被3整除，因为它的个位和十位数字的和能被3整除\n",
      "15能被5整除，因为它的个位数字能被5整除\n",
      "36能被3整除，因为它的个位和十位数字的和能被3整除\n",
      "  36能被9整除，因为它的个位和十位数字的和能被9整除\n",
      "81能被3整除，因为它的个位和十位数字的和能被3整除\n",
      "  81能被9整除，因为它的个位和十位数字的和能被9整除\n",
      "9能被3整除，因为它的个位和十位数字的和能被3整除\n",
      "  9能被9整除，因为它的个位和十位数字的和能被9整除\n"
     ]
    }
   ],
   "source": [
    "numbers = [12, 34, 6, 8, 5, 45, 72, 96, 22, 48, 15, 36, 81, 19, 37, 9]\n",
    "length = len(numbers)\n",
    "index = 0\n",
    "while index < length:\n",
    "    num = numbers[index]\n",
    "    \n",
    "    n_ten = num // 10\n",
    "    n_one = num - (n_ten * 10)\n",
    "    \n",
    "    if (n_ten + n_one) % 3 == 0:\n",
    "        print(\"{}能被3整除，因为它的个位和十位数字的和能被3整除\".format(num))\n",
    "    \n",
    "    if (n_ten + n_one) % 9 == 0:\n",
    "        print(\"  {}能被9整除，因为它的个位和十位数字的和能被9整除\".format(num))\n",
    "    \n",
    "    if n_one % 5 == 0:\n",
    "        print(\"{}能被5整除，因为它的个位数字能被5整除\".format(num))\n",
    "        \n",
    "    index += 1"
   ]
  },
  {
   "cell_type": "markdown",
   "id": "latest-contamination",
   "metadata": {},
   "source": [
    "### Summary 知识点小结"
   ]
  },
  {
   "cell_type": "markdown",
   "id": "afb3f674",
   "metadata": {},
   "source": [
    "- 理解如何通过对一个多位数除以10，100，... 的取整和取余来得到这个多位数的各个位置上的数字；\n",
    "- 学习新的变量类型：列表型变量 list；\n",
    "- 学习用索引值获取列表型变量内某一个元素的值，修改列表型变量中某一个元素的值。\n",
    "- 新方法`len`来获取一个列表性变量所有的元素个数；\n",
    "- 复习整除和余数操作符`//`，`%`."
   ]
  },
  {
   "cell_type": "code",
   "execution_count": null,
   "id": "rural-branch",
   "metadata": {
    "hidden": true
   },
   "outputs": [],
   "source": []
  },
  {
   "cell_type": "code",
   "execution_count": null,
   "id": "urban-glance",
   "metadata": {
    "hidden": true
   },
   "outputs": [],
   "source": []
  },
  {
   "cell_type": "markdown",
   "id": "bizarre-assurance",
   "metadata": {},
   "source": [
    "### 计算机小知识"
   ]
  },
  {
   "cell_type": "markdown",
   "id": "92100f08",
   "metadata": {},
   "source": [
    "暂缺"
   ]
  },
  {
   "cell_type": "markdown",
   "id": "digital-consensus",
   "metadata": {
    "heading_collapsed": true
   },
   "source": [
    "### Assignments 作业"
   ]
  },
  {
   "cell_type": "markdown",
   "id": "16a3ff0f-473e-46a6-bbd4-f3ea36d8a5f0",
   "metadata": {},
   "source": [
    "1. if an integer is divisable by 2, and the quotien of this division is still divisable by 2, again the next quotien is still divisable by 2, then the original integer is divisalbe by 8. For example, 16 is divisable by 2 with the quotien 8 and remainder 0; 8 is also divisable by 2 with quotien 4; again, 4 is still divisable by 2. Therefore, 16 is divisable by 8, which is 2 times 2 times 2. In fact, 16/8=2...0. Complete the following codes based on the law described above so that the whole program can select out integers that are divisable by 8 from the list given. The given codes verify that the selected integers is indeed divisable by 8 by directly using the `%` operator to get the remainder of the integer divided by 8.  \n",
    "如果一个数能被2整除，所得的商仍能被2整除，再次除以2得到的商仍然能被2整除，那么这个数就能被8整除。例如数字16，它能被2整除且商为8；8也能被2整除且商为4，4仍然能被2整除，那么16就能被8整除。实际上，16除以8商为2余数为0。按照这个规律补全下面的程序，使之能够寻找给定的一串数字中哪些能被8整除。所给的代码同时使用了取余运算符直接验证这个数确实能被8整除。"
   ]
  },
  {
   "cell_type": "code",
   "execution_count": 41,
   "id": "7f7e63fd-35ed-46d7-bb81-febf69bc44b2",
   "metadata": {},
   "outputs": [
    {
     "name": "stdout",
     "output_type": "stream",
     "text": [
      "176能够被8整除,3次除以2所得到的商分别为176,176,176\n",
      "直接将176对8取余数，余数是0, 验证了176能被8整除。\n",
      "236能够被8整除,3次除以2所得到的商分别为236,236,236\n",
      "验证没通过，一定是哪里出了问题。需要检查代码。\n",
      "440能够被8整除,3次除以2所得到的商分别为440,440,440\n",
      "直接将440对8取余数，余数是0, 验证了440能被8整除。\n",
      "462能够被8整除,3次除以2所得到的商分别为462,462,462\n",
      "验证没通过，一定是哪里出了问题。需要检查代码。\n",
      "330能够被8整除,3次除以2所得到的商分别为330,330,330\n",
      "验证没通过，一定是哪里出了问题。需要检查代码。\n",
      "116能够被8整除,3次除以2所得到的商分别为116,116,116\n",
      "验证没通过，一定是哪里出了问题。需要检查代码。\n",
      "284能够被8整除,3次除以2所得到的商分别为284,284,284\n",
      "验证没通过，一定是哪里出了问题。需要检查代码。\n",
      "208能够被8整除,3次除以2所得到的商分别为208,208,208\n",
      "直接将208对8取余数，余数是0, 验证了208能被8整除。\n",
      "386能够被8整除,3次除以2所得到的商分别为386,386,386\n",
      "验证没通过，一定是哪里出了问题。需要检查代码。\n",
      "464能够被8整除,3次除以2所得到的商分别为464,464,464\n",
      "直接将464对8取余数，余数是0, 验证了464能被8整除。\n",
      "150能够被8整除,3次除以2所得到的商分别为150,150,150\n",
      "验证没通过，一定是哪里出了问题。需要检查代码。\n",
      "18能够被8整除,3次除以2所得到的商分别为18,18,18\n",
      "验证没通过，一定是哪里出了问题。需要检查代码。\n",
      "230能够被8整除,3次除以2所得到的商分别为230,230,230\n",
      "验证没通过，一定是哪里出了问题。需要检查代码。\n"
     ]
    }
   ],
   "source": [
    "# a list data with variable name: numbers\n",
    "# 一个列表数据变量，变量名为numbers\n",
    "numbers = [176, 437, 236, 121, 155, 440, 363, 413, 223, 462, 330, \n",
    "           116, 459, 281, 111, 89, 49, 284, 29, 208, 397, 386, 464, \n",
    "           150, 411, 211, 143, 51, 18, 230]\n",
    "\n",
    "index = 0                      # start from index = 0 从索引值为0开始\n",
    "while index < len(numbers):\n",
    "    num = numbers[index]       # get a number from list with certain index\n",
    "                               # 根据索引从列表中获取一个数准备分析\n",
    "    if num % 2 == 0:           # first time completely divided by 2\n",
    "                               # 第一次能被2整除\n",
    "        # TODO: assign correct expression to quot1 by replaceing num \n",
    "        #       替换None，给quot1一个正确的赋值表达式\n",
    "        quot1 = num\n",
    "        if quot1 % 2 == 0:     # second time completely divided by 2\n",
    "                               # 第二次能被2整除\n",
    "            # TODO: assign correct expression to quot2 by replaceing num\n",
    "            #       替换None，给quot2一个正确的赋值表达式\n",
    "            quot2 = num       \n",
    "            if quot2 % 2 == 0: # third time completely divided by 2\n",
    "                               # 第三次能被2整除\n",
    "                # TODO: assign correct expression to quot3 by replacing num, \n",
    "                #       pay attention to the use of quot3 in below codes\n",
    "                #       替换num，给quot3一个正确的表达式，注意下面的代码对quot3变量的使用\n",
    "                quot3 = num   \n",
    "                print(\"{}能够被8整除,3次除以2所得到的商分别为{},{},{}\".\\\n",
    "                      format(num, quot1, quot2, quot3))\n",
    "                \n",
    "                # verify by direclty // 8 直接对8取余验证\n",
    "                if num % 8 == 0:\n",
    "                    print(\"直接将{}对8取余数，余数是0, 验证了{}能被8整除。\".\\\n",
    "                          format(num, num))\n",
    "                else:\n",
    "                    print(\"验证没通过，一定是哪里出了问题。需要检查代码。\")\n",
    "                    \n",
    "    index += 1"
   ]
  },
  {
   "cell_type": "markdown",
   "id": "152a007d-32eb-4b44-a25c-a7d56a7f659e",
   "metadata": {},
   "source": [
    "2. If an integer A is divisable by two adjacent(neighbor) integers, D1 and D2, who are both greater than 1, this integer A is divisable by the mutiplication of D1 and D2. For example, 112 is divisable by 7 and 8:  \n",
    "   如果一个整数A能够同时被大于1的另两个相邻的整数D1和D2整除，那么把D1和D2的乘积当作除数仍然能够整除A。例如112既能被7整除，也能被8整除：\n",
    "$$112 \\div 7 = 16 \\cdots 0$$\n",
    "$$112 \\div 8 = 13 \\cdots 0$$\n",
    "\n",
    "   where 7 and 8 are two neighbor integers, and:  \n",
    "   由于7和8是相邻的两个整数，且:$$7\\times 8=56$$\n",
    "\n",
    "   then, 112 is divisable by 56, which is multiplication of 7 and 8:  \n",
    "   那么112就能被56(=7*8)整除：\n",
    "$$112 \\div 56 = 2 \\cdots 0$$\n",
    "\n",
    "   Given the fact that integer 40320 is divisable by **multiple** groups of two neighbor integers (greater than 1).  \n",
    "   已知40320可以被**多组**100以内大于1的两个连续的整数整除。\n",
    "   \n",
    "   Please write program to:  \n",
    "   请自己编写完整的程序:\n",
    "      1. look for those neighbor integers who are smaller than 100 and greater than 1.  \n",
    "         查找这个整数可以被哪些组的100以内的两个相邻的整数整除.\n",
    "      2. verify that 40320 is indeed divisable by multiplication of neighbor integers in each group by using operator `//` or `%`.     \n",
    "         直接使用运算符`//`和`%`来验证40320确实能够被这些两个相邻的整数的乘积整除。"
   ]
  },
  {
   "cell_type": "code",
   "execution_count": 9,
   "id": "e8e7efef-6797-4bbb-81a9-3d31b4a35aab",
   "metadata": {},
   "outputs": [
    {
     "name": "stdout",
     "output_type": "stream",
     "text": [
      "40320 = 2 * 3\t40320 / 6 = 6720 ... 0\n",
      "40320 = 3 * 4\t40320 / 12 = 3360 ... 0\n",
      "40320 = 4 * 5\t40320 / 20 = 2016 ... 0\n",
      "40320 = 5 * 6\t40320 / 30 = 1344 ... 0\n",
      "40320 = 6 * 7\t40320 / 42 = 960 ... 0\n",
      "40320 = 7 * 8\t40320 / 56 = 720 ... 0\n",
      "40320 = 8 * 9\t40320 / 72 = 560 ... 0\n",
      "40320 = 9 * 10\t40320 / 90 = 448 ... 0\n",
      "40320 = 14 * 15\t40320 / 210 = 192 ... 0\n",
      "40320 = 15 * 16\t40320 / 240 = 168 ... 0\n",
      "40320 = 20 * 21\t40320 / 420 = 96 ... 0\n",
      "40320 = 35 * 36\t40320 / 1260 = 32 ... 0\n",
      "40320 = 63 * 64\t40320 / 4032 = 10 ... 0\n"
     ]
    }
   ],
   "source": []
  },
  {
   "cell_type": "markdown",
   "id": "e3665689-f7df-496a-8820-900297b0eae1",
   "metadata": {},
   "source": [
    "3.  There are also some laws talking about the division by integer 11.\n",
    "    能够被11整除的数也有一些规律。  \n",
    "    1. Write program to select out those integers divisable by 11 by directly using the operator `%` or `//`;   \n",
    "       编写程序，从下面列表中给出的数中，直接使用`//`或`%`运算符挑选出能被11整除的数；\n",
    "    2. Observe those integers selected out, try to find some features(or laws) among them, write down the features(or laws) you find below indicated;\n",
    "       观察所有能被11整除的数都有什么规律，并把你找到的规律以文字的形式填写在下面提示的地方。\n",
    "    3. (hard, optional) Can you write another program to verify the features(or laws) you declared?   \n",
    "       (难，可选做）你能够编写程序验证你发现的规律吗?  \n",
    "   \n",
    "    **[Write your findings here 在这里写下你观察到的规律]**"
   ]
  },
  {
   "cell_type": "code",
   "execution_count": 10,
   "id": "d3a14d98-ac4e-426e-8eba-b8a3aaaa1901",
   "metadata": {},
   "outputs": [],
   "source": [
    "numbers = [1, 11, 12, 121, 131, 132, 133, 12321, 1234321,\n",
    "           253, 254, 2631, 2651, 3641, 3631, 2652, 2552,\n",
    "           1574, 1473, 1673, 1563]\n",
    "#TODO: write codes to check which element(number) in the list can be completely divided\n",
    "#      by 11 with remainder 0.\n",
    "#      编写代码检查列表中的哪些元素（数值）能够被11整除。"
   ]
  },
  {
   "cell_type": "code",
   "execution_count": 11,
   "id": "0f25541c-af58-4c6c-b569-3006e4217a77",
   "metadata": {},
   "outputs": [],
   "source": [
    "numbers = [1, 11, 12, 121, 131, 132, 133, 12321, 1234321,\n",
    "           253, 254, 2631, 2651, 3641, 3631, 2652, 2552,\n",
    "           1574, 1473, 1673, 1563]\n",
    "#TODO: (Optional) write your code to verify your observation(guess)\n",
    "#      (可选做) 编写程序验证你的观察（猜测）：能被11整除的数的规律。"
   ]
  },
  {
   "cell_type": "markdown",
   "id": "dadad580-e69d-4777-bb40-e772495aaadd",
   "metadata": {
    "hidden": true
   },
   "source": [
    "4. In this lecture, we demonstrated how to get all bit numbers of an integer by dividing this integer by 10, 100, .... The reason that we use 10, 100, ..., to divide this integer is, the integer is organized by a dcimal counting system, which means the number in second bit (counted from far right lowest bit) actually represents ten times of the number, and the number in third bit represents hundred times of that number. For example, number in second(counted from far right lowest) bit of the integer 359 is 5. Here 5 is not just 5, but 10 times 5, which is 50, because it is located in the second bit. Similally, the number 3 locatd in hundred bit represents 300 actually. In whole:     \n",
    "   在本节的例题中，我们演示了如何通过除以10，100, ... 编程获取一个多位数每一位上的数字。我们之所以选择10，100,...，这些数作为除数，是因为十位数上的数字实际表示的是这个数字乘以10的结果，百位上的数字是这个数字乘以100的结果。例如359这个数字十位上的数是5，这里的5表示的是50，百位上的数字3表示的是300。也就是说:    \n",
    "    $$359=3\\times100\\times10+5=3\\times 10\\times10+5\\times10+9$$\n",
    "    \n",
    "    This counting system is called \"Decimal Counting System\". In such system, we only have number of 0-9 in each bit. Actually, this system is just one of the many count systems. In normal life, we also use a counting system based on 60. For example, when expressing minutes and seconds of time, this 60 based counting system is used. For example, 8 hours 3 minutes and 40 seconds can be represented by the format:    \n",
    "    这种计数的方式我们称之为“十进制”计数。在十进制计数法中，我们在每一位上用到的数字只有从0-9。实际上，十进制计数法只是许多计数法中的一种，生活中常见的计数方法还有60进制。例如在表示分钟和秒时，我们就用了60进制。例如8点3分40秒，我们可以用下面的写法来表示：    \n",
    "\n",
    "    $$08:03:40$$\n",
    "    \n",
    "    In fact, when time is at $08:03:40$ of a day, it means it has passed the following seconds of the day:   \n",
    "    事实上，如果时间处于一天中的 $08:03:40$, 意味着哪一天已经过去了如下所示的秒数：\n",
    "    \n",
    "    $$29020=8\\times3600+3\\times60+40=8\\times60\\times60 + 3\\times60 + 40$$\n",
    "    \n",
    "    125 seconds don't means the time is 1 hour 2 minutes 5 seconds, but 0 hour 2 munites 5 seconds since:    \n",
    "    而125秒并不表示1小时2分钟5秒，而是表示2分钟5秒，因为:   \n",
    "    \n",
    "    $$120=2\\times60+5=0\\times60\\times60+2\\times60+5$$   \n",
    "\n",
    "    Please **modify only the fifth line code in the following cell**, so that the program can correctly convert a time represented by seconds to the time with the format \"hours:minutes:seconds\", and print it out the following result:    \n",
    "    请**仅修改下面代码单元格中的第5行代码**，使之能正确地将用“秒”表示的时间换算成“小时:分钟:秒\"的格式，并打印输出如下的结果:\n",
    "    ```code\n",
    "       125 秒(seconds) == 000:02:05(HHH:MM:SS)\n",
    "        60 秒(seconds) == 000:01:00(HHH:MM:SS)\n",
    "       612 秒(seconds) == 000:10:12(HHH:MM:SS)\n",
    "      3600 秒(seconds) == 001:00:00(HHH:MM:SS)\n",
    "      3661 秒(seconds) == 001:01:01(HHH:MM:SS)\n",
    "     43200 秒(seconds) == 012:00:00(HHH:MM:SS)\n",
    "     86400 秒(seconds) == 024:00:00(HHH:MM:SS)\n",
    "     ```"
   ]
  },
  {
   "cell_type": "code",
   "execution_count": 42,
   "id": "f801a4e9-7cde-4bdb-931b-7ffc145af85b",
   "metadata": {},
   "outputs": [
    {
     "name": "stdout",
     "output_type": "stream",
     "text": [
      "   125 秒(seconds) == 001:02:05(HHH:MM:SS)\n",
      "    60 秒(seconds) == 000:06:00(HHH:MM:SS)\n",
      "   612 秒(seconds) == 006:01:02(HHH:MM:SS)\n",
      "  3600 秒(seconds) == 036:00:00(HHH:MM:SS)\n",
      "  3661 秒(seconds) == 036:06:01(HHH:MM:SS)\n",
      " 43200 秒(seconds) == 432:00:00(HHH:MM:SS)\n",
      " 86400 秒(seconds) == 864:00:00(HHH:MM:SS)\n"
     ]
    }
   ],
   "source": [
    "times = [125, 60, 612, 3600, 3661, 43200, 86400] # times represented by seconds\n",
    "                                                 # 用秒为单位表示的时间\n",
    "# TODO: change the value of variabls: num_secret1 and num_secret2\n",
    "#       修改变量num_secret1和secret2的值\n",
    "num_secret1, num_secret2 = 100, 10\n",
    "index = 0\n",
    "while index < len(times):\n",
    "    time = times[index]\n",
    "    hour, minute, second = None, None, None\n",
    "    hour = time // num_secret1\n",
    "    minute = (time - hour * num_secret1) // num_secret2\n",
    "    second = time - hour * num_secret1 - minute * num_secret2\n",
    "    print(\"{:>6} 秒(seconds) == {:>03}:{:>02}:{:02}(HHH:MM:SS)\".\\\n",
    "          format(time, hour, minute, second))    \n",
    "    index += 1"
   ]
  },
  {
   "cell_type": "markdown",
   "id": "de4cfdc5",
   "metadata": {},
   "source": [
    "5. Sophie's class in primary school has 25 classmates. Their teacher organized a math exam recently. Here are the scores of all 25 students:    \n",
    "   Sophie所在的小学班级有25个学生，他们的老师最近组织了一次数学考试，25个学生的考试成绩如下：\n",
    "   \n",
    "$$95, 74, 72, 64, 85, 79, 96, 65, 91, 92, 81, 71, 55, 78, 51, 69, 55, 85, 82, 57, 98, 57, 96, 62, 96$$\n",
    "\n",
    "   Please write program to find out:    \n",
    "   请编写程序找出：   \n",
    "       1. the highest and lowest scores and indices(pl. of index) among those 25 scores;    \n",
    "          这25个学生的成绩中的最高分和最低分，以及最高最低分对应的索引值;          \n",
    "       2. How many socres are below 60, what are the indices(pl. of index) for these scores?    \n",
    "          有几个成绩低于60分，对应的索引分别是什么？"
   ]
  },
  {
   "cell_type": "code",
   "execution_count": 25,
   "id": "constitutional-fairy",
   "metadata": {
    "hidden": true
   },
   "outputs": [],
   "source": [
    "# a list ariable records the mathematical score of each student in the class\n",
    "# 一个列表变量记录了班级里每一个同学的数学考试成绩\n",
    "scores = [95, 74, 72, 64, 85, 79, 96, 65, 91, 92, 81, 71, 55, 78, 51, 69, 55,\n",
    "          85, 82, 57, 98, 57, 96, 62, 96]\n",
    "# TODO： write your own codes here to answer the questions.\n",
    "#        编写你自己的代码来回答本题"
   ]
  }
 ],
 "metadata": {
  "kernelspec": {
   "display_name": "Python 3",
   "language": "python",
   "name": "python3"
  },
  "language_info": {
   "codemirror_mode": {
    "name": "ipython",
    "version": 3
   },
   "file_extension": ".py",
   "mimetype": "text/x-python",
   "name": "python",
   "nbconvert_exporter": "python",
   "pygments_lexer": "ipython3",
   "version": "3.8.5"
  }
 },
 "nbformat": 4,
 "nbformat_minor": 5
}
