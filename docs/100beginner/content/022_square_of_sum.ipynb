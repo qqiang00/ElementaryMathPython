{
 "cells": [
  {
   "cell_type": "markdown",
   "id": "relative-location",
   "metadata": {},
   "source": [
    "## 第22讲 两个数和与差的平方"
   ]
  },
  {
   "cell_type": "markdown",
   "id": "d12f05dd",
   "metadata": {},
   "source": [
    "### Problem 问题描述"
   ]
  },
  {
   "cell_type": "markdown",
   "id": "87c843e7-cbef-4128-9360-c3ebd33dcc1b",
   "metadata": {},
   "source": [
    "使用`qianglib`库提供的方法，绘制方格坐标纸，其中坐标系的原点`(0,0)`位于绘图区的最左下方，使用的`scale`值为`20`. Use the methods provided in the library `qianglib`, draw a grid coordinate system where the origin `(0, 0)` is at the bottom left of the coordinate system."
   ]
  },
  {
   "cell_type": "markdown",
   "id": "075dc2c3-429c-4e18-af1c-d6dadc442312",
   "metadata": {},
   "source": [
    "1. 绘制一个边长为12各边平行于坐标轴的正方形，使得正方形左下角的顶点坐标为(7, 2)。画笔选择红色，画笔线的宽度为3。在正方形内部接近正中的位置书写一个字母”A“来表示这个正方形。 Draw a square with a side length of 12 and each side parallel to the coordinate axis; make sure that the vertex coordinates of the lower left corner of the square is (7, 2). Use \"red\" color and line width 3 to draw it. Write a letter \"A\" in the center of the square."
   ]
  },
  {
   "cell_type": "markdown",
   "id": "85c32d31-f2ea-4ac1-bb4f-783f228d8829",
   "metadata": {},
   "source": [
    "2. 绘制一个新的边长为8个边平行与坐标轴的正方形，使得该正方形左下角的顶点恰好为先前绘制的正方形右上角的顶点。环比选择蓝色，画笔线宽度为3。在正方形内部接近正中的位值书写一个字母”B“来表示这个正方形。  Draw a new square whose side length is 8 and all sides parallel to the coordinate axis; make sure that the vertex of the lower left corner of the square is exactly the vertex of the upper right corner of the square previously drawn. Use \"blue\" color and line width 3 to draw it. Write a letter \"B\" in the center of the square."
   ]
  },
  {
   "cell_type": "markdown",
   "id": "dfe5e1fa-2c40-44d8-8096-cf6bbf0b0d83",
   "metadata": {},
   "source": [
    "3. 绘制第三个各边平行于坐标轴的正方型，使得该正方形的左下角顶点与正方形A左下角的顶点重合，右上角顶点与正方形B右上角顶点重合。画笔选择黑色，画笔线宽度为2。Draw the third square with each side parallel to the coordinate axis; make sure that the vertex of the lower left corner of the new square coincides with the vertex of the lower left corner of square A, and the vertex of the upper right corner of the new square coincides with the vertex of the upper right corner of square B. Use color \"black\" and line width 2 to draw it."
   ]
  },
  {
   "cell_type": "markdown",
   "id": "614b781c-cd48-4bdd-887e-f873a7e8333c",
   "metadata": {},
   "source": [
    "4. 第三个正方形被分割为4个部分，分别为正方形A、B、以及正方形A的上方B的左侧和正方形A的右方B的下方的剩余的两块矩形区域，记作C和D并在图上标记C，D。the Third square is divided into 4 parts: square A, B, and rectangle above A, and rectangle below B, denoted as C and D, respectively.<br>\n",
    "   完成后的图形应该如下图所示：\n",
    "   The finished figure should look like the following:\n",
    "   <img src=\"figures/L022_square_sum.png\" width=\"600px\"/>\n",
    "   "
   ]
  },
  {
   "cell_type": "markdown",
   "id": "6da7bf19-5016-46db-9d97-84b05ebf7eec",
   "metadata": {},
   "source": [
    "5. 先根据第三个正方形的边长计算该正方形的面积，记作S1。再根据这个正方形由四块区域ABCD组成，计算这四块区域的面积的和，记作S2。S1的大小和S2的大小应该相等。First calculate the area of the third square based on the side length of it, denoted as S1. Then according to this square is composed of four areas A,B,C, and D, calculate the sum of the four areas, denoted as S2. S1 should be exactly equal to S2."
   ]
  },
  {
   "cell_type": "markdown",
   "id": "52a0ec99-ed1b-4791-b59b-f2ddfdae8db1",
   "metadata": {},
   "source": [
    "6. 尝试将正方形A和B的边长作如下每一行所示的修改，再重新计算正方形A，B以及第三个大正方形每一个顶点的位置。在计算的时候保持A的左下角坐标为(7, 2)，A的右上角与B的左下角重合，大正方形恰好把AB包含在内。然后，直接根据大正方形的边长计算其面积，记为S1；随后计算对应的正方形A、B的面积以及矩形C、D的面积的和，记为S2。把相关结果填入下表。S1应该始终与S2相等。Try to modify the side lengths of squares A and B as shown in each row below, and then calculate the coordinate values of each vertexes of squares A, B and the third large square. During calculating, keep the coordinates of the lower left corner of A always as (7, 2), the upper right corner of A coincides with the lower left corner of B, and the big square happens to include square A and B. Then calculate the area S1 directly base on the the side length of the large square; calculate S2 as sum of the area of the corresponding squares A and B and rectangles C and D.  Fill in the relevant results in the table below. Note: S1 should always be equal to S2.\n",
    "\n",
    "| Side A    | Side B      | S1 | A | B | C | D | S2|\n",
    "|:---------:|:---------:|-----|---|---|---|----|---|\n",
    "| 12        |   6       |     |   |   |   |    |   |\n",
    "| 10        |   6       |     |   |   |   |    |   |\n",
    "| 4         |   8       |     |   |   |   |    |   |\n",
    "| 9        |   1       |     |   |   |   |    |   |\n",
    "| 8        |   8       |     |   |   |   |    |   |\n"
   ]
  },
  {
   "cell_type": "markdown",
   "id": "6f041a5f-71c1-477c-95be-7e3361e55a3c",
   "metadata": {},
   "source": [
    "**Answer Area**"
   ]
  },
  {
   "cell_type": "code",
   "execution_count": 1,
   "id": "b1ae7be3-fdde-46b5-820e-c35a55d2fbe0",
   "metadata": {},
   "outputs": [],
   "source": [
    "from turtle import setup, reset, pu, pd, bye, left, right, fd, bk, screensize\n",
    "from turtle import goto, seth, write, ht, st, home, dot, pen, speed\n",
    "from qianglib import prepare_paper, draw_grid, mark, lines, line, polygon, text"
   ]
  },
  {
   "cell_type": "code",
   "execution_count": 2,
   "id": "bed66e63-7d02-4c22-bf10-8863883aab94",
   "metadata": {},
   "outputs": [],
   "source": [
    "width, height = 800, 600\n",
    "setup(width, height, 0, 0)"
   ]
  },
  {
   "cell_type": "code",
   "execution_count": 18,
   "id": "06a7859a-b00c-46b3-ae98-5b423dc22f8e",
   "metadata": {},
   "outputs": [],
   "source": [
    "prepare_paper(width, height, scale=20, min_x=0, min_y=0, max_y=25)"
   ]
  },
  {
   "cell_type": "code",
   "execution_count": 19,
   "id": "81b406f0-0270-4d1b-b0fc-546b5f3046b5",
   "metadata": {},
   "outputs": [],
   "source": [
    "SPA = (7, 2) # start point A, lower bottom 左下角顶点\n",
    "side_A, side_B = 10, 8 # side length"
   ]
  },
  {
   "cell_type": "code",
   "execution_count": 20,
   "id": "c23c7470-c2a0-415c-80e2-f471501f01e0",
   "metadata": {},
   "outputs": [],
   "source": [
    "def get_square(left_bottom, side_length):\n",
    "    square = []\n",
    "    x, y = left_bottom[0], left_bottom[1]\n",
    "    square.append(left_bottom)\n",
    "    square.append((x+side_length, y))\n",
    "    square.append((x+side_length, y+side_length))\n",
    "    square.append((x, y+side_length))\n",
    "    return square\n",
    "\n",
    "def get_center(left_bottom, side_length):\n",
    "    x = left_bottom[0]+side_length/2\n",
    "    y = left_bottom[1]+side_length/2\n",
    "    return (x, y)"
   ]
  },
  {
   "cell_type": "code",
   "execution_count": 21,
   "id": "fb5c795f-de79-4d8e-a91b-70fa490b678d",
   "metadata": {},
   "outputs": [
    {
     "name": "stdout",
     "output_type": "stream",
     "text": [
      "[(7, 2), (17, 2), (17, 12), (7, 12)]\n"
     ]
    }
   ],
   "source": [
    "square_A = get_square(SPA, side_A)\n",
    "print(square_A)\n",
    "polygon(square_A, linewidth=3, color=\"red\")\n",
    "center_A = get_center(SPA, side_A)\n",
    "text(center_A, \"A\", align=\"center\", font=(\"Arial\", 30, \"normal\"), color=\"red\")"
   ]
  },
  {
   "cell_type": "code",
   "execution_count": 22,
   "id": "317b32e4-0576-43b6-b073-c59a98e7bdc3",
   "metadata": {},
   "outputs": [
    {
     "name": "stdout",
     "output_type": "stream",
     "text": [
      "[(17, 12), (25, 12), (25, 20), (17, 20)]\n"
     ]
    }
   ],
   "source": [
    "SPB = (SPA[0]+side_A, SPA[1]+side_A)\n",
    "square_B = get_square(SPB, side_B)\n",
    "print(square_B)\n",
    "polygon(square_B, linewidth=3, color=\"blue\")\n",
    "center_B = get_center(SPB, side_B)\n",
    "text(center_B, \"B\", align=\"center\", font=(\"Arial\", 30, \"normal\"), color=\"blue\")"
   ]
  },
  {
   "cell_type": "code",
   "execution_count": 23,
   "id": "0edf7d27-96fd-485c-9609-6fa9c5ea9685",
   "metadata": {},
   "outputs": [],
   "source": [
    "square_big = get_square(SPA, side_A+side_B)\n",
    "polygon(square_big, linewidth=2, color=\"black\")"
   ]
  },
  {
   "cell_type": "code",
   "execution_count": 25,
   "id": "67d88e8a-6d60-4277-b8e8-d967eaaad215",
   "metadata": {},
   "outputs": [],
   "source": [
    "pos_C = (center_A[0], SPB[1]+side_B/2)\n",
    "text(pos_C, \"C\", align=\"center\", font=(\"Arial\", 30, \"normal\"), color=\"black\")"
   ]
  },
  {
   "cell_type": "code",
   "execution_count": 26,
   "id": "a2bfd796-f44c-4504-9f94-0566cf4504bf",
   "metadata": {},
   "outputs": [],
   "source": [
    "pos_D = (center_B[0], center_A[1])\n",
    "text(pos_D, \"D\", align=\"center\", font=(\"Arial\", 30, \"normal\"), color=\"black\")"
   ]
  },
  {
   "cell_type": "code",
   "execution_count": 29,
   "id": "6fb66c25-f78e-410a-a117-6c5146434cbe",
   "metadata": {},
   "outputs": [
    {
     "name": "stdout",
     "output_type": "stream",
     "text": [
      "True\n"
     ]
    }
   ],
   "source": [
    "S1 = (side_A + side_B)**2\n",
    "S2 = side_A**2 + side_B**2 + 2 * side_A * side_B\n",
    "print(S1 == S2)"
   ]
  },
  {
   "cell_type": "markdown",
   "id": "1270f26d-e2ca-45e0-a679-ec82361795da",
   "metadata": {},
   "source": [
    "### Math Background 数学背景\n",
    "\n",
    "1. 和的平方公式: $(a+b)^2 = a^2 + 2ab + b^2$\n"
   ]
  },
  {
   "cell_type": "markdown",
   "id": "sorted-furniture",
   "metadata": {
    "heading_collapsed": true
   },
   "source": [
    "### Prerequisites 预备知识"
   ]
  },
  {
   "cell_type": "markdown",
   "id": "ac3f3f62-7bb0-4f00-9a4e-4085b96c14dd",
   "metadata": {},
   "source": [
    "无"
   ]
  },
  {
   "cell_type": "markdown",
   "id": "d55f37d9",
   "metadata": {},
   "source": [
    "### Solution 编程求解"
   ]
  },
  {
   "cell_type": "markdown",
   "id": "fe71a786-9c32-4ccb-8ac0-747e43eb8623",
   "metadata": {},
   "source": [
    "1. "
   ]
  },
  {
   "cell_type": "markdown",
   "id": "latest-contamination",
   "metadata": {},
   "source": [
    "### Summary 知识点小结"
   ]
  },
  {
   "cell_type": "code",
   "execution_count": null,
   "id": "caf5a432-4145-40ee-8fc2-64e945b250b8",
   "metadata": {},
   "outputs": [],
   "source": []
  },
  {
   "cell_type": "markdown",
   "id": "afb3f674",
   "metadata": {},
   "source": [
    "1. 复习tuple\n",
    "2. 复习qianglib的一些方法\n",
    "3. 复习方法的返回值\n"
   ]
  },
  {
   "cell_type": "markdown",
   "id": "bizarre-assurance",
   "metadata": {},
   "source": [
    "### 计算机小知识"
   ]
  },
  {
   "cell_type": "markdown",
   "id": "92100f08",
   "metadata": {},
   "source": [
    "暂缺"
   ]
  },
  {
   "cell_type": "markdown",
   "id": "digital-consensus",
   "metadata": {
    "heading_collapsed": true
   },
   "source": [
    "### Assignments 作业\n",
    "\n",
    "#### Complete Question 5 and 6 完成本讲问题5和6."
   ]
  }
 ],
 "metadata": {
  "kernelspec": {
   "display_name": "Python 3",
   "language": "python",
   "name": "python3"
  },
  "language_info": {
   "codemirror_mode": {
    "name": "ipython",
    "version": 3
   },
   "file_extension": ".py",
   "mimetype": "text/x-python",
   "name": "python",
   "nbconvert_exporter": "python",
   "pygments_lexer": "ipython3",
   "version": "3.8.10"
  }
 },
 "nbformat": 4,
 "nbformat_minor": 5
}
