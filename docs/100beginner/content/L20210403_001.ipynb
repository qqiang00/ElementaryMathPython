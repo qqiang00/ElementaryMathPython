{
 "cells": [
  {
   "cell_type": "markdown",
   "id": "relative-location",
   "metadata": {},
   "source": [
    "# Lecture 1: First Python Program\n",
    "# 第1讲 第一个Python程序"
   ]
  },
  {
   "cell_type": "markdown",
   "id": "adjacent-chapel",
   "metadata": {},
   "source": [
    "- **Name (姓名)**: [Write Your Name Here]\n",
    "- **Date (日期)**: [Write the Date on which you completed this assignment]\n",
    "\n",
    "\n",
    "- **Score (成绩)**:[Provided by Teacher]\n",
    "- **Comment By Teacher (评语)**: [Provided by Teacher]"
   ]
  },
  {
   "cell_type": "markdown",
   "id": "latest-contamination",
   "metadata": {},
   "source": [
    "## Objective 学习目标\n",
    "\n",
    "- Understand what programming and programming language are (理解什么是编程和编程语言)\n",
    "- Understand what a string is (理解什么是字符串)\n",
    "- Be able to represent a string in Python (在Python中表示一个字符串)\n",
    "- Be able to display a string on screen (能够在屏幕上显示一个字符串)\n",
    "- Use Python as a calculator (把Python当成一个计算器使用)"
   ]
  },
  {
   "cell_type": "markdown",
   "id": "animated-batch",
   "metadata": {},
   "source": [
    "## Math\n",
    "\n",
    "- $+$, $-$, $\\times$, $\\div$"
   ]
  },
  {
   "cell_type": "markdown",
   "id": "sorted-furniture",
   "metadata": {},
   "source": [
    "## Python\n",
    "```python\n",
    "print(\"I am learning programming.\")\n",
    "print('I am learning programming.')\n",
    "1+2+3+4+5+6+7+8+9+10\n",
    "(1+2+3+4)*(2+3+4-5)\n",
    "(1+2)*((5+7)/(2+4))\n",
    "```"
   ]
  },
  {
   "cell_type": "code",
   "execution_count": 1,
   "id": "rural-branch",
   "metadata": {},
   "outputs": [
    {
     "name": "stdout",
     "output_type": "stream",
     "text": [
      "I am your teacher.\n"
     ]
    }
   ],
   "source": [
    "print(\"I am your teacher.\")"
   ]
  },
  {
   "cell_type": "code",
   "execution_count": null,
   "id": "urban-glance",
   "metadata": {},
   "outputs": [],
   "source": [
    "print(\"I ma your teahcer.\")"
   ]
  },
  {
   "cell_type": "code",
   "execution_count": 10,
   "id": "present-announcement",
   "metadata": {},
   "outputs": [
    {
     "data": {
      "text/plain": [
       "0.42857142857142855"
      ]
     },
     "execution_count": 10,
     "metadata": {},
     "output_type": "execute_result"
    }
   ],
   "source": [
    "(1+2)/(3+4)"
   ]
  },
  {
   "cell_type": "markdown",
   "id": "bizarre-assurance",
   "metadata": {},
   "source": [
    "## Did you know?\n",
    "- Nowadays Computer is still not as smart as human is, but it calculates much much faster than human. 当今时代计算机的聪明程度仍然没法和人比，但是它的计算速度比人要快得多得多。"
   ]
  },
  {
   "cell_type": "markdown",
   "id": "digital-consensus",
   "metadata": {},
   "source": [
    "## Exercise\n",
    "1. Use `print` to print out exactly the following sentences(including the final period). 使用`print`语句打印出完全一样的下面的句子（包括末尾的句号）。\n",
    "    - I love China and Canada.\n",
    "    - I like Python programming language, and I like Math too.\n",
    "    - Our teacher's name is Qiang.\n",
    "    - \"CN\" is the abbreviation of China.\n",
    "    - The abbreviation of Canda is \"CAD\".\n",
    "    \n",
    "   The code for printing out first sentence is already given as an example:\n",
    "   作为示例第一个句子已经给出答案：\n",
    "   ```python\n",
    "      print(\"I love China and Canada.\")\n",
    "   ```\n",
    "   Please write your codes for the rest sentences in below cells (one sentence in each cell).\n",
    "   请在下面几个小格子里编写代码输出剩余的句子（每一个单元格输出一个句子）。"
   ]
  },
  {
   "cell_type": "code",
   "execution_count": 7,
   "id": "weighted-mortality",
   "metadata": {},
   "outputs": [
    {
     "name": "stdout",
     "output_type": "stream",
     "text": [
      "'abc\n"
     ]
    }
   ],
   "source": [
    "print('\\'abc')"
   ]
  },
  {
   "cell_type": "code",
   "execution_count": 6,
   "id": "worst-hierarchy",
   "metadata": {},
   "outputs": [
    {
     "name": "stdout",
     "output_type": "stream",
     "text": [
      "\"\"abc\"\n"
     ]
    }
   ],
   "source": [
    "print(\"\\\"\\\"abc\\\"\")"
   ]
  },
  {
   "cell_type": "code",
   "execution_count": 2,
   "id": "constitutional-fairy",
   "metadata": {},
   "outputs": [
    {
     "name": "stdout",
     "output_type": "stream",
     "text": [
      "Our teacher's name...\n"
     ]
    }
   ],
   "source": [
    "print(\"Our teacher's name...\")"
   ]
  },
  {
   "cell_type": "code",
   "execution_count": 1,
   "id": "killing-boxing",
   "metadata": {},
   "outputs": [
    {
     "name": "stdout",
     "output_type": "stream",
     "text": [
      "\"CN\" is the ....\n"
     ]
    }
   ],
   "source": [
    "print('\"CN\" is the ....')"
   ]
  },
  {
   "cell_type": "code",
   "execution_count": null,
   "id": "dependent-brook",
   "metadata": {},
   "outputs": [],
   "source": []
  },
  {
   "cell_type": "markdown",
   "id": "cathedral-pursuit",
   "metadata": {},
   "source": [
    "2. In the following cells, write codes to calculate the following Arithmetic expressions (one cell for each):\n",
    "   在下面的单元格中，编写代码计算下面的算术表达式（每一个式子使用一个单元格）:\n",
    "   \n",
    "    - $1+3+5+7+9+11+13+15+17+19$\n",
    "    - $10-9+8-7+6-5+4-3+2-1$\n",
    "    - $3.14\\times 2\\times 5$\n",
    "    - $2\\times(6+9)$"
   ]
  },
  {
   "cell_type": "code",
   "execution_count": null,
   "id": "controlled-masters",
   "metadata": {},
   "outputs": [],
   "source": []
  },
  {
   "cell_type": "code",
   "execution_count": null,
   "id": "steady-wagner",
   "metadata": {},
   "outputs": [],
   "source": []
  },
  {
   "cell_type": "code",
   "execution_count": null,
   "id": "colonial-edinburgh",
   "metadata": {},
   "outputs": [],
   "source": []
  },
  {
   "cell_type": "code",
   "execution_count": null,
   "id": "clean-italian",
   "metadata": {},
   "outputs": [],
   "source": []
  },
  {
   "cell_type": "markdown",
   "id": "controversial-sleeve",
   "metadata": {},
   "source": [
    "3. The length and width of a rectangle are 18cm and 13cm respectively. What the perimeter and the area of this rectangle? write only two lines of codes to provide the answer directly, and an extra line of code to print out the result like the follow sentence:\n",
    "   \n",
    "   <i>\"The perimeter of this rectangle is xxx cm, and its area is xxx cm*cm.\"</i>\n",
    "   \n",
    "   Replace the xxx by your results. \n",
    "   \n",
    "   一个长方形的长和宽分别是18厘米和13厘米，它的周长和面积分别是多少？通过只编写两行代码给出答案，并使用额外一行代码输出如下格式的一句话：\n",
    "   \n",
    "   <i>“这个长方形的周长是 xxx cm，它的面积是 xxx cm*cm。”</i>\n",
    "   \n",
    "   用你得到的结果替代上面的 xxx。"
   ]
  },
  {
   "cell_type": "code",
   "execution_count": null,
   "id": "floppy-audience",
   "metadata": {},
   "outputs": [],
   "source": []
  },
  {
   "cell_type": "code",
   "execution_count": null,
   "id": "contemporary-indonesia",
   "metadata": {},
   "outputs": [],
   "source": []
  },
  {
   "cell_type": "code",
   "execution_count": null,
   "id": "healthy-auditor",
   "metadata": {},
   "outputs": [],
   "source": []
  },
  {
   "cell_type": "markdown",
   "id": "mounted-programmer",
   "metadata": {},
   "source": [
    "## Leave any words you like to your teacher\n",
    "(make sure this cell is a \"Markdown\" cell (not a \"Code\"), and run this cell after you complete.)\n",
    "\n",
    "[your words start here...]"
   ]
  },
  {
   "cell_type": "markdown",
   "id": "announced-scoop",
   "metadata": {},
   "source": [
    "## Finally\n",
    "1. Save the file and change the name of this file to \"[YourName]\\_assignment_[Lecture_Code_Number]\". \n",
    "   \n",
    "   For example, for **Spohie** and lecture **1**, the file name should be \"Sophie_assignment_001\".\n",
    "   \n",
    "\n",
    "2. Save the file, and upload it to accordingly directory in the teacher's Google Drive: https://drive.google.com/drive/folders/1DcSzsYS2ZDpzRGi3Tzo3edrj4yvf_U5I?usp=sharing\n",
    "\n",
    "   For students who cannot use Google Drive, email this file to qqiangye@gmail.com with the file name as the email's subject."
   ]
  },
  {
   "cell_type": "code",
   "execution_count": null,
   "id": "subsequent-glossary",
   "metadata": {},
   "outputs": [],
   "source": []
  }
 ],
 "metadata": {
  "kernelspec": {
   "display_name": "Python 3",
   "language": "python",
   "name": "python3"
  },
  "language_info": {
   "codemirror_mode": {
    "name": "ipython",
    "version": 3
   },
   "file_extension": ".py",
   "mimetype": "text/x-python",
   "name": "python",
   "nbconvert_exporter": "python",
   "pygments_lexer": "ipython3",
   "version": "3.9.0"
  }
 },
 "nbformat": 4,
 "nbformat_minor": 5
}
