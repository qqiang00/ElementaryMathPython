{
 "cells": [
  {
   "cell_type": "markdown",
   "id": "relative-location",
   "metadata": {},
   "source": [
    "## Mid Term Exam 期中考试\n",
    "\n",
    "**Name**:______________________\n",
    "\n",
    "**Score**:_____________________"
   ]
  },
  {
   "cell_type": "markdown",
   "id": "d12f05dd",
   "metadata": {},
   "source": [
    "**Instructions**: \n",
    "\n",
    "1. You are required to use the knowledge only learned from previous lectures. 你仅能使用我们前期课堂上学过的知识来答题。\n",
    "2. You are allowed to use Internet but not allowed to ask for someone else's help through Internet. 可以使用互联网，但不能通过互联网寻求他人帮助。\n",
    "3. You are allowed to ask for your parents' help. Your parents may only give you oral direction; he or she cannot write the codes for you directly. 可以寻求爸爸妈妈的帮助，但是爸爸妈妈只能给你口头指导，不能代替你写代码\n",
    "4. You need to open your video and share your screen all the time so that your teacher can see what you are doing. 考试期间全程打开视频并分享你的屏幕好让老师知道你在做什么\n",
    "5. You may mute yourself. But if you have some questions to ask, you may unmute and talk to your teacher.正常情况下你应该静音，如果你有问题要询问老师，可以取消静音和老师对话。\n",
    "6. Once time is up, completely stop, change the file name to \"010_[yourname]_midterm_exam.ipynb\" and upload your file by slack 一旦时间结束，立即停止答题，将文件名修改为“010__[你的名字]_midterm.ipynb” 通过slack上传。\n",
    "\n",
    "\n",
    "**Notes**:\n",
    "\n",
    "1. There are five questions. 20 points for each. 一共有5道题目，每一题20分\n",
    "2. Total time: 120 minutes. 时间120分钟\n",
    "3. Except Question 5, you should not modify anywhere else in the codes provided other than the #TODO line. 除了#TODO 行之外，您不应修改提供给你的代码中的任何其他位置, 第5题除外。"
   ]
  },
  {
   "cell_type": "markdown",
   "id": "c7cd1f0b-8266-49f3-a77e-806bec2c40ce",
   "metadata": {},
   "source": [
    "<hr>\n",
    "\n",
    "### Question 1\n",
    "\n",
    "Complete the following codes so that the program can accept two inputs from the keyboard, attempt to convert the two inputs to integers, and output the sum of the two integers as the result.\n",
    "\n",
    "完成下面的代码使得程序能够：接受两次来自键盘的输入，试图将两次来自键盘的输入转化为整数，并将两个整数相加的和作为结果输出。"
   ]
  },
  {
   "cell_type": "code",
   "execution_count": 1,
   "id": "e18eaa03-92c6-403c-a5bb-3aa87a9748b9",
   "metadata": {
    "execution": {
     "iopub.execute_input": "2022-04-23T01:07:18.100446Z",
     "iopub.status.busy": "2022-04-23T01:07:18.099425Z",
     "iopub.status.idle": "2022-04-23T01:07:18.788257Z",
     "shell.execute_reply": "2022-04-23T01:07:18.787771Z"
    }
   },
   "outputs": [
    {
     "name": "stdout",
     "output_type": "stream",
     "text": [
      "A simple addition calculator\n"
     ]
    },
    {
     "ename": "StdinNotImplementedError",
     "evalue": "raw_input was called, but this frontend does not support input requests.",
     "output_type": "error",
     "traceback": [
      "\u001b[1;31m---------------------------------------------------------------------------\u001b[0m",
      "\u001b[1;31mStdinNotImplementedError\u001b[0m                  Traceback (most recent call last)",
      "Input \u001b[1;32mIn [1]\u001b[0m, in \u001b[0;36m<cell line: 4>\u001b[1;34m()\u001b[0m\n\u001b[0;32m      2\u001b[0m result \u001b[38;5;241m=\u001b[39m \u001b[38;5;241m0\u001b[39m\n\u001b[0;32m      3\u001b[0m \u001b[38;5;28mprint\u001b[39m(\u001b[38;5;124m\"\u001b[39m\u001b[38;5;124mA simple addition calculator\u001b[39m\u001b[38;5;124m\"\u001b[39m)\n\u001b[1;32m----> 4\u001b[0m str1 \u001b[38;5;241m=\u001b[39m \u001b[38;5;28;43minput\u001b[39;49m\u001b[43m(\u001b[49m\u001b[38;5;124;43m\"\u001b[39;49m\u001b[38;5;124;43mPlease input first integer:\u001b[39;49m\u001b[38;5;124;43m\"\u001b[39;49m\u001b[43m)\u001b[49m\n\u001b[0;32m      5\u001b[0m str2 \u001b[38;5;241m=\u001b[39m \u001b[38;5;28minput\u001b[39m(\u001b[38;5;124m\"\u001b[39m\u001b[38;5;124mPlease input second integer:\u001b[39m\u001b[38;5;124m\"\u001b[39m)\n\u001b[0;32m      7\u001b[0m \u001b[38;5;66;03m# TODO try to convert two input strings to integers(1 or 2 lines required) \u001b[39;00m\n\u001b[0;32m      8\u001b[0m \u001b[38;5;66;03m#      试图将通过输入得到的字符串转化为整数\u001b[39;00m\n\u001b[0;32m      9\u001b[0m \n\u001b[0;32m     10\u001b[0m \u001b[38;5;66;03m# TODO do the addition and assign the sum to variable result (1 line required)\u001b[39;00m\n\u001b[0;32m     11\u001b[0m \u001b[38;5;66;03m#      执行加法运算并将结果赋值给result变量\u001b[39;00m\n",
      "File \u001b[1;32mc:\\users\\qiang\\documents\\elementarymathpython\\venv\\lib\\site-packages\\ipykernel\\kernelbase.py:1072\u001b[0m, in \u001b[0;36mKernel.raw_input\u001b[1;34m(self, prompt)\u001b[0m\n\u001b[0;32m   1065\u001b[0m \u001b[38;5;124;03m\"\"\"Forward raw_input to frontends\u001b[39;00m\n\u001b[0;32m   1066\u001b[0m \n\u001b[0;32m   1067\u001b[0m \u001b[38;5;124;03mRaises\u001b[39;00m\n\u001b[0;32m   1068\u001b[0m \u001b[38;5;124;03m------\u001b[39;00m\n\u001b[0;32m   1069\u001b[0m \u001b[38;5;124;03mStdinNotImplementedError if active frontend doesn't support stdin.\u001b[39;00m\n\u001b[0;32m   1070\u001b[0m \u001b[38;5;124;03m\"\"\"\u001b[39;00m\n\u001b[0;32m   1071\u001b[0m \u001b[38;5;28;01mif\u001b[39;00m \u001b[38;5;129;01mnot\u001b[39;00m \u001b[38;5;28mself\u001b[39m\u001b[38;5;241m.\u001b[39m_allow_stdin:\n\u001b[1;32m-> 1072\u001b[0m     \u001b[38;5;28;01mraise\u001b[39;00m StdinNotImplementedError(\n\u001b[0;32m   1073\u001b[0m         \u001b[38;5;124m\"\u001b[39m\u001b[38;5;124mraw_input was called, but this frontend does not support input requests.\u001b[39m\u001b[38;5;124m\"\u001b[39m\n\u001b[0;32m   1074\u001b[0m     )\n\u001b[0;32m   1075\u001b[0m \u001b[38;5;28;01mreturn\u001b[39;00m \u001b[38;5;28mself\u001b[39m\u001b[38;5;241m.\u001b[39m_input_request(\n\u001b[0;32m   1076\u001b[0m     \u001b[38;5;28mstr\u001b[39m(prompt),\n\u001b[0;32m   1077\u001b[0m     \u001b[38;5;28mself\u001b[39m\u001b[38;5;241m.\u001b[39m_parent_ident[\u001b[38;5;124m\"\u001b[39m\u001b[38;5;124mshell\u001b[39m\u001b[38;5;124m\"\u001b[39m],\n\u001b[0;32m   1078\u001b[0m     \u001b[38;5;28mself\u001b[39m\u001b[38;5;241m.\u001b[39mget_parent(\u001b[38;5;124m\"\u001b[39m\u001b[38;5;124mshell\u001b[39m\u001b[38;5;124m\"\u001b[39m),\n\u001b[0;32m   1079\u001b[0m     password\u001b[38;5;241m=\u001b[39m\u001b[38;5;28;01mFalse\u001b[39;00m,\n\u001b[0;32m   1080\u001b[0m )\n",
      "\u001b[1;31mStdinNotImplementedError\u001b[0m: raw_input was called, but this frontend does not support input requests."
     ]
    }
   ],
   "source": [
    "## str1, str2 = None, None\n",
    "result = 0\n",
    "print(\"A simple addition calculator\")\n",
    "str1 = input(\"Please input first integer:\")\n",
    "str2 = input(\"Please input second integer:\")\n",
    "\n",
    "# TODO try to convert two input strings to integers(1 or 2 lines required) \n",
    "#      试图将通过输入得到的字符串转化为整数\n",
    "\n",
    "# TODO do the addition and assign the sum to variable result (1 line required)\n",
    "#      执行加法运算并将结果赋值给result变量\n",
    "\n",
    "print(\"The sum of two inputs are: {}.\".format(result))"
   ]
  },
  {
   "cell_type": "markdown",
   "id": "f5a3939d-c70e-4026-a1a3-738837e64378",
   "metadata": {},
   "source": [
    "<hr>\n",
    "\n",
    "### Question 2\n",
    "Complete the following codes so that the program can generate two integers in the range 0-10 (excluding 0 and 10) in turn, compare the two integers, and then output which integer is larger and the difference. you need to prepare test data youself and test the modified codes. You do not need to note all test data you prepared in a cell.\n",
    "\n",
    "补全下面的代码使得程序能够：依次生成两个范围在0-10（不包括0和10）之间的的整数，比较这两个整数的大小，然后输出哪一个整数大，大多少。你需要自己准备足够的测试数据来测试你修改后的代码，但不需要在一个单元格里写出来你准备的测试数据。\n"
   ]
  },
  {
   "cell_type": "code",
   "execution_count": 2,
   "id": "f67ce732-aaaf-47a0-950a-6bc314ab1339",
   "metadata": {
    "execution": {
     "iopub.execute_input": "2022-04-23T01:07:18.794733Z",
     "iopub.status.busy": "2022-04-23T01:07:18.793734Z",
     "iopub.status.idle": "2022-04-23T01:07:19.007253Z",
     "shell.execute_reply": "2022-04-23T01:07:19.005406Z"
    }
   },
   "outputs": [
    {
     "ename": "TypeError",
     "evalue": "unsupported operand type(s) for +: 'NoneType' and 'int'",
     "output_type": "error",
     "traceback": [
      "\u001b[1;31m---------------------------------------------------------------------------\u001b[0m",
      "\u001b[1;31mTypeError\u001b[0m                                 Traceback (most recent call last)",
      "Input \u001b[1;32mIn [2]\u001b[0m, in \u001b[0;36m<cell line: 7>\u001b[1;34m()\u001b[0m\n\u001b[0;32m      3\u001b[0m \u001b[38;5;66;03m# TODO assign the following two variables with proper values instead of just None. \u001b[39;00m\n\u001b[0;32m      4\u001b[0m \u001b[38;5;66;03m#      替换下行代码中的两处 None, 赋予下面两个变量一个合适的值\u001b[39;00m\n\u001b[0;32m      5\u001b[0m min_num, max_num \u001b[38;5;241m=\u001b[39m \u001b[38;5;28;01mNone\u001b[39;00m, \u001b[38;5;28;01mNone\u001b[39;00m\n\u001b[1;32m----> 7\u001b[0m int1 \u001b[38;5;241m=\u001b[39m \u001b[43mrandint\u001b[49m\u001b[43m(\u001b[49m\u001b[43mmin_num\u001b[49m\u001b[43m,\u001b[49m\u001b[43m \u001b[49m\u001b[43mmax_num\u001b[49m\u001b[43m)\u001b[49m\n\u001b[0;32m      8\u001b[0m int2 \u001b[38;5;241m=\u001b[39m randint(min_num, max_num)\n\u001b[0;32m     10\u001b[0m difference \u001b[38;5;241m=\u001b[39m int1 \u001b[38;5;241m-\u001b[39m int2\n",
      "File \u001b[1;32m~\\AppData\\Local\\Programs\\Python\\Python39\\lib\\random.py:338\u001b[0m, in \u001b[0;36mRandom.randint\u001b[1;34m(self, a, b)\u001b[0m\n\u001b[0;32m    334\u001b[0m \u001b[38;5;28;01mdef\u001b[39;00m \u001b[38;5;21mrandint\u001b[39m(\u001b[38;5;28mself\u001b[39m, a, b):\n\u001b[0;32m    335\u001b[0m     \u001b[38;5;124;03m\"\"\"Return random integer in range [a, b], including both end points.\u001b[39;00m\n\u001b[0;32m    336\u001b[0m \u001b[38;5;124;03m    \"\"\"\u001b[39;00m\n\u001b[1;32m--> 338\u001b[0m     \u001b[38;5;28;01mreturn\u001b[39;00m \u001b[38;5;28mself\u001b[39m\u001b[38;5;241m.\u001b[39mrandrange(a, \u001b[43mb\u001b[49m\u001b[38;5;241;43m+\u001b[39;49m\u001b[38;5;241;43m1\u001b[39;49m)\n",
      "\u001b[1;31mTypeError\u001b[0m: unsupported operand type(s) for +: 'NoneType' and 'int'"
     ]
    }
   ],
   "source": [
    "from random import randint\n",
    "\n",
    "# TODO assign the following two variables with proper values instead of just None. \n",
    "#      替换下行代码中的两处 None, 赋予下面两个变量一个合适的值\n",
    "min_num, max_num = None, None\n",
    "\n",
    "int1 = randint(min_num, max_num)\n",
    "int2 = randint(min_num, max_num)\n",
    "\n",
    "difference = int1 - int2\n",
    "print(\"the two integers are: {} and {}\".format(int1, int2))\n",
    "if difference > 0:\n",
    "    print(\"The first ingeter is larger, difference is {}\".format(difference))\n",
    "else:\n",
    "    if difference < 0:\n",
    "        # TODO modify next line so that the it prints always positive difference \n",
    "        #      修改下一行使得输出的差总是大于0的\n",
    "        print(\"The second ingeter is larger, difference is {}\".format(difference))\n",
    "    else:\n",
    "        # TODO give meaningful output under this condition 给出符合当前条件的恰当的输出\n",
    "        pass\n",
    "    \n"
   ]
  },
  {
   "cell_type": "markdown",
   "id": "dd59fe4f-d225-4d84-a55a-b0196ff404d7",
   "metadata": {},
   "source": [
    "<hr>\n",
    "\n",
    "### Question 3\n",
    "Complete the following codes so that the program can generate a simple ruler like the following figure shows.\n",
    "完成以下代码，以便程序可以生成一个简单的标尺，如下图所示。\n",
    "\n",
    "**Note** The red dot is the center of the whole drawing area; the ruler is 500 pixels long in total; the distane between adjacent markers is 50 pixels long; there are 9 markers in total. \n",
    "\n",
    "**备注** 红点是整个绘图区域的中心； 标尺总长 500 像素； 相邻标记之间的距离为 50 像素长； 总共有 9 个标记。\n",
    "\n",
    "\n",
    "<img src = \"figures/L010_midterm_exam_q5.png\"/>"
   ]
  },
  {
   "cell_type": "code",
   "execution_count": 3,
   "id": "68c4b2bd-3fd1-4cf3-a743-2d153af394c2",
   "metadata": {
    "execution": {
     "iopub.execute_input": "2022-04-23T01:07:19.011715Z",
     "iopub.status.busy": "2022-04-23T01:07:19.011715Z",
     "iopub.status.idle": "2022-04-23T01:07:19.358948Z",
     "shell.execute_reply": "2022-04-23T01:07:19.358530Z"
    }
   },
   "outputs": [],
   "source": [
    "from turtle import setup, reset, left, right, pu, pd, fd, bk, st, ht, dot\n",
    "from turtle import goto, seth, speed, bye\n",
    "setup(600, 200, 0, 0)"
   ]
  },
  {
   "cell_type": "code",
   "execution_count": 4,
   "id": "e8929df5-066b-450f-b28d-d77e3bdcc8fd",
   "metadata": {
    "execution": {
     "iopub.execute_input": "2022-04-23T01:07:19.362721Z",
     "iopub.status.busy": "2022-04-23T01:07:19.362721Z",
     "iopub.status.idle": "2022-04-23T01:07:19.870131Z",
     "shell.execute_reply": "2022-04-23T01:07:19.869131Z"
    }
   },
   "outputs": [],
   "source": [
    "reset()\n",
    "line_length = 500\n",
    "dot(5, \"red\")\n",
    "pu()\n",
    "bk(line_length/2)\n",
    "pd()\n",
    "steps = 50\n",
    "length_drawn = 0\n",
    "marker_length = 10\n",
    "\n",
    "while length_drawn < line_length:\n",
    "    # TODO add necessary code lines here 在此处添加多行代码。\n",
    "    pass\n",
    "    break\n",
    "    \n",
    "        \n",
    "ht()              # hide turtle"
   ]
  },
  {
   "cell_type": "markdown",
   "id": "f6bc9462-c670-4c17-bac5-542f6d87f131",
   "metadata": {},
   "source": [
    "<hr>\n",
    "\n",
    "### Question 4\n",
    "The following program tries to calculate the sum of all consecutive integers in a given range, please：\n",
    "\n",
    "下面的程序试图计算给定范围内所有连续整数的和，请:\n",
    "\n",
    "1. complete the code and run the program. and test it with the data given below, write the test result in the subsequent cells. If the program runs correctly, it will provide the outputs that are given in the test data; 完善代码后运行程序。并用下面给出的数据进行测试。程序运行正确时应该输出测试数据中给出的输出；\n",
    "\n",
    "2. Point out the imperfections of this program and give suggestions for improvement (text description is enough, no need to modify the program again); 指出这个程序不完善的地方并给出改进意见(文字描述即可，不需要再次修改程序）\n",
    "\n",
    "Test Data 测试数据：\n",
    "\n",
    "| smaller integer 较小的整数 | larger integer 较大的整数 |  Expected Output 期待的正确输出   |\n",
    "|:-----------:|:------------:|:--------------------------:|\n",
    "| 1  | 100  | 1+2+...+100=5050   |\n",
    "| 100  | 1  | Error: the second should be larger than first.|\n",
    "| 1  | 1000  | 1+2+...+1000=500500   |\n",
    "|1   | 2    | 1+2+...+2=3 |\n"
   ]
  },
  {
   "cell_type": "code",
   "execution_count": 5,
   "id": "a9d14934",
   "metadata": {
    "execution": {
     "iopub.execute_input": "2022-04-23T01:07:19.874130Z",
     "iopub.status.busy": "2022-04-23T01:07:19.874130Z",
     "iopub.status.idle": "2022-04-23T01:07:19.917082Z",
     "shell.execute_reply": "2022-04-23T01:07:19.915069Z"
    }
   },
   "outputs": [
    {
     "name": "stdout",
     "output_type": "stream",
     "text": [
      "Quick Sum of All Integers between Certain Range\n"
     ]
    },
    {
     "ename": "StdinNotImplementedError",
     "evalue": "raw_input was called, but this frontend does not support input requests.",
     "output_type": "error",
     "traceback": [
      "\u001b[1;31m---------------------------------------------------------------------------\u001b[0m",
      "\u001b[1;31mStdinNotImplementedError\u001b[0m                  Traceback (most recent call last)",
      "Input \u001b[1;32mIn [5]\u001b[0m, in \u001b[0;36m<cell line: 2>\u001b[1;34m()\u001b[0m\n\u001b[0;32m      1\u001b[0m \u001b[38;5;28mprint\u001b[39m(\u001b[38;5;124m\"\u001b[39m\u001b[38;5;124mQuick Sum of All Integers between Certain Range\u001b[39m\u001b[38;5;124m\"\u001b[39m)\n\u001b[1;32m----> 2\u001b[0m num_start \u001b[38;5;241m=\u001b[39m \u001b[38;5;28mint\u001b[39m(\u001b[38;5;28;43minput\u001b[39;49m\u001b[43m(\u001b[49m\u001b[38;5;124;43m\"\u001b[39;49m\u001b[38;5;124;43mplease input the smaller integer:\u001b[39;49m\u001b[38;5;124;43m\"\u001b[39;49m\u001b[43m)\u001b[49m)\n\u001b[0;32m      3\u001b[0m num_end \u001b[38;5;241m=\u001b[39m \u001b[38;5;28mint\u001b[39m(\u001b[38;5;28minput\u001b[39m(\u001b[38;5;124m\"\u001b[39m\u001b[38;5;124mPlease input the larger integer:\u001b[39m\u001b[38;5;124m\"\u001b[39m))\n\u001b[0;32m      4\u001b[0m \u001b[38;5;28;01mif\u001b[39;00m num_end \u001b[38;5;241m<\u001b[39m\u001b[38;5;241m=\u001b[39m num_start:\n",
      "File \u001b[1;32mc:\\users\\qiang\\documents\\elementarymathpython\\venv\\lib\\site-packages\\ipykernel\\kernelbase.py:1072\u001b[0m, in \u001b[0;36mKernel.raw_input\u001b[1;34m(self, prompt)\u001b[0m\n\u001b[0;32m   1065\u001b[0m \u001b[38;5;124;03m\"\"\"Forward raw_input to frontends\u001b[39;00m\n\u001b[0;32m   1066\u001b[0m \n\u001b[0;32m   1067\u001b[0m \u001b[38;5;124;03mRaises\u001b[39;00m\n\u001b[0;32m   1068\u001b[0m \u001b[38;5;124;03m------\u001b[39;00m\n\u001b[0;32m   1069\u001b[0m \u001b[38;5;124;03mStdinNotImplementedError if active frontend doesn't support stdin.\u001b[39;00m\n\u001b[0;32m   1070\u001b[0m \u001b[38;5;124;03m\"\"\"\u001b[39;00m\n\u001b[0;32m   1071\u001b[0m \u001b[38;5;28;01mif\u001b[39;00m \u001b[38;5;129;01mnot\u001b[39;00m \u001b[38;5;28mself\u001b[39m\u001b[38;5;241m.\u001b[39m_allow_stdin:\n\u001b[1;32m-> 1072\u001b[0m     \u001b[38;5;28;01mraise\u001b[39;00m StdinNotImplementedError(\n\u001b[0;32m   1073\u001b[0m         \u001b[38;5;124m\"\u001b[39m\u001b[38;5;124mraw_input was called, but this frontend does not support input requests.\u001b[39m\u001b[38;5;124m\"\u001b[39m\n\u001b[0;32m   1074\u001b[0m     )\n\u001b[0;32m   1075\u001b[0m \u001b[38;5;28;01mreturn\u001b[39;00m \u001b[38;5;28mself\u001b[39m\u001b[38;5;241m.\u001b[39m_input_request(\n\u001b[0;32m   1076\u001b[0m     \u001b[38;5;28mstr\u001b[39m(prompt),\n\u001b[0;32m   1077\u001b[0m     \u001b[38;5;28mself\u001b[39m\u001b[38;5;241m.\u001b[39m_parent_ident[\u001b[38;5;124m\"\u001b[39m\u001b[38;5;124mshell\u001b[39m\u001b[38;5;124m\"\u001b[39m],\n\u001b[0;32m   1078\u001b[0m     \u001b[38;5;28mself\u001b[39m\u001b[38;5;241m.\u001b[39mget_parent(\u001b[38;5;124m\"\u001b[39m\u001b[38;5;124mshell\u001b[39m\u001b[38;5;124m\"\u001b[39m),\n\u001b[0;32m   1079\u001b[0m     password\u001b[38;5;241m=\u001b[39m\u001b[38;5;28;01mFalse\u001b[39;00m,\n\u001b[0;32m   1080\u001b[0m )\n",
      "\u001b[1;31mStdinNotImplementedError\u001b[0m: raw_input was called, but this frontend does not support input requests."
     ]
    }
   ],
   "source": [
    "print(\"Quick Sum of All Integers between Certain Range\")\n",
    "num_start = int(input(\"please input the smaller integer:\"))\n",
    "num_end = int(input(\"Please input the larger integer:\"))\n",
    "if num_end <= num_start:\n",
    "    print(\"Error: the second should be larger than first.\")\n",
    "else:\n",
    "    # TODO add necessary code lines here 请在此处添加多行代码\n",
    "    \n",
    "\n",
    "    print(\"{} + {} + ... + {} = {}\".format(num_start, num_start+1, num_end, result))"
   ]
  },
  {
   "cell_type": "code",
   "execution_count": 6,
   "id": "81964391-4fee-476d-9ba5-f64d65141a7a",
   "metadata": {
    "execution": {
     "iopub.execute_input": "2022-04-23T01:07:19.922189Z",
     "iopub.status.busy": "2022-04-23T01:07:19.921603Z",
     "iopub.status.idle": "2022-04-23T01:07:19.933381Z",
     "shell.execute_reply": "2022-04-23T01:07:19.930670Z"
    }
   },
   "outputs": [],
   "source": [
    "# Write you answer for second part here 在这里写你对第二部分的回答\n",
    "\n",
    "\n",
    "\n"
   ]
  },
  {
   "cell_type": "markdown",
   "id": "7a610a63-4707-4d8c-8666-68af917636d3",
   "metadata": {},
   "source": [
    "<hr>\n",
    "\n",
    "### Question 5\n",
    "\n",
    "The method `randint` accepts two parameters representing the minimum and maximum possible values of the random number generated. It is also possible that these two （maximal and minimal) values are generated. The following program attempts to count how many times the method was run before it **first** generated the minimum value (0) and the maximum value (100), respectively. However, this program has many errors since line 13, please correct the errors in nexe code cell.\n",
    "\n",
    "随机数生成方法`randint`接受两个参数分别表示生成的随机数的最小和最大可能的值，其中最大和最小值也是有机会被生成的。下面的程序试图统计运行了随机数生成方法多少次才分别**首次**生成了最小值0和最大值100。但这段程序自第13行起就有不少错误，请你在随后的代码单元格中纠正错误。\n",
    "\n",
    "\n",
    "```python\n",
    "from random import randint\n",
    "min_num, max_num = 0, 10\n",
    "times_for_min_num = 0                  # 记录生成最小数的尝试次数\n",
    "times_for_max_num = 0                  # 记录生成最大数的尝试次数\n",
    "times_generated = 0                    # 记录当前已经尝试生成随机数的次数\n",
    "\n",
    "while True:\n",
    "    num_generated = randint(min_num, max_num)\n",
    "    times_generated += 1\n",
    "    print(\"In generation {:3}, generated num is {:3}\".format(times_generated, num_generated))\n",
    "    \n",
    "    # Above this line, codes are correct, don't modify them. 不要修改此处以上的代码，他们被认为没有错误。\n",
    "    # Below, there are erros, please correct them. 此行以下的代码有多处错误，请纠正错误。\n",
    "    if num_generated == min_num\n",
    "        times_for_min_num = times_generated\n",
    "    if num_generated = max_num:\n",
    "        times_for_min_num = times_generated\n",
    "    if times_for_min_num > 0 or times_for_max_num > 0:\n",
    "        pass\n",
    "        \n",
    "print(\"{} is generated in generation {}\".format(min_num, times_for_min_num)\n",
    "print(\"{} is generated in generation {}\".format(max_num, times_for_max_num)\n",
    "```"
   ]
  },
  {
   "cell_type": "code",
   "execution_count": 7,
   "id": "dba90473-2945-4af6-b560-43df6a07d6c8",
   "metadata": {
    "execution": {
     "iopub.execute_input": "2022-04-23T01:07:19.943392Z",
     "iopub.status.busy": "2022-04-23T01:07:19.943392Z",
     "iopub.status.idle": "2022-04-23T01:07:19.962536Z",
     "shell.execute_reply": "2022-04-23T01:07:19.962026Z"
    }
   },
   "outputs": [
    {
     "ename": "SyntaxError",
     "evalue": "invalid syntax (2183319646.py, line 14)",
     "output_type": "error",
     "traceback": [
      "\u001b[1;36m  Input \u001b[1;32mIn [7]\u001b[1;36m\u001b[0m\n\u001b[1;33m    if num_generated == min_num\u001b[0m\n\u001b[1;37m                               ^\u001b[0m\n\u001b[1;31mSyntaxError\u001b[0m\u001b[1;31m:\u001b[0m invalid syntax\n"
     ]
    }
   ],
   "source": [
    "from random import randint\n",
    "min_num, max_num = 0, 10\n",
    "times_for_min_num = 0                  # 记录生成最小数的尝试次数\n",
    "times_for_max_num = 0                  # 记录生成最大数的尝试次数\n",
    "times_generated = 0                    # 记录当前已经尝试生成随机数的次数\n",
    "\n",
    "while True:\n",
    "    num_generated = randint(min_num, max_num)\n",
    "    times_generated += 1\n",
    "    print(\"In generation {:3}, generated num is {:3}\".format(times_generated, num_generated))\n",
    "    \n",
    "    # Above this line, codes are correct, don't modify them. 不要修改此处以上的代码，他们被认为没有错误。\n",
    "    # Below, there are erros, please correct them. 此行以下的代码有多处错误，请纠正错误。\n",
    "    if num_generated == min_num\n",
    "        times_for_min_num = times_generated\n",
    "    if num_generated = max_num:\n",
    "        times_for_min_num = times_generated\n",
    "    if times_for_min_num > 0 or times_for_max_num > 0:\n",
    "        pass\n",
    "        \n",
    "print(\"{} is generated in generation {}\".format(min_num, times_for_min_num)\n",
    "print(\"{} is generated in generation {}\".format(max_num, times_for_max_num)"
   ]
  },
  {
   "cell_type": "markdown",
   "id": "c39c3ec8-b260-44e6-b074-71d6fbb483a8",
   "metadata": {},
   "source": [
    "<hr>\n",
    "\n",
    "**You came to the end of the Exam.**\n",
    "\n",
    "**你已经来到了试卷末尾。**"
   ]
  }
 ],
 "metadata": {
  "kernelspec": {
   "display_name": "Python 3 (ipykernel)",
   "language": "python",
   "name": "python3"
  },
  "language_info": {
   "codemirror_mode": {
    "name": "ipython",
    "version": 3
   },
   "file_extension": ".py",
   "mimetype": "text/x-python",
   "name": "python",
   "nbconvert_exporter": "python",
   "pygments_lexer": "ipython3",
   "version": "3.9.0"
  }
 },
 "nbformat": 4,
 "nbformat_minor": 5
}
