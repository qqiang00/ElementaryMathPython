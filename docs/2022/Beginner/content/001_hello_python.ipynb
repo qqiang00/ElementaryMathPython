{
 "cells": [
  {
   "cell_type": "markdown",
   "id": "relative-location",
   "metadata": {},
   "source": [
    "## 第01讲 你好，Python\n",
    "\n",
    "Hello Python"
   ]
  },
  {
   "cell_type": "markdown",
   "id": "d12f05dd",
   "metadata": {},
   "source": [
    "### Problem 问题描述 \n"
   ]
  },
  {
   "cell_type": "markdown",
   "id": "2a82c392-ffdf-4e80-9274-87b53c65ce54",
   "metadata": {},
   "source": [
    "1. Let computer display a sentence \"I love Math and Programming.\"\n",
    "2. Do the following calculation using Python\n",
    "   - $(2+5)\\times 2$\n",
    "   - $3.14\\times 5\\times 5$\n",
    "   - $\\frac{1}{2}\\times 3 \\times 4$\n",
    "   - $1+2+3+\\cdots+8+9+10$"
   ]
  },
  {
   "cell_type": "markdown",
   "id": "animated-batch",
   "metadata": {},
   "source": [
    "### Math Background 数学背景\n",
    "\n",
    "1. $+, -, \\times, \\div$"
   ]
  },
  {
   "cell_type": "markdown",
   "id": "6b2325d2-57ae-46ac-a347-6a9c5fe02230",
   "metadata": {},
   "source": [
    "### Prerequisites 预备知识\n",
    "1. Commands to launch Jupyter Lab 启动Jupyter Lab的命令\n",
    "2. Use of Jupyter lab 如何使用Jupyter Lab\n",
    "3. What is a `string`, single quote and double quote. 什么是字符串，单引号和双引号的使用\n",
    "4. Method`print` 方法(命令)\n",
    "5. Python as a calculator 把Python当成计算器使用\n",
    "6. Python is a **CASE SENSITIVE** programming languange. Python是一个大小写敏感的编程语言。"
   ]
  },
  {
   "cell_type": "code",
   "execution_count": 8,
   "id": "8e43d66a-a465-4bbe-b9a3-041a84a8aae4",
   "metadata": {},
   "outputs": [
    {
     "name": "stdout",
     "output_type": "stream",
     "text": [
      "My name is Qiang.\n"
     ]
    }
   ],
   "source": [
    "print(\"My name is Qiang.\")"
   ]
  },
  {
   "cell_type": "markdown",
   "id": "92aa5fbb-4259-4116-8679-dfbed36a371c",
   "metadata": {},
   "source": [
    "I live in \"China\"."
   ]
  },
  {
   "cell_type": "code",
   "execution_count": 9,
   "id": "d8539e83-4d0a-4950-aeda-c5d5c2775370",
   "metadata": {},
   "outputs": [
    {
     "name": "stdout",
     "output_type": "stream",
     "text": [
      "I live in \"Canada\".\n"
     ]
    }
   ],
   "source": [
    "print('I live in \"Canada\".')"
   ]
  },
  {
   "cell_type": "code",
   "execution_count": 36,
   "id": "3b808222-088f-4a7c-bc5c-18ce41931a4b",
   "metadata": {},
   "outputs": [
    {
     "name": "stdout",
     "output_type": "stream",
     "text": [
      "1  ******    \n",
      "2  ******    \n"
     ]
    }
   ],
   "source": [
    "print('1  ******    ')\n",
    "print('2  ******    ')"
   ]
  },
  {
   "cell_type": "code",
   "execution_count": 37,
   "id": "19240a60-ca3a-4fd5-b7c6-108dee266c0c",
   "metadata": {},
   "outputs": [
    {
     "ename": "NameError",
     "evalue": "name 'Print' is not defined",
     "output_type": "error",
     "traceback": [
      "\u001b[0;31m---------------------------------------------------------------------------\u001b[0m",
      "\u001b[0;31mNameError\u001b[0m                                 Traceback (most recent call last)",
      "\u001b[0;32m<ipython-input-37-337edaac039d>\u001b[0m in \u001b[0;36m<module>\u001b[0;34m\u001b[0m\n\u001b[0;32m----> 1\u001b[0;31m \u001b[0mPrint\u001b[0m\u001b[0;34m(\u001b[0m\u001b[0;34m'  ******    '\u001b[0m\u001b[0;34m)\u001b[0m\u001b[0;34m\u001b[0m\u001b[0;34m\u001b[0m\u001b[0m\n\u001b[0m\u001b[1;32m      2\u001b[0m \u001b[0mPRINT\u001b[0m\u001b[0;34m(\u001b[0m\u001b[0;34m'  ******    '\u001b[0m\u001b[0;34m)\u001b[0m\u001b[0;34m\u001b[0m\u001b[0;34m\u001b[0m\u001b[0m\n",
      "\u001b[0;31mNameError\u001b[0m: name 'Print' is not defined"
     ]
    }
   ],
   "source": [
    "Print('  ******    ')\n",
    "PRINT('  ******    ')"
   ]
  },
  {
   "cell_type": "raw",
   "id": "4293f87f-4d89-4d48-bff9-d142bca2be45",
   "metadata": {},
   "source": [
    "长=10cm,宽=8cm 的长方形 周长= ? cm\n",
    "length=10cm, width=8cm, rectangle, perimeter = ? cm"
   ]
  },
  {
   "cell_type": "code",
   "execution_count": 40,
   "id": "54719de7-d402-4667-bf69-0b6156136723",
   "metadata": {},
   "outputs": [
    {
     "data": {
      "text/plain": [
       "36"
      ]
     },
     "execution_count": 40,
     "metadata": {},
     "output_type": "execute_result"
    }
   ],
   "source": [
    "(10+8)*2"
   ]
  },
  {
   "cell_type": "code",
   "execution_count": 41,
   "id": "e3f3f700-2b2a-4c3a-b65d-0e84d1117c8a",
   "metadata": {},
   "outputs": [
    {
     "data": {
      "text/plain": [
       "36"
      ]
     },
     "execution_count": 41,
     "metadata": {},
     "output_type": "execute_result"
    }
   ],
   "source": [
    "10+8+10+8"
   ]
  },
  {
   "cell_type": "code",
   "execution_count": 45,
   "id": "453c4883-eda4-46ac-b3fa-bd74e825b1c4",
   "metadata": {},
   "outputs": [
    {
     "name": "stdout",
     "output_type": "stream",
     "text": [
      "(10+8)x2=36\n"
     ]
    }
   ],
   "source": [
    "print(\"(10+8)x2=36\")\n",
    "#36=36"
   ]
  },
  {
   "cell_type": "markdown",
   "id": "sorted-furniture",
   "metadata": {
    "heading_collapsed": true
   },
   "source": [
    "### Solution 编程求解\n",
    "```python\n",
    "print(\"I am learning programming.\")\n",
    "print('I am learning programming.')\n",
    "1+2+3+4+5+6+7+8+9+10\n",
    "```"
   ]
  },
  {
   "cell_type": "code",
   "execution_count": 43,
   "id": "377a5be7-ea37-4ba6-b5a4-6fc680480ad4",
   "metadata": {},
   "outputs": [
    {
     "data": {
      "text/plain": [
       "6.0"
      ]
     },
     "execution_count": 43,
     "metadata": {},
     "output_type": "execute_result"
    }
   ],
   "source": [
    "1/2 * 3 * 4"
   ]
  },
  {
   "cell_type": "code",
   "execution_count": 47,
   "id": "01a1f7d2-8784-415d-a9b1-096734cf9f64",
   "metadata": {},
   "outputs": [
    {
     "data": {
      "text/plain": [
       "210"
      ]
     },
     "execution_count": 47,
     "metadata": {},
     "output_type": "execute_result"
    }
   ],
   "source": [
    "1+2+3+4+5+6+7+8+9+10+11+12+13+14+15+16+17+18+19+20"
   ]
  },
  {
   "cell_type": "markdown",
   "id": "latest-contamination",
   "metadata": {},
   "source": [
    "### Summary 知识点小结\n",
    "\n",
    "1. Understand what a string is 理解什么是字符串\n",
    "2. Be able to represent a string in Python 在Python中表示一个字符串\n",
    "3. Be able to display a string on screen 能够在屏幕上显示一个字符串\n",
    "4. Use Python as a calculator 把Python当成一个计算器使用\n",
    "5. Start to use Jupyter lab coding environment 开始学习使用Jupyter lab编程环境\n",
    "   - how to start jupyter lab\n",
    "   - how to write python code in jupyter lab\n",
    "   - how to run your code in jupyter lab\n",
    "   - why and how to restart a kernel"
   ]
  },
  {
   "cell_type": "code",
   "execution_count": null,
   "id": "rural-branch",
   "metadata": {
    "hidden": true
   },
   "outputs": [],
   "source": []
  },
  {
   "cell_type": "code",
   "execution_count": null,
   "id": "urban-glance",
   "metadata": {
    "hidden": true
   },
   "outputs": [],
   "source": []
  },
  {
   "cell_type": "markdown",
   "id": "bizarre-assurance",
   "metadata": {},
   "source": [
    "### Tips 计算机小知识\n",
    "- Nowadays Computer is still not as smart as human is, but it calculates much much faster than human. 当今时代计算机的聪明程度仍然没法和人比，但是它的计算速度比人要快得多得多。"
   ]
  },
  {
   "cell_type": "markdown",
   "id": "digital-consensus",
   "metadata": {
    "heading_collapsed": true
   },
   "source": [
    "### Assignments 作业\n"
   ]
  },
  {
   "cell_type": "markdown",
   "id": "de4cfdc5",
   "metadata": {},
   "source": [
    "1. Use `print` to print out exactly the following sentences(including the final period). 使用`print`语句打印出完全一样的下面的句子（包括末尾的句号）。\n",
    "    - I love China and Canada.\n",
    "    - I like Python programming language, and I like Math too.\n",
    "    - Our teacher's name is Qiang.\n",
    "    - \"CN\" is the abbreviation of China.\n",
    "    - The abbreviation of Canda is \"CAD\".\n",
    "    - 中国的首都是'北京'。\n",
    "    \n",
    "   The code for printing out first sentence is already given as an example:\n",
    "   作为示例第一个句子已经给出答案：\n",
    "   ```python\n",
    "      print(\"I love China and Canada.\")\n",
    "   ```\n",
    "   Please write your codes for the rest sentences in below cells (one sentence in each cell).\n",
    "   请在下面几个小格子里编写代码输出剩余的句子（每一个单元格输出一个句子）。"
   ]
  },
  {
   "cell_type": "code",
   "execution_count": null,
   "id": "weighted-mortality",
   "metadata": {
    "hidden": true
   },
   "outputs": [],
   "source": []
  },
  {
   "cell_type": "code",
   "execution_count": null,
   "id": "worst-hierarchy",
   "metadata": {
    "hidden": true
   },
   "outputs": [],
   "source": []
  },
  {
   "cell_type": "code",
   "execution_count": null,
   "id": "constitutional-fairy",
   "metadata": {
    "hidden": true
   },
   "outputs": [],
   "source": []
  },
  {
   "cell_type": "code",
   "execution_count": null,
   "id": "killing-boxing",
   "metadata": {
    "hidden": true
   },
   "outputs": [],
   "source": []
  },
  {
   "cell_type": "code",
   "execution_count": null,
   "id": "dependent-brook",
   "metadata": {
    "hidden": true
   },
   "outputs": [],
   "source": []
  },
  {
   "cell_type": "code",
   "execution_count": null,
   "id": "4151318b-1bbb-4c0f-9461-3c89e0134b72",
   "metadata": {},
   "outputs": [],
   "source": []
  },
  {
   "cell_type": "markdown",
   "id": "cathedral-pursuit",
   "metadata": {
    "hidden": true
   },
   "source": [
    "2. In the following cells, write codes to calculate the following Arithmetic expressions (one cell for each):\n",
    "   在下面的单元格中，编写代码计算下面的算术表达式（每一个式子使用一个单元格）:\n",
    "   \n",
    "    - $1+3+5+7+9+11+13+15+17+19$\n",
    "    - $10-9+8-7+6-5+4-3+2-1$\n",
    "    - $3.14\\times 2\\times 5$\n",
    "    - $2\\times(6+9)$"
   ]
  },
  {
   "cell_type": "code",
   "execution_count": null,
   "id": "controlled-masters",
   "metadata": {
    "hidden": true
   },
   "outputs": [],
   "source": []
  },
  {
   "cell_type": "code",
   "execution_count": null,
   "id": "steady-wagner",
   "metadata": {
    "hidden": true
   },
   "outputs": [],
   "source": []
  },
  {
   "cell_type": "code",
   "execution_count": null,
   "id": "colonial-edinburgh",
   "metadata": {
    "hidden": true
   },
   "outputs": [],
   "source": []
  },
  {
   "cell_type": "code",
   "execution_count": null,
   "id": "clean-italian",
   "metadata": {
    "hidden": true
   },
   "outputs": [],
   "source": []
  },
  {
   "cell_type": "markdown",
   "id": "controversial-sleeve",
   "metadata": {
    "hidden": true
   },
   "source": [
    "3. The length and width of a rectangle are 18cm and 13cm respectively. What the perimeter and the area of this rectangle? write only two lines of codes to provide the answer directly, and an extra line of code to print out the result like the follow sentence:\n",
    "   \n",
    "   <i>\"The perimeter of this rectangle is xxx cm, and its area is xxx cm*cm.\"</i>\n",
    "   \n",
    "   Replace the xxx by your results. \n",
    "   \n",
    "   一个长方形的长和宽分别是18厘米和13厘米，它的周长和面积分别是多少？通过只编写两行代码给出答案，并使用额外一行代码输出如下格式的一句话：\n",
    "   \n",
    "   <i>“这个长方形的周长是 xxx cm，它的面积是 xxx cm*cm。”</i>\n",
    "   \n",
    "   用你得到的结果替代上面的 xxx。"
   ]
  },
  {
   "cell_type": "code",
   "execution_count": null,
   "id": "floppy-audience",
   "metadata": {
    "hidden": true
   },
   "outputs": [],
   "source": []
  },
  {
   "cell_type": "code",
   "execution_count": null,
   "id": "contemporary-indonesia",
   "metadata": {
    "hidden": true
   },
   "outputs": [],
   "source": []
  },
  {
   "cell_type": "code",
   "execution_count": null,
   "id": "healthy-auditor",
   "metadata": {
    "hidden": true
   },
   "outputs": [],
   "source": []
  },
  {
   "cell_type": "markdown",
   "id": "288ddf58-e682-4f38-9bfd-ca8d7234208d",
   "metadata": {},
   "source": [
    "4. If you are asked to calculate the sum of all natural numbers between 1 and 100, what will you do? 如果要你计算从1到100这连续100个自然数的和，你会想到哪些方法？ What if you are asked to calculate the sum of all natural numbers between 100 to 10000? 如果要计算100到10000之间的所有自然数之和呢？"
   ]
  },
  {
   "cell_type": "code",
   "execution_count": null,
   "id": "5c98c42c-123f-49ec-b370-6a5dca33ffbe",
   "metadata": {},
   "outputs": [],
   "source": [
    "# 我认为......."
   ]
  },
  {
   "cell_type": "code",
   "execution_count": 51,
   "id": "16472c73-d7e5-4910-9ce9-8c099228a90a",
   "metadata": {},
   "outputs": [
    {
     "data": {
      "text/plain": [
       "55"
      ]
     },
     "execution_count": 51,
     "metadata": {},
     "output_type": "execute_result"
    }
   ],
   "source": [
    "1+2+3+4+5+6+7+8+9+10"
   ]
  }
 ],
 "metadata": {
  "kernelspec": {
   "display_name": "Python 3",
   "language": "python",
   "name": "python3"
  },
  "language_info": {
   "codemirror_mode": {
    "name": "ipython",
    "version": 3
   },
   "file_extension": ".py",
   "mimetype": "text/x-python",
   "name": "python",
   "nbconvert_exporter": "python",
   "pygments_lexer": "ipython3",
   "version": "3.8.10"
  }
 },
 "nbformat": 4,
 "nbformat_minor": 5
}
