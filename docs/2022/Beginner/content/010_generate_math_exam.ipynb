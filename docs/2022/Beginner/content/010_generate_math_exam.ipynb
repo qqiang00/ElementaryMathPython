{
 "cells": [
  {
   "cell_type": "markdown",
   "id": "relative-location",
   "metadata": {},
   "source": [
    "## 第10讲 设计数学考试试卷\n",
    "\n",
    "Lecture10 Design a Math Exam"
   ]
  },
  {
   "cell_type": "markdown",
   "id": "d12f05dd",
   "metadata": {},
   "source": [
    "### Problem 问题描述"
   ]
  },
  {
   "cell_type": "markdown",
   "id": "c7cd1f0b-8266-49f3-a77e-806bec2c40ce",
   "metadata": {},
   "source": [
    "The mid term math exam for students in Class 3 Grade 1 is approaching. The math lecturer is ill and he doesn't have time to prepare the calculation questions for the exam. Please help the lecturer generate some calculation questions that can be used in the exam. The detailed requirement follows: \n",
    "\n",
    "某小学一年级3班近期会有一次数学期中考试，可是数学老师生病了，没有时间准备给学生们考试用的数学试卷。请你通过编程来帮助数学老师制作一份数学试卷中将要使用的题目。具体要求如下：\n",
    "1. There are 50 addition questions in the exam 这张试卷只有50道加法运算题；\n",
    "2. For each addition, the addends should be equal to to greater than 0 but equal to or smaller than 20; the sum should not exceed 40, for the calcuation whose sum exceeds 40 is too difficult to the students in grade 1; 在加法题目中两个加数都等于或大于0而且也都小于或等于20，他们的和应该不超过40，因为和超过40的加法题对于一年级的小朋友太难了；\n",
    "3. Use `randint` method to generate the addends; 使用`randint`方法来随机生成一道题目中的加数；\n",
    "4. Use `print` method to output one question on each line, align the add(\"+\") and equal(\"=\") signs in lines; 使用`print`方法来输出每一道题目，每一题使用一行，加法运算符需要对齐；\n",
    "5. Avoid generating duplicate questions 避免生成重复的题目。\n",
    "\n",
    "The final generated test paper questions should be similar to the following. In order to save space, only 5 addition questions are listed here. In the test paper you generate, there should be 50 addition, each with 2 points, with a full score of 100 points.\n",
    "最终生成的试卷题目应该类似于下面这样，这里为了节省篇幅，只列出了5道加法题。在你生成的试卷中，应该是50道加法题，每题2分，满分100分。\n",
    "\n",
    "```text\n",
    "\n",
    "一年级3班数学期中考试试卷\n",
    "\n",
    "加法运算（5题，每题4分，共20分）\n",
    " 1.  3 +  2 = ____\n",
    " 2.  1 +  4 = ____\n",
    " 3.  5 + 12 = ____\n",
    " 4. 10 +  0 = ____\n",
    " 5.  0 +  0 = ____\n",
    "```"
   ]
  },
  {
   "cell_type": "markdown",
   "id": "95d568a6-3305-4dec-85f2-b5919a4d9b9c",
   "metadata": {},
   "source": []
  },
  {
   "cell_type": "markdown",
   "id": "animated-batch",
   "metadata": {},
   "source": [
    "### Math Background 数学背景\n",
    "\n",
    "基本的加减乘除四则运算"
   ]
  },
  {
   "cell_type": "markdown",
   "id": "sorted-furniture",
   "metadata": {
    "heading_collapsed": true
   },
   "source": [
    "### Prerequisites 预备知识"
   ]
  },
  {
   "cell_type": "markdown",
   "id": "ac3f3f62-7bb0-4f00-9a4e-4085b96c14dd",
   "metadata": {},
   "source": [
    "#### 1. `\"\".format()` method 格式化字符串用于对齐"
   ]
  },
  {
   "cell_type": "code",
   "execution_count": 1,
   "id": "c9271d5a-8700-4e04-9df8-00a446ba175e",
   "metadata": {},
   "outputs": [
    {
     "name": "stdout",
     "output_type": "stream",
     "text": [
      "张小明考了0分\n",
      "张小明考了  0分\n",
      "李大宝考了 60分\n",
      "王中杰考了100分\n"
     ]
    }
   ],
   "source": [
    "# 右对齐\n",
    "score1 = 0\n",
    "score2 = 60\n",
    "score3 = 100\n",
    "\n",
    "print(\"张小明考了{}分\".format(score1))\n",
    "print(\"张小明考了{:>3}分\".format(score1))\n",
    "print(\"李大宝考了{:>3}分\".format(score2))\n",
    "print(\"王中杰考了{:>3}分\".format(score3))"
   ]
  },
  {
   "cell_type": "code",
   "execution_count": 2,
   "id": "f17808c4-e2a5-4b3c-bda5-94a66a023af7",
   "metadata": {},
   "outputs": [
    {
     "name": "stdout",
     "output_type": "stream",
     "text": [
      "I like Python.                                    \n",
      "We should protect our planet.                     \n",
      "China is a great country.                         \n"
     ]
    }
   ],
   "source": [
    "# 居中对齐\n",
    "sentence1 = \"I like Python.\"\n",
    "sentence2 = \"We should protect our planet.\"\n",
    "sentence3 = \"China is a great country.\"\n",
    "\n",
    "print(\"{:<50}\".format(sentence1))\n",
    "print(\"{:<50}\".format(sentence2))\n",
    "print(\"{:<50}\".format(sentence3))"
   ]
  },
  {
   "cell_type": "code",
   "execution_count": 3,
   "id": "4e2960d1-b6fe-4151-bcfa-8ec5e05b5dc1",
   "metadata": {},
   "outputs": [],
   "source": [
    "# 左对齐怎么做？当没有指定对其方式时就是左对齐，或者使用\"{:<10}\".format(sentence1) \n"
   ]
  },
  {
   "cell_type": "markdown",
   "id": "4e4ab730-7941-4733-8f37-ba51941723c0",
   "metadata": {},
   "source": [
    "#### 2. 练习：打印由\"*\"组成的下列图案"
   ]
  },
  {
   "cell_type": "markdown",
   "id": "d04ebaec-2ad0-44ea-9f91-a022f31471ea",
   "metadata": {},
   "source": [
    "```\n",
    "*\n",
    "* *\n",
    "* * *\n",
    "```"
   ]
  },
  {
   "cell_type": "markdown",
   "id": "5313ce63-ce67-49b9-a5b8-cebef1d21530",
   "metadata": {},
   "source": [
    "```\n",
    "  *\n",
    " * *\n",
    "* * *\n",
    "```"
   ]
  },
  {
   "cell_type": "markdown",
   "id": "8b2a38ff-167a-4c51-a761-56384ff43c9d",
   "metadata": {},
   "source": [
    "```\n",
    "    *\n",
    "  * *\n",
    "* * *\n",
    "```"
   ]
  },
  {
   "cell_type": "code",
   "execution_count": 4,
   "id": "78cdff33-bc32-41a8-8a3c-a9d372e68052",
   "metadata": {},
   "outputs": [
    {
     "name": "stdout",
     "output_type": "stream",
     "text": [
      "                        *                         \n",
      "                       * *                        \n",
      "                      * * *                       \n",
      "                     * * * *                      \n",
      "                    * * * * *                     \n",
      "                   * * * * * *                    \n",
      "                  * * * * * * *                   \n",
      "                 * * * * * * * *                  \n",
      "                * * * * * * * * *                 \n",
      "               * * * * * * * * * *                \n"
     ]
    }
   ],
   "source": [
    "char = \"*\"                                 # 使用的字符\n",
    "n_line = 10                                # 行数\n",
    "cur_line = 0                               # 当前行索引\n",
    "align = \"center\"                           # \"left\", \"center\" or \"right\"\n",
    "\n",
    "while cur_line < n_line:                   # 针对行来循环\n",
    "    str_cur_line = \"\"\n",
    "    cur_n_char = 0\n",
    "    n_char = cur_line + 1                  # 当前行应该打印的\"*\"数量\n",
    "    while cur_n_char < n_char:             # 针对 \"* \" 来循环\n",
    "        str_cur_line += \"{} \".format(char)\n",
    "        cur_n_char += 1\n",
    "    \n",
    "    str_cur_line = str_cur_line[:-1]       # 这是什么意思？？？\n",
    "    \n",
    "    if align == \"left\":\n",
    "        print(\"{:<50}\".format(str_cur_line))\n",
    "    elif align == \"center\":\n",
    "        print(\"{:^50}\".format(str_cur_line))\n",
    "    else:\n",
    "        print(\"{:>50}\".format(str_cur_line))\n",
    "        \n",
    "    cur_line += 1"
   ]
  },
  {
   "cell_type": "markdown",
   "id": "1aa1ae10-9e7e-4204-a57f-c6db8a4b9a23",
   "metadata": {},
   "source": [
    "#### 2. `list`变量存放多个元素，这些元素可以是同一类别的"
   ]
  },
  {
   "cell_type": "code",
   "execution_count": 6,
   "id": "c5d35a5b-8000-4f5d-aa6b-61408f5c4ced",
   "metadata": {},
   "outputs": [
    {
     "name": "stdout",
     "output_type": "stream",
     "text": [
      "['哈利波特', '西游记绘画本', '十万个为什么']\n"
     ]
    }
   ],
   "source": [
    "my_favorate_books = [\"哈利波特\", \"西游记绘画本\", \"十万个为什么\"] # 我喜欢的书\n",
    "print(my_favorate_books)"
   ]
  },
  {
   "cell_type": "markdown",
   "id": "62c3bd1a-f66d-41e2-ad35-3344b36d1390",
   "metadata": {},
   "source": [
    "#### 3. 针对`list`类型的变量的`append`方法可以往`list`的尾部添加一个新的元素"
   ]
  },
  {
   "cell_type": "code",
   "execution_count": 7,
   "id": "b4a72819-5d5b-46d5-a4ba-82494470cd0f",
   "metadata": {},
   "outputs": [
    {
     "name": "stdout",
     "output_type": "stream",
     "text": [
      "My students are [].\n"
     ]
    }
   ],
   "source": [
    "my_students = []\n",
    "print(\"My students are {}.\".format(my_students))"
   ]
  },
  {
   "cell_type": "code",
   "execution_count": 8,
   "id": "3d5b72c0-b5aa-4cdf-84ec-49de75956b59",
   "metadata": {},
   "outputs": [
    {
     "name": "stdout",
     "output_type": "stream",
     "text": [
      "My students are ['Cynthia'].\n"
     ]
    }
   ],
   "source": [
    "my_students.append(\"Cynthia\")\n",
    "print(\"My students are {}.\".format(my_students))"
   ]
  },
  {
   "cell_type": "code",
   "execution_count": 9,
   "id": "01b9ecfe-061f-419c-a8c6-35bd8c9a0727",
   "metadata": {},
   "outputs": [
    {
     "name": "stdout",
     "output_type": "stream",
     "text": [
      "My students are ['Cynthia', 'Milly'].\n"
     ]
    }
   ],
   "source": [
    "my_students.append(\"Milly\")\n",
    "print(\"My students are {}.\".format(my_students))"
   ]
  },
  {
   "cell_type": "code",
   "execution_count": 10,
   "id": "d9f8d1d1-52b3-4e67-a2b5-6306fdac63fd",
   "metadata": {},
   "outputs": [
    {
     "name": "stdout",
     "output_type": "stream",
     "text": [
      "My students are ['Cynthia', 'Milly', 'Yunzi'].\n"
     ]
    }
   ],
   "source": [
    "my_students.append(\"Yunzi\")\n",
    "print(\"My students are {}.\".format(my_students))"
   ]
  },
  {
   "cell_type": "code",
   "execution_count": 11,
   "id": "310b8425-3076-421e-b8a5-b4eee31106e3",
   "metadata": {},
   "outputs": [
    {
     "name": "stdout",
     "output_type": "stream",
     "text": [
      "My students are ['Cynthia', 'Milly', 'Yunzi', 'Xixi'].\n"
     ]
    }
   ],
   "source": [
    "my_students.append(\"Xixi\")\n",
    "print(\"My students are {}.\".format(my_students))"
   ]
  },
  {
   "cell_type": "code",
   "execution_count": 12,
   "id": "d5a449aa-eb03-4ce4-8af9-59faf4d9fd94",
   "metadata": {
    "tags": []
   },
   "outputs": [
    {
     "name": "stdout",
     "output_type": "stream",
     "text": [
      "My students are ['Cynthia', 'Milly', 'Yunzi', 'Xixi', 'Beibei'].\n"
     ]
    }
   ],
   "source": [
    "my_students.append(\"Beibei\")\n",
    "print(\"My students are {}.\".format(my_students))"
   ]
  },
  {
   "cell_type": "markdown",
   "id": "bae330fc-b89c-42bd-8ef7-bce1d6d81eb9",
   "metadata": {},
   "source": [
    "#### 4. 针对`list`类型的变量的`remove`方法可以从`list`中删除一个元素"
   ]
  },
  {
   "cell_type": "code",
   "execution_count": 13,
   "id": "a3635a06-fe88-489b-a43e-dd136edd32e4",
   "metadata": {},
   "outputs": [
    {
     "name": "stdout",
     "output_type": "stream",
     "text": [
      "Xixi quit\n",
      "My students are ['Cynthia', 'Milly', 'Yunzi', 'Beibei'].\n"
     ]
    }
   ],
   "source": [
    "student_quit = \"Xixi\"\n",
    "my_students.remove(student_quit)\n",
    "print(\"{} quit\".format(student_quit))\n",
    "print(\"My students are {}.\".format(my_students))"
   ]
  },
  {
   "cell_type": "markdown",
   "id": "08733767-d472-4493-9406-c6c90586fe5f",
   "metadata": {},
   "source": [
    "#### 5. 针对`list`类型的变量的`len`方法可以得到该`list`中的所有元素的个数"
   ]
  },
  {
   "cell_type": "code",
   "execution_count": 14,
   "id": "f95f769c-72e5-4958-9ac6-30913c5c6a42",
   "metadata": {},
   "outputs": [
    {
     "name": "stdout",
     "output_type": "stream",
     "text": [
      "I have 4 students.\n"
     ]
    }
   ],
   "source": [
    "n_student = len(my_students)\n",
    "print(\"I have {} students.\".format(n_student))"
   ]
  },
  {
   "cell_type": "markdown",
   "id": "3e181809-8766-4451-81bd-92d5d9ee2beb",
   "metadata": {},
   "source": [
    "#### 6. `in` 关键词可以用来判断某一个元素是否存在于列表变量里"
   ]
  },
  {
   "cell_type": "code",
   "execution_count": 15,
   "id": "2162e9da-2428-4e9f-a588-e4085da793fe",
   "metadata": {},
   "outputs": [
    {
     "name": "stdout",
     "output_type": "stream",
     "text": [
      "milly is not one of my students.\n"
     ]
    }
   ],
   "source": [
    "student1 = \"milly\"\n",
    "result = student1 in my_students #  True or False\n",
    "if result == True:\n",
    "    print(\"{} is one of my students.\".format(student1))\n",
    "else:\n",
    "    print(\"{} is not one of my students.\".format(student1))"
   ]
  },
  {
   "cell_type": "code",
   "execution_count": 16,
   "id": "c1a4b75e-5b87-4db2-80cf-5714581f1d69",
   "metadata": {},
   "outputs": [
    {
     "name": "stdout",
     "output_type": "stream",
     "text": [
      "Milly is one of my students.\n"
     ]
    }
   ],
   "source": [
    "student1 = \"Milly\"\n",
    "result = student1 in my_students #  True or False\n",
    "if result:\n",
    "    print(\"{} is one of my students.\".format(student1))\n",
    "else:\n",
    "    print(\"{} is not one of my students.\".format(student1))"
   ]
  },
  {
   "cell_type": "code",
   "execution_count": 17,
   "id": "f005c933-faed-455a-bf5c-af71b3ae480a",
   "metadata": {},
   "outputs": [
    {
     "name": "stdout",
     "output_type": "stream",
     "text": [
      "milly is not one of my students.\n"
     ]
    }
   ],
   "source": [
    "student1 = \"milly\"\n",
    "if student1 in my_students: #  True or False\n",
    "    print(\"{} is one of my students.\".format(student1))\n",
    "else:\n",
    "    print(\"{} is not one of my students.\".format(student1))"
   ]
  },
  {
   "cell_type": "code",
   "execution_count": 18,
   "id": "c88e8293-5088-4d07-900b-a36d60a6734d",
   "metadata": {},
   "outputs": [
    {
     "name": "stdout",
     "output_type": "stream",
     "text": [
      "UnKnown is not one of my students.\n"
     ]
    }
   ],
   "source": [
    "student1 = \"UnKnown\"\n",
    "if student1 not in my_students: #  True or False\n",
    "    print(\"{} is not one of my students.\".format(student1))\n",
    "else:\n",
    "    print(\"{} is one of my students.\".format(student1))"
   ]
  },
  {
   "cell_type": "markdown",
   "id": "d55f37d9",
   "metadata": {},
   "source": [
    "### Solution 编程求解"
   ]
  },
  {
   "cell_type": "code",
   "execution_count": 19,
   "id": "e3d94e2f-6595-4505-8206-6e273626fd7f",
   "metadata": {},
   "outputs": [
    {
     "name": "stdout",
     "output_type": "stream",
     "text": [
      "一年级3班数学期中考试试卷\n",
      "Mid Term Math Exam for Class 3. Grade 1.\n",
      "\n",
      "加法运算（50题，每题2分，共100分）\n",
      "Addition(   /100 points)\n",
      "\n",
      " 1. 12 + 17 = ____\n",
      " 2.  3 + 18 = ____\n",
      " 3.  2 + 20 = ____\n",
      " 4.  8 + 16 = ____\n",
      " 5. 12 + 10 = ____\n",
      " 6. 11 + 11 = ____\n",
      " 7. 20 +  1 = ____\n",
      " 8.  8 +  4 = ____\n",
      " 9.  7 +  8 = ____\n",
      "10.  7 + 16 = ____\n",
      "11.  2 +  6 = ____\n",
      "12.  4 + 10 = ____\n",
      "13. 12 +  1 = ____\n",
      "14. 13 + 17 = ____\n",
      "15. 17 + 18 = ____\n",
      "16.  9 +  8 = ____\n",
      "17.  3 + 14 = ____\n",
      "18. 18 + 14 = ____\n",
      "19.  1 +  0 = ____\n",
      "20.  6 +  8 = ____\n",
      "21. 20 + 18 = ____\n",
      "22. 20 +  4 = ____\n",
      "23.  0 + 15 = ____\n",
      "24.  6 +  6 = ____\n",
      "25. 12 + 14 = ____\n",
      "26.  9 + 13 = ____\n",
      "27. 11 + 17 = ____\n",
      "28.  9 + 19 = ____\n",
      "29. 10 +  5 = ____\n",
      "30.  9 + 12 = ____\n",
      "31. 15 + 10 = ____\n",
      "32. 12 +  9 = ____\n",
      "33.  9 +  0 = ____\n",
      "34. 10 +  7 = ____\n",
      "35.  8 + 17 = ____\n",
      "36.  8 + 12 = ____\n",
      "37. 18 + 19 = ____\n",
      "38.  3 +  3 = ____\n",
      "39.  0 + 12 = ____\n",
      "40.  4 + 12 = ____\n",
      "41.  4 +  6 = ____\n",
      "42.  5 +  5 = ____\n",
      "43.  2 +  8 = ____\n",
      "44.  3 + 17 = ____\n",
      "45. 14 +  8 = ____\n",
      "46.  6 +  0 = ____\n",
      "47. 11 + 15 = ____\n",
      "48. 16 + 12 = ____\n",
      "49.  6 + 13 = ____\n",
      "50. 14 +  9 = ____\n"
     ]
    }
   ],
   "source": [
    "from random import randint\n",
    "n_add = 50\n",
    "min_addend, max_addend = 0, 20\n",
    "\n",
    "print(\"一年级3班数学期中考试试卷\")\n",
    "print(\"Mid Term Math Exam for Class 3. Grade 1.\")\n",
    "print()\n",
    "print(\"加法运算（50题，每题2分，共100分）\")\n",
    "print(\"Addition(   /100 points)\")\n",
    "print()\n",
    "add_quests = []\n",
    "n_generated = 0\n",
    "while n_generated < n_add:\n",
    "    addend1 = randint(min_addend, max_addend)\n",
    "    addend2 = randint(min_addend, max_addend)\n",
    "    add_quest = \"{:>2} + {:>2} = ____\".format(addend1, addend2)\n",
    "    if add_quest not in add_quests:\n",
    "        add_quests.append(add_quest)   \n",
    "        n_generated += 1        \n",
    "        print(\"{:2}. \".format(n_generated) + add_quest)"
   ]
  },
  {
   "cell_type": "markdown",
   "id": "latest-contamination",
   "metadata": {},
   "source": [
    "### Summary 知识点小结"
   ]
  },
  {
   "cell_type": "markdown",
   "id": "afb3f674",
   "metadata": {},
   "source": [
    "1. 针对字符串变量的`format`方法可以格式化字符串\n",
    "2. `list`类型变量存放多个数据（元素）, `list`变量的声明格式，空`list`变量的表示方法\n",
    "3. `append`方法往`list`类型变量里添加数据（元素）\n",
    "4. `in` 用来判断一个数据（元素）是否在一个列表里"
   ]
  },
  {
   "cell_type": "markdown",
   "id": "bizarre-assurance",
   "metadata": {},
   "source": [
    "### 计算机小知识"
   ]
  },
  {
   "cell_type": "markdown",
   "id": "92100f08",
   "metadata": {},
   "source": [
    "各种括号在编程语法里的不同意思。圆（小）括号、方（中）括号、和花（大）括号是三种基本的括号样式，他们的样子分别是`()`, `[]`, `{}`。不同的括号在不同的编程语言里表达的意思也不近相同。在Python语言里，圆（小）括号可以表示运算的优先级，也可以表示其它一些信息；方（中）括号主要用来表示列表型变量以及其内部的数据（元素）；花（大）括号也有特定的意思。这些括号在程序代码里总是成对出现的。"
   ]
  },
  {
   "cell_type": "markdown",
   "id": "digital-consensus",
   "metadata": {
    "heading_collapsed": true
   },
   "source": [
    "### Assignments 作业"
   ]
  },
  {
   "cell_type": "markdown",
   "id": "3ec1e09e-f769-4239-8dcf-d618d530dcdc",
   "metadata": {},
   "source": [
    "1.  Use a `list` variable to represent the places you once visited, the places can be as small as a building like a museum, or they can be as big as a city or even a country.  \n",
    "    用一个列表型变量表示你曾经去过的地方，地方可以小到一个建筑物，例如某某博物馆等，也可以大到一座城市乃至一个国家。Detailed requirement follows: 具体要求如下：\n",
    "    - give the list variable a proper name; there is no elements in this variable initially; 给这个变量起一个合适的名字，一开始这个变量里什么数据（元素）都没有；\n",
    "    - find 5 places you visited in your memory, append the places(represented by a string variable) into the list variable according to the order when the visit happened. The earlier the visit is, the earlier that place will be addpended into the list variable.   根据你的回忆，按照时间先后次序依次将至少5个你曾经去过的地方（用字符串表示）添加到这个列表型变量的最后。列表中先添加的地方应该比后添加的地方更早去过；\n",
    "    - each time after you added a place, print out the whole list variable, and observe the order of the data(elelement) in the list; 每添加一个地方，就打印输出一次整个列表型变量，观察里面的数据（元素）排列顺序；"
   ]
  },
  {
   "cell_type": "code",
   "execution_count": null,
   "id": "0c3879b3-4a81-48d4-b2c3-854e592c2811",
   "metadata": {},
   "outputs": [],
   "source": []
  },
  {
   "cell_type": "markdown",
   "id": "f002a332-d9b4-48b0-bc52-08994abdd0d9",
   "metadata": {},
   "source": [
    "2.  Shanghai is fighting against the pandamic of COVID; many families' foods and vegetables are transported by trucks from other provinces to Shanghai and then distributed by volunteers to every household in the community. Assuming that there are 3 trucks loaded with rice, vegetables, edible oil, potatoes. These goods are going to be transported to Shanghai. It is also known that the rice loaded on the three trucks is 20 kg per bag, the vegetables are 30 kg per big bag, the edible oil is 5 kg per barrel, and the potatoes are 50 kg per big bag. In order to avoid overweight for each truck and keep the safety of transportation, you are asked to calculate the total load of each truck and tell whether a truck is over loaded or not. The plate number information of the 3 trucks, the number of goods currently loaded and the maximum allowable load are listed in the table below.\n",
    "\n",
    "    上海正在抗击新冠疫情，许多家庭的粮食、蔬菜都是卡车从外地运送到上海再由志愿者分发给小区内的每一户。假设现在有3辆卡车装载着大米、青菜、食用油、土豆等4类物资正准备从某地运往上海。已知这3辆卡车上装载的大米都是20千克每袋，青菜都是15千克每大袋，食用油都是5千克每桶，土豆是40千克每大袋。为了避免卡车装了过多的物资超重而影响驾驶安全，你需要在车辆出发前根据每一辆卡车装载的物资数量汇总出每一辆车上装载的货物总重量并确定它们是否超载。3辆卡车牌号信息、目前装载的货物数量以及最大允许载重如下表所列。\n",
    "    \n",
    "    \n",
    "    |  车牌号(Plate No.)     |   大米Rice(袋) |   青菜Vegetables(大袋)   |   食用油Edible Oil(桶) |  土豆Potatoes(大袋) |  最大允许载重Max Permitted Mass(千克)  | \n",
    "    | :----------:|----------:|--------------:|-------------:|-------------:|------------------:|\n",
    "    | 苏A E5432   |     25    |    25        |     30       |       25     |          2000        |                         \n",
    "    | 苏A R0662   |     65    |    65         |    60        |      65      |         5000        |                          \n",
    "    | 苏A E4385   |    130    |   130         |   130        |     130      |        10000        |\n",
    "\n",
    "\n",
    "    write a program to calculate the current total load of these three trucks and whether they are overweight. Your program should eventually output the text report similar to the following. All weight values mentioned in the report should be displayed right-aligned and with a proper mass unit.\n",
    "    \n",
    "    请你编程计算这三辆卡车目前总的载重是多少，分别是否超重了？你的程序最终应该输出类似下面的一份文字说明。报告中涉及到的重量的数字均应右对齐显示并且有恰当的质量单位。\n",
    "     \n",
    "   ```text\n",
    "    卡车1 苏A E5432, 实际载重  2000 kg(千克)，最大允许载重  2 吨， 未超载\n",
    "    卡车2 苏A R0662, 实际载重  5200 kg(千克), 最大允许载重  5 吨， 已超载 200 kg(千克)\n",
    "    卡车3 苏A E4385, 实际载重 10400 kg(千克), 最大允许载重 10 吨， 已超载 400 kg(千克)\n",
    "   ```"
   ]
  },
  {
   "cell_type": "code",
   "execution_count": null,
   "id": "4a868460-c4b0-40fd-99ef-54d0cfdf4628",
   "metadata": {},
   "outputs": [],
   "source": []
  },
  {
   "cell_type": "markdown",
   "id": "5200750f-e465-4587-88b4-0d56dd953366",
   "metadata": {
    "hidden": true
   },
   "source": [
    "3.  Lecturer Wang in the Grade 2 heard that you can design a math exam paper by programming. He is very proud of you and would like to ask you to help design a math exam paper that their class will use. The difference is that the exam papers they are going to use are 30 multiplication questions of two integers whose product is within 100, and 20 division questions with dividends all within 100 and can be divided evenly by an divisor. Please help Lecturer Wang design such an exam. Pay attention to alignment and avoid duplication of questions. \n",
    "\n",
    "    二年级的王老师听说你能通过编程设计数学试卷，他为你感到高兴，同时也想请你帮忙设计一份他们班将要使用的数学考试卷。不同的是，他们要设计的试卷是30道乘积在100以内的两个整数相乘的运算题，以及20道被除数在100以内的能够整除的除法运算题。请你帮王老师设计一份这样试卷，同样需要注意对齐和避免题目重复。"
   ]
  },
  {
   "cell_type": "code",
   "execution_count": null,
   "id": "1d199b4b-3388-4a4d-8652-6eafd9dc84c6",
   "metadata": {},
   "outputs": [],
   "source": []
  },
  {
   "cell_type": "markdown",
   "id": "f70c2469-b87c-48b1-89cc-d28c9da070b0",
   "metadata": {},
   "source": [
    "4. The integers 4, 8, 12, ... etc. are the products of 4 multiplied by other integers. For example, 4 can be regarded as the product of 4 and 1, 8 can be regarded as the product of 4 and 2, 12 can be regarded as the product of 4 and 3, and so on. We also call integers 4, 8, 12, ... etc. the multiples of 4, and 4 the factor of these numbers. \n",
    "\n",
    "    整数4, 8, 12, ... 等都可以看成是4和另一个整数相乘得到的积。例如4可以看成是4与1相乘的积，8可以看成是4与2相乘的积，12可以看成是4与3相乘的积，等等。同时我们也称4, 8, 12, ...等整数是4的倍数，4是这些数的一个因数。\n",
    "\n",
    "   Use **what you have learned so far**, write a program to：使用**你所学过的知识**，编写程序完成：\n",
    "   \n",
    "    - find all integers between 1 and 101 that are multiples of 4 and put them into a list variable in ascend order. 找到从1到101以内所有是4的倍数的整数，把他们放到一个列表型变量里。\n",
    "    - Calculate the sum of all these multiples. 计算所有这些4的倍数加起来的和。"
   ]
  },
  {
   "cell_type": "code",
   "execution_count": null,
   "id": "6f3d1f83-ac25-4d1a-98ca-75b41dac8518",
   "metadata": {},
   "outputs": [],
   "source": []
  }
 ],
 "metadata": {
  "kernelspec": {
   "display_name": "Python 3 (ipykernel)",
   "language": "python",
   "name": "python3"
  },
  "language_info": {
   "codemirror_mode": {
    "name": "ipython",
    "version": 3
   },
   "file_extension": ".py",
   "mimetype": "text/x-python",
   "name": "python",
   "nbconvert_exporter": "python",
   "pygments_lexer": "ipython3",
   "version": "3.9.0"
  }
 },
 "nbformat": 4,
 "nbformat_minor": 5
}
