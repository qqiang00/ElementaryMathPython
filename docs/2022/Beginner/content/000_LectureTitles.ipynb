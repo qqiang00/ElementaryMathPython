{
 "cells": [
  {
   "cell_type": "markdown",
   "id": "ade9303a-9000-43e3-a3c9-c9345a1ade8a",
   "metadata": {},
   "source": [
    "## Course Plan 课程计划\n",
    "for MTH100 2022 \n",
    "\n",
    "Created: Jan 2nd, 2022, Last Updated: Jan 3rd, 2022\n",
    "\n",
    "创建日期: 2022年01月02日， 最近更新：2022年01月03日"
   ]
  },
  {
   "cell_type": "markdown",
   "id": "93072d8b-ff5b-4eeb-90c0-048d20254bf0",
   "metadata": {},
   "source": [
    "### 2022 Winter\n",
    "- 01 Hello, Python 你好，Python\n",
    "- 02 Create a Name 起一个名字\n",
    "- 03 Compare Ages 比较年龄大小\n",
    "- 04 Guess Numbers 猜数字\n",
    "- 05 Start to Draw 开始涂鸦\n",
    "- 06 Draw Rectangles 绘制矩形\n",
    "- 07 Draw Regular Polygons 绘制正多边形\n",
    "- 08 Sum of 1 to 100 1到100求和\n",
    "- 09 King's Rewards 1 国王的奖励1\n",
    "- 10 King's Rewards 2 国王的奖励2\n",
    "- Mid Term Exam 期中考试"
   ]
  },
  {
   "cell_type": "markdown",
   "id": "6a0ad2cb-6366-4b86-86ae-f190488371d7",
   "metadata": {},
   "source": [
    "- 11 Find Sequence Pattern 找数列规律\n",
    "- 12 Sequence 1 序列1\n",
    "- 13 Sequence 2 序列2\n",
    "- 14 And or Or 和还是或\n",
    "- 15 Chicken Rabbits in One Cage 鸡兔同笼\n",
    "- 16 Empty the Pool 清空水池\n",
    "- 17 Escape from Well Bottom 逃离井底\n",
    "- 18 Maximize Area 找最大面积\n",
    "- Final Exam 期末考试"
   ]
  },
  {
   "cell_type": "markdown",
   "id": "202dd390-73ed-4173-a07c-c681aa309be1",
   "metadata": {},
   "source": [
    "### 2022 Summer\n",
    "- 21 Division by Estimating Quotient 试商除法\n",
    "- 22 Quotient and Remainder 商和余数\n",
    "- 23 Factors 因数\n",
    "- 24 Composite Numbers 合数\n",
    "- 25 Prime Numbers 质数\n",
    "- 26 Axis 数轴\n",
    "- 27 Negative Numbers 负数\n",
    "- 28 Decimal Numbers 小数\n",
    "- 29 Locate Numbers on Axis 点在数轴上的位置\n",
    "- Mid Term Exam 期中考试"
   ]
  },
  {
   "cell_type": "markdown",
   "id": "5bb66963-8ee7-4cb8-a09d-7649ea507d2d",
   "metadata": {},
   "source": [
    "- 31 Permutation 排列\n",
    "- 32 Combination 组合\n",
    "- 33 Opposite and Absolute Numbers 相反数和绝对值\n",
    "- 34 Max and Min 最大和最小\n",
    "- 35 Secret Messaging 悄悄话\n",
    "- 36 Random Walk 随机行走\n",
    "- 37 Cartesian Coordinate System 笛卡尔坐标系\n",
    "- 38 Locate Points in a Plane 1 平面上点的定位1\n",
    "- 39 Locate Points in a Plane 2 平面上点的定位2\n",
    "- Final Exam 期末考试"
   ]
  },
  {
   "cell_type": "markdown",
   "id": "dc86d995-6dab-437d-8c3f-cd9420d829a6",
   "metadata": {},
   "source": [
    "### 2022 Fall\n",
    "- 41 Parallel 平行\n",
    "- 42 Calculate Distance 计算距离\n",
    "- 43 Draw Arbitary Polygons 绘制任意多边形\n",
    "- 44 Perimeter of Rectangles 矩形的周长\n",
    "- 45 Area of Rectangles 矩形的面积\n",
    "- 46 Square and Power 平方和幂\n",
    "- 47 Square of Sum 和的平方\n",
    "- 48 Parallelogram 平行四边形\n",
    "- 49 Triangle 三角形\n",
    "- Mid Term Exam 期中考试"
   ]
  },
  {
   "cell_type": "markdown",
   "id": "e5bf6e2d-e79a-4683-9b4a-7660cc6e068b",
   "metadata": {},
   "source": [
    "- 51 Pythagoras Theorem 1 毕达哥拉斯定理1\n",
    "- 52 Pythagoras Theorem 2 毕达哥拉斯定理2\n",
    "- 53 Square Root 平方根\n",
    "- 54 Slope and Tangent 斜率和正切\n",
    "- 55 Distance Between Arbitary two Points 任意两点距离\n",
    "- 56 Axial Symmetry 轴对称\n",
    "- 57 Rotational Symmetry 旋转对称\n",
    "- 58 Sum, Mean and Median 总和、均值和中位数\n",
    "- 59 Line and Bar Chart 折线和柱状图\n",
    "- Final Exam 期末考试"
   ]
  }
 ],
 "metadata": {
  "kernelspec": {
   "display_name": "Python 3",
   "language": "python",
   "name": "python3"
  },
  "language_info": {
   "codemirror_mode": {
    "name": "ipython",
    "version": 3
   },
   "file_extension": ".py",
   "mimetype": "text/x-python",
   "name": "python",
   "nbconvert_exporter": "python",
   "pygments_lexer": "ipython3",
   "version": "3.8.10"
  }
 },
 "nbformat": 4,
 "nbformat_minor": 5
}
