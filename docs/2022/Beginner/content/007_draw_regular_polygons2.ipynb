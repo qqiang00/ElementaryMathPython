{
 "cells": [
  {
   "cell_type": "markdown",
   "id": "included-education",
   "metadata": {},
   "source": [
    "## 第07讲 绘制正多边形（二)\n",
    "Lecture07 Draw Regular Polygons（Part 2)"
   ]
  },
  {
   "cell_type": "markdown",
   "id": "periodic-register",
   "metadata": {
    "tags": []
   },
   "source": [
    "### Problem 问题\n",
    "Draw and answer questions 绘图并回答问题\n",
    "\n",
    "**Draw** a modified regular hextagon(6 sides) using methods in module `turtle`. Here are the requirements:  使用`turtle`模块里的方法按要求绘制一个边长为160的正六边形，并对其做一些特定的修饰。具体要求如下：\n",
    "\n",
    "1. Draw area should be 600 pixels for both heigh and width; 绘图区的宽高均为600；\n",
    "2. The regular hextagon should be in centered left and right in the draw area; 正六边形应该位于绘图区的水平正中；\n",
    "3. Side length of the hextagon is 160 and line color is \"green\"; 六边形每边长为160，颜色为绿色；\n",
    "4. Counterclockwise from the bottom line, the line size for each side is 1, 2, 3, 4, 5, 6, respectively; 从最低边逆时针算起，每条边的尺寸（线宽）分别为1，2，3，4，5，6；\n",
    "4. Extend each side 40 pixel as the figure shows; 正六边形的每一条边绘制完后，需如图所示向一侧延伸40；\n",
    "\n",
    "<img src=\"figures/L007_01_regular_polygons.png\" width = 500>\n",
    "\n",
    "**Answer** the following questions: 回答下列问题：\n",
    "\n",
    "1. How many degrees did the turle turn during the entire process of drawing the regular hexagon with the code you wrote? 小海龟在用你编写的代码绘制正六边形的整个过程中一共转了多少度？\n",
    "2. To complete the drawing of a regular hexagon, what is the smallest number of degree that a turtle needs to turn? 要完成一个正六边形的绘制，小海龟至少需要一共转多少度？\n",
    "3. The 6 interior angles of a regular hexagon are all equal. What is it? What is the sum of all the interior angles of a regular hexagon? 正六边形6个内角都相等，这个度数是多少？正六边形的所有内角加起来的和是多少度？"
   ]
  },
  {
   "cell_type": "markdown",
   "id": "animated-batch",
   "metadata": {},
   "source": [
    "### Math Background 数学背景\n",
    "1. 直线或线段可以认为是180度的角；\n",
    "1. 对于任意一个（正）多边形，其内角和（sum of interior angles）`total_angle`可以用下面的公式来计算：\n",
    "  ```python\n",
    "  total_angle = (num_side - 2) * 180 # 其中，`num_side`表示的是这个（正）多边形的边的数量。\n",
    "  ``` \n",
    "2. 正多边形，其外角和（sum of exterior angles）永远是360度。事实上对于任意一个凸（convex)多边形，即使不是正多边形，其外角和也总是360度。"
   ]
  },
  {
   "cell_type": "markdown",
   "id": "sorted-furniture",
   "metadata": {
    "tags": []
   },
   "source": [
    "### Prerequisites 预备知识"
   ]
  },
  {
   "cell_type": "code",
   "execution_count": 4,
   "id": "7879012d-02eb-4b5b-b3b1-6a9cba77dfdb",
   "metadata": {},
   "outputs": [],
   "source": [
    "from random import randint\n",
    "from turtle import setup, reset, bye, pu, pd, bk, fd, left, right, st, ht\n",
    "# from turtle import penup, pendown, backward, forward, showturtle, hideturtle\n",
    "from turtle import pencolor, pensize\n",
    "setup(600, 400, None, None)"
   ]
  },
  {
   "cell_type": "markdown",
   "id": "ba31701e-80e9-4f91-bc2c-e31bae95752e",
   "metadata": {},
   "source": [
    "#### use `pensize` method to specify line size(width) 使用`pensize`方法确定线的尺寸（宽度）"
   ]
  },
  {
   "cell_type": "code",
   "execution_count": 59,
   "id": "e02e7f07-62e5-4540-91a5-434100b85fa6",
   "metadata": {},
   "outputs": [],
   "source": [
    "side = 160\n",
    "ext_side = 40\n",
    "color1, color2 = \"green\", \"red\"\n",
    "n = 6\n",
    "degree = 60  # 360 / n\n",
    "\n",
    "reset()\n",
    "pu()\n",
    "right(90)\n",
    "fd(120)\n",
    "left(90)\n",
    "bk(side/2)\n",
    "pd()\n",
    "pencolor(color1)"
   ]
  },
  {
   "cell_type": "code",
   "execution_count": 60,
   "id": "cf4014b7-45af-4f7f-bae9-1e24c76627ab",
   "metadata": {},
   "outputs": [],
   "source": [
    "i = 0\n",
    "while i < n:\n",
    "    pensize(5*i+1)\n",
    "    fd(side)    \n",
    "    fd(ext_side)\n",
    "    bk(ext_side)    \n",
    "    left(degree)\n",
    "    i = i + 1\n",
    "    \n",
    "ht()"
   ]
  },
  {
   "cell_type": "code",
   "execution_count": 30,
   "id": "06ffba25-4c63-4525-9954-22db9f2f7b1f",
   "metadata": {},
   "outputs": [],
   "source": [
    "fd(side)"
   ]
  },
  {
   "cell_type": "code",
   "execution_count": 34,
   "id": "486d2702-9539-425a-ba29-31a849f61364",
   "metadata": {},
   "outputs": [],
   "source": [
    "fd(ext_side)"
   ]
  },
  {
   "cell_type": "code",
   "execution_count": 33,
   "id": "369d8e1e-59ff-49b2-b561-5d091c6fbb6d",
   "metadata": {},
   "outputs": [],
   "source": [
    "bk(ext_side)"
   ]
  },
  {
   "cell_type": "code",
   "execution_count": 35,
   "id": "bdf8c626-5f42-4694-837f-72679833e1d4",
   "metadata": {
    "tags": []
   },
   "outputs": [],
   "source": [
    "left(degree)"
   ]
  },
  {
   "cell_type": "markdown",
   "id": "3c3045bb-aed3-40b7-adac-e4a21c3785b1",
   "metadata": {},
   "source": [
    "#### calculation of dgrees for each turn 每一次转角度数的计算"
   ]
  },
  {
   "cell_type": "code",
   "execution_count": 24,
   "id": "eed42adf-4515-49cc-8b74-7f4aea7d0831",
   "metadata": {},
   "outputs": [],
   "source": [
    "from time import sleep\n",
    "turn_degree = 60\n",
    "\n",
    "reset()\n",
    "pencolor(\"black\")\n",
    "fd(100)\n",
    "sleep(1)\n",
    "right(turn_degree)\n",
    "sleep(0.5)\n",
    "right(turn_degree)\n",
    "sleep(0.5)\n",
    "right(turn_degree)\n",
    "pencolor(\"red\")\n",
    "fd(100)\n"
   ]
  },
  {
   "cell_type": "markdown",
   "id": "dced0953-c74b-438b-9baa-38a7cca7f450",
   "metadata": {
    "tags": []
   },
   "source": [
    "#### build connection between line size and the side to draw 在要绘制的边和线宽之间建立联系"
   ]
  },
  {
   "cell_type": "code",
   "execution_count": null,
   "id": "c975a142-d323-4cef-91d1-7eb82e8a714b",
   "metadata": {},
   "outputs": [],
   "source": [
    "i = 1\n",
    "pensize(i+1)"
   ]
  },
  {
   "cell_type": "markdown",
   "id": "edacb659-dafd-41fd-b19d-5bded4563db8",
   "metadata": {
    "tags": []
   },
   "source": [
    "### Solution 编程求解"
   ]
  },
  {
   "cell_type": "code",
   "execution_count": 1,
   "id": "29a373b2-7e48-4fba-a27f-10589aaaf2ef",
   "metadata": {},
   "outputs": [],
   "source": [
    "from random import randint\n",
    "from turtle import setup, reset, bye, pu, pd, bk, fd, left, right, st, ht\n",
    "# from turtle import penup, pendown, backward, forward, showturtle, hideturtle\n",
    "from turtle import pencolor, pensize\n",
    "setup(600, 400, None, None)"
   ]
  },
  {
   "cell_type": "code",
   "execution_count": 2,
   "id": "6acfb917-996e-40ab-bb3d-bacf2cd7ce76",
   "metadata": {},
   "outputs": [],
   "source": [
    "reset()                               # 重置海龟位于中心，朝向正右方\n",
    "pu()                                  # 抬起画笔\n",
    "side_length = 160                     # 设定边长\n",
    "ext_length = 40                       # 设定额外伸出的长度\n",
    "right(90)                             # 右转海龟（朝向正下方）\n",
    "fd(130)                               # 前进130像素\n",
    "left(90)                              # 左转海龟（朝向正右方）\n",
    "bk(side_length/2)                     # 后退边长的一半（向左）\n",
    "pd()                                  # 放下画笔准备画图\n",
    "\n",
    "edge_drawn, edge_total = 0, 6         # 设定已经绘制完成的边的数量和总的边的数量\n",
    "degree = 360 / edge_total             # 设定每一次要转的角度\n",
    "pencolor(\"green\")                     # 设定画笔的颜色\n",
    "line_width = 1                        # 设定画线的宽度\n",
    "while edge_drawn < edge_total:        # 根据条件判断是否进入循环\n",
    "    line_width = edge_drawn + 1       # 设定当前应该使用的线宽\n",
    "    pensize(line_width)               # 选用当前的线宽来绘图\n",
    "    fd(side_length + ext_length)      # 前进边长加额外长度\n",
    "    bk(ext_length)                    # 后退额外长度\n",
    "    left(degree)                      # 左转海龟degree表示的度数\n",
    "    edge_drawn += 1                   # 更新已经完成绘制的变数，表示已经完成一条边和额外线段的绘制\n",
    "    \n",
    "ht()                                  # 当离开循环时隐藏海龟"
   ]
  },
  {
   "cell_type": "markdown",
   "id": "abcabfbb-9f5d-44e4-9129-e9a098a901af",
   "metadata": {},
   "source": [
    "**Answer** the following questions: 回答下列问题：\n",
    "\n",
    "1. How many degrees did the turle turn during the entire process of drawing the regular hexagon with the code you wrote? 小海龟在用你编写的代码绘制正六边形的整个过程中一共转了多少度？ \n",
    "   **答**:360度\n",
    "2. To complete the drawing of a regular hexagon, what is the smallest number of degree that a turtle needs to turn? 要完成一个正六边形的绘制，小海龟至少需要一共转多少度？\n",
    "   **答**:5个60度，即300度，最后一次转角不是绘制正六边形所必需的。\n",
    "3. The 6 interior angles of a regular hexagon are all equal. What is it? What is the sum of all the interior angles of a regular hexagon? 正六边形6个内角都相等，这个度数是多少？正六边形的所有内角加起来的和是多少度？\n",
    "   **答**:正六边形的每一个内角度数是60度，一共有6个这样的内角，内角和是360度。"
   ]
  },
  {
   "cell_type": "markdown",
   "id": "2fce4645-f056-4be7-86d7-886d8b72c44e",
   "metadata": {},
   "source": [
    "### Summary 知识点小结\n",
    "\n",
    "1. `pensize`方法用于确定绘画线条的宽度\n",
    "2. 参与控制循环条件的变量可以在循环体内发挥其它重要的作用"
   ]
  },
  {
   "cell_type": "markdown",
   "id": "bc1af148-1c1d-4b2b-90d9-5a87aab8ebc2",
   "metadata": {
    "jp-MarkdownHeadingCollapsed": true,
    "tags": []
   },
   "source": [
    "### CS Tips 计算机小知识\n",
    "在通过计算机技术绘制斜线的时候，有时候线段并不是很平滑，显现出一些类似毛刺或锯子的齿一样的形态，我们称这样的线条有“锯齿”。锯齿的形成与计算机绘图硬件有关。可以通过提高显示设备的分辨率和其它一些技术来减轻锯齿发生的程度。\n"
   ]
  },
  {
   "cell_type": "markdown",
   "id": "f9f70484-6376-4931-90fd-d86eca0986cd",
   "metadata": {
    "tags": []
   },
   "source": [
    "### Assignments 作业"
   ]
  },
  {
   "cell_type": "code",
   "execution_count": null,
   "id": "52b011de-8ef8-438f-8c24-7d49fb1338d8",
   "metadata": {},
   "outputs": [],
   "source": [
    "from random import randint\n",
    "from turtle import setup, reset, bye, pu, pd, bk, fd, left, right, st, ht\n",
    "# from turtle import penup, pendown, backward, forward, showturtle, hideturtle\n",
    "from turtle import pencolor, pensize\n",
    "setup(600, 400, None, None)"
   ]
  },
  {
   "cell_type": "markdown",
   "id": "ae24b055-8534-4157-a951-25b36982fd6b",
   "metadata": {},
   "source": [
    "1.  Use skills you learned so far, draw a regular octagon like the following figure shows. 使用已经教学过的知识，绘制如下图类似的正八边形。Detailed requirements are 具体要求如下：\n",
    "    - side length is 120, centered left and right middle, line size is 3, line color is green 它边为120，**左右**居中位于绘图区，每条边的线宽总是3，颜色是绿色\n",
    "    - the lowest part of the octagon is a vertex instead of an edge 它最下方不是一条边而是一个顶点\n",
    "    - from each vertex of the octangon, there is a red line (size is 1) pointing to its center with the same length as the octagon itself 正八边形每一个顶点都朝向中心延伸出一条线宽为1颜色为红色的长度与八边形边长相等的线段\n",
    "    - comment each line of your code 给每一行代码添加注释\n",
    "   \n",
    "    <img src=\"figures/L007_assign01_regular_polygons.png\" width = 500>"
   ]
  },
  {
   "cell_type": "code",
   "execution_count": null,
   "id": "3e2d7634-9658-40cf-8a07-b722543a667e",
   "metadata": {},
   "outputs": [],
   "source": []
  },
  {
   "cell_type": "markdown",
   "id": "f7814f33-12e2-497e-bf27-4ba207d3cadb",
   "metadata": {},
   "source": [
    "2. Use skills you learned so far, draw a regular hexagon like the following figure shows.使用已经教学过的知识，编程绘制出下图所示的图形。Detailed requirements are 具体要求如下：\n",
    "   - side length is 120, centered left and right middle, line size is 3, line color is green 它边长为120，仍然在绘图区**左右**居中，每条边的线宽总是3，颜色是绿色；\n",
    "   - the lowest part of the octagon is a vertex instead of an edge 它最下方不是一条边而是一个顶点\n",
    "   - the 3 furthest pairs of vertices in the regular hexagon are connected by red lines of width 1 正六边形中距离最远的3对顶点是用颜色为红色的宽为1的线条连接起来的\n",
    "   - comment each line of your code 给每一行代码添加注释\n",
    "   \n",
    "   <img src=\"figures/L007_assign02_regular_polygons.png\" width = 500>"
   ]
  },
  {
   "cell_type": "code",
   "execution_count": null,
   "id": "e7f6aafb-833b-459a-abe9-c03daad4ee41",
   "metadata": {},
   "outputs": [],
   "source": []
  },
  {
   "cell_type": "markdown",
   "id": "6de8eb4b-5674-4052-b804-99501e591f56",
   "metadata": {},
   "source": [
    "3. Use skills you learned so far, draw a regular pentagon like the following figure shows 使用已经教学过的知识，编程绘制出下图所示的图形。Detailed requirements are 具体要求如下：\n",
    "   - side length is 120, centered left and right middle, line size is 3, line color is green 它边为120，仍然在绘图区**左右**居中，每条边的线宽总是3，颜色是绿色；\n",
    "   - its **top** is a vertex of a regular pentagon, and the distance from this vertex to the center of the drawing area (the starting position of the turtle) is equal to the side length of the regular pentagon 它最**上方**是正五边形的一个顶点，且这个顶点距离绘图区中心（海龟一开始的位置）的距离等于正五边形的边长；\n",
    "   - each vertex extends toward the center with a line with a width of 1 and a color of red with a length equal to the length of the side.每一个顶点都朝向中心延伸出一条线宽为1颜色为红色的长度与边长相等的线段\n",
    "   - comment each line of your code 给每一行代码添加注释\n",
    "   \n",
    "   <img src=\"figures/L007_assign03_regular_polygons.png\" width = 500>"
   ]
  },
  {
   "cell_type": "markdown",
   "id": "121025eb-f7ea-4250-8f96-731041c97b60",
   "metadata": {},
   "source": [
    "4. Observe 7 regular polygons including regular triangle, square, regular pentagon, regular hexagon, regular octagon, regular nonagon, and regular decagon, answer the following questions: 观察正三、正四、正五、正六、正八、正九、正十边形等7个正多边形，回答下列问题：\n",
    "   - when drawing each regular polygon, how many degrees does the little turtle turn after each edge is drawn? 在绘制每一个正多边形时，小海龟在绘制完成一条边后要转多少度？\n",
    "   - for each regular polygon, how many interior angle does it have, What is the sum of these interior angles? 对于每一个正多边形，它有多少个度数相同的内角？这些内角加起来的和是多少？\n",
    "   - for each regular polygon, how many exterior angles does it have? What is the sum of these exterior angles?对于每一个正多边形，它有多少个度数相同的外角？这些外角加起来的和是多少？，\n",
    "   - is it true that the more sides of a regular polygon, the greater the sum of the interior and exterior angles?是不是正多边形的边数越多，内、外角和就越大？\n",
    "   \n",
    "   Fill in the answers in the two cells below, where the answer for regular triangle has been given as an example 将答案填写在下面的两个单元格中，其中三角形作为示例答案已经给出"
   ]
  },
  {
   "cell_type": "code",
   "execution_count": null,
   "id": "bf4097cd-db55-44e9-bd4e-c9b47bbe3b75",
   "metadata": {},
   "outputs": [],
   "source": [
    "# number        degree for         number of      number of       sum of degree of       sum of degree of \n",
    "# of edges      each turn          inner angle    outer angle     inner angles           inner angles\n",
    "# 正多边形边数   绘图时每次转的度数   内角个数       外角个数         内角和（度）            外角和（度）      \n",
    "#     3              120                   3        3              180                   360\n",
    "#     4\n",
    "#     5\n",
    "#     6\n",
    "#     8\n",
    "#     9\n",
    "#    10"
   ]
  },
  {
   "cell_type": "code",
   "execution_count": null,
   "id": "218fe838-d8eb-4c5f-942c-751889335cc2",
   "metadata": {},
   "outputs": [],
   "source": [
    "# 是不是正多边形的边数越多，内、外角和就越大？\n",
    "# "
   ]
  },
  {
   "cell_type": "markdown",
   "id": "3c843578-33b0-4e36-a753-35a6fd639f9f",
   "metadata": {},
   "source": [
    "5. (**Hard Optional; 困难，选做， /25**）Use skills you learned so far, draw the following figure  使用已经教学过的知识，编程绘制下图所示的图形。Detailed requirements are 具体要求如下：\n",
    "   - this is a shape composed of 20 end-to-end line segments, counting from left to right with 10 vertical line segments; counting from top to bottom with 10 horizontal line segments; 这是由20条首尾连接的线段组成的一个图案，自左向右数一个有10条垂直方向的线段；自上向下数有10条水平方向的线段；\n",
    "   - Start drawing from the center of the screen, the length of the initial horizontal line segment and the vertical line segment drawn after turning 90 degrees to the left are both 20; 从屏幕正中央开始绘图，最初的水平线段和随后左转90度后绘制的垂直线段长度均为20；\n",
    "   - The two line segments drawn each time (respectively a horizontal and a vertical line segment drawn after turning 90 degrees to the left) are equal in length and 20 longer than the previous two line segments; 每次绘制的两条线段（分别为一条水平和左转90度后绘制的一条垂直线段）长度相等且比之前的两条线段长20；\n",
    "   - Repeat this until 20 line segments are drawnRepeat this until 20 line segments are drawn; 如此重复直至绘制完成20条线段；\n",
    "      \n",
    "   <img src=\"figures/L007_assign05_regular_polygons.png\" width = 500>"
   ]
  },
  {
   "cell_type": "code",
   "execution_count": 62,
   "id": "5396d0b9-0897-46aa-b9f5-b584e88267ed",
   "metadata": {},
   "outputs": [],
   "source": []
  },
  {
   "cell_type": "markdown",
   "id": "e2fff6aa-60cd-4a20-a19a-239257a8ec9f",
   "metadata": {},
   "source": [
    "6. (**Hard Optional; 困难，选做, /(25+10)**)使用`while`循环绘制下图。要求：\n",
    "      - all the three squares are absolutely located in the middle of the draw area whose size is 600*400; 所有的三个正方形都完全位于尺寸为600×400的绘图区域的中心\n",
    "      - the side lengths of the three squares are: 250, 150, and 50, respectively; 三个正方形的边长依次为250，150，和50;\n",
    "      - line size for each square is 1, 2, and 3 from inside to outside; 三个正方形从内到外线宽依次为1，2，和3;\n",
    "      - you can use either one `while` loop or two wrapped `while` loops; 可以只使用一个`while`循环来实现，也可以使用两个`while`循环嵌套来实现；\n",
    "      - if you use two `while` loops **and** the all codes are controlled within 35 lines (the line where the import, setup is located is not included in the total lines), you can get an extra 10 points if the result is correct; 如果你使用了两个`while`循环**并且**代码总行数控制在35行以内（import, setup所在的行不计入总行数），结果正确可以获得额外的10分加分;\n",
    "      \n",
    "   <img src=\"figures/L007_assign06_regular_polygons.png\" width = 500>"
   ]
  },
  {
   "cell_type": "code",
   "execution_count": null,
   "id": "fe4241c6-2893-4c52-ad28-f780824a70ac",
   "metadata": {},
   "outputs": [],
   "source": []
  }
 ],
 "metadata": {
  "kernelspec": {
   "display_name": "Python 3 (ipykernel)",
   "language": "python",
   "name": "python3"
  },
  "language_info": {
   "codemirror_mode": {
    "name": "ipython",
    "version": 3
   },
   "file_extension": ".py",
   "mimetype": "text/x-python",
   "name": "python",
   "nbconvert_exporter": "python",
   "pygments_lexer": "ipython3",
   "version": "3.9.0"
  }
 },
 "nbformat": 4,
 "nbformat_minor": 5
}
