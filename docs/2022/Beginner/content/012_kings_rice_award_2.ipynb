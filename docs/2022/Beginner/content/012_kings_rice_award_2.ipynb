{
 "cells": [
  {
   "cell_type": "markdown",
   "id": "relative-location",
   "metadata": {
    "tags": []
   },
   "source": [
    "## 第12讲 国王的奖励（二）\n",
    "Lecture 12. King's Reward(Part 2)"
   ]
  },
  {
   "cell_type": "markdown",
   "id": "d12f05dd",
   "metadata": {},
   "source": [
    "### Problem 问题描述"
   ]
  },
  {
   "cell_type": "markdown",
   "id": "c7cd1f0b-8266-49f3-a77e-806bec2c40ce",
   "metadata": {},
   "source": [
    "It had been a year since the king last rewarded the general. In the past year, the general had helped the king accomplish many things. The king intended to continue rewarding him with some rice, and the general's purpose was still to try to get as many rewards as possible. This time, the king wanted to maintain the option2 but modify the bags of rewarded rice for the first day so as to achieve: 1. The general would have to choose option1 to get more rewards; 2. The king should reward the general with as little rice as possible.\n",
    "\n",
    "距离国王上次奖励将军已经经过了1年了，在过去的一年中，这位将军又帮助国王做成了很多事情。国王打算继续奖励他一些大米，将军的目的仍然是争取拿到尽可能多的奖励。这次奖励国王打算对第一种方案中第一天奖励的袋数做一些调整，借此达到下面两个目的：1. 将军只有选择第一种方案才会拿到更多的奖励；2. 国王奖励给将军的大米尽可能的少。\n",
    "\n",
    "The following is the description of the two reward options. you need to specify the **X** in option1. \n",
    "\n",
    "下面是两种奖励的方案的描述，其中第一种奖励方案中第一天奖励的大米袋数**X**需要你来确定。\n",
    "\n",
    "- Option 1: 100 bags will be rewarded on the first day, and every day thereafter will be **X** bags **more** than the previous day's reward, and so for 14 consecutive days; 方案一：第一天奖励**X**袋，以后每天都比前一天**多**奖励**100**袋，如此连续奖励14天；\n",
    "\n",
    "- Option 2: 1 bag will be awarded on the first day, and the number of rice bags will be **twice** as many as the previous day for each day, and so for 14 days; 方案二：第一天奖励1袋，以后每一天奖励的大米袋数都是前一天的**2**倍，如此连续奖励14天；\n",
    "\n",
    "\n",
    "**Note** The number of bags awarded per day must be an integer; \n",
    "\n",
    "**备注**:每一天奖励的袋数必须是整数。\n",
    "\n",
    "If it is up to you now to help the King modify option 1, please answer: \n",
    "\n",
    "假如现在由你来帮助国王修改方案1，请回答：\n",
    "\n",
    "1. How many bags should you set the first day's reward so that total rewards by option1 is more than that by option2 while as little as possible? 你应该把第一天的奖励设为多少袋才能使得第一种方案奖励给将军的大米比第二种方案多同时又不至于奖励过多的大米给将军？\n",
    "\n",
    "2. Under this setting, how many bags of rice will be awarded for each plan and each day during the 14 days? What is the total amount of rice awarded by the two options after 14 days? Please continue to print out a form similar to the following. 在这种设定下，在14天里每一种方案每一天奖励的大米分别是多少？两种方案在14天中奖励的大米总数又分别是多少，请继续打印出类似下面表格来回答问题：\n",
    "\n",
    "```text\n",
    "Day\t  Option1\t Option2\tTotal1\tTotal2\n",
    " 1\t\t   X\t\t  1\t\t   X\t\t1\n",
    " ..\t\t...\t\t...\n",
    "```\n",
    "\n"
   ]
  },
  {
   "cell_type": "code",
   "execution_count": null,
   "id": "f51ad3a2-8153-4db0-9da4-c1b446672f4b",
   "metadata": {},
   "outputs": [],
   "source": [
    "total_option2 = 16383\n",
    "\n"
   ]
  },
  {
   "cell_type": "markdown",
   "id": "animated-batch",
   "metadata": {},
   "source": [
    "### Math Background 数学背景\n",
    "\n",
    "1. 数列的基本概念\n",
    "2. 初步认识等差等比数列"
   ]
  },
  {
   "cell_type": "markdown",
   "id": "sorted-furniture",
   "metadata": {
    "heading_collapsed": true
   },
   "source": [
    "### Prerequisites 预备知识"
   ]
  },
  {
   "cell_type": "markdown",
   "id": "60ffb55b-49ef-4468-9d3d-c236b61be2bc",
   "metadata": {},
   "source": [
    "#### 1. 特殊字符`\\t`,`\\r`,`\\n`等的使用"
   ]
  },
  {
   "cell_type": "code",
   "execution_count": null,
   "id": "89efef42-86a1-44b3-b0fb-1d0eb39bb031",
   "metadata": {},
   "outputs": [],
   "source": [
    "print(\"Yunzi Cynthia\")"
   ]
  },
  {
   "cell_type": "code",
   "execution_count": null,
   "id": "a27d0985-c9c5-4a5e-ab1d-55effb04dff2",
   "metadata": {},
   "outputs": [],
   "source": [
    "print(\"Yunzi\\nCynthia\")"
   ]
  },
  {
   "cell_type": "code",
   "execution_count": null,
   "id": "d5872691-793e-4e06-923f-d9f9b5a90e80",
   "metadata": {},
   "outputs": [],
   "source": [
    "print(\"YunzinCynthia\")"
   ]
  },
  {
   "cell_type": "code",
   "execution_count": 10,
   "id": "11516935-9b7b-4ef7-b606-a813d43c6f68",
   "metadata": {},
   "outputs": [
    {
     "name": "stdout",
     "output_type": "stream",
     "text": [
      "Yunzi\t\tMilly\t\tCynthia\n",
      "Yunzi\t\tMillyyy\t\tCynthia\n",
      "Milly\t\tCynthia\t\tYunzi\n"
     ]
    }
   ],
   "source": [
    "print(\"Yunzi\\t\\tMilly\\t\\tCynthia\")\n",
    "print(\"Yunzi\\t\\tMillyyy\\t\\tCynthia\")\n",
    "print(\"Milly\\t\\tCynthia\\t\\tYunzi\")"
   ]
  },
  {
   "cell_type": "code",
   "execution_count": 11,
   "id": "03964dbd-15ad-4c86-a813-b7d4bb9ac4a3",
   "metadata": {},
   "outputs": [
    {
     "name": "stdout",
     "output_type": "stream",
     "text": [
      "Milly\n"
     ]
    }
   ],
   "source": [
    "print(\"Yunzi\\rMilly\")"
   ]
  },
  {
   "cell_type": "code",
   "execution_count": 12,
   "id": "b06f1f51-eebd-4d09-a720-35df0fd79513",
   "metadata": {},
   "outputs": [
    {
     "name": "stdout",
     "output_type": "stream",
     "text": [
      "Cynthia\n"
     ]
    }
   ],
   "source": [
    "print(\"Milly\\rCynthia\")"
   ]
  },
  {
   "cell_type": "code",
   "execution_count": 13,
   "id": "6dac4558-d02d-499b-b0ff-f3d743def2a4",
   "metadata": {},
   "outputs": [
    {
     "name": "stdout",
     "output_type": "stream",
     "text": [
      "Millyia\n"
     ]
    }
   ],
   "source": [
    "print(\"Cynthia\\rMilly\")"
   ]
  },
  {
   "cell_type": "code",
   "execution_count": 14,
   "id": "99d22466-9ead-4f8e-b2de-1647a04bd639",
   "metadata": {},
   "outputs": [
    {
     "name": "stdout",
     "output_type": "stream",
     "text": [
      "Yunziia\n"
     ]
    }
   ],
   "source": [
    "print(\"Cynthia\\rYunzi\")"
   ]
  },
  {
   "cell_type": "code",
   "execution_count": 15,
   "id": "ab81fa56-fadc-47d2-a5ed-a3a56b5d853c",
   "metadata": {},
   "outputs": [
    {
     "name": "stdout",
     "output_type": "stream",
     "text": [
      "Cynthia890\n"
     ]
    }
   ],
   "source": [
    "print(\"1234567890\\rCynthia\")"
   ]
  },
  {
   "cell_type": "code",
   "execution_count": null,
   "id": "84b81366-8a00-4560-a55f-c97d28cfb7dd",
   "metadata": {},
   "outputs": [],
   "source": [
    "Cynthia890"
   ]
  },
  {
   "cell_type": "code",
   "execution_count": 16,
   "id": "86f0eea1-ad61-453f-96f2-e6b52e1acacb",
   "metadata": {},
   "outputs": [
    {
     "name": "stdout",
     "output_type": "stream",
     "text": [
      "Milly67890\n"
     ]
    }
   ],
   "source": [
    "print(\"1234567890\\rMilly\")"
   ]
  },
  {
   "cell_type": "code",
   "execution_count": 17,
   "id": "9b6adbd4-fe81-4f38-bb42-38c232e4067e",
   "metadata": {},
   "outputs": [
    {
     "name": "stdout",
     "output_type": "stream",
     "text": [
      "Yunzi67890\n"
     ]
    }
   ],
   "source": [
    "print(\"1234567890\\rYunzi\")"
   ]
  },
  {
   "cell_type": "code",
   "execution_count": 18,
   "id": "6f39cc21-d887-4539-b960-d43f9c2e44f1",
   "metadata": {},
   "outputs": [
    {
     "name": "stdout",
     "output_type": "stream",
     "text": [
      "Yunzi Milly Cynthia\n"
     ]
    }
   ],
   "source": [
    "print(\"1234567890\\rYunzi Milly Cynthia\")"
   ]
  },
  {
   "cell_type": "code",
   "execution_count": null,
   "id": "082010ce-6030-49d9-9fed-1654b23b5c1f",
   "metadata": {},
   "outputs": [],
   "source": [
    "Yunzi Milly Cynthia"
   ]
  },
  {
   "cell_type": "code",
   "execution_count": 29,
   "id": "af8e0828-66dc-4c76-af7f-edcaa3673605",
   "metadata": {},
   "outputs": [
    {
     "name": "stdout",
     "output_type": "stream",
     "text": [
      "100%"
     ]
    }
   ],
   "source": [
    "import sys\n",
    "from time import sleep\n",
    "i = 0 \n",
    "while i <= 100:\n",
    "    text = \"\\r{:>3}%\".format(str(i))\n",
    "    sys.stdout.flush()\n",
    "    sys.stdout.write(text)\n",
    "    sleep(0.01)\n",
    "    i += 1"
   ]
  },
  {
   "cell_type": "markdown",
   "id": "be4701a7-c24e-47c3-8591-90d75670fb24",
   "metadata": {},
   "source": [
    "#### 2. `print`方法新用"
   ]
  },
  {
   "cell_type": "code",
   "execution_count": 21,
   "id": "23a35ce3-f616-4a7c-b9a8-131000ae1675",
   "metadata": {},
   "outputs": [
    {
     "name": "stdout",
     "output_type": "stream",
     "text": [
      "*.."
     ]
    }
   ],
   "source": [
    "print(\"*\", end=\"\")\n",
    "print(\".\", end=\"\")\n",
    "print(\".\", end=\"\")"
   ]
  },
  {
   "cell_type": "code",
   "execution_count": 36,
   "id": "3230424e-6007-4c22-b40c-f3e6e112bbe5",
   "metadata": {},
   "outputs": [
    {
     "name": "stdout",
     "output_type": "stream",
     "text": [
      "Yunzi Milly\n",
      "Cynthia"
     ]
    }
   ],
   "source": [
    "print(\"Yunzi Milly\\n\", end=\"Cynthia\")"
   ]
  },
  {
   "cell_type": "code",
   "execution_count": 35,
   "id": "4fd197a6-626c-4fa0-8a89-1f2fc20e1862",
   "metadata": {},
   "outputs": [
    {
     "name": "stdout",
     "output_type": "stream",
     "text": [
      "Yunzi Milly\n",
      "Cynthia\n"
     ]
    }
   ],
   "source": [
    "print(\"Yunzi Milly\")\n",
    "print(\"Cynthia\")"
   ]
  },
  {
   "cell_type": "code",
   "execution_count": 37,
   "id": "f3f1ca08-b75a-40b9-bf76-b6947f752157",
   "metadata": {},
   "outputs": [
    {
     "name": "stdout",
     "output_type": "stream",
     "text": [
      "Yunzi Milly Cynthia\n"
     ]
    }
   ],
   "source": [
    "print(\"Yunzi\", \"Milly\", \"Cynthia\")"
   ]
  },
  {
   "cell_type": "code",
   "execution_count": 38,
   "id": "78304534-0b98-454e-8773-fe0b1c842cd1",
   "metadata": {},
   "outputs": [
    {
     "name": "stdout",
     "output_type": "stream",
     "text": [
      "Yunzi Milly Cynthia\n"
     ]
    }
   ],
   "source": [
    "print(\"Yunzi Milly Cynthia\")"
   ]
  },
  {
   "cell_type": "code",
   "execution_count": 39,
   "id": "1384dd5d-b3b7-491a-93f8-6161ada268f9",
   "metadata": {},
   "outputs": [
    {
     "name": "stdout",
     "output_type": "stream",
     "text": [
      "Yunzi Milly Cynthia\n"
     ]
    }
   ],
   "source": [
    "print()"
   ]
  },
  {
   "cell_type": "code",
   "execution_count": 40,
   "id": "f390a77f-4e38-4afb-88b3-efc7467ef1e1",
   "metadata": {},
   "outputs": [
    {
     "name": "stdout",
     "output_type": "stream",
     "text": [
      "Yunzi Milly Cynthia\n"
     ]
    }
   ],
   "source": [
    "string = \"{} {} {}\".format(\"Yunzi\", \"Milly\", \"Cynthia\")"
   ]
  },
  {
   "cell_type": "code",
   "execution_count": 54,
   "id": "05847313-4b62-45d6-9828-134c2b9cc7dd",
   "metadata": {},
   "outputs": [
    {
     "name": "stdout",
     "output_type": "stream",
     "text": [
      "1 x 1 = 1  \n",
      "1 x 2 = 2  2 x 2 = 4   \n",
      "1 x 3 = 3  2 x 3 = 6   3 x 3 = 9   \n",
      "1 x 4 = 4  2 x 4 = 8   3 x 4 = 12  4 x 4 = 16  \n",
      "1 x 5 = 5  2 x 5 = 10  3 x 5 = 15  4 x 5 = 20  5 x 5 = 25  \n",
      "1 x 6 = 6  2 x 6 = 12  3 x 6 = 18  4 x 6 = 24  5 x 6 = 30  6 x 6 = 36  \n",
      "1 x 7 = 7  2 x 7 = 14  3 x 7 = 21  4 x 7 = 28  5 x 7 = 35  6 x 7 = 42  7 x 7 = 49  \n",
      "1 x 8 = 8  2 x 8 = 16  3 x 8 = 24  4 x 8 = 32  5 x 8 = 40  6 x 8 = 48  7 x 8 = 56  8 x 8 = 64  \n",
      "1 x 9 = 9  2 x 9 = 18  3 x 9 = 27  4 x 9 = 36  5 x 9 = 45  6 x 9 = 54  7 x 9 = 63  8 x 9 = 72  9 x 9 = 81  \n"
     ]
    }
   ],
   "source": [
    "b = 1\n",
    "while b <= 9:    \n",
    "    a = 1\n",
    "    while a <= b:\n",
    "        print(\"{:>1} x {:>1} = {:<2}\".format(a, b, a*b), end=\" \" if a == 1 else \"  \")\n",
    "        a += 1\n",
    "    print()    \n",
    "    b += 1  "
   ]
  },
  {
   "cell_type": "markdown",
   "id": "aab71821-05ff-4e04-b7a0-e7eac9fa4a1a",
   "metadata": {},
   "source": [
    "#### 3. `and`, `or`, `not`连接多个简单条件构成复合条件"
   ]
  },
  {
   "cell_type": "code",
   "execution_count": null,
   "id": "d30daceb-e69f-4a40-b525-de7f96d8c1a1",
   "metadata": {},
   "outputs": [],
   "source": [
    "# and\n",
    "\n",
    "can_Milly_goto_school = None         # result\n",
    "\n",
    "has_covid = True                     # condition1\n",
    "is_school_open = True                # condition2\n",
    "\n",
    "if has_covid == False and is_school_open == True:\n",
    "    can_Milly_goto_school = True\n",
    "else:\n",
    "    can_Milly_goto_school = False\n",
    "print(\"Can Milly go to school? {}\".format(can_Milly_goto_school))"
   ]
  },
  {
   "cell_type": "code",
   "execution_count": 64,
   "id": "f36beb92-fb26-4a0d-a4b1-21617daa9721",
   "metadata": {},
   "outputs": [
    {
     "name": "stdout",
     "output_type": "stream",
     "text": [
      "Do I have something to drink? True\n"
     ]
    }
   ],
   "source": [
    "# or\n",
    "\n",
    "has_sth_to_drink = None             # result\n",
    "\n",
    "has_pepsi = True                    # condition1\n",
    "has_orange_juice = True             # condition2\n",
    "has_other_drinks = False            # condition3\n",
    "\n",
    "if has_pepsi or has_orange_juice or has_other_drinks:\n",
    "    has_sth_to_drink = True\n",
    "else:\n",
    "    has_sth_to_drink = False\n",
    "\n",
    "print(\"Do I have something to drink? {}\".format(has_sth_to_drink))"
   ]
  },
  {
   "cell_type": "code",
   "execution_count": null,
   "id": "c18dec6f-0b17-4f83-8e1e-0c7b5217e67b",
   "metadata": {},
   "outputs": [],
   "source": [
    "# not\n",
    "stay_at_home = None                 # result\n",
    "\n",
    "is_raining = True                   # condition\n",
    "\n",
    "stay_at_home = not is_raining       # if raining, stay at home;\n",
    "                                    # otherwise, not stay at home\n",
    "print(\"Do I stay at home? {}\".format(stay_at_home))"
   ]
  },
  {
   "cell_type": "code",
   "execution_count": null,
   "id": "be3cc6de-f94c-43c6-8ba4-0fe859128d3e",
   "metadata": {},
   "outputs": [],
   "source": [
    "# not 2\n",
    "has_sth_to_drink = None             # result\n",
    "\n",
    "has_pepsi = True                    # condition1\n",
    "has_orange_juice = True             # condition2\n",
    "has_other_drinks = False            # condition3\n",
    "\n",
    "if (not has_pepsi) and (not has_orange_juice) and (not has_other_drinks):\n",
    "    has_sth_to_drink = False\n",
    "else:\n",
    "    has_sth_to_drink = True\n",
    "\n",
    "print(\"Do I have something to drink? {}\".format(has_sth_to_drink))"
   ]
  },
  {
   "cell_type": "markdown",
   "id": "0868c523-7da6-4547-bb21-c9f146d3408d",
   "metadata": {
    "tags": []
   },
   "source": [
    "#### 3. 坚持每一行代码不超过80个字符"
   ]
  },
  {
   "cell_type": "code",
   "execution_count": null,
   "id": "59d440af-034a-4676-a6c2-996b745447dd",
   "metadata": {},
   "outputs": [],
   "source": []
  },
  {
   "cell_type": "markdown",
   "id": "d55f37d9",
   "metadata": {},
   "source": [
    "### Solution 编程求解"
   ]
  },
  {
   "cell_type": "code",
   "execution_count": 63,
   "id": "9af1675c-4533-4d4f-a6bf-a8903c696716",
   "metadata": {},
   "outputs": [
    {
     "name": "stdout",
     "output_type": "stream",
     "text": [
      "521\n"
     ]
    }
   ],
   "source": [
    "# Solution1: based on fact that total2 already known.\n",
    "# 方案1: 基于第二种方案总的奖励数已知的情况下\n",
    "\n",
    "total2 = 16383\n",
    "first_award_option1 = 101\n",
    "\n",
    "while True:\n",
    "    i = 1\n",
    "    total1 = 0\n",
    "    while i <= 14:\n",
    "        this_award = first_award_option1 + (i - 1) * 100 #+ first_award_option1\n",
    "        total1 = total1 + this_award\n",
    "        i = i + 1\n",
    "    if total1 > total2:\n",
    "        break\n",
    "    else:\n",
    "        first_award_option1 = first_award_option1 + 1\n",
    "        \n",
    "print(first_award_option1)"
   ]
  },
  {
   "cell_type": "code",
   "execution_count": 65,
   "id": "99536414-d32d-4e00-b1fa-fcd26bda234b",
   "metadata": {},
   "outputs": [
    {
     "name": "stdout",
     "output_type": "stream",
     "text": [
      "rewarded rice of first day of option1 should be at least: 521\n",
      "Day\tOption1\tOption2\tTotal1\tTotal2\n",
      " 1\t 521\t   1\t   521\t     1\n",
      " 2\t 621\t   2\t  1142\t     3\n",
      " 3\t 721\t   4\t  1863\t     7\n",
      " 4\t 821\t   8\t  2684\t    15\n",
      " 5\t 921\t  16\t  3605\t    31\n",
      " 6\t1021\t  32\t  4626\t    63\n",
      " 7\t1121\t  64\t  5747\t   127\n",
      " 8\t1221\t 128\t  6968\t   255\n",
      " 9\t1321\t 256\t  8289\t   511\n",
      "10\t1421\t 512\t  9710\t  1023\n",
      "11\t1521\t1024\t 11231\t  2047\n",
      "12\t1621\t2048\t 12852\t  4095\n",
      "13\t1721\t4096\t 14573\t  8191\n",
      "14\t1821\t8192\t 16394\t 16383\n"
     ]
    }
   ],
   "source": [
    "# Solution2 方案2\n",
    "\n",
    "days_total = 14\n",
    "first_award_option1 = 100     # We need to find the right value for this \n",
    "                              # 我们需要为它找到正确的值\n",
    "first_award_option2 = 1\n",
    "award_increase_option1 = 100\n",
    "award_times_option2 = 2\n",
    "\n",
    "while True:\n",
    "    days_awarded = 0\n",
    "    total_awarded_option1 = 0\n",
    "    total_awarded_option2 = 0\n",
    "    cur_award_option1 = first_award_option1\n",
    "    cur_award_option2 = first_award_option2\n",
    "    while days_awarded < days_total:\n",
    "        total_awarded_option1 += cur_award_option1\n",
    "        total_awarded_option2 += cur_award_option2\n",
    "        days_awarded += 1\n",
    "        cur_award_option1 += award_increase_option1\n",
    "        cur_award_option2 *= award_times_option2 \n",
    "        \n",
    "    if total_awarded_option1 > total_awarded_option2:\n",
    "        break\n",
    "    else:\n",
    "        first_award_option1 += 1\n",
    "        \n",
    "print(\"rewarded rice of first day of option1 should be at least: {}\"\\\n",
    "      .format(first_award_option1))\n",
    "        \n",
    "print(\"Day\\tOption1\\tOption2\\tTotal1\\tTotal2\")\n",
    "days_awarded = 0\n",
    "total_awarded_option1 = 0\n",
    "total_awarded_option2 = 0\n",
    "cur_award_option1 = first_award_option1\n",
    "cur_award_option2 = first_award_option2\n",
    "while days_awarded < days_total:\n",
    "    total_awarded_option1 += cur_award_option1\n",
    "    total_awarded_option2 += cur_award_option2\n",
    "    days_awarded += 1\n",
    "    print(\"{:>2}\\t{:>4}\\t{:>4}\\t{:>6}\\t{:>6}\".format(\n",
    "        days_awarded, \n",
    "        cur_award_option1, \n",
    "        cur_award_option2,\n",
    "        total_awarded_option1,\n",
    "        total_awarded_option2))\n",
    "\n",
    "    cur_award_option1 += award_increase_option1\n",
    "    cur_award_option2 *= award_times_option2"
   ]
  },
  {
   "cell_type": "code",
   "execution_count": null,
   "id": "2863a1b3-7c16-4706-bcfe-c15e16083104",
   "metadata": {},
   "outputs": [],
   "source": []
  },
  {
   "cell_type": "markdown",
   "id": "latest-contamination",
   "metadata": {},
   "source": [
    "### Summary 知识点小结"
   ]
  },
  {
   "cell_type": "markdown",
   "id": "afb3f674",
   "metadata": {},
   "source": [
    "1. 特殊字符`\\t`,`\\r`,`\\n`等的使用\n",
    "2. `and`, `or`, `not`连接多个简单条件构成复合条件\n",
    "3. Python代码书写规范之每一行不超过80个字符"
   ]
  },
  {
   "cell_type": "code",
   "execution_count": null,
   "id": "urban-glance",
   "metadata": {
    "hidden": true
   },
   "outputs": [],
   "source": []
  },
  {
   "cell_type": "markdown",
   "id": "bizarre-assurance",
   "metadata": {},
   "source": [
    "### 计算机小知识"
   ]
  },
  {
   "cell_type": "markdown",
   "id": "92100f08",
   "metadata": {},
   "source": [
    "解决一个计算机变成问题或者实际问题的思路可以称为“算法”。利用计算机运算速度快的特点，考察所有可能的备选答案已验证或找到最佳答案是一种算法，这种算法通常称为“穷举法”或者“暴力算法”。穷举法是计算机编程领域首先需要考虑的算法，尽管它通常不是最快速的。"
   ]
  },
  {
   "cell_type": "markdown",
   "id": "digital-consensus",
   "metadata": {
    "heading_collapsed": true
   },
   "source": [
    "### Assignments 作业"
   ]
  },
  {
   "cell_type": "markdown",
   "id": "controversial-sleeve",
   "metadata": {
    "hidden": true
   },
   "source": [
    "1. Taking the example of this lecture as context, the purpose of the king remains unchanged, and it is still to modify option1. This time, you are asked to only modify the daily increased rewards while keeping the first day's reward as 100 bags. What is the least daily increased rewards to achieve the king's purpose? What is the total amount of rice awarded for final option 1?\n",
    "以本讲的示例作为背景，国王的目的不变，同时仍然是修改方案1，但是维持首日奖励为100袋，那么后一天必须至少比前一天多奖励多少袋才能最终达到国王的目的？最终方案1奖励的大米总数是多少？"
   ]
  },
  {
   "cell_type": "code",
   "execution_count": null,
   "id": "d02e3afd-1d94-429a-942c-8942afe418ed",
   "metadata": {
    "tags": []
   },
   "outputs": [],
   "source": []
  },
  {
   "cell_type": "markdown",
   "id": "63f2c424-dfca-44d1-ad2e-cbda95145414",
   "metadata": {},
   "source": [
    "2. Taking the example of this lecture as context, the purpose of the king remains unchanged, and it is still to modify option1. This time, you are asked to modify both the first day's reward and the daily increased rewards while keeping both the same value. What is the least first day's rewards(daily increased rewards) to achieve the king's purpose? What is the total amount of rice awarded for final option 1?\n",
    "以本讲的示例作为背景，国王的目的不变，同时仍然是修改方案1，但是同时修改首日奖励和每日奖励的递增，并且使得这两个值为同一个值，那么这个值是多少才能达到国王的目的？最终方案1奖励的大米总数是多少？"
   ]
  },
  {
   "cell_type": "code",
   "execution_count": null,
   "id": "162c9372-c0e9-4e72-bb93-14ee136658c9",
   "metadata": {},
   "outputs": [],
   "source": []
  },
  {
   "cell_type": "markdown",
   "id": "9eff2e25-dc1f-4cdd-8506-6216a9b6e289",
   "metadata": {},
   "source": [
    "3. Try to find the pattern of the folowing sequences, guess the missing integers(marked with \"___\"). Write programs to print out the complete sequence by using the pattern you found for each sequence. \n",
    "\n",
    "    尝试找到下面每一个序列的规律，猜测横线处应该填的数字。使用你找到的这个规律，为每一个序列编写一个程序把完整的序列打印出来。\n",
    "    \n",
    "    The sequences are 序列是:\n",
    "    \n",
    "    ```text\n",
    "    1. 1, 2, 3, 4, 5, 6, __, 8, 9, 10, 11, __, 13, 14, 15\n",
    "    2. 1, 2, 4, 8, 16, 32, __, 128, 256, 512, 1024, ____, 4096, 8192, 16384\n",
    "    3. (Hard 困难) 1, 1, 2, 3, 5, 8, __, 21, 34, 55, 89, ___, 233, 377, 610\n",
    "    ```\n"
   ]
  },
  {
   "cell_type": "code",
   "execution_count": 62,
   "id": "b8efae0c-5df9-4167-943a-cf1c071a8362",
   "metadata": {},
   "outputs": [
    {
     "name": "stdout",
     "output_type": "stream",
     "text": [
      "1, 2, 3, 4, 5, 6, 7, 8, 9, 10, 11, 12, 13, 14, 15, "
     ]
    }
   ],
   "source": [
    "i = 1\n",
    "line = \"\"\n",
    "while i < 16:\n",
    "    print(str(i), end=\", \")\n",
    "    i += 1"
   ]
  },
  {
   "cell_type": "code",
   "execution_count": null,
   "id": "428d2b1c-b4ba-4353-bfb4-9bdfa3a3b073",
   "metadata": {},
   "outputs": [],
   "source": []
  },
  {
   "cell_type": "code",
   "execution_count": null,
   "id": "f21e1e6c-6775-40ea-a492-bd91940e10f5",
   "metadata": {},
   "outputs": [],
   "source": []
  },
  {
   "cell_type": "markdown",
   "id": "dca3b247-65e8-40b7-a948-c295f81178d5",
   "metadata": {},
   "source": [
    "4. Print out the following 2 Multiplication Tables 打印出如下所示的两个乘法口诀表\n",
    "\n",
    "Table1\n",
    "```text\n",
    " 1 x 9 = 9  2 x 9 = 18  3 x 9 = 27  4 x 9 = 36  5 x 9 = 45  6 x 9 = 54  7 x 9 = 63  8 x 9 = 72  9 x 9 = 81 \n",
    " 1 x 8 = 8  2 x 8 = 16  3 x 8 = 24  4 x 8 = 32  5 x 8 = 40  6 x 8 = 48  7 x 8 = 56  8 x 8 = 64 \n",
    " 1 x 7 = 7  2 x 7 = 14  3 x 7 = 21  4 x 7 = 28  5 x 7 = 35  6 x 7 = 42  7 x 7 = 49 \n",
    " 1 x 6 = 6  2 x 6 = 12  3 x 6 = 18  4 x 6 = 24  5 x 6 = 30  6 x 6 = 36 \n",
    " 1 x 5 = 5  2 x 5 = 10  3 x 5 = 15  4 x 5 = 20  5 x 5 = 25 \n",
    " 1 x 4 = 4  2 x 4 = 8   3 x 4 = 12  4 x 4 = 16 \n",
    " 1 x 3 = 3  2 x 3 = 6   3 x 3 = 9  \n",
    " 1 x 2 = 2  2 x 2 = 4  \n",
    " 1 x 1 = 1 \n",
    "```\n",
    "\n",
    "Table2\n",
    "```text\n",
    " 1 x 1 = 1 \n",
    " 2 x 1 = 2   2 x 2 = 4  \n",
    " 3 x 1 = 3   3 x 2 = 6   3 x 3 = 9  \n",
    " 4 x 1 = 4   4 x 2 = 8   4 x 3 = 12  4 x 4 = 16 \n",
    " 5 x 1 = 5   5 x 2 = 10  5 x 3 = 15  5 x 4 = 20  5 x 5 = 25 \n",
    " 6 x 1 = 6   6 x 2 = 12  6 x 3 = 18  6 x 4 = 24  6 x 5 = 30  6 x 6 = 36 \n",
    " 7 x 1 = 7   7 x 2 = 14  7 x 3 = 21  7 x 4 = 28  7 x 5 = 35  7 x 6 = 42  7 x 7 = 49 \n",
    " 8 x 1 = 8   8 x 2 = 16  8 x 3 = 24  8 x 4 = 32  8 x 5 = 40  8 x 6 = 48  8 x 7 = 56  8 x 8 = 64 \n",
    " 9 x 1 = 9   9 x 2 = 18  9 x 3 = 27  9 x 4 = 36  9 x 5 = 45  9 x 6 = 54  9 x 7 = 63  9 x 8 = 72  9 x 9 = 81 \n",
    "```"
   ]
  },
  {
   "cell_type": "code",
   "execution_count": null,
   "id": "977b96bc-fddd-4024-9bc2-4b4e668eaa08",
   "metadata": {},
   "outputs": [],
   "source": []
  }
 ],
 "metadata": {
  "kernelspec": {
   "display_name": "Python 3 (ipykernel)",
   "language": "python",
   "name": "python3"
  },
  "language_info": {
   "codemirror_mode": {
    "name": "ipython",
    "version": 3
   },
   "file_extension": ".py",
   "mimetype": "text/x-python",
   "name": "python",
   "nbconvert_exporter": "python",
   "pygments_lexer": "ipython3",
   "version": "3.9.0"
  }
 },
 "nbformat": 4,
 "nbformat_minor": 5
}
