{
 "cells": [
  {
   "cell_type": "markdown",
   "id": "6674527b-2570-406a-a335-af74e15846b9",
   "metadata": {
    "tags": []
   },
   "source": [
    "## 第16讲 综合实践：设计Tic Tac Toe游戏（一）\n",
    "\n",
    "Lecture 16. Project: Design a Tic Tac Toe Game (Part1)"
   ]
  },
  {
   "cell_type": "markdown",
   "id": "9594c99c-95fb-406d-bae4-c2c0043c8f1c",
   "metadata": {
    "tags": []
   },
   "source": [
    "### Problem 问题描述\n",
    "\n",
    "Observe or play a Tic Tac Toe game, answer the following questions: 观察或者亲自玩一盘TicTacToe游戏，回答下面的问题：\n",
    "\n",
    "1. Describe the how the game is being played 描述这个游戏是怎么玩的？\n",
    "2. How can we mathematically describe the whole game:从数学的角度来描述这个游戏\n",
    "   1. game board 游戏的棋盘\n",
    "   2. player's action in each round 玩家在每一个回合中的动作\n",
    "   3. check the end of the game 判断游戏结束的条件\n",
    "3. try to describe the game board by programming 通过编程来描述棋盘"
   ]
  },
  {
   "cell_type": "markdown",
   "id": "3902b97c-3e50-4ca6-848e-d82e03657fdc",
   "metadata": {},
   "source": [
    "### Math Background 数学背景"
   ]
  },
  {
   "cell_type": "markdown",
   "id": "7a7741c7-f021-4c86-b74f-b651f7aa5919",
   "metadata": {},
   "source": [
    "无"
   ]
  },
  {
   "cell_type": "markdown",
   "id": "8b6a264d-5e40-485b-8e6d-3fae5040f2bb",
   "metadata": {
    "tags": []
   },
   "source": [
    "### Prerequisites 预备知识"
   ]
  },
  {
   "cell_type": "markdown",
   "id": "056e9c9a-6eea-4839-97a0-d91c2cdb426d",
   "metadata": {},
   "source": [
    "1. 3*3 square, 9 positions, each position has three status: '-', 'x', 'o'; \n",
    "2. 2 players\n",
    "3. symbols for first drop: 'x' or 'o'\n",
    "4. players\n",
    "5. player who first makes a line (row, col, diagnoal) wins."
   ]
  },
  {
   "cell_type": "markdown",
   "id": "925507bf-b5ee-4df6-a93a-2d581a8a4a8c",
   "metadata": {
    "tags": []
   },
   "source": [
    "### Solution 编程求解"
   ]
  },
  {
   "cell_type": "code",
   "execution_count": 15,
   "id": "1d47d9ac-358e-4472-8395-cbbd70f63b9a",
   "metadata": {},
   "outputs": [
    {
     "name": "stdout",
     "output_type": "stream",
     "text": [
      "- - -\n",
      "- - -\n",
      "- - -\n"
     ]
    },
    {
     "name": "stdin",
     "output_type": "stream",
     "text": [
      "where is your input: 13\n"
     ]
    },
    {
     "name": "stdout",
     "output_type": "stream",
     "text": [
      "- - o\n",
      "- - -\n",
      "- - -\n"
     ]
    }
   ],
   "source": [
    "place1, place2, place3 = '-', '-', '-'\n",
    "place4, place5, place6 = '-', '-', '-'\n",
    "place7, place8, place9 = '-', '-', '-'\n",
    "print(place1, place2, place3)\n",
    "print(place4, place5, place6)\n",
    "print(place7, place8, place9)\n",
    "\n",
    "o_input = input(\"where is your input:\")\n",
    "if o_input in ['左上', 'LU', 'lu', '11']:\n",
    "    if place1 == '-':\n",
    "        place1 = 'o'\n",
    "    else:\n",
    "        print(\"invalid position\")\n",
    "elif o_input in ['左', 'L', 'l', '21']:\n",
    "    if place4 == '-':\n",
    "        place4 = 'o'\n",
    "    else:\n",
    "        print(\"invalid postion\")\n",
    "elif o_input in ['左下', 'LB', 'lb', '31']:\n",
    "    if place7 == '-':\n",
    "        place7 = 'o'\n",
    "    else:\n",
    "        print(\"invalid postion\")        \n",
    "elif o_input in ['上', 'U', 'u', '12']:\n",
    "    if place2 == '-':\n",
    "        place2 = 'o'\n",
    "    else:\n",
    "        print(\"invalid position\")\n",
    "elif o_input in ['中', 'C', 'c', '22']:\n",
    "    if place5 == '-':\n",
    "        place5 = 'o'\n",
    "    else:\n",
    "        print(\"invalid postion\")\n",
    "elif o_input in ['下', 'B', 'b', '32']:\n",
    "    if place8 == '-':\n",
    "        place8 = 'o'\n",
    "    else:\n",
    "        print(\"invalid postion\")                \n",
    "elif o_input in ['右上', 'RU', 'ru', '13']:\n",
    "    if place3 == '-':\n",
    "        place3 = 'o'\n",
    "    else:\n",
    "        print(\"invalid position\")\n",
    "elif o_input in ['右', 'R', 'r', '23']:\n",
    "    if place6 == '-':\n",
    "        place6 = 'o'\n",
    "    else:\n",
    "        print(\"invalid postion\")\n",
    "elif o_input in ['右下', 'RB', 'rb', '33']:\n",
    "    if place9 == '-':\n",
    "        place9 = 'o'\n",
    "    else:\n",
    "        print(\"invalid postion\")\n",
    "        \n",
    "print(place1, place2, place3)\n",
    "print(place4, place5, place6)\n",
    "print(place7, place8, place9)\n",
    "\n",
    "# TODO: check if the board has a result(someone win? tied?)"
   ]
  },
  {
   "cell_type": "markdown",
   "id": "2142fc0b-ddb7-4d28-894b-42a8355bc759",
   "metadata": {},
   "source": [
    "### Assignments 作业"
   ]
  },
  {
   "cell_type": "markdown",
   "id": "f19cd835-ab7f-4523-bf2b-8790d641c67f",
   "metadata": {},
   "source": [
    "1. Complete your code to handle all 9 positions for a player's action 完成你的代码以便能够处理一个玩家的所有可能的9个位置的行动。"
   ]
  },
  {
   "cell_type": "code",
   "execution_count": null,
   "id": "7c3f8f59-38cb-4f94-a722-5d632795dfec",
   "metadata": {},
   "outputs": [],
   "source": []
  },
  {
   "cell_type": "markdown",
   "id": "4fd31e76-dec8-4fc7-a762-7556b26452b9",
   "metadata": {},
   "source": [
    "2. Improve your code by using a list variable to represent board status 通过使用list类型变量来改善你课堂上编写的代码"
   ]
  },
  {
   "cell_type": "code",
   "execution_count": null,
   "id": "c270bb00-5c2e-443e-b378-f100d9325664",
   "metadata": {},
   "outputs": [],
   "source": []
  },
  {
   "cell_type": "markdown",
   "id": "839eca65-c707-4ad3-b6e0-e7a9e615afdc",
   "metadata": {},
   "source": [
    "3. write code to check if the board has a result(a player win? tie?) after the board status is updated by a player 编写代码来检查在棋盘状态被某玩家更新后是否到达了一个玩家赢了的结果或者和棋的结果。"
   ]
  },
  {
   "cell_type": "code",
   "execution_count": null,
   "id": "1d08b203-f96f-47d6-81f0-ffca85090035",
   "metadata": {},
   "outputs": [],
   "source": []
  },
  {
   "cell_type": "markdown",
   "id": "371ef378-a717-46d3-9b0b-e2d478facac5",
   "metadata": {},
   "source": [
    "4. Try to write a loop to let two players take actions in turn. 尝试编写循环代码让两个玩家轮流落子。"
   ]
  },
  {
   "cell_type": "code",
   "execution_count": null,
   "id": "b195e529-6587-46d9-8851-5edee6aab466",
   "metadata": {},
   "outputs": [],
   "source": []
  }
 ],
 "metadata": {
  "kernelspec": {
   "display_name": "Python 3 (ipykernel)",
   "language": "python",
   "name": "python3"
  },
  "language_info": {
   "codemirror_mode": {
    "name": "ipython",
    "version": 3
   },
   "file_extension": ".py",
   "mimetype": "text/x-python",
   "name": "python",
   "nbconvert_exporter": "python",
   "pygments_lexer": "ipython3",
   "version": "3.9.0"
  }
 },
 "nbformat": 4,
 "nbformat_minor": 5
}
