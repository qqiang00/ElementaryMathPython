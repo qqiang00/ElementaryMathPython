{
 "cells": [
  {
   "cell_type": "markdown",
   "id": "included-education",
   "metadata": {},
   "source": [
    "## 第06讲 绘制正多边形\n",
    "Lecture06 Draw Regular Polygons"
   ]
  },
  {
   "cell_type": "markdown",
   "id": "periodic-register",
   "metadata": {},
   "source": [
    "### Problem 问题\n",
    "\n",
    "Use the methods in the `turtle` module to draw step by step as follows: 使用`turtle`模块里的方法按步骤绘制：\n",
    "\n",
    "1. Open a window(draw area) with both width and height 600; 打开宽高均为600的绘图窗口；\n",
    "2. Reset to make the turtle at the center and heading right; 重置海龟使其位于绘图区中央并朝向右侧；\n",
    "3. Lift up the pen; 抬起绘图笔；\n",
    "4. Move turtle 200 right and 60 backward to its current position(center of the draw area), keep the turtle heading right; 将海龟移动至当前位置(绘图区中央）的右侧200和后方60的位置，保持海龟仍然朝向右侧；\n",
    "5. Put down the pen, start to Draw; 放下绘图笔，准备绘图；\n",
    "6. Use **<span style=\"color:red\">red</span>** color, repeat **3** times: move forward 120, turn **120** degrees to left; 使用红色画笔，重复3次: 向前移动120后向左转120度；\n",
    "7. Use **<span style=\"color:orange\">orange</span>** color, repeat **4** times: move forward 120, turn **90** degrees to left; 使用橙色画笔，重复4次: 向前移动120后向左转90度；\n",
    "8. Use **<span style=\"color:yellow\">yellow</span>** color, repeat **5** times: move forward 120, turn **72** degrees to left; 使用黄色画笔，重复5次: 向前移动120后向左转72度；\n",
    "9. Use **<span style=\"color:green\">green</span>** color, repeat **6** times: move forward 120, turn **60** degrees to left; 使用绿色画笔，重复6次: 向前移动120后向左转60度；\n",
    "10. Use **<span style=\"color:cyan\">cyan</span>** color, repeat **7** times: move forward 120, turn **51.42857** degrees to left; 使用青色画笔，重复7次: 向前移动120后向左转51.42857度；\n",
    "11. Use **<span style=\"color:blue\">blue</span>** color, repeat **8** times: move forward 120, turn **45** degrees to left; 使用蓝色画笔，重复8次: 向前移动120后向左转45度；\n",
    "12. Use **<span style=\"color:purple\">purple</span>** color, repeat **9** times: move forward 120, turn **40** degrees to left; 使用紫色画笔，重复9次: 向前移动120后向左转40度；\n",
    "13. Use **<span style=\"color:black\">black</span>** color, repeat **10** times: move forward 120, turn **36** degrees to left; 使用黑色画笔，重复10次: 向前移动120后向左转36度；\n",
    "14. Hide turtle. 隐藏海龟图标。\n",
    "\n",
    "Finally, you will be get a figure like the following:\n",
    "\n",
    "<img src=\"figures/L006_01_regular_polygons.png\" width = 500>\n",
    "\n",
    "The figures drawn in turn are: regular triangle, regular quadrilateral (square), regular pentagon, regular hexagon, regular heptagon, regular octagon, regular nonagon, and regular decagon. 依次绘制出来的图形分别为：正三角形、正四边形（正方形）、正五边形、正六边形、正七边形、正八边形、正九边形、和正十边形。\n",
    "\n",
    "For each regular polygon, calculate the product of the number of sides and the angle of each turn. 对于每一个正多边形，计算边的数量和每一次转的角度的乘积。Take regular triangle as an example, the product is 3 * 120 = 360, where 3 is the number of sides(edges) and 120 is the degrees of each left turn。以正三角形为例，它的边数为3，每一次转120度，两者的乘积是3*120=360度。"
   ]
  },
  {
   "cell_type": "markdown",
   "id": "animated-batch",
   "metadata": {},
   "source": [
    "### Math Background 数学背景\n",
    "1. 多边形(Polygon)是由有限个线段首尾相连形成的封闭(closed)的平面图形。这些线段称为多边形的边(side or edge)；两条相邻的边相交共有的点成为顶点(vertex, vertices pl.)，\n",
    "1. 任何一个正三角形或边的数量大于3的正多边形的每一条边长(side)相等且每一个顶点(vertex)的内角相等；\n",
    "2. 对于任意一个（正）多边形，其内角和（sum of interior angles）`total_angle`可以用下面的公式来计算：\n",
    "  ```python\n",
    "  total_angle = (num_side - 2) * 180 # 其中，`num_side`表示的是这个（正）多边形的边的数量。\n",
    "  ``` \n",
    "6. 正多边形，其外角和（sum of exterior angles）永远是360度。事实上对于任意一个凸（convex)多边形，即使不是正多边形，其外交和也总是360度。"
   ]
  },
  {
   "cell_type": "markdown",
   "id": "sorted-furniture",
   "metadata": {
    "tags": []
   },
   "source": [
    "### Prerequisites 预备知识"
   ]
  },
  {
   "cell_type": "code",
   "execution_count": 1,
   "id": "7879012d-02eb-4b5b-b3b1-6a9cba77dfdb",
   "metadata": {
    "execution": {
     "iopub.execute_input": "2022-03-19T12:39:28.963460Z",
     "iopub.status.busy": "2022-03-19T12:39:28.961364Z",
     "iopub.status.idle": "2022-03-19T12:39:29.329357Z",
     "shell.execute_reply": "2022-03-19T12:39:29.328058Z"
    }
   },
   "outputs": [],
   "source": [
    "from random import randint\n",
    "from turtle import setup, reset, bye, pu, pd, bk, fd, left, right, st, ht\n",
    "# from turtle import penup, pendown, backward, forward, showturtle, hideturtle\n",
    "from turtle import pencolor\n",
    "setup(600, 400, 0, 0)\n",
    "reset()"
   ]
  },
  {
   "cell_type": "markdown",
   "id": "111202a9-7f9d-40d3-9441-e5c063724f7f",
   "metadata": {
    "tags": []
   },
   "source": [
    "#### 如何使用颜色绘图"
   ]
  },
  {
   "cell_type": "code",
   "execution_count": 2,
   "id": "720819ed-c2bb-4bf2-89f4-8af33a18f47a",
   "metadata": {
    "execution": {
     "iopub.execute_input": "2022-03-19T12:39:29.336089Z",
     "iopub.status.busy": "2022-03-19T12:39:29.335144Z",
     "iopub.status.idle": "2022-03-19T12:39:29.446173Z",
     "shell.execute_reply": "2022-03-19T12:39:29.446692Z"
    }
   },
   "outputs": [],
   "source": [
    "pencolor(\"red\") # \n",
    "fd(100)"
   ]
  },
  {
   "cell_type": "markdown",
   "id": "13385e4a-66c6-4af8-adc0-5e5a35abfc85",
   "metadata": {},
   "source": [
    "彩虹色的名称分别为\"red\",\"orange\",\"yellow\",\"green\",\"cyan\",\"blue\",\"purple\"。"
   ]
  },
  {
   "cell_type": "markdown",
   "id": "94fd4f92-bb74-487e-8bc5-e3576eac3dcf",
   "metadata": {
    "tags": []
   },
   "source": [
    "#### 如何简化重复的代码\n",
    "\n",
    "以正三角形为例"
   ]
  },
  {
   "cell_type": "code",
   "execution_count": 3,
   "id": "b07bdf84-6814-42be-a1be-9316ebda6d90",
   "metadata": {
    "execution": {
     "iopub.execute_input": "2022-03-19T12:39:29.452040Z",
     "iopub.status.busy": "2022-03-19T12:39:29.451032Z",
     "iopub.status.idle": "2022-03-19T12:39:29.487225Z",
     "shell.execute_reply": "2022-03-19T12:39:29.486477Z"
    }
   },
   "outputs": [],
   "source": [
    "reset()\n",
    "pencolor(\"red\")\n",
    "side = 120"
   ]
  },
  {
   "cell_type": "code",
   "execution_count": 4,
   "id": "numeric-metallic",
   "metadata": {
    "execution": {
     "iopub.execute_input": "2022-03-19T12:39:29.492348Z",
     "iopub.status.busy": "2022-03-19T12:39:29.491690Z",
     "iopub.status.idle": "2022-03-19T12:39:30.368558Z",
     "shell.execute_reply": "2022-03-19T12:39:30.370665Z"
    }
   },
   "outputs": [],
   "source": [
    "# Shape1 Regular Triangle(3-gon)\n",
    "degree = 120\n",
    "fd(side)\n",
    "left(degree)\n",
    "fd(side)\n",
    "left(degree)\n",
    "fd(side)\n",
    "left(degree)"
   ]
  },
  {
   "cell_type": "markdown",
   "id": "ebe546fe-332f-4a84-9ef4-baa28b2d301a",
   "metadata": {},
   "source": [
    "上面的代码可以用下面的代码替换"
   ]
  },
  {
   "cell_type": "code",
   "execution_count": 5,
   "id": "f92758b5-6369-4673-b716-6cf397d7fead",
   "metadata": {
    "execution": {
     "iopub.execute_input": "2022-03-19T12:39:30.384325Z",
     "iopub.status.busy": "2022-03-19T12:39:30.382367Z",
     "iopub.status.idle": "2022-03-19T12:39:31.244870Z",
     "shell.execute_reply": "2022-03-19T12:39:31.245776Z"
    }
   },
   "outputs": [],
   "source": [
    "n_sides_drawn, n_sides_to_draw = 0, 3\n",
    "degree = 120 # degrees to turn after each move\n",
    "while n_sides_drawn < n_sides_to_draw:\n",
    "    fd(side)\n",
    "    left(degree)\n",
    "    n_sides_drawn = n_sides_drawn + 1"
   ]
  },
  {
   "cell_type": "markdown",
   "id": "89be42b8-40fd-4f70-ad17-83f9cd955dc0",
   "metadata": {},
   "source": [
    "**Exercise**\n",
    "1. use `while` loop to draw a regular hexagon(6-gon) 使用`while`循环化一个正六边形"
   ]
  },
  {
   "cell_type": "code",
   "execution_count": null,
   "id": "8344423a-c3a6-404e-9a33-0ccc4b75565a",
   "metadata": {},
   "outputs": [],
   "source": []
  },
  {
   "cell_type": "markdown",
   "id": "be73c70a-f090-4bc3-92e0-14f4c38dccc7",
   "metadata": {},
   "source": [
    "2. Run the following code and describe how turtle is walking 运行下面的代码描述海龟的运行路线"
   ]
  },
  {
   "cell_type": "code",
   "execution_count": 6,
   "id": "57b368b5-9de8-42a7-aa46-b46659bf3bf9",
   "metadata": {
    "execution": {
     "iopub.execute_input": "2022-03-19T12:39:31.255780Z",
     "iopub.status.busy": "2022-03-19T12:39:31.254002Z",
     "iopub.status.idle": "2022-03-19T12:39:53.877621Z",
     "shell.execute_reply": "2022-03-19T12:39:53.876643Z"
    }
   },
   "outputs": [],
   "source": [
    "from turtle import left, fd, reset, ht, setup\n",
    "setup(600, 600) \n",
    "reset()\n",
    "ht()\n",
    "for i in range(50):\n",
    "    left(7.2)\n",
    "    fd(200)\n",
    "    left(180)\n",
    "    \n"
   ]
  },
  {
   "cell_type": "markdown",
   "id": "edacb659-dafd-41fd-b19d-5bded4563db8",
   "metadata": {},
   "source": [
    "### Solution 编程求解"
   ]
  },
  {
   "cell_type": "code",
   "execution_count": 7,
   "id": "hidden-farmer",
   "metadata": {
    "execution": {
     "iopub.execute_input": "2022-03-19T12:39:53.883201Z",
     "iopub.status.busy": "2022-03-19T12:39:53.882527Z",
     "iopub.status.idle": "2022-03-19T12:39:53.885385Z",
     "shell.execute_reply": "2022-03-19T12:39:53.884724Z"
    }
   },
   "outputs": [],
   "source": [
    "from random import randint\n",
    "from turtle import setup, reset, bye, pu, pd, bk, fd, left, right, st, ht\n",
    "# from turtle import penup, pendown, backward, forward, showturtle, hideturtle\n",
    "from turtle import pencolor"
   ]
  },
  {
   "cell_type": "code",
   "execution_count": 8,
   "id": "comic-grill",
   "metadata": {
    "execution": {
     "iopub.execute_input": "2022-03-19T12:39:53.889903Z",
     "iopub.status.busy": "2022-03-19T12:39:53.889207Z",
     "iopub.status.idle": "2022-03-19T12:39:53.911654Z",
     "shell.execute_reply": "2022-03-19T12:39:53.911122Z"
    }
   },
   "outputs": [],
   "source": [
    "# prepare a draw area with length 600px and width 400 px\n",
    "# 准备一个窗口，宽度600像素，高度400像素\n",
    "setup(600, 600, 0, 0) \n",
    "side = 120\n",
    "half_side = side / 2"
   ]
  },
  {
   "cell_type": "code",
   "execution_count": 9,
   "id": "ac2746dc-d631-46cd-a9bb-227846f8a7bd",
   "metadata": {
    "execution": {
     "iopub.execute_input": "2022-03-19T12:39:53.916588Z",
     "iopub.status.busy": "2022-03-19T12:39:53.916091Z",
     "iopub.status.idle": "2022-03-19T12:39:54.716335Z",
     "shell.execute_reply": "2022-03-19T12:39:54.715538Z"
    }
   },
   "outputs": [],
   "source": [
    "# move to a specified place\n",
    "reset()                                  # 重置海龟（位置和朝向）\n",
    "pu()                                     # 抬起画笔\n",
    "right(90)                                # 右转90度\n",
    "fd(200)                                  # 前进200\n",
    "right(90)                                # 右转90度\n",
    "fd(half_side)                            # 前进200\n",
    "right(180)                               # 右转180度（调头，使海龟朝向右侧）\n",
    "pd()                                     # 放下画笔，准备绘图"
   ]
  },
  {
   "cell_type": "markdown",
   "id": "ca3cae67-0e08-48a9-8555-63ffb498f541",
   "metadata": {},
   "source": [
    "#### Solution1 方案1"
   ]
  },
  {
   "cell_type": "code",
   "execution_count": 10,
   "id": "78370d4f-c912-42dd-869f-c7241827f16a",
   "metadata": {
    "execution": {
     "iopub.execute_input": "2022-03-19T12:39:54.722286Z",
     "iopub.status.busy": "2022-03-19T12:39:54.721601Z",
     "iopub.status.idle": "2022-03-19T12:39:55.598725Z",
     "shell.execute_reply": "2022-03-19T12:39:55.598120Z"
    }
   },
   "outputs": [],
   "source": [
    "# draw regular triangle\n",
    "pencolor(\"red\")                          # 使用红色画笔绘制\n",
    "n_sides_drawn, n_sides_total = 0, 3      # 已经绘制的边的数量和一共需要绘制的边的数量\n",
    "degree = 120                             # 每一次移动之后需要转动的角度\n",
    "while n_sides_drawn < n_sides_total:     # 如果已经绘制的边的数量小于一共要绘制的边的数量，执行循环体\n",
    "    fd(side)                             # 前进一定长度\n",
    "    left(degree)                         # 左转一定角度\n",
    "    n_sides_drawn = n_sides_drawn + 1    # 完成上两步后，表明一条边已经绘制好，且已准备好绘制下一条边，这是退出循环的关键代码"
   ]
  },
  {
   "cell_type": "code",
   "execution_count": 11,
   "id": "dee7206f-2693-4830-b375-d7aa81aeef32",
   "metadata": {
    "execution": {
     "iopub.execute_input": "2022-03-19T12:39:55.603053Z",
     "iopub.status.busy": "2022-03-19T12:39:55.602522Z",
     "iopub.status.idle": "2022-03-19T12:39:56.610054Z",
     "shell.execute_reply": "2022-03-19T12:39:56.609586Z"
    }
   },
   "outputs": [],
   "source": [
    "pencolor(\"orange\")\n",
    "n_sides_drawn, n_sides_total = 0, 4\n",
    "degree = 360/n_sides_total             \n",
    "while n_sides_drawn < n_sides_total:\n",
    "    fd(side)\n",
    "    left(degree)\n",
    "    n_sides_drawn = n_sides_drawn + 1"
   ]
  },
  {
   "cell_type": "code",
   "execution_count": 12,
   "id": "258166ed-2ebd-4df2-a9e1-3b6ea46513c1",
   "metadata": {
    "execution": {
     "iopub.execute_input": "2022-03-19T12:39:56.614035Z",
     "iopub.status.busy": "2022-03-19T12:39:56.613540Z",
     "iopub.status.idle": "2022-03-19T12:39:57.806837Z",
     "shell.execute_reply": "2022-03-19T12:39:57.808213Z"
    }
   },
   "outputs": [],
   "source": [
    "pencolor(\"yellow\")\n",
    "n_sides_drawn, n_sides_total = 0, 5\n",
    "degree = 360/n_sides_total             \n",
    "while n_sides_drawn < n_sides_total:\n",
    "    fd(side)\n",
    "    left(degree)\n",
    "    n_sides_drawn = n_sides_drawn + 1"
   ]
  },
  {
   "cell_type": "code",
   "execution_count": 13,
   "id": "aea344cc-14d5-48a8-a106-9623f5d6977e",
   "metadata": {
    "execution": {
     "iopub.execute_input": "2022-03-19T12:39:57.820636Z",
     "iopub.status.busy": "2022-03-19T12:39:57.819011Z",
     "iopub.status.idle": "2022-03-19T12:39:59.107485Z",
     "shell.execute_reply": "2022-03-19T12:39:59.108689Z"
    }
   },
   "outputs": [],
   "source": [
    "pencolor(\"green\")\n",
    "n_sides_drawn, n_sides_total = 0, 6\n",
    "degree = 360/n_sides_total             \n",
    "while n_sides_drawn < n_sides_total:\n",
    "    fd(side)\n",
    "    left(degree)\n",
    "    n_sides_drawn = n_sides_drawn + 1"
   ]
  },
  {
   "cell_type": "code",
   "execution_count": 14,
   "id": "00593ba2-ebd6-440b-a758-5f7d2cee0419",
   "metadata": {
    "execution": {
     "iopub.execute_input": "2022-03-19T12:39:59.119271Z",
     "iopub.status.busy": "2022-03-19T12:39:59.117728Z",
     "iopub.status.idle": "2022-03-19T12:40:00.540408Z",
     "shell.execute_reply": "2022-03-19T12:40:00.539484Z"
    }
   },
   "outputs": [],
   "source": [
    "pencolor(\"cyan\")\n",
    "n_sides_drawn, n_sides_total = 0, 7\n",
    "degree = 360/n_sides_total             \n",
    "while n_sides_drawn < n_sides_total:\n",
    "    fd(side)\n",
    "    left(degree)\n",
    "    n_sides_drawn = n_sides_drawn + 1"
   ]
  },
  {
   "cell_type": "code",
   "execution_count": 15,
   "id": "3132ce69-b39f-4094-81dd-a07794a52468",
   "metadata": {
    "execution": {
     "iopub.execute_input": "2022-03-19T12:40:00.548853Z",
     "iopub.status.busy": "2022-03-19T12:40:00.547383Z",
     "iopub.status.idle": "2022-03-19T12:40:02.175098Z",
     "shell.execute_reply": "2022-03-19T12:40:02.174302Z"
    }
   },
   "outputs": [],
   "source": [
    "pencolor(\"blue\")\n",
    "n_sides_drawn, n_sides_total = 0, 8\n",
    "degree = 360/n_sides_total             \n",
    "while n_sides_drawn < n_sides_total:\n",
    "    fd(side)\n",
    "    left(degree)\n",
    "    n_sides_drawn = n_sides_drawn + 1"
   ]
  },
  {
   "cell_type": "code",
   "execution_count": 16,
   "id": "10aa4c4e-8994-443c-a540-337192b4fa74",
   "metadata": {
    "execution": {
     "iopub.execute_input": "2022-03-19T12:40:02.178993Z",
     "iopub.status.busy": "2022-03-19T12:40:02.178491Z",
     "iopub.status.idle": "2022-03-19T12:40:03.931637Z",
     "shell.execute_reply": "2022-03-19T12:40:03.929939Z"
    }
   },
   "outputs": [],
   "source": [
    "pencolor(\"purple\")\n",
    "n_sides_drawn, n_sides_total = 0, 9\n",
    "degree = 360/n_sides_total             \n",
    "while n_sides_drawn < n_sides_total:\n",
    "    fd(side)\n",
    "    left(degree)\n",
    "    n_sides_drawn = n_sides_drawn + 1"
   ]
  },
  {
   "cell_type": "code",
   "execution_count": 17,
   "id": "597967c2-9e36-4f44-803e-796f58653dbe",
   "metadata": {
    "execution": {
     "iopub.execute_input": "2022-03-19T12:40:03.943777Z",
     "iopub.status.busy": "2022-03-19T12:40:03.942101Z",
     "iopub.status.idle": "2022-03-19T12:40:05.911697Z",
     "shell.execute_reply": "2022-03-19T12:40:05.911122Z"
    }
   },
   "outputs": [],
   "source": [
    "pencolor(\"black\")\n",
    "n_sides_drawn, n_sides_total = 0, 10\n",
    "degree = 360/n_sides_total             \n",
    "while n_sides_drawn < n_sides_total:\n",
    "    fd(side)\n",
    "    left(degree)\n",
    "    n_sides_drawn = n_sides_drawn + 1"
   ]
  },
  {
   "cell_type": "code",
   "execution_count": 18,
   "id": "a07af359-c4a8-41db-a24c-e7bf5e4cd5e3",
   "metadata": {
    "execution": {
     "iopub.execute_input": "2022-03-19T12:40:05.915453Z",
     "iopub.status.busy": "2022-03-19T12:40:05.914903Z",
     "iopub.status.idle": "2022-03-19T12:40:05.928670Z",
     "shell.execute_reply": "2022-03-19T12:40:05.928083Z"
    }
   },
   "outputs": [],
   "source": [
    "ht()"
   ]
  },
  {
   "cell_type": "markdown",
   "id": "00a66af5-6ce4-42c2-ab51-e658b672dffe",
   "metadata": {
    "tags": []
   },
   "source": [
    "#### Solution2 方案2"
   ]
  },
  {
   "cell_type": "code",
   "execution_count": 19,
   "id": "d4ee07e4-113c-427a-8a93-ecfe49f6eb74",
   "metadata": {
    "execution": {
     "iopub.execute_input": "2022-03-19T12:40:05.932964Z",
     "iopub.status.busy": "2022-03-19T12:40:05.932427Z",
     "iopub.status.idle": "2022-03-19T12:40:06.759136Z",
     "shell.execute_reply": "2022-03-19T12:40:06.760390Z"
    }
   },
   "outputs": [],
   "source": [
    "# move to a specified place\n",
    "reset()\n",
    "pu()\n",
    "right(90)\n",
    "fd(200)\n",
    "right(90)\n",
    "fd(half_side)\n",
    "right(180)\n",
    "pd()"
   ]
  },
  {
   "cell_type": "code",
   "execution_count": 20,
   "id": "a6a0e877-2561-4e28-bca3-67a182323ec7",
   "metadata": {
    "execution": {
     "iopub.execute_input": "2022-03-19T12:40:06.775383Z",
     "iopub.status.busy": "2022-03-19T12:40:06.773722Z",
     "iopub.status.idle": "2022-03-19T12:40:17.969896Z",
     "shell.execute_reply": "2022-03-19T12:40:17.971298Z"
    }
   },
   "outputs": [],
   "source": [
    "colors = [\"red\", \"orange\", \"yellow\", \"green\", \"cyan\", \"blue\", \"purple\", \"black\"]\n",
    "n_edges = [3, 4, 5, 6, 7, 8, 9, 10]\n",
    "n_polygon_drawn = 0\n",
    "n_polygon_to_draw = len(n_edges)   # 8 polygons to draw\n",
    "while n_polygon_drawn < n_polygon_to_draw:\n",
    "    pencolor(colors[n_polygon_drawn])\n",
    "    degree = 360 / n_edges[n_polygon_drawn]\n",
    "    n_sides_drawn, n_sides_to_draw = 0, n_edges[n_polygon_drawn]\n",
    "    while n_sides_drawn < n_sides_to_draw:\n",
    "        fd(side)\n",
    "        left(degree)\n",
    "        n_sides_drawn = n_sides_drawn + 1\n",
    "        \n",
    "    n_polygon_drawn += 1\n",
    "    \n",
    "ht()"
   ]
  },
  {
   "cell_type": "markdown",
   "id": "2fce4645-f056-4be7-86d7-886d8b72c44e",
   "metadata": {},
   "source": [
    "### Summary 知识点小结\n",
    "\n",
    "1. `while`循环，语法格式，缩进；格式类似于`if`语句，有条件判断表达式，但没有对应的`else`部分；循环执行的代码部分称为循环体\n",
    "2. `while`循环内部也可以有`while`循环；\n",
    "3. 循环语句必须在循环体内部设置一个终止（跳出）循环的条件，否则计算机一旦执行到循环体代码，就一直执行不会跳出；这种情况称为“死循环”；"
   ]
  },
  {
   "cell_type": "markdown",
   "id": "bc1af148-1c1d-4b2b-90d9-5a87aab8ebc2",
   "metadata": {},
   "source": [
    "### CS Tips 计算机小知识\n",
    "\n",
    "Red, green and blue are the three most basic colors, called the three primary colors of color. The colorful images seen on the computer monitor are formed by these three primary colors in different proportions. Each color point(pixel) on a display device is made up of physical component that can individually create red, green, and blue colors. 红色绿色蓝色是最基本的三种颜色，称为色彩的三原色。计算机显示器上看到的丰富多彩的颜色都是有这三种颜色按照不同的比例调和形成。显示器上的每一个色彩点都是由能单独形成红、绿、蓝颜色的设备组成。"
   ]
  },
  {
   "cell_type": "markdown",
   "id": "f9f70484-6376-4931-90fd-d86eca0986cd",
   "metadata": {},
   "source": [
    "### Assignments 作业"
   ]
  },
  {
   "cell_type": "markdown",
   "id": "digital-consensus",
   "metadata": {},
   "source": [
    "1. 仿照本讲示例，绘制边长为50的正二十边形。海龟起始点同本讲示例；颜色任选。"
   ]
  },
  {
   "cell_type": "code",
   "execution_count": 21,
   "id": "ea26b4cd-8b73-4f0d-87d6-256ad9732a53",
   "metadata": {
    "execution": {
     "iopub.execute_input": "2022-03-19T12:40:17.986833Z",
     "iopub.status.busy": "2022-03-19T12:40:17.984382Z",
     "iopub.status.idle": "2022-03-19T12:40:18.880619Z",
     "shell.execute_reply": "2022-03-19T12:40:18.880215Z"
    }
   },
   "outputs": [
    {
     "ename": "TypeError",
     "evalue": "unsupported operand type(s) for /: 'int' and 'list'",
     "output_type": "error",
     "traceback": [
      "\u001b[0;31m---------------------------------------------------------------------------\u001b[0m",
      "\u001b[0;31mTypeError\u001b[0m                                 Traceback (most recent call last)",
      "\u001b[0;32m<ipython-input-1-d04034e7f055>\u001b[0m in \u001b[0;36m<module>\u001b[0;34m\u001b[0m\n\u001b[1;32m      9\u001b[0m \u001b[0mpencolor\u001b[0m\u001b[0;34m(\u001b[0m\u001b[0;34m\"red\"\u001b[0m\u001b[0;34m)\u001b[0m\u001b[0;34m\u001b[0m\u001b[0;34m\u001b[0m\u001b[0m\n\u001b[1;32m     10\u001b[0m \u001b[0mside\u001b[0m\u001b[0;34m,\u001b[0m \u001b[0mn_sides_to_draw\u001b[0m \u001b[0;34m=\u001b[0m \u001b[0;36m50\u001b[0m\u001b[0;34m,\u001b[0m \u001b[0;36m20\u001b[0m\u001b[0;34m\u001b[0m\u001b[0;34m\u001b[0m\u001b[0m\n\u001b[0;32m---> 11\u001b[0;31m \u001b[0mdegree\u001b[0m \u001b[0;34m=\u001b[0m \u001b[0;36m360\u001b[0m\u001b[0;34m/\u001b[0m\u001b[0mn_edges\u001b[0m\u001b[0;34m\u001b[0m\u001b[0;34m\u001b[0m\u001b[0m\n\u001b[0m\u001b[1;32m     12\u001b[0m \u001b[0mn_sides_drawn\u001b[0m \u001b[0;34m=\u001b[0m \u001b[0;36m0\u001b[0m\u001b[0;34m\u001b[0m\u001b[0;34m\u001b[0m\u001b[0m\n\u001b[1;32m     13\u001b[0m \u001b[0mdegree\u001b[0m \u001b[0;34m=\u001b[0m \u001b[0;36m360\u001b[0m\u001b[0;34m/\u001b[0m\u001b[0mn_sides_to_draw\u001b[0m             \u001b[0;31m# degrees to turn after each move\u001b[0m\u001b[0;34m\u001b[0m\u001b[0;34m\u001b[0m\u001b[0m\n",
      "\u001b[0;31mTypeError\u001b[0m: unsupported operand type(s) for /: 'int' and 'list'"
     ]
    }
   ],
   "source": [
    "reset()\n",
    "pu()\n",
    "right(90)\n",
    "fd(200)\n",
    "right(90)\n",
    "fd(half_side)\n",
    "right(180)\n",
    "pd()\n",
    "pencolor(\"red\")\n",
    "side, n_sides_to_draw = 50, 20\n",
    "degree = 360/n_edges\n",
    "n_sides_drawn = 0\n",
    "degree = 360/n_sides_to_draw             # degrees to turn after each move\n",
    "while n_sides_drawn < n_sides_to_draw:\n",
    "    fd(side)\n",
    "    left(degree)\n",
    "    n_sides_drawn = n_sides_drawn + 1"
   ]
  },
  {
   "cell_type": "markdown",
   "id": "9ca5ecdf-36eb-4d41-bdac-130707951492",
   "metadata": {},
   "source": [
    "2. 仿照本讲示例，绘制边长为10的正一百边形。通过修改刚开始绘图时海龟的位置，使得绘制的正一百边形在绘图区域**左右**居中，颜色任选。"
   ]
  },
  {
   "cell_type": "code",
   "execution_count": 22,
   "id": "d11874ff-1700-468e-8289-b9c69fa64eb5",
   "metadata": {
    "execution": {
     "iopub.execute_input": "2022-03-19T12:40:18.884556Z",
     "iopub.status.busy": "2022-03-19T12:40:18.883962Z",
     "iopub.status.idle": "2022-03-19T12:40:19.667049Z",
     "shell.execute_reply": "2022-03-19T12:40:19.667894Z"
    }
   },
   "outputs": [
    {
     "ename": "TypeError",
     "evalue": "unsupported operand type(s) for /: 'int' and 'list'",
     "output_type": "error",
     "traceback": [
      "\u001b[0;31m---------------------------------------------------------------------------\u001b[0m",
      "\u001b[0;31mTypeError\u001b[0m                                 Traceback (most recent call last)",
      "\u001b[0;32m<ipython-input-1-63c16e2d3223>\u001b[0m in \u001b[0;36m<module>\u001b[0;34m\u001b[0m\n\u001b[1;32m     11\u001b[0m \u001b[0mpencolor\u001b[0m\u001b[0;34m(\u001b[0m\u001b[0;34m\"red\"\u001b[0m\u001b[0;34m)\u001b[0m\u001b[0;34m\u001b[0m\u001b[0;34m\u001b[0m\u001b[0m\n\u001b[1;32m     12\u001b[0m \u001b[0;34m\u001b[0m\u001b[0m\n\u001b[0;32m---> 13\u001b[0;31m \u001b[0mdegree\u001b[0m \u001b[0;34m=\u001b[0m \u001b[0;36m360\u001b[0m\u001b[0;34m/\u001b[0m\u001b[0mn_edges\u001b[0m\u001b[0;34m\u001b[0m\u001b[0;34m\u001b[0m\u001b[0m\n\u001b[0m\u001b[1;32m     14\u001b[0m \u001b[0mn_sides_drawn\u001b[0m \u001b[0;34m=\u001b[0m \u001b[0;36m0\u001b[0m\u001b[0;34m\u001b[0m\u001b[0;34m\u001b[0m\u001b[0m\n\u001b[1;32m     15\u001b[0m \u001b[0mdegree\u001b[0m \u001b[0;34m=\u001b[0m \u001b[0;36m360\u001b[0m\u001b[0;34m/\u001b[0m\u001b[0mn_sides_to_draw\u001b[0m             \u001b[0;31m# degrees to turn after each move\u001b[0m\u001b[0;34m\u001b[0m\u001b[0;34m\u001b[0m\u001b[0m\n",
      "\u001b[0;31mTypeError\u001b[0m: unsupported operand type(s) for /: 'int' and 'list'"
     ]
    }
   ],
   "source": [
    "side, n_sides_to_draw = 10, 100\n",
    "\n",
    "reset()\n",
    "pu()\n",
    "right(90)\n",
    "fd(200)\n",
    "right(90)\n",
    "fd(side/2)\n",
    "right(180)\n",
    "pd()\n",
    "pencolor(\"red\")\n",
    "\n",
    "degree = 360/n_edges\n",
    "n_sides_drawn = 0\n",
    "degree = 360/n_sides_to_draw             # degrees to turn after each move\n",
    "while n_sides_drawn < n_sides_to_draw:\n",
    "    fd(side)\n",
    "    left(degree)\n",
    "    n_sides_drawn = n_sides_drawn + 1"
   ]
  },
  {
   "cell_type": "markdown",
   "id": "3c843578-33b0-4e36-a753-35a6fd639f9f",
   "metadata": {},
   "source": [
    "3. 使用`while`循环绘制下图。要求：\n",
    "      - 所有的三个正方形都完全位于尺寸为600×400的绘图区域的中心；\n",
    "      - 三个正方形的边长依次为250，150，和50。\n",
    "      - 给每一行代码添加注释，解释其作用。\n",
    "\n",
    "   <img src = \"figures/L005_01_squares.png\" width = 500>"
   ]
  },
  {
   "cell_type": "code",
   "execution_count": null,
   "id": "77dabcbe-f4b3-4b3b-a3df-6fc36acefff9",
   "metadata": {},
   "outputs": [],
   "source": []
  },
  {
   "cell_type": "markdown",
   "id": "6de8eb4b-5674-4052-b804-99501e591f56",
   "metadata": {},
   "source": [
    "4. 使用`turtle`绘图库中已经学过的方法，在一个或多个代码单元格中编写任意行数的代码，绘制出按下面排列的一组(5个)正方形。具体要求：\n",
    "   - 最中间的正方形位于画布（绘图区）的正中央；\n",
    "   - 每一个正方形的边长为80；\n",
    "   - 你的代码可以使用也可以不使用`while`循环语句；\n",
    "   - 给每一行代码添加注释，解释其作用。\n",
    "   \n",
    "   \n",
    "   <img src = \"figures/L006_e03_square_combinations.png\" width = 500>"
   ]
  },
  {
   "cell_type": "code",
   "execution_count": null,
   "id": "cd59a905-c3cb-44d0-83c4-aa37fd3ed24a",
   "metadata": {},
   "outputs": [],
   "source": []
  },
  {
   "cell_type": "markdown",
   "id": "adca4acd-8c5f-4992-aec1-223e48207e37",
   "metadata": {},
   "source": [
    "5. 使用`while`循环，使用`randint`方法，编程完成下面两小题:\n",
    "    - 生成100个范围在1,100（包括1和100）的随机数，计算这100个随机数的平均数，并计算该平均数与50的差值。打印这个平均数和得到的差。\n",
    "    - 生成10000个这样的随机数，计算平均值和平均值与50的差，打印出来。"
   ]
  },
  {
   "cell_type": "code",
   "execution_count": 23,
   "id": "f8edd849-bb6f-4f26-80d5-b94a45d59d86",
   "metadata": {
    "execution": {
     "iopub.execute_input": "2022-03-19T12:40:19.675695Z",
     "iopub.status.busy": "2022-03-19T12:40:19.674679Z",
     "iopub.status.idle": "2022-03-19T12:40:19.679104Z",
     "shell.execute_reply": "2022-03-19T12:40:19.678381Z"
    }
   },
   "outputs": [
    {
     "name": "stdout",
     "output_type": "stream",
     "text": [
      "avg:  50.43 diff to 50 is: 0.4299999999999997\n"
     ]
    }
   ],
   "source": [
    "from random import randint\n",
    "n = 100\n",
    "i = 0\n",
    "num, sum_num = 0, 0\n",
    "while i < n:\n",
    "    num = randint(1, 100)\n",
    "    sum_num += num\n",
    "    i += 1\n",
    "    \n",
    "avg = sum_num / n\n",
    "diff = avg - 50\n",
    "print(\"avg: \", avg, \"diff to 50 is:\", diff)"
   ]
  },
  {
   "cell_type": "code",
   "execution_count": 24,
   "id": "2e3bd543-88c8-42b6-96ce-40a83bbf0dbe",
   "metadata": {
    "execution": {
     "iopub.execute_input": "2022-03-19T12:40:19.692721Z",
     "iopub.status.busy": "2022-03-19T12:40:19.686930Z",
     "iopub.status.idle": "2022-03-19T12:40:19.695091Z",
     "shell.execute_reply": "2022-03-19T12:40:19.695438Z"
    }
   },
   "outputs": [
    {
     "name": "stdout",
     "output_type": "stream",
     "text": [
      "avg:  50.6685 diff to 50 is: 0.6685000000000016\n"
     ]
    }
   ],
   "source": [
    "from random import randint\n",
    "n = 10000\n",
    "i = 0\n",
    "num, sum_num = 0, 0\n",
    "while i < n:\n",
    "    num = randint(1, 100)\n",
    "    sum_num += num\n",
    "    i += 1\n",
    "    \n",
    "avg = sum_num / n\n",
    "diff = avg - 50\n",
    "print(\"avg: \", avg, \"diff to 50 is:\", diff)"
   ]
  },
  {
   "cell_type": "markdown",
   "id": "6c8edb19-5555-4e4c-b0b6-8870f8b29ac5",
   "metadata": {},
   "source": []
  }
 ],
 "metadata": {
  "kernelspec": {
   "display_name": "Python 3 (ipykernel)",
   "language": "python",
   "name": "python3"
  },
  "language_info": {
   "codemirror_mode": {
    "name": "ipython",
    "version": 3
   },
   "file_extension": ".py",
   "mimetype": "text/x-python",
   "name": "python",
   "nbconvert_exporter": "python",
   "pygments_lexer": "ipython3",
   "version": "3.8.10"
  }
 },
 "nbformat": 4,
 "nbformat_minor": 5
}
