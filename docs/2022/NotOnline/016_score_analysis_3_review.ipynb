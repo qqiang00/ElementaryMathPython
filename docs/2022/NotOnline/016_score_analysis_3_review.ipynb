{
 "cells": [
  {
   "cell_type": "markdown",
   "id": "relative-location",
   "metadata": {},
   "source": [
    "## 第15讲 作业讲解——分析考试成绩（三）\n",
    "\n",
    "给成绩排序\n",
    "\n",
    "Lecture 15. Analysis Exam Scores(Part 3) Sorting"
   ]
  },
  {
   "cell_type": "markdown",
   "id": "digital-consensus",
   "metadata": {
    "heading_collapsed": true
   },
   "source": [
    "### Assignments 作业"
   ]
  },
  {
   "cell_type": "markdown",
   "id": "controversial-sleeve",
   "metadata": {
    "hidden": true
   },
   "source": [
    "1. Analyze the sort code shown in the following cell for picking card game introduced in this lecture, please answer:\n",
    "    \n",
    "    分析本讲给出的如下单元格所示摸牌排序代码，请你回答：\n",
    "    \n",
    "    1. Which code line is actually performing the action of **comparing the card picked and a card in left hand**? 其中的哪一行代码是在**比较右手中摸到的牌和左手中某一张牌的大小**\n",
    "    2. Add some codes so that the programm can additionaly output how many times the comparing action is performed during each card picking process. Sum up the times together to tell the comparing times for the whole soring process. 在下面的代码中添加一些代码，使得程序能够额外输出：在每一次摸牌中程序分别进行了多少次两张牌大小的比较，以及完成所有的摸牌，程序一共进行了多少次两张牌大小的比较；"
   ]
  },
  {
   "cell_type": "code",
   "execution_count": 1,
   "id": "52018e2c-d589-4bee-8d1c-d03551f4e57f",
   "metadata": {},
   "outputs": [
    {
     "name": "stdout",
     "output_type": "stream",
     "text": [
      "\n",
      "Pick 0\n",
      "  Before Insert: cards in left hand: []\n",
      "  Card picked:0\n",
      "  为了插入0,比较了0次\n",
      "  Pos for the card: 0\n",
      "  After insert, cards in left Hand: [0]\n",
      "\n",
      "Pick 1\n",
      "  Before Insert: cards in left hand: [0]\n",
      "  Card picked:5\n",
      "  为了插入5,比较了1次\n",
      "  Pos for the card: 1\n",
      "  After insert, cards in left Hand: [0, 5]\n",
      "\n",
      "Pick 2\n",
      "  Before Insert: cards in left hand: [0, 5]\n",
      "  Card picked:3\n",
      "  为了插入3,比较了2次\n",
      "  Pos for the card: 1\n",
      "  After insert, cards in left Hand: [0, 3, 5]\n",
      "\n",
      "Pick 3\n",
      "  Before Insert: cards in left hand: [0, 3, 5]\n",
      "  Card picked:7\n",
      "  为了插入7,比较了3次\n",
      "  Pos for the card: 3\n",
      "  After insert, cards in left Hand: [0, 3, 5, 7]\n",
      "\n",
      "Pick 4\n",
      "  Before Insert: cards in left hand: [0, 3, 5, 7]\n",
      "  Card picked:6\n",
      "  为了插入6,比较了4次\n",
      "  Pos for the card: 3\n",
      "  After insert, cards in left Hand: [0, 3, 5, 6, 7]\n",
      "\n",
      "Pick 5\n",
      "  Before Insert: cards in left hand: [0, 3, 5, 6, 7]\n",
      "  Card picked:1\n",
      "  为了插入1,比较了2次\n",
      "  Pos for the card: 1\n",
      "  After insert, cards in left Hand: [0, 1, 3, 5, 6, 7]\n",
      "\n",
      "Pick 6\n",
      "  Before Insert: cards in left hand: [0, 1, 3, 5, 6, 7]\n",
      "  Card picked:2\n",
      "  为了插入2,比较了3次\n",
      "  Pos for the card: 2\n",
      "  After insert, cards in left Hand: [0, 1, 2, 3, 5, 6, 7]\n",
      "\n",
      "Pick 7\n",
      "  Before Insert: cards in left hand: [0, 1, 2, 3, 5, 6, 7]\n",
      "  Card picked:9\n",
      "  为了插入9,比较了7次\n",
      "  Pos for the card: 7\n",
      "  After insert, cards in left Hand: [0, 1, 2, 3, 5, 6, 7, 9]\n",
      "\n",
      "Pick 8\n",
      "  Before Insert: cards in left hand: [0, 1, 2, 3, 5, 6, 7, 9]\n",
      "  Card picked:4\n",
      "  为了插入4,比较了5次\n",
      "  Pos for the card: 4\n",
      "  After insert, cards in left Hand: [0, 1, 2, 3, 4, 5, 6, 7, 9]\n",
      "一共比较了27次\n"
     ]
    }
   ],
   "source": [
    "sorted_cards = []\n",
    "table_cards = [0, 5, 3, 7, 6, 1, 2, 9, 4]\n",
    "n_pick = len(table_cards)              # 需要摸牌的次数\n",
    "cur_pick = 0\n",
    "n_compared, n_total_compared = 0, 0\n",
    "while cur_pick < n_pick:\n",
    "    print(\"\\nPick {}\".format(cur_pick))\n",
    "    card_being_picked = table_cards[cur_pick]\n",
    "    print(\"  Before Insert: cards in left hand: {}\".format(sorted_cards))\n",
    "    print(\"  Card picked:{}\".format(card_being_picked))\n",
    "    i = 0\n",
    "    n_compared = 0\n",
    "    while i < len(sorted_cards):       # 从左(小)到右(大)依次比较\n",
    "        is_right_card_smaller = card_being_picked < sorted_cards[i]\n",
    "        n_compared += 1\n",
    "        if is_right_card_smaller:\n",
    "            position = i\n",
    "            break\n",
    "        i += 1\n",
    "    \n",
    "    n_total_compared += n_compared\n",
    "    print(\"  为了插入{},比较了{}次\".format(card_being_picked, n_compared))\n",
    "    position = i                       # 为什么需要这一行代码？\n",
    "    print(\"  Pos for the card: {}\".format(position))\n",
    "    sorted_cards.insert(position, card_being_picked)\n",
    "    print(\"  After insert, cards in left Hand: {}\".format(sorted_cards))\n",
    "    cur_pick += 1\n",
    "    \n",
    "print(\"一共比较了{}次\".format(n_total_compared))"
   ]
  },
  {
   "cell_type": "markdown",
   "id": "59afabb1-983c-48e5-9532-d6d0de084daf",
   "metadata": {},
   "source": [
    "2. Assume there are 13 cards described by the list variable `cards` 假设下面的列表变量`cards`表示13张牌\n",
    "\n",
    "    Please sort the cards in ascending(card becomes larger as index grows) order. 请将这13张牌按照升序（随着位置增加，牌也增大）排列形成`sorted_cards`。\n",
    "\n",
    "    **Hint** You can imagine \"J\" as 11, \"Q\" as 12, and \"K\" as 13, transfer these letters to numbers, after you sorted them, transfer them back. \n",
    "\n",
    "    **提示** 你可以把\"J\",\"Q\",\"K\"分别想象成11, 12, 13，把字母转化为数字，排好序后再转换回去。"
   ]
  },
  {
   "cell_type": "code",
   "execution_count": 2,
   "id": "6e090ea7-226e-4f0c-b79f-24a0de069f0c",
   "metadata": {},
   "outputs": [
    {
     "name": "stdout",
     "output_type": "stream",
     "text": [
      "[10, 4, 7, 13, 11, 8, 9, 5, 3, 6, 12, 2, 1]\n"
     ]
    }
   ],
   "source": [
    "cards = [10, 4, 7, 'K', 'J', 8, 9, 5, 3, 6, 'Q', 2, 1]\n",
    "num_cards = []\n",
    "for card in cards:\n",
    "    num_card = card\n",
    "    if num_card == \"K\":\n",
    "        num_card = 13\n",
    "    elif num_card == \"Q\":\n",
    "        num_card = 12\n",
    "    elif num_card == \"J\":\n",
    "        num_card = 11\n",
    "    num_cards.append(num_card)        \n",
    "#\n",
    "print(num_cards)"
   ]
  },
  {
   "cell_type": "code",
   "execution_count": 4,
   "id": "a2db58ec-36e4-4d9b-a607-baf6123f4b25",
   "metadata": {},
   "outputs": [],
   "source": [
    "cards = [10, 4, 7, 'K', 'J', 8, 9, 5, 3, 6, 'Q', 2, 1]\n",
    "# step1\n",
    "num_cards = []                   #   scores\n",
    "\n",
    "#step2: num_cards -> sorted_num_cards\n",
    "\n",
    "sorted_num_cards = []           #   sorted_scores\n",
    "# TODO step3\n",
    "sorted_cards = []"
   ]
  },
  {
   "cell_type": "code",
   "execution_count": 5,
   "id": "c1ce7c03-c030-4aa7-b621-a30fb2297489",
   "metadata": {
    "tags": []
   },
   "outputs": [
    {
     "name": "stdout",
     "output_type": "stream",
     "text": [
      "[5, 10, 13, 2, 1, 11, 12, 3, 4, 9, 8, 7, 6]\n",
      "[1, 2, 3, 4, 5, 6, 7, 8, 9, 10, 'J', 'Q', 'K']\n"
     ]
    }
   ],
   "source": [
    "cards = [5, 10, 'K', 2, 1, 'J', 'Q', 3, 4, 9, 8, 7, 6]\n",
    "\n",
    "#TODO: write your codes here 在这里填写你的代码\n",
    "# step1, transfer letters to numbers 第一步，将字母变成数字\n",
    "num_cards = []\n",
    "for card in cards:\n",
    "    num_card = card\n",
    "    if num_card == \"K\":\n",
    "        num_card = 13\n",
    "    elif num_card == \"Q\":\n",
    "        num_card = 12\n",
    "    elif num_card == \"J\":\n",
    "        num_card = 11\n",
    "    num_cards.append(num_card)        \n",
    "#\n",
    "print(num_cards)\n",
    "\n",
    "# step2, sort 排序\n",
    "sorted_num_cards = []\n",
    "n_pick = len(num_cards)\n",
    "cur_pick = 0\n",
    "while cur_pick < n_pick:\n",
    "    card = num_cards[cur_pick]\n",
    "    i = 0\n",
    "    while i < len(sorted_num_cards):       # 从左(小)到右(大)依次比较\n",
    "        if card < sorted_num_cards[i]:\n",
    "            break\n",
    "        i += 1\n",
    "        \n",
    "    sorted_num_cards.insert(i, card)\n",
    "    cur_pick += 1 \n",
    "    \n",
    "# step3, transfer numbers to letters 把一些数字换回成对应的字母\n",
    "sorted_cards = []\n",
    "for sorted_num_card in sorted_num_cards:\n",
    "    if sorted_num_card == 11:\n",
    "        sorted_num_card = \"J\"\n",
    "    elif sorted_num_card == 12:\n",
    "        sorted_num_card = \"Q\"\n",
    "    elif sorted_num_card == 13:\n",
    "        sorted_num_card = \"K\"\n",
    "    sorted_cards.append(sorted_num_card)\n",
    "print(sorted_cards)"
   ]
  },
  {
   "cell_type": "code",
   "execution_count": 6,
   "id": "d85b36c0-f15a-472f-9d13-d52a77233181",
   "metadata": {},
   "outputs": [
    {
     "name": "stdout",
     "output_type": "stream",
     "text": [
      "[10, 4, 7, 'K', 'J', 8, 9, 5, 3, 6, 'Q', 2, 1]\n",
      "['K', 6, 4, 2, 10, 7, 'J', 5, 8, 3, 1, 'Q', 9]\n",
      "[5, 10, 2, 9, 'K', 1, 6, 3, 4, 8, 'Q', 'J', 7]\n",
      "[5, 10, 8, 3, 'K', 6, 9, 7, 'Q', 1, 'J', 4, 2]\n",
      "[5, 10, 'K', 2, 1, 'J', 'Q', 3, 4, 9, 8, 7, 6]\n"
     ]
    }
   ],
   "source": [
    "# the cards was generated by the following codes. \n",
    "# 上面打乱了的list是由下面的代码生成的\n",
    "sorted_cards = [1, 2, 3, 4, 5, 6, 7, 8, 9, 10, \"J\", \"Q\", \"K\"]\n",
    "from random import shuffle, seed\n",
    "seed(2)\n",
    "i = 0\n",
    "while i < 5:\n",
    "    shuffle(sorted_cards)         # 将列表里的元素次序打乱\n",
    "    print(sorted_cards)\n",
    "    i += 1"
   ]
  },
  {
   "cell_type": "markdown",
   "id": "bc365d0b-0cd2-4743-8f39-f9dfa8be2376",
   "metadata": {},
   "source": [
    "3. In the sorting code of card picking codes provided in this lecture, the algorithm takes out a card in left hand from smallest to largest and then compares it with the card being picked by right hand. Please modify the algorithm so that it takes out a card in left hand **from largest to smallest** to do the comparasion with the card in right hand and then complete the whole sorting process. Please answer:\n",
    "\n",
    "    本讲给出的摸牌排序代码中，算法是按照从左(小)到右(大)的次序分别拿出左侧一张牌和右手中的牌进行比较的。请编写程序让算法按照 **从右（大）到左（小）** 的次序分别拿出左手中一张牌和摸到的牌比较，完成从头开始的插入排序过程。回答：\n",
    "    \n",
    "    1. By using your new algorithm, how many comparisons were performed for each pick and for the whole process. 在你设计的新的算法下，每次摸牌时分别进行了几次牌面数字的比较以及整个排序过程中总共进行了多少次这样的比较。\n",
    "    2. Are the comparison times equal for the two different algorithms, why? 两种算法比较的次数一样吗？为什么？"
   ]
  },
  {
   "cell_type": "code",
   "execution_count": 7,
   "id": "f1c16cc1-6e66-4e5a-9f50-3b1969bfdbe5",
   "metadata": {},
   "outputs": [
    {
     "name": "stdout",
     "output_type": "stream",
     "text": [
      "compared 0 times\n",
      "compared 1 times\n",
      "compared 2 times\n",
      "compared 1 times\n",
      "compared 2 times\n",
      "compared 5 times\n",
      "compared 5 times\n",
      "compared 1 times\n",
      "compared 5 times\n",
      "[0, 1, 2, 3, 4, 5, 6, 7, 9]\n",
      "total compared: 22 time\n"
     ]
    }
   ],
   "source": [
    "#TODO: write you code here 在这里写你的代码\n",
    "cards =  [0, 5, 3, 7, 6, 1, 2, 9, 4]\n",
    "sorted_cards = []\n",
    "\n",
    "n_pick = len(cards)\n",
    "cur_pick = 0\n",
    "n_compared, n_total_compared = 0, 0\n",
    "while cur_pick < n_pick:\n",
    "    card = cards[cur_pick]\n",
    "    i = len(sorted_cards)-1\n",
    "    n_compared = 0\n",
    "    while i >= 0:       # 从左(小)到右(大)依次比较\n",
    "        n_compared += 1\n",
    "        if card > sorted_cards[i]:\n",
    "            break\n",
    "        i -= 1\n",
    "    \n",
    "    print(\"compared {} times\".format(n_compared))\n",
    "    n_total_compared += n_compared\n",
    "    sorted_cards.insert(i+1, card)\n",
    "    cur_pick += 1 \n",
    "\n",
    "print(sorted_cards)\n",
    "print(\"total compared: {} time\".format(n_total_compared))\n",
    "#[3, 5, 6 ,7]"
   ]
  },
  {
   "cell_type": "code",
   "execution_count": 9,
   "id": "40054e96-6264-4441-a7b8-2b71406f6c18",
   "metadata": {},
   "outputs": [],
   "source": [
    "# example sort [5, 3, 7, 6] from right to left\n",
    "# 左手的牌                    拿到的牌               桌子上              比的次数(4)    谁和谁比\n",
    "#0.     []                                            [5, 3, 7, 6]           0\n",
    "#1.     []                           5                [3, 7, 6]              0\n",
    "#2.     [5]                          3                [7, 6]                 1            (3, 5)\n",
    "#3.     [3, 5]                       7                [6]                    1            (7, 5)\n",
    "#4.     [3, 5, 7]                    6                []                     2            (6, 7), (6, 5)"
   ]
  },
  {
   "cell_type": "code",
   "execution_count": 10,
   "id": "ad70b4fa-6e34-4b48-ac85-7a8e3d2f002b",
   "metadata": {},
   "outputs": [],
   "source": [
    "# [0, 5, 3, 7, 6, 1, 2, 9, 4] from right to left\n",
    "# 左手的牌                    拿到的牌               桌子上              比的次数(22)          谁和谁比\n",
    "#\n",
    "#\n",
    "#"
   ]
  },
  {
   "cell_type": "code",
   "execution_count": 11,
   "id": "63234535-be26-4e94-86b0-4b4cc6e8c4a3",
   "metadata": {},
   "outputs": [],
   "source": [
    "# [0, 5, 3, 7, 6, 1, 2, 9, 4] from left to right\n",
    "# 左手的牌                    拿到的牌               桌子上              比的次数(27）           谁和谁比\n",
    "#\n",
    "#\n",
    "#"
   ]
  },
  {
   "cell_type": "code",
   "execution_count": 12,
   "id": "87078054-5e9b-438b-8474-59c9bcf052ac",
   "metadata": {},
   "outputs": [],
   "source": [
    "# find a un sroted list, when sorting, n_total_compared(from left to right) << n_total_compared(from right to left)\n"
   ]
  },
  {
   "cell_type": "markdown",
   "id": "b979ede1-e295-4d7c-9647-aef923c092cc",
   "metadata": {},
   "source": [
    "4.  Consider a sorted list with an odd number of elements like: [1, 2, 3, 4, 5], element 3 is in the middle of the list because it has 2 elements to its left(1, 2) and also two elements to its right(4, 5). If a sorted list has an even number of elements, such as [7, 5, 4, 3, 2, 1], then elements 4 and 3 are both considered to be in the middle of the list. There are 2 elements on their left side (7, 5) and two elements on their right side (2, 1).\n",
    "\n",
    "    考虑一个排好序的拥有奇数个元素的列表：[1, 2, 3, 4, 5]，其中元素3处在列表中的正中位置，因为他的左侧有2个元素（分别是1，2），右侧也有两个元素（4，5）。如果一个排好序的列表拥有偶数个元素，例如[7, 5, 4, 3, 2, 1]，那么元素4和3被认为是处在列表中正中位置的两个元素，因为他们的左侧有2个元素（分别是7，5），右侧也有两个元素（2，1）。\n",
    "\n",
    "   \n",
    "    Find the two scores that are exactly in the middle of the sorted scores list who has 50 elements. Calculate the average of the two scores you found.\n",
    "    \n",
    "    在本讲已经排按照从小到大好序的50个成绩组成的成绩列表中，找到位置处在最中间的那两个成绩，并计算这两个成绩的平均数。"
   ]
  },
  {
   "cell_type": "code",
   "execution_count": null,
   "id": "ee13f376-7eac-41f1-a0cc-87e294fb0f69",
   "metadata": {},
   "outputs": [],
   "source": [
    "sorted_scores = [54, 70, 72, 72, 74, 74, 78, 78, 78, 78, 78, 82, 82, 84, 84, 84,\n",
    "                 86, 86, 86, 86, 86, 86, 88, 88, 88, 88, 88, 90, 90, 90, 90, 92,\n",
    "                 92, 92, 92, 94, 94, 96, 96, 96, 98, 98, 98, 100, 100, 100, 100,\n",
    "                 100, 100, 100]\n",
    "\n",
    "#TODO: find the two scores that are exactly in the middle of the list, print them out\n",
    "#      找到列表中最正中间的一个或两个成绩，把他（们）打印出来\n",
    "\n",
    "\n",
    "#TODO: if there are 2 elements in the middle, calculate the mean of the two scores, print it out\n",
    "#      如果找到了两个最中间的数，计算找到的两个成绩的平均数，打印出来\n",
    "\n",
    "# Answer ?, ?\n",
    "# Answer ?"
   ]
  },
  {
   "cell_type": "code",
   "execution_count": null,
   "id": "9c77906a-7732-44bd-aa73-c00bd623582a",
   "metadata": {},
   "outputs": [],
   "source": [
    "sorted_scores = [ 1, 2, 3, 4, 5]\n",
    "\n",
    "#TODO: find the two scores that are exactly in the middle of the list, print them out\n",
    "#      找到列表中最正中间的一个或两个成绩，把他（们）打印出来\n",
    "\n",
    "\n",
    "#TODO: if there are 2 elements in the middle, calculate the mean of the two scores, print it out\n",
    "#      如果找到了两个最中间的数，计算找到的两个成绩的平均数，打印出来\n",
    "\n",
    "# Answer: 3"
   ]
  },
  {
   "cell_type": "code",
   "execution_count": null,
   "id": "e310a195-4033-4569-9a2a-2a77825eca6b",
   "metadata": {},
   "outputs": [],
   "source": [
    "sorted_scores = [ 1, 2, 3, 4, 5, 6]\n",
    "\n",
    "#TODO: find the two scores that are exactly in the middle of the list, print them out\n",
    "#      找到列表中最正中间的一个或两个成绩，把他（们）打印出来\n",
    "\n",
    "\n",
    "#TODO: if there are 2 elements in the middle, calculate the mean of the two scores, print it out\n",
    "#      如果找到了两个最中间的数，计算找到的两个成绩的平均数，打印出来\n",
    "\n",
    "# Answer: 3, 4\n",
    "#         3.5"
   ]
  },
  {
   "cell_type": "code",
   "execution_count": null,
   "id": "e0b52836-1bf3-422f-87fd-b1d1dd559112",
   "metadata": {},
   "outputs": [],
   "source": [
    "sorted_scores = [ 1, 2, 3, 4, 5, 1000]\n",
    "\n",
    "#TODO: find the two scores that are exactly in the middle of the list, print them out\n",
    "#      找到列表中最正中间的一个或两个成绩，把他（们）打印出来\n",
    "\n",
    "\n",
    "#TODO: if there are 2 elements in the middle, calculate the mean of the two scores, print it out\n",
    "#      如果找到了两个最中间的数，计算找到的两个成绩的平均数，打印出来\n",
    "\n",
    "# Answer 3, 4\n",
    "# Answer 3.5"
   ]
  },
  {
   "cell_type": "code",
   "execution_count": null,
   "id": "9da7034f-c7ee-4e32-ab58-5fd19f2f4011",
   "metadata": {},
   "outputs": [],
   "source": [
    "sorted_scores = [ 1, 2, 3, 4, 5, 1000, 10000]\n",
    "\n",
    "#TODO: find the two scores that are exactly in the middle of the list, print them out\n",
    "#      找到列表中最正中间的一个或两个成绩，把他（们）打印出来\n",
    "\n",
    "\n",
    "#TODO: if there are 2 elements in the middle, calculate the mean of the two scores, print it out\n",
    "#      如果找到了两个最中间的数，计算找到的两个成绩的平均数，打印出来\n",
    "\n",
    "# Answer 4"
   ]
  }
 ],
 "metadata": {
  "kernelspec": {
   "display_name": "Python 3 (ipykernel)",
   "language": "python",
   "name": "python3"
  },
  "language_info": {
   "codemirror_mode": {
    "name": "ipython",
    "version": 3
   },
   "file_extension": ".py",
   "mimetype": "text/x-python",
   "name": "python",
   "nbconvert_exporter": "python",
   "pygments_lexer": "ipython3",
   "version": "3.9.0"
  }
 },
 "nbformat": 4,
 "nbformat_minor": 5
}
