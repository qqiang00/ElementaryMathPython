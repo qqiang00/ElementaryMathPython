{
 "cells": [
  {
   "cell_type": "markdown",
   "id": "included-education",
   "metadata": {},
   "source": [
    "## 第5讲 绘制简单图形"
   ]
  },
  {
   "cell_type": "markdown",
   "id": "digital-consensus",
   "metadata": {},
   "source": [
    "### Exercise\n",
    "1. The follow code block draws a square with side length 200 right in the center of a given drawn area. Please provide correct comments for each code line explaing its role right after the \"#\" character. The first comment is already provided as an example. 下面的一代码块可以在一个给定的绘图区内绘制边长为200的正方形。请你在每一行代码后的“#”字符后书写一行代码注释来解释这行代码的具体作用。作为示例，第一行代码的作用已经给出。\n",
    "\n",
    "   Hint: you can put each of the code line into a seperate cell, execute them in order and cell by cell, and observe the changes in the draw area.\n",
    "   提示：你可以把代码块里的代码一行一行的分开放到单独的单元格中，并且依次执行他们，在绘图区观察每一个单元格执行后的效果。"
   ]
  },
  {
   "cell_type": "code",
   "execution_count": 1,
   "id": "apparent-remains",
   "metadata": {},
   "outputs": [
    {
     "ename": "NameError",
     "evalue": "name 'setup' is not defined",
     "output_type": "error",
     "traceback": [
      "\u001b[0;31m---------------------------------------------------------------------------\u001b[0m",
      "\u001b[0;31mNameError\u001b[0m                                 Traceback (most recent call last)",
      "\u001b[0;32m<ipython-input-1-3c340fe168ef>\u001b[0m in \u001b[0;36m<module>\u001b[0;34m\u001b[0m\n\u001b[1;32m      4\u001b[0m \u001b[0;31m# 确保你已经执行了本页面中导入turtle库的诸多方法的那一个单元格\u001b[0m\u001b[0;34m\u001b[0m\u001b[0;34m\u001b[0m\u001b[0;34m\u001b[0m\u001b[0m\n\u001b[1;32m      5\u001b[0m \u001b[0;34m\u001b[0m\u001b[0m\n\u001b[0;32m----> 6\u001b[0;31m \u001b[0msetup\u001b[0m\u001b[0;34m(\u001b[0m\u001b[0;36m500\u001b[0m\u001b[0;34m,\u001b[0m \u001b[0;36m400\u001b[0m\u001b[0;34m,\u001b[0m \u001b[0;36m0\u001b[0m\u001b[0;34m,\u001b[0m \u001b[0;36m0\u001b[0m\u001b[0;34m)\u001b[0m    \u001b[0;31m# prepare a draw area with size 500*400\u001b[0m\u001b[0;34m\u001b[0m\u001b[0;34m\u001b[0m\u001b[0m\n\u001b[0m\u001b[1;32m      7\u001b[0m \u001b[0mreset\u001b[0m\u001b[0;34m(\u001b[0m\u001b[0;34m)\u001b[0m                  \u001b[0;31m#\u001b[0m\u001b[0;34m\u001b[0m\u001b[0;34m\u001b[0m\u001b[0m\n\u001b[1;32m      8\u001b[0m \u001b[0mst\u001b[0m\u001b[0;34m(\u001b[0m\u001b[0;34m)\u001b[0m                     \u001b[0;31m#\u001b[0m\u001b[0;34m\u001b[0m\u001b[0;34m\u001b[0m\u001b[0m\n",
      "\u001b[0;31mNameError\u001b[0m: name 'setup' is not defined"
     ]
    }
   ],
   "source": [
    "# if you restarted this page, before run this code cell,\n",
    "# make sure that you executed the cell where turtle methods are imported in this page\n",
    "# 如果你重启了本页面，在执行本单元格的代码前，\n",
    "# 确保你已经执行了本页面中导入turtle库的诸多方法的那一个单元格\n",
    "\n",
    "setup(500, 400, 0, 0)    # prepare a draw area with size 500*400\n",
    "reset()                  # \n",
    "st()                     #\n",
    "pu()                     # \n",
    "bk(100)                  #\n",
    "left(90)                 # \n",
    "bk(100)                  # \n",
    "pd()                     # \n",
    "fd(200)                  # \n",
    "right(90)                # \n",
    "fd(200)                  # \n",
    "right(90)                # \n",
    "fd(200)                  # \n",
    "right(90)                # \n",
    "fd(200)                  # \n",
    "ht()                     #"
   ]
  },
  {
   "cell_type": "code",
   "execution_count": null,
   "id": "occasional-eight",
   "metadata": {},
   "outputs": [],
   "source": [
    "bye()                    # you can only close an opened draw area by executing \n",
    "                         # this bye() method. "
   ]
  },
  {
   "cell_type": "markdown",
   "id": "boring-milton",
   "metadata": {},
   "source": [
    "2. Try to write codes to draw all the three squares in a draw area like the following picture demostrates:\n",
    "\n",
    "   Requirements:\n",
    "       - All the three squares are absolutely located in the middle of the draw area whose size is 500*400;\n",
    "       - The side lengths of the three squares are: 250, 150, and 50, respectively.\n",
    "       \n",
    "   You can write as many codes as you want to complete this exercise. \n",
    "   <img src = \"figures/L005_01_squares.png\" width = 500>\n",
    "   \n",
    "\n"
   ]
  },
  {
   "cell_type": "code",
   "execution_count": null,
   "id": "under-assurance",
   "metadata": {},
   "outputs": [],
   "source": [
    "# Start your codes here, 从这里开始书写里的代码\n",
    "# and don't forget to hide the turtle pointer in the end.\n",
    "# 最后不要忘了隐藏表示乌龟的小三角形。\n",
    "\n",
    "\n",
    "\n",
    "\n",
    "\n",
    "\n",
    "\n",
    "\n",
    "\n",
    "\n",
    "\n",
    "\n",
    "\n",
    "\n",
    "\n",
    "\n"
   ]
  },
  {
   "cell_type": "code",
   "execution_count": null,
   "id": "engaged-music",
   "metadata": {},
   "outputs": [],
   "source": [
    "from turtle import goto\n",
    "def draw_square(side_length):\n",
    "    pu()\n",
    "    goto(0, 0)\n",
    "    bk(side_length/2)\n",
    "    left(90)\n",
    "    bk(side_length/2)\n",
    "    pd()\n",
    "    for i in range(4):\n",
    "        fd(side_length)\n",
    "        right(90)\n",
    "        \n",
    "    pu()\n",
    "    \n",
    "    "
   ]
  },
  {
   "cell_type": "code",
   "execution_count": null,
   "id": "civic-volleyball",
   "metadata": {},
   "outputs": [],
   "source": [
    "setup(500, 400, 0, 0)\n",
    "reset()\n",
    "draw_square(250)\n",
    "draw_square(150)\n",
    "draw_square(50)\n",
    "ht()"
   ]
  }
 ],
 "metadata": {
  "kernelspec": {
   "display_name": "Python 3",
   "language": "python",
   "name": "python3"
  },
  "language_info": {
   "codemirror_mode": {
    "name": "ipython",
    "version": 3
   },
   "file_extension": ".py",
   "mimetype": "text/x-python",
   "name": "python",
   "nbconvert_exporter": "python",
   "pygments_lexer": "ipython3",
   "version": "3.8.5"
  }
 },
 "nbformat": 4,
 "nbformat_minor": 5
}
