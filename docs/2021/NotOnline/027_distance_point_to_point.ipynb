{
 "cells": [
  {
   "cell_type": "markdown",
   "id": "relative-location",
   "metadata": {},
   "source": [
    "## 第27讲 平方根与点到点的距离\n",
    "Lecture27 Square Root and Distance Between Two Points"
   ]
  },
  {
   "cell_type": "markdown",
   "id": "d12f05dd",
   "metadata": {},
   "source": [
    "### Problem 问题描述"
   ]
  },
  {
   "cell_type": "markdown",
   "id": "87c843e7-cbef-4128-9360-c3ebd33dcc1b",
   "metadata": {},
   "source": [
    "使用`qianglib`库提供的方法，绘制方格坐标纸，其中坐标系的原点`(0,0)`位于绘图区的最左下方，使用的`scale`值为`20`. Use the methods provided in the library `qianglib`, draw a grid coordinate system where the origin `(0, 0)` is at the bottom left of the coordinate system.\n",
    "\n",
    "1. Mark all the points (0, 0), (6, 12), (10, 24), (24, 18), (16, 16), (25, 25) in a draw paper; 在绘图纸上标记上述所有的点；\n",
    "2. For each point except O(0, 0), calculate the exact area of a square whose side length is the distance between O(0, 0) to that point. you don't need to draw the square; 对于除了O(0,0)以外的其它所有点，准确计算由这个点到圆点O(0, 0)的距离为边长的正方形的面积。你不需要绘制这个正方形；\n",
    "3. For each point except O(0, 0), estimate the distance between O(0, 0) to the point. The result should be precised to 0.001; 对于除了O(0,0)以外的其它所有点，计算由这个点到圆点O(0, 0)的距离。结果精确到0.001；\n",
    "4. Draw the line AB, AC, AD, AE, BC, BD, BE, CD, CE, and DE. approximately calculate the length of these lines. The result should be precised to 0.001; 绘制下列线段AB, AC, AD, AE, BC, BD, BE, CD, CE, and DE，计算这些线段的长度。结果精确到0.001.\n",
    "\n",
    "\n"
   ]
  },
  {
   "cell_type": "markdown",
   "id": "1270f26d-e2ca-45e0-a679-ec82361795da",
   "metadata": {},
   "source": [
    "### Math Background 数学背景\n",
    "\n",
    "1. 线段可以用两个不同点的坐标唯一确定\n",
    "2. 使用毕达哥拉斯定理精确计算两点间距离\n",
    "3. 平方根的意义"
   ]
  },
  {
   "cell_type": "markdown",
   "id": "sorted-furniture",
   "metadata": {
    "heading_collapsed": true
   },
   "source": [
    "### Prerequisites 预备知识"
   ]
  },
  {
   "cell_type": "code",
   "execution_count": null,
   "id": "10d7cbd2-e8ae-4d34-aa19-40dd730997dd",
   "metadata": {},
   "outputs": [],
   "source": [
    "area = 180\n",
    "side = None\n",
    "\n",
    "#square:  area = side * side\n",
    "# side     area\n",
    "#  3       9     \n",
    "#  4       16\n",
    "#  a       s_a <= 180\n",
    "#  b=a+1   s_b >= 180"
   ]
  },
  {
   "cell_type": "code",
   "execution_count": 1,
   "id": "84e792f7-0544-412d-af3c-16ae4669414b",
   "metadata": {},
   "outputs": [],
   "source": [
    "def find_int_a2(area):\n",
    "    a, step = 0, 0.1\n",
    "    #print(\"let's start from a = {}\".format(a))\n",
    "    while a**2 <= area:\n",
    "        #print(\"-\"*20)\n",
    "        #print(\"{}*{} is smaller than or equal to {}\".format(a, area))\n",
    "        a+=step\n",
    "        #print(\"let's increase {} by 1 to try {} again\".format(a-1, a))\n",
    "    \n",
    "    #print(\"Out of loop, because {}*{} > {}\".format(a, a, area)) \n",
    "    #print(\"the result will be {}\".format(a-1))\n",
    "    return a-step"
   ]
  },
  {
   "cell_type": "code",
   "execution_count": 9,
   "id": "a5dbee95-8736-4301-b237-29e0114b2819",
   "metadata": {},
   "outputs": [
    {
     "data": {
      "text/plain": [
       "31622776.60168379"
      ]
     },
     "execution_count": 9,
     "metadata": {},
     "output_type": "execute_result"
    }
   ],
   "source": [
    "from math import sqrt   # sqrt\n",
    "sqrt(1000000000000000)"
   ]
  },
  {
   "cell_type": "code",
   "execution_count": null,
   "id": "39e042bf-3d38-4b59-afc8-e19d4df4a906",
   "metadata": {},
   "outputs": [],
   "source": [
    "# To calcualte the square root of a number is equivalent to calcualte the side length of a square whose area is the number.\n",
    "# To calculate the square of a number is equivalent to calcualte the area of a square whose side length is the number."
   ]
  },
  {
   "cell_type": "code",
   "execution_count": 10,
   "id": "89e8c6e3-c20c-4cd7-980c-9715b5450602",
   "metadata": {},
   "outputs": [
    {
     "name": "stdout",
     "output_type": "stream",
     "text": [
      "4.0\n"
     ]
    }
   ],
   "source": [
    "# sqrt()   +, - * /\n",
    "# 2+2, 4-2, a+b, a-b\n",
    "\n",
    "a = 16\n",
    "result = sqrt(a)\n",
    "print(result)\n",
    "# the square root of 16 is 4.0\n",
    "# if the area of a square is 16, then the side length of this square is 4.0"
   ]
  },
  {
   "cell_type": "code",
   "execution_count": null,
   "id": "55ddbd8a-4ff4-4b2c-8266-eb22255069f0",
   "metadata": {},
   "outputs": [],
   "source": [
    "# **2  + - * / \n",
    "# square(a) <=> a*a\n",
    "# the square of a a is equal to a*a, and is equal to a**2\n"
   ]
  },
  {
   "cell_type": "code",
   "execution_count": null,
   "id": "a5e8e744-2ee9-49fa-afdb-91a0d279943c",
   "metadata": {},
   "outputs": [],
   "source": [
    "# power overwhelming\n",
    "# power(a, b)   # a*a*a*a....*a   (multiplication of b numbers of a \n",
    "# **"
   ]
  },
  {
   "cell_type": "code",
   "execution_count": 13,
   "id": "ab4948ee-8678-4b78-ac04-f27c4d4d28f3",
   "metadata": {},
   "outputs": [],
   "source": [
    "from math import pow"
   ]
  },
  {
   "cell_type": "code",
   "execution_count": 15,
   "id": "4702f93c-e938-4434-b152-2d764d5cfb6c",
   "metadata": {},
   "outputs": [
    {
     "data": {
      "text/plain": [
       "True"
      ]
     },
     "execution_count": 15,
     "metadata": {},
     "output_type": "execute_result"
    }
   ],
   "source": [
    "pow(2, 10) == 2**10\n",
    "\n",
    "pow(10, 2) == 10*10"
   ]
  },
  {
   "cell_type": "code",
   "execution_count": null,
   "id": "5425dc77-0787-41aa-9962-ceec14adbb9e",
   "metadata": {},
   "outputs": [],
   "source": [
    "from math import pow, sqrt\n",
    "# "
   ]
  },
  {
   "cell_type": "markdown",
   "id": "ff80190c-a1b4-43b2-bc8d-85c397cbcf92",
   "metadata": {},
   "source": [
    "$$ a \\times a = a^2 $$"
   ]
  },
  {
   "cell_type": "markdown",
   "id": "09a17a57-3567-4dee-a929-bf690cda5ae2",
   "metadata": {},
   "source": [
    "sqaure root of $A$ can be represented by: $\\sqrt{A}$\n",
    "\n",
    "\n",
    "$$ a = \\sqrt{a^2} $$"
   ]
  },
  {
   "cell_type": "markdown",
   "id": "ac3f3f62-7bb0-4f00-9a4e-4085b96c14dd",
   "metadata": {},
   "source": [
    "无"
   ]
  },
  {
   "cell_type": "markdown",
   "id": "d55f37d9",
   "metadata": {},
   "source": [
    "### Solution 编程求解"
   ]
  },
  {
   "cell_type": "markdown",
   "id": "fe71a786-9c32-4ccb-8ac0-747e43eb8623",
   "metadata": {},
   "source": [
    "1. "
   ]
  },
  {
   "cell_type": "code",
   "execution_count": 3,
   "id": "b1ae7be3-fdde-46b5-820e-c35a55d2fbe0",
   "metadata": {},
   "outputs": [],
   "source": [
    "from turtle import setup, reset, pu, pd, bye, left, right, fd, bk, screensize\n",
    "from turtle import goto, seth, write, ht, st, home, dot, pen, speed\n",
    "from qianglib import prepare_paper, draw_grid, mark, lines, line, polygon, text"
   ]
  },
  {
   "cell_type": "code",
   "execution_count": 4,
   "id": "bed66e63-7d02-4c22-bf10-8863883aab94",
   "metadata": {},
   "outputs": [],
   "source": [
    "width, height = 800, 600\n",
    "setup(width, height, 0, 0)\n",
    "prepare_paper(width, height, scale=20, min_x=0, min_y=0, max_y=25)"
   ]
  },
  {
   "cell_type": "code",
   "execution_count": 23,
   "id": "d099fae4-94c6-465a-935f-31715f6d782d",
   "metadata": {},
   "outputs": [],
   "source": [
    "A, B = (7, 11), (14, 16)\n",
    "mark(A, \"A\" + str(A))\n",
    "mark(B, \"B\" + str(B))\n",
    "#line1 = [A, B]"
   ]
  },
  {
   "cell_type": "code",
   "execution_count": 24,
   "id": "145f73a6-80ec-4f47-8771-cf019834bd01",
   "metadata": {},
   "outputs": [],
   "source": [
    "line(A, B)"
   ]
  },
  {
   "cell_type": "code",
   "execution_count": 25,
   "id": "d9623e85-ac07-4745-b7d5-88a82818ffcc",
   "metadata": {},
   "outputs": [],
   "source": [
    "O = (B[0], A[1])\n",
    "mark(O, \"O\" + str(O))"
   ]
  },
  {
   "cell_type": "code",
   "execution_count": 26,
   "id": "df01b241-fd9b-46f1-b642-847191fd56ef",
   "metadata": {},
   "outputs": [],
   "source": [
    "line(O, B)\n",
    "line(O, A)"
   ]
  },
  {
   "cell_type": "code",
   "execution_count": 28,
   "id": "d757875c-0dbf-4814-b604-bfbbfe2f1c62",
   "metadata": {},
   "outputs": [],
   "source": [
    "a = B[1] - A[1]\n",
    "b = B[0] - A[0]"
   ]
  },
  {
   "cell_type": "code",
   "execution_count": 29,
   "id": "7b978235-423a-4d00-bfbd-a8923d10b6b5",
   "metadata": {},
   "outputs": [],
   "source": [
    "C = (B[0] - a, B[1] + b)\n",
    "mark(C, \"C\"+str(C))"
   ]
  },
  {
   "cell_type": "code",
   "execution_count": 30,
   "id": "1eac6782-f69c-4e19-937b-3fc45fd134fc",
   "metadata": {},
   "outputs": [],
   "source": [
    "# D \n",
    "D = (A[0] - a, A[1] + b)\n",
    "mark(D, \"D\" +str(D))"
   ]
  },
  {
   "cell_type": "code",
   "execution_count": 31,
   "id": "2ee74c17-9eae-42e8-b7e3-447f586b0b57",
   "metadata": {},
   "outputs": [],
   "source": [
    "square_large = [A, B, C, D]\n",
    "polygon(square_large)"
   ]
  },
  {
   "cell_type": "code",
   "execution_count": 32,
   "id": "3d91e728-791b-4dd2-a60d-d3bac2502b11",
   "metadata": {},
   "outputs": [],
   "source": [
    "E = (B[0] + a, B[1])\n",
    "F = (O[0] + a, O[1])\n",
    "mark(E, \"E\"+str(E))\n",
    "mark(F, \"F\"+str(F))"
   ]
  },
  {
   "cell_type": "code",
   "execution_count": 33,
   "id": "6710cc3f-4d2f-49a4-b8ee-874336c8f768",
   "metadata": {},
   "outputs": [],
   "source": [
    "square_small = [O, B, E, F]\n",
    "polygon(square_small)"
   ]
  },
  {
   "cell_type": "code",
   "execution_count": 34,
   "id": "a30e035e-5b17-4472-8c89-8c30db2e6c0a",
   "metadata": {},
   "outputs": [],
   "source": [
    "G = (A[0], A[1] - b)\n",
    "H = (O[0], O[1] - b)\n",
    "mark(G, \"G\"+str(G))\n",
    "mark(H, \"H\"+str(H))"
   ]
  },
  {
   "cell_type": "code",
   "execution_count": 35,
   "id": "e28ff65c-4f03-455d-b9b9-2dc23c9953ea",
   "metadata": {},
   "outputs": [],
   "source": [
    "square_median = [G, H, O, A]\n",
    "polygon(square_median)"
   ]
  },
  {
   "cell_type": "code",
   "execution_count": 36,
   "id": "8aff5a95-aaf3-423b-b54e-edf4b9cbc1b1",
   "metadata": {},
   "outputs": [],
   "source": [
    "from math import sqrt"
   ]
  },
  {
   "cell_type": "code",
   "execution_count": 39,
   "id": "e9c34a38-fdb3-4380-8121-4e64d86aaf2b",
   "metadata": {},
   "outputs": [
    {
     "name": "stdout",
     "output_type": "stream",
     "text": [
      "area of small sqaure: 25\n",
      "area of median square: 49\n",
      "area of large square: 74\n",
      "side length of large square: 8.602325267042627\n",
      "Length AB: 8.602325267042627\n"
     ]
    }
   ],
   "source": [
    "area_small = a*a\n",
    "area_median = b*b\n",
    "area_large = area_small + area_median\n",
    "side_length_of_square_large = sqrt(area_large)\n",
    "length_AB = side_length_of_square_large\n",
    "print(\"area of small sqaure:\", area_small)\n",
    "print(\"area of median square:\", area_median)\n",
    "print(\"area of large square:\", area_large)\n",
    "print(\"side length of large square:\", side_length_of_square_large)\n",
    "print(\"Length AB:\", length_AB)"
   ]
  },
  {
   "cell_type": "code",
   "execution_count": 40,
   "id": "2cc78110-f290-4205-a306-9f3a7ccc8d5a",
   "metadata": {},
   "outputs": [],
   "source": [
    "A = (10, 8)\n",
    "B = (16, 20)\n",
    "\n",
    "def distance(A, B):\n",
    "    a, b = A[0]-B[0], A[1]-B[1]\n",
    "    return sqrt(a*a+b*b)"
   ]
  },
  {
   "cell_type": "code",
   "execution_count": 42,
   "id": "90661f63-8078-42a4-851a-7d0c5d8df320",
   "metadata": {},
   "outputs": [
    {
     "name": "stdout",
     "output_type": "stream",
     "text": [
      "-6 -12\n"
     ]
    }
   ],
   "source": [
    "a, b = A[0]-B[0], A[1]-B[1]\n",
    "print(a, b)"
   ]
  },
  {
   "cell_type": "code",
   "execution_count": 43,
   "id": "6d39277f-0dfa-42f6-bcaa-764feaae14c6",
   "metadata": {},
   "outputs": [
    {
     "name": "stdout",
     "output_type": "stream",
     "text": [
      "36\n"
     ]
    }
   ],
   "source": [
    "print(a*a)"
   ]
  },
  {
   "cell_type": "code",
   "execution_count": 44,
   "id": "477eaca2-ee20-4b80-b0be-18c3627ed085",
   "metadata": {},
   "outputs": [
    {
     "name": "stdout",
     "output_type": "stream",
     "text": [
      "144\n"
     ]
    }
   ],
   "source": [
    "print(b*b)"
   ]
  },
  {
   "cell_type": "code",
   "execution_count": 41,
   "id": "fbdee560-307d-4249-995f-ccd1e4cb2ac2",
   "metadata": {},
   "outputs": [
    {
     "data": {
      "text/plain": [
       "13.416407864998739"
      ]
     },
     "execution_count": 41,
     "metadata": {},
     "output_type": "execute_result"
    }
   ],
   "source": [
    "distance(A, B)\n"
   ]
  },
  {
   "cell_type": "markdown",
   "id": "a1379d28-1c30-4409-9063-c4c4eaa333d3",
   "metadata": {},
   "source": [
    "the exact legnth of ab is sqrt(180)\n",
    "$$\\sqrt[2]{180} = \\sqrt{180} \\neq  13.41$$ \n",
    "$$\\sqrt[2]{180} = \\sqrt{180} \\approx  13.41$$ \n",
    "$$\\sqrt[3]{180} \\neq \\sqrt{180}$$\n"
   ]
  },
  {
   "cell_type": "code",
   "execution_count": 4,
   "id": "67d0006e-4516-47cd-b1cb-7ad5ad0fe530",
   "metadata": {},
   "outputs": [],
   "source": [
    "line(start=A, end=B, mark_vertex=True, label_color=\"red\", vertex_labels=[\"A(x0, y0)\", \"B(x1, y1)\"], offset=(0.5, -1))"
   ]
  },
  {
   "cell_type": "code",
   "execution_count": 5,
   "id": "5bf97b13-a32a-482f-adce-45b48b114dc8",
   "metadata": {},
   "outputs": [],
   "source": [
    "C = (B[0], A[1])"
   ]
  },
  {
   "cell_type": "code",
   "execution_count": 6,
   "id": "2df91c30-262d-45b7-af8c-25f725089ddc",
   "metadata": {},
   "outputs": [],
   "source": [
    "#lines([A, B, C], mark_vertex=True, vertex_labels=[\"A\", \"B\", \"C\"], closed=True, offset=(0.5, -1))"
   ]
  },
  {
   "cell_type": "code",
   "execution_count": 7,
   "id": "1d2e16ae-6e6b-453e-a1d9-31592a09de49",
   "metadata": {},
   "outputs": [],
   "source": [
    "#mark(C, \"C\", show_pos=True)"
   ]
  },
  {
   "cell_type": "code",
   "execution_count": 8,
   "id": "6d06b409-175f-41a4-ac06-44f61139cd19",
   "metadata": {},
   "outputs": [],
   "source": [
    "text((15, 15), \"Dist(A, B) = sqrt( (y1-y0)^2 + (x1-x0)^2 )\", align=\"left\", \n",
    "     color=\"red\", font=(\"arial\", 12, \"normal\"))"
   ]
  },
  {
   "cell_type": "code",
   "execution_count": null,
   "id": "f0b29e2a-9970-4943-b8c7-d14b7e51cd3f",
   "metadata": {},
   "outputs": [],
   "source": [
    "E = (22, 5)\n",
    "mark(E, show_pos=True)"
   ]
  },
  {
   "cell_type": "code",
   "execution_count": null,
   "id": "1b97b920-36e2-45da-b28c-3c3b28360c44",
   "metadata": {},
   "outputs": [],
   "source": [
    "F = (25, 5)\n",
    "mark(F, \"F\", show_pos=True)"
   ]
  },
  {
   "cell_type": "markdown",
   "id": "14358711-c248-4466-b134-58b895246206",
   "metadata": {},
   "source": [
    "2. "
   ]
  },
  {
   "cell_type": "markdown",
   "id": "latest-contamination",
   "metadata": {},
   "source": [
    "### Summary 知识点小结"
   ]
  },
  {
   "cell_type": "markdown",
   "id": "afb3f674",
   "metadata": {},
   "source": [
    "1. 复习tuple\n",
    "2. 复习qianglib的一些方法\n",
    "3. 复习方法的返回值"
   ]
  },
  {
   "cell_type": "markdown",
   "id": "bizarre-assurance",
   "metadata": {},
   "source": [
    "### 计算机小知识"
   ]
  },
  {
   "cell_type": "markdown",
   "id": "92100f08",
   "metadata": {},
   "source": [
    "暂缺"
   ]
  },
  {
   "cell_type": "markdown",
   "id": "digital-consensus",
   "metadata": {
    "heading_collapsed": true
   },
   "source": [
    "### Assignments 作业"
   ]
  },
  {
   "cell_type": "code",
   "execution_count": null,
   "id": "aed04a02-13b2-4b0c-83b9-6ad439f56153",
   "metadata": {},
   "outputs": [],
   "source": []
  },
  {
   "cell_type": "markdown",
   "id": "7bf1a2fa-b5ed-4ccd-be19-9318b088903a",
   "metadata": {},
   "source": [
    "编程画图，并计算点下列A，B两点间的距离\n",
    "\n",
    "1. A(10, 8), B(16, 18)\n",
    "2. A(10, 8), B(16, 9)\n",
    "3. A(10, 8), B(11, 18)\n",
    "4. A(10, 8), B(16, 8)\n",
    "5. A(10, 8), B(10, 18)\n",
    "6. A(10, 8), B(16, 14)"
   ]
  },
  {
   "cell_type": "markdown",
   "id": "9b6c8e84-9f02-400d-96d2-aa01e2ea8841",
   "metadata": {},
   "source": [
    "1. define what is a bigger slope\n",
    "   if a line is parallel to X axis, then its slope should be small.\n",
    "   if a line is parallel to Y axis, then its slope should be large.\n",
    "   \n",
    "2. implement a mehtod which receives two points as parameters, the method returns a decimal representing the slop of a line defined by the two points.\n",
    "\n",
    "3. call your method. your methods should return a bigger value if the slope of the line is bigger. vice versa( if the slope of the line is smaller, your method should return a smaller value.\n",
    "\n",
    "4. for exmaple, \n",
    "    lineAB: A(10, 8), B(16, 18),    result = 0.7\n",
    "    lineAC: A(10, 8), C(16, 9)      result < 0.7\n",
    "    \n",
    "    we assume slope of LineAB is greater then lineAC, then the result your method returned for lineAB should be larger than the result your methods returned for lineAC."
   ]
  },
  {
   "cell_type": "code",
   "execution_count": null,
   "id": "d5d62cbe-69f6-4323-93bf-68ead2b057ad",
   "metadata": {},
   "outputs": [],
   "source": [
    "2. use %\n",
    "\n"
   ]
  },
  {
   "cell_type": "code",
   "execution_count": null,
   "id": "73443be7-848c-4468-a432-680c2c652323",
   "metadata": {},
   "outputs": [],
   "source": [
    "3. use if else in one line\n",
    "\n"
   ]
  },
  {
   "cell_type": "code",
   "execution_count": 1,
   "id": "12987854-92e1-4005-906e-934a4422d8b9",
   "metadata": {},
   "outputs": [],
   "source": [
    "from math import sqrt\n",
    "def distance(p1, p2):\n",
    "    return(sqrt((p1[0]-p2[0])**2 + (p1[1]-p2[1])**2))\n"
   ]
  },
  {
   "cell_type": "code",
   "execution_count": 59,
   "id": "4db97634-99a5-4223-900c-8e906a97c800",
   "metadata": {},
   "outputs": [],
   "source": [
    "reset()\n",
    "prepare_paper(width, height, scale=20, min_x=0, min_y=0, max_y=25)"
   ]
  },
  {
   "cell_type": "code",
   "execution_count": 61,
   "id": "8ed2f8c0-32e0-4c0e-a451-d808c224d802",
   "metadata": {},
   "outputs": [],
   "source": [
    "def get_slope(point1, point2):\n",
    "    # point1 != point2\n",
    "    result = None\n",
    "    #TODO result = ?\n",
    "    return result"
   ]
  },
  {
   "cell_type": "code",
   "execution_count": 62,
   "id": "cd35e532-fd97-496a-b855-ff2a6917310e",
   "metadata": {},
   "outputs": [],
   "source": [
    "point1 = (10, 8)\n",
    "point2 = (16, 18)\n",
    "point3 = (16, 9)\n",
    "result1 = get_slope(point1, point2) \n",
    "line(point1, point2)# line2"
   ]
  },
  {
   "cell_type": "code",
   "execution_count": 64,
   "id": "a1183993-9fc2-49c6-9828-a32c137e75c9",
   "metadata": {},
   "outputs": [],
   "source": [
    "result2 = get_slope(point1, point2)  \n",
    "line(point1, point3)# line3"
   ]
  },
  {
   "cell_type": "code",
   "execution_count": null,
   "id": "7fc87bad-677a-4340-a0c9-d2da835addfa",
   "metadata": {},
   "outputs": [],
   "source": [
    "# Option1\n",
    "# result1, result2\n",
    "# when result1 > result2 -> slope of line2 > slope of line3\n",
    "\n",
    "\n",
    "# Option2\n",
    "# when result1 < result2 -> slope of line2 > slope of line3\n"
   ]
  },
  {
   "cell_type": "markdown",
   "id": "5862fd27-7baa-4f4e-abfb-39ffec008465",
   "metadata": {},
   "source": [
    "from time import sleep\n",
    "A = (10, 8)\n",
    "Bs = [(16, 18), (16, 9), (11, 18), (16, 8), (10, 18), (16, 14)]\n",
    "reset()\n",
    "prepare_paper(width, height, scale=20, min_x=0, min_y=0, max_y=25)\n",
    "for B in Bs:\n",
    "    line(A, B)\n",
    "    dis = distance(A, B)\n",
    "    print(\"{:>5.2f}\".format(dis))"
   ]
  },
  {
   "cell_type": "code",
   "execution_count": 30,
   "id": "c25cf736-dc51-4c96-b700-15b89f69c3ef",
   "metadata": {},
   "outputs": [
    {
     "name": "stdout",
     "output_type": "stream",
     "text": [
      "11.664999\n"
     ]
    }
   ],
   "source": [
    "num = 11.664999\n",
    "print(num)"
   ]
  },
  {
   "cell_type": "code",
   "execution_count": 31,
   "id": "2eba6c4b-5cc5-4942-9b43-b1a29f362164",
   "metadata": {},
   "outputs": [
    {
     "name": "stdout",
     "output_type": "stream",
     "text": [
      "11.664999\n"
     ]
    }
   ],
   "source": [
    "print(\"{}\".format(num))"
   ]
  },
  {
   "cell_type": "code",
   "execution_count": 41,
   "id": "4f784003-b734-46cf-9b54-dd9670130956",
   "metadata": {},
   "outputs": [
    {
     "name": "stdout",
     "output_type": "stream",
     "text": [
      "11.66___\n"
     ]
    }
   ],
   "source": [
    "print(\"{:_<8.2f}\".format(num))"
   ]
  },
  {
   "cell_type": "code",
   "execution_count": null,
   "id": "c67c6e8d-108d-4c29-aad0-ffd68e9bf618",
   "metadata": {},
   "outputs": [],
   "source": [
    "str_a = \"{}\".format(num)\n",
    "# 1. number of decimal position.\n",
    "# 2. total positions\n",
    "# 3. align: > right align, < left align, ^ central align\n",
    "# 4. padding: "
   ]
  },
  {
   "cell_type": "code",
   "execution_count": null,
   "id": "b6ea1866-7b9a-4189-9407-a4093a963fe3",
   "metadata": {},
   "outputs": [],
   "source": [
    "pi = 3.1415926\n",
    "\n",
    "# 1. 4 position after .\n",
    "# 2. 10 position for the num\n",
    "# 3. right align\n",
    "# 4. 0 for padding."
   ]
  },
  {
   "cell_type": "code",
   "execution_count": 50,
   "id": "61ca34e8-204a-4673-9319-6cc8e7e65393",
   "metadata": {},
   "outputs": [],
   "source": [
    "text((8, 10), \"AB=12\")"
   ]
  },
  {
   "cell_type": "markdown",
   "id": "ce0d3c29-0477-410e-b65b-4fd0ecf8c377",
   "metadata": {},
   "source": [
    "2. randomly generate 100 points, whose x and y coordiante values are all within (0, 20). named: ABCDEFGHIJ. connect ABCDEFGHIJA,  formed a shape ABCDEFGHIJA, calculate the perimeter of the shape."
   ]
  },
  {
   "cell_type": "code",
   "execution_count": 43,
   "id": "0d1d3d1e-45b1-4fd6-9e5c-ba3da90f2891",
   "metadata": {},
   "outputs": [
    {
     "name": "stdout",
     "output_type": "stream",
     "text": [
      "[(17, 13), (15, 5), (1, 3), (10, 12), (15, 17), (4, 7), (11, 4), (15, 1), (20, 4), (5, 5), (0, 17), (12, 9), (14, 3), (13, 5), (20, 20), (13, 15), (12, 16), (8, 0), (9, 16), (1, 5), (19, 2), (20, 12), (3, 15), (6, 18), (18, 11), (19, 18), (4, 3), (2, 2), (15, 1), (7, 0), (14, 20), (19, 13), (0, 8), (2, 5), (16, 12), (5, 7), (3, 13), (15, 0), (8, 6), (15, 9), (0, 13), (8, 12), (9, 8), (15, 6), (14, 2), (5, 5), (3, 15), (2, 14), (8, 1), (20, 14), (8, 18), (4, 16), (8, 8), (13, 20), (15, 17), (7, 11), (19, 13), (2, 19), (7, 6), (15, 18), (5, 7), (10, 9), (1, 2), (16, 17), (16, 1), (13, 19), (15, 13), (19, 6), (2, 16), (19, 9), (14, 18), (2, 20), (19, 14), (18, 16), (17, 9), (0, 3), (2, 10), (12, 7), (10, 2), (1, 16), (16, 16), (12, 3), (3, 16), (3, 20), (20, 15), (11, 3), (2, 12), (18, 17), (3, 16), (12, 17), (15, 14), (9, 2), (4, 9), (0, 17), (17, 14), (18, 13), (12, 2), (20, 11), (17, 2), (6, 11)]\n"
     ]
    }
   ],
   "source": [
    "from random import randint\n",
    "i = 0\n",
    "points = []\n",
    "while i < 100:\n",
    "    points.append((randint(0, 20), randint(0, 20)))\n",
    "    i += 1\n",
    "    \n",
    "print(points)"
   ]
  },
  {
   "cell_type": "code",
   "execution_count": 44,
   "id": "24bde231-b457-4d14-8888-3d31a699a126",
   "metadata": {},
   "outputs": [],
   "source": [
    "points = [(17, 13), (15, 5), (1, 3), (10, 12), (15, 17), (4, 7), (11, 4), (15, 1), (20, 4), \n",
    "          (5, 5), (0, 17), (12, 9), (14, 3), (13, 5), (20, 20), (13, 15), (12, 16), (8, 0), \n",
    "          (9, 16), (1, 5), (19, 2), (20, 12), (3, 15), (6, 18), (18, 11), (19, 18), (4, 3), \n",
    "          (2, 2), (15, 1), (7, 0), (14, 20), (19, 13), (0, 8), (2, 5), (16, 12), (5, 7), \n",
    "          (3, 13), (15, 0), (8, 6), (15, 9), (0, 13), (8, 12), (9, 8), (15, 6), (14, 2), \n",
    "          (5, 5), (3, 15), (2, 14), (8, 1), (20, 14), (8, 18), (4, 16), (8, 8), (13, 20), \n",
    "          (15, 17), (7, 11), (19, 13), (2, 19), (7, 6), (15, 18), (5, 7), (10, 9), (1, 2), \n",
    "          (16, 17), (16, 1), (13, 19), (15, 13), (19, 6), (2, 16), (19, 9), (14, 18), (2, 20),\n",
    "          (19, 14), (18, 16), (17, 9), (0, 3), (2, 10), (12, 7), (10, 2), (1, 16), (16, 16),\n",
    "          (12, 3), (3, 16), (3, 20), (20, 15), (11, 3), (2, 12), (18, 17), (3, 16), (12, 17), \n",
    "          (15, 14), (9, 2), (4, 9), (0, 17), (17, 14), (18, 13), (12, 2), (20, 11), (17, 2),\n",
    "          (6, 11)]"
   ]
  },
  {
   "cell_type": "code",
   "execution_count": 56,
   "id": "cf8dd8b9-06ea-4dfd-89a4-0def1addf193",
   "metadata": {},
   "outputs": [
    {
     "name": "stdout",
     "output_type": "stream",
     "text": [
      "1133.87\n"
     ]
    }
   ],
   "source": [
    "reset()\n",
    "prepare_paper(width, height, scale=20, min_x=0, min_y=0, max_y=25)\n",
    "i = 0\n",
    "dis = 0\n",
    "n_points = len(points)\n",
    "while i < n_points:\n",
    "    color = \"black\" if i < n_points-1 else \"red\"\n",
    "    size = 1 if i < n_points-1 else 3\n",
    "    line(points[i], points[(i+1)%n_points], color=color, line_width=size)\n",
    "    dis += distance(points[i], points[(i+1)%n_points])\n",
    "    i += 1\n",
    "    \n",
    "print(\"{:.2f}\".format(dis))    "
   ]
  },
  {
   "cell_type": "code",
   "execution_count": null,
   "id": "a9afbb90-a402-4e9a-8602-454f26357d35",
   "metadata": {},
   "outputs": [],
   "source": [
    "if i < n_points - 1:\n",
    "    color = \"black\"\n",
    "else:\n",
    "    color = \"red\""
   ]
  },
  {
   "cell_type": "code",
   "execution_count": 58,
   "id": "9adfd6d8-1b9f-464f-adfa-e2920c5b4281",
   "metadata": {},
   "outputs": [
    {
     "name": "stdout",
     "output_type": "stream",
     "text": [
      "[(17, 13), (15, 5), (1, 3), (10, 12), (15, 17), (4, 7), (11, 4), (15, 1), (20, 4), (5, 5)]\n"
     ]
    }
   ],
   "source": [
    "new_points = points[0:10]\n",
    "print(new_points)"
   ]
  },
  {
   "cell_type": "code",
   "execution_count": null,
   "id": "070f045c-2662-49fe-916c-f460ff7673d6",
   "metadata": {},
   "outputs": [],
   "source": [
    "# len(points) = 100, points[0],       ...      points[99]\n",
    "# is there points[100] ???\n",
    "\n",
    "#        i           point1           point2        n_line\n",
    "#        0           points[0]        points[1]     1 \n",
    "#        1           points[1]        points[2]     2\n",
    "#        2           points[2]        points[3]\n",
    "#        ....\n",
    "#        m           points[m]        points[m+1]   m+1\n",
    "#        ....\n",
    "#        98          points[98]       points[99]    99\n",
    "#        99          points[99]       points[100]   100       "
   ]
  },
  {
   "cell_type": "code",
   "execution_count": null,
   "id": "e7e449e5-76bd-4306-8fb1-6c7477a7af22",
   "metadata": {},
   "outputs": [],
   "source": [
    "i = 0\n",
    "while i < 100:\n",
    "    line(points[i], points[f(i+1)])\n"
   ]
  },
  {
   "cell_type": "code",
   "execution_count": null,
   "id": "c4217021-bb63-4fec-8b4b-c96342da4fe0",
   "metadata": {},
   "outputs": [],
   "source": [
    "expression  y = f(x)\n",
    "x      ->              y"
   ]
  },
  {
   "cell_type": "code",
   "execution_count": null,
   "id": "e68b243c-3b02-4515-975b-24290e108a5e",
   "metadata": {},
   "outputs": [],
   "source": [
    "def f(x):\n",
    "    \"\"\" when x < 100, return x\n",
    "        when x == 100, return 0\n",
    "    \"\"\"\n",
    "    y = _________ # +, -, *, /, //, %, **2\n",
    "    return y"
   ]
  }
 ],
 "metadata": {
  "kernelspec": {
   "display_name": "Python 3 (ipykernel)",
   "language": "python",
   "name": "python3"
  },
  "language_info": {
   "codemirror_mode": {
    "name": "ipython",
    "version": 3
   },
   "file_extension": ".py",
   "mimetype": "text/x-python",
   "name": "python",
   "nbconvert_exporter": "python",
   "pygments_lexer": "ipython3",
   "version": "3.9.0"
  }
 },
 "nbformat": 4,
 "nbformat_minor": 5
}
