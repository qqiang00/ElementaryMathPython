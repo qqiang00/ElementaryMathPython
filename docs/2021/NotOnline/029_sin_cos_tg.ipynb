{
 "cells": [
  {
   "cell_type": "markdown",
   "id": "relative-location",
   "metadata": {},
   "source": [
    "## 第29讲 基本三角函数\n",
    "\n",
    "Lecture29 Sin Cos and Tg functions"
   ]
  },
  {
   "cell_type": "markdown",
   "id": "d12f05dd",
   "metadata": {},
   "source": [
    "### Problem 问题描述"
   ]
  },
  {
   "cell_type": "markdown",
   "id": "87c843e7-cbef-4128-9360-c3ebd33dcc1b",
   "metadata": {},
   "source": [
    "使用`qianglib`库提供的方法，绘制方格坐标纸，其中坐标系的原点`(0,0)`位于绘图区的最左下方，使用的`scale`值为`20`. Use the methods provided in the library `qianglib`, draw a grid coordinate system where the origin `(0, 0)` is at the bottom left of the coordinate system.\n",
    "\n",
    "1. 给定一个点P(x, y), 连接原点O与点P形成线段OP，设OP与X轴正方向形成夹角 $\\angle POX$\n",
    "\n",
    "\n"
   ]
  },
  {
   "cell_type": "markdown",
   "id": "fdb138a5-8d88-4ef7-943a-124f33887b2d",
   "metadata": {},
   "source": []
  },
  {
   "cell_type": "markdown",
   "id": "1270f26d-e2ca-45e0-a679-ec82361795da",
   "metadata": {},
   "source": [
    "### Math Background 数学背景\n",
    "\n",
    "1. 三角函数"
   ]
  },
  {
   "cell_type": "markdown",
   "id": "sorted-furniture",
   "metadata": {
    "heading_collapsed": true
   },
   "source": [
    "### Prerequisites 预备知识"
   ]
  },
  {
   "cell_type": "markdown",
   "id": "ac3f3f62-7bb0-4f00-9a4e-4085b96c14dd",
   "metadata": {},
   "source": [
    "无"
   ]
  },
  {
   "cell_type": "markdown",
   "id": "d55f37d9",
   "metadata": {},
   "source": [
    "### Solution 编程求解"
   ]
  },
  {
   "cell_type": "markdown",
   "id": "fe71a786-9c32-4ccb-8ac0-747e43eb8623",
   "metadata": {},
   "source": [
    "1. "
   ]
  },
  {
   "cell_type": "code",
   "execution_count": 1,
   "id": "b1ae7be3-fdde-46b5-820e-c35a55d2fbe0",
   "metadata": {},
   "outputs": [],
   "source": [
    "from turtle import setup, reset, pu, pd, bye, left, right, fd, bk, screensize\n",
    "from turtle import goto, seth, write, ht, st, home, dot, pen, speed\n",
    "from qianglib import prepare_paper, draw_grid, mark, lines, line, polygon, text"
   ]
  },
  {
   "cell_type": "code",
   "execution_count": 2,
   "id": "bed66e63-7d02-4c22-bf10-8863883aab94",
   "metadata": {},
   "outputs": [],
   "source": [
    "width, height = 800, 600\n",
    "setup(width, height, 0, 0)\n",
    "prepare_paper(width, height, scale=20, min_x=0, min_y=0, max_y=25)"
   ]
  },
  {
   "cell_type": "code",
   "execution_count": 62,
   "id": "118120c1-2928-4954-9b21-bb2d14f466d0",
   "metadata": {},
   "outputs": [],
   "source": [
    "reset()\n",
    "prepare_paper(width, height, scale=20, min_x=0, min_y=0, max_y=25)"
   ]
  },
  {
   "cell_type": "code",
   "execution_count": 63,
   "id": "f79b4800-204a-4606-9764-33c2a4bf603f",
   "metadata": {},
   "outputs": [],
   "source": [
    "def find_slope(P1, P2):\n",
    "    return P2[1]-P1[1] if P2[1]>P1[1] else P1[1]-P2[1]"
   ]
  },
  {
   "cell_type": "code",
   "execution_count": 64,
   "id": "ff3d373f-e486-45b3-a328-cadeed3ac2c7",
   "metadata": {},
   "outputs": [],
   "source": [
    "P1 = (10, 8)\n",
    "mark(P1, \"P1\"+str(P1), offset=(0, -1))\n"
   ]
  },
  {
   "cell_type": "code",
   "execution_count": 65,
   "id": "8c22678b-abf5-4d45-a765-980cc0557753",
   "metadata": {},
   "outputs": [],
   "source": [
    "line(P1, (P1[0]+15, P1[1]), color=\"green\")"
   ]
  },
  {
   "cell_type": "code",
   "execution_count": 66,
   "id": "c8ccd822-1113-4a19-a6e5-045a91481f5c",
   "metadata": {},
   "outputs": [],
   "source": [
    "P5 = (20, 18)\n",
    "line(P1, P5, color=\"blue\")\n",
    "mark(P5, \"P5\"+str(P5))"
   ]
  },
  {
   "cell_type": "code",
   "execution_count": 67,
   "id": "5294fa4f-bd38-46cc-b90b-d5bc1f1c48e3",
   "metadata": {},
   "outputs": [],
   "source": [
    "line(P1, P5p)"
   ]
  },
  {
   "cell_type": "code",
   "execution_count": 68,
   "id": "a7b8ba3e-eb14-411c-94ce-6fcfd86077e8",
   "metadata": {},
   "outputs": [],
   "source": [
    "P5p = (P5[0], P1[1])\n",
    "mark(P5p, \"P5'\"+str(P5p))\n",
    "line(P5, P5p, color = \"red\")"
   ]
  },
  {
   "cell_type": "code",
   "execution_count": 69,
   "id": "bdabab03-afcb-466a-aece-d0ebc1cb4117",
   "metadata": {},
   "outputs": [],
   "source": [
    "P6 = (20, 13)\n",
    "mark(P6, \"P6\"+str(P6))\n",
    "line(P1, P6, color=\"yellow\")"
   ]
  },
  {
   "cell_type": "code",
   "execution_count": null,
   "id": "c9e458c5-0539-4505-b23a-bbcf55d56676",
   "metadata": {},
   "outputs": [],
   "source": []
  },
  {
   "cell_type": "markdown",
   "id": "7c0f5e4e-9f2c-46e1-b4a1-ecff7f4721e2",
   "metadata": {},
   "source": [
    "### Compare slopes of two line segments:"
   ]
  },
  {
   "cell_type": "markdown",
   "id": "52a38bc1-4be8-4851-b896-2024d905c30f",
   "metadata": {},
   "source": [
    "#### Scenario 1\n",
    "1. same start point\n",
    "2. the X values of two end points are same, but Y values are not equal\n",
    "\n",
    "higher the Y value of endpoint, bigger the slope is"
   ]
  },
  {
   "cell_type": "markdown",
   "id": "0892a410-0c4d-4cf0-817e-7823eb7c3900",
   "metadata": {},
   "source": [
    "#### Scenario 2\n",
    "1. Same start point\n",
    "2. the Y values of two end points are same, but X values are not equal\n",
    "\n",
    "higher the Y value of endpoint, smaller the slope is"
   ]
  },
  {
   "cell_type": "code",
   "execution_count": 70,
   "id": "4682abb5-67e9-414a-8d1e-0054cbc0cdab",
   "metadata": {},
   "outputs": [],
   "source": [
    "P7 = (14, 18)\n",
    "mark(P7, \"P7\"+str(P7))\n",
    "line(P1, P7, color=\"green\")"
   ]
  },
  {
   "cell_type": "markdown",
   "id": "875bb096-ab3a-40ec-887f-45269c57cd19",
   "metadata": {},
   "source": [
    "#### Scenario 3\n",
    "1. Same start point\n",
    "2. Neither of the X nor Y values of the endpoints are equal\n",
    "\n"
   ]
  },
  {
   "cell_type": "code",
   "execution_count": 71,
   "id": "34bf523e-0dda-4232-bc7b-7fc9e7c035fb",
   "metadata": {},
   "outputs": [],
   "source": [
    "P8 = (30, 14)\n",
    "mark(P8, \"P8\"+str(P8))\n",
    "line(P1, P8, color=\"cyan\")"
   ]
  },
  {
   "cell_type": "code",
   "execution_count": null,
   "id": "99dbd179-a1da-49c9-97c5-e9e3eeb16a9b",
   "metadata": {},
   "outputs": [],
   "source": [
    "P6p = "
   ]
  },
  {
   "cell_type": "markdown",
   "id": "2e207300-18f7-4881-94a4-f811444c7394",
   "metadata": {},
   "source": [
    "#### Scenario 4\n",
    "1. start point are not same.\n",
    "\n"
   ]
  },
  {
   "cell_type": "markdown",
   "id": "latest-contamination",
   "metadata": {},
   "source": [
    "### Summary 知识点小结"
   ]
  },
  {
   "cell_type": "markdown",
   "id": "afb3f674",
   "metadata": {},
   "source": [
    "1. "
   ]
  },
  {
   "cell_type": "markdown",
   "id": "bizarre-assurance",
   "metadata": {},
   "source": [
    "### 计算机小知识"
   ]
  },
  {
   "cell_type": "markdown",
   "id": "92100f08",
   "metadata": {},
   "source": [
    "暂缺"
   ]
  },
  {
   "cell_type": "markdown",
   "id": "digital-consensus",
   "metadata": {
    "heading_collapsed": true
   },
   "source": [
    "### Assignments 作业"
   ]
  },
  {
   "cell_type": "markdown",
   "id": "3a9a3e78-80ed-419e-a0b5-0886ae2736c8",
   "metadata": {},
   "source": [
    "P0 (10, 8)\n",
    "P1 (30, 14)\n",
    "P2 (25, 13)\n",
    "P3 (20, 13)\n",
    "P4 (22, 16)\n",
    "P5 (20, 18)\n",
    "P6 (17, 20)\n",
    "P7 (14, 18)\n",
    "P8 (12, 24)\n",
    "P9 (11, 20)\n",
    "P10(11, 25)\n",
    "P11(10, 20)"
   ]
  },
  {
   "cell_type": "markdown",
   "id": "0a858831-43da-4c09-8b6d-30a321619ec0",
   "metadata": {},
   "source": [
    "P0 (10, 8)\n",
    "P1 (30, 14)\n",
    "P2 (25, 13)\n",
    "P3 (20, 13)\n",
    "P4 (22, 16)\n",
    "P5 (20, 18)\n",
    "P6 (17, 20)\n",
    "P7 (14, 18)\n",
    "P8 (12, 24)\n",
    "P9 (11, 20)\n",
    "P10(11, 25)\n",
    "P11(10, 20)\n",
    "\n",
    "1. draw lines P0P1, P0P2, ..., P0P11, try to use different colors\n",
    "2. select 2 lines, in each line, select 5 points, explain the steps forwarded and the steps rised. give the fraction: rised/forwarded\n",
    "3. implement the method to clacualte the slope of line defiend by P0, P1 (P0 start, P1 end)\n",
    "4. calculate the slope of each line (slope = rised/forwarded = diff y / diff x)\n",
    "5. observe and tell the pattern."
   ]
  },
  {
   "cell_type": "code",
   "execution_count": 58,
   "id": "486ff598-0b29-4e81-a426-ae773bb624a6",
   "metadata": {},
   "outputs": [],
   "source": [
    "reset()\n",
    "prepare_paper(width, height, scale=20, min_x=0, min_y=0, max_y=25)"
   ]
  },
  {
   "cell_type": "code",
   "execution_count": 61,
   "id": "e69eb6e0-ebd8-4dbb-af01-47498f9361b2",
   "metadata": {},
   "outputs": [],
   "source": [
    "line(P0, ps[5], color = \"red\")\n",
    "mark(P0)\n",
    "mark(ps[5])"
   ]
  },
  {
   "cell_type": "code",
   "execution_count": 62,
   "id": "1505732b-70b6-4fa2-aa19-eaf0af130dc9",
   "metadata": {},
   "outputs": [],
   "source": [
    "P = (ps[5][0], P0[1])\n",
    "line(P0, P)\n",
    "line(P, ps[5])"
   ]
  },
  {
   "cell_type": "code",
   "execution_count": null,
   "id": "efd4a82b-d5e3-4d7f-a74b-756eee586706",
   "metadata": {},
   "outputs": [],
   "source": []
  },
  {
   "cell_type": "code",
   "execution_count": 18,
   "id": "2d9ab3f8-733e-46cd-9e36-9e8d3088253b",
   "metadata": {},
   "outputs": [],
   "source": [
    "pos_inf = float(\"inf\")   # "
   ]
  },
  {
   "cell_type": "code",
   "execution_count": 24,
   "id": "f1dcd80e-f44d-4191-a2bc-bc9a72f4e1f9",
   "metadata": {},
   "outputs": [
    {
     "name": "stdout",
     "output_type": "stream",
     "text": [
      "True\n"
     ]
    }
   ],
   "source": [
    "num = 1000000000000000000000000000000000000000000\n",
    "print(pos_inf > num)"
   ]
  },
  {
   "cell_type": "code",
   "execution_count": 26,
   "id": "e8b22ec1-44a5-45ad-a06e-221521d368ae",
   "metadata": {},
   "outputs": [
    {
     "name": "stdout",
     "output_type": "stream",
     "text": [
      "True\n"
     ]
    }
   ],
   "source": [
    "print(pos_inf + 1 == pos_inf)"
   ]
  },
  {
   "cell_type": "code",
   "execution_count": 19,
   "id": "36d6b77d-1107-4875-bcf1-b44ffcd40e40",
   "metadata": {},
   "outputs": [],
   "source": [
    "neg_inf = float(\"-inf\")"
   ]
  },
  {
   "cell_type": "code",
   "execution_count": 20,
   "id": "2ca90a39-5f36-433f-91f2-1974c2909869",
   "metadata": {},
   "outputs": [
    {
     "name": "stdout",
     "output_type": "stream",
     "text": [
      "pos inf is larger than neg_inf\n"
     ]
    }
   ],
   "source": [
    "if pos_inf > neg_inf:\n",
    "    print(\"pos inf is larger than neg_inf\")"
   ]
  },
  {
   "cell_type": "code",
   "execution_count": 21,
   "id": "21f6586e-c9cf-4250-92e2-54c3a91c0e83",
   "metadata": {},
   "outputs": [],
   "source": [
    "diff = pos_inf - neg_inf"
   ]
  },
  {
   "cell_type": "code",
   "execution_count": 22,
   "id": "b5ac4d41-27ab-4466-93b0-72eceed24d06",
   "metadata": {},
   "outputs": [
    {
     "name": "stdout",
     "output_type": "stream",
     "text": [
      "inf\n"
     ]
    }
   ],
   "source": [
    "print(diff)"
   ]
  },
  {
   "cell_type": "code",
   "execution_count": 23,
   "id": "8a7a7149-83a8-44f0-9305-86eece59a271",
   "metadata": {},
   "outputs": [
    {
     "name": "stdout",
     "output_type": "stream",
     "text": [
      "True\n"
     ]
    }
   ],
   "source": [
    "print(diff == pos_inf)"
   ]
  },
  {
   "cell_type": "code",
   "execution_count": 27,
   "id": "87319164-1ef4-45a8-8334-145110a001dc",
   "metadata": {},
   "outputs": [
    {
     "data": {
      "text/plain": [
       "nan"
      ]
     },
     "execution_count": 27,
     "metadata": {},
     "output_type": "execute_result"
    }
   ],
   "source": [
    "pos_inf + neg_inf"
   ]
  },
  {
   "cell_type": "code",
   "execution_count": 28,
   "id": "1df3045d-37ee-4270-a8fc-e5a59cd9c068",
   "metadata": {},
   "outputs": [
    {
     "name": "stdout",
     "output_type": "stream",
     "text": [
      "nan\n"
     ]
    }
   ],
   "source": [
    "sum_ = pos_inf + neg_inf\n",
    "print(sum_)"
   ]
  },
  {
   "cell_type": "code",
   "execution_count": null,
   "id": "7965dd5c-2496-4c35-bc8f-c088275f92a4",
   "metadata": {},
   "outputs": [],
   "source": [
    "# angle = 0,              slope = 0, \n",
    "# 0 < angle < 45          0 < slope < 1\n",
    "# angle = 45,             slope = 1, \n",
    "# 45 < angle < 90         1 < slope < float(\"inf\")\n",
    "# angle = 90,             slope = float(\"inf\") "
   ]
  },
  {
   "cell_type": "code",
   "execution_count": 35,
   "id": "2abc332e-43d8-4e77-809c-b45d4fd0d6a2",
   "metadata": {},
   "outputs": [],
   "source": [
    "from math import sqrt, tan, pow\n",
    "from math import pi"
   ]
  },
  {
   "cell_type": "code",
   "execution_count": 31,
   "id": "7b08d742-ed2d-47d8-8b3f-7676933d4329",
   "metadata": {},
   "outputs": [
    {
     "name": "stdout",
     "output_type": "stream",
     "text": [
      "3.141592653589793\n"
     ]
    }
   ],
   "source": [
    "print(pi)"
   ]
  },
  {
   "cell_type": "code",
   "execution_count": 36,
   "id": "bc8a1f45-6237-436c-9fcc-973cf4da1f69",
   "metadata": {},
   "outputs": [
    {
     "data": {
      "text/plain": [
       "0.0"
      ]
     },
     "execution_count": 36,
     "metadata": {},
     "output_type": "execute_result"
    }
   ],
   "source": [
    "tan(0)"
   ]
  },
  {
   "cell_type": "code",
   "execution_count": 43,
   "id": "3e3d7e95-76b5-4654-8563-e1c0305c939f",
   "metadata": {},
   "outputs": [
    {
     "data": {
      "text/plain": [
       "0.9999999999999999"
      ]
     },
     "execution_count": 43,
     "metadata": {},
     "output_type": "execute_result"
    }
   ],
   "source": [
    "tan(pi/4)"
   ]
  },
  {
   "cell_type": "code",
   "execution_count": 44,
   "id": "677a6d1f-b84e-4964-ae99-47224c1dcde5",
   "metadata": {},
   "outputs": [
    {
     "data": {
      "text/plain": [
       "-1.2246467991473532e-16"
      ]
     },
     "execution_count": 44,
     "metadata": {},
     "output_type": "execute_result"
    }
   ],
   "source": [
    "tan(pi)"
   ]
  },
  {
   "cell_type": "code",
   "execution_count": null,
   "id": "116a769f-6d18-48f8-b04d-5d9f15b7a50b",
   "metadata": {},
   "outputs": [],
   "source": [
    "# point a, b\n",
    "# slope = dy/dx\n",
    "# sin = dy / length(a, b)"
   ]
  },
  {
   "cell_type": "code",
   "execution_count": 83,
   "id": "6ecc5858-478d-4dfa-aa18-9dee36801be3",
   "metadata": {},
   "outputs": [],
   "source": [
    "def my_tan(p1, p2):\n",
    "    dx = abs(p2[0] - p1[0])\n",
    "    dy = abs(p2[1] - p1[1])\n",
    "    if dx != 0:\n",
    "        slope = dy/dx\n",
    "    else:\n",
    "        slope = float(\"inf\")#\"infinite\"\n",
    "    return slope"
   ]
  },
  {
   "cell_type": "code",
   "execution_count": 103,
   "id": "15dcc635-bcf5-4530-8411-5eef97a0df57",
   "metadata": {},
   "outputs": [],
   "source": [
    "from math import sqrt\n",
    "def my_sin(p1, p2):\n",
    "    # p1, p2 are tuple: (x, y)\n",
    "    # result = dy / distance(p1, p2)\n",
    "    dy = abs(p2[1]-p1[1])\n",
    "    dx = abs(p2[0]-p1[0])\n",
    "    dis = sqrt(dx**2 + dy**2)\n",
    "    result = dy / dis\n",
    "    return result"
   ]
  },
  {
   "cell_type": "code",
   "execution_count": 104,
   "id": "4a9e6dd4-4a5f-439a-8cbe-cda93015400b",
   "metadata": {},
   "outputs": [],
   "source": [
    "from math import sqrt\n",
    "def my_cos(p1, p2):\n",
    "    # p1, p2 are tuple: (x, y)\n",
    "    # result = dx / distance(p1, p2)\n",
    "    dy = abs(p2[1]-p1[1])\n",
    "    dx = abs(p2[0]-p1[0])\n",
    "    dis = sqrt(dx**2 + dy**2)\n",
    "    result = dx / dis\n",
    "    return result"
   ]
  },
  {
   "cell_type": "code",
   "execution_count": 107,
   "id": "13a39606-7a31-4fc4-a8f0-a175dc7b4a4a",
   "metadata": {},
   "outputs": [],
   "source": [
    "P0 =(10, 8)\n",
    "colors = [\"Black\", \"Red\", \"Blue\", \"Green\", \"Cyan\", \"Yellow\", \"Brown\",\n",
    "          \"Black\", \"Grey\", \"Orange\", \"Aquamarine\", \"Black\"]\n",
    "ps = [(25, 8), (30, 14), (25, 13), (20, 13), (22, 16), (20, 18), (17, 20),\n",
    "      (14, 18), (12, 24), (11, 20), (11, 25), (10, 20)]\n"
   ]
  },
  {
   "cell_type": "code",
   "execution_count": 108,
   "id": "e4bc8bd5-b1cb-4dea-bdf1-6d6925912844",
   "metadata": {},
   "outputs": [],
   "source": [
    "reset()\n",
    "prepare_paper(width, height, scale=20, min_x=0, min_y=0, max_y=25)"
   ]
  },
  {
   "cell_type": "code",
   "execution_count": 109,
   "id": "f1e443cc-cd72-4a3b-8c93-59dcbf5d6453",
   "metadata": {},
   "outputs": [
    {
     "name": "stdout",
     "output_type": "stream",
     "text": [
      "P0-P1 : tan:    0.00000; sin:    0.00000; cos:    1.00000\n",
      "P0-P2 : tan:    0.30000; sin:    0.28735; cos:    0.95783\n",
      "P0-P3 : tan:    0.33333; sin:    0.31623; cos:    0.94868\n",
      "P0-P4 : tan:    0.50000; sin:    0.44721; cos:    0.89443\n",
      "P0-P5 : tan:    0.66667; sin:    0.55470; cos:    0.83205\n",
      "P0-P6 : tan:    1.00000; sin:    0.70711; cos:    0.70711\n",
      "P0-P7 : tan:    1.71429; sin:    0.86378; cos:    0.50387\n",
      "P0-P8 : tan:    2.50000; sin:    0.92848; cos:    0.37139\n",
      "P0-P9 : tan:    8.00000; sin:    0.99228; cos:    0.12403\n",
      "P0-P10: tan:   12.00000; sin:    0.99655; cos:    0.08305\n",
      "P0-P11: tan:   17.00000; sin:    0.99827; cos:    0.05872\n",
      "P0-P12: tan:        inf; sin:    1.00000; cos:    0.00000\n"
     ]
    }
   ],
   "source": [
    "i = 0\n",
    "mark(P0, \"P0\", offset=(-1,-1))\n",
    "while i < len(ps):\n",
    "    line(P0, ps[i], color = colors[i])\n",
    "    mark(ps[i], \"P{}\".format(i+1), offset=(-1, 0))\n",
    "    slope = slope_finder(P0, ps[i])\n",
    "    sin = my_sin(P0, ps[i])\n",
    "    cos = my_cos(P0, ps[i])\n",
    "    print(\"P0-P{:<2}: tan: {:10.5f}; sin: {:10.5f}; cos: {:10.5f}\"\n",
    "          .format(i+1, slope, sin, cos))\n",
    "    i+=1\n",
    "    "
   ]
  },
  {
   "cell_type": "code",
   "execution_count": null,
   "id": "17c76306-40c3-4b9e-a953-c05a18c90263",
   "metadata": {},
   "outputs": [],
   "source": []
  },
  {
   "cell_type": "markdown",
   "id": "2829c28c-e4ae-455a-aea1-38c86305c21f",
   "metadata": {},
   "source": [
    "Justify: $$Cos(P_0, P_1)^2 + Sin(P_0, P_1)^2 = 1$$ holds for all $P_0$ and $P_1$, where $P_0$ and $P_1$ are two different points.\n",
    "\n",
    "Show this holds by using the `P0`, and `ps`."
   ]
  },
  {
   "cell_type": "code",
   "execution_count": null,
   "id": "164e6851-488c-4131-b3f7-c0fcf10c7a7a",
   "metadata": {},
   "outputs": [],
   "source": []
  },
  {
   "cell_type": "code",
   "execution_count": null,
   "id": "0aa7726e-d698-4c8b-b970-90891b436948",
   "metadata": {},
   "outputs": [],
   "source": []
  },
  {
   "cell_type": "code",
   "execution_count": 82,
   "id": "70f6b82b-231d-46c0-86db-0c24572e658f",
   "metadata": {},
   "outputs": [],
   "source": [
    "P0 =(10, 8)\n",
    "colors = [\"Black\", \"Red\", \"Blue\", \"Green\", \"Cyan\", \"Yellow\", \"Brown\", \n",
    "          \"Black\", \"Grey\", \"Orange\", \"Aquamarine\", \"Black\"]\n",
    "ps = [(25, 8), (30, 14), (25, 13), (20, 13), (22, 16), (20, 18), \n",
    "      (17, 20), (14, 18), (12, 24), (11, 20), (11, 25), (10, 20)]"
   ]
  },
  {
   "cell_type": "code",
   "execution_count": 111,
   "id": "8b09bcde-2118-4e3a-82d8-68ac78144dca",
   "metadata": {},
   "outputs": [
    {
     "data": {
      "text/plain": [
       "1.0000091042"
      ]
     },
     "execution_count": 111,
     "metadata": {},
     "output_type": "execute_result"
    }
   ],
   "source": [
    "# P0-P6 : tan:    1.00000; sin:    0.70711; cos:    0.70711\n",
    "0.70711**2 + 0.70711**2"
   ]
  },
  {
   "cell_type": "code",
   "execution_count": 110,
   "id": "d81b953f-f400-4e46-9f88-124a83df00fd",
   "metadata": {},
   "outputs": [
    {
     "data": {
      "text/plain": [
       "0.9999992924999999"
      ]
     },
     "execution_count": 110,
     "metadata": {},
     "output_type": "execute_result"
    }
   ],
   "source": [
    "#P0-P5 : tan:    0.66667; sin:    0.55470; cos:    0.83205\n",
    "0.55470**2 + 0.83205**2 "
   ]
  },
  {
   "cell_type": "markdown",
   "id": "63aa6590-e6fb-4b92-bcda-17a411654291",
   "metadata": {},
   "source": [
    "Show $$ \\left( \\frac{a}{b}\\right) ^2 = \\frac{a^2}{b^2} $$"
   ]
  },
  {
   "cell_type": "code",
   "execution_count": 6,
   "id": "a8289e88-3131-442b-bb9f-816057d49a24",
   "metadata": {},
   "outputs": [],
   "source": [
    "def verify_fraction_square(a, b):\n",
    "    frac_square = (a/b)**2\n",
    "    square_frac = (a**2) / (b**2)\n",
    "    print(\"left = {}, right = {}\".format(frac_square, square_frac))\n",
    "    if abs(frac_square - square_frac) < 0.000001:\n",
    "        print(\"equals\")\n",
    "    else:\n",
    "        print(\"Not equal\")"
   ]
  },
  {
   "cell_type": "code",
   "execution_count": 10,
   "id": "9ac46759-8175-412f-944c-7adb91f0baab",
   "metadata": {},
   "outputs": [
    {
     "name": "stdout",
     "output_type": "stream",
     "text": [
      "left = 0.07438016528925619, right = 0.0743801652892562\n",
      "equals\n"
     ]
    }
   ],
   "source": [
    "a, b = 3, 11\n",
    "verify_fraction_square(a, b)"
   ]
  },
  {
   "cell_type": "code",
   "execution_count": null,
   "id": "538bfbfb-15de-4508-96a2-687843949de4",
   "metadata": {},
   "outputs": [],
   "source": []
  }
 ],
 "metadata": {
  "kernelspec": {
   "display_name": "Python 3 (ipykernel)",
   "language": "python",
   "name": "python3"
  },
  "language_info": {
   "codemirror_mode": {
    "name": "ipython",
    "version": 3
   },
   "file_extension": ".py",
   "mimetype": "text/x-python",
   "name": "python",
   "nbconvert_exporter": "python",
   "pygments_lexer": "ipython3",
   "version": "3.9.0"
  }
 },
 "nbformat": 4,
 "nbformat_minor": 5
}
