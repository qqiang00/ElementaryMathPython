{
 "cells": [
  {
   "cell_type": "markdown",
   "id": "relative-location",
   "metadata": {},
   "source": [
    "## 第29讲 基本三角函数\n",
    "\n",
    "Lecture29 Sin Cos and Tg functions"
   ]
  },
  {
   "cell_type": "markdown",
   "id": "d12f05dd",
   "metadata": {},
   "source": [
    "### Problem 问题描述"
   ]
  },
  {
   "cell_type": "markdown",
   "id": "87c843e7-cbef-4128-9360-c3ebd33dcc1b",
   "metadata": {},
   "source": [
    "使用`qianglib`库提供的方法，绘制方格坐标纸，其中坐标系的原点`(0,0)`位于绘图区的最左下方，使用的`scale`值为`20`. Use the methods provided in the library `qianglib`, draw a grid coordinate system where the origin `(0, 0)` is at the bottom left of the coordinate system.\n",
    "\n",
    "1. 给定一个点P(x, y), 连接原点O与点P形成线段OP，设OP与X轴正方向形成夹角 $\\angle POX$\n",
    "\n",
    "\n"
   ]
  },
  {
   "cell_type": "markdown",
   "id": "fdb138a5-8d88-4ef7-943a-124f33887b2d",
   "metadata": {},
   "source": []
  },
  {
   "cell_type": "markdown",
   "id": "1270f26d-e2ca-45e0-a679-ec82361795da",
   "metadata": {},
   "source": [
    "### Math Background 数学背景\n",
    "\n",
    "1. 三角函数"
   ]
  },
  {
   "cell_type": "markdown",
   "id": "sorted-furniture",
   "metadata": {
    "heading_collapsed": true
   },
   "source": [
    "### Prerequisites 预备知识"
   ]
  },
  {
   "cell_type": "markdown",
   "id": "ac3f3f62-7bb0-4f00-9a4e-4085b96c14dd",
   "metadata": {},
   "source": [
    "无"
   ]
  },
  {
   "cell_type": "markdown",
   "id": "d55f37d9",
   "metadata": {},
   "source": [
    "### Solution 编程求解"
   ]
  },
  {
   "cell_type": "markdown",
   "id": "fe71a786-9c32-4ccb-8ac0-747e43eb8623",
   "metadata": {},
   "source": [
    "1. "
   ]
  },
  {
   "cell_type": "code",
   "execution_count": 1,
   "id": "b1ae7be3-fdde-46b5-820e-c35a55d2fbe0",
   "metadata": {},
   "outputs": [],
   "source": [
    "from turtle import setup, reset, pu, pd, bye, left, right, fd, bk, screensize\n",
    "from turtle import goto, seth, write, ht, st, home, dot, pen, speed\n",
    "from qianglib import prepare_paper, draw_grid, mark, lines, line, polygon, text"
   ]
  },
  {
   "cell_type": "code",
   "execution_count": 37,
   "id": "bed66e63-7d02-4c22-bf10-8863883aab94",
   "metadata": {},
   "outputs": [],
   "source": [
    "width, height = 800, 600\n",
    "setup(width, height, 0, 0)\n",
    "prepare_paper(width, height, scale=20, min_x=0, min_y=0, max_y=25)"
   ]
  },
  {
   "cell_type": "code",
   "execution_count": 62,
   "id": "118120c1-2928-4954-9b21-bb2d14f466d0",
   "metadata": {},
   "outputs": [],
   "source": [
    "reset()\n",
    "prepare_paper(width, height, scale=20, min_x=0, min_y=0, max_y=25)"
   ]
  },
  {
   "cell_type": "code",
   "execution_count": 63,
   "id": "f79b4800-204a-4606-9764-33c2a4bf603f",
   "metadata": {},
   "outputs": [],
   "source": [
    "def find_slope(P1, P2):\n",
    "    return P2[1]-P1[1] if P2[1]>P1[1] else P1[1]-P2[1]"
   ]
  },
  {
   "cell_type": "code",
   "execution_count": 64,
   "id": "ff3d373f-e486-45b3-a328-cadeed3ac2c7",
   "metadata": {},
   "outputs": [],
   "source": [
    "P1 = (10, 8)\n",
    "mark(P1, \"P1\"+str(P1), offset=(0, -1))\n"
   ]
  },
  {
   "cell_type": "code",
   "execution_count": 65,
   "id": "8c22678b-abf5-4d45-a765-980cc0557753",
   "metadata": {},
   "outputs": [],
   "source": [
    "line(P1, (P1[0]+15, P1[1]), color=\"green\")"
   ]
  },
  {
   "cell_type": "code",
   "execution_count": 66,
   "id": "c8ccd822-1113-4a19-a6e5-045a91481f5c",
   "metadata": {},
   "outputs": [],
   "source": [
    "P5 = (20, 18)\n",
    "line(P1, P5, color=\"blue\")\n",
    "mark(P5, \"P5\"+str(P5))"
   ]
  },
  {
   "cell_type": "code",
   "execution_count": 67,
   "id": "5294fa4f-bd38-46cc-b90b-d5bc1f1c48e3",
   "metadata": {},
   "outputs": [],
   "source": [
    "line(P1, P5p)"
   ]
  },
  {
   "cell_type": "code",
   "execution_count": 68,
   "id": "a7b8ba3e-eb14-411c-94ce-6fcfd86077e8",
   "metadata": {},
   "outputs": [],
   "source": [
    "P5p = (P5[0], P1[1])\n",
    "mark(P5p, \"P5'\"+str(P5p))\n",
    "line(P5, P5p, color = \"red\")"
   ]
  },
  {
   "cell_type": "code",
   "execution_count": 69,
   "id": "bdabab03-afcb-466a-aece-d0ebc1cb4117",
   "metadata": {},
   "outputs": [],
   "source": [
    "P6 = (20, 13)\n",
    "mark(P6, \"P6\"+str(P6))\n",
    "line(P1, P6, color=\"yellow\")"
   ]
  },
  {
   "cell_type": "code",
   "execution_count": null,
   "id": "c9e458c5-0539-4505-b23a-bbcf55d56676",
   "metadata": {},
   "outputs": [],
   "source": []
  },
  {
   "cell_type": "markdown",
   "id": "7c0f5e4e-9f2c-46e1-b4a1-ecff7f4721e2",
   "metadata": {},
   "source": [
    "### Compare slopes of two line segments:"
   ]
  },
  {
   "cell_type": "markdown",
   "id": "52a38bc1-4be8-4851-b896-2024d905c30f",
   "metadata": {},
   "source": [
    "#### Scenario 1\n",
    "1. same start point\n",
    "2. the X values of two end points are same, but Y values are not equal\n",
    "\n",
    "higher the Y value of endpoint, bigger the slope is"
   ]
  },
  {
   "cell_type": "markdown",
   "id": "0892a410-0c4d-4cf0-817e-7823eb7c3900",
   "metadata": {},
   "source": [
    "#### Scenario 2\n",
    "1. Same start point\n",
    "2. the Y values of two end points are same, but X values are not equal\n",
    "\n",
    "higher the Y value of endpoint, smaller the slope is"
   ]
  },
  {
   "cell_type": "code",
   "execution_count": 70,
   "id": "4682abb5-67e9-414a-8d1e-0054cbc0cdab",
   "metadata": {},
   "outputs": [],
   "source": [
    "P7 = (14, 18)\n",
    "mark(P7, \"P7\"+str(P7))\n",
    "line(P1, P7, color=\"green\")"
   ]
  },
  {
   "cell_type": "markdown",
   "id": "875bb096-ab3a-40ec-887f-45269c57cd19",
   "metadata": {},
   "source": [
    "#### Scenario 3\n",
    "1. Same start point\n",
    "2. Neither of the X nor Y values of the endpoints are equal\n",
    "\n"
   ]
  },
  {
   "cell_type": "code",
   "execution_count": 71,
   "id": "34bf523e-0dda-4232-bc7b-7fc9e7c035fb",
   "metadata": {},
   "outputs": [],
   "source": [
    "P8 = (30, 14)\n",
    "mark(P8, \"P8\"+str(P8))\n",
    "line(P1, P8, color=\"cyan\")"
   ]
  },
  {
   "cell_type": "code",
   "execution_count": null,
   "id": "99dbd179-a1da-49c9-97c5-e9e3eeb16a9b",
   "metadata": {},
   "outputs": [],
   "source": [
    "P6p = "
   ]
  },
  {
   "cell_type": "markdown",
   "id": "2e207300-18f7-4881-94a4-f811444c7394",
   "metadata": {},
   "source": [
    "#### Scenario 4\n",
    "1. start point are not same.\n",
    "\n"
   ]
  },
  {
   "cell_type": "markdown",
   "id": "latest-contamination",
   "metadata": {},
   "source": [
    "### Summary 知识点小结"
   ]
  },
  {
   "cell_type": "markdown",
   "id": "afb3f674",
   "metadata": {},
   "source": [
    "1. "
   ]
  },
  {
   "cell_type": "markdown",
   "id": "bizarre-assurance",
   "metadata": {},
   "source": [
    "### 计算机小知识"
   ]
  },
  {
   "cell_type": "markdown",
   "id": "92100f08",
   "metadata": {},
   "source": [
    "暂缺"
   ]
  },
  {
   "cell_type": "markdown",
   "id": "digital-consensus",
   "metadata": {
    "heading_collapsed": true
   },
   "source": [
    "### Assignments 作业"
   ]
  },
  {
   "cell_type": "markdown",
   "id": "3a9a3e78-80ed-419e-a0b5-0886ae2736c8",
   "metadata": {},
   "source": [
    "P0 (10, 8)\n",
    "P1 (30, 14)\n",
    "P2 (25, 13)\n",
    "P3 (20, 13)\n",
    "P4 (22, 16)\n",
    "P5 (20, 18)\n",
    "P6 (17, 20)\n",
    "P7 (14, 18)\n",
    "P8 (12, 24)\n",
    "P9 (11, 20)\n",
    "P10(11, 25)\n",
    "P11(10, 20)"
   ]
  },
  {
   "cell_type": "markdown",
   "id": "0a858831-43da-4c09-8b6d-30a321619ec0",
   "metadata": {},
   "source": [
    "P0 (10, 8)\n",
    "P1 (30, 14)\n",
    "P2 (25, 13)\n",
    "P3 (20, 13)\n",
    "P4 (22, 16)\n",
    "P5 (20, 18)\n",
    "P6 (17, 20)\n",
    "P7 (14, 18)\n",
    "P8 (12, 24)\n",
    "P9 (11, 20)\n",
    "P10(11, 25)\n",
    "P11(10, 20)\n",
    "\n",
    "1. draw lines P0P1, P0P2, ..., P0P11, try to use different colors\n",
    "2. select 2 lines, in each line, select 5 points, explain the steps forwarded and the steps rised. give the fraction: rised/forwarded\n",
    "3. implement the method to clacualte the slope of line defiend by P0, P1 (P0 start, P1 end)\n",
    "4. calculate the slope of each line (slope = rised/forwarded = diff y / diff x)\n",
    "5. observe and tell the pattern."
   ]
  }
 ],
 "metadata": {
  "kernelspec": {
   "display_name": "Python 3 (ipykernel)",
   "language": "python",
   "name": "python3"
  },
  "language_info": {
   "codemirror_mode": {
    "name": "ipython",
    "version": 3
   },
   "file_extension": ".py",
   "mimetype": "text/x-python",
   "name": "python",
   "nbconvert_exporter": "python",
   "pygments_lexer": "ipython3",
   "version": "3.9.0"
  }
 },
 "nbformat": 4,
 "nbformat_minor": 5
}
