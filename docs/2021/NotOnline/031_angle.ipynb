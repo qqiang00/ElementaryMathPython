{
 "cells": [
  {
   "cell_type": "code",
   "execution_count": 3,
   "id": "3aa90587-d83a-48ef-af3d-cfe092491b35",
   "metadata": {},
   "outputs": [],
   "source": [
    "from math import sin,cos,tan,pi"
   ]
  },
  {
   "cell_type": "code",
   "execution_count": 4,
   "id": "bf38bd0e-d9d1-4f93-8e0c-ca1ba1ea6fc5",
   "metadata": {},
   "outputs": [
    {
     "data": {
      "text/plain": [
       "0.8939966636005579"
      ]
     },
     "execution_count": 4,
     "metadata": {},
     "output_type": "execute_result"
    }
   ],
   "source": [
    "sin(90)"
   ]
  },
  {
   "cell_type": "code",
   "execution_count": 6,
   "id": "da6dd21b-1727-4293-b92a-573d0b1a6981",
   "metadata": {},
   "outputs": [
    {
     "data": {
      "text/plain": [
       "1.0"
      ]
     },
     "execution_count": 6,
     "metadata": {},
     "output_type": "execute_result"
    }
   ],
   "source": [
    "sin(pi/2)"
   ]
  },
  {
   "cell_type": "code",
   "execution_count": null,
   "id": "6cbba006-e66a-4270-9a2d-ece8a33c5b94",
   "metadata": {},
   "outputs": [],
   "source": []
  }
 ],
 "metadata": {
  "kernelspec": {
   "display_name": "Python 3 (ipykernel)",
   "language": "python",
   "name": "python3"
  },
  "language_info": {
   "codemirror_mode": {
    "name": "ipython",
    "version": 3
   },
   "file_extension": ".py",
   "mimetype": "text/x-python",
   "name": "python",
   "nbconvert_exporter": "python",
   "pygments_lexer": "ipython3",
   "version": "3.9.0"
  }
 },
 "nbformat": 4,
 "nbformat_minor": 5
}
