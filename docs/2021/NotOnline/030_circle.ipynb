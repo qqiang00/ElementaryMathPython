{
 "cells": [
  {
   "cell_type": "markdown",
   "id": "778d87f6-775e-4a37-82dc-4d2deaf673c0",
   "metadata": {},
   "source": [
    "## Lecture 30 Circle"
   ]
  },
  {
   "cell_type": "markdown",
   "id": "9147528a-cd1e-409d-8d18-f4cd004b2696",
   "metadata": {},
   "source": [
    "scale: 20 -> 100\n",
    "\n",
    "1. mark: O(2, 2)\n",
    "2. foreach x and y, which 1 <= x <= 5; 1 <= y <= 5; mark P(x, y). x should be decimal .1, \n",
    "   x = 0.0, 0.1, 0.2, ... 3.8, 3.9, 4.0\n",
    "   y = 0.0, 0.1, 0.2, ... 3.8, 3.9, 4.0\n",
    "   P(0.0, 0.0), P(0.0, 0.1), P(4.0, 0.0), P(4.0, 0.1), P(4.0, 4.0), ....\n",
    "   caldulate distance between O(3, 3) and P(x, y)\n",
    "3. if distance(O, P) < 0.99, mark P with red; if distance(O, P) > 1.01 don't mark P \n",
    "   if 0.99 <= distance(O, P) <= 1.01, mark with blue"
   ]
  },
  {
   "cell_type": "code",
   "execution_count": null,
   "id": "2b0abf3c-b97e-4aa7-b3fd-3dceab3af0f7",
   "metadata": {},
   "outputs": [],
   "source": []
  },
  {
   "cell_type": "code",
   "execution_count": null,
   "id": "5704d3cf-0f20-4f88-a6fa-8e8f345c2fd6",
   "metadata": {},
   "outputs": [],
   "source": [
    "from turtle import setup, reset, pu, pd, bye, left, right, fd, bk, screensize\n",
    "from turtle import goto, seth, write, ht, st, home, dot, pen, speed, getscreen\n",
    "from qianglib import prepare_paper, draw_grid, mark, lines, line, polygon, text\n",
    "from qianglib import get_center\n",
    "width, height = 800, 600\n",
    "setup(width, height, 0, 0)"
   ]
  },
  {
   "cell_type": "code",
   "execution_count": null,
   "id": "783a1919-42de-44dc-b455-a1d7849f50f7",
   "metadata": {},
   "outputs": [],
   "source": [
    "width, height = 800, 600\n",
    "setup(width, height, 0, 0)"
   ]
  },
  {
   "cell_type": "code",
   "execution_count": null,
   "id": "3a810a28-5140-484d-b2ef-af34ff46e90e",
   "metadata": {},
   "outputs": [],
   "source": [
    "reset()\n",
    "prepare_paper(width, height, scale=100, min_x=0, min_y=0, max_y=4, max_x=4)"
   ]
  },
  {
   "cell_type": "code",
   "execution_count": null,
   "id": "2658f88d-b637-4276-b5be-d1e787ba2d4a",
   "metadata": {},
   "outputs": [],
   "source": [
    "options = []\n",
    "min_n, max_n = 0, 400\n",
    "i = min_n\n",
    "while i <= max_n:\n",
    "    options.append(i/100)\n",
    "    i += 1\n",
    "print(options)"
   ]
  },
  {
   "cell_type": "code",
   "execution_count": null,
   "id": "35ed3c4c-0c59-40e6-908e-4ca443647286",
   "metadata": {},
   "outputs": [],
   "source": [
    "from math import sqrt\n",
    "def distance(p0, p1):\n",
    "    return sqrt((p1[1]-p0[1])**2 + (p1[0]-p0[0])**2)"
   ]
  },
  {
   "cell_type": "code",
   "execution_count": null,
   "id": "4a7acb73-0763-4df0-9f1d-46f0ba75e59d",
   "metadata": {},
   "outputs": [],
   "source": [
    "reset()\n",
    "prepare_paper(width, height, scale=100, min_x=0, min_y=0, max_y=4, max_x=4)"
   ]
  },
  {
   "cell_type": "code",
   "execution_count": null,
   "id": "4cc7b6d1-750a-4475-b39f-bbe79f760744",
   "metadata": {},
   "outputs": [],
   "source": [
    "O = (2, 2)\n",
    "\n",
    "n_tracer = 10\n",
    "screen = getscreen()\n",
    "n_temp = screen.tracer()\n",
    "screen.tracer(n_tracer)\n",
    "circle_points = []\n",
    "\n",
    "for x in options:\n",
    "    for y in options:\n",
    "        P = (x, y)\n",
    "        dis = distance(O, P)\n",
    "        color = None\n",
    "        if dis > 0.999 and dis < 1.001:\n",
    "            color = \"blue\"\n",
    "            circle_points.append(P)\n",
    "            mark(P, color=color)\n",
    "        \n",
    "mark(O, color=\"black\")        \n",
    "screen.tracer(n_temp)        "
   ]
  },
  {
   "cell_type": "markdown",
   "id": "e386fe94-1e6c-4fee-97ea-882cc2745eda",
   "metadata": {},
   "source": [
    "1. slect all points marked with blue, put them into a list\n",
    "2. calcualte distance between any two blue points, find the max distane and corresponding two points. print them out. if there are more than one pair of blue points whose distance is maximal. print all them out, name it D;\n",
    "3. line all blue points up in order and make a circle, sum up all the length of the lines made by adjacent blue points. print the sum of the lengths, name it L;\n",
    "4. calculate the fraction: L/D. "
   ]
  },
  {
   "cell_type": "code",
   "execution_count": null,
   "id": "a670e09b-ffd3-4a04-833e-93004419145f",
   "metadata": {},
   "outputs": [],
   "source": [
    "print(len(circle_points))\n",
    "print(circle_points)"
   ]
  },
  {
   "cell_type": "code",
   "execution_count": null,
   "id": "aa556480-b4e3-439c-a338-b432757f79b8",
   "metadata": {},
   "outputs": [],
   "source": [
    "for point in circle_points:\n",
    "    dis = distance(O, point)\n",
    "    print(dis)"
   ]
  },
  {
   "cell_type": "code",
   "execution_count": null,
   "id": "6e81a9c3-4b27-4952-9d91-a9350d56b300",
   "metadata": {},
   "outputs": [],
   "source": [
    "A = (2.65, 2.76)\n",
    "mark(A, \"A\"+str(A), offset=(0.2, 0.2), color=\"red\")\n",
    "line(O, A)\n",
    "\n"
   ]
  },
  {
   "cell_type": "code",
   "execution_count": null,
   "id": "d335f708-b358-4a94-b9a3-46baf606ceba",
   "metadata": {},
   "outputs": [],
   "source": [
    "\n",
    "O = (0, 0)\n",
    "A = (2.828, 2.828)\n",
    "F = (2.828, 0)\n",
    "\n",
    "def my_slope(p0, p1):\n",
    "    if p1[0] == p0[0]:\n",
    "        return float(\"inf\")\n",
    "    return (p1[1]-p0[1])/(p1[0]-p0[0])"
   ]
  },
  {
   "cell_type": "code",
   "execution_count": null,
   "id": "73a6ea76-5f24-4805-80f7-dce4aa1a5174",
   "metadata": {},
   "outputs": [],
   "source": [
    "from math import tan, sin, cos\n",
    "def my_slope2(angle):\n",
    "    slope = tan(angle)\n",
    "    return slope"
   ]
  },
  {
   "cell_type": "code",
   "execution_count": null,
   "id": "c663ccad-3a0f-48cb-9c47-fe361cd85690",
   "metadata": {},
   "outputs": [],
   "source": [
    "my_slope(O, A)"
   ]
  },
  {
   "cell_type": "code",
   "execution_count": null,
   "id": "e5c881c7-fa90-451e-ab40-77ae0b85fdba",
   "metadata": {},
   "outputs": [],
   "source": [
    "my_slope2(45)"
   ]
  },
  {
   "cell_type": "code",
   "execution_count": 27,
   "id": "d55acb38-37f3-4c31-b90b-9c1447bff505",
   "metadata": {},
   "outputs": [],
   "source": [
    "from turtle import setup, reset, pu, pd, bye, left, right, fd, bk, screensize\n",
    "from turtle import goto, seth, write, ht, st, home, dot, pen, speed, getscreen\n",
    "from qianglib import prepare_paper, draw_grid, mark, lines, line, polygon, text\n",
    "from qianglib import get_center"
   ]
  },
  {
   "cell_type": "code",
   "execution_count": 28,
   "id": "b5fe9c28-1b00-47d9-ada1-5deebe3bda83",
   "metadata": {},
   "outputs": [],
   "source": [
    "width, height = 800, 600\n",
    "setup(width, height, 0, 0)\n",
    "reset()\n",
    "prepare_paper(width, height, scale=20)"
   ]
  },
  {
   "cell_type": "code",
   "execution_count": 36,
   "id": "afa5d0fe-f1b5-48db-929a-9a556b034bd4",
   "metadata": {},
   "outputs": [
    {
     "name": "stdout",
     "output_type": "stream",
     "text": [
      "3.141592653589793\n"
     ]
    }
   ],
   "source": [
    "from math import pi\n",
    "from math import tan, sin, cos\n",
    "print(pi)\n",
    "reset()\n",
    "prepare_paper(width, height, scale=50)"
   ]
  },
  {
   "cell_type": "code",
   "execution_count": 37,
   "id": "27e1474e-8492-4f84-94f0-1affabb7a7b2",
   "metadata": {},
   "outputs": [],
   "source": [
    "def circle(center, radius, delta_angle=5):\n",
    "    circle_points = []\n",
    "    angle = 0\n",
    "    while angle < 360:\n",
    "        r = angle*pi/180\n",
    "        p = (center[0] + radius*cos(r), center[1] + radius*sin(r))\n",
    "        circle_points.append(p)\n",
    "        angle += delta_angle            \n",
    "    \n",
    "    n_tracer = 10\n",
    "    screen = getscreen()\n",
    "    n_temp = screen.tracer()\n",
    "    screen.tracer(n_tracer)\n",
    "    for i, point in enumerate(circle_points):\n",
    "        line(circle_points[i], circle_points[(i+1)%len(circle_points)])\n",
    "    screen.tracer(n_temp)\n",
    "    #return circle_points"
   ]
  },
  {
   "cell_type": "code",
   "execution_count": 38,
   "id": "9fbd9026-89e9-4e7a-aabc-78254c5d85b5",
   "metadata": {},
   "outputs": [],
   "source": [
    "center = (5, 5)\n",
    "radius = 4\n",
    "circle(center, radius)"
   ]
  },
  {
   "cell_type": "code",
   "execution_count": 39,
   "id": "52a50070-bce9-44d3-9d01-faba88706372",
   "metadata": {},
   "outputs": [],
   "source": [
    "radius = 2\n",
    "circle(center, radius)"
   ]
  },
  {
   "cell_type": "code",
   "execution_count": 40,
   "id": "64e98209-1ef5-4df1-98eb-54627450bcdb",
   "metadata": {},
   "outputs": [],
   "source": [
    "radius = 1\n",
    "circle(center, radius)"
   ]
  },
  {
   "cell_type": "code",
   "execution_count": 41,
   "id": "dbb4e163-fccc-46f9-bdc8-04301b3ff8bf",
   "metadata": {},
   "outputs": [],
   "source": [
    "radius = 3\n",
    "circle(center, radius)"
   ]
  },
  {
   "cell_type": "code",
   "execution_count": 44,
   "id": "e37ed86e-88ce-4f85-89fb-e09349efd00e",
   "metadata": {},
   "outputs": [],
   "source": [
    "radius = 5\n",
    "circle(center, radius, delta_angle=5)"
   ]
  },
  {
   "cell_type": "code",
   "execution_count": null,
   "id": "7ec90b52-ce05-4484-888f-3d89afb2cb18",
   "metadata": {},
   "outputs": [],
   "source": [
    "\n",
    "degree = 45\n",
    "\n",
    "S = BC/AB = 7.1/10 = 0.71\n",
    "C = AC/AB = 7.1/10 = 0.71\n",
    "T = BC/AC = 7.1/7.1 = 1"
   ]
  },
  {
   "cell_type": "code",
   "execution_count": 45,
   "id": "5a05f533-4658-4407-a394-76f629085d75",
   "metadata": {},
   "outputs": [
    {
     "name": "stdout",
     "output_type": "stream",
     "text": [
      "0.7000000000000001\n"
     ]
    }
   ],
   "source": [
    "S = 4.2/6\n",
    "print(S)"
   ]
  },
  {
   "cell_type": "code",
   "execution_count": 46,
   "id": "11614ca9-66df-43f5-8114-3475cfbfe15c",
   "metadata": {},
   "outputs": [
    {
     "data": {
      "text/plain": [
       "0.4347826086956522"
      ]
     },
     "execution_count": 46,
     "metadata": {},
     "output_type": "execute_result"
    }
   ],
   "source": [
    "1/2.3"
   ]
  },
  {
   "cell_type": "code",
   "execution_count": 48,
   "id": "92edcadd-3d0f-4ae9-b31d-79e90269cf46",
   "metadata": {},
   "outputs": [
    {
     "data": {
      "text/plain": [
       "0.44718962322421246"
      ]
     },
     "execution_count": 48,
     "metadata": {},
     "output_type": "execute_result"
    }
   ],
   "source": [
    "2.172/4.857"
   ]
  },
  {
   "cell_type": "code",
   "execution_count": 49,
   "id": "603e572e-48a9-42da-8fe1-7b6208e4ab39",
   "metadata": {},
   "outputs": [
    {
     "data": {
      "text/plain": [
       "0.44709198052779914"
      ]
     },
     "execution_count": 49,
     "metadata": {},
     "output_type": "execute_result"
    }
   ],
   "source": [
    "1.745/3.903"
   ]
  },
  {
   "cell_type": "code",
   "execution_count": 52,
   "id": "494c3c73-36e7-4b5f-8407-13f59736d416",
   "metadata": {},
   "outputs": [],
   "source": [
    "DE = 2.285 #1.745\n",
    "DA = 5.11  #3.903\n",
    "AE = 4.571# 3.491\n",
    "\n"
   ]
  },
  {
   "cell_type": "code",
   "execution_count": 53,
   "id": "2d262844-9c02-4759-bc79-108b3a6f1352",
   "metadata": {},
   "outputs": [
    {
     "name": "stdout",
     "output_type": "stream",
     "text": [
      "0.4471624266144814 0.8945205479452054 0.4998906147451324\n"
     ]
    }
   ],
   "source": [
    "S = DE/DA\n",
    "C = AE/DA\n",
    "T = DE/AE\n",
    "print(S, C, T)\n",
    "# 0.44709198052779914 0.8944401742249551 0.4998567745631624"
   ]
  },
  {
   "cell_type": "markdown",
   "id": "ae95819f-1b66-4fa5-9c76-a2166b6ecf73",
   "metadata": {},
   "source": [
    "visit website: https://www.geogebra.org/geometry\n",
    "1. register a user account\n",
    "2. for each degree in 0, 1, 30, 45，60, 89, 90, use at least 3 points for each degree to calculate the sin, cos, and tant\n"
   ]
  },
  {
   "cell_type": "markdown",
   "id": "8f666581-7ab7-4720-8a20-df9015552a52",
   "metadata": {},
   "source": [
    "$$sin(30^\\circ) = \\frac{1}{2}$$\n",
    "$$cos(30^\\circ) = \\frac{\\sqrt3}{2} = 0.8660 $$\n",
    "$$tan(30^\\circ) = \\frac{1}{\\sqrt3} = 0.5774 $$"
   ]
  },
  {
   "cell_type": "code",
   "execution_count": null,
   "id": "b1f75f76-6c0e-46e3-ab2f-679e96606d41",
   "metadata": {},
   "outputs": [],
   "source": [
    "# degree 30\n",
    "# group1 specify a position of point D\n",
    "# DA = ?, DE = ?, AE = ?\n",
    "# sin(30 degree) = ?    cos(30 degree) = ?, tan(30 degree) = ?\n",
    "\n",
    "# group2  specify another position of point D\n",
    "# DA = ?, DE = ?, AE = ?\n",
    "# sin(30 degree) = ?    cos(30 degree) = ?, tan(30 degree) = ?\n",
    "\n",
    "# group3 specify the third position of point D\n",
    "# DA = ?, DE = ?, AE = ?\n",
    "# sin(30 degree) = ?    cos(30 degree) = ?, tan(30 degree) = ?"
   ]
  },
  {
   "cell_type": "code",
   "execution_count": null,
   "id": "20a10c49-8629-4fa4-b040-b9c748eb4a44",
   "metadata": {},
   "outputs": [],
   "source": [
    "# degree 45\n",
    "# group1 specify a position of point D\n",
    "# DA = ?, DE = ?, AE = ?\n",
    "# sin(30 degree) = ?    cos(30 degree) = ?, tan(30 degree) = ?\n",
    "\n",
    "# group2  specify another position of point D\n",
    "# DA = ?, DE = ?, AE = ?\n",
    "# sin(30 degree) = ?    cos(30 degree) = ?, tan(30 degree) = ?\n",
    "\n",
    "# group3 specify the third position of point D\n",
    "# DA = ?, DE = ?, AE = ?\n",
    "# sin(30 degree) = ?    cos(30 degree) = ?, tan(30 degree) = ?"
   ]
  },
  {
   "cell_type": "code",
   "execution_count": null,
   "id": "65153240-e964-4473-9f61-f108cd495016",
   "metadata": {},
   "outputs": [],
   "source": [
    "# degree 60\n",
    "# group1 specify a position of point D\n",
    "# DA = ?, DE = ?, AE = ?\n",
    "# sin(30 degree) = ?    cos(30 degree) = ?, tan(30 degree) = ?\n",
    "\n",
    "# group2  specify another position of point D\n",
    "# DA = ?, DE = ?, AE = ?\n",
    "# sin(30 degree) = ?    cos(30 degree) = ?, tan(30 degree) = ?\n",
    "\n",
    "# group3 specify the third position of point D\n",
    "# DA = ?, DE = ?, AE = ?\n",
    "# sin(30 degree) = ?    cos(30 degree) = ?, tan(30 degree) = ?"
   ]
  },
  {
   "cell_type": "code",
   "execution_count": null,
   "id": "1b6498f0-051d-416d-a188-4d67fb8534fa",
   "metadata": {},
   "outputs": [],
   "source": [
    "# degree 1: \n",
    "# group1 specify a position of point D\n",
    "# DA = ?, DE = ?, AE = ?\n",
    "# sin(30 degree) = ?    cos(30 degree) = ?, tan(30 degree) = ?\n",
    "\n",
    "# group2  specify another position of point D\n",
    "# DA = ?, DE = ?, AE = ?\n",
    "# sin(30 degree) = ?    cos(30 degree) = ?, tan(30 degree) = ?\n",
    "\n",
    "# group3 specify the third position of point D\n",
    "# DA = ?, DE = ?, AE = ?\n",
    "# sin(30 degree) = ?    cos(30 degree) = ?, tan(30 degree) = ?"
   ]
  },
  {
   "cell_type": "code",
   "execution_count": null,
   "id": "a5bc6f16-bc69-4a14-aedd-9baf1e5ed948",
   "metadata": {},
   "outputs": [],
   "source": [
    "# degree 0: don't draw, use\n",
    "# group1 specify a position of point D\n",
    "# DA = ?, DE = ?, AE = ?\n",
    "# sin(30 degree) = ?    cos(30 degree) = ?, tan(30 degree) = ?\n",
    "\n",
    "# group2  specify another position of point D\n",
    "# DA = ?, DE = ?, AE = ?\n",
    "# sin(30 degree) = ?    cos(30 degree) = ?, tan(30 degree) = ?\n",
    "\n",
    "# group3 specify the third position of point D\n",
    "# DA = ?, DE = ?, AE = ?\n",
    "# sin(30 degree) = ?    cos(30 degree) = ?, tan(30 degree) = ?"
   ]
  },
  {
   "cell_type": "code",
   "execution_count": null,
   "id": "335e4ff3-20b0-4ad6-a80e-64596a67bf87",
   "metadata": {},
   "outputs": [],
   "source": [
    "# degree 89: \n",
    "# group1 specify a position of point D\n",
    "# DA = ?, DE = ?, AE = ?\n",
    "# sin(30 degree) = ?    cos(30 degree) = ?, tan(30 degree) = ?\n",
    "\n",
    "# group2  specify another position of point D\n",
    "# DA = ?, DE = ?, AE = ?\n",
    "# sin(30 degree) = ?    cos(30 degree) = ?, tan(30 degree) = ?\n",
    "\n",
    "# group3 specify the third position of point D\n",
    "# DA = ?, DE = ?, AE = ?\n",
    "# sin(30 degree) = ?    cos(30 degree) = ?, tan(30 degree) = ?"
   ]
  },
  {
   "cell_type": "code",
   "execution_count": null,
   "id": "4afb2db5-e0bd-469a-b1ba-bd35aa222b27",
   "metadata": {},
   "outputs": [],
   "source": [
    "# degree 90: don't draw, use\n",
    "# group1 specify a position of point D\n",
    "# DA = ?, DE = ?, AE = ?\n",
    "# sin(30 degree) = ?    cos(30 degree) = ?, tan(30 degree) = ?\n",
    "\n",
    "# group2  specify another position of point D\n",
    "# DA = ?, DE = ?, AE = ?\n",
    "# sin(30 degree) = ?    cos(30 degree) = ?, tan(30 degree) = ?\n",
    "\n",
    "# group3 specify the third position of point D\n",
    "# DA = ?, DE = ?, AE = ?\n",
    "# sin(30 degree) = ?    cos(30 degree) = ?, tan(30 degree) = ?"
   ]
  }
 ],
 "metadata": {
  "kernelspec": {
   "display_name": "Python 3 (ipykernel)",
   "language": "python",
   "name": "python3"
  },
  "language_info": {
   "codemirror_mode": {
    "name": "ipython",
    "version": 3
   },
   "file_extension": ".py",
   "mimetype": "text/x-python",
   "name": "python",
   "nbconvert_exporter": "python",
   "pygments_lexer": "ipython3",
   "version": "3.9.0"
  }
 },
 "nbformat": 4,
 "nbformat_minor": 5
}
