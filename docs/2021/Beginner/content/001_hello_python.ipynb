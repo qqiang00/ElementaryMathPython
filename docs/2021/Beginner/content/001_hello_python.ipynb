{
 "cells": [
  {
   "cell_type": "markdown",
   "id": "relative-location",
   "metadata": {},
   "source": [
    "## 第1讲 你好，Python"
   ]
  },
  {
   "cell_type": "markdown",
   "id": "d12f05dd",
   "metadata": {},
   "source": [
    "### 问题描述"
   ]
  },
  {
   "cell_type": "markdown",
   "id": "animated-batch",
   "metadata": {},
   "source": [
    "### 数学背景\n",
    "\n",
    "- $+$, $-$, $\\times$, $\\div$"
   ]
  },
  {
   "cell_type": "markdown",
   "id": "sorted-furniture",
   "metadata": {
    "heading_collapsed": true,
    "tags": []
   },
   "source": [
    "### 程序设计\n",
    "```python\n",
    "print(\"I am learning programming.\")\n",
    "print('I am learning programming.')\n",
    "1+2+3+4+5+6+7+8+9+10\n",
    "```"
   ]
  },
  {
   "cell_type": "markdown",
   "id": "d55f37d9",
   "metadata": {},
   "source": [
    "### 完整代码"
   ]
  },
  {
   "cell_type": "markdown",
   "id": "latest-contamination",
   "metadata": {},
   "source": [
    "### 知识点小结\n",
    "\n",
    "- Understand what a string is (理解什么是字符串)\n",
    "- Be able to represent a string in Python (在Python中表示一个字符串)\n",
    "- Be able to display a string on screen (能够在屏幕上显示一个字符串)\n",
    "- Use Python as a calculator (把Python当成一个计算器使用)"
   ]
  },
  {
   "cell_type": "code",
   "execution_count": 1,
   "id": "rural-branch",
   "metadata": {
    "hidden": true
   },
   "outputs": [
    {
     "name": "stdout",
     "output_type": "stream",
     "text": [
      "hello\n"
     ]
    }
   ],
   "source": [
    "print(\"hello\")"
   ]
  },
  {
   "cell_type": "code",
   "execution_count": null,
   "id": "urban-glance",
   "metadata": {
    "hidden": true
   },
   "outputs": [],
   "source": []
  },
  {
   "cell_type": "markdown",
   "id": "bizarre-assurance",
   "metadata": {},
   "source": [
    "### 计算机小知识\n",
    "- Nowadays Computer is still not as smart as human is, but it calculates much much faster than human. 当今时代计算机的聪明程度仍然没法和人比，但是它的计算速度比人要快得多得多。"
   ]
  },
  {
   "cell_type": "markdown",
   "id": "digital-consensus",
   "metadata": {
    "heading_collapsed": true
   },
   "source": [
    "### 练习\n"
   ]
  },
  {
   "cell_type": "markdown",
   "id": "de4cfdc5",
   "metadata": {},
   "source": [
    "1. Use `print` to print out exactly the following sentences(including the final period). 使用`print`语句打印出完全一样的下面的句子（包括末尾的句号）。\n",
    "    - I love China and Canada.\n",
    "    - I like Python programming language, and I like Math too.\n",
    "    - Our teacher's name is Qiang.\n",
    "    - \"CN\" is the abbreviation of China.\n",
    "    - The abbreviation of Canda is \"CAD\".\n",
    "    \n",
    "   The code for printing out first sentence is already given as an example:\n",
    "   作为示例第一个句子已经给出答案：\n",
    "   ```python\n",
    "      print(\"I love China and Canada.\")\n",
    "   ```\n",
    "   Please write your codes for the rest sentences in below cells (one sentence in each cell).\n",
    "   请在下面几个小格子里编写代码输出剩余的句子（每一个单元格输出一个句子）。"
   ]
  },
  {
   "cell_type": "code",
   "execution_count": null,
   "id": "weighted-mortality",
   "metadata": {
    "hidden": true
   },
   "outputs": [],
   "source": []
  },
  {
   "cell_type": "code",
   "execution_count": null,
   "id": "worst-hierarchy",
   "metadata": {
    "hidden": true
   },
   "outputs": [],
   "source": []
  },
  {
   "cell_type": "code",
   "execution_count": null,
   "id": "constitutional-fairy",
   "metadata": {
    "hidden": true
   },
   "outputs": [],
   "source": []
  },
  {
   "cell_type": "code",
   "execution_count": null,
   "id": "killing-boxing",
   "metadata": {
    "hidden": true
   },
   "outputs": [],
   "source": []
  },
  {
   "cell_type": "code",
   "execution_count": null,
   "id": "dependent-brook",
   "metadata": {
    "hidden": true
   },
   "outputs": [],
   "source": []
  },
  {
   "cell_type": "markdown",
   "id": "cathedral-pursuit",
   "metadata": {
    "hidden": true
   },
   "source": [
    "2. In the following cells, write codes to calculate the following Arithmetic expressions (one cell for each):\n",
    "   在下面的单元格中，编写代码计算下面的算术表达式（每一个式子使用一个单元格）:\n",
    "   \n",
    "    - $1+3+5+7+9+11+13+15+17+19$\n",
    "    - $10-9+8-7+6-5+4-3+2-1$\n",
    "    - $3.14\\times 2\\times 5$\n",
    "    - $2\\times(6+9)$"
   ]
  },
  {
   "cell_type": "code",
   "execution_count": null,
   "id": "controlled-masters",
   "metadata": {
    "hidden": true
   },
   "outputs": [],
   "source": []
  },
  {
   "cell_type": "code",
   "execution_count": null,
   "id": "steady-wagner",
   "metadata": {
    "hidden": true
   },
   "outputs": [],
   "source": []
  },
  {
   "cell_type": "code",
   "execution_count": null,
   "id": "colonial-edinburgh",
   "metadata": {
    "hidden": true
   },
   "outputs": [],
   "source": []
  },
  {
   "cell_type": "code",
   "execution_count": null,
   "id": "clean-italian",
   "metadata": {
    "hidden": true
   },
   "outputs": [],
   "source": []
  },
  {
   "cell_type": "markdown",
   "id": "controversial-sleeve",
   "metadata": {
    "hidden": true
   },
   "source": [
    "3. The length and width of a rectangle are 18cm and 13cm respectively. What the perimeter and the area of this rectangle? write only two lines of codes to provide the answer directly, and an extra line of code to print out the result like the follow sentence:\n",
    "   \n",
    "   <i>\"The perimeter of this rectangle is xxx cm, and its area is xxx cm*cm.\"</i>\n",
    "   \n",
    "   Replace the xxx by your results. \n",
    "   \n",
    "   一个长方形的长和宽分别是18厘米和13厘米，它的周长和面积分别是多少？通过只编写两行代码给出答案，并使用额外一行代码输出如下格式的一句话：\n",
    "   \n",
    "   <i>“这个长方形的周长是 xxx cm，它的面积是 xxx cm*cm。”</i>\n",
    "   \n",
    "   用你得到的结果替代上面的 xxx。"
   ]
  },
  {
   "cell_type": "code",
   "execution_count": null,
   "id": "floppy-audience",
   "metadata": {
    "hidden": true
   },
   "outputs": [],
   "source": []
  },
  {
   "cell_type": "code",
   "execution_count": null,
   "id": "contemporary-indonesia",
   "metadata": {
    "hidden": true
   },
   "outputs": [],
   "source": []
  },
  {
   "cell_type": "code",
   "execution_count": null,
   "id": "healthy-auditor",
   "metadata": {
    "hidden": true
   },
   "outputs": [],
   "source": []
  }
 ],
 "metadata": {
  "kernelspec": {
   "display_name": "Python 3 (ipykernel)",
   "language": "python",
   "name": "python3"
  },
  "language_info": {
   "codemirror_mode": {
    "name": "ipython",
    "version": 3
   },
   "file_extension": ".py",
   "mimetype": "text/x-python",
   "name": "python",
   "nbconvert_exporter": "python",
   "pygments_lexer": "ipython3",
   "version": "3.9.0"
  }
 },
 "nbformat": 4,
 "nbformat_minor": 5
}
