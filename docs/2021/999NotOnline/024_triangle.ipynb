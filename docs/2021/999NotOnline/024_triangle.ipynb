{
 "cells": [
  {
   "cell_type": "markdown",
   "id": "relative-location",
   "metadata": {},
   "source": [
    "## 第23讲 三角形和它的面积"
   ]
  },
  {
   "cell_type": "markdown",
   "id": "d12f05dd",
   "metadata": {},
   "source": [
    "### Problem 问题描述"
   ]
  },
  {
   "cell_type": "markdown",
   "id": "87c843e7-cbef-4128-9360-c3ebd33dcc1b",
   "metadata": {},
   "source": [
    "使用`qianglib`库提供的方法，绘制方格坐标纸，其中坐标系的原点`(0,0)`位于绘图区的最左下方，使用的`scale`值为`20`. Use the methods provided in the library `qianglib`, draw a grid coordinate system where the origin `(0, 0)` is at the bottom left of the coordinate system."
   ]
  },
  {
   "cell_type": "markdown",
   "id": "d1dd0125-5662-4c64-a90c-9b663cebf35a",
   "metadata": {},
   "source": [
    "1. 给定三个点及其坐标A(22, 15), B(30, 15), C(26, 19)，连接ABC可以得到一个三角形。使用黑色、线宽为3，绘制这个三角形，用字母ABC分别标记每一个顶点，给线段AB一个标记\"b\"，给这个三角形一个标记\"T1\"。注意适当调整标记文字的大小。"
   ]
  },
  {
   "cell_type": "markdown",
   "id": "95ca21b8-d066-45f2-a563-0cf5b94130ee",
   "metadata": {},
   "source": [
    "2. 在线段AB上找到一个点E，使得点E的横坐标与点C的横坐标相同。标记点E，绘制线段CE，并给线段CE添加标记\"h\"。"
   ]
  },
  {
   "cell_type": "markdown",
   "id": "58a10fed-3cf7-4e96-9be7-05599ea082dc",
   "metadata": {},
   "source": [
    "3. 在线段BC的右上方找到一个点D，连接BD和CD，使得BD与AC平行，CD与AB平行。BDC形成另一个三角形。使用蓝色，线宽为3绘制这个三角形。标记D点，并给线段CD一个标记\"b\"，给这个三角形标记\"T2\"，注意适当调整标记文字的大小。"
   ]
  },
  {
   "cell_type": "markdown",
   "id": "c54ce4ee-7b59-41da-9cb0-91463b5d32d6",
   "metadata": {},
   "source": [
    "4. 以A,B,D,C为顶点的四边形ABCD是一个平行四边形，将这个四边形的每一个顶点水平向右移动18个单位长度，得到点A', B', C', D'。A'B'C'D'形成一个新的平行四边形。使用黑色，线宽为3来绘制这个新平行四边形。给每一个顶点分别标记：\"A'\", \"B'\", \"C'\", \"D'\"，给线段A'B'和D'C'标记\"h\"。类似的把点E也向右平移相同的距离，得到点E',绘制线段C'E'，并在其左侧标记\"h\"。给这个平行四边形标记\"parallelogram1\"。"
   ]
  },
  {
   "cell_type": "markdown",
   "id": "fb67d88a-f147-4ea7-b22d-527dca91eb57",
   "metadata": {},
   "source": [
    "5. 通过上一节课，我们已经知道，每一个平行四边形都对应一个矩形，请在新的平行四边形下方适当的位置（自己决定）绘制这个对应的矩形。给顶点、边和矩形本身做好相应的标记。"
   ]
  },
  {
   "cell_type": "markdown",
   "id": "922df44b-e69a-4261-8df3-8688e7832562",
   "metadata": {},
   "source": [
    "6. 思考并编程计算三角形T1的面积。"
   ]
  },
  {
   "cell_type": "markdown",
   "id": "1270f26d-e2ca-45e0-a679-ec82361795da",
   "metadata": {},
   "source": [
    "### Math Background 数学背景\n",
    "1. 三个不在同一条直线上的点可以组成一个三角形；三角形有三条边；\n",
    "2. 两个完全一样的三角形可以拼接成一个平行四边形；\n",
    "3. 有一个角是直角的三角形为直角三角形，两个完全一样的直角三角形可以凭借成一个矩形；\n",
    "4. 三角形的面积是对应的拼接得到的平行四边形的一半；\n",
    "6. 三角形的面积公式：$S=\\frac{1}{2}\\cdot b\\cdot h$，其中b为一个底边的长，对应的高度。"
   ]
  },
  {
   "cell_type": "markdown",
   "id": "sorted-furniture",
   "metadata": {
    "heading_collapsed": true
   },
   "source": [
    "### Prerequisites 预备知识"
   ]
  },
  {
   "cell_type": "markdown",
   "id": "ac3f3f62-7bb0-4f00-9a4e-4085b96c14dd",
   "metadata": {},
   "source": [
    "无"
   ]
  },
  {
   "cell_type": "markdown",
   "id": "d55f37d9",
   "metadata": {},
   "source": [
    "### Solution 编程求解"
   ]
  },
  {
   "cell_type": "code",
   "execution_count": 1,
   "id": "b1ae7be3-fdde-46b5-820e-c35a55d2fbe0",
   "metadata": {},
   "outputs": [],
   "source": [
    "from turtle import setup, reset, pu, pd, bye, left, right, fd, bk, screensize\n",
    "from turtle import goto, seth, write, ht, st, home, dot, pen, speed\n",
    "from qianglib import prepare_paper, draw_grid, mark, lines, line, polygon, text\n",
    "from qianglib import add_v, get_center"
   ]
  },
  {
   "cell_type": "code",
   "execution_count": 2,
   "id": "bed66e63-7d02-4c22-bf10-8863883aab94",
   "metadata": {},
   "outputs": [],
   "source": [
    "width, height = 800, 600\n",
    "setup(width, height, 0, 0)\n",
    "prepare_paper(width, height, scale=20, min_x=0, min_y=0, max_y=25)"
   ]
  },
  {
   "cell_type": "code",
   "execution_count": 3,
   "id": "0050bafb-33ff-40d7-bf92-b860ce1b317d",
   "metadata": {},
   "outputs": [],
   "source": [
    "A, B, C = (5, 15), (13, 15), (7, 19)\n",
    "triangle1 = [A, B, C]\n",
    "\n",
    "polygon(triangle1, color=\"black\", line_width=3,\n",
    "        side_texts=[\"b\"],\n",
    "        marker_texts = list(\"ABC\"),\n",
    "        marker_offsets = [(0, -1), (0, -1), (0, 0)],\n",
    "        center_text = \"T1\",\n",
    "        center_text_offset = (0, -0.5),\n",
    "        center_text_font = (\"Arial\", 10, \"italic\")\n",
    "       )\n",
    "\n",
    "E = (C[0], A[1])\n",
    "mark(E, \"E\", offset=(0,-1))\n",
    "line(C, E, color=\"red\", line_width=2)\n",
    "text(add_v(get_center([C, E]), (-0.5, -0.5)), \"h\", \n",
    "     font=(\"Arial\", 10, \"italic\"))"
   ]
  },
  {
   "cell_type": "code",
   "execution_count": 4,
   "id": "b1986646-cda7-44c5-8df1-f349d2833082",
   "metadata": {},
   "outputs": [],
   "source": [
    "D = add_v(C, (8, 0))\n",
    "triangle2 = [B, D, C]\n",
    "polygon(triangle2, color=\"blue\", line_width=3,\n",
    "        marker_texts = list(\"BDC\"),\n",
    "        marker_offsets=[(0,-1), (0, 0), (0, 0)],\n",
    "        center_text = \"T2\",\n",
    "        center_text_color = \"blue\",\n",
    "        side_texts=[None, \"b\"],\n",
    "        side_text_offsets=[None, (0,0)],\n",
    "        center_text_font = (\"Arial\", 10, \"italic\")\n",
    "       )\n"
   ]
  },
  {
   "cell_type": "code",
   "execution_count": 5,
   "id": "ac318cbd-82b3-458e-ba8a-fc54d97ea532",
   "metadata": {},
   "outputs": [],
   "source": [
    "offset = (18, 0)\n",
    "Ap, Bp = add_v(A, offset), add_v(B, offset)\n",
    "Cp, Dp = add_v(C, offset), add_v(D, offset)\n",
    "parallelogram1 = [Ap, Bp, Dp, Cp]\n",
    "polygon(parallelogram1, color=\"black\", line_width=3,\n",
    "        marker_texts = [\"A'\", \"B'\", \"D'\", \"C'\"],\n",
    "        side_texts = [\"b\", None, \"b\"],\n",
    "        side_text_offsets = [(0, -1), None, (0, 0)],\n",
    "        marker_offsets = [(0, -1), (0, -1)],\n",
    "        center_text = \"Parallelogram1\",\n",
    "        center_text_font = (\"Arial\", 10, \"italic\")\n",
    "       )\n",
    "Ep = (Cp[0], Ap[1])\n",
    "mark(Ep, \"E'\", offset=(0, -1))\n",
    "line(Cp, Ep, color=\"red\", line_width=2)\n",
    "text(add_v(get_center([Cp, Ep]), (-0.5, -0.5)), \"h\", \n",
    "     font=(\"Arial\", 10, \"italic\"))"
   ]
  },
  {
   "cell_type": "code",
   "execution_count": 6,
   "id": "2c584b45-d7a6-47d4-bd3d-944b6899934d",
   "metadata": {},
   "outputs": [],
   "source": [
    "offset = (20, -10)\n",
    "App, Bpp = add_v(A, offset), add_v(B, offset)\n",
    "offset = (18, -10)\n",
    "Cpp, Dpp = add_v(C, offset), add_v(D, offset)\n",
    "rectangle1 = [App, Bpp, Dpp, Cpp]\n",
    "polygon(rectangle1, color=\"black\", line_width=3,\n",
    "        marker_texts = [\"A''\", \"B''\", \"D''\", \"C''\"],\n",
    "        side_texts = [\"b\", \"h\", \"b\", \"h\"],\n",
    "        side_text_offsets = [(0, -1), (0.5, -0.5), (0, 0), (-0.5, -0.5)],\n",
    "        marker_offsets = [(0, -1), (0, -1), (0, 0), (0, 0)],\n",
    "        center_text = \"Rectangle1\",\n",
    "        center_text_font = (\"Arial\", 10, \"italic\")\n",
    "       )\n",
    "\n",
    "line(Cpp, App, color=\"red\", line_width=2)\n",
    "text(add_v(get_center([Cpp, App]), (-0.5, -0.5)), \"h\", \n",
    "     font=(\"Arial\", 10, \"italic\"))"
   ]
  },
  {
   "cell_type": "markdown",
   "id": "latest-contamination",
   "metadata": {},
   "source": [
    "### Summary 知识点小结"
   ]
  },
  {
   "cell_type": "markdown",
   "id": "afb3f674",
   "metadata": {},
   "source": [
    "1. 复习tuple\n",
    "2. 复习qianglib的一些方法\n",
    "3. 复习方法的返回值\n"
   ]
  },
  {
   "cell_type": "markdown",
   "id": "bizarre-assurance",
   "metadata": {},
   "source": [
    "### 计算机小知识"
   ]
  },
  {
   "cell_type": "markdown",
   "id": "92100f08",
   "metadata": {},
   "source": [
    "暂缺"
   ]
  },
  {
   "cell_type": "markdown",
   "id": "digital-consensus",
   "metadata": {
    "heading_collapsed": true
   },
   "source": [
    "### Assignments 作业"
   ]
  },
  {
   "cell_type": "markdown",
   "id": "8401de62-a04a-4ffb-ba1d-4c01c2903911",
   "metadata": {},
   "source": [
    "1. 拼接两个完全一样的三角形T1可以得到不止一个平行四边形，本讲中得到的只是其中的一个，还存在2个不一样的平行四边形。请尝试绘制出另外两个平行四边形，并做好标记（可以对T1作适当的平移）。"
   ]
  },
  {
   "cell_type": "markdown",
   "id": "d35834d4-a713-4a9c-a902-23840a900bd9",
   "metadata": {},
   "source": [
    "2. 等腰三角形"
   ]
  },
  {
   "cell_type": "markdown",
   "id": "5310453c-f2dc-495d-9e78-68b4a22ac19a",
   "metadata": {},
   "source": [
    "3. 直角三角形"
   ]
  },
  {
   "cell_type": "markdown",
   "id": "8ed93aa7-e580-4b61-a66b-cdfbcc238d6a",
   "metadata": {},
   "source": [
    "4. 等腰直角三角形"
   ]
  },
  {
   "cell_type": "code",
   "execution_count": null,
   "id": "899d1fb7-2eb5-41a3-ac78-3e51b104e320",
   "metadata": {},
   "outputs": [],
   "source": []
  }
 ],
 "metadata": {
  "kernelspec": {
   "display_name": "Python 3",
   "language": "python",
   "name": "python3"
  },
  "language_info": {
   "codemirror_mode": {
    "name": "ipython",
    "version": 3
   },
   "file_extension": ".py",
   "mimetype": "text/x-python",
   "name": "python",
   "nbconvert_exporter": "python",
   "pygments_lexer": "ipython3",
   "version": "3.8.10"
  }
 },
 "nbformat": 4,
 "nbformat_minor": 5
}
