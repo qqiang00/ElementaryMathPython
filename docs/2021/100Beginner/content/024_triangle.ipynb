{
 "cells": [
  {
   "cell_type": "markdown",
   "id": "relative-location",
   "metadata": {},
   "source": [
    "## 第24讲 三角形和它的面积\n",
    "\n",
    "Lecture 24. Triangle and its area"
   ]
  },
  {
   "cell_type": "markdown",
   "id": "d12f05dd",
   "metadata": {},
   "source": [
    "### Problem 问题描述"
   ]
  },
  {
   "cell_type": "markdown",
   "id": "87c843e7-cbef-4128-9360-c3ebd33dcc1b",
   "metadata": {},
   "source": [
    "Use the methods provided in the library `qianglib`, draw a grid coordinate system where the origin `(0, 0)` is at the bottom left of the coordinate system.    \n",
    "使用`qianglib`库提供的方法，绘制方格坐标纸，其中坐标系的原点`(0,0)`位于绘图区的最左下方，使用的`scale`值为`20`. \n",
    "\n",
    "Follow the steps below，draw a graph slimilar to the picture below.\n",
    "跟随下面的步骤，绘制出类似如下图所示的图形。\n",
    "\n",
    "<img src=\"figures/L024_triangle_area.png\" width=\"500px\" />"
   ]
  },
  {
   "cell_type": "markdown",
   "id": "d1dd0125-5662-4c64-a90c-9b663cebf35a",
   "metadata": {},
   "source": [
    "1. Given the coordinates of the points ABC as A(22, 15), B(30, 15), C(26, 19), connect ABC in order to create a triangle. Draw this triangle use black color and line width of 3. mark every vertex with letters A,B, and C; mark the line AB with letter \"b\"; mark the triangle with \"T1\". Give proper size to the markers.    \n",
    "给定三个点及其坐标A(22, 15), B(30, 15), C(26, 19)，依次连接ABC可以得到一个三角形。使用黑色、线宽为3，绘制这个三角形，用字母ABC分别标记每一个顶点，给线段AB一个标记\"b\"，给这个三角形一个标记\"T1\"。注意适当调整标记文字的大小。"
   ]
  },
  {
   "cell_type": "markdown",
   "id": "95ca21b8-d066-45f2-a563-0cf5b94130ee",
   "metadata": {},
   "source": [
    "2. Find a point E on line segment AB such that the X value of point E is the same as that of point C. Mark the point E, draw the line segment CE, and add the mark \"h\" to the line segment CE.     \n",
    "   在线段AB上找到一个点E，使得点E的横坐标与点C的横坐标相同。标记点E，绘制线段CE，并给线段CE添加标记\"h\"。"
   ]
  },
  {
   "cell_type": "markdown",
   "id": "58a10fed-3cf7-4e96-9be7-05599ea082dc",
   "metadata": {},
   "source": [
    "3. Find a point D on the upper right of line segment BC, connect BD and CD so that BD is parallel to AC, and CD is parallel to AB. BDC forms another triangle. Draw this triangle using blue color with a line width of 3. Mark point D, and give the line segment CD a mark \"b\", mark the triangle as \"T2\". Give proper size to the markers.    \n",
    "在线段BC的右上方找到一个点D，连接BD和CD，使得BD与AC平行，CD与AB平行。BDC形成另一个三角形。使用蓝色，线宽为3绘制这个三角形。标记D点，并给线段CD一个标记\"b\"，给这个三角形标记\"T2\"，注意适当调整标记文字的大小。"
   ]
  },
  {
   "cell_type": "markdown",
   "id": "c54ce4ee-7b59-41da-9cb0-91463b5d32d6",
   "metadata": {},
   "source": [
    "4. A quadrilateral ABCD with A, B, D, and C as vertices is a **parallelogram**. Move each vertex of this quadrilateral horizontally to the right by 18 unit lengths to obtain points A', B', C', and D'. A'B'C'D' form a new parallelogram. Use black color with a line width of 3 to draw this new parallelogram. Label each vertex separately: \"A'\", \"B'\", \"C'\", \"D'\", and label segments A'B' and D'C' with \"b\". Similarly, move point E the same distance to the right to get point E', draw line segment C'E', and mark \"h\" on its left side. Label this parallelogram as \"P1\".    \n",
    "以A,B,D,C为顶点的四边形ABCD是一个**平行四边形**，将这个四边形的每一个顶点水平向右移动18个单位长度，得到点A', B', C', D'。A'B'C'D'形成一个新的平行四边形。使用黑色，线宽为3来绘制这个新平行四边形。给每一个顶点分别标记：\"A'\", \"B'\", \"C'\", \"D'\"，给线段A'B'和D'C'标记\"b\"。类似的把点E也向右平移相同的距离，得到点E',绘制线段C'E'，并在其左侧标记\"h\"。给这个平行四边形标记\"P1\"。"
   ]
  },
  {
   "cell_type": "markdown",
   "id": "fb67d88a-f147-4ea7-b22d-527dca91eb57",
   "metadata": {},
   "source": [
    "5. At the previous lecture, we already know that each parallelogram corresponds to a rectangle. Please draw the corresponding rectangle at the appropriate position (decide by yourself) under the new parallelogram. Label the vertices, edges, and the rectangle itself accordingly.    \n",
    "通过上一节课，我们已经知道，每一个平行四边形都对应一个矩形，请在新的平行四边形下方适当的位置（自己决定）绘制这个对应的矩形。给顶点、边和矩形本身做好相应的标记。"
   ]
  },
  {
   "cell_type": "markdown",
   "id": "922df44b-e69a-4261-8df3-8688e7832562",
   "metadata": {},
   "source": [
    "6. Consider the relationship between the area of triangle T1 and the area of parallelogram P1. Write a method to calculate the area of a triangle whose one side is parallel to the X axis, and call this method to calculate the area of triangle T1.    \n",
    "思考三角形T1的面积和平行四边形P1的面积的关系，编写一个方法计算一个边平行于X轴的三角形的面积，并调用这个方法计算三角形T1的面积。"
   ]
  },
  {
   "cell_type": "markdown",
   "id": "1270f26d-e2ca-45e0-a679-ec82361795da",
   "metadata": {},
   "source": [
    "### Math Background 数学背景\n",
    "1. 三个不在同一条直线上的点可以组成一个三角形；三角形有三条边；\n",
    "2. 两个完全一样的三角形可以拼接成一个平行四边形；\n",
    "3. 有一个角是直角的三角形为直角三角形，两个完全一样的直角三角形可以凭借成一个矩形；\n",
    "4. 三角形的面积是对应的拼接得到的平行四边形的一半；\n",
    "6. 三角形的面积公式：$S=\\frac{1}{2}\\cdot b\\cdot h$，其中b为一个底边的长，对应的高度。"
   ]
  },
  {
   "cell_type": "markdown",
   "id": "sorted-furniture",
   "metadata": {
    "heading_collapsed": true
   },
   "source": [
    "### Prerequisites 预备知识"
   ]
  },
  {
   "cell_type": "markdown",
   "id": "ac3f3f62-7bb0-4f00-9a4e-4085b96c14dd",
   "metadata": {},
   "source": [
    "**Translation 平移** \n",
    "\n",
    "By translating(moving) a point, line or shape a certain distance, we can get a new point, line, or shape. This translation can be any distance parallel to the X-axis, Y-axis, or in any direction. Write a method to describe this translation, the method accepts two parameters, one parameter represents the point, line or shape, and the other parameter represents the direction and distance of the translation; the method returns the new point, line or shape after translation.    \n",
    "移动一个点、线或者图形一定的距离可以得到新的点、线、和图形。这种移动可以是平行于X轴、Y轴或任意方向的任意距离。编写一个方法来描述这种移动，该方法接受的参数有两个，一个参数用来表示点、线或图形，另一个参数用来表示移动的方向和程度；该方法返回平移后在新的位置上的点、线或图形。\n",
    "\n",
    "\n",
    "Question: How to represent the degree of translation?     \n",
    "怎么样描述平移的程度?"
   ]
  },
  {
   "cell_type": "code",
   "execution_count": null,
   "id": "54de9d5b-2446-41a3-aa86-421032fa2ca2",
   "metadata": {},
   "outputs": [],
   "source": []
  },
  {
   "cell_type": "markdown",
   "id": "381e171a-b5c3-4a6a-abbc-86ad4c798d67",
   "metadata": {},
   "source": [
    "### Exercise 练习"
   ]
  },
  {
   "cell_type": "markdown",
   "id": "e3482f35-51e9-4e07-908f-e8dda825e34f",
   "metadata": {},
   "source": [
    "Give an example of calling this method: specify a point(line, or shape) and a translation, draw it, call the method to get a new one, draw the new one again.    \n",
    "举一个调用这个方法的例子：指定一个点（线，或形状）和一个动作，绘制它，调用方法获取一个新的点(线，或者形状），重新绘制它。"
   ]
  },
  {
   "cell_type": "code",
   "execution_count": null,
   "id": "b7f6ee8e-e31f-4392-9cc4-ab44ef4c44d1",
   "metadata": {},
   "outputs": [],
   "source": []
  },
  {
   "cell_type": "markdown",
   "id": "d55f37d9",
   "metadata": {},
   "source": [
    "### Solution 编程求解"
   ]
  },
  {
   "cell_type": "code",
   "execution_count": 1,
   "id": "b1ae7be3-fdde-46b5-820e-c35a55d2fbe0",
   "metadata": {},
   "outputs": [],
   "source": [
    "from turtle import setup, reset, pu, pd, bye, left, right, fd, bk, screensize\n",
    "from turtle import goto, seth, write, ht, st, home, dot, pen, speed\n",
    "from qianglib import prepare_paper, draw_grid, mark, lines, line, polygon, text\n",
    "from qianglib import get_center"
   ]
  },
  {
   "cell_type": "code",
   "execution_count": 2,
   "id": "c9f69342-ebb2-4f71-a0a1-f53de9d5bd4d",
   "metadata": {},
   "outputs": [],
   "source": [
    "width, height = 800, 600\n",
    "setup(width, height, 0, 0)\n",
    "prepare_paper(width, height, scale=20, min_x=0, min_y=0, max_y=25)"
   ]
  },
  {
   "cell_type": "code",
   "execution_count": 3,
   "id": "a923e58c-9fde-4044-9281-e1a58574b809",
   "metadata": {},
   "outputs": [],
   "source": [
    "def translate(shape, offset):\n",
    "    '''move a shape certain distance defined by offset\n",
    "    params:\n",
    "        shape: a point, line, or a polygon;\n",
    "               data type: tuple or list of tuple\n",
    "               example: (2, 4), [(1, 2), (3, 5)], [(1, 2), (3, 5), (5, 6)]\n",
    "        offset: distance\n",
    "               data type: tuple (dx, dy)\n",
    "               example: (9, 9)\n",
    "    return a tuple or list of tuple representing a point, or a line, polygon.\n",
    "    '''\n",
    "    new_shape = None\n",
    "    if type(shape) == tuple:  # a point\n",
    "        new_shape = shape[0]+offset[0], shape[1]+offset[1]\n",
    "    elif type(shape) == list: # a line or a polygon\n",
    "        new_shape = []\n",
    "        for point in shape:\n",
    "            new_point = point[0] + offset[0], point[1]+offset[1]\n",
    "            new_shape.append(new_point)\n",
    "    else:\n",
    "        pass\n",
    "    return new_shape          "
   ]
  },
  {
   "cell_type": "code",
   "execution_count": 4,
   "id": "0050bafb-33ff-40d7-bf92-b860ce1b317d",
   "metadata": {},
   "outputs": [],
   "source": [
    "A, B, C = (5, 15), (13, 15), (7, 19)\n",
    "triangle1 = [A, B, C]\n",
    "\n",
    "polygon(triangle1, color=\"black\", line_width=3,\n",
    "        side_texts=[\"b\"],\n",
    "        marker_texts = list(\"ABC\"),\n",
    "        marker_offsets = [(0, -1), (0, -1), (0, 0)],\n",
    "        center_text = \"T1\",\n",
    "        center_text_offset = (0, -0.5),\n",
    "        center_text_font = (\"Arial\", 10, \"italic\")\n",
    "       )\n",
    "\n",
    "E = (C[0], A[1])\n",
    "mark(E, \"E\", offset=(0,-1))\n",
    "line(C, E, color=\"red\", line_width=2)\n",
    "text(translate(get_center([C, E]), (-0.5, -0.5)), \"h\", \n",
    "     font=(\"Arial\", 10, \"italic\"))"
   ]
  },
  {
   "cell_type": "code",
   "execution_count": 5,
   "id": "b1986646-cda7-44c5-8df1-f349d2833082",
   "metadata": {},
   "outputs": [],
   "source": [
    "D = translate(C, (8, 0))\n",
    "triangle2 = [B, D, C]\n",
    "polygon(triangle2, color=\"blue\", line_width=3,\n",
    "        marker_texts = list(\"BDC\"),\n",
    "        marker_offsets=[(0,-1), (0, 0), (0, 0)],\n",
    "        center_text = \"T2\",\n",
    "        center_text_color = \"blue\",\n",
    "        side_texts=[None, \"b\"],\n",
    "        side_text_offsets=[None, (0,0)],\n",
    "        center_text_font = (\"Arial\", 10, \"italic\")\n",
    "       )\n"
   ]
  },
  {
   "cell_type": "code",
   "execution_count": 6,
   "id": "ac318cbd-82b3-458e-ba8a-fc54d97ea532",
   "metadata": {},
   "outputs": [],
   "source": [
    "offset = (18, 0)\n",
    "parallelogram1 = translate([A, B, D, C], offset)\n",
    "#Ap, Bp = translate(A, offset), translate(B, offset)\n",
    "#Cp, Dp = translate(C, offset), translate(D, offset)\n",
    "#parallelogram1 = [Ap, Bp, Dp, Cp]\n",
    "polygon(parallelogram1, color=\"black\", line_width=3,\n",
    "        marker_texts = [\"A'\", \"B'\", \"D'\", \"C'\"],\n",
    "        side_texts = [\"b\", None, \"b\"],\n",
    "        side_text_offsets = [(0, -1), None, (0, 0)],\n",
    "        marker_offsets = [(0, -1), (0, -1)],\n",
    "        center_text = \"P1\",\n",
    "        center_text_font = (\"Arial\", 10, \"italic\")\n",
    "       )\n",
    "Ap, Bp, Dp, Cp = parallelogram1\n",
    "Ep = (Cp[0], Ap[1])\n",
    "mark(Ep, \"E'\", offset=(0, -1))\n",
    "line(Cp, Ep, color=\"red\", line_width=2)\n",
    "text(translate(get_center([Cp, Ep]), (-0.5, -0.5)), \"h\", \n",
    "     font=(\"Arial\", 10, \"italic\"))"
   ]
  },
  {
   "cell_type": "code",
   "execution_count": 7,
   "id": "2c584b45-d7a6-47d4-bd3d-944b6899934d",
   "metadata": {},
   "outputs": [],
   "source": [
    "offset = (20, -10)\n",
    "App, Bpp = translate(A, offset), translate(B, offset)\n",
    "offset = (18, -10)\n",
    "Cpp, Dpp = translate(C, offset), translate(D, offset)\n",
    "rectangle1 = [App, Bpp, Dpp, Cpp]\n",
    "polygon(rectangle1, color=\"black\", line_width=3,\n",
    "        marker_texts = [\"A''\", \"B''\", \"D''\", \"C''\"],\n",
    "        side_texts = [\"b\", \"h\", \"b\", \"h\"],\n",
    "        side_text_offsets = [(0, -1), (0.5, -0.5), (0, 0), (-0.5, -0.5)],\n",
    "        marker_offsets = [(0, -1), (0, -1), (0, 0), (0, 0)],\n",
    "        center_text = \"R1\",\n",
    "        center_text_font = (\"Arial\", 10, \"italic\")\n",
    "       )\n",
    "\n",
    "line(Cpp, App, color=\"red\", line_width=2)\n",
    "text(translate(get_center([Cpp, App]), (-0.5, -0.5)), \"h\", \n",
    "     font=(\"Arial\", 10, \"italic\"))"
   ]
  },
  {
   "cell_type": "markdown",
   "id": "latest-contamination",
   "metadata": {},
   "source": [
    "### Summary 知识点小结"
   ]
  },
  {
   "cell_type": "markdown",
   "id": "afb3f674",
   "metadata": {},
   "source": [
    "1. 学习平移的数学表达形式\n",
    "2. 复习`type`方法\n",
    "2. 复习qianglib的一些方法\n",
    "3. 复习方法的返回值\n"
   ]
  },
  {
   "cell_type": "markdown",
   "id": "bizarre-assurance",
   "metadata": {},
   "source": [
    "### 计算机小知识"
   ]
  },
  {
   "cell_type": "markdown",
   "id": "92100f08",
   "metadata": {},
   "source": [
    "暂缺"
   ]
  },
  {
   "cell_type": "markdown",
   "id": "digital-consensus",
   "metadata": {
    "heading_collapsed": true
   },
   "source": [
    "### Assignments 作业"
   ]
  },
  {
   "cell_type": "markdown",
   "id": "8401de62-a04a-4ffb-ba1d-4c01c2903911",
   "metadata": {},
   "source": [
    "1. In this lecture, we learned that two identical triangles can be joined together to form a parallelogram. In fact, by splicing two identical triangles(ex. T1), more than one shape of parallelogram can be formed. Only one of them was introduced in the lecture. In this assignment, please try to draw two other parallelograms that are formed by 2 identical T1. mark them properly (You may make appropriate translations for T1).在本讲课程里，我们学到两个完全一样的三角形可以拼接成一个平行四边形。事实上，拼接两个完全一样的三角形T1可以得到不止一种形状的平行四边形，本讲中得到的只是其中的一个，还可以拼出其它形状的平行四边形。请尝试绘制出另外两个平行四边形，并做好标记（可以对T1作适当的平移）。\n",
    "    "
   ]
  },
  {
   "cell_type": "code",
   "execution_count": 8,
   "id": "80c955bd-8e90-4044-a5e2-819c8dae09db",
   "metadata": {},
   "outputs": [],
   "source": [
    "prepare_paper(width, height, scale=20, min_x=0, min_y=0, max_y=25)"
   ]
  },
  {
   "cell_type": "code",
   "execution_count": 9,
   "id": "230eaa5f-8bf3-43a7-9488-2d2bd7b20b9e",
   "metadata": {},
   "outputs": [],
   "source": [
    "A, B, C = (5, 15), (13, 15), (7, 19)\n",
    "triangle1 = translate([A, B, C], (10, -5))\n",
    "\n",
    "polygon(triangle1, color=\"black\", line_width=3,\n",
    "        side_texts=[\"b\"],\n",
    "        marker_texts = list(\"ABC\"),\n",
    "        marker_offsets = [(0, -1), (0, -1), (0, 0)],\n",
    "        center_text = \"T1\",\n",
    "        center_text_offset = (0, -0.5),\n",
    "        center_text_font = (\"Arial\", 10, \"italic\")\n",
    "       )"
   ]
  },
  {
   "cell_type": "code",
   "execution_count": 10,
   "id": "9996647f-c3e9-4634-8c56-b83173c68172",
   "metadata": {},
   "outputs": [],
   "source": [
    "# write your code here"
   ]
  },
  {
   "cell_type": "markdown",
   "id": "d35834d4-a713-4a9c-a902-23840a900bd9",
   "metadata": {},
   "source": [
    "2. Follow the steps to draw, and Answer the questions    \n",
    "   按流程编程绘图并回答问题\n",
    "   1. Given two points A(11, 8) and B(25, 8), mark them, connect them to draw a line AB with black color and line width of 3. 给定两个点，分别为A(11, 8), B(25, 8)，标记这两个点，并连接这两点得到线段AB，用黑色，线宽为3绘制线段AB；\n",
    "   2. Draw another line between points O(18, 0) and O'(18,25) with black color and line width of 1; 用黑色，线宽为1连接点O(18, 0), O'(18,25)，形成线段OO'；\n",
    "   3. Randomly generate a point, X(18, 10) for example, on line OO' by calling the method `randint`， draw the line of AX and AB with black color and line width of 1. Estimate the length of AX and BX and the angle AXB with you eyes.调用`randint`方法在线段OO'中随机选定一个点，假定生成的点是(18, 10)，用X标记。用黑色、线宽为1连接AX, BX,得到一个三角形ABX。记录点X的坐标，用肉眼估计线段AX，BX的长度，用肉眼比较角AXB与90度角的大小关系，记在下面的表格里。\n",
    "   4. By far, you should have a figure like the following: 到目前位置，你应该能够绘制得到如下图：\n",
    "   <img src=\"figures/L024_assign2.png\" width=\"500px\" />\n",
    "   5. Repeat the third step(C) 10 times, mark the point randomly generated with the letter: C, D, E, F, G, H, I, J, K, L. Fill the following table.重复10次上一步骤，每次随机生成的点分别标记为：C, D, E, F, G, H, I, J, K, L。并把相关结果填入表格。\n",
    "\n",
    "        | Point X   |  Length AX  | Length BX | is Angle AXB > 90? |\n",
    "        |:---------:|:-----------:|-----------|--------------------|\n",
    "        |X (18, 10) |     8        |    8       |       Yes            |\n",
    "        |C (   ,   ) |             |           |                     |\n",
    "        |D (  ,  ) |             |           |                     |\n",
    "        |E (  ,  ) |             |           |                     |\n",
    "        |F (  ,  ) |             |           |                     |\n",
    "        |G (  ,  ) |             |           |                     |\n",
    "        |H (  ,  ) |             |           |                     |\n",
    "        |I (  ,  ) |             |           |                     |\n",
    "        |J (  ,  ) |             |           |                     |\n",
    "        |K ( ,  ) |             |           |                     |\n",
    "        |L ( ,  ) |             |           |                     |\n",
    "   6. Observe the data in the table, Do you have any findings? Write down you findins here. 观察分析填写好的表格，你能得到一些什么发现？ 用文字写下你的发现。"
   ]
  },
  {
   "cell_type": "code",
   "execution_count": null,
   "id": "5daf3031-c080-42f8-a046-7686cfd80c7c",
   "metadata": {},
   "outputs": [],
   "source": []
  },
  {
   "cell_type": "markdown",
   "id": "f38cfa79-c99e-4658-8754-ba5a707788cc",
   "metadata": {},
   "source": [
    "3. Follow the steps to draw, and Answer the questions    \n",
    "   按流程编程绘图并回答问题\n",
    "   1. Given two points A(11, 8) and B(25, 8), mark them, connect them to draw a line AB with black color and line width of 3. 给定两个点，分别为A(11, 8), B(25, 8)，标记这两个点，并连接这两点得到线段AB，用黑色，线宽为3绘制线段AB；\n",
    "   2. Draw another line between points O(5, 20) and O'(35, 20) with black color and line width of 1; 用黑色，线宽为1连接点O(18, 0), O'(18,25)，形成线段OO'；\n",
    "   3. Randomly generate a point, X(18, 10) for example, on line OO' by calling the method `randint`， draw the line of AX and AB with black color and line width of 1. Estimate the length of AX and BX and with you eyes. Calculate the area of the triangle AXB. 调用`randint`方法在线段OO'中随机选定一个点，假定生成的点是(18, 10)，用X标记。用黑色、线宽为1连接AX, BX,得到一个三角形ABX。记录点X的坐标，用肉眼估计线段AX，BX的长度，计算三角形AXB的面积，记在下面的表格里（第一行示例）。\n",
    "   4. By far, you should have a figure like the following: 到目前位置，你应该能够绘制得到如下图：\n",
    "   <img src=\"figures/L024_assign3.png\" width=\"500px\" />\n",
    "   5. Repeat the third step(C) 10 times, mark the point randomly generated with the letter: C, D, E, F, G, H, I, J, K, L. Fill the following table.重复10次上一步骤，每次随机生成的点分别标记为：C, D, E, F, G, H, I, J, K, L。并把相关结果填入表格。\n",
    "\n",
    "        | Point X   |  Length AX  | Length BX | Area of AXB  |\n",
    "        |:---------:|:-----------:|-----------|--------------------|\n",
    "        |X (18, 20) |     14      |    14   |       84             |\n",
    "        |C (   ,   ) |            |           |                     |\n",
    "        |D (  ,  ) |             |           |                     |\n",
    "        |E (  ,  ) |             |           |                     |\n",
    "        |F (  ,  ) |             |           |                     |\n",
    "        |G (  ,  ) |             |           |                     |\n",
    "        |H (  ,  ) |             |           |                     |\n",
    "        |I (  ,  ) |             |           |                     |\n",
    "        |J (  ,  ) |             |           |                     |\n",
    "        |K ( ,  ) |             |           |                     |\n",
    "        |L ( ,  ) |             |           |                     |\n",
    "   6. Observe the data in the table, Do you have any findings? Write down you findins here. 观察分析填写好的表格，你能得到一些什么发现？ 用文字写下你的发现。"
   ]
  },
  {
   "cell_type": "code",
   "execution_count": null,
   "id": "6f99e484-7cdc-452c-9475-1b52ae39b449",
   "metadata": {},
   "outputs": [],
   "source": []
  },
  {
   "cell_type": "markdown",
   "id": "5310453c-f2dc-495d-9e78-68b4a22ac19a",
   "metadata": {},
   "source": [
    "4. Follow the steps to draw, and Answer the questions    \n",
    "   按流程编程绘图并回答问题\n",
    "   1. Given two points A(11, 8) and B(25, 8), mark them, connect them to draw a line AB with black color and line width of 3. 给定两个点，分别为A(11, 8), B(25, 8)，标记这两个点，并连接这两点得到线段AB，用黑色，线宽为3绘制线段AB；\n",
    "   2. Give the third point C(18, 15), connect AC and AB form a triangle ABC. It is true that the angle ACB is $90^{\\circ}$. A triangle with one right angle is called a right triangle. If you measure the length of AC and BC, you will find that they are equal. 给定第三个点C(18, 15), 连接AC和AB形成三角形ABC，那么$\\angle$ACB等于$90^{\\circ}$。这样有一个角是直角的三角形称为三角形。如果你测量AC和BC的长度，你会发现他们一样长。\n",
    "   3. By far, you should have a figure like the following: 到目前位置，你应该能够绘制得到如下图：\n",
    "   <img src=\"figures/L024_assign4.png\" width=\"500px\" />\n",
    "   4. In the drawing paper, can you find another point X such that the triangle AXB is a right triangle with angle AXB is $90^{\\circ}$? 在绘图纸上，你能找到另外一个点X，使得三角形AXB是一个直角三角形并且$\\angle$AXB等于$90^{\\circ}$吗？\n",
    "   5. In the drawing paper, can you find other points Y such that the triangle AYB is a right triangle with the angle YAB is $90^{\\circ}$? 在绘图纸上，你能找到其它一些点Y，使得三角形YAB是直角三角形并且$\\angle$YAB等于$90^{\\circ}$吗？\n",
    "   6. In the drawing paper, can you find other points Z such that the triangle AZB is a right triangle with the angle ZBA is $90^{\\circ}$? 在绘图纸上，你能找到其它一些点Z，使得三角形ZBA是直角三角形并且$\\angle$ZBA等于$90^{\\circ}$吗？\n",
    "   7. Observe the triangles you draw, Write down your findings here. 观察你绘制的所有三角形，并在这里写下你的发现。"
   ]
  },
  {
   "cell_type": "code",
   "execution_count": null,
   "id": "024bff26-abf2-41e1-a8e7-e8ca73adc85c",
   "metadata": {},
   "outputs": [],
   "source": []
  }
 ],
 "metadata": {
  "kernelspec": {
   "display_name": "Python 3",
   "language": "python",
   "name": "python3"
  },
  "language_info": {
   "codemirror_mode": {
    "name": "ipython",
    "version": 3
   },
   "file_extension": ".py",
   "mimetype": "text/x-python",
   "name": "python",
   "nbconvert_exporter": "python",
   "pygments_lexer": "ipython3",
   "version": "3.8.10"
  }
 },
 "nbformat": 4,
 "nbformat_minor": 5
}
