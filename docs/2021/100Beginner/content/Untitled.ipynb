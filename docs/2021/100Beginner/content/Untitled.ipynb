{
 "cells": [
  {
   "cell_type": "code",
   "execution_count": 2,
   "id": "5f4d8890-19b5-4152-8cd3-01f8e7d77a0f",
   "metadata": {},
   "outputs": [],
   "source": [
    "from yunzilib import sum_yz"
   ]
  },
  {
   "cell_type": "code",
   "execution_count": 3,
   "id": "a1138fb4-be0e-4898-b6ab-3c097edeb423",
   "metadata": {},
   "outputs": [
    {
     "name": "stdout",
     "output_type": "stream",
     "text": [
      "201\n"
     ]
    }
   ],
   "source": [
    "x1, x2 = 100, 101\n",
    "\n",
    "x3 = x1 + x2\n",
    "print(x3)"
   ]
  },
  {
   "cell_type": "code",
   "execution_count": 4,
   "id": "b86981be-8bdb-4ccb-baf9-1a9867e116cc",
   "metadata": {},
   "outputs": [
    {
     "name": "stdout",
     "output_type": "stream",
     "text": [
      "201\n"
     ]
    }
   ],
   "source": [
    "x3 = sum_yz(x1, x2)\n",
    "print(x3)"
   ]
  },
  {
   "cell_type": "code",
   "execution_count": null,
   "id": "b57cef89-03bd-49db-95e9-e94d3c12edd7",
   "metadata": {},
   "outputs": [],
   "source": []
  }
 ],
 "metadata": {
  "kernelspec": {
   "display_name": "Python 3",
   "language": "python",
   "name": "python3"
  },
  "language_info": {
   "codemirror_mode": {
    "name": "ipython",
    "version": 3
   },
   "file_extension": ".py",
   "mimetype": "text/x-python",
   "name": "python",
   "nbconvert_exporter": "python",
   "pygments_lexer": "ipython3",
   "version": "3.8.10"
  }
 },
 "nbformat": 4,
 "nbformat_minor": 5
}
