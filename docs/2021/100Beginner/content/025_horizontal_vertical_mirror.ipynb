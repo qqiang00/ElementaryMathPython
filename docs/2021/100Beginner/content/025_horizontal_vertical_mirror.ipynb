{
 "cells": [
  {
   "cell_type": "markdown",
   "id": "relative-location",
   "metadata": {},
   "source": [
    "## 第25讲 水平或垂直镜像\n",
    "\n",
    "Lecture 25. Mirror Horizontally or Vertically"
   ]
  },
  {
   "cell_type": "markdown",
   "id": "d12f05dd",
   "metadata": {},
   "source": [
    "### Problem 问题描述"
   ]
  },
  {
   "cell_type": "markdown",
   "id": "87c843e7-cbef-4128-9360-c3ebd33dcc1b",
   "metadata": {},
   "source": [
    "Use the methods provided in the library `qianglib`, draw a grid coordinate system where the origin `(0, 0)` is at the bottom left of the coordinate system.    \n",
    "使用`qianglib`库提供的方法，绘制方格坐标纸，其中坐标系的原点`(0,0)`位于绘图区的最左下方，使用的`scale`值为`20`. \n",
    "\n",
    "Follow the steps below，draw a graph slimilar to the picture below.\n",
    "跟随下面的步骤，绘制出类似如下图所示的图形。\n",
    "\n",
    "<img src=\"figures/L025_mirror_lecture.png\" width=\"500px\" />"
   ]
  },
  {
   "cell_type": "markdown",
   "id": "d1dd0125-5662-4c64-a90c-9b663cebf35a",
   "metadata": {},
   "source": [
    "1. Given the coordinates of the points ABC as A(7, 16), B(15, 16), C(7, 22), connect ABC in order to create a triangle. Draw this triangle use black color and line width of 3. mark every vertex with letters A,B, and C; mark the line AB with letter \"b\"; mark the triangle with \"T1\". Give proper size to the markers;    \n",
    "给定三个点及其坐标A(7, 16), B(15, 16), C(7, 22)，依次连接ABC可以得到一个三角形。使用黑色、线宽为3，绘制这个三角形，用字母ABC分别标记每一个顶点，给这个三角形一个标记\"T1\";"
   ]
  },
  {
   "cell_type": "markdown",
   "id": "76965654-1b07-4f4e-87f6-a30aaebbccfb",
   "metadata": {},
   "source": [
    "2. Given two points H(0,13), H'(38, 13), draw the line segment HH' in black, mark the points H and H'; take the line segment HH' as the axis of symmetry (mirror), for each vertex of the triangle T1, find the coordinates of the mirror point in the HH' mirror, denoted as A', B', and C' respectively; thus formed a new triangle A'B'C', draw this with a red line width of 3 Mirror triangle, denoted as \"T2\";    \n",
    "   给定两个点H(0,13), H'(38, 13)，用黑色绘制线段HH',标记H和H'点; 将线段HH'作为对称轴（镜面），找到三角形T1的每一个顶点A,B和C在HH'镜子里的镜像点的坐标位置，分别记为A',B'和C'，形成一个新的三角形A'B'C'，用红色线宽3绘制这个镜像三角形，记为\"T2\"；"
   ]
  },
  {
   "cell_type": "markdown",
   "id": "4f597fd6-57b0-4bbf-b4bf-c29cab1376b4",
   "metadata": {},
   "source": [
    "3. Given two points V(20, 0), V'(20, 25), draw the line segment VV' in black, mark the points V and V'; take the line segment VV' as the axis of symmetry (mirror), for each vertex of the triangle T1, find the coordinates of the mirror point in the VV' mirror, denoted as A'', B'', and C'' respectively; thus formed a new triangle A''B''C'', draw this with a blue line width of 3 Mirror triangle, denoted as \"T3\";    \n",
    "   给定两个点V(20, 0), V'(20, 25)，用黑色绘制线段VV',标记V和V'点; 将线段VV'作为对称轴（镜面），找到三角形T1的每一个顶点A,B和C在VV'镜子里的镜像点的坐标位置，分别记为A'',B''和C''，形成一个新的三角形A''B''C''，用蓝色线宽3绘制这个镜像三角形，记为\"T3\"；"
   ]
  },
  {
   "cell_type": "markdown",
   "id": "caa82fb6-d929-4815-bfb2-c41789f6f146",
   "metadata": {},
   "source": [
    "4. for each vertex of the triangle T3, find the coordinates of the mirror point in the HH' mirror, denoted as A''', B''', and C''' respectively; thus formed a new triangle A'''B'''C''', draw this with a blue line width of 3 Mirror triangle, denoted as \"T4\";    \n",
    "   找到三角形T3的每一个顶点A,B和C在HH'镜子里的镜像点的坐标位置，分别记为A''',B'''和C'''，形成一个新的三角形A'''B'''C'''，用蓝色线宽3绘制这个镜像三角形，标记每一个顶点，标记三角形为\"T4\"；"
   ]
  },
  {
   "cell_type": "markdown",
   "id": "551945bf-4cf4-40fa-a6d9-3998d36f8fe8",
   "metadata": {},
   "source": [
    "5. For each vertex of the triangle T2, find the coordinates of the mirror point in the VV' mirror; thus formed a new triangle. Draw this with a green line width of 3 Mirror triangle. Do not denote the vertices and the new triangle. The new mirror triangle should be completely overlapped with the triangle T4.    \n",
    "   找到三角形T2的每一个顶点A,B和C在VV'镜子里的镜像点的坐标位置，新的镜像点形成一个新三角形，用绿色线宽3绘制这个新镜像三角形，不要标记顶点和三角形。这个三角形应该与三角形T4完全重合。"
   ]
  },
  {
   "cell_type": "markdown",
   "id": "1270f26d-e2ca-45e0-a679-ec82361795da",
   "metadata": {},
   "source": [
    "### Math Background 数学背景\n",
    "1. 一个点和它的镜像点到对称轴（镜子）的距离相等，且点与其镜像点的连线构成的线段与对称轴垂直\n",
    "2. 复杂的几何图形可以由各个点依照一定的次序排列而成，图形的镜像可以看成是图形的每一个每一个顶点的镜像。"
   ]
  },
  {
   "cell_type": "markdown",
   "id": "sorted-furniture",
   "metadata": {
    "heading_collapsed": true
   },
   "source": [
    "### Prerequisites 预备知识"
   ]
  },
  {
   "cell_type": "markdown",
   "id": "ac3f3f62-7bb0-4f00-9a4e-4085b96c14dd",
   "metadata": {},
   "source": [
    "**Mirror Horizontally or Vertically 水平或垂直镜像** \n",
    "\n",
    "如果你站在镜子前，镜子里会出现一个一模一样的你，你离镜子越近，你也会感觉镜子中的你离镜子也越近；你离镜子越远，你也会感觉镜子中的你离镜子也越远。镜子就相当于一个对称轴面，它把镜子外的人复制后按照一定的规律重新摆放在镜子里。在数学的几何中，也有类似的操作，可以设置一个线段当镜子，将点或各种图形镜像到一个新的位置，使得他们就好像在照镜子一样。这个充当镜子的线段称为对称轴，原来的点或图形称为原始图形，新得到的点或图形称为镜像图形。\n",
    "\n",
    "\n",
    "Question: How to represent the the mirror mathematically?\n",
    "如何用数学公式来描述这种镜像操作？"
   ]
  },
  {
   "cell_type": "code",
   "execution_count": 1,
   "id": "80437e29-2295-48b7-b195-c0a7f03e9cbc",
   "metadata": {},
   "outputs": [],
   "source": [
    "from turtle import setup, reset, pu, pd, bye, left, right, fd, bk, screensize\n",
    "from turtle import goto, seth, write, ht, st, home, dot, pen, speed\n",
    "from qianglib import prepare_paper, draw_grid, mark, lines, line, polygon, text\n",
    "from qianglib import get_center, translate"
   ]
  },
  {
   "cell_type": "code",
   "execution_count": 2,
   "id": "70162687-84ed-42b5-8b9d-885c9b66ecec",
   "metadata": {},
   "outputs": [],
   "source": [
    "width, height = 800, 600\n",
    "setup(width, height, 0, 0)\n",
    "prepare_paper(width, height, scale=20, min_x=0, min_y=0, max_y=25)"
   ]
  },
  {
   "cell_type": "code",
   "execution_count": 3,
   "id": "0bb3dc74-cb3b-4fed-b35c-4621371ab32f",
   "metadata": {},
   "outputs": [],
   "source": [
    "def mirror_up_down(point, horizontal_symmetric_line):\n",
    "    new_point = None\n",
    "    # TODO: write your code here\n",
    "    return new_point"
   ]
  },
  {
   "cell_type": "code",
   "execution_count": 4,
   "id": "ea978011-d9ca-4f86-8393-04182966d30d",
   "metadata": {},
   "outputs": [],
   "source": [
    "def mirror_left_right(point, vertical_symmetric_line):\n",
    "    \"\"\"\n",
    "    params\n",
    "        point: type of tuple, example: (x, y)\n",
    "        vertical_symmetric_line: list of two points.\n",
    "            example: [(x0, y0), (x0, y1)], y0 != y1\n",
    "    return\n",
    "        mirrord point, type of tuple, example: (x_m, y_m)\n",
    "    \"\"\"\n",
    "    new_point = None\n",
    "    # TODO: write your code here\n",
    "    return new_point"
   ]
  },
  {
   "cell_type": "code",
   "execution_count": 5,
   "id": "678dc279-52b0-4318-81c1-f11d06a7a8f9",
   "metadata": {},
   "outputs": [],
   "source": [
    "def mirror_point(point, symmetric_line):\n",
    "    new_point = None\n",
    "    # TODO:\n",
    "    return new_point"
   ]
  },
  {
   "cell_type": "code",
   "execution_count": 118,
   "id": "70a64631-3bfb-4a88-8252-9faac5e29cbe",
   "metadata": {},
   "outputs": [],
   "source": [
    "def mirror_shape(shape, symmetric_line):\n",
    "    new_shape = None\n",
    "    # TODO:\n",
    "    return new_shape"
   ]
  },
  {
   "cell_type": "markdown",
   "id": "381e171a-b5c3-4a6a-abbc-86ad4c798d67",
   "metadata": {},
   "source": [
    "### Exercise 练习"
   ]
  },
  {
   "cell_type": "markdown",
   "id": "e3482f35-51e9-4e07-908f-e8dda825e34f",
   "metadata": {},
   "source": [
    "Give an example of calling this method: specify a point(line, or shape) and a translation, draw it, call the method to get a new one, draw the new one again.    \n",
    "举一个调用这个方法的例子：指定一个点（线，或形状）和一个动作，绘制它，调用方法获取一个新的点(线，或者形状），重新绘制它。"
   ]
  },
  {
   "cell_type": "code",
   "execution_count": 3,
   "id": "b7f6ee8e-e31f-4392-9cc4-ab44ef4c44d1",
   "metadata": {},
   "outputs": [],
   "source": [
    "P = (10, 10)\n",
    "mark(P,\"P(10, 10)\")"
   ]
  },
  {
   "cell_type": "code",
   "execution_count": 4,
   "id": "c17ed14a-a8af-4b7e-8eed-766b7ded1e7f",
   "metadata": {},
   "outputs": [],
   "source": [
    "O, Op = (20, 0), (20, 20)\n",
    "line(O, Op, color=\"red\", line_width=3)"
   ]
  },
  {
   "cell_type": "code",
   "execution_count": 5,
   "id": "ca2ee769-0918-45b2-a3f9-137752aeb72c",
   "metadata": {},
   "outputs": [],
   "source": [
    "mark(O, \"O\"+str(O), color=\"blue\")\n",
    "mark(Op, \"O'\"+str(Op), color=\"blue\")"
   ]
  },
  {
   "cell_type": "code",
   "execution_count": null,
   "id": "9dd5b064-498f-47a0-8f38-a374b0d96841",
   "metadata": {},
   "outputs": [],
   "source": [
    "# distance from P to line OO' \n",
    "# O, Op, P\n",
    "distance = ?"
   ]
  },
  {
   "cell_type": "code",
   "execution_count": 9,
   "id": "835b0477-f481-4d7a-91b1-bd315a74dd65",
   "metadata": {},
   "outputs": [],
   "source": [
    "P_mirror_tony = (30, 10)\n",
    "P_mirror_yunzi = (30, 10)\n",
    "P_mirror_jason = (30, 10)\n",
    "P_mirror_sophie = (30 ,10)\n",
    "mark(P_mirror_tony, \"P_mirror\", color=\"blue\")"
   ]
  },
  {
   "cell_type": "code",
   "execution_count": 10,
   "id": "0d4a3262-82ad-4a12-94dc-5eeaa817378e",
   "metadata": {},
   "outputs": [],
   "source": [
    "p_tony = (11, 2)\n",
    "mark(p_tony, \"tony\", color=\"red\")"
   ]
  },
  {
   "cell_type": "code",
   "execution_count": 11,
   "id": "6b1fe421-7cb2-4f21-83f9-a8b3d78ceaf1",
   "metadata": {},
   "outputs": [],
   "source": [
    "p_mirror_tony_by_yunzi = (29, 2)\n",
    "mark(p_mirror_tony_by_yunzi, \"tony_mirror\", color=\"blue\")"
   ]
  },
  {
   "cell_type": "code",
   "execution_count": 12,
   "id": "3c1dca9f-a686-4c9f-bdbd-93a9646babc4",
   "metadata": {},
   "outputs": [],
   "source": [
    "p_jason = (15, 5)\n",
    "mark(p_jason, \"Jason\", color=\"red\")"
   ]
  },
  {
   "cell_type": "code",
   "execution_count": 13,
   "id": "acdde0bd-6073-4fe5-b601-11fa28c4820a",
   "metadata": {},
   "outputs": [],
   "source": [
    "p_mirror_jason_by_sophie = (25, 5)\n",
    "mark(p_mirror_jason_by_sophie, \"jason_mirror\", color=\"blue\")"
   ]
  },
  {
   "cell_type": "code",
   "execution_count": null,
   "id": "77dcde00-74cc-444c-8401-ba372ff116f1",
   "metadata": {},
   "outputs": [],
   "source": [
    "p = (x, y)\n",
    "O, Op = (20, 0), (20, 20)\n",
    "x, y, O, Op\n",
    "\n",
    "#x == p[0], y == p[1]\n",
    "p_mirror = (xm, ym)\n",
    "xm = #p, O, Op, [0], [1]\n",
    "ym = #p, O, Op, [0], [1]"
   ]
  },
  {
   "cell_type": "markdown",
   "id": "d55f37d9",
   "metadata": {},
   "source": [
    "### Solution 编程求解"
   ]
  },
  {
   "cell_type": "code",
   "execution_count": 5,
   "id": "b1ae7be3-fdde-46b5-820e-c35a55d2fbe0",
   "metadata": {},
   "outputs": [],
   "source": [
    "from turtle import setup, reset, pu, pd, bye, left, right, fd, bk, screensize\n",
    "from turtle import goto, seth, write, ht, st, home, dot, pen, speed\n",
    "from qianglib import prepare_paper, draw_grid, mark, lines, line, polygon, text\n",
    "from qianglib import get_center, translate"
   ]
  },
  {
   "cell_type": "code",
   "execution_count": 119,
   "id": "70b61462-d0fd-4994-b3f7-33a369281a7e",
   "metadata": {},
   "outputs": [],
   "source": [
    "def mirror(shape, symmetry_axis):\n",
    "    '''mirror a shape based on a horizontal or vertical symmetry_axis \n",
    "       represented by two points\n",
    "    params:\n",
    "        symmetry_axis: list of point, lenth = 2, either horizontal or vertical\n",
    "               data type: [(int, int), (int, int)]\n",
    "               example: [(0, 13), (38, 13)] a horizontal line\n",
    "        offset: shape, a point, line, or a polygon\n",
    "               data type: tuple or list of tuple\n",
    "               example: (2, 4), [(1, 2), (3, 5)], [(1, 2), (3, 5), (5, 6)]\n",
    "               \n",
    "    return a tuple or list of tuple representing a point, or a line, polygon.\n",
    "    '''\n",
    "    new_shape = None\n",
    "    is_axis_horizontal = False\n",
    "    is_axis_vertical = False\n",
    "    if len(symmetry_axis) != 2:\n",
    "        return None\n",
    "    if symmetry_axis[0][0] == symmetry_axis[1][0]:\n",
    "        is_axis_vertical = True # vertical\n",
    "    if symmetry_axis[0][1] == symmetry_axis[1][1]:\n",
    "        is_axis_horizontal = True\n",
    "    if not is_axis_horizontal and not is_axis_vertical:\n",
    "        return None  # don't know how to mirror so far\n",
    "    \n",
    "    the_value, the_index = None, None\n",
    "    if is_axis_horizontal:\n",
    "        the_value = symmetry_axis[0][1] # a y value\n",
    "        the_index = 1 # will update y value\n",
    "    else:\n",
    "        the_value = symmetry_axis[0][0]\n",
    "        the_index = 0 # will update x value\n",
    "        \n",
    "    if type(shape) == tuple:  # a point\n",
    "        new_value = 2*the_value - shape[the_index]\n",
    "        new_shape = list(shape)\n",
    "        new_shape[the_inex] = new_value\n",
    "        new_shape = tuple(new_shape)\n",
    "    elif type(shape) == list: # a line or a polygon\n",
    "        new_shape = []\n",
    "        for point in shape:\n",
    "            new_value = 2*the_value - point[the_index]\n",
    "            new_point = list(point)\n",
    "            new_point[the_index] = new_value\n",
    "            new_point = tuple(new_point)\n",
    "            new_shape.append(new_point)\n",
    "    else:\n",
    "        pass\n",
    "    return new_shape  "
   ]
  },
  {
   "cell_type": "code",
   "execution_count": 128,
   "id": "c9f69342-ebb2-4f71-a0a1-f53de9d5bd4d",
   "metadata": {},
   "outputs": [],
   "source": [
    "width, height = 800, 600\n",
    "setup(width, height, 0, 0)\n",
    "prepare_paper(width, height, scale=20, min_x=0, min_y=0, max_y=25)"
   ]
  },
  {
   "cell_type": "code",
   "execution_count": 129,
   "id": "0050bafb-33ff-40d7-bf92-b860ce1b317d",
   "metadata": {},
   "outputs": [],
   "source": [
    "A, B, C = (7, 16), (15, 16), (7, 22)\n",
    "triangle1 = [A, B, C]\n",
    "\n",
    "polygon(triangle1, color=\"black\", line_width=3,\n",
    "        marker_texts = list(\"ABC\"),\n",
    "        marker_offsets = [(0, -1), (0, -1), (0, 0)],\n",
    "        center_text_offset = (0, -0.5),\n",
    "        center_text = \"T1\"\n",
    "       )\n"
   ]
  },
  {
   "cell_type": "code",
   "execution_count": 130,
   "id": "6dcaa906-ff14-411e-aeab-41274217ceb7",
   "metadata": {},
   "outputs": [],
   "source": [
    "H, Hp = (0, 13), (38, 13)\n",
    "line(H, Hp, line_width=2, color=\"black\")\n",
    "line_hor = [H, Hp]\n",
    "mark(H, \"H\", offset=(0.5, 0.5))\n",
    "mark(Hp, \"H'\", offset=(-1, 0.5))"
   ]
  },
  {
   "cell_type": "code",
   "execution_count": 131,
   "id": "b7462f66-45f8-40ef-b555-eb230fc6237e",
   "metadata": {},
   "outputs": [],
   "source": [
    "triangle2 = mirror(triangle1, line_hor)\n",
    "polygon(triangle2,  color=\"red\", line_width=3,\n",
    "        marker_texts = [\"A'\", \"B'\", \"C'\"],\n",
    "        marker_offsets = [(0, 0), (0, 0), (0, -1)],\n",
    "        center_text = \"T2\")"
   ]
  },
  {
   "cell_type": "code",
   "execution_count": 132,
   "id": "fcaa07de-c8ea-4269-ab33-7f78748a1be1",
   "metadata": {},
   "outputs": [],
   "source": [
    "V, Vp = (20, 0), (20, 25)\n",
    "line(V, Vp, line_width=2, color=\"black\")\n",
    "line_ver = [V, Vp]\n",
    "mark(V, \"V\", offset=(0.5, 0))\n",
    "mark(Vp, \"V'\", offset=(0.5, -1))"
   ]
  },
  {
   "cell_type": "code",
   "execution_count": 133,
   "id": "7dc3154c-892b-4f89-a5d5-39e47578c41b",
   "metadata": {},
   "outputs": [],
   "source": [
    "triangle3 = mirror(triangle1, line_ver)\n",
    "polygon(triangle3,  color=\"blue\", line_width=3,\n",
    "        marker_texts = [\"A''\", \"B''\", \"C''\"],\n",
    "        marker_offsets = [(0, -1), (0, -1), (0, 0)],\n",
    "        center_text = \"T3\")"
   ]
  },
  {
   "cell_type": "code",
   "execution_count": 134,
   "id": "6d45a28c-ac9b-4076-9c97-aa6d7c43f4d0",
   "metadata": {},
   "outputs": [],
   "source": [
    "triangle4 = mirror(triangle3, line_hor)\n",
    "polygon(triangle4,  color=\"blue\", line_width=3,\n",
    "        marker_texts = [\"A'''\", \"B'''\", \"C'''\"],\n",
    "        marker_offsets = [(0, 0), (0, 0), (0, -1)],\n",
    "        center_text = \"T4\")"
   ]
  },
  {
   "cell_type": "code",
   "execution_count": 135,
   "id": "3ad83437-ec8f-4929-b9ea-d5ed7fcd1ca2",
   "metadata": {},
   "outputs": [],
   "source": [
    "triangle5 = mirror(triangle2, line_ver)\n",
    "polygon(triangle5,  color=\"green\", line_width=3\n",
    "        #,marker_texts = [\"A'''\", \"B'''\", \"C'''\"],\n",
    "        #,marker_offsets = [(0, 0), (0, 0), (0, -1)],\n",
    "        #,center_text = \"T5\"\n",
    "       )"
   ]
  },
  {
   "cell_type": "markdown",
   "id": "latest-contamination",
   "metadata": {},
   "source": [
    "### Summary 知识点小结"
   ]
  },
  {
   "cell_type": "markdown",
   "id": "afb3f674",
   "metadata": {},
   "source": [
    "1. 学习水平和垂直镜像的数学表达形式\n",
    "2. 复习`type`方法\n",
    "3. 复习`tuple`和`list`的区别\n",
    "3. 复习在方法中调用方法\n"
   ]
  },
  {
   "cell_type": "markdown",
   "id": "bizarre-assurance",
   "metadata": {},
   "source": [
    "### 计算机小知识"
   ]
  },
  {
   "cell_type": "markdown",
   "id": "92100f08",
   "metadata": {},
   "source": [
    "暂缺"
   ]
  },
  {
   "cell_type": "markdown",
   "id": "digital-consensus",
   "metadata": {
    "heading_collapsed": true
   },
   "source": [
    "### Assignments 作业"
   ]
  },
  {
   "cell_type": "code",
   "execution_count": 136,
   "id": "9a75f153-3d98-49ab-9155-4117dbb8b9b7",
   "metadata": {},
   "outputs": [],
   "source": [
    "from turtle import setup, reset, pu, pd, bye, left, right, fd, bk, screensize\n",
    "from turtle import goto, seth, write, ht, st, home, dot, pen, speed\n",
    "from qianglib import prepare_paper, draw_grid, mark, lines, line, polygon, text\n",
    "from qianglib import get_center, translate"
   ]
  },
  {
   "cell_type": "code",
   "execution_count": 146,
   "id": "80c955bd-8e90-4044-a5e2-819c8dae09db",
   "metadata": {},
   "outputs": [],
   "source": [
    "width, height = 800, 600\n",
    "setup(width, height, 0, 0)\n",
    "prepare_paper(width, height, scale=20, min_x=0, min_y=0, max_y=25)"
   ]
  },
  {
   "cell_type": "code",
   "execution_count": 147,
   "id": "6b64c7fc-e76c-4bfe-a5f8-658d2e74e159",
   "metadata": {},
   "outputs": [],
   "source": [
    "H, Hp = (0, 13), (38, 13)\n",
    "line(H, Hp, line_width=2, color=\"grey\")\n",
    "line_hor = [H, Hp]\n",
    "mark(H, \"H\", offset=(0.5, 0.5))\n",
    "mark(Hp, \"H'\", offset=(-1, 0.5))"
   ]
  },
  {
   "cell_type": "code",
   "execution_count": 148,
   "id": "0b5bbe9b-c5c1-4a12-9a7c-5e1aed9fb359",
   "metadata": {},
   "outputs": [],
   "source": [
    "V, Vp = (20, 0), (20, 25)\n",
    "line(V, Vp, line_width=2, color=\"grey\")\n",
    "line_ver = [V, Vp]\n",
    "mark(V, \"V\", offset=(0.5, 0))\n",
    "mark(Vp, \"V'\", offset=(0.5, -1))"
   ]
  },
  {
   "cell_type": "markdown",
   "id": "8401de62-a04a-4ffb-ba1d-4c01c2903911",
   "metadata": {},
   "source": [
    "1. Improve your own `mirror` method, so that it can perform horizontal or vertical mirroring operations on any graphics, and get its mirror graphics.    \n",
    "   完善你自己编写的`mirror`方法，使得它能够对任意图形进行水平或垂直镜像操作，并得到它的镜像图形。"
   ]
  },
  {
   "cell_type": "code",
   "execution_count": null,
   "id": "8741ac07-5773-43ef-b571-2dce8e0b2cd2",
   "metadata": {},
   "outputs": [],
   "source": []
  },
  {
   "cell_type": "markdown",
   "id": "e4214951-a314-47f1-b9e4-6c7a1e63b7d1",
   "metadata": {},
   "source": [
    "2. Use the symmetry axes HH' and VV' in this lecture, given a triangle T1 with the coordinates of each vertex are: (33, 10), (25, 10), and (33, 4). Use the `mirror` method you programmed, get the mirrored triangle T2 of triangle T1 with respect to VV', the mirrored triangle T3 of T1 with respect to HH', and the mirrored triangle T4 of T3 with respect to VV'. Completely draw all the triangles T1, T2, T3, T4 and the two symmetry axes HH', VV'. The drawn graph should be in exactly the same position and shape as shown in the lecture.Did the method you wrote actually get such a graph? If not, please modify your method till getting the correct graph.    \n",
    "   沿用本将中的对称轴HH'和VV'，给定一个三角形T1, 起每一个顶点的坐标分别为:(33,10), (25, 10), 和(33, 4)。使用你编制的`mirror`方法，得到三角形T1关于VV'的镜像三角形T2,关于HH'的镜像三角形T3，以及T3关于VV'的镜像三角形T4。完整绘制所有的三角形T1,T2,T3,T4和两条对称轴HH',VV'。绘制出来的图形应该与本将示例图形的位置和形状完全一样。你写的方法确实得到了这样的图形了吗？如果没有，请修改你写的方法以便的到正确的图形。"
   ]
  },
  {
   "cell_type": "code",
   "execution_count": 149,
   "id": "9996647f-c3e9-4634-8c56-b83173c68172",
   "metadata": {},
   "outputs": [],
   "source": [
    "# write your code here"
   ]
  },
  {
   "cell_type": "markdown",
   "id": "d35834d4-a713-4a9c-a902-23840a900bd9",
   "metadata": {},
   "source": [
    "3. Use the symmetry axes HH' and VV' in this lecture, draw the mirrored polygon2 of the polygon1 given below with respect to HH'. Then, consider polygon2 and polygon1 as a whole, draw their mirror images about VV'. What figure did you end up with on the paper?    \n",
    "   沿用本将中的对称轴HH'和VV'，绘制下面给定的多边形Polygon1关于HH'的镜像polygon2。随后，把polygon2与polygon1看成一个整体，绘制它们关于VV'的镜像图形。最终你在绘图纸上得到了一个什么图形？\n",
    "    ```python\n",
    "    polygon1 = [(25, 13), (30, 15), (24, 17), (23, 22), (20, 18), (20, 13)]\n",
    "    ```\n",
    "   "
   ]
  },
  {
   "cell_type": "code",
   "execution_count": 150,
   "id": "5daf3031-c080-42f8-a046-7686cfd80c7c",
   "metadata": {},
   "outputs": [],
   "source": [
    "polygon1 = [(25, 13), (30, 15), (24, 17), (23, 22), (20, 18), (20, 13)]\n",
    "polygon(polygon1)"
   ]
  },
  {
   "cell_type": "markdown",
   "id": "8731607e-5d26-4fb9-9745-dddc660601c3",
   "metadata": {},
   "source": [
    "4. If your mirror method did the above jobs well, you can put it into a library you built for yourself.    \n",
    "   如果你的`mirror`方法能够很好的完成工作，你可以把它放入到你自己编写的库中，方便下次使用。"
   ]
  },
  {
   "cell_type": "code",
   "execution_count": null,
   "id": "30f66132-eb41-4272-ab56-e522917d873f",
   "metadata": {},
   "outputs": [],
   "source": []
  }
 ],
 "metadata": {
  "kernelspec": {
   "display_name": "Python 3",
   "language": "python",
   "name": "python3"
  },
  "language_info": {
   "codemirror_mode": {
    "name": "ipython",
    "version": 3
   },
   "file_extension": ".py",
   "mimetype": "text/x-python",
   "name": "python",
   "nbconvert_exporter": "python",
   "pygments_lexer": "ipython3",
   "version": "3.8.10"
  }
 },
 "nbformat": 4,
 "nbformat_minor": 5
}
