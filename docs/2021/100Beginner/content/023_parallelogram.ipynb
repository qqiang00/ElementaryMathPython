{
 "cells": [
  {
   "cell_type": "markdown",
   "id": "relative-location",
   "metadata": {},
   "source": [
    "## 第23讲 平行四边形和它的面积"
   ]
  },
  {
   "cell_type": "markdown",
   "id": "d12f05dd",
   "metadata": {},
   "source": [
    "### Problem 问题描述"
   ]
  },
  {
   "cell_type": "markdown",
   "id": "87c843e7-cbef-4128-9360-c3ebd33dcc1b",
   "metadata": {},
   "source": [
    "使用`qianglib`库提供的方法，绘制方格坐标纸，其中坐标系的原点`(0,0)`位于绘图区的最左下方，使用的`scale`值为`20`. Use the methods provided in the library `qianglib`, draw a grid coordinate system where the origin `(0, 0)` is at the bottom left of the coordinate system."
   ]
  },
  {
   "cell_type": "markdown",
   "id": "d1dd0125-5662-4c64-a90c-9b663cebf35a",
   "metadata": {},
   "source": [
    "1. Use 'black' color, 3 as line width to draw following two quadrilaterals. 使用黑色、数值为3的线宽，分别绘制出下列两个列表所表示的四边形：\n",
    "    - quad1:[(2, 15), (10, 15), (14, 19), (6, 19)] （四边形1）\n",
    "    - quad2:[(6, 4), (14, 4), (14, 8), (6, 8)] （四边形2）"
   ]
  },
  {
   "cell_type": "markdown",
   "id": "58eddaf8-4cf4-48fa-9f4b-268ed4f852d9",
   "metadata": {},
   "source": [
    "2. 绘制出的两个图形是平行四边形或者矩形吗？ What are the exact shape names for the quadrilaterals drawn?\n",
    "   - is quad1 a parallelogram（平行四边形）: ?\n",
    "   - is quad2 a parallelogram: ?\n",
    "   - is quad1 a rectangle（矩形）: ?\n",
    "   - is quad2 a rectangle: ?\n",
    "   "
   ]
  },
  {
   "cell_type": "markdown",
   "id": "9a4584b5-ff7d-4e54-8a59-ea3ae18ab898",
   "metadata": {},
   "source": [
    "3. Count manually how many small square units (side length = 1) are contained in each figure drawn. This result is also the area of each corresponding figure. **Note**: If a side line of a figure penetrates the small square unit, it means that the small square unit is not completely contained in the figure. However, if more than half of the area of this square unit is included in the figure, count it on; otherwise, discard it. 手工数一数，绘制出的每一个图形内部包含多少个完整的边长为1的小正方形，这个数字同时就是对应的每一个图形的面积。**注意**：如果图形的一条边从正方形内部穿过，说明这个小正方形并不完全被包含在图形内部，仔细并估计这个正方形是否有超过一半的面积被包括在图形内部，如果是则可以把这个小正方形记入统计，如果不是，则放弃记入这个小正方形。\n",
    "   - Area for quad1 is:?\n",
    "   - Area for quad2 is:?"
   ]
  },
  {
   "cell_type": "markdown",
   "id": "c7fbec31-a02d-41b0-b808-833d72c1ab5f",
   "metadata": {},
   "source": [
    "4. Try to find a line, indicated by the coordiante values of its two end points, to cut each figure into two parts. Splicing the two parts to make it a rectangle. In the process of cutting and splicing, the total area of the graphics remains unchanged. Does it mean that each parallelogram can be transformed to a rectangle that has the same area? 尝试找出一条线段（找到表示这条线段的两个端点即可），它把上面绘出的平行四边形分割成两部分，分割得到的两部分可以拼接称为绘制出的矩形。是不是每一个平行四边形都可以这样拼接称为一个面积和它相同的矩形？\n",
    "    - end points of the line: (?, ?) and (?, ?)\n",
    "    - Can every parallelogram be transformed to a rectangle with the same area by such cutting and splicing?: ?"
   ]
  },
  {
   "cell_type": "markdown",
   "id": "1270f26d-e2ca-45e0-a679-ec82361795da",
   "metadata": {},
   "source": [
    "### Math Background 数学背景\n",
    "1. 由四条边组成的封闭图形称为四边形；由两组平行线段组成的四边形称为平行四边形\n",
    "2. 如果一个四边形是平行四边形，它不一定是矩形，更不一定是正方形\n",
    "3. 如果一个图形是矩形，它一定也是平行四边形；如果一个图形是正方形，那它也是矩形，也是平行四边形\n",
    "3. 平行四边形可以通过裁剪变成一个和它面积相同的矩形\n",
    "4. 平行四边形的面积公式: $S=b \\cdot h$\n",
    "5. 矩形的面积公式： $S=a \\cdot b$"
   ]
  },
  {
   "cell_type": "markdown",
   "id": "sorted-furniture",
   "metadata": {
    "heading_collapsed": true
   },
   "source": [
    "### Prerequisites 预备知识"
   ]
  },
  {
   "cell_type": "markdown",
   "id": "ac3f3f62-7bb0-4f00-9a4e-4085b96c14dd",
   "metadata": {},
   "source": [
    "~~rewrite `polygon` method in `qianglib`, add some support methods~~"
   ]
  },
  {
   "cell_type": "markdown",
   "id": "d55f37d9",
   "metadata": {},
   "source": [
    "### Solution 编程求解"
   ]
  },
  {
   "cell_type": "code",
   "execution_count": 1,
   "id": "b1ae7be3-fdde-46b5-820e-c35a55d2fbe0",
   "metadata": {},
   "outputs": [],
   "source": [
    "from turtle import setup, reset, pu, pd, bye, left, right, fd, bk, screensize\n",
    "from turtle import goto, seth, write, ht, st, home, dot, pen, speed\n",
    "from qianglib import prepare_paper, draw_grid, mark, lines, line, text\n",
    "from qianglib import polygon\n",
    "#from qianglib import generate_parallelogram, generate_rectangle, get_center, add_v\n",
    "#from qianglib import rectangle"
   ]
  },
  {
   "cell_type": "code",
   "execution_count": 2,
   "id": "bed66e63-7d02-4c22-bf10-8863883aab94",
   "metadata": {},
   "outputs": [],
   "source": [
    "width, height = 800, 600\n",
    "setup(width, height, 0, 0)"
   ]
  },
  {
   "cell_type": "code",
   "execution_count": 3,
   "id": "06a7859a-b00c-46b3-ae98-5b423dc22f8e",
   "metadata": {},
   "outputs": [],
   "source": [
    "prepare_paper(width, height, scale=20, min_x=0, min_y=0, max_y=25)"
   ]
  },
  {
   "cell_type": "code",
   "execution_count": 7,
   "id": "13cdfc59-cfd6-4ed7-b703-6a9f074ae917",
   "metadata": {},
   "outputs": [],
   "source": [
    "# Q1\n",
    "quad1 = [(2, 15), (10, 15), (14, 19), (6, 19)]\n",
    "quad2 = [(6, 4), (14, 4), (14, 8), (6, 8)]\n",
    "polygon(quad1, line_width=3, color=\"black\")\n",
    "polygon(quad2, line_width=3, color=\"black\")"
   ]
  },
  {
   "cell_type": "code",
   "execution_count": null,
   "id": "6f733b8b-d9d2-4faa-b961-2baece65772a",
   "metadata": {},
   "outputs": [],
   "source": [
    "# Q2\n",
    "# quad1 is a parallelogram, not a rectangle\n",
    "# quad2 is a parallelogram, and a rectangle as well."
   ]
  },
  {
   "cell_type": "code",
   "execution_count": 8,
   "id": "04346de2-8855-494e-81e6-dcbca899f71d",
   "metadata": {},
   "outputs": [],
   "source": [
    "# Q3\n",
    "# Area for quad1 = 32\n",
    "# Area for quad3 = 32\n",
    "# Their areas are equal to each other."
   ]
  },
  {
   "cell_type": "code",
   "execution_count": 11,
   "id": "6a50b0b3-78bc-4b64-a62d-a59801342cb3",
   "metadata": {},
   "outputs": [],
   "source": [
    "# point(6, 19) and point(6, 15) could be endpoints of the line \n",
    "# which cut the parallelogram and build a rectangle\n",
    "p1, p2 = (6, 19), (6, 15)\n",
    "line(p1, p2, color=\"red\", line_width=2)\n",
    "# Every parallelogram can be transformed to a rectangle (YES)"
   ]
  },
  {
   "cell_type": "markdown",
   "id": "f3e2d041-144b-4161-945c-15bb067ecceb",
   "metadata": {},
   "source": [
    "<img src=\"figures/L023_parallelogram_rectangle.png\" width=\"500\" />"
   ]
  },
  {
   "cell_type": "markdown",
   "id": "cdc7422d-3467-4939-9daf-895c85fc5e50",
   "metadata": {},
   "source": [
    "### Exercise 课堂练习"
   ]
  },
  {
   "cell_type": "markdown",
   "id": "be535c97-17c9-4d05-8776-b0138077752d",
   "metadata": {},
   "source": [
    "Learn the method `get_center`. 体会`get_center`方法的作用"
   ]
  },
  {
   "cell_type": "code",
   "execution_count": 12,
   "id": "2e1fc664-212a-45d1-babf-6edbc68f8d91",
   "metadata": {},
   "outputs": [],
   "source": [
    "def get_center(points):\n",
    "    x, y = 0, 0\n",
    "    for point in points:\n",
    "        x += point[0]\n",
    "        y += point[1]\n",
    "    return x/len(points), y/len(points)\n",
    "\n",
    "def add_v(point1, point2):\n",
    "    return point1[0]+point2[0], point1[1]+point2[1]\n",
    "\n",
    "from random import randint\n",
    "def get_random_point(x_min=0, x_max=35, y_min=0, y_max=25):\n",
    "    return (randint(x_min, x_max), randint(y_min, y_max))"
   ]
  },
  {
   "cell_type": "code",
   "execution_count": 13,
   "id": "b60ec8f4-f82d-463e-8eda-6108f8192a0c",
   "metadata": {
    "tags": []
   },
   "outputs": [
    {
     "name": "stdout",
     "output_type": "stream",
     "text": [
      "(28, 2)\n"
     ]
    }
   ],
   "source": [
    "A = get_random_point()\n",
    "print(A)\n",
    "mark(A, \"A\"+str(A), color=\"red\")"
   ]
  },
  {
   "cell_type": "code",
   "execution_count": 14,
   "id": "aee9024d-afb5-4ad0-a936-b489408f247a",
   "metadata": {
    "tags": []
   },
   "outputs": [
    {
     "name": "stdout",
     "output_type": "stream",
     "text": [
      "(3, 2)\n"
     ]
    }
   ],
   "source": [
    "B = get_random_point()\n",
    "print(B)\n",
    "mark(B, \"B\"+str(B), color=\"red\")"
   ]
  },
  {
   "cell_type": "code",
   "execution_count": 15,
   "id": "99266885-cc72-4dd6-a478-8ae45788fdc6",
   "metadata": {
    "tags": []
   },
   "outputs": [],
   "source": [
    "lineAB = [A, B]\n",
    "C = get_center(lineAB)\n",
    "mark(C, \"C\"+str(C), color=\"blue\")"
   ]
  },
  {
   "cell_type": "code",
   "execution_count": 16,
   "id": "5636fe2a-d4da-45e1-9b5b-e4ae9a86d68f",
   "metadata": {
    "tags": []
   },
   "outputs": [],
   "source": [
    "line(A, B)"
   ]
  },
  {
   "cell_type": "code",
   "execution_count": 17,
   "id": "11551db4-dd8e-4619-8bb7-26b21f70c7d7",
   "metadata": {},
   "outputs": [],
   "source": [
    "triangle1 = []\n",
    "for i in range(3):\n",
    "    triangle1.append(get_random_point())\n",
    "polygon(triangle1)\n",
    "center_triangle1 = get_center(triangle1)\n",
    "mark(center_triangle1, \"Center\")"
   ]
  },
  {
   "cell_type": "code",
   "execution_count": 18,
   "id": "4cfbd13d-2af0-44ae-bd5e-35767e0d4f2d",
   "metadata": {},
   "outputs": [],
   "source": [
    "for i in range(len(triangle1)):\n",
    "    line1 = [triangle1[i], triangle1[(i+1)%len(triangle1)]]\n",
    "    line1_center = get_center(line1)\n",
    "    third_point = triangle1[(i+2)%len(triangle1)]\n",
    "    line(line1_center, third_point)\n",
    "    mark(line1_center)"
   ]
  },
  {
   "cell_type": "code",
   "execution_count": 19,
   "id": "00dcebdd-a200-409d-91d5-f60c6c47c7bd",
   "metadata": {},
   "outputs": [],
   "source": [
    "bye()"
   ]
  },
  {
   "cell_type": "markdown",
   "id": "latest-contamination",
   "metadata": {},
   "source": [
    "### Summary 知识点小结"
   ]
  },
  {
   "cell_type": "markdown",
   "id": "afb3f674",
   "metadata": {},
   "source": [
    "1. 理解get_center方法的作用\n",
    "2. 学习qianglib库的一些方法的更新\n",
    "3. 复习方法的返回值：可以使用tuple类型让一个方法返回多个有意义的变量，这种返回方法也可以理解为方法只返回了一个tuple类型的变量\n"
   ]
  },
  {
   "cell_type": "markdown",
   "id": "bizarre-assurance",
   "metadata": {},
   "source": [
    "### 计算机小知识"
   ]
  },
  {
   "cell_type": "code",
   "execution_count": null,
   "id": "327a455a-291f-47e9-93b7-1cac88a58272",
   "metadata": {},
   "outputs": [],
   "source": []
  },
  {
   "cell_type": "markdown",
   "id": "digital-consensus",
   "metadata": {
    "heading_collapsed": true
   },
   "source": [
    "### Assignments 作业"
   ]
  },
  {
   "cell_type": "markdown",
   "id": "6b9e379a-260b-4f17-9687-9d7e9c663f74",
   "metadata": {},
   "source": [
    "1. According to the definition of parallelogram, declare and implement a method to tell whether a list variable with 4 coordinate valus of points represents a parallelogram? Give the method a name and carefully design its parameters and return values. 根据平行四边形的定义，编写一个方法判断：一个拥有四个点坐标信息元素的列表变量是否代表着一个平行四边形。你可以自己设定方法名，在编写这个方法前认真思考这个方法的参数和返回值如何设计才比较好。    \n",
    "   **Note**: only consider the situation where a parallelogram has two sides parallel to either x or y axis. **备注**:只考虑平行四边形有两条边平行于x或者y轴的情形"
   ]
  },
  {
   "cell_type": "code",
   "execution_count": null,
   "id": "aa6215d9-2069-4c04-9502-f897b3dfda7e",
   "metadata": {},
   "outputs": [],
   "source": []
  },
  {
   "cell_type": "markdown",
   "id": "6dd0114e-5058-4a5b-9a49-73f2446bdb61",
   "metadata": {},
   "source": [
    "2. Below are 6 lists, each contains the coordinates of four points and may represent a parallelogram. For each list: use the `polygon` method provided in `qianglib` to draw it. Then, call the method you implemented in the previous quantion and observe whether your method can correctly determine whether the drawn figure is a parallelogram or not.\n",
    "如下给出了6行由四个点的坐标组成的列表，每一行都有可能代表着一个平行四边形。对于每一行的列表数据：用`qianglib`库里的`polygon`方法绘制出它代表的图形。随后，调用你上一步实现的方法，观察你的方法能否正确判断绘制出的图形是否是一个平行四边形。\n",
    "   - [(5, 9), (10, 9), (13, 14), (8, 14)]\n",
    "   - [(15, 9), (20, 9), (23, 14), (20, 14)]\n",
    "   - [(27, 9), (32, 10), (32, 14), (27, 13)]\n",
    "   - [(5, 1), (10, 2), (10, 7), (5, 5)]\n",
    "   - [(15, 4), (18, 1), (21, 4), (18, 7)]\n",
    "   - [(27, 1), (32, 1), (32, 7), (27, 7)]"
   ]
  },
  {
   "cell_type": "code",
   "execution_count": null,
   "id": "53303e0f-8446-4838-88e6-ce56e690faa2",
   "metadata": {},
   "outputs": [],
   "source": []
  },
  {
   "cell_type": "markdown",
   "id": "0586ce1c-c5f1-498c-9544-b791005f1c8a",
   "metadata": {},
   "source": [
    "3. Assume that a list variable represents a parallelogram (only consider the case where at least one side of the parallelogram is parallel to either x or y axis), Can you figure out how to get the base and height of this parallelogram? Write a method to solve this problem.假设一个列表型变量表示一个平行四边形（仅考虑平行四边形一条边平行于坐标轴的情况），如何根据给定的四个顶点的坐标来得到这个平行四边形的一组底和高的大小？编写一个方法来求解这个问题。"
   ]
  },
  {
   "cell_type": "code",
   "execution_count": null,
   "id": "143311e0-d719-4747-9234-f9fad3c066b3",
   "metadata": {},
   "outputs": [],
   "source": []
  },
  {
   "cell_type": "markdown",
   "id": "afb9199e-586b-4f79-ae20-00523da1b47d",
   "metadata": {},
   "source": [
    "4. Use the method written in the previous question to calculate the base and height of each parallelogram filtered from the question 2; calculate the area of each quadrilateral and compare it with the area obtained by mnually counting introduced in the class. 用上一题编写的方法来计算从第2题中筛选出来的每一个平行四边形的一组底和高，然后计算这个四边形的面积，和用课堂上介绍的数格子的方法得到的结果进行比较。\n",
    "\n",
    "   **Note**: only consider the situation where a parallelogram has two sides parallel to either x or y axis. **备注**:只考虑平行四边形有两条边平行于x或者y轴的情形"
   ]
  },
  {
   "cell_type": "code",
   "execution_count": null,
   "id": "45ff5c94-4aca-444a-9cee-d64801a4abb2",
   "metadata": {},
   "outputs": [],
   "source": []
  }
 ],
 "metadata": {
  "kernelspec": {
   "display_name": "Python 3",
   "language": "python",
   "name": "python3"
  },
  "language_info": {
   "codemirror_mode": {
    "name": "ipython",
    "version": 3
   },
   "file_extension": ".py",
   "mimetype": "text/x-python",
   "name": "python",
   "nbconvert_exporter": "python",
   "pygments_lexer": "ipython3",
   "version": "3.8.10"
  }
 },
 "nbformat": 4,
 "nbformat_minor": 5
}
