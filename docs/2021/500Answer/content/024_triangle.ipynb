{
 "cells": [
  {
   "cell_type": "markdown",
   "id": "relative-location",
   "metadata": {},
   "source": [
    "## 第24讲 三角形和它的面积\n",
    "\n",
    "Lecture 23. Triangle and its area"
   ]
  },
  {
   "cell_type": "markdown",
   "id": "digital-consensus",
   "metadata": {
    "heading_collapsed": true
   },
   "source": [
    "### Assignments 作业"
   ]
  },
  {
   "cell_type": "markdown",
   "id": "8401de62-a04a-4ffb-ba1d-4c01c2903911",
   "metadata": {},
   "source": [
    "1. In this lecture, we learned that two identical triangles can be joined together to form a parallelogram. In fact, by splicing two identical triangles(ex. T1), more than one shape of parallelogram can be formed. Only one of them was introduced in the lecture. In this assignment, please try to draw two other parallelograms that are formed by 2 identical T1. mark them properly (You may make appropriate translations for T1).在本讲课程里，我们学到两个完全一样的三角形可以拼接成一个平行四边形。事实上，拼接两个完全一样的三角形T1可以得到不止一种形状的平行四边形，本讲中得到的只是其中的一个，还可以拼出其它形状的平行四边形。请尝试绘制出另外两个平行四边形，并做好标记（可以对T1作适当的平移）。\n",
    "    "
   ]
  },
  {
   "cell_type": "code",
   "execution_count": 1,
   "id": "0269a0d4-360d-4bb7-8844-ae96cbf9ce14",
   "metadata": {},
   "outputs": [],
   "source": [
    "from turtle import setup, reset, pu, pd, bye, left, right, fd, bk, screensize\n",
    "from turtle import goto, seth, write, ht, st, home, dot, pen, speed\n",
    "from qianglib import prepare_paper, draw_grid, mark, lines, line, polygon, text\n",
    "from qianglib import get_center"
   ]
  },
  {
   "cell_type": "code",
   "execution_count": 41,
   "id": "9fbe799e-f44b-45bc-a533-e420a0317226",
   "metadata": {},
   "outputs": [],
   "source": [
    "width, height = 800, 600\n",
    "setup(width, height, 0, 0)\n",
    "prepare_paper(width, height, scale=20, min_x=0, min_y=0, max_y=25)"
   ]
  },
  {
   "cell_type": "code",
   "execution_count": 3,
   "id": "71dfd8b5-c730-45fa-95dd-a0dc4c75f962",
   "metadata": {},
   "outputs": [],
   "source": [
    "def translate(shape, offset):\n",
    "    '''move a shape certain distance defined by offset\n",
    "    params:\n",
    "        shape: a point, line, or a polygon;\n",
    "               data type: tuple or list of tuple\n",
    "               example: (2, 4), [(1, 2), (3, 5)], [(1, 2), (3, 5), (5, 6)]\n",
    "        offset: distance\n",
    "               data type: tuple (dx, dy)\n",
    "               example: (9, 9)\n",
    "    return a tuple or list of tuple representing a point, or a line, polygon.\n",
    "    '''\n",
    "    new_shape = None\n",
    "    if type(shape) == tuple:  # a point\n",
    "        new_shape = shape[0]+offset[0], shape[1]+offset[1]\n",
    "    elif type(shape) == list: # a line or a polygon\n",
    "        new_shape = []\n",
    "        for point in shape:\n",
    "            new_point = point[0] + offset[0], point[1]+offset[1]\n",
    "            new_shape.append(new_point)\n",
    "    else:\n",
    "        pass\n",
    "    return new_shape   "
   ]
  },
  {
   "cell_type": "code",
   "execution_count": null,
   "id": "80c955bd-8e90-4044-a5e2-819c8dae09db",
   "metadata": {},
   "outputs": [],
   "source": [
    "prepare_paper(width, height, scale=20, min_x=0, min_y=0, max_y=25)"
   ]
  },
  {
   "cell_type": "code",
   "execution_count": null,
   "id": "230eaa5f-8bf3-43a7-9488-2d2bd7b20b9e",
   "metadata": {},
   "outputs": [],
   "source": [
    "A, B, C = (5, 15), (13, 15), (7, 19)\n",
    "triangle1 = translate([A, B, C], (10, -5))\n",
    "\n",
    "polygon(triangle1, color=\"black\", line_width=3,\n",
    "        side_texts=[\"b\"],\n",
    "        marker_texts = list(\"ABC\"),\n",
    "        marker_offsets = [(0, -1), (0, -1), (0, 0)],\n",
    "        center_text = \"T1\",\n",
    "        center_text_offset = (0, -0.5),\n",
    "        center_text_font = (\"Arial\", 10, \"italic\")\n",
    "       )"
   ]
  },
  {
   "cell_type": "code",
   "execution_count": null,
   "id": "9996647f-c3e9-4634-8c56-b83173c68172",
   "metadata": {},
   "outputs": [],
   "source": [
    "# write your code here"
   ]
  },
  {
   "cell_type": "markdown",
   "id": "d35834d4-a713-4a9c-a902-23840a900bd9",
   "metadata": {},
   "source": [
    "2. Follow the steps to draw, and Answer the questions    \n",
    "   按流程编程绘图并回答问题\n",
    "   1. Given two points A(11, 8) and B(25, 8), mark them, connect them to draw a line AB with black color and line width of 3. 给定两个点，分别为A(11, 8), B(25, 8)，标记这两个点，并连接这两点得到线段AB，用黑色，线宽为3绘制线段AB；\n",
    "   2. Draw another line between points O(18, 0) and O'(18,25) with black color and line width of 1; 用黑色，线宽为1连接点O(18, 0), O'(18,25)，形成线段OO'；\n",
    "   3. Randomly generate a point, X(18, 10) for example, on line OO' by calling the method `randint`， draw the line of AX and AB with black color and line width of 1. Estimate the length of AX and BX and the angle AXB with you eyes.调用`randint`方法在线段OO'中随机选定一个点，假定生成的点是(18, 10)，用X标记。用黑色、线宽为1连接AX, BX,得到一个三角形ABX。记录点X的坐标，用肉眼估计线段AX，BX的长度，用肉眼比较角AXB与90度角的大小关系，记在下面的表格里。\n",
    "   4. By far, you should have a figure like the following: 到目前位置，你应该能够绘制得到如下图：\n",
    "   <img src=\"figures/L024_assign2.png\" width=\"500px\" />\n",
    "   5. Repeat the third step(C) 10 times, mark the point randomly generated with the letter: C, D, E, F, G, H, I, J, K, L. Fill the following table.重复10次上一步骤，每次随机生成的点分别标记为：C, D, E, F, G, H, I, J, K, L。并把相关结果填入表格。\n",
    "\n",
    "        | Point X   |  Length AX  | Length BX | is Angle AXB > 90? |\n",
    "        |:---------:|:-----------:|-----------|--------------------|\n",
    "        |X (18, 10) |     8        |    8       |       Yes            |\n",
    "        |C (   ,   ) |             |           |                     |\n",
    "        |D (  ,  ) |             |           |                     |\n",
    "        |E (  ,  ) |             |           |                     |\n",
    "        |F (  ,  ) |             |           |                     |\n",
    "        |G (  ,  ) |             |           |                     |\n",
    "        |H (  ,  ) |             |           |                     |\n",
    "        |I (  ,  ) |             |           |                     |\n",
    "        |J (  ,  ) |             |           |                     |\n",
    "        |K ( ,  ) |             |           |                     |\n",
    "        |L ( ,  ) |             |           |                     |\n",
    "   6. Observe the data in the table, Do you have any findings? Write down you findins here. 观察分析填写好的表格，你能得到一些什么发现？ 用文字写下你的发现。"
   ]
  },
  {
   "cell_type": "code",
   "execution_count": null,
   "id": "f197975b-43f9-4a5c-8375-789a15582d64",
   "metadata": {},
   "outputs": [],
   "source": [
    "prepare_paper(width, height, scale=20, min_x=0, min_y=0, max_y=25)"
   ]
  },
  {
   "cell_type": "code",
   "execution_count": null,
   "id": "10865caf-441d-48d5-ae1f-7c4d0b5a4795",
   "metadata": {},
   "outputs": [],
   "source": [
    "A, B = (11, 8), (25, 8)\n",
    "O, Op = (18, 0), (18, 25)\n",
    "mark(A, \"A \"+str(A))\n",
    "mark(B, \"B \"+str(B))\n",
    "mark(O, \"O \"+str(O))\n",
    "mark(Op, \"O' \"+str(Op))\n",
    "line(A, B, color=\"black\", line_width=3)\n",
    "line(O, Op, color=\"black\", line_width=1)"
   ]
  },
  {
   "cell_type": "code",
   "execution_count": null,
   "id": "756e93f6-a403-46e5-929f-3fe7ddcac8b5",
   "metadata": {},
   "outputs": [],
   "source": [
    "X = (18, 10)\n",
    "mark(X, \"X \"+str(X))\n",
    "line(A, X, color=\"black\", line_width=1)\n",
    "line(B, X, color=\"black\", line_width=1)"
   ]
  },
  {
   "cell_type": "code",
   "execution_count": null,
   "id": "5daf3031-c080-42f8-a046-7686cfd80c7c",
   "metadata": {},
   "outputs": [],
   "source": []
  },
  {
   "cell_type": "markdown",
   "id": "f38cfa79-c99e-4658-8754-ba5a707788cc",
   "metadata": {},
   "source": [
    "3. Follow the steps to draw, and Answer the questions    \n",
    "   按流程编程绘图并回答问题\n",
    "   1. Given two points A(11, 8) and B(25, 8), mark them, connect them to draw a line AB with black color and line width of 3. 给定两个点，分别为A(11, 8), B(25, 8)，标记这两个点，并连接这两点得到线段AB，用黑色，线宽为3绘制线段AB；\n",
    "   2. Draw another line between points O(5, 20) and O'(35, 20) with black color and line width of 1; 用黑色，线宽为1连接点O(18, 0), O'(18,25)，形成线段OO'；\n",
    "   3. Randomly generate a point, X(18, 10) for example, on line OO' by calling the method `randint`， draw the line of AX and AB with black color and line width of 1. Estimate the length of AX and BX and with you eyes. Calculate the area of the triangle AXB. 调用`randint`方法在线段OO'中随机选定一个点，假定生成的点是(18, 10)，用X标记。用黑色、线宽为1连接AX, BX,得到一个三角形ABX。记录点X的坐标，用肉眼估计线段AX，BX的长度，计算三角形AXB的面积，记在下面的表格里（第一行示例）。\n",
    "   4. By far, you should have a figure like the following: 到目前位置，你应该能够绘制得到如下图：\n",
    "   <img src=\"figures/L024_assign3.png\" width=\"500px\" />\n",
    "   5. Repeat the third step(C) 10 times, mark the point randomly generated with the letter: C, D, E, F, G, H, I, J, K, L. Fill the following table.重复10次上一步骤，每次随机生成的点分别标记为：C, D, E, F, G, H, I, J, K, L。并把相关结果填入表格。\n",
    "\n",
    "        | Point X   |  Length AX  | Length BX | Area of AXB  |\n",
    "        |:---------:|:-----------:|-----------|--------------------|\n",
    "        |X (18, 20) |     14      |    14   |       84             |\n",
    "        |C (   ,   ) |            |           |                     |\n",
    "        |D (  ,  ) |             |           |                     |\n",
    "        |E (  ,  ) |             |           |                     |\n",
    "        |F (  ,  ) |             |           |                     |\n",
    "        |G (  ,  ) |             |           |                     |\n",
    "        |H (  ,  ) |             |           |                     |\n",
    "        |I (  ,  ) |             |           |                     |\n",
    "        |J (  ,  ) |             |           |                     |\n",
    "        |K ( ,  ) |             |           |                     |\n",
    "        |L ( ,  ) |             |           |                     |\n",
    "   6. Observe the data in the table, Do you have any findings? Write down you findins here. 观察分析填写好的表格，你能得到一些什么发现？ 用文字写下你的发现。"
   ]
  },
  {
   "cell_type": "code",
   "execution_count": 49,
   "id": "3b0d8862-8ef0-4448-b7b1-af12b9732108",
   "metadata": {},
   "outputs": [],
   "source": [
    "prepare_paper(width, height, scale=20, min_x=0, min_y=0, max_y=25)"
   ]
  },
  {
   "cell_type": "code",
   "execution_count": 50,
   "id": "0c15da18-d642-4d21-8db1-fd0823faebad",
   "metadata": {},
   "outputs": [],
   "source": [
    "A, B = (11, 8), (25, 8)\n",
    "O, Op = (5, 20), (35, 20)\n",
    "mark(A, \"A \"+str(A))\n",
    "mark(B, \"B \"+str(B))\n",
    "mark(O, \"O \"+str(O))\n",
    "mark(Op, \"O' \"+str(Op))\n",
    "line(A, B, color=\"black\", line_width=3)\n",
    "line(O, Op, color=\"black\", line_width=1)"
   ]
  },
  {
   "cell_type": "code",
   "execution_count": 5,
   "id": "332d4e9e-b0e0-47fc-a587-9dab1dd7e5f6",
   "metadata": {},
   "outputs": [],
   "source": [
    "X = (18, 20)\n",
    "mark(X, \"X \"+str(X))\n",
    "line(A, X, color=\"black\", line_width=1)\n",
    "line(B, X, color=\"black\", line_width=1)"
   ]
  },
  {
   "cell_type": "code",
   "execution_count": 8,
   "id": "ab4cb6d6-b101-4c44-9c19-f3bc4cfa08d2",
   "metadata": {},
   "outputs": [],
   "source": [
    "from random import randint"
   ]
  },
  {
   "cell_type": "code",
   "execution_count": 9,
   "id": "d8b06dcd-14ed-4ed8-b873-ea615ba96f16",
   "metadata": {},
   "outputs": [
    {
     "name": "stdout",
     "output_type": "stream",
     "text": [
      "(34, 20)\n"
     ]
    }
   ],
   "source": [
    "X_min, X_max = O[0], Op[0]\n",
    "X = (randint(X_min, X_max+1) ,O[1])\n",
    "print(X)"
   ]
  },
  {
   "cell_type": "code",
   "execution_count": 10,
   "id": "484f59fd-7f6b-4044-99b9-de59138ff722",
   "metadata": {},
   "outputs": [],
   "source": [
    "from random import randint\n",
    "def get_ten_different_integer(minimal, maximal):\n",
    "    result = []\n",
    "    index = 0\n",
    "    while index < 10:\n",
    "        rand_num = randint(minimal, maximal+1)\n",
    "        # check if rand_num exists in result\n",
    "        # if Yes, don't append rand_num again, index doest increase\n",
    "        # if No, append rand_num into result, index += 1\n",
    "    return result"
   ]
  },
  {
   "cell_type": "code",
   "execution_count": 11,
   "id": "0f75aaba-ff9f-443e-a702-749a7bc0b60f",
   "metadata": {},
   "outputs": [],
   "source": [
    "from random import randint\n",
    "def is_passed_test(result, total_num=10):\n",
    "    l = len(result)\n",
    "    if l != total_num:\n",
    "        return False\n",
    "    for i in range(l-1):\n",
    "        for j in range(i+1, l):\n",
    "            if result[i] == result[j]:\n",
    "                print(i, result[i], result)\n",
    "                return False\n",
    "    return True\n",
    "\n",
    "def verify_method_100_times(your_method, minimal, maximal, total_number=10):\n",
    "    failed_times = 0\n",
    "    total_times = 1000\n",
    "    for i in range(total_times):\n",
    "        result = your_method(minimal, maximal, total_number)\n",
    "        if not is_passed_test(result, total_number):\n",
    "            failed_times += 1\n",
    "    \n",
    "    if failed_times != 0:\n",
    "        print(\"you failed pass the test! {}/{} passed\".format(\n",
    "            total_times-failed_times, total_times))\n",
    "    else:\n",
    "        print(\"Congratulations, passed! {}/{} passed\".format(\n",
    "            total_times-failed_times, total_times))\n",
    "        "
   ]
  },
  {
   "cell_type": "code",
   "execution_count": 12,
   "id": "9bdcfa5b-ac9b-406d-b9b4-2a1ccb207ab1",
   "metadata": {},
   "outputs": [
    {
     "data": {
      "text/plain": [
       "True"
      ]
     },
     "execution_count": 12,
     "metadata": {},
     "output_type": "execute_result"
    }
   ],
   "source": [
    "result = [1, 2, 3, 4, 5, 6, 7, 12, 9, 10]\n",
    "is_passed_test(result, len(result))"
   ]
  },
  {
   "cell_type": "code",
   "execution_count": 13,
   "id": "61790cb9-465c-4361-af4c-fc8cca66118f",
   "metadata": {},
   "outputs": [],
   "source": [
    "minimal, maximal = 5, 35"
   ]
  },
  {
   "cell_type": "code",
   "execution_count": 14,
   "id": "ae6d6009-9d84-49c5-a4c8-a972c84f88ef",
   "metadata": {},
   "outputs": [],
   "source": [
    "def jason_method(minimal, maximal, total_num=10): \n",
    "    result = [] \n",
    "    index = 0 \n",
    "    while index < total_num: \n",
    "        ran_num = randint(minimal, maximal+1) \n",
    "        index += 1 \n",
    "        if ran_num in result: \n",
    "            index -= 1 \n",
    "        else: \n",
    "            result.append(ran_num) \n",
    "    return result \n",
    "\n",
    "\n",
    "def sophie_method(minimal, maximal, total_num=10):\n",
    "    result = []\n",
    "    i = 0\n",
    "    while i < total_num:\n",
    "        ran_num = randint(minimal, maximal+1)\n",
    "        if ran_num in result:\n",
    "            pass\n",
    "        else:\n",
    "            result.append(ran_num)\n",
    "            i += 1\n",
    "    return result \n",
    "\n",
    "def yunzi_method(minimal, maximal, total_num=10):\n",
    "    result = []\n",
    "    # TODO: nothing\n",
    "    return result\n",
    "\n",
    "def tony_method(minimal, maximal, total_num=10):\n",
    "    result = [] \n",
    "    i = 0 \n",
    "    ran_num = randint(minimal, maximal)\n",
    "    while i < total_num: \n",
    "        ran_num = randint(minimal, maximal+1) \n",
    "        if ran_num in result: \n",
    "            i += 0 \n",
    "            pass \n",
    "        else: \n",
    "            result.append(ran_num) \n",
    "            i += 1 \n",
    "    return result "
   ]
  },
  {
   "cell_type": "code",
   "execution_count": 15,
   "id": "cba71c85-a0f1-43e8-bb94-f1c15ee5bb37",
   "metadata": {},
   "outputs": [
    {
     "name": "stdout",
     "output_type": "stream",
     "text": [
      "Congratulations, passed! 1000/1000 passed\n"
     ]
    }
   ],
   "source": [
    "verify_method_100_times(jason_method, minimal, maximal)"
   ]
  },
  {
   "cell_type": "code",
   "execution_count": 16,
   "id": "d2f879b4-156c-4bf2-9703-aa3d3abd8ce9",
   "metadata": {},
   "outputs": [
    {
     "name": "stdout",
     "output_type": "stream",
     "text": [
      "Congratulations, passed! 1000/1000 passed\n"
     ]
    }
   ],
   "source": [
    "verify_method_100_times(sophie_method, minimal, maximal)"
   ]
  },
  {
   "cell_type": "code",
   "execution_count": 17,
   "id": "5e910571-8a82-4133-b2bf-e308f7ce8fdb",
   "metadata": {},
   "outputs": [
    {
     "name": "stdout",
     "output_type": "stream",
     "text": [
      "you failed pass the test! 0/1000 passed\n"
     ]
    }
   ],
   "source": [
    "verify_method_100_times(yunzi_method, minimal, maximal)"
   ]
  },
  {
   "cell_type": "code",
   "execution_count": 18,
   "id": "93831a97-f266-4875-be1f-ddda32c7f3e9",
   "metadata": {},
   "outputs": [
    {
     "name": "stdout",
     "output_type": "stream",
     "text": [
      "Congratulations, passed! 1000/1000 passed\n"
     ]
    }
   ],
   "source": [
    "verify_method_100_times(tony_method, minimal, maximal)"
   ]
  },
  {
   "cell_type": "code",
   "execution_count": 51,
   "id": "e6a7796a-5b1a-446e-907e-ca00df7e3650",
   "metadata": {},
   "outputs": [],
   "source": [
    "Xs = tony_method(O[0], Op[0], 2)\n",
    "points = [(12, 20), (28, 20)]\n",
    "colors = ['red', 'blue', 'cyan', 'yellow', 'green', 'orange', 'brown', 'black']\n"
   ]
  },
  {
   "cell_type": "code",
   "execution_count": 52,
   "id": "cba3c5e2-2bb7-41fe-bbe1-53777fd29666",
   "metadata": {},
   "outputs": [],
   "source": [
    "for i in range(2):\n",
    "    #point = (X, O[1])\n",
    "    #color_index = randint(0, 2)\n",
    "    line(A, points[i], line_width=2, color=colors[i])\n",
    "    line(B, points[i], line_width=2, color=colors[i])\n",
    "    #points.append(point)"
   ]
  },
  {
   "cell_type": "code",
   "execution_count": 53,
   "id": "fe5c3e86-3002-430c-b213-0c0f61f8b802",
   "metadata": {},
   "outputs": [
    {
     "name": "stdout",
     "output_type": "stream",
     "text": [
      "2\n"
     ]
    }
   ],
   "source": [
    "print(len(points))\n",
    "markers = [\"C\", \"D\"]\n",
    "i = 0\n",
    "while i < len(points):\n",
    "    mark(points[i], markers[i]+str(points[i]))\n",
    "    i += 1"
   ]
  },
  {
   "cell_type": "code",
   "execution_count": 54,
   "id": "775b234e-75f0-4e4c-8071-cee45d6bfb1a",
   "metadata": {},
   "outputs": [],
   "source": [
    "E = (18.9, 13.7)\n",
    "mark(E, \"E\")"
   ]
  },
  {
   "cell_type": "markdown",
   "id": "5310453c-f2dc-495d-9e78-68b4a22ac19a",
   "metadata": {},
   "source": [
    "4. Follow the steps to draw, and Answer the questions    \n",
    "   按流程编程绘图并回答问题\n",
    "   1. Given two points A(11, 8) and B(25, 8), mark them, connect them to draw a line AB with black color and line width of 3. 给定两个点，分别为A(11, 8), B(25, 8)，标记这两个点，并连接这两点得到线段AB，用黑色，线宽为3绘制线段AB；\n",
    "   2. Give the third point C(18, 15), connect AC and AB form a triangle ABC. It is true that the angle ACB is $90^{\\circ}$. A triangle with one right angle is called a right triangle. If you measure the length of AC and BC, you will find that they are equal. 给定第三个点C(18, 15), 连接AC和AB形成三角形ABC，那么$\\angle$ACB等于$90^{\\circ}$。这样有一个角是直角的三角形称为三角形。如果你测量AC和BC的长度，你会发现他们一样长。\n",
    "   3. By far, you should have a figure like the following: 到目前位置，你应该能够绘制得到如下图：\n",
    "   <img src=\"figures/L024_assign4.png\" width=\"500px\" />\n",
    "   4. In the drawing paper, can you find another point X such that the triangle AXB is a right triangle with angle AXB is $90^{\\circ}$? 在绘图纸上，你能找到另外一个点X，使得三角形AXB是一个直角三角形并且$\\angle$AXB等于$90^{\\circ}$吗？\n",
    "   5. In the drawing paper, can you find other points Y such that the triangle AYB is a right triangle with the angle YAB is $90^{\\circ}$? 在绘图纸上，你能找到其它一些点Y，使得三角形YAB是直角三角形并且$\\angle$YAB等于$90^{\\circ}$吗？\n",
    "   6. In the drawing paper, can you find other points Z such that the triangle AZB is a right triangle with the angle ZBA is $90^{\\circ}$? 在绘图纸上，你能找到其它一些点Z，使得三角形ZBA是直角三角形并且$\\angle$ZBA等于$90^{\\circ}$吗？\n",
    "   7. Observe the triangles you draw, Write down your findings here. 观察你绘制的所有三角形，并在这里写下你的发现。"
   ]
  },
  {
   "cell_type": "code",
   "execution_count": null,
   "id": "4b10ff02-2321-4433-9e82-08f4719e5737",
   "metadata": {},
   "outputs": [],
   "source": [
    "prepare_paper(width, height, scale=20, min_x=0, min_y=0, max_y=25)"
   ]
  },
  {
   "cell_type": "code",
   "execution_count": null,
   "id": "6d5ed5c8-1632-40cd-aad6-60c23788ed32",
   "metadata": {},
   "outputs": [],
   "source": [
    "A, B = (11, 8), (25, 8)\n",
    "mark(A, \"A \"+str(A), offset=(-0.5, -1.5))\n",
    "mark(B, \"B \"+str(B), offset=(-0.5, -1.5))\n",
    "line(A, B, color=\"black\", line_width=3)\n"
   ]
  },
  {
   "cell_type": "code",
   "execution_count": null,
   "id": "495d9d62-0aab-4543-b4ff-474796162fae",
   "metadata": {},
   "outputs": [],
   "source": [
    "X = (18, 15)\n",
    "mark(X, \"X \"+str(X))\n",
    "line(A, X, color=\"black\", line_width=1)\n",
    "line(B, X, color=\"black\", line_width=1)"
   ]
  }
 ],
 "metadata": {
  "kernelspec": {
   "display_name": "Python 3",
   "language": "python",
   "name": "python3"
  },
  "language_info": {
   "codemirror_mode": {
    "name": "ipython",
    "version": 3
   },
   "file_extension": ".py",
   "mimetype": "text/x-python",
   "name": "python",
   "nbconvert_exporter": "python",
   "pygments_lexer": "ipython3",
   "version": "3.8.10"
  }
 },
 "nbformat": 4,
 "nbformat_minor": 5
}
