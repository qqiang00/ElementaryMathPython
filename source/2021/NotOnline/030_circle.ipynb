{
 "cells": [
  {
   "cell_type": "markdown",
   "id": "9147528a-cd1e-409d-8d18-f4cd004b2696",
   "metadata": {},
   "source": [
    "scale: 20 -> 100\n",
    "\n",
    "1. mark: O(2, 2)\n",
    "2. foreach x and y, which 1 <= x <= 5; 1 <= y <= 5; mark P(x, y). x should be decimal .1, \n",
    "   x = 0.0, 0.1, 0.2, ... 3.8, 3.9, 4.0\n",
    "   y = 0.0, 0.1, 0.2, ... 3.8, 3.9, 4.0\n",
    "   P(0.0, 0.0), P(0.0, 0.1), P(4.0, 0.0), P(4.0, 0.1), P(4.0, 4.0), ....\n",
    "   caldulate distance between O(3, 3) and P(x, y)\n",
    "3. if distance(O, P) < 0.99, mark P with red; if distance(O, P) > 1.01 don't mark P \n",
    "   if 0.99 <= distance(O, P) <= 1.01, mark with blue"
   ]
  },
  {
   "cell_type": "code",
   "execution_count": 1,
   "id": "5704d3cf-0f20-4f88-a6fa-8e8f345c2fd6",
   "metadata": {},
   "outputs": [],
   "source": [
    "from turtle import setup, reset, pu, pd, bye, left, right, fd, bk, screensize\n",
    "from turtle import goto, seth, write, ht, st, home, dot, pen, speed, getscreen\n",
    "from qianglib import prepare_paper, draw_grid, mark, lines, line, polygon, text\n",
    "from qianglib import get_center"
   ]
  },
  {
   "cell_type": "code",
   "execution_count": 2,
   "id": "783a1919-42de-44dc-b455-a1d7849f50f7",
   "metadata": {},
   "outputs": [],
   "source": [
    "width, height = 800, 600\n",
    "setup(width, height, 0, 0)"
   ]
  },
  {
   "cell_type": "code",
   "execution_count": 8,
   "id": "3a810a28-5140-484d-b2ef-af34ff46e90e",
   "metadata": {},
   "outputs": [],
   "source": [
    "reset()\n",
    "prepare_paper(width, height, scale=100, min_x=0, min_y=0, max_y=4, max_x=4)"
   ]
  },
  {
   "cell_type": "code",
   "execution_count": 9,
   "id": "2658f88d-b637-4276-b5be-d1e787ba2d4a",
   "metadata": {},
   "outputs": [
    {
     "name": "stdout",
     "output_type": "stream",
     "text": [
      "[0.0, 0.1, 0.2, 0.3, 0.4, 0.5, 0.6, 0.7, 0.8, 0.9, 1.0, 1.1, 1.2, 1.3, 1.4, 1.5, 1.6, 1.7, 1.8, 1.9, 2.0, 2.1, 2.2, 2.3, 2.4, 2.5, 2.6, 2.7, 2.8, 2.9, 3.0, 3.1, 3.2, 3.3, 3.4, 3.5, 3.6, 3.7, 3.8, 3.9, 4.0]\n"
     ]
    }
   ],
   "source": [
    "options = []\n",
    "min_n, max_n = 0, 40\n",
    "i = min_n\n",
    "while i <= max_n:\n",
    "    options.append(i/10)\n",
    "    i += 1\n",
    "print(options)"
   ]
  },
  {
   "cell_type": "code",
   "execution_count": 10,
   "id": "35ed3c4c-0c59-40e6-908e-4ca443647286",
   "metadata": {},
   "outputs": [],
   "source": [
    "from math import sqrt\n",
    "def distance(p0, p1):\n",
    "    return sqrt((p1[1]-p0[1])**2 + (p1[0]-p0[0])**2)"
   ]
  },
  {
   "cell_type": "code",
   "execution_count": 11,
   "id": "4a7acb73-0763-4df0-9f1d-46f0ba75e59d",
   "metadata": {},
   "outputs": [],
   "source": [
    "reset()\n",
    "prepare_paper(width, height, scale=100, min_x=0, min_y=0, max_y=4, max_x=4)"
   ]
  },
  {
   "cell_type": "code",
   "execution_count": 13,
   "id": "4cc7b6d1-750a-4475-b39f-bbe79f760744",
   "metadata": {},
   "outputs": [],
   "source": [
    "O = (2, 2)\n",
    "\n",
    "n_tracer = 10\n",
    "screen = getscreen()\n",
    "n_temp = screen.tracer()\n",
    "screen.tracer(n_tracer)\n",
    "\n",
    "for x in options:\n",
    "    for y in options:\n",
    "        P = (x, y)\n",
    "        dis = distance(O, P)\n",
    "        color = None\n",
    "        if dis < 0.99:\n",
    "            color = \"red\"\n",
    "            mark(P, color=color)\n",
    "        elif dis > 1.01:\n",
    "            pass\n",
    "        else:\n",
    "            color = \"blue\"\n",
    "            mark(P, color=color)\n",
    "        \n",
    "mark(O, color=\"black\")        \n",
    "screen.tracer(n_temp)        "
   ]
  },
  {
   "cell_type": "markdown",
   "id": "e386fe94-1e6c-4fee-97ea-882cc2745eda",
   "metadata": {},
   "source": [
    "1. slect all points marked with blue, put them into a list\n",
    "2. calcualte distance between any two blue points, find the max distane and corresponding two points. print them out. if there are more than one pair of blue points whose distance is maximal. print all them out, name it D;\n",
    "3. line all blue points up in order and make a circle, sum up all the length of the lines made by adjacent blue points. print the sum of the lengths, name it L;\n",
    "4. calculate the fraction: L/D. "
   ]
  }
 ],
 "metadata": {
  "kernelspec": {
   "display_name": "Python 3 (ipykernel)",
   "language": "python",
   "name": "python3"
  },
  "language_info": {
   "codemirror_mode": {
    "name": "ipython",
    "version": 3
   },
   "file_extension": ".py",
   "mimetype": "text/x-python",
   "name": "python",
   "nbconvert_exporter": "python",
   "pygments_lexer": "ipython3",
   "version": "3.9.0"
  }
 },
 "nbformat": 4,
 "nbformat_minor": 5
}
