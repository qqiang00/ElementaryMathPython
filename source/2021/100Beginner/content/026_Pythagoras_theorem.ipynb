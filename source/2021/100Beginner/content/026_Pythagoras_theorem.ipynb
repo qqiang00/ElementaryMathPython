{
 "cells": [
  {
   "cell_type": "markdown",
   "id": "relative-location",
   "metadata": {},
   "source": [
    "## 第26讲 勾股定理-毕达哥拉斯定理\n",
    "Lecture26 Pythagorean theorem"
   ]
  },
  {
   "cell_type": "markdown",
   "id": "d12f05dd",
   "metadata": {},
   "source": [
    "### Problem 问题描述"
   ]
  },
  {
   "cell_type": "markdown",
   "id": "2dc69c35-8349-4c87-b823-72f2bf77c214",
   "metadata": {},
   "source": [
    "**Draw and Answer Questions 绘图并回答问题**\n",
    "\n",
    "Use the methods provided in the library `qianglib`, draw a grid coordinate system where the origin `(0, 0)` is at the bottom left of the coordinate system.    \n",
    "使用`qianglib`库提供的方法，绘制方格坐标纸，其中坐标系的原点`(0,0)`位于绘图区的最左下方，使用的`scale`值为`20`. \n",
    "\n",
    "Follow the steps below，draw a graph slimilar to the picture below.\n",
    "跟随下面的步骤，绘制出类似如下图所示的图形.\n",
    "\n",
    "<img src=\"figures/L025_pythagoras_theorem.png\" width=\"500px\" />\n",
    "\n",
    "1. Mark three points A(10, 9), B(18, 9), C(10, 15), draw triangle BAC with black color; mark it with `Tri0`, mark the vertices, mark the sides with $a$,$b$和$c$ for line AC, AB, and BC, respectively; 标记三个点:A(10, 9), B(18, 9), C(10, 15)，用黑色绘制三角形BAC；标记为`Tri0`; 将这个直角三角形的三条边从短到长分别标记为$a$,$b$和$c$；\n",
    "2. Create a square whose one side is AB below the triangle BAC, name the other tow points of the square D and E such that DE is parallel to AC, D is left to E; name the square as ABED. mark points D and E, Draw this square with green color, mark it as `Sqr1`; 以直角三角形的直角边AB为边长，在三角形ABC的下方建立一个正方形，使得三角形的边AB与绘制的正方形重合；构成这个正方形的另外两个顶点命名为D和E，其中边DE与边AC平行，D位于E的左侧；该正方形则称为ABED。标记点D和E，并用绿色绘制这个正方形的边，标记为`Sqr1`；\n",
    "3. Create a square whose one side is AC left to the triangle BAC, name the other tow points of the square F and G such that GF is parallel to AC, F is above E; name the square as ACFG. mark points D and E, Draw this square with red color, mark it as `Sqr2`; 以直角三角形的直角边AC为边长，在三角形ABC的左侧建立一个正方形，使得三角形的边AC与绘制的正方形重合；构成这个正方形的另外两个顶点命名为F和G，其中边GF与边AC平行，F位于G的上方；正方形则称为ACFG。用红色绘制这个正方形的边；标记为`Sqr2`;\n",
    "4. Mark the points H(24, 17), I(16, 23); polygon BHIC is a larger square, draw it with color cyan and mark it as `Sqr3`; 标记两个点H(24, 17), I(16, 23)，四边形BHIC是一个较大的正方形；用青色(cyan)绘制这个正方形，标记为`Sqr3`;\n",
    "5. Mark the points J(4, 1), K(18, 15); polygon FKEJ is a even larger square; it can be divided into 6 parts: square ACFG, square ABED, triangles BAC, CKG, GJD, GAD. Draw triangles: CKG, GJD, and GAD with color red for shortest side, cyan for longest one and green for the rest one. Mark the triangles as `Tri1`, `Tri2`, and `Tri3`, respectively; 标记两个点J(4, 1), K(18, 15)，四边形FKEJ是一个更大的正方形；正方形FKEJ由6部分组成，分别是正方形ACFG，正方形ABED，三角形BAC, CKG, GJD, GAD, 。绘制三角形CKB, GJD和GAD，颜色依据三角形的边长从短到长分别用红色、绿色、和青色绘制，三角形依次标记为Tri1, Tri2和Tri3；\n",
    "6. Translate triangle BAC with offset (18, -8), name the new triangle as Tri0'. Draw it with the same colors as Tri0, mark the triangle as `Tri0'`. name the corresponding vertices as B', A', and C'. Mark the sides with $a$,$b$和$c$ for line A'C', A'B', and B'C', respectively; 将三角形BAC做幅度为(18, -8)的平移，将得到的新三角形标记为Tri0'，绘制并标记这个三角形，颜色与之前的三角形各边颜色保持相同；将这个直角三角形的三条边从短到长分别标记为$a$,$b$和$c$；\n",
    "7. Translate triangle CKB with offset (24, 0), name the new triangle as Tri1'. Draw it with the same colors as Tri1， mark the triangle as `Tri1'`; 将三角形CKB做幅度为(24, 0)的平移，将得到的新三角形标记为Tri1'，绘制并标记这个三角形，颜色与之前的三角形各边颜色保持相同；\n",
    "8. Mirror triangle GJD with the mirror GJ then translate the mirrored triangle with offset (38, 0). name the new triangle as `Tri2'`. Draw this new triangle with same colors as Tri2, name vertex with right angle as `J'`,  将线段GJ作为一个镜子，对三角形GJD做水平镜像，再把这个水平镜像做幅度为(38, 0)的平移操作，将得到的新三角形记为Tri2'，绘制并标记这个三角形，颜色与之前的三角形各边颜色保持相同；新三角形的直角顶点标记为`J'`;\n",
    "9. Mirror triangle GAD with the mirror AD then translate the mirrored triangle with offset (18, 6). name the new triangle as `Tri3'`. Draw this new triangle with same colors as Tri3, name vertex with right angle as `A''`; 将线段AD作为一个镜子，对三角形GAD做水平镜像，再把这个水平镜像做幅度为(18, 6)的平移操作，将得到的新三角形记为Tri3'，绘制并标记这个三角形，颜色与之前的三角形各边颜色保持相同；新三角形的直角顶点标记为`A''`;\n",
    "10. Draw a text `Sqr3'` at the center of the polygon `B‘B’‘C’‘C’`； 在四边形`B‘B’‘C’‘C’`中心标记文字`Sqr3'`；\n",
    "11. Find some spaces in the draw area, draw the following text:`a∙a + b∙b = c∙c`; 在绘图区空白处，绘制文字`a∙a + b∙b = c∙c`。\n",
    "\n",
    "\n"
   ]
  },
  {
   "cell_type": "markdown",
   "id": "c0d6d710-aeec-4149-a245-139b41b99e90",
   "metadata": {},
   "source": [
    "**Questions**\n",
    "\n",
    "1. Justify that triangle BACis a right triangle; 证明三角形BAC是一个直角三角形；\n",
    "2. Show that the areas of the four triangles(`Tri0`, `Tri1`, `Tri2`, and `Tri3`) do not change during translation and mirror operations; 展示四个三角形(`Tri0`, `Tri1`, `Tri2`, 和 `Tri3`)在平移和镜像转换时它们的面积不变化；\n",
    "3. Justify that the Polygon `A''K'J'A'` is a Square, let's call it `Sqr4`; 证明多边形`A''K'J'A'` 是一个正方形。为下文方便，给它命名为：`Sqr4`；\n",
    "4. Justify that the the area of `Sqr4` is the same as the area of Square `KFJE`； 证明两个正方形`Sqr4`和`KFJE`面积相等；\n",
    "5. Justify that the polygon `C''B''B'C'` is a square(named `Sqr3'`) that can be considered the translation of square `IHBC`(`Sqr3`), which means their areas are equal. Tell the offset of the tranlsation; 证明多边形`C''B''B'C'` 是一个正方形（命名为`Sqr3'`),它可以通过平移正方形`IHBC`(`Sqr3`)得到。说出平移的幅度。\n",
    "6. Justify that the area of square `C''B''B'C'`(`Sqr3'`) is the sum of area of the square `ABED`(`Sqr1`) and the area of square `ACFG`(`Sqr2`); 证明正方形`C''B''B'C'`(`Sqr3'`)的面积是正方形`ABED`(`Sqr1`) 和正方形`ACFG`(`Sqr2`)的面积值和；\n",
    "\n",
    "If you successfully proved the above, you proved that for **any right triangle**, the area of the square whose side is the hypotenuse (the side opposite the right angle) is equal to the sum of the areas of the squares on the other two sides: 如果你成功证明的上述所有命题，那么你就证明了对于任意一个**直角三角形**，以两条较短的直角边为边长的正方形面积之和等于以直角顶点对应的斜边为边长的正方形的面积：\n",
    "$$ a^2 + b^2 = c^2$$"
   ]
  },
  {
   "cell_type": "markdown",
   "id": "6f041a5f-71c1-477c-95be-7e3361e55a3c",
   "metadata": {},
   "source": [
    "**Answer Area**"
   ]
  },
  {
   "cell_type": "code",
   "execution_count": null,
   "id": "f98826bb-85f0-431c-b110-c72f99caf65a",
   "metadata": {},
   "outputs": [],
   "source": []
  },
  {
   "cell_type": "markdown",
   "id": "1270f26d-e2ca-45e0-a679-ec82361795da",
   "metadata": {},
   "source": [
    "### Math Background 数学背景\n",
    "\n",
    "1. 直角三角形三边长满足勾股定理\n",
    "2. 勾股定理的证明"
   ]
  },
  {
   "cell_type": "markdown",
   "id": "sorted-furniture",
   "metadata": {
    "heading_collapsed": true
   },
   "source": [
    "### Prerequisites 预备知识\n",
    "\n",
    "#### 1. `enumerate`方法介绍和应用"
   ]
  },
  {
   "cell_type": "code",
   "execution_count": 17,
   "id": "f88bd678-4afe-4a7e-843a-be26f59f2667",
   "metadata": {},
   "outputs": [],
   "source": [
    "students = [\"Jason\", \"Sophie\", \"Tony\"]"
   ]
  },
  {
   "cell_type": "code",
   "execution_count": 18,
   "id": "6e2f2181-086f-4bd4-9c03-bf6be527ed54",
   "metadata": {},
   "outputs": [
    {
     "name": "stdout",
     "output_type": "stream",
     "text": [
      "Jason\n",
      "Sophie\n",
      "Tony\n"
     ]
    }
   ],
   "source": [
    "# iterate each student\n",
    "for student in students:\n",
    "    print(student)"
   ]
  },
  {
   "cell_type": "code",
   "execution_count": 19,
   "id": "ddefe67f-9db1-4113-93d1-a3a078ebf6cd",
   "metadata": {},
   "outputs": [
    {
     "name": "stdout",
     "output_type": "stream",
     "text": [
      "0 Jason\n",
      "1 Sophie\n",
      "2 Tony\n"
     ]
    }
   ],
   "source": [
    "# iterate each student with index\n",
    "i = 0\n",
    "while i < len(students):\n",
    "    print(i, students[i])\n",
    "    i += 1"
   ]
  },
  {
   "cell_type": "code",
   "execution_count": 20,
   "id": "ba3aff5c-73d1-4af1-8c47-a83d82467431",
   "metadata": {},
   "outputs": [
    {
     "name": "stdout",
     "output_type": "stream",
     "text": [
      "0 Jason\n",
      "1 Sophie\n",
      "2 Tony\n"
     ]
    }
   ],
   "source": [
    "# iterate each student with enumerate\n",
    "for i, student in enumerate(students):\n",
    "    print(i, student)"
   ]
  },
  {
   "cell_type": "markdown",
   "id": "8b477a44-b7c6-45bc-9415-201999369c71",
   "metadata": {},
   "source": [
    "#### 2. extract list variable and assign part of the elements to variables"
   ]
  },
  {
   "cell_type": "code",
   "execution_count": 21,
   "id": "6bc20ba9-d36f-4bed-b22c-02c6e4b2da44",
   "metadata": {},
   "outputs": [],
   "source": [
    "students = [\"Jason\", \"Sophie\", \"Tony\"]"
   ]
  },
  {
   "cell_type": "code",
   "execution_count": 23,
   "id": "e15d5ad2-a311-4450-b358-23cf7d54479c",
   "metadata": {},
   "outputs": [
    {
     "name": "stdout",
     "output_type": "stream",
     "text": [
      "Jason\n",
      "Sophie\n",
      "Tony\n"
     ]
    }
   ],
   "source": [
    "first_student, second_student, third_student = students\n",
    "print(first_student)\n",
    "print(second_student)\n",
    "print(third_student)"
   ]
  },
  {
   "cell_type": "code",
   "execution_count": 25,
   "id": "666a2cb2-4400-4251-a4dd-0bb2ec659685",
   "metadata": {},
   "outputs": [
    {
     "name": "stdout",
     "output_type": "stream",
     "text": [
      "Sophie\n"
     ]
    }
   ],
   "source": [
    "# what if I only need the name of second student?\n",
    "# use `_` as a place holder\n",
    "_, second_stu, _ = students\n",
    "print(second_stu)"
   ]
  },
  {
   "cell_type": "code",
   "execution_count": 26,
   "id": "2daa4f09-8077-4600-b23f-6d5b9c493d48",
   "metadata": {},
   "outputs": [
    {
     "ename": "ValueError",
     "evalue": "too many values to unpack (expected 2)",
     "output_type": "error",
     "traceback": [
      "\u001b[0;31m---------------------------------------------------------------------------\u001b[0m",
      "\u001b[0;31mValueError\u001b[0m                                Traceback (most recent call last)",
      "\u001b[0;32m<ipython-input-26-548cc5a17ba4>\u001b[0m in \u001b[0;36m<module>\u001b[0;34m\u001b[0m\n\u001b[1;32m      1\u001b[0m \u001b[0;31m# by using `_`, should mark all elements who you dont want to extract\u001b[0m\u001b[0;34m\u001b[0m\u001b[0;34m\u001b[0m\u001b[0;34m\u001b[0m\u001b[0m\n\u001b[1;32m      2\u001b[0m \u001b[0;31m# the follwoing will raise an error\u001b[0m\u001b[0;34m\u001b[0m\u001b[0;34m\u001b[0m\u001b[0;34m\u001b[0m\u001b[0m\n\u001b[0;32m----> 3\u001b[0;31m \u001b[0m_\u001b[0m\u001b[0;34m,\u001b[0m \u001b[0msecond_stu2\u001b[0m \u001b[0;34m=\u001b[0m \u001b[0mstudents\u001b[0m\u001b[0;34m\u001b[0m\u001b[0;34m\u001b[0m\u001b[0m\n\u001b[0m",
      "\u001b[0;31mValueError\u001b[0m: too many values to unpack (expected 2)"
     ]
    }
   ],
   "source": [
    "# by using `_`, should mark all elements who you dont want to extract\n",
    "# the follwoing will raise an error\n",
    "_, second_stu2 = students"
   ]
  },
  {
   "cell_type": "markdown",
   "id": "d55f37d9",
   "metadata": {},
   "source": [
    "### Solution 编程求解"
   ]
  },
  {
   "cell_type": "code",
   "execution_count": 1,
   "id": "b1ae7be3-fdde-46b5-820e-c35a55d2fbe0",
   "metadata": {},
   "outputs": [],
   "source": [
    "from turtle import setup, reset, pu, pd, bye, left, right, fd, bk, screensize\n",
    "from turtle import goto, seth, write, ht, st, home, dot, pen, speed\n",
    "from qianglib import prepare_paper, draw_grid, mark, lines, line, polygon, text\n",
    "from qianglib import mirror, translate, get_center, add_v"
   ]
  },
  {
   "cell_type": "code",
   "execution_count": 2,
   "id": "bed66e63-7d02-4c22-bf10-8863883aab94",
   "metadata": {},
   "outputs": [],
   "source": [
    "width, height = 1000, 600\n",
    "setup(width, height, 0, 0)"
   ]
  },
  {
   "cell_type": "code",
   "execution_count": 3,
   "id": "88876840-dedf-4f9f-84b9-9ff8f1460360",
   "metadata": {},
   "outputs": [],
   "source": [
    "prepare_paper(width, height, scale=20, min_x=0, min_y=0, max_y=25)"
   ]
  },
  {
   "cell_type": "code",
   "execution_count": 4,
   "id": "2d801f5e-9cf8-4673-aabe-feaf4a089fc4",
   "metadata": {},
   "outputs": [],
   "source": [
    "#1. 标记三个点:A(10, 9), B(18, 9), C(10, 15)，三角形ABC是一个直角三角形，\n",
    "#   用黑色绘制这个三角形；标记为Tri0; \n",
    "#   将这个直角三角形的三条边从短到长分别标记为 𝑎 , 𝑏 和 𝑐 ;\n",
    "    \n",
    "a, b = 6, 8      # two side lengths of the right triangle ABC\n",
    "\n",
    "A = (10, 9)              # Start Point, vertex of triangle ABC with right angle\n",
    "B = (A[0] + b, A[1])\n",
    "C = (A[0], A[1] + a)\n",
    "Tri0 = [B, A, C]\n",
    "polygon(Tri0, color=\"black\", center_text=\"Tri0\",\n",
    "        side_texts=\"bac\", \n",
    "        side_text_font = (\"Arial\", 16, \"italic\"),\n",
    "        side_text_offsets=[(-0.5, -1.5), (-0.5, -0.5), (0.5, 0)],\n",
    "        side_text_color=\"red\",\n",
    "        marker_texts = [\"B\"+str(B), \"A\"+str(A), \"C\"+str(C)])"
   ]
  },
  {
   "cell_type": "code",
   "execution_count": 5,
   "id": "6d3f7a79-8ac6-4a73-82f4-5a19e0974a86",
   "metadata": {},
   "outputs": [],
   "source": [
    "# 2. 以直角三角形的直角边AB为边长，在三角形ABC的下方建立一个正方形，使得三角形的边AB与绘制的\n",
    "#    正方形重合；构成这个正方形的另外两个顶点命名为D和E，其中边DE与边AC平行，D位于E的左侧；\n",
    "#    该正方形则称为ABED。标记点D和E，并用红色绘制这个正方形的边，标记为Sqr1；\n",
    "D = (A[0], A[1] - b)\n",
    "E = (B[0], B[1] - b)\n",
    "Sqr1 = [A, B, E, D]\n",
    "polygon(Sqr1, color=\"green\", center_text=\"Sqr1\")\n",
    "mark(D, \"D\"+str(D))\n",
    "mark(E, \"E\"+str(E))"
   ]
  },
  {
   "cell_type": "code",
   "execution_count": 6,
   "id": "e3cb7b4c-c938-4daf-b1d2-eb4d9367dcb6",
   "metadata": {},
   "outputs": [],
   "source": [
    "# 3. 以直角三角形的直角边AC为边长，在三角形ABC的左侧建立一个正方形，使得三角形的边AC与绘制的\n",
    "#    正方形重合；构成这个正方形的另外两个顶点命名为F和G，其中边GF与边AC平行，F位于G的上方；\n",
    "#    正方形则称为ACFG。用红色绘制这个正方形的边；标记为Sqr2\n",
    "F = (C[0]-a, C[1])\n",
    "G = (A[0]-a, A[1])\n",
    "Sqr2 = [A, C, F, G]\n",
    "polygon(Sqr2, color=\"red\", center_text=\"Sqr2\")\n",
    "mark(F, \"F\"+str(F))\n",
    "mark(G, \"G\"+str(G))"
   ]
  },
  {
   "cell_type": "code",
   "execution_count": 7,
   "id": "856b64b5-5608-436c-8357-9c136c8110d7",
   "metadata": {},
   "outputs": [],
   "source": [
    "#  4. 标记两个点H(24, 17), I(16, 23)，四边形BHIC是一个较大的正方形；\n",
    "#     用青色绘制这个正方形，标记为Sqr3\n",
    "H = (24, 17)                        # (B[0] + 10*3/5, B[1] + 10*4/5)\n",
    "I = (16, 23)                        # (C[0] + 10*3/5, C[1] + 10*4/5)\n",
    "Sqr3 = [B, H, I, C]\n",
    "polygon(Sqr3, color=\"cyan\", center_text=\"Sqr3\")\n",
    "mark(H, \"H\"+str(H))\n",
    "mark(I, \"I\"+str(I))"
   ]
  },
  {
   "cell_type": "code",
   "execution_count": 8,
   "id": "8d747e42-caaa-4a1b-8dd0-c0a6cb7c2f6e",
   "metadata": {},
   "outputs": [],
   "source": [
    "# re-mark all the points\n",
    "# points = [A, B, C, D, E, F, G, H, I]\n",
    "# point_names = \"ABCDEFGHI\"\n",
    "# for i, point in enumerate(points):\n",
    "#     mark(point, point_names[i]+str(point))"
   ]
  },
  {
   "cell_type": "code",
   "execution_count": 9,
   "id": "9f3decf4-80d2-4b5d-a86e-63a674d40d56",
   "metadata": {},
   "outputs": [],
   "source": [
    "# 5. 标记两个点J(4, 1), K(18, 15)，四边形FKEJ是一个更大的正方形；正方形FKEJ由6部分组成，\n",
    "#    分别是正方形ACFG，正方形ABED，三角形BAC, CKG, GJD, GAD, 。绘制三角形CKB, GJD和GAD，\n",
    "#    颜色依据三角形的边长从短到长分别用红色、绿色、和青色绘制，三角形依次标记为Tri1, Tri2和Tri3；\n",
    "J = (4, 1)              # (A[0]-6, A[1]-8)\n",
    "K = (18, 15)            # (A[0]+8, A[1]+6)\n",
    "mark(J, \"J\"+str(J))\n",
    "mark(K, \"K\"+str(K))\n",
    "\n",
    "colors = [\"cyan\", \"green\", \"red\"]  # colors for different sides of triangles\n",
    "Tri0 = [B, A, C]       # the order matters the color of sides.\n",
    "Tri1 = [C, K, B]\n",
    "Tri2 = [G, J, D]       \n",
    "Tri3 = [D, A, G]\n",
    "triangles = [Tri0, Tri1, Tri2, Tri3]\n",
    "for i, triangle in enumerate(triangles):\n",
    "    polygon(triangle, line_width=3, colors=colors, \n",
    "            center_text=\"Tri{}\".format(i))"
   ]
  },
  {
   "cell_type": "code",
   "execution_count": 10,
   "id": "ab81bbef-3542-4b39-9bdd-defb1657a534",
   "metadata": {},
   "outputs": [],
   "source": [
    "# 6. 将三角形BAC(Tri0)做幅度为(18, -8)的平移，将得到的新三角形标记为Tri0'，\n",
    "#    绘制并标记这个三角形，颜色与之前的三角形各边颜色保持相同；\n",
    "#   将这个直角三角形的三条边从短到长分别标记为 𝑎 , 𝑏 和 𝑐 ;\n",
    "Tri0p = translate(Tri0, (18, -8))\n",
    "Bp, Ap, Cp = Tri0p\n",
    "polygon(Tri0p, colors=colors, center_text=\"Tri0'\",\n",
    "              side_texts=\"bac\", \n",
    "              side_text_font = (\"Arial\", 16, \"italic\"),\n",
    "              side_text_offsets=[(-0.5, -1.5), (-0.5, -0.5), (0.5, 0)],\n",
    "              side_text_color=\"red\",\n",
    "              marker_texts = [\"B'\"+str(Bp), \"A'\"+str(Ap), \"C'\"+str(Cp)])"
   ]
  },
  {
   "cell_type": "code",
   "execution_count": 11,
   "id": "ae1e86bd-315a-4260-a79c-9b453d403bb7",
   "metadata": {},
   "outputs": [],
   "source": [
    "# 7. 将三角形CKB做幅度为(24, 0)的平移，将得到的新三角形标记为Tri1'，绘制并标记这个三角形，\n",
    "#    颜色与之前的三角形各边颜色保持相同；\n",
    "Tri1p = translate(Tri1, (24, 0))\n",
    "polygon(Tri1p, line_width=3, colors=colors, center_text=\"Tri1'\")\n",
    "Cpp, Kp, Bpp = Tri1p\n",
    "mark(Kp, \"K'\"+str(Kp))\n",
    "mark(Bpp, \"B''\"+str(Bpp))\n",
    "mark(Cpp, \"C''\"+str(Cpp))"
   ]
  },
  {
   "cell_type": "code",
   "execution_count": 12,
   "id": "7d00a68f-677a-4740-9aad-f5d9b1b4c72a",
   "metadata": {},
   "outputs": [],
   "source": [
    "# 8. 将线段GJ作为一个镜子，对三角形GJD(Tri2)做水平镜像，再把这个水平镜像做幅度为(38, 0)的平移操作，\n",
    "#    将得到的新三角形记为Tri2'，绘制并标记这个三角形，颜色与之前的三角形各边颜色保持相同；\n",
    "#    标记直角顶点为J'\n",
    "Tri2_temp = mirror(Tri2, [G, J])\n",
    "Tri2p = translate(Tri2_temp, (38, 0))\n",
    "polygon(Tri2p, line_width=3, colors=colors, center_text=\"Tri2'\")\n",
    "\n",
    "_, Jp, _ = Tri2p\n",
    "mark(Jp, \"J'\"+str(Jp))"
   ]
  },
  {
   "cell_type": "code",
   "execution_count": 13,
   "id": "f0f26f60-f77a-4a44-ac38-f6665e721489",
   "metadata": {},
   "outputs": [],
   "source": [
    "# 9. 将线段AD作为一个镜子，对三角形GAD(Tri3)做水平镜像，再把这个水平镜像做幅度为(18, 6)的平移操作，\n",
    "#    将得到的新三角形记为Tri3'，绘制并标记这个三角形，颜色与之前的三角形各边颜色保持相同；\n",
    "Tri3_temp = mirror(Tri3, [A, D])\n",
    "Tri3p = translate(Tri3_temp, (18, 6))\n",
    "polygon(Tri3p, line_width=3, colors=colors, center_text=\"Tri3'\")\n",
    "\n",
    "_, App, _ = Tri3p\n",
    "mark(App, \"A''\"+str(App))"
   ]
  },
  {
   "cell_type": "code",
   "execution_count": 14,
   "id": "1629a79f-375c-44f7-8bd8-c97c1f53ac02",
   "metadata": {},
   "outputs": [],
   "source": [
    "# 10. Draw a text `Sqr3'` at the center of the polygon `B‘B’‘C’‘C’`； \n",
    "#     在四边形`B‘B’‘C’‘C’`中心标记文字`Sqr3'`；\n",
    "text((35, 7), \"Sqr3'\", font=(\"Arial\", 16, \"italic\"), color=\"black\")"
   ]
  },
  {
   "cell_type": "code",
   "execution_count": 15,
   "id": "46654e2f-fd60-40d2-b929-a4acc948bb9b",
   "metadata": {
    "tags": []
   },
   "outputs": [],
   "source": [
    "# 11. 在绘图区空白处，绘制文字 a∙a + b∙b = c∙c\n",
    "text((35, 20), 'a∙a + b∙b = c∙c', font=(\"Arial\", 16, \"italic\"), color=\"red\")"
   ]
  },
  {
   "cell_type": "markdown",
   "id": "latest-contamination",
   "metadata": {},
   "source": [
    "### Summary 知识点小结"
   ]
  },
  {
   "cell_type": "markdown",
   "id": "afb3f674",
   "metadata": {},
   "source": [
    "1. `enumerate`方法的使用\n",
    "2. `_` 作为占位符使用\n"
   ]
  },
  {
   "cell_type": "markdown",
   "id": "bizarre-assurance",
   "metadata": {},
   "source": [
    "### 计算机小知识"
   ]
  },
  {
   "cell_type": "markdown",
   "id": "92100f08",
   "metadata": {},
   "source": [
    "暂缺"
   ]
  },
  {
   "cell_type": "markdown",
   "id": "digital-consensus",
   "metadata": {
    "heading_collapsed": true
   },
   "source": [
    "### Assignments 作业"
   ]
  },
  {
   "cell_type": "markdown",
   "id": "0eb1e932-f60a-4e12-8aa3-2193a4a8dae2",
   "metadata": {},
   "source": [
    "1. The three side lengths of a right triangle satisfies the Pythagorean theorem mentioned in this lecture; its inverse proposition is also true; that is, when the three numbers $a$, $b$, and $c$ satisfy $a^2+b^2=c^2$, then the triangle formed by these three lengths **must** be a **right triangle**, and the angle to the longest side is a right angle. Please write a method to find all three integers within 1-100 that satisfy the above equation and print them out. The name of the method, the parameters it accepts, the parameter types, and part of the code for the method are given.     \n",
    "   直角三角形的三边长度满足本讲提到的勾股定理；它的逆命题也成立，即当三个数字$a$,$b$,$c$满足$a^2+b^2=c^2$时，以这三个长度构成的三角形**一定**是一个**直角三角形**，且最长的边对应的三角形的角是直角。请编写一个方法找出在1-100以内所有的符合上述公式关系的三个整数，并打印出来。方法的名称，接受的参数、参数类型以及方法的部分代码已经给出。"
   ]
  },
  {
   "cell_type": "code",
   "execution_count": 1,
   "id": "ea244464-3677-4247-b7e3-4ee8fdb7f4bf",
   "metadata": {},
   "outputs": [],
   "source": [
    "def find_all_right_triangles(min_length, max_length):\n",
    "    \"\"\"find all triangles whose sides are integers while satisfying the \n",
    "    Pythagorean theorem\n",
    "    Params\n",
    "        min_length: the minimal possible side length\n",
    "        max_length: the maximal possible side length\n",
    "    Return\n",
    "        results: list of a tuple with (a, b, c) where a*a+b*b=c*c, a<=b<c,\n",
    "    and a,b,c are integers\n",
    "    \"\"\"\n",
    "    a, b, c = None, None, None,\n",
    "    results = []\n",
    "    \n",
    "    #TODO: Add your own codes here\n",
    "    \n",
    "    return results"
   ]
  },
  {
   "cell_type": "code",
   "execution_count": 3,
   "id": "9a7afd91-85a1-46b7-871f-f721e95dd18d",
   "metadata": {},
   "outputs": [],
   "source": [
    "def verify_find_all_right_triangles(min_length, max_length, results):\n",
    "    \"\"\"this method can not tell whether possible combinations are all found, it\n",
    "    only verify existing possibilities.\n",
    "    \"\"\"\n",
    "    if len(results) == 0:\n",
    "        print(\"Empty Results\")\n",
    "        return\n",
    "    \n",
    "    def get_code(a, b, c):\n",
    "        return str(int(a))+str(int(b))+str(int(c))\n",
    "    \n",
    "    is_valid = True\n",
    "    n_passed = 0\n",
    "    hash_results = set()\n",
    "    for result in results:\n",
    "        a, b, c = result\n",
    "        if (a < min_length or a > max_length) or \\\n",
    "           (b < min_length or b > max_length) or \\\n",
    "           (c < min_length or c > max_length):\n",
    "            print(\"one of a({}),b({}),c({}) is out of range {}-{}\".format(\n",
    "                a, b, c, min_length, max_length))\n",
    "            is_valid = False\n",
    "        elif c <= a or c <= b:\n",
    "            print(\"c({}) is not greater than a({}) or b({})\".format(c, a, b))\n",
    "            is_valid = False\n",
    "        elif a > b:\n",
    "            print(\"a({}) is greater than b({}), wrong!\".format(a, b))\n",
    "            is_valid = False\n",
    "        elif a**2+b**2 != c**2:\n",
    "            print(\"{}^2+{}^2 != {}^2\".format(a, b, c))\n",
    "            is_valid = False\n",
    "        else:\n",
    "            code = get_code(a, b, c)\n",
    "            if code in hash_results:\n",
    "                print(\"duplicated result for {},{},{}\".format(a, b, c))\n",
    "                is_valid = False\n",
    "            else:\n",
    "                n_passed += 1\n",
    "                hash_results.add(str(int(a))+str(int(b))+str(int(c)))\n",
    "    if is_valid:\n",
    "        print(\"Success:\", end=\"\")\n",
    "    else:\n",
    "        print(\"Failed:\", end=\"\")\n",
    "    print(\"{}/{} passed\".format(n_passed, len(results)))"
   ]
  },
  {
   "cell_type": "code",
   "execution_count": 4,
   "id": "e44ccfe3-a60b-46fa-9c89-154a0ac907b9",
   "metadata": {},
   "outputs": [
    {
     "name": "stdout",
     "output_type": "stream",
     "text": [
      "(3, 4, 5)\n",
      "(4, 5, 7)\n",
      "(6, 8, 10)\n",
      "(5, 12, 13)\n",
      "(-1, 1, 100)\n",
      "(3, 4, 5)\n",
      "4^2+5^2 != 7^2\n",
      "one of a(-1),b(1),c(100) is out of range 1-100\n",
      "duplicated result for 3,4,5\n",
      "Failed:3/6 passed\n"
     ]
    }
   ],
   "source": [
    "min_value, max_value = 1, 100\n",
    "results = [(3,4,5), (4,5,7), (6,8,10), (5, 12, 13), (-1, 1, 100), (3,4, 5)]\n",
    "#results = find_all_right_triangles(min_value, max_value)\n",
    "for result in results:\n",
    "    print(result)\n",
    "verify_find_all_right_triangles(min_value, max_value, results)"
   ]
  },
  {
   "cell_type": "markdown",
   "id": "66569bbb-68e9-4bd1-9626-ee590f56640c",
   "metadata": {},
   "source": [
    "2. Suppose you have successfully found all combinations of the three sides of the triangle that satisfy the Pythagorean theorem within 1-100, you will find that (3, 4, 5), (5, 12, 13), (6, 8, 10), (10, 24, 26) are withen the results. Actually, (3, 4, 5) and (6, 8, 10) can be classified into the same category, because multiplying each number (3, 4, 5) by 2 producess (6, 8, 10). Similarly, (5, 12, 13) and (10, 24, 26) belong to the same category as well. (3, 4, 5) and (5, 12, 13) are the smallest combination in that category. Please write a program to answer, out of all the combinations you found in the previous question, how many different categories are there. For each category, print the combination with the smallest number.    \n",
    "\n",
    "   假设你已经成功找出1-100以内所有满足毕达哥拉斯定理的三角形三边长组合，你会发现这里面有(3, 4, 5),(5, 12, 13), (6, 8, 10), (10, 24, 26)等等组合。这其中(3，4，5)和(6，8，10)可以归为同一类别，因为把(3，4，5)每一个数都乘以2就能得到(6, 8, 10)。类似的，(5，12，13)和(10，24，26)是属于同一类组合。(3，4，5)和(5，12，13)组合分别是所在类别中最小的一组。请编写程序回答，在你上一题中找到的所有组合中，一共有多少个不同的组合类别。对于每一个类别的组合，请打印出数字最小的那一组。\n",
    "\n",
    "   **Note** you may assume that the combinations you acquired by previous question is ordered by the first number(a) of each element with an ascending order.\n",
    "   \n",
    "   **注意** 可以假定在上一题中得到的结果列表中是根据每一个组合中的第一个元素a从小到大排列的。"
   ]
  },
  {
   "cell_type": "code",
   "execution_count": 5,
   "id": "8d181768-72e1-40f7-b14a-dc6b82d435f8",
   "metadata": {},
   "outputs": [],
   "source": [
    "def find_smallest_categories(combinations):\n",
    "    smallest_categories = []\n",
    "    #TODO: add your own codes here\n",
    "    \n",
    "                \n",
    "    return smallest_categories"
   ]
  },
  {
   "cell_type": "code",
   "execution_count": 6,
   "id": "66ccd29f-0d92-4dd4-a24a-983b4c1f4b13",
   "metadata": {},
   "outputs": [],
   "source": [
    "smallests = find_smallest_categories(results)\n",
    "for smallest in smallests:\n",
    "    print(smallest)"
   ]
  },
  {
   "cell_type": "markdown",
   "id": "23f97dbc-f149-4e20-8a44-0e5098405dd6",
   "metadata": {},
   "source": [
    "3. Here are the coordiantes for some points: (0, 0), (6, 12), (10, 24), (24, 18), (16, 16), (25, 25). 这里给出了一些点的坐标，请编写程序/方法来完成下面的任务 Write program and/or methods to do the following tasks:\n",
    "   - 1). Mark all the points in a draw paper; 在绘图纸上标记上述所有的点；\n",
    "   - 2). For each point except O(0, 0), calculate the exact area of a square whose side length is the distance between O(0, 0) to that point. you don't need to draw the square; 对于除了O(0,0)以外的其它所有点，准确计算由这个点到圆点O(0, 0)的距离为边长的正方形的面积。你不需要绘制这个正方形；\n",
    "   - 3). For each point except O(0, 0), estimate the distance between O(0, 0) to the point; 对于除了O(0,0)以外的其它所有点，近似计算由这个点到圆点O(0, 0)的距离；\n",
    "   - 4). Draw the line AB, AC, AD, AE, BC, BD, BE, CD, CE, and DE. approximately calculate the length of these lines. the result should be precised to 0.1; 绘制下列线段AB, AC, AD, AE, BC, BD, BE, CD, CE, and DE，并且近似计算这些线段的长度，结果精确到0.1"
   ]
  },
  {
   "cell_type": "code",
   "execution_count": 7,
   "id": "60e9827c-2a15-4662-a230-afdfea28ec24",
   "metadata": {},
   "outputs": [],
   "source": [
    "from turtle import setup, reset, pu, pd, bye, left, right, fd, bk, screensize\n",
    "from turtle import goto, seth, write, ht, st, home, dot, pen, speed\n",
    "from qianglib import prepare_paper, draw_grid, mark, lines, line, polygon, text\n",
    "from qianglib import mirror, translate, get_center, add_v"
   ]
  },
  {
   "cell_type": "code",
   "execution_count": 8,
   "id": "9073b3ae-fd15-4dc1-bcc9-39ee2829f776",
   "metadata": {},
   "outputs": [],
   "source": [
    "width, height = 1000, 600\n",
    "setup(width, height, 0, 0)"
   ]
  },
  {
   "cell_type": "code",
   "execution_count": 9,
   "id": "b57014aa-9304-4b75-b675-e1a855c94c92",
   "metadata": {},
   "outputs": [],
   "source": [
    "prepare_paper(width, height, scale=20, min_x=0, min_y=0, max_y=25)"
   ]
  },
  {
   "cell_type": "code",
   "execution_count": 10,
   "id": "74dd94e7-3980-4442-8a78-5786d1124592",
   "metadata": {},
   "outputs": [],
   "source": [
    "O, A, B, C, D, E = (0, 0), (6, 12), (10, 24), (24, 18), (16, 16), (25, 25)\n",
    "points = [O, A, B, C, D, E]\n",
    "point_names = \"OABCDE\""
   ]
  },
  {
   "cell_type": "code",
   "execution_count": 16,
   "id": "b38c0baf-941b-407c-85a8-764e807f826e",
   "metadata": {},
   "outputs": [],
   "source": [
    "# mark all points use enumerate method\n",
    "# "
   ]
  },
  {
   "cell_type": "code",
   "execution_count": 17,
   "id": "7ecbae59-f7bd-4d93-a4b3-1747fad1b182",
   "metadata": {},
   "outputs": [],
   "source": [
    "# 2) write method to get area and side length\n",
    "def area_square(point):\n",
    "    area = None\n",
    "    # TODO: add your own codes here\n",
    "    return area\n",
    "    return point[0]**2 + point[1]**2\n",
    "\n",
    "def get_side_by_area(area, epsilon = 0.01):\n",
    "    side = 0\n",
    "    # TODO: ad your own codes here\n",
    "    return side\n",
    "    "
   ]
  },
  {
   "cell_type": "code",
   "execution_count": 18,
   "id": "29c3362f-e150-4dda-886e-bc8a7277f631",
   "metadata": {},
   "outputs": [
    {
     "name": "stdout",
     "output_type": "stream",
     "text": [
      "area of square build by OA, (6, 12) is: None. side is 0.00\n",
      "area of square build by OB, (10, 24) is: None. side is 0.00\n",
      "area of square build by OC, (24, 18) is: None. side is 0.00\n",
      "area of square build by OD, (16, 16) is: None. side is 0.00\n",
      "area of square build by OE, (25, 25) is: None. side is 0.00\n"
     ]
    }
   ],
   "source": [
    "for i, point in enumerate(points):\n",
    "    if i == 0:\n",
    "        continue\n",
    "    area = area_square(point)\n",
    "    side = get_side_by_area(area)\n",
    "    line(start = O, end = points[i])\n",
    "    print(\"area of square build by O{}, {} is: {}. side is {:.2f}\".format(\n",
    "        point_names[i], points[i], area, side))"
   ]
  },
  {
   "cell_type": "code",
   "execution_count": 24,
   "id": "32180986-26ca-4a11-9fc0-20b82f3ce15d",
   "metadata": {},
   "outputs": [
    {
     "name": "stdout",
     "output_type": "stream",
     "text": [
      "from A((6, 12)) to B((10, 24)), length is about: 0.00, area is: None\n",
      "from A((6, 12)) to C((24, 18)), length is about: 0.00, area is: None\n",
      "from A((6, 12)) to D((16, 16)), length is about: 0.00, area is: None\n",
      "from A((6, 12)) to E((25, 25)), length is about: 0.00, area is: None\n",
      "from B((10, 24)) to C((24, 18)), length is about: 0.00, area is: None\n",
      "from B((10, 24)) to D((16, 16)), length is about: 0.00, area is: None\n",
      "from B((10, 24)) to E((25, 25)), length is about: 0.00, area is: None\n",
      "from C((24, 18)) to D((16, 16)), length is about: 0.00, area is: None\n",
      "from C((24, 18)) to E((25, 25)), length is about: 0.00, area is: None\n",
      "from D((16, 16)) to E((25, 25)), length is about: 0.00, area is: None\n"
     ]
    }
   ],
   "source": [
    "for i, point_start in enumerate(points):\n",
    "    if i == 0:\n",
    "         continue\n",
    "    for j in range(i+1, len(points)):\n",
    "        point_end = points[j]\n",
    "        line(point_start, point_end)\n",
    "        line_v = None\n",
    "        # TODO: assign proper value to live_v variable\n",
    "        area = area_square(line_v)\n",
    "        side = get_side_by_area(area)\n",
    "        print(\"from {}({}) to {}({}), length is about: {:.2f}, area is: {}\"\\\n",
    "            .format(point_names[i], point_start, \n",
    "                    point_names[j], point_end, \n",
    "                    side, area))"
   ]
  },
  {
   "cell_type": "code",
   "execution_count": null,
   "id": "a9bca6b4-600f-4fca-b3ba-e308d63ab740",
   "metadata": {},
   "outputs": [],
   "source": []
  }
 ],
 "metadata": {
  "kernelspec": {
   "display_name": "Python 3",
   "language": "python",
   "name": "python3"
  },
  "language_info": {
   "codemirror_mode": {
    "name": "ipython",
    "version": 3
   },
   "file_extension": ".py",
   "mimetype": "text/x-python",
   "name": "python",
   "nbconvert_exporter": "python",
   "pygments_lexer": "ipython3",
   "version": "3.8.10"
  }
 },
 "nbformat": 4,
 "nbformat_minor": 5
}
