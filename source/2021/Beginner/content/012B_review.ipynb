{
 "cells": [
  {
   "cell_type": "markdown",
   "id": "relative-location",
   "metadata": {},
   "source": [
    "## Review 复习"
   ]
  },
  {
   "cell_type": "markdown",
   "id": "latest-contamination",
   "metadata": {},
   "source": [
    "### Summary 知识点小结"
   ]
  },
  {
   "cell_type": "markdown",
   "id": "afb3f674",
   "metadata": {},
   "source": [
    "#### Week 1\n",
    "1. print()\n",
    "2. Python as a calculator"
   ]
  },
  {
   "cell_type": "code",
   "execution_count": null,
   "id": "809b6462-df4e-4147-a077-5d0054529410",
   "metadata": {},
   "outputs": [],
   "source": [
    "print(\"We will have an quiz next week.\")\n",
    "print(\"下周我们会有一次测验。\")"
   ]
  },
  {
   "cell_type": "code",
   "execution_count": null,
   "id": "4e0c3628-2d48-41be-96d5-b49d8788e53c",
   "metadata": {},
   "outputs": [],
   "source": [
    "1 + 2 + (3 * (4 + 5))/(5 + 6 - 7)"
   ]
  },
  {
   "cell_type": "markdown",
   "id": "fa70f0b2-7eb0-4a86-b3ae-728f1de1b6e8",
   "metadata": {},
   "source": [
    "#### Week 2\n",
    "1. Variable\n",
    "2. Case sensitive\n",
    "3. Meaning of `=`\n",
    "4. Assign multiple variables in one line"
   ]
  },
  {
   "cell_type": "code",
   "execution_count": null,
   "id": "rural-branch",
   "metadata": {
    "hidden": true
   },
   "outputs": [],
   "source": [
    "Today = \"Saturday\"\n",
    "today = \"saturday\"\n",
    "print(Today, today)\n",
    "today, tomorrow, after_tomorrow = \"Saturday\", \"Sunday\", \"Monday\"\n",
    "print(today, tomorrow)"
   ]
  },
  {
   "cell_type": "markdown",
   "id": "087bdfd1-0c14-452d-89bc-b7bc04daac5c",
   "metadata": {
    "hidden": true
   },
   "source": [
    "#### Week 3\n",
    "1. string & int\n",
    "2. input\n",
    "3. int() convert a value to integer type\n",
    "3. if elif else\n",
    "4. Meaning of `==`"
   ]
  },
  {
   "cell_type": "code",
   "execution_count": null,
   "id": "b8b1a302-3974-44db-a876-c54d89e405fb",
   "metadata": {},
   "outputs": [],
   "source": [
    "age_sophie = input(\"please input a number:\")\n",
    "age_sophie_int = int(age_sophie)\n",
    "print(type(age_sophie), type(age_sophie_int))\n",
    "\n",
    "if age_sophie_int < 10:\n",
    "    print(\"Sophie's age is smaller than 10\")\n",
    "elif age_sophie_int == 10:\n",
    "    print(\"Sophie's age is exactly 10\")\n",
    "else:\n",
    "    print(\"Sophie's age is greater than 10\")"
   ]
  },
  {
   "cell_type": "markdown",
   "id": "455d798a-2a46-4c10-bc8a-43593b3851c8",
   "metadata": {},
   "source": [
    "#### Week 4\n",
    "1. Library: from random import randint, random"
   ]
  },
  {
   "cell_type": "code",
   "execution_count": null,
   "id": "620949d6-a60b-4446-8898-a31648e3731e",
   "metadata": {},
   "outputs": [],
   "source": [
    "from random import randint, random\n",
    "num1 = randint(1, 10)\n",
    "print(num1)\n",
    "\n",
    "num2 = random()\n",
    "print(num2)"
   ]
  },
  {
   "cell_type": "markdown",
   "id": "1c006b0e-f57c-46c8-8737-1cea1eb48329",
   "metadata": {},
   "source": [
    "#### Week 5\n",
    "1. Turtle Liabrary and methods：\n",
    "```python\n",
    "from turtle import setup, reset, bye, pu, pd, bk, fd, left, right, st, ht\n",
    "```"
   ]
  },
  {
   "cell_type": "code",
   "execution_count": null,
   "id": "c71a8a82-ceb4-4d46-8029-15220cda4d83",
   "metadata": {},
   "outputs": [],
   "source": [
    "from turtle import setup, reset, bye, pu, pd, bk, fd, left, right\n",
    "from turtle import st, ht, seth, goto\n",
    "setup(800, 800, 0, 0)"
   ]
  },
  {
   "cell_type": "code",
   "execution_count": null,
   "id": "da6ffee9-fed7-4bc8-8c48-c4a50e0b4521",
   "metadata": {},
   "outputs": [],
   "source": [
    "reset()"
   ]
  },
  {
   "cell_type": "code",
   "execution_count": null,
   "id": "115fa750-0606-4953-98e7-333f286b0581",
   "metadata": {},
   "outputs": [],
   "source": [
    "ht()"
   ]
  },
  {
   "cell_type": "code",
   "execution_count": null,
   "id": "368f3bc9-ecf2-471a-b6d1-625f5186123f",
   "metadata": {},
   "outputs": [],
   "source": [
    "st()"
   ]
  },
  {
   "cell_type": "markdown",
   "id": "69f20391-6800-46d7-ab17-4225018eb242",
   "metadata": {},
   "source": [
    "#### Week 6\n",
    "1. `while`\n",
    "2. Sum of external angles of a convex polygon is always 360°."
   ]
  },
  {
   "cell_type": "code",
   "execution_count": null,
   "id": "a171932e-2a2a-494e-a7db-1cb0c43d10a4",
   "metadata": {},
   "outputs": [],
   "source": [
    "n_edge, len_edge = 30, 50\n",
    "step_degree = 360/n_edge\n",
    "edge_drawn = 0\n",
    "reset()\n",
    "pu()\n",
    "goto(0, -200)\n",
    "pd()"
   ]
  },
  {
   "cell_type": "code",
   "execution_count": null,
   "id": "55003998-76d8-4e38-9af8-6dd5846fd9d9",
   "metadata": {},
   "outputs": [],
   "source": [
    "from time import sleep"
   ]
  },
  {
   "cell_type": "code",
   "execution_count": null,
   "id": "8fdd47c7-e9dc-4a46-b458-ce1745c0c780",
   "metadata": {},
   "outputs": [],
   "source": [
    "while edge_drawn < n_edge:\n",
    "    fd(len_edge)\n",
    "    left(step_degree)\n",
    "    edge_drawn += 1\n",
    "    sleep(1)"
   ]
  },
  {
   "cell_type": "code",
   "execution_count": null,
   "id": "4c3076bf-c761-492e-b111-91aba5da1e90",
   "metadata": {},
   "outputs": [],
   "source": [
    "bye()"
   ]
  },
  {
   "cell_type": "markdown",
   "id": "10e6342e-2dbe-44ac-ad68-6282f45a439b",
   "metadata": {},
   "source": [
    "#### Week 7\n",
    "1. 使用`>=`,`<=`进行“不少于”、“不多于”等比较\n",
    "2. 理解掌握变量自增、自减代码的完整和简便写法（例如：`a = a + 1` 和 `a += 1`)\n",
    "3. 字符串中`\\n`,`\\t`,`\\r`的意义"
   ]
  },
  {
   "cell_type": "code",
   "execution_count": null,
   "id": "dc6545d8-083a-4dd9-9071-e759b1139671",
   "metadata": {},
   "outputs": [],
   "source": [
    "num_min, num_max = 1, 100\n",
    "cur_num, total = num_min, 0\n",
    "while cur_num <= num_max:\n",
    "    total += cur_num\n",
    "    cur_num += 1\n",
    "    \n",
    "print(\"1+2+3+...+97+98+99+100={}\".format(total))\n",
    "if total == 5050:\n",
    "    print(\"your code produces correct answer\")\n",
    "else:\n",
    "    print(\"your codes have bugs.\")"
   ]
  },
  {
   "cell_type": "markdown",
   "id": "f9dac356-81c2-4892-a6da-0ee0c102c910",
   "metadata": {},
   "source": [
    "#### Week 8\n",
    "1. while within if, if within while, while within while, if within if\n",
    "2. `print(*args, end=\"\")`"
   ]
  },
  {
   "cell_type": "code",
   "execution_count": null,
   "id": "0479397d-dc03-4cfe-9b5b-bd6126896ad8",
   "metadata": {},
   "outputs": [],
   "source": [
    "print(\"Sophie\", end=\" \")\n",
    "print(\"and\", end=\" \")\n",
    "print(\"Yunzi\", end=\" \")\n",
    "print(\"are sister and brother.\")"
   ]
  },
  {
   "cell_type": "markdown",
   "id": "0459fb33-f278-4178-87af-34da590f5bf5",
   "metadata": {},
   "source": [
    "#### Week 9\n",
    "1. True and False\n",
    "2. `and`\n",
    "3. `string.format()`"
   ]
  },
  {
   "cell_type": "code",
   "execution_count": null,
   "id": "27a49dc5-0cc0-4d4b-a05b-d168bc6d4fbf",
   "metadata": {},
   "outputs": [],
   "source": [
    "from random import randint\n",
    "num = randint(1, 100)\n",
    "if num > 25 and num <= 75:\n",
    "    print(\"{} is between 25 and 75\".format(num))\n",
    "elif num <= 25:\n",
    "    print(\"{} is smaller than or equal to 25\"\\\n",
    "          .format(num))\n",
    "else: # >75\n",
    "    print(\"{} is lager than 75\".format(num))\n",
    "  "
   ]
  },
  {
   "cell_type": "code",
   "execution_count": null,
   "id": "0c09ae59-6c49-4f63-93b6-e78bc66c5777",
   "metadata": {},
   "outputs": [],
   "source": [
    "from math import pi\n",
    "print(pi)\n",
    "\n",
    "if num <= 25 and num > 75:\n",
    "    print(\"{} is smaller than 25 and greater than 75\"\\\n",
    "         .format(num))\n",
    "else:\n",
    "    print(\"a number can't be both smaller than 25 and\"\\\n",
    "          \"greater than 75.\")"
   ]
  },
  {
   "cell_type": "markdown",
   "id": "9d1bbd90-9a99-45ba-afb5-305349a0ac0e",
   "metadata": {},
   "source": [
    "#### Week 10\n",
    "1. `//` and `%`\n",
    "2. `list`"
   ]
  },
  {
   "cell_type": "code",
   "execution_count": null,
   "id": "ddbd961d-8221-4d73-91e3-7dd8d6ef87a8",
   "metadata": {},
   "outputs": [],
   "source": [
    "Tony = [\"Tony\", \"Male\", 10]\n",
    "#print(Tony)\n",
    "Tony = [\"T\", \"o\", \"n\", \"y\"]\n",
    "#print(Tony)\n",
    "print(\"\".join(Tony))"
   ]
  },
  {
   "cell_type": "markdown",
   "id": "30662652-0dc6-4627-a733-8a6728f4f06c",
   "metadata": {},
   "source": [
    "#### Week 11\n",
    "1. `len()` of a `list`\n",
    "2. index of a `list`"
   ]
  },
  {
   "cell_type": "code",
   "execution_count": null,
   "id": "a661468c-3329-4484-bc5a-7300721cff82",
   "metadata": {},
   "outputs": [],
   "source": []
  },
  {
   "cell_type": "code",
   "execution_count": null,
   "id": "81664168-d572-4f23-8824-4c23c97a6d57",
   "metadata": {},
   "outputs": [],
   "source": [
    "len(Tony)\n",
    "print(Tony)"
   ]
  },
  {
   "cell_type": "code",
   "execution_count": null,
   "id": "9c77b466-7b57-4ce8-a814-d9d80ee3c01c",
   "metadata": {},
   "outputs": [],
   "source": [
    "Tony[2]"
   ]
  },
  {
   "cell_type": "code",
   "execution_count": null,
   "id": "c2bbf2fe-7563-4354-aa33-e7bea11ceff1",
   "metadata": {},
   "outputs": [],
   "source": [
    "Tony[-4]"
   ]
  },
  {
   "cell_type": "code",
   "execution_count": 13,
   "id": "863a72bb-cdcb-46ac-aa4e-57728c96cc87",
   "metadata": {},
   "outputs": [
    {
     "name": "stdout",
     "output_type": "stream",
     "text": [
      "['Monday']\n"
     ]
    }
   ],
   "source": [
    "days = [] #\n",
    "days.append(\"Monday\")\n",
    "print(days)#[\"Monday\", \"Tudesday\", \"Wednesday\"]"
   ]
  },
  {
   "cell_type": "code",
   "execution_count": 15,
   "id": "fecb2f98-867b-4bf3-a539-0b9d78576daf",
   "metadata": {},
   "outputs": [
    {
     "name": "stdout",
     "output_type": "stream",
     "text": [
      "[]\n",
      "['Monday']\n"
     ]
    }
   ],
   "source": [
    "days = list()\n",
    "print(days)\n",
    "days.append(\"Monday\")\n",
    "print(days)"
   ]
  },
  {
   "cell_type": "code",
   "execution_count": 21,
   "id": "e6e16db4-7341-4bb5-99af-ab2582fa03f7",
   "metadata": {},
   "outputs": [
    {
     "name": "stdout",
     "output_type": "stream",
     "text": [
      "<built-in function all>\n"
     ]
    },
    {
     "data": {
      "text/plain": [
       "True"
      ]
     },
     "execution_count": 21,
     "metadata": {},
     "output_type": "execute_result"
    }
   ],
   "source": [
    "print(all)\n",
    "all([1, 3, 2, 4, 2.5])"
   ]
  },
  {
   "cell_type": "markdown",
   "id": "c371f4da-8abb-4ecc-810f-0d8b8d9227e0",
   "metadata": {},
   "source": [
    "#### Week 12\n",
    "1. `list.append()`, `list.remove()`\n",
    "2. element of a list could be a `string`, `integer`, or other types.\n",
    "3. element `in` a list\n",
    "4. `break` to terminate a `while` loop"
   ]
  },
  {
   "cell_type": "code",
   "execution_count": null,
   "id": "5a24a219-f61f-4193-80ab-4c08a48aaf97",
   "metadata": {},
   "outputs": [],
   "source": [
    "num_min, num_max = 1, 100\n",
    "primes = []\n",
    "composites = []\n",
    "cur_num = num_min\n",
    "while cur_num <= num_max:\n",
    "    factors = []\n",
    "    i = 1\n",
    "    while i <= cur_num:\n",
    "        if cur_num % i == 0:\n",
    "            factors.append(i)\n",
    "        i += 1\n",
    "        \n",
    "    if len(factors) == 2: #[1, cur_num]\n",
    "        primes.append(cur_num)\n",
    "    elif len(factors) > 2:#[1, cur_num, ?, ?]\n",
    "        composites.append(cur_num)\n",
    "    else: # <2: 1, 0\n",
    "        print(\"{} is neither prime nor composite.\"\\\n",
    "             .format(cur_num))\n",
    "    cur_num += 1\n",
    "    \n",
    "print(\"{} primes: {}\".format(len(primes), primes))\n",
    "print(\"{} composites: {}\".format(len(composites), composites))"
   ]
  },
  {
   "cell_type": "code",
   "execution_count": null,
   "id": "758f143c-4257-4443-8144-75f0ce5c1675",
   "metadata": {},
   "outputs": [],
   "source": [
    "targets = [0, 1, 2, 12, 17, 97, 99, 100, 102, 103]\n",
    "i = 0\n",
    "while i < len(targets):\n",
    "    num = targets[i]\n",
    "    if num < 1 or num > 100:\n",
    "        print(\"{} is out of range.\".format(num))\n",
    "    else:\n",
    "        if num in primes:\n",
    "            print(\"{} is in primes.\".format(num))\n",
    "        elif num in composites:\n",
    "            print(\"{} is in composites.\".format(num))\n",
    "        else:\n",
    "            print(\"{} is not in primes list, nor in composites\"\\\n",
    "                  .format(num))\n",
    "    \n",
    "    i += 1"
   ]
  },
  {
   "cell_type": "markdown",
   "id": "4d8852de-d81f-4a5f-b779-eed8c7ce42c6",
   "metadata": {},
   "source": [
    "0 is out of range.\n",
    "1 is not in primes list, nor in composites\n",
    "2 is in primes.\n",
    "12 is in composites.\n",
    "17 is in primes.\n",
    "97 is in primes.\n",
    "99 is in composites.\n",
    "100 is in composites.\n",
    "102 is out of range.\n",
    "103 is out of range.\n"
   ]
  },
  {
   "cell_type": "code",
   "execution_count": null,
   "id": "0e8dd520-b5dd-4ae5-934d-76f4b8088202",
   "metadata": {},
   "outputs": [],
   "source": [
    "zero = 0\n",
    "num_min, num_max = 1, 10\n",
    "cur_num = num_min\n",
    "while cur_num <= num_max:\n",
    "    if zero % cur_num == 0:\n",
    "        print(\"{} is a factor of zero(0)\".format(cur_num))\n",
    "        \n",
    "    cur_num += 1"
   ]
  },
  {
   "cell_type": "markdown",
   "id": "304fbe14-fc85-49d1-997c-2bd6c38d48ad",
   "metadata": {},
   "source": [
    "#### Turtle Drawing - Fractals"
   ]
  },
  {
   "cell_type": "code",
   "execution_count": 1,
   "id": "85756a10-9f2c-4aad-801a-5eeaf186e553",
   "metadata": {},
   "outputs": [],
   "source": [
    "from turtle import setup, reset, bye, pu, pd, bk, fd, left, right\n",
    "from turtle import st, ht, seth, goto, speed"
   ]
  },
  {
   "cell_type": "code",
   "execution_count": 2,
   "id": "f1d85bed-1fd6-4197-b20f-992e83cb7792",
   "metadata": {},
   "outputs": [],
   "source": [
    "setup(800, 800, 0, 0)"
   ]
  },
  {
   "cell_type": "code",
   "execution_count": 3,
   "id": "3bcf8a73-bcc8-46a8-8203-1e43d106f3e0",
   "metadata": {},
   "outputs": [],
   "source": [
    "from math import sqrt, pow, acos, asin, cos, sin, pi\n",
    "\n",
    "def distance(p, q):\n",
    "    \"\"\"distance between p and q\"\"\"\n",
    "    return sqrt(pow(p[0]-q[0], 2) + pow(p[1]-q[1], 2))\n",
    "\n",
    "def vector(p, q):\n",
    "    \"\"\"a vector from q to q\"\"\"\n",
    "    return (q[0]-p[0], q[1]-p[1])\n",
    "\n",
    "def add(p, q):\n",
    "    \"\"\"a vector of p + q\"\"\"\n",
    "    return (q[0]+p[0], q[1]+p[1])\n",
    "\n",
    "def one_third(p, q):\n",
    "    r0 = p[0] + (q[0]-p[0])/3.0\n",
    "    r1 = p[1] + (q[1]-p[1])/3.0\n",
    "    return (r0, r1)\n",
    "    \n",
    "def two_thirds(p, q):\n",
    "    t0 = p[0] + (q[0]-p[0])*2.0/3.0\n",
    "    t1 = p[1] + (q[1]-p[1])*2.0/3.0\n",
    "    return (t0, t1)\n",
    "\n",
    "def middle(p, q):\n",
    "    r0 = p[0] + (q[0]-p[0])/2.0\n",
    "    r1 = p[1] + (q[1]-p[1])/2.0\n",
    "    return (r0, r1)\n",
    "    \n",
    "def radian(p):\n",
    "    \"\"\"compute radian of a vector p\"\"\"\n",
    "    r = distance(p, (0, 0))\n",
    "    x, y = p[0], p[1]\n",
    "    if y >= 0:\n",
    "        return acos(x/r)\n",
    "    else:\n",
    "        if x >= 0:\n",
    "            return asin(y/r)\n",
    "        else:\n",
    "            return pi + asin(-1*y/r)\n",
    "    \n",
    "def rotate(p, degree=60):\n",
    "    \"\"\"rotate a vector some degree, return the new vector\"\"\"\n",
    "    r = distance(p, (0, 0))\n",
    "    theta = radian(p)\n",
    "    theta += degree*pi/180.0\n",
    "    return r * cos(theta), r * sin(theta)\n",
    "    \n",
    "def line(p, q):\n",
    "    \"\"\"draw a line from p to q\"\"\"\n",
    "    pu()\n",
    "    goto(p)\n",
    "    pd()\n",
    "    goto(q)\n",
    "    \n",
    "def fractal_triangle(p, q, tol=20):\n",
    "    \"\"\"draw a triangle fractal\"\"\"\n",
    "    if distance(p, q) < tol:\n",
    "        line(p, q)\n",
    "    else:\n",
    "        r = one_third(p, q)\n",
    "        t = two_thirds(p, q)        \n",
    "        s = add(r, rotate(vector(r, t), degree=60))\n",
    "        fractal_triangle(p, r, tol)\n",
    "        fractal_triangle(r, s, tol)\n",
    "        fractal_triangle(s, t, tol)\n",
    "        fractal_triangle(t, q, tol)      \n",
    "\n",
    "        \n",
    "def fractal_square(p, q, tol=20):\n",
    "    if distance(p, q) < tol:\n",
    "        line(p, q)\n",
    "    else:\n",
    "        r = one_third(p, q)\n",
    "        t = two_thirds(p, q)\n",
    "        s1 = add(r, rotate(vector(r, t), degree=90))\n",
    "        s2 = add(t, rotate(vector(t, q), degree=90))\n",
    "        fractal_square(p, r, tol)\n",
    "        fractal_square(r, s1, tol)\n",
    "        fractal_square(s1, s2, tol)\n",
    "        fractal_square(s2, t, tol)\n",
    "        fractal_square(t, q, tol)\n",
    "    \n",
    "def fractal_triangle2(p, q, r, tol=20):\n",
    "    if distance(p, q) < tol:\n",
    "        return\n",
    "    else:\n",
    "        pq = middle(p, q)\n",
    "        qr = middle(q, r)\n",
    "        rp = middle(r, p)\n",
    "        line(pq, qr)\n",
    "        line(qr, rp)\n",
    "        line(rp, pq)\n",
    "        fractal_triangle2(p, pq, rp, tol)\n",
    "        fractal_triangle2(pq, q, qr, tol)\n",
    "        fractal_triangle2(rp, qr, r, tol)\n",
    "        "
   ]
  },
  {
   "cell_type": "markdown",
   "id": "6b55d079-9471-47e2-9ea2-0a4287a59b59",
   "metadata": {},
   "source": [
    "   <img src = \"figures/L013_snow_fractal.png\" width = 300>"
   ]
  },
  {
   "cell_type": "code",
   "execution_count": 10,
   "id": "f51a52de-c032-429a-b558-d91334829891",
   "metadata": {},
   "outputs": [],
   "source": [
    "reset()\n",
    "speed(10)\n",
    "A, C = (-200, -100), (200, -100)\n",
    "B = add(A, rotate(vector(A, C), degree=60))\n",
    "tol = 10\n",
    "fractal_triangle(A, B, tol=tol)\n",
    "fractal_triangle(B, C, tol=tol)\n",
    "fractal_triangle(C, A, tol=tol)\n",
    "ht()"
   ]
  },
  {
   "cell_type": "markdown",
   "id": "03c45ae7-3a2b-478f-92d5-2d4be3b1f2f8",
   "metadata": {},
   "source": [
    "<img src = \"figures/L013_square_fractal.png\" width = 300>"
   ]
  },
  {
   "cell_type": "code",
   "execution_count": 7,
   "id": "8234ef6e-4bca-4e06-bb66-16dd7019f62e",
   "metadata": {},
   "outputs": [],
   "source": [
    "reset()\n",
    "speed(10)\n",
    "A, B = (-200, 200), (200, 200)\n",
    "C, D = (200, -200), (-200, -200)\n",
    "tol = 10\n",
    "fractal_square(A, B, tol=tol)\n",
    "fractal_square(B, C, tol=tol)\n",
    "fractal_square(C, D, tol=tol)\n",
    "fractal_square(D, A, tol=tol)\n",
    "ht()"
   ]
  },
  {
   "cell_type": "markdown",
   "id": "959010f6-78bd-4c0f-9259-1630e3bcce92",
   "metadata": {},
   "source": [
    "   <img src = \"figures/L013_triangle_fractal.png\" width = 300>"
   ]
  },
  {
   "cell_type": "code",
   "execution_count": 11,
   "id": "7400b637-bb7a-47c6-99fc-a82884f84b6a",
   "metadata": {},
   "outputs": [],
   "source": [
    "reset()\n",
    "speed(10)\n",
    "A, C = (-200, -100), (200, -100)\n",
    "B = add(A, rotate(vector(A, C), degree=60))\n",
    "tol = 10\n",
    "line(A, B)\n",
    "line(B, C)\n",
    "line(C, A)\n",
    "fractal_triangle2(A, B, C, tol=tol)\n",
    "ht()"
   ]
  },
  {
   "cell_type": "code",
   "execution_count": null,
   "id": "5e6739d7-e4cc-4a7b-ada7-ba4abceebaa1",
   "metadata": {},
   "outputs": [],
   "source": []
  }
 ],
 "metadata": {
  "kernelspec": {
   "display_name": "Python 3",
   "language": "python",
   "name": "python3"
  },
  "language_info": {
   "codemirror_mode": {
    "name": "ipython",
    "version": 3
   },
   "file_extension": ".py",
   "mimetype": "text/x-python",
   "name": "python",
   "nbconvert_exporter": "python",
   "pygments_lexer": "ipython3",
   "version": "3.8.5"
  }
 },
 "nbformat": 4,
 "nbformat_minor": 5
}
