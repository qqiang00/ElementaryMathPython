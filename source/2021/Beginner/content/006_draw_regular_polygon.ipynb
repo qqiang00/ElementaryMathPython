{
 "cells": [
  {
   "cell_type": "markdown",
   "id": "included-education",
   "metadata": {},
   "source": [
    "## 第6讲 绘制正多边形"
   ]
  },
  {
   "cell_type": "markdown",
   "id": "periodic-register",
   "metadata": {},
   "source": [
    "### Problem\n",
    "\n",
    "1. 用已经学过的Turtle库内的绘图方法绘制正三角形、正4、5、6、7、... 边形"
   ]
  },
  {
   "cell_type": "markdown",
   "id": "latest-contamination",
   "metadata": {},
   "source": [
    "### Objective 学习目标\n",
    "\n",
    "- 讲解上次作业\n",
    "- 继续思考尽量不编写重复代码这一编程原则的意义，理解“循环”的意义，初步见识如何使用循环语句来避免编写重复的代码\n",
    "- 理解同一个方法名在接受不同的外部数据时会完成类似但不完全相同的功能。方法接受的不同的数据成为这个方法可以接受的**参数**。一个方法接受的参数的名称、次序和个数是由编写这个方法的人决定的，他人在使用这个方法时需要参考编写该方法的人所公开的关于该方法的详细介绍。\n",
    "- 继续使用已掌握的turtle库内的方法练习绘制略复杂的几何图形，思考如何在指定的位置绘制图形\n",
    "- 初步学习turtle库中的两个新方法: `goto`， `seth`，引导思考数轴、平面直角坐标系和极坐标系的思想\n",
    "- 复习正三角形以及正多边形的几何特点\n",
    "- 学习圆的简单性质"
   ]
  },
  {
   "cell_type": "markdown",
   "id": "animated-batch",
   "metadata": {},
   "source": [
    "### Math\n",
    "\n",
    "- 组成一个正三角形或一个正多边形的每一条边的边长都相等。\n",
    "- 一个圆由一个中心位置和一个长度来确定，这个中心位置确定了圆的位置，这个长度可以用来确定圆的大小。\n",
    "- 数轴是用来确定位置对称性和旋转的一个有方向和刻度的直线，每一个整数或者小数都可以在数轴上表示。在一个右侧朝向的数轴上，右侧的点表示的数比左侧的点表示的数大。\n",
    "- 平面直角坐标系和极坐标系都是用一组（2个）按照事先设定的次序列出的数值的形式来表示二维平面中的某一个点的位置的坐标系统\n",
    "- 对于任意一个（正）多边形，其内角和`total_angle`可以用下面的公式来计算：\n",
    "  ```python\n",
    "  total_angle = (num_side - 2) * 180\n",
    "  ```\n",
    "  其中，`num_side`表示的是这个（正）多边形的边的数量。\n",
    "  \n",
    "- 任意一个凸多边形，无论其由多少条边组成，其外角和是一个定值：360"
   ]
  },
  {
   "cell_type": "markdown",
   "id": "sorted-furniture",
   "metadata": {},
   "source": [
    "### Python"
   ]
  },
  {
   "cell_type": "code",
   "execution_count": 2,
   "id": "overall-pixel",
   "metadata": {},
   "outputs": [],
   "source": [
    "from turtle import setup, reset, bye, pu, pd, bk, fd, left, right, st, ht, goto, seth\n",
    "setup(800, 600, 0, 0) \n",
    "reset()"
   ]
  },
  {
   "cell_type": "code",
   "execution_count": 3,
   "id": "sudden-lodging",
   "metadata": {},
   "outputs": [],
   "source": [
    "num_side = 100      # number of sides of a shape\n",
    "length_side = 40    # length of each side.\n",
    "angle = 360 / num_side"
   ]
  },
  {
   "cell_type": "code",
   "execution_count": 4,
   "id": "informative-offer",
   "metadata": {},
   "outputs": [],
   "source": [
    "# steps before drawing 绘制前的准备\n",
    "reset()\n",
    "pu()\n",
    "goto(0, -150)\n",
    "st()\n",
    "pd()\n",
    "\n",
    "# drawing one side using each two code lines.\n",
    "# 每两行绘制一条边\n",
    "fd(length_side)\n",
    "left(angle)\n",
    "fd(length_side)\n",
    "left(angle)\n",
    "fd(length_side)\n",
    "left(angle)\n",
    "fd(length_side)\n",
    "left(angle)\n",
    "fd(length_side)\n",
    "left(angle)\n",
    "fd(length_side)\n",
    "left(angle)\n",
    "fd(length_side)\n",
    "left(angle)\n",
    "fd(length_side)\n",
    "left(angle)\n",
    "fd(length_side)\n",
    "left(angle)\n",
    "fd(length_side)\n",
    "left(angle)\n",
    "fd(length_side)\n",
    "left(angle)\n",
    "fd(length_side)\n",
    "left(angle)\n",
    "fd(length_side)\n",
    "left(angle)\n",
    "fd(length_side)\n",
    "left(angle)\n",
    "fd(length_side)\n",
    "left(angle)\n",
    "fd(length_side)\n",
    "left(angle)\n",
    "fd(length_side)\n",
    "left(angle)\n",
    "fd(length_side)\n",
    "left(angle)\n",
    "fd(length_side)\n",
    "left(angle)\n",
    "fd(length_side)\n",
    "left(angle)\n",
    "\n",
    "# steps after drawing 完成绘制后\n",
    "pu()\n",
    "ht()"
   ]
  },
  {
   "cell_type": "code",
   "execution_count": 5,
   "id": "forced-visitor",
   "metadata": {},
   "outputs": [],
   "source": [
    "num_side = 10                 # number of sides of a shape\n",
    "angle = 360 / num_side\n",
    "length_side = 1000 / num_side    # length of each side.\n",
    "\n",
    "\n",
    "# steps before drawing 绘制前的准备\n",
    "reset()\n",
    "pu()\n",
    "goto(0, -150)\n",
    "#st()\n",
    "pd()\n",
    "\n"
   ]
  },
  {
   "cell_type": "code",
   "execution_count": 6,
   "id": "superb-folks",
   "metadata": {},
   "outputs": [
    {
     "name": "stdout",
     "output_type": "stream",
     "text": [
      "sides alreay drawn:  1 num_side:  10\n",
      "sides alreay drawn:  2 num_side:  10\n",
      "sides alreay drawn:  3 num_side:  10\n",
      "sides alreay drawn:  4 num_side:  10\n",
      "sides alreay drawn:  5 num_side:  10\n",
      "sides alreay drawn:  6 num_side:  10\n",
      "sides alreay drawn:  7 num_side:  10\n",
      "sides alreay drawn:  8 num_side:  10\n",
      "sides alreay drawn:  9 num_side:  10\n",
      "sides alreay drawn:  10 num_side:  10\n"
     ]
    }
   ],
   "source": [
    "# drawing sides using loop flow control\n",
    "# 使用循环控制语句来绘制所有的边\n",
    "num_side_drawn = 0\n",
    "while num_side_drawn < num_side:\n",
    "    fd(length_side)\n",
    "    left(angle)\n",
    "    num_side_drawn = num_side_drawn + 1\n",
    "    print(\"sides alreay drawn: \", num_side_drawn, \"num_side: \", num_side)\n",
    "\n",
    "\n",
    "# steps after drawing 完成绘制后\n",
    "pu()\n",
    "ht()"
   ]
  },
  {
   "cell_type": "markdown",
   "id": "ordered-devil",
   "metadata": {},
   "source": [
    "**思考**: 比较使用循环语句和不使用循环语句时，两段代码的相同与不同部分。进一步思考有没有可能继续改进以避免重复出现较多行相同的代码"
   ]
  },
  {
   "cell_type": "code",
   "execution_count": 7,
   "id": "qualified-suspension",
   "metadata": {},
   "outputs": [],
   "source": [
    "st() # show turtle (triangle) 显示小海龟"
   ]
  },
  {
   "cell_type": "code",
   "execution_count": 8,
   "id": "adequate-welsh",
   "metadata": {},
   "outputs": [],
   "source": [
    "# observe the turtle orientation when executing the following codes\n",
    "# 执行该单元格代码观察绘图区海归方向的变化\n",
    "seth(0)   # set heading (some degree)"
   ]
  },
  {
   "cell_type": "code",
   "execution_count": 9,
   "id": "united-cattle",
   "metadata": {},
   "outputs": [],
   "source": [
    "# observe the turtle orientation when executing the following codes\n",
    "# 执行该单元格代码观察绘图区海归方向的变化\n",
    "seth(90)"
   ]
  },
  {
   "cell_type": "code",
   "execution_count": 10,
   "id": "involved-chart",
   "metadata": {},
   "outputs": [],
   "source": [
    "# observe the turtle orientation when executing the following codes\n",
    "# 执行该单元格代码观察绘图区海归方向的变化\n",
    "seth(180)"
   ]
  },
  {
   "cell_type": "code",
   "execution_count": 11,
   "id": "composite-administration",
   "metadata": {},
   "outputs": [],
   "source": [
    "seth(270)"
   ]
  },
  {
   "cell_type": "code",
   "execution_count": 12,
   "id": "single-coverage",
   "metadata": {},
   "outputs": [],
   "source": [
    "seth(360)"
   ]
  },
  {
   "cell_type": "markdown",
   "id": "digital-consensus",
   "metadata": {},
   "source": [
    "### Exercise\n",
    "\n",
    "**注意:**\n",
    "- 使用整个星期完成下面的练习\n",
    "- 本讲所有编程练习都要求练习者自行事先导入如下代码提供的方法和绘图设置\n",
    "- 如果您复制粘贴下面的代码，请注意修正其中存在的一处错误再运行\n",
    "\n",
    "\n",
    "```python\n",
    "from turtle import setup, reset, bye, pu, pd, bk, fd, left, right, st, ht，goto\n",
    "setup(500, 400, 0, 0) \n",
    "reset()\n",
    "```"
   ]
  },
  {
   "cell_type": "markdown",
   "id": "agreed-movie",
   "metadata": {},
   "source": [
    "1. 尝试按照下面列举的数据多次修改`setup(500, 400, 0, 0)`方法接受的外部数据，观察代码执行的效果有什么变化。你能总结出`setup`方法接收的每一个外部数据的意义吗。在下面的代码单元格中以注释的形式写上你的回答。\n",
    "    - `setup(400, 500, 0, 0)`        \n",
    "    - `setup(800, 400, 0, 0)`\n",
    "    - `setup(400, 800, 0, 0)`\n",
    "    - `setup(500, 400, 200, 100)`\n",
    "    - `setup(500, 400, 200, 0)`\n",
    "    - `setup(500 ,400, 0, 200)`"
   ]
  },
  {
   "cell_type": "code",
   "execution_count": null,
   "id": "enhanced-closer",
   "metadata": {
    "code_folding": []
   },
   "outputs": [],
   "source": [
    "# 在这里写上你的答案\n",
    "#\n",
    "#"
   ]
  },
  {
   "cell_type": "markdown",
   "id": "confirmed-dimension",
   "metadata": {},
   "source": [
    "2. 根据你目前学过的内容，在下面的代码单元格中以注释的形式详细说明已经学过的下列方法分别来自哪一个方法（仓）库、每一个方法完成的功能、所接受的参数（外部数据）的个数以及每一个参数的在该方法中的作用，即当这个方法中的该参数发生变化时，这个方法执行后得到的效果有什么变化。\n",
    "   \n",
    "   注：如果是默认的仓库，在仓库名列下写\"default\"。 "
   ]
  },
  {
   "cell_type": "code",
   "execution_count": null,
   "id": "excess-distributor",
   "metadata": {
    "code_folding": []
   },
   "outputs": [],
   "source": [
    "#          方法名：print\n",
    "#        所在仓库：Default\n",
    "#   方法完成的功能：向屏幕输出一段字符串\n",
    "# 参数个数以及意义：1或多个参数，表示要输出的字符串\n",
    "   \n",
    "#          方法名: input\n",
    "#        所在仓库：\n",
    "#   方法完成的功能：\n",
    "# 参数个数以及意义：\n",
    "\n",
    "   \n",
    "#          方法名: type\n",
    "#        所在仓库：\n",
    "#   方法完成的功能：\n",
    "# 参数个数以及意义：\n",
    "\n",
    "   \n",
    "#          方法名: int\n",
    "#        所在仓库：\n",
    "#   方法完成的功能：\n",
    "# 参数个数以及意义：\n",
    "\n",
    "   \n",
    "#          方法名: random\n",
    "#        所在仓库：\n",
    "#   方法完成的功能：\n",
    "# 参数个数以及意义：\n",
    "\n",
    "   \n",
    "#          方法名: randint\n",
    "#        所在仓库：\n",
    "#   方法完成的功能：\n",
    "# 参数个数以及意义：\n",
    "\n",
    "   \n",
    "#          方法名: goto\n",
    "#        所在仓库：\n",
    "#   方法完成的功能：\n",
    "# 参数个数以及意义：\n",
    "\n",
    "   \n",
    "#          方法名: setup\n",
    "#        所在仓库：\n",
    "#   方法完成的功能：\n",
    "# 参数个数以及意义：\n",
    "\n",
    "#          方法名: seth\n",
    "#        所在仓库：\n",
    "#   方法完成的功能：\n",
    "# 参数个数以及意义："
   ]
  },
  {
   "cell_type": "markdown",
   "id": "educated-defendant",
   "metadata": {},
   "source": [
    "3. 使用`turtle`绘图库中已经学过的方法（可以不使用`goto`和`seth`），在一个或多个代码单元格中编写任意行数的代码，绘制出按下面排列的一组(5个)正方形。\n",
    "   <img src = \"figures/L005B_E03_square_combinations.png\" width = 500>\n",
    "\n",
    "   具体要求：\n",
    "   - 最中间的正方形位于画布（绘图区）的正中央\n",
    "   - 每一个正方形的边长为80\n",
    "   - 你的代码可以使用也可以不使用`while`循环语句\n",
    "   - 如果你没有使用`while`循环语句，请给你所写的每一行代码进行注释，解释每一行代码的作用。\n",
    "   - 如果你使用了`while`循环语句，你仅需要给`while`循环内的每一行代码进行注释，解释每一行代码的作用。但需要整个代码结尾以注释的形式详细介绍你在使用while循环时碰到了哪些错误，你是怎么发现和修正这些错误并最终让程序正确运行的。"
   ]
  },
  {
   "cell_type": "code",
   "execution_count": null,
   "id": "powered-teens",
   "metadata": {},
   "outputs": [],
   "source": []
  },
  {
   "cell_type": "code",
   "execution_count": null,
   "id": "speaking-reunion",
   "metadata": {},
   "outputs": [],
   "source": []
  },
  {
   "cell_type": "code",
   "execution_count": null,
   "id": "interstate-certificate",
   "metadata": {},
   "outputs": [],
   "source": []
  },
  {
   "cell_type": "markdown",
   "id": "legal-thomson",
   "metadata": {},
   "source": [
    "3. 使用`turtle`绘图库中已经学过的方法，在一个或多个代码单元格中编写任意行数的代码，绘制出如下图所示的图形。\n",
    "\n",
    "   图形描述：图片中所描述的图形可以有两种构图方式：\n",
    "   - 它可以认为是一个大的正三角形和其内部的一个倒立的小的正三角形组合而成，其中大三角形的边长是小三角形边长的2倍；\n",
    "   - 它也可以认为仅由3个小的正三角形按照一定的规律排列而成\n",
    "   <img src = \"figures/L005B_E04_triangle_combinations.png\" width = 500>\n",
    "\n",
    "   具体绘制要求：\n",
    "   - 图中的大三角形的边长是240，相应的小三角形的边长是120\n",
    "   - 整个图形在绘图区中的具体位置可随意设定，但底边需要水平不能倾斜且不能有任何部分超出绘图区而导致大三角形的显示不完整\n",
    "   - 大三角形中倒立的小三角形最上方的一条边（也可以理解为最上方的小三角形的底边）也必须是水平不能倾斜\n",
    "   - 所有的三角形必须是正三角形。\n",
    "   - 不要求代码中出现`while`语句\n",
    "   - 请给你所写的每一行代码进行注释，解释每一行代码的作用。\n",
    "   - 可以有多种途径完成此图的绘制，你仅需要提供一种途径的代码即可，如果你有兴趣，欢迎你提供多套代码。\n",
    "   \n",
    "   **提示**：\n",
    "   \n",
    "   - 下面代码声明的变量和值作为**礼物**送给你，它们会帮助你精确的控制所要绘制的三角形之间的位置关系，你可以选择其中的一个使用在你的代码中。如果你觉得这个礼物对你有帮助，请在代码中以注释的形式感谢它。同时，你可以尝试将这个礼物（神秘）数字（`1.7321`）换成别的数字（例如`1.5`或者`2`）, 重新运行代码，观察绘制的图形有什么变化？\n",
    "    ```python\n",
    "    GIFT_VALUE1 = 120 * 1.7321 / 2\n",
    "    GIFT_VALUE2 = 120 * 1.7321 \n",
    "    GIFT_VALUE3 = 1.7321 / 2\n",
    "    ``` "
   ]
  },
  {
   "cell_type": "code",
   "execution_count": null,
   "id": "executed-governor",
   "metadata": {},
   "outputs": [],
   "source": []
  },
  {
   "cell_type": "code",
   "execution_count": null,
   "id": "atlantic-employee",
   "metadata": {},
   "outputs": [],
   "source": []
  },
  {
   "cell_type": "code",
   "execution_count": null,
   "id": "informal-foundation",
   "metadata": {},
   "outputs": [],
   "source": []
  },
  {
   "cell_type": "code",
   "execution_count": 15,
   "id": "behavioral-remainder",
   "metadata": {},
   "outputs": [],
   "source": [
    "from qianglib.turtle_draw import draw_cords, mark, reset"
   ]
  },
  {
   "cell_type": "code",
   "execution_count": 16,
   "id": "sound-export",
   "metadata": {},
   "outputs": [],
   "source": [
    "\n",
    "draw_cords()"
   ]
  },
  {
   "cell_type": "code",
   "execution_count": 17,
   "id": "grave-mechanism",
   "metadata": {},
   "outputs": [],
   "source": [
    "points = [(3, 4), (4, 3), (3, -4), (4, -3), (-3, 4), (-4, 3), (-3, -4), (-4, -3), (0, 0)]"
   ]
  },
  {
   "cell_type": "code",
   "execution_count": 19,
   "id": "further-supplier",
   "metadata": {},
   "outputs": [],
   "source": [
    "for point in points:\n",
    "    mark(point[0], point[1])"
   ]
  },
  {
   "cell_type": "code",
   "execution_count": null,
   "id": "weekly-steering",
   "metadata": {},
   "outputs": [],
   "source": [
    "mark(-5, -3)"
   ]
  },
  {
   "cell_type": "code",
   "execution_count": null,
   "id": "third-defeat",
   "metadata": {},
   "outputs": [],
   "source": []
  }
 ],
 "metadata": {
  "kernelspec": {
   "display_name": "Python 3",
   "language": "python",
   "name": "python3"
  },
  "language_info": {
   "codemirror_mode": {
    "name": "ipython",
    "version": 3
   },
   "file_extension": ".py",
   "mimetype": "text/x-python",
   "name": "python",
   "nbconvert_exporter": "python",
   "pygments_lexer": "ipython3",
   "version": "3.8.10"
  }
 },
 "nbformat": 4,
 "nbformat_minor": 5
}
