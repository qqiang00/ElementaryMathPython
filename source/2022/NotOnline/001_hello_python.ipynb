{
 "cells": [
  {
   "cell_type": "markdown",
   "id": "relative-location",
   "metadata": {},
   "source": [
    "## Lecture01 Hello, Python\n",
    "\n",
    "第01讲 你好，Python"
   ]
  },
  {
   "cell_type": "markdown",
   "id": "d12f05dd",
   "metadata": {},
   "source": [
    "### Problem 问题描述"
   ]
  },
  {
   "cell_type": "markdown",
   "id": "f8c71b77-5985-4a26-b57d-530a7441a957",
   "metadata": {},
   "source": [
    "1. Write and run a python code line and let the computer output a sentence \"I am learning Math with python programming.\" 编写运行一行程序代码在屏幕上输出 “我正在用Python编程学数学。\""
   ]
  },
  {
   "cell_type": "markdown",
   "id": "de9574b5-afc5-46c4-b38a-ff3049251a4a",
   "metadata": {},
   "source": [
    "2. Introduce Jupyter Lab. 介绍Jupyter Lab交互式环境"
   ]
  },
  {
   "cell_type": "markdown",
   "id": "1891d816-b9d6-4c20-b3de-b39428079f00",
   "metadata": {},
   "source": [
    "3. Calculate the following expressions using Python. 用Python语言计算下面算式的结果：\n",
    "   - $1+2=$\n",
    "   - $3.14\\times2\\times5=$\n",
    "   - $99\\times97+99\\times3=$\n",
    "   - $100\\div 20=$\n",
    "   - $1+2+3+\\cdots+97+98+99=$\n",
    "   - $2\\times2\\times2\\times2\\times2\\times2=$"
   ]
  },
  {
   "cell_type": "markdown",
   "id": "animated-batch",
   "metadata": {},
   "source": [
    "### Mathematics 数学背景\n",
    "\n",
    "- $+$, $-$, $\\times$, $\\div$"
   ]
  },
  {
   "cell_type": "markdown",
   "id": "ac13336a-2a09-4451-b875-ff376c4c485b",
   "metadata": {
    "heading_collapsed": true
   },
   "source": [
    "### Prerequisites 预备知识"
   ]
  },
  {
   "cell_type": "markdown",
   "id": "d792e85e-3a8c-4fd9-a331-b84c6a559189",
   "metadata": {},
   "source": [
    "1. In python, $\\times$ is replaced by `*` and $\\div$ is replaced by `/`. Python中乘法和除法符号分别被`*`和`/`替代\n",
    "2. Command `print` 命令\n",
    "3. role of a pair of parentheses`()` after a command. 一条命令后成对小括号`()`的作用\n",
    "4. role of (double) quotes `\"\"`, `''`. 单双引号的作用\n",
    "5. what is a string? 字符串是什么?"
   ]
  },
  {
   "cell_type": "markdown",
   "id": "d55f37d9",
   "metadata": {},
   "source": [
    "### Solution 编程求解"
   ]
  },
  {
   "cell_type": "code",
   "execution_count": 1,
   "id": "795bdbfc-b19f-488b-9e5a-83d069744800",
   "metadata": {
    "heading_collapsed": true
   },
   "outputs": [
    {
     "name": "stdout",
     "output_type": "stream",
     "text": [
      "I am learning Math with Python programming.\n"
     ]
    }
   ],
   "source": [
    "print('I am learning Math with Python programming.')"
   ]
  },
  {
   "cell_type": "code",
   "execution_count": 2,
   "id": "619cfc78-b32d-4c39-9e6e-83af8c609b63",
   "metadata": {},
   "outputs": [
    {
     "name": "stdout",
     "output_type": "stream",
     "text": [
      "我正在用Python编程学数学。\n"
     ]
    }
   ],
   "source": [
    "print(\"我正在用Python编程学数学。\")"
   ]
  },
  {
   "cell_type": "code",
   "execution_count": null,
   "id": "7434659e-d9ee-4b53-9e47-6cf1207be080",
   "metadata": {},
   "outputs": [],
   "source": []
  },
  {
   "cell_type": "markdown",
   "id": "latest-contamination",
   "metadata": {},
   "source": [
    "### Summary 知识点小结\n",
    "\n",
    "- Understand what a string is 理解什么是字符串\n",
    "- Be able to represent a string in Python 在Python中表示一个字符串\n",
    "- Be able to display a string on screen 能够在屏幕上显示一个字符串\n",
    "- Use Python as a calculator 把Python当成一个计算器使用\n",
    "- Jupyter Lab 交互环境"
   ]
  },
  {
   "cell_type": "markdown",
   "id": "9b1cbb40-6bf3-459e-b44f-69b17b727fa5",
   "metadata": {},
   "source": [
    "### CS Tips 计算机小知识"
   ]
  },
  {
   "cell_type": "markdown",
   "id": "36c117a2-0ab5-4c35-96f6-f450a8b4ac1e",
   "metadata": {},
   "source": [
    "-"
   ]
  },
  {
   "cell_type": "markdown",
   "id": "digital-consensus",
   "metadata": {
    "heading_collapsed": true
   },
   "source": [
    "### Assignments 作业\n"
   ]
  },
  {
   "cell_type": "markdown",
   "id": "de4cfdc5",
   "metadata": {},
   "source": [
    "1. Use `print` to print out exactly the following sentences(including the final period). 使用`print`语句打印出完全一样的下面的句子（包括末尾的句号）。\n",
    "    - I love China and Canada.\n",
    "    - I like Python programming language, and I like Math too.\n",
    "    - Our teacher's name is Qiang.\n",
    "    - \"CN\" is the abbreviation of China.\n",
    "    - The abbreviation of Canda is \"CAD\".\n",
    "    \n",
    "   The code for printing out first sentence is already given as an example:\n",
    "   作为示例第一个句子已经给出答案：\n",
    "   ```python\n",
    "      print(\"I love China and Canada.\")\n",
    "   ```\n",
    "   Please write your codes for the rest sentences in below cells (one sentence in each cell).\n",
    "   请在下面几个小格子里编写代码输出剩余的句子（每一个单元格输出一个句子）。"
   ]
  },
  {
   "cell_type": "code",
   "execution_count": null,
   "id": "weighted-mortality",
   "metadata": {
    "hidden": true
   },
   "outputs": [],
   "source": []
  },
  {
   "cell_type": "code",
   "execution_count": null,
   "id": "worst-hierarchy",
   "metadata": {
    "hidden": true
   },
   "outputs": [],
   "source": []
  },
  {
   "cell_type": "code",
   "execution_count": null,
   "id": "constitutional-fairy",
   "metadata": {
    "hidden": true
   },
   "outputs": [],
   "source": []
  },
  {
   "cell_type": "code",
   "execution_count": null,
   "id": "killing-boxing",
   "metadata": {
    "hidden": true
   },
   "outputs": [],
   "source": []
  },
  {
   "cell_type": "code",
   "execution_count": null,
   "id": "dependent-brook",
   "metadata": {
    "hidden": true
   },
   "outputs": [],
   "source": []
  },
  {
   "cell_type": "markdown",
   "id": "cathedral-pursuit",
   "metadata": {
    "hidden": true
   },
   "source": [
    "2. In the following cells, write codes to calculate the following Arithmetic expressions (one cell for each):\n",
    "   在下面的单元格中，编写代码计算下面的算术表达式（每一个式子使用一个单元格）:\n",
    "   \n",
    "    - $1+3+5+7+9+11+13+15+17+19$\n",
    "    - $10-9+8-7+6-5+4-3+2-1$\n",
    "    - $3.14\\times 2\\times 5$\n",
    "    - $2\\times(6+9)$\n",
    "    - $2\\times\\times2\\times2\\times2\\times2\\times2\\times2\\times2$"
   ]
  },
  {
   "cell_type": "code",
   "execution_count": null,
   "id": "controlled-masters",
   "metadata": {
    "hidden": true
   },
   "outputs": [],
   "source": []
  },
  {
   "cell_type": "code",
   "execution_count": null,
   "id": "steady-wagner",
   "metadata": {
    "hidden": true
   },
   "outputs": [],
   "source": []
  },
  {
   "cell_type": "code",
   "execution_count": null,
   "id": "colonial-edinburgh",
   "metadata": {
    "hidden": true
   },
   "outputs": [],
   "source": []
  },
  {
   "cell_type": "code",
   "execution_count": null,
   "id": "clean-italian",
   "metadata": {
    "hidden": true
   },
   "outputs": [],
   "source": []
  },
  {
   "cell_type": "code",
   "execution_count": null,
   "id": "0db11b03-ae26-4730-8999-8cacaa72ad3d",
   "metadata": {},
   "outputs": [],
   "source": []
  },
  {
   "cell_type": "markdown",
   "id": "controversial-sleeve",
   "metadata": {
    "hidden": true
   },
   "source": [
    "3. The length and width of a rectangle are 22cm and 16cm, respectively. What the perimeter and the area of this rectangle? write only two lines of codes to provide the answer directly, and an extra line of code to print out the result like the follow sentence:  一个长方形的长和宽分别是22厘米和16厘米，它的周长和面积分别是多少？通过只编写两行代码给出答案，并使用额外一行代码输出如下格式的一句话：  \n",
    "\n",
    "   \"The perimeter of this rectangle is xxx cm, and its area is xxx cm*cm.\"\n",
    "\n",
    "   Replace the xxx by your results. 用你得到的结果替代上面的 xxx。"
   ]
  },
  {
   "cell_type": "code",
   "execution_count": null,
   "id": "floppy-audience",
   "metadata": {
    "hidden": true
   },
   "outputs": [],
   "source": []
  },
  {
   "cell_type": "code",
   "execution_count": null,
   "id": "contemporary-indonesia",
   "metadata": {
    "hidden": true
   },
   "outputs": [],
   "source": []
  },
  {
   "cell_type": "code",
   "execution_count": null,
   "id": "healthy-auditor",
   "metadata": {
    "hidden": true
   },
   "outputs": [],
   "source": []
  },
  {
   "cell_type": "markdown",
   "id": "35a22bf0-b1d0-443f-bcb4-194885770a10",
   "metadata": {},
   "source": [
    "4. If you are asked to calculate the sum of all natural numbers between 1 and 100, what will you do? 如果要你计算从1到100这连续100个自然数的和，你会想到哪些方法？ What if you are asked to calculate the sum of all natural numbers between 100 to 10000? 如果要计算100到10000之间的所有自然数之和呢？"
   ]
  },
  {
   "cell_type": "code",
   "execution_count": null,
   "id": "e380f59c-fe1c-4501-a283-3bff6ca83928",
   "metadata": {},
   "outputs": [],
   "source": []
  }
 ],
 "metadata": {
  "kernelspec": {
   "display_name": "Python 3",
   "language": "python",
   "name": "python3"
  },
  "language_info": {
   "codemirror_mode": {
    "name": "ipython",
    "version": 3
   },
   "file_extension": ".py",
   "mimetype": "text/x-python",
   "name": "python",
   "nbconvert_exporter": "python",
   "pygments_lexer": "ipython3",
   "version": "3.8.10"
  }
 },
 "nbformat": 4,
 "nbformat_minor": 5
}
