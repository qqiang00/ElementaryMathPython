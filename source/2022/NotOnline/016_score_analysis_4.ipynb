{
 "cells": [
  {
   "cell_type": "markdown",
   "id": "relative-location",
   "metadata": {},
   "source": [
    "## 第16讲 分析考试成绩（四）\n",
    "\n",
    "平均数和中位数\n",
    "\n",
    "Lecture 16. Analysis Exam Scores(Part 6) Mean and Median"
   ]
  },
  {
   "cell_type": "markdown",
   "id": "d12f05dd",
   "metadata": {},
   "source": [
    "### Problem 问题描述"
   ]
  },
  {
   "cell_type": "markdown",
   "id": "c7cd1f0b-8266-49f3-a77e-806bec2c40ce",
   "metadata": {},
   "source": [
    "Find the mean and median of the following scores. 找出下面成绩的平均值和中位值\n",
    "```text\n",
    "74, 86, 100, 92, 72, 70, 74, 86, 72, 100, 86, 84, 96, 92, 78, 90, 82, \n",
    "90, 82, 88, 100, 78, 92, 78, 92, 86, 84, 88, 90, 88, 98, 86, 100, 96, \n",
    "96, 94, 54, 90, 100, 78, 100, 98, 84, 100, 78, 86, 98, 88, 94, 88\n",
    "```"
   ]
  },
  {
   "cell_type": "markdown",
   "id": "58b48659-5d09-4297-ad74-02cd03a78bb7",
   "metadata": {},
   "source": [
    "### Math Background 数学背景"
   ]
  },
  {
   "cell_type": "markdown",
   "id": "84ff5c68-6020-4bd6-9155-4ca62bd7f828",
   "metadata": {},
   "source": [
    "1. 奇数和偶数：能被2整除的整数是偶数，不能被2整数的整数是奇数，0是偶数\n",
    "2. 平均数（值）和中位数（值）的定义、联系和区别"
   ]
  },
  {
   "cell_type": "markdown",
   "id": "c87f2ab2-933c-4283-8f53-d650737089f3",
   "metadata": {
    "tags": []
   },
   "source": [
    "### Prerequisites 预备知识"
   ]
  },
  {
   "cell_type": "markdown",
   "id": "6a917cde-8904-4989-988b-f67d09046e29",
   "metadata": {},
   "source": [
    "#### 1. 用运算符`//`表示一个除法的商的部分"
   ]
  },
  {
   "cell_type": "code",
   "execution_count": 12,
   "id": "20dd6228-967f-4365-8c3b-edbe8d15c4ea",
   "metadata": {},
   "outputs": [
    {
     "name": "stdout",
     "output_type": "stream",
     "text": [
      "0除以2的商的整数部分是0\n",
      "1除以2的商的整数部分是0\n",
      "2除以2的商的整数部分是1\n",
      "3除以2的商的整数部分是1\n",
      "4除以2的商的整数部分是2\n",
      "5除以2的商的整数部分是2\n",
      "6除以2的商的整数部分是3\n",
      "7除以2的商的整数部分是3\n",
      "8除以2的商的整数部分是4\n",
      "9除以2的商的整数部分是4\n",
      "10除以2的商的整数部分是5\n"
     ]
    }
   ],
   "source": [
    "i = 0\n",
    "while i <= 10:\n",
    "    quotien = i // 2\n",
    "    print(\"{}除以2的商的整数部分是{}\".format(i, quotien))\n",
    "    i += 1"
   ]
  },
  {
   "cell_type": "markdown",
   "id": "4c1001b3-efa9-4d09-9878-85e26a91241c",
   "metadata": {},
   "source": [
    "#### 2. 用运算符`%`表示一个除法的余数部分"
   ]
  },
  {
   "cell_type": "code",
   "execution_count": 18,
   "id": "6b8b9456-2ea1-4435-87ce-05649a6b426d",
   "metadata": {},
   "outputs": [
    {
     "name": "stdout",
     "output_type": "stream",
     "text": [
      "0除以2的商的余数部分是0\n",
      "1除以2的商的余数部分是1\n",
      "2除以2的商的余数部分是0\n",
      "3除以2的商的余数部分是1\n",
      "4除以2的商的余数部分是0\n",
      "5除以2的商的余数部分是1\n",
      "6除以2的商的余数部分是0\n",
      "7除以2的商的余数部分是1\n",
      "8除以2的商的余数部分是0\n",
      "9除以2的商的余数部分是1\n",
      "10除以2的商的余数部分是0\n"
     ]
    }
   ],
   "source": [
    "i = 0\n",
    "while i <= 10:\n",
    "    remainder = i % 2\n",
    "    print(\"{}除以2的商的余数部分是{}\".format(i, remainder))\n",
    "    i += 1"
   ]
  },
  {
   "cell_type": "markdown",
   "id": "d35b7d4b-f453-499c-b4cf-22b51827d2ee",
   "metadata": {
    "tags": []
   },
   "source": [
    "**练习**：\n",
    "用0-20之间（包括0和20）的每一个整数作为被除数，用1-5之间（包括1和5）的每一个整数作为除数，一共能够得到多少个除法算式？\n",
    "编写程序打印出每一个除法算式及其商和余数。"
   ]
  },
  {
   "cell_type": "code",
   "execution_count": 19,
   "id": "37b2891e-3533-4449-b19a-6260af822765",
   "metadata": {
    "collapsed": true,
    "jupyter": {
     "outputs_hidden": true,
     "source_hidden": true
    },
    "tags": []
   },
   "outputs": [
    {
     "name": "stdout",
     "output_type": "stream",
     "text": [
      "  1:  0 /  1 =  0 ...  0\n",
      "  2:  0 /  2 =  0 ...  0\n",
      "  3:  0 /  3 =  0 ...  0\n",
      "  4:  0 /  4 =  0 ...  0\n",
      "  5:  0 /  5 =  0 ...  0\n",
      "  6:  1 /  1 =  1 ...  0\n",
      "  7:  1 /  2 =  0 ...  1\n",
      "  8:  1 /  3 =  0 ...  1\n",
      "  9:  1 /  4 =  0 ...  1\n",
      " 10:  1 /  5 =  0 ...  1\n",
      " 11:  2 /  1 =  2 ...  0\n",
      " 12:  2 /  2 =  1 ...  0\n",
      " 13:  2 /  3 =  0 ...  2\n",
      " 14:  2 /  4 =  0 ...  2\n",
      " 15:  2 /  5 =  0 ...  2\n",
      " 16:  3 /  1 =  3 ...  0\n",
      " 17:  3 /  2 =  1 ...  1\n",
      " 18:  3 /  3 =  1 ...  0\n",
      " 19:  3 /  4 =  0 ...  3\n",
      " 20:  3 /  5 =  0 ...  3\n",
      " 21:  4 /  1 =  4 ...  0\n",
      " 22:  4 /  2 =  2 ...  0\n",
      " 23:  4 /  3 =  1 ...  1\n",
      " 24:  4 /  4 =  1 ...  0\n",
      " 25:  4 /  5 =  0 ...  4\n",
      " 26:  5 /  1 =  5 ...  0\n",
      " 27:  5 /  2 =  2 ...  1\n",
      " 28:  5 /  3 =  1 ...  2\n",
      " 29:  5 /  4 =  1 ...  1\n",
      " 30:  5 /  5 =  1 ...  0\n",
      " 31:  6 /  1 =  6 ...  0\n",
      " 32:  6 /  2 =  3 ...  0\n",
      " 33:  6 /  3 =  2 ...  0\n",
      " 34:  6 /  4 =  1 ...  2\n",
      " 35:  6 /  5 =  1 ...  1\n",
      " 36:  7 /  1 =  7 ...  0\n",
      " 37:  7 /  2 =  3 ...  1\n",
      " 38:  7 /  3 =  2 ...  1\n",
      " 39:  7 /  4 =  1 ...  3\n",
      " 40:  7 /  5 =  1 ...  2\n",
      " 41:  8 /  1 =  8 ...  0\n",
      " 42:  8 /  2 =  4 ...  0\n",
      " 43:  8 /  3 =  2 ...  2\n",
      " 44:  8 /  4 =  2 ...  0\n",
      " 45:  8 /  5 =  1 ...  3\n",
      " 46:  9 /  1 =  9 ...  0\n",
      " 47:  9 /  2 =  4 ...  1\n",
      " 48:  9 /  3 =  3 ...  0\n",
      " 49:  9 /  4 =  2 ...  1\n",
      " 50:  9 /  5 =  1 ...  4\n",
      " 51: 10 /  1 = 10 ...  0\n",
      " 52: 10 /  2 =  5 ...  0\n",
      " 53: 10 /  3 =  3 ...  1\n",
      " 54: 10 /  4 =  2 ...  2\n",
      " 55: 10 /  5 =  2 ...  0\n",
      " 56: 11 /  1 = 11 ...  0\n",
      " 57: 11 /  2 =  5 ...  1\n",
      " 58: 11 /  3 =  3 ...  2\n",
      " 59: 11 /  4 =  2 ...  3\n",
      " 60: 11 /  5 =  2 ...  1\n",
      " 61: 12 /  1 = 12 ...  0\n",
      " 62: 12 /  2 =  6 ...  0\n",
      " 63: 12 /  3 =  4 ...  0\n",
      " 64: 12 /  4 =  3 ...  0\n",
      " 65: 12 /  5 =  2 ...  2\n",
      " 66: 13 /  1 = 13 ...  0\n",
      " 67: 13 /  2 =  6 ...  1\n",
      " 68: 13 /  3 =  4 ...  1\n",
      " 69: 13 /  4 =  3 ...  1\n",
      " 70: 13 /  5 =  2 ...  3\n",
      " 71: 14 /  1 = 14 ...  0\n",
      " 72: 14 /  2 =  7 ...  0\n",
      " 73: 14 /  3 =  4 ...  2\n",
      " 74: 14 /  4 =  3 ...  2\n",
      " 75: 14 /  5 =  2 ...  4\n",
      " 76: 15 /  1 = 15 ...  0\n",
      " 77: 15 /  2 =  7 ...  1\n",
      " 78: 15 /  3 =  5 ...  0\n",
      " 79: 15 /  4 =  3 ...  3\n",
      " 80: 15 /  5 =  3 ...  0\n",
      " 81: 16 /  1 = 16 ...  0\n",
      " 82: 16 /  2 =  8 ...  0\n",
      " 83: 16 /  3 =  5 ...  1\n",
      " 84: 16 /  4 =  4 ...  0\n",
      " 85: 16 /  5 =  3 ...  1\n",
      " 86: 17 /  1 = 17 ...  0\n",
      " 87: 17 /  2 =  8 ...  1\n",
      " 88: 17 /  3 =  5 ...  2\n",
      " 89: 17 /  4 =  4 ...  1\n",
      " 90: 17 /  5 =  3 ...  2\n",
      " 91: 18 /  1 = 18 ...  0\n",
      " 92: 18 /  2 =  9 ...  0\n",
      " 93: 18 /  3 =  6 ...  0\n",
      " 94: 18 /  4 =  4 ...  2\n",
      " 95: 18 /  5 =  3 ...  3\n",
      " 96: 19 /  1 = 19 ...  0\n",
      " 97: 19 /  2 =  9 ...  1\n",
      " 98: 19 /  3 =  6 ...  1\n",
      " 99: 19 /  4 =  4 ...  3\n",
      "100: 19 /  5 =  3 ...  4\n",
      "101: 20 /  1 = 20 ...  0\n",
      "102: 20 /  2 = 10 ...  0\n",
      "103: 20 /  3 =  6 ...  2\n",
      "104: 20 /  4 =  5 ...  0\n",
      "105: 20 /  5 =  4 ...  0\n",
      "一共有105个除法算式\n"
     ]
    }
   ],
   "source": [
    "i = 0\n",
    "dividends = 0\n",
    "while dividends <= 20:\n",
    "    divisor = 1\n",
    "    while divisor <= 5:\n",
    "        i += 1\n",
    "        print(\"{:3}: {:2} / {:2} = {:2} ... {:2}\".format(\n",
    "            i, dividends, divisor, dividends//divisor, dividends%divisor))\n",
    "\n",
    "        divisor += 1\n",
    "        \n",
    "    dividends += 1\n",
    "print(\"一共有{}个除法算式\".format(i))"
   ]
  },
  {
   "cell_type": "markdown",
   "id": "ef4f01f3-b86c-4278-8556-316f0a49c374",
   "metadata": {},
   "source": [
    "#### 3. 判断能否被2整除"
   ]
  },
  {
   "cell_type": "code",
   "execution_count": 9,
   "id": "6a67185b-f090-49a8-bb39-9b6ab02bd2cb",
   "metadata": {},
   "outputs": [
    {
     "name": "stdout",
     "output_type": "stream",
     "text": [
      " 0 是偶数(Even).\n",
      " 1 是奇数(Odd).\n",
      " 2 是偶数(Even).\n",
      " 3 是奇数(Odd).\n",
      " 4 是偶数(Even).\n",
      " 5 是奇数(Odd).\n",
      " 6 是偶数(Even).\n",
      " 7 是奇数(Odd).\n",
      " 8 是偶数(Even).\n",
      " 9 是奇数(Odd).\n",
      "10 是偶数(Even).\n"
     ]
    }
   ],
   "source": [
    "i = 0\n",
    "while i <= 10:\n",
    "    if i % 2 == 0:\n",
    "        print(\"{:2} 是偶数(Even).\".format(i))\n",
    "    else:\n",
    "        print(\"{:2} 是奇数(Odd).\".format(i))\n",
    "    i += 1"
   ]
  },
  {
   "cell_type": "markdown",
   "id": "fb936c93-0006-4659-a3df-75ea48f27619",
   "metadata": {},
   "source": [
    "#### 4. 中位数(Median) \n",
    "要找到一个列表中的中位数，需要先检查列表中的元素是否已经排好序。如果没有排好序，需要先排序，然后取位置正中的那个数（奇数个元素）或位置正中的两个数（偶数个元素）的平均数。"
   ]
  },
  {
   "cell_type": "code",
   "execution_count": null,
   "id": "e18465cc-8ad8-4078-8d6f-17882320a0ab",
   "metadata": {},
   "outputs": [],
   "source": [
    "nums = [ 1, 2, 3, 4, 5]                 # 有序列表有5个元素，列表中间的位置是？？"
   ]
  },
  {
   "cell_type": "code",
   "execution_count": null,
   "id": "b73d1ab6-5ed0-4edd-bde9-221defb775ef",
   "metadata": {},
   "outputs": [],
   "source": [
    "nums = [ 1, 2, 3, 4, 5, 6]              # 有序列表有6个元素，列表中间的位置是？？"
   ]
  },
  {
   "cell_type": "code",
   "execution_count": null,
   "id": "7edd4ed4-10a2-4255-80ba-63cbee59d91e",
   "metadata": {},
   "outputs": [],
   "source": [
    "nums = [ 1, 2, 3, 4, 5, 1000]          "
   ]
  },
  {
   "cell_type": "code",
   "execution_count": null,
   "id": "90275b1c-66e2-4271-a380-acf6c8fb0c1c",
   "metadata": {},
   "outputs": [],
   "source": [
    "nums = [ 1, 2, 3, 4, 5, 1000, 10000]"
   ]
  },
  {
   "cell_type": "markdown",
   "id": "36a540b0-063b-4fbb-af32-653c60eec33c",
   "metadata": {},
   "source": [
    "#### 5. 复习插入排序程序（以摸牌为例）"
   ]
  },
  {
   "cell_type": "code",
   "execution_count": 20,
   "id": "d3bd3fae-1cd3-4c9c-a52c-11c6d004256a",
   "metadata": {},
   "outputs": [
    {
     "name": "stdout",
     "output_type": "stream",
     "text": [
      "[3, 5, 6, 7]\n"
     ]
    }
   ],
   "source": [
    "# simplified Codes 简化后的代码\n",
    "sorted_cards = []\n",
    "cards = [5, 3, 7, 6]\n",
    "n_pick = len(cards)                   # 需要摸牌的次数\n",
    "cur_pick = 0\n",
    "\n",
    "while cur_pick < n_pick:\n",
    "    card_picked = cards[cur_pick]\n",
    "    i = 0\n",
    "    while i < len(sorted_cards):       # 从左(小)到右(大)依次比较\n",
    "        if card_picked < sorted_cards[i]:\n",
    "            break\n",
    "        i += 1\n",
    "        \n",
    "    sorted_cards.insert(i, card_picked)\n",
    "    cur_pick += 1 \n",
    "\n",
    "print(sorted_cards)"
   ]
  },
  {
   "cell_type": "markdown",
   "id": "8f188c0f-e6f3-459a-bc91-5dd22a204e34",
   "metadata": {},
   "source": [
    "#### 6. 求平均值、最大值、最小值的简便方法"
   ]
  },
  {
   "cell_type": "code",
   "execution_count": 27,
   "id": "a289113a-9fcd-4cd1-8b5f-eadc10956647",
   "metadata": {},
   "outputs": [
    {
     "name": "stdout",
     "output_type": "stream",
     "text": [
      "minimal: 2\n",
      "maximal: 7\n",
      "average: 4.6\n"
     ]
    }
   ],
   "source": [
    "nums = [3, 2, 5, 7, 6]\n",
    "min_num = min(nums)\n",
    "max_num = max(nums)\n",
    "mean_num = sum(nums)/len(nums)\n",
    "print(\"minimal: {}\".format(min_num))\n",
    "print(\"maximal: {}\".format(max_num))\n",
    "print(\"average: {}\".format(mean_num))"
   ]
  },
  {
   "cell_type": "markdown",
   "id": "d55f37d9",
   "metadata": {},
   "source": [
    "### Solution 编程求解"
   ]
  },
  {
   "cell_type": "code",
   "execution_count": 24,
   "id": "c0bf70f7-d7c2-4eb4-889a-d2341bccb7dc",
   "metadata": {},
   "outputs": [
    {
     "name": "stdout",
     "output_type": "stream",
     "text": [
      "平均值是87.52\n"
     ]
    }
   ],
   "source": [
    "scores = [74, 86, 100, 92, 72, 70, 74, 86, 72, 100, 86, 84, 96, 92, 78, 90, \n",
    "          82, 90, 82, 88, 100, 78, 92, 78, 92, 86, 84, 88, 90, 88, 98, 86, 100, \n",
    "          96, 96, 94, 54, 90, 100, 78, 100, 98, 84, 100, 78, 86, 98, 88, 94, 88]\n",
    "\n",
    "mean_score = sum(scores)/len(scores)\n",
    "print(\"平均值是{}\".format(mean_score))"
   ]
  },
  {
   "cell_type": "code",
   "execution_count": 29,
   "id": "92cd9dfb-72cf-4d81-a328-4bfef9ded5a5",
   "metadata": {},
   "outputs": [
    {
     "name": "stdout",
     "output_type": "stream",
     "text": [
      "median score is: 89.0\n"
     ]
    }
   ],
   "source": [
    "sorted_scores = []\n",
    "n_score = len(scores)\n",
    "cur_pick = 0\n",
    "while cur_pick < n_score:\n",
    "    score = scores[cur_pick]\n",
    "    i = 0\n",
    "    while i < len(sorted_scores):       # 从左(小)到右(大)依次比较\n",
    "        if score < sorted_scores[i]:\n",
    "            break\n",
    "        i += 1\n",
    "        \n",
    "    sorted_scores.insert(i, score)\n",
    "    cur_pick += 1\n",
    "    \n",
    "median_score = None\n",
    "if n_score % 2 == 0:\n",
    "    middle1_pos = (n_score-1)//2\n",
    "    middle2_pos = middle1_pos + 1\n",
    "    median_score = (scores[middle1_pos] + scores[middle2_pos])/2\n",
    "else:\n",
    "    middle_pos = (n_score-1)//2\n",
    "    median_score = scores[middle_pos]\n",
    "\n",
    "print(\"median score is: {}\".format(median_score))"
   ]
  },
  {
   "cell_type": "markdown",
   "id": "latest-contamination",
   "metadata": {
    "tags": []
   },
   "source": [
    "### Summary 知识点小结"
   ]
  },
  {
   "cell_type": "markdown",
   "id": "afb3f674",
   "metadata": {},
   "source": [
    "1. `min`,`max`,`sum`方法求最小、最大值和总和\n",
    "2. `//`和`%`运算符的使用"
   ]
  },
  {
   "cell_type": "markdown",
   "id": "bizarre-assurance",
   "metadata": {},
   "source": [
    "### 计算机小知识"
   ]
  },
  {
   "cell_type": "markdown",
   "id": "92100f08",
   "metadata": {},
   "source": []
  },
  {
   "cell_type": "markdown",
   "id": "digital-consensus",
   "metadata": {
    "heading_collapsed": true
   },
   "source": [
    "### Assignments 作业"
   ]
  },
  {
   "cell_type": "markdown",
   "id": "controversial-sleeve",
   "metadata": {
    "hidden": true
   },
   "source": [
    "1. Find all integers beteen 0 and 100 (inclusive) that is divisable by 3. 找到0-100以内（包括0和100）所有能被3整除的整数"
   ]
  },
  {
   "cell_type": "code",
   "execution_count": null,
   "id": "3a8cf803-96dc-42ce-9f48-a4708cb4b576",
   "metadata": {},
   "outputs": [],
   "source": []
  },
  {
   "cell_type": "markdown",
   "id": "1fbe354b-4345-4db8-83ec-544c0b0987bb",
   "metadata": {},
   "source": [
    "2. Find all integers between 0 and 100 (inclusive) that will have 5 as the remainder when divided by 7. 找到0-100以内（包括0和100）所有除以7余数位5的整数"
   ]
  },
  {
   "cell_type": "code",
   "execution_count": null,
   "id": "c2a24d5a-984b-45ac-84dc-28968ec7877b",
   "metadata": {},
   "outputs": [],
   "source": []
  },
  {
   "cell_type": "markdown",
   "id": "a9c8be54-c613-4625-83d8-c0e0d29926b0",
   "metadata": {},
   "source": [
    "3. write a programe to show that all integers between 0 and 100 (inclusive) that is divisable by 9 will also be divisable by 3. 写一段程序展示在0-100（包括0和100）之间所有能被9整除的整数也一定能被3整除。"
   ]
  },
  {
   "cell_type": "code",
   "execution_count": null,
   "id": "73463914-b0c4-469f-8358-1223174d0294",
   "metadata": {},
   "outputs": [],
   "source": []
  },
  {
   "cell_type": "markdown",
   "id": "1165ed37-c412-44ae-bb34-58aa9cbe3a9c",
   "metadata": {},
   "source": [
    "4. Use methods `min`, `max`, `sum`, etc. to find the minimal number, maximal number, total summation, length of the list, mean, and median of each list variable provided in the following 4 cells. 使用`min`,`max`,`sum`等方法编程求解下面给定的每一个列表的：最小值、最大值、所有元素之和、元素个数、平均值和中位数（每一个列表使用一个单元格）\n",
    "\n",
    "    **Note**: The codes you added in each cell should be exactly the same. **注意**: 你在每一个单元格中添加的代码应该完全一样"
   ]
  },
  {
   "cell_type": "code",
   "execution_count": 44,
   "id": "eae66b97-51b6-49e0-9b88-347052321e4a",
   "metadata": {},
   "outputs": [
    {
     "name": "stdout",
     "output_type": "stream",
     "text": [
      "minimal: None\n",
      "maximal: None\n",
      "    sum: None\n",
      "  n_num: None\n",
      "   mean: None\n",
      " median: None\n"
     ]
    }
   ],
   "source": [
    "nums = [157, 130, 129, 136, 63, 49, 114, 109, 49, 118, 94, 134, 117, 128, 104, \n",
    "        94, 52, 121, 115, 97, 88, 133, 52, 79, 113, 108, 69, 153, 48, 117]\n",
    "min_num, max_num, sum_num, n_num = None, None, None, None\n",
    "mean, median = None, None\n",
    "\n",
    "#TODO: add your codes here\n",
    "\n",
    "print(\"minimal: {}\".format(min_num))\n",
    "print(\"maximal: {}\".format(max_num))\n",
    "print(\"    sum: {}\".format(sum_num))\n",
    "print(\"  n_num: {}\".format(n_num))\n",
    "print(\"   mean: {}\".format(mean))\n",
    "print(\" median: {}\".format(median))"
   ]
  },
  {
   "cell_type": "code",
   "execution_count": null,
   "id": "d82b9167-faa7-4b1b-8668-3bcbe2cfd620",
   "metadata": {},
   "outputs": [],
   "source": [
    "nums = [92, 47, 173, 42, 45, 30, 140, 126, 94, 140, 103, 146, 95, 71, 143, 74, \n",
    "        72, 71, 90, 61, 75, 168, 156, 25, 120, 99, 41, 10, 116]\n",
    "min_num, max_num, sum_num, n_num = None, None, None, None\n",
    "mean, median = None, None\n",
    "\n",
    "#TODO: add your codes here\n",
    "\n",
    "print(\"minimal: {}\".format(min_num))\n",
    "print(\"maximal: {}\".format(max_num))\n",
    "print(\"    sum: {}\".format(sum_num))\n",
    "print(\"  n_num: {}\".format(n_num))\n",
    "print(\"   mean: {}\".format(mean))\n",
    "print(\" median: {}\".format(median))"
   ]
  },
  {
   "cell_type": "code",
   "execution_count": null,
   "id": "b6a126cf-c50c-4538-85ed-fd9145c56691",
   "metadata": {},
   "outputs": [],
   "source": [
    "nums = [69, 104, 111, 96, 18, 105, 63, 70, 102, 71, 115, 116, 101, 88, 109, 101,\n",
    "        106, 112, 108, 94, 73, 79, 54, 87, 154, 119, 124, 98]\n",
    "min_num, max_num, sum_num, n_num = None, None, None, None\n",
    "mean, median = None, None\n",
    "\n",
    "#TODO: add your codes here\n",
    "\n",
    "print(\"minimal: {}\".format(min_num))\n",
    "print(\"maximal: {}\".format(max_num))\n",
    "print(\"    sum: {}\".format(sum_num))\n",
    "print(\"  n_num: {}\".format(n_num))\n",
    "print(\"   mean: {}\".format(mean))\n",
    "print(\" median: {}\".format(median))"
   ]
  },
  {
   "cell_type": "code",
   "execution_count": null,
   "id": "40960e66-22c1-457c-ac55-7e5e9184b151",
   "metadata": {},
   "outputs": [],
   "source": [
    "nums = [116, 149, 84, 121, 73, 143, 155, 150, 65, 38, 74, 120, 168, 64, 101, 55,\n",
    "        81, 93, 158, 54, 2, 165, 28, 103, 127, 84, 71]\n",
    "min_num, max_num, sum_num, n_num = None, None, None, None\n",
    "mean, median = None, None\n",
    "\n",
    "#TODO: add your codes here\n",
    "\n",
    "print(\"minimal: {}\".format(min_num))\n",
    "print(\"maximal: {}\".format(max_num))\n",
    "print(\"    sum: {}\".format(sum_num))\n",
    "print(\"  n_num: {}\".format(n_num))\n",
    "print(\"   mean: {}\".format(mean))\n",
    "print(\" median: {}\".format(median))"
   ]
  },
  {
   "cell_type": "code",
   "execution_count": 46,
   "id": "3910b542-e657-4c3d-9487-087ddb4024ca",
   "metadata": {},
   "outputs": [
    {
     "name": "stdout",
     "output_type": "stream",
     "text": [
      "nums = [157, 130, 129, 136, 63, 49, 114, 109, 49, 118, 94, 134, 117, 128, 104, 94, 52, 121, 115, 97, 88, 133, 52, 79, 113, 108, 69, 153, 48, 117]\n",
      "nums = [92, 47, 173, 42, 45, 30, 140, 126, 94, 140, 103, 146, 95, 71, 143, 74, 72, 71, 90, 61, 75, 168, 156, 25, 120, 99, 41, 10, 116]\n",
      "nums = [69, 104, 111, 96, 18, 105, 63, 70, 102, 71, 115, 116, 101, 88, 109, 101, 106, 112, 108, 94, 73, 79, 54, 87, 154, 119, 124, 98]\n",
      "nums = [116, 149, 84, 121, 73, 143, 155, 150, 65, 38, 74, 120, 168, 64, 101, 55, 81, 93, 158, 54, 2, 165, 28, 103, 127, 84, 71]\n"
     ]
    }
   ],
   "source": [
    "# 上面的nums由下面这段程序生成\n",
    "from random import randint, seed\n",
    "seed(0)\n",
    "expected_length = 30\n",
    "expected_n_list = 4\n",
    "i, j = 0, 0\n",
    "\n",
    "while j < expected_n_list:\n",
    "    nums = []\n",
    "    i = 0\n",
    "    while i < expected_length:\n",
    "        nums.append(randint(randint(1, 100), randint(100, 200)))\n",
    "        i += 1\n",
    "    print(\"nums = {}\".format(nums))\n",
    "    expected_length -= 1    \n",
    "    j += 1"
   ]
  },
  {
   "cell_type": "code",
   "execution_count": null,
   "id": "648436eb-e5bd-4005-8edc-72fe6a15be38",
   "metadata": {},
   "outputs": [],
   "source": []
  }
 ],
 "metadata": {
  "kernelspec": {
   "display_name": "Python 3 (ipykernel)",
   "language": "python",
   "name": "python3"
  },
  "language_info": {
   "codemirror_mode": {
    "name": "ipython",
    "version": 3
   },
   "file_extension": ".py",
   "mimetype": "text/x-python",
   "name": "python",
   "nbconvert_exporter": "python",
   "pygments_lexer": "ipython3",
   "version": "3.9.0"
  }
 },
 "nbformat": 4,
 "nbformat_minor": 5
}
