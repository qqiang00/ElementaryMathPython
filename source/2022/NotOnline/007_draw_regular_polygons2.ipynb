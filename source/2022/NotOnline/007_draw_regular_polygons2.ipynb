{
 "cells": [
  {
   "cell_type": "markdown",
   "id": "included-education",
   "metadata": {},
   "source": [
    "## 第07讲 绘制正多边形（二)\n",
    "Lecture07 Draw Regular Polygons（Part 2)"
   ]
  },
  {
   "cell_type": "markdown",
   "id": "periodic-register",
   "metadata": {},
   "source": [
    "### Problem 问题\n",
    "Draw and answer questions 绘图并回答问题\n",
    "\n",
    "**Draw** a modified regular hextagon(6 sides) using methods in module `turtle`. Here are the requirements:  使用`turtle`模块里的方法按要求绘制一个边长为160的正六边形，并对其做一特定的修饰。具体要求如下：\n",
    "1. Draw area should be 600 pixels for both heigh and width; 绘图区的宽高均为600；\n",
    "2. The regular hextagon should be in centered left and right in the draw area; 正六边形应该位于绘图区的水平正中；\n",
    "3. Side length of the hextagon is 160 and line color is \"green\"; 六边形每边长为160，颜色为绿色；\n",
    "4. Counterclockwise from the bottom line, the line size for each side is 1, 2, 3, 4, 5, 6, respectively; 从最低边逆时针算起，每条边的尺寸（线宽）为分别为1，2，3，4，5，6；\n",
    "4. Extend each side 40 pixel as the figure shows; 正六边形的每一条边绘制完后，需如图所示向一侧延伸40pixel长；\n",
    "\n",
    "<img src=\"figures/L007_01_regular_polygons.png\" width = 500>\n",
    "\n",
    "**Answer** the following questions: 回答下列问题：\n",
    "1. How many degrees did the turle turn during the entire process of drawing the regular hexagon with the code you wrote? 小海龟在用你编写的代码绘制正六边形的整个过程中一共转了多少度？\n",
    "2. To complete the drawing of a regular hexagon, what is the smallest number of degree that a turtle needs to turn? 要完成一个正六边形的绘制，小海龟至少需要一共转多少度？\n",
    "3. The 6 interior angles of a regular hexagon are all equal. What is it? What is the sum of all the interior angles of a regular hexagon? 正六边形6个内角都相等，这个度数是多少？正六边形的所有内角加起来的和是多少度？"
   ]
  },
  {
   "cell_type": "markdown",
   "id": "animated-batch",
   "metadata": {},
   "source": [
    "### Math Background 数学背景\n",
    "1. 直线或线段可以认为是180度的角；\n",
    "1. 对于任意一个（正）多边形，其内角和（sum of interior angles）`total_angle`可以用下面的公式来计算：\n",
    "  ```python\n",
    "  total_angle = (num_side - 2) * 180 # 其中，`num_side`表示的是这个（正）多边形的边的数量。\n",
    "  ``` \n",
    "2. 正多边形，其外角和（sum of exterior angles）永远是360度。事实上对于任意一个凸（convex)多边形，即使不是正多边形，其外角和也总是360度。"
   ]
  },
  {
   "cell_type": "markdown",
   "id": "sorted-furniture",
   "metadata": {
    "tags": []
   },
   "source": [
    "### Prerequisites 预备知识"
   ]
  },
  {
   "cell_type": "code",
   "execution_count": 24,
   "id": "7879012d-02eb-4b5b-b3b1-6a9cba77dfdb",
   "metadata": {},
   "outputs": [],
   "source": [
    "from random import randint\n",
    "from turtle import setup, reset, bye, pu, pd, bk, fd, left, right, st, ht\n",
    "# from turtle import penup, pendown, backward, forward, showturtle, hideturtle\n",
    "from turtle import pencolor, pensize\n",
    "setup(600, 400, None, None)"
   ]
  },
  {
   "cell_type": "markdown",
   "id": "ba31701e-80e9-4f91-bc2c-e31bae95752e",
   "metadata": {},
   "source": [
    "#### use `pensize` method to specify line size(width) 使用`pensize`方法确定线的尺寸（宽度）"
   ]
  },
  {
   "cell_type": "code",
   "execution_count": null,
   "id": "e02e7f07-62e5-4540-91a5-434100b85fa6",
   "metadata": {},
   "outputs": [],
   "source": []
  },
  {
   "cell_type": "markdown",
   "id": "3c3045bb-aed3-40b7-adac-e4a21c3785b1",
   "metadata": {},
   "source": [
    "#### calculation of dgrees for each turn 每一次转角度数的计算"
   ]
  },
  {
   "cell_type": "code",
   "execution_count": null,
   "id": "eed42adf-4515-49cc-8b74-7f4aea7d0831",
   "metadata": {},
   "outputs": [],
   "source": []
  },
  {
   "cell_type": "markdown",
   "id": "dced0953-c74b-438b-9baa-38a7cca7f450",
   "metadata": {
    "tags": []
   },
   "source": [
    "#### build connection between line size and the side to draw 在要绘制的边和线宽之间建立联系"
   ]
  },
  {
   "cell_type": "code",
   "execution_count": null,
   "id": "c975a142-d323-4cef-91d1-7eb82e8a714b",
   "metadata": {},
   "outputs": [],
   "source": []
  },
  {
   "cell_type": "markdown",
   "id": "edacb659-dafd-41fd-b19d-5bded4563db8",
   "metadata": {
    "tags": []
   },
   "source": [
    "### Solution 编程求解"
   ]
  },
  {
   "cell_type": "code",
   "execution_count": 25,
   "id": "29a373b2-7e48-4fba-a27f-10589aaaf2ef",
   "metadata": {},
   "outputs": [],
   "source": [
    "from random import randint\n",
    "from turtle import setup, reset, bye, pu, pd, bk, fd, left, right, st, ht\n",
    "# from turtle import penup, pendown, backward, forward, showturtle, hideturtle\n",
    "from turtle import pencolor, pensize\n",
    "setup(600, 400, None, None)"
   ]
  },
  {
   "cell_type": "code",
   "execution_count": 39,
   "id": "6acfb917-996e-40ab-bb3d-bacf2cd7ce76",
   "metadata": {},
   "outputs": [],
   "source": [
    "reset()                               # 重置海龟位于中心，朝向正右方\n",
    "pu()                                  # 抬起画笔\n",
    "side_length = 160                     # 设定边长\n",
    "ext_length = 40                       # 设定额外伸出的长度\n",
    "right(90)                             # 右转海龟（朝向正下方）\n",
    "fd(130)                               # 前进130像素\n",
    "left(90)                              # 左转海龟（朝向正右方）\n",
    "bk(side_length/2)                     # 后退边长的一半（向左）\n",
    "pd()                                  # 放下画笔准备画图\n",
    "\n",
    "edge_drawn, edge_total = 0, 6         # 设定已经绘制完成的边的数量和总的边的数量\n",
    "degree = 360 / edge_total             # 设定每一次要转的角度\n",
    "pencolor(\"green\")                     # 设定画笔的颜色\n",
    "line_width = 1                        # 设定画线的宽度\n",
    "while edge_drawn < edge_total:        # 根据条件判断是否进入循环\n",
    "    line_width = edge_drawn + 1       # 设定当前应该使用的线宽\n",
    "    pensize(line_width)               # 选用当前的线宽来绘图\n",
    "    fd(side_length + ext_length)      # 前进边长加额外长度\n",
    "    bk(ext_length)                    # 后退额外长度\n",
    "    left(degree)                      # 左转海龟degree表示的度数\n",
    "    edge_drawn += 1                   # 更新已经完成绘制的变数，表示已经完成一条边和额外线段的绘制\n",
    "    \n",
    "ht()                                  # 当离开循环时隐藏海龟"
   ]
  },
  {
   "cell_type": "markdown",
   "id": "2fce4645-f056-4be7-86d7-886d8b72c44e",
   "metadata": {},
   "source": [
    "### Summary 知识点小结\n",
    "\n",
    "1. `pensize`方法用于确定绘画线条的宽度\n",
    "2. 参与控制循环条件的变量可以在循环体内发挥其它重要的作用"
   ]
  },
  {
   "cell_type": "markdown",
   "id": "bc1af148-1c1d-4b2b-90d9-5a87aab8ebc2",
   "metadata": {},
   "source": [
    "### CS Tips 计算机小知识\n",
    "在通过计算机技术绘制斜线的时候，有时候线段并不是很平滑，显现出一些类似毛刺或锯子的齿一样的形态，我们称这样的线条有“锯齿”。锯齿的形成与计算机绘图硬件有关。可以通过提高显示设备的分辨率和其它一些技术来减轻锯齿发生的程度。\n"
   ]
  },
  {
   "cell_type": "markdown",
   "id": "f9f70484-6376-4931-90fd-d86eca0986cd",
   "metadata": {
    "tags": []
   },
   "source": [
    "### Assignments 作业"
   ]
  },
  {
   "cell_type": "code",
   "execution_count": 22,
   "id": "52b011de-8ef8-438f-8c24-7d49fb1338d8",
   "metadata": {},
   "outputs": [],
   "source": [
    "from random import randint\n",
    "from turtle import setup, reset, bye, pu, pd, bk, fd, left, right, st, ht\n",
    "# from turtle import penup, pendown, backward, forward, showturtle, hideturtle\n",
    "from turtle import pencolor, pensize\n",
    "setup(600, 400, None, None)"
   ]
  },
  {
   "cell_type": "markdown",
   "id": "ae24b055-8534-4157-a951-25b36982fd6b",
   "metadata": {},
   "source": [
    "1. 使用已经教学过的知识，绘制如下图类似的正八边形。具体要求如下：\n",
    "   - 它一个边为120的正八边形，**左右**居中位于绘图区，每条边的线宽总是3，颜色是绿色；\n",
    "   - 它最下方不是一条边而是一个顶点\n",
    "   - 正八边形每一个顶点都朝向中心延伸出一条线宽为1颜色为红色的长度与八边形边长相等的线段\n",
    "   - 给每一行代码添加注释\n",
    "   \n",
    "   <img src=\"figures/L007_04_regular_polygons.png\" width = 500>"
   ]
  },
  {
   "cell_type": "code",
   "execution_count": 48,
   "id": "3e2d7634-9658-40cf-8a07-b722543a667e",
   "metadata": {},
   "outputs": [],
   "source": []
  },
  {
   "cell_type": "markdown",
   "id": "f7814f33-12e2-497e-bf27-4ba207d3cadb",
   "metadata": {},
   "source": [
    "2. 使用已经教学过的知识，编程绘制出下图所示的图形。具体要求如下：\n",
    "   - 它一个边为120的正六边形，仍然在绘图区**左右**居中，每条边的线宽总是3，颜色是绿色；\n",
    "   - 它最下方不是一条边而是一个顶点\n",
    "   - 正六边形中距离最远的3对顶点是用颜色为红色的宽为1的线条连接起来的\n",
    "   - 给每一行代码添加注释\n",
    "   \n",
    "   <img src=\"figures/L007_02_regular_polygons.png\" width = 500>"
   ]
  },
  {
   "cell_type": "code",
   "execution_count": 50,
   "id": "e7f6aafb-833b-459a-abe9-c03daad4ee41",
   "metadata": {},
   "outputs": [],
   "source": []
  },
  {
   "cell_type": "markdown",
   "id": "6de8eb4b-5674-4052-b804-99501e591f56",
   "metadata": {},
   "source": [
    "2. 使用已经教学过的知识，编程绘制出下图所示的图形。具体要求如下：\n",
    "   - 它一个边为120的正五边形，仍然在绘图区**左右**居中，每条边的线宽总是3，颜色是绿色；\n",
    "   - 它最**上方**是正五边形的一个顶点，且这个顶点距离绘图区中心（海龟一开始的位置）的距离等于正五边形的边长；\n",
    "   - 每一个顶点都朝向中心延伸出一条线宽为1颜色为红色的长度与边长相等的线段\n",
    "   - 给每一行代码添加注释\n",
    "   \n",
    "   <img src=\"figures/L007_assign03_regular_polygons.png\" width = 500>"
   ]
  },
  {
   "cell_type": "code",
   "execution_count": 52,
   "id": "1a576213-63f4-4b76-b138-deb8cf064c21",
   "metadata": {},
   "outputs": [],
   "source": []
  },
  {
   "cell_type": "markdown",
   "id": "3c843578-33b0-4e36-a753-35a6fd639f9f",
   "metadata": {},
   "source": [
    "4. 使用`while`循环绘制下图。要求：\n",
    "      - 所有的三个正方形都完全位于尺寸为600×400的绘图区域的中心（包括左右和上下都是居中）\n",
    "      - 三个正方形的边长依次为250，150，和50\n",
    "      - 三个正方形的线宽一次为3, 2, 1\n",
    "      - 可以只使用一个`while`循环来实现，也可以使用两个`while`循环嵌套来实现\n",
    "      - 使用了两个`while`循环**并且**代码总行数控制在35行以内（import, setup所在的行不计入总行数），结果正确可以获得额外的10分加分\n",
    "      - 给每一行代码添加你的注释\n",
    "      \n",
    "   <img src=\"figures/L007_assign04_regular_polygons.png\" width = 500>"
   ]
  },
  {
   "cell_type": "code",
   "execution_count": 79,
   "id": "77dabcbe-f4b3-4b3b-a3df-6fc36acefff9",
   "metadata": {},
   "outputs": [],
   "source": []
  }
 ],
 "metadata": {
  "kernelspec": {
   "display_name": "Python 3 (ipykernel)",
   "language": "python",
   "name": "python3"
  },
  "language_info": {
   "codemirror_mode": {
    "name": "ipython",
    "version": 3
   },
   "file_extension": ".py",
   "mimetype": "text/x-python",
   "name": "python",
   "nbconvert_exporter": "python",
   "pygments_lexer": "ipython3",
   "version": "3.9.0"
  }
 },
 "nbformat": 4,
 "nbformat_minor": 5
}
