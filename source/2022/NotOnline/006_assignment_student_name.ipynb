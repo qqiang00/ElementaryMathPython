{
 "cells": [
  {
   "cell_type": "markdown",
   "id": "included-education",
   "metadata": {},
   "source": [
    "## 第06讲 绘制正多边形\n",
    "Lecture06 Draw Regular Polygons"
   ]
  },
  {
   "cell_type": "markdown",
   "id": "17a2dfd9-0f6d-4e99-866e-93cb1fc38d06",
   "metadata": {},
   "source": [
    "**<span style=\"color:red\">-/100</span>** Marked by \n",
    "\n",
    "1. Note1\n",
    "2. Note2"
   ]
  },
  {
   "cell_type": "markdown",
   "id": "f9f70484-6376-4931-90fd-d86eca0986cd",
   "metadata": {},
   "source": [
    "### Assignments 作业"
   ]
  },
  {
   "cell_type": "markdown",
   "id": "digital-consensus",
   "metadata": {},
   "source": [
    "1. 仿照本讲示例，绘制边长为50的正二十边形。海龟起始点同本讲示例；颜色任选。"
   ]
  },
  {
   "cell_type": "code",
   "execution_count": null,
   "id": "0325925f-a364-4596-8673-370042120b53",
   "metadata": {},
   "outputs": [],
   "source": []
  },
  {
   "cell_type": "markdown",
   "id": "9ca5ecdf-36eb-4d41-bdac-130707951492",
   "metadata": {},
   "source": [
    "2. 仿照本讲示例，绘制边长为10的正一百边形。通过修改刚开始绘图时海龟的位置，使得绘制的正一百边形在绘图区域**左右**居中，颜色任选。"
   ]
  },
  {
   "cell_type": "code",
   "execution_count": null,
   "id": "b5f51416-631f-46d5-b4f1-c243abc94a61",
   "metadata": {},
   "outputs": [],
   "source": []
  },
  {
   "cell_type": "markdown",
   "id": "3c843578-33b0-4e36-a753-35a6fd639f9f",
   "metadata": {},
   "source": [
    "3. 使用`while`循环绘制下图。要求：\n",
    "      - 所有的三个正方形都完全位于尺寸为600×400的绘图区域的中心；\n",
    "      - 三个正方形的边长依次为250，150，和50。\n",
    "      - 给每一行代码添加注释，解释其作用。\n",
    "\n",
    "   <img src = \"figures/L005_01_squares.png\" width = 500>"
   ]
  },
  {
   "cell_type": "code",
   "execution_count": null,
   "id": "77dabcbe-f4b3-4b3b-a3df-6fc36acefff9",
   "metadata": {},
   "outputs": [],
   "source": []
  },
  {
   "cell_type": "markdown",
   "id": "6de8eb4b-5674-4052-b804-99501e591f56",
   "metadata": {},
   "source": [
    "4. 使用`turtle`绘图库中已经学过的方法，在一个或多个代码单元格中编写任意行数的代码，绘制出按下面排列的一组(5个)正方形。具体要求：\n",
    "   - 最中间的正方形位于画布（绘图区）的正中央；\n",
    "   - 每一个正方形的边长为80；\n",
    "   - 你的代码可以使用也可以不使用`while`循环语句；\n",
    "   - 给每一行代码添加注释，解释其作用。\n",
    "   \n",
    "   \n",
    "   <img src = \"figures/L006_e03_square_combinations.png\" width = 500>"
   ]
  },
  {
   "cell_type": "code",
   "execution_count": null,
   "id": "cd59a905-c3cb-44d0-83c4-aa37fd3ed24a",
   "metadata": {},
   "outputs": [],
   "source": []
  },
  {
   "cell_type": "markdown",
   "id": "adca4acd-8c5f-4992-aec1-223e48207e37",
   "metadata": {},
   "source": [
    "5. （**可选做**）使用`while`循环，使用`randint`方法，编程完成下面两小题:\n",
    "    - 生成100个范围在1,100（包括1和100）的随机数，计算这100个随机数的平均数，并计算该平均数与50的差值。打印这个平均数和得到的差。\n",
    "    - 生成10000个这样的随机数，计算平均值和平均值与50的差，打印出来。"
   ]
  },
  {
   "cell_type": "markdown",
   "id": "6c8edb19-5555-4e4c-b0b6-8870f8b29ac5",
   "metadata": {},
   "source": []
  }
 ],
 "metadata": {
  "kernelspec": {
   "display_name": "Python 3 (ipykernel)",
   "language": "python",
   "name": "python3"
  },
  "language_info": {
   "codemirror_mode": {
    "name": "ipython",
    "version": 3
   },
   "file_extension": ".py",
   "mimetype": "text/x-python",
   "name": "python",
   "nbconvert_exporter": "python",
   "pygments_lexer": "ipython3",
   "version": "3.9.0"
  }
 },
 "nbformat": 4,
 "nbformat_minor": 5
}
