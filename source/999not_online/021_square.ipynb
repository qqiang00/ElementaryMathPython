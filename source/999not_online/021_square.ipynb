{
 "cells": [
  {
   "cell_type": "markdown",
   "id": "relative-location",
   "metadata": {},
   "source": [
    "## 第21讲 正方形与乘方"
   ]
  },
  {
   "cell_type": "markdown",
   "id": "d12f05dd",
   "metadata": {},
   "source": [
    "### Problem 问题描述"
   ]
  },
  {
   "cell_type": "markdown",
   "id": "87c843e7-cbef-4128-9360-c3ebd33dcc1b",
   "metadata": {},
   "source": [
    "使用`qianglib`库提供的方法，绘制方格坐标纸，其中坐标系的原点`(0,0)`位于绘图区的最左下方，使用的`scale`值为`20`. Use the methods provided in the library `qianglib`, draw a grid coordinate system where the origin `(0, 0)` is at the bottom left of the coordinate system."
   ]
  },
  {
   "cell_type": "markdown",
   "id": "075dc2c3-429c-4e18-af1c-d6dadc442312",
   "metadata": {},
   "source": [
    "1. 以点A(10, 12), B(20, 12)两点为端点，绘制一条线段AB，编程计算这条边的边长。Given the coordiante values of point A(10, 12) and B(20, 12), Draw a line segment with A and B as endpoints. Calculate the length of AB by programming."
   ]
  },
  {
   "cell_type": "markdown",
   "id": "85c32d31-f2ea-4ac1-bb4f-783f228d8829",
   "metadata": {},
   "source": [
    "2. 绘制一个正方形，使得先前绘制的线段AB为正方形的一条边。Draw a square and make line segment AB be one side of the square.\n"
   ]
  },
  {
   "cell_type": "markdown",
   "id": "dfe5e1fa-2c40-44d8-8096-cf6bbf0b0d83",
   "metadata": {},
   "source": [
    "3. 数一数这个正方形内一共有多少个边长为1的单位正方形，这个数量同时也是这个正方形的面积。 Count how many unit square(side length with 1) does the Square have. The result will be the area of the square as well.\n"
   ]
  },
  {
   "cell_type": "markdown",
   "id": "6da7bf19-5016-46db-9d97-84b05ebf7eec",
   "metadata": {},
   "source": [
    "4. 保持点A的横纵坐标值不变，保持点B的纵坐标不便，将点B的横坐标分别改为11至20之间的任何一个数，重新绘制线段AB，计算它的长度，并以它为一条边绘制正方形，对于每画出一次的正方形，计算或数出来这个正方形里有多少边长为1的单位正方形。将结果填入下面的表格。Keep the both coordinate values of A and vertical vlue of B as they are, change only the horizontal value of B to every integer from 11 to 20. redraw the line segment AB and corresponding square. For each square you draw, calculate its side length and how many unit square it contains. Write the result into the following table.\n",
    "\n",
    "| A       |  B      | Side Length | #Unit Square(Area) |\n",
    "|:---------:|:---------:|-----|--------------------|\n",
    "|(10, 12) |(11, 12) |     |                        |\n",
    "|(10, 12) |(12, 12) |     |                        |\n",
    "|(10, 12) |(13, 12) |     |                        |\n",
    "|(10, 12) |(14, 12) |     |                        |\n",
    "|(10, 12) |(15, 12) |     |                        |\n",
    "|(10, 12) |(16, 12) |     |                        |\n",
    "|(10, 12) |(17, 12) |     |                        |\n",
    "|(10, 12) |(18, 12) |     |                        |\n",
    "|(10, 12) |(19, 12) |     |                        |\n",
    "|(10, 12) |(20, 12) |     |                        |\n"
   ]
  },
  {
   "cell_type": "markdown",
   "id": "52a0ec99-ed1b-4791-b59b-f2ddfdae8db1",
   "metadata": {},
   "source": [
    "5. 编写一个方法，该方法接受一个整数参数，计算这个整数参数乘以自己的积，并把这个结果作为方法的返回值。然后调用该方法，将1-10之间的每一个整数作为参数传给该方法，打印每一次方法得到的返回值。Write a method which receives an integer `a` as a parameter and return the value of `a*a`。 For each integer from 1 to 10, call this method with the integer as parameter, print out the return value of the method. "
   ]
  },
  {
   "cell_type": "markdown",
   "id": "edfa00a3-562f-4797-a23b-3dd20b3b2f8a",
   "metadata": {},
   "source": [
    "6. 用目前已经学过的编程知识，尝试编写一个方法来计算一个给定面积的正方形它的（近似）边长。调用你写的方法来计算当一个正方形面积分别位1，4，9，15，25，30时，它的边长大概是多少。Use the coding skills learned so far, try to write a method to get the side length of a square with given area. call the method you implemented to get the side length of the square whose areas are the following: 1, 4, 9, 15, 25, 30.\n",
    "\n",
    "   "
   ]
  },
  {
   "cell_type": "markdown",
   "id": "6f041a5f-71c1-477c-95be-7e3361e55a3c",
   "metadata": {},
   "source": [
    "**Answer Area**"
   ]
  },
  {
   "cell_type": "code",
   "execution_count": null,
   "id": "f98826bb-85f0-431c-b110-c72f99caf65a",
   "metadata": {},
   "outputs": [],
   "source": []
  },
  {
   "cell_type": "markdown",
   "id": "1270f26d-e2ca-45e0-a679-ec82361795da",
   "metadata": {},
   "source": [
    "### Math Background 数学背景\n",
    "\n",
    "1. 正方形的面积等于边长与自己的乘积\n",
    "2. 两个相同的数相乘又称为这个数的乘方或2次方"
   ]
  },
  {
   "cell_type": "markdown",
   "id": "sorted-furniture",
   "metadata": {
    "heading_collapsed": true
   },
   "source": [
    "### Prerequisites 预备知识"
   ]
  },
  {
   "cell_type": "markdown",
   "id": "ac3f3f62-7bb0-4f00-9a4e-4085b96c14dd",
   "metadata": {},
   "source": [
    "无"
   ]
  },
  {
   "cell_type": "markdown",
   "id": "d55f37d9",
   "metadata": {},
   "source": [
    "### Solution 编程求解"
   ]
  },
  {
   "cell_type": "markdown",
   "id": "fe71a786-9c32-4ccb-8ac0-747e43eb8623",
   "metadata": {},
   "source": [
    "1. "
   ]
  },
  {
   "cell_type": "code",
   "execution_count": 1,
   "id": "b1ae7be3-fdde-46b5-820e-c35a55d2fbe0",
   "metadata": {},
   "outputs": [],
   "source": [
    "from turtle import setup, reset, pu, pd, bye, left, right, fd, bk, screensize\n",
    "from turtle import goto, seth, write, ht, st, home, dot, pen, speed\n",
    "from qianglib import prepare_paper, draw_grid, mark, lines, line, polygon, text"
   ]
  },
  {
   "cell_type": "code",
   "execution_count": 2,
   "id": "bed66e63-7d02-4c22-bf10-8863883aab94",
   "metadata": {},
   "outputs": [],
   "source": [
    "width, height = 800, 600\n",
    "setup(width, height, 0, 0)\n",
    "prepare_paper(width, height, scale=20, min_x=0, min_y=0, max_y=25)"
   ]
  },
  {
   "cell_type": "code",
   "execution_count": 3,
   "id": "0cf88bf6-e6ba-4f56-a1fb-09b5e09d594b",
   "metadata": {},
   "outputs": [],
   "source": [
    "A, B = (10, 12), (20, 12)\n",
    "line(A, B)"
   ]
  },
  {
   "cell_type": "code",
   "execution_count": 4,
   "id": "a4a0d700-2265-4af1-b6c9-408be9bb5635",
   "metadata": {},
   "outputs": [],
   "source": [
    "mark(A, \"A\"+str(A))\n",
    "mark(B, \"B\"+str(B))"
   ]
  },
  {
   "cell_type": "code",
   "execution_count": 5,
   "id": "b052fe87-5adc-4316-ba94-194acab8c074",
   "metadata": {},
   "outputs": [
    {
     "name": "stdout",
     "output_type": "stream",
     "text": [
      "10\n"
     ]
    }
   ],
   "source": [
    "side_length = B[0] - A[0]\n",
    "print(side_length)"
   ]
  },
  {
   "cell_type": "code",
   "execution_count": 6,
   "id": "a5bc912d-ff31-4d1d-8769-44fa70ccb19b",
   "metadata": {},
   "outputs": [],
   "source": [
    "C = (B[0], B[1]-side_length)\n",
    "mark(C, \"C\"+str(C))"
   ]
  },
  {
   "cell_type": "code",
   "execution_count": 7,
   "id": "56d93e4d-97a4-467c-aa43-e0c2fed11816",
   "metadata": {},
   "outputs": [],
   "source": [
    "D = (A[0], A[1]-side_length)\n",
    "mark(D, \"D\"+str(D))"
   ]
  },
  {
   "cell_type": "code",
   "execution_count": 8,
   "id": "4118544a-76bf-43c0-bc74-99f231247d07",
   "metadata": {},
   "outputs": [],
   "source": [
    "square_down = [A, B, C, D]  \n",
    "            # [A, D, C, B]\n",
    "            # [B, C, D ，A]\n",
    "polygon(square_down, color=\"red\", linewidth=3)       \n"
   ]
  },
  {
   "cell_type": "code",
   "execution_count": 9,
   "id": "3ecb3a7d-701f-4001-b6b2-bd7efb406f0b",
   "metadata": {},
   "outputs": [],
   "source": [
    "E = (B[0], B[1]+side_length)\n",
    "mark(E, \"E\"+str(E))"
   ]
  },
  {
   "cell_type": "code",
   "execution_count": 15,
   "id": "ffff4797-9472-42cc-8b13-176f3717a671",
   "metadata": {},
   "outputs": [],
   "source": [
    "F = (A[0], A[1]+side_length)\n",
    "mark(F, \"F\"+str(F))"
   ]
  },
  {
   "cell_type": "code",
   "execution_count": 16,
   "id": "a29ad60d-b9b9-46af-9aae-1b81900dcddd",
   "metadata": {},
   "outputs": [],
   "source": [
    "square_up = [A, B, E, F]\n",
    "polygon(square_up, color=\"green\", linewidth=3)"
   ]
  },
  {
   "cell_type": "code",
   "execution_count": 17,
   "id": "30fb64d2-0aff-44dd-9e4e-1c52b5535e74",
   "metadata": {},
   "outputs": [],
   "source": [
    "square_unit = [(1, 1), (1, 2), (2, 2), (2, 1)]\n",
    "polygon(square_unit, fillcolor=\"black\", color=\"black\")"
   ]
  },
  {
   "cell_type": "code",
   "execution_count": 19,
   "id": "7d7052d2-2621-46dd-a3bb-658298b433e4",
   "metadata": {},
   "outputs": [],
   "source": [
    "square_unit2 = [(1, 5), (3, 5), (3, 7), (1, 7)]\n",
    "polygon(square_unit2, fillcolor=\"yellow\", color=\"black\")"
   ]
  },
  {
   "cell_type": "code",
   "execution_count": 21,
   "id": "a1da77b9-5d4a-433b-b2ec-f3056edf9806",
   "metadata": {},
   "outputs": [
    {
     "name": "stdout",
     "output_type": "stream",
     "text": [
      "4\n"
     ]
    }
   ],
   "source": [
    "a = 2\n",
    "area = a*a\n",
    "print(area)"
   ]
  },
  {
   "cell_type": "code",
   "execution_count": 22,
   "id": "d93dbef7-7c1b-4994-8e4c-a0bfd559b289",
   "metadata": {},
   "outputs": [
    {
     "name": "stdout",
     "output_type": "stream",
     "text": [
      "4\n"
     ]
    }
   ],
   "source": [
    "area2 = a**2\n",
    "print(area2)"
   ]
  },
  {
   "cell_type": "code",
   "execution_count": 25,
   "id": "9cd3ee42-cff9-4748-8e97-b47f55ab9527",
   "metadata": {},
   "outputs": [
    {
     "name": "stdout",
     "output_type": "stream",
     "text": [
      "4\n"
     ]
    },
    {
     "data": {
      "text/plain": [
       "True"
      ]
     },
     "execution_count": 25,
     "metadata": {},
     "output_type": "execute_result"
    }
   ],
   "source": [
    "print(a**2)  # 乘方, sqaure, exponent of 2, power of 2\n",
    "a**2 == a*a"
   ]
  },
  {
   "cell_type": "code",
   "execution_count": null,
   "id": "6ede6ace-b1dd-462b-b530-aefd3aa8a728",
   "metadata": {},
   "outputs": [],
   "source": [
    "def square_area(side_length):\n",
    "    area = None\n",
    "    # TODO\n",
    "    return area"
   ]
  },
  {
   "cell_type": "markdown",
   "id": "latest-contamination",
   "metadata": {},
   "source": [
    "### Summary 知识点小结"
   ]
  },
  {
   "cell_type": "markdown",
   "id": "afb3f674",
   "metadata": {},
   "source": [
    "1. 乘方运算符`**`\n",
    "2. 复习tuple\n",
    "3. 复习qianglib的一些方法\n",
    "4. 复习方法的返回值\n"
   ]
  },
  {
   "cell_type": "markdown",
   "id": "bizarre-assurance",
   "metadata": {},
   "source": [
    "### 计算机小知识"
   ]
  },
  {
   "cell_type": "markdown",
   "id": "92100f08",
   "metadata": {},
   "source": [
    "暂缺"
   ]
  },
  {
   "cell_type": "markdown",
   "id": "digital-consensus",
   "metadata": {
    "heading_collapsed": true
   },
   "source": [
    "### Assignments 作业\n",
    "\n",
    "#### Complete Question 4,5 and 6 完成本讲问题4，5和6."
   ]
  },
  {
   "cell_type": "code",
   "execution_count": null,
   "id": "a50e42c9-8771-4b61-83d0-1fd9ffd0d3f5",
   "metadata": {},
   "outputs": [],
   "source": []
  }
 ],
 "metadata": {
  "kernelspec": {
   "display_name": "Python 3",
   "language": "python",
   "name": "python3"
  },
  "language_info": {
   "codemirror_mode": {
    "name": "ipython",
    "version": 3
   },
   "file_extension": ".py",
   "mimetype": "text/x-python",
   "name": "python",
   "nbconvert_exporter": "python",
   "pygments_lexer": "ipython3",
   "version": "3.8.10"
  }
 },
 "nbformat": 4,
 "nbformat_minor": 5
}
