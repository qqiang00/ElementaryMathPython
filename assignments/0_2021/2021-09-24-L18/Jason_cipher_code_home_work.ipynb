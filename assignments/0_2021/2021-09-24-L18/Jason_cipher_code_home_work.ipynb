{
 "cells": [
  {
   "cell_type": "code",
   "execution_count": 2,
   "id": "honey-collaboration",
   "metadata": {},
   "outputs": [
    {
     "name": "stdout",
     "output_type": "stream",
     "text": [
      "['c', 'f', 'c', 'e', 'y', 'w', 'i', 'x', 'c', 'h', 'a']\n"
     ]
    },
    {
     "name": "stdin",
     "output_type": "stream",
     "text": [
      "Is this this correct answer?(Y/N) N\n"
     ]
    },
    {
     "name": "stdout",
     "output_type": "stream",
     "text": [
      "['d', 'g', 'd', 'f', 'z', 'x', 'j', 'y', 'd', 'i', 'b']\n"
     ]
    },
    {
     "name": "stdin",
     "output_type": "stream",
     "text": [
      "Is this this correct answer?(Y/N) n\n"
     ]
    },
    {
     "name": "stdout",
     "output_type": "stream",
     "text": [
      "['e', 'h', 'e', 'g', 'a', 'y', 'k', 'z', 'e', 'j', 'c']\n"
     ]
    },
    {
     "name": "stdin",
     "output_type": "stream",
     "text": [
      "Is this this correct answer?(Y/N) n\n"
     ]
    },
    {
     "name": "stdout",
     "output_type": "stream",
     "text": [
      "['f', 'i', 'f', 'h', 'b', 'z', 'l', 'a', 'f', 'k', 'd']\n"
     ]
    },
    {
     "name": "stdin",
     "output_type": "stream",
     "text": [
      "Is this this correct answer?(Y/N) n\n"
     ]
    },
    {
     "name": "stdout",
     "output_type": "stream",
     "text": [
      "['g', 'j', 'g', 'i', 'c', 'a', 'm', 'b', 'g', 'l', 'e']\n"
     ]
    },
    {
     "name": "stdin",
     "output_type": "stream",
     "text": [
      "Is this this correct answer?(Y/N) n\n"
     ]
    },
    {
     "name": "stdout",
     "output_type": "stream",
     "text": [
      "['h', 'k', 'h', 'j', 'd', 'b', 'n', 'c', 'h', 'm', 'f']\n"
     ]
    },
    {
     "name": "stdin",
     "output_type": "stream",
     "text": [
      "Is this this correct answer?(Y/N) n\n"
     ]
    },
    {
     "name": "stdout",
     "output_type": "stream",
     "text": [
      "['i', 'l', 'i', 'k', 'e', 'c', 'o', 'd', 'i', 'n', 'g']\n"
     ]
    },
    {
     "name": "stdin",
     "output_type": "stream",
     "text": [
      "Is this this correct answer?(Y/N) Y\n"
     ]
    }
   ],
   "source": [
    "List_alpha = [\"a\", \"b\", \"c\", \"d\", \"e\", \"f\", \"g\", \"h\", \"i\", \"j\", \"k\", \"l\", \"m\", \"n\",\n",
    "             \"o\", \"p\", \"q\", \"r\", \"s\", \"t\", \"u\", \"v\", \"w\", \"x\", \"y\", \"z\"]\n",
    "cipher = [\"b\", \"e\", \"b\", \"d\", \"x\", \"v\", \"h\", \"w\", \"b\", \"g\", \"z\"]\n",
    "n = 1\n",
    "letters = []\n",
    "c_ind = 0\n",
    "index = 0\n",
    "t = None\n",
    "while n <= 10:\n",
    "    c_ind = 0\n",
    "    while c_ind < len(cipher):\n",
    "        num = cipher[c_ind]\n",
    "        index = 0\n",
    "        while t != num:\n",
    "            t = List_alpha[index]\n",
    "            index += 1\n",
    "        if index + n - 1 > 25:\n",
    "            a_letter = List_alpha[index + n - 1 - 26]\n",
    "        else:\n",
    "            a_letter = List_alpha[index + n - 1]\n",
    "        t = None\n",
    "        letters.append(a_letter)\n",
    "        c_ind += 1\n",
    "    print(letters)\n",
    "    confirm = input(\"Is this this correct answer?(Y/N)\")\n",
    "    if confirm == \"Y\":\n",
    "        break\n",
    "    letters = []\n",
    "    n += 1"
   ]
  },
  {
   "cell_type": "code",
   "execution_count": 1,
   "id": "sapphire-ancient",
   "metadata": {},
   "outputs": [
    {
     "name": "stdout",
     "output_type": "stream",
     "text": [
      "['k', 'n', 'q', 'x', 'g', 'v', 'g', 'p', 'p', 'k', 'u']\n"
     ]
    },
    {
     "name": "stdin",
     "output_type": "stream",
     "text": [
      "Is this this correct answer?(Y/N) n\n"
     ]
    },
    {
     "name": "stdout",
     "output_type": "stream",
     "text": [
      "['j', 'm', 'p', 'w', 'f', 'u', 'f', 'o', 'o', 'j', 't']\n"
     ]
    },
    {
     "name": "stdin",
     "output_type": "stream",
     "text": [
      "Is this this correct answer?(Y/N) n\n"
     ]
    },
    {
     "name": "stdout",
     "output_type": "stream",
     "text": [
      "['i', 'l', 'o', 'v', 'e', 't', 'e', 'n', 'n', 'i', 's']\n"
     ]
    },
    {
     "name": "stdin",
     "output_type": "stream",
     "text": [
      "Is this this correct answer?(Y/N) Y\n"
     ]
    }
   ],
   "source": [
    "List_alpha = [\"a\", \"b\", \"c\", \"d\", \"e\", \"f\", \"g\", \"h\", \"i\", \"j\", \"k\", \"l\", \"m\", \"n\",\n",
    "             \"o\", \"p\", \"q\", \"r\", \"s\", \"t\", \"u\", \"v\", \"w\", \"x\", \"y\", \"z\"]\n",
    "cipher = [\"l\", \"o\", \"r\", \"y\", \"h\", \"w\", \"h\", \"q\", \"q\", \"l\", \"v\"]\n",
    "n = 1\n",
    "letters = []\n",
    "c_ind = 0\n",
    "index = 0\n",
    "t = None\n",
    "while n <= 26:\n",
    "    c_ind = 0\n",
    "    while c_ind < len(cipher):\n",
    "        num = cipher[c_ind]\n",
    "        index = 0\n",
    "        while t != num:\n",
    "            t = List_alpha[index]\n",
    "            index += 1\n",
    "        if index - n - 1 < 0:\n",
    "            a_letter = List_alpha[index - n - 1 + 26]\n",
    "        else:\n",
    "            a_letter = List_alpha[index - n - 1]\n",
    "        t = None\n",
    "        letters.append(a_letter)\n",
    "        c_ind += 1\n",
    "    print(letters)\n",
    "    confirm = input(\"Is this this correct answer?(Y/N)\")\n",
    "    if confirm == \"Y\":\n",
    "        break\n",
    "    letters = []\n",
    "    n += 1"
   ]
  },
  {
   "cell_type": "code",
   "execution_count": 3,
   "id": "identical-continent",
   "metadata": {},
   "outputs": [
    {
     "name": "stdout",
     "output_type": "stream",
     "text": [
      "['y', 'i', 'e', 'g', 'l', 'q', 'i', 'l', 's', 'a', 'x', 's', 't', 'v', 's', 'k', 'v', 'e', 'q']\n"
     ]
    },
    {
     "name": "stdin",
     "output_type": "stream",
     "text": [
      "Is this this correct answer?(Y/N) n\n"
     ]
    },
    {
     "name": "stdout",
     "output_type": "stream",
     "text": [
      "['x', 'h', 'd', 'f', 'k', 'p', 'h', 'k', 'r', 'z', 'w', 'r', 's', 'u', 'r', 'j', 'u', 'd', 'p']\n"
     ]
    },
    {
     "name": "stdin",
     "output_type": "stream",
     "text": [
      "Is this this correct answer?(Y/N) n\n"
     ]
    },
    {
     "name": "stdout",
     "output_type": "stream",
     "text": [
      "['w', 'g', 'c', 'e', 'j', 'o', 'g', 'j', 'q', 'y', 'v', 'q', 'r', 't', 'q', 'i', 't', 'c', 'o']\n"
     ]
    },
    {
     "name": "stdin",
     "output_type": "stream",
     "text": [
      "Is this this correct answer?(Y/N) n\n"
     ]
    },
    {
     "name": "stdout",
     "output_type": "stream",
     "text": [
      "['v', 'f', 'b', 'd', 'i', 'n', 'f', 'i', 'p', 'x', 'u', 'p', 'q', 's', 'p', 'h', 's', 'b', 'n']\n"
     ]
    },
    {
     "name": "stdin",
     "output_type": "stream",
     "text": [
      "Is this this correct answer?(Y/N) n\n"
     ]
    },
    {
     "name": "stdout",
     "output_type": "stream",
     "text": [
      "['u', 'e', 'a', 'c', 'h', 'm', 'e', 'h', 'o', 'w', 't', 'o', 'p', 'r', 'o', 'g', 'r', 'a', 'm']\n"
     ]
    },
    {
     "name": "stdin",
     "output_type": "stream",
     "text": [
      "Is this this correct answer?(Y/N) n\n"
     ]
    },
    {
     "name": "stdout",
     "output_type": "stream",
     "text": [
      "['t', 'd', 'z', 'b', 'g', 'l', 'd', 'g', 'n', 'v', 's', 'n', 'o', 'q', 'n', 'f', 'q', 'z', 'l']\n"
     ]
    },
    {
     "name": "stdin",
     "output_type": "stream",
     "text": [
      "Is this this correct answer?(Y/N) n\n"
     ]
    },
    {
     "name": "stdout",
     "output_type": "stream",
     "text": [
      "['s', 'c', 'y', 'a', 'f', 'k', 'c', 'f', 'm', 'u', 'r', 'm', 'n', 'p', 'm', 'e', 'p', 'y', 'k']\n"
     ]
    },
    {
     "name": "stdin",
     "output_type": "stream",
     "text": [
      "Is this this correct answer?(Y/N) n\n"
     ]
    },
    {
     "name": "stdout",
     "output_type": "stream",
     "text": [
      "['r', 'b', 'x', 'z', 'e', 'j', 'b', 'e', 'l', 't', 'q', 'l', 'm', 'o', 'l', 'd', 'o', 'x', 'j']\n"
     ]
    },
    {
     "name": "stdin",
     "output_type": "stream",
     "text": [
      "Is this this correct answer?(Y/N) n\n"
     ]
    },
    {
     "name": "stdout",
     "output_type": "stream",
     "text": [
      "['q', 'a', 'w', 'y', 'd', 'i', 'a', 'd', 'k', 's', 'p', 'k', 'l', 'n', 'k', 'c', 'n', 'w', 'i']\n"
     ]
    },
    {
     "name": "stdin",
     "output_type": "stream",
     "text": [
      "Is this this correct answer?(Y/N) n\n"
     ]
    },
    {
     "name": "stdout",
     "output_type": "stream",
     "text": [
      "['p', 'z', 'v', 'x', 'c', 'h', 'z', 'c', 'j', 'r', 'o', 'j', 'k', 'm', 'j', 'b', 'm', 'v', 'h']\n"
     ]
    },
    {
     "name": "stdin",
     "output_type": "stream",
     "text": [
      "Is this this correct answer?(Y/N) n\n"
     ]
    },
    {
     "name": "stdout",
     "output_type": "stream",
     "text": [
      "['o', 'y', 'u', 'w', 'b', 'g', 'y', 'b', 'i', 'q', 'n', 'i', 'j', 'l', 'i', 'a', 'l', 'u', 'g']\n"
     ]
    },
    {
     "name": "stdin",
     "output_type": "stream",
     "text": [
      "Is this this correct answer?(Y/N) n\n"
     ]
    },
    {
     "name": "stdout",
     "output_type": "stream",
     "text": [
      "['n', 'x', 't', 'v', 'a', 'f', 'x', 'a', 'h', 'p', 'm', 'h', 'i', 'k', 'h', 'z', 'k', 't', 'f']\n"
     ]
    },
    {
     "name": "stdin",
     "output_type": "stream",
     "text": [
      "Is this this correct answer?(Y/N) n\n"
     ]
    },
    {
     "name": "stdout",
     "output_type": "stream",
     "text": [
      "['m', 'w', 's', 'u', 'z', 'e', 'w', 'z', 'g', 'o', 'l', 'g', 'h', 'j', 'g', 'y', 'j', 's', 'e']\n"
     ]
    },
    {
     "name": "stdin",
     "output_type": "stream",
     "text": [
      "Is this this correct answer?(Y/N) n\n"
     ]
    },
    {
     "name": "stdout",
     "output_type": "stream",
     "text": [
      "['l', 'v', 'r', 't', 'y', 'd', 'v', 'y', 'f', 'n', 'k', 'f', 'g', 'i', 'f', 'x', 'i', 'r', 'd']\n"
     ]
    },
    {
     "name": "stdin",
     "output_type": "stream",
     "text": [
      "Is this this correct answer?(Y/N) n\n"
     ]
    },
    {
     "name": "stdout",
     "output_type": "stream",
     "text": [
      "['k', 'u', 'q', 's', 'x', 'c', 'u', 'x', 'e', 'm', 'j', 'e', 'f', 'h', 'e', 'w', 'h', 'q', 'c']\n"
     ]
    },
    {
     "name": "stdin",
     "output_type": "stream",
     "text": [
      "Is this this correct answer?(Y/N) n\n"
     ]
    },
    {
     "name": "stdout",
     "output_type": "stream",
     "text": [
      "['j', 't', 'p', 'r', 'w', 'b', 't', 'w', 'd', 'l', 'i', 'd', 'e', 'g', 'd', 'v', 'g', 'p', 'b']\n"
     ]
    },
    {
     "name": "stdin",
     "output_type": "stream",
     "text": [
      "Is this this correct answer?(Y/N) n\n"
     ]
    },
    {
     "name": "stdout",
     "output_type": "stream",
     "text": [
      "['i', 's', 'o', 'q', 'v', 'a', 's', 'v', 'c', 'k', 'h', 'c', 'd', 'f', 'c', 'u', 'f', 'o', 'a']\n"
     ]
    },
    {
     "name": "stdin",
     "output_type": "stream",
     "text": [
      "Is this this correct answer?(Y/N) n\n"
     ]
    },
    {
     "name": "stdout",
     "output_type": "stream",
     "text": [
      "['h', 'r', 'n', 'p', 'u', 'z', 'r', 'u', 'b', 'j', 'g', 'b', 'c', 'e', 'b', 't', 'e', 'n', 'z']\n"
     ]
    },
    {
     "name": "stdin",
     "output_type": "stream",
     "text": [
      "Is this this correct answer?(Y/N) n\n"
     ]
    },
    {
     "name": "stdout",
     "output_type": "stream",
     "text": [
      "['g', 'q', 'm', 'o', 't', 'y', 'q', 't', 'a', 'i', 'f', 'a', 'b', 'd', 'a', 's', 'd', 'm', 'y']\n"
     ]
    },
    {
     "name": "stdin",
     "output_type": "stream",
     "text": [
      "Is this this correct answer?(Y/N) n\n"
     ]
    },
    {
     "name": "stdout",
     "output_type": "stream",
     "text": [
      "['f', 'p', 'l', 'n', 's', 'x', 'p', 's', 'z', 'h', 'e', 'z', 'a', 'c', 'z', 'r', 'c', 'l', 'x']\n"
     ]
    },
    {
     "name": "stdin",
     "output_type": "stream",
     "text": [
      "Is this this correct answer?(Y/N) n\n"
     ]
    },
    {
     "name": "stdout",
     "output_type": "stream",
     "text": [
      "['e', 'o', 'k', 'm', 'r', 'w', 'o', 'r', 'y', 'g', 'd', 'y', 'z', 'b', 'y', 'q', 'b', 'k', 'w']\n"
     ]
    },
    {
     "name": "stdin",
     "output_type": "stream",
     "text": [
      "Is this this correct answer?(Y/N) n\n"
     ]
    },
    {
     "name": "stdout",
     "output_type": "stream",
     "text": [
      "['d', 'n', 'j', 'l', 'q', 'v', 'n', 'q', 'x', 'f', 'c', 'x', 'y', 'a', 'x', 'p', 'a', 'j', 'v']\n"
     ]
    },
    {
     "name": "stdin",
     "output_type": "stream",
     "text": [
      "Is this this correct answer?(Y/N) n\n"
     ]
    },
    {
     "name": "stdout",
     "output_type": "stream",
     "text": [
      "['c', 'm', 'i', 'k', 'p', 'u', 'm', 'p', 'w', 'e', 'b', 'w', 'x', 'z', 'w', 'o', 'z', 'i', 'u']\n"
     ]
    },
    {
     "name": "stdin",
     "output_type": "stream",
     "text": [
      "Is this this correct answer?(Y/N) n\n"
     ]
    },
    {
     "name": "stdout",
     "output_type": "stream",
     "text": [
      "['b', 'l', 'h', 'j', 'o', 't', 'l', 'o', 'v', 'd', 'a', 'v', 'w', 'y', 'v', 'n', 'y', 'h', 't']\n"
     ]
    },
    {
     "name": "stdin",
     "output_type": "stream",
     "text": [
      "Is this this correct answer?(Y/N) n\n"
     ]
    },
    {
     "name": "stdout",
     "output_type": "stream",
     "text": [
      "['a', 'k', 'g', 'i', 'n', 's', 'k', 'n', 'u', 'c', 'z', 'u', 'v', 'x', 'u', 'm', 'x', 'g', 's']\n"
     ]
    },
    {
     "name": "stdin",
     "output_type": "stream",
     "text": [
      "Is this this correct answer?(Y/N) n\n"
     ]
    },
    {
     "name": "stdout",
     "output_type": "stream",
     "text": [
      "['z', 'j', 'f', 'h', 'm', 'r', 'j', 'm', 't', 'b', 'y', 't', 'u', 'w', 't', 'l', 'w', 'f', 'r']\n"
     ]
    },
    {
     "name": "stdin",
     "output_type": "stream",
     "text": [
      "Is this this correct answer?(Y/N) n\n"
     ]
    }
   ],
   "source": [
    "List_alpha = [\"a\", \"b\", \"c\", \"d\", \"e\", \"f\", \"g\", \"h\", \"i\", \"j\", \"k\", \"l\", \"m\", \"n\",\n",
    "             \"o\", \"p\", \"q\", \"r\", \"s\", \"t\", \"u\", \"v\", \"w\", \"x\", \"y\", \"z\"]\n",
    "cipher = [\"z\", \"j\", \"f\", \"h\", \"m\", \"r\", \"j\", \"m\", \"t\", \"b\", \"y\", \"t\", \"u\", \"w\", \"t\", \"l\", \"w\", \"f\", \"r\"]\n",
    "n = 1\n",
    "letters = []\n",
    "c_ind = 0\n",
    "index = 0\n",
    "t = None\n",
    "while n <= 26:\n",
    "    c_ind = 0\n",
    "    while c_ind < len(cipher):\n",
    "        num = cipher[c_ind]\n",
    "        index = 0\n",
    "        while t != num:\n",
    "            t = List_alpha[index]\n",
    "            index += 1\n",
    "        if index - n - 1 < 0:\n",
    "            a_letter = List_alpha[index - n - 1 + 26]\n",
    "        else:\n",
    "            a_letter = List_alpha[index - n - 1]\n",
    "        t = None\n",
    "        letters.append(a_letter)\n",
    "        c_ind += 1\n",
    "    print(letters)\n",
    "    confirm = input(\"Is this this correct answer?(Y/N)\")\n",
    "    if confirm == \"Y\":\n",
    "        break\n",
    "    letters = []\n",
    "    n += 1"
   ]
  },
  {
   "cell_type": "code",
   "execution_count": null,
   "id": "continued-dealer",
   "metadata": {},
   "outputs": [],
   "source": []
  }
 ],
 "metadata": {
  "kernelspec": {
   "display_name": "Python 3",
   "language": "python",
   "name": "python3"
  },
  "language_info": {
   "codemirror_mode": {
    "name": "ipython",
    "version": 3
   },
   "file_extension": ".py",
   "mimetype": "text/x-python",
   "name": "python",
   "nbconvert_exporter": "python",
   "pygments_lexer": "ipython3",
   "version": "3.5.4"
  }
 },
 "nbformat": 4,
 "nbformat_minor": 5
}
