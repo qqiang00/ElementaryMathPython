{
 "cells": [
  {
   "cell_type": "markdown",
   "id": "3c315c0b",
   "metadata": {},
   "source": [
    "## 第17讲 编写方法求一个数的相反数和绝对值"
   ]
  },
  {
   "cell_type": "markdown",
   "id": "cd8c8821",
   "metadata": {},
   "source": [
    "### Problem 问题描述"
   ]
  },
  {
   "cell_type": "markdown",
   "id": "fb263e55",
   "metadata": {},
   "source": [
    "编写程序计算列表`nums`里每一个元素的相反数和绝对值，并将相反数的结果依次存放在`oppos`列表里，将绝对值的结果依次存放在`abos`列表里。`nums`的值如下：\n",
    "```python\n",
    "nums = [-256, -100, -90, -5, 0, 1.73, 3.14, 16, 90, 100, 256, 512]\n",
    "```"
   ]
  },
  {
   "cell_type": "markdown",
   "id": "ab2896ef",
   "metadata": {},
   "source": [
    "### Math Background 数学背景\n",
    "\n",
    "1. 相反数和绝对值的概念和计算方法，几何意义"
   ]
  },
  {
   "cell_type": "markdown",
   "id": "0f09cf1e",
   "metadata": {
    "heading_collapsed": true
   },
   "source": [
    "### Prerequisites 预备知识"
   ]
  },
  {
   "cell_type": "markdown",
   "id": "4ec44179",
   "metadata": {},
   "source": [
    "1. 创建带有返回值的方法\n",
    "   使得调用方法的调用可以出现在赋值符号(`=`)的右侧，使调用方法得到的结果能够赋值给一个变量。\n",
    "\n",
    "   方法为什么可以有返回值，返回值的意义是什么？\n",
    "   \n",
    "   如何创建一个有实际返回值的方法？语法规则是什么？\n",
    "   \n",
    "   以计算任意两个整数之间所有整数和为例，如果方法没有返回值，我们需要在方法内部使用`print`语句打印输出得到的结果：\n",
    "   \n",
    "以Yunzi小朋友的弟弟Yunlei打扫卫生为例：\n",
    "   "
   ]
  },
  {
   "cell_type": "code",
   "execution_count": 79,
   "id": "b2391df8",
   "metadata": {},
   "outputs": [],
   "source": [
    "def goto_room(room):\n",
    "    print(\"[yunlei goto {}]\".format(room))\n",
    "    \n",
    "def take(tool):\n",
    "    print(\"[yunlei take the tool {}]\".format(tool))\n",
    "    \n",
    "def clean_floor(dongxi):\n",
    "    print(\"[prepare to clean]\")\n",
    "    toulan(6) # 6 seconds\n",
    "    print(\"[yunlei is cleaning {} on the floor]\".format(dongxi))\n",
    "    \n",
    "def clean_wall():\n",
    "    print(\"[yun lei is cleaning wall]\")\n",
    "    \n",
    "def pay_yunlei():\n",
    "    print(\"[yunlei got money from yunzi]\")\n",
    "    \n",
    "def report_to_yunzi():\n",
    "    print(\"[yunlei told yunzi, clean now!]\")\n",
    "    \n",
    "def toulan(duration):\n",
    "    print(\"[wo zhengzai shuidajiao]\")\n",
    "    time.sleep(duration)\n"
   ]
  },
  {
   "cell_type": "code",
   "execution_count": 80,
   "id": "dec44709",
   "metadata": {},
   "outputs": [],
   "source": [
    "import time \n",
    "def dasaoweisheng(dongxi, \n",
    "                  room, \n",
    "                  is_wall_need, \n",
    "                  tool, \n",
    "                  time_limit,   # minute\n",
    "                  need_pay,\n",
    "                  need_report_after\n",
    "                 ):\n",
    "    start_time = time.time()\n",
    "    print(\"start cleaning at {}\".format(start_time))\n",
    "    goto_room(room)\n",
    "    take(tool)\n",
    "    clean_floor(dongxi)\n",
    "    if is_wall_need:\n",
    "        clean_wall()\n",
    "        \n",
    "    end_time = time.time()\n",
    "    print(\"end time: {}\".format(end_time))\n",
    "    \n",
    "    print(\"time cost: {}\".format(end_time - start_time))\n",
    "    if end_time - start_time < time_limit:\n",
    "        # meiyou chaoshi\n",
    "        print(\"Well done! meiyou chaoshi le yunlei\")\n",
    "    else:\n",
    "        # chaoshi\n",
    "        # ....\n",
    "        print(\"chaoshile\")\n",
    "    \n",
    "    if need_pay:\n",
    "        pay_yunlei()\n",
    "    \n",
    "    if need_report_after:\n",
    "        report_to_yunzi()\n",
    "        \n",
    "    return "
   ]
  },
  {
   "cell_type": "code",
   "execution_count": 81,
   "id": "aa24ec37",
   "metadata": {},
   "outputs": [
    {
     "name": "stdout",
     "output_type": "stream",
     "text": [
      "start cleaning at 1630162417.6821954\n",
      "[yunlei goto yunzi_bed_room]\n",
      "[yunlei take the tool box]\n",
      "[prepare to clean]\n",
      "[wo zhengzai shuidajiao]\n",
      "[yunlei is cleaning books on the floor]\n",
      "end time: 1630162423.6891494\n",
      "time cost: 6.006953954696655\n",
      "Well done! meiyou chaoshi le yunlei\n",
      "[yunlei told yunzi, clean now!]\n"
     ]
    }
   ],
   "source": [
    "dasaoweisheng(\"books\", \"yunzi_bed_room\", False, \"box\", 7, False, True)"
   ]
  },
  {
   "cell_type": "markdown",
   "id": "a68dbe7c",
   "metadata": {},
   "source": [
    "完成一个运算的方法，在方法内部可以仅执行一些计算，而不必要执行显示最终数据的任务，也就是说方法内部可以而且应该不需要使用`print`语句来显示最终得到的结果，这个结果应该可以直接拿来使用或者赋值给某一个变量，为此可以给方法的最后添加一个语句来返回这个结果至方法外部。"
   ]
  },
  {
   "cell_type": "code",
   "execution_count": 82,
   "id": "2c7551f9",
   "metadata": {},
   "outputs": [],
   "source": [
    "def dasaoweisheng_silently(dongxi, \n",
    "                           room, \n",
    "                           is_wall_need, \n",
    "                           tool, \n",
    "                           time_limit,   # seconds\n",
    "                           need_pay,\n",
    "                           need_report_after\n",
    "                           ):\n",
    "    start_time = time.time()\n",
    "    goto_room(room)\n",
    "    take(tool)\n",
    "    clean_floor(dongxi)\n",
    "    if is_wall_need:\n",
    "        clean_wall()\n",
    "        \n",
    "    end_time = time.time()\n",
    "    time_cost = end_time - start_time\n",
    "    is_delayed = None\n",
    "    if time_cost <= time_limit:\n",
    "        # meiyou chaoshi\n",
    "        is_delayed = False\n",
    "    else:\n",
    "        is_delayed = True\n",
    "        pass\n",
    "    \n",
    "    if need_pay:\n",
    "        pay_yunlei()\n",
    "    \n",
    "    if need_report_after:\n",
    "        report_to_yunzi()\n",
    "        \n",
    "    return is_delayed"
   ]
  },
  {
   "cell_type": "code",
   "execution_count": 83,
   "id": "41ad7e45",
   "metadata": {},
   "outputs": [
    {
     "name": "stdout",
     "output_type": "stream",
     "text": [
      "[yunlei goto yunzi_bed_room]\n",
      "[yunlei take the tool box]\n",
      "[prepare to clean]\n",
      "[wo zhengzai shuidajiao]\n",
      "[yunlei is cleaning books on the floor]\n",
      "[yunlei told yunzi, clean now!]\n"
     ]
    },
    {
     "data": {
      "text/plain": [
       "True"
      ]
     },
     "execution_count": 83,
     "metadata": {},
     "output_type": "execute_result"
    }
   ],
   "source": [
    "dasaoweisheng_silently(\"books\", \"yunzi_bed_room\", False, \"box\", 6, False, True)"
   ]
  },
  {
   "cell_type": "code",
   "execution_count": 84,
   "id": "93e6a304",
   "metadata": {},
   "outputs": [
    {
     "name": "stdout",
     "output_type": "stream",
     "text": [
      "[yunlei goto daddy_bed_room]\n",
      "[yunlei take the tool box]\n",
      "[prepare to clean]\n",
      "[wo zhengzai shuidajiao]\n",
      "[yunlei is cleaning shoes on the floor]\n",
      "[yunlei told yunzi, clean now!]\n",
      "False\n"
     ]
    }
   ],
   "source": [
    "is_yunlei_delayed = dasaoweisheng_silently(\"shoes\", \"daddy_bed_room\", False, \"box\", 10, False, True)\n",
    "print(is_yunlei_delayed)"
   ]
  },
  {
   "cell_type": "markdown",
   "id": "72d323ad",
   "metadata": {},
   "source": [
    "2. 一个数的相反数是这个数乘以-1的结果，一个正数的绝对值是这个数自己，一个负数的绝对值是这个数的相反数，0的相反数和绝对值都还是0。\n",
    "\n",
    "   下面的方法把`print`包括在方法内部了。"
   ]
  },
  {
   "cell_type": "code",
   "execution_count": 66,
   "id": "81e7795e",
   "metadata": {},
   "outputs": [],
   "source": [
    "def oppo_print(num):\n",
    "    result = -1 * num\n",
    "    print(\"{} 的相反数是 {}\".format(num, result))\n",
    "    return"
   ]
  },
  {
   "cell_type": "code",
   "execution_count": 67,
   "id": "68501924",
   "metadata": {},
   "outputs": [
    {
     "name": "stdout",
     "output_type": "stream",
     "text": [
      "3 的相反数是 -3\n",
      "-2 的相反数是 2\n",
      "0 的相反数是 0\n"
     ]
    }
   ],
   "source": [
    "oppo_print(3)\n",
    "oppo_print(-2)\n",
    "oppo_print(0)"
   ]
  },
  {
   "cell_type": "code",
   "execution_count": 70,
   "id": "cc933293",
   "metadata": {},
   "outputs": [],
   "source": [
    "def abs_print(num):\n",
    "    result = num\n",
    "    if num < 0:\n",
    "        result = -1 * num\n",
    "    print(\"{}的绝对值是{}\".format(num, result))\n",
    "    return"
   ]
  },
  {
   "cell_type": "code",
   "execution_count": 69,
   "id": "29360774",
   "metadata": {},
   "outputs": [
    {
     "name": "stdout",
     "output_type": "stream",
     "text": [
      "3的绝对值是3\n",
      "-2的绝对值是2\n",
      "0的绝对值是0\n"
     ]
    }
   ],
   "source": [
    "abs_print(3)\n",
    "abs_print(-2)\n",
    "abs_print(0)"
   ]
  },
  {
   "cell_type": "code",
   "execution_count": 71,
   "id": "25eda2e9",
   "metadata": {},
   "outputs": [],
   "source": [
    "# simplified abs_print method\n",
    "def abs2_print(num):\n",
    "    result = num if num >= 0 else -1 * num\n",
    "    print(\"{}的绝对值是{}\".format(num, result))"
   ]
  },
  {
   "cell_type": "code",
   "execution_count": 72,
   "id": "c08344ea",
   "metadata": {},
   "outputs": [
    {
     "name": "stdout",
     "output_type": "stream",
     "text": [
      "3的绝对值是3\n",
      "-2的绝对值是2\n",
      "0的绝对值是0\n"
     ]
    }
   ],
   "source": [
    "abs2_print(3)\n",
    "abs2_print(-2)\n",
    "abs2_print(0)"
   ]
  },
  {
   "cell_type": "markdown",
   "id": "690e81e2",
   "metadata": {},
   "source": [
    "### Solution 编程求解"
   ]
  },
  {
   "cell_type": "code",
   "execution_count": 74,
   "id": "e1636414",
   "metadata": {},
   "outputs": [],
   "source": [
    "def oppo(num):\n",
    "    return -1 * num\n",
    "\n",
    "def abso(num):\n",
    "    return num if num >= 0 else -1 * num\n",
    "\n",
    "def abso2(num):\n",
    "    return num if num >= 0 else oppo(num)"
   ]
  },
  {
   "cell_type": "code",
   "execution_count": 75,
   "id": "18fdf924",
   "metadata": {},
   "outputs": [
    {
     "name": "stdout",
     "output_type": "stream",
     "text": [
      "[-256, -100, -90, -5, 0, 1.73, 3.14, 16, 90, 100, 256, 512]\n",
      "[256, 100, 90, 5, 0, -1.73, -3.14, -16, -90, -100, -256, -512]\n",
      "[256, 100, 90, 5, 0, 1.73, 3.14, 16, 90, 100, 256, 512]\n",
      "-256的相反数是256, 绝对值是256\n",
      "-100的相反数是100, 绝对值是100\n",
      "-90的相反数是90, 绝对值是90\n",
      "-5的相反数是5, 绝对值是5\n",
      "0的相反数是0, 绝对值是0\n",
      "1.73的相反数是-1.73, 绝对值是1.73\n",
      "3.14的相反数是-3.14, 绝对值是3.14\n",
      "16的相反数是-16, 绝对值是16\n",
      "90的相反数是-90, 绝对值是90\n",
      "100的相反数是-100, 绝对值是100\n",
      "256的相反数是-256, 绝对值是256\n",
      "512的相反数是-512, 绝对值是512\n"
     ]
    }
   ],
   "source": [
    "nums = [-256, -100, -90, -5, 0, 1.73, 3.14, 16, 90, 100, 256, 512]\n",
    "oppos = []\n",
    "absos = []\n",
    "\n",
    "for num in nums:\n",
    "    oppo_num = oppo(num)\n",
    "    oppos.append(oppo_num)\n",
    "    \n",
    "    abso_num = abso(num)\n",
    "    absos.append(abso_num)\n",
    "    \n",
    "print(nums)\n",
    "print(oppos)\n",
    "print(absos)\n",
    "\n",
    "for i in range(len(nums)):\n",
    "    print(\"{}的相反数是{}, 绝对值是{}\".format(nums[i], oppos[i], absos[i]))"
   ]
  },
  {
   "cell_type": "markdown",
   "id": "61cd4001",
   "metadata": {},
   "source": [
    "### Summary 知识点小结"
   ]
  },
  {
   "cell_type": "markdown",
   "id": "3527aff2",
   "metadata": {},
   "source": [
    "1. 进一步理解创建方法的意义，如何声明和实现一个方法\n",
    "2. 给方法添加的返回值，返回值在程序中的作用\n",
    "3. `range`的使用\n",
    "4. 在一行代码中编写简单的条件语句代码\n",
    "5. 复习list变量的使用，append方法\n",
    "6. 复习`while`和`for`循环及其区别"
   ]
  },
  {
   "cell_type": "markdown",
   "id": "7464d4be",
   "metadata": {},
   "source": [
    "### 计算机小知识"
   ]
  },
  {
   "cell_type": "markdown",
   "id": "66d03cf0",
   "metadata": {},
   "source": [
    "暂缺"
   ]
  },
  {
   "cell_type": "markdown",
   "id": "dab86918",
   "metadata": {
    "heading_collapsed": true
   },
   "source": [
    "### Assignments 作业"
   ]
  },
  {
   "cell_type": "markdown",
   "id": "e6ddf725",
   "metadata": {
    "hidden": true
   },
   "source": [
    "1. Implement a method:`square` that receives one **int** or **float** argument `x`. This method will calculate the square of `x`, take `square` as the resturn value of this method. run this method with the argument value as each element in the list `nums` below, put each square to a new list `squares`. in order. Finally, print out `squares` list. <br>\n",
    "   实现一个名为`square`的方法，这个方法接受一个名为`x`的参数，它计算`x`的平方(自己和自己相乘）并将结果作为方法的返回值。把`nums`列表型变量里的每一个元素作为参数送入并运行该方法，将得到的结果作为元素放入一个新的列表型变量`squares`。最后打印这个`squares`变量。<br>\n",
    "   Note: You only need to implement the method. all other codes are already provided. <br>\n",
    "   注：你只需要声明方法，其他的代码已经给出"
   ]
  },
  {
   "cell_type": "code",
   "execution_count": 7,
   "id": "7aa9ff3b",
   "metadata": {
    "hidden": true
   },
   "outputs": [],
   "source": [
    "def square(x):\n",
    "    nums = x * x\n",
    "    print(\"{}的平方是{}。\".format(x, nums))\n",
    "    pass\n",
    "    # TODO: add your code here to complete this method"
   ]
  },
  {
   "cell_type": "markdown",
   "id": "9bbcdd94-cf8a-4b1c-86a1-91999eeebf0e",
   "metadata": {},
   "source": [
    "**<div style=\"color:red\">点评：square(x)方法应该有返回值，且不需要在该方法里调用`print`方法。</div>**"
   ]
  },
  {
   "cell_type": "code",
   "execution_count": 8,
   "id": "a54cd819",
   "metadata": {},
   "outputs": [
    {
     "name": "stdout",
     "output_type": "stream",
     "text": [
      "0的平方是0。\n",
      "1的平方是1。\n",
      "2的平方是4。\n",
      "3的平方是9。\n",
      "4的平方是16。\n",
      "5的平方是25。\n",
      "6的平方是36。\n",
      "7的平方是49。\n",
      "8的平方是64。\n",
      "9的平方是81。\n",
      "10的平方是100。\n",
      "3.14的平方是9.8596。\n",
      "[None, None, None, None, None, None, None, None, None, None, None, None]\n"
     ]
    }
   ],
   "source": [
    "# Don't modify any code in this cell\n",
    "# 不要修改任何本单元格中的代码\n",
    "\n",
    "nums = [0, 1, 2, 3, 4, 5, 6, 7, 8, 9, 10, 3.14]\n",
    "squares = []\n",
    "for num in nums:\n",
    "    result = square(num)\n",
    "    squares.append(result)\n",
    "    \n",
    "print(squares)"
   ]
  },
  {
   "cell_type": "markdown",
   "id": "1654b288",
   "metadata": {},
   "source": [
    "2. Implement a method:`square_on_list` that receives one **list** argument `x`. This method will calculate the square of each element in `x`, and put the result into a new list. Finally, the method returns this new list. <br>\n",
    "   实现一个名为`square_on_list`的方法，这个方法接受一个列表型参数：`x`，该方法计算`x`的每一个元素的平方并将结果组成一个新的列表性变量，并把这个新的变量作为方法的返回值。<br>\n",
    "   Note: You only need to implement the method. all other codes, include the original list variable `nums`,  are already provided. <br>\n",
    "   注：你只需要声明方法，其他的代码(包括原始列表变量`nums`)已经给出。"
   ]
  },
  {
   "cell_type": "code",
   "execution_count": 43,
   "id": "de6b0fdb",
   "metadata": {},
   "outputs": [],
   "source": [
    "def square_on_list(x):\n",
    "    pass\n",
    "    # TODO：add your code here\n",
    "    \n"
   ]
  },
  {
   "cell_type": "code",
   "execution_count": 44,
   "id": "b99e3e94",
   "metadata": {},
   "outputs": [
    {
     "name": "stdout",
     "output_type": "stream",
     "text": [
      "None\n"
     ]
    }
   ],
   "source": [
    "# Don't modify any code in this cell\n",
    "# 不要修改任何本单元格中的代码\n",
    "\n",
    "nums = [0, 1, 2, 3, 4, 5, 6, 7, 8, 9, 10, 3.14]\n",
    "squares = square_on_list(nums)\n",
    "print(squares)"
   ]
  },
  {
   "cell_type": "markdown",
   "id": "d8e34baa",
   "metadata": {},
   "source": [
    "3. 圆的周长公式为:<br>\n",
    "   The formular for calculating circumference of a circle defined by a radius is:\n",
    "   $$C =2 \\pi  r$$\n",
    "   其中$r$是圆的半径，$\\pi$是圆周率，值约为3.14，表示的是圆的周长与直径的的比值。圆的直径是圆上任意两个点的距离的最大值，圆的直径是半径的两倍。<br>\n",
    "   where $\\pi$ is the ratio of the circumference of a circle to its diameter, Its value is approximately equal to 3.14. The diameter of a circle is the maximum value of the distance between any two points on the circle, The radius of a circle is half of the diameters.<br>\n",
    "\n",
    "   <img src=\"figures/L017_circle_diameter_radius.png\" width=\"300px\"/>\n",
    "   \n",
    "   现在有50个圆，其半径分别为下列一组数据：<br>\n",
    "   Here are 50 circles with radius values given below:<br>\n",
    "   ```python\n",
    "   [30.48, 28.66, 49.76, 23.95, 21.96, 49.82, 38.55, 30.95, 22.63, 38.55, 47.91, 47.54, 49.41, 21.18, 40.41, 42.77, 24.52, 24.52, 30.39, 29.97, 22.57, 29.09, 33.31, 40.26, 49.88, 31.52, 42.23, 27.66, 32.01, 48.19, 32.92, 37.53, 35.61, 49.8, 35.55, 38.98, 32.59, 48.98, 35.02, 23.97, 27.55, 31.84, 41.39, 24.61, 31.27, 24.94, 49.23, 39.81, 48.12, 21.91]\n",
    "   ```\n",
    "   请你编写一个方法专门计算一个给定半径的圆的周长，并编写其他的程序来调用你编写的方法来，来找出上面所有的圆中周长最大的一个圆其半径是多少？其对应的周长是多少？<br>\n",
    "   Please create(define and implement) a method to calculate the circumference of a circle given by a radius value. Writer some other codes to run your method and finally find the circle whose circumference is the largest. Give the value of the radius and circumference of the circle."
   ]
  },
  {
   "cell_type": "code",
   "execution_count": 49,
   "id": "97321430",
   "metadata": {
    "tags": []
   },
   "outputs": [
    {
     "name": "stdout",
     "output_type": "stream",
     "text": [
      "[191.4144, 179.9848, 312.4928, 150.406, 137.9088, 312.8696, 242.094, 194.366, 142.1164, 242.094, 300.8748, 298.5512, 310.2948, 133.0104, 253.7748, 268.59560000000005, 153.9856, 153.9856, 190.84920000000002, 188.2116, 141.7396, 182.6852, 209.18680000000003, 252.8328, 313.24640000000005, 197.9456, 265.20439999999996, 173.7048, 201.0228, 302.6332, 206.73760000000001, 235.68840000000003, 223.6308, 312.74399999999997, 223.254, 244.7944, 204.66520000000003, 307.5944, 219.92560000000003, 150.5316, 173.014, 199.95520000000002, 259.92920000000004, 154.5508, 196.3756, 156.62320000000003, 309.1644, 250.00680000000003, 302.1936, 137.5948]\n",
      "列表里最大的圆的半径是49.88, 其对应的周长是313.24640000000005\n"
     ]
    }
   ],
   "source": [
    "# You need to define, implement, and invoke the method all by yourself to answer this question.\n",
    "# 你需要独自声明、实现、和调用这个方法来完成本题\n",
    "def circle():\n",
    "    radius = [30.48, 28.66, 49.76, 23.95, 21.96, 49.82, 38.55, 30.95, 22.63,\n",
    "               38.55, 47.91, 47.54, 49.41, 21.18, 40.41, 42.77, 24.52, 24.52,\n",
    "               30.39, 29.97, 22.57, 29.09, 33.31, 40.26, 49.88, 31.52, 42.23,\n",
    "               27.66, 32.01, 48.19, 32.92, 37.53, 35.61, 49.8, 35.55, 38.98,\n",
    "               32.59, 48.98, 35.02, 23.97, 27.55, 31.84, 41.39, 24.61, 31.27,\n",
    "               24.94, 49.23, 39.81, 48.12, 21.91]\n",
    "    circumference = [r * 2 * 3.14 for r in radius]\n",
    "    print(circumference)\n",
    "    longest = max(radius) \n",
    "    print(\"列表里最大的圆的半径是{}, 其对应的周长是{}\".format(longest, longest * 2 * 3.14))\n",
    "    return\n",
    "\n",
    " \n",
    "    \n",
    "    \n",
    "# Start your code here\n",
    "# 开始你的代码\n",
    "circle()\n",
    "\n",
    "\n"
   ]
  },
  {
   "cell_type": "markdown",
   "id": "a3e7de7f-d63a-4b64-9381-21e393c41bb4",
   "metadata": {},
   "source": [
    "**<div style=\"color:red\">点评：没有仔细审题：需要创建的方法应该接受一个参数，这个参数表示的是圆的半径，这个方法内部使用这个半径值计算周长并返回周长。我们最近在学习的内容就是创建方法。你目前的代码用的是之前的知识，没有用到最近学习的如何创建方法以及如何让方法有一个返回值</div>**"
   ]
  },
  {
   "cell_type": "markdown",
   "id": "50600907",
   "metadata": {},
   "source": [
    "4. （难，选做）Jason, Sophie, Tony, Yunzi 四个人的身高分别为: 150, 125, 130, 146 (单位均为厘米),请编写一个方法使其能够完成：将这四个人的身高数据按照从大到小的顺序排列。对创建的这个方法的要求如下：<br>\n",
    "    (hard, optional) The heights of the four classmates(Jason, Sophie, Tony, and Yunzi) are 150, 125, 130, and 146 (unit: cm). Please implement a method to sort the heights data in a descending order. Here are the requirements for the method you will implement:<br> \n",
    "   - 方法名已给出: `sort_height`. The method name is given: `sort_height`.\n",
    "   - 该方法接受一个列表型变量参数，该列表型变量的长度可以不限定为本题的4（4代表4个小朋友的身高数据）The method receives one list argument, the length of which is not limited by 4 (4 represents 4 classmates) in this question.\n",
    "   - 该方法返回一个列表型变量，其元素是按照从大到小的顺序排列。 The method returns a new list variable, the element of which is sorted in a descending order.\n",
    "   \n",
    "   你仅需要编写这个方法实现部分，调用以及验证你写的方法的代码已经给出，你应该不要更改它。<br>\n",
    "   You only need to write code to implement this mehtod. Codes for running and testing it are already provided which you should not modify.<br>\n",
    "   \n",
    "   **提示**:对于题中给出的升高数据，其正确排序后的结果应该是:[150, 146, 130, 125]<br>\n",
    "   **Hint**: the correct sorted heights for this 4 classmates should be:[150, 146, 130, 125]<br>"
   ]
  },
  {
   "cell_type": "code",
   "execution_count": 82,
   "id": "f8754efc",
   "metadata": {},
   "outputs": [],
   "source": [
    "# 1. complete implementing the method 完成本单元格代码对方法的实现\n",
    "# 2. invoke the following 3 cells (include this cell) 依次调用所有三个单元格代码\n",
    "# 3. Observe the output of the third cell  观察最后一个单元格代码的输出\n",
    "#    if Test Stats: 5 passed, 0 failed, 5 tested. \n",
    "#        then your implementation of the method passed the test. 通过测试\n",
    "#    else \n",
    "#        back to this cell to debug your code 返回次单元格修改你的代码\n",
    "#        goto step2 again 返回第2步\n",
    "\n",
    "def sort_height(arg):\n",
    "    sorted_data = arg\n",
    "    \n",
    "    # TODO: add your code here to complete\n",
    "    \n",
    "    return sorted_data"
   ]
  },
  {
   "cell_type": "code",
   "execution_count": 83,
   "id": "c2b5eb0d",
   "metadata": {},
   "outputs": [],
   "source": [
    "# this is method to test the method that a student wrote.\n",
    "# do not modify any part in this cell.\n",
    "# 这个方法是用来测试学生编写的排序方法\n",
    "# 不要修改本单元格任何代码\n",
    "\n",
    "def test_method(sorted_heights):\n",
    "    i, n = 0, len(sorted_heights)\n",
    "    test_passed = True\n",
    "    if n <= 1:\n",
    "        pass\n",
    "    else:\n",
    "        while i < len(sorted_heights) - 1:\n",
    "            if sorted_heights[i] < sorted_heights[i + 1]:\n",
    "                test_passed = False\n",
    "                break\n",
    "            i += 1\n",
    "    return test_passed, i"
   ]
  },
  {
   "cell_type": "code",
   "execution_count": 84,
   "id": "1a0f15ce",
   "metadata": {},
   "outputs": [
    {
     "name": "stdout",
     "output_type": "stream",
     "text": [
      "test 1 >>:\n",
      " original data: [150, 125, 130, 146]\n",
      " sorted by student: [150, 125, 130, 146]\n",
      " error at index 1, where 125 < 130\n",
      "test 2 >>:\n",
      " passed\n",
      "test 3 >>:\n",
      " passed\n",
      "test 4 >>:\n",
      " original data: [150, 125, 127, 153, 192]\n",
      " sorted by student: [150, 125, 127, 153, 192]\n",
      " error at index 1, where 125 < 127\n",
      "test 5 >>:\n",
      " passed\n",
      "\n",
      "Test Stats: 3 passed, 2 failed, 5 tested.\n"
     ]
    }
   ],
   "source": [
    "# don't modify any part in this cell\n",
    "# 不要修改本单元格任何代码\n",
    "test_data = [\n",
    "    [150, 125, 130, 146],\n",
    "    [],\n",
    "    [150],\n",
    "    [150, 125, 127, 153, 192],\n",
    "    [10, 9, 8, 7, 6, 5, 4, 3, 2, 1, 0]\n",
    "]\n",
    "\n",
    "n_passed, n_failed = 0, 0\n",
    "\n",
    "for i, heights in enumerate(test_data):\n",
    "    print(\"test {} >>:\".format(i 4 ff+ 1))\n",
    "    student_result = sort_height(heights)\n",
    "    test_result, i = test_method(student_result)\n",
    "    if test_result:\n",
    "        n_passed += 1\n",
    "        print(\" passed\")\n",
    "    else:\n",
    "        n_failed += 1\n",
    "        print(\" original data: {}\".format(heights))\n",
    "        print(\" sorted by student: {}\".format(student_result))\n",
    "        print(\" error at index {}\".format(i), end = \",\")\n",
    "        print(\" where {} < {}\".format(student_result[i], student_result[i + 1]))\n",
    "        \n",
    "print(\"\\nTest Stats: {} passed, {} failed, {} tested.\"\\\n",
    "      .format(n_passed, n_failed, n_passed + n_failed))"
   ]
  }
 ],
 "metadata": {
  "kernelspec": {
   "display_name": "Python 3",
   "language": "python",
   "name": "python3"
  },
  "language_info": {
   "codemirror_mode": {
    "name": "ipython",
    "version": 3
   },
   "file_extension": ".py",
   "mimetype": "text/x-python",
   "name": "python",
   "nbconvert_exporter": "python",
   "pygments_lexer": "ipython3",
   "version": "3.8.10"
  }
 },
 "nbformat": 4,
 "nbformat_minor": 5
}
