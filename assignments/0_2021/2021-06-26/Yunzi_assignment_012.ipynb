{
 "cells": [
  {
   "cell_type": "markdown",
   "id": "545a434d",
   "metadata": {},
   "source": [
    "## 第12讲 找出所有能整除120的整数"
   ]
  },
  {
   "cell_type": "markdown",
   "id": "edc2fd69",
   "metadata": {},
   "source": [
    "### Problem 问题描述"
   ]
  },
  {
   "cell_type": "markdown",
   "id": "b4e813b0",
   "metadata": {},
   "source": [
    "Please write program to find all integers that can divide 120 with no remainder and put them into a list named `factors`. Print out the total number of the factors and check whether 24 is in the factors list.\n",
    "\n",
    "请编写程序找出所有能整除120的整数并把他们存放到一个名为`factors`的列表型变量中。打印输出因数的总的数量，并检查24是否在列表中。"
   ]
  },
  {
   "cell_type": "markdown",
   "id": "b37b8368",
   "metadata": {},
   "source": [
    "### Math Background 数学背景"
   ]
  },
  {
   "cell_type": "markdown",
   "id": "2270e97d",
   "metadata": {},
   "source": [
    "1. **Factor** if the Q is the quotien of an integer A divided by another integer B, and the remainder is 0, we say that B is a factor of A; meanwhile, Q is also a factor of A. For example,$15\\div3=5 \\cdots 0$ we say both 3 and 5 are factors of the integer 15. It is obvious that any integer greather than 1 has at least two factors: 1 and the integer itself. It is also obvious that factors is always less then or equal to the integer.    \n",
    "   **因数** 如果一个整数A除以另一个整数B，得到的商为Q且余数为0，那么称整数B为整数A的一个因数，同时商Q也是整数A的一个因数。例如，在除法算式：$15\\div3=5 \\cdots 0$中,被除数15除以除数3，商为5，余数为0，那么3和5都分别为15的一个因数。不难得出，任何一个比1大的整数都至少有两个因数，分别为1和它自己；同时也不难得出一个数的因数不可能比这个数大。\n",
    "   \n",
    "2. **Composite Number**: If an integer has an extra factor other than 1 and itself, this integer is a composite number.  \n",
    "   **合数**: 如果一个整数除了1和自身还有其他额外的因数，那么这个整数是一个合数。\n",
    "   \n",
    "3. **Prime Number**: If an integer has only the two factors, it is called as a prime number.   \n",
    "   **质数**: 如果一个整数只有1和它自身两个因数，那么它是一个质数。\n",
    "   "
   ]
  },
  {
   "cell_type": "markdown",
   "id": "c9372c6c",
   "metadata": {
    "heading_collapsed": true
   },
   "source": [
    "### Prerequisites 预备知识"
   ]
  },
  {
   "cell_type": "markdown",
   "id": "c4acfbef",
   "metadata": {},
   "source": [
    "#### 1. Declare an empty（without any element）list variable 声明一个空（没有任何元素）的列表"
   ]
  },
  {
   "cell_type": "code",
   "execution_count": 13,
   "id": "6242f6ce",
   "metadata": {},
   "outputs": [
    {
     "name": "stdout",
     "output_type": "stream",
     "text": [
      "[]\n",
      "['狗屎']\n",
      "['狗屎', '猫屎']\n",
      "['狗屎', '猫屎', '小人屎']\n"
     ]
    },
    {
     "data": {
      "text/plain": [
       "'狗屎'"
      ]
     },
     "execution_count": 13,
     "metadata": {},
     "output_type": "execute_result"
    }
   ],
   "source": [
    "classmates = []       # 同学： \"Jason\", \"Tony\", \"Sophie\", \"Yunzi\"\n",
    "print(classmates)\n",
    "classmates.append(\"狗屎\")\n",
    "print(classmates)\n",
    "classmates.append(\"猫屎\")\n",
    "print(classmates)\n",
    "classmates.append(\"小人屎\")\n",
    "print(classmates)\n",
    "classmates[2]\n",
    "classmates[1]\n",
    "classmates[0]"
   ]
  },
  {
   "cell_type": "markdown",
   "id": "a5b6a5d0",
   "metadata": {},
   "source": [
    "#### 2. add an element to (the end of) a list 往列表(最后）添加一个元素\n",
    "\n",
    "The element of a list can be either an Integer or a String. It can even be many other data types， which we will learn in future.\n",
    "\n",
    "列表的元素既可以是整数型数据，也可以是字符串型数据，还可以是将来要学习的其他一些类型的数据。\n",
    "\n",
    "use `append` method add a string `\"Sophie\"` to the `classmates` list. `.` is an operator indicating that method `append` is applied on the list variable `classmates`. The method needs to receive an argument indicating the element that will be added into the tail of the list.\n",
    "\n",
    "使用`append`方法往`classmates`列表中添加一个字符串`\"Sophie\"`, `.` 是一个操作符，表明方法`append`正应用在`classmates`这个列表型变量上。该方法需要接受那个将要被添加到列表末尾的元素作为参数。"
   ]
  },
  {
   "cell_type": "code",
   "execution_count": 2,
   "id": "ec82339f",
   "metadata": {},
   "outputs": [
    {
     "name": "stdout",
     "output_type": "stream",
     "text": [
      "['Sophie']\n"
     ]
    }
   ],
   "source": [
    "classmates.append(\"Sophie\")\n",
    "print(classmates)"
   ]
  },
  {
   "cell_type": "markdown",
   "id": "01843a22",
   "metadata": {},
   "source": [
    "Continue to add more students to the class\n",
    "\n",
    "继续往班级同学列表里添加更多的学生"
   ]
  },
  {
   "cell_type": "code",
   "execution_count": 3,
   "id": "e6515203",
   "metadata": {},
   "outputs": [
    {
     "name": "stdout",
     "output_type": "stream",
     "text": [
      "['Sophie', 'Tony']\n"
     ]
    }
   ],
   "source": [
    "classmates.append(\"Tony\")\n",
    "print(classmates)"
   ]
  },
  {
   "cell_type": "code",
   "execution_count": 4,
   "id": "8315e9b4",
   "metadata": {},
   "outputs": [
    {
     "name": "stdout",
     "output_type": "stream",
     "text": [
      "['Sophie', 'Tony', 'Jason']\n"
     ]
    }
   ],
   "source": [
    "classmates.append(\"Jason\")\n",
    "print(classmates)"
   ]
  },
  {
   "cell_type": "code",
   "execution_count": 5,
   "id": "3095f7ac",
   "metadata": {},
   "outputs": [
    {
     "name": "stdout",
     "output_type": "stream",
     "text": [
      "['Sophie', 'Tony', 'Jason', 'Yunzi']\n"
     ]
    }
   ],
   "source": [
    "classmates.append(\"Yunzi\")\n",
    "print(classmates)"
   ]
  },
  {
   "cell_type": "code",
   "execution_count": 6,
   "id": "c8100b90",
   "metadata": {
    "tags": []
   },
   "outputs": [
    {
     "name": "stdout",
     "output_type": "stream",
     "text": [
      "['Sophie', 'Tony', 'Jason', 'Yunzi', \"Tony's Daddy\"]\n"
     ]
    }
   ],
   "source": [
    "classmates.append(\"Tony's Daddy\")\n",
    "print(classmates)"
   ]
  },
  {
   "cell_type": "markdown",
   "id": "6a72cacd",
   "metadata": {},
   "source": [
    "#### 2. remove an element from a list 从列表中删除一个元素\n",
    "\n",
    "use `remove` method to remove \"Yunzi's Daddy\" from the `classmates` list. `remove` method need to receive an argument indicating the element value that need to be removed. If this value doesn't exist in the list, the program will report an error.\n",
    "\n",
    "使用`remove`方法从`classmates`列表中移除`\"Yunzi's Daddy\"`. `remove`方法需要接受将要被删除出列表的那个元素的值，这个值如果在列表中不存在，那么程序会报错。"
   ]
  },
  {
   "cell_type": "markdown",
   "id": "05573f60",
   "metadata": {},
   "source": [
    "#### 3. Exercise 练习\n",
    "\n",
    "Declare an empty list variable with the name you prefer, put at least 5 names of the animals you like into the list one by one, then remove those animals that you have already seen in real life(not on TV or other video channels) from the list one by one, keey only those you like but haven't seen them face to face. Introduce these animals to your classmates.\n",
    "\n",
    "用一个你喜欢的名字声明一个列表变量，往这个变量中一个接一个的添加至少5个你喜欢的动物，然后把在你已经亲眼见过(不是在电视或其他视频频道商）动物一个接一个的从列表中删除，只留下哪些你喜欢但还没有亲眼见过的动物们。向你的同学们介绍你列出的这些动物。"
   ]
  },
  {
   "cell_type": "code",
   "execution_count": null,
   "id": "7f964722",
   "metadata": {},
   "outputs": [],
   "source": []
  },
  {
   "cell_type": "markdown",
   "id": "b3af08d6",
   "metadata": {},
   "source": [
    "#### 4. check whether a value is in a list 检查一个值是否存在列表中\n",
    "\n",
    "To check whether a value is in a list, or an element of the list, we can use a `while` loop to look at each element in the list, compare the values. If two values are same, then we can say the value is in the list, or the value is one of the element of the list. For example, the following codes check whether a string `\"Jason\"` is in the `classmates` list:\n",
    "\n",
    "为了检查一个值是否在一个列表中，或者说是否是列表的一个元素，我们可以使用一个`while`循环来查看这个列表中的每一个元素，比较他们的值。如果两个值相同，那么我们就可以说这个值存在于这个列表中，或者说这个值是列表的一个元素。例如，要查看\"Jason\"是否在`classmates`列表中，我们可以使用下面的代码："
   ]
  },
  {
   "cell_type": "code",
   "execution_count": 9,
   "id": "bb485947",
   "metadata": {},
   "outputs": [
    {
     "name": "stdout",
     "output_type": "stream",
     "text": [
      "['Sophie', 'Tony', 'Jason', 'Yunzi']\n"
     ]
    }
   ],
   "source": [
    "print(classmates)"
   ]
  },
  {
   "cell_type": "code",
   "execution_count": 10,
   "id": "7d15d549",
   "metadata": {},
   "outputs": [
    {
     "name": "stdout",
     "output_type": "stream",
     "text": [
      "checking value at index: 0\n",
      "checking value at index: 1\n",
      "checking value at index: 2\n",
      "found target in the list, inde is: 2\n",
      "checking value at index: 3\n"
     ]
    }
   ],
   "source": [
    "target = \"Jason\"\n",
    "index = 0\n",
    "while index < len(classmates):\n",
    "    print(\"checking value at index: {}\".format(index))\n",
    "    if target == classmates[index]:\n",
    "        print(\"found target in the list, inde is: {}\".format(index)) \n",
    "    \n",
    "    index += 1"
   ]
  },
  {
   "cell_type": "markdown",
   "id": "d5b7860d",
   "metadata": {},
   "source": [
    "#### 5. break(stop) the `while` loop when find the value 当找到值后打破（停止）循环\n",
    "\n",
    "If the requirement is to only ask you to tell whether the value exists in the list, once you find one value which is equal to the target value, you can directly makde an positive statement, saying that the value is in the list. In this case, it is not necessary to look at all the other elements in the list. To break the loop, we can use `break` statement in our codes. Look at the following codes with a `break` statement added and compare the difference of the output with previous one:\n",
    "\n",
    "如果要求仅仅是询问有一个值是否存在一个列表中，一旦我们在列表中发现这个元素，我们就可以作出肯定的判断，认为这个值存在于列表中。在这种情况下，就可以提前终止循环，没有必要再去检查列表中剩余没有看过的元素了。为了终止循环，我们可以在代码中添加一行`break`语句。请看下面加入了`break`语句的代码："
   ]
  },
  {
   "cell_type": "code",
   "execution_count": 11,
   "id": "d9905d07",
   "metadata": {},
   "outputs": [
    {
     "name": "stdout",
     "output_type": "stream",
     "text": [
      "checking value at index: 0\n",
      "checking value at index: 1\n",
      "checking value at index: 2\n",
      "found target in the list, inde is: 2\n"
     ]
    }
   ],
   "source": [
    "target = \"Jason\"\n",
    "index = 0\n",
    "while index < len(classmates):\n",
    "    print(\"checking value at index: {}\".format(index))\n",
    "    if target == classmates[index]:\n",
    "        print(\"found target in the list, inde is: {}\".format(index)) \n",
    "        break\n",
    "        \n",
    "    index += 1"
   ]
  },
  {
   "cell_type": "markdown",
   "id": "ac333a3e",
   "metadata": {},
   "source": [
    "#### 6. Another easy way to check whether a value is in a list 另一个更简单的方式来检查一个值是否存在列表中\n",
    "\n",
    "We can also use the keyword `in` to check wheter a value is in a list like following expression. If the result of the expression is `True`， it means a variable(value) is indeed in the list; if the expression result is `False`, it means the value is not an element of the list. When we execute this cell, it gives an output `True`, which means there is a value `\"Tony\"` in the `classmates` list.\n",
    "\n",
    "我们也像下面的这行代码一样使用关键词`in`来检查一个变量（值）是否存在一个list中。如果表达式的值（输出）是`True`，则意味着要检查的变量（值）存在于列表中，反之则表示不存在。当我们执行下面的这行代码后，它会输出`True`，意味着`\"Tony\"`是列表`classmates`的一个元素。\n"
   ]
  },
  {
   "cell_type": "code",
   "execution_count": 12,
   "id": "ea2de204",
   "metadata": {},
   "outputs": [
    {
     "data": {
      "text/plain": [
       "True"
      ]
     },
     "execution_count": 12,
     "metadata": {},
     "output_type": "execute_result"
    }
   ],
   "source": [
    "\"Tony\" in classmates"
   ]
  },
  {
   "cell_type": "code",
   "execution_count": 13,
   "id": "74e57b25",
   "metadata": {},
   "outputs": [
    {
     "data": {
      "text/plain": [
       "False"
      ]
     },
     "execution_count": 13,
     "metadata": {},
     "output_type": "execute_result"
    }
   ],
   "source": [
    "\"Tony's Daddy\" in classmates # None, false, False"
   ]
  },
  {
   "cell_type": "code",
   "execution_count": 14,
   "id": "ecebb87e",
   "metadata": {},
   "outputs": [
    {
     "data": {
      "text/plain": [
       "False"
      ]
     },
     "execution_count": 14,
     "metadata": {},
     "output_type": "execute_result"
    }
   ],
   "source": [
    "\"jason\" in classmates # False"
   ]
  },
  {
   "cell_type": "code",
   "execution_count": 15,
   "id": "dcae79ec",
   "metadata": {},
   "outputs": [
    {
     "data": {
      "text/plain": [
       "True"
      ]
     },
     "execution_count": 15,
     "metadata": {},
     "output_type": "execute_result"
    }
   ],
   "source": [
    "\"Jason\" in classmates # True"
   ]
  },
  {
   "cell_type": "markdown",
   "id": "de3348cd",
   "metadata": {},
   "source": [
    "Since the above code is an expression that output either `True` or `False`, we can use it in a `if` condition code block like the following so that the programe prints out a more friendly output or complete some other tasks for each specific condition.\n",
    "\n",
    "由于上面这行代码是一个输出结果要么是`True`要么是`False`的表达式，我们也可以像下面那样把它放在`if`引导的条件语句块中，让程序给出一个更友好的输出或者根据不同的条件完成一些额外的人物。"
   ]
  },
  {
   "cell_type": "code",
   "execution_count": 16,
   "id": "a1dd5acb",
   "metadata": {},
   "outputs": [
    {
     "name": "stdout",
     "output_type": "stream",
     "text": [
      "'Tony' is an element of classmates list\n"
     ]
    }
   ],
   "source": [
    "if \"Tony\" in classmates:\n",
    "    print(\"'Tony' is an element of classmates list\")\n",
    "else:\n",
    "    print(\"'Tony' is not in the classmates list\")"
   ]
  },
  {
   "cell_type": "markdown",
   "id": "53c2227a",
   "metadata": {},
   "source": [
    "### Solution Codes 编程求解\n",
    "\n",
    "Compare the two solutions, and tell the differences. How many loops have the programs expeirenced respectively? Can you make the loop tables for each solution?\n",
    "\n",
    "比较两个解决方案，说出其中的差别。两个解决方案中的while循环各经历了几次循环？针对每一个解决方案，你能写出那个表示循环的表格吗？"
   ]
  },
  {
   "cell_type": "code",
   "execution_count": 17,
   "id": "608ddbba",
   "metadata": {},
   "outputs": [
    {
     "name": "stdout",
     "output_type": "stream",
     "text": [
      "factors are: [1, 2, 3, 4, 5, 6, 8, 10, 12, 15, 20, 24, 30, 40, 60, 120]\n",
      "16 factors\n",
      "24 is in [1, 2, 3, 4, 5, 6, 8, 10, 12, 15, 20, 24, 30, 40, 60, 120]\n"
     ]
    }
   ],
   "source": [
    "# Solution 1 解决方案1\n",
    "target_num = 120           \n",
    "num_checking = 1\n",
    "factors = []\n",
    "while num_checking <= target_num:\n",
    "    if target_num % num_checking == 0:\n",
    "        factors.append(num_checking)\n",
    "    \n",
    "    num_checking += 1\n",
    "        \n",
    "print(\"factors are: {}\".format(factors))\n",
    "print(\"{} factors\".format(len(factors)))\n",
    "\n",
    "element = 24\n",
    "if element in factors:\n",
    "    print(\"{} is in {}\".format(element, factors))\n",
    "else:\n",
    "    print(\"{} is not in {}\".format(element, factors))"
   ]
  },
  {
   "cell_type": "code",
   "execution_count": 1,
   "id": "01a23f9d",
   "metadata": {},
   "outputs": [
    {
     "name": "stdout",
     "output_type": "stream",
     "text": [
      "factors are: [1, 120, 2, 60, 3, 40, 4, 30, 5, 24, 6, 20, 8, 15, 10, 12, 12, 10]\n",
      "18 factors\n",
      "24 is in [1, 120, 2, 60, 3, 40, 4, 30, 5, 24, 6, 20, 8, 15, 10, 12, 12, 10]\n"
     ]
    }
   ],
   "source": [
    "# Solution 2 解决方案2\n",
    "target_num = 120           \n",
    "num_checking = 1\n",
    "quotien = target_num \n",
    "\n",
    "factors = []\n",
    "while num_checking < quotien:\n",
    "    if target_num % num_checking == 0:\n",
    "        quotien = target_num // num_checking\n",
    "        factors.append(num_checking)\n",
    "        factors.append(quotien)\n",
    "    \n",
    "    num_checking += 1\n",
    "        \n",
    "print(\"factors are: {}\".format(factors))\n",
    "print(\"{} factors\".format(len(factors)))\n",
    "\n",
    "element = 24\n",
    "if element in factors:\n",
    "    print(\"{} is in {}\".format(element, factors))\n",
    "else:\n",
    "    print(\"{} is not in {}\".format(element, factors))"
   ]
  },
  {
   "cell_type": "code",
   "execution_count": 28,
   "id": "93a42aab",
   "metadata": {},
   "outputs": [
    {
     "name": "stdout",
     "output_type": "stream",
     "text": [
      "30\n",
      "0\n"
     ]
    }
   ],
   "source": [
    "print(120 // 4)\n",
    "print(120 % 4)"
   ]
  },
  {
   "cell_type": "code",
   "execution_count": 29,
   "id": "475875f7",
   "metadata": {},
   "outputs": [
    {
     "name": "stdout",
     "output_type": "stream",
     "text": [
      "4\n",
      "0\n"
     ]
    }
   ],
   "source": [
    "print(120 // 30)\n",
    "print(120 % 30)"
   ]
  },
  {
   "cell_type": "markdown",
   "id": "7fecb4c3",
   "metadata": {},
   "source": [
    "### Summary 知识点小结"
   ]
  },
  {
   "cell_type": "markdown",
   "id": "e330e401",
   "metadata": {},
   "source": [
    "- 学习操作列表型变量两个常见的方法`append`和`remove`\n",
    "- 列表变量的元素可以是整数类型，也可以是字符串类型，还可以是其它类型\n",
    "- 如何判断一个变量（值）是否存在于一个list中：使用while循环或使用关键词`in`\n",
    "- `break`提前终止循环\n",
    "- 复习列表型变量的`len`方法"
   ]
  },
  {
   "cell_type": "markdown",
   "id": "6e5a301d",
   "metadata": {},
   "source": [
    "### 计算机小知识"
   ]
  },
  {
   "cell_type": "markdown",
   "id": "7b272d61",
   "metadata": {},
   "source": [
    "- 暂缺"
   ]
  },
  {
   "cell_type": "markdown",
   "id": "cadf0b3e",
   "metadata": {
    "heading_collapsed": true
   },
   "source": [
    "### Assignments 作业"
   ]
  },
  {
   "cell_type": "markdown",
   "id": "a9306ac8",
   "metadata": {
    "hidden": true
   },
   "source": [
    "1. create an empty list with the variable name `my_friends`, use `append` method to add at least 5 of your friend names to this list, then use the method `remove` to remove one or several of your friend names from the list. Each time after you add or remove a friend name, print out the whole `my_friends` list and its length.  \n",
    "\n",
    "   创建一个空的列表，变量名设为`my_friends`，使用`append`方法往这个列表里添加至少5个你的朋友名字，随后再使用`remove`方法从中移除一个或多个朋友名字。每一次当你使用`append`或`remove`方法后，都将整个`my_friends`列表的内容以及列表的长度打印出来。"
   ]
  },
  {
   "cell_type": "code",
   "execution_count": 30,
   "id": "9dbdf433",
   "metadata": {},
   "outputs": [
    {
     "name": "stdout",
     "output_type": "stream",
     "text": [
      "['熊楚天']\n",
      "['熊楚天', '李夏']\n",
      "['熊楚天', '李夏', '余卓航']\n",
      "['熊楚天', '李夏', '余卓航', '罗安辰']\n",
      "['熊楚天', '李夏', '余卓航', '罗安辰', '刘辰霄']\n"
     ]
    },
    {
     "data": {
      "text/plain": [
       "'罗安辰'"
      ]
     },
     "execution_count": 30,
     "metadata": {},
     "output_type": "execute_result"
    }
   ],
   "source": [
    "my_friends = []\n",
    "my_friends.append(\"熊楚天\")\n",
    "print(my_friends)\n",
    "my_friends.append(\"李夏\")\n",
    "print(my_friends)\n",
    "my_friends.append(\"余卓航\")\n",
    "print(my_friends)\n",
    "my_friends.append(\"罗安辰\")\n",
    "print(my_friends)\n",
    "my_friends.append(\"刘辰霄\")\n",
    "print(my_friends)\n",
    "my_friends[3]"
   ]
  },
  {
   "cell_type": "code",
   "execution_count": 7,
   "id": "0d5c03c3",
   "metadata": {},
   "outputs": [
    {
     "name": "stdout",
     "output_type": "stream",
     "text": [
      "['熊楚天', '李夏', '罗安辰', '刘辰霄']\n",
      "['熊楚天', '李夏', '罗安辰']\n"
     ]
    }
   ],
   "source": [
    "my_friends.remove(\"余卓航\")\n",
    "print(my_friends)\n",
    "my_friends.remove(\"刘辰霄\")\n",
    "print(my_friends)"
   ]
  },
  {
   "cell_type": "markdown",
   "id": "fc3a2f73",
   "metadata": {},
   "source": [
    "2. Write a program to find all factors of 144 and 385, put their factors in to two lists, one is for 144, and the other is for 385. Print out the two lists and also tell which integer has more factors.  \n",
    "\n",
    "   编写程序分别查找整数144和385各自的因数，把他们分别放到两个不同的列表中，编程输出这两个列表并输出谁的因数数量多"
   ]
  },
  {
   "cell_type": "code",
   "execution_count": 56,
   "id": "8bad86cf",
   "metadata": {},
   "outputs": [
    {
     "name": "stdout",
     "output_type": "stream",
     "text": [
      "144的因数是[1, 2, 3, 4, 6, 8, 9, 12, 16, 18, 24, 36, 48, 72, 144],个数是15\n",
      "385的因数是[1, 5, 7, 11, 35, 55, 77, 385],个数是8\n",
      "144 的因数个数多于385的因数个数\n"
     ]
    }
   ],
   "source": [
    "num1, num2 = 144, 385\n",
    "factors1, factors2 = [], []\n",
    "checking_num1, checking_num2 = 1, 1\n",
    "\n",
    "while checking_num1 <= num1:\n",
    "    if num1 % checking_num1 == 0: \n",
    "        factors1.append(checking_num1)\n",
    "                \n",
    "    checking_num1 += 1 \n",
    "    \n",
    "print(\"{}的因数是{},个数是{}\".format(num1, factors1, len(factors1)))\n",
    "\n",
    "while checking_num2 <= num2:\n",
    "    if num2 % checking_num2 == 0:\n",
    "        factors2.append(checking_num2)\n",
    "        \n",
    "    checking_num2 += 1\n",
    "    \n",
    "print(\"{}的因数是{},个数是{}\".format(num2, factors2, len(factors2)))\n",
    "         \n",
    "if len(factors1) > len(factors2):\n",
    "    print(\"{} 的因数个数多于{}的因数个数\".format(num1, num2))\n",
    "else:\n",
    "    print(\"{} 的因数个数少于或等于{}的因数个数\".format(num1, num2))"
   ]
  },
  {
   "cell_type": "markdown",
   "id": "2f642b6d",
   "metadata": {},
   "source": [
    "3. Following the previous question. After you have two lists for the factors of 144 and 385, Write a program to check if these two integers shared some factors, If yes, print out the shared factor(s).\n",
    "   \n",
    "   续前一题。 当你找到144和385的所有因数后，编写程序检查这两个数除了整数1以外还有没有共同的因数"
   ]
  },
  {
   "cell_type": "code",
   "execution_count": 4,
   "id": "237ed943",
   "metadata": {},
   "outputs": [
    {
     "name": "stdout",
     "output_type": "stream",
     "text": [
      "5是385的因数，但不是144的因数\n",
      "7是385的因数，但不是144的因数\n",
      "11是385的因数，但不是144的因数\n",
      "35是385的因数，但不是144的因数\n",
      "55是385的因数，但不是144的因数\n",
      "77是385的因数，但不是144的因数\n",
      "385是385的因数，但不是144的因数\n"
     ]
    }
   ],
   "source": [
    "factors_for_144 = [1, 2, 3, 4, 6, 8, 9, 12, 16, 18, 24, 36, 48, 72, 144] # TODO: fill the factors of 144 into [], 把144的因数放到[]里\n",
    "factors_for_385 = [1, 5, 7, 11, 35, 55, 77, 385] # TODO: fill the factors of 385 into [], 把385的因数放到[]里\n",
    "index = 1\n",
    "while index < len(factors_for_385):\n",
    "    if factors_for_385[index] in factors_for_144:\n",
    "        print(\"共同的因数除了1，有{}\".format(factors_for_385[index]))\n",
    "    if factors_for_385[index] not in factors_for_144:\n",
    "        print(\"{}是385的因数，但不是144的因数\".format(factors_for_385[index]))\n",
    "        \n",
    "    index += 1"
   ]
  },
  {
   "cell_type": "markdown",
   "id": "d0839e72",
   "metadata": {},
   "source": [
    "4. if an integer only have two factors(1 and the integer itself), this integer is a Prime number; Otherwise, it is a Composite number. Write a program to find all the prime and composite numbers between 2 and 100 (both included). Use two lists to store all these prime and composite numbers. Finally, print out the two lists.\n",
    "\n",
    "   \n",
    "   如果一个整数的因数个数为2个（整数1和它自己），那么这个整数为“质数”，否则这个数则为合数。编写程序找出从2-100这100个连续整数中哪些是质数，哪些是合数，分别用两个列表来存储质数和合数，并最后将其打印出来。"
   ]
  },
  {
   "cell_type": "code",
   "execution_count": 56,
   "id": "d373f64c",
   "metadata": {},
   "outputs": [],
   "source": [
    "num_start, num_end = 2, 100\n",
    "list_prime = []\n",
    "list_composite = []\n",
    "\n"
   ]
  },
  {
   "cell_type": "markdown",
   "id": "e5793c53",
   "metadata": {},
   "source": [
    "5. The following list `list_a` has 2 elements, both of which are integer `1`. Please write a program to add 20 more new elements to the end of `list_a` step by step while respecting the following rule: **every time when you add a new element to the end of the list, its value is the sum of the values of the last two elements in the list.** Print out the final list when you finish adding elements. The final list you get should have 22 elements with `17711` as its last element. Are your familiar with the first 10 element in this list?\n",
    "\n",
    "   下面名为`list_a`的列表一开始有2个元素且值均为`1`。请编写程序往这个列表的末端逐次再添加20个新元素，**要求每次新添加的元素值是当时列表的最末两位元素的值的和。** 添加完毕后打印输出这个列表。你最后得到的列表应该具有22个元素，且最后一个元素的值为`17711`。你熟悉这个列表的前10个元素吗？"
   ]
  },
  {
   "cell_type": "code",
   "execution_count": 129,
   "id": "578bfaab",
   "metadata": {},
   "outputs": [
    {
     "ename": "IndexError",
     "evalue": "list index out of range",
     "output_type": "error",
     "traceback": [
      "\u001b[1;31m---------------------------------------------------------------------------\u001b[0m",
      "\u001b[1;31mIndexError\u001b[0m                                Traceback (most recent call last)",
      "\u001b[1;32m<ipython-input-129-e1138c96ded1>\u001b[0m in \u001b[0;36m<module>\u001b[1;34m\u001b[0m\n\u001b[0;32m      3\u001b[0m \u001b[1;33m\u001b[0m\u001b[0m\n\u001b[0;32m      4\u001b[0m \u001b[1;32mwhile\u001b[0m \u001b[0mindex\u001b[0m \u001b[1;33m<=\u001b[0m \u001b[1;36m21\u001b[0m\u001b[1;33m:\u001b[0m\u001b[1;33m\u001b[0m\u001b[0m\n\u001b[1;32m----> 5\u001b[1;33m     \u001b[1;32mif\u001b[0m \u001b[0mlist_a\u001b[0m\u001b[1;33m[\u001b[0m\u001b[0mindex\u001b[0m\u001b[1;33m]\u001b[0m \u001b[1;33m==\u001b[0m \u001b[0mlist_a\u001b[0m\u001b[1;33m[\u001b[0m\u001b[0mindex\u001b[0m\u001b[1;33m-\u001b[0m\u001b[1;36m2\u001b[0m\u001b[1;33m]\u001b[0m \u001b[1;33m+\u001b[0m \u001b[0mlist_a\u001b[0m\u001b[1;33m[\u001b[0m\u001b[0mindex\u001b[0m\u001b[1;33m-\u001b[0m\u001b[1;36m1\u001b[0m\u001b[1;33m]\u001b[0m\u001b[1;33m:\u001b[0m\u001b[1;33m\u001b[0m\u001b[0m\n\u001b[0m\u001b[0;32m      6\u001b[0m         \u001b[0mlist_a\u001b[0m\u001b[1;33m.\u001b[0m\u001b[0mappend\u001b[0m\u001b[1;33m(\u001b[0m\u001b[0mlist_a\u001b[0m\u001b[1;33m[\u001b[0m\u001b[0mindex\u001b[0m\u001b[1;33m]\u001b[0m\u001b[1;33m)\u001b[0m\u001b[1;33m\u001b[0m\u001b[0m\n\u001b[0;32m      7\u001b[0m     \u001b[0mprint\u001b[0m\u001b[1;33m(\u001b[0m\u001b[0mlist_a\u001b[0m\u001b[1;33m)\u001b[0m\u001b[1;33m\u001b[0m\u001b[0m\n",
      "\u001b[1;31mIndexError\u001b[0m: list index out of range"
     ]
    }
   ],
   "source": [
    "list_a = [1, 1]\n",
    "index = 2\n",
    "\n",
    "while index <= 21:\n",
    "    if list_a[index] == list_a[index-2] + list_a[index-1]:        \n",
    "        list_a.append(list_a[index])\n",
    "    print(list_a)\n",
    "    index += 1\n",
    "    \n",
    "if len(list_a) != 22 or list_a[-1] != \"17711\":\n",
    "    print(\"your answer is not correct\")\n",
    "\n"
   ]
  },
  {
   "cell_type": "code",
   "execution_count": null,
   "id": "c42e87b0",
   "metadata": {},
   "outputs": [],
   "source": []
  },
  {
   "cell_type": "code",
   "execution_count": 55,
   "id": "4d306f6a",
   "metadata": {},
   "outputs": [
    {
     "name": "stdout",
     "output_type": "stream",
     "text": [
      "[2, 3, 5, 7, 11, 13, 17, 19, 23, 29, 31, 37, 41, 43, 47, 53, 59, 61, 67, 71, 73, 79, 83, 89, 97]\n"
     ]
    }
   ],
   "source": [
    "num=[];\n",
    "i=2\n",
    "for i in range(2,100):\n",
    "    j=2\n",
    "    for j in range(2,i):\n",
    "        if(i%j==0):\n",
    "            break\n",
    "    else:\n",
    "        num.append(i)\n",
    "print(num)"
   ]
  },
  {
   "cell_type": "code",
   "execution_count": null,
   "id": "34b92eb1-1a36-4a65-aa91-d4e9a248fb0c",
   "metadata": {},
   "outputs": [],
   "source": []
  },
  {
   "cell_type": "markdown",
   "id": "77eeb380-8532-4031-a8f0-36e4a3b3718b",
   "metadata": {},
   "source": [
    "**Score:B+**"
   ]
  },
  {
   "cell_type": "code",
   "execution_count": null,
   "id": "b0ef07eb-b2a1-459b-b2f0-c1a09c10b580",
   "metadata": {},
   "outputs": [],
   "source": []
  }
 ],
 "metadata": {
  "kernelspec": {
   "display_name": "Python 3",
   "language": "python",
   "name": "python3"
  },
  "language_info": {
   "codemirror_mode": {
    "name": "ipython",
    "version": 3
   },
   "file_extension": ".py",
   "mimetype": "text/x-python",
   "name": "python",
   "nbconvert_exporter": "python",
   "pygments_lexer": "ipython3",
   "version": "3.8.5"
  }
 },
 "nbformat": 4,
 "nbformat_minor": 5
}
