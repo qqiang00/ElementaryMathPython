{
 "cells": [
  {
   "cell_type": "markdown",
   "id": "dominican-singing",
   "metadata": {},
   "source": [
    "## 第13讲 认识和绘制数轴"
   ]
  },
  {
   "cell_type": "markdown",
   "id": "opposed-assistant",
   "metadata": {},
   "source": [
    "### Problem 问题描述"
   ]
  },
  {
   "cell_type": "markdown",
   "id": "cognitive-uniform",
   "metadata": {},
   "source": [
    "在长宽分别为600和400像素的绘图区域绘制如下图所示的一条标有刻度、水平方向的带箭头指示方向的数轴。其中数轴的左右两端距离绘图区域左右边界均为20像素，相邻刻度的距离为50像素，刻度线的长度为20像素，表示刻度线数值的数字在刻度线的正下方且底端距离数轴20个像素。\n",
    "\n",
    "<img src=\"figures/L013_axis.png\" width=\"600px\"/>"
   ]
  },
  {
   "cell_type": "markdown",
   "id": "pregnant-prime",
   "metadata": {},
   "source": [
    "### Math Background 数学背景\n",
    "\n",
    "1. 数轴的构成\n",
    "2. 数轴原点，正负数在数轴轴上的位置比较\n",
    "3. 每一个数在数轴上都有一个点相对应，两个数的差在数轴上表示的是这两个数对应的两个点之间的距离。"
   ]
  },
  {
   "cell_type": "markdown",
   "id": "changed-agreement",
   "metadata": {
    "heading_collapsed": true
   },
   "source": [
    "### Prerequisites 预备知识"
   ]
  },
  {
   "cell_type": "markdown",
   "id": "cloudy-conditioning",
   "metadata": {},
   "source": [
    "#### 1. `write`方法可以在绘图区书写字符串"
   ]
  },
  {
   "cell_type": "code",
   "execution_count": null,
   "id": "vertical-flesh",
   "metadata": {},
   "outputs": [],
   "source": [
    "from turtle import setup, reset, pu, pd, bye, left, right, fd, bk, screensize\n",
    "from turtle import goto, seth, write, ht, st, home\n",
    "width, height = 600, 400   # 窗口的宽度和高度（单位为：像素）\n",
    "setup(width, height, 0, 0)"
   ]
  },
  {
   "cell_type": "markdown",
   "id": "textile-validation",
   "metadata": {},
   "source": [
    "比较提起画笔和放下画笔时下面的代码执行的效果有什么不同"
   ]
  },
  {
   "cell_type": "code",
   "execution_count": null,
   "id": "convertible-stylus",
   "metadata": {},
   "outputs": [],
   "source": [
    "reset()\n",
    "pu()\n",
    "write(\"Sophie\", move=True, align=\"center\")"
   ]
  },
  {
   "cell_type": "code",
   "execution_count": null,
   "id": "hawaiian-lender",
   "metadata": {},
   "outputs": [],
   "source": [
    "reset()\n",
    "pd()\n",
    "write(\"Tony\", move=True, align=\"center\", font=(\"Arial\", 30, \"normal\"))"
   ]
  },
  {
   "cell_type": "code",
   "execution_count": null,
   "id": "placed-corrections",
   "metadata": {},
   "outputs": [],
   "source": [
    "reset()\n",
    "pd()\n",
    "write(\"Sophie\", move=False, align=\"center\", font=(\"Arial\", 30, \"normal\"))"
   ]
  },
  {
   "cell_type": "markdown",
   "id": "stable-chaos",
   "metadata": {},
   "source": [
    "#### 2. `tuple`元组数据类型\n",
    "\n",
    "pos_x 是一个tuple类型的变量"
   ]
  },
  {
   "cell_type": "code",
   "execution_count": null,
   "id": "blessed-syndication",
   "metadata": {},
   "outputs": [],
   "source": [
    "pos_x = (30, 20)       # pos_x 是一个tuple类型的变量"
   ]
  },
  {
   "cell_type": "markdown",
   "id": "modern-figure",
   "metadata": {},
   "source": [
    "可以使用索引来获取tuple类型变量的元素"
   ]
  },
  {
   "cell_type": "code",
   "execution_count": null,
   "id": "blessed-internship",
   "metadata": {},
   "outputs": [],
   "source": [
    "print(pos_x[0], pos_x[1])      # 可以使用索引来获取tuple类型变量的元素"
   ]
  },
  {
   "cell_type": "markdown",
   "id": "surface-guest",
   "metadata": {},
   "source": [
    "可以使用len()方法来获取tuple类型数据的元素个数"
   ]
  },
  {
   "cell_type": "code",
   "execution_count": null,
   "id": "reasonable-southwest",
   "metadata": {},
   "outputs": [],
   "source": [
    "len(pos_x)                     # 可以使用len()方法来获取tuple类型数据的元素个数"
   ]
  },
  {
   "cell_type": "markdown",
   "id": "homeless-malta",
   "metadata": {},
   "source": [
    " 不可以更改tuple类型变量里某一个元素的值。例如执行下面的代码将发生错误\n",
    " ```python\n",
    "pos_x[0] = 40\n",
    "```\n",
    "\n",
    "```text\n",
    "---------------------------------------------------------------------------\n",
    "TypeError                                 Traceback (most recent call last)\n",
    "<ipython-input-24-d852e9299be9> in <module>\n",
    "----> 1 pos_x[0] = 40                  \n",
    "\n",
    "TypeError: 'tuple' object does not support item assignment\n",
    "```"
   ]
  },
  {
   "cell_type": "code",
   "execution_count": null,
   "id": "danish-calibration",
   "metadata": {},
   "outputs": [],
   "source": [
    "# pos_x[0] = 40                  # 不可以更改tuple类型变量里某一个元素的值"
   ]
  },
  {
   "cell_type": "markdown",
   "id": "short-marriage",
   "metadata": {},
   "source": [
    "可以给整个tuple类型变量赋予一个新的tuple值"
   ]
  },
  {
   "cell_type": "code",
   "execution_count": null,
   "id": "built-mailman",
   "metadata": {},
   "outputs": [],
   "source": [
    "pos_x = (50, 30)               # 可以给整个tuple类型变量赋予一个新的tuple值"
   ]
  },
  {
   "cell_type": "markdown",
   "id": "ambient-asset",
   "metadata": {},
   "source": [
    "`tuple`型的变量里的元素的类型可以互不相同"
   ]
  },
  {
   "cell_type": "code",
   "execution_count": null,
   "id": "economic-theory",
   "metadata": {},
   "outputs": [],
   "source": [
    "sophie = (\"Sophie\", 11, \"Female\", \"Grade4\") # tuple型的变量里的元素的类型可以互不相同\n",
    "print(sophie)"
   ]
  },
  {
   "cell_type": "markdown",
   "id": "thrown-quebec",
   "metadata": {},
   "source": [
    "#### 3. 理解同一个方法在接受不同的参数值时执行结果的比较\n",
    "\n",
    "对比输出的文字和海龟位置，观察下面的两条`write`方法在接受不同的`align`值或时效果有什么不同。"
   ]
  },
  {
   "cell_type": "code",
   "execution_count": null,
   "id": "senior-lecture",
   "metadata": {},
   "outputs": [],
   "source": [
    "reset()\n",
    "pu()\n",
    "write(\"Jason\", align=\"left\", font=(\"Arial\", 30, \"normal\"))"
   ]
  },
  {
   "cell_type": "code",
   "execution_count": null,
   "id": "short-ukraine",
   "metadata": {},
   "outputs": [],
   "source": [
    "reset()\n",
    "pu()\n",
    "write(\"Jason\", align=\"center\", font=(\"Arial\", 30, \"normal\"))"
   ]
  },
  {
   "cell_type": "markdown",
   "id": "ranking-capacity",
   "metadata": {},
   "source": [
    "#### 4. 对比输出的文字，观察下面的几条`write`方法在接受不同的`font`值时效果有什么不同。\n",
    "\n",
    "参数`font`是一个`tuple`类型的变量"
   ]
  },
  {
   "cell_type": "code",
   "execution_count": null,
   "id": "classical-rugby",
   "metadata": {},
   "outputs": [],
   "source": [
    "reset()\n",
    "pu()\n",
    "write(\"Jason\", font=(\"Arial\", 30, \"normal\"))"
   ]
  },
  {
   "cell_type": "code",
   "execution_count": null,
   "id": "comic-holly",
   "metadata": {},
   "outputs": [],
   "source": [
    "reset()\n",
    "pu()\n",
    "write(\"Jason\", font=(\"Arial\", 50, \"normal\"))"
   ]
  },
  {
   "cell_type": "code",
   "execution_count": null,
   "id": "existing-athletics",
   "metadata": {},
   "outputs": [],
   "source": [
    "reset()\n",
    "pu()\n",
    "write(\"Jason\", font=(\"Times New Roman\", 50, \"normal\"))"
   ]
  },
  {
   "cell_type": "code",
   "execution_count": null,
   "id": "innocent-signature",
   "metadata": {},
   "outputs": [],
   "source": [
    "reset()\n",
    "pu()\n",
    "write(\"Jason\", font=(\"Arial\", 50, \"italic\"))"
   ]
  },
  {
   "cell_type": "code",
   "execution_count": null,
   "id": "removable-resistance",
   "metadata": {},
   "outputs": [],
   "source": [
    "# no reset() here 这里没有reset()\n",
    "pu()\n",
    "bk(200)    # 后退200\n",
    "write(\"Jason\", font=(\"Arial\", 50, \"underline\"))"
   ]
  },
  {
   "cell_type": "markdown",
   "id": "basic-jacksonville",
   "metadata": {},
   "source": [
    "#### 5. 区分`()`何时表示元组数据何时表示方法接受的参数\n",
    "\n",
    "看`()`前面有没有紧跟一个方法名, 下面这行代码声明了一个元组型变量，变量名为`jason`。\n",
    "\n",
    "```python\n",
    "jason = (\"Jason\", (\"Arial\", 50, \"Italic\")) # \n",
    "```\n",
    "\n",
    "下面这行代码是在执行一个名为`jason`的方法\n",
    "```python\n",
    "jason(\"Jason\", (\"Arial\", 50, \"Italic\"))    \n",
    "```"
   ]
  },
  {
   "cell_type": "markdown",
   "id": "filled-hebrew",
   "metadata": {},
   "source": [
    "#### 6. 练习\n",
    "\n",
    "编写下面的代码，更改变量`name`的值为你的名字，观察代码执行的效果。"
   ]
  },
  {
   "cell_type": "code",
   "execution_count": null,
   "id": "express-swedish",
   "metadata": {},
   "outputs": [],
   "source": [
    "# 如果没有导入绘图库相关方法以及执行setup方法，请解除下面几行代码的注释\n",
    "# from turtle import setup, reset, pu, pd, bye, left, right, fd, bk, screensize\n",
    "# from turtle import goto, seth, write, ht, st, home\n",
    "# width, height = 600, 400   # 窗口的宽度和高度（单位为：像素）\n",
    "# setup(600, 400, 0, 0)\n",
    "reset()\n",
    "pu()\n",
    "ht()\n",
    "name = \"Qiang\"\n",
    "text = \"My name is {}.\\nNice to meet you.\".format(name)\n",
    "write(text, align=\"center\", font=(\"Arial\", 30, \"italic\"))"
   ]
  },
  {
   "cell_type": "markdown",
   "id": "alpine-sally",
   "metadata": {},
   "source": [
    "### Solution 编程求解"
   ]
  },
  {
   "cell_type": "code",
   "execution_count": null,
   "id": "reasonable-adventure",
   "metadata": {},
   "outputs": [],
   "source": [
    "from turtle import setup, reset, pu, pd, bye, left, right, fd, bk, screensize\n",
    "from turtle import goto, seth, write, ht, st, home\n",
    "width, height = 600, 400   # 窗口的宽度和高度（单位为：像素）\n",
    "setup(width, height, 0, 0)"
   ]
  },
  {
   "cell_type": "code",
   "execution_count": null,
   "id": "fifteen-northeast",
   "metadata": {},
   "outputs": [],
   "source": [
    "origin = (0, 0)            # 原点的位置\n",
    "padding = 20               # 数轴端点距离绘图区边界距离\n",
    "max_x = width/2 - padding  # x轴最大值\n",
    "show_arrow = True          # 是否显示箭头\n",
    "mark_interval = 50         # 刻度线间距\n",
    "mark_line_length = 10           # 刻度线高度\n",
    "text_offset = 20           # 坐标值距离坐标线的距离\n",
    "\n",
    "mark_degree = 90           # 坐标刻度与坐标轴夹角\n",
    "arrow_length = 100          # 箭头长度\n",
    "arrow_degree = 30          # 箭头与坐标轴夹角\n",
    "delta_x = 1                # 每次坐标值变化的幅度"
   ]
  },
  {
   "cell_type": "code",
   "execution_count": null,
   "id": "italian-quarter",
   "metadata": {},
   "outputs": [],
   "source": [
    "# Solution1: without using goto() 第一种方法：不使用goto()\n",
    "\n",
    "reset()    # 重置绘图区 # this puts turtle in the midile and it erase all for the page.\n",
    "min_x = -1 * max_x   # 根据坐标轴允许的最大值，获取该坐标轴允许的最小值 \n",
    "pu()       # 提起画笔，暂停绘图\n",
    "home()     # Move turtle to the origin – coordinates (0,0) 移动小海龟至初始位置\n",
    "           # and set its heading to its start-orientation  并设置朝向为初始朝向\n",
    "bk(max_x)  # backward max_x\n",
    "pd()       # 落下画笔，准备绘图\n",
    "\n",
    "# draw mark 绘制刻度线\n",
    "cur_x, last_x = min_x, min_x          # 海龟当前位置和最近一次绘图后停留的位置\n",
    "while cur_x <= max_x:                 # 循环\n",
    "    if cur_x % mark_interval == 0:      # 海龟的位置是相邻刻度间隔长度的整数倍\n",
    "        length_move = cur_x - last_x    # 计算海龟应该前进的长度\n",
    "        pd()                            # 落下画笔，准备绘图\n",
    "        fd(length_move)                 # 海龟前进（绘制一小段）\n",
    "        left(mark_degree)               # 向左转90度，海龟朝正上方，准备绘制刻度线\n",
    "        fd(mark_line_length)                 # 绘制刻度线\n",
    "        pu()                            # 把画笔提起暂停绘图\n",
    "        bk(mark_line_length + text_offset)   # 后退（向下）一段长度\n",
    "        text = str(int(cur_x // mark_interval))\n",
    "                                        # 准备刻度值字符串（由整型数据转换而来）\n",
    "        write(text, align=\"center\")     # 在当前位置以居中的形式书写文字字符串\n",
    "        fd(text_offset)                 # 前进（向上）一小段长度\n",
    "        right(mark_degree)              # 向右转90度，海龟次朝向右侧\n",
    "        last_x = cur_x                  # 记录海龟当前位置，为下次绘图的起点\n",
    "        \n",
    "    cur_x += delta_x                  # 当前位置增加一小段长度（个单位距离：像素）\n",
    "\n",
    "pd()                                  # 落下画笔，准备绘制\n",
    "fd(max_x - last_x)                    # 绘制最后一个刻度线到数轴最大x值这一小段\n",
    "\n",
    "if show_arrow:                        # 如果需要绘制箭头\n",
    "    right(arrow_degree)                 # 向右转，海龟朝向右侧偏下\n",
    "    bk(arrow_length)                    # 后退一定距离，绘制箭头一边\n",
    "    fd(arrow_length)                    # 回到max_x位置\n",
    "    left(arrow_degree * 2)              # 向左转，海龟朝向右侧偏上\n",
    "    bk(arrow_length)                    # 后退一定距离，绘制箭头另一边\n",
    "\n",
    "ht()                                  # 隐藏海龟                            "
   ]
  },
  {
   "cell_type": "code",
   "execution_count": null,
   "id": "noticed-indonesia",
   "metadata": {},
   "outputs": [],
   "source": [
    "# Solution2: using goto() 第二种方法：使用goto()\n",
    "reset()\n",
    "min_x = -1 * max_x\n",
    "\n",
    "# draw line\n",
    "pu()       # 提起画笔，暂停绘图\n",
    "home()     # Move turtle to the origin – coordinates (0,0) 移动小海龟至初始位置\n",
    "           # and set its heading to its start-orientation  并设置朝向为初始朝向\n",
    "goto(min_x, 0)  # go to the left end of the line  移动海龟到坐标轴直线的最左端\n",
    "pd()       # 落下画笔，准备绘图\n",
    "goto(max_x, 0)  # go to the right end of the line 移动海龟到坐标轴直线的最右段\n",
    "\n",
    "# draw mark 绘制刻度线\n",
    "cur_x = min_x     # cur_x is min_x                           \n",
    "while cur_x <= max_x:\n",
    "    if cur_x % mark_interval == 0:\n",
    "        pu()   # pen up\n",
    "        goto(cur_x, 0)   # go to cur_x fof x and 0 for y\n",
    "        pd()   # pen down\n",
    "        goto(cur_x, mark_line_length)         # 绘制刻度线\n",
    "        \n",
    "        pu()   # pen up                          \n",
    "        goto(cur_x, -text_offset)   # go to cur_x for x nd -text_offset for y.\n",
    "        pd() # pen down\n",
    "        text = str(int(cur_x//mark_interval)) # text is str(int(cur_x//mark_interval))\n",
    "        write(text, align=\"center\")      # 书写刻度值\n",
    "        \n",
    "    cur_x += delta_x  # cur_x is delta_x + delta_x\n",
    "    \n",
    "if show_arrow:   # if you need to draw arrows\n",
    "    arrow_x, arrow_y = max_x - 10, -5\n",
    "    pu()  # pen up\n",
    "    goto(max_x, 0) # go to max_x for x and 0 for y\n",
    "    pd()  # pen down\n",
    "    goto(arrow_x, arrow_y)  # go to arrow_x for x and arrow_y for y\n",
    "    pu() # pen up\n",
    "    goto(max_x, 0) # go to max_x for x and 0 for y\n",
    "    pd()  # pen down\n",
    "    goto(arrow_x, -arrow_y)   # go to arrow_x for x and arrow_y for y\n",
    "ht()    # hide turtle"
   ]
  },
  {
   "cell_type": "code",
   "execution_count": null,
   "id": "divine-symposium",
   "metadata": {},
   "outputs": [],
   "source": [
    "reset()\n",
    "if show_arrow:   # if you need to draw arrows\n",
    "    arrow_x, arrow_y = max_x - 100, -50\n",
    "    pu()  # pen up\n",
    "    goto(max_x, 0) # go to max_x for x and 0 for y\n",
    "    pd()  # pen down\n",
    "    goto(arrow_x, arrow_y)  # go to arrow_x for x and arrow_y for y\n",
    "    pu() # pen up\n",
    "    goto(max_x, 0) # go to max_x for x and 0 for y\n",
    "    pd()  # pen down\n",
    "    goto(arrow_x, -arrow_y)# go to arrow_x for x and arrow_y for \n",
    "    goto(max_x, 0)"
   ]
  },
  {
   "cell_type": "code",
   "execution_count": null,
   "id": "warming-depth",
   "metadata": {},
   "outputs": [],
   "source": [
    "if show_arrow:                        # 如果需要绘制箭头\n",
    "    right(arrow_degree)                 # 向右转，海龟朝向右侧偏下\n",
    "    bk(arrow_length)                    # 后退一定距离，绘制箭头一边\n",
    "    fd(arrow_length)                    # 回到max_x位置\n",
    "    left(arrow_degree * 2)              # 向左转，海龟朝向右侧偏上\n",
    "    bk(arrow_length)                    # 后退一定距离，绘制箭头另一边\n",
    "    # longer\n",
    "\n",
    "ht()                                  # 隐藏海龟                            "
   ]
  },
  {
   "cell_type": "code",
   "execution_count": null,
   "id": "meaning-costa",
   "metadata": {},
   "outputs": [],
   "source": [
    "bye()"
   ]
  },
  {
   "cell_type": "markdown",
   "id": "thirty-review",
   "metadata": {},
   "source": [
    "### Summary 知识点小结"
   ]
  },
  {
   "cell_type": "markdown",
   "id": "dependent-shower",
   "metadata": {},
   "source": [
    "1. turtle绘图库里的新方法`write`可以在绘图区海龟的当前位置书写文字；\n",
    "2. 新的数据类型：`tuple`元组数据类型，它与`list`数据类型非常类似，但也有区别；\n",
    "3. 在执行一个方法时，方法名后面的小括号`()`内可以接受一个或多个不同的数据，这些数据成为该方法可以接受的参数。方法接受的参数的值不一样，执行该方法最后得到的结果也通常不同；\n",
    "4. 复习格式化字符串的`format`方法；\n",
    "5. 复习`while`循环，并将`while`过程中循环应用到绘图过程中；\n",
    "6. 复习操作符`//`和`%`。"
   ]
  },
  {
   "cell_type": "markdown",
   "id": "described-religious",
   "metadata": {},
   "source": [
    "### 计算机小知识"
   ]
  },
  {
   "cell_type": "markdown",
   "id": "pointed-century",
   "metadata": {},
   "source": [
    "像素，字体`font`"
   ]
  },
  {
   "cell_type": "markdown",
   "id": "sporting-footage",
   "metadata": {
    "heading_collapsed": true
   },
   "source": [
    "### Assignments 作业"
   ]
  },
  {
   "cell_type": "markdown",
   "id": "measured-walker",
   "metadata": {},
   "source": [
    "1. 仔细阅读本讲示例中给出的两种绘制坐标轴方法，回答下面的问题： \n",
    "   Read carefully the two solutions demonstrated in the lecture, answer the following questions:\n",
    "   1. 给第二种方法中的每一行代码添加注释 \n",
    "      Add comments for every code line of the second solution to tell the meaning of each code line.\n",
    "   2. 比较并说出两种方法在绘制坐标轴的差别\n",
    "      Compare the two solutions and tell the difference of them in drawing the axis.\n",
    "   3. 两种方法绘制出来的箭头一模一样吗？为什么？ \n",
    "      Are the arrows drawn by the two solutoins exactly same? why?"
   ]
  },
  {
   "cell_type": "markdown",
   "id": "substantial-terrorist",
   "metadata": {},
   "source": [
    "（B. the first draws a little part of the line and then it draws a mark line\n",
    " the second draws the line first and then it going back to draw the line marks）\n",
    " (C. no because the arrow drawn by the second has a bigger. )\n"
   ]
  },
  {
   "cell_type": "markdown",
   "id": "disciplinary-spotlight",
   "metadata": {
    "hidden": true
   },
   "source": [
    "2. 编程绘制如下图所示的水平坐标轴。所用的刻度间距、刻度线长度等排版指标军与本讲示例相同。其中，与本讲示例不同的是： \n",
    "   By programming, draw horizontal axies as the following figure shows. Most of the parameters, including the marker interval, marker length, etc, have the same value as in the lecture. However, there are still some significant differences, which are:\n",
    "   1. 将表示0刻度坐标值的文字“0”的位置向右移动距离10，刻度线仍保持与相邻的刻度线等距离不变； Move the text \"0\", which indicating the value 0 on the axis, 10 pixels right to its original position. Keep the mark line where it is.\n",
    "   2. 在箭头的下方添加字母\"x\"，字母\"x\"使用的字体是\"Arial\",字号大小为10，风格为“斜体”。Add a letter \"x\" under the arrow at the right end of the axis, use font \"Arial\", size 10, and \"italic\" to write the \"x\"\n",
    "   3. 当调整绘图区域的大小为宽为800像素时，你的代码应该仅需要更新绘图区的宽度而不改变其他地方就能直接调整数轴长度和刻度的显示。When the width of drawing area changed to 800 pixels from 600 pixels, your codes should only need to change the value of `width` while keep others unchanged to draw the axis with new length and markers.\n",
    "\n",
    "<img src=\"figures/L013_assignment1.png\" />\n",
    "\n",
    "<img src=\"figures/L013_assignment1_2.png\" />"
   ]
  },
  {
   "cell_type": "code",
   "execution_count": 1,
   "id": "convinced-division",
   "metadata": {},
   "outputs": [],
   "source": [
    "from turtle import setup, reset, pu, pd, bye, left, right, fd, bk, screensize\n",
    "from turtle import goto, seth, write, ht, st, home, speed\n",
    "width, height = 400, 500   # 窗口的宽度和高度（单位为：像素）\n",
    "setup(width, height, 0, 0)\n",
    "origin = (0, 0)            # 原点的位置\n",
    "padding = 20               # 数轴端点距离绘图区边界距离\n",
    "max_x = width/2 - padding  # x轴最大值\n",
    "show_arrow = True          # 是否显示箭头\n",
    "mark_interval = 50         # 刻度线间距\n",
    "mark_line_length = 10      # 刻度线高度\n",
    "text_offset = 20           # 坐标值距离坐标线的距离\n",
    "\n",
    "mark_degree = 90           # 坐标刻度与坐标轴夹角\n",
    "arrow_length = 10          # 箭头长度\n",
    "arrow_degree = 30          # 箭头与坐标轴夹角\n",
    "delta_x = 1       \n",
    "\n",
    "origin = (0, 0)            # 原点的位置\n",
    "padding = 20               # 数轴端点距离绘图区边界距离\n",
    "max_x = width/2 - padding  # x轴最大值\n",
    "show_arrow = True          # 是否显示箭头\n",
    "mark_interval = 50         # 刻度线间距\n",
    "mark_line_length = 10           # 刻度线高度\n",
    "text_offset = 20           # 坐标值距离坐标线的距离\n",
    "\n",
    "mark_degree = 90           # 坐标刻度与坐标轴夹角\n",
    "arrow_length = 10          # 箭头长度\n",
    "arrow_degree = 30          # 箭头与坐标轴夹角\n",
    "delta_x = 1                # 每次坐标值变化的幅度"
   ]
  },
  {
   "cell_type": "code",
   "execution_count": null,
   "id": "excess-therapist",
   "metadata": {
    "hidden": true
   },
   "outputs": [],
   "source": [
    "reset()\n",
    "\n",
    "# Solution2: using goto() 第二种方法：使用goto()\n",
    "reset()\n",
    "min_x = -1 * max_x\n",
    "\n",
    "# draw line\n",
    "pu()       # 提起画笔，暂停绘图\n",
    "home()     # Move turtle to the origin – coordinates (0,0) 移动小海龟至初始位置\n",
    "           # and set its heading to its start-orientation  并设置朝向为初始朝向\n",
    "goto(min_x, 0)  # go to the left end of the line  移动海龟到坐标轴直线的最左端\n",
    "pd()       # 落下画笔，准备绘图\n",
    "goto(max_x, 0)  # go to the right end of the line 移动海龟到坐标轴直线的最右段\n",
    "\n",
    "# draw mark 绘制刻度线\n",
    "cur_x = min_x     # cur_x is min_x                           \n",
    "while cur_x <= max_x:\n",
    "    if cur_x % mark_interval == 0:\n",
    "        pu()   # pen up\n",
    "        goto(cur_x, 0)   # go to cur_x fof x and 0 for y\n",
    "        pd()   # pen down\n",
    "        goto(cur_x, mark_line_length)         # 绘制刻度线\n",
    "        \n",
    "        pu()   # pen up                          \n",
    "        goto(cur_x, -text_offset)   # go to cur_x for x nd -text_offset for y.\n",
    "        pd() # pen down\n",
    "        if cur_x == 0:\n",
    "            pu()\n",
    "            fd(10)\n",
    "            pd()\n",
    "            \n",
    "        text = str(int(cur_x//mark_interval)) # text is str(int(cur_x//mark_interval))\n",
    "        write(text, align=\"center\")      # 书写刻度值\n",
    "        \n",
    "    cur_x += delta_x  # cur_x is delta_x + delta_x\n",
    "    \n",
    "if show_arrow:   # if you need to draw arrows\n",
    "    arrow_x, arrow_y = max_x - 10, -5\n",
    "    pu()  # pen up\n",
    "    goto(max_x, 0) # go to max_x for x and 0 for y\n",
    "    pd()  # pen down\n",
    "    goto(arrow_x, arrow_y)  # go to arrow_x for x and arrow_y for y\n",
    "    pu() # pen up\n",
    "    goto(max_x, 0) # go to max_x for x and 0 for y\n",
    "    pd()  # pen down\n",
    "    goto(arrow_x, -arrow_y)   # go to arrow_x for x and arrow_y for y\n",
    "pu()\n",
    "goto(max_x, 0)\n",
    "right(90)\n",
    "fd(text_offset)\n",
    "write(\"x\", move=False, align=\"center\", font=(\"Arial\", 10, \"italic\"))\n",
    "\n",
    "\n",
    "ht()    # hide turtle\n",
    "\n",
    "ht()"
   ]
  },
  {
   "cell_type": "code",
   "execution_count": null,
   "id": "wooden-wilderness",
   "metadata": {},
   "outputs": [],
   "source": [
    "st()\n",
    "goto(arrow_x, -arrow_y)   # go to arrow_x for x and arrow_y for y"
   ]
  },
  {
   "cell_type": "markdown",
   "id": "funded-pocket",
   "metadata": {},
   "source": [
    "3. 编程绘制一条如下图所示的垂直方向上的坐标轴。要求：By programming, draw an ertical axis as the following figure shows. Requirement：\n",
    "\n",
    "   1. 该图所是的坐标轴基本上是把水平方向的坐标轴围绕这坐标原点向左侧旋转90度得到；\n",
    "      The axis can basically be considered as a 90 degree of anti-closewise rotation of the horizontal axis illustrated in the lecture with original zero point as the rotation center;\n",
    "   2. 大部分控制数轴风格的参数值与示例中的一样，下列除外：但是刻度线位于坐标轴的右侧，刻度值位于坐标轴的左侧。Most of the parameters controlling the style of the axis are same as introduced in the lecture, except: the marker lines are located on right side of the axis line, and the marker values are on the left side;\n",
    "   3. 隐藏表示0刻度坐标值的文字“0”以及对应的刻度线； Hide the marker line and the marker value for origin point;\n",
    "   4. 在箭头的左侧添加字母\"y\"，字母\"y\"使用的字体是\"Arial\",字号大小为10，风格为“斜体”。Add the letter \"y\" on left side of the axis end, the font for \"y\" is \"Arial\", size is 10, and style is \"italic\";\n",
    "   5. 如果绘图区的高度发生改变不再是400像素，你的代码应仅需要修改一处就能重新绘制出填满大部分（保留上下个20像素高的间隙）绘图区高度的数轴。If the height of drawing area is changed to any other value other than 400 pixels, your codes should only need to change one place in order to draw the new vertical axis that fullfill the most height of the draw area (keep 20 pixels paddings for both ends).\n",
    "\n",
    "<img src=\"figures/L013_assignment3.png\" style=\"align:center\" height=\"400px\"/>"
   ]
  },
  {
   "cell_type": "code",
   "execution_count": 3,
   "id": "younger-amber",
   "metadata": {},
   "outputs": [],
   "source": [
    "reset()\n",
    "\n",
    "#TODO: Add your own codes here 在这里添加你自己的代码\n",
    "# Solution2: using goto() 第二种方法：使用goto()\n",
    "min_x = -1 * max_x\n",
    "\n",
    "# draw line\n",
    "pu()       # 提起画笔，暂停绘图\n",
    "home()     # Move turtle to the origin – coordinates (0,0) 移动小海龟至初始位置\n",
    "           # and set its heading to its start-orientation  并设置朝向为初始朝向\n",
    "goto(0, min_x)  # go to the left end of the line  移动海龟到坐标轴直线的最左端\n",
    "pd()       # 落下画笔，准备绘图\n",
    "goto(0, max_x)  # go to the right end of the line 移动海龟到坐标轴直线的最右段\n",
    "\n",
    "# draw mark 绘制刻度线\n",
    "cur_x = min_x     # cur_x is min_x                           \n",
    "while cur_x <= max_x:\n",
    "    if cur_x % mark_interval == 0:\n",
    "        pu()   # pen up\n",
    "        goto(cur_x, 0)   # go to cur_x fof x and 0 for y\n",
    "        pd()   # pen down\n",
    "        goto(cur_x, mark_line_length)         # 绘制刻度线\n",
    "        \n",
    "        pu()   # pen up                          \n",
    "        goto(cur_x, -text_offset)   # go to cur_x for x nd -text_offset for y.\n",
    "        pd() # pen down\n",
    "        if cur_x == 0:\n",
    "            pass\n",
    "            \n",
    "        else:\n",
    "            text = str(int(cur_x//mark_interval)) # text is str(int(cur_x//mark_interval))\n",
    "            write(text, align=\"center\")      # 书写刻度值\n",
    "        \n",
    "    cur_x += delta_x  # cur_x is delta_x + delta_x\n",
    "    \n",
    "if show_arrow:   # if you need to draw arrows\n",
    "    arrow_x, arrow_y = max_x - 10, -5\n",
    "    pu()  # pen up\n",
    "    goto(max_x, 0) # go to max_x for x and 0 for y\n",
    "    pd()  # pen down\n",
    "    goto(arrow_x, arrow_y)  # go to arrow_x for x and arrow_y for y\n",
    "    pu() # pen up\n",
    "    goto(max_x, 0) # go to max_x for x and 0 for y\n",
    "    pd()  # pen down\n",
    "    goto(arrow_x, -arrow_y)   # go to arrow_x for x and arrow_y for y\n",
    "pu()\n",
    "goto(max_x, 0)\n",
    "right(90)\n",
    "fd(text_offset)\n",
    "write(\"x\", move=False, align=\"center\", font=(\"Arial\", 10, \"italic\"))\n",
    "\n",
    "\n",
    "ht()    # hide turtle\n",
    "\n",
    "ht()"
   ]
  },
  {
   "cell_type": "code",
   "execution_count": 4,
   "id": "compressed-duncan",
   "metadata": {},
   "outputs": [],
   "source": [
    "reset()\n",
    "pd()\n",
    "st()\n",
    "speed(2)\n",
    "\n",
    "min_x = -1 * max_x   # 根据坐标轴允许的最大值，获取该坐标轴允许的最小值 \n",
    "pu()       # 提起画笔，暂停绘图\n",
    "home()     # Move turtle to the origin – coordinates (0,0) 移动小海龟至初始位置\n",
    "right(90)           # and set its heading to its start-orientation  并设置朝向为初始朝向\n",
    "fd(max_x)  # forward max_x\n",
    "pd()       # 落下画笔，准备绘图\n",
    "\n",
    "# draw mark 绘制刻度线\n",
    "cur_x, last_x = min_x, min_x          # 海龟当前位置和最近一次绘图后停留的位置\n",
    "while cur_x <= max_x:                 # 循环\n",
    "    \n",
    "    if cur_x % mark_interval == 0:      # 海龟的位置是相邻刻度间隔长度的整数倍\n",
    "        length_move = cur_x - last_x    # 计算海龟应该前进的长度\n",
    "        pd()                            # 落下画笔，准备绘图\n",
    "        bk(length_move)                 # 海龟前进（绘制一小段）\n",
    "        left(mark_degree)               # 向左转90度，海龟朝正上方，准备绘制刻度线\n",
    "        fd(mark_line_length)                 # 绘制刻度线\n",
    "        pu()                            # 把画笔提起暂停绘图\n",
    "        bk(mark_line_length + text_offset)   # 后退（向下）一段长度\n",
    "        text = str(int(cur_x // mark_interval))# 准备刻度值字符串（由整型数据转换而来）\n",
    "        \n",
    "        if cur_x == 0:\n",
    "            fd(text_offset)\n",
    "            right(90)\n",
    "        else:\n",
    "            write(text, align=\"center\")     # 在当前位置以居中的形式书写文字字符串\n",
    "            fd(text_offset)                 # 前进（向上）一小段长度\n",
    "            right(mark_degree)              # 向右转90度，海龟次朝向右侧\n",
    "        last_x = cur_x                  # 记录海龟当前位置，为下次绘图的起点\n",
    "        \n",
    "    cur_x += delta_x                  # 当前位置增加一小段长度（个单位距离：像素）\n",
    "\n",
    "pd()                                  # 落下画笔，准备绘制\n",
    "fd(max_x - last_x)                    # 绘制最后一个刻度线到数轴最大x值这一小段\n",
    "\n",
    "if show_arrow: # 如果需要绘制箭头\n",
    "    bk(60)\n",
    "    right(arrow_degree)                 # 向右转，海龟朝向右侧偏下\n",
    "    fd(arrow_length)                    # 后退一定距离，绘制箭头一边\n",
    "    bk(arrow_length)                    # 回到max_x位置\n",
    "    left(arrow_degree * 2)              # 向左转，海龟朝向右侧偏上\n",
    "    fd(arrow_length) # 后退一定距离，绘制箭头另一边\n",
    "    pu()\n",
    "    right(120)\n",
    "    fd(20)\n",
    "    write(\"y\", move=False, align=\"left\", font=(\"Arial\", 15, \"italic\"))     # 在当前位置以居中的形式书写文字字符串\n",
    "ht()                                  # 隐藏海龟   "
   ]
  },
  {
   "cell_type": "code",
   "execution_count": null,
   "id": "shared-origin",
   "metadata": {},
   "outputs": [],
   "source": [
    "st()\n",
    "home()"
   ]
  },
  {
   "cell_type": "code",
   "execution_count": null,
   "id": "entire-particle",
   "metadata": {},
   "outputs": [],
   "source": []
  },
  {
   "cell_type": "markdown",
   "id": "bottom-hanging",
   "metadata": {},
   "source": [
    "4. 编程绘制一条如下图所示的水平坐标轴。与本讲示例不同的是：By programming, draw a horizontal axis with major and minor marker lines as shown in the figure. Most of the parameters that control the style of the aixs remain same as introduced in the lecture, except:\n",
    "   1. 在刻度线的内部再绘制9条段的次要刻度线，这样原来相邻的两条刻度线被等间距的分为10个等分，每个等分对应的长度为5；Add 9 minor marker lines within two major marker lines so that every major marker interval is divided into 10 equal minor marker intervals, each 5 pixles length;\n",
    "   2. 与原来刻度线的宽度为10不同，次要刻度线的宽度为6； the length of the minor marker line is 6 pixels, keep the length of the major marker line 10 pixels unchanged;\n",
    "   3. (困难，可选做）在左右两侧整数刻度之外的区域**不要**绘制次要刻度线；(Difficult, Optional) Do **NOT** add minor maker lines on the parts where the position is smaller than the minimal major marker value or larger than the maximal major marker value;\n",
    "   4. 将表示0刻度坐标值的文字“0”的位置向右移动距离10，刻度线仍保持与相邻的刻度线等距离不变； Move the text \"0\", which indicating the value 0 on the axis, 10 pixels right to its original position. Keep the mark line where it is;\n",
    "   5. 在箭头的下方添加字母\"x\"，字母\"x\"使用的字体是\"Arial\",字号大小为10，风格为“斜体”。Add a letter \"x\" under the arrow at the right end of the axis, use font \"Arial\", size 10, and \"italic\" to write the \"x\";\n",
    "   6. 当调整绘图区域的大小为宽为800像素时，你的代码应该仅需要更新绘图区的宽度而不改变其他地方就能直接调整数轴长度和刻度的显示。When the width of drawing area changed to 800 pixels from 600 pixels, your codes should only need to change the value of `width` while keep others unchanged to draw the axis with new length and markers.\n",
    "   \n",
    "<img src=\"figures/L013_assignment4.png\" style=\"align:center\" height=\"400px\"/>"
   ]
  },
  {
   "cell_type": "code",
   "execution_count": 5,
   "id": "adjacent-action",
   "metadata": {},
   "outputs": [],
   "source": [
    "origin = (0, 0)            # 原点的位置\n",
    "padding = 20               # 数轴端点距离绘图区边界距离\n",
    "max_x = width/2 - padding  # x轴最大值\n",
    "show_arrow = True          # 是否显示箭头\n",
    "mark_interval = 50         # 刻度线间距\n",
    "mark_line_length = 10           # 刻度线高度\n",
    "text_offset = 20           # 坐标值距离坐标线的距离\n",
    "minor_mark_line_interval = 5\n",
    "minor_mark_line_length = 6\n",
    "minor_mark_degree = 90\n",
    "\n",
    "mark_degree = 90           # 坐标刻度与坐标轴夹角\n",
    "arrow_length = 100          # 箭头长度\n",
    "arrow_degree = 30          # 箭头与坐标轴夹角\n",
    "delta_x = 1               "
   ]
  },
  {
   "cell_type": "code",
   "execution_count": 6,
   "id": "commercial-kennedy",
   "metadata": {},
   "outputs": [],
   "source": [
    "reset()\n",
    "\n",
    "#TODO: Add your own codes here 在这里添加你自己的代码\n",
    "\n",
    "reset()\n",
    "min_x = -1 * max_x\n",
    "minor_line_drawn_per_mark = 0\n",
    "\n",
    "# draw line\n",
    "pu()       # 提起画笔，暂停绘图\n",
    "home()     # Move turtle to the origin – coordinates (0,0) 移动小海龟至初始位置\n",
    "           # and set its heading to its start-orientation  并设置朝向为初始朝向\n",
    "goto(min_x, 0)  # go to the left end of the line  移动海龟到坐标轴直线的最左端\n",
    "pd()       # 落下画笔，准备绘图\n",
    "goto(max_x, 0)  # go to the right end of the line 移动海龟到坐标轴直线的最右段\n",
    "\n",
    "# draw mark 绘制刻度线\n",
    "cur_x = min_x     # cur_x is min_x                           \n",
    "while cur_x <= max_x:   # while cur_x is still in the line\n",
    "    if minor_line_drawn_per_mark == 9:   #if\n",
    "        \n",
    "        minor_line_drawn_per_mark = 0 # set minor_line_drawn_per_mark to 0 at the start of each while loop\n",
    "        pu()   # pen up\n",
    "        goto(cur_x, 0)   # go to cur_x for x and 0 for y\n",
    "        pd()   # pen down\n",
    "        goto(cur_x, mark_line_length)         # 绘制刻度线\n",
    "        pu()   # pen up                          \n",
    "        goto(cur_x, -text_offset)   # go to cur_x for x nd -text_offset for y.\n",
    "        text = str(int(cur_x//mark_interval)) # text is str(int(cur_x//mark_interval))\n",
    "        write(text, align=\"center\")\n",
    "        pd() # pen down \n",
    "        cur_x += delta_x  # cur_x is delta_x + delta_x\n",
    "\n",
    "    else:\n",
    "\n",
    "        pu()   # pen up\n",
    "        goto(cur_x, 0)   # go to cur_x for x and 0 for y\n",
    "        pd()   # pen down\n",
    "        goto(cur_x, minor_mark_line_length) # 绘制刻度线\n",
    "        minor_line_drawn_per_mark += 1\n",
    "        \n",
    "            \n",
    "        cur_x += minor_mark_line_interval\n",
    "\n",
    "        \n",
    "    \n",
    "if show_arrow:   # if you need to draw arrows\n",
    "    arrow_x, arrow_y = max_x - 10, -5\n",
    "    pu()  # pen up\n",
    "    goto(max_x, 0) # go to max_x for x and 0 for y\n",
    "    pd()  # pen down\n",
    "    goto(arrow_x, arrow_y)  # go to arrow_x for x and arrow_y for y\n",
    "    pu() # pen up\n",
    "    goto(max_x, 0) # go to max_x for x and 0 for y\n",
    "    pd()  # pen down\n",
    "    goto(arrow_x, -arrow_y)   # go to arrow_x for x and arrow_y for y\n",
    "pu()\n",
    "goto(max_x, 0)\n",
    "right(90)\n",
    "fd(text_offset)\n",
    "write(\"x\", move=False, align=\"center\", font=(\"Arial\", 10, \"italic\"))\n",
    "\n",
    "\n",
    "ht()    # hide turtle\n",
    "\n"
   ]
  },
  {
   "cell_type": "code",
   "execution_count": null,
   "id": "extraordinary-veteran",
   "metadata": {},
   "outputs": [],
   "source": []
  },
  {
   "cell_type": "markdown",
   "id": "a31aafe0-e5b3-4911-ad83-f94ec87a1156",
   "metadata": {},
   "source": [
    "<span style=\"color:#ff0000; font-size:300%\"><u>Good</u></span> "
   ]
  },
  {
   "cell_type": "code",
   "execution_count": null,
   "id": "b27fa368-db93-4f66-859f-6cb58f0c9e5b",
   "metadata": {},
   "outputs": [],
   "source": []
  }
 ],
 "metadata": {
  "kernelspec": {
   "display_name": "Python 3",
   "language": "python",
   "name": "python3"
  },
  "language_info": {
   "codemirror_mode": {
    "name": "ipython",
    "version": 3
   },
   "file_extension": ".py",
   "mimetype": "text/x-python",
   "name": "python",
   "nbconvert_exporter": "python",
   "pygments_lexer": "ipython3",
   "version": "3.8.10"
  }
 },
 "nbformat": 4,
 "nbformat_minor": 5
}
