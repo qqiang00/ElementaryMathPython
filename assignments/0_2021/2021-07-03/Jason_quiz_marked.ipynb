{
 "cells": [
  {
   "cell_type": "markdown",
   "id": "complete-christopher",
   "metadata": {},
   "source": [
    "## Quiz 测验\n",
    "\n",
    "**Time**: 2021-07-03 20:00 - 21:30 (GMT-4)\n",
    "\n",
    "**Name**: Jason\n",
    "\n",
    "**Score**:<span style=\"color:#ff0000; font-size:300%\"><u>96</u> See comments on each question title.</span> "
   ]
  },
  {
   "cell_type": "markdown",
   "id": "portuguese-chile",
   "metadata": {},
   "source": [
    "**Instruction**: \n",
    "1. You are allowed to use Internet but not allowed to ask for someone else's help through Internet. 可以使用互联网，但不能通过互联网寻求他人帮助。\n",
    "2. You are allowed to ask for your parents' help. Your parents may only give you oral direction; he or she cannot write the codes for you directly. 可以寻求爸爸妈妈的帮助，但是爸爸妈妈只能给你口头指导，不能代替你写代码\n",
    "3. You need to open your video all the time so that your teacher can see what you are doing. 考试期间全程打开视频让老师知道你在做什么\n",
    "4. You may mute yourself. But if you have some questions to ask, you may unmute and talk to your teacher.正常情况下你应该静音，如果你有问题要询问老师，可以取消静音和老师对话。\n",
    "5. Once time is up, completely stop, change the file name to \"[yourname]_quiz.ipynb\" and upload(or email) your file before 9：30. 一旦时间结束，立即停止答题，将文件名修改为“[你的名字]_quiz.ipynb” 上传（或email)你的文件。\n",
    "\n",
    "\n",
    "**Notes**:\n",
    "1. There are 5 questions. Each worth 20 points. 一共有5道题目，每题20分。\n",
    "2. You may modify the codes or add new codes lines following each`#TODO` instruction.你需要遵循`#TODO`提供的要求来修改现有的代码或新增一行或多行代码。\n",
    "<hr>"
   ]
  },
  {
   "cell_type": "markdown",
   "id": "revolutionary-questionnaire",
   "metadata": {},
   "source": [
    "### Question 1 **<span style=\"color:#FF0000\">20/20</span>**\n",
    "\n",
    "Complete the following codes so that the program can:\n",
    "\n",
    "完成下面的代码使得程序能够：\n",
    "1. let the compute wait for your input from keyboard with prompt \"Please input a number:\";\n",
    "   让计算机等待来自键盘的输入，给出提示文字:\"请输入一个数:\";\n",
    "2. type 100 by keyboard; \n",
    "   从键盘输入100;\n",
    "3. check the number from keyboard is odd or even, print the result.\n",
    "   检查输入的数是奇数还是偶数，打印出结果\n",
    "\n"
   ]
  },
  {
   "cell_type": "code",
   "execution_count": 1,
   "id": "correct-shade",
   "metadata": {},
   "outputs": [
    {
     "name": "stdin",
     "output_type": "stream",
     "text": [
      "Please input a number:  100\n"
     ]
    },
    {
     "name": "stdout",
     "output_type": "stream",
     "text": [
      "100 is even.\n",
      "100是偶数。\n"
     ]
    }
   ],
   "source": [
    "variable_input = input(\"Please input a number: \")\n",
    "\n",
    "# TODO: receive keyboard input with prompt: \"Please input a number:\"\n",
    "#       接受来自键盘的输入，提示语句为:\"请输入一个数字：\"\n",
    "\n",
    "variable = int(variable_input)\n",
    "if variable % 2 == 0: # TODO: replace True with a proper conditional expression \n",
    "         #       用一个恰当的条件表达式来替换True    \n",
    "    print(\"{} is even.\\n{}是偶数。\".format(variable, variable))\n",
    "else:\n",
    "    print(\"{} is Odd.\\n{}是奇数。\".format(variable, variable))"
   ]
  },
  {
   "cell_type": "markdown",
   "id": "driving-delta",
   "metadata": {},
   "source": [
    "<hr>\n",
    "\n",
    "### Question 2  **<span style=\"color:#FF0000\">18/20, if else can be optimized.</span>**\n",
    "Complete the following codes so that the program can:\n",
    "补全下面的代码使得程序能够：\n",
    "1. Randomly generate two integers between 100 and 200(both included);随机生成在100和200之间（包括100和200）的两个整数；\n",
    "2. Compute the sum of two integers;计算这两个整数的和；\n",
    "3. Compute the difference of the two integers. If two integers are not same, the difference should be the larger integer subtract the smaller one. If two integers are same, use either integer to subtract the other.计算这两个整数的差。如果这两个数不相等，差通过较大的数减去较小的数得出。如果两个数相等，可以使用任意一个整数减去另一个计算差；\n",
    "4. Print the results.打印出结果。"
   ]
  },
  {
   "cell_type": "code",
   "execution_count": 2,
   "id": "expired-transaction",
   "metadata": {},
   "outputs": [
    {
     "name": "stdout",
     "output_type": "stream",
     "text": [
      "The integers generated are 131 and 186\n",
      "生成的两个整数分别是131和186\n",
      "The sum is 317; the difference is 55\n",
      "他们的和是317;差是55\n",
      "Since the difference is calculated by larger integer minus smaller one\n",
      "由于差是用较大的数减去较小的数得到的\n",
      "The difference is always greater than or euqal to 0.\n",
      "这个差总是大于或等于0。\n"
     ]
    }
   ],
   "source": [
    "# TODO: import the method for generate a random integer with certain range\n",
    "#       从某一个仓库李导入一个可以随即生成一定范围内整数的方法\n",
    "from random import randint\n",
    "num1 = randint(100, 200)  # TODO: replace 102 with a method imported. 用一个导入的方法替换102\n",
    "num2 = randint(100, 200)  # TODO: replace 198 with a method imported. 用一个导入的方法替换198\n",
    "\n",
    "sum_ = num1 + num2\n",
    "diff = None\n",
    "if num1 > num2:    # TODO: replace True with proper conditional expression\n",
    "            #       用恰当的条件表达式替代True\n",
    "    diff = num1 - num2\n",
    "elif num2 > num1:\n",
    "    diff = num2 - num1\n",
    "else:\n",
    "    diff = num2 - num1\n",
    "    \n",
    "print(\"The integers generated are {} and {}\".format(num1, num2))\n",
    "print(\"生成的两个整数分别是{}和{}\".format(num1, num2))\n",
    "print(\"The sum is {}; the difference is {}\".format(sum_, diff))\n",
    "print(\"他们的和是{};差是{}\".format(sum_, diff))\n",
    "print(\"Since the difference is calculated by larger integer minus smaller one\")\n",
    "print(\"由于差是用较大的数减去较小的数得到的\")\n",
    "print(\"The difference is always greater than or euqal to 0.\")\n",
    "print(\"这个差总是大于或等于0。\")\n",
    "if diff < 0:\n",
    "    print(\"::: When you see this output, it says your codes didn't meet the requirements.\")\n",
    "    print(\"::: 当你看到这行输出，说明你的代码不符合要求。\")"
   ]
  },
  {
   "cell_type": "markdown",
   "id": "double-filename",
   "metadata": {},
   "source": [
    "<hr>\n",
    "\n",
    "### Question 3 **<span style=\"color:#FF0000\">20/20</span>**\n",
    "Complete the following codes so that the program find all the factors of 397 and check whether 397 is a prime or a composite: \n",
    "\n",
    "补全下面的代码使得程序能够找出397的所有因数并且检查397是一个质数还是一个合数："
   ]
  },
  {
   "cell_type": "code",
   "execution_count": 3,
   "id": "daily-phrase",
   "metadata": {},
   "outputs": [
    {
     "name": "stdout",
     "output_type": "stream",
     "text": [
      "397 is a prime.\n",
      "[397]\n"
     ]
    }
   ],
   "source": [
    "num = 397\n",
    "factors = []\n",
    "i = 1\n",
    "while i <= num:\n",
    "    if num % i == 0:      # TODO: replace True with a proper conditional expression.\n",
    "                  #       用合适的条件表达式替代True\n",
    "        # TODO: add i to the factors as one of its elements\n",
    "        #       将i添加到factors列表中作为其一个元素\n",
    "        factors.append(i)\n",
    "#        pass      \n",
    "    \n",
    "    i += 1\n",
    "\n",
    "factors.remove(1)\n",
    "result = \"unknown\"\n",
    "required_length = 1     # TODO: replace 2 with a correct value\n",
    "                        #       用正确的值替换2\n",
    "if len(factors) > required_length:\n",
    "    result = \"a composite\"                  # 一个合数\n",
    "elif len(factors) == required_length:\n",
    "    result = \"a prime\"                      # 一个质数\n",
    "else:\n",
    "    result = \"not a prime, nor a composite\" # 既不是质数也不是合数\n",
    "    \n",
    "print(\"{} is {}.\".format(num, result))\n",
    "print(factors)"
   ]
  },
  {
   "cell_type": "markdown",
   "id": "operating-secretariat",
   "metadata": {},
   "source": [
    "<hr>\n",
    "\n",
    "### Question 4 **<span style=\"color:#FF0000\">18/20, In line 10, better to use delta_time to replace 1</span>**\n",
    "A water container has one inlet and one outlet. If both inlet and outlet are turned on, every second, there will be 5 liters of water flowing into the container and 3 liters of water flowing away from the outlet. The container can store 500 liters of water at most. At the time 0, there are 100 liters of water in the container. If both inlet and outlet are turned on, will the container be completely full after some time? If yes, when will the container be full? If not, why?\n",
    "\n",
    "一个装水的容器有一个进水口和一个出水口。如果同时把进水口和出水口打开，每秒钟会有5升的水从进水口流入这个容器，同时有3升的水从出水口流出这个容器。已知容器最多可以装500升的水，且在时刻0，容器里已有100升的水。此时把进水口和出水口同时打开，经过一段时间后这个容器是否会装满水？如果是，大概经过多少时间容器会满；如果不是，为什么？\n",
    "\n",
    "通过补全下面的带来来完成这个问题。\n",
    "\n",
    "By completing the following codes to answer this question."
   ]
  },
  {
   "cell_type": "code",
   "execution_count": 4,
   "id": "instructional-density",
   "metadata": {},
   "outputs": [
    {
     "name": "stdout",
     "output_type": "stream",
     "text": [
      "after about 200 second, the container will be full.\n",
      "经过200秒，容器将会被水注满。\n"
     ]
    }
   ],
   "source": [
    "in_speed, out_speed = 5, 3\n",
    "max_water_in_container = 500\n",
    "cur_water_in_container = 100\n",
    "time_passed = 0\n",
    "delta_time = 1\n",
    "while True:\n",
    "    cur_water_in_container += (in_speed - out_speed) * delta_time\n",
    "    # TODO: update time_passed with proper value.\n",
    "    #       用恰当的值更新变量 time_passed\n",
    "    time_passed += 1\n",
    "    if cur_water_in_container >= max_water_in_container:\n",
    "        pass\n",
    "        # TODO: add some code to break the while loop\n",
    "        #       添加一些代码来终止循环\n",
    "        break\n",
    "\n",
    "        \n",
    "    \n",
    "print(\"after about {} second, the container will be full.\".format(time_passed))\n",
    "print(\"经过{}秒，容器将会被水注满。\".format(time_passed))"
   ]
  },
  {
   "cell_type": "markdown",
   "id": "varying-roads",
   "metadata": {},
   "source": [
    "<hr>\n",
    "\n",
    "### Question 5 **<span style=\"color:#FF0000\">20/20</span>**\n",
    "Complete the following codes so that the program can draw 10 centered suqares with side length increasing by 20 like the following figure shows:\n",
    "\n",
    "补全下面的代码使得程序能够在绘图区的中央绘制如下图所是的10个边长依次增大20的正方形：\n",
    "\n",
    "<img src = \"figures/L012Quiz_10_centered_squares.png\"/>"
   ]
  },
  {
   "cell_type": "code",
   "execution_count": 1,
   "id": "departmental-journal",
   "metadata": {},
   "outputs": [],
   "source": [
    "from turtle import setup, reset, left, right, pu, pd, fd, bk, st, ht\n",
    "from turtle import goto, seth, speed, bye\n",
    "setup(400, 400, 0, 0)"
   ]
  },
  {
   "cell_type": "code",
   "execution_count": 2,
   "id": "peripheral-desktop",
   "metadata": {},
   "outputs": [],
   "source": [
    "reset()\n",
    "n_square = 10\n",
    "square_drawn = 0\n",
    "edge_size = 20\n",
    "\n",
    "while square_drawn < n_square:\n",
    "    edge = edge_size * (square_drawn + 1)\n",
    "    pu()         \n",
    "    goto(0, 0)   # let turtle go to the center of drawing area\n",
    "    \n",
    "    #TODO: add your codes here to draw a centered square with side length of `edge`\n",
    "    #      添加多行代码绘制一个位于绘图取正中、边长为`edge`的正方形\n",
    "    go = edge / 2\n",
    "    fd(go)\n",
    "    pd()\n",
    "    right(90)\n",
    "    fd(go)\n",
    "    right(90)\n",
    "    fd(edge)\n",
    "    right(90)\n",
    "    fd(edge)\n",
    "    right(90)\n",
    "    fd(edge)\n",
    "    right(90)\n",
    "    fd(go)\n",
    "    left(90)\n",
    "    square_drawn += 1\n",
    "    \n",
    "ht()              # hide turtle"
   ]
  },
  {
   "cell_type": "code",
   "execution_count": 3,
   "id": "fluid-lambda",
   "metadata": {},
   "outputs": [],
   "source": [
    "bye()"
   ]
  },
  {
   "cell_type": "markdown",
   "id": "departmental-class",
   "metadata": {},
   "source": [
    "<hr>\n",
    "\n",
    "**You came to the end of the Quiz.**\n",
    "\n",
    "**你已经来到了试卷末尾。**"
   ]
  }
 ],
 "metadata": {
  "kernelspec": {
   "display_name": "Python 3",
   "language": "python",
   "name": "python3"
  },
  "language_info": {
   "codemirror_mode": {
    "name": "ipython",
    "version": 3
   },
   "file_extension": ".py",
   "mimetype": "text/x-python",
   "name": "python",
   "nbconvert_exporter": "python",
   "pygments_lexer": "ipython3",
   "version": "3.8.10"
  }
 },
 "nbformat": 4,
 "nbformat_minor": 5
}
