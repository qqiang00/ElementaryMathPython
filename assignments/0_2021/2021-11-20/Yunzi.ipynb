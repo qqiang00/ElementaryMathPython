{
 "cells": [
  {
   "cell_type": "markdown",
   "id": "179bbfdd",
   "metadata": {},
   "source": [
    "## 第20讲 正方形与乘方"
   ]
  },
  {
   "cell_type": "code",
   "execution_count": 1,
   "id": "fe105340-01cd-4421-a903-03c660f0c11a",
   "metadata": {},
   "outputs": [],
   "source": [
    "def xiezuoye(kemu, shichang):\n",
    "    print(\"我要写{}作业{}时间\".format(kemu, shichang))\n",
    "    pass"
   ]
  },
  {
   "cell_type": "code",
   "execution_count": 2,
   "id": "ac0b615e-21b3-4ea5-8fea-4ed6e84c710d",
   "metadata": {
    "tags": []
   },
   "outputs": [
    {
     "name": "stdout",
     "output_type": "stream",
     "text": [
      "我要写编程作业30分钟时间\n"
     ]
    }
   ],
   "source": [
    "xiezuoye(\"编程\",\"30分钟\")"
   ]
  },
  {
   "cell_type": "code",
   "execution_count": 3,
   "id": "302e7c95-4279-4f80-9429-9d7b6d55c59e",
   "metadata": {},
   "outputs": [
    {
     "name": "stdout",
     "output_type": "stream",
     "text": [
      "我要写30分钟作业编程时间\n"
     ]
    }
   ],
   "source": [
    "xiezuoye(\"30分钟\", \"编程\")"
   ]
  },
  {
   "cell_type": "markdown",
   "id": "8276d0c7",
   "metadata": {},
   "source": [
    "### Problem 问题描述"
   ]
  },
  {
   "cell_type": "markdown",
   "id": "572c8820",
   "metadata": {},
   "source": [
    "使用`qianglib`库提供的方法，绘制方格坐标纸，其中坐标系的原点`(0,0)`位于绘图区的最左下方，使用的`scale`值为`20`. Use the methods provided in the library `qianglib`, draw a grid coordinate system where the origin `(0, 0)` is at the bottom left of the coordinate system."
   ]
  },
  {
   "cell_type": "markdown",
   "id": "8e734cd5",
   "metadata": {},
   "source": [
    "1. 以点A(10, 12), B(20, 12)两点为端点，绘制一条线段AB，编程计算这条边的边长。Given the coordiante values of point A(10, 12) and B(20, 12), Draw a line segment with A and B as endpoints. Calculate the length of AB by programming."
   ]
  },
  {
   "cell_type": "markdown",
   "id": "59060a2e",
   "metadata": {},
   "source": [
    "2. 绘制一个正方形，使得先前绘制的线段AB为正方形的一条边。Draw a square and make line segment AB be one side of the square.\n"
   ]
  },
  {
   "cell_type": "markdown",
   "id": "ffe6e08c",
   "metadata": {},
   "source": [
    "3. 数一数这个正方形内一共有多少个边长为1的单位正方形，这个数量同时也是这个正方形的面积。 Count how many unit square(side length with 1) does the Square have. The result will be the area of the square as well.\n"
   ]
  },
  {
   "cell_type": "markdown",
   "id": "ca9485c9",
   "metadata": {},
   "source": [
    "4. 保持点A的横纵坐标值不变，保持点B的纵坐标不变，将点B的横坐标分别改为11至20之间的任何一个数，重新绘制线段AB，计算它的长度，并以它为一条边绘制正方形，对于每画出一次的正方形，计算或数出来这个正方形里有多少边长为1的单位正方形。将结果填入下面的表格。Keep the both coordinate values of A and vertical vlue of B as they are, change only the horizontal value of B to every integer from 11 to 20. redraw the line segment AB and corresponding square. For each square you draw, calculate its side length and how many unit square it contains. Write the result into the following table.\n",
    "\n",
    "| A       |  B      | Side Length | #Unit Square(Area) |\n",
    "|:---------:|:---------:|:-----:|:----------------:|\n",
    "|(10, 12) |(11, 12) |   1 |           1            |\n",
    "|(10, 12) |(12, 12) |   2 |           4            |\n",
    "|(10, 12) |(13, 12) |   3 |           9            |\n",
    "|(10, 12) |(14, 12) |   4 |           16           |\n",
    "|(10, 12) |(15, 12) |   5 |           25           |\n",
    "|(10, 12) |(16, 12) |   6 |           36           |\n",
    "|(10, 12) |(17, 12) |   7 |           49           |\n",
    "|(10, 12) |(18, 12) |   8 |           64           |\n",
    "|(10, 12) |(19, 12) |   9 |           81           |\n",
    "|(10, 12) |(20, 12) |   10|           100          |\n"
   ]
  },
  {
   "cell_type": "markdown",
   "id": "8daea103",
   "metadata": {},
   "source": [
    "5. 编写一个方法，该方法接受一个整数参数，计算这个整数参数乘以自己的积，并把这个结果作为方法的返回值。然后调用该方法，将1-10之间的每一个整数作为参数传给该方法，打印每一次方法得到的返回值。Write a method which receives an integer `a` as a parameter and return the value of `a*a`。 For each integer from 1 to 10, call this method with the integer as parameter, print out the return value of the method. "
   ]
  },
  {
   "cell_type": "markdown",
   "id": "bf19c660",
   "metadata": {},
   "source": [
    "6. 用目前已经学过的编程知识，尝试编写一个方法来计算一个给定面积的正方形它的（近似）边长。调用你写的方法来计算当一个正方形面积分别位1，4，9，15，25，30时，它的边长大概是多少。Use the coding skills learned so far, try to write a method to get the side length of a square with given area. call the method you implemented to get the side length of the square whose areas are the following: 1, 4, 9, 15, 25, 30.\n",
    "\n",
    "   "
   ]
  },
  {
   "cell_type": "markdown",
   "id": "cc89acbf",
   "metadata": {},
   "source": [
    "**Answer Area**"
   ]
  },
  {
   "cell_type": "code",
   "execution_count": null,
   "id": "bb0aa025",
   "metadata": {},
   "outputs": [],
   "source": []
  },
  {
   "cell_type": "markdown",
   "id": "4210554f",
   "metadata": {},
   "source": [
    "### Math Background 数学背景\n",
    "\n",
    "1. 正方形的面积等于边长与自己的乘积\n",
    "2. 两个相同的数相乘又称为这个数的乘方或2次方"
   ]
  },
  {
   "cell_type": "markdown",
   "id": "7f0a1cb3",
   "metadata": {
    "heading_collapsed": true
   },
   "source": [
    "### Prerequisites 预备知识"
   ]
  },
  {
   "cell_type": "markdown",
   "id": "ec851c09",
   "metadata": {},
   "source": [
    "无"
   ]
  },
  {
   "cell_type": "markdown",
   "id": "e122f215",
   "metadata": {},
   "source": [
    "### Solution 编程求解"
   ]
  },
  {
   "cell_type": "markdown",
   "id": "e32353f0",
   "metadata": {},
   "source": [
    "1. "
   ]
  },
  {
   "cell_type": "code",
   "execution_count": 1,
   "id": "a445459b",
   "metadata": {},
   "outputs": [],
   "source": [
    "from turtle import setup, reset, pu, pd, bye, left, right, fd, bk, screensize\n",
    "from turtle import goto, seth, write, ht, st, home, dot, pen, speed\n",
    "from qianglib import prepare_paper, draw_grid, mark, lines, line, polygon, text"
   ]
  },
  {
   "cell_type": "code",
   "execution_count": 2,
   "id": "d8b2fafc",
   "metadata": {},
   "outputs": [],
   "source": [
    "width, height = 800, 600\n",
    "setup(width, height, 0, 0)\n",
    "prepare_paper(width, height, scale=20, min_x=0, min_y=0, max_y=25)"
   ]
  },
  {
   "cell_type": "code",
   "execution_count": 3,
   "id": "645c7d7d",
   "metadata": {},
   "outputs": [],
   "source": [
    "A, B = (10, 12), (20, 12)\n",
    "line(A, B)"
   ]
  },
  {
   "cell_type": "code",
   "execution_count": 4,
   "id": "fd1460fb",
   "metadata": {},
   "outputs": [],
   "source": [
    "mark(A, \"A\"+str(A))\n",
    "mark(B, \"B\"+str(B))"
   ]
  },
  {
   "cell_type": "code",
   "execution_count": 5,
   "id": "51afc27a",
   "metadata": {},
   "outputs": [
    {
     "name": "stdout",
     "output_type": "stream",
     "text": [
      "10\n"
     ]
    }
   ],
   "source": [
    "side_length = B[0] - A[0]3\n",
    "print(side_length)"
   ]
  },
  {
   "cell_type": "code",
   "execution_count": 6,
   "id": "e4a2dc14",
   "metadata": {},
   "outputs": [],
   "source": [
    "C = (B[0], B[1]-side_length)\n",
    "mark(C, \"C\"+str(C))"
   ]
  },
  {
   "cell_type": "code",
   "execution_count": 7,
   "id": "13293d6f",
   "metadata": {},
   "outputs": [],
   "source": [
    "D = (A[0], A[1]-side_length)\n",
    "mark(D, \"D\"+str(D))"
   ]
  },
  {
   "cell_type": "code",
   "execution_count": 8,
   "id": "1fcff985",
   "metadata": {},
   "outputs": [],
   "source": [
    "square_down = [A, B, C, D]  \n",
    "            # [A, D, C, B]\n",
    "            # [B, C, D ，A]\n",
    "polygon(square_down, color = \"red\", linewidth = 3)       \n"
   ]
  },
  {
   "cell_type": "code",
   "execution_count": 9,
   "id": "a799faa9",
   "metadata": {},
   "outputs": [],
   "source": [
    "E = (B[0], B[1]+side_length)\n",
    "mark(E, \"E\"+str(E))"
   ]
  },
  {
   "cell_type": "code",
   "execution_count": 15,
   "id": "e5409564",
   "metadata": {},
   "outputs": [],
   "source": [
    "F = (A[0], A[1]+side_length)\n",
    "mark(F, \"F\"+str(F))"
   ]
  },
  {
   "cell_type": "code",
   "execution_count": 16,
   "id": "d7b40997",
   "metadata": {},
   "outputs": [],
   "source": [
    "square_up = [A, B, E, F]\n",
    "polygon(square_up, color=\"green\", linewidth=3)"
   ]
  },
  {
   "cell_type": "code",
   "execution_count": 17,
   "id": "2b493c10",
   "metadata": {},
   "outputs": [],
   "source": [
    "square_unit = [(1, 1), (1, 2), (2, 2), (2, 1)]\n",
    "polygon(square_unit, fillcolor=\"black\", color=\"black\")"
   ]
  },
  {
   "cell_type": "code",
   "execution_count": 19,
   "id": "f6f3b3cd",
   "metadata": {},
   "outputs": [],
   "source": [
    "square_unit2 = [(1, 5), (3, 5), (3, 7), (1, 7)]\n",
    "polygon(square_unit2, fillcolor=\"yellow\", color=\"black\")"
   ]
  },
  {
   "cell_type": "code",
   "execution_count": 21,
   "id": "c869ea62",
   "metadata": {},
   "outputs": [
    {
     "name": "stdout",
     "output_type": "stream",
     "text": [
      "4\n"
     ]
    }
   ],
   "source": [
    "a = 2\n",
    "area = a*a\n",
    "print(area)"
   ]
  },
  {
   "cell_type": "code",
   "execution_count": 22,
   "id": "629aaafe",
   "metadata": {},
   "outputs": [
    {
     "name": "stdout",
     "output_type": "stream",
     "text": [
      "4\n"
     ]
    }
   ],
   "source": [
    "area2 = a**2\n",
    "print(area2)"
   ]
  },
  {
   "cell_type": "code",
   "execution_count": 25,
   "id": "8ce6a2f2",
   "metadata": {},
   "outputs": [
    {
     "name": "stdout",
     "output_type": "stream",
     "text": [
      "4\n"
     ]
    },
    {
     "data": {
      "text/plain": [
       "True"
      ]
     },
     "execution_count": 25,
     "metadata": {},
     "output_type": "execute_result"
    }
   ],
   "source": [
    "print(a**2)  # 乘方, sqaure, exponent of 2, power of 2\n",
    "a**2 == a*a"
   ]
  },
  {
   "cell_type": "code",
   "execution_count": null,
   "id": "503ee64e",
   "metadata": {},
   "outputs": [],
   "source": [
    "def square_area(side_length):\n",
    "    area = None\n",
    "    # TODO\n",
    "    return area"
   ]
  },
  {
   "cell_type": "markdown",
   "id": "aaea0228",
   "metadata": {},
   "source": [
    "### Summary 知识点小结"
   ]
  },
  {
   "cell_type": "markdown",
   "id": "852f1a8e",
   "metadata": {},
   "source": [
    "1. 乘方运算符`**`\n",
    "2. 复习tuple\n",
    "3. 复习qianglib的一些方法\n",
    "4. 复习方法的返回值\n"
   ]
  },
  {
   "cell_type": "markdown",
   "id": "295406a2",
   "metadata": {},
   "source": [
    "### 计算机小知识"
   ]
  },
  {
   "cell_type": "markdown",
   "id": "74bc1b78",
   "metadata": {},
   "source": [
    "暂缺"
   ]
  },
  {
   "cell_type": "markdown",
   "id": "c4168c89",
   "metadata": {
    "heading_collapsed": true
   },
   "source": [
    "### Assignments 作业\n",
    "\n",
    "#### Complete Question 4,5 and 6 完成本讲问题4，5和6."
   ]
  },
  {
   "cell_type": "markdown",
   "id": "87121720",
   "metadata": {},
   "source": [
    "在本讲中，我们用一个包含4个元素的list变量来描述一个四边平行于坐标轴的正方形，其中这个list变量里的每一个元素都是长度为类似(x, y)形式的tuple类型的数据，它表示正方形四个顶点中的一个顶点的坐标。事实上，这样的边平行于坐标轴的正方形还可以用这个正方形中心点的坐标外加一个表示长度的变量来描述。\n",
    "\n",
    "例如：[(10, 12), (20, 12), (20, 2), (10, 2)]表示的正方形可以用(15, 7)和10来表 示。其中(15, 7)是这个正方形中心点的坐标，10则代表正方形的边长。\n",
    "\n",
    "1). 请你声明并实现一个方法，该方法通过调用qianglib库的一些绘图方法绘制出一个边平行 于坐标轴的正方形。同时，这个方法接受两个参数，第一个参数为要绘制的正方形的中心点的坐 标，数据为tuple类型，第二个参数为正方形的边长，数据为整数integer或小数类型。该方法 仅完成绘制，没有返回值。\n",
    "\n",
    "2). 请调用你创建的绘制正方形的方法，绘制出中心点在(15, 15)边长分别为2，4，6，10， 12这5个边平行于坐标轴的正方形。\n",
    "\n",
    "3). 比较并用文字说出两种描述正方形的方式各自的优点和缺点。\n",
    "\n",
    "In this lecture, we use a list variable containing 4 elements to describe a square with four sides parallel to coordinate axises, where each element in the list variable has a tuple data structure of (x, y), representing the coordinates of one of the four vertices of the square. In fact, such a square can also be described by the coordinates of the center point of the square plus a variable representing the length.\n",
    "\n",
    "For example: consider a square defined by a list like: [(10, 12), (20, 12), (20, 2), (10, 2)]， it can also be represented by (15, 7) and 10, where (15, 7) is the coordinates of the center point of the square, and 10 is the side length of the square.\n",
    "\n",
    "1). Please declare and implement a method that draws a square with sides parallel to the coordinate axis by calling some drawing methods in the qianglib library. More specifically, this method should accept two parameters with the first parameter indicating the coordinates of the center point (tuple of (x, y)) of the square to be drawn and the second parameter being equal to the side length (integer or a decimal) of the square. This method only completes the drawing and has no return value.\n",
    "\n",
    "2). Please call the method you created, draw 5 squares (side parallel to axis) whose center point are the same as (15, 15) and side lengths are 2, 4, 6, 10, 12, respectively.\n",
    "\n",
    "3). Compare and use your own words to describe the advantages and disadvantages of the above two ways of describing squares."
   ]
  },
  {
   "cell_type": "code",
   "execution_count": 1,
   "id": "0aa3984b",
   "metadata": {},
   "outputs": [],
   "source": [
    "from turtle import setup, reset, pu, pd, bye, left, right, fd, bk, screensize\n",
    "from turtle import goto, seth, write, ht, st, home, dot, pen, speed\n",
    "from qianglib import prepare_paper, draw_grid, mark, lines, line, polygon, text"
   ]
  },
  {
   "cell_type": "code",
   "execution_count": 2,
   "id": "9e9818df",
   "metadata": {},
   "outputs": [],
   "source": [
    "width, height = 800, 600\n",
    "setup(width, height, 0, 0)\n",
    "prepare_paper(width, height, scale=20, min_x=0, min_y=0, max_y=25)"
   ]
  },
  {
   "cell_type": "code",
   "execution_count": 3,
   "id": "8af18d3f",
   "metadata": {},
   "outputs": [],
   "source": [
    "# Declare and implement your method\n",
    "def draw_square(center, side_length):\n",
    "    pu()\n",
    "    length = side_length / 2\n",
    "    fd(length)\n",
    "    left(90)\n",
    "    fd(length)\n",
    "    left(90)\n",
    "    fd(center)\n",
    "    left(90)\n",
    "    fd(center)\n",
    "    left(90)\n",
    "    fd(center)\n",
    "    left(90)\n",
    "    fd(length)\n",
    "    return"
   ]
  },
  {
   "cell_type": "code",
   "execution_count": null,
   "id": "dcc14015",
   "metadata": {},
   "outputs": [],
   "source": [
    "# call your method to draw\n",
    "center = (15, 15)\n",
    "side_lengths = [2, 4, 6, 10, 12]\n",
    "# use for or while loop to draw 5 squares, using the method just created.\n",
    "\n",
    "# TODO add your own code here"
   ]
  },
  {
   "cell_type": "code",
   "execution_count": 4,
   "id": "42c21b46",
   "metadata": {},
   "outputs": [
    {
     "ename": "TypeError",
     "evalue": "can't multiply sequence by non-int of type 'float'",
     "output_type": "error",
     "traceback": [
      "\u001b[1;31m---------------------------------------------------------------------------\u001b[0m",
      "\u001b[1;31mTypeError\u001b[0m                                 Traceback (most recent call last)",
      "\u001b[1;32m<ipython-input-4-cbe6438fab5c>\u001b[0m in \u001b[0;36m<module>\u001b[1;34m\u001b[0m\n\u001b[1;32m----> 1\u001b[1;33m \u001b[0mdraw_square\u001b[0m\u001b[1;33m(\u001b[0m\u001b[1;33m(\u001b[0m\u001b[1;36m15\u001b[0m\u001b[1;33m,\u001b[0m \u001b[1;36m15\u001b[0m\u001b[1;33m)\u001b[0m\u001b[1;33m,\u001b[0m \u001b[1;36m10\u001b[0m\u001b[1;33m)\u001b[0m\u001b[1;33m\u001b[0m\u001b[0m\n\u001b[0m",
      "\u001b[1;32m<ipython-input-3-4249702a2ce5>\u001b[0m in \u001b[0;36mdraw_square\u001b[1;34m(center, side_length)\u001b[0m\n\u001b[0;32m      7\u001b[0m     \u001b[0mfd\u001b[0m\u001b[1;33m(\u001b[0m\u001b[0mlength\u001b[0m\u001b[1;33m)\u001b[0m\u001b[1;33m\u001b[0m\u001b[0m\n\u001b[0;32m      8\u001b[0m     \u001b[0mleft\u001b[0m\u001b[1;33m(\u001b[0m\u001b[1;36m90\u001b[0m\u001b[1;33m)\u001b[0m\u001b[1;33m\u001b[0m\u001b[0m\n\u001b[1;32m----> 9\u001b[1;33m     \u001b[0mfd\u001b[0m\u001b[1;33m(\u001b[0m\u001b[0mcenter\u001b[0m\u001b[1;33m)\u001b[0m\u001b[1;33m\u001b[0m\u001b[0m\n\u001b[0m\u001b[0;32m     10\u001b[0m     \u001b[0mleft\u001b[0m\u001b[1;33m(\u001b[0m\u001b[1;36m90\u001b[0m\u001b[1;33m)\u001b[0m\u001b[1;33m\u001b[0m\u001b[0m\n\u001b[0;32m     11\u001b[0m     \u001b[0mfd\u001b[0m\u001b[1;33m(\u001b[0m\u001b[0mcenter\u001b[0m\u001b[1;33m)\u001b[0m\u001b[1;33m\u001b[0m\u001b[0m\n",
      "\u001b[1;32mC:\\Program Files\\Python35\\lib\\turtle.py\u001b[0m in \u001b[0;36mfd\u001b[1;34m(distance)\u001b[0m\n",
      "\u001b[1;32mC:\\Program Files\\Python35\\lib\\turtle.py\u001b[0m in \u001b[0;36mforward\u001b[1;34m(self, distance)\u001b[0m\n\u001b[0;32m   1635\u001b[0m         \u001b[1;33m(\u001b[0m\u001b[1;33m-\u001b[0m\u001b[1;36m50.00\u001b[0m\u001b[1;33m,\u001b[0m\u001b[1;36m0.00\u001b[0m\u001b[1;33m)\u001b[0m\u001b[1;33m\u001b[0m\u001b[0m\n\u001b[0;32m   1636\u001b[0m         \"\"\"\n\u001b[1;32m-> 1637\u001b[1;33m         \u001b[0mself\u001b[0m\u001b[1;33m.\u001b[0m\u001b[0m_go\u001b[0m\u001b[1;33m(\u001b[0m\u001b[0mdistance\u001b[0m\u001b[1;33m)\u001b[0m\u001b[1;33m\u001b[0m\u001b[0m\n\u001b[0m\u001b[0;32m   1638\u001b[0m \u001b[1;33m\u001b[0m\u001b[0m\n\u001b[0;32m   1639\u001b[0m     \u001b[1;32mdef\u001b[0m \u001b[0mback\u001b[0m\u001b[1;33m(\u001b[0m\u001b[0mself\u001b[0m\u001b[1;33m,\u001b[0m \u001b[0mdistance\u001b[0m\u001b[1;33m)\u001b[0m\u001b[1;33m:\u001b[0m\u001b[1;33m\u001b[0m\u001b[0m\n",
      "\u001b[1;32mC:\\Program Files\\Python35\\lib\\turtle.py\u001b[0m in \u001b[0;36m_go\u001b[1;34m(self, distance)\u001b[0m\n\u001b[0;32m   1602\u001b[0m     \u001b[1;32mdef\u001b[0m \u001b[0m_go\u001b[0m\u001b[1;33m(\u001b[0m\u001b[0mself\u001b[0m\u001b[1;33m,\u001b[0m \u001b[0mdistance\u001b[0m\u001b[1;33m)\u001b[0m\u001b[1;33m:\u001b[0m\u001b[1;33m\u001b[0m\u001b[0m\n\u001b[0;32m   1603\u001b[0m         \u001b[1;34m\"\"\"move turtle forward by specified distance\"\"\"\u001b[0m\u001b[1;33m\u001b[0m\u001b[0m\n\u001b[1;32m-> 1604\u001b[1;33m         \u001b[0mende\u001b[0m \u001b[1;33m=\u001b[0m \u001b[0mself\u001b[0m\u001b[1;33m.\u001b[0m\u001b[0m_position\u001b[0m \u001b[1;33m+\u001b[0m \u001b[0mself\u001b[0m\u001b[1;33m.\u001b[0m\u001b[0m_orient\u001b[0m \u001b[1;33m*\u001b[0m \u001b[0mdistance\u001b[0m\u001b[1;33m\u001b[0m\u001b[0m\n\u001b[0m\u001b[0;32m   1605\u001b[0m         \u001b[0mself\u001b[0m\u001b[1;33m.\u001b[0m\u001b[0m_goto\u001b[0m\u001b[1;33m(\u001b[0m\u001b[0mende\u001b[0m\u001b[1;33m)\u001b[0m\u001b[1;33m\u001b[0m\u001b[0m\n\u001b[0;32m   1606\u001b[0m \u001b[1;33m\u001b[0m\u001b[0m\n",
      "\u001b[1;32mC:\\Program Files\\Python35\\lib\\turtle.py\u001b[0m in \u001b[0;36m__mul__\u001b[1;34m(self, other)\u001b[0m\n\u001b[0;32m    255\u001b[0m         \u001b[1;32mif\u001b[0m \u001b[0misinstance\u001b[0m\u001b[1;33m(\u001b[0m\u001b[0mother\u001b[0m\u001b[1;33m,\u001b[0m \u001b[0mVec2D\u001b[0m\u001b[1;33m)\u001b[0m\u001b[1;33m:\u001b[0m\u001b[1;33m\u001b[0m\u001b[0m\n\u001b[0;32m    256\u001b[0m             \u001b[1;32mreturn\u001b[0m \u001b[0mself\u001b[0m\u001b[1;33m[\u001b[0m\u001b[1;36m0\u001b[0m\u001b[1;33m]\u001b[0m\u001b[1;33m*\u001b[0m\u001b[0mother\u001b[0m\u001b[1;33m[\u001b[0m\u001b[1;36m0\u001b[0m\u001b[1;33m]\u001b[0m\u001b[1;33m+\u001b[0m\u001b[0mself\u001b[0m\u001b[1;33m[\u001b[0m\u001b[1;36m1\u001b[0m\u001b[1;33m]\u001b[0m\u001b[1;33m*\u001b[0m\u001b[0mother\u001b[0m\u001b[1;33m[\u001b[0m\u001b[1;36m1\u001b[0m\u001b[1;33m]\u001b[0m\u001b[1;33m\u001b[0m\u001b[0m\n\u001b[1;32m--> 257\u001b[1;33m         \u001b[1;32mreturn\u001b[0m \u001b[0mVec2D\u001b[0m\u001b[1;33m(\u001b[0m\u001b[0mself\u001b[0m\u001b[1;33m[\u001b[0m\u001b[1;36m0\u001b[0m\u001b[1;33m]\u001b[0m\u001b[1;33m*\u001b[0m\u001b[0mother\u001b[0m\u001b[1;33m,\u001b[0m \u001b[0mself\u001b[0m\u001b[1;33m[\u001b[0m\u001b[1;36m1\u001b[0m\u001b[1;33m]\u001b[0m\u001b[1;33m*\u001b[0m\u001b[0mother\u001b[0m\u001b[1;33m)\u001b[0m\u001b[1;33m\u001b[0m\u001b[0m\n\u001b[0m\u001b[0;32m    258\u001b[0m     \u001b[1;32mdef\u001b[0m \u001b[0m__rmul__\u001b[0m\u001b[1;33m(\u001b[0m\u001b[0mself\u001b[0m\u001b[1;33m,\u001b[0m \u001b[0mother\u001b[0m\u001b[1;33m)\u001b[0m\u001b[1;33m:\u001b[0m\u001b[1;33m\u001b[0m\u001b[0m\n\u001b[0;32m    259\u001b[0m         \u001b[1;32mif\u001b[0m \u001b[0misinstance\u001b[0m\u001b[1;33m(\u001b[0m\u001b[0mother\u001b[0m\u001b[1;33m,\u001b[0m \u001b[0mint\u001b[0m\u001b[1;33m)\u001b[0m \u001b[1;32mor\u001b[0m \u001b[0misinstance\u001b[0m\u001b[1;33m(\u001b[0m\u001b[0mother\u001b[0m\u001b[1;33m,\u001b[0m \u001b[0mfloat\u001b[0m\u001b[1;33m)\u001b[0m\u001b[1;33m:\u001b[0m\u001b[1;33m\u001b[0m\u001b[0m\n",
      "\u001b[1;31mTypeError\u001b[0m: can't multiply sequence by non-int of type 'float'"
     ]
    }
   ],
   "source": [
    "draw_square((15, 15), 10)"
   ]
  },
  {
   "cell_type": "markdown",
   "id": "8dc64a45",
   "metadata": {},
   "source": [
    "我原本想用参数填进fd()里, 可是不行, 然后我就不知道怎么写了。"
   ]
  },
  {
   "cell_type": "code",
   "execution_count": null,
   "id": "46233e75",
   "metadata": {},
   "outputs": [],
   "source": []
  }
 ],
 "metadata": {
  "kernelspec": {
   "display_name": "Python 3",
   "language": "python",
   "name": "python3"
  },
  "language_info": {
   "codemirror_mode": {
    "name": "ipython",
    "version": 3
   },
   "file_extension": ".py",
   "mimetype": "text/x-python",
   "name": "python",
   "nbconvert_exporter": "python",
   "pygments_lexer": "ipython3",
   "version": "3.8.10"
  }
 },
 "nbformat": 4,
 "nbformat_minor": 5
}
