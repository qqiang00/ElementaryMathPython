{
 "cells": [
  {
   "cell_type": "markdown",
   "id": "0dba5f73-cd34-4a71-8fff-d2bf7740cf43",
   "metadata": {},
   "source": [
    "### Comment\n",
    "1. Well Done! The logic of the code are correct. The answer should also be correct but I didn't check them.\n",
    "2. Can you write a method that get the minimal value of a list?"
   ]
  },
  {
   "cell_type": "code",
   "execution_count": 2,
   "id": "introductory-wallet",
   "metadata": {},
   "outputs": [],
   "source": [
    "def bread_machine(water, flour, available_workers, electricity):\n",
    "    if available_workers >= 2:\n",
    "        available_water = water // 0.6\n",
    "        available_flour = flour // 0.8\n",
    "        available_electricity = electricity // 0.001\n",
    "        if available_water > available_flour:\n",
    "            if available_electricity >= available_flour:\n",
    "                final = available_flour\n",
    "            else:\n",
    "                final = available_electricity\n",
    "        if available_water < available_flour:\n",
    "            if available_electricity >= available_water:\n",
    "                final = available_water\n",
    "            else:\n",
    "                final = available_electricity\n",
    "    else:\n",
    "        final = None\n",
    "    return final"
   ]
  },
  {
   "cell_type": "code",
   "execution_count": 2,
   "id": "naked-politics",
   "metadata": {},
   "outputs": [
    {
     "name": "stdout",
     "output_type": "stream",
     "text": [
      "1666.0 bread\n"
     ]
    }
   ],
   "source": [
    "n = bread_machine(1000, 8000, 2, 3)\n",
    "print(n, \"bread\")"
   ]
  },
  {
   "cell_type": "code",
   "execution_count": 3,
   "id": "victorian-teaching",
   "metadata": {},
   "outputs": [
    {
     "name": "stdout",
     "output_type": "stream",
     "text": [
      "3333.0 bread\n"
     ]
    }
   ],
   "source": [
    "n = bread_machine(2000, 8000, 3, 10)\n",
    "print(n, \"bread\")"
   ]
  },
  {
   "cell_type": "code",
   "execution_count": 4,
   "id": "blocked-jersey",
   "metadata": {},
   "outputs": [
    {
     "name": "stdout",
     "output_type": "stream",
     "text": [
      "None bread\n"
     ]
    }
   ],
   "source": [
    "n = bread_machine(10000, 2000, 1, 10)\n",
    "print(n, \"bread\")"
   ]
  },
  {
   "cell_type": "code",
   "execution_count": 5,
   "id": "average-flush",
   "metadata": {},
   "outputs": [
    {
     "name": "stdout",
     "output_type": "stream",
     "text": [
      "4999.0 bread\n"
     ]
    }
   ],
   "source": [
    "n = bread_machine(10000, 10000, 4, 5)\n",
    "print(n, \"bread\")"
   ]
  },
  {
   "cell_type": "code",
   "execution_count": 6,
   "id": "weird-framing",
   "metadata": {},
   "outputs": [
    {
     "name": "stdout",
     "output_type": "stream",
     "text": [
      "112499.0 bread\n"
     ]
    }
   ],
   "source": [
    "n = bread_machine(80000, 90000, 9, 1000)\n",
    "print(n, \"bread\")"
   ]
  },
  {
   "cell_type": "code",
   "execution_count": 9,
   "id": "focal-power",
   "metadata": {},
   "outputs": [],
   "source": [
    "def bread_machine2(water, flour, available_workers, electricity):\n",
    "    available_water = water // 0.6\n",
    "    available_flour = flour // 0.8\n",
    "    available_electricity = electricity // 0.001\n",
    "    if available_water < available_flour and available_water < available_electricity:\n",
    "        return available_water\n",
    "    elif available_flour < available_water and available_flour < available_electricity:\n",
    "        return available_flour\n",
    "    else:\n",
    "        return available_electricity\n",
    "    if available_workers < 2:\n",
    "        return None"
   ]
  },
  {
   "cell_type": "code",
   "execution_count": 10,
   "id": "scheduled-swift",
   "metadata": {},
   "outputs": [
    {
     "name": "stdout",
     "output_type": "stream",
     "text": [
      "1666.0 bread\n"
     ]
    }
   ],
   "source": [
    "n = bread_machine2(1000, 8000, 2, 3)\n",
    "print(n, \"bread\")"
   ]
  },
  {
   "cell_type": "code",
   "execution_count": null,
   "id": "disciplinary-adrian",
   "metadata": {},
   "outputs": [],
   "source": []
  }
 ],
 "metadata": {
  "kernelspec": {
   "display_name": "Python 3",
   "language": "python",
   "name": "python3"
  },
  "language_info": {
   "codemirror_mode": {
    "name": "ipython",
    "version": 3
   },
   "file_extension": ".py",
   "mimetype": "text/x-python",
   "name": "python",
   "nbconvert_exporter": "python",
   "pygments_lexer": "ipython3",
   "version": "3.8.10"
  }
 },
 "nbformat": 4,
 "nbformat_minor": 5
}
