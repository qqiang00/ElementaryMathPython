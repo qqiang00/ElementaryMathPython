{
 "cells": [
  {
   "cell_type": "markdown",
   "id": "demonstrated-government",
   "metadata": {},
   "source": [
    "## 第10讲 整除与余数（一）"
   ]
  },
  {
   "cell_type": "markdown",
   "id": "universal-reproduction",
   "metadata": {},
   "source": [
    "### 问题描述"
   ]
  },
  {
   "cell_type": "markdown",
   "id": "secondary-region",
   "metadata": {},
   "source": [
    "在1, 2, 3,..., 98, 99, 100这100个整数中，哪些能够被6整除？哪些能被10整除？能同时被6和10整除的数又是哪些？"
   ]
  },
  {
   "cell_type": "markdown",
   "id": "acting-invite",
   "metadata": {},
   "source": [
    "### 数学背景"
   ]
  },
  {
   "cell_type": "markdown",
   "id": "attended-mapping",
   "metadata": {},
   "source": [
    "1. 试商法进行除法运算\n",
    "2. 整除、余数的概念\n",
    "3. 余数与除数的比较关系"
   ]
  },
  {
   "cell_type": "markdown",
   "id": "divine-membership",
   "metadata": {
    "heading_collapsed": true
   },
   "source": [
    "### 预备知识"
   ]
  },
  {
   "cell_type": "markdown",
   "id": "large-western",
   "metadata": {},
   "source": [
    "#### 1.模拟试商法求解除法算式: $23 \\div 5$的商和余数\n",
    "\n",
    "   修改下面程序的错误："
   ]
  },
  {
   "cell_type": "code",
   "execution_count": null,
   "id": "binding-mercy",
   "metadata": {},
   "outputs": [],
   "source": [
    "beichushu, chushu = 23, 5\n",
    "shang, yushu = 0, None\n",
    "\n",
    "while shang * chushu <= beichushu:\n",
    "    yushu = beichushu - shang * chushu\n",
    "    shang += 1\n",
    "\n",
    "# TODO： add code here to debug\n",
    "shang -= 1\n",
    "print(\"{} / {} = {} ... {}\".format(beichushu, chushu, shang, yushu))\n",
    "if yushu == 0:\n",
    "    print(\"{}能被{}整除\".format(beichushu, chushu))\n",
    "else:\n",
    "    print(\"{}不能被{}整除\".format(beichushu, chushu))"
   ]
  },
  {
   "cell_type": "code",
   "execution_count": null,
   "id": "conceptual-fortune",
   "metadata": {},
   "outputs": [],
   "source": [
    "# before loop 未进入循环前： shang:0, yushu:None\n",
    "# step      4: shang  4:yushu   shang*chushu <= beichushu  5:yushu    6:shang\n",
    "\n",
    "# 1            0      None         0<=23 Yes (True)         23         1\n",
    "# 2            1      23           5<=23     True           18         2\n",
    "# 3            2      18           10<=23 (True)            13         3\n",
    "# 4            3      13           True                     8          4\n",
    "# 5            4      8            True                     3          5\n",
    "# 6            5      3            5*5<=23? No(False)       /          /\n",
    "\n",
    "# out of loop 离开循环\n",
    "shang -= 1   # shang == 4\n",
    "yushu        # 3"
   ]
  },
  {
   "cell_type": "markdown",
   "id": "another-ontario",
   "metadata": {},
   "source": [
    "#### 2.余数总是比除数小。"
   ]
  },
  {
   "cell_type": "code",
   "execution_count": null,
   "id": "imperial-fraction",
   "metadata": {},
   "outputs": [],
   "source": [
    "beichushu, chushu = 23, 5\n",
    "shang, yushu = 0, beichushu - 0 * chushu\n",
    "while yushu >= chushu:\n",
    "    shang += 1\n",
    "    yushu = beichushu - shang * chushu\n",
    "    \n",
    "print(\"{} / {} = {} ... {}\".format(beichushu, chushu, shang, yushu))\n",
    "if yushu == 0:\n",
    "    print(\"{}能被{}整除\".format(beichushu, chushu))\n",
    "else:\n",
    "    print(\"{}不能被{}整除\".format(beichushu, chushu))"
   ]
  },
  {
   "cell_type": "code",
   "execution_count": null,
   "id": "thorough-bottle",
   "metadata": {},
   "outputs": [],
   "source": [
    "# before loop 循环开始前: shang: 0, yushu = 23\n",
    "\n",
    "# in loop 在循环中\n",
    "# step   line3:yushu    yushu >= chushu?     line4:shang    line5:yushu\n",
    "# 1           23             True                 1            18\n",
    "# 2           18             True                 2            13\n",
    "# 3           13             True                 3             8\n",
    "# 4            8             True                 4             3\n",
    "# 5            3             False                /             /\n",
    "\n",
    "# out of loop 离开循环后\n",
    "# line7: executed 执行了，print\n",
    "# line8: executed 执行了， check if condition 检查if的条件\n",
    "# line9: not executed, 未执行\n",
    "# line10: executed, \n",
    "# line11: print out输出不能整除"
   ]
  },
  {
   "cell_type": "markdown",
   "id": "unusual-subscription",
   "metadata": {},
   "source": [
    "#### 3.新的运算符`//`和`%`\n",
    "Python提供与加减乘除（`+`, `-`, `*`, `/`）地位类似的两个运算符`//`和`%`来分别计算一个数除以另一个数的商和余数，这两个运算符的名字本别为“取整”和”取余“，对应的运算表达式分别为“取整表达式”和“取余表达式”。例如`24`除以`5`的商和余数可以分别直接用下面的表达式算出。"
   ]
  },
  {
   "cell_type": "code",
   "execution_count": null,
   "id": "sunrise-parent",
   "metadata": {},
   "outputs": [],
   "source": [
    "beichushu, chuchu = 23, 5\n",
    "shang = beichushu // chushu    # 取整（商）表达式\n",
    "yushu = beichushu % chushu     # 取余表达式 \n",
    "\n",
    "print(\"{} / {} = {} ... {}\".format(beichushu, chushu, shang, yushu))\n",
    "if yushu == 0:\n",
    "    print(\"{}能被{}整除\".format(beichushu, chushu))\n",
    "else:\n",
    "    print(\"{}不能被{}整除\".format(beichushu, chushu))"
   ]
  },
  {
   "cell_type": "markdown",
   "id": "hourly-heath",
   "metadata": {},
   "source": [
    "#### 4.使用英文的变量名重写上面的代码"
   ]
  },
  {
   "cell_type": "code",
   "execution_count": null,
   "id": "falling-insulation",
   "metadata": {},
   "outputs": [],
   "source": [
    "dividend, divisor = 24, 5\n",
    "qoutient = dividend // divisor\n",
    "remainder = dividend % divisor\n",
    "\n",
    "print(\"{} / {} = {} ... {}\".format(dividend, divisor, qoutient, remainder))\n",
    "if yushu == 0:\n",
    "    print(\"{}能被{}整除\".format(dividend, divisor))\n",
    "else:\n",
    "    print(\"{}不能被{}整除\".format(dividend, divisor))"
   ]
  },
  {
   "cell_type": "markdown",
   "id": "whole-fitting",
   "metadata": {},
   "source": [
    "### 编程求解"
   ]
  },
  {
   "cell_type": "code",
   "execution_count": null,
   "id": "laden-discretion",
   "metadata": {},
   "outputs": [],
   "source": [
    "divisor1, divisor2 = 6, 10                    # 声明两个除数 \n",
    "min_dividend, max_dividend = 1, 100           # 声明最小和最大被除数\n",
    "cur_dividend = min_dividend                   # 声明当前正在分析的被除数\n",
    "\n",
    "while cur_dividend <= max_dividend:           # while 循环起始及条件\n",
    "    \n",
    "    remainder1 = cur_dividend % divisor1      # 计算第一个余数\n",
    "    if remainder1 == 0:                       # 判断第一个余数是否为0，为0表示整除\n",
    "        print(\"{}能被{}整除。\".format(cur_dividend, divisor1))\n",
    "    \n",
    "    remainder2 = cur_dividend % divisor2      # 计算第二个余数\n",
    "    if remainder2 == 0:                       # 判断第二个余数是否为0，为0表示整除\n",
    "        print(\"{}能被{}整除。\".format(cur_dividend, divisor2))\n",
    "        \n",
    "    if remainder1 == 0 and remainder2 == 0:   # 判断两个余数是否同时为0，同时为0表示\n",
    "                                              # 当前被除数可以同时被两个除数整除\n",
    "        print(\"{}能同时被{}和{}整除。\".format(cur_dividend, divisor1, divisor2))\n",
    "        \n",
    "    cur_dividend += 1                         # 准备下一个被除数"
   ]
  },
  {
   "cell_type": "markdown",
   "id": "expressed-island",
   "metadata": {},
   "source": [
    "### 知识点小结\n",
    "1. 学习“取整”和“取余”两个新运算符：`//`，`%`\n",
    "2. 复习`.format`方法控制字符串的格式\n",
    "3. 复习`if`条件语句，学习没有`else`配对的、单独使用`if`的条件语句，多个单独出现的`if`语句的意义\n",
    "4. 复习`and`连接两个条件表达式\n",
    "5. 复习`while`循环语句"
   ]
  },
  {
   "cell_type": "markdown",
   "id": "earlier-phenomenon",
   "metadata": {},
   "source": []
  },
  {
   "cell_type": "code",
   "execution_count": null,
   "id": "unknown-blogger",
   "metadata": {
    "hidden": true
   },
   "outputs": [],
   "source": [
    "9 % 2"
   ]
  },
  {
   "cell_type": "code",
   "execution_count": null,
   "id": "developmental-pitch",
   "metadata": {
    "hidden": true
   },
   "outputs": [],
   "source": []
  },
  {
   "cell_type": "markdown",
   "id": "conservative-atlas",
   "metadata": {},
   "source": [
    "### 计算机小知识"
   ]
  },
  {
   "cell_type": "markdown",
   "id": "right-yugoslavia",
   "metadata": {},
   "source": [
    "暂缺"
   ]
  },
  {
   "cell_type": "markdown",
   "id": "eligible-booth",
   "metadata": {
    "heading_collapsed": true
   },
   "source": [
    "### 练习"
   ]
  },
  {
   "cell_type": "markdown",
   "id": "disabled-determination",
   "metadata": {},
   "source": [
    "1. 对下面的每一个除法算式，分别使用例题中用过的三套代码来计算商和余数。\n",
    "   - $97 \\div 13$\n",
    "   - $84 \\div 7$\n",
    "   - $92 \\div 3$\n",
    "   - $92 \\div 4$"
   ]
  },
  {
   "cell_type": "code",
   "execution_count": null,
   "id": "adverse-movement",
   "metadata": {
    "hidden": true
   },
   "outputs": [],
   "source": [
    "# 请自行添加代码单元格，一共需要12个代码单元格"
   ]
  },
  {
   "cell_type": "code",
   "execution_count": null,
   "id": "satisfied-volume",
   "metadata": {},
   "outputs": [],
   "source": [
    "beichushu, chushu = 97, 13\n",
    "shang, yushu = 0, None\n",
    "\n",
    "while shang * chushu <= beichushu:\n",
    "    yushu = beichushu - shang * chushu\n",
    "    shang += 1\n",
    "\n",
    "\n",
    "shang -= 1\n",
    "print(\"{} / {} = {} ... {}\".format(beichushu, chushu, shang, yushu))\n",
    "if yushu == 0:\n",
    "    print(\"{}能被{}整除\".format(beichushu, chushu))\n",
    "else:\n",
    "    print(\"{}不能被{}整除\".format(beichushu, chushu))"
   ]
  },
  {
   "cell_type": "code",
   "execution_count": null,
   "id": "fifteen-stable",
   "metadata": {},
   "outputs": [],
   "source": [
    "beichushu, chushu = 97, 13\n",
    "shang, yushu = 0, beichushu - 0 * chushu\n",
    "while yushu >= chushu:\n",
    "    shang += 1\n",
    "    yushu = beichushu - shang * chushu\n",
    "    \n",
    "print(\"{} / {} = {} ... {}\".format(beichushu, chushu, shang, yushu))\n",
    "if yushu == 0:\n",
    "    print(\"{}能被{}整除\".format(beichushu, chushu))\n",
    "else:\n",
    "    print(\"{}不能被{}整除\".format(beichushu, chushu))"
   ]
  },
  {
   "cell_type": "code",
   "execution_count": null,
   "id": "collect-thriller",
   "metadata": {},
   "outputs": [],
   "source": [
    "beichushu, chuchu = 97, 13\n",
    "shang = beichushu // chushu    \n",
    "yushu = beichushu % chushu     \n",
    "\n",
    "print(\"{} / {} = {} ... {}\".format(beichushu, chushu, shang, yushu))\n",
    "if yushu == 0:\n",
    "    print(\"{}能被{}整除\".format(beichushu, chushu))\n",
    "else:\n",
    "    print(\"{}不能被{}整除\".format(beichushu, chushu))"
   ]
  },
  {
   "cell_type": "code",
   "execution_count": null,
   "id": "excessive-myrtle",
   "metadata": {},
   "outputs": [],
   "source": [
    "beichushu, chushu = 84, 7\n",
    "shang, yushu = 0, None\n",
    "\n",
    "while shang * chushu <= beichushu:\n",
    "    yushu = beichushu - shang * chushu\n",
    "    shang += 1\n",
    "\n",
    "\n",
    "shang -= 1\n",
    "print(\"{} / {} = {} ... {}\".format(beichushu, chushu, shang, yushu))\n",
    "if yushu == 0:\n",
    "    print(\"{}能被{}整除\".format(beichushu, chushu))\n",
    "else:\n",
    "    print(\"{}不能被{}整除\".format(beichushu, chushu))"
   ]
  },
  {
   "cell_type": "code",
   "execution_count": null,
   "id": "confidential-whole",
   "metadata": {},
   "outputs": [],
   "source": [
    "beichushu, chushu = 84, 7\n",
    "shang, yushu = 0, beichushu - 0 * chushu\n",
    "while yushu >= chushu:\n",
    "    shang += 1\n",
    "    yushu = beichushu - shang * chushu\n",
    "    \n",
    "print(\"{} / {} = {} ... {}\".format(beichushu, chushu, shang, yushu))\n",
    "if yushu == 0:\n",
    "    print(\"{}能被{}整除\".format(beichushu, chushu))\n",
    "else:\n",
    "    print(\"{}不能被{}整除\".format(beichushu, chushu))"
   ]
  },
  {
   "cell_type": "code",
   "execution_count": null,
   "id": "convinced-workplace",
   "metadata": {},
   "outputs": [],
   "source": [
    "beichushu, chuchu = 84, 7\n",
    "shang = beichushu // chushu    \n",
    "yushu = beichushu % chushu     \n",
    "\n",
    "print(\"{} / {} = {} ... {}\".format(beichushu, chushu, shang, yushu))\n",
    "if yushu == 0:\n",
    "    print(\"{}能被{}整除\".format(beichushu, chushu))\n",
    "else:\n",
    "    print(\"{}不能被{}整除\".format(beichushu, chushu))"
   ]
  },
  {
   "cell_type": "code",
   "execution_count": null,
   "id": "tamil-poetry",
   "metadata": {},
   "outputs": [],
   "source": [
    "beichushu, chushu = 92, 3\n",
    "shang, yushu = 0, None\n",
    "\n",
    "while shang * chushu <= beichushu:\n",
    "    yushu = beichushu - shang * chushu\n",
    "    shang += 1\n",
    "\n",
    "\n",
    "shang -= 1\n",
    "print(\"{} / {} = {} ... {}\".format(beichushu, chushu, shang, yushu))\n",
    "if yushu == 0:\n",
    "    print(\"{}能被{}整除\".format(beichushu, chushu))\n",
    "else:\n",
    "    print(\"{}不能被{}整除\".format(beichushu, chushu))"
   ]
  },
  {
   "cell_type": "code",
   "execution_count": null,
   "id": "automatic-apparel",
   "metadata": {},
   "outputs": [],
   "source": [
    "beichushu, chushu = 92, 3\n",
    "shang, yushu = 0, beichushu - 0 * chushu\n",
    "while yushu >= chushu:\n",
    "    shang += 1\n",
    "    yushu = beichushu - shang * chushu\n",
    "    \n",
    "print(\"{} / {} = {} ... {}\".format(beichushu, chushu, shang, yushu))\n",
    "if yushu == 0:\n",
    "    print(\"{}能被{}整除\".format(beichushu, chushu))\n",
    "else:\n",
    "    print(\"{}不能被{}整除\".format(beichushu, chushu))"
   ]
  },
  {
   "cell_type": "code",
   "execution_count": null,
   "id": "together-expert",
   "metadata": {},
   "outputs": [],
   "source": [
    "beichushu, chuchu = 92, 3\n",
    "shang = beichushu // chushu    \n",
    "yushu = beichushu % chushu     \n",
    "\n",
    "print(\"{} / {} = {} ... {}\".format(beichushu, chushu, shang, yushu))\n",
    "if yushu == 0:\n",
    "    print(\"{}能被{}整除\".format(beichushu, chushu))\n",
    "else:\n",
    "    print(\"{}不能被{}整除\".format(beichushu, chushu))"
   ]
  },
  {
   "cell_type": "code",
   "execution_count": null,
   "id": "handmade-palace",
   "metadata": {},
   "outputs": [],
   "source": [
    "beichushu, chushu = 92, 4\n",
    "shang, yushu = 0, None\n",
    "\n",
    "while shang * chushu <= beichushu:\n",
    "    yushu = beichushu - shang * chushu\n",
    "    shang += 1\n",
    "\n",
    "\n",
    "shang -= 1\n",
    "print(\"{} / {} = {} ... {}\".format(beichushu, chushu, shang, yushu))\n",
    "if yushu == 0:\n",
    "    print(\"{}能被{}整除\".format(beichushu, chushu))\n",
    "else:\n",
    "    print(\"{}不能被{}整除\".format(beichushu, chushu))"
   ]
  },
  {
   "cell_type": "code",
   "execution_count": null,
   "id": "portuguese-practitioner",
   "metadata": {},
   "outputs": [],
   "source": [
    "beichushu, chushu = 92, 4\n",
    "shang, yushu = 0, beichushu - 0 * chushu\n",
    "while yushu >= chushu:\n",
    "    shang += 1\n",
    "    yushu = beichushu - shang * chushu\n",
    "    \n",
    "print(\"{} / {} = {} ... {}\".format(beichushu, chushu, shang, yushu))\n",
    "if yushu == 0:\n",
    "    print(\"{}能被{}整除\".format(beichushu, chushu))\n",
    "else:\n",
    "    print(\"{}不能被{}整除\".format(beichushu, chushu))"
   ]
  },
  {
   "cell_type": "code",
   "execution_count": null,
   "id": "given-delicious",
   "metadata": {},
   "outputs": [],
   "source": [
    "beichushu, chuchu = 92, 4\n",
    "shang = beichushu // chushu    \n",
    "yushu = beichushu % chushu     \n",
    "\n",
    "print(\"{} / {} = {} ... {}\".format(beichushu, chushu, shang, yushu))\n",
    "if yushu == 0:\n",
    "    print(\"{}能被{}整除\".format(beichushu, chushu))\n",
    "else:\n",
    "    print(\"{}不能被{}整除\".format(beichushu, chushu))"
   ]
  },
  {
   "cell_type": "markdown",
   "id": "roman-pioneer",
   "metadata": {
    "hidden": true
   },
   "source": [
    "2. 补全下面单元格中的代码，统计在从1到100这100个整数中，分别能被6、10整除的数有多少个，能同时被这两个数整除的数又有多少个？"
   ]
  },
  {
   "cell_type": "code",
   "execution_count": 21,
   "id": "virgin-rubber",
   "metadata": {
    "hidden": true
   },
   "outputs": [
    {
     "name": "stdout",
     "output_type": "stream",
     "text": [
      "The number of the number able to divide in 6 is 16 and number of the number able to divide in 10 is 10 and the number of the number able to divide in 6 and 10 is 3. \n"
     ]
    }
   ],
   "source": [
    "divisor1, divisor2 = 6, 10                    # 声明两个除数 \n",
    "min_dividend, max_dividend = 1, 100           # 声明最小和最大被除数\n",
    "cur_dividend = min_dividend\n",
    "num_yes_div_6 = 0\n",
    "num_yes_div_10 = 0\n",
    "num_yes_div_6and10 = 0\n",
    "# 生命当前正在分析的被除数\n",
    "#TODO： add code here to declare variables that store the result\n",
    "#       添加代码声明一些变量存储结果\n",
    "while cur_dividend <= max_dividend:           # while 循环起始及条件\n",
    "    remainder1 = cur_dividend % divisor1      # 计算第一个余数\n",
    "    if remainder1 == 0:                       # 判断第一个余数是否为0，为0表示整除\n",
    "        num_yes_div_6 += 1\n",
    "        #TODO： add code here 在这里添加代码更新能被第一个除数整除的数的个数\n",
    "        pass                                  # 不要删除这一行，下同\n",
    "    \n",
    "    remainder2 = cur_dividend % divisor2      # 计算第二个余数\n",
    "    if remainder2 == 0:                       # 判断第二个余数是否为0，为0表示整除\n",
    "        num_yes_div_10 += 1\n",
    "        #TODO： add code here 在这里添加代码更新能被第二个除数整除的数的个数\n",
    "        pass\n",
    "    \n",
    "    if remainder1 == 0 and remainder2 == 0:   # 判断两个余数是否同时为0，同时为0表示\n",
    "        num_yes_div_6and10 += 1 # 当前被除数可以同时被两个除数整除\n",
    "\n",
    "        #TODO： add code here 在这里添加代码更新能同时被两个除数整除的数的个数\n",
    "        pass\n",
    "    \n",
    "    cur_dividend += 1                         # 准备下一个被除数   \n",
    "\n",
    "#TODO： add code here to print out final result\n",
    "#      在这里添加代码输出最后结果\n",
    "print(\"The number of the number able to divide in 6 is {} \"\n",
    "      \"and number of the number able to divide in 10 is {} \"\n",
    "      \"and the number of the number able to divide in 6 and 10 is {}. \"\n",
    "      .format(num_yes_div_6, num_yes_div_10, num_yes_div_6and10))"
   ]
  },
  {
   "cell_type": "markdown",
   "id": "stable-memorial",
   "metadata": {},
   "source": [
    "3. 本节例题中在判断1到100这100个整数能否被6和10整除时，被除数是从1逐渐增大到100进入循环内部的。现在请您对例题中的代码（已经复制到下方代码单元格）作适当的修改，使得循环检查的被除数从100开始逐渐递减到1。运行你修改的代码，观察输出的结果与例题中的输出有什么差别。"
   ]
  },
  {
   "cell_type": "code",
   "execution_count": null,
   "id": "alone-triangle",
   "metadata": {},
   "outputs": [],
   "source": [
    "divisor1, divisor2 = 6, 10\n",
    "min_dividend, max_dividend = 1, 100           \n",
    "cur_dividend = max_dividend                   \n",
    "\n",
    "while cur_dividend >= min_dividend:           \n",
    "    \n",
    "    remainder1 = cur_dividend % divisor1      \n",
    "    if remainder1 == 0:                       \n",
    "        print(\"{}能被{}整除。\".format(cur_dividend, divisor1))\n",
    "    \n",
    "    remainder2 = cur_dividend % divisor2      \n",
    "    if remainder2 == 0:                       \n",
    "        print(\"{}能被{}整除。\".format(cur_dividend, divisor2))\n",
    "        \n",
    "    if remainder1 == 0 and remainder2 == 0:   \n",
    "        \n",
    "        print(\"{}能同时被{}和{}整除。\".format(cur_dividend, divisor1, divisor2))\n",
    "        \n",
    "    cur_dividend -= 1                        "
   ]
  },
  {
   "cell_type": "markdown",
   "id": "suspected-slave",
   "metadata": {
    "hidden": true
   },
   "source": [
    "4. 自己动手编写程序统计在1到100这100个整数中，能同时被3和9整除的数分别是哪些。在程序中添加一些代码来验证，所有能被9整除的数也一定能被3整除。 \n",
    "   提示：当程序判断一个被除数能被9整除后，验证该数除以3的余数为0，记录验证通过的被除数的数量与能被9整除的数的个数比较结果相等。"
   ]
  },
  {
   "cell_type": "code",
   "execution_count": 46,
   "id": "passive-cisco",
   "metadata": {
    "hidden": true
   },
   "outputs": [
    {
     "ename": "IndexError",
     "evalue": "Replacement index 2 out of range for positional args tuple",
     "output_type": "error",
     "traceback": [
      "\u001b[0;31m---------------------------------------------------------------------------\u001b[0m",
      "\u001b[0;31mIndexError\u001b[0m                                Traceback (most recent call last)",
      "\u001b[0;32m<ipython-input-46-116085a5318d>\u001b[0m in \u001b[0;36m<module>\u001b[0;34m\u001b[0m\n\u001b[1;32m     14\u001b[0m             \u001b[0ms\u001b[0m \u001b[0;34m=\u001b[0m \u001b[0;34m\"{} can be dividid by {}.\"\u001b[0m\u001b[0;34m.\u001b[0m\u001b[0mformat\u001b[0m\u001b[0;34m(\u001b[0m\u001b[0mcur_dividend\u001b[0m\u001b[0;34m,\u001b[0m \u001b[0mdivisor1\u001b[0m\u001b[0;34m)\u001b[0m\u001b[0;34m\u001b[0m\u001b[0;34m\u001b[0m\u001b[0m\n\u001b[1;32m     15\u001b[0m             \u001b[0;32mif\u001b[0m \u001b[0mremainder2\u001b[0m \u001b[0;34m==\u001b[0m \u001b[0;36m0\u001b[0m\u001b[0;34m:\u001b[0m\u001b[0;34m\u001b[0m\u001b[0;34m\u001b[0m\u001b[0m\n\u001b[0;32m---> 16\u001b[0;31m                 \u001b[0ms\u001b[0m \u001b[0;34m=\u001b[0m \u001b[0;34m\"{} can be dividid by {} and {}.\"\u001b[0m\u001b[0;34m.\u001b[0m\u001b[0mformat\u001b[0m\u001b[0;34m(\u001b[0m\u001b[0mcur_dividend\u001b[0m\u001b[0;34m,\u001b[0m \u001b[0mdivisor2\u001b[0m\u001b[0;34m)\u001b[0m\u001b[0;34m\u001b[0m\u001b[0;34m\u001b[0m\u001b[0m\n\u001b[0m\u001b[1;32m     17\u001b[0m                 \u001b[0mprint\u001b[0m\u001b[0;34m(\u001b[0m\u001b[0ms\u001b[0m\u001b[0;34m)\u001b[0m\u001b[0;34m\u001b[0m\u001b[0;34m\u001b[0m\u001b[0m\n\u001b[1;32m     18\u001b[0m     \u001b[0;32melse\u001b[0m\u001b[0;34m:\u001b[0m\u001b[0;34m\u001b[0m\u001b[0;34m\u001b[0m\u001b[0m\n",
      "\u001b[0;31mIndexError\u001b[0m: Replacement index 2 out of range for positional args tuple"
     ]
    }
   ],
   "source": [
    "divisor1, divisor2 = 3, 9                     \n",
    "min_dividend, max_dividend = 1, 100           \n",
    "cur_dividend = min_dividend\n",
    "s = \"{} can be dividid by {} and {}。\".format(cur_dividend, divisor1, divisor2)\n",
    "\n",
    "while cur_dividend <= max_dividend:\n",
    "    \n",
    "    remainder2 = cur_dividend % divisor2\n",
    "    remainder1 = cur_dividend % divisor1\n",
    "    \n",
    "    if remainder2 == 0 and remainder1 == 0:\n",
    "        s = \"{} can be dividid by {}.\".format(cur_dividend, divisor1, divisor2)\n",
    "        if remainder1 == 0:\n",
    "            s = \"{} can be dividid by {}.\".format(cur_dividend, divisor1)\n",
    "            if remainder2 == 0:\n",
    "                s = \"{} can be dividid by {} and {}.\".format(cur_dividend, divisor2)\n",
    "                print(s)\n",
    "    else:\n",
    "        pass\n",
    "        \n",
    "    #remainder2 = cur_dividend % divisor2\n",
    "    #if remainder2 == 0:                       \n",
    "        #print(\"{}能被{}整除。\".format(cur_dividend, divisor2))\n",
    "        \n",
    "    #if remainder1 == 0 and remainder2 == 0:   \n",
    "    \n",
    "        #print(\"{}能同时被{}和{}整除。\".format(cur_dividend, divisor1, divisor2))\n",
    "        \n",
    "    cur_dividend += 1\n",
    "    \n",
    "print(s)"
   ]
  },
  {
   "cell_type": "markdown",
   "id": "warming-sauce",
   "metadata": {
    "hidden": true
   },
   "source": [
    "5. 幼儿园的校长把所有的小朋友们集合起来分组由老师带队出去游玩。在分组的时候，老师和小朋友们惊奇地发现，如果把全体小朋友们平均（每组人数相同称为“平均”）分成2组，会剩余一个小朋友无法分到任何一个组中；如果把全体小朋友平均分成3组，也会剩余一个小朋友；如果平均分成5组，还是会剩余一个小朋友。已知这个幼儿园小朋友的总人数在90和100之间，你能准确的算出这个幼儿园一共有多少小朋友吗？请先尝试笔算，再编写程序验证你的计算结果。"
   ]
  },
  {
   "cell_type": "code",
   "execution_count": 38,
   "id": "prime-metropolitan",
   "metadata": {
    "hidden": true,
    "tags": []
   },
   "outputs": [
    {
     "name": "stdout",
     "output_type": "stream",
     "text": [
      "There is 91 kids in the daycare.\n"
     ]
    }
   ],
   "source": [
    "max_num = 100\n",
    "min_num = 90\n",
    "guess_num = min_num\n",
    "div1, div2, div3 = 2, 3, 5\n",
    "need = guess_num % div1\n",
    "need2 = guess_num % div2\n",
    "need3 = guess_num % div3\n",
    "\n",
    "while guess_num <= max_num:\n",
    "    need = guess_num % div1\n",
    "    need2 = guess_num % div2\n",
    "    need3 = guess_num % div3\n",
    "    if need == 1 and need2 == 1 and need3 == 1:\n",
    "        print(\"There is {} kids in the daycare.\".format(guess_num))\n",
    "   \n",
    "    guess_num += 1\n"
   ]
  },
  {
   "cell_type": "code",
   "execution_count": null,
   "id": "every-universal",
   "metadata": {},
   "outputs": [],
   "source": []
  }
 ],
 "metadata": {
  "kernelspec": {
   "display_name": "Python 3",
   "language": "python",
   "name": "python3"
  },
  "language_info": {
   "codemirror_mode": {
    "name": "ipython",
    "version": 3
   },
   "file_extension": ".py",
   "mimetype": "text/x-python",
   "name": "python",
   "nbconvert_exporter": "python",
   "pygments_lexer": "ipython3",
   "version": "3.8.5"
  }
 },
 "nbformat": 4,
 "nbformat_minor": 5
}
