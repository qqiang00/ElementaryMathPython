{
 "cells": [
  {
   "cell_type": "markdown",
   "id": "baking-destiny",
   "metadata": {},
   "source": [
    "## 第10讲 整除与余数（一）"
   ]
  },
  {
   "cell_type": "markdown",
   "id": "annoying-vocabulary",
   "metadata": {},
   "source": [
    "### 问题描述"
   ]
  },
  {
   "cell_type": "markdown",
   "id": "neutral-wisdom",
   "metadata": {},
   "source": [
    "在1, 2, 3,..., 98, 99, 100这100个整数中，哪些能够被6整除？哪些能被10整除？能同时被6和10整除的数又是哪些？"
   ]
  },
  {
   "cell_type": "markdown",
   "id": "descending-spotlight",
   "metadata": {},
   "source": [
    "### 数学背景"
   ]
  },
  {
   "cell_type": "markdown",
   "id": "hungarian-greeting",
   "metadata": {},
   "source": [
    "1. 试商法进行除法运算\n",
    "2. 整除、余数的概念\n",
    "3. 余数与除数的比较关系"
   ]
  },
  {
   "cell_type": "markdown",
   "id": "cosmetic-texas",
   "metadata": {
    "heading_collapsed": true
   },
   "source": [
    "### 预备知识"
   ]
  },
  {
   "cell_type": "markdown",
   "id": "german-nicaragua",
   "metadata": {},
   "source": [
    "#### 1.模拟试商法求解除法算式: $23 \\div 5$的商和余数\n",
    "\n",
    "   修改下面程序的错误："
   ]
  },
  {
   "cell_type": "code",
   "execution_count": 10,
   "id": "binary-trauma",
   "metadata": {},
   "outputs": [
    {
     "name": "stdout",
     "output_type": "stream",
     "text": [
      "23 / 5 = 4 ... 3\n",
      "23不能被5整除\n"
     ]
    }
   ],
   "source": [
    "beichushu, chushu = 23, 5\n",
    "shang, yushu = 0, None\n",
    "\n",
    "while shang * chushu <= beichushu:\n",
    "    yushu = beichushu - shang * chushu\n",
    "    shang += 1\n",
    "\n",
    "# TODO： add code here to debug\n",
    "shang -= 1\n",
    "print(\"{} / {} = {} ... {}\".format(beichushu, chushu, shang, yushu))\n",
    "if yushu == 0:\n",
    "    print(\"{}能被{}整除\".format(beichushu, chushu))\n",
    "else:\n",
    "    print(\"{}不能被{}整除\".format(beichushu, chushu))"
   ]
  },
  {
   "cell_type": "code",
   "execution_count": 12,
   "id": "super-darkness",
   "metadata": {},
   "outputs": [
    {
     "data": {
      "text/plain": [
       "3"
      ]
     },
     "execution_count": 12,
     "metadata": {},
     "output_type": "execute_result"
    }
   ],
   "source": [
    "# before loop 未进入循环前： shang:0, yushu:None\n",
    "# step      4: shang  4:yushu   shang*chushu <= beichushu  5:yushu    6:shang\n",
    "\n",
    "# 1            0      None         0<=23 Yes (True)         23         1\n",
    "# 2            1      23           5<=23     True           18         2\n",
    "# 3            2      18           10<=23 (True)            13         3\n",
    "# 4            3      13           True                     8          4\n",
    "# 5            4      8            True                     3          5\n",
    "# 6            5      3            5*5<=23? No(False)       /          /\n",
    "\n",
    "# out of loop 离开循环\n",
    "shang -= 1   # shang == 4\n",
    "yushu        # 3"
   ]
  },
  {
   "cell_type": "markdown",
   "id": "serial-madagascar",
   "metadata": {},
   "source": [
    "#### 2.余数总是比除数小。"
   ]
  },
  {
   "cell_type": "code",
   "execution_count": 19,
   "id": "latest-consolidation",
   "metadata": {},
   "outputs": [
    {
     "name": "stdout",
     "output_type": "stream",
     "text": [
      "23 / 5 = 4 ... 3\n",
      "23不能被5整除\n"
     ]
    }
   ],
   "source": [
    "beichushu, chushu = 23, 5\n",
    "shang, yushu = 0, beichushu - 0 * chushu\n",
    "while yushu >= chushu:\n",
    "    shang += 1\n",
    "    yushu = beichushu - shang * chushu\n",
    "    \n",
    "print(\"{} / {} = {} ... {}\".format(beichushu, chushu, shang, yushu))\n",
    "if yushu == 0:\n",
    "    print(\"{}能被{}整除\".format(beichushu, chushu))\n",
    "else:\n",
    "    print(\"{}不能被{}整除\".format(beichushu, chushu))"
   ]
  },
  {
   "cell_type": "code",
   "execution_count": 14,
   "id": "loaded-killing",
   "metadata": {},
   "outputs": [],
   "source": [
    "# before loop 循环开始前: shang: 0, yushu = 23\n",
    "\n",
    "# in loop 在循环中\n",
    "# step   line3:yushu    yushu >= chushu?     line4:shang    line5:yushu\n",
    "# 1           23             True                 1            18\n",
    "# 2           18             True                 2            13\n",
    "# 3           13             True                 3             8\n",
    "# 4            8             True                 4             3\n",
    "# 5            3             False                /             /\n",
    "\n",
    "# out of loop 离开循环后\n",
    "# line7: executed 执行了，print\n",
    "# line8: executed 执行了， check if condition 检查if的条件\n",
    "# line9: not executed, 未执行\n",
    "# line10: executed, \n",
    "# line11: print out输出不能整除"
   ]
  },
  {
   "cell_type": "markdown",
   "id": "owned-breed",
   "metadata": {},
   "source": [
    "#### 3.新的运算符`//`和`%`\n",
    "Python提供与加减乘除（`+`, `-`, `*`, `/`）地位类似的两个运算符`//`和`%`来分别计算一个数除以另一个数的商和余数，这两个运算符的名字本别为“取整”和”取余“，对应的运算表达式分别为“取整表达式”和“取余表达式”。例如`24`除以`5`的商和余数可以分别直接用下面的表达式算出。"
   ]
  },
  {
   "cell_type": "code",
   "execution_count": 20,
   "id": "bronze-nurse",
   "metadata": {},
   "outputs": [
    {
     "name": "stdout",
     "output_type": "stream",
     "text": [
      "23 / 5 = 4 ... 3\n",
      "23不能被5整除\n"
     ]
    }
   ],
   "source": [
    "beichushu, chuchu = 23, 5\n",
    "shang = beichushu // chushu    # 取整（商）表达式\n",
    "yushu = beichushu % chushu     # 取余表达式 \n",
    "\n",
    "print(\"{} / {} = {} ... {}\".format(beichushu, chushu, shang, yushu))\n",
    "if yushu == 0:\n",
    "    print(\"{}能被{}整除\".format(beichushu, chushu))\n",
    "else:\n",
    "    print(\"{}不能被{}整除\".format(beichushu, chushu))"
   ]
  },
  {
   "cell_type": "markdown",
   "id": "square-portland",
   "metadata": {},
   "source": [
    "#### 4.使用英文的变量名重写上面的代码"
   ]
  },
  {
   "cell_type": "code",
   "execution_count": 23,
   "id": "dense-mileage",
   "metadata": {},
   "outputs": [
    {
     "name": "stdout",
     "output_type": "stream",
     "text": [
      "24 / 5 = 4 ... 4\n",
      "24不能被5整除\n"
     ]
    }
   ],
   "source": [
    "dividend, divisor = 24, 5\n",
    "qoutient = dividend // divisor\n",
    "remainder = dividend % divisor\n",
    "\n",
    "print(\"{} / {} = {} ... {}\".format(dividend, divisor, qoutient, remainder))\n",
    "if yushu == 0:\n",
    "    print(\"{}能被{}整除\".format(dividend, divisor))\n",
    "else:\n",
    "    print(\"{}不能被{}整除\".format(dividend, divisor))"
   ]
  },
  {
   "cell_type": "markdown",
   "id": "breathing-brunswick",
   "metadata": {},
   "source": [
    "### 编程求解"
   ]
  },
  {
   "cell_type": "code",
   "execution_count": 21,
   "id": "armed-greek",
   "metadata": {},
   "outputs": [
    {
     "name": "stdout",
     "output_type": "stream",
     "text": [
      "6能被6整除。\n",
      "10能被10整除。\n",
      "12能被6整除。\n",
      "18能被6整除。\n",
      "20能被10整除。\n",
      "24能被6整除。\n",
      "30能被6整除。\n",
      "30能被10整除。\n",
      "30能同时被6和10整除。\n",
      "36能被6整除。\n",
      "40能被10整除。\n",
      "42能被6整除。\n",
      "48能被6整除。\n",
      "50能被10整除。\n",
      "54能被6整除。\n",
      "60能被6整除。\n",
      "60能被10整除。\n",
      "60能同时被6和10整除。\n",
      "66能被6整除。\n",
      "70能被10整除。\n",
      "72能被6整除。\n",
      "78能被6整除。\n",
      "80能被10整除。\n",
      "84能被6整除。\n",
      "90能被6整除。\n",
      "90能被10整除。\n",
      "90能同时被6和10整除。\n",
      "96能被6整除。\n",
      "100能被10整除。\n"
     ]
    }
   ],
   "source": [
    "divisor1, divisor2 = 6, 10                    # 声明两个除数 \n",
    "min_dividend, max_dividend = 1, 100           # 声明最小和最大被除数\n",
    "cur_dividend = min_dividend                   # 声明当前正在分析的被除数\n",
    "\n",
    "while cur_dividend <= max_dividend:           # while 循环起始及条件\n",
    "    \n",
    "    remainder1 = cur_dividend % divisor1      # 计算第一个余数\n",
    "    if remainder1 == 0:                       # 判断第一个余数是否为0，为0表示整除\n",
    "        print(\"{}能被{}整除。\".format(cur_dividend, divisor1))\n",
    "    \n",
    "    remainder2 = cur_dividend % divisor2      # 计算第二个余数\n",
    "    if remainder2 == 0:                       # 判断第二个余数是否为0，为0表示整除\n",
    "        print(\"{}能被{}整除。\".format(cur_dividend, divisor2))\n",
    "        \n",
    "    if remainder1 == 0 and remainder2 == 0:   # 判断两个余数是否同时为0，同时为0表示\n",
    "                                              # 当前被除数可以同时被两个除数整除\n",
    "        print(\"{}能同时被{}和{}整除。\".format(cur_dividend, divisor1, divisor2))\n",
    "        \n",
    "    cur_dividend += 1                         # 准备下一个被除数"
   ]
  },
  {
   "cell_type": "markdown",
   "id": "passing-rogers",
   "metadata": {},
   "source": [
    "### 知识点小结\n",
    "1. 学习“取整”和“取余”两个新运算符：`//`，`%`\n",
    "2. 复习`.format`方法控制字符串的格式\n",
    "3. 复习`if`条件语句，学习没有`else`配对的、单独使用`if`的条件语句，多个单独出现的`if`语句的意义\n",
    "4. 复习`and`连接两个条件表达式\n",
    "5. 复习`while`循环语句"
   ]
  },
  {
   "cell_type": "markdown",
   "id": "deadly-worry",
   "metadata": {},
   "source": []
  },
  {
   "cell_type": "code",
   "execution_count": null,
   "id": "lesbian-sperm",
   "metadata": {
    "hidden": true
   },
   "outputs": [],
   "source": []
  },
  {
   "cell_type": "code",
   "execution_count": null,
   "id": "greenhouse-vessel",
   "metadata": {
    "hidden": true
   },
   "outputs": [],
   "source": []
  },
  {
   "cell_type": "markdown",
   "id": "funny-bailey",
   "metadata": {},
   "source": [
    "### 计算机小知识"
   ]
  },
  {
   "cell_type": "markdown",
   "id": "metropolitan-allocation",
   "metadata": {},
   "source": [
    "暂缺"
   ]
  },
  {
   "cell_type": "markdown",
   "id": "mobile-potter",
   "metadata": {
    "heading_collapsed": true
   },
   "source": [
    "### 练习"
   ]
  },
  {
   "cell_type": "markdown",
   "id": "everyday-adobe",
   "metadata": {},
   "source": [
    "1. 对下面的每一个除法算式，分别使用例题中用过的三套代码来计算商和余数。\n",
    "   - $97 \\div 13$\n",
    "   - $84 \\div 7$\n",
    "   - $92 \\div 3$\n",
    "   - $92 \\div 4$"
   ]
  },
  {
   "cell_type": "code",
   "execution_count": null,
   "id": "convenient-genetics",
   "metadata": {
    "hidden": true
   },
   "outputs": [],
   "source": [
    "# 请自行添加代码单元格，一共需要12个代码单元格"
   ]
  },
  {
   "cell_type": "code",
   "execution_count": null,
   "id": "through-wrestling",
   "metadata": {},
   "outputs": [],
   "source": [
    "#97 / 13"
   ]
  },
  {
   "cell_type": "code",
   "execution_count": 2,
   "id": "announced-navigator",
   "metadata": {},
   "outputs": [
    {
     "name": "stdout",
     "output_type": "stream",
     "text": [
      "97 / 13 = 7 ... 6\n"
     ]
    }
   ],
   "source": [
    "dividend, divisor = 97, 13\n",
    "qoutient, remainder = 0, None\n",
    "\n",
    "while qoutient * divisor <= dividend:\n",
    "    remainder = dividend - qoutient * divisor\n",
    "    qoutient += 1\n",
    "\n",
    "qoutient -= 1\n",
    "print(\"{} / {} = {} ... {}\".format(dividend, divisor, qoutient, remainder))"
   ]
  },
  {
   "cell_type": "code",
   "execution_count": 3,
   "id": "further-component",
   "metadata": {},
   "outputs": [
    {
     "name": "stdout",
     "output_type": "stream",
     "text": [
      "97 / 13 = 7 ... 6\n"
     ]
    }
   ],
   "source": [
    "dividend, divisor = 97, 13\n",
    "qoutient, remainder = 0, dividend - 0 * divisor\n",
    "while remainder >= divisor:\n",
    "    qoutient += 1\n",
    "    remainder = dividend - qoutient * divisor\n",
    "    \n",
    "print(\"{} / {} = {} ... {}\".format(dividend, divisor, qoutient, remainder))"
   ]
  },
  {
   "cell_type": "code",
   "execution_count": 2,
   "id": "written-patrick",
   "metadata": {},
   "outputs": [
    {
     "name": "stdout",
     "output_type": "stream",
     "text": [
      "97 / 13 = 7 ... 6\n"
     ]
    }
   ],
   "source": [
    "dividend, divisor = 97, 13\n",
    "qoutient = dividend // divisor\n",
    "remainder = dividend % divisor\n",
    "\n",
    "print(\"{} / {} = {} ... {}\".format(dividend, divisor, qoutient, remainder))"
   ]
  },
  {
   "cell_type": "code",
   "execution_count": 7,
   "id": "coupled-nation",
   "metadata": {},
   "outputs": [],
   "source": [
    "#84 / 7"
   ]
  },
  {
   "cell_type": "code",
   "execution_count": 4,
   "id": "breathing-costa",
   "metadata": {},
   "outputs": [
    {
     "name": "stdout",
     "output_type": "stream",
     "text": [
      "84 / 7 = 12 ... 0\n"
     ]
    }
   ],
   "source": [
    "dividend, divisor = 84, 7\n",
    "qoutient, remainder = 0, None\n",
    "\n",
    "while qoutient * divisor <= dividend:\n",
    "    remainder = dividend - qoutient * divisor\n",
    "    qoutient += 1\n",
    "\n",
    "qoutient -= \n",
    "print(\"{} / {} = {} ... {}\".format(dividend, divisor, qoutient, remainder))"
   ]
  },
  {
   "cell_type": "code",
   "execution_count": 11,
   "id": "cardiac-halloween",
   "metadata": {},
   "outputs": [
    {
     "name": "stdout",
     "output_type": "stream",
     "text": [
      "84 / 7 = 12 ... 0\n"
     ]
    }
   ],
   "source": [
    "dividend, divisor = 84, 7\n",
    "qoutient, remainder = 0, dividend - 0 * divisor\n",
    "while remainder >= divisor:\n",
    "    qoutient += 1\n",
    "    remainder = dividend - qoutient * divisor\n",
    "    \n",
    "print(\"{} / {} = {} ... {}\".format(dividend, divisor, qoutient, remainder))"
   ]
  },
  {
   "cell_type": "code",
   "execution_count": 14,
   "id": "painted-tutorial",
   "metadata": {},
   "outputs": [
    {
     "name": "stdout",
     "output_type": "stream",
     "text": [
      "84 / 7 = 12 ... 0\n"
     ]
    }
   ],
   "source": [
    "dividend, divisor = 84, 7\n",
    "qoutient = dividend // divisor\n",
    "remainder = dividend % divisor\n",
    "\n",
    "print(\"{} / {} = {} ... {}\".format(dividend, divisor, qoutient, remainder))"
   ]
  },
  {
   "cell_type": "code",
   "execution_count": 6,
   "id": "worse-corpus",
   "metadata": {},
   "outputs": [],
   "source": [
    "#92 / 3"
   ]
  },
  {
   "cell_type": "code",
   "execution_count": 8,
   "id": "timely-poster",
   "metadata": {},
   "outputs": [
    {
     "name": "stdout",
     "output_type": "stream",
     "text": [
      "92 / 3 = 30 ... 2\n"
     ]
    }
   ],
   "source": [
    "dividend, divisor = 92, 3\n",
    "qoutient, remainder = 0, None\n",
    "\n",
    "while qoutient * divisor <= dividend:\n",
    "    remainder = dividend - qoutient * divisor\n",
    "    qoutient += 1\n",
    "\n",
    "qoutient -= 1\n",
    "print(\"{} / {} = {} ... {}\".format(dividend, divisor, qoutient, remainder))"
   ]
  },
  {
   "cell_type": "code",
   "execution_count": 12,
   "id": "expired-velvet",
   "metadata": {},
   "outputs": [
    {
     "name": "stdout",
     "output_type": "stream",
     "text": [
      "92 / 3 = 30 ... 2\n"
     ]
    }
   ],
   "source": [
    "dividend, divisor = 92, 3\n",
    "qoutient, remainder = 0, dividend - 0 * divisor\n",
    "while remainder >= divisor:\n",
    "    qoutient += 1\n",
    "    remainder = dividend - qoutient * divisor\n",
    "    \n",
    "print(\"{} / {} = {} ... {}\".format(dividend, divisor, qoutient, remainder))"
   ]
  },
  {
   "cell_type": "code",
   "execution_count": 15,
   "id": "introductory-specification",
   "metadata": {},
   "outputs": [
    {
     "name": "stdout",
     "output_type": "stream",
     "text": [
      "92 / 3 = 30 ... 2\n"
     ]
    }
   ],
   "source": [
    "dividend, divisor = 92, 3\n",
    "qoutient = dividend // divisor\n",
    "remainder = dividend % divisor\n",
    "\n",
    "print(\"{} / {} = {} ... {}\".format(dividend, divisor, qoutient, remainder))"
   ]
  },
  {
   "cell_type": "code",
   "execution_count": 9,
   "id": "racial-thirty",
   "metadata": {},
   "outputs": [],
   "source": [
    "#92 / 4"
   ]
  },
  {
   "cell_type": "code",
   "execution_count": 10,
   "id": "mexican-adaptation",
   "metadata": {},
   "outputs": [
    {
     "name": "stdout",
     "output_type": "stream",
     "text": [
      "92 / 4 = 23 ... 0\n"
     ]
    }
   ],
   "source": [
    "dividend, divisor = 92, 4\n",
    "qoutient, remainder = 0, None\n",
    "\n",
    "while qoutient * divisor <= dividend:\n",
    "    remainder = dividend - qoutient * divisor\n",
    "    qoutient += 1\n",
    "\n",
    "qoutient -= 1\n",
    "print(\"{} / {} = {} ... {}\".format(dividend, divisor, qoutient, remainder))"
   ]
  },
  {
   "cell_type": "code",
   "execution_count": 17,
   "id": "international-dealing",
   "metadata": {},
   "outputs": [
    {
     "name": "stdout",
     "output_type": "stream",
     "text": [
      "92 / 4 = 23 ... 0\n"
     ]
    }
   ],
   "source": [
    "dividend, divisor = 92, 4\n",
    "qoutient, remainder = 0, dividend - 0 * divisor\n",
    "while remainder >= divisor:\n",
    "    qoutient += 1\n",
    "    remainder = dividend - qoutient * divisor\n",
    "    \n",
    "print(\"{} / {} = {} ... {}\".format(dividend, divisor, qoutient, remainder))"
   ]
  },
  {
   "cell_type": "code",
   "execution_count": 18,
   "id": "indian-james",
   "metadata": {},
   "outputs": [
    {
     "name": "stdout",
     "output_type": "stream",
     "text": [
      "92 / 4 = 23 ... 0\n"
     ]
    }
   ],
   "source": [
    "dividend, divisor = 92, 4\n",
    "qoutient = dividend // divisor\n",
    "remainder = dividend % divisor\n",
    "\n",
    "print(\"{} / {} = {} ... {}\".format(dividend, divisor, qoutient, remainder))"
   ]
  },
  {
   "cell_type": "markdown",
   "id": "motivated-january",
   "metadata": {
    "hidden": true
   },
   "source": [
    "2. 补全下面单元格中的代码，统计在从1到100这100个整数中，分别能被6、10整除的数有多少个，能同时被这两个数整除的数又有多少个？"
   ]
  },
  {
   "cell_type": "code",
   "execution_count": 26,
   "id": "announced-electric",
   "metadata": {
    "hidden": true
   },
   "outputs": [
    {
     "name": "stdout",
     "output_type": "stream",
     "text": [
      "There're 16 numbers divisible by 6,  there're 10 numbers divisible by 10, there're 3 numbers divisible by both\n"
     ]
    }
   ],
   "source": [
    "divisor1, divisor2 = 6, 10                    # 声明两个除数 \n",
    "min_dividend, max_dividend = 1, 100           # 声明最小和最大被除数\n",
    "cur_dividend = min_dividend                   # 声明当前正在分析的被除数\n",
    "div_by_6, div_by_10, div_by_both = 0, 0, 0,   #TODO： add code here to declare variables that store the result\n",
    "#       添加代码声明一些变量存储结果\n",
    "while cur_dividend <= max_dividend:           # while 循环起始及条件\n",
    "    remainder1 = cur_dividend % divisor1      # 计算第一个余数\n",
    "    if remainder1 == 0:                       # 判断第一个余数是否为0，为0表示整除\n",
    "        div_by_6 += 1   #TODO： add code here 在这里添加代码更新能被第一个除数整除的数的个数\n",
    "        pass                                  # 不要删除这一行，下同\n",
    "    \n",
    "    remainder2 = cur_dividend % divisor2      # 计算第二个余数\n",
    "    if remainder2 == 0:                       # 判断第二个余数是否为0，为0表示整除\n",
    "        div_by_10 += 1 #TODO： add code here 在这里添加代码更新能被第二个除数整除的数的个数\n",
    "        pass\n",
    "    \n",
    "    if remainder1 == 0 and remainder2 == 0:   # 判断两个余数是否同时为0，同时为0表示\n",
    "                                              # 当前被除数可以同时被两个除数整除\n",
    "        div_by_both += 1#TODO： add code here 在这里添加代码更新能同时被两个除数整除的数的个数\n",
    "        pass\n",
    "    \n",
    "    cur_dividend += 1                         # 准备下一个被除数   \n",
    "print (\"There're {} numbers divisible by 6,  there're {} numbers divisible by 10, there're {} numbers divisible by both\" .format(div_by_6, div_by_10, div_by_both))  \n",
    "#TODO： add code here to print out final result\n",
    "#      在这里添加代码输出最后结果"
   ]
  },
  {
   "cell_type": "markdown",
   "id": "continent-croatia",
   "metadata": {},
   "source": [
    "3. 本节例题中在判断1到100这100个整数能否被6和10整除时，被除数是从1逐渐增大到100进入循环内部的。现在请您对例题中的代码（已经复制到下方代码单元格）作适当的修改，使得循环检查的被除数从100开始逐渐递减到1。运行你修改的代码，观察输出的结果与例题中的输出有什么差别。"
   ]
  },
  {
   "cell_type": "code",
   "execution_count": 24,
   "id": "level-planner",
   "metadata": {},
   "outputs": [
    {
     "name": "stdout",
     "output_type": "stream",
     "text": [
      "100能被10整除。\n",
      "96能被6整除。\n",
      "90能被6整除。\n",
      "90能被10整除。\n",
      "90能同时被6和10整除。\n",
      "84能被6整除。\n",
      "80能被10整除。\n",
      "78能被6整除。\n",
      "72能被6整除。\n",
      "70能被10整除。\n",
      "66能被6整除。\n",
      "60能被6整除。\n",
      "60能被10整除。\n",
      "60能同时被6和10整除。\n",
      "54能被6整除。\n",
      "50能被10整除。\n",
      "48能被6整除。\n",
      "42能被6整除。\n",
      "40能被10整除。\n",
      "36能被6整除。\n",
      "30能被6整除。\n",
      "30能被10整除。\n",
      "30能同时被6和10整除。\n",
      "24能被6整除。\n",
      "20能被10整除。\n",
      "18能被6整除。\n",
      "12能被6整除。\n",
      "10能被10整除。\n",
      "6能被6整除。\n"
     ]
    }
   ],
   "source": [
    "divisor1, divisor2 = 6, 10                    # 声明两个除数 \n",
    "min_dividend, max_dividend = 1, 100           # 声明最小和最大被除数\n",
    "cur_dividend = max_dividend                  # 声明当前正在分析的被除数\n",
    "\n",
    "while cur_dividend >= min_dividend:           # while 循环起始及条件\n",
    "    \n",
    "    remainder1 = cur_dividend % divisor1      # 计算第一个余数\n",
    "    if remainder1 == 0:                       # 判断第一个余数是否为0，为0表示整除\n",
    "        print(\"{}能被{}整除。\".format(cur_dividend, divisor1))\n",
    "    \n",
    "    remainder2 = cur_dividend % divisor2      # 计算第二个余数\n",
    "    if remainder2 == 0:                       # 判断第二个余数是否为0，为0表示整除\n",
    "        print(\"{}能被{}整除。\".format(cur_dividend, divisor2))\n",
    "        \n",
    "    if remainder1 == 0 and remainder2 == 0:   # 判断两个余数是否同时为0，同时为0表示\n",
    "                                              # 当前被除数可以同时被两个除数整除\n",
    "        print(\"{}能同时被{}和{}整除。\".format(cur_dividend, divisor1, divisor2))\n",
    "        \n",
    "    cur_dividend -= 1                     # 准备下一个被除数"
   ]
  },
  {
   "cell_type": "markdown",
   "id": "corrected-trick",
   "metadata": {
    "hidden": true
   },
   "source": [
    "4. 自己动手编写程序统计在1到100这100个整数中，能同时被3和9整除的数分别是哪些。在程序中添加一些代码来验证，所有能被9整除的数也一定能被3整除。 \n",
    "   提示：当程序判断一个被除数能被9整除后，验证该数除以3的余数为0，记录验证通过的被除数的数量与能被9整除的数的个数比较结果相等。"
   ]
  },
  {
   "cell_type": "code",
   "execution_count": 21,
   "id": "accurate-journalism",
   "metadata": {},
   "outputs": [
    {
     "name": "stdout",
     "output_type": "stream",
     "text": [
      "9 can be both divided by 3 and 9.\n",
      "18 can be both divided by 3 and 9.\n",
      "27 can be both divided by 3 and 9.\n",
      "36 can be both divided by 3 and 9.\n",
      "45 can be both divided by 3 and 9.\n",
      "54 can be both divided by 3 and 9.\n",
      "63 can be both divided by 3 and 9.\n",
      "72 can be both divided by 3 and 9.\n",
      "81 can be both divided by 3 and 9.\n",
      "90 can be both divided by 3 and 9.\n",
      "99 can be both divided by 3 and 9.\n",
      "There're 11 numbers divisible by 9,  there're 11 numbers divisible by 9 and 3.\n"
     ]
    }
   ],
   "source": [
    "divisor1, divisor2 = 3, 9                  \n",
    "min_dividend, max_dividend = 1, 100          \n",
    "cur_dividend = min_dividend                  \n",
    "num9, num3 = 0, 0 \n",
    "while cur_dividend <= max_dividend:\n",
    "    \n",
    "    remainder1 = cur_dividend % divisor1 \n",
    "    remainder2 = cur_dividend % divisor2 \n",
    "                    \n",
    "    if remainder1 == 0 and remainder2 == 0:  \n",
    "        print(\"{} can be both divided by {} and {}.\".format(cur_dividend, divisor1, divisor2))\n",
    "        num9 +=1\n",
    "        num3 +=1\n",
    "    cur_dividend += 1  \n",
    "print(\"There're {} numbers divisible by 9,  there're {} numbers divisible by 9 and 3.\". format(num9, num3))"
   ]
  },
  {
   "cell_type": "markdown",
   "id": "union-tactics",
   "metadata": {
    "hidden": true
   },
   "source": [
    "5. 幼儿园的校长把所有的小朋友们集合起来分组由老师带队出去游玩。在分组的时候，老师和小朋友们惊奇地发现，如果把全体小朋友们平均（每组人数相同称为“平均”）分成2组，会剩余一个小朋友无法分到任何一个组中；如果把全体小朋友平均分成3组，也会剩余一个小朋友；如果平均分成5组，还是会剩余一个小朋友。已知这个幼儿园小朋友的总人数在90和100之间，你能准确的算出这个幼儿园一共有多少小朋友吗？请先尝试笔算，再编写程序验证你的计算结果。"
   ]
  },
  {
   "cell_type": "code",
   "execution_count": 10,
   "id": "heated-harmony",
   "metadata": {},
   "outputs": [
    {
     "name": "stdout",
     "output_type": "stream",
     "text": [
      "There are 91 students.\n"
     ]
    }
   ],
   "source": [
    "max_num = 100\n",
    "min_num = 90\n",
    "current_dividend = min_num\n",
    "rem_1 = 0\n",
    "rem_2 = 0\n",
    "rem_3 = 0\n",
    "divisor1 = 2\n",
    "divisor2 = 3\n",
    "divisor3 = 5\n",
    "rem = 1\n",
    "while current_dividend <= max_num:\n",
    "    rem_1 = current_dividend % divisor1\n",
    "    rem_2 = current_dividend % divisor2\n",
    "    rem_3 = current_dividend % divisor3\n",
    "    if rem_1 == 1 and rem_2 == 1 and rem_3 == 1:\n",
    "        print(\"There are {} students.\".format(current_dividend))\n",
    "    current_dividend += 1"
   ]
  },
  {
   "cell_type": "markdown",
   "id": "c2ce30c7-55ff-4ea2-b2dc-a69f204c1067",
   "metadata": {},
   "source": [
    "## <h1 style=\"color:red;\">A, Well Done!</h1>\n",
    "**Comment**:\n",
    "For question4, your codes only completed first half of the question. Please see the answers on the website."
   ]
  },
  {
   "cell_type": "code",
   "execution_count": null,
   "id": "99daafc6-9352-4758-a910-79bd08fa2ae1",
   "metadata": {},
   "outputs": [],
   "source": []
  }
 ],
 "metadata": {
  "kernelspec": {
   "display_name": "Python 3",
   "language": "python",
   "name": "python3"
  },
  "language_info": {
   "codemirror_mode": {
    "name": "ipython",
    "version": 3
   },
   "file_extension": ".py",
   "mimetype": "text/x-python",
   "name": "python",
   "nbconvert_exporter": "python",
   "pygments_lexer": "ipython3",
   "version": "3.8.5"
  }
 },
 "nbformat": 4,
 "nbformat_minor": 5
}
