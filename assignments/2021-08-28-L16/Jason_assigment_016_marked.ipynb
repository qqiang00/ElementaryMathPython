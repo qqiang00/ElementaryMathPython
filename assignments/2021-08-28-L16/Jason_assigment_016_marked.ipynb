{
 "cells": [
  {
   "cell_type": "markdown",
   "id": "different-chester",
   "metadata": {},
   "source": [
    "## 第16讲 一共可以排出多少个不同的队伍"
   ]
  },
  {
   "cell_type": "markdown",
   "id": "bacterial-vulnerability",
   "metadata": {},
   "source": [
    "### Problem 问题描述"
   ]
  },
  {
   "cell_type": "markdown",
   "id": "supported-review",
   "metadata": {},
   "source": [
    "班级里的四个同学分别是：Jason, Sophie, Tony, Yunzi，他们按从前到后的次序排成一个纵队，可以排成多少个不一样的纵队？ 通过编程求解。\n",
    "\n",
    "提示：“纵队”是一种排队的方式，在纵队中，队伍中间的任何一个成员其左右两侧没有其他的队伍成员，其他成员只出现在它的前面和后方。同时排第一的成员前面没有别的成员，派最末位的成员后面没有别的成员。"
   ]
  },
  {
   "cell_type": "code",
   "execution_count": 1,
   "id": "voluntary-warren",
   "metadata": {},
   "outputs": [],
   "source": [
    "classmates = [\"Jason\", \"Sophie\", \"Tony\", \"Yunzi\"]"
   ]
  },
  {
   "cell_type": "markdown",
   "id": "french-congress",
   "metadata": {},
   "source": [
    "### Math Background 数学背景\n",
    "\n",
    "1. 简单的排列组合\n",
    "2. 阶乘的概念"
   ]
  },
  {
   "cell_type": "markdown",
   "id": "developmental-retention",
   "metadata": {
    "heading_collapsed": true
   },
   "source": [
    "### Prerequisites 预备知识\n",
    "\n",
    "#### 1. 排列和组合"
   ]
  },
  {
   "cell_type": "markdown",
   "id": "wound-score",
   "metadata": {},
   "source": [
    "    A. 考虑只有一个小朋友Jason排队的情形\n",
    "       - Jason\n",
    "\n",
    "    B. 考虑只有两个小朋友：Jason, Sophie 排队的情形\n",
    "       - Jason Sophie\n",
    "       - Sophie Jason\n",
    "\n",
    "    C. 考虑有三个小朋友：Jason, Sophie, Tony排队的情形 \n",
    "       - Jason Sophie Tony\n",
    "       - Jason Tony Sohie\n",
    "       - Sophie Jason Tony\n",
    "       - Tony Sophie Jason\n",
    "       - Sophie Tony Jason\n",
    "       - Tony Jason Sophie\n",
    "\n",
    "观察规律，写出有所有四个小朋友排队的各种可能性。\n"
   ]
  },
  {
   "cell_type": "markdown",
   "id": "funny-support",
   "metadata": {},
   "source": [
    "#### 2. **Factorial 阶乘**\n",
    "- P1 = 1 = 1!\n",
    "- P2 = 2 * 1 = 2!\n",
    "- P3 = 3 * 2 * 1 = 3 * ( 2 * 1 ) = 3 * P2 = 3!\n",
    "- P4 = 4 * 3 * 2 * 1 = 4 * (3 * 2 * 1) = 4 * P3 = 4!\n",
    "- P5 = 5 * 4 * 3 * 2 * 1 = 5!\n",
    "- ...\n",
    "- Pn = n * (n-1) * (n-2) * ... * 2 * 1 = n!"
   ]
  },
  {
   "cell_type": "code",
   "execution_count": 10,
   "id": "considered-lincoln",
   "metadata": {},
   "outputs": [],
   "source": [
    "def cal_num_queue(num_person):\n",
    "    #result = 1 * 2 * 3 * 4 * ... * num_person\n",
    "    result, factor = 1, 1\n",
    "    while factor <= num_person:\n",
    "        result = factor * result\n",
    "        factor += 1\n",
    "        #print(\"result: {}, factor: {}\".format(result, factor))\n",
    "        \n",
    "    print(\"There are {} queues altogether, if number of person is {}\".format\\\n",
    "          (result, num_person))\n",
    "    return"
   ]
  },
  {
   "cell_type": "code",
   "execution_count": 12,
   "id": "fabulous-portable",
   "metadata": {},
   "outputs": [
    {
     "name": "stdout",
     "output_type": "stream",
     "text": [
      "There are 720 queues altogether, if number of person is 6\n"
     ]
    }
   ],
   "source": [
    "cal_num_queue(6)"
   ]
  },
  {
   "cell_type": "markdown",
   "id": "tight-alberta",
   "metadata": {},
   "source": [
    "#### 3. 手动列举三个同学排队的所有可能性**\n",
    "\n",
    "for 3 classmates: \"Jason\", \"Sophie\", \"Tony\""
   ]
  },
  {
   "cell_type": "code",
   "execution_count": 2,
   "id": "original-manitoba",
   "metadata": {},
   "outputs": [
    {
     "name": "stdout",
     "output_type": "stream",
     "text": [
      "('Jason', 'Sophie', 'Tony')\n",
      "('Jason', 'Tony', 'Sophie')\n",
      "('Sophie', 'Jason', 'Tony')\n",
      "('Sophie', 'Tony', 'Jason')\n",
      "('Tony', 'Jason', 'Sophie')\n",
      "('Tony', 'Sophie', 'Jason')\n"
     ]
    }
   ],
   "source": [
    "classmates = [\"Jason\", \"Sophie\", \"Tony\"]\n",
    "queues = []          # store all the queues generated 保存所有生成的队伍 \n",
    "n_classmates = len(classmates)\n",
    "first, second, third = None, None, None\n",
    "\n",
    "first, second, third = \"Jason\", \"Sophie\", \"Tony\"\n",
    "queues.append((first, second, third))\n",
    "\n",
    "first, second, third = \"Jason\", \"Tony\", \"Sophie\"\n",
    "queues.append((first, second, third))\n",
    "\n",
    "first, second, third = \"Sophie\", \"Jason\", \"Tony\"\n",
    "queues.append((first, second, third))\n",
    "\n",
    "first, second, third = \"Sophie\", \"Tony\", \"Jason\"\n",
    "queues.append((first, second, third))\n",
    "\n",
    "first, second, third = \"Tony\", \"Jason\", \"Sophie\"\n",
    "queues.append((first, second, third))\n",
    "\n",
    "first, second, third = \"Tony\", \"Sophie\", \"Jason\"\n",
    "queues.append( (first, second, third) )  # tuple, \n",
    "\n",
    "for q in queues:\n",
    "    print(q)"
   ]
  },
  {
   "cell_type": "markdown",
   "id": "chief-karaoke",
   "metadata": {},
   "source": [
    "#### 4. 使用while循环列出所有可能的排队"
   ]
  },
  {
   "cell_type": "code",
   "execution_count": 15,
   "id": "olympic-vintage",
   "metadata": {},
   "outputs": [
    {
     "name": "stdout",
     "output_type": "stream",
     "text": [
      "('Jason', 'Sophie', 'Tony')\n",
      "('Jason', 'Tony', 'Sophie')\n",
      "('Sophie', 'Jason', 'Tony')\n",
      "('Sophie', 'Tony', 'Jason')\n",
      "('Tony', 'Jason', 'Sophie')\n",
      "('Tony', 'Sophie', 'Jason')\n"
     ]
    }
   ],
   "source": [
    "results = []\n",
    "i, j, k = 0, 0, 0\n",
    "n_classmates = len(classmates)\n",
    "first, second, third = None, None, None\n",
    "while i < n_classmates:\n",
    "    first = classmates[i]\n",
    "    j = 0\n",
    "    while j < n_classmates:\n",
    "        if j != i:\n",
    "            second = classmates[j]\n",
    "            k = 0\n",
    "            while k < n_classmates:\n",
    "                if k != i and k != j:\n",
    "                    third = classmates[k]\n",
    "                    queue = (first, second, third)\n",
    "                    print(perm)\n",
    "                    results.append(perm)\n",
    "                k += 1\n",
    "        j += 1\n",
    "    i += 1"
   ]
  },
  {
   "cell_type": "markdown",
   "id": "neither-scanner",
   "metadata": {},
   "source": [
    "#### 5. 使用For...in... 循环列出所有排队的可能性"
   ]
  },
  {
   "cell_type": "code",
   "execution_count": 44,
   "id": "level-schedule",
   "metadata": {},
   "outputs": [
    {
     "name": "stdout",
     "output_type": "stream",
     "text": [
      "('Jason', 'Sophie', 'Tony')\n",
      "('Jason', 'Tony', 'Sophie')\n",
      "('Sophie', 'Jason', 'Tony')\n",
      "('Sophie', 'Tony', 'Jason')\n",
      "('Tony', 'Jason', 'Sophie')\n",
      "('Tony', 'Sophie', 'Jason')\n"
     ]
    }
   ],
   "source": [
    "classmates = [\"Jason\", \"Sophie\", \"Tony\", \"Yunzi\", \"Celine\"]\n",
    "queues = []          # store all the queues generated 保存所有生成的队伍 \n",
    "queue = None         # build q queue to store all the classmates \"Jason\", \"Tony\"\n",
    "                     # 声明一个队伍变量，存放一个可能的排队形式\n",
    "for first in classmates:\n",
    "    for second in classmates:\n",
    "        if second != first:\n",
    "            for third in classmates:\n",
    "                if third != first and third != second:\n",
    "                    queue = (first, second, third)  # find a queue 找到一个队伍\n",
    "                    queues.append(queue)       # append this queue to queues\n",
    "                                               # 把找到的队伍放到队伍列表里\n",
    "                    \n",
    "for queue in queues:\n",
    "    print(queue)"
   ]
  },
  {
   "cell_type": "markdown",
   "id": "comic-commons",
   "metadata": {},
   "source": [
    "#### 6. 使用导入的方法`permutations`来找出所有的排队可能性"
   ]
  },
  {
   "cell_type": "code",
   "execution_count": 3,
   "id": "marked-trader",
   "metadata": {},
   "outputs": [
    {
     "name": "stdout",
     "output_type": "stream",
     "text": [
      "('Jason', 'Sophie', 'Tony')\n",
      "('Jason', 'Tony', 'Sophie')\n",
      "('Sophie', 'Jason', 'Tony')\n",
      "('Sophie', 'Tony', 'Jason')\n",
      "('Tony', 'Jason', 'Sophie')\n",
      "('Tony', 'Sophie', 'Jason')\n"
     ]
    }
   ],
   "source": [
    "classmates = [\"Jason\", \"Sophie\", \"Tony\"]\n",
    "from itertools import permutations\n",
    "perms = permutations(classmates)\n",
    "perms = list(perms)\n",
    "i = 0\n",
    "while i < len(perms):\n",
    "    print(perms[i])\n",
    "    i += 1"
   ]
  },
  {
   "cell_type": "markdown",
   "id": "closed-order",
   "metadata": {},
   "source": [
    "### Solution 编程求解"
   ]
  },
  {
   "cell_type": "markdown",
   "id": "naughty-ocean",
   "metadata": {},
   "source": [
    "这里仅使用permutations方法来求解，读者可以自行练习使用其他上文介绍的其他方法来编程解决"
   ]
  },
  {
   "cell_type": "code",
   "execution_count": 3,
   "id": "medieval-lawyer",
   "metadata": {},
   "outputs": [
    {
     "name": "stdout",
     "output_type": "stream",
     "text": [
      "('Jason', 'Sophie', 'Tony', 'Yunzi')\n",
      "('Jason', 'Sophie', 'Yunzi', 'Tony')\n",
      "('Jason', 'Tony', 'Sophie', 'Yunzi')\n",
      "('Jason', 'Tony', 'Yunzi', 'Sophie')\n",
      "('Jason', 'Yunzi', 'Sophie', 'Tony')\n",
      "('Jason', 'Yunzi', 'Tony', 'Sophie')\n",
      "('Sophie', 'Jason', 'Tony', 'Yunzi')\n",
      "('Sophie', 'Jason', 'Yunzi', 'Tony')\n",
      "('Sophie', 'Tony', 'Jason', 'Yunzi')\n",
      "('Sophie', 'Tony', 'Yunzi', 'Jason')\n",
      "('Sophie', 'Yunzi', 'Jason', 'Tony')\n",
      "('Sophie', 'Yunzi', 'Tony', 'Jason')\n",
      "('Tony', 'Jason', 'Sophie', 'Yunzi')\n",
      "('Tony', 'Jason', 'Yunzi', 'Sophie')\n",
      "('Tony', 'Sophie', 'Jason', 'Yunzi')\n",
      "('Tony', 'Sophie', 'Yunzi', 'Jason')\n",
      "('Tony', 'Yunzi', 'Jason', 'Sophie')\n",
      "('Tony', 'Yunzi', 'Sophie', 'Jason')\n",
      "('Yunzi', 'Jason', 'Sophie', 'Tony')\n",
      "('Yunzi', 'Jason', 'Tony', 'Sophie')\n",
      "('Yunzi', 'Sophie', 'Jason', 'Tony')\n",
      "('Yunzi', 'Sophie', 'Tony', 'Jason')\n",
      "('Yunzi', 'Tony', 'Jason', 'Sophie')\n",
      "('Yunzi', 'Tony', 'Sophie', 'Jason')\n"
     ]
    }
   ],
   "source": [
    "classmates = [\"Jason\", \"Sophie\", \"Tony\", \"Yunzi\"]\n",
    "from itertools import permutations\n",
    "perms = permutations(classmates)\n",
    "perms = list(perms)\n",
    "i = 0\n",
    "while i < len(perms):\n",
    "    print(perms[i])\n",
    "    i += 1"
   ]
  },
  {
   "cell_type": "markdown",
   "id": "collaborative-channel",
   "metadata": {},
   "source": [
    "### Summary 知识点小结"
   ]
  },
  {
   "cell_type": "markdown",
   "id": "british-litigation",
   "metadata": {},
   "source": [
    "1. 学习`for`...`in`...循环，理解它与`while`循环的差别\n",
    "    1. for 比较简单, 不需要设置一个临时变量，也不需要条件表达式；while需要条件表达式（外加一个临时变量）\n",
    "    2. for 针对的是一个list(可迭代对象), while循环可以没有list\n",
    "    3. while 需要内部需要改变变量的值已继续判断是否符合循环条件, for不需要\n",
    "2. 复习列表`list`型变量的使用及其对应的方法\n",
    "3. 初步学习`permutations`方法"
   ]
  },
  {
   "cell_type": "markdown",
   "id": "favorite-rocket",
   "metadata": {},
   "source": [
    "### 计算机小知识"
   ]
  },
  {
   "cell_type": "markdown",
   "id": "statewide-racing",
   "metadata": {},
   "source": [
    "暂缺"
   ]
  },
  {
   "cell_type": "markdown",
   "id": "piano-credits",
   "metadata": {
    "heading_collapsed": true
   },
   "source": [
    "### Assignments 作业"
   ]
  },
  {
   "cell_type": "markdown",
   "id": "drawn-jerusalem",
   "metadata": {},
   "source": [
    "1. 现在有5个小朋友：Jason, Sophie, Tony, Yunzi, Celine, 他们排成一个纵队，那么一共有多少种排队方法？请分别用`while`循环`for`...`in`循环，和`permutations`方法来完成本题。<br>\n",
    "   If now there is 5 chldren instead of 4 (Celine added), how many queues can be formed. Please use `while` loop, `for`...`in` loop, and `permuations` methods to answer this question seperatedly."
   ]
  },
  {
   "cell_type": "code",
   "execution_count": 39,
   "id": "fifteen-sample",
   "metadata": {},
   "outputs": [
    {
     "name": "stdout",
     "output_type": "stream",
     "text": [
      "('Sophie', 'Tony', 'Jason', 'Yunzi', 'Celine')\n",
      "('Sophie', 'Tony', 'Jason', 'Celine', 'Yunzi')\n",
      "('Sophie', 'Tony', 'Yunzi', 'Jason', 'Celine')\n",
      "('Sophie', 'Tony', 'Yunzi', 'Celine', 'Jason')\n",
      "('Sophie', 'Tony', 'Celine', 'Jason', 'Yunzi')\n",
      "('Sophie', 'Tony', 'Celine', 'Yunzi', 'Jason')\n",
      "('Sophie', 'Jason', 'Tony', 'Yunzi', 'Celine')\n",
      "('Sophie', 'Jason', 'Tony', 'Celine', 'Yunzi')\n",
      "('Sophie', 'Jason', 'Yunzi', 'Tony', 'Celine')\n",
      "('Sophie', 'Jason', 'Yunzi', 'Celine', 'Tony')\n",
      "('Sophie', 'Jason', 'Celine', 'Tony', 'Yunzi')\n",
      "('Sophie', 'Jason', 'Celine', 'Yunzi', 'Tony')\n",
      "('Sophie', 'Yunzi', 'Tony', 'Jason', 'Celine')\n",
      "('Sophie', 'Yunzi', 'Tony', 'Celine', 'Jason')\n",
      "('Sophie', 'Yunzi', 'Jason', 'Tony', 'Celine')\n",
      "('Sophie', 'Yunzi', 'Jason', 'Celine', 'Tony')\n",
      "('Sophie', 'Yunzi', 'Celine', 'Tony', 'Jason')\n",
      "('Sophie', 'Yunzi', 'Celine', 'Jason', 'Tony')\n",
      "('Sophie', 'Celine', 'Tony', 'Jason', 'Yunzi')\n",
      "('Sophie', 'Celine', 'Tony', 'Yunzi', 'Jason')\n",
      "('Sophie', 'Celine', 'Jason', 'Tony', 'Yunzi')\n",
      "('Sophie', 'Celine', 'Jason', 'Yunzi', 'Tony')\n",
      "('Sophie', 'Celine', 'Yunzi', 'Tony', 'Jason')\n",
      "('Sophie', 'Celine', 'Yunzi', 'Jason', 'Tony')\n",
      "('Tony', 'Sophie', 'Jason', 'Yunzi', 'Celine')\n",
      "('Tony', 'Sophie', 'Jason', 'Celine', 'Yunzi')\n",
      "('Tony', 'Sophie', 'Yunzi', 'Jason', 'Celine')\n",
      "('Tony', 'Sophie', 'Yunzi', 'Celine', 'Jason')\n",
      "('Tony', 'Sophie', 'Celine', 'Jason', 'Yunzi')\n",
      "('Tony', 'Sophie', 'Celine', 'Yunzi', 'Jason')\n",
      "('Tony', 'Jason', 'Sophie', 'Yunzi', 'Celine')\n",
      "('Tony', 'Jason', 'Sophie', 'Celine', 'Yunzi')\n",
      "('Tony', 'Jason', 'Yunzi', 'Sophie', 'Celine')\n",
      "('Tony', 'Jason', 'Yunzi', 'Celine', 'Sophie')\n",
      "('Tony', 'Jason', 'Celine', 'Sophie', 'Yunzi')\n",
      "('Tony', 'Jason', 'Celine', 'Yunzi', 'Sophie')\n",
      "('Tony', 'Yunzi', 'Sophie', 'Jason', 'Celine')\n",
      "('Tony', 'Yunzi', 'Sophie', 'Celine', 'Jason')\n",
      "('Tony', 'Yunzi', 'Jason', 'Sophie', 'Celine')\n",
      "('Tony', 'Yunzi', 'Jason', 'Celine', 'Sophie')\n",
      "('Tony', 'Yunzi', 'Celine', 'Sophie', 'Jason')\n",
      "('Tony', 'Yunzi', 'Celine', 'Jason', 'Sophie')\n",
      "('Tony', 'Celine', 'Sophie', 'Jason', 'Yunzi')\n",
      "('Tony', 'Celine', 'Sophie', 'Yunzi', 'Jason')\n",
      "('Tony', 'Celine', 'Jason', 'Sophie', 'Yunzi')\n",
      "('Tony', 'Celine', 'Jason', 'Yunzi', 'Sophie')\n",
      "('Tony', 'Celine', 'Yunzi', 'Sophie', 'Jason')\n",
      "('Tony', 'Celine', 'Yunzi', 'Jason', 'Sophie')\n",
      "('Jason', 'Sophie', 'Tony', 'Yunzi', 'Celine')\n",
      "('Jason', 'Sophie', 'Tony', 'Celine', 'Yunzi')\n",
      "('Jason', 'Sophie', 'Yunzi', 'Tony', 'Celine')\n",
      "('Jason', 'Sophie', 'Yunzi', 'Celine', 'Tony')\n",
      "('Jason', 'Sophie', 'Celine', 'Tony', 'Yunzi')\n",
      "('Jason', 'Sophie', 'Celine', 'Yunzi', 'Tony')\n",
      "('Jason', 'Tony', 'Sophie', 'Yunzi', 'Celine')\n",
      "('Jason', 'Tony', 'Sophie', 'Celine', 'Yunzi')\n",
      "('Jason', 'Tony', 'Yunzi', 'Sophie', 'Celine')\n",
      "('Jason', 'Tony', 'Yunzi', 'Celine', 'Sophie')\n",
      "('Jason', 'Tony', 'Celine', 'Sophie', 'Yunzi')\n",
      "('Jason', 'Tony', 'Celine', 'Yunzi', 'Sophie')\n",
      "('Jason', 'Yunzi', 'Sophie', 'Tony', 'Celine')\n",
      "('Jason', 'Yunzi', 'Sophie', 'Celine', 'Tony')\n",
      "('Jason', 'Yunzi', 'Tony', 'Sophie', 'Celine')\n",
      "('Jason', 'Yunzi', 'Tony', 'Celine', 'Sophie')\n",
      "('Jason', 'Yunzi', 'Celine', 'Sophie', 'Tony')\n",
      "('Jason', 'Yunzi', 'Celine', 'Tony', 'Sophie')\n",
      "('Jason', 'Celine', 'Sophie', 'Tony', 'Yunzi')\n",
      "('Jason', 'Celine', 'Sophie', 'Yunzi', 'Tony')\n",
      "('Jason', 'Celine', 'Tony', 'Sophie', 'Yunzi')\n",
      "('Jason', 'Celine', 'Tony', 'Yunzi', 'Sophie')\n",
      "('Jason', 'Celine', 'Yunzi', 'Sophie', 'Tony')\n",
      "('Jason', 'Celine', 'Yunzi', 'Tony', 'Sophie')\n",
      "('Yunzi', 'Sophie', 'Tony', 'Jason', 'Celine')\n",
      "('Yunzi', 'Sophie', 'Tony', 'Celine', 'Jason')\n",
      "('Yunzi', 'Sophie', 'Jason', 'Tony', 'Celine')\n",
      "('Yunzi', 'Sophie', 'Jason', 'Celine', 'Tony')\n",
      "('Yunzi', 'Sophie', 'Celine', 'Tony', 'Jason')\n",
      "('Yunzi', 'Sophie', 'Celine', 'Jason', 'Tony')\n",
      "('Yunzi', 'Tony', 'Sophie', 'Jason', 'Celine')\n",
      "('Yunzi', 'Tony', 'Sophie', 'Celine', 'Jason')\n",
      "('Yunzi', 'Tony', 'Jason', 'Sophie', 'Celine')\n",
      "('Yunzi', 'Tony', 'Jason', 'Celine', 'Sophie')\n",
      "('Yunzi', 'Tony', 'Celine', 'Sophie', 'Jason')\n",
      "('Yunzi', 'Tony', 'Celine', 'Jason', 'Sophie')\n",
      "('Yunzi', 'Jason', 'Sophie', 'Tony', 'Celine')\n",
      "('Yunzi', 'Jason', 'Sophie', 'Celine', 'Tony')\n",
      "('Yunzi', 'Jason', 'Tony', 'Sophie', 'Celine')\n",
      "('Yunzi', 'Jason', 'Tony', 'Celine', 'Sophie')\n",
      "('Yunzi', 'Jason', 'Celine', 'Sophie', 'Tony')\n",
      "('Yunzi', 'Jason', 'Celine', 'Tony', 'Sophie')\n",
      "('Yunzi', 'Celine', 'Sophie', 'Tony', 'Jason')\n",
      "('Yunzi', 'Celine', 'Sophie', 'Jason', 'Tony')\n",
      "('Yunzi', 'Celine', 'Tony', 'Sophie', 'Jason')\n",
      "('Yunzi', 'Celine', 'Tony', 'Jason', 'Sophie')\n",
      "('Yunzi', 'Celine', 'Jason', 'Sophie', 'Tony')\n",
      "('Yunzi', 'Celine', 'Jason', 'Tony', 'Sophie')\n",
      "('Celine', 'Sophie', 'Tony', 'Jason', 'Yunzi')\n",
      "('Celine', 'Sophie', 'Tony', 'Yunzi', 'Jason')\n",
      "('Celine', 'Sophie', 'Jason', 'Tony', 'Yunzi')\n",
      "('Celine', 'Sophie', 'Jason', 'Yunzi', 'Tony')\n",
      "('Celine', 'Sophie', 'Yunzi', 'Tony', 'Jason')\n",
      "('Celine', 'Sophie', 'Yunzi', 'Jason', 'Tony')\n",
      "('Celine', 'Tony', 'Sophie', 'Jason', 'Yunzi')\n",
      "('Celine', 'Tony', 'Sophie', 'Yunzi', 'Jason')\n",
      "('Celine', 'Tony', 'Jason', 'Sophie', 'Yunzi')\n",
      "('Celine', 'Tony', 'Jason', 'Yunzi', 'Sophie')\n",
      "('Celine', 'Tony', 'Yunzi', 'Sophie', 'Jason')\n",
      "('Celine', 'Tony', 'Yunzi', 'Jason', 'Sophie')\n",
      "('Celine', 'Jason', 'Sophie', 'Tony', 'Yunzi')\n",
      "('Celine', 'Jason', 'Sophie', 'Yunzi', 'Tony')\n",
      "('Celine', 'Jason', 'Tony', 'Sophie', 'Yunzi')\n",
      "('Celine', 'Jason', 'Tony', 'Yunzi', 'Sophie')\n",
      "('Celine', 'Jason', 'Yunzi', 'Sophie', 'Tony')\n",
      "('Celine', 'Jason', 'Yunzi', 'Tony', 'Sophie')\n",
      "('Celine', 'Yunzi', 'Sophie', 'Tony', 'Jason')\n",
      "('Celine', 'Yunzi', 'Sophie', 'Jason', 'Tony')\n",
      "('Celine', 'Yunzi', 'Tony', 'Sophie', 'Jason')\n",
      "('Celine', 'Yunzi', 'Tony', 'Jason', 'Sophie')\n",
      "('Celine', 'Yunzi', 'Jason', 'Sophie', 'Tony')\n",
      "('Celine', 'Yunzi', 'Jason', 'Tony', 'Sophie')\n",
      "There are 120 combinations.\n"
     ]
    }
   ],
   "source": [
    "classmates = [\"Sophie\", \"Tony\", \"Jason\", \"Yunzi\", \"Celine\"]\n",
    "queues = []\n",
    "n_classmates = len(classmates)\n",
    "queue = []\n",
    "for first in classmates:\n",
    "    for second in classmates:\n",
    "        if second != first:\n",
    "            for third in classmates:\n",
    "                if third != second and third != first:\n",
    "                    for forth in classmates:\n",
    "                        if forth != second and forth != first and forth != third:\n",
    "                            for fifth in classmates:\n",
    "                                if fifth != second and fifth != first and fifth != third and fifth != forth:\n",
    "                                    queue = (first, second, third, forth, fifth)\n",
    "                                    queues. append(queue)\n",
    "                        \n",
    "for queue in queues:\n",
    "    print(queue)\n",
    "    \n",
    "leng = len(queues)\n",
    "print(\"There are {} combinations.\".format(leng))"
   ]
  },
  {
   "cell_type": "code",
   "execution_count": 51,
   "id": "continuous-contest",
   "metadata": {},
   "outputs": [
    {
     "name": "stdout",
     "output_type": "stream",
     "text": [
      "('Sophie', 'Tony', 'Jason', 'Yunzi', 'Celine')\n",
      "('Sophie', 'Tony', 'Jason', 'Celine', 'Yunzi')\n",
      "('Sophie', 'Tony', 'Yunzi', 'Jason', 'Celine')\n",
      "('Sophie', 'Tony', 'Yunzi', 'Celine', 'Jason')\n",
      "('Sophie', 'Tony', 'Celine', 'Jason', 'Yunzi')\n",
      "('Sophie', 'Tony', 'Celine', 'Yunzi', 'Jason')\n",
      "('Sophie', 'Jason', 'Tony', 'Yunzi', 'Celine')\n",
      "('Sophie', 'Jason', 'Tony', 'Celine', 'Yunzi')\n",
      "('Sophie', 'Jason', 'Yunzi', 'Tony', 'Celine')\n",
      "('Sophie', 'Jason', 'Yunzi', 'Celine', 'Tony')\n",
      "('Sophie', 'Jason', 'Celine', 'Tony', 'Yunzi')\n",
      "('Sophie', 'Jason', 'Celine', 'Yunzi', 'Tony')\n",
      "('Sophie', 'Yunzi', 'Tony', 'Jason', 'Celine')\n",
      "('Sophie', 'Yunzi', 'Tony', 'Celine', 'Jason')\n",
      "('Sophie', 'Yunzi', 'Jason', 'Tony', 'Celine')\n",
      "('Sophie', 'Yunzi', 'Jason', 'Celine', 'Tony')\n",
      "('Sophie', 'Yunzi', 'Celine', 'Tony', 'Jason')\n",
      "('Sophie', 'Yunzi', 'Celine', 'Jason', 'Tony')\n",
      "('Sophie', 'Celine', 'Tony', 'Jason', 'Yunzi')\n",
      "('Sophie', 'Celine', 'Tony', 'Yunzi', 'Jason')\n",
      "('Sophie', 'Celine', 'Jason', 'Tony', 'Yunzi')\n",
      "('Sophie', 'Celine', 'Jason', 'Yunzi', 'Tony')\n",
      "('Sophie', 'Celine', 'Yunzi', 'Tony', 'Jason')\n",
      "('Sophie', 'Celine', 'Yunzi', 'Jason', 'Tony')\n",
      "('Tony', 'Sophie', 'Jason', 'Yunzi', 'Celine')\n",
      "('Tony', 'Sophie', 'Jason', 'Celine', 'Yunzi')\n",
      "('Tony', 'Sophie', 'Yunzi', 'Jason', 'Celine')\n",
      "('Tony', 'Sophie', 'Yunzi', 'Celine', 'Jason')\n",
      "('Tony', 'Sophie', 'Celine', 'Jason', 'Yunzi')\n",
      "('Tony', 'Sophie', 'Celine', 'Yunzi', 'Jason')\n",
      "('Tony', 'Jason', 'Sophie', 'Yunzi', 'Celine')\n",
      "('Tony', 'Jason', 'Sophie', 'Celine', 'Yunzi')\n",
      "('Tony', 'Jason', 'Yunzi', 'Sophie', 'Celine')\n",
      "('Tony', 'Jason', 'Yunzi', 'Celine', 'Sophie')\n",
      "('Tony', 'Jason', 'Celine', 'Sophie', 'Yunzi')\n",
      "('Tony', 'Jason', 'Celine', 'Yunzi', 'Sophie')\n",
      "('Tony', 'Yunzi', 'Sophie', 'Jason', 'Celine')\n",
      "('Tony', 'Yunzi', 'Sophie', 'Celine', 'Jason')\n",
      "('Tony', 'Yunzi', 'Jason', 'Sophie', 'Celine')\n",
      "('Tony', 'Yunzi', 'Jason', 'Celine', 'Sophie')\n",
      "('Tony', 'Yunzi', 'Celine', 'Sophie', 'Jason')\n",
      "('Tony', 'Yunzi', 'Celine', 'Jason', 'Sophie')\n",
      "('Tony', 'Celine', 'Sophie', 'Jason', 'Yunzi')\n",
      "('Tony', 'Celine', 'Sophie', 'Yunzi', 'Jason')\n",
      "('Tony', 'Celine', 'Jason', 'Sophie', 'Yunzi')\n",
      "('Tony', 'Celine', 'Jason', 'Yunzi', 'Sophie')\n",
      "('Tony', 'Celine', 'Yunzi', 'Sophie', 'Jason')\n",
      "('Tony', 'Celine', 'Yunzi', 'Jason', 'Sophie')\n",
      "('Jason', 'Sophie', 'Tony', 'Yunzi', 'Celine')\n",
      "('Jason', 'Sophie', 'Tony', 'Celine', 'Yunzi')\n",
      "('Jason', 'Sophie', 'Yunzi', 'Tony', 'Celine')\n",
      "('Jason', 'Sophie', 'Yunzi', 'Celine', 'Tony')\n",
      "('Jason', 'Sophie', 'Celine', 'Tony', 'Yunzi')\n",
      "('Jason', 'Sophie', 'Celine', 'Yunzi', 'Tony')\n",
      "('Jason', 'Tony', 'Sophie', 'Yunzi', 'Celine')\n",
      "('Jason', 'Tony', 'Sophie', 'Celine', 'Yunzi')\n",
      "('Jason', 'Tony', 'Yunzi', 'Sophie', 'Celine')\n",
      "('Jason', 'Tony', 'Yunzi', 'Celine', 'Sophie')\n",
      "('Jason', 'Tony', 'Celine', 'Sophie', 'Yunzi')\n",
      "('Jason', 'Tony', 'Celine', 'Yunzi', 'Sophie')\n",
      "('Jason', 'Yunzi', 'Sophie', 'Tony', 'Celine')\n",
      "('Jason', 'Yunzi', 'Sophie', 'Celine', 'Tony')\n",
      "('Jason', 'Yunzi', 'Tony', 'Sophie', 'Celine')\n",
      "('Jason', 'Yunzi', 'Tony', 'Celine', 'Sophie')\n",
      "('Jason', 'Yunzi', 'Celine', 'Sophie', 'Tony')\n",
      "('Jason', 'Yunzi', 'Celine', 'Tony', 'Sophie')\n",
      "('Jason', 'Celine', 'Sophie', 'Tony', 'Yunzi')\n",
      "('Jason', 'Celine', 'Sophie', 'Yunzi', 'Tony')\n",
      "('Jason', 'Celine', 'Tony', 'Sophie', 'Yunzi')\n",
      "('Jason', 'Celine', 'Tony', 'Yunzi', 'Sophie')\n",
      "('Jason', 'Celine', 'Yunzi', 'Sophie', 'Tony')\n",
      "('Jason', 'Celine', 'Yunzi', 'Tony', 'Sophie')\n",
      "('Yunzi', 'Sophie', 'Tony', 'Jason', 'Celine')\n",
      "('Yunzi', 'Sophie', 'Tony', 'Celine', 'Jason')\n",
      "('Yunzi', 'Sophie', 'Jason', 'Tony', 'Celine')\n",
      "('Yunzi', 'Sophie', 'Jason', 'Celine', 'Tony')\n",
      "('Yunzi', 'Sophie', 'Celine', 'Tony', 'Jason')\n",
      "('Yunzi', 'Sophie', 'Celine', 'Jason', 'Tony')\n",
      "('Yunzi', 'Tony', 'Sophie', 'Jason', 'Celine')\n",
      "('Yunzi', 'Tony', 'Sophie', 'Celine', 'Jason')\n",
      "('Yunzi', 'Tony', 'Jason', 'Sophie', 'Celine')\n",
      "('Yunzi', 'Tony', 'Jason', 'Celine', 'Sophie')\n",
      "('Yunzi', 'Tony', 'Celine', 'Sophie', 'Jason')\n",
      "('Yunzi', 'Tony', 'Celine', 'Jason', 'Sophie')\n",
      "('Yunzi', 'Jason', 'Sophie', 'Tony', 'Celine')\n",
      "('Yunzi', 'Jason', 'Sophie', 'Celine', 'Tony')\n",
      "('Yunzi', 'Jason', 'Tony', 'Sophie', 'Celine')\n",
      "('Yunzi', 'Jason', 'Tony', 'Celine', 'Sophie')\n",
      "('Yunzi', 'Jason', 'Celine', 'Sophie', 'Tony')\n",
      "('Yunzi', 'Jason', 'Celine', 'Tony', 'Sophie')\n",
      "('Yunzi', 'Celine', 'Sophie', 'Tony', 'Jason')\n",
      "('Yunzi', 'Celine', 'Sophie', 'Jason', 'Tony')\n",
      "('Yunzi', 'Celine', 'Tony', 'Sophie', 'Jason')\n",
      "('Yunzi', 'Celine', 'Tony', 'Jason', 'Sophie')\n",
      "('Yunzi', 'Celine', 'Jason', 'Sophie', 'Tony')\n",
      "('Yunzi', 'Celine', 'Jason', 'Tony', 'Sophie')\n",
      "('Celine', 'Sophie', 'Tony', 'Jason', 'Yunzi')\n",
      "('Celine', 'Sophie', 'Tony', 'Yunzi', 'Jason')\n",
      "('Celine', 'Sophie', 'Jason', 'Tony', 'Yunzi')\n",
      "('Celine', 'Sophie', 'Jason', 'Yunzi', 'Tony')\n",
      "('Celine', 'Sophie', 'Yunzi', 'Tony', 'Jason')\n",
      "('Celine', 'Sophie', 'Yunzi', 'Jason', 'Tony')\n",
      "('Celine', 'Tony', 'Sophie', 'Jason', 'Yunzi')\n",
      "('Celine', 'Tony', 'Sophie', 'Yunzi', 'Jason')\n",
      "('Celine', 'Tony', 'Jason', 'Sophie', 'Yunzi')\n",
      "('Celine', 'Tony', 'Jason', 'Yunzi', 'Sophie')\n",
      "('Celine', 'Tony', 'Yunzi', 'Sophie', 'Jason')\n",
      "('Celine', 'Tony', 'Yunzi', 'Jason', 'Sophie')\n",
      "('Celine', 'Jason', 'Sophie', 'Tony', 'Yunzi')\n",
      "('Celine', 'Jason', 'Sophie', 'Yunzi', 'Tony')\n",
      "('Celine', 'Jason', 'Tony', 'Sophie', 'Yunzi')\n",
      "('Celine', 'Jason', 'Tony', 'Yunzi', 'Sophie')\n",
      "('Celine', 'Jason', 'Yunzi', 'Sophie', 'Tony')\n",
      "('Celine', 'Jason', 'Yunzi', 'Tony', 'Sophie')\n",
      "('Celine', 'Yunzi', 'Sophie', 'Tony', 'Jason')\n",
      "('Celine', 'Yunzi', 'Sophie', 'Jason', 'Tony')\n",
      "('Celine', 'Yunzi', 'Tony', 'Sophie', 'Jason')\n",
      "('Celine', 'Yunzi', 'Tony', 'Jason', 'Sophie')\n",
      "('Celine', 'Yunzi', 'Jason', 'Sophie', 'Tony')\n",
      "('Celine', 'Yunzi', 'Jason', 'Tony', 'Sophie')\n",
      "There are 120 combinations.\n"
     ]
    }
   ],
   "source": [
    "classmates = [\"Sophie\", \"Tony\", \"Jason\", \"Yunzi\", \"Celine\"]\n",
    "queues = []\n",
    "n_classmates = len(classmates)\n",
    "queue = []\n",
    "index = 0\n",
    "i, j, k, m, n = 0, 0, 0, 0, 0\n",
    "while i < n_classmates:\n",
    "    j = 0\n",
    "    while j < n_classmates:\n",
    "        if j != i:\n",
    "            k = 0\n",
    "            while k < n_classmates:\n",
    "                if k != j and k != i:\n",
    "                    m = 0\n",
    "                    while m < n_classmates:\n",
    "                        if m != k and m != j and m != i:\n",
    "                            n = 0\n",
    "                            while n < n_classmates:\n",
    "                                if n != m and n != k and n != j and n != i:\n",
    "                                    first = classmates[i]\n",
    "                                    second = classmates[j]\n",
    "                                    third = classmates[k]\n",
    "                                    forth = classmates[m]\n",
    "                                    fifth = classmates[n]\n",
    "                                    queue = (first, second, third, forth, fifth)\n",
    "                                    queues.append(queue)\n",
    "                                    index += 1\n",
    "                                n += 1\n",
    "                        m += 1\n",
    "                k += 1\n",
    "        j += 1\n",
    "    i += 1\n",
    "    \n",
    "for queue in queues:\n",
    "    print(queue)\n",
    "    \n",
    "print(\"There are {} combinations.\".format(index))"
   ]
  },
  {
   "cell_type": "code",
   "execution_count": 62,
   "id": "thermal-honor",
   "metadata": {},
   "outputs": [
    {
     "name": "stdout",
     "output_type": "stream",
     "text": [
      "SophieTonyJasonYunziCeline, SophieTonyJasonCelineYunzi, SophieTonyYunziJasonCeline, SophieTonyYunziCelineJason, SophieTonyCelineJasonYunzi, SophieTonyCelineYunziJason, SophieJasonTonyYunziCeline, SophieJasonTonyCelineYunzi, SophieJasonYunziTonyCeline, SophieJasonYunziCelineTony, SophieJasonCelineTonyYunzi, SophieJasonCelineYunziTony, SophieYunziTonyJasonCeline, SophieYunziTonyCelineJason, SophieYunziJasonTonyCeline, SophieYunziJasonCelineTony, SophieYunziCelineTonyJason, SophieYunziCelineJasonTony, SophieCelineTonyJasonYunzi, SophieCelineTonyYunziJason, SophieCelineJasonTonyYunzi, SophieCelineJasonYunziTony, SophieCelineYunziTonyJason, SophieCelineYunziJasonTony, TonySophieJasonYunziCeline, TonySophieJasonCelineYunzi, TonySophieYunziJasonCeline, TonySophieYunziCelineJason, TonySophieCelineJasonYunzi, TonySophieCelineYunziJason, TonyJasonSophieYunziCeline, TonyJasonSophieCelineYunzi, TonyJasonYunziSophieCeline, TonyJasonYunziCelineSophie, TonyJasonCelineSophieYunzi, TonyJasonCelineYunziSophie, TonyYunziSophieJasonCeline, TonyYunziSophieCelineJason, TonyYunziJasonSophieCeline, TonyYunziJasonCelineSophie, TonyYunziCelineSophieJason, TonyYunziCelineJasonSophie, TonyCelineSophieJasonYunzi, TonyCelineSophieYunziJason, TonyCelineJasonSophieYunzi, TonyCelineJasonYunziSophie, TonyCelineYunziSophieJason, TonyCelineYunziJasonSophie, JasonSophieTonyYunziCeline, JasonSophieTonyCelineYunzi, JasonSophieYunziTonyCeline, JasonSophieYunziCelineTony, JasonSophieCelineTonyYunzi, JasonSophieCelineYunziTony, JasonTonySophieYunziCeline, JasonTonySophieCelineYunzi, JasonTonyYunziSophieCeline, JasonTonyYunziCelineSophie, JasonTonyCelineSophieYunzi, JasonTonyCelineYunziSophie, JasonYunziSophieTonyCeline, JasonYunziSophieCelineTony, JasonYunziTonySophieCeline, JasonYunziTonyCelineSophie, JasonYunziCelineSophieTony, JasonYunziCelineTonySophie, JasonCelineSophieTonyYunzi, JasonCelineSophieYunziTony, JasonCelineTonySophieYunzi, JasonCelineTonyYunziSophie, JasonCelineYunziSophieTony, JasonCelineYunziTonySophie, YunziSophieTonyJasonCeline, YunziSophieTonyCelineJason, YunziSophieJasonTonyCeline, YunziSophieJasonCelineTony, YunziSophieCelineTonyJason, YunziSophieCelineJasonTony, YunziTonySophieJasonCeline, YunziTonySophieCelineJason, YunziTonyJasonSophieCeline, YunziTonyJasonCelineSophie, YunziTonyCelineSophieJason, YunziTonyCelineJasonSophie, YunziJasonSophieTonyCeline, YunziJasonSophieCelineTony, YunziJasonTonySophieCeline, YunziJasonTonyCelineSophie, YunziJasonCelineSophieTony, YunziJasonCelineTonySophie, YunziCelineSophieTonyJason, YunziCelineSophieJasonTony, YunziCelineTonySophieJason, YunziCelineTonyJasonSophie, YunziCelineJasonSophieTony, YunziCelineJasonTonySophie, CelineSophieTonyJasonYunzi, CelineSophieTonyYunziJason, CelineSophieJasonTonyYunzi, CelineSophieJasonYunziTony, CelineSophieYunziTonyJason, CelineSophieYunziJasonTony, CelineTonySophieJasonYunzi, CelineTonySophieYunziJason, CelineTonyJasonSophieYunzi, CelineTonyJasonYunziSophie, CelineTonyYunziSophieJason, CelineTonyYunziJasonSophie, CelineJasonSophieTonyYunzi, CelineJasonSophieYunziTony, CelineJasonTonySophieYunzi, CelineJasonTonyYunziSophie, CelineJasonYunziSophieTony, CelineJasonYunziTonySophie, CelineYunziSophieTonyJason, CelineYunziSophieJasonTony, CelineYunziTonySophieJason, CelineYunziTonyJasonSophie, CelineYunziJasonSophieTony, CelineYunziJasonTonySophie, 120 numbers\n"
     ]
    }
   ],
   "source": [
    "from itertools import permutations\n",
    "def tuple_to_number(tpl_n):\n",
    "    str_n = \"\"\n",
    "    for n in tpl_n:\n",
    "        str_n += str(n)\n",
    "    return str(str_n)\n",
    "classmates = [\"Sophie\", \"Tony\", \"Jason\", \"Yunzi\", \"Celine\"]\n",
    "queues = []\n",
    "for classmate in classmates:\n",
    "    classmates_to_build = [\"Sophie\", \"Tony\", \"Jason\", \"Yunzi\", \"Celine\"]\n",
    "\n",
    "    candidates = list(permutations(classmates_to_build))\n",
    "    for tpl_num in candidates:\n",
    "        candidate = tuple_to_number(tpl_num)\n",
    "        if candidate not in queues:\n",
    "            queues.append(candidate)\n",
    "\n",
    "for number in queues:\n",
    "    print(number, end=\", \")\n",
    "print(\"{} numbers\".format(len(queues)))"
   ]
  },
  {
   "cell_type": "markdown",
   "id": "reduced-gallery",
   "metadata": {},
   "source": [
    "2. Jason, Sophie, Tony, Yunzi四个小朋友分别来自4个不同的家庭。新学期快要开始了，这几个小朋友准备通过一对一视频连线（一次视频只有2个小朋友参与）的方式相互交流整个暑假的生活。如果让每一个小朋友都有机会了解另一位小朋友的暑假情况，请问一共需要多少次视频连线？ 请编程求解。<br>\n",
    "   Jason, Sophie, Tony and Yunzi come from 4 different families. The new semester is about to begin, and these children are going to communicate with each other through one-to-one video meeting (only 2 children at a time). talking about their activities in the summer holidays. How many one-to-one video meetings are required for all the children to know each other's life in the summer holidays?<br>"
   ]
  },
  {
   "cell_type": "code",
   "execution_count": 1,
   "id": "moderate-taylor",
   "metadata": {},
   "outputs": [
    {
     "name": "stdout",
     "output_type": "stream",
     "text": [
      "[('Sophie', 'Tony'), ('Sophie', 'Jason'), ('Sophie', 'Yunzi'), ('Tony', 'Jason'), ('Tony', 'Yunzi'), ('Jason', 'Yunzi')]\n",
      "There are 6 video meetings.\n"
     ]
    }
   ],
   "source": [
    "classmates = [\"Sophie\", \"Tony\", \"Jason\", \"Yunzi\"]\n",
    "queues = []\n",
    "n_classmates = len(classmates)\n",
    "queue = []\n",
    "index = 0\n",
    "while index < n_classmates:\n",
    "    first = classmates[0]\n",
    "    classmates.remove(first)\n",
    "    for second in classmates:\n",
    "        queue = (first, second)\n",
    "        queues.append(queue)\n",
    "    index += 1        \n",
    "print(queues)\n",
    "length = len(queues)\n",
    "print(\"There are {} video meetings.\".format(length))"
   ]
  },
  {
   "cell_type": "markdown",
   "id": "pleasant-novel",
   "metadata": {},
   "source": [
    "3. 用数字\"1,2,3,4\"这4个数字来组成一个**5**位数，其中要求数字1在生成的5位数中出现2次，而其他数字仅出现1次。编程列举出所有符合条件的5位数。<br>\n",
    "\n",
    "   Comose a 5-digit positive integer using the digits: 1,2,3, and 4. Digit 1 should be used twice and other digits should only exist one time. How many 5-digit positive number can be composed?<br>"
   ]
  },
  {
   "cell_type": "code",
   "execution_count": 23,
   "id": "presidential-saver",
   "metadata": {},
   "outputs": [
    {
     "name": "stdout",
     "output_type": "stream",
     "text": [
      "11234, 11243, 11324, 11342, 11423, 11432, 12134, 12143, 12314, 12341, 12413, 12431, 13124, 13142, 13214, 13241, 13412, 13421, 14123, 14132, 14213, 14231, 14312, 14321, 21134, 21143, 21314, 21341, 21413, 21431, 23114, 23141, 23411, 24113, 24131, 24311, 31124, 31142, 31214, 31241, 31412, 31421, 32114, 32141, 32411, 34112, 34121, 34211, 41123, 41132, 41213, 41231, 41312, 41321, 42113, 42131, 42311, 43112, 43121, 43211, 60 numbers\n"
     ]
    }
   ],
   "source": [
    "# from itertools import permutations\n",
    "def tuple_to_number(tpl_n):\n",
    "    str_n = \"\"\n",
    "    for n in tpl_n:\n",
    "        str_n += str(n)\n",
    "    return int(str_n)\n",
    "digits = [1, 1, 2, 3, 4]\n",
    "numbers_5_digits = []\n",
    "for digit in digits:\n",
    "    digits_to_build_number = [1, 1, 2, 3, 4]\n",
    "\n",
    "    candidates = list(permutations(digits_to_build_number))\n",
    "    for tpl_num in candidates:\n",
    "        candidate = tuple_to_number(tpl_num)\n",
    "        if candidate not in numbers_5_digits:\n",
    "            numbers_5_digits.append(candidate)\n",
    "\n",
    "for number in numbers_5_digits:\n",
    "    print(number, end=\", \")\n",
    "print(\"{} numbers\".format(len(numbers_5_digits)))"
   ]
  },
  {
   "cell_type": "markdown",
   "id": "balanced-strengthening",
   "metadata": {},
   "source": [
    "4. [**难，选做**]用数字\"1,2,3,4\"这4个数字来组成一个5位数，其中每一个数至少用到1次，一共可以组成多少个5位数，其中最小的和最大的数分别是什么数？<br>\n",
    "\n",
    "   [**hard, optional**]Comose a 5-digit positive integer using the digits 1,2,3, and 4. Each digit should at least be used once. How many 5-digit positive number can be composed? what is the minimal and maximal integer?<br>\n",
    "   \n",
    "   **提示1 Hint1**: `123 = 1*100 + 2*10 + 3*1`  <br>\n",
    "   \n",
    "   **提示2**: 可以使用一个`list`类型的变量，把所有找到的5位数都存放在这个变量中，这个列表型变量的长度就是所有5位数的个数，列表中最大和最小的元素就分别是能形成的最大的和最小的5位数<br>\n",
    "   \n",
    "   **Hint2**： You can use a `list` variable, put all the integers to it, then the length of this variable is the number of all integers. and minimal and maximal elements are the minimal and maximal value of all composed 5-digit integers.<br>\n",
    "   \n",
    "   **Hint3**: Use `permutations` will be much easier. 使用`permutations`方法会比较容易。"
   ]
  },
  {
   "cell_type": "code",
   "execution_count": 16,
   "id": "invalid-voice",
   "metadata": {},
   "outputs": [
    {
     "name": "stdout",
     "output_type": "stream",
     "text": [
      "12341, 12314, 12431, 12413, 12134, 12143, 13241, 13214, 13421, 13412, 13124, 13142, 14231, 14213, 14321, 14312, 14123, 14132, 11234, 11243, 11324, 11342, 11423, 11432, 21341, 21314, 21431, 21413, 21134, 21143, 23141, 23114, 23411, 24131, 24113, 24311, 31241, 31214, 31421, 31412, 31124, 31142, 32141, 32114, 32411, 34121, 34112, 34211, 41231, 41213, 41321, 41312, 41123, 41132, 42131, 42113, 42311, 43121, 43112, 43211, 12342, 12324, 12432, 12423, 12234, 12243, 13242, 13224, 13422, 14232, 14223, 14322, 21342, 21324, 21432, 21423, 21234, 21243, 23142, 23124, 23412, 23421, 23214, 23241, 24132, 24123, 24312, 24321, 24213, 24231, 22134, 22143, 22314, 22341, 22413, 22431, 31242, 31224, 31422, 32142, 32124, 32412, 32421, 32214, 32241, 34122, 34212, 34221, 41232, 41223, 41322, 42132, 42123, 42312, 42321, 42213, 42231, 43122, 43212, 43221, 12343, 12334, 12433, 13243, 13234, 13423, 13432, 13324, 13342, 14233, 14323, 14332, 21343, 21334, 21433, 23143, 23134, 23413, 23431, 23314, 23341, 24133, 24313, 24331, 31243, 31234, 31423, 31432, 31324, 31342, 32143, 32134, 32413, 32431, 32314, 32341, 34123, 34132, 34213, 34231, 34312, 34321, 33124, 33142, 33214, 33241, 33412, 33421, 41233, 41323, 41332, 42133, 42313, 42331, 43123, 43132, 43213, 43231, 43312, 43321, 12344, 12434, 12443, 13244, 13424, 13442, 14234, 14243, 14324, 14342, 14423, 14432, 21344, 21434, 21443, 23144, 23414, 23441, 24134, 24143, 24314, 24341, 24413, 24431, 31244, 31424, 31442, 32144, 32414, 32441, 34124, 34142, 34214, 34241, 34412, 34421, 41234, 41243, 41324, 41342, 41423, 41432, 42134, 42143, 42314, 42341, 42413, 42431, 43124, 43142, 43214, 43241, 43412, 43421, 44123, 44132, 44213, 44231, 44312, 44321, 240 numbers\n"
     ]
    }
   ],
   "source": [
    "from itertools import permutations\n",
    "def tuple_to_number(tpl_n):\n",
    "    str_n = \"\"\n",
    "    for n in tpl_n:\n",
    "        str_n += str(n)\n",
    "    return int(str_n)\n",
    "digits = [1, 2, 3, 4]\n",
    "numbers_5_digits = []\n",
    "for digit in digits:\n",
    "    digits_to_build_number = [1, 2, 3, 4]\n",
    "    digits_to_build_number.append(digit)\n",
    "\n",
    "    candidates = list(permutations(digits_to_build_number))\n",
    "    for tpl_num in candidates:\n",
    "        candidate = tuple_to_number(tpl_num)\n",
    "        if candidate not in numbers_5_digits:\n",
    "            numbers_5_digits.append(candidate)\n",
    "\n",
    "for number in numbers_5_digits:\n",
    "    print(number, end=\", \")\n",
    "print(\"{} numbers\".format(len(numbers_5_digits)))"
   ]
  },
  {
   "cell_type": "code",
   "execution_count": null,
   "id": "7bca8297-bd82-4b12-bb70-f24d47d3991e",
   "metadata": {},
   "outputs": [],
   "source": []
  },
  {
   "cell_type": "markdown",
   "id": "1fb7f5b6-2060-4c2e-8bca-fcf312b2ab20",
   "metadata": {},
   "source": [
    "<div style=\"color:red; font-size:50px\">A+</div>"
   ]
  },
  {
   "cell_type": "code",
   "execution_count": null,
   "id": "275e9a0f-9b3e-48a1-b053-807971a44388",
   "metadata": {},
   "outputs": [],
   "source": []
  }
 ],
 "metadata": {
  "kernelspec": {
   "display_name": "Python 3",
   "language": "python",
   "name": "python3"
  },
  "language_info": {
   "codemirror_mode": {
    "name": "ipython",
    "version": 3
   },
   "file_extension": ".py",
   "mimetype": "text/x-python",
   "name": "python",
   "nbconvert_exporter": "python",
   "pygments_lexer": "ipython3",
   "version": "3.8.10"
  }
 },
 "nbformat": 4,
 "nbformat_minor": 5
}
