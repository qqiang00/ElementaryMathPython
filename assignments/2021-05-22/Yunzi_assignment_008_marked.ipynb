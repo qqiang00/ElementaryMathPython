{
 "cells": [
  {
   "cell_type": "markdown",
   "id": "included-education",
   "metadata": {},
   "source": [
    "# Lecture 7：找规律猜数字"
   ]
  },
  {
   "cell_type": "markdown",
   "id": "adjacent-chapel",
   "metadata": {},
   "source": [
    "- **Name (姓名)**: [Write Your Name Here]\n",
    "- **Date (日期)**: [Write the Date on which you completed this assignment]\n",
    "\n",
    "\n",
    "- **Score (成绩)**:A-\n",
    "- **Comment By Teacher (评语)**: Good use of `sleep(1)`； A solution for Fibonacci sequence was provided."
   ]
  },
  {
   "cell_type": "markdown",
   "id": "periodic-register",
   "metadata": {},
   "source": [
    "# Problem\n",
    "1. 下面一共有7行按照一定规律排列的数字，其中每一行中的第5个（索引为4）的数字被空白横线代替了。观察每一排的数字从左到右变化的规律，并在横线处填上符合你找到的规律的数字。\n",
    "\n",
    "   - 1, 2, 3, 4, __, 6, 7, 8, 9, 10, ...\n",
    "   \n",
    "   - Sophie: 1, 4, 9, 16, 25, 36, 49, 64, 81, 100, ...  cur_num = i * i \n",
    "   \n",
    "   - Tony: 1, 2, 4, 8, 16, 32, 64, 128, 256, 512, ...   cur_num = cur_num * 2\n",
    "   \n",
    "   - Yunzi: 1, 2, 4, 7, 11, 16, 22, 29, 37, 46, ...     cur_num += i-1\n",
    "   \n",
    "   - Jason: 1, 2, 3, 5, 8, 13, 21, 34, 55, 89, ... you need two variables: cur_num, num_before_cur \n",
    "   \n",
    "   - 1, 8, 27, 64, __, 216, 343, 512, 729, 1000, ...\n",
    "   \n",
    "   - 1, 7, 19, 37, __, 91, 127, 169, 217, 271, ... \n",
    "   \n",
    "  \n",
    "2. 挑选某一行数字排列，通过编写程序，让程序运行完全输出这一行的数字排列（包括表示空白的横线）\n",
    "3. 自己设计一个规律，并按照这个规律编写程序得到并输出这一排数字，其中将第5个（索引为4的）数字用横线隐去，将程序输出的信息作为题目发送给你身边的朋友，让他们找出其中的规律并填写空白处的数字后交给你你来评判结果对不对。\n",
    "\n"
   ]
  },
  {
   "cell_type": "code",
   "execution_count": null,
   "id": "adopted-pledge",
   "metadata": {},
   "outputs": [],
   "source": [
    "1, 2, 3, 5, "
   ]
  },
  {
   "cell_type": "code",
   "execution_count": 23,
   "id": "206350b1",
   "metadata": {},
   "outputs": [
    {
     "name": "stdout",
     "output_type": "stream",
     "text": [
      "Sophie             Jason\n"
     ]
    }
   ],
   "source": [
    "print(\"Sophie\", end=\"             \")\n",
    "print(\"Jason\")"
   ]
  },
  {
   "cell_type": "code",
   "execution_count": 26,
   "id": "83bc0696",
   "metadata": {},
   "outputs": [
    {
     "name": "stdout",
     "output_type": "stream",
     "text": [
      "可可托海的牧羊人_______小小蜡笔\n"
     ]
    }
   ],
   "source": [
    "print(\"可可托海的牧羊人\",end=\"_______\")\n",
    "print(\"小小蜡笔\")"
   ]
  },
  {
   "cell_type": "markdown",
   "id": "latest-contamination",
   "metadata": {},
   "source": [
    "## Objective 学习目标\n",
    "\n",
    "- 作业回顾\n",
    "- 熟练使用`while`引导的循环语句，学习`while`和`if`的嵌套使用\n",
    "- 继续练习使用变量自增、自减代码的完整和简便写法（例如：`a = a + 1` 和 `a += 1`)\n",
    "- 学习在`print`方法中不换行多次接续输出一排内容: `print(\"string\", end=\" \")`\n",
    "- 继续尝试发现程序代码中的bug"
   ]
  },
  {
   "cell_type": "markdown",
   "id": "animated-batch",
   "metadata": {},
   "source": [
    "## Math\n",
    "\n",
    "- 数列的概念（一串有限或无限个数的数字的有序排列），通项公式。"
   ]
  },
  {
   "cell_type": "markdown",
   "id": "sorted-furniture",
   "metadata": {},
   "source": [
    "## Python"
   ]
  },
  {
   "cell_type": "markdown",
   "id": "sharp-target",
   "metadata": {},
   "source": [
    "### 订正作业"
   ]
  },
  {
   "cell_type": "code",
   "execution_count": 1,
   "id": "other-cookbook",
   "metadata": {},
   "outputs": [
    {
     "data": {
      "text/plain": [
       "10"
      ]
     },
     "execution_count": 1,
     "metadata": {},
     "output_type": "execute_result"
    }
   ],
   "source": [
    "1 + 2 + 3 + 4"
   ]
  },
  {
   "cell_type": "code",
   "execution_count": 2,
   "id": "dated-member",
   "metadata": {},
   "outputs": [],
   "source": [
    "#   (1 + 2 + 3 + 4) + (1 + 2 + 3 + 4) \n",
    "# = (1 + 2 + 3 + 4) + (4 + 3 + 2 + 1)     \n",
    "# = 1 + 2 + 3 + 4 + 4 + 3 + 2 + 1\n",
    "# = 1 + 4 + 2 + 3 + 3 + 2 + 4 + 1\n",
    "# = (1+4) + (2+3) + (3+2) + (4+1)\n",
    "# = 5 + 5 + 5 + 5\n",
    "# = 5 × 4\n",
    "# = 20\n",
    "\n",
    "# 1 + 2 + 3 + 4 = 20 / 2 = 10\n",
    "# 1 + 2 + 3 + ... + n = (1 + n) * n / 2"
   ]
  },
  {
   "cell_type": "code",
   "execution_count": 3,
   "id": "acting-folks",
   "metadata": {},
   "outputs": [
    {
     "name": "stdout",
     "output_type": "stream",
     "text": [
      "2550\n"
     ]
    }
   ],
   "source": [
    "# calculate sum of 1 to 100, sum of all odd(even) numbers between 1 and 100\n",
    "\n",
    "# Student 1\n",
    "#Even\n",
    "sum = 0\n",
    "num = 2\n",
    "while num <= 100:\n",
    "    sum = sum + num\n",
    "    num = num + 2\n",
    "    \n",
    "print(sum)"
   ]
  },
  {
   "cell_type": "code",
   "execution_count": 4,
   "id": "centered-wrapping",
   "metadata": {},
   "outputs": [
    {
     "name": "stdout",
     "output_type": "stream",
     "text": [
      "2550\n"
     ]
    }
   ],
   "source": [
    "# student 2\n",
    "max_num = 100\n",
    "cur_num = 0\n",
    "sum_ = 0\n",
    "while cur_num <= max_num:\n",
    "    sum_ += cur_num\n",
    "    cur_num += 2\n",
    "\n",
    "print(sum_)"
   ]
  },
  {
   "cell_type": "code",
   "execution_count": 6,
   "id": "filled-timber",
   "metadata": {},
   "outputs": [
    {
     "name": "stdout",
     "output_type": "stream",
     "text": [
      "2500\n"
     ]
    }
   ],
   "source": [
    "# student 3\n",
    "num1 = 100\n",
    "num2 = 1\n",
    "total_num = 0\n",
    "\n",
    "while num1 >= num2:\n",
    "    total_num += num2\n",
    "    num2 += 2\n",
    "    \n",
    "print(total_num)"
   ]
  },
  {
   "cell_type": "code",
   "execution_count": 9,
   "id": "medium-pioneer",
   "metadata": {},
   "outputs": [
    {
     "name": "stdout",
     "output_type": "stream",
     "text": [
      "奇数总和是： 2500\n"
     ]
    }
   ],
   "source": [
    "# student 4\n",
    "# sum_odd\n",
    "# num_initial = 1\n",
    "# num_n = num_initial\n",
    "sum_n, num_n = 0, 1\n",
    "while num_n <= 99 :           # 为什么这里是97？有凑数字嫌疑，考虑把它设为<=100\n",
    "    sum_n += num_n\n",
    "    num_n += 2\n",
    "    \n",
    "print(\"奇数总和是：\", sum_n)"
   ]
  },
  {
   "cell_type": "markdown",
   "id": "placed-tragedy",
   "metadata": {},
   "source": [
    "### New"
   ]
  },
  {
   "cell_type": "code",
   "execution_count": null,
   "id": "derived-earthquake",
   "metadata": {},
   "outputs": [],
   "source": [
    "print(\"\", end=\" \")\n",
    "print(\"\")"
   ]
  },
  {
   "cell_type": "code",
   "execution_count": 4,
   "id": "spatial-marshall",
   "metadata": {},
   "outputs": [
    {
     "name": "stdout",
     "output_type": "stream",
     "text": [
      "1, 2, 3, 4, __, 5, 6, 7, 8, 9, 10, ...\n"
     ]
    }
   ],
   "source": [
    "# output: 1, 2, 3, 4, __, 6, 7, 8, 9, 10, ...\n",
    "from time import sleep\n",
    "cur_num = 1\n",
    "while cur_num <= 10:\n",
    "    if cur_num == 5:\n",
    "        print(\"__\", end=\", \")\n",
    "        cur_num += 1\n",
    "        \n",
    "    print(cur_num, end=\", \")\n",
    "    cur_num += 1\n",
    "    sleep(2)\n",
    "    \n",
    "print(\"...\")"
   ]
  },
  {
   "cell_type": "code",
   "execution_count": 42,
   "id": "absent-walnut",
   "metadata": {},
   "outputs": [
    {
     "name": "stdout",
     "output_type": "stream",
     "text": [
      "1, 2, 3, 4, __, 6, 7, 8, 9, 10, ...\n"
     ]
    }
   ],
   "source": [
    "# output: 1, 2, 3, 4, __, 6, 7, 8, 9, 10, ...\n",
    "from time import sleep\n",
    "cur_num = 1\n",
    "i = 1\n",
    "while i <= 10:\n",
    "    if i == 5:\n",
    "        print(\"__\", end=\", \")\n",
    "    else:\n",
    "        cur_num = i\n",
    "        print(cur_num, end=\", \")\n",
    "        \n",
    "    sleep(2)\n",
    "    i += 1\n",
    "    \n",
    "print(\"...\")"
   ]
  },
  {
   "cell_type": "markdown",
   "id": "bizarre-assurance",
   "metadata": {},
   "source": [
    "## Did you know?\n",
    "当下主流的计算机编程语言都将数值0作为有序排列一组数据中第一个数的索引。"
   ]
  },
  {
   "cell_type": "markdown",
   "id": "digital-consensus",
   "metadata": {},
   "source": [
    "## Exercise"
   ]
  },
  {
   "cell_type": "markdown",
   "id": "obvious-exercise",
   "metadata": {},
   "source": [
    "完成剩余6个数列的编程输出"
   ]
  },
  {
   "cell_type": "code",
   "execution_count": 8,
   "id": "incident-captain",
   "metadata": {},
   "outputs": [],
   "source": [
    "# 1, 4, 9, 16, __, 36, 49, 64, 81, 100, ..."
   ]
  },
  {
   "cell_type": "code",
   "execution_count": 1,
   "id": "raised-stage",
   "metadata": {},
   "outputs": [
    {
     "name": "stdout",
     "output_type": "stream",
     "text": [
      "1, 2, 4, 8, __, 32, 64, 128, 256, 512, ...\n"
     ]
    }
   ],
   "source": [
    "# 1, 2, 4, 8, __, 32, 64, 128, 256, 512, ...\n",
    "from time import sleep\n",
    "cur_num = 1\n",
    "while cur_num <= 512:\n",
    "    if cur_num == 16:\n",
    "        print(\"__\", end=\", \")\n",
    "        cur_num *= 2\n",
    "        \n",
    "    print(cur_num, end=\", \")\n",
    "    cur_num *= 2\n",
    "    sleep(1)\n",
    "    \n",
    "print(\"...\")"
   ]
  },
  {
   "cell_type": "code",
   "execution_count": 2,
   "id": "particular-literacy",
   "metadata": {},
   "outputs": [
    {
     "name": "stdout",
     "output_type": "stream",
     "text": [
      "1, 2, 4, 7, __, 16, 22, 29, 37, 46, ...\n"
     ]
    }
   ],
   "source": [
    "# 1, 2, 4, 7, __, 16, 22, 29, 37, 46, \n",
    "cur_num = 1\n",
    "i = 1\n",
    "while i <= 10:\n",
    "    if i == 5:\n",
    "        cur_num += i - 1 \n",
    "        print(\"__\", end=\", \")\n",
    "    else:\n",
    "        cur_num += i - 1 \n",
    "        print(cur_num, end = \", \")\n",
    "        \n",
    "    i += 1\n",
    "    sleep(1)\n",
    "    \n",
    "print(\"...\")\n"
   ]
  },
  {
   "cell_type": "code",
   "execution_count": 4,
   "id": "enclosed-target",
   "metadata": {},
   "outputs": [
    {
     "name": "stdout",
     "output_type": "stream",
     "text": [
      "1, 1, 2, 3, __, 8, 13, 21, 34, 55, ...\n"
     ]
    }
   ],
   "source": [
    "##此题不会做\n",
    "## Here is a solution from Qiang\n",
    "\n",
    "# 1, 1, 2, 3, __, 8, 13, 21, 34, 55, ...\n",
    "first_num, second_num = 1, 1\n",
    "i = 1\n",
    "while i <= 10:\n",
    "    if i < 3:\n",
    "        cur_num = 1\n",
    "    else:\n",
    "        cur_num = first_num + second_num\n",
    "    \n",
    "    if i == 5:\n",
    "        print(\"__\", end = \", \")\n",
    "    else:\n",
    "        print(cur_num, end = \", \") \n",
    "    \n",
    "    first_num = second_num\n",
    "    second_num = cur_num\n",
    "    i += 1\n",
    "\n",
    "print(\"...\")    "
   ]
  },
  {
   "cell_type": "code",
   "execution_count": 5,
   "id": "neither-sperm",
   "metadata": {},
   "outputs": [
    {
     "name": "stdout",
     "output_type": "stream",
     "text": [
      "1, 8, 27, 64, __, 216, 343, 512, 729, 1000, ...\n"
     ]
    }
   ],
   "source": [
    "# 1, 8, 27, 64, __, 216, 343, 512, 729, 1000, ...\n",
    "cur_num = 1\n",
    "i = 1\n",
    "while i <= 10:\n",
    "    if i == 5:\n",
    "        cur_num = i * i * i\n",
    "        print(\"__\", end=\", \")\n",
    "    else:\n",
    "        cur_num = i * i * i\n",
    "        print(cur_num, end = \", \")\n",
    "        \n",
    "    i += 1\n",
    "    sleep(1)\n",
    "    \n",
    "print(\"...\")"
   ]
  },
  {
   "cell_type": "code",
   "execution_count": 6,
   "id": "frequent-florida",
   "metadata": {},
   "outputs": [
    {
     "name": "stdout",
     "output_type": "stream",
     "text": [
      "1, 7, 19, 37, __, 91, 127, 169, 217, 271, ...\n"
     ]
    }
   ],
   "source": [
    "# 1, 7, 19, 37, __, \n",
    "cur_num = 1\n",
    "a = 1\n",
    "b = 0\n",
    "while a <= 10:\n",
    "    if a == 5:\n",
    "        cur_num = a * b + 1\n",
    "        print(\"__\", end=\", \")\n",
    "    else:\n",
    "        cur_num = a * b + 1\n",
    "        print(cur_num, end = \", \")\n",
    "        \n",
    "    a += 1\n",
    "    b += 3\n",
    "    sleep(1)\n",
    "    \n",
    "print(\"...\")"
   ]
  },
  {
   "cell_type": "code",
   "execution_count": null,
   "id": "5659c17a",
   "metadata": {},
   "outputs": [],
   "source": []
  }
 ],
 "metadata": {
  "kernelspec": {
   "display_name": "Python 3",
   "language": "python",
   "name": "python3"
  },
  "language_info": {
   "codemirror_mode": {
    "name": "ipython",
    "version": 3
   },
   "file_extension": ".py",
   "mimetype": "text/x-python",
   "name": "python",
   "nbconvert_exporter": "python",
   "pygments_lexer": "ipython3",
   "version": "3.9.0"
  }
 },
 "nbformat": 4,
 "nbformat_minor": 5
}
