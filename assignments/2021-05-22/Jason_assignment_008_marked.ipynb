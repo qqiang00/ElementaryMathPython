{
 "cells": [
  {
   "cell_type": "markdown",
   "id": "included-education",
   "metadata": {
    "id": "included-education"
   },
   "source": [
    "# Lecture 7：找规律猜数字"
   ]
  },
  {
   "cell_type": "markdown",
   "id": "adjacent-chapel",
   "metadata": {
    "id": "adjacent-chapel"
   },
   "source": [
    "- **Name (姓名)**: [Write Your Name Here]\n",
    "- **Date (日期)**: [Write the Date on which you completed this assignment]\n",
    "\n",
    "\n",
    "- **Score (成绩)**: A+\n",
    "- **Comment By Teacher (评语)**: Please go to some comments in codes."
   ]
  },
  {
   "cell_type": "markdown",
   "id": "periodic-register",
   "metadata": {
    "id": "periodic-register"
   },
   "source": [
    "# Problem\n",
    "1. 下面一共有7行按照一定规律排列的数字，其中每一行中的第5个（索引为4）的数字被空白横线代替了。观察每一排的数字从左到右变化的规律，并在横线处填上符合你找到的规律的数字。\n",
    "\n",
    "   - 1, 2, 3, 4, __, 6, 7, 8, 9, 10, ...\n",
    "   \n",
    "   - Sophie: 1, 4, 9, 16, 25, 36, 49, 64, 81, 100, ...  cur_num = i * i \n",
    "   \n",
    "   - Tony: 1, 2, 4, 8, 16, 32, 64, 128, 256, 512, ...   cur_num = cur_num * 2\n",
    "   \n",
    "   - Yunzi: 1, 2, 4, 7, 11, 16, 22, 29, 37, 46, ...     cur_num += i-1\n",
    "   \n",
    "   - Jason: 1, 2, 3, 5, 8, 13, 21, 34, 55, 89, ... you need two variables: cur_num, num_before_cur \n",
    "   \n",
    "   - 1, 8, 27, 64, __, 216, 343, 512, 729, 1000, ...\n",
    "   \n",
    "   - 1, 7, 19, 37, __, 91, 127, 169, 217, 271, ... \n",
    "   \n",
    "  \n",
    "2. 挑选某一行数字排列，通过编写程序，让程序运行完全输出这一行的数字排列（包括表示空白的横线）\n",
    "3. 自己设计一个规律，并按照这个规律编写程序得到并输出这一排数字，其中将第5个（索引为4的）数字用横线隐去，将程序输出的信息作为题目发送给你身边的朋友，让他们找出其中的规律并填写空白处的数字后交给你你来评判结果对不对。\n",
    "\n"
   ]
  },
  {
   "cell_type": "code",
   "execution_count": null,
   "id": "adopted-pledge",
   "metadata": {
    "id": "adopted-pledge"
   },
   "outputs": [],
   "source": [
    "1, 2, 3, 5, "
   ]
  },
  {
   "cell_type": "code",
   "execution_count": null,
   "id": "european-affair",
   "metadata": {
    "id": "european-affair",
    "outputId": "cde74e01-cd3f-4e0e-e09d-03b5625cc1b1"
   },
   "outputs": [],
   "source": [
    "print(\"Sophie\", end=\"             \")\n",
    "print(\"Jason\")"
   ]
  },
  {
   "cell_type": "markdown",
   "id": "latest-contamination",
   "metadata": {
    "id": "latest-contamination"
   },
   "source": [
    "## Objective 学习目标\n",
    "\n",
    "- 作业回顾\n",
    "- 熟练使用`while`引导的循环语句，学习`while`和`if`的嵌套使用\n",
    "- 继续练习使用变量自增、自减代码的完整和简便写法（例如：`a = a + 1` 和 `a += 1`)\n",
    "- 学习在`print`方法中不换行多次接续输出一排内容: `print(\"string\", end=\" \")`\n",
    "- 继续尝试发现程序代码中的bug"
   ]
  },
  {
   "cell_type": "markdown",
   "id": "animated-batch",
   "metadata": {
    "id": "animated-batch"
   },
   "source": [
    "## Math\n",
    "\n",
    "- 数列的概念（一串有限或无限个数的数字的有序排列），通项公式。"
   ]
  },
  {
   "cell_type": "markdown",
   "id": "sorted-furniture",
   "metadata": {
    "id": "sorted-furniture"
   },
   "source": [
    "## Python"
   ]
  },
  {
   "cell_type": "markdown",
   "id": "sharp-target",
   "metadata": {
    "id": "sharp-target"
   },
   "source": [
    "### 订正作业"
   ]
  },
  {
   "cell_type": "code",
   "execution_count": null,
   "id": "other-cookbook",
   "metadata": {
    "id": "other-cookbook",
    "outputId": "34925967-84ae-47bd-df2d-0512b6b4fb7f"
   },
   "outputs": [],
   "source": [
    "1 + 2 + 3 + 4"
   ]
  },
  {
   "cell_type": "code",
   "execution_count": null,
   "id": "dated-member",
   "metadata": {
    "id": "dated-member"
   },
   "outputs": [],
   "source": [
    "#   (1 + 2 + 3 + 4) + (1 + 2 + 3 + 4) \n",
    "# = (1 + 2 + 3 + 4) + (4 + 3 + 2 + 1)     \n",
    "# = 1 + 2 + 3 + 4 + 4 + 3 + 2 + 1\n",
    "# = 1 + 4 + 2 + 3 + 3 + 2 + 4 + 1\n",
    "# = (1+4) + (2+3) + (3+2) + (4+1)\n",
    "# = 5 + 5 + 5 + 5\n",
    "# = 5 × 4\n",
    "# = 20\n",
    "\n",
    "# 1 + 2 + 3 + 4 = 20 / 2 = 10\n",
    "# 1 + 2 + 3 + ... + n = (1 + n) * n / 2"
   ]
  },
  {
   "cell_type": "code",
   "execution_count": null,
   "id": "acting-folks",
   "metadata": {
    "id": "acting-folks",
    "outputId": "469a1ee4-ff5b-402a-f4cd-16c344131d4f"
   },
   "outputs": [],
   "source": [
    "# calculate sum of 1 to 100, sum of all odd(even) numbers between 1 and 100\n",
    "\n",
    "# Student 1\n",
    "#Even\n",
    "sum = 0\n",
    "num = 2\n",
    "while num <= 100:\n",
    "    sum = sum + num\n",
    "    num = num + 2\n",
    "    \n",
    "print(sum)"
   ]
  },
  {
   "cell_type": "code",
   "execution_count": null,
   "id": "centered-wrapping",
   "metadata": {
    "id": "centered-wrapping",
    "outputId": "9683e2aa-ff75-4cd3-fb08-1c50bc876889"
   },
   "outputs": [],
   "source": [
    "# student 2\n",
    "max_num = 100\n",
    "cur_num = 0\n",
    "sum_ = 0\n",
    "while cur_num <= max_num:\n",
    "    sum_ += cur_num\n",
    "    cur_num += 2\n",
    "\n",
    "print(sum_)"
   ]
  },
  {
   "cell_type": "code",
   "execution_count": null,
   "id": "filled-timber",
   "metadata": {
    "id": "filled-timber",
    "outputId": "130e01b7-8ac0-4532-b78a-544ff28336a9"
   },
   "outputs": [],
   "source": [
    "# student 3\n",
    "num1 = 100\n",
    "num2 = 1\n",
    "total_num = 0\n",
    "\n",
    "while num1 >= num2:\n",
    "    total_num += num2\n",
    "    num2 += 2\n",
    "    \n",
    "print(total_num)"
   ]
  },
  {
   "cell_type": "code",
   "execution_count": null,
   "id": "medium-pioneer",
   "metadata": {
    "id": "medium-pioneer",
    "outputId": "27b08985-dc17-4ba7-fa47-0830e73b4ca7"
   },
   "outputs": [],
   "source": [
    "# student 4\n",
    "# sum_odd\n",
    "# num_initial = 1\n",
    "# num_n = num_initial\n",
    "sum_n, num_n = 0, 1\n",
    "while num_n <= 99 :           # 为什么这里是97？有凑数字嫌疑，考虑把它设为<=100\n",
    "    sum_n += num_n\n",
    "    num_n += 2\n",
    "    \n",
    "print(\"奇数总和是：\", sum_n)"
   ]
  },
  {
   "cell_type": "markdown",
   "id": "placed-tragedy",
   "metadata": {
    "id": "placed-tragedy"
   },
   "source": [
    "### New"
   ]
  },
  {
   "cell_type": "code",
   "execution_count": null,
   "id": "derived-earthquake",
   "metadata": {
    "id": "derived-earthquake"
   },
   "outputs": [],
   "source": [
    "print(\"\", end=\" \")\n",
    "print(\"\")"
   ]
  },
  {
   "cell_type": "code",
   "execution_count": null,
   "id": "spatial-marshall",
   "metadata": {
    "id": "spatial-marshall",
    "outputId": "ea24d781-11d7-48ae-9269-b80f8a22f862"
   },
   "outputs": [],
   "source": [
    "# output: 1, 2, 3, 4, __, 6, 7, 8, 9, 10, ...\n",
    "from time import sleep\n",
    "cur_num = 1\n",
    "while cur_num <= 10:\n",
    "    if cur_num == 5:\n",
    "        print(\"__\", end=\", \")\n",
    "        cur_num += 1\n",
    "        \n",
    "    print(cur_num, end=\", \")\n",
    "    cur_num += 1\n",
    "    sleep(2)\n",
    "    \n",
    "print(\"...\")"
   ]
  },
  {
   "cell_type": "code",
   "execution_count": null,
   "id": "absent-walnut",
   "metadata": {
    "id": "absent-walnut",
    "outputId": "d8c7d639-8d7a-4f8d-fb8e-0960360806f9"
   },
   "outputs": [],
   "source": [
    "# output: 1, 2, 3, 4, __, 6, 7, 8, 9, 10, ...\n",
    "from time import sleep\n",
    "cur_num = 1\n",
    "i = 1\n",
    "while i <= 10:\n",
    "    if i == 5:\n",
    "        print(\"__\", end=\", \")\n",
    "    else:\n",
    "        cur_num = i\n",
    "        print(cur_num, end=\", \")\n",
    "        \n",
    "    sleep(2)\n",
    "    i += 1\n",
    "    \n",
    "print(\"...\")"
   ]
  },
  {
   "cell_type": "markdown",
   "id": "bizarre-assurance",
   "metadata": {
    "id": "bizarre-assurance"
   },
   "source": [
    "## Did you know?\n",
    "当下主流的计算机编程语言都将数值0作为有序排列一组数据中第一个数的索引。"
   ]
  },
  {
   "cell_type": "markdown",
   "id": "digital-consensus",
   "metadata": {
    "id": "digital-consensus"
   },
   "source": [
    "## Exercise"
   ]
  },
  {
   "cell_type": "markdown",
   "id": "obvious-exercise",
   "metadata": {
    "id": "obvious-exercise"
   },
   "source": [
    "完成剩余6个数列的编程输出"
   ]
  },
  {
   "cell_type": "code",
   "execution_count": 1,
   "id": "incident-captain",
   "metadata": {
    "id": "incident-captain"
   },
   "outputs": [
    {
     "name": "stdout",
     "output_type": "stream",
     "text": [
      "1, 4, 9, 16, __, 36, 49, 64, 81, 100, ...\n"
     ]
    }
   ],
   "source": [
    "# 1, 4, 9, 16, __, 36, 49, 64, 81, 100, ...\n",
    "cur_num = 1\n",
    "i = 1\n",
    "while i <= 10:\n",
    "    if i == 5:\n",
    "        cur_num += i * 2 + 1\n",
    "        print(\"__\", end=\", \")\n",
    "    else:\n",
    "        print(cur_num, end=\", \")\n",
    "        cur_num += i * 2 + 1\n",
    "    i += 1\n",
    "    \n",
    "print(\"...\")"
   ]
  },
  {
   "cell_type": "code",
   "execution_count": 8,
   "id": "raised-stage",
   "metadata": {
    "id": "raised-stage",
    "outputId": "c19d41a0-db40-4644-fd4a-759649cb18c6"
   },
   "outputs": [
    {
     "name": "stdout",
     "output_type": "stream",
     "text": [
      "1, 2, 4, 8, __, 32, 64, 128, 256, 512, ...\n"
     ]
    }
   ],
   "source": [
    "# 1, 2, 4, 8, __, 32, 64, 128, 256, 512, ...\n",
    "cur_num = 1\n",
    "i = 1\n",
    "while i <= 10:\n",
    "    if i == 5:\n",
    "        print(\"__\", end=\", \")\n",
    "        cur_num = cur_num * 2\n",
    "    else:\n",
    "        print(cur_num, end=\", \")\n",
    "        cur_num = cur_num * 2\n",
    "    i += 1\n",
    "    \n",
    "print(\"...\")"
   ]
  },
  {
   "cell_type": "code",
   "execution_count": 2,
   "id": "particular-literacy",
   "metadata": {
    "id": "particular-literacy",
    "outputId": "7ca7984f-392a-4ebe-de0b-69a046f7db61"
   },
   "outputs": [
    {
     "name": "stdout",
     "output_type": "stream",
     "text": [
      "1, 2, 4, 7, __, 16, 22, 29, 37, 46, ...\n"
     ]
    }
   ],
   "source": [
    "# 1, 2, 4, 7, __, 16, 22, 29, 37, 46, ...\n",
    "cur_num = 1\n",
    "i = 1\n",
    "cur_num_ = 1                            # this is not a good name here\n",
    "while i <= 10:\n",
    "    if i == 5:\n",
    "        cur_num += cur_num_\n",
    "        print(\"__\", end=\", \")\n",
    "    else:\n",
    "        print(cur_num, end=\", \")\n",
    "        cur_num += cur_num_\n",
    "    cur_num_ += 1\n",
    "    i += 1\n",
    "    \n",
    "print(\"...\")"
   ]
  },
  {
   "cell_type": "code",
   "execution_count": 3,
   "id": "enclosed-target",
   "metadata": {
    "id": "enclosed-target",
    "outputId": "cd9e1879-f329-4235-94a0-91aa0852930d"
   },
   "outputs": [
    {
     "name": "stdout",
     "output_type": "stream",
     "text": [
      "1, 1, 2, 3, __, 8, 13, 21, 34, 55, ...\n"
     ]
    }
   ],
   "source": [
    "# 1, 1, 2, 3, __, 8, 13, 21, 34, 55, ...\n",
    "first_num, second_num = 1, 1\n",
    "i = 1\n",
    "while i <= 10:\n",
    "    if i < 3:\n",
    "        cur_num = 1\n",
    "    else:\n",
    "        cur_num = first_num + second_num\n",
    "    \n",
    "    if i == 5:\n",
    "        print(\"__\", end = \", \")\n",
    "    else:\n",
    "        print(cur_num, end = \", \") \n",
    "    \n",
    "    first_num = second_num\n",
    "    second_num = cur_num\n",
    "    i += 1\n",
    "\n",
    "print(\"...\")\n"
   ]
  },
  {
   "cell_type": "code",
   "execution_count": 4,
   "id": "neither-sperm",
   "metadata": {
    "id": "neither-sperm",
    "outputId": "e3017a5e-7375-47a6-9415-ca302010abda"
   },
   "outputs": [
    {
     "name": "stdout",
     "output_type": "stream",
     "text": [
      "1, 8, 27, 64, __, 216, 343, 512, 729, 1000, ...\n"
     ]
    }
   ],
   "source": [
    "# 1, 8, 27, 64, __, 216, 343, 512, 729, 1000, ...\n",
    "cur_num = 1\n",
    "i = 1\n",
    "while i <= 10:\n",
    "    cur_num = i * i * i\n",
    "    if i == 5:\n",
    "        print(\"__\", end=\", \")\n",
    "    else:\n",
    "        print(cur_num, end=\", \")\n",
    "    i +=1\n",
    "    \n",
    "print(\"...\")"
   ]
  },
  {
   "cell_type": "code",
   "execution_count": 5,
   "id": "frequent-florida",
   "metadata": {
    "id": "frequent-florida",
    "outputId": "16e8fdf1-d9cc-4edc-ee93-dbdac620b201"
   },
   "outputs": [
    {
     "name": "stdout",
     "output_type": "stream",
     "text": [
      "1, 7, 19, 37, __, 91, 127, 169, 217, 271, ...\n"
     ]
    }
   ],
   "source": [
    "# 1, 7, 19, 37, __, 91, 127, 169, 217, 271...\n",
    "cur_num = 1\n",
    "i = 1\n",
    "num_add = 6                        # Think about other possiblities. \n",
    "                                   # Find clues from: 1, 8, 27, 64, 125, 216, ...\n",
    "while i <= 10:\n",
    "    if i == 5:\n",
    "        print(\"__\", end=\", \")\n",
    "    else:\n",
    "        print(cur_num, end=\", \")\n",
    "    cur_num = cur_num + num_add\n",
    "    num_add += 6\n",
    "    i += 1\n",
    "    \n",
    "print(\"...\")"
   ]
  },
  {
   "cell_type": "code",
   "execution_count": 17,
   "id": "medieval-monkey",
   "metadata": {},
   "outputs": [
    {
     "name": "stdout",
     "output_type": "stream",
     "text": [
      "1, 2, 3, 5, __, 13, 21, 34, 55, 89, ...\n"
     ]
    }
   ],
   "source": [
    "# 1, 2, 3, 5, __, 13, 21, 34, 55, 89, ...\n",
    "first_num, second_num = 1, 1\n",
    "i = 1\n",
    "while i <= 10:\n",
    "    if i < 2:\n",
    "        cur_num = 1\n",
    "    else:\n",
    "        cur_num = first_num + second_num\n",
    "    \n",
    "    if i == 5:\n",
    "        print(\"__\", end = \", \")\n",
    "    else:\n",
    "        print(cur_num, end = \", \") \n",
    "    \n",
    "    first_num = second_num\n",
    "    second_num = cur_num\n",
    "    i += 1\n",
    "\n",
    "print(\"...\")\n"
   ]
  }
 ],
 "metadata": {
  "colab": {
   "name": "L20210522_007.ipynb",
   "provenance": []
  },
  "kernelspec": {
   "display_name": "Python 3",
   "language": "python",
   "name": "python3"
  },
  "language_info": {
   "codemirror_mode": {
    "name": "ipython",
    "version": 3
   },
   "file_extension": ".py",
   "mimetype": "text/x-python",
   "name": "python",
   "nbconvert_exporter": "python",
   "pygments_lexer": "ipython3",
   "version": "3.9.0"
  }
 },
 "nbformat": 4,
 "nbformat_minor": 5
}
