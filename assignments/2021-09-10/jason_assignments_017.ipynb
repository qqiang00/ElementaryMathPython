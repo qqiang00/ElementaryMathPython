{
 "cells": [
  {
   "cell_type": "markdown",
   "id": "brazilian-startup",
   "metadata": {},
   "source": [
    "## 第17讲 编写方法求一个数的相反数和绝对值"
   ]
  },
  {
   "cell_type": "markdown",
   "id": "rocky-paraguay",
   "metadata": {},
   "source": [
    "### Problem 问题描述"
   ]
  },
  {
   "cell_type": "markdown",
   "id": "former-spank",
   "metadata": {},
   "source": [
    "编写程序计算列表`nums`里每一个元素的相反数和绝对值，并将相反数的结果依次存放在`oppos`列表里，将绝对值的结果依次存放在`abos`列表里。`nums`的值如下：\n",
    "```python\n",
    "nums = [-256, -100, -90, -5, 0, 1.73, 3.14, 16, 90, 100, 256, 512]\n",
    "```"
   ]
  },
  {
   "cell_type": "markdown",
   "id": "central-class",
   "metadata": {},
   "source": [
    "### Math Background 数学背景\n",
    "\n",
    "1. 相反数和绝对值的概念和计算方法，几何意义"
   ]
  },
  {
   "cell_type": "markdown",
   "id": "exterior-keeping",
   "metadata": {
    "heading_collapsed": true
   },
   "source": [
    "### Prerequisites 预备知识"
   ]
  },
  {
   "cell_type": "markdown",
   "id": "residential-holiday",
   "metadata": {},
   "source": [
    "1. 创建带有返回值的方法\n",
    "   使得调用方法的调用可以出现在赋值符号(`=`)的右侧，使调用方法得到的结果能够赋值给一个变量。\n",
    "\n",
    "   方法为什么可以有返回值，返回值的意义是什么？\n",
    "   \n",
    "   如何创建一个有实际返回值的方法？语法规则是什么？\n",
    "   \n",
    "   以计算任意两个整数之间所有整数和为例，如果方法没有返回值，我们需要在方法内部使用`print`语句打印输出得到的结果：\n",
    "   \n",
    "   以Yunzi小朋友的弟弟Yunlei打扫卫生为例：\n",
    "   "
   ]
  },
  {
   "cell_type": "code",
   "execution_count": 21,
   "id": "vocal-guyana",
   "metadata": {},
   "outputs": [],
   "source": [
    "def goto_room(cleaner, room):\n",
    "    print(\"[{} goes to {}]\".format(cleaner, room))\n",
    "    \n",
    "def take(cleaner, tool):\n",
    "    print(\"[{} take the tool {}]\".format(cleaner, tool))\n",
    "    \n",
    "def clean_floor(cleaner, dongxi):\n",
    "    print(\"[prepare to clean]\")\n",
    "    rest(cleaner, 6) # 6 seconds\n",
    "    print(\"[{} is cleaning {} on the floor]\".format(cleaner, dongxi))\n",
    "    \n",
    "def clean_wall(cleaner):\n",
    "    print(\"[{} is cleaning wall]\".format(cleaner))\n",
    "    \n",
    "def pay(cleaner, payer):\n",
    "    print(\"[{} got money from {}]\".format(cleaner, payer))\n",
    "    \n",
    "def report(cleaner, payer):\n",
    "    print(\"[{} told {}, clean now!]\".format(cleaner, payer))\n",
    "    \n",
    "def rest(cleaner, duration):\n",
    "    print(\"[{} is resting...]\".format(cleaner))\n",
    "    time.sleep(duration)\n"
   ]
  },
  {
   "cell_type": "code",
   "execution_count": 22,
   "id": "facial-aggregate",
   "metadata": {},
   "outputs": [],
   "source": [
    "import time \n",
    "def cleaning(   cleaner,\n",
    "                commander,  # payer\n",
    "                object_, \n",
    "                room, \n",
    "                is_wall_need, \n",
    "                tool, \n",
    "                time_limit,   # minute\n",
    "                need_pay,\n",
    "                need_report_after\n",
    "            ):\n",
    "    start_time = time.time()\n",
    "    print(\"start cleaning at {}\".format(start_time))\n",
    "    goto_room(cleaner, room)\n",
    "    take(cleaner, tool)\n",
    "    clean_floor(cleaner, object_)\n",
    "    if is_wall_need:\n",
    "        clean_wall(cleaner)\n",
    "        \n",
    "    end_time = time.time()\n",
    "    print(\"end time: {}\".format(end_time))\n",
    "    \n",
    "    print(\"time cost: {}\".format(end_time - start_time))\n",
    "    if end_time - start_time < time_limit:\n",
    "        # meiyou chaoshi\n",
    "        print(\"Well done! meiyou chaoshi le {}\".format(cleaner))\n",
    "    else:\n",
    "        # chaoshi\n",
    "        # ....\n",
    "        print(\"chaoshile\")\n",
    "    \n",
    "    if need_pay:\n",
    "        pay(cleaner, commander)\n",
    "    \n",
    "    if need_report_after:\n",
    "        report(cleaner, commander)\n",
    "        \n",
    "    return "
   ]
  },
  {
   "cell_type": "code",
   "execution_count": 23,
   "id": "portable-riding",
   "metadata": {},
   "outputs": [
    {
     "name": "stdout",
     "output_type": "stream",
     "text": [
      "start cleaning at 1630765078.5709765\n",
      "[Yunlei goes to yunzi's bed room]\n",
      "[Yunlei take the tool box]\n",
      "[prepare to clean]\n",
      "[Yunlei is resting...]\n",
      "[Yunlei is cleaning books on the floor]\n",
      "end time: 1630765084.5777502\n",
      "time cost: 6.0067737102508545\n",
      "Well done! meiyou chaoshi le Yunlei\n",
      "[Yunlei told Yunzi, clean now!]\n"
     ]
    }
   ],
   "source": [
    "cleaning(\"Yunlei\", \"Yunzi\", \"books\", \"yunzi's bed room\", False, \"box\", 7, False, True)"
   ]
  },
  {
   "cell_type": "code",
   "execution_count": 19,
   "id": "resident-acting",
   "metadata": {},
   "outputs": [
    {
     "name": "stdout",
     "output_type": "stream",
     "text": [
      "start cleaning at 1630764913.7600007\n",
      "[Yunzi goto feife's room]\n",
      "[Yunzi take the tool xiegui]\n",
      "[prepare to clean]\n",
      "[Yunzi is sleeping...]\n",
      "[Yunzi is cleaning shoe on the floor]\n",
      "[Yunzi is cleaning wall]\n",
      "end time: 1630764919.765391\n",
      "time cost: 6.005390405654907\n",
      "Well done! meiyou chaoshi le Yunzi\n",
      "[Yunzi got money from Sophie]\n",
      "[Yunzi told Sophie, clean now!]\n"
     ]
    }
   ],
   "source": [
    "cleaning(\"Yunzi\", \"Sophie\", \"shoe\", \"feife's room\", True, \"xiegui\", 7, True, True)"
   ]
  },
  {
   "cell_type": "markdown",
   "id": "intended-puzzle",
   "metadata": {},
   "source": [
    "    完成一个运算的方法，在方法内部可以仅执行一些计算，而不必要执行显示最终数据的任务，也就是说方法内部可以而且应该不需要使用`print`语句来显示最终得到的结果，这个结果应该可以直接拿来使用或者赋值给某一个变量，为此可以给方法的最后添加一个语句来返回这个结果至方法外部。"
   ]
  },
  {
   "cell_type": "code",
   "execution_count": 24,
   "id": "thorough-correction",
   "metadata": {},
   "outputs": [],
   "source": [
    "def cleaning_silently(cleaner,\n",
    "                      commander,\n",
    "                      dongxi, \n",
    "                      room, \n",
    "                      is_wall_need, \n",
    "                      tool, \n",
    "                      time_limit,   # seconds\n",
    "                      need_pay,\n",
    "                      need_report_after\n",
    "                    ):\n",
    "    start_time = time.time()\n",
    "    goto_room(cleaner, room)\n",
    "    take(cleaner, tool)\n",
    "    clean_floor(cleaner, dongxi)\n",
    "    if is_wall_need:\n",
    "        clean_wall(cleaner)\n",
    "        \n",
    "    end_time = time.time()\n",
    "    time_cost = end_time - start_time\n",
    "    is_delayed = None\n",
    "    if time_cost <= time_limit:\n",
    "        # meiyou chaoshi\n",
    "        is_delayed = False\n",
    "    else:\n",
    "        is_delayed = True\n",
    "        pass\n",
    "    \n",
    "    if need_pay:\n",
    "        pay(cleaner, commander)\n",
    "    \n",
    "    if need_report_after:\n",
    "        report(cleaner, commander)\n",
    "        \n",
    "    return is_delayed"
   ]
  },
  {
   "cell_type": "code",
   "execution_count": 26,
   "id": "exotic-sierra",
   "metadata": {},
   "outputs": [
    {
     "name": "stdout",
     "output_type": "stream",
     "text": [
      "[Yunlei goes to yunzi_bed_room]\n",
      "[Yunlei take the tool box]\n",
      "[prepare to clean]\n",
      "[Yunlei is resting...]\n",
      "[Yunlei is cleaning books on the floor]\n",
      "[Yunlei told Yunzi, clean now!]\n"
     ]
    },
    {
     "data": {
      "text/plain": [
       "True"
      ]
     },
     "execution_count": 26,
     "metadata": {},
     "output_type": "execute_result"
    }
   ],
   "source": [
    "cleaning_silently(\"Yunlei\", \"Yunzi\", \"books\", \"yunzi_bed_room\", False, \"box\", 6, False, True)"
   ]
  },
  {
   "cell_type": "code",
   "execution_count": 27,
   "id": "typical-revision",
   "metadata": {},
   "outputs": [
    {
     "name": "stdout",
     "output_type": "stream",
     "text": [
      "[Yunlei goes to yunzi_bed_room]\n",
      "[Yunlei take the tool box]\n",
      "[prepare to clean]\n",
      "[Yunlei is resting...]\n",
      "[Yunlei is cleaning books on the floor]\n",
      "[Yunlei told Yunzi, clean now!]\n",
      "True\n"
     ]
    }
   ],
   "source": [
    "is_yunlei_delayed = cleaning_silently(\"Yunlei\", \"Yunzi\", \"books\", \"yunzi_bed_room\", False, \"box\", 6, False, True)\n",
    "print(is_yunlei_delayed)"
   ]
  },
  {
   "cell_type": "markdown",
   "id": "expressed-publicity",
   "metadata": {},
   "source": [
    "2. 一个数的相反数是这个数乘以-1的结果，一个正数的绝对值是这个数自己，一个负数的绝对值是这个数的相反数，0的相反数和绝对值都还是0.\n",
    "\n",
    "   下面的方法把`print`包括在方法内部了。"
   ]
  },
  {
   "cell_type": "code",
   "execution_count": 66,
   "id": "elegant-august",
   "metadata": {},
   "outputs": [],
   "source": [
    "def oppo_print(num):\n",
    "    result = -1 * num\n",
    "    print(\"{} 的相反数是 {}\".format(num, result))\n",
    "    return\n"
   ]
  },
  {
   "cell_type": "code",
   "execution_count": 67,
   "id": "artistic-oxford",
   "metadata": {},
   "outputs": [
    {
     "name": "stdout",
     "output_type": "stream",
     "text": [
      "3 的相反数是 -3\n",
      "-2 的相反数是 2\n",
      "0 的相反数是 0\n"
     ]
    }
   ],
   "source": [
    "oppo_print(3)\n",
    "oppo_print(-2)\n",
    "oppo_print(0)"
   ]
  },
  {
   "cell_type": "code",
   "execution_count": 70,
   "id": "portable-agreement",
   "metadata": {},
   "outputs": [],
   "source": [
    "def abs_print(num):\n",
    "    result = num\n",
    "    if num < 0:\n",
    "        result = -1 * num\n",
    "    print(\"{}的绝对值是{}\".format(num, result))\n",
    "    return"
   ]
  },
  {
   "cell_type": "code",
   "execution_count": 69,
   "id": "analyzed-tribune",
   "metadata": {},
   "outputs": [
    {
     "name": "stdout",
     "output_type": "stream",
     "text": [
      "3的绝对值是3\n",
      "-2的绝对值是2\n",
      "0的绝对值是0\n"
     ]
    }
   ],
   "source": [
    "abs_print(3)\n",
    "abs_print(-2)\n",
    "abs_print(0)"
   ]
  },
  {
   "cell_type": "code",
   "execution_count": 71,
   "id": "addressed-cooper",
   "metadata": {},
   "outputs": [],
   "source": [
    "# simplified abs_print method\n",
    "def abs2_print(num):\n",
    "    result = num if num >= 0 else -1*num\n",
    "    print(\"{}的绝对值是{}\".format(num, result))"
   ]
  },
  {
   "cell_type": "code",
   "execution_count": 72,
   "id": "identified-speaking",
   "metadata": {},
   "outputs": [
    {
     "name": "stdout",
     "output_type": "stream",
     "text": [
      "3的绝对值是3\n",
      "-2的绝对值是2\n",
      "0的绝对值是0\n"
     ]
    }
   ],
   "source": [
    "abs2_print(3)\n",
    "abs2_print(-2)\n",
    "abs2_print(0)"
   ]
  },
  {
   "cell_type": "markdown",
   "id": "surprising-asset",
   "metadata": {},
   "source": [
    "### Solution 编程求解"
   ]
  },
  {
   "cell_type": "code",
   "execution_count": 74,
   "id": "color-turner",
   "metadata": {},
   "outputs": [],
   "source": [
    "def oppo(num):\n",
    "    return -1 * num\n",
    "\n",
    "def abso(num):\n",
    "    return num if num >= 0 else -1*num\n",
    "\n",
    "def abso2(num):\n",
    "    return num if num >= 0 else oppo(num)"
   ]
  },
  {
   "cell_type": "code",
   "execution_count": 75,
   "id": "funded-laser",
   "metadata": {},
   "outputs": [
    {
     "name": "stdout",
     "output_type": "stream",
     "text": [
      "[-256, -100, -90, -5, 0, 1.73, 3.14, 16, 90, 100, 256, 512]\n",
      "[256, 100, 90, 5, 0, -1.73, -3.14, -16, -90, -100, -256, -512]\n",
      "[256, 100, 90, 5, 0, 1.73, 3.14, 16, 90, 100, 256, 512]\n",
      "-256的相反数是256, 绝对值是256\n",
      "-100的相反数是100, 绝对值是100\n",
      "-90的相反数是90, 绝对值是90\n",
      "-5的相反数是5, 绝对值是5\n",
      "0的相反数是0, 绝对值是0\n",
      "1.73的相反数是-1.73, 绝对值是1.73\n",
      "3.14的相反数是-3.14, 绝对值是3.14\n",
      "16的相反数是-16, 绝对值是16\n",
      "90的相反数是-90, 绝对值是90\n",
      "100的相反数是-100, 绝对值是100\n",
      "256的相反数是-256, 绝对值是256\n",
      "512的相反数是-512, 绝对值是512\n"
     ]
    }
   ],
   "source": [
    "nums = [-256, -100, -90, -5, 0, 1.73, 3.14, 16, 90, 100, 256, 512]\n",
    "oppos = []\n",
    "absos = []\n",
    "\n",
    "for num in nums:\n",
    "    oppo_num = oppo(num)\n",
    "    oppos.append(oppo_num)\n",
    "    \n",
    "    abso_num = abso(num)\n",
    "    absos.append(abso_num)\n",
    "    \n",
    "print(nums)\n",
    "print(oppos)\n",
    "print(absos)\n",
    "\n",
    "for i in range(len(nums)):\n",
    "    print(\"{}的相反数是{}, 绝对值是{}\".format(nums[i], oppos[i], absos[i]))"
   ]
  },
  {
   "cell_type": "markdown",
   "id": "joint-gateway",
   "metadata": {},
   "source": [
    "### Summary 知识点小结"
   ]
  },
  {
   "cell_type": "markdown",
   "id": "needed-negotiation",
   "metadata": {},
   "source": [
    "1. 进一步理解创建方法的意义，如何声明和实现一个方法\n",
    "2. 给方法添加的返回值，返回值在程序中的作用\n",
    "3. `range`的使用\n",
    "4. 在一行代码中编写简单的条件语句代码\n",
    "5. 复习list变量的使用，append方法\n",
    "6. 复习`while`和`for`循环及其区别"
   ]
  },
  {
   "cell_type": "markdown",
   "id": "opening-charles",
   "metadata": {},
   "source": [
    "### 计算机小知识"
   ]
  },
  {
   "cell_type": "markdown",
   "id": "funded-projection",
   "metadata": {},
   "source": [
    "暂缺"
   ]
  },
  {
   "cell_type": "markdown",
   "id": "steady-tribe",
   "metadata": {
    "heading_collapsed": true
   },
   "source": [
    "### Assignments 作业"
   ]
  },
  {
   "cell_type": "markdown",
   "id": "three-lending",
   "metadata": {},
   "source": [
    "1. Invoke the method `cleaning` implemented in the \"Prerequisites\" section to simulate the activities in the following scenarios. Call the method one time for each scenario, and observe whether the output of the method matches the description of the scenario.\n",
    "\n",
    "   调用预备知识中定义的`cleaning`方法来模拟下面的各种场景，每一个场景调用一次`cleaning`方法，观察方法的输出是否与场景的描述相同\n",
    "   \n",
    "   1. Jason cleans the books in Tony's reading room by his hands. The service is payable, without cleaning the wall. Time limit is 60 seconds, without reporting after cleaning.\n",
    "   \n",
    "      Jason有偿给Tony的书房(reading room) 整理书本(books), 使用的工具是Jason的双手(hands)，不需要清洁Tony书房的墙壁，现时60秒，结束后不需要向Tony汇报；\n",
    "      \n",
    "   2. Tony cleans Jason's toys in his basement with his right hand since his left hand was injured several days ago. The wall is also required to be cleaned. Time limit is 1 minute. Report to Jason after the cleaning is over.\n",
    "   \n",
    "      Tony无偿给Jason的地下室(basement)整理玩具(toys), 使用的工具是Tony的右手(right hands)，因为前几天Tony的左手受伤了。地下室的墙壁也需要一道清洁下，限时1分钟，结束后需要向Jason汇报；\n",
    "      \n",
    "   3. Sophie washes the dishes (bowls) for Yunzi in the kitchen room of Yunzi's house for free. The tools used are Sophie's hands. The walls of the kitchen do not need to be cleaned. The time limit is 5 minutes. Sophie needs to report to Yunzi after finishing;\n",
    "   \n",
    "      Sophie无偿在Yunzi家厨房(kitchen room)替Yunzi洗碗（bowls)，使用的工具是Sophie的双手(hands)，厨房的墙壁不需要清洁，限时5分钟，结束后需要向Yunzi汇报；\n",
    "   \n",
    "   \n",
    "   4. Yunzi cleans Sophie's bedroom. The service is payable. The tools used are Yunzi's hands. The bedroom walls do not need to be cleaned. The time limit is 1 minute. After the end, Yunzi needs to report to Sophie.\n",
    "   \n",
    "      Yunzi有偿给Sophie的卧室整理床铺(bed),使用的工具是Yunzi的双手(hands)，卧室墙壁不需要清洁，限时1分钟，结束后需要向Sophie汇报。\n",
    "    \n"
   ]
  },
  {
   "cell_type": "code",
   "execution_count": 19,
   "id": "former-perry",
   "metadata": {},
   "outputs": [],
   "source": [
    "def goto_room(cleaner, room):\n",
    "    print(\"[{} goes to {}]\".format(cleaner, room))\n",
    "    \n",
    "def take(cleaner, tool):\n",
    "    print(\"[{} take the tool {}]\".format(cleaner, tool))\n",
    "    \n",
    "def clean_floor(cleaner, dongxi):\n",
    "    print(\"[prepare to clean]\")\n",
    "    rest(cleaner, 6) # 6 seconds\n",
    "    print(\"[{} is cleaning {} on the floor]\".format(cleaner, dongxi))\n",
    "    \n",
    "def clean_wall(cleaner):\n",
    "    print(\"[{} is cleaning wall]\".format(cleaner))\n",
    "    \n",
    "def pay(cleaner, payer):\n",
    "    print(\"[{} got money from {}]\".format(cleaner, payer))\n",
    "    \n",
    "def report(cleaner, payer):\n",
    "    print(\"[{} told {}, clean now!]\".format(cleaner, payer))\n",
    "    \n",
    "def rest(cleaner, duration):\n",
    "    print(\"[{} is resting...]\".format(cleaner))\n",
    "    time.sleep(duration)"
   ]
  },
  {
   "cell_type": "code",
   "execution_count": 22,
   "id": "entertaining-attention",
   "metadata": {},
   "outputs": [],
   "source": [
    "import time \n",
    "def cleaning(   cleaner,\n",
    "                commander,  # payer\n",
    "                object_, \n",
    "                room, \n",
    "                is_wall_need, \n",
    "                tool, \n",
    "                time_limit,   # minute\n",
    "                need_pay,\n",
    "                need_report_after\n",
    "            ):\n",
    "    start_time = time.time()\n",
    "    print(\"start cleaning at {}\".format(start_time))\n",
    "    goto_room(cleaner, room)\n",
    "    take(cleaner, tool)\n",
    "    clean_floor(cleaner, object_)\n",
    "    if is_wall_need:\n",
    "        clean_wall(cleaner)\n",
    "        \n",
    "    end_time = time.time()\n",
    "    print(\"end time: {}\".format(end_time))\n",
    "    \n",
    "    print(\"time cost: {}\".format(end_time - start_time))\n",
    "    if end_time - start_time < time_limit:\n",
    "        # meiyou chaoshi\n",
    "        print(\"Well done! meiyou chaoshi le {}\".format(cleaner))\n",
    "    else:\n",
    "        # chaoshi\n",
    "        # ....\n",
    "        print(\"chaoshile\")\n",
    "    \n",
    "    if need_pay:\n",
    "        pay(cleaner, commander)\n",
    "    \n",
    "    if need_report_after:\n",
    "        report(cleaner, commander)\n",
    "        \n",
    "    return "
   ]
  },
  {
   "cell_type": "code",
   "execution_count": 25,
   "id": "monthly-johnston",
   "metadata": {},
   "outputs": [
    {
     "name": "stdout",
     "output_type": "stream",
     "text": [
      "start cleaning at 1631227315.7451305\n",
      "[Jason goes to Tony_bed_room]\n",
      "[Jason take the tool Hands]\n",
      "[prepare to clean]\n",
      "[Jason is resting...]\n",
      "[Jason is cleaning books on the floor]\n",
      "end time: 1631227321.7483284\n",
      "time cost: 6.003197908401489\n",
      "Well done! meiyou chaoshi le Jason\n",
      "[Jason got money from Tony]\n"
     ]
    }
   ],
   "source": [
    "# One line code for scenario 1\n",
    "cleaning(\"Jason\", \"Tony\", \"books\", \"Tony_bed_room\", False, \"Hands\", 60, True, False)"
   ]
  },
  {
   "cell_type": "code",
   "execution_count": 27,
   "id": "insured-logistics",
   "metadata": {},
   "outputs": [
    {
     "name": "stdout",
     "output_type": "stream",
     "text": [
      "start cleaning at 1631227537.0118458\n",
      "[Tony goes to Tony_bed_room]\n",
      "[Tony take the tool Right Hands]\n",
      "[prepare to clean]\n",
      "[Tony is resting...]\n",
      "[Tony is cleaning Toys on the floor]\n",
      "end time: 1631227543.017945\n",
      "time cost: 6.006099224090576\n",
      "Well done! meiyou chaoshi le Tony\n",
      "[Tony told Jason, clean now!]\n"
     ]
    }
   ],
   "source": [
    "# One line code for scenario 2\n",
    "cleaning(\"Tony\", \"Jason\", \"Toys\", \"Tony_bed_room\", False, \"Right Hands\", 60, False, True)"
   ]
  },
  {
   "cell_type": "code",
   "execution_count": 28,
   "id": "physical-married",
   "metadata": {},
   "outputs": [
    {
     "name": "stdout",
     "output_type": "stream",
     "text": [
      "start cleaning at 1631227606.4831388\n",
      "[Sophie goes to Kitchen]\n",
      "[Sophie take the tool Hands]\n",
      "[prepare to clean]\n",
      "[Sophie is resting...]\n",
      "[Sophie is cleaning Dishes on the floor]\n",
      "end time: 1631227612.489473\n",
      "time cost: 6.00633430480957\n",
      "Well done! meiyou chaoshi le Sophie\n",
      "[Sophie told Yunzi, clean now!]\n"
     ]
    }
   ],
   "source": [
    "# One line code for scenario 3\n",
    "cleaning(\"Sophie\", \"Yunzi\", \"Dishes\", \"Kitchen\", False, \"Hands\", 300, False, True)"
   ]
  },
  {
   "cell_type": "code",
   "execution_count": 29,
   "id": "explicit-ecology",
   "metadata": {},
   "outputs": [
    {
     "name": "stdout",
     "output_type": "stream",
     "text": [
      "start cleaning at 1631227743.879604\n",
      "[Yunzi goes to Sophie_bed_room]\n",
      "[Yunzi take the tool Hands]\n",
      "[prepare to clean]\n",
      "[Yunzi is resting...]\n",
      "[Yunzi is cleaning Stuff on the floor]\n",
      "end time: 1631227749.889789\n",
      "time cost: 6.01018500328064\n",
      "Well done! meiyou chaoshi le Yunzi\n",
      "[Yunzi told Sophie, clean now!]\n"
     ]
    }
   ],
   "source": [
    "# One line code for scenario 4\n",
    "cleaning(\"Yunzi\", \"Sophie\", \"Stuff\", \"Sophie_bed_room\", False, \"Hands\", 60, False, True)"
   ]
  },
  {
   "cell_type": "markdown",
   "id": "early-syria",
   "metadata": {
    "hidden": true
   },
   "source": [
    "2. Implement a method:`square` that receives one **int** or **float** argument `x`. This method will calculate the square of `x`, take `square` as the resturn value of this method. run this method with the argument value as each element in the list `nums` below, put each square to a new list `squares`. in order. Finally, print out `squares` list. \n",
    "\n",
    "   实现一个名为`square`的方法，这个方法接受一个名为`x`的参数，它计算`x`的平方(自己和自己相乘）并将结果作为方法的返回值。把`nums`列表型变量里的每一个元素作为参数送入并运行该方法，将得到的结果作为元素放入一个新的列表型变量`squares`。最后打印这个`squares`变量。\n",
    "   \n",
    "   Note: You only need to implement the method. all other codes are already provided. \n",
    "   \n",
    "   注：你只需要声明方法，其他的代码已经给出"
   ]
  },
  {
   "cell_type": "code",
   "execution_count": 9,
   "id": "operational-buying",
   "metadata": {
    "hidden": true
   },
   "outputs": [],
   "source": [
    "def square(x):\n",
    "    return x*x\n",
    "    # TODO: add your code here to complete this method"
   ]
  },
  {
   "cell_type": "code",
   "execution_count": 10,
   "id": "saving-anatomy",
   "metadata": {},
   "outputs": [
    {
     "name": "stdout",
     "output_type": "stream",
     "text": [
      "[0, 1, 4, 9, 16, 25, 36, 49, 64, 81, 100, 9.8596]\n"
     ]
    }
   ],
   "source": [
    "# Don't modify any code in this cell\n",
    "# 不要修改任何本单元格中的代码\n",
    "\n",
    "nums = [0, 1, 2, 3, 4, 5, 6, 7, 8, 9, 10, 3.14]\n",
    "squares = []\n",
    "for num in nums:\n",
    "    result = square(num)\n",
    "    squares.append(result)\n",
    "    \n",
    "print(squares)"
   ]
  },
  {
   "cell_type": "markdown",
   "id": "effective-regard",
   "metadata": {},
   "source": [
    "3. Implement a method:`square_on_list` that receives one **list** argument `x`. This method will calculate the square of each element in `x`, and put the result into a new list. Finally, the method returns this new list. \n",
    "\n",
    "   实现一个名为`square_on_list`的方法，这个方法接受一个列表型参数：`x`，该方法计算`x`的每一个元素的平方并将结果组成一个新的列表性变量，并把这个新的变量作为方法的返回值。\n",
    "   \n",
    "   Note: You only need to implement the method. all other codes, include the original list variable `nums`,  are already provided. \n",
    "   \n",
    "   注：你只需要声明方法，其他的代码(包括原始列表变量`nums`)已经给出。"
   ]
  },
  {
   "cell_type": "code",
   "execution_count": 13,
   "id": "paperback-passion",
   "metadata": {},
   "outputs": [],
   "source": [
    "def square_on_list(x):\n",
    "    pass\n",
    "    # TODO：add your code here\n",
    "    index = 0\n",
    "    lens = len(x)\n",
    "    s_uares = []\n",
    "    while index < lens:\n",
    "        n_ = x[index]\n",
    "        square = n_ * n_\n",
    "        s_uares.append(square)\n",
    "        index += 1\n",
    "    return s_uares"
   ]
  },
  {
   "cell_type": "code",
   "execution_count": 14,
   "id": "automatic-foster",
   "metadata": {},
   "outputs": [
    {
     "name": "stdout",
     "output_type": "stream",
     "text": [
      "[0, 1, 4, 9, 16, 25, 36, 49, 64, 81, 100, 9.8596]\n"
     ]
    }
   ],
   "source": [
    "# Don't modify any code in this cell\n",
    "# 不要修改任何本单元格中的代码\n",
    "\n",
    "nums = [0, 1, 2, 3, 4, 5, 6, 7, 8, 9, 10, 3.14]\n",
    "squares = square_on_list(nums)\n",
    "print(squares)"
   ]
  },
  {
   "cell_type": "markdown",
   "id": "rising-customer",
   "metadata": {},
   "source": [
    "4. 圆的周长公式为:\n",
    "\n",
    "   The formular for calculating circumference of a circle defined by a radius is:\n",
    "   \n",
    "   $$C =2 \\pi  r$$\n",
    "   \n",
    "   其中$r$是圆的半径，$\\pi$是圆周率，值约为3.14，表示的是圆的周长与直径的的比值。圆的直径是圆上任意两个点的距离的最大值，圆的直径是半径的两倍。\n",
    "   \n",
    "   where $\\pi$ is the ratio of the circumference of a circle to its diameter, Its value is approximately equal to 3.14. The diameter of a circle is the maximum value of the distance between any two points on the circle, The radius of a circle is half of the diameters.\n",
    "\n",
    "   <img src=\"figures/L017_circle_diameter_radius.png\" width=\"300px\"/>\n",
    "   \n",
    "   现在有50个圆，其半径分别为下列一组数据：\n",
    "   \n",
    "   Here are 50 circles with radius values given below:\n",
    "   \n",
    "   ```python\n",
    "   [30.48, 28.66, 49.76, 23.95, 21.96, 49.82, 38.55, 30.95, 22.63, 38.55, 47.91, 47.54, 49.41, 21.18, 40.41, 42.77, 24.52, 24.52, 30.39, 29.97, 22.57, 29.09, 33.31, 40.26, 49.88, 31.52, 42.23, 27.66, 32.01, 48.19, 32.92, 37.53, 35.61, 49.8, 35.55, 38.98, 32.59, 48.98, 35.02, 23.97, 27.55, 31.84, 41.39, 24.61, 31.27, 24.94, 49.23, 39.81, 48.12, 21.91]\n",
    "   ```\n",
    "   请你编写一个方法专门计算一个给定半径的圆的周长，并编写其他的程序来调用你编写的方法来，来找出上面所有的圆中周长最大的一个圆其半径是多少？其对应的周长是多少？\n",
    "   \n",
    "   Please create(define and implement) a method to calculate the circumference of a circle given by a radius value. Writer some other codes to run your method and finally find the circle whose circumference is the largest. Give the value of the radius and circumference of the circle."
   ]
  },
  {
   "cell_type": "code",
   "execution_count": 15,
   "id": "silver-pound",
   "metadata": {},
   "outputs": [
    {
     "name": "stdout",
     "output_type": "stream",
     "text": [
      "313.4050184\n",
      "49.88\n"
     ]
    }
   ],
   "source": [
    "# You need to define, implement, and invoke the method all by yourself to answer this question.\n",
    "# 你需要独自声明、实现、和调用这个方法来完成本题\n",
    "def find_circumference(radius):\n",
    "    return 2 * 3.14159 * radius\n",
    "# Start your code here\n",
    "# 开始你的代码\n",
    "radiuses = [30.48, 28.66, 49.76, 23.95, 21.96, 49.82, 38.55, 30.95, 22.63, 38.55, \n",
    "            47.91, 47.54, 49.41, 21.18, 40.41, 42.77, 24.52, 24.52, 30.39, 29.97, \n",
    "            22.57, 29.09, 33.31, 40.26, 49.88, 31.52, 42.23, 27.66, 32.01, 48.19, \n",
    "            32.92, 37.53, 35.61, 49.8, 35.55, 38.98, 32.59, 48.98, 35.02, 23.97, \n",
    "            27.55, 31.84, 41.39, 24.61, 31.27, 24.94, 49.23, 39.81, 48.12, 21.91]\n",
    "index = 0\n",
    "index2 = 0\n",
    "cs = []\n",
    "\n",
    "while index < len(radiuses) - 1:\n",
    "    num = radiuses[index]\n",
    "    circum = find_circumference(num)\n",
    "    cs.append(circum)\n",
    "    index += 1\n",
    "    \n",
    "num_max = cs[index2]\n",
    "rad = cs[index2]\n",
    "while index2 < len(cs):\n",
    "    number = cs[index2]\n",
    "    if number > num_max:\n",
    "        num_max = number\n",
    "        rad = radiuses[index2]\n",
    "    index2 += 1\n",
    "    \n",
    "print(num_max)\n",
    "print(rad)"
   ]
  },
  {
   "cell_type": "markdown",
   "id": "silver-aerospace",
   "metadata": {},
   "source": [
    "5. （难，选做）Jason, Sophie, Tony, Yunzi 四个人的身高分别为: 150, 125, 130, 146 (单位均为厘米),请编写一个方法使其能够完成：将这四个人的身高数据按照从大到小的顺序排列。对创建的这个方法的要求如下：\n",
    "\n",
    "    (hard, optional) The heights of the four classmates(Jason, Sophie, Tony, and Yunzi) are 150, 125, 130, and 146 (unit: cm). Please implement a method to sort the heights data in a descending order. Here are the requirements for the method you will implement:\n",
    "    \n",
    "   - 方法名已给出: `sort_height`. The method name is given: `sort_height`.\n",
    "   - 该方法接受一个列表型变量参数，该列表型变量的长度可以不限定为本题的4（4代表4个小朋友的身高数据）The method receives one list argument, the length of which is not limited by 4 (4 represents 4 classmates) in this question.\n",
    "   - 该方法返回一个列表型变量，其元素是按照从大到小的顺序排列。 The method returns a new list variable, the element of which is sorted in a descending order.\n",
    "   \n",
    "   你仅需要编写这个方法实现部分，调用以及验证你写的方法的代码已经给出，你应该不要更改它。\n",
    "   \n",
    "   You only need to write code to implement this mehtod. Codes for running and testing it are already provided which you should not modify.\n",
    "   \n",
    "   **提示**:对于题中给出的升高数据，其正确排序后的结果应该是:[150, 146, 130, 125]\n",
    "   \n",
    "   **Hint**: the correct sorted heights for this 4 classmates should be:[150, 146, 130, 125]"
   ]
  },
  {
   "cell_type": "code",
   "execution_count": 16,
   "id": "tired-insert",
   "metadata": {},
   "outputs": [],
   "source": [
    "# 1. complete implementing the method 完成本单元格代码对方法的实现\n",
    "# 2. invoke the following 3 cells (include this cell) 依次调用所有三个单元格代码\n",
    "# 3. Observe the output of the third cell  观察最后一个单元格代码的输出\n",
    "#    if Test Stats: 5 passed, 0 failed, 5 tested. \n",
    "#        then your implementation of the method passed the test. 通过测试\n",
    "#    else \n",
    "#        back to this cell to debug your code 返回次单元格修改你的代码\n",
    "#        goto step2 again 返回第2步\n",
    "\n",
    "def sort_height(arg):\n",
    "    sorted_data = arg\n",
    "    \n",
    "    # TODO: add your code here to complete\n",
    "    index = 0\n",
    "    index2 = 0\n",
    "    num_max = 0\n",
    "    a = []\n",
    "    while index < len(sorted_data):\n",
    "        while index2 < len(sorted_data):\n",
    "            num = sorted_data[index2]\n",
    "            if num > num_max:\n",
    "                num_max = num\n",
    "            index2 += 1\n",
    "        index2 = 0\n",
    "        a.append(num_max)\n",
    "        sorted_data.remove(num_max)\n",
    "        num_max = 0\n",
    "        index += 1\n",
    "    return a"
   ]
  },
  {
   "cell_type": "code",
   "execution_count": 17,
   "id": "homeless-physics",
   "metadata": {},
   "outputs": [],
   "source": [
    "# this is method to test the method that a student wrote.\n",
    "# do not modify any part in this cell.\n",
    "# 这个方法是用来测试学生编写的排序方法\n",
    "# 不要修改本单元格任何代码\n",
    "\n",
    "def test_method(sorted_heights):\n",
    "    i, n = 0, len(sorted_heights)\n",
    "    test_passed = True\n",
    "    if n <= 1:\n",
    "        pass\n",
    "    else:\n",
    "        while i < len(sorted_heights)-1:\n",
    "            if sorted_heights[i] < sorted_heights[i+1]:\n",
    "                test_passed = False\n",
    "                break\n",
    "            i += 1\n",
    "    return test_passed, i"
   ]
  },
  {
   "cell_type": "code",
   "execution_count": 18,
   "id": "binding-reach",
   "metadata": {},
   "outputs": [
    {
     "name": "stdout",
     "output_type": "stream",
     "text": [
      "test 1 >>:\n",
      " passed\n",
      "test 2 >>:\n",
      " passed\n",
      "test 3 >>:\n",
      " passed\n",
      "test 4 >>:\n",
      " passed\n",
      "test 5 >>:\n",
      " passed\n",
      "\n",
      "Test Stats: 5 passed, 0 failed, 5 tested.\n"
     ]
    }
   ],
   "source": [
    "# don't modify any part in this cell\n",
    "# 不要修改本单元格任何代码\n",
    "test_data = [\n",
    "    [150, 125, 130, 146],\n",
    "    [],\n",
    "    [150],\n",
    "    [150, 125, 127, 153, 192],\n",
    "    [10, 9, 8, 7, 6, 5, 4, 3, 2, 1, 0]\n",
    "]\n",
    "\n",
    "n_passed, n_failed = 0, 0\n",
    "\n",
    "for i, heights in enumerate(test_data):\n",
    "    print(\"test {} >>:\".format(i+1))\n",
    "    student_result = sort_height(heights)\n",
    "    test_result, i = test_method(student_result)\n",
    "    if test_result:\n",
    "        n_passed += 1\n",
    "        print(\" passed\")\n",
    "    else:\n",
    "        n_failed += 1\n",
    "        print(\" original data: {}\".format(heights))\n",
    "        print(\" sorted by student: {}\".format(student_result))\n",
    "        print(\" error at index {}\".format(i), end = \",\")\n",
    "        print(\" where {} < {}\".format(student_result[i], student_result[i+1]))\n",
    "        \n",
    "print(\"\\nTest Stats: {} passed, {} failed, {} tested.\"\\\n",
    "      .format(n_passed, n_failed, n_passed + n_failed))"
   ]
  },
  {
   "cell_type": "code",
   "execution_count": null,
   "id": "disturbed-ordering",
   "metadata": {},
   "outputs": [],
   "source": []
  }
 ],
 "metadata": {
  "kernelspec": {
   "display_name": "Python 3",
   "language": "python",
   "name": "python3"
  },
  "language_info": {
   "codemirror_mode": {
    "name": "ipython",
    "version": 3
   },
   "file_extension": ".py",
   "mimetype": "text/x-python",
   "name": "python",
   "nbconvert_exporter": "python",
   "pygments_lexer": "ipython3",
   "version": "3.8.10"
  }
 },
 "nbformat": 4,
 "nbformat_minor": 5
}
