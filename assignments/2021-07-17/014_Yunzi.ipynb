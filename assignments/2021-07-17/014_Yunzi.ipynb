{
 "cells": [
  {
   "cell_type": "markdown",
   "id": "relative-location",
   "metadata": {},
   "source": [
    "## 第14讲 在数轴上标记不同的数"
   ]
  },
  {
   "cell_type": "markdown",
   "id": "d12f05dd",
   "metadata": {},
   "source": [
    "### Problem 问题描述"
   ]
  },
  {
   "cell_type": "markdown",
   "id": "c7cd1f0b-8266-49f3-a77e-806bec2c40ce",
   "metadata": {},
   "source": [
    "执行下面代码单元格中的代码绘制一个数轴。在数轴上找到列表变量`nums`里每一个数（元素）对应的点在数轴上的位置，然后用另一个列表变量`colors`里相应位置的字符串表示的颜色来标记每一个点。结果如图所示。\n",
    "\n",
    "```python\n",
    "nums = [-4.5, -2.0, 0, 1.5, 3.5, 5.0]\n",
    "colors = [\"orange\", \"yellow\", \"black\", \"red\",  \"green\", \"blue\"]\n",
    "```\n",
    "\n",
    "<img src=\"figures/L014_mark_points_on_axis.png\" width=\"600px\"/>\n",
    "\n",
    "绘制数轴的代码如下："
   ]
  },
  {
   "cell_type": "code",
   "execution_count": 1,
   "id": "42240cd5-87c0-4e2d-983f-b2e90e98c0dd",
   "metadata": {},
   "outputs": [],
   "source": [
    "# 绘制数轴的代码如下：\n",
    "from turtle import setup, reset, pu, pd, bye, left, right, fd, bk, screensize\n",
    "from turtle import goto, seth, write, ht, st, home\n",
    "\n",
    "\n",
    "width, height = 600, 400   # 窗口的宽度和高度（单位为：像素）\n",
    "setup(width, height, 0, 0)\n",
    "\n",
    "\n",
    "origin = (0, 0)            # 原点的位置\n",
    "padding = 20               # 数轴端点距离绘图区边界距离\n",
    "max_x = width/2 - padding  # x轴最大值\n",
    "show_arrow = True          # 是否显示箭头\n",
    "mark_line_length = 10      # 刻度线高度\n",
    "text_offset = 20           # 坐标值距离坐标线的距离\n",
    "\n",
    "mark_degree = 90           # 坐标刻度与坐标轴夹角\n",
    "arrow_length = 10          # 箭头长度\n",
    "arrow_degree = 30          # 箭头与坐标轴夹角\n",
    "delta_x = 1    "
   ]
  },
  {
   "cell_type": "code",
   "execution_count": 2,
   "id": "34363dea-fbf3-40a5-8cc0-74c1261e001e",
   "metadata": {},
   "outputs": [],
   "source": [
    "SCALE = 50                # 刻度线间距，比例尺\n",
    "reset()\n",
    "min_x = -1 * max_x\n",
    "mark_minor_length = 6\n",
    "mark_minor_interval = 5\n",
    "# draw line\n",
    "pu()       # 提起画笔，暂停绘图\n",
    "home()     # Move turtle to the origin – coordinates (0,0) 移动小海龟至初始位置\n",
    "           # and set its heading to its start-orientation  并设置朝向为初始朝向\n",
    "goto(min_x, 0)  # go to the left end of the line  移动海龟到坐标轴直线的最左端\n",
    "pd()       # 落下画笔，准备绘图\n",
    "goto(max_x, 0)  # go to the right end of the line 移动海龟到坐标轴直线的最右段\n",
    "\n",
    "# draw mark 绘制刻度线\n",
    "cur_x = min_x                                \n",
    "while cur_x <= max_x:\n",
    "    if cur_x % mark_minor_interval == 0:\n",
    "        pu()\n",
    "        goto(cur_x, 0)\n",
    "        pd()\n",
    "        if cur_x % SCALE == 0:\n",
    "            goto(cur_x, mark_line_length)         # 绘制刻度线\n",
    "        \n",
    "            pu()  \n",
    "            text_pos_x = cur_x\n",
    "            if cur_x == 0:\n",
    "                text_pos_x = cur_x + 10\n",
    "            goto(text_pos_x, -text_offset)\n",
    "            pd()\n",
    "            text = str(cur_x//SCALE)\n",
    "            write(text, align=\"center\")      # 书写刻度值\n",
    "\n",
    "        elif cur_x - min_x > max_x % SCALE and max_x - cur_x > max_x % SCALE:\n",
    "            goto(cur_x, mark_minor_length)\n",
    "        \n",
    "        \n",
    "    cur_x += delta_x\n",
    "    \n",
    "pu()\n",
    "goto(cur_x, -text_offset)\n",
    "write(\"x\", align=\"center\", font=(\"Times New Roman\", 10, \"italic\"))\n",
    "if show_arrow:\n",
    "    # draw arrow\n",
    "    arrow_x, arrow_y = max_x - 10, -5\n",
    "    pu()\n",
    "    goto(max_x, 0)\n",
    "    pd()\n",
    "    goto(arrow_x, arrow_y)\n",
    "    pu()\n",
    "    goto(max_x, 0)\n",
    "    pd()\n",
    "    goto(arrow_x, -arrow_y)\n",
    "\n",
    "ht()"
   ]
  },
  {
   "cell_type": "markdown",
   "id": "animated-batch",
   "metadata": {},
   "source": [
    "### Math Background 数学背景\n",
    "\n",
    "1. 比例的概念"
   ]
  },
  {
   "cell_type": "markdown",
   "id": "sorted-furniture",
   "metadata": {
    "heading_collapsed": true
   },
   "source": [
    "### Prerequisites 预备知识"
   ]
  },
  {
   "cell_type": "markdown",
   "id": "ac3f3f62-7bb0-4f00-9a4e-4085b96c14dd",
   "metadata": {
    "tags": []
   },
   "source": [
    "#### 1. 理解比例的概念\n",
    "\n",
    "一个人行走的速度不变，那么这个人行走的距离和时间成一定的比例，速度就是这个比例常数。"
   ]
  },
  {
   "cell_type": "code",
   "execution_count": 3,
   "id": "647c4843-fe94-4525-bc2a-25c1b9c2f1c7",
   "metadata": {},
   "outputs": [
    {
     "name": "stdout",
     "output_type": "stream",
     "text": [
      "when speed is 5 m/s, distance is 50 meters after 10 seconds\n"
     ]
    }
   ],
   "source": [
    "speed = 5                    # 速度 \n",
    "time = 10                    # 时间 \n",
    "distance = speed * time      # 距离 \n",
    "print(\"when speed is {} m/s, distance is {} meters after {} seconds\".\n",
    "      format(speed, distance, time))"
   ]
  },
  {
   "cell_type": "markdown",
   "id": "7407ac57-1a31-430b-bb40-950f102ddfea",
   "metadata": {},
   "source": [
    "一个圆的周长和它的直径成一定的比例，这個比例是一个固定的值，大约为3.14。"
   ]
  },
  {
   "cell_type": "code",
   "execution_count": 4,
   "id": "be8e17c1-12d7-41b8-8886-44fd69d3c9a4",
   "metadata": {},
   "outputs": [
    {
     "name": "stdout",
     "output_type": "stream",
     "text": [
      "a circle's perimeter is 31.400000000000002 if its diameter is 10\n"
     ]
    }
   ],
   "source": [
    "pi = 3.14                    # PI \n",
    "diameter = 10                # 直径\n",
    "perimeter = pi * diameter    # 周长\n",
    "print(\"a circle's perimeter is {} if its diameter is {}\".\\\n",
    "      format(perimeter, diameter))"
   ]
  },
  {
   "cell_type": "markdown",
   "id": "045ab795-31aa-4b7c-afd1-b6295697aaa2",
   "metadata": {},
   "source": [
    "在turtle的画布里画数轴，如果选择比例尺为50，也就是数轴上相邻两个整数的距离是50个计算机像素的长度，这个比例尺是人为设置的一个比例。"
   ]
  },
  {
   "cell_type": "code",
   "execution_count": 5,
   "id": "4bf6c08e-90d5-446b-94fc-1562535353f2",
   "metadata": {},
   "outputs": [
    {
     "name": "stdout",
     "output_type": "stream",
     "text": [
      "when scale is 50, number 1 is 50 pixels right to the 0 point\n"
     ]
    }
   ],
   "source": [
    "SCALE = 50                   # scale\n",
    "num = 1                      # value on the axis\n",
    "should_move = num * SCALE    # pixels need to move\n",
    "print(\"when scale is {}, number {} is {} pixels right to the 0 point\".\\\n",
    "      format(SCALE, num, should_move))"
   ]
  },
  {
   "cell_type": "markdown",
   "id": "6a88e2fa-ddf4-4263-a6e4-ea8ddbf62687",
   "metadata": {},
   "source": [
    "#### 2. 创建方法完成标记避免重复代码\n",
    "\n",
    "数一数：本讲绘制数轴的代码一共有多少行？\n",
    "\n",
    "想一想：如果经常要绘制一个数轴，是不是每一次都要重写一边绘制数轴的代码？ 有没有更加简便的方法？\n",
    "\n",
    "可以把绘制数轴的方法打包形成一个方法，今后在需要绘制数轴的时候就可以直接调用这个方法\n",
    "```python\n",
    "def draw_axis():   # define a method with the name: draw_axis\n",
    "                   # 定义一个名字为 draw_axis的方法\n",
    "    #\n",
    "    # write code here to implement what this method will do\n",
    "    # 编写代码来实现这个方法讲将要作的事情\n",
    "    #\n",
    "    \n",
    "    return # the end of the method 结束方法\n",
    "\n",
    "```\n",
    "\n",
    "例如我们可以把绘制数轴的工作写在一个方法里。下面的代码完整的定义和实现了`draw_axis`这个方法："
   ]
  },
  {
   "cell_type": "code",
   "execution_count": 6,
   "id": "88725964-ba43-4fa9-b1b5-6cb21391c620",
   "metadata": {},
   "outputs": [],
   "source": [
    "def draw_axis():    \n",
    "    width = 600 \n",
    "    height = 400\n",
    "    padding = 20 \n",
    "    mark_line_length = 10\n",
    "    show_arrow = True\n",
    "    text_offset = 20 \n",
    "    arrow_length = 10 \n",
    "    arrow_degree = 30\n",
    "\n",
    "    delta_x = 1  \n",
    "    max_x = width/2 - padding  # x轴最大值\n",
    "    min_x = -1 * max_x\n",
    "    mark_minor_length = 6\n",
    "    mark_minor_interval = 5\n",
    "    reset()\n",
    "    # draw line\n",
    "    pu()       # 提起画笔，暂停绘图\n",
    "    home()     # Move turtle to the origin – coordinates (0,0) 移动小海龟至初始位置\n",
    "               # and set its heading to its start-orientation  并设置朝向为初始朝向\n",
    "    goto(min_x, 0)  # go to the left end of the line  移动海龟到坐标轴直线的最左端\n",
    "    pd()       # 落下画笔，准备绘图\n",
    "    goto(max_x, 0)  # go to the right end of the line 移动海龟到坐标轴直线的最右段\n",
    "\n",
    "    # draw mark 绘制刻度线\n",
    "    cur_x = min_x                                \n",
    "    while cur_x <= max_x:\n",
    "        if cur_x % mark_minor_interval == 0:\n",
    "            pu()\n",
    "            goto(cur_x, 0)\n",
    "            pd()\n",
    "            if cur_x % SCALE == 0:\n",
    "                goto(cur_x, mark_line_length)         # 绘制刻度线\n",
    "\n",
    "                pu()  \n",
    "                text_pos_x = cur_x\n",
    "                if cur_x == 0:\n",
    "                    text_pos_x = cur_x + 10\n",
    "                goto(text_pos_x, -text_offset)\n",
    "                pd()\n",
    "                text = str(cur_x//SCALE)\n",
    "                write(text, align=\"center\")      # 书写刻度值\n",
    "\n",
    "            elif cur_x - min_x > max_x % SCALE and max_x - cur_x > max_x % SCALE:\n",
    "                goto(cur_x, mark_minor_length)\n",
    "\n",
    "\n",
    "        cur_x += delta_x\n",
    "\n",
    "    pu()\n",
    "    goto(cur_x, -text_offset)\n",
    "    write(\"x\", align=\"center\", font=(\"Times New Roman\", 10, \"italic\"))\n",
    "    if show_arrow:\n",
    "        # draw arrow\n",
    "        arrow_x, arrow_y = max_x - 10, -5\n",
    "        pu()\n",
    "        goto(max_x, 0)\n",
    "        pd()\n",
    "        goto(arrow_x, arrow_y)\n",
    "        pu()\n",
    "        goto(max_x, 0)\n",
    "        pd()\n",
    "        goto(arrow_x, -arrow_y)\n",
    "\n",
    "    ht()\n",
    "    return"
   ]
  },
  {
   "cell_type": "markdown",
   "id": "55ff3f44-14a3-4ddc-b131-564f5b3dfeed",
   "metadata": {},
   "source": [
    "有了这个方法，就可以执行下面的代码来绘制一个数轴"
   ]
  },
  {
   "cell_type": "code",
   "execution_count": 7,
   "id": "9ddc7d02-6aff-4e20-899e-2923eead2994",
   "metadata": {},
   "outputs": [],
   "source": [
    "reset()\n",
    "draw_axis()"
   ]
  },
  {
   "cell_type": "markdown",
   "id": "c85ed6a8-f8cd-450d-b68d-a030f9f3e537",
   "metadata": {},
   "source": [
    "#### 3. 创建可以接受参数的方法\n",
    "\n",
    "可以考虑让一个方法接受不同的数据来完成类似但不完全相同的功能。回想以下`print`方法在接受不同的字符串时，会打印出相应不同的字符串内容。"
   ]
  },
  {
   "cell_type": "code",
   "execution_count": 8,
   "id": "0da9f8f6-e892-4525-948b-0934f931fea8",
   "metadata": {},
   "outputs": [
    {
     "name": "stdout",
     "output_type": "stream",
     "text": [
      "print is a method\n",
      "print method receives different strings, and print it out.\n"
     ]
    }
   ],
   "source": [
    "print(\"print is a method\")\n",
    "print(\"print method receives different strings, and print it out.\")"
   ]
  },
  {
   "cell_type": "markdown",
   "id": "43c354fb-1f6d-4416-9f6a-127ca7cb5638",
   "metadata": {},
   "source": [
    "可以在定义一个方法时由编写这个方法的人规定这个方法能够接受怎样的的数据，以及这些数据如何改变这个方法的输出。例如，我们在标记一个点的时候，点的位置可以是不同的，标记点的大小和颜色也可以是不同的，可以把这些能够改变的数据设为方法接受的参数，借此来达到类似但不完全相同的方法执行结果。\n",
    "\n",
    "下面的代码给出了如何定义能够接受参数的方法：\n",
    "```python\n",
    "def mark(x, size, color, scale): # mark is the name of the method 是方法名\n",
    "    '''\n",
    "    mark a number in an axis\n",
    "    params:\n",
    "      x: the number needed to be marked\n",
    "      size: marker size\n",
    "      color: marker color\n",
    "      scale: the scale used to draw axis (define the position of a number in pixel)\n",
    "    returns: None\n",
    "    '''\n",
    "    #\n",
    "    # write code here to implement what this method will do\n",
    "    # 编写代码来实现这个方法讲将要作的事情\n",
    "    #\n",
    "    \n",
    "    return # the end of the method 结束方法\n",
    "    #\n",
    "```\n",
    "\n",
    "在执行这个方法时，需要给这个方法指定各个参数的值，像下面这样：\n",
    "```python\n",
    "mark(3, 5, \"blue\", 50)  # 他表示要在数轴上的3的位置，用大小为5，颜色为'blue'的标记点标记。\n",
    "                        # 同时scale设定为50，表示数字3在绘图区中央右侧3*50个像素的地方。\n",
    "```"
   ]
  },
  {
   "cell_type": "markdown",
   "id": "f4ad6b1f-2cf4-45f8-9684-8c5b2860d2f0",
   "metadata": {},
   "source": [
    "#### 4. 用不同的颜色和大小的圆作标记"
   ]
  },
  {
   "cell_type": "code",
   "execution_count": 9,
   "id": "9b97b8ab-5afe-45cd-97cd-bcd894b22703",
   "metadata": {},
   "outputs": [],
   "source": [
    "from turtle import pen, dot"
   ]
  },
  {
   "cell_type": "code",
   "execution_count": 10,
   "id": "7e2b6119-19d4-4123-aaa5-ac7bc9542f66",
   "metadata": {},
   "outputs": [
    {
     "data": {
      "text/plain": [
       "{'shown': True,\n",
       " 'pendown': True,\n",
       " 'pencolor': 'black',\n",
       " 'fillcolor': 'black',\n",
       " 'pensize': 1,\n",
       " 'speed': 3,\n",
       " 'resizemode': 'noresize',\n",
       " 'stretchfactor': (1.0, 1.0),\n",
       " 'shearfactor': 0.0,\n",
       " 'outline': 1,\n",
       " 'tilt': 0.0}"
      ]
     },
     "execution_count": 10,
     "metadata": {},
     "output_type": "execute_result"
    }
   ],
   "source": [
    "reset()\n",
    "pen()          # get settings for current pen 拿到当前画笔的各种配置"
   ]
  },
  {
   "cell_type": "code",
   "execution_count": 11,
   "id": "71f78af6-3e8b-4886-829d-2b3931acc3cc",
   "metadata": {},
   "outputs": [],
   "source": [
    "reset()\n",
    "pu()\n",
    "ht()\n",
    "goto(220, 0)\n",
    "dot(10, \"red\")\n",
    "goto(0, 0)\n",
    "dot(30, \"blue\")\n"
   ]
  },
  {
   "cell_type": "markdown",
   "id": "248b7235-5219-4f65-b655-733a4f454194",
   "metadata": {},
   "source": [
    "#### 5. 练习 \n",
    "\n",
    "在turtle画布上线让海龟停留在数轴上的坐标值为`1`的起始位置，把这个位置用大小为5，颜色为“blue”的点做一个标记；确保画笔处于落下状态记录海龟行走轨迹，让海龟任意行走一段距离至新的位置，对应的x值为`3`，用大小为2，颜色为\"black\"的画笔绘制这段线段，并用大小为5，颜色为\"red\"的点标记这个海龟目前的位置，最后隐藏海龟。\n",
    "\n",
    "为了标记海龟在数轴上的一个位置，我们需要知道哪些信息？需要执行哪些步骤？\n",
    "\n",
    "答案：我们需要事先知道这个位置代表的数字是多少以及用多大和什么颜色的点来标记这个位置。因为不知道先前海龟的画笔是提起还是落下，我们需要依次执行如下的步骤：\n",
    "  1. 第一步时使用pu()方法将画笔提起；\n",
    "  2. 第二步是将海龟移动到要求标记的位置；\n",
    "  3. 第三步是使用pd()落下画笔；\n",
    "  4. 第四步是使用dot()方法在新的位置上作标记，标记的时候事先选好标记点的大小和颜色。"
   ]
  },
  {
   "cell_type": "code",
   "execution_count": 12,
   "id": "28f7e2dc-fafa-43af-a8d5-0001e5020020",
   "metadata": {},
   "outputs": [],
   "source": [
    "reset()\n",
    "draw_axis()\n",
    "num = 1\n",
    "pu()\n",
    "goto(SCALE*num, 0)\n",
    "pd()\n",
    "dot(5, \"blue\")\n",
    "pd()\n",
    "num = 3\n",
    "pen(pensize=5, pencolor=\"black\")\n",
    "goto(SCALE*num, 0)\n",
    "dot(5, \"red\")\n",
    "ht()"
   ]
  },
  {
   "cell_type": "markdown",
   "id": "d55f37d9",
   "metadata": {},
   "source": [
    "### Solution 编程求解"
   ]
  },
  {
   "cell_type": "markdown",
   "id": "85100ff6-3d31-4160-8104-dff41924a030",
   "metadata": {},
   "source": [
    "创建下面的方法完成在指定位置标记一个点的工作"
   ]
  },
  {
   "cell_type": "code",
   "execution_count": 13,
   "id": "6d7e416a-d838-4ca2-96e8-51bf6bde1079",
   "metadata": {},
   "outputs": [],
   "source": [
    "from turtle import dot, pen\n",
    "def mark(x, size, color, scale): # mark是方法名，\n",
    "                                 # x, size, color, scale在方法内部使用的可以变化的参数\n",
    "    pos = x * scale       # 计算要移动到的新位置\n",
    "    pu()                  # 提起画笔\n",
    "    goto(pos, 0)          # 移动到新位置\n",
    "    pd()                  # 落下画笔\n",
    "    dot(size, color)      # 用给定的size和color标记\n",
    "    pu()                  # 提起画笔\n",
    "    goto(pos, 10)         # 移动到当前位置上方10个像素\n",
    "    pd()                  # 再次落下画笔\n",
    "    pen(pencolor=color, pensize=\"5\")  # 设置画笔的颜色和线的粗细\n",
    "    write(str(x), align=\"center\", font=(\"Arial\", 10, \"normal\")) # 当前位置书写数字"
   ]
  },
  {
   "cell_type": "code",
   "execution_count": 14,
   "id": "322c2119-844f-4f3e-aad1-d99cfcd1523b",
   "metadata": {},
   "outputs": [],
   "source": [
    "nums = [-4.5, -2, 0, 1.5, 3.5, 5.0]\n",
    "colors = [\"orange\", \"yellow\", \"black\", \"red\",  \"green\", \"blue\"]\n",
    "\n",
    "reset()                               # 重置画布\n",
    "draw_axis()              # 调用执行绘制数轴的方法\n",
    "i, n_dot = 0, len(nums)              \n",
    "while i < n_dot:\n",
    "    mark(nums[i], 5, colors[i], SCALE) # 调用执行新创建的方法\n",
    "    i += 1"
   ]
  },
  {
   "cell_type": "markdown",
   "id": "latest-contamination",
   "metadata": {},
   "source": [
    "### Summary 知识点小结"
   ]
  },
  {
   "cell_type": "markdown",
   "id": "afb3f674",
   "metadata": {},
   "source": [
    "1. 根据约定，通常用大小字母作为名称的变量，其值一般不变化。例如本讲中的SCALE\n",
    "2. 学习`pen()`和`dot()`方法\n",
    "3. 理解掌握创建一个方法的格式和意义，开始学习创建自己的方法"
   ]
  },
  {
   "cell_type": "markdown",
   "id": "bizarre-assurance",
   "metadata": {},
   "source": [
    "### 计算机小知识"
   ]
  },
  {
   "cell_type": "markdown",
   "id": "92100f08",
   "metadata": {},
   "source": [
    "暂缺"
   ]
  },
  {
   "cell_type": "markdown",
   "id": "digital-consensus",
   "metadata": {
    "heading_collapsed": true
   },
   "source": [
    "### Assignments 作业"
   ]
  },
  {
   "cell_type": "markdown",
   "id": "db4a8ff4-982f-41d4-8d4c-21f61f19efcc",
   "metadata": {},
   "source": [
    "1. **Mass** is the amount of \"matter\" in an object (though \"matter\" may be difficult to define), whereas **weight** is the force exerted on an object by gravity. In other words, an object with a mass of 1.0 kilogram weighs approximately 9.81 newtons on the surface of the Earth, which is its mass multiplied by the gravitational field strength. The object's weight is less on Mars, where gravity is weaker, and more on Saturn, and very small in space when far from any significant source of gravity, but it always has the same mass.\n",
    "\n",
    "   **质量**是物体中“物质”的数量（尽管“物质”可能难以定义），而**重量**是地球吸引物体的力量，也就是重力作用在物体上的力，。 换句话说，一个质量为 1.0 千克的物体在地球表面上的重量约为 9.81 牛顿，即其质量乘以引力场强度。该物体的重量在火星上较小，那里的重力较弱，而在土星上则较大，并且在远离任何重要重力源的空间中非常小，但它的质量始终相同。\n",
    "\n",
    "   Answer the following question step by step: \n",
    "   依次回答下面的问题：\n",
    "   1. Measure what the mass yourself is on a scales at home with the help of your Mom or Dad, observe the reading of the scale and the unit. 在爸爸妈妈的帮助下用家里的秤称一称自己，看看上面的读数是多少，单位是什么。\n",
    "   2. Then write a program to calculate how many forces you are attracted by Earth. 编程计算你受到的地球的吸引力有多少牛顿。\n"
   ]
  },
  {
   "cell_type": "code",
   "execution_count": 38,
   "id": "3d628e31-ab1c-42f6-a07a-0b208cab0cab",
   "metadata": {},
   "outputs": [
    {
     "name": "stdout",
     "output_type": "stream",
     "text": [
      "请输入你的体重:73\n",
      "你受到的地球的吸引力有715.88545牛顿。\n"
     ]
    }
   ],
   "source": [
    "m_str = input(\"请输入你的体重:\")\n",
    "m = int(m_str)\n",
    "g = 9.80665\n",
    "n = m * g\n",
    "print(\"你受到的地球的吸引力有{}牛顿。\".format(n))"
   ]
  },
  {
   "cell_type": "markdown",
   "id": "controversial-sleeve",
   "metadata": {
    "hidden": true
   },
   "source": [
    "2. Write a method to compare two numbers and tell which number is larger. Requirements:\n",
    "   创建一个方法用来判断给定的两个数哪一个大。要求：\n",
    "   1. the method name is `larger_num`, 方法名为`larger_num`;\n",
    "   2. the method accepts two parameters, the names of which is up to you. 方法接受两个整数型参数，参数名可自由设定\n",
    "   3. within the method, compare the values of the two parameters, output the larger one with the format of \"XX is larger.\". If two numbers are euqal output: \"Two numbers are equal.\" 在方法内部，比较这两个数，打印输出较大的那个数，如果两个数相等则打印输出“两个数相等”。\n",
    "\n",
    "   Run and test your methods 5 time with the following values of parameters. Observe if your method's output is the same as the output provided below. 创建好这个方法后，依次用下面的两组数来测试你创建的方法，观察输出的结果是否与预期的结果相同：\n",
    "   \n",
    "  | num1        |     num2     |     Output         |\n",
    "  | ----------- |:------------:| ------------------:|\n",
    "  | 12          |     12       | Two numbers are equal. |\n",
    "  | 18          |     14       | 18 is larger.     |\n",
    "  | 0           |     4        | 4 is larger.      |\n",
    "  | 1091        |     0        | 1091 is larger.    |\n",
    "  | 0           |     0        | Two numbers are equal.    |\n",
    "  "
   ]
  },
  {
   "cell_type": "code",
   "execution_count": 23,
   "id": "eb1ff60a-be13-4835-8a6a-c45b53188782",
   "metadata": {},
   "outputs": [],
   "source": [
    "def larger_num(num1, num2):\n",
    "    num1_str = input(\"请输入 num1:\")\n",
    "    num1 = int(num1_str)\n",
    "    num2_str = input(\"请输入 num2:\")\n",
    "    num2 = int(num2_str)\n",
    "    if num1 > num2:\n",
    "        print(\"num1大于num2。\")\n",
    "    if num1 == num2:\n",
    "        print(\"num1等于num2。\")\n",
    "    if num1 < num2:\n",
    "        print(\"num1小于num2。\")\n",
    "        return"
   ]
  },
  {
   "cell_type": "code",
   "execution_count": 17,
   "id": "255d4253-9b41-4200-a300-83837aeb1da2",
   "metadata": {},
   "outputs": [
    {
     "name": "stdout",
     "output_type": "stream",
     "text": [
      "请输入 num1:12\n",
      "请输入 num2:12\n",
      "num1等于num2。\n",
      "请输入 num1:18\n",
      "请输入 num2:14\n",
      "num1大于num2。\n",
      "请输入 num1:0\n",
      "请输入 num2:4\n",
      "num1小于num2。\n",
      "请输入 num1:1091\n",
      "请输入 num2:0\n",
      "num1大于num2。\n",
      "请输入 num1:0\n",
      "请输入 num2:0\n",
      "num1等于num2。\n"
     ]
    }
   ],
   "source": [
    "larger_num(12, 12)\n",
    "larger_num(18, 14)\n",
    "larger_num(0, 4)\n",
    "larger_num(1091, 0)\n",
    "larger_num(0, 0)"
   ]
  },
  {
   "cell_type": "markdown",
   "id": "c005dc00-e969-4263-9760-07363d0312d3",
   "metadata": {
    "hidden": true
   },
   "source": [
    " 3. Write method to calculate and print out the sum of two integers that you input from the keyboard. Requirements: \n",
    "   创建一个方法来计算两个整数的和并输出结果。要求:\n",
    "   1. 方法名为`get_sum`，该方法不接受任何参数。\n",
    "   2. within the method, write codes to receive two number strings from keyboard 你的代码能够从键盘接受两个数字字符串\n",
    "   3. within the method, convert these two strings to two Integer numbers, assign them to two variables. The names of the two Integer variables can be decided as you like 将这两个字符串转化为两个整数型数字并将其赋值给两个变量，变量名可以根据你自己的喜好来设定\n",
    "   4. within the method, calculate the sum of the two Integer variables, assign the result to a new Variable named `result` 计算这两个整型变量的和，并将结果赋值给一个叫`result`的变量\n",
    "   5. within the method, print out the type of the `result` variable 打印输出变量`result`的数据类型\n",
    "   6. within the method, display the result on screen with a readable sentence. 打印输出一个通俗易懂的句子来显示你计算得到的结果\n",
    "  \n",
    "  Run and test 5 times your method. Each time when inputs from keyboard are required, provide the following values for the two numbers. Observe whether the output of the method is the same as the sum for each test 运行5次你创建的方法，分别使用下表中的num1,num2的值作为键盘输入运行并测试你的代码共计5次，观察结果是否与对应的Sum一样\n",
    "  \n",
    "  **Your should run the method on all test data; that being said, you may not change the codes between each run.** \n",
    "  **你应该用同样的代码来运行所有的测试数据，也就是说，你不应该在两次测试间隙修改你的代码**\n",
    "  \n",
    "  \n",
    "  | num1        |     num2     |     Output         |\n",
    "  | ----------- |:------------:| ------------------:|\n",
    "  | 12          |     12       | The sum is 24      |\n",
    "  | 18          |     14       | The sum is 32      |\n",
    "  | 0           |     4        | The sum is 4       |\n",
    "  | 1091        |     0        | The sum is 1091    |\n",
    "  | 0           |     0        | The sum is 0       |\n",
    "  "
   ]
  },
  {
   "cell_type": "code",
   "execution_count": 25,
   "id": "aafc6a05-9561-4fd2-8392-d9986f1f4c52",
   "metadata": {},
   "outputs": [],
   "source": [
    "def get_sum(num1, num2):\n",
    "    num1_str = input(\"请输入 num1:\")\n",
    "    num1 = int(num1_str)\n",
    "    num2_str = input(\"请输入 num2:\")\n",
    "    num2 = int(num2_str)\n",
    "    result = num1 + num2\n",
    "    print(\"这两个整数的和是：\", num1 + num2)\n",
    "    return"
   ]
  },
  {
   "cell_type": "code",
   "execution_count": 18,
   "id": "b192630b-4df5-4c9c-9cb8-267730644b38",
   "metadata": {},
   "outputs": [
    {
     "name": "stdout",
     "output_type": "stream",
     "text": [
      "请输入 num1:12\n",
      "请输入 num2:12\n",
      "这两个整数的和是： 24\n",
      "请输入 num1:18\n",
      "请输入 num2:14\n",
      "这两个整数的和是： 32\n",
      "请输入 num1:0\n",
      "请输入 num2:4\n",
      "这两个整数的和是： 4\n",
      "请输入 num1:1091\n",
      "请输入 num2:0\n",
      "这两个整数的和是： 1091\n",
      "请输入 num1:0\n",
      "请输入 num2:0\n",
      "这两个整数的和是： 0\n"
     ]
    }
   ],
   "source": [
    "get_sum(12, 12)\n",
    "get_sum(18, 14)\n",
    "get_sum(0, 4)\n",
    "get_sum(1091, 0)\n",
    "get_sum(0, 0)"
   ]
  },
  {
   "cell_type": "markdown",
   "id": "4d487bc2-e61d-491c-805c-be923a3c3b41",
   "metadata": {},
   "source": [
    "4. Write a method to calculate and print out the perimeter and area of a rectagle with the length and width provided by keyboard. 创建一个方法来计算一个长方形的周长和面积，确定这个长方形的长和宽从键盘输入得到。Requirements: 要求:\n",
    "   1. 方法名为`perimeter_and_area`, 该方法接受两个整数型参数，试图代表矩形的两个边长。\n",
    "   2. within the method, verify whether two parameters provided can form a rectangle or not. If not, print out \"Not a rectangle\"; otherwise, continue the following steps\n",
    "   3. within the method, calculate the perimiter and the area of this rectangle, assign the result to `perimeter` and `area` variable 计算这个长方形的周长和面积，并将结果分别赋值给名为`perimeter`和`area`的变量\n",
    "   4. within the method, print out the value of the `perimeter`和`area` variables 打印输出变量`perimeter`和`area`的结果\n",
    "\n",
    "   Run and test 5 times your method with the following inputs (length, width) for each test. Observe whether the results are equal to the Perimeter and Area for each test 分别使用下表中的length和width的值作为键盘输入运行并测试你的代码共计5次，观察结果是否与对应的Perimiter和Area值一样\n",
    "  \n",
    "   **Your should run the method on all test data.** \n",
    "   **你应该用同样的代码来运行所有的测试数据。**\n",
    "  \n",
    "  \n",
    "  \n",
    "  | length    |  width     |        output                   |\n",
    "  | --------- |:----------:|:-------------------------------:|\n",
    "  |   12      |   12       | perimeter is: 48, area is: 144  |\n",
    "  |   18      |   14       | perimeter is: 48, area is: 144  |\n",
    "  |   0       |   4        |      Not a rectangle           |\n",
    "  |   1091    |   0        |      Not a rectangle           |\n",
    "  |   0       |   0        |      Not a rectangle           |"
   ]
  },
  {
   "cell_type": "code",
   "execution_count": 1,
   "id": "5d394304-8c5e-4881-9e2d-d64e354448a4",
   "metadata": {},
   "outputs": [],
   "source": [
    "def perimeter_and_area(num1, num2):\n",
    "    num1_str = input(\"请输入 num1:\")\n",
    "    num1 = int(num1_str)\n",
    "    num2_str = input(\"请输入 num2:\")\n",
    "    num2 = int(num2_str)\n",
    "    perimeter = (num1 + num2) * 2\n",
    "    area = num1 * num2\n",
    "    print(\"这个长方形的周长是{}，面积是{}。\".format(perimeter, area))\n",
    "    return"
   ]
  },
  {
   "cell_type": "code",
   "execution_count": null,
   "id": "991dcc45-ae16-4571-8ce7-115b1a7d7d0d",
   "metadata": {},
   "outputs": [],
   "source": [
    "perimeter_and_area(12, 12)\n",
    "perimeter_and_area(18, 14)\n",
    "perimeter_and_area(0, 4)\n",
    "perimeter_and_area(1091, 0)\n",
    "perimeter_and_area(0, 0)"
   ]
  },
  {
   "cell_type": "code",
   "execution_count": null,
   "id": "51c1840a",
   "metadata": {},
   "outputs": [],
   "source": []
  }
 ],
 "metadata": {
  "kernelspec": {
   "display_name": "Python 3",
   "language": "python",
   "name": "python3"
  },
  "language_info": {
   "codemirror_mode": {
    "name": "ipython",
    "version": 3
   },
   "file_extension": ".py",
   "mimetype": "text/x-python",
   "name": "python",
   "nbconvert_exporter": "python",
   "pygments_lexer": "ipython3",
   "version": "3.8.10"
  }
 },
 "nbformat": 4,
 "nbformat_minor": 5
}
