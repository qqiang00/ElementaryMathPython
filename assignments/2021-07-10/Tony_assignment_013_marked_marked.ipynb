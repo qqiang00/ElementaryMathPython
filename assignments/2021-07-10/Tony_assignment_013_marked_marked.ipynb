{
 "cells": [
  {
   "cell_type": "markdown",
   "id": "excited-prerequisite",
   "metadata": {},
   "source": [
    "## 第13讲 认识和绘制数轴"
   ]
  },
  {
   "cell_type": "markdown",
   "id": "technical-burlington",
   "metadata": {},
   "source": [
    "### Problem 问题描述"
   ]
  },
  {
   "cell_type": "markdown",
   "id": "productive-procedure",
   "metadata": {},
   "source": [
    "在长宽分别为600和400像素的绘图区域绘制如下图所示的一条标有刻度、水平方向的带箭头指示方向的数轴。其中数轴的左右两端距离绘图区域左右边界均为20像素，相邻刻度的距离为50像素，刻度线的长度为20像素，表示刻度线数值的数字在刻度线的正下方且底端距离数轴20个像素。\n",
    "\n",
    "<img src=\"figures/L013_axis.png\" width=\"600px\"/>"
   ]
  },
  {
   "cell_type": "markdown",
   "id": "distributed-equilibrium",
   "metadata": {},
   "source": [
    "### Math Background 数学背景\n",
    "\n",
    "1. 数轴的构成\n",
    "2. 数轴原点，正负数在数轴轴上的位置比较\n",
    "3. 每一个数在数轴上都有一个点相对应，两个数的差在数轴上表示的是这两个数对应的两个点之间的距离。"
   ]
  },
  {
   "cell_type": "markdown",
   "id": "administrative-laugh",
   "metadata": {
    "heading_collapsed": true
   },
   "source": [
    "### Prerequisites 预备知识"
   ]
  },
  {
   "cell_type": "markdown",
   "id": "sonic-collins",
   "metadata": {},
   "source": [
    "#### 1. `write`方法可以在绘图区书写字符串"
   ]
  },
  {
   "cell_type": "code",
   "execution_count": null,
   "id": "instructional-begin",
   "metadata": {},
   "outputs": [],
   "source": [
    "from turtle import setup, reset, pu, pd, bye, left, right, fd, bk, screensize\n",
    "from turtle import goto, seth, write, ht, st, home\n",
    "width, height = 600, 400   # 窗口的宽度和高度（单位为：像素）\n",
    "setup(width, height, 0, 0)"
   ]
  },
  {
   "cell_type": "markdown",
   "id": "missing-handling",
   "metadata": {},
   "source": [
    "比较提起画笔和放下画笔时下面的代码执行的效果有什么不同"
   ]
  },
  {
   "cell_type": "code",
   "execution_count": null,
   "id": "dressed-refrigerator",
   "metadata": {},
   "outputs": [],
   "source": [
    "reset()\n",
    "pu()\n",
    "write(\"Sophie\", move=True, align=\"center\")"
   ]
  },
  {
   "cell_type": "code",
   "execution_count": null,
   "id": "proper-encoding",
   "metadata": {},
   "outputs": [],
   "source": [
    "reset()\n",
    "pd()\n",
    "write(\"Tony\", move=True, align=\"center\", font=(\"Arial\", 30, \"normal\"))"
   ]
  },
  {
   "cell_type": "code",
   "execution_count": null,
   "id": "expanded-tomato",
   "metadata": {},
   "outputs": [],
   "source": [
    "reset()\n",
    "pd()\n",
    "write(\"Sophie\", move=False, align=\"center\", font=(\"Arial\", 30, \"normal\"))"
   ]
  },
  {
   "cell_type": "markdown",
   "id": "southeast-memorial",
   "metadata": {},
   "source": [
    "#### 2. `tuple`元组数据类型\n",
    "\n",
    "pos_x 是一个tuple类型的变量"
   ]
  },
  {
   "cell_type": "code",
   "execution_count": null,
   "id": "serial-response",
   "metadata": {},
   "outputs": [],
   "source": [
    "pos_x = (30, 20)       # pos_x 是一个tuple类型的变量"
   ]
  },
  {
   "cell_type": "markdown",
   "id": "affected-seating",
   "metadata": {},
   "source": [
    "可以使用索引来获取tuple类型变量的元素"
   ]
  },
  {
   "cell_type": "code",
   "execution_count": null,
   "id": "reasonable-opportunity",
   "metadata": {},
   "outputs": [],
   "source": [
    "print(pos_x[0], pos_x[1])      # 可以使用索引来获取tuple类型变量的元素"
   ]
  },
  {
   "cell_type": "markdown",
   "id": "alternate-reverse",
   "metadata": {},
   "source": [
    "可以使用len()方法来获取tuple类型数据的元素个数"
   ]
  },
  {
   "cell_type": "code",
   "execution_count": null,
   "id": "regulated-corps",
   "metadata": {},
   "outputs": [],
   "source": [
    "len(pos_x)                     # 可以使用len()方法来获取tuple类型数据的元素个数"
   ]
  },
  {
   "cell_type": "markdown",
   "id": "sealed-gateway",
   "metadata": {},
   "source": [
    " 不可以更改tuple类型变量里某一个元素的值。例如执行下面的代码将发生错误\n",
    " ```python\n",
    "pos_x[0] = 40\n",
    "```\n",
    "\n",
    "```text\n",
    "---------------------------------------------------------------------------\n",
    "TypeError                                 Traceback (most recent call last)\n",
    "<ipython-input-24-d852e9299be9> in <module>\n",
    "----> 1 pos_x[0] = 40                  \n",
    "\n",
    "TypeError: 'tuple' object does not support item assignment\n",
    "```"
   ]
  },
  {
   "cell_type": "code",
   "execution_count": null,
   "id": "significant-glossary",
   "metadata": {},
   "outputs": [],
   "source": [
    "# pos_x[0] = 40                  # 不可以更改tuple类型变量里某一个元素的值"
   ]
  },
  {
   "cell_type": "markdown",
   "id": "ahead-peter",
   "metadata": {},
   "source": [
    "可以给整个tuple类型变量赋予一个新的tuple值"
   ]
  },
  {
   "cell_type": "code",
   "execution_count": null,
   "id": "urban-return",
   "metadata": {},
   "outputs": [],
   "source": [
    "pos_x = (50, 30)               # 可以给整个tuple类型变量赋予一个新的tuple值"
   ]
  },
  {
   "cell_type": "markdown",
   "id": "exterior-copper",
   "metadata": {},
   "source": [
    "`tuple`型的变量里的元素的类型可以互不相同"
   ]
  },
  {
   "cell_type": "code",
   "execution_count": null,
   "id": "nasty-platform",
   "metadata": {},
   "outputs": [],
   "source": [
    "sophie = (\"Sophie\", 11, \"Female\", \"Grade4\") # tuple型的变量里的元素的类型可以互不相同\n",
    "print(sophie)"
   ]
  },
  {
   "cell_type": "markdown",
   "id": "partial-criticism",
   "metadata": {},
   "source": [
    "#### 3. 理解同一个方法在接受不同的参数值时执行结果的比较\n",
    "\n",
    "对比输出的文字和海龟位置，观察下面的两条`write`方法在接受不同的`align`值或时效果有什么不同。"
   ]
  },
  {
   "cell_type": "code",
   "execution_count": null,
   "id": "insured-undergraduate",
   "metadata": {},
   "outputs": [],
   "source": [
    "reset()\n",
    "pu()\n",
    "write(\"Jason\", align=\"left\", font=(\"Arial\", 30, \"normal\"))"
   ]
  },
  {
   "cell_type": "code",
   "execution_count": null,
   "id": "canadian-quarter",
   "metadata": {},
   "outputs": [],
   "source": [
    "reset()\n",
    "pu()\n",
    "write(\"Jason\", align=\"center\", font=(\"Arial\", 30, \"normal\"))"
   ]
  },
  {
   "cell_type": "markdown",
   "id": "aboriginal-rogers",
   "metadata": {},
   "source": [
    "#### 4. 对比输出的文字，观察下面的几条`write`方法在接受不同的`font`值时效果有什么不同。\n",
    "\n",
    "参数`font`是一个`tuple`类型的变量"
   ]
  },
  {
   "cell_type": "code",
   "execution_count": null,
   "id": "identical-shape",
   "metadata": {},
   "outputs": [],
   "source": [
    "reset()\n",
    "pu()\n",
    "write(\"Jason\", font=(\"Arial\", 30, \"normal\"))"
   ]
  },
  {
   "cell_type": "code",
   "execution_count": null,
   "id": "political-islam",
   "metadata": {},
   "outputs": [],
   "source": [
    "reset()\n",
    "pu()\n",
    "write(\"Jason\", font=(\"Arial\", 50, \"normal\"))"
   ]
  },
  {
   "cell_type": "code",
   "execution_count": null,
   "id": "peaceful-creativity",
   "metadata": {},
   "outputs": [],
   "source": [
    "reset()\n",
    "pu()\n",
    "write(\"Jason\", font=(\"Times New Roman\", 50, \"normal\"))"
   ]
  },
  {
   "cell_type": "code",
   "execution_count": null,
   "id": "human-cologne",
   "metadata": {},
   "outputs": [],
   "source": [
    "reset()\n",
    "pu()\n",
    "write(\"Jason\", font=(\"Arial\", 50, \"italic\"))"
   ]
  },
  {
   "cell_type": "code",
   "execution_count": null,
   "id": "colonial-causing",
   "metadata": {},
   "outputs": [],
   "source": [
    "# no reset() here 这里没有reset()\n",
    "pu()\n",
    "bk(200)    # 后退200\n",
    "write(\"Jason\", font=(\"Arial\", 50, \"underline\"))"
   ]
  },
  {
   "cell_type": "markdown",
   "id": "parental-words",
   "metadata": {},
   "source": [
    "#### 5. 区分`()`何时表示元组数据何时表示方法接受的参数\n",
    "\n",
    "看`()`前面有没有紧跟一个方法名, 下面这行代码声明了一个元组型变量，变量名为`jason`。\n",
    "\n",
    "```python\n",
    "jason = (\"Jason\", (\"Arial\", 50, \"Italic\")) # \n",
    "```\n",
    "\n",
    "下面这行代码是在执行一个名为`jason`的方法\n",
    "```python\n",
    "jason(\"Jason\", (\"Arial\", 50, \"Italic\"))    \n",
    "```"
   ]
  },
  {
   "cell_type": "markdown",
   "id": "complete-smooth",
   "metadata": {},
   "source": [
    "#### 6. 练习\n",
    "\n",
    "编写下面的代码，更改变量`name`的值为你的名字，观察代码执行的效果。"
   ]
  },
  {
   "cell_type": "code",
   "execution_count": null,
   "id": "congressional-radiation",
   "metadata": {},
   "outputs": [],
   "source": [
    "# 如果没有导入绘图库相关方法以及执行setup方法，请解除下面几行代码的注释\n",
    "# from turtle import setup, reset, pu, pd, bye, left, right, fd, bk, screensize\n",
    "# from turtle import goto, seth, write, ht, st, home\n",
    "# width, height = 600, 400   # 窗口的宽度和高度（单位为：像素）\n",
    "# setup(600, 400, 0, 0)\n",
    "reset()\n",
    "pu()\n",
    "ht()\n",
    "name = \"Qiang\"\n",
    "text = \"My name is {}.\\nNice to meet you.\".format(name)\n",
    "write(text, align=\"center\", font=(\"Arial\", 30, \"italic\"))"
   ]
  },
  {
   "cell_type": "markdown",
   "id": "hidden-adobe",
   "metadata": {},
   "source": [
    "### Solution 编程求解"
   ]
  },
  {
   "cell_type": "code",
   "execution_count": null,
   "id": "starting-haven",
   "metadata": {},
   "outputs": [],
   "source": [
    "from turtle import setup, reset, pu, pd, bye, left, right, fd, bk, screensize\n",
    "from turtle import goto, seth, write, ht, st, home\n",
    "width, height = 600, 400   # 窗口的宽度和高度（单位为：像素）\n",
    "setup(width, height, 0, 0)"
   ]
  },
  {
   "cell_type": "code",
   "execution_count": null,
   "id": "plain-juvenile",
   "metadata": {},
   "outputs": [],
   "source": [
    "origin = (0, 0)            # 原点的位置\n",
    "padding = 20               # 数轴端点距离绘图区边界距离\n",
    "max_x = width/2 - padding  # x轴最大值\n",
    "show_arrow = True          # 是否显示箭头\n",
    "mark_interval = 50         # 刻度线间距\n",
    "mark_line_length = 10           # 刻度线高度\n",
    "text_offset = 20           # 坐标值距离坐标线的距离\n",
    "\n",
    "mark_degree = 90           # 坐标刻度与坐标轴夹角\n",
    "arrow_length = 10          # 箭头长度\n",
    "arrow_degree = 30          # 箭头与坐标轴夹角\n",
    "delta_x = 1                # 每次坐标值变化的幅度"
   ]
  },
  {
   "cell_type": "code",
   "execution_count": null,
   "id": "social-astronomy",
   "metadata": {},
   "outputs": [],
   "source": [
    "# Solution1: without using goto() 第一种方法：不使用goto()\n",
    "from turtle import setup, reset, pu, pd, bye, left, right, fd, bk, screensize, seth, write, ht, st, home\n",
    "reset()    # 重置绘图区\n",
    "min_x = -1 * max_x   # 根据坐标轴允许的最大值，获取该坐标轴允许的最小值\n",
    "pu()       # 提起画笔，暂停绘图\n",
    "home()     # Move turtle to the origin – coordinates (0,0) 移动小海龟至初始位置\n",
    "           # and set its heading to its start-orientation  并设置朝向为初始朝向\n",
    "bk(max_x)  # backward max_x\n",
    "pd()       # 落下画笔，准备绘图\n",
    "\n",
    "# draw mark 绘制刻度线\n",
    "cur_x, last_x = min_x, min_x          # 海龟当前位置和最近一次绘图后停留的位置\n",
    "while cur_x <= max_x:                 # 循环\n",
    "    if cur_x % mark_interval == 0:      # 海龟的位置是相邻刻度间隔长度的整数倍\n",
    "        length_move = cur_x - last_x    # 计算海龟应该前进的长度\n",
    "        pd()                            # 落下画笔，准备绘图\n",
    "        fd(length_move)                 # 海龟前进（绘制一小段）\n",
    "        left(mark_degree)               # 向左转90度，海龟朝正上方，准备绘制刻度线\n",
    "        fd(mark_line_length)                 # 绘制刻度线\n",
    "        pu()                            # 把画笔提起暂停绘图\n",
    "        bk(mark_line_length + text_offset)   # 后退（向下）一段长度\n",
    "        text = str(int(cur_x // mark_interval))\n",
    "                                        # 准备刻度值字符串（由整型数据转换而来）\n",
    "        write(text, align=\"center\")     # 在当前位置以居中的形式书写文字字符串\n",
    "        fd(text_offset)                 # 前进（向上）一小段长度\n",
    "        right(mark_degree)              # 向右转90度，海龟次朝向右侧\n",
    "        last_x = cur_x                  # 记录海龟当前位置，为下次绘图的起点\n",
    "        \n",
    "    cur_x += delta_x                  # 当前位置增加一小段长度（个单位距离：像素）\n",
    "\n",
    "pd()                                  # 落下画笔，准备绘制\n",
    "fd(max_x - last_x)                    # 绘制最后一个刻度线到数轴最大x值这一小段\n",
    "\n",
    "if show_arrow:                        # 如果需要绘制箭头\n",
    "    right(arrow_degree)                 # 向右转，海龟朝向右侧偏下\n",
    "    bk(arrow_length)                    # 后退一定距离，绘制箭头一边\n",
    "    fd(arrow_length)                    # 回到max_x位置\n",
    "    left(arrow_degree * 2)              # 向左转，海龟朝向右侧偏上\n",
    "    bk(arrow_length)                    # 后退一定距离，绘制箭头另一边\n",
    "\n",
    "ht()                                  # 隐藏海龟                            "
   ]
  },
  {
   "cell_type": "code",
   "execution_count": null,
   "id": "residential-teach",
   "metadata": {},
   "outputs": [],
   "source": [
    "bye()"
   ]
  },
  {
   "cell_type": "code",
   "execution_count": null,
   "id": "contained-ticket",
   "metadata": {},
   "outputs": [],
   "source": [
    "# Solution2: using goto() 第二种方法：使用goto()\n",
    "from turtle import setup, reset, pu, pd, bye, left, right, fd, bk, screensize, seth, write, ht, st, home\n",
    "reset()\n",
    "min_x = -1 * max_x\n",
    "\n",
    "# draw line\n",
    "pu()       # 提起画笔，暂停绘图\n",
    "home  ()   # Move turtle to the origin – coordinates (0,0) 移动小海龟至初始位置\n",
    "           # and set its heading to its start-orientation  并设置朝向为初始朝向\n",
    "goto(min_x, 0)  # go to the left end of the line  移动海龟到坐标轴直线的最左端\n",
    "pd()       # 落下画笔，准备绘图\n",
    "goto(max_x, 0)  # go to the right end of the line 移动海龟到坐标轴直线的最右段\n",
    "\n",
    "# draw mark 绘制刻度线\n",
    "cur_x = min_x                                \n",
    "while cur_x <= max_x:\n",
    "    if cur_x % mark_interval == 0:\n",
    "        pu()\n",
    "        goto(cur_x, 0)\n",
    "        pd()\n",
    "        goto(cur_x, mark_line_length)         # 绘制刻度线\n",
    "        \n",
    "        pu()                             \n",
    "        goto(cur_x, -text_offset)\n",
    "        pd()\n",
    "        text = str(int(cur_x//mark_interval))\n",
    "        write(text, align=\"center\")      # 书写刻度值\n",
    "        \n",
    "    cur_x += delta_x\n",
    "    \n",
    "if show_arrow:\n",
    "    arrow_x, arrow_y = max_x - 10, -5\n",
    "    pu()\n",
    "    goto(max_x, 0)\n",
    "    pd()\n",
    "    goto(arrow_x, arrow_y)\n",
    "    pu()\n",
    "    goto(max_x, 0)\n",
    "    pd()\n",
    "    goto(arrow_x, -arrow_y)\n",
    "\n",
    "ht()"
   ]
  },
  {
   "cell_type": "code",
   "execution_count": null,
   "id": "checked-timber",
   "metadata": {},
   "outputs": [],
   "source": [
    "bye()"
   ]
  },
  {
   "cell_type": "code",
   "execution_count": null,
   "id": "recreational-framing",
   "metadata": {},
   "outputs": [],
   "source": [
    "# when I run both Solution 1 and Solution 2 it says theres a problem and it just made a blank paper so I --\n",
    "# did not do much "
   ]
  },
  {
   "cell_type": "markdown",
   "id": "municipal-nurse",
   "metadata": {},
   "source": [
    "### Summary 知识点小结"
   ]
  },
  {
   "cell_type": "markdown",
   "id": "monetary-hughes",
   "metadata": {},
   "source": [
    "1. turtle绘图库里的新方法`write`可以在绘图区海龟的当前位置书写文字；\n",
    "2. 新的数据类型：`tuple`元组数据类型，它与`list`数据类型非常类似，但也有区别；\n",
    "3. 在执行一个方法时，方法名后面的小括号`()`内可以接受一个或多个不同的数据，这些数据成为该方法可以接受的参数。方法接受的参数的值不一样，执行该方法最后得到的结果也通常不同；\n",
    "4. 复习格式化字符串的`format`方法；\n",
    "5. 复习`while`循环，并将`while`过程中循环应用到绘图过程中；\n",
    "6. 复习操作符`//`和`%`。"
   ]
  },
  {
   "cell_type": "markdown",
   "id": "rubber-briefing",
   "metadata": {},
   "source": [
    "### 计算机小知识"
   ]
  },
  {
   "cell_type": "markdown",
   "id": "passing-scott",
   "metadata": {},
   "source": [
    "像素，字体`font`"
   ]
  },
  {
   "cell_type": "markdown",
   "id": "removed-tender",
   "metadata": {
    "heading_collapsed": true
   },
   "source": [
    "### Assignments 作业"
   ]
  },
  {
   "cell_type": "markdown",
   "id": "exotic-cartridge",
   "metadata": {},
   "source": [
    "1. 仔细阅读本讲示例中给出的两种绘制坐标轴方法，回答下面的问题： \n",
    "   Read carefully the two solutions demonstrated in the lecture, answer the following questions:\n",
    "   1. 给第二种方法中的每一行代码添加注释 \n",
    "      Add comments for every code line of the second solution to tell the meaning of each code line.\n",
    "   2. 比较并说出两种方法在绘制坐标轴的差别\n",
    "      Compare the two solutions and tell the difference of them in drawing the axis.\n",
    "   3. 两种方法绘制出来的箭头一模一样吗？为什么？ \n",
    "      Are the arrows drawn by the two solutoins exactly same? why?"
   ]
  },
  {
   "cell_type": "code",
   "execution_count": null,
   "id": "seven-chemical",
   "metadata": {},
   "outputs": [],
   "source": [
    "# For A I just worte the meaning of each line even though I can't run it"
   ]
  },
  {
   "cell_type": "markdown",
   "id": "supported-guyana",
   "metadata": {},
   "source": [
    "（在这里写上你的回答 Write your answer here）\n",
    "A\n",
    "\n",
    "# Solution2: using goto() 第二种方法：使用goto()\n",
    "from turtle import setup, reset, pu, pd, bye, left, right, fd, bk, screensize, seth, write, ht, st, home\n",
    "reset()     #reset\n",
    "min_x = -1 * max_x #let min_x = -1 and let min_x x max_x\n",
    "\n",
    "# draw line\n",
    "pu()       # pen up\n",
    "home  ()   # Move turtle to the origin – coordinates (0,0) 移动小海龟至初始位置\n",
    "           # and set its heading to its start-orientation  并设置朝向为初始朝向\n",
    "goto(min_x, 0)  # go to the left end of the line  移动海龟到坐标轴直线的最左端\n",
    "pd()       # pen down\n",
    "goto(max_x, 0)  # go to the right end of the line 移动海龟到坐标轴直线的最右段\n",
    "\n",
    "# draw mark 绘制刻度线\n",
    "cur_x = min_x   #let the name cur_x =min_x                             \n",
    "while cur_x <= max_x: #while cur_x is smaller than max_x\n",
    "    if cur_x % mark_interval == 0:  #if cur_x / mark_interval and remainged 0\n",
    "        pu()    #pen up\n",
    "        goto(cur_x, 0) #let the turtle go to cur_x, 0\n",
    "        pd() #pen down\n",
    "        goto(cur_x, mark_line_length)         # 绘制刻度线\n",
    "        \n",
    "        pu()     #pen up   \n",
    "        goto(cur_x, -text_offset) #let the turtle go to cur_x, -text_offset\n",
    "        pd()     #pen down\n",
    "        text = str(int(cur_x//mark_interval)) #text = str(int(cur_x//mark_interval))\n",
    "        write(text, align=\"center\")      # 书写刻度值\n",
    "        \n",
    "    cur_x += delta_x #let cur_x + delta_x \n",
    "    \n",
    "if show_arrow:      #if show_arrow\n",
    "    arrow_x, arrow_y = max_x - 10, -5    # let  arrow_x, arrow_y = max_x - 10, -5 \n",
    "    pu()      #pen up\n",
    "    goto(max_x, 0) #let the turtle go to max_x, 0\n",
    "    pd() #pen down\n",
    "    goto(arrow_x, arrow_y)  #let the turtle go to arrow_x, arrow_y\n",
    "    pu() #pen up\n",
    "    goto(max_x, 0)  #let the turtle go to max_x, 0\n",
    "    pd()  #pen down\n",
    "    goto(arrow_x, -arrow_y) #let the turtle go to arrow_x, -arrow_y\n",
    "\n",
    "ht() #hide turtle\n",
    "\n",
    "\n",
    "\n",
    "B\n",
    "Solution 1 \n",
    "Draws a little line then it go's up then draw a little line then it go's up again until its done drawing the axis\n",
    "perfectly so it will go until it reaches the end\n",
    "\n",
    "Solution 2s\n",
    "Draws a long line then go back to the back of the line then it draws the things that go up that is calculated \n",
    "\n",
    "\n",
    "\n",
    "C\n",
    "Yes it looks the same because whenever the turtle draw it looks the same even though they use different codes and draw it at a different time"
   ]
  },
  {
   "cell_type": "markdown",
   "id": "associate-deviation",
   "metadata": {
    "hidden": true
   },
   "source": [
    "2. 编程绘制如下图所示的水平坐标轴。所用的刻度间距、刻度线长度等排版指标军与本讲示例相同。其中，与本讲示例不同的是： \n",
    "   By programming, draw horizontal axies as the following figure shows. Most of the parameters, including the marker interval, marker length, etc, have the same value as in the lecture. However, there are still some significant differences, which are:\n",
    "   1. 将表示0刻度坐标值的文字“0”的位置向右移动距离10，刻度线仍保持与相邻的刻度线等距离不变； Move the text \"0\", which indicating the value 0 on the axis, 10 pixels right to its original position. Keep the mark line where it is.\n",
    "   2. 在箭头的下方添加字母\"x\"，字母\"x\"使用的字体是\"Arial\",字号大小为10，风格为“斜体”。Add a letter \"x\" under the arrow at the right end of the axis, use font \"Arial\", size 10, and \"italic\" to write the \"x\"\n",
    "   3. 当调整绘图区域的大小为宽为800像素时，你的代码应该仅需要更新绘图区的宽度而不改变其他地方就能直接调整数轴长度和刻度的显示。When the width of drawing area changed to 800 pixels from 600 pixels, your codes should only need to change the value of `width` while keep others unchanged to draw the axis with new length and markers.\n",
    "\n",
    "<img src=\"figures/L013_assignment1.png\" />\n",
    "\n",
    "<img src=\"figures/L013_assignment1_2.png\" />"
   ]
  },
  {
   "cell_type": "code",
   "execution_count": 1,
   "id": "previous-tonight",
   "metadata": {},
   "outputs": [],
   "source": [
    "from turtle import setup, reset, pu, pd, bye, left, right, fd, bk, screensize\n",
    "from turtle import goto, seth, write, ht, st, home\n",
    "width, height = 800, 400   # 窗口的宽度和高度（单位为：像素）\n",
    "setup(width, height, 0, 0)\n",
    "origin = (0, 0)            # 原点的位置\n",
    "padding = 20               # 数轴端点距离绘图区边界距离\n",
    "max_x = width/2 - padding  # x轴最大值\n",
    "show_arrow = True          # 是否显示箭头\n",
    "mark_interval = 50         # 刻度线间距\n",
    "mark_line_length = 10      # 刻度线高度\n",
    "text_offset = 20           # 坐标值距离坐标线的距离\n",
    "\n",
    "mark_degree = 90           # 坐标刻度与坐标轴夹角\n",
    "arrow_length = 10          # 箭头长度\n",
    "arrow_degree = 30          # 箭头与坐标轴夹角\n",
    "delta_x = 1       "
   ]
  },
  {
   "cell_type": "code",
   "execution_count": 3,
   "id": "descending-ridge",
   "metadata": {},
   "outputs": [],
   "source": [
    "bye()"
   ]
  },
  {
   "cell_type": "code",
   "execution_count": 4,
   "id": "serial-transition",
   "metadata": {
    "hidden": true
   },
   "outputs": [
    {
     "ename": "Terminator",
     "evalue": "",
     "output_type": "error",
     "traceback": [
      "\u001b[0;31m---------------------------------------------------------------------------\u001b[0m",
      "\u001b[0;31mTerminator\u001b[0m                                Traceback (most recent call last)",
      "\u001b[0;32m<ipython-input-4-beb41ac81b2d>\u001b[0m in \u001b[0;36m<module>\u001b[0;34m\u001b[0m\n\u001b[1;32m      2\u001b[0m \u001b[0;32mfrom\u001b[0m \u001b[0mturtle\u001b[0m \u001b[0;32mimport\u001b[0m \u001b[0mgoto\u001b[0m\u001b[0;34m,\u001b[0m \u001b[0mseth\u001b[0m\u001b[0;34m,\u001b[0m \u001b[0mwrite\u001b[0m\u001b[0;34m,\u001b[0m \u001b[0mht\u001b[0m\u001b[0;34m,\u001b[0m \u001b[0mst\u001b[0m\u001b[0;34m,\u001b[0m \u001b[0mhome\u001b[0m\u001b[0;34m\u001b[0m\u001b[0;34m\u001b[0m\u001b[0m\n\u001b[1;32m      3\u001b[0m \u001b[0mwidth\u001b[0m\u001b[0;34m,\u001b[0m \u001b[0mheight\u001b[0m \u001b[0;34m=\u001b[0m \u001b[0;36m800\u001b[0m\u001b[0;34m,\u001b[0m \u001b[0;36m400\u001b[0m   \u001b[0;31m# 窗口的宽度和高度（单位为：像素）\u001b[0m\u001b[0;34m\u001b[0m\u001b[0;34m\u001b[0m\u001b[0m\n\u001b[0;32m----> 4\u001b[0;31m \u001b[0mreset\u001b[0m\u001b[0;34m(\u001b[0m\u001b[0;34m)\u001b[0m\u001b[0;34m\u001b[0m\u001b[0;34m\u001b[0m\u001b[0m\n\u001b[0m\u001b[1;32m      5\u001b[0m \u001b[0msetup\u001b[0m\u001b[0;34m(\u001b[0m\u001b[0mwidth\u001b[0m\u001b[0;34m,\u001b[0m \u001b[0mheight\u001b[0m\u001b[0;34m,\u001b[0m \u001b[0;36m0\u001b[0m\u001b[0;34m,\u001b[0m \u001b[0;36m0\u001b[0m\u001b[0;34m)\u001b[0m\u001b[0;34m\u001b[0m\u001b[0;34m\u001b[0m\u001b[0m\n\u001b[1;32m      6\u001b[0m \u001b[0morigin\u001b[0m \u001b[0;34m=\u001b[0m \u001b[0;34m(\u001b[0m\u001b[0;36m0\u001b[0m\u001b[0;34m,\u001b[0m \u001b[0;36m0\u001b[0m\u001b[0;34m)\u001b[0m            \u001b[0;31m# 原点的位置\u001b[0m\u001b[0;34m\u001b[0m\u001b[0;34m\u001b[0m\u001b[0m\n",
      "\u001b[0;32m/usr/lib/python3.8/turtle.py\u001b[0m in \u001b[0;36mreset\u001b[0;34m()\u001b[0m\n",
      "\u001b[0;31mTerminator\u001b[0m: "
     ]
    }
   ],
   "source": [
    "from turtle import setup, reset, pu, pd, bye, left, right, fd, bk, screensize\n",
    "from turtle import goto, seth, write, ht, st, home\n",
    "width, height = 800, 400   # 窗口的宽度和高度（单位为：像素）\n",
    "reset()\n",
    "setup(width, height, 0, 0)\n",
    "origin = (0, 0)            # 原点的位置\n",
    "padding = 20               # 数轴端点距离绘图区边界距离\n",
    "max_x = width/2 - padding  # x轴最大值\n",
    "show_arrow = True          # 是否显示箭头\n",
    "mark_interval = 50         # 刻度线间距\n",
    "mark_line_length = 10      # 刻度线高度\n",
    "text_offset = 20           # 坐标值距离坐标线的距离\n",
    "\n",
    "mark_degree = 90           # 坐标刻度与坐标轴夹角\n",
    "arrow_length = 10          # 箭头长度\n",
    "arrow_degree = 30          # 箭头与坐标轴夹角\n",
    "delta_x = 1  #TODO: Add your own codes here 在这里添加你自己的代码\n",
    "\n",
    "\n",
    "ht()"
   ]
  },
  {
   "cell_type": "markdown",
   "id": "quick-motion",
   "metadata": {},
   "source": [
    "3. 编程绘制一条如下图所示的垂直方向上的坐标轴。要求：By programming, draw an ertical axis as the following figure shows. Requirement：\n",
    "\n",
    "   1. 该图所是的坐标轴基本上是把水平方向的坐标轴围绕这坐标原点向左侧旋转90度得到；\n",
    "      The axis can basically be considered as a 90 degree of anti-closewise rotation of the horizontal axis illustrated in the lecture with original zero point as the rotation center;\n",
    "   2. 大部分控制数轴风格的参数值与示例中的一样，下列除外：但是刻度线位于坐标轴的右侧，刻度值位于坐标轴的左侧。Most of the parameters controlling the style of the axis are same as introduced in the lecture, except: the marker lines are located on right side of the axis line, and the marker values are on the left side;\n",
    "   3. 隐藏表示0刻度坐标值的文字“0”以及对应的刻度线； Hide the marker line and the marker value for origin point;\n",
    "   4. 在箭头的左侧添加字母\"y\"，字母\"y\"使用的字体是\"Arial\",字号大小为10，风格为“斜体”。Add the letter \"y\" on left side of the axis end, the font for \"y\" is \"Arial\", size is 10, and style is \"italic\";\n",
    "   5. 如果绘图区的高度发生改变不再是400像素，你的代码应仅需要修改一处就能重新绘制出填满大部分（保留上下个20像素高的间隙）绘图区高度的数轴。If the height of drawing area is changed to any other value other than 400 pixels, your codes should only need to change one place in order to draw the new vertical axis that fullfill the most height of the draw area (keep 20 pixels paddings for both ends).\n",
    "\n",
    "<img src=\"figures/L013_assignment3.png\" style=\"align:center\" height=\"400px\"/>"
   ]
  },
  {
   "cell_type": "code",
   "execution_count": null,
   "id": "rubber-jordan",
   "metadata": {},
   "outputs": [],
   "source": [
    "reset()\n",
    "\n",
    "#TODO: Add your own codes here 在这里添加你自己的代码\n",
    "\n",
    "ht()"
   ]
  },
  {
   "cell_type": "markdown",
   "id": "confidential-environment",
   "metadata": {},
   "source": [
    "4. 编程绘制一条如下图所示的水平坐标轴。与本讲示例不同的是：By programming, draw a horizontal axis with major and minor marker lines as shown in the figure. Most of the parameters that control the style of the aixs remain same as introduced in the lecture, except:\n",
    "   1. 在刻度线的内部再绘制9条段的次要刻度线，这样原来相邻的两条刻度线被等间距的分为10个等分，每个等分对应的长度为5；Add 9 minor marker lines within two major marker lines so that every major marker interval is divided into 10 equal minor marker intervals, each 5 pixles length;\n",
    "   2. 与原来刻度线的宽度为10不同，次要刻度线的宽度为6； the length of the minor marker line is 6 pixels, keep the length of the major marker line 10 pixels unchanged;\n",
    "   3. (困难，可选做）在左右两侧整数刻度之外的区域**不要**绘制次要刻度线；(Difficult, Optional) Do **NOT** add minor maker lines on the parts where the position is smaller than the minimal major marker value or larger than the maximal major marker value;\n",
    "   4. 将表示0刻度坐标值的文字“0”的位置向右移动距离10，刻度线仍保持与相邻的刻度线等距离不变； Move the text \"0\", which indicating the value 0 on the axis, 10 pixels right to its original position. Keep the mark line where it is;\n",
    "   5. 在箭头的下方添加字母\"x\"，字母\"x\"使用的字体是\"Arial\",字号大小为10，风格为“斜体”。Add a letter \"x\" under the arrow at the right end of the axis, use font \"Arial\", size 10, and \"italic\" to write the \"x\";\n",
    "   6. 当调整绘图区域的大小为宽为800像素时，你的代码应该仅需要更新绘图区的宽度而不改变其他地方就能直接调整数轴长度和刻度的显示。When the width of drawing area changed to 800 pixels from 600 pixels, your codes should only need to change the value of `width` while keep others unchanged to draw the axis with new length and markers.\n",
    "   \n",
    "<img src=\"figures/L013_assignment4.png\" style=\"align:center\" height=\"400px\"/>"
   ]
  },
  {
   "cell_type": "code",
   "execution_count": null,
   "id": "assured-corps",
   "metadata": {},
   "outputs": [],
   "source": [
    "reset()\n",
    "\n",
    "#TODO: Add your own codes here 在这里添加你自己的代码\n",
    "\n",
    "ht()"
   ]
  },
  {
   "cell_type": "markdown",
   "id": "b9773ae4-a42a-448a-9dbe-a59693cb2ccf",
   "metadata": {},
   "source": [
    "<span style=\"color:#ff0000; font-size:300%\"><u>Not completed</u> </span> "
   ]
  },
  {
   "cell_type": "code",
   "execution_count": null,
   "id": "1b404a8f-3835-4c71-80c8-62b393cb1d46",
   "metadata": {},
   "outputs": [],
   "source": []
  }
 ],
 "metadata": {
  "kernelspec": {
   "display_name": "Python 3",
   "language": "python",
   "name": "python3"
  },
  "language_info": {
   "codemirror_mode": {
    "name": "ipython",
    "version": 3
   },
   "file_extension": ".py",
   "mimetype": "text/x-python",
   "name": "python",
   "nbconvert_exporter": "python",
   "pygments_lexer": "ipython3",
   "version": "3.8.10"
  }
 },
 "nbformat": 4,
 "nbformat_minor": 5
}
