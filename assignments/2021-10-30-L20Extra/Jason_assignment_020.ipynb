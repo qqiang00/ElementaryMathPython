{
 "cells": [
  {
   "cell_type": "markdown",
   "id": "suburban-generator",
   "metadata": {},
   "source": [
    "## 第20讲 线段与坐标轴的平行关系及长度"
   ]
  },
  {
   "cell_type": "markdown",
   "id": "moved-forum",
   "metadata": {},
   "source": [
    "### Problem 问题描述"
   ]
  },
  {
   "cell_type": "markdown",
   "id": "compact-chancellor",
   "metadata": {},
   "source": [
    "已知一个点在平面直角坐标系中的位置可以用一个包含2个元素的`tuple`类型的变量表示:`(x, y)`，并且连接两个点并以两点为端点可以绘制出一条线段。\n",
    "Given that the position of a point in a plane can be uniquely defined by a `tuple` variable with a length of 2: `(x, y)`, and a line can be drawn if the two points are used as endpoints.\n",
    "\n",
    "请 Please：\n",
    "1. 使用`qianglib`库提供的方法，绘制方格坐标纸，其中坐标系的原点`(0,0)`位于绘图区的最左下方，使用的`scale`值为`20`. Use the methods provided in the library `qianglib`, draw a grid coordinate system where the origin `(0, 0)` is at the bottom left of the coordinate system.\n"
   ]
  },
  {
   "cell_type": "markdown",
   "id": "authorized-lemon",
   "metadata": {},
   "source": [
    "2. 下面的5组数据中的每一组数据分别表示2个点的坐标，并对应一条线段。请绘制出对应的每一条线段，并标记每一个端点。Each of the following 5 sets of data respectively represents the coordinates of 2 points, and corresponding to a line segment. Please draw each corresponding line segment and mark each end point.\n",
    "    1. Line 1: A(5, 5), B(5, 17)\n",
    "    2. Line 2: C(12, 3), D(28, 3)\n",
    "    3. Line 3: E(10, 15), F(20, 5)\n",
    "    4. Line 4: G(20, 8), H(30, 15)\n",
    "    5. Line 5: I(15,23), J(30, 10) "
   ]
  },
  {
   "cell_type": "markdown",
   "id": "sharing-thong",
   "metadata": {},
   "source": [
    "3. 说出哪个(些)线段与坐标轴平行，哪些(个)线段与坐标轴不平行，大概说出每一条线段的长度。 Tell which line segment(s) are parallel to the coordinate axis, and which line segment(s) are not. Roughly tell the length of each line segment.\n",
    "\n",
    "   "
   ]
  },
  {
   "cell_type": "markdown",
   "id": "oriental-relay",
   "metadata": {},
   "source": [
    "\n",
    "4. 补全下面的方法判断两个点确定的线段是否与某一坐标轴平行。Complete the following method to determine whether the line segment determined by two points is parallel to either of the coordinate axises.\n",
    "```python\n",
    "   def is_parallel_to_either_axis(point1, point2):\n",
    "        result = None\n",
    "        #TODO: add your code here\n",
    "        #      添加你的代码\n",
    "        return result\n",
    "```\n"
   ]
  },
  {
   "cell_type": "markdown",
   "id": "talented-indicator",
   "metadata": {},
   "source": [
    "\n",
    "\n",
    "5. 补全下面的方法计算与某一坐标轴平行的线段的长度。 Complete the following method to calculate the length of a line segment defined by two points and parallel to an axis.\n",
    "```python\n",
    "   def line_length(point1, point2):\n",
    "        result = None\n",
    "        if is_parallel_to_either_axis(point1, point2):\n",
    "            #TODO: add your code here\n",
    "            #      添加你的代码\n",
    "        \n",
    "        return result        \n",
    "```\n",
    "\n",
    "\n",
    "6. 编写自己的代码，使用第5步完成的方法，计算图中与某一坐标轴平行的线段的长度。打印方法得到的结果并与你在第3步预估的结果比较。 Write your own code and use the method completed in step 5 to calculate the length of a line segment parallel to a certain coordinate axis in the figure. Print the result of the method and compare it with the result you estimated in step 3.\n",
    "\n",
    "\n",
    "7. 思考：如果两个点确定的线段不与任何一条坐标轴平行，如何(编程)计算这条线段的长度? Thinking: If the line segment determined by two points is not parallel to any coordinate axis, how to calculate (programmatically) the length of this line segment?"
   ]
  },
  {
   "cell_type": "code",
   "execution_count": null,
   "id": "metropolitan-completion",
   "metadata": {},
   "outputs": [],
   "source": []
  },
  {
   "cell_type": "markdown",
   "id": "blocked-headline",
   "metadata": {},
   "source": [
    "**Answer Area**"
   ]
  },
  {
   "cell_type": "markdown",
   "id": "naval-boxing",
   "metadata": {},
   "source": [
    "### Math Background 数学背景\n",
    "\n",
    "1. 线段可以用两个不同点的坐标唯一确定\n",
    "2. 判断线段与某一坐标轴平行"
   ]
  },
  {
   "cell_type": "markdown",
   "id": "soviet-distance",
   "metadata": {
    "heading_collapsed": true
   },
   "source": [
    "### Prerequisites 预备知识"
   ]
  },
  {
   "cell_type": "markdown",
   "id": "naval-setup",
   "metadata": {},
   "source": [
    "无"
   ]
  },
  {
   "cell_type": "markdown",
   "id": "gentle-toilet",
   "metadata": {},
   "source": [
    "### Solution 编程求解"
   ]
  },
  {
   "cell_type": "markdown",
   "id": "suspended-violence",
   "metadata": {},
   "source": [
    "1. "
   ]
  },
  {
   "cell_type": "code",
   "execution_count": 1,
   "id": "civil-trinity",
   "metadata": {},
   "outputs": [],
   "source": [
    "from turtle import setup, reset, pu, pd, bye, left, right, fd, bk, screensize\n",
    "from turtle import goto, seth, write, ht, st, home, dot, pen, speed\n",
    "from qianglib import prepare_paper, draw_grid, mark, lines, line, polygon, text"
   ]
  },
  {
   "cell_type": "code",
   "execution_count": 2,
   "id": "unlike-delay",
   "metadata": {},
   "outputs": [],
   "source": [
    "width, height = 800, 600\n",
    "setup(width, height, 0, 0)\n",
    "prepare_paper(width, height, scale=20, min_x=0, min_y=0, max_y=25)"
   ]
  },
  {
   "cell_type": "code",
   "execution_count": 7,
   "id": "brazilian-reputation",
   "metadata": {},
   "outputs": [],
   "source": [
    "def is_parallel_to_either_axis(point1, point2):\n",
    "    \"\"\"\n",
    "    point1 : tuple of length 2, example (10, 5)\n",
    "    point2 : tuple of length 2, ...\n",
    "    return: True / False\n",
    "    \"\"\"\n",
    "    # point1 : tuple (x, y)\n",
    "    # point2 : tuple (x, y)\n",
    "    # return: True / False\n",
    "    result = None\n",
    "    dx = point1[0] - point2[0]\n",
    "    dy = point1[1] - point2[1]\n",
    "    if dx == 0 and dy == 0:\n",
    "        result = False\n",
    "    elif dx == 0 or dy == 0:\n",
    "        result = True\n",
    "    else:\n",
    "        result = False\n",
    "    return result"
   ]
  },
  {
   "cell_type": "markdown",
   "id": "mounted-highland",
   "metadata": {},
   "source": [
    "2. "
   ]
  },
  {
   "cell_type": "code",
   "execution_count": 8,
   "id": "spanish-asset",
   "metadata": {},
   "outputs": [],
   "source": [
    "points = [(5, 5), (5, 17),\n",
    "          (12, 3), (28, 3),\n",
    "          (10, 15), (20, 5), \n",
    "          (20, 8), (30, 15),\n",
    "          (15, 23), (30, 10)\n",
    "         ]\n",
    "\n",
    "colors = [\"yellow\", \"black\", \"green\", \"red\", \"cyan\"]\n",
    "markers = \"ABCDEFGHIJ\""
   ]
  },
  {
   "cell_type": "code",
   "execution_count": 9,
   "id": "competent-tennessee",
   "metadata": {},
   "outputs": [],
   "source": [
    "for i in range(len(points)//2):\n",
    "    line(points[2*i], points[2*i+1], color=colors[i], linewidth=3)\n",
    "    for j in [2*i, 2*i+1]:\n",
    "        marker = markers[j]+str(points[j])\n",
    "        mark(points[j], marker)"
   ]
  },
  {
   "cell_type": "markdown",
   "id": "recognized-evolution",
   "metadata": {},
   "source": [
    "3. AB is parallel to Y axis; CD is parallel to X axis; all other lines are not parallel to either X or Y axis.\n",
    "\n",
    "   If a line segment is parallel to X or Y axis，the coordinate values of the two points that define the line segment follows the following rule: 如果一个线段与X或者Y轴平行，决定这个线段的两个端点的坐标值有下面的规律：\n",
    "   \n",
    "   For example 举例：\n",
    "   \n",
    "   line segment CD is parallel to X axis, C and D are endpoints with coordinate values are (12, 3) and (28, 3), respectively. The length of line segment CD can be figured out by the horizontal coordinate values, which are 12 and 28; the vertical coordinate vlues of C and D are the same.\n",
    "   \n",
    "   线段CD平行于X轴，C和D是这个线段上的两个端点，然后C的坐标是(12,3), D的坐标是(28,3)。这个线段的长度可以用CD的横坐标值来计算，他们的纵坐标值是相等的，都是3。\n",
    "   \n",
    "   line segment AB is parallel to Y axis, the horizontal coordinate values of A and B are equal to 5, their vertical coordinate values can be used to calculate the length of AB.\n",
    "   \n",
    "   AB, (5,5), (5,17) parallel to Y Axis, 横坐标值相同，都是5，纵坐标的值可以用来计算线段AB的长度。"
   ]
  },
  {
   "cell_type": "markdown",
   "id": "biblical-security",
   "metadata": {},
   "source": [
    "4. "
   ]
  },
  {
   "cell_type": "code",
   "execution_count": 3,
   "id": "thirty-knitting",
   "metadata": {},
   "outputs": [],
   "source": [
    "def is_parallel_to_either_axis(point1, point2):\n",
    "    result = None\n",
    "    dx = point1[0] - point2[0]\n",
    "    dy = point1[1] - point2[1]\n",
    "    if dx == 0 and dy == 0:\n",
    "        result = False\n",
    "    elif dx == 0 or dy == 0:\n",
    "        result = True\n",
    "    else:\n",
    "        result = False\n",
    "    return result"
   ]
  },
  {
   "cell_type": "markdown",
   "id": "middle-international",
   "metadata": {},
   "source": [
    "5."
   ]
  },
  {
   "cell_type": "code",
   "execution_count": 4,
   "id": "going-wealth",
   "metadata": {},
   "outputs": [],
   "source": [
    "def line_length(point1, point2):\n",
    "    result = None\n",
    "    if is_parallel_to_either_axis(point1, point2):\n",
    "        result = abs(point1[0] - point2[0])\n",
    "        if result == 0:\n",
    "            result = abs(point1[1] - point2[1])\n",
    "        print(\"length of line: {} to {} is {}\".format(point1, point2, result))\n",
    "    else:\n",
    "        if point1[0] == point2[0] and point1[1] == point2[1]:\n",
    "            print(\"two points are same.\")\n",
    "            result = 0 # None\n",
    "        else:\n",
    "            print(\"line: {} to {} is not parallel to either axis\".format(\n",
    "                point1, point2))\n",
    "            print(\"  I don't know how to calculate its length\")\n",
    "    return result"
   ]
  },
  {
   "cell_type": "markdown",
   "id": "matched-customs",
   "metadata": {},
   "source": [
    "6."
   ]
  },
  {
   "cell_type": "code",
   "execution_count": 12,
   "id": "empty-difficulty",
   "metadata": {},
   "outputs": [
    {
     "name": "stdout",
     "output_type": "stream",
     "text": [
      "length of line: (5, 5) to (5, 17) is 12\n",
      "length of line: (12, 3) to (28, 3) is 16\n",
      "line: (10, 15) to (20, 5) is not parallel to either axis\n",
      "  I don't know how to calculate its length\n",
      "line: (20, 8) to (30, 15) is not parallel to either axis\n",
      "  I don't know how to calculate its length\n",
      "line: (15, 23) to (30, 10) is not parallel to either axis\n",
      "  I don't know how to calculate its length\n"
     ]
    }
   ],
   "source": [
    "for i in range(len(points)//2):\n",
    "    line_length(points[2*i], points[2*i+1])"
   ]
  },
  {
   "cell_type": "markdown",
   "id": "social-clause",
   "metadata": {},
   "source": [
    "### Summary 知识点小结"
   ]
  },
  {
   "cell_type": "markdown",
   "id": "enabling-saturday",
   "metadata": {},
   "source": [
    "1. 复习tuple\n",
    "2. 复习qianglib的一些方法\n",
    "3. 复习方法的返回值\n",
    "4. 介绍方法`abs`"
   ]
  },
  {
   "cell_type": "code",
   "execution_count": 13,
   "id": "worth-egyptian",
   "metadata": {},
   "outputs": [],
   "source": [
    "def qiang_abs(x):\n",
    "    \"\"\"\n",
    "    x is a integer or decimal value\n",
    "    returns: aboslute value of x\n",
    "    \"\"\"\n",
    "    if x >= 0:\n",
    "        return x\n",
    "    else:\n",
    "        return -1 * x"
   ]
  },
  {
   "cell_type": "markdown",
   "id": "designing-newton",
   "metadata": {},
   "source": [
    "### 计算机小知识"
   ]
  },
  {
   "cell_type": "markdown",
   "id": "global-financing",
   "metadata": {},
   "source": [
    "暂缺"
   ]
  },
  {
   "cell_type": "markdown",
   "id": "stopped-greeting",
   "metadata": {
    "heading_collapsed": true
   },
   "source": [
    "### Assignments 作业"
   ]
  },
  {
   "cell_type": "markdown",
   "id": "narrow-upset",
   "metadata": {},
   "source": [
    "1. Given the coordinate values of eight points as follows: 已知八个点的坐标分别为:\n",
    "         \n",
    "       A. (5, 5)\n",
    "       B. (10, 0)\n",
    "       C. (20, 0)\n",
    "       D. (25, 5)\n",
    "       E. (25, 15)\n",
    "       F. (20, 20)\n",
    "       G. (10, 20)\n",
    "       H. (5, 15)\n",
    "   write code to tell, among **all** the line segments defined by any two points in the above eight points, which are parallel to X or Y axis, what are the lengthes of them?\n",
    "   编程求解这些点能够组成的**所有**线段中，有哪些是与坐标轴平行的，他们的长度分别是多少？"
   ]
  },
  {
   "cell_type": "code",
   "execution_count": 18,
   "id": "furnished-rolling",
   "metadata": {},
   "outputs": [
    {
     "name": "stdout",
     "output_type": "stream",
     "text": [
      "(5, 5) (10, 0)\n",
      "line: (5, 5) to (10, 0) is not parallel to either axis\n",
      "  I don't know how to calculate its length\n",
      "None False\n",
      "(5, 5) (20, 0)\n",
      "line: (5, 5) to (20, 0) is not parallel to either axis\n",
      "  I don't know how to calculate its length\n",
      "None False\n",
      "(5, 5) (25, 5)\n",
      "length of line: (5, 5) to (25, 5) is 20\n",
      "20 True\n",
      "(5, 5) (25, 15)\n",
      "line: (5, 5) to (25, 15) is not parallel to either axis\n",
      "  I don't know how to calculate its length\n",
      "None False\n",
      "(5, 5) (20, 20)\n",
      "line: (5, 5) to (20, 20) is not parallel to either axis\n",
      "  I don't know how to calculate its length\n",
      "None False\n",
      "(5, 5) (10, 20)\n",
      "line: (5, 5) to (10, 20) is not parallel to either axis\n",
      "  I don't know how to calculate its length\n",
      "None False\n",
      "(5, 5) (5, 15)\n",
      "length of line: (5, 5) to (5, 15) is 10\n",
      "10 True\n",
      "(10, 0) (20, 0)\n",
      "length of line: (10, 0) to (20, 0) is 10\n",
      "10 True\n",
      "(10, 0) (25, 5)\n",
      "line: (10, 0) to (25, 5) is not parallel to either axis\n",
      "  I don't know how to calculate its length\n",
      "None False\n",
      "(10, 0) (25, 15)\n",
      "line: (10, 0) to (25, 15) is not parallel to either axis\n",
      "  I don't know how to calculate its length\n",
      "None False\n",
      "(10, 0) (20, 20)\n",
      "line: (10, 0) to (20, 20) is not parallel to either axis\n",
      "  I don't know how to calculate its length\n",
      "None False\n",
      "(10, 0) (10, 20)\n",
      "length of line: (10, 0) to (10, 20) is 20\n",
      "20 True\n",
      "(10, 0) (5, 15)\n",
      "line: (10, 0) to (5, 15) is not parallel to either axis\n",
      "  I don't know how to calculate its length\n",
      "None False\n",
      "(20, 0) (25, 5)\n",
      "line: (20, 0) to (25, 5) is not parallel to either axis\n",
      "  I don't know how to calculate its length\n",
      "None False\n",
      "(20, 0) (25, 15)\n",
      "line: (20, 0) to (25, 15) is not parallel to either axis\n",
      "  I don't know how to calculate its length\n",
      "None False\n",
      "(20, 0) (20, 20)\n",
      "length of line: (20, 0) to (20, 20) is 20\n",
      "20 True\n",
      "(20, 0) (10, 20)\n",
      "line: (20, 0) to (10, 20) is not parallel to either axis\n",
      "  I don't know how to calculate its length\n",
      "None False\n",
      "(20, 0) (5, 15)\n",
      "line: (20, 0) to (5, 15) is not parallel to either axis\n",
      "  I don't know how to calculate its length\n",
      "None False\n",
      "(25, 5) (25, 15)\n",
      "length of line: (25, 5) to (25, 15) is 10\n",
      "10 True\n",
      "(25, 5) (20, 20)\n",
      "line: (25, 5) to (20, 20) is not parallel to either axis\n",
      "  I don't know how to calculate its length\n",
      "None False\n",
      "(25, 5) (10, 20)\n",
      "line: (25, 5) to (10, 20) is not parallel to either axis\n",
      "  I don't know how to calculate its length\n",
      "None False\n",
      "(25, 5) (5, 15)\n",
      "line: (25, 5) to (5, 15) is not parallel to either axis\n",
      "  I don't know how to calculate its length\n",
      "None False\n",
      "(25, 15) (20, 20)\n",
      "line: (25, 15) to (20, 20) is not parallel to either axis\n",
      "  I don't know how to calculate its length\n",
      "None False\n",
      "(25, 15) (10, 20)\n",
      "line: (25, 15) to (10, 20) is not parallel to either axis\n",
      "  I don't know how to calculate its length\n",
      "None False\n",
      "(25, 15) (5, 15)\n",
      "length of line: (25, 15) to (5, 15) is 20\n",
      "20 True\n"
     ]
    }
   ],
   "source": [
    "coordinates = [(5, 5), (10, 0), (20, 0), (25, 5), (25, 15), (20, 20), (10, 20), (5, 15)]\n",
    "index = 0\n",
    "index2 = 0\n",
    "while index <= len(coordinates):\n",
    "    A = coordinates[0]\n",
    "    coordinates.remove(A)\n",
    "    while index2 < len(coordinates):\n",
    "        B = coordinates[index2]\n",
    "        index2 += 1\n",
    "        print(A, B)\n",
    "        Ran = is_parallel_to_either_axis(A, B)\n",
    "        Length = line_length(A, B)\n",
    "        print(Length, Ran)\n",
    "    index2 = 0\n",
    "    index += 1"
   ]
  },
  {
   "cell_type": "markdown",
   "id": "american-store",
   "metadata": {},
   "source": [
    "\n",
    "\n",
    "2. Write code to draw a **line sgement** with the two end points are A(10, 10) and B(30, 10); extend the line segment horizontally until it reaches the border of the coordiante paper, which formes a **line** AB. The relation ship between any point in the paper and the line AB could only be one of the following:\n",
    "\n",
    "   编写程序在坐标纸上以点A(10, 10)和B(30, 10)为端点绘制出一条\"线段AB\"，同时左右无限延长AB可以得到一条没有端点的直线，可以记为\"直线AB\"，坐标纸中的任何一个点与直线AB的位置关系只可能是下面情况中的一种：\n",
    "   \n",
    "    1. The point is on line AB 这个点在直线AB上\n",
    "    2. The point is above line AB 这个点在直线AB的上方\n",
    "    3. The point is below line AB 这个点在直线AB的下方\n",
    "    \n",
    "    Write a method to tell the position relation ship between any point and line AB. The method only receive one parameter, which is a point defined by tuple (x, y), and output one of the three possibilities.\n",
    "    编写一个方法给出坐标纸中的任何一个点与该直线AB的位置关系。该方法只接受一个参数，它以(x, y)表示的tuple类型变量表示点的坐标，该方法返回上述三种可能的位置关系中的一种。\n",
    "    \n",
    "    For each of the following poitns, mark it in the paper, observe its position with respect to line AB. Call the method you created and compare the result of your method and your observation. Are the two result same?\n",
    "    针对下面的每一个点，在坐标纸中标记它，观察并记录它与直线AB的位置关系。随后编程调用你编写的方法，将各点的坐标作为方法的参数观察方法的返回值，比较你观察记录的结果与方法输出的结果，他们的结果是否一致？\n",
    "    1. (0, 0)\n",
    "    2. (10, 0)\n",
    "    3. (10, 10)\n",
    "    4. (20, 10)\n",
    "    5. (35, 10)\n",
    "    6. (25, 20)\n",
    "    7. (10, 23)\n",
    "    8. (0, 10)"
   ]
  },
  {
   "cell_type": "code",
   "execution_count": 1,
   "id": "frozen-genre",
   "metadata": {},
   "outputs": [],
   "source": [
    "from turtle import setup, reset, pu, pd, bye, left, right, fd, bk, screensize\n",
    "from turtle import goto, seth, write, ht, st, home, dot, pen, speed\n",
    "from qianglib import prepare_paper, draw_grid, mark, lines, line, polygon, text"
   ]
  },
  {
   "cell_type": "code",
   "execution_count": 2,
   "id": "interested-object",
   "metadata": {},
   "outputs": [],
   "source": [
    "width, height = 800, 600\n",
    "setup(width, height, 0, 0)\n",
    "prepare_paper(width, height, scale=15, min_x=0, min_y=0, max_y=50, max_x=50)"
   ]
  },
  {
   "cell_type": "code",
   "execution_count": 3,
   "id": "final-mitchell",
   "metadata": {},
   "outputs": [],
   "source": [
    "line((0, 10), (50, 10))"
   ]
  },
  {
   "cell_type": "code",
   "execution_count": 7,
   "id": "under-population",
   "metadata": {},
   "outputs": [],
   "source": [
    "def point_decider(point, line_point1=(0, 10), line_point2=(50, 10)):\n",
    "    if point[1] < line_point1[1]:\n",
    "        result = \"Lower\"\n",
    "    if point[1] == line_point1[1]:\n",
    "        result = \"Same\"\n",
    "    if point[1] > line_point1[1]:\n",
    "        result = \"Higher\"\n",
    "    return result"
   ]
  },
  {
   "cell_type": "code",
   "execution_count": null,
   "id": "celtic-impact",
   "metadata": {},
   "outputs": [
    {
     "name": "stdout",
     "output_type": "stream",
     "text": [
      "Lower\n",
      "Lower\n",
      "Same\n",
      "Same\n",
      "Same\n"
     ]
    }
   ],
   "source": [
    "coordinates2 = [(0, 0), (10, 0), (10, 10), (20, 10), (35, 10), (25, 20), (10, 23), (0, 10)]\n",
    "index = 0\n",
    "while index < len(coordinates2):\n",
    "    coordinate2 = coordinates2[index]\n",
    "    num = point_decider(coordinate2)\n",
    "    mark(coordinate2)\n",
    "    print(num)\n",
    "    index += 1"
   ]
  },
  {
   "cell_type": "code",
   "execution_count": null,
   "id": "surface-friend",
   "metadata": {},
   "outputs": [],
   "source": []
  }
 ],
 "metadata": {
  "kernelspec": {
   "display_name": "Python 3",
   "language": "python",
   "name": "python3"
  },
  "language_info": {
   "codemirror_mode": {
    "name": "ipython",
    "version": 3
   },
   "file_extension": ".py",
   "mimetype": "text/x-python",
   "name": "python",
   "nbconvert_exporter": "python",
   "pygments_lexer": "ipython3",
   "version": "3.8.10"
  }
 },
 "nbformat": 4,
 "nbformat_minor": 5
}
