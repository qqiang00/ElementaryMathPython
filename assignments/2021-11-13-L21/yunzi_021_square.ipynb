{
 "cells": [
  {
   "cell_type": "markdown",
   "id": "a4c48c36",
   "metadata": {},
   "source": [
    "## 第20讲 正方形与乘方"
   ]
  },
  {
   "cell_type": "markdown",
   "id": "86d47296",
   "metadata": {},
   "source": [
    "### Problem 问题描述"
   ]
  },
  {
   "cell_type": "markdown",
   "id": "08929c34",
   "metadata": {},
   "source": [
    "使用`qianglib`库提供的方法，绘制方格坐标纸，其中坐标系的原点`(0,0)`位于绘图区的最左下方，使用的`scale`值为`20`. Use the methods provided in the library `qianglib`, draw a grid coordinate system where the origin `(0, 0)` is at the bottom left of the coordinate system."
   ]
  },
  {
   "cell_type": "markdown",
   "id": "e53e7ac7",
   "metadata": {},
   "source": [
    "1. 以点A(10, 12), B(20, 12)两点为端点，绘制一条线段AB，编程计算这条边的边长。Given the coordiante values of point A(10, 12) and B(20, 12), Draw a line segment with A and B as endpoints. Calculate the length of AB by programming."
   ]
  },
  {
   "cell_type": "markdown",
   "id": "32cd6f19",
   "metadata": {},
   "source": [
    "2. 绘制一个正方形，使得先前绘制的线段AB为正方形的一条边。Draw a square and make line segment AB be one side of the square.\n"
   ]
  },
  {
   "cell_type": "markdown",
   "id": "32f04a08",
   "metadata": {},
   "source": [
    "3. 数一数这个正方形内一共有多少个边长为1的单位正方形，这个数量同时也是这个正方形的面积。 Count how many unit square(side length with 1) does the Square have. The result will be the area of the square as well.\n"
   ]
  },
  {
   "cell_type": "markdown",
   "id": "597655c6",
   "metadata": {},
   "source": [
    "4. 保持点A的横纵坐标值不变，保持点B的纵坐标不变，将点B的横坐标分别改为11至20之间的任何一个数，重新绘制线段AB，计算它的长度，并以它为一条边绘制正方形，对于每画出一次的正方形，计算或数出来这个正方形里有多少边长为1的单位正方形。将结果填入下面的表格。Keep the both coordinate values of A and vertical vlue of B as they are, change only the horizontal value of B to every integer from 11 to 20. redraw the line segment AB and corresponding square. For each square you draw, calculate its side length and how many unit square it contains. Write the result into the following table.\n",
    "\n",
    "| A       |  B      | Side Length | #Unit Square(Area) |\n",
    "|:---------:|:---------:|:-----:|:----------------:|\n",
    "|(10, 12) |(11, 12) |   1 |           1            |\n",
    "|(10, 12) |(12, 12) |   2 |           4            |\n",
    "|(10, 12) |(13, 12) |   3 |           9            |\n",
    "|(10, 12) |(14, 12) |   4 |           16           |\n",
    "|(10, 12) |(15, 12) |   5 |           25           |\n",
    "|(10, 12) |(16, 12) |   6 |           36           |\n",
    "|(10, 12) |(17, 12) |   7 |           49           |\n",
    "|(10, 12) |(18, 12) |   8 |           64           |\n",
    "|(10, 12) |(19, 12) |   9 |           81           |\n",
    "|(10, 12) |(20, 12) |   10|           100          |\n"
   ]
  },
  {
   "cell_type": "markdown",
   "id": "fc6e067a",
   "metadata": {},
   "source": [
    "5. 编写一个方法，该方法接受一个整数参数，计算这个整数参数乘以自己的积，并把这个结果作为方法的返回值。然后调用该方法，将1-10之间的每一个整数作为参数传给该方法，打印每一次方法得到的返回值。Write a method which receives an integer `a` as a parameter and return the value of `a*a`。 For each integer from 1 to 10, call this method with the integer as parameter, print out the return value of the method. "
   ]
  },
  {
   "cell_type": "markdown",
   "id": "824d83d0",
   "metadata": {},
   "source": [
    "6. 用目前已经学过的编程知识，尝试编写一个方法来计算一个给定面积的正方形它的（近似）边长。调用你写的方法来计算当一个正方形面积分别位1，4，9，15，25，30时，它的边长大概是多少。Use the coding skills learned so far, try to write a method to get the side length of a square with given area. call the method you implemented to get the side length of the square whose areas are the following: 1, 4, 9, 15, 25, 30.\n",
    "\n",
    "   "
   ]
  },
  {
   "cell_type": "markdown",
   "id": "41b759a4",
   "metadata": {},
   "source": [
    "**Answer Area**"
   ]
  },
  {
   "cell_type": "code",
   "execution_count": null,
   "id": "f4efd681",
   "metadata": {},
   "outputs": [],
   "source": []
  },
  {
   "cell_type": "markdown",
   "id": "b9f331f1",
   "metadata": {},
   "source": [
    "### Math Background 数学背景\n",
    "\n",
    "1. 正方形的面积等于边长与自己的乘积\n",
    "2. 两个相同的数相乘又称为这个数的乘方或2次方"
   ]
  },
  {
   "cell_type": "markdown",
   "id": "a2f2a57a",
   "metadata": {
    "heading_collapsed": true
   },
   "source": [
    "### Prerequisites 预备知识"
   ]
  },
  {
   "cell_type": "markdown",
   "id": "102739d9",
   "metadata": {},
   "source": [
    "无"
   ]
  },
  {
   "cell_type": "markdown",
   "id": "9718103f",
   "metadata": {},
   "source": [
    "### Solution 编程求解"
   ]
  },
  {
   "cell_type": "markdown",
   "id": "5e6dcccd",
   "metadata": {},
   "source": [
    "1. "
   ]
  },
  {
   "cell_type": "code",
   "execution_count": 1,
   "id": "db4eff32",
   "metadata": {},
   "outputs": [],
   "source": [
    "from turtle import setup, reset, pu, pd, bye, left, right, fd, bk, screensize\n",
    "from turtle import goto, seth, write, ht, st, home, dot, pen, speed\n",
    "from qianglib import prepare_paper, draw_grid, mark, lines, line, polygon, text"
   ]
  },
  {
   "cell_type": "code",
   "execution_count": 2,
   "id": "c2ef204b",
   "metadata": {},
   "outputs": [],
   "source": [
    "width, height = 800, 600\n",
    "setup(width, height, 0, 0)\n",
    "prepare_paper(width, height, scale=20, min_x=0, min_y=0, max_y=25)"
   ]
  },
  {
   "cell_type": "code",
   "execution_count": 3,
   "id": "1b3541be",
   "metadata": {},
   "outputs": [],
   "source": [
    "A, B = (10, 12), (20, 12)\n",
    "line(A, B)"
   ]
  },
  {
   "cell_type": "code",
   "execution_count": 4,
   "id": "437cba6e",
   "metadata": {},
   "outputs": [],
   "source": [
    "mark(A, \"A\"+str(A))\n",
    "mark(B, \"B\"+str(B))"
   ]
  },
  {
   "cell_type": "code",
   "execution_count": 5,
   "id": "73fea82d",
   "metadata": {},
   "outputs": [
    {
     "name": "stdout",
     "output_type": "stream",
     "text": [
      "10\n"
     ]
    }
   ],
   "source": [
    "side_length = B[0] - A[0]3\n",
    "print(side_length)"
   ]
  },
  {
   "cell_type": "code",
   "execution_count": 6,
   "id": "41bb7563",
   "metadata": {},
   "outputs": [],
   "source": [
    "C = (B[0], B[1]-side_length)\n",
    "mark(C, \"C\"+str(C))"
   ]
  },
  {
   "cell_type": "code",
   "execution_count": 7,
   "id": "05254cb0",
   "metadata": {},
   "outputs": [],
   "source": [
    "D = (A[0], A[1]-side_length)\n",
    "mark(D, \"D\"+str(D))"
   ]
  },
  {
   "cell_type": "code",
   "execution_count": 8,
   "id": "823a3d82",
   "metadata": {},
   "outputs": [],
   "source": [
    "square_down = [A, B, C, D]  \n",
    "            # [A, D, C, B]\n",
    "            # [B, C, D ，A]\n",
    "polygon(square_down, color=\"red\", linewidth=3)       \n"
   ]
  },
  {
   "cell_type": "code",
   "execution_count": 9,
   "id": "ea14f3b9",
   "metadata": {},
   "outputs": [],
   "source": [
    "E = (B[0], B[1]+side_length)\n",
    "mark(E, \"E\"+str(E))"
   ]
  },
  {
   "cell_type": "code",
   "execution_count": 15,
   "id": "d5749743",
   "metadata": {},
   "outputs": [],
   "source": [
    "F = (A[0], A[1]+side_length)\n",
    "mark(F, \"F\"+str(F))"
   ]
  },
  {
   "cell_type": "code",
   "execution_count": 16,
   "id": "9beb9d07",
   "metadata": {},
   "outputs": [],
   "source": [
    "square_up = [A, B, E, F]\n",
    "polygon(square_up, color=\"green\", linewidth=3)"
   ]
  },
  {
   "cell_type": "code",
   "execution_count": 17,
   "id": "d1c5d5ab",
   "metadata": {},
   "outputs": [],
   "source": [
    "square_unit = [(1, 1), (1, 2), (2, 2), (2, 1)]\n",
    "polygon(square_unit, fillcolor=\"black\", color=\"black\")"
   ]
  },
  {
   "cell_type": "code",
   "execution_count": 19,
   "id": "5d6b571b",
   "metadata": {},
   "outputs": [],
   "source": [
    "square_unit2 = [(1, 5), (3, 5), (3, 7), (1, 7)]\n",
    "polygon(square_unit2, fillcolor=\"yellow\", color=\"black\")"
   ]
  },
  {
   "cell_type": "code",
   "execution_count": 21,
   "id": "61079759",
   "metadata": {},
   "outputs": [
    {
     "name": "stdout",
     "output_type": "stream",
     "text": [
      "4\n"
     ]
    }
   ],
   "source": [
    "a = 2\n",
    "area = a*a\n",
    "print(area)"
   ]
  },
  {
   "cell_type": "code",
   "execution_count": 22,
   "id": "ef612c03",
   "metadata": {},
   "outputs": [
    {
     "name": "stdout",
     "output_type": "stream",
     "text": [
      "4\n"
     ]
    }
   ],
   "source": [
    "area2 = a**2\n",
    "print(area2)"
   ]
  },
  {
   "cell_type": "code",
   "execution_count": 25,
   "id": "70199c60",
   "metadata": {},
   "outputs": [
    {
     "name": "stdout",
     "output_type": "stream",
     "text": [
      "4\n"
     ]
    },
    {
     "data": {
      "text/plain": [
       "True"
      ]
     },
     "execution_count": 25,
     "metadata": {},
     "output_type": "execute_result"
    }
   ],
   "source": [
    "print(a**2)  # 乘方, sqaure, exponent of 2, power of 2\n",
    "a**2 == a*a"
   ]
  },
  {
   "cell_type": "code",
   "execution_count": null,
   "id": "c0bce898",
   "metadata": {},
   "outputs": [],
   "source": [
    "def square_area(side_length):\n",
    "    area = None\n",
    "    # TODO\n",
    "    return area"
   ]
  },
  {
   "cell_type": "markdown",
   "id": "727b3d05",
   "metadata": {},
   "source": [
    "### Summary 知识点小结"
   ]
  },
  {
   "cell_type": "markdown",
   "id": "571097b7",
   "metadata": {},
   "source": [
    "1. 乘方运算符`**`\n",
    "2. 复习tuple\n",
    "3. 复习qianglib的一些方法\n",
    "4. 复习方法的返回值\n"
   ]
  },
  {
   "cell_type": "markdown",
   "id": "e4fa2d80",
   "metadata": {},
   "source": [
    "### 计算机小知识"
   ]
  },
  {
   "cell_type": "markdown",
   "id": "9fe8f4ca",
   "metadata": {},
   "source": [
    "暂缺"
   ]
  },
  {
   "cell_type": "markdown",
   "id": "68df4b13",
   "metadata": {
    "heading_collapsed": true
   },
   "source": [
    "### Assignments 作业\n",
    "\n",
    "#### Complete Question 4,5 and 6 完成本讲问题4，5和6."
   ]
  },
  {
   "cell_type": "code",
   "execution_count": 1,
   "id": "04c72d9c",
   "metadata": {},
   "outputs": [],
   "source": [
    "from turtle import setup, reset, pu, pd, bye, left, right, fd, bk, screensize\n",
    "from turtle import goto, seth, write, ht, st, home, dot, pen, speed\n",
    "from qianglib import prepare_paper, draw_grid, mark, lines, line, polygon, text"
   ]
  },
  {
   "cell_type": "code",
   "execution_count": 2,
   "id": "ff2a846a",
   "metadata": {},
   "outputs": [],
   "source": [
    "width, height = 800, 600\n",
    "setup(width, height, 0, 0)\n",
    "prepare_paper(width, height, scale = 20, min_x = 0, min_y=0, max_y=25)"
   ]
  },
  {
   "cell_type": "code",
   "execution_count": 5,
   "id": "7e0664f5",
   "metadata": {},
   "outputs": [],
   "source": [
    "A = (10, 12)\n",
    "B = (12, 12)\n",
    "mark(A)\n",
    "mark(B)\n",
    "line(A, B)"
   ]
  },
  {
   "cell_type": "code",
   "execution_count": 6,
   "id": "ca62f39b",
   "metadata": {},
   "outputs": [],
   "source": [
    "A = (10, 12)\n",
    "B = (12, 12)\n",
    "C = (10, 11)\n",
    "D = (12, 11)\n",
    "mark(A)\n",
    "mark(B)\n",
    "mark(C)\n",
    "mark(D)\n",
    "line(A, B)\n",
    "line(A, C)\n",
    "line(B, D)\n",
    "line(C, D)"
   ]
  },
  {
   "cell_type": "code",
   "execution_count": 3,
   "id": "dddcaf09",
   "metadata": {},
   "outputs": [],
   "source": [
    "def square(x_axis):\n",
    "    aera = x_axis ** 2\n",
    "    return aera"
   ]
  },
  {
   "cell_type": "code",
   "execution_count": 14,
   "id": "d12f288c",
   "metadata": {},
   "outputs": [
    {
     "data": {
      "text/plain": [
       "400"
      ]
     },
     "execution_count": 14,
     "metadata": {},
     "output_type": "execute_result"
    }
   ],
   "source": [
    "square(20)"
   ]
  },
  {
   "cell_type": "code",
   "execution_count": 1,
   "id": "2bdb5234",
   "metadata": {},
   "outputs": [],
   "source": [
    "def length(area):\n",
    "    length2 = area / 4\n",
    "    return length2"
   ]
  },
  {
   "cell_type": "code",
   "execution_count": 2,
   "id": "77b1e0cf",
   "metadata": {},
   "outputs": [
    {
     "data": {
      "text/plain": [
       "1.0"
      ]
     },
     "execution_count": 2,
     "metadata": {},
     "output_type": "execute_result"
    }
   ],
   "source": [
    "length(4)"
   ]
  },
  {
   "cell_type": "code",
   "execution_count": null,
   "id": "52de2459",
   "metadata": {},
   "outputs": [],
   "source": []
  }
 ],
 "metadata": {
  "kernelspec": {
   "display_name": "Python 3",
   "language": "python",
   "name": "python3"
  },
  "language_info": {
   "codemirror_mode": {
    "name": "ipython",
    "version": 3
   },
   "file_extension": ".py",
   "mimetype": "text/x-python",
   "name": "python",
   "nbconvert_exporter": "python",
   "pygments_lexer": "ipython3",
   "version": "3.5.4"
  }
 },
 "nbformat": 4,
 "nbformat_minor": 5
}
