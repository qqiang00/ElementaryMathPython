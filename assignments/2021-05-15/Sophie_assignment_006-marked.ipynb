{
 "cells": [
  {
   "cell_type": "markdown",
   "id": "included-education",
   "metadata": {},
   "source": [
    "# Lecture 3：一共有多少袋大米？"
   ]
  },
  {
   "cell_type": "markdown",
   "id": "adjacent-chapel",
   "metadata": {},
   "source": [
    "- **Name (姓名)**: [Write Your Name Here]\n",
    "- **Date (日期)**: [Write the Date on which you completed this assignment]\n",
    "\n",
    "\n",
    "- **Score (成绩)**:A+\n",
    "- **Comment By Teacher (评语)**: Very Good\n",
    "Just one comment: we don't need \"space\" before \"colon\" in condition check of while loop."
   ]
  },
  {
   "cell_type": "markdown",
   "id": "periodic-register",
   "metadata": {},
   "source": [
    "## Problem\n",
    "在古代，由于科学技术水平并不是很发达，人们并不是总能吃饱，因而像米面这样的食物就显得很珍贵，经常会被用来作为礼物赠送或奖赏给关系亲密的人。有这样一位生活在古代的国王，他准备给他手下一位非常得力的将军2000袋大米作为奖赏，可是他并不打算将这2000袋大米一次全部赏给这位将军，而是在第1天奖赏1袋大米，第2天奖赏2袋，第3天奖赏3袋，也就是每一天都在前一天奖赏的大米袋数上增加1袋，这样连续每天奖赏直到国王自己手中剩下的大米不够下一次对将军的奖赏为止。现在请你算一算，按照国王这样的奖赏办法，2000袋的奖赏大米足够连续奖赏这位将军多少天？在最后一天国王手中剩下的大米不够当天的奖赏时，国王手中剩下多少袋大米？"
   ]
  },
  {
   "cell_type": "markdown",
   "id": "latest-contamination",
   "metadata": {},
   "source": [
    "## Objective 学习目标\n",
    "\n",
    "- 学习`while`引导的循环语句，理解循环语句语法构成、循环体以及退出循环的条件判断等\n",
    "- 使用`>=`,`<=`进行“不少于”、“不多于”等比较\n",
    "- 体验循环语句对编写不重复代码的帮助\n",
    "- 理解掌握变量自增、自减代码的完整和简便写法（例如：`a = a + 1` 和 `a += 1`)\n",
    "- 思考如何管理大量的一组同类性质的数据\n",
    "- 字符串中`\\n`,`\\t`,`\\r`的意义\n",
    "- 开始尝试理解程序的bug，错误和bug的区别。"
   ]
  },
  {
   "cell_type": "markdown",
   "id": "animated-batch",
   "metadata": {},
   "source": [
    "## Math\n",
    "\n",
    "- 数列的概念\n",
    "- 数的大小比较\n",
    "- 寻找解决实际问题中不变的量"
   ]
  },
  {
   "cell_type": "markdown",
   "id": "sorted-furniture",
   "metadata": {},
   "source": [
    "## Python"
   ]
  },
  {
   "cell_type": "code",
   "execution_count": null,
   "id": "enormous-auckland",
   "metadata": {},
   "outputs": [],
   "source": [
    "# How do you solve this problem if using arithmetic calculation instead of programming\n",
    "# 思考如果不使用用编程，而使用传统算术的方法来求解这个问题，你会怎么做？"
   ]
  },
  {
   "cell_type": "code",
   "execution_count": null,
   "id": "unlikely-saver",
   "metadata": {
    "scrolled": true
   },
   "outputs": [],
   "source": [
    "# Solution 0\n",
    "rice_in_king_initial = 2000\n",
    "rice_in_king = rice_in_king_initial\n",
    "rice_in_general, rice_to_general, days_awarded = 0, 1, 0\n",
    "while rice_in_king >= rice_to_general:\n",
    "    rice_in_king -= rice_to_general\n",
    "    rice_in_general += rice_to_general\n",
    "    days_awarded = days_awarded + 1\n",
    "    rice_to_general = rice_to_general + 1\n",
    "    \n",
    "print(\"days awarded: \", days_awarded, \n",
    "      \", rice left in king:\", rice_in_king, \n",
    "      \", total rice in general: \", rice_in_general)"
   ]
  },
  {
   "cell_type": "code",
   "execution_count": null,
   "id": "light-schedule",
   "metadata": {
    "scrolled": true
   },
   "outputs": [],
   "source": [
    "# Another solution with detailed explanation and output\n",
    "# 另一个有详细解释和输出的实现方案\n",
    "\n",
    "# declare and initiate some variables before calculating\n",
    "# 在正式计算模拟前声明一些变量，并给这些变量一些初始的数值\n",
    "\n",
    "# rice that King has at the very begining\n",
    "# 国王一开始打算奖赏的大米总袋数 2000\n",
    "rice_in_king_initial = 2000\n",
    "# rice that King has for awarding \n",
    "# 国王手中拥有的用来奖赏的大米\n",
    "rice_in_king = rice_in_king_initial\n",
    "\n",
    "# rice that General awarded from King \n",
    "# 将军手中所有的奖赏大米\n",
    "rice_in_general = 0\n",
    "\n",
    "# rice that will awarded to General in some day，set to 0 in the begining\n",
    "# 某一天里，将军从国王那里获得的大米代数，一开始设为1\n",
    "rice_to_general = 1       \n",
    "\n",
    "# days already awarded, set to 0 in the begining\n",
    "# 已经奖赏的天数，一开始没有奖赏，设为0天\n",
    "days_awarded = 0\n",
    "\n",
    "# No. of current day\n",
    "# 当前是第几天\n",
    "cur_day = 1\n",
    "\n",
    "# while rice in King is more than the rice that will be awarded to General\n",
    "# 当国王手中（剩余）的大米足够下一次发给将军时\n",
    "while rice_in_king >= rice_to_general:\n",
    "    print(\"\\n今天是第\", cur_day, \"天\")\n",
    "    print(\"  国王有大米:\", rice_in_king, \"袋，需要奖赏给将军: \", rice_to_general, \"袋\")\n",
    "    print(\"  国王大米足够，开始奖赏:\")\n",
    "    rice_in_king = rice_in_king - rice_to_general\n",
    "    rice_in_general = rice_in_general + rice_to_general\n",
    "    days_awarded = days_awarded + 1\n",
    "    print(\"  今天的奖赏已经完成，奖赏了\", rice_to_general, \"袋大米\")\n",
    "    print(\"  国王还剩下\", rice_in_king, \"袋大米\")\n",
    "    print(\"  将军目前共有:\", rice_in_general,\"袋大米\")\n",
    "    print(\"  到今天为止，一共连续奖赏了\", days_awarded, \"天\")\n",
    "    # prepare rice awarded to general for next day\n",
    "    rice_to_general_next_day = rice_to_general + 1\n",
    "    print(\"  明天的奖赏将会是\", rice_to_general_next_day,\"袋大米\")\n",
    "    \n",
    "    # here comes the next day 第二天来了\n",
    "    cur_day = cur_day + 1\n",
    "    \n",
    "    # update rice_to_general for compare with rice_in_king\n",
    "    # 更新这一天要奖赏给将军的大米袋数\n",
    "    rice_to_general = rice_to_general_next_day\n",
    "\n",
    "# when program are executed here, it means king's rice is not enough for\n",
    "# nex day's awarding.\n",
    "# 当程序运行到此处时，说明国王的大米已经不够第二天的奖赏了\n",
    "print(\"\\n今天是第\", cur_day, \"天，国王的大米不够了，奖赏停止。\") \n",
    "print(\"  国王还剩下\", rice_in_king, \"袋大米\")\n",
    "print(\"  今天原本需要奖赏将军\", rice_to_general, \"袋大米\")\n",
    "print(\"  国王一共奖赏给了将军\", rice_in_general, \"袋大米\")"
   ]
  },
  {
   "cell_type": "code",
   "execution_count": null,
   "id": "another-tomato",
   "metadata": {
    "scrolled": false
   },
   "outputs": [],
   "source": [
    "print('Sophie\\ns name is \\nYefei \\tadsfafd')"
   ]
  },
  {
   "cell_type": "code",
   "execution_count": null,
   "id": "supreme-atlas",
   "metadata": {},
   "outputs": [],
   "source": [
    "# correction 纠正\n",
    "# number of parameters in method 'print' can be infinite, not 1.\n",
    "# print方法可以接受的数据个数可以是无限多个，不是1个.\n",
    "print(123, 1244, 567, 1234)"
   ]
  },
  {
   "cell_type": "code",
   "execution_count": null,
   "id": "realistic-scroll",
   "metadata": {},
   "outputs": [],
   "source": [
    "# \\t         \\r\n",
    "print(\"Luchuannnnn\\r Yunzi       \")"
   ]
  },
  {
   "cell_type": "code",
   "execution_count": null,
   "id": "virgin-blade",
   "metadata": {},
   "outputs": [],
   "source": [
    "print(Jason)"
   ]
  },
  {
   "cell_type": "code",
   "execution_count": null,
   "id": "upper-diabetes",
   "metadata": {
    "scrolled": true
   },
   "outputs": [],
   "source": [
    "# review randint, find bugs in the follow codes\n",
    "# 复习randint, 寻找下面代码中的bug\n",
    "from random import randint\n",
    "num = randint(1, 10)\n",
    "n_tries = 1\n",
    "while num < 10:\n",
    "    print(n_tries, \"try, num generated is\", num)\n",
    "    num = randint(1, 10)\n",
    "    n_tries = n_tries + 1\n",
    "    \n",
    "print(\"tried randint(1, 10)\", n_tries, \"times \\nbefore we got 10\")"
   ]
  },
  {
   "cell_type": "code",
   "execution_count": null,
   "id": "funny-hunter",
   "metadata": {},
   "outputs": [],
   "source": [
    "a = 10\n",
    "a = a + 1\n",
    "print(\"a =\", a)\n",
    "\n",
    "a = 10\n",
    "a += 1\n",
    "print(\"a =\", a)"
   ]
  },
  {
   "cell_type": "code",
   "execution_count": null,
   "id": "blind-suffering",
   "metadata": {},
   "outputs": [],
   "source": [
    "a = 10\n",
    "a += 2\n",
    "print(a, type(a))\n",
    "a -= 2\n",
    "print(a, type(a))\n",
    "a *= 2\n",
    "print(a, type(a))\n",
    "a /= 2\n",
    "print(a, type(a))"
   ]
  },
  {
   "cell_type": "code",
   "execution_count": null,
   "id": "frequent-fraction",
   "metadata": {},
   "outputs": [],
   "source": [
    "rice_in_generals = [0, 1, 3, 6, 10, 15, 21]"
   ]
  },
  {
   "cell_type": "markdown",
   "id": "bizarre-assurance",
   "metadata": {},
   "source": [
    "## Did you know?\n",
    "现代计算机编程语言有很多种，每一种现代计算机语言都有自己的语法来表示条件和循环控制。此外，在Python语言中，`while`引导的循环语句只是实现循环的形式之一。"
   ]
  },
  {
   "cell_type": "markdown",
   "id": "digital-consensus",
   "metadata": {},
   "source": [
    "## Exercise"
   ]
  },
  {
   "cell_type": "markdown",
   "id": "novel-senegal",
   "metadata": {},
   "source": [
    "1. 通常一个问题会有不止一种编程方案来求解，像本节的国王问题，本题下的代码单元格里提供了包括原始解法在内的一共3不同的编程写法，其中另外2种写法在国王打算奖赏的大米数量为2000的时候都也得到正确的答案，但是其中的一种方法当国王大米数量不是2000的时候有可能会得到错误的结果。试着将国王一开始拟奖赏的大米总数从2000修改为2016，分别运行本讲示例中的解法以及本练习题额外提供的两种解法，观察三种解法给出的结果有什么不同，指出本题提供的哪一种解法是错误的。尝试着去解释为什么会出现这样的错误。\n",
    "   \n",
    "   把你的答案写在这里：\n",
    "   - 第（）种额外解决方案是错误的；\n",
    "   - 当国王一开始的大米总数变为2016时，它给出的答案是：（），与另外两种方法得到的结果不一样；\n",
    "   - 出现这种错误的原因是："
   ]
  },
  {
   "cell_type": "code",
   "execution_count": null,
   "id": "grave-insertion",
   "metadata": {},
   "outputs": [],
   "source": [
    "# try to change the value to 2000 and 2016\n",
    "# 尝试修改变量 rice_in_king_initial 值分别为2000， 2016\n",
    "rice_in_king_initial = 2016"
   ]
  },
  {
   "cell_type": "code",
   "execution_count": null,
   "id": "assured-course",
   "metadata": {},
   "outputs": [],
   "source": [
    "# Solution 0 (Original for the lecture)\n",
    "# 第0中解决方案（原始解决方案）\n",
    "rice_in_king = rice_in_king_initial\n",
    "rice_in_general, rice_to_general, days_awarded = 0, 1, 0\n",
    "while rice_in_king >= rice_to_general:\n",
    "    rice_in_king -= rice_to_general\n",
    "    rice_in_general += rice_to_general\n",
    "    days_awarded += 1\n",
    "    rice_to_general += 1\n",
    "    \n",
    "print(\"days awarded: \", days_awarded, \n",
    "      \", rice left in king:\", rice_in_king, \n",
    "      \", total rice in general: \", rice_in_general)"
   ]
  },
  {
   "cell_type": "code",
   "execution_count": null,
   "id": "molecular-complaint",
   "metadata": {},
   "outputs": [],
   "source": [
    "# Extra Solution 1\n",
    "# 第一种额外解决方案\n",
    "rice_in_king = rice_in_king_initial\n",
    "rice_in_general, rice_to_general, days_awarded = 0, 0, 0\n",
    "while rice_in_king > rice_to_general:\n",
    "    rice_to_general += 1\n",
    "    rice_in_king -= rice_to_general\n",
    "    rice_in_general += rice_to_general\n",
    "    days_awarded += 1\n",
    "\n",
    "print(\"days awarded: \", days_awarded, \n",
    "      \", rice left in king:\", rice_in_king, \n",
    "      \", total rice in general: \", rice_in_general)"
   ]
  },
  {
   "cell_type": "code",
   "execution_count": null,
   "id": "noted-blackberry",
   "metadata": {},
   "outputs": [],
   "source": [
    "# Extra Solution 2\n",
    "# 第二种额外解决方案\n",
    "rice_in_king = rice_in_king_initial\n",
    "rice_in_general, rice_to_general, days_awarded = 0, 1, 0\n",
    "while rice_in_king > rice_to_general:\n",
    "    rice_in_king -= rice_to_general\n",
    "    rice_in_general += rice_to_general\n",
    "    days_awarded += 1\n",
    "    rice_to_general += 1\n",
    "    \n",
    "print(\"days awarded: \", days_awarded, \n",
    "      \", rice left in king:\", rice_in_king, \n",
    "      \", total rice in general: \", rice_in_general)\n",
    "\n"
   ]
  },
  {
   "cell_type": "code",
   "execution_count": null,
   "id": "interested-intelligence",
   "metadata": {},
   "outputs": [],
   "source": [
    "# 第（2）种额外解决方案是错误的；\n",
    "# 当国王一开始的大米总数变为2016时，它给出的答案是：（62），与另外两种方法得到的结果不一样；\n",
    "# 出现这种错误的原因是：The reason is: in the ligne 5 the condition soud be: rice_in_king >= rice_to_general."
   ]
  },
  {
   "cell_type": "markdown",
   "id": "surgical-spread",
   "metadata": {},
   "source": [
    "2. 如果在本讲的大米奖赏问题中，把国王第一天对将军的奖赏从1袋大米增加为10袋大米，以后每过一天仍然在前一天的基础上多奖赏一袋，那么2000袋大米可以奖赏多少天，国王手中是否有剩余的大米？如果国王一开始的大米为2016袋结果又是怎样呢？请在下面的代码单元格中修改原始的代码后，求解该问题。并将答案写本单元格相应的位置。\n",
    "\n",
    "   提示：你只需要修改一行代码即可\n",
    "   \n",
    "   把你的结果写在这里：\n",
    "   - 国王一开始有2000袋大米，可连续奖赏（）天，国王剩余（）袋；\n",
    "   - 国王一开始有2016袋大米，可连续奖赏（）天，国王剩余（）袋。"
   ]
  },
  {
   "cell_type": "code",
   "execution_count": 1,
   "id": "revised-antenna",
   "metadata": {},
   "outputs": [
    {
     "name": "stdout",
     "output_type": "stream",
     "text": [
      "the king have 1990 general have 10 king give 11 day 1\n",
      "the king have 1979 general have 21 king give 12 day 2\n",
      "the king have 1967 general have 33 king give 13 day 3\n",
      "the king have 1954 general have 46 king give 14 day 4\n",
      "the king have 1940 general have 60 king give 15 day 5\n",
      "the king have 1925 general have 75 king give 16 day 6\n",
      "the king have 1909 general have 91 king give 17 day 7\n",
      "the king have 1892 general have 108 king give 18 day 8\n",
      "the king have 1874 general have 126 king give 19 day 9\n",
      "the king have 1855 general have 145 king give 20 day 10\n",
      "the king have 1835 general have 165 king give 21 day 11\n",
      "the king have 1814 general have 186 king give 22 day 12\n",
      "the king have 1792 general have 208 king give 23 day 13\n",
      "the king have 1769 general have 231 king give 24 day 14\n",
      "the king have 1745 general have 255 king give 25 day 15\n",
      "the king have 1720 general have 280 king give 26 day 16\n",
      "the king have 1694 general have 306 king give 27 day 17\n",
      "the king have 1667 general have 333 king give 28 day 18\n",
      "the king have 1639 general have 361 king give 29 day 19\n",
      "the king have 1610 general have 390 king give 30 day 20\n",
      "the king have 1580 general have 420 king give 31 day 21\n",
      "the king have 1549 general have 451 king give 32 day 22\n",
      "the king have 1517 general have 483 king give 33 day 23\n",
      "the king have 1484 general have 516 king give 34 day 24\n",
      "the king have 1450 general have 550 king give 35 day 25\n",
      "the king have 1415 general have 585 king give 36 day 26\n",
      "the king have 1379 general have 621 king give 37 day 27\n",
      "the king have 1342 general have 658 king give 38 day 28\n",
      "the king have 1304 general have 696 king give 39 day 29\n",
      "the king have 1265 general have 735 king give 40 day 30\n",
      "the king have 1225 general have 775 king give 41 day 31\n",
      "the king have 1184 general have 816 king give 42 day 32\n",
      "the king have 1142 general have 858 king give 43 day 33\n",
      "the king have 1099 general have 901 king give 44 day 34\n",
      "the king have 1055 general have 945 king give 45 day 35\n",
      "the king have 1010 general have 990 king give 46 day 36\n",
      "the king have 964 general have 1036 king give 47 day 37\n",
      "the king have 917 general have 1083 king give 48 day 38\n",
      "the king have 869 general have 1131 king give 49 day 39\n",
      "the king have 820 general have 1180 king give 50 day 40\n",
      "the king have 770 general have 1230 king give 51 day 41\n",
      "the king have 719 general have 1281 king give 52 day 42\n",
      "the king have 667 general have 1333 king give 53 day 43\n",
      "the king have 614 general have 1386 king give 54 day 44\n",
      "the king have 560 general have 1440 king give 55 day 45\n",
      "the king have 505 general have 1495 king give 56 day 46\n",
      "the king have 449 general have 1551 king give 57 day 47\n",
      "the king have 392 general have 1608 king give 58 day 48\n",
      "the king have 334 general have 1666 king give 59 day 49\n",
      "the king have 275 general have 1725 king give 60 day 50\n",
      "the king have 215 general have 1785 king give 61 day 51\n",
      "the king have 154 general have 1846 king give 62 day 52\n",
      "the king have 92 general have 1908 king give 63 day 53\n",
      "the king have 29 general have 1971 king give 64 day 54\n",
      "days awarded:  54 , rice left in king: 29 , total rice in general:  1971\n"
     ]
    }
   ],
   "source": [
    "rice_in_king_initial = 2000\n",
    "rice_in_king = rice_in_king_initial\n",
    "rice_in_general, rice_to_general, days_awarded = 0, 10, 0\n",
    "while rice_in_king >= rice_to_general:\n",
    "    rice_in_king -= rice_to_general\n",
    "    rice_in_general += rice_to_general\n",
    "    days_awarded += 1\n",
    "    rice_to_general += 1\n",
    "    print(\"the king have\",rice_in_king,\"general have\",rice_in_general,\"king give\",rice_to_general,\"day\",days_awarded)\n",
    "    \n",
    "print(\"days awarded: \", days_awarded, \n",
    "      \", rice left in king:\", rice_in_king, \n",
    "      \", total rice in general: \", rice_in_general)"
   ]
  },
  {
   "cell_type": "markdown",
   "id": "apart-pathology",
   "metadata": {},
   "source": [
    "3. 继续以本讲示例的大米问题为背景，如果把国王对将军的奖赏从每天增加1袋大米到每天增加10袋大米，保持第一天的奖赏为1袋大米不变。那么2000袋大米可以奖赏多少天？国王手中是否有剩余的大米？如果国王一开始的大米为2016袋结果又是怎样呢？请在下面的代码单元格中修改现成的代码后，求解该问题。\n",
    "\n",
    "   提示：你只需要修改一行代码即可\n",
    "   \n",
    "   把你的结果写在这里：\n",
    "   - 国王一开始有2000袋大米，可连续奖赏（）天，国王剩余（）袋；\n",
    "   - 国王一开始有2016袋大米，可连续奖赏（）天，国王剩余（）袋。"
   ]
  },
  {
   "cell_type": "code",
   "execution_count": 2,
   "id": "novel-philippines",
   "metadata": {},
   "outputs": [
    {
     "name": "stdout",
     "output_type": "stream",
     "text": [
      "days awarded:  20 , rice left in king: 80 , total rice in general:  1920\n"
     ]
    }
   ],
   "source": [
    "rice_in_king_initial = 2000\n",
    "rice_in_king = rice_in_king_initial\n",
    "rice_in_general, rice_to_general, days_awarded = 0, 1, 0\n",
    "while rice_in_king >= rice_to_general:\n",
    "    rice_in_king -= rice_to_general\n",
    "    rice_in_general += rice_to_general\n",
    "    days_awarded += 1\n",
    "    rice_to_general += 10\n",
    "    \n",
    "print(\"days awarded: \", days_awarded, \n",
    "      \", rice left in king:\", rice_in_king, \n",
    "      \", total rice in general: \", rice_in_general)"
   ]
  },
  {
   "cell_type": "markdown",
   "id": "tribal-scottish",
   "metadata": {},
   "source": [
    "4. 继续以本讲示例的大米问题为背景，如果把国王对将军的奖赏改为：第一天奖赏1袋，第2天奖赏2袋，第三天奖赏4袋，第4天奖赏8袋，...。也就是每一天的奖赏都是前一天奖赏的2倍。那么2000袋大米可以奖赏多少天？国王手中是否有剩余的大米？如果国王一开始的大米为2016袋结果又是怎样呢？请在下面的代码单元格中修改现成的代码后，求解该问题。\n",
    "\n",
    "   提示：你只需要修改一行代码即可\n",
    "   \n",
    "   把你的结果写在这里：\n",
    "   - 国王一开始有2000袋大米，可连续奖赏（）天，国王剩余（）袋；\n",
    "   - 国王一开始有2016袋大米，可连续奖赏（）天，国王剩余（）袋。   "
   ]
  },
  {
   "cell_type": "code",
   "execution_count": null,
   "id": "incorporated-salvation",
   "metadata": {},
   "outputs": [],
   "source": [
    "rice_in_king_initial = 2000\n",
    "rice_in_king = rice_in_king_initial\n",
    "rice_in_general, rice_to_general, days_awarded = 0, 1, 0\n",
    "while rice_in_king >= rice_to_general:\n",
    "    rice_in_king -= rice_to_general\n",
    "    rice_in_general += rice_to_general\n",
    "    days_awarded += 1\n",
    "    print(\"the king have\",rice_in_king,\"general have\",rice_in_general,\"king give\",rice_to_general,\"day\",days_awarded)\n",
    "    rice_to_general *= 2\n",
    "    \n",
    "print(\"days awarded: \", days_awarded, \n",
    "      \", rice left in king:\", rice_in_king, \n",
    "      \", total rice in general: \", rice_in_general)"
   ]
  },
  {
   "cell_type": "markdown",
   "id": "arbitrary-joyce",
   "metadata": {},
   "source": [
    "5. 自己动手编写一段包括`while`循环语句的程序，计算打印出从1开始到100所有100个连续的自然数的和。你的程序应该返回的正确数值是5050。如果让你求解1-100这100个自然数内所有奇数或偶数的和，你的程序应该做怎样的修改？最后的答案分别是什么？"
   ]
  },
  {
   "cell_type": "code",
   "execution_count": 16,
   "id": "genetic-blackjack",
   "metadata": {},
   "outputs": [
    {
     "name": "stdout",
     "output_type": "stream",
     "text": [
      "5050\n"
     ]
    }
   ],
   "source": [
    "num1 = 101\n",
    "num2 = 0\n",
    "total_num = 0\n",
    "\n",
    "while num1 > num2 :\n",
    "    total_num += num2\n",
    "    num2 += 1\n",
    "print(total_num)"
   ]
  },
  {
   "cell_type": "code",
   "execution_count": 4,
   "id": "following-individual",
   "metadata": {},
   "outputs": [
    {
     "name": "stdout",
     "output_type": "stream",
     "text": [
      "2500\n"
     ]
    }
   ],
   "source": [
    "num1 = 100\n",
    "num2 = 1\n",
    "total_num = 0\n",
    "\n",
    "while num1 >= num2 :\n",
    "    total_num += num2\n",
    "    num2 += 2\n",
    "print(total_num)"
   ]
  },
  {
   "cell_type": "code",
   "execution_count": 10,
   "id": "polish-medicine",
   "metadata": {},
   "outputs": [
    {
     "name": "stdout",
     "output_type": "stream",
     "text": [
      "2550\n"
     ]
    }
   ],
   "source": [
    "num1 = 100\n",
    "num2 = 0\n",
    "total_num = 0\n",
    "\n",
    "while num1 >= num2 :\n",
    "    total_num += num2\n",
    "    num2 += 2\n",
    "print(total_num)"
   ]
  },
  {
   "cell_type": "code",
   "execution_count": null,
   "id": "cathedral-pastor",
   "metadata": {},
   "outputs": [],
   "source": []
  }
 ],
 "metadata": {
  "kernelspec": {
   "display_name": "Python 3",
   "language": "python",
   "name": "python3"
  },
  "language_info": {
   "codemirror_mode": {
    "name": "ipython",
    "version": 3
   },
   "file_extension": ".py",
   "mimetype": "text/x-python",
   "name": "python",
   "nbconvert_exporter": "python",
   "pygments_lexer": "ipython3",
   "version": "3.9.0"
  }
 },
 "nbformat": 4,
 "nbformat_minor": 5
}
