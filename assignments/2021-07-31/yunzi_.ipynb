{
 "cells": [
  {
   "cell_type": "code",
   "execution_count": 1,
   "id": "05475de2",
   "metadata": {},
   "outputs": [
    {
     "name": "stdout",
     "output_type": "stream",
     "text": [
      "('Jason', 'Sophie', 'Tony')\n",
      "('Jason', 'Tony', 'Sophie')\n",
      "('Sophie', 'Jason', 'Tony')\n",
      "('Sophie', 'Tony', 'Jason')\n",
      "('Tony', 'Jason', 'Sophie')\n",
      "('Tony', 'Sophie', 'Jason')\n"
     ]
    }
   ],
   "source": [
    "classmates = [\"Jason\", \"Sophie\", \"Tony\"]\n",
    "queues = []\n",
    "queue = None\n",
    "\n",
    "for first in classmates:\n",
    "    for second in classmates:\n",
    "        if second != first:\n",
    "            for third in classmates:\n",
    "                if third != first and third != second:\n",
    "                    queue = (first, second, third)\n",
    "                    queues.append(queue)\n",
    "for queue in queues:\n",
    "    print(queue)"
   ]
  },
  {
   "cell_type": "code",
   "execution_count": null,
   "id": "a894ae5f",
   "metadata": {},
   "outputs": [],
   "source": []
  }
 ],
 "metadata": {
  "kernelspec": {
   "display_name": "Python 3",
   "language": "python",
   "name": "python3"
  },
  "language_info": {
   "codemirror_mode": {
    "name": "ipython",
    "version": 3
   },
   "file_extension": ".py",
   "mimetype": "text/x-python",
   "name": "python",
   "nbconvert_exporter": "python",
   "pygments_lexer": "ipython3",
   "version": "3.8.10"
  }
 },
 "nbformat": 4,
 "nbformat_minor": 5
}
