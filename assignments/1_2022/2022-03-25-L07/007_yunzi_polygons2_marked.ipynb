{
 "cells": [
  {
   "cell_type": "markdown",
   "id": "ea809b82",
   "metadata": {},
   "source": [
    "## 第07讲 绘制正多边形（二)\n",
    "Lecture07 Draw Regular Polygons（Part 2)"
   ]
  },
  {
   "cell_type": "markdown",
   "id": "12652fd7-2f7c-4681-9e65-10a30ed736d4",
   "metadata": {},
   "source": [
    "**<span style=\"color:red\">87/160</span>** Marked by Qiang\n",
    "\n",
    "(87+0)/(100+60)\n",
    "\n",
    "- 减分项\n",
    "   \n",
    "  -3 第1，2，3题：turtle最后没有隐藏  \n",
    "  -1 第2题，第二部分代码没看出来作用  \n",
    "  -10 第4题：回答不完全正确（内角和部分）"
   ]
  },
  {
   "cell_type": "markdown",
   "id": "667483e5",
   "metadata": {
    "tags": []
   },
   "source": [
    "### Assignments 作业"
   ]
  },
  {
   "cell_type": "code",
   "execution_count": 1,
   "id": "0fec95df",
   "metadata": {},
   "outputs": [],
   "source": [
    "from random import randint\n",
    "from turtle import setup, reset, bye, pu, pd, bk, fd, left, right, st, ht\n",
    "# from turtle import penup, pendown, backward, forward, showturtle, hideturtle\n",
    "from turtle import pencolor, pensize\n",
    "setup(600, 400, -10, 10)"
   ]
  },
  {
   "cell_type": "markdown",
   "id": "7534bc8d",
   "metadata": {},
   "source": [
    "1.  Use skills you learned so far, draw a regular octagon like the following figure shows. 使用已经教学过的知识，绘制如下图类似的正八边形。Detailed requirements are 具体要求如下：\n",
    "   - side length is 120, centered left and right middle, line size is 3, line color is green 它边为120，**左右**居中位于绘图区，每条边的线宽总是3，颜色是绿色\n",
    "   - the lowest part of the octagon is a vertex instead of an edge 它最下方不是一条边而是一个顶点\n",
    "   - from each vertex of the octangon, there is a red line (size is 1) pointing to its center with the same length as the octagon itself 正八边形每一个顶点都朝向中心延伸出一条线宽为1颜色为红色的长度与八边形边长相等的线段\n",
    "   - comment each line of your code 给每一行代码添加注释\n",
    "   \n",
    "   <img src=\"figures/L007_assign01_regular_polygons.png\" width = 500>"
   ]
  },
  {
   "cell_type": "code",
   "execution_count": 2,
   "id": "a303136f",
   "metadata": {},
   "outputs": [],
   "source": [
    "from turtle import setup, reset, pu, pd, bye, left, right, fd, bk, ht\n",
    "from turtle import pencolor, pensize"
   ]
  },
  {
   "cell_type": "code",
   "execution_count": 3,
   "id": "ec741d61",
   "metadata": {},
   "outputs": [],
   "source": [
    "setup(600, 600, 8, 2) #准备一个大小为600*600的绘图区\n",
    "reset() # 注意绘图区内的一个实心三角形的朝向\n",
    "pu() # 保持画笔不接触绘图纸\n",
    "right(90) # 右转90度\n",
    "fd(200) # 前进200个像素\n",
    "left(90) # 左转90度\n",
    "pd() # 画笔接触图纸，开始绘图\n",
    "i = 0 # 已经画了几条边\n",
    "n = 8 # 几边形\n",
    "length = 120 # 边长\n",
    "degree = 22.5 # 角度\n",
    "while i < n: # 如果i < n，就...\n",
    "    pensize(3) # 画笔粗细为3\n",
    "    pencolor(\"green\") # 颜色为绿\n",
    "    left(degree) # 左转22.5度\n",
    "    fd(length) # 前进120个像素\n",
    "    pensize(1) #画笔粗细为1\n",
    "    pencolor(\"red\") # 颜色为红\n",
    "    left(112.5) # 左转112.5度\n",
    "    fd(length) # 前进120个像素\n",
    "    bk(length) # 后退120个像素\n",
    "    right(90) # 右转90度\n",
    "    pensize(3) # 画笔粗细为3\n",
    "    pencolor(\"green\") # 颜色为绿\n",
    "    i = i + 1 # 重复以上做法直至达到图形的边数"
   ]
  },
  {
   "cell_type": "markdown",
   "id": "4165e31e",
   "metadata": {},
   "source": [
    "2. Use skills you learned so far, draw a regular hexagon like the following figure shows.使用已经教学过的知识，编程绘制出下图所示的图形。Detailed requirements are 具体要求如下：\n",
    "   - side length is 120, centered left and right middle, line size is 3, line color is green 它边长为120，仍然在绘图区**左右**居中，每条边的线宽总是3，颜色是绿色；\n",
    "   - the lowest part of the octagon is a vertex instead of an edge 它最下方不是一条边而是一个顶点\n",
    "   - the 3 furthest pairs of vertices in the regular hexagon are connected by red lines of width 1 正六边形中距离最远的3对顶点是用颜色为红色的宽为1的线条连接起来的\n",
    "   - comment each line of your code 给每一行代码添加注释\n",
    "   \n",
    "   <img src=\"figures/L007_assign02_regular_polygons.png\" width = 500>"
   ]
  },
  {
   "cell_type": "code",
   "execution_count": 8,
   "id": "4429ebe6",
   "metadata": {},
   "outputs": [],
   "source": [
    "setup(600, 600, 8, 2) #准备一个大小为600*600的绘图区\n",
    "reset() # 注意绘图区内的一个实心三角形的朝向\n",
    "pu() # 保持画笔不接触绘图纸\n",
    "right(90) # 右转90度\n",
    "fd(200) # 前进200个像素\n",
    "left(90) # 左转90度\n",
    "pd() # 画笔接触图纸，开始绘图\n",
    "i = 0 # 已经画了几条边\n",
    "n = 8 # 几边形\n",
    "ii = 0# 已经画了几条边\n",
    "x = 3 # 几边形\n",
    "length = 120 # 边长\n",
    "degree = 30 # 角度\n",
    "while i < n: # 如果i < n，就...\n",
    "    pencolor(\"green\") # 颜色为绿\n",
    "    pensize(3) # 画笔粗细为3\n",
    "    left(30) # 左转30度\n",
    "    fd(length) # 前进120个像素\n",
    "    left(degree) # 左转30度\n",
    "    i = i + 1 # 重复以上做法直至达到图形的边数\n",
    "left(90) # 左转90度\n",
    "while ii < x: # 如果ii < x，就...\n",
    "    pencolor(\"red\") # 颜色为红\n",
    "    pensize(1) # 画笔粗细为1\n",
    "    fd(240) # 前进240个像素\n",
    "    left(120) # 左转120度\n",
    "    pencolor(\"green\") # 颜色为绿\n",
    "    fd(120) # 前进120个像素\n",
    "    pencolor(\"red\") # 颜色为红\n",
    "    left(120) # 左转120度\n",
    "    ii = ii + 1 # 重复以上做法直至达到图形的边数 "
   ]
  },
  {
   "cell_type": "code",
   "execution_count": 9,
   "id": "a6d22d26",
   "metadata": {},
   "outputs": [],
   "source": [
    "left(90)\n",
    "while ii < x:\n",
    "    pencolor(\"green\")\n",
    "    fd(240)   \n",
    "    left(120)  \n",
    "    fd(120)\n",
    "    left(120)\n",
    "    ii = ii + 1        "
   ]
  },
  {
   "cell_type": "markdown",
   "id": "acdbc893",
   "metadata": {},
   "source": [
    "3. Use skills you learned so far, draw a regular pentagon like the following figure shows 使用已经教学过的知识，编程绘制出下图所示的图形。Detailed requirements are 具体要求如下：\n",
    "   - side length is 120, centered left and right middle, line size is 3, line color is green 它边为120，仍然在绘图区**左右**居中，每条边的线宽总是3，颜色是绿色；\n",
    "   - its **top** is a vertex of a regular pentagon, and the distance from this vertex to the center of the drawing area (the starting position of the turtle) is equal to the side length of the regular pentagon 它最**上方**是正五边形的一个顶点，且这个顶点距离绘图区中心（海龟一开始的位置）的距离等于正五边形的边长；\n",
    "   - each vertex extends toward the center with a line with a width of 1 and a color of red with a length equal to the length of the side.每一个顶点都朝向中心延伸出一条线宽为1颜色为红色的长度与边长相等的线段\n",
    "   - comment each line of your code 给每一行代码添加注释\n",
    "   \n",
    "   <img src=\"figures/L007_assign03_regular_polygons.png\" width = 500>"
   ]
  },
  {
   "cell_type": "code",
   "execution_count": 11,
   "id": "b869aeed",
   "metadata": {},
   "outputs": [],
   "source": [
    "setup(600, 600, 8, 2) #准备一个大小为600*600的绘图区\n",
    "reset() # 注意绘图区内的一个实心三角形的朝向\n",
    "pu() # 保持画笔不接触绘图纸\n",
    "left(90) # 左转90度\n",
    "fd(120) # 前进120个像素\n",
    "left(72 / 2) # 左转60度\n",
    "left(90) # 左转90度\n",
    "pd() # 画笔接触图纸，开始绘图\n",
    "i = 0 # 已经画了几条边\n",
    "n = 5 # 几边形\n",
    "while i < n: # 如果i < n，就...\n",
    "    pencolor(\"green\") # 颜色为绿\n",
    "    pensize(3) # 画笔粗细为3\n",
    "    fd(120) # 前进120个像素\n",
    "    pencolor(\"red\") # 颜色为绿\n",
    "    pensize(1) # 画笔粗细为3\n",
    "    left(125.9) # 左转125.9度\n",
    "    fd(120) # 前进120个像素\n",
    "    bk(120) # 后退120个像素\n",
    "    right(125.9) # 右转125.9度\n",
    "    pensize(3) # 画笔粗细为3\n",
    "    pencolor(\"green\") # 颜色为绿\n",
    "    left(72) # 左转72度\n",
    "    i = i + 1 # 重复以上做法直至达到图形的边数   "
   ]
  },
  {
   "cell_type": "markdown",
   "id": "1d96f118",
   "metadata": {},
   "source": [
    "4. Observe 7 regular polygons including regular triangle, square, regular pentagon, regular hexagon, regular octagon, regular nonagon, and regular decagon, answer the following questions: 观察正三、正四、正五、正六、正八、正九、正十边形等7个正多边形，回答下列问题：\n",
    "   - when drawing each regular polygon, how many degrees does the little turtle turn after each edge is drawn? 在绘制每一个正多边形时，小海龟在绘制完成一条边后要转多少度？\n",
    "   - for each regular polygon, how many interior angle does it have, What is the sum of these interior angles? 对于每一个正多边形，它有多少个度数相同的内角？这些内角加起来的和是多少？\n",
    "   - for each regular polygon, how many exterior angles does it have? What is the sum of these exterior angles?对于每一个正多边形，它有多少个度数相同的外角？这些外角加起来的和是多少？，\n",
    "   - is it true that the more sides of a regular polygon, the greater the sum of the interior and exterior angles?是不是正多边形的边数越多，内、外角和就越大？\n",
    "   \n",
    "   Fill in the answers in the two cells below, where the answer for regular triangle has been given as an example 将答案填写在下面的两个单元格中，其中三角形作为示例答案已经给出"
   ]
  },
  {
   "cell_type": "code",
   "execution_count": 2,
   "id": "e94bc53b",
   "metadata": {},
   "outputs": [],
   "source": [
    "# number        degree for         number of      number of       sum of degree of       sum of degree of \n",
    "# of edges      each turn          inner angle    outer angle     inner angles           inner angles\n",
    "# 正多边形边数   绘图时每次转的度数   内角个数       外角个数         内角和（度）            外角和（度）      \n",
    "#     3              120               3              3              180                   360\n",
    "#     4              90                4              4              180\n",
    "#     5              72                5              5              180\n",
    "#     6              60                6              6              180\n",
    "#     8              45                8              8              180\n",
    "#     9              40                9              9              180\n",
    "#    10              36               10             10              180"
   ]
  },
  {
   "cell_type": "code",
   "execution_count": null,
   "id": "b570c9fe",
   "metadata": {},
   "outputs": [],
   "source": [
    "# 是不是正多边形的边数越多，内、外角和就越大？\n",
    "# 不是。"
   ]
  },
  {
   "cell_type": "markdown",
   "id": "8efcd993",
   "metadata": {},
   "source": [
    "5. (**Hard Optional; 困难，选做， /25**）Use skills you learned so far, draw the following figure  使用已经教学过的知识，编程绘制下图所示的图形。Detailed requirements are 具体要求如下：\n",
    "   - this is a shape composed of 20 end-to-end line segments, counting from left to right with 10 vertical line segments; counting from top to bottom with 10 horizontal line segments; 这是由20条首尾连接的线段组成的一个图案，自左向右数一个有10条垂直方向的线段；自上向下数有10条水平方向的线段；\n",
    "   - Start drawing from the center of the screen, the length of the initial horizontal line segment and the vertical line segment drawn after turning 90 degrees to the left are both 20; 从屏幕正中央开始绘图，最初的水平线段和随后左转90度后绘制的垂直线段长度均为20；\n",
    "   - The two line segments drawn each time (respectively a horizontal and a vertical line segment drawn after turning 90 degrees to the left) are equal in length and 20 longer than the previous two line segments; 每次绘制的两条线段（分别为一条水平和左转90度后绘制的一条垂直线段）长度相等且比之前的两条线段长20；\n",
    "   - Repeat this until 20 line segments are drawnRepeat this until 20 line segments are drawn; 如此重复直至绘制完成20条线段；\n",
    "      \n",
    "   <img src=\"figures/L007_assign05_regular_polygons.png\" width = 500>"
   ]
  },
  {
   "cell_type": "code",
   "execution_count": 62,
   "id": "8c2ab106",
   "metadata": {},
   "outputs": [],
   "source": []
  },
  {
   "cell_type": "markdown",
   "id": "d3ca0aaa",
   "metadata": {},
   "source": [
    "6. (**Hard Optional; 困难，选做, /(25+10)**)使用`while`循环绘制下图。要求：\n",
    "      - all the three squares are absolutely located in the middle of the draw area whose size is 600*400; 所有的三个正方形都完全位于尺寸为600×400的绘图区域的中心\n",
    "      - the side lengths of the three squares are: 250, 150, and 50, respectively; 三个正方形的边长依次为250，150，和50;\n",
    "      - line size for each square is 1, 2, and 3 from inside to outside; 三个正方形从内到外线宽依次为1，2，和3;\n",
    "      - you can use either one `while` loop or two wrapped `while` loops; 可以只使用一个`while`循环来实现，也可以使用两个`while`循环嵌套来实现；\n",
    "      - if you use two `while` loops **and** the all codes are controlled within 35 lines (the line where the import, setup is located is not included in the total lines), you can get an extra 10 points if the result is correct; 如果你使用了两个`while`循环**并且**代码总行数控制在35行以内（import, setup所在的行不计入总行数），结果正确可以获得额外的10分加分;\n",
    "      \n",
    "   <img src=\"figures/L007_assign06_regular_polygons.png\" width = 500>"
   ]
  },
  {
   "cell_type": "code",
   "execution_count": null,
   "id": "52e29637",
   "metadata": {},
   "outputs": [],
   "source": []
  }
 ],
 "metadata": {
  "kernelspec": {
   "display_name": "Python 3 (ipykernel)",
   "language": "python",
   "name": "python3"
  },
  "language_info": {
   "codemirror_mode": {
    "name": "ipython",
    "version": 3
   },
   "file_extension": ".py",
   "mimetype": "text/x-python",
   "name": "python",
   "nbconvert_exporter": "python",
   "pygments_lexer": "ipython3",
   "version": "3.9.0"
  }
 },
 "nbformat": 4,
 "nbformat_minor": 5
}
