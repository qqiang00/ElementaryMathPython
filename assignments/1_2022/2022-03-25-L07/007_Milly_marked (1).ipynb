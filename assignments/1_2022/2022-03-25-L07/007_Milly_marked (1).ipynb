{
 "cells": [
  {
   "cell_type": "markdown",
   "id": "included-education",
   "metadata": {
    "tags": []
   },
   "source": [
    "## 第07讲 绘制正多边形（二)\n",
    "Lecture07 Draw Regular Polygons（Part 2)"
   ]
  },
  {
   "cell_type": "markdown",
   "id": "d6e9b846-7116-4079-ab4b-1869a2a76255",
   "metadata": {},
   "source": [
    "**<span style=\"color:red\">153/160</span>** Marked by Qiang\n",
    "\n",
    "(94+59)/(100+60)\n",
    "非常非常非常棒！希望保持！\n",
    "\n",
    "- 减分项\n",
    "\n",
    "  -5 第3题：正五边形最上方的顶点距离绘图区中心不是一个边长的距离。  \n",
    "  -1 第4题：题目没有要求写正七边形有关数据\n",
    "\n",
    "- 加分项\n",
    "\n",
    "   +25 第5题：非常好！   \n",
    "   +34 第6题：非常好！注意在正式交作业前删除那些打草稿用的代码"
   ]
  },
  {
   "cell_type": "markdown",
   "id": "f9f70484-6376-4931-90fd-d86eca0986cd",
   "metadata": {
    "tags": []
   },
   "source": [
    "### Assignments 作业"
   ]
  },
  {
   "cell_type": "code",
   "execution_count": 1,
   "id": "52b011de-8ef8-438f-8c24-7d49fb1338d8",
   "metadata": {},
   "outputs": [],
   "source": [
    "from random import randint\n",
    "from turtle import setup, reset, bye, pu, pd, bk, fd, left, right, st, ht\n",
    "# from turtle import penup, pendown, backward, forward, showturtle, hideturtle\n",
    "from turtle import pencolor, pensize\n",
    "setup(600, 400, -10, 10)"
   ]
  },
  {
   "cell_type": "markdown",
   "id": "ae24b055-8534-4157-a951-25b36982fd6b",
   "metadata": {},
   "source": [
    "1.  Use skills you learned so far, draw a regular octagon like the following figure shows. 使用已经教学过的知识，绘制如下图类似的正八边形。Detailed requirements are 具体要求如下：\n",
    "   - side length is 120, centered left and right middle, line size is 3, line color is green 它边为120，**左右**居中位于绘图区，每条边的线宽总是3，颜色是绿色\n",
    "   - the lowest part of the octagon is a vertex instead of an edge 它最下方不是一条边而是一个顶点\n",
    "   - from each vertex of the octangon, there is a red line (size is 1) pointing to its center with the same length as the octagon itself 正八边形每一个顶点都朝向中心延伸出一条线宽为1颜色为红色的长度与八边形边长相等的线段\n",
    "   - comment each line of your code 给每一行代码添加注释\n",
    "   \n",
    "   <img src=\"figures/L007_assign01_regular_polygons.png\" width = 500>"
   ]
  },
  {
   "cell_type": "code",
   "execution_count": 2,
   "id": "3e2d7634-9658-40cf-8a07-b722543a667e",
   "metadata": {},
   "outputs": [],
   "source": [
    "from turtle import setup, reset, bye, pu, pd, bk, fd, left, right, st, ht, pencolor, pensize   #导入一些方法\n",
    "setup(600, 400, 0, 0)          #准备一个600*400的绘图区域"
   ]
  },
  {
   "cell_type": "code",
   "execution_count": 5,
   "id": "54d655f6-084b-4253-bcf9-76ad3684f94f",
   "metadata": {},
   "outputs": [],
   "source": [
    "side = 120                     #边长是120像素\n",
    "half_side = side / 2           #边长的一半是边长/2\n",
    "degree1 = 112.5                #角度1是112.5度\n",
    "degree2 = 67.5                 #角度2是67.5度\n",
    "reset()                        #清空画布          \n",
    "pu()                           #提起笔         \n",
    "right(90)                      #右转90度          \n",
    "fd(side)                       #前进120像素          \n",
    "left(degree1)                  #左转112.5度                                            \n",
    "pd()                           #落笔\n",
    "pencolor(\"green\")              #画笔颜色绿色\n",
    "size = 3                       #size中的数据是3"
   ]
  },
  {
   "cell_type": "code",
   "execution_count": 6,
   "id": "6cb769b4-8b3b-449e-9bf7-134350018150",
   "metadata": {},
   "outputs": [],
   "source": [
    "st()                           #显示小乌龟\n",
    "i = 0                          #已经画了0条边\n",
    "n = 8                          #总共要画8条边\n",
    "while i < n:                   #当已经画的边的数量<总共要画的边的数量时\n",
    "    pensize(size)              #调整笔的粗细为3\n",
    "    pencolor(\"green\")          #调整颜色为绿色\n",
    "    fd(side)                   #前进120像素 \n",
    "    left(degree1)              #左转112.5度 \n",
    "    pencolor(\"red\")            #画笔颜色红色\n",
    "    pensize(1)                 #调整笔的粗细为1\n",
    "    fd(side)                   #前进120像素\n",
    "    bk(side)                   #后退120像素\n",
    "    right(degree2)             #右转67.5度\n",
    "    i = i + 1                  #已经画的边的数量 + 1\n",
    "    \n",
    "ht()                           #隐藏乌龟"
   ]
  },
  {
   "cell_type": "markdown",
   "id": "f7814f33-12e2-497e-bf27-4ba207d3cadb",
   "metadata": {},
   "source": [
    "2. Use skills you learned so far, draw a regular hexagon like the following figure shows.使用已经教学过的知识，编程绘制出下图所示的图形。Detailed requirements are 具体要求如下：\n",
    "   - side length is 120, centered left and right middle, line size is 3, line color is green 它边长为120，仍然在绘图区**左右**居中，每条边的线宽总是3，颜色是绿色；\n",
    "   - the lowest part of the octagon is a vertex instead of an edge 它最下方不是一条边而是一个顶点\n",
    "   - the 3 furthest pairs of vertices in the regular hexagon are connected by red lines of width 1 正六边形中距离最远的3对顶点是用颜色为红色的宽为1的线条连接起来的\n",
    "   - comment each line of your code 给每一行代码添加注释\n",
    "   \n",
    "   <img src=\"figures/L007_assign02_regular_polygons.png\" width = 500>"
   ]
  },
  {
   "cell_type": "code",
   "execution_count": 7,
   "id": "e7f6aafb-833b-459a-abe9-c03daad4ee41",
   "metadata": {},
   "outputs": [],
   "source": [
    "from turtle import setup, reset, bye, pu, pd, bk, fd, left, right, st, ht, pencolor, pensize   #导入一些方法\n",
    "setup(600, 400, 0, 0)          #准备一个600*400的绘图区域"
   ]
  },
  {
   "cell_type": "code",
   "execution_count": 8,
   "id": "db0e0472-970b-4dac-ad3d-901e9cbb7cee",
   "metadata": {},
   "outputs": [],
   "source": [
    "side = 120                     #边长是120像素\n",
    "half_side = side / 2           #边长的一半是边长/2\n",
    "degree1 = 120                  #角度1是120度\n",
    "degree2 = 60                   #角度2是60度\n",
    "reset()                        #清空画布          \n",
    "pu()                           #提起笔         \n",
    "right(90)                      #右转90度          \n",
    "fd(side)                       #前进120像素          \n",
    "left(degree1)                  #左转120度                                            \n",
    "pd()                           #落笔\n",
    "pencolor(\"green\")              #画笔颜色绿色\n",
    "size = 3                       #size中的数据是3"
   ]
  },
  {
   "cell_type": "code",
   "execution_count": 9,
   "id": "0ae4782a-f1dc-4a01-8915-fded53af86a1",
   "metadata": {},
   "outputs": [],
   "source": [
    "st()                           #显示小乌龟\n",
    "i = 0                          #已经画了0条边\n",
    "n = 6                          #总共要画6条边\n",
    "while i < n:                   #当已经画的边的数量<总共要画的边的数量时\n",
    "    pensize(size)              #调整笔的粗细为3\n",
    "    pencolor(\"green\")          #调整颜色为绿色\n",
    "    fd(side)                   #前进120像素 \n",
    "    left(degree1)              #左转120度 \n",
    "    pencolor(\"red\")            #画笔颜色红色\n",
    "    pensize(1)                 #调整笔的粗细为1\n",
    "    fd(side)                   #前进120像素\n",
    "    bk(side)                   #后退120像素\n",
    "    right(degree2)             #右转60度\n",
    "    i = i + 1                  #已经画的边的数量 + 1\n",
    "    \n",
    "ht()                           #隐藏乌龟"
   ]
  },
  {
   "cell_type": "markdown",
   "id": "6de8eb4b-5674-4052-b804-99501e591f56",
   "metadata": {},
   "source": [
    "3. Use skills you learned so far, draw a regular pentagon like the following figure shows 使用已经教学过的知识，编程绘制出下图所示的图形。Detailed requirements are 具体要求如下：\n",
    "   - side length is 120, centered left and right middle, line size is 3, line color is green 它边为120，仍然在绘图区**左右**居中，每条边的线宽总是3，颜色是绿色；\n",
    "   - its **top** is a vertex of a regular pentagon, and the distance from this vertex to the center of the drawing area (the starting position of the turtle) is equal to the side length of the regular pentagon 它最**上方**是正五边形的一个顶点，且这个顶点距离绘图区中心（海龟一开始的位置）的距离等于正五边形的边长；\n",
    "   - each vertex extends toward the center with a line with a width of 1 and a color of red with a length equal to the length of the side.每一个顶点都朝向中心延伸出一条线宽为1颜色为红色的长度与边长相等的线段\n",
    "   - comment each line of your code 给每一行代码添加注释\n",
    "   \n",
    "   <img src=\"figures/L007_assign03_regular_polygons.png\" width = 500>"
   ]
  },
  {
   "cell_type": "code",
   "execution_count": 1,
   "id": "f5ca4344-3c25-43b6-87e2-3ca6d7a5e653",
   "metadata": {},
   "outputs": [],
   "source": [
    "from turtle import setup, reset, bye, pu, pd, bk, fd, left, right, st, ht, pencolor, pensize   #导入一些方法\n",
    "setup(600, 400, 0, 0)          #准备一个600*400的绘图区域"
   ]
  },
  {
   "cell_type": "code",
   "execution_count": 2,
   "id": "97c713d4-fd88-4ded-8206-72848f2cf8cc",
   "metadata": {},
   "outputs": [],
   "source": [
    "side = 120                     #边长是120像素\n",
    "half_side = side / 2           #边长的一半是边长/2\n",
    "degree1 = 126                  #角度1是120度\n",
    "degree2 = 54                   #角度2是54度\n",
    "degree3 = 90                   #角度3是90度\n",
    "reset()                        #清空画布          \n",
    "pu()                           #提起笔         \n",
    "left(degree3)                  #左转90度          \n",
    "fd(side)                       #前进120像素  \n",
    "left(degree1)                  #左转90度  \n",
    "pd()                           #落笔\n",
    "pencolor(\"green\")              #画笔颜色绿色\n",
    "size = 3                       #size中的数据是3"
   ]
  },
  {
   "cell_type": "code",
   "execution_count": 3,
   "id": "5161b13f-e5ab-4a5b-9356-1cd3ee7df292",
   "metadata": {},
   "outputs": [],
   "source": [
    "st()                           #显示小乌龟\n",
    "i = 0                          #已经画了0条边\n",
    "n = 5                          #总共要画5条边\n",
    "while i < n:                   #当已经画的边的数量<总共要画的边的数量时\n",
    "    pensize(size)              #调整笔的粗细为3\n",
    "    pencolor(\"green\")          #调整颜色为绿色\n",
    "    fd(side)                   #前进120像素 \n",
    "    left(degree1)              #左转126度 \n",
    "    pencolor(\"red\")            #画笔颜色红色\n",
    "    pensize(1)                 #调整笔的粗细为1\n",
    "    fd(side)                   #前进120像素\n",
    "    bk(side)                   #后退120像素\n",
    "    right(degree2)             #右转54度\n",
    "    i = i + 1                  #已经画的边的数量 + 1\n",
    "    \n",
    "ht()                           #隐藏乌龟"
   ]
  },
  {
   "cell_type": "markdown",
   "id": "121025eb-f7ea-4250-8f96-731041c97b60",
   "metadata": {},
   "source": [
    "4. Observe 7 regular polygons including regular triangle, square, regular pentagon, regular hexagon, regular octagon, regular nonagon, and regular decagon, answer the following questions: 观察正三、正四、正五、正六、正八、正九、正十边形等7个正多边形，回答下列问题：\n",
    "   - when drawing each regular polygon, how many degrees does the little turtle turn after each edge is drawn? 在绘制每一个正多边形时，小海龟在绘制完成一条边后要转多少度？\n",
    "   - for each regular polygon, how many interior angle does it have, What is the sum of these interior angles? 对于每一个正多边形，它有多少个度数相同的内角？这些内角加起来的和是多少？\n",
    "   - for each regular polygon, how many exterior angles does it have? What is the sum of these exterior angles?对于每一个正多边形，它有多少个度数相同的外角？这些外角加起来的和是多少？，\n",
    "   - is it true that the more sides of a regular polygon, the greater the sum of the interior and exterior angles?是不是正多边形的边数越多，内、外角和就越大？\n",
    "   \n",
    "   Fill in the answers in the two cells below, where the answer for regular triangle has been given as an example 将答案填写在下面的两个单元格中，其中三角形作为示例答案已经给出"
   ]
  },
  {
   "cell_type": "code",
   "execution_count": null,
   "id": "bf4097cd-db55-44e9-bd4e-c9b47bbe3b75",
   "metadata": {},
   "outputs": [],
   "source": [
    "# number        degree for         number of      number of       sum of degree of       sum of degree of \n",
    "# of edges      each turn          inner angle    outer angle     inner angles           inner angles\n",
    "# 正多边形边数   绘图时每次转的度数   内角个数       外角个数         内角和（度）            外角和（度）      \n",
    "#     3              120             3               3              180                   360\n",
    "#     4              90              4               4              360                   360\n",
    "#     5              72              5               5              540                   360                  \n",
    "#     6              60              6               6              720                   360\n",
    "#     8              45              8               8              1080                  360\n",
    "#     9              40              9               9              1260                  360\n",
    "#    10              36              10              10             1440                  360"
   ]
  },
  {
   "cell_type": "code",
   "execution_count": null,
   "id": "218fe838-d8eb-4c5f-942c-751889335cc2",
   "metadata": {},
   "outputs": [],
   "source": [
    "# 是不是正多边形的边数越多，内、外角和就越大？\n",
    "# 答：\n",
    "# 内角和：是的，如果要求内角和，还可以用这个公式来计算：（边的数量 - 2） * 180。\n",
    "# 外角和：不是的，所以多边形（不论是正多边形还是多边形），外角和都是360度。"
   ]
  },
  {
   "cell_type": "markdown",
   "id": "3c843578-33b0-4e36-a753-35a6fd639f9f",
   "metadata": {},
   "source": [
    "5. (**Hard Optional; 困难，选做， /25**）Use skills you learned so far, draw the following figure  使用已经教学过的知识，编程绘制下图所示的图形。Detailed requirements are 具体要求如下：\n",
    "   - this is a shape composed of 20 end-to-end line segments, counting from left to right with 10 vertical line segments; counting from top to bottom with 10 horizontal line segments; 这是由20条首尾连接的线段组成的一个图案，自左向右数一个有10条垂直方向的线段；自上向下数有10条水平方向的线段；\n",
    "   - Start drawing from the center of the screen, the length of the initial horizontal line segment and the vertical line segment drawn after turning 90 degrees to the left are both 20; 从屏幕正中央开始绘图，最初的水平线段和随后左转90度后绘制的垂直线段长度均为20；\n",
    "   - The two line segments drawn each time (respectively a horizontal and a vertical line segment drawn after turning 90 degrees to the left) are equal in length and 20 longer than the previous two line segments; 每次绘制的两条线段（分别为一条水平和左转90度后绘制的一条垂直线段）长度相等且比之前的两条线段长20；\n",
    "   - Repeat this until 20 line segments are drawnRepeat this until 20 line segments are drawn; 如此重复直至绘制完成20条线段；\n",
    "      \n",
    "   <img src=\"figures/L007_assign05_regular_polygons.png\" width = 500>"
   ]
  },
  {
   "cell_type": "code",
   "execution_count": 18,
   "id": "5396d0b9-0897-46aa-b9f5-b584e88267ed",
   "metadata": {},
   "outputs": [],
   "source": [
    "from turtle import setup, reset, bye, pu, pd, bk, fd, left, right, st, ht, pencolor, pensize   \n",
    "setup(600, 400, 0, 0)      "
   ]
  },
  {
   "cell_type": "code",
   "execution_count": 19,
   "id": "9842d167-8742-49e7-b2ef-b04742984122",
   "metadata": {},
   "outputs": [],
   "source": [
    "reset()   \n",
    "side = 20\n",
    "degree = 90"
   ]
  },
  {
   "cell_type": "code",
   "execution_count": 20,
   "id": "967007af-4324-49e2-bc32-8e514db0ee0c",
   "metadata": {},
   "outputs": [],
   "source": [
    "i = 0\n",
    "n = 10\n",
    "while i < n:\n",
    "    fd(side)\n",
    "    left(degree)\n",
    "    fd(side)\n",
    "    left(degree)\n",
    "    i = i + 1\n",
    "    side = side + 20\n",
    "    \n",
    "ht()"
   ]
  },
  {
   "cell_type": "markdown",
   "id": "e2fff6aa-60cd-4a20-a19a-239257a8ec9f",
   "metadata": {},
   "source": [
    "6. (**Hard Optional; 困难，选做, /(25+10)**)使用`while`循环绘制下图。要求：\n",
    "      - all the three squares are absolutely located in the middle of the draw area whose size is 600*400; 所有的三个正方形都完全位于尺寸为600×400的绘图区域的中心\n",
    "      - the side lengths of the three squares are: 250, 150, and 50, respectively; 三个正方形的边长依次为250，150，和50;\n",
    "      - line size for each square is 1, 2, and 3 from inside to outside; 三个正方形从内到外线宽依次为1，2，和3;\n",
    "      - you can use either one `while` loop or two wrapped `while` loops; 可以只使用一个`while`循环来实现，也可以使用两个`while`循环嵌套来实现；\n",
    "      - if you use two `while` loops **and** the all codes are controlled within 35 lines (the line where the import, setup is located is not included in the total lines), you can get an extra 10 points if the result is correct; 如果你使用了两个`while`循环**并且**代码总行数控制在35行以内（import, setup所在的行不计入总行数），结果正确可以获得额外的10分加分;\n",
    "      \n",
    "   <img src=\"figures/L007_assign06_regular_polygons.png\" width = 500>"
   ]
  },
  {
   "cell_type": "code",
   "execution_count": 21,
   "id": "fe4241c6-2893-4c52-ad28-f780824a70ac",
   "metadata": {},
   "outputs": [],
   "source": [
    "from turtle import setup, reset, bye, pu, pd, bk, fd, left, right, st, ht, pencolor, pensize   \n",
    "setup(600, 400, 0, 0)      "
   ]
  },
  {
   "cell_type": "code",
   "execution_count": 32,
   "id": "df9abd56-6c93-4c63-baa5-37ba56035bbf",
   "metadata": {},
   "outputs": [],
   "source": [
    "reset()\n",
    "side = 50\n",
    "side_space = 50\n",
    "degree = 90\n",
    "pu()\n",
    "right(degree)\n",
    "fd(side / 2)\n",
    "right(degree)\n",
    "fd(side / 2)\n",
    "right(degree)\n",
    "size = 1\n",
    "pd()"
   ]
  },
  {
   "cell_type": "code",
   "execution_count": 33,
   "id": "bd858c40-db93-44cf-9ffa-f84636df331d",
   "metadata": {
    "tags": []
   },
   "outputs": [],
   "source": [
    "j = 0\n",
    "m = 3\n",
    "while j < m:\n",
    "    i = 0\n",
    "    n = 4\n",
    "    while i < n:\n",
    "        pensize(size)\n",
    "        fd(side)\n",
    "        right(degree)\n",
    "        i = i + 1\n",
    "    pu()\n",
    "    left(degree)\n",
    "    fd(side_space)\n",
    "    left(degree)\n",
    "    fd(side_space)\n",
    "    left(180)\n",
    "    pd()\n",
    "    size = size + 1\n",
    "    side = side + 100\n",
    "    j = j + 1\n",
    "ht()"
   ]
  },
  {
   "cell_type": "code",
   "execution_count": null,
   "id": "f4fa8e96-0b5c-4d8f-b004-39563929b143",
   "metadata": {},
   "outputs": [],
   "source": []
  }
 ],
 "metadata": {
  "kernelspec": {
   "display_name": "Python 3 (ipykernel)",
   "language": "python",
   "name": "python3"
  },
  "language_info": {
   "codemirror_mode": {
    "name": "ipython",
    "version": 3
   },
   "file_extension": ".py",
   "mimetype": "text/x-python",
   "name": "python",
   "nbconvert_exporter": "python",
   "pygments_lexer": "ipython3",
   "version": "3.9.0"
  }
 },
 "nbformat": 4,
 "nbformat_minor": 5
}
