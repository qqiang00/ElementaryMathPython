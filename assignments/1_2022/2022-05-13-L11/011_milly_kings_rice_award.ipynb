{
 "cells": [
  {
   "cell_type": "markdown",
   "id": "relative-location",
   "metadata": {},
   "source": [
    " ## 第11讲 国王的奖励"
   ]
  },
  {
   "cell_type": "markdown",
   "id": "d12f05dd",
   "metadata": {
    "tags": []
   },
   "source": [
    "### Problem 问题描述\n",
    "完成作业时间：45分钟"
   ]
  },
  {
   "cell_type": "markdown",
   "id": "c7cd1f0b-8266-49f3-a77e-806bec2c40ce",
   "metadata": {},
   "source": [
    "In ancient times, because the level of science and technology was not very developed, people were not always able to eat enough, so food like rice and noodles were very precious and was often used as a gift or reward to close people.\n",
    "\n",
    "在古代，由于科学技术水平并不是很发达，人们并不是总能吃饱，因而像米面这样的食物就显得很珍贵，经常会被用来作为礼物赠送或奖赏给关系亲密的人。\n",
    "\n",
    "There was such a king who lived in ancient times. He liked one of his generals very much and wanted to reward him with some rice and, by the way, to evaluate the general's Math skills. The king formulated two reward options for the general to choose:\n",
    "\n",
    "有这样一位生活在古代的国王，他很欣赏手下的一位将军，想奖励他一些大米并借机考察考察将军的算术能力，国王制定了两个奖励方案让将军选择：\n",
    "\n",
    "- Option 1: 100 bags will be rewarded on the first day, and every day thereafter will be **100** bags **more** than the previous day's reward, and so for 14 consecutive days; 方案一：第一天奖励**100**袋，以后每天都比前一天**多**奖励**100**袋，如此连续奖励14天；\n",
    "\n",
    "- Option 2: 1 bag will be awarded on the first day, and the number of rice bags will be **twice** as many as the previous day for each day, and so for 14 days; 方案二：第一天奖励1袋，以后每一天奖励的大米袋数都是前一天的**2**倍，如此连续奖励14天；\n",
    "\n",
    "Suppose you are the general and your purpose is to get as much reward as possible from the king in order to share as much rice as possible with your soldiers. Please answer: \n",
    "\n",
    "假如你是这位将军，并且你的目的是希望从国王那里得到尽可能多的奖励，以便分享尽可能多的大米给你手下的士兵。请回答：\n",
    "\n",
    "1. Which option should you choose and why? 你应该选择哪一种方案，为什么？\n",
    "2. From which day onwards, rewards of a day from the second option will be more than the rewards of the day the first option? 从第几天起，第二种方案当天的奖励就会一直比第一种方案当天的奖励多？\n",
    "3. Please print out the number of bags of rice (aligned to the right) that the king should reward to the general every day under each option (as shown in the table below) 请把每一种方案下国王每一天应该奖励给将军的大米的袋数（右对齐）打印出来（如下表所示）\n",
    "\n",
    "```text\n",
    "Day\t  Option1\t Option2\n",
    " 1\t\t 100\t\t  1\n",
    " 2\t\t 200\t\t  2\n",
    " 3\t\t 300\t\t  4\n",
    " 4\t\t 400\t\t  8\n",
    " 5\t\t 500\t\t 16\n",
    "...\t\t...\t\t...\n",
    "```"
   ]
  },
  {
   "cell_type": "markdown",
   "id": "d55f37d9",
   "metadata": {},
   "source": [
    "### Solution 编程求解"
   ]
  },
  {
   "cell_type": "code",
   "execution_count": null,
   "id": "2e5f3aba-93af-461d-be7f-f0384bc9f7dc",
   "metadata": {},
   "outputs": [],
   "source": [
    "# Solution1\n",
    "total_awarded_option1 = 0\n",
    "total_awarded_option2 = 0\n",
    "cur_award_option1 = 100\n",
    "cur_award_option2 = 1\n",
    "award_increase_option1 = 100\n",
    "award_times_option2 = 2\n",
    "next_award_option1 = cur_award_option1\n",
    "next_award_option2 = cur_award_option2\n",
    "days_awarded = 0\n",
    "days_total = 14\n",
    "special_day = None\n",
    "\n",
    "print(\"Day\\tOption1\\tOption2\")\n",
    "while days_awarded < days_total:\n",
    "    # Option1\n",
    "    cur_award_option1 = next_award_option1\n",
    "    total_awarded_option1 += cur_award_option1\n",
    "    next_award_option1 = cur_award_option1 + award_increase_option1\n",
    "    # Option2\n",
    "    cur_award_option2 = next_award_option2\n",
    "    total_awarded_option2 += cur_award_option2\n",
    "    next_award_option2 = cur_award_option2 * award_times_option2 \n",
    "    \n",
    "    days_awarded += 1\n",
    "    print(\"{:>2}\\t{:>4}\\t{:>4}\".format(days_awarded, \n",
    "                                       cur_award_option1, \n",
    "                                       cur_award_option2))\n",
    "    if cur_award_option2 > cur_award_option1 and special_day is None:\n",
    "        special_day = days_awarded\n",
    "            \n",
    "print(\"从第{}天开始，方案二每天奖励的大米将会比方案一多。\".format(special_day))            \n",
    "print(\"方案一将军最终获得大米:{}袋，方案二将军最终获得大米{}袋。\"\n",
    "      .format(total_awarded_option1, total_awarded_option2))\n",
    "if total_awarded_option1 > total_awarded_option2:\n",
    "    print(\"将军应该选择方案一。\")\n",
    "elif total_awarded_option1 < total_awarded_option2:\n",
    "    print(\"将军应该选择方案二。\")\n",
    "else:\n",
    "    print(\"将军可选择任意一种方案，因为两种方案获得的最终奖励一样，都是{}袋。\"\n",
    "          .format(total_awarded_option1))"
   ]
  },
  {
   "cell_type": "code",
   "execution_count": null,
   "id": "99536414-d32d-4e00-b1fa-fcd26bda234b",
   "metadata": {},
   "outputs": [],
   "source": [
    "# Solution2\n",
    "total_awarded_option1 = 0\n",
    "total_awarded_option2 = 0\n",
    "cur_award_option1 = 100\n",
    "cur_award_option2 = 1\n",
    "award_increase_option1 = 100\n",
    "award_times_option2 = 2\n",
    "days_awarded = 0\n",
    "days_total = 14\n",
    "special_day = None\n",
    "\n",
    "print(\"Day\\tOption1\\tOption2\")\n",
    "while days_awarded < days_total:\n",
    "    total_awarded_option1 += cur_award_option1\n",
    "    total_awarded_option2 += cur_award_option2\n",
    "    days_awarded += 1\n",
    "    print(\"{:>2}\\t{:>4}\\t{:>4}\".format(days_awarded, \n",
    "                                       cur_award_option1, \n",
    "                                       cur_award_option2))\n",
    "    if cur_award_option2 > cur_award_option1 and special_day is None:\n",
    "        special_day = days_awarded\n",
    "    cur_award_option1 += award_increase_option1\n",
    "    cur_award_option2 *= award_times_option2 \n",
    "    \n",
    "print(\"从第{}天开始，方案二每天奖励的大米将会比方案一多。\".format(special_day))            \n",
    "print(\"方案一将军最终获得大米:{}袋，方案二将军最终获得大米{}袋。\"\n",
    "      .format(total_awarded_option1, total_awarded_option2))\n",
    "if total_awarded_option1 > total_awarded_option2:\n",
    "    print(\"将军应该选择方案一。\")\n",
    "elif total_awarded_option1 < total_awarded_option2:\n",
    "    print(\"将军应该选择方案二。\")\n",
    "else:\n",
    "    print(\"将军可选择任意一种方案，因为两种方案获得的最终奖励一样，都是{}袋。\"\n",
    "          .format(total_awarded_option1))"
   ]
  },
  {
   "cell_type": "markdown",
   "id": "digital-consensus",
   "metadata": {
    "heading_collapsed": true
   },
   "source": [
    "### Assignments 作业"
   ]
  },
  {
   "cell_type": "markdown",
   "id": "controversial-sleeve",
   "metadata": {
    "hidden": true
   },
   "source": [
    "1. Please improve the sample program shown in this lecture. All known conditions remain unchanged, add two extra columns to the output table indicating the accumulated bags of rewarded rice until the end of each day, as shown in the following table:\n",
    "\n",
    "    完善本讲示例程序，所有已知条件不变，要求输出的表格中增两列，分别表示截止到某一天为止，将军累积获得的大米奖励总袋数，如下表所示：\n",
    "```text\n",
    "Day\t  Option1\t Option2\t Total1\t Total2\n",
    " 1\t\t 100\t\t  1\t \t 100\t \t 1\n",
    " 2\t\t 200\t\t  2\t \t 300\t \t 3\n",
    " 3\t\t 300\t\t  4\t \t 600\t \t 7\n",
    " ...\t\t...\t\t...\t     ...\t    ...\n",
    "```"
   ]
  },
  {
   "cell_type": "code",
   "execution_count": 1,
   "id": "d02e3afd-1d94-429a-942c-8942afe418ed",
   "metadata": {},
   "outputs": [
    {
     "name": "stdout",
     "output_type": "stream",
     "text": [
      "   Day   Option1   Option2   Total1   Total2\n",
      "     1      100\n",
      "     2      100\n",
      "     3      100\n",
      "     4      100\n",
      "     5      100\n",
      "     6      100\n",
      "     7      100\n",
      "     8      100\n",
      "     9      100\n",
      "    10      100\n",
      "    11      100\n",
      "    12      100\n",
      "    13      100\n",
      "    14      100\n",
      "    14    100      1\n",
      "方案1将军每天获得大米袋数记录：[100, 100, 100, 100, 100, 100, 100, 100, 100, 100, 100, 100, 100, 100]\n",
      "方案2将军每天获得大米袋数记录：[]\n",
      "1400\n"
     ]
    }
   ],
   "source": [
    "cur_award_option1 = 100\n",
    "all_awards1 = []\n",
    "total_awarded_option1 = 0\n",
    "award_increase_option1 = 100\n",
    "\n",
    "days_awarded = 0\n",
    "days_total = 14\n",
    "special_day = []    \n",
    "print(\"   Day\" + \"   Option1\" + \"   Option2\" + \"   Total1\" + \"   Total2\")\n",
    "\n",
    "cur_award_option2 = 1\n",
    "total_awarded_option2 = 0\n",
    "all_awards2 = []\n",
    "award_increase_option2 = 2\n",
    "\n",
    "while days_awarded < 14:                               # Option1\n",
    "    all_awards1.append(cur_award_option1)\n",
    "    total_awarded_option1 = total_awarded_option1 + cur_award_option1\n",
    "    days_awarded = days_awarded + 1\n",
    "    print(\"   {:>3}     {:>4}\".format(days_awarded, cur_award_option1))\n",
    "while days_awarded < 14:                               # Option2\n",
    "    all_awards2.append(cur_award_option2)\n",
    "    total_awarded_option2 = total_awarded_option2 + cur_award_option2\n",
    "    days_awarded = days_awarded + 1\n",
    "    cur_award_option2 = cur_award_option2 * award_increase_option2\n",
    "    \n",
    "print(\"   {:>3}   {:>4}   {:>4}\".format(days_awarded, cur_award_option1, cur_award_option2))\n",
    "print(\"方案1将军每天获得大米袋数记录：{}\".format(all_awards1))\n",
    "print(\"方案2将军每天获得大米袋数记录：{}\".format(all_awards2))\n",
    "print(total_awarded_option1) "
   ]
  },
  {
   "cell_type": "code",
   "execution_count": null,
   "id": "091f383e-002e-433b-9119-dc893c9d4df4",
   "metadata": {},
   "outputs": [],
   "source": [
    " print(\"   {:>3}     {:>4}\".format(days_awarded, cur_award_option1))"
   ]
  },
  {
   "cell_type": "markdown",
   "id": "bb0ac588-a55d-469c-9d4f-68cdba7dadf0",
   "metadata": {},
   "source": [
    "2. Xinxin wants to go back to China to visit her grandparents, but Xinxin is not able to do that immediately. It is limited by some conditions, such as whether there is a epidemic in Shanghai and whether Xinxin’s father or mother have vacations. Assuming that only when the epidemic in Shanghai is over **and** Xinxin's father **or** mother has several free days, can Xinxin return to China. 心心很想再回中国看望她的爷爷奶奶外公外婆，但是心心并不是想回去就能立刻回去的，这受到一些条件的限制，例如上海有没有疫情，心心的爸爸或妈妈是否有假期。假设只有当上海没有疫情消失**而且**心心的爸爸**或者**妈妈其一有假期时，心心才能够回国。\n",
    "\n",
    "    Please use the three preset conditions in next code cell to, 使用下面代码单元格中预设的三个条件，\n",
    "    1. list all possible combinations of conditions, and tell for each combination, is Xinxin able to go back to China and visit her grandparents; 列举出各种可能的条件组合，并且说出在每一种组合下，心心能否回中国看望她的爷爷奶奶外公外婆;\n",
    "    2. modify the values of various initial conditions to simulate various combinations of conditions, and write the final result in the second cell; 完善给出的代码并修改各种初始条件的值来模拟各种条件组合。"
   ]
  },
  {
   "cell_type": "code",
   "execution_count": null,
   "id": "63d64f82-4d8d-4c87-9667-0868c4b28653",
   "metadata": {},
   "outputs": [],
   "source": [
    "#条件组合序号 上海有疫情     爸爸有假期    妈妈有假期    心心可以回国\n",
    "#     1        False          False         False      False\n",
    "#     2        False          True          False      True\n",
    "#     3        False          False         True       True\n",
    "#     4        False          True          True       True\n",
    "#     5        True           True          True       False\n",
    "#     6        True           True          False      False\n",
    "#     7        True           False         True       False\n",
    "#     8        True           False         False      False"
   ]
  },
  {
   "cell_type": "code",
   "execution_count": null,
   "id": "ca10264b-c438-43a5-8ad8-2dbd292e733c",
   "metadata": {},
   "outputs": [],
   "source": [
    "# condition set1: \n",
    "has_covid = False                          # condition1 条件1\n",
    "is_daddy_free = False                      # condition2 条件2\n",
    "is_mom_free = False                        # condition3 条件3\n",
    "desc_covid = \"\"\n",
    "desc_daddy = \"\"\n",
    "desc_mon = \"\"\n",
    "desc_result = \"\"\n",
    "if has_covid:\n",
    "    desc_covid = \"上海有疫情\"\n",
    "else:\n",
    "     \n",
    "    desc_covid = \"上海没有疫情\"\n",
    "\n",
    "if is_daddy_free:\n",
    "    desc_daddy = \"爸爸有假期\"\n",
    "else:\n",
    "    desc_daddy = \"爸爸没有假期\"\n",
    "    \n",
    "if is_mom_free:\n",
    "    desc_mom = \"妈妈有假期\"\n",
    "else:\n",
    "    desc_mom = \"妈妈没有假期\"\n",
    "    \n",
    "can_Cynthia_back_to_China = None           # result 结果\n",
    "\n",
    "#TODO: replace True in next line with your own code\n",
    "#      把下一行代码中的True换成你自己的代码\n",
    "if desc_covid == \"上海没有疫情\" and desc_daddy == \"爸爸有假期\" or desc_mom == \"妈妈有假期\":\n",
    "    can_Cynthia_back_to_China = True\n",
    "    desc_result = \"心心可以回国\"\n",
    "else:\n",
    "    can_Cynthia_back_to_China = False\n",
    "    desc_result = \"心心不能回国\"\n",
    "\n",
    "print(\"因为{}，{}，{}，所以{}。\"\n",
    "      .format(desc_covid, desc_daddy, desc_mom, desc_result))"
   ]
  },
  {
   "cell_type": "markdown",
   "id": "2cfd55f7-2734-46de-b0a5-547aeabdc6e9",
   "metadata": {},
   "source": [
    "3. Assume that the following statements are true: 假设下面的陈述都是真实可信的：\n",
    "    1. The school will be closed if there is epidemic of COVID; 发生COVID疫情会导致学校关闭；\n",
    "    2. There are other factors that can cause schools to close, such as severe weather conditions or some major events; 存在其他一些因素也会导致学校关闭，例如发生灾害性天气或者举办重大活动等等；\n",
    "    3. Milly will only be able to return to school when the COVID is declared over and her school reopens 只有当COVID疫情消失并且学校重新开放时，Milly才能返回学校上课；\n",
    "    \n",
    "    Use the two preset conditions in the cells below, list every possible combination of two conditions and tell whether Milly could return to school under those two conditions, and then program to simulate each combination of conditions. 请使用下面单元格中预设的两个条件，列举出各种可能的条件组合，并且说出在这些条件组合下，Milly能否返回学校上课，随后通过编程来模拟各种条件组合。"
   ]
  },
  {
   "cell_type": "code",
   "execution_count": null,
   "id": "ed0a6628-6ea5-4368-b84a-00cf8bc8ddff",
   "metadata": {},
   "outputs": [],
   "source": [
    "#条件组合序号 上海有疫情     学校开放    Milly可以回学校\n",
    "#     1      \n",
    "#   "
   ]
  },
  {
   "cell_type": "code",
   "execution_count": null,
   "id": "77628e00-19b0-4d1f-8e0c-d1c54cf011a2",
   "metadata": {},
   "outputs": [],
   "source": [
    "has_covid = None                # Condition1 条件1\n",
    "is_school_open = None            # Condition2, 条件2\n",
    "desc_covid = \"\"\n",
    "desc_school = \"\"\n",
    "desc_result = \"\"\n",
    "\n",
    "# TODO add some codes to update is_chool_open because condition2 partially \n",
    "#      depends on condition1\n",
    "#      增加一些代码来更新变量 is_school_open, 因为条件1部分决定了条件2 \n",
    "pass\n",
    "\n",
    "if has_covid:\n",
    "    desc_covid = \"上海有疫情\"\n",
    "else:\n",
    "    desc_covid = \"上海没有疫情\"\n",
    "\n",
    "if is_school_open:\n",
    "    desc_school = \"学校开放\"\n",
    "else:\n",
    "    desc_school = \"学校关闭\"\n",
    "\n",
    "#TODO: replace True in next line with your own code\n",
    "#      把下一行代码中的True换成你自己的代码\n",
    "if True:\n",
    "    can_Milly_back_to_school = True\n",
    "    desc_result = \"Milly可以回学校\"\n",
    "else:\n",
    "    can_Milly_back_to_school = True\n",
    "    desc_result = \"Milly还不能回学校\"\n",
    "\n",
    "print(\"因为{},{},所以{}\".format(desc_covid, desc_school, desc_result))"
   ]
  },
  {
   "cell_type": "markdown",
   "id": "9eff2e25-dc1f-4cdd-8506-6216a9b6e289",
   "metadata": {},
   "source": [
    "4. (**Hard 困难**) Try to use **two nested** `while` loops to print out the following \"9-9 Multiplication Table\" 尝试使用**两个嵌套**的`while`循环打印下面的\"九九乘法表\"\n",
    "\n",
    "```text\n",
    "1 x 1 = 1  \n",
    "1 x 2 = 2  2 x 2 = 4   \n",
    "1 x 3 = 3  2 x 3 = 6   3 x 3 = 9   \n",
    "1 x 4 = 4  2 x 4 = 8   3 x 4 = 12  4 x 4 = 16  \n",
    "1 x 5 = 5  2 x 5 = 10  3 x 5 = 15  4 x 5 = 20  5 x 5 = 25  \n",
    "1 x 6 = 6  2 x 6 = 12  3 x 6 = 18  4 x 6 = 24  5 x 6 = 30  6 x 6 = 36  \n",
    "1 x 7 = 7  2 x 7 = 14  3 x 7 = 21  4 x 7 = 28  5 x 7 = 35  6 x 7 = 42  7 x 7 = 49  \n",
    "1 x 8 = 8  2 x 8 = 16  3 x 8 = 24  4 x 8 = 32  5 x 8 = 40  6 x 8 = 48  7 x 8 = 56  8 x 8 = 64  \n",
    "1 x 9 = 9  2 x 9 = 18  3 x 9 = 27  4 x 9 = 36  5 x 9 = 45  6 x 9 = 54  7 x 9 = 63  8 x 9 = 72  9 x 9 = 81  \n",
    "```"
   ]
  },
  {
   "cell_type": "code",
   "execution_count": 9,
   "id": "79f0bb0d-2af5-4ef2-9e00-1140503f0704",
   "metadata": {},
   "outputs": [
    {
     "name": "stdout",
     "output_type": "stream",
     "text": [
      "1 x 1 = 1  \n",
      "1 x 2 = 2  2 x 2 = 4   \n",
      "1 x 3 = 3  2 x 3 = 6   3 x 3 = 9   \n",
      "1 x 4 = 4  2 x 4 = 8   3 x 4 = 12  4 x 4 = 16  \n",
      "1 x 5 = 5  2 x 5 = 10  3 x 5 = 15  4 x 5 = 20  5 x 5 = 25  \n",
      "1 x 6 = 6  2 x 6 = 12  3 x 6 = 18  4 x 6 = 24  5 x 6 = 30  6 x 6 = 36  \n",
      "1 x 7 = 7  2 x 7 = 14  3 x 7 = 21  4 x 7 = 28  5 x 7 = 35  6 x 7 = 42  7 x 7 = 49  \n",
      "1 x 8 = 8  2 x 8 = 16  3 x 8 = 24  4 x 8 = 32  5 x 8 = 40  6 x 8 = 48  7 x 8 = 56  8 x 8 = 64  \n",
      "1 x 9 = 9  2 x 9 = 18  3 x 9 = 27  4 x 9 = 36  5 x 9 = 45  6 x 9 = 54  7 x 9 = 63  8 x 9 = 72  9 x 9 = 81  \n"
     ]
    }
   ],
   "source": [
    "a, b = 1, 9\n",
    "\n",
    "for b in range(1, 10):\n",
    "    line = ''\n",
    "    for a in range(1, b+1):\n",
    "        sep = \"\" if a == 1 else \" \"\n",
    "        line += \"{:1} x {:1} = {:<2} {}\".format(a, b, a*b, sep)\n",
    "    print(line)\n"
   ]
  },
  {
   "cell_type": "code",
   "execution_count": 2,
   "id": "5ee5217a-8701-4d26-98a8-42ef6c3dd183",
   "metadata": {},
   "outputs": [
    {
     "name": "stdout",
     "output_type": "stream",
     "text": [
      "1 x 1 =  1  \n",
      "1 x 2 =  2  2 x 2 =  4  \n",
      "1 x 3 =  3  2 x 3 =  6  3 x 3 =  9  \n",
      "1 x 4 =  4  2 x 4 =  8  3 x 4 = 12  4 x 4 = 16  \n",
      "1 x 5 =  5  2 x 5 = 10  3 x 5 = 15  4 x 5 = 20  5 x 5 = 25  \n",
      "1 x 6 =  6  2 x 6 = 12  3 x 6 = 18  4 x 6 = 24  5 x 6 = 30  6 x 6 = 36  \n",
      "1 x 7 =  7  2 x 7 = 14  3 x 7 = 21  4 x 7 = 28  5 x 7 = 35  6 x 7 = 42  7 x 7 = 49  \n",
      "1 x 8 =  8  2 x 8 = 16  3 x 8 = 24  4 x 8 = 32  5 x 8 = 40  6 x 8 = 48  7 x 8 = 56  8 x 8 = 64  \n",
      "1 x 9 =  9  2 x 9 = 18  3 x 9 = 27  4 x 9 = 36  5 x 9 = 45  6 x 9 = 54  7 x 9 = 63  8 x 9 = 72  9 x 9 = 81  \n"
     ]
    }
   ],
   "source": [
    "b = 1\n",
    "\n",
    "while b <= 9:\n",
    "    a = 1\n",
    "    i = \"\"\n",
    "    while a <= b:\n",
    "        multplication = \"{:>1} x {:>1} = {:>2}\".format(a, b, a * b)\n",
    "        i = i + str(multplication) + \"  \"\n",
    "        a = a + 1\n",
    "    print(\"{}\".format(i))    \n",
    "    b = b + 1\n",
    "                "
   ]
  },
  {
   "cell_type": "code",
   "execution_count": null,
   "id": "f7d687f7-d4b6-42c9-a671-9cab88224b84",
   "metadata": {},
   "outputs": [],
   "source": [
    "biggest = 1\n",
    "while True:\n",
    "        pass\n",
    "    \n",
    "c=“”\n",
    "i=0\n",
    "while i < 5:\n",
    "    c = c + str(i) + “ ”\n",
    "    i += 1\n",
    "\n",
    "print(c)\n",
    "    "
   ]
  }
 ],
 "metadata": {
  "kernelspec": {
   "display_name": "Python 3 (ipykernel)",
   "language": "python",
   "name": "python3"
  },
  "language_info": {
   "codemirror_mode": {
    "name": "ipython",
    "version": 3
   },
   "file_extension": ".py",
   "mimetype": "text/x-python",
   "name": "python",
   "nbconvert_exporter": "python",
   "pygments_lexer": "ipython3",
   "version": "3.9.0"
  }
 },
 "nbformat": 4,
 "nbformat_minor": 5
}
