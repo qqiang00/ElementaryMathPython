{
 "cells": [
  {
   "cell_type": "markdown",
   "id": "relative-location",
   "metadata": {},
   "source": [
    "## Lecture02 Naming\n",
    "\n",
    "第02讲 起个名字吧"
   ]
  },
  {
   "cell_type": "markdown",
   "id": "f8c4f41b-c966-4c84-ab1e-5fad32ae5f50",
   "metadata": {},
   "source": [
    "**<span style=\"color:red\">97/100</span>** Marked by Qiang"
   ]
  },
  {
   "cell_type": "markdown",
   "id": "d6ed4d9c-464b-4f8c-b4fc-9afa4ffbcd6c",
   "metadata": {},
   "source": [
    "### Assignments 作业"
   ]
  },
  {
   "cell_type": "markdown",
   "id": "digital-consensus",
   "metadata": {},
   "source": [
    "1. Xiaoming has a puppy, and Xiaoming named it \"DaHuang\". Xiaoming's father didn't like this name and changed it to \"HuaHua\". Xiao Ming's mother felt that neither of these two names sounded good and still wanted to change the name. But she just couldn't find a good name. Please help Xiaoming's mother give a name for the puppy.  \n",
    "\n",
    "   小明的家里养了一只小狗，小明给这条狗起了一个名字叫:\"大黄\"。小明的爸爸觉得这个名字不好听，把小狗的名字改成了\"花花\"。小明的妈妈觉得这两个名字都不好听，还是想给小狗换一个名字，只是不知道起什么名字好。现在请你帮小明的妈妈给小狗想一个名字。\n",
    "\n",
    "    Write a program: use a variable `name_dog` to represent (store) the dog's name, assign the three names for the dog, provided by Xiaoming, Xiaoming's father, and you, into this variable step by step. Every time the dog had a new name, use `print` method to print the name in the variable `name_dog`.\n",
    "    \n",
    "    编写程序：使用一个变量名`name_dog`来表示（存储）小狗的名字，把小明、小明的爸爸还有你给小狗起的名字分别放进这个变量中，小狗每有一个新名字，就使用`print`方法来打印输出变量`name_dog`里的名字。"
   ]
  },
  {
   "cell_type": "code",
   "execution_count": 1,
   "id": "weighted-mortality",
   "metadata": {},
   "outputs": [
    {
     "name": "stdout",
     "output_type": "stream",
     "text": [
      "大黄\n"
     ]
    }
   ],
   "source": [
    "# 1-1\n",
    "name_dog = \"大黄\"\n",
    "print(name_dog)"
   ]
  },
  {
   "cell_type": "code",
   "execution_count": 2,
   "id": "ec8dce6e-f5ea-40f2-a219-2ff7d6055610",
   "metadata": {},
   "outputs": [
    {
     "name": "stdout",
     "output_type": "stream",
     "text": [
      "花花\n"
     ]
    }
   ],
   "source": [
    "# 1-2\n",
    "name_dog = \"花花\"\n",
    "print(name_dog)"
   ]
  },
  {
   "cell_type": "code",
   "execution_count": 4,
   "id": "42ddd198-3276-45a7-bd19-11a2881d9456",
   "metadata": {},
   "outputs": [
    {
     "name": "stdout",
     "output_type": "stream",
     "text": [
      "小融\n"
     ]
    }
   ],
   "source": [
    "# 1-3\n",
    "name_dog = \"小融\"  # 可爱的名字(Qiang)\n",
    "print(name_dog)"
   ]
  },
  {
   "cell_type": "markdown",
   "id": "cathedral-pursuit",
   "metadata": {},
   "source": [
    "2. The following codes have some errors; it cann't be successfully run. Try to find and fix the error so that the codes provides the total age of the students in the class.\n",
    "\n",
    "   下面的代码中有一些错误导致它不能成功的运行。尝试着去修复这些错误并让程序输出班级里所有学生的年龄之和。\n",
    "   \n",
    "   Follow the steps listed below 按照下面的步骤来完成此题\n",
    "   \n",
    "     - The codes is in the code cell below 这三行代码在下面的代码单元格中\n",
    "     - Click \"Run\" button and look at the errors 运行代码观察错误\n",
    "     - Copy the codes to next new cell 把上面代码复制到另一个新的单元格中\n",
    "     - Fix the errors and run the codes again till you see the correct result. 修复代码中的错误直到程序成功运行\n",
    "\n",
    "    **Note**: Don't change the values of the age of each student even if the values are not real your ages.\n",
    "    \n",
    "    **注意**：不要修改题目给定的每个学生的年龄，即使你的年龄并不是那个数字。\n"
   ]
  },
  {
   "cell_type": "code",
   "execution_count": 5,
   "id": "controlled-masters",
   "metadata": {},
   "outputs": [
    {
     "ename": "NameError",
     "evalue": "name 'ageXixi' is not defined",
     "output_type": "error",
     "traceback": [
      "\u001b[1;31m---------------------------------------------------------------------------\u001b[0m",
      "\u001b[1;31mNameError\u001b[0m                                 Traceback (most recent call last)",
      "\u001b[1;32m<ipython-input-5-7ed22a8a0251>\u001b[0m in \u001b[0;36m<module>\u001b[1;34m\u001b[0m\n\u001b[0;32m      1\u001b[0m \u001b[0mage_Cynthia\u001b[0m\u001b[1;33m,\u001b[0m \u001b[0mage_Xixi\u001b[0m\u001b[1;33m,\u001b[0m \u001b[0mage_Milly\u001b[0m\u001b[1;33m,\u001b[0m \u001b[0mage_Yunzi\u001b[0m \u001b[1;33m=\u001b[0m \u001b[1;36m11\u001b[0m\u001b[1;33m,\u001b[0m \u001b[1;36m10\u001b[0m\u001b[1;33m,\u001b[0m \u001b[1;36m9\u001b[0m\u001b[1;33m,\u001b[0m \u001b[1;36m10\u001b[0m\u001b[1;33m\u001b[0m\u001b[0m\n\u001b[1;32m----> 2\u001b[1;33m \u001b[0mage_total\u001b[0m \u001b[1;33m=\u001b[0m \u001b[0mage_Cynthia\u001b[0m \u001b[1;33m+\u001b[0m \u001b[0mageXixi\u001b[0m \u001b[1;33m+\u001b[0m \u001b[0mMilly\u001b[0m \u001b[1;33m+\u001b[0m \u001b[0mage_yunzi\u001b[0m\u001b[1;33m\u001b[0m\u001b[0m\n\u001b[0m\u001b[0;32m      3\u001b[0m \u001b[0mprint\u001b[0m\u001b[1;33m(\u001b[0m\u001b[1;34m\"total age of these four students is\"\u001b[0m\u001b[1;33m,\u001b[0m \u001b[0mage_Total\u001b[0m\u001b[1;33m)\u001b[0m\u001b[1;33m\u001b[0m\u001b[0m\n",
      "\u001b[1;31mNameError\u001b[0m: name 'ageXixi' is not defined"
     ]
    }
   ],
   "source": [
    "age_Cynthia, age_Xixi, age_Milly, age_Yunzi = 11, 10, 9, 10\n",
    "age_total = age_cynthia + ageXixi + Milly + age_yunzi\n",
    "print(\"total age of these four students is\", age_Total) "
   ]
  },
  {
   "cell_type": "code",
   "execution_count": 6,
   "id": "a357915b-7f48-4777-9353-70056b1651d3",
   "metadata": {},
   "outputs": [
    {
     "name": "stdout",
     "output_type": "stream",
     "text": [
      "Total age of these four students is 40\n"
     ]
    }
   ],
   "source": [
    "# 2 非常好(Qiang)\n",
    "age_Cynthia, age_Xixi, age_Milly, age_Yunzi = 11, 10, 9, 10\n",
    "age_total = age_Cynthia + age_Xixi + age_Milly + age_Yunzi\n",
    "print(\"Total age of these four students is\", age_total) "
   ]
  },
  {
   "cell_type": "code",
   "execution_count": 7,
   "id": "steady-wagner",
   "metadata": {},
   "outputs": [],
   "source": [
    "# write your modified code here 在这里写上你修改号的代码\n",
    "# Run this code cell 运行该代码单元格子中的代码"
   ]
  },
  {
   "cell_type": "markdown",
   "id": "plastic-appreciation",
   "metadata": {},
   "source": [
    "3. The following codes were written by Celine, a 5 year old girl. the codes try to calculate the age difference of Xixi and Milly. The codes can provide correct result but are not well formatted. Please help Celine to beautify the codes while keeping the result unchanged.\n",
    "\n",
    "   下面这段代码是5岁的思思写的，这段代码计算Xixi和Milly两个小朋友的年龄差。这段代码能够正确运行，但是写的不是很好看。请你帮助思思在不改变代码运行结果的前提下美化这段代码。\n",
    "\n",
    "   The codes are provided in below cell, Copy the codes to a new code cell , beautify it, run it, and observe the result. The result should be the same as that from previous cell.\n",
    "   \n",
    "   代码在下面的单元格中提供，将代码复制到新的代码单元格中，美化它，运行它，观察结果。结果应该与前一个单元格的结果相同。"
   ]
  },
  {
   "cell_type": "code",
   "execution_count": 8,
   "id": "clean-italian",
   "metadata": {},
   "outputs": [
    {
     "name": "stdout",
     "output_type": "stream",
     "text": [
      "Xixi bi Milly da 1 sui.\n"
     ]
    }
   ],
   "source": [
    "Xixi_age = 10\n",
    "age_Milly=9\n",
    "cha =Xixi_age-age_Milly\n",
    "print(\"Xixi bi Milly da\", cha, \"sui.\")"
   ]
  },
  {
   "cell_type": "code",
   "execution_count": 9,
   "id": "051cfafb-ec23-4eda-9c1f-a09e78399db3",
   "metadata": {},
   "outputs": [
    {
     "name": "stdout",
     "output_type": "stream",
     "text": [
      "Xixi bi Milly da 1 sui.\n"
     ]
    }
   ],
   "source": [
    "# Paste the code in above cell here \n",
    "age_Xixi = 10              # 非常好(Qiang)\n",
    "age_Milly = 9          \n",
    "cha = age_Xixi - age_Milly # 非常好(Qiang)\n",
    "print(\"Xixi bi Milly da\", cha, \"sui.\")"
   ]
  },
  {
   "cell_type": "markdown",
   "id": "9c3263a3-168a-414b-b18b-4eb261dd4773",
   "metadata": {},
   "source": [
    "爷爷、奶奶、爸爸、妈妈、耘籽和耘籽的弟弟4. Please **solve this problem using mathematics and programming separately**\n",
    "   \n",
    "   请**分别用数学和编程**的方式求解这个问题:\n",
    "\n",
    "   There are 6 people in Yunzi's family, namely grandfather, grandma, father, mother, Yunzi and Yunzi's younger brother. In 2022, they are 67, 65, 35, 37, 10 and 5 years old, respectively. What is the total age of this family in 2022? By the year 2035, what will be the total age of the family?\n",
    "   \n",
    "   耘籽的家里一共有6口人，分别是爷爷、奶奶、爸爸、妈妈、耘籽和耘籽的弟弟。2022年，他们的年龄分别是67，65，35，37，10和5岁。请问在2022年这一家人的年龄加起来一共是多少岁？ 到2035年的时候，这一家人的年龄加起来又是多少呢？"
   ]
  },
  {
   "cell_type": "code",
   "execution_count": 10,
   "id": "f0af314c-6f11-44e5-975a-0e1c77675aae",
   "metadata": {},
   "outputs": [
    {
     "data": {
      "text/plain": [
       "219"
      ]
     },
     "execution_count": 10,
     "metadata": {},
     "output_type": "execute_result"
    }
   ],
   "source": [
    "# 数学求解\n",
    "67 + 65 + 35 + 37 + 10 + 5"
   ]
  },
  {
   "cell_type": "code",
   "execution_count": 11,
   "id": "caecb7b3-6426-451c-8765-6250b5c6e931",
   "metadata": {},
   "outputs": [
    {
     "name": "stdout",
     "output_type": "stream",
     "text": [
      "答：2022年这一家人的年龄加起来一共是219岁。\n"
     ]
    }
   ],
   "source": [
    "print(\"答：2022年这一家人的年龄加起来一共是219岁。\")"
   ]
  },
  {
   "cell_type": "code",
   "execution_count": 15,
   "id": "d629a5e8-9fed-4b0a-a5f4-31ef9345b52e",
   "metadata": {},
   "outputs": [
    {
     "data": {
      "text/plain": [
       "13"
      ]
     },
     "execution_count": 15,
     "metadata": {},
     "output_type": "execute_result"
    }
   ],
   "source": [
    "# 数学求解\n",
    "2035 - 2022"
   ]
  },
  {
   "cell_type": "code",
   "execution_count": 16,
   "id": "c8995e45-e6a3-464f-a64d-99b10fe5b358",
   "metadata": {},
   "outputs": [
    {
     "data": {
      "text/plain": [
       "297"
      ]
     },
     "execution_count": 16,
     "metadata": {},
     "output_type": "execute_result"
    }
   ],
   "source": [
    "6 * 13 + (67 + 65 + 35 + 37 + 10 + 5)"
   ]
  },
  {
   "cell_type": "code",
   "execution_count": 17,
   "id": "a461815a-89b9-49cf-8702-2873bd3d924e",
   "metadata": {},
   "outputs": [
    {
     "name": "stdout",
     "output_type": "stream",
     "text": [
      "答：这一家人的年龄加起来是297岁。\n"
     ]
    }
   ],
   "source": [
    "print(\"答：这一家人的年龄加起来是297岁。\")"
   ]
  },
  {
   "cell_type": "code",
   "execution_count": 2,
   "id": "d9aed9ab-89ef-4947-ac3f-abf11a9ad509",
   "metadata": {},
   "outputs": [],
   "source": [
    "# -1 编程求解 每一个逗号后面如果有一个空格就更好了(Qiang)\n",
    "爷爷的年龄,奶奶的年龄,爸爸的年龄,妈妈的年龄,耘籽的年龄,耘籽的弟弟的年龄 = 67,65,35,37,10,5"
   ]
  },
  {
   "cell_type": "code",
   "execution_count": 3,
   "id": "1ea3e04f-aa1a-40b7-923d-5dcc7123cf27",
   "metadata": {},
   "outputs": [
    {
     "data": {
      "text/plain": [
       "219"
      ]
     },
     "execution_count": 3,
     "metadata": {},
     "output_type": "execute_result"
    }
   ],
   "source": [
    "爷爷的年龄 + 奶奶的年龄 + 爸爸的年龄 + 妈妈的年龄 + 耘籽的年龄 + 耘籽的弟弟的年龄 # -1 如果能把最后的结果放到一个变量里就更好了(Qiang)"
   ]
  },
  {
   "cell_type": "code",
   "execution_count": 20,
   "id": "1168cf95-4dc5-4178-9caa-1101e760fd82",
   "metadata": {},
   "outputs": [
    {
     "name": "stdout",
     "output_type": "stream",
     "text": [
      "答：2022年这一家人的年龄加起来一共是219岁。\n"
     ]
    }
   ],
   "source": [
    "print(\"答：2022年这一家人的年龄加起来一共是219岁。\") # 如果能够仿照上一题的代码用变量代替具体的219这个数值就更好了(Qiang)"
   ]
  },
  {
   "cell_type": "code",
   "execution_count": 21,
   "id": "d5c5c4e8-0f2e-476e-a1e1-41edc0638f51",
   "metadata": {},
   "outputs": [
    {
     "data": {
      "text/plain": [
       "13"
      ]
     },
     "execution_count": 21,
     "metadata": {},
     "output_type": "execute_result"
    }
   ],
   "source": [
    "# 编程求解  -1 在使用编程方法时，这里没有使用变量就体现不出与数学计算的区别了\n",
    "2035 - 2022"
   ]
  },
  {
   "cell_type": "code",
   "execution_count": 22,
   "id": "19deb444-83cd-44b7-8381-00b1a6f92d73",
   "metadata": {},
   "outputs": [],
   "source": [
    "爷爷的年龄,奶奶的年龄,爸爸的年龄,妈妈的年龄,耘籽的年龄,耘籽的弟弟的年龄 = 爷爷的年龄 + 13,奶奶的年龄 + 13,爸爸的年龄 + 13,妈妈的年龄 + 13,耘籽的年龄 + 13,耘籽的弟弟的年龄 + 13"
   ]
  },
  {
   "cell_type": "code",
   "execution_count": 24,
   "id": "4af2307d-0c8a-4e7a-9750-c8e7d7e52fef",
   "metadata": {},
   "outputs": [
    {
     "data": {
      "text/plain": [
       "297"
      ]
     },
     "execution_count": 24,
     "metadata": {},
     "output_type": "execute_result"
    }
   ],
   "source": [
    "爷爷的年龄 + 奶奶的年龄 + 爸爸的年龄 + 妈妈的年龄 + 耘籽的年龄 + 耘籽的弟弟的年龄"
   ]
  }
 ],
 "metadata": {
  "kernelspec": {
   "display_name": "Python 3",
   "language": "python",
   "name": "python3"
  },
  "language_info": {
   "codemirror_mode": {
    "name": "ipython",
    "version": 3
   },
   "file_extension": ".py",
   "mimetype": "text/x-python",
   "name": "python",
   "nbconvert_exporter": "python",
   "pygments_lexer": "ipython3",
   "version": "3.8.10"
  }
 },
 "nbformat": 4,
 "nbformat_minor": 5
}
