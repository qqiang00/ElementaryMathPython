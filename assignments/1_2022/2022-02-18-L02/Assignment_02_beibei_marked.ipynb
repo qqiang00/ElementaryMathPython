{
 "cells": [
  {
   "cell_type": "markdown",
   "id": "497c670a-fbd4-46c8-a0c8-77530101f559",
   "metadata": {},
   "source": [
    "**<span style=\"color:red\">96/100</span>** Marked by Qiang"
   ]
  },
  {
   "cell_type": "markdown",
   "id": "0eacd3f9-2c29-4b4c-b509-66f9da03c89e",
   "metadata": {},
   "source": [
    "name_dog = \"大黄\"\n",
    "print(\"小明给小狗起的名字是\",name_dog)     # -1, need a space between , and name_dog (Qiang)\n",
    "name_dog = \"花花\"\n",
    "print(\"爸爸给小狗起的名字是\",name_dog)\n",
    "name_dog = \"大白\"\n",
    "print(\"妈妈给小狗起的名字是\",name_dog)"
   ]
  },
  {
   "cell_type": "code",
   "execution_count": 1,
   "id": "d5b91a22",
   "metadata": {},
   "outputs": [
    {
     "ename": "NameError",
     "evalue": "name 'age_cynthia' is not defined",
     "output_type": "error",
     "traceback": [
      "\u001b[0;31m---------------------------------------------------------------------------\u001b[0m",
      "\u001b[0;31mNameError\u001b[0m                                 Traceback (most recent call last)",
      "\u001b[0;32m<ipython-input-1-7be5306123d4>\u001b[0m in \u001b[0;36m<module>\u001b[0;34m\u001b[0m\n\u001b[1;32m      1\u001b[0m \u001b[0mage_Cynthia\u001b[0m\u001b[0;34m,\u001b[0m \u001b[0mage_Xixi\u001b[0m\u001b[0;34m,\u001b[0m \u001b[0mage_Milly\u001b[0m\u001b[0;34m,\u001b[0m \u001b[0mage_Yunzi\u001b[0m \u001b[0;34m=\u001b[0m \u001b[0;36m11\u001b[0m\u001b[0;34m,\u001b[0m \u001b[0;36m10\u001b[0m\u001b[0;34m,\u001b[0m \u001b[0;36m9\u001b[0m\u001b[0;34m,\u001b[0m \u001b[0;36m10\u001b[0m\u001b[0;34m\u001b[0m\u001b[0;34m\u001b[0m\u001b[0m\n\u001b[0;32m----> 2\u001b[0;31m \u001b[0mage_total\u001b[0m \u001b[0;34m=\u001b[0m \u001b[0mage_cynthia\u001b[0m \u001b[0;34m+\u001b[0m \u001b[0mageXixi\u001b[0m \u001b[0;34m+\u001b[0m \u001b[0mMilly\u001b[0m \u001b[0;34m+\u001b[0m \u001b[0mage_yunzi\u001b[0m\u001b[0;34m\u001b[0m\u001b[0;34m\u001b[0m\u001b[0m\n\u001b[0m\u001b[1;32m      3\u001b[0m \u001b[0mprint\u001b[0m\u001b[0;34m(\u001b[0m\u001b[0;34m\"total age of these four students is\"\u001b[0m\u001b[0;34m,\u001b[0m \u001b[0mage_Total\u001b[0m\u001b[0;34m)\u001b[0m\u001b[0;34m\u001b[0m\u001b[0;34m\u001b[0m\u001b[0m\n",
      "\u001b[0;31mNameError\u001b[0m: name 'age_cynthia' is not defined"
     ]
    }
   ],
   "source": [
    "age_Cynthia, age_Xixi, age_Milly, age_Yunzi = 11, 10, 9, 10\n",
    "age_total = age_cynthia + ageXixi + Milly + age_yunzi\n",
    "print(\"total age of these four students is\", age_Total)"
   ]
  },
  {
   "cell_type": "code",
   "execution_count": 2,
   "id": "419104d7",
   "metadata": {},
   "outputs": [
    {
     "name": "stdout",
     "output_type": "stream",
     "text": [
      "total age of these four students is: 40\n"
     ]
    }
   ],
   "source": [
    "age_Cynthia = 11 \n",
    "age_Xixi = 10 \n",
    "age_Milly = 9 \n",
    "age_Yunzi = 10\n",
    "age_total = age_Cynthia + age_Xixi + age_Milly + age_Yunzi\n",
    "print(\"total age of these four students is:\", age_total)"
   ]
  },
  {
   "cell_type": "code",
   "execution_count": 3,
   "id": "a23062cf",
   "metadata": {},
   "outputs": [
    {
     "name": "stdout",
     "output_type": "stream",
     "text": [
      "Xixi bi Milly da 1 sui.\n"
     ]
    }
   ],
   "source": [
    "Xixi_age = 10\n",
    "age_Milly=9\n",
    "cha =Xixi_age-age_Milly\n",
    "print(\"Xixi bi Milly da\", cha, \"sui.\")"
   ]
  },
  {
   "cell_type": "code",
   "execution_count": 4,
   "id": "eb87d3dc",
   "metadata": {},
   "outputs": [
    {
     "name": "stdout",
     "output_type": "stream",
     "text": [
      "Xixi bi Milly da 1 sui.\n"
     ]
    }
   ],
   "source": [
    "age_Xixi = 10      # Excellent! (Qiang)\n",
    "age_Milly = 9\n",
    "cha = age_Xixi - age_Milly   # Well Done! (Qiang)\n",
    "print(\"Xixi bi Milly da\", cha, \"sui.\")"
   ]
  },
  {
   "cell_type": "code",
   "execution_count": 5,
   "id": "6c8f56e4",
   "metadata": {},
   "outputs": [
    {
     "name": "stdout",
     "output_type": "stream",
     "text": [
      "total age of familly: 219\n"
     ]
    }
   ],
   "source": [
    "爷爷 = 67      # -1, the name is not good, 爷爷的年龄 is better. (Qiang)\n",
    "奶奶 = 65\n",
    "爸爸 = 35\n",
    "妈妈 = 37\n",
    "耘籽 = 10 \n",
    "耘籽的弟弟 = 5\n",
    "age_total = (爷爷 + 奶奶 + 爸爸 + 妈妈 + 耘籽 + 耘籽的弟弟)   # -1, () is not necessary here. (Qiang)\n",
    "print(\"total age of familly:\",age_total)           # need a space after comma ,  (Qiang)\n",
    "# better like the following\n",
    "# print(\"total age of family:\", age_total)"
   ]
  },
  {
   "cell_type": "code",
   "execution_count": 6,
   "id": "885426c5",
   "metadata": {},
   "outputs": [
    {
     "data": {
      "text/plain": [
       "13"
      ]
     },
     "execution_count": 6,
     "metadata": {},
     "output_type": "execute_result"
    }
   ],
   "source": [
    "2035 - 2022       # -1, better to use variables to store the two values of year."
   ]
  },
  {
   "cell_type": "code",
   "execution_count": 7,
   "id": "008a3814",
   "metadata": {},
   "outputs": [
    {
     "name": "stdout",
     "output_type": "stream",
     "text": [
      "total age of familly: 297\n"
     ]
    }
   ],
   "source": [
    "爷爷 = 67+13       # no space on sides of \"+\" (Qiang); use a variable for 13\n",
    "奶奶 = 65+13\n",
    "爸爸 = 35+13\n",
    "妈妈 = 37+13\n",
    "耘籽 = 10 +13      # no space on right side of \"+\" (Qiang)\n",
    "耘籽的弟弟 = 5+13   # spaces needed.\n",
    "age_total = (爷爷 + 奶奶 + 爸爸 + 妈妈 + 耘籽 + 耘籽的弟弟) # no need ()\n",
    "print(\"total age of familly:\",age_total)    # need a space after , "
   ]
  },
  {
   "cell_type": "code",
   "execution_count": 8,
   "id": "5fb52825",
   "metadata": {},
   "outputs": [
    {
     "data": {
      "text/plain": [
       "297"
      ]
     },
     "execution_count": 8,
     "metadata": {},
     "output_type": "execute_result"
    }
   ],
   "source": [
    "78 + 67 + 65 + 35 + 37 + 10 + 5"
   ]
  }
 ],
 "metadata": {
  "kernelspec": {
   "display_name": "Python 3",
   "language": "python",
   "name": "python3"
  },
  "language_info": {
   "codemirror_mode": {
    "name": "ipython",
    "version": 3
   },
   "file_extension": ".py",
   "mimetype": "text/x-python",
   "name": "python",
   "nbconvert_exporter": "python",
   "pygments_lexer": "ipython3",
   "version": "3.8.10"
  }
 },
 "nbformat": 4,
 "nbformat_minor": 5
}
