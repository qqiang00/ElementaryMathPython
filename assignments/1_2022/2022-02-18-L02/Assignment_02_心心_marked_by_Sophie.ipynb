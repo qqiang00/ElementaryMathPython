{
 "cells": [
  {
   "cell_type": "markdown",
   "id": "755a4e00-a43e-48f1-a90b-dfb71f017f7a",
   "metadata": {},
   "source": [
    "**<span style=\"color:red\">97/100</span>**\n",
    "\n",
    "marked by Sophie, Reviewed by Qiang"
   ]
  },
  {
   "cell_type": "code",
   "execution_count": 1,
   "id": "vocational-iraqi",
   "metadata": {},
   "outputs": [
    {
     "name": "stdout",
     "output_type": "stream",
     "text": [
      "大黄\n",
      "花花\n",
      "曲奇\n"
     ]
    }
   ],
   "source": [
    "#1 5/5\n",
    "name_dog = \"大黄\"\n",
    "print(name_dog)\n",
    "name_dog = \"花花\"\n",
    "print(name_dog)\n",
    "name_dog = \"曲奇\"    # 小狗饼干？\n",
    "print(name_dog)"
   ]
  },
  {
   "cell_type": "code",
   "execution_count": 2,
   "id": "expired-coral",
   "metadata": {},
   "outputs": [
    {
     "ename": "NameError",
     "evalue": "name 'age_cynthia' is not defined",
     "output_type": "error",
     "traceback": [
      "\u001b[0;31m---------------------------------------------------------------------------\u001b[0m",
      "\u001b[0;31mNameError\u001b[0m                                 Traceback (most recent call last)",
      "Input \u001b[0;32mIn [2]\u001b[0m, in \u001b[0;36m<module>\u001b[0;34m\u001b[0m\n\u001b[1;32m      1\u001b[0m \u001b[38;5;66;03m#2.current_question\u001b[39;00m\n\u001b[1;32m      2\u001b[0m age_Cynthia, age_Xixi, age_Milly, age_Yunzi \u001b[38;5;241m=\u001b[39m \u001b[38;5;241m11\u001b[39m, \u001b[38;5;241m10\u001b[39m, \u001b[38;5;241m9\u001b[39m, \u001b[38;5;241m10\u001b[39m\n\u001b[0;32m----> 3\u001b[0m age_total \u001b[38;5;241m=\u001b[39m \u001b[43mage_cynthia\u001b[49m \u001b[38;5;241m+\u001b[39m ageXixi \u001b[38;5;241m+\u001b[39m Milly \u001b[38;5;241m+\u001b[39m age_yunzi\n\u001b[1;32m      4\u001b[0m \u001b[38;5;28mprint\u001b[39m(\u001b[38;5;124m\"\u001b[39m\u001b[38;5;124mtotal age of these four students is\u001b[39m\u001b[38;5;124m\"\u001b[39m, age_Total)\n",
      "\u001b[0;31mNameError\u001b[0m: name 'age_cynthia' is not defined"
     ]
    }
   ],
   "source": [
    "#2.question     20/20\n",
    "age_Cynthia, age_Xixi, age_Milly, age_Yunzi = 11, 10, 9, 10\n",
    "age_total = age_cynthia + ageXixi + Milly + age_yunzi\n",
    "print(\"total age of these four students is\", age_Total) "
   ]
  },
  {
   "cell_type": "code",
   "execution_count": 3,
   "id": "raising-wonder",
   "metadata": {},
   "outputs": [
    {
     "name": "stdout",
     "output_type": "stream",
     "text": [
      "The total age of these four students is 40\n"
     ]
    }
   ],
   "source": [
    "#2.solution\n",
    "age_Cynthia, age_Xixi, age_Milly, age_Yunzi = 11, 10, 9, 10\n",
    "age_total = age_Cynthia + age_Xixi + age_Milly + age_Yunzi\n",
    "print(\"The total age of these four students is\", age_total) "
   ]
  },
  {
   "cell_type": "code",
   "execution_count": 4,
   "id": "present-forth",
   "metadata": {},
   "outputs": [
    {
     "name": "stdout",
     "output_type": "stream",
     "text": [
      "Xixi bi Milly da 1 sui.\n"
     ]
    }
   ],
   "source": [
    "#3.question  25/25\n",
    "Xixi_age = 10\n",
    "age_Milly=9\n",
    "cha =Xixi_age-age_Milly\n",
    "print(\"Xixi bi Milly da\", cha, \"sui.\")"
   ]
  },
  {
   "cell_type": "code",
   "execution_count": 1,
   "id": "controlled-correction",
   "metadata": {},
   "outputs": [
    {
     "name": "stdout",
     "output_type": "stream",
     "text": [
      "Xixi bi Milly da 1 sui.\n"
     ]
    }
   ],
   "source": [
    "#3.solution\n",
    "Xixi_age = 10       # -1  \n",
    "age_Milly = 9       # age 放在前面或者后面，但应该一致(by Qiang)\n",
    "cha = Xixi_age - age_Milly\n",
    "print(\"Xixi bi Milly da\", cha, \"sui.\")"
   ]
  },
  {
   "cell_type": "code",
   "execution_count": 11,
   "id": "apparent-termination",
   "metadata": {},
   "outputs": [
    {
     "name": "stdout",
     "output_type": "stream",
     "text": [
      "The total age of Yunzi's family in 2022 is 219 years, and in 2035, is 297 years.\n"
     ]
    }
   ],
   "source": [
    "#4 -1 point 2022 and 2035 should be variables 39/40. \n",
    "#     It's better to use variables for the year 2022 and 2035 (By Qiang)\n",
    "#  -1 You didn't solve this problem by mathematics, but only by programming  (By Qiang)\n",
    "Age_Grandfather, Age_Grandma, Age_Father, Age_Mother, Age_Yunzi, Age_Yunzi_Brother = 67, 65, 35, 37, 10, 5\n",
    "Total_Age_2022 = Age_Grandfather + Age_Grandma + Age_Father + Age_Mother + Age_Yunzi + Age_Yunzi_Brother\n",
    "\n",
    "Age_Grandfather = Age_Grandfather + 2035 - 2022\n",
    "Age_Grandma = Age_Grandma + 2035 - 2022\n",
    "Age_Father = Age_Father + 2035 - 2022\n",
    "Age_Mother = Age_Mother + 2035 - 2022\n",
    "Age_Yunzi = Age_Yunzi + 2035 - 2022\n",
    "Age_Yunzi_Brother = Age_Yunzi_Brother + 2035 - 2022\n",
    "\n",
    "Total_Age_2035 = Age_Grandfather + Age_Grandma + Age_Father + Age_Mother + Age_Yunzi + Age_Yunzi_Brother\n",
    "\n",
    "print(\"The total age of Yunzi's family in 2022 is\", Total_Age_2022, \"years, and in 2035, is\", Total_Age_2035, \"years.\")"
   ]
  },
  {
   "cell_type": "code",
   "execution_count": null,
   "id": "thermal-anime",
   "metadata": {},
   "outputs": [],
   "source": []
  }
 ],
 "metadata": {
  "kernelspec": {
   "display_name": "Python 3",
   "language": "python",
   "name": "python3"
  },
  "language_info": {
   "codemirror_mode": {
    "name": "ipython",
    "version": 3
   },
   "file_extension": ".py",
   "mimetype": "text/x-python",
   "name": "python",
   "nbconvert_exporter": "python",
   "pygments_lexer": "ipython3",
   "version": "3.8.10"
  }
 },
 "nbformat": 4,
 "nbformat_minor": 5
}
