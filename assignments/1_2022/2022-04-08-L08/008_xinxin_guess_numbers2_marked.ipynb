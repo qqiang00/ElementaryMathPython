{
 "cells": [
  {
   "cell_type": "markdown",
   "id": "relative-location",
   "metadata": {
    "tags": []
   },
   "source": [
    "## 第08讲 猜数字（二）\n",
    "Lecture08 Guess Numbers(Part 2)"
   ]
  },
  {
   "cell_type": "markdown",
   "id": "49a4ffc4-4804-4ce1-802b-bf94586154d3",
   "metadata": {},
   "source": [
    "**<span style=\"color:red\">95/110</span>** Marked by Qiang\n",
    "\n",
    "整体做得很不错，程序能够运行，而且能够正确完成一些流程，下面的点评，仅仅列出了有问题的地方。\n",
    "\n",
    "- 减分项\n",
    "\n",
    "   -5 第2题：当你一开始输入要猜的范围超过1000时，你的程序会接受这个最大范围。这不符合题目的要求\n",
    "   \n",
    "   -5 第3题，输入bye不想猜的时候，同时猜测次数在3次以内，程序会依照要求提示是不是真的不想猜，此时你输入\"no\"表示还想继续猜时，程序也不让你猜了。并且也会把你输入的\"no\"之类的猜测也算作一次猜测数字。这是一个bug\n",
    "   \n",
    "   -5 第5题：在选择是否需要提示时选\"n\"，之后也还会提示"
   ]
  },
  {
   "cell_type": "markdown",
   "id": "d12f05dd",
   "metadata": {},
   "source": [
    "### Problem 问题描述"
   ]
  },
  {
   "cell_type": "markdown",
   "id": "c7cd1f0b-8266-49f3-a77e-806bec2c40ce",
   "metadata": {},
   "source": [
    "Write a program to play a number guessing game with the computer. Here is how the game works: 编写一个程序和计算机玩一个猜数字的游戏。具体流程如下：\n",
    "\n",
    "1. let the computer **randomly** generate an integer in the range of 0-9 (both included), this number is known only by the computer itself; 让计算机**随机**生成一个范围在0-9之间的整数（包括这两个整数），这个数字只有计算机自己知道；\n",
    "2. as the person who write and run this program, you try to guess what the number is and tell the computer the number by input from keyboard;作为编写并运行这个程序的你尝试着猜一猜这个数字是什么，把你猜的数字通过键盘输入告诉计算机；\n",
    "3. when the computer receives your input, it compares it with the number it generates. If two values are equal, the computer outputs: \"Congratulations, you are right!\", and the program ends; 计算机接收到你的输入后，把它和自己生成的数进行比较，如果一样，计算机输出：“恭喜你，你猜对了!”，程序运行结束；\n",
    "4. If two values are not equal, the computer will let you try again and again until you hit the number; 如果两个数不一样，计算机会让你反复继续尝试直到你猜中那个数字；\n",
    "5. When you did hit the number, and the computer asks you to continue to guess, you can also choose not to play. At this time, you only need to input one of the following codes: \"I don't want to play anymore\", \"I quit\", \"My Mom called me home for dinner\", \"Bye\", \"bye\". When the computer receives it, it outputs \"Unfortunately, you didn't guess it, let's play next time.\" on the screen, and then the program ends；当你没猜中，计算机让你继续猜的时候，你也可以选择不玩了，此时你只需要在输入数字的输入框内输入任意一条下面的信息：\"不玩了\"、\"不猜了\"、\"我妈喊我回家吃饭了\"、\"Bye\"、\"bye\"。当计算机接收到你这样的信息后，在屏幕上输出\"很遗憾，你没有猜出来，下次再玩吧\"，然后程序运行结束。"
   ]
  },
  {
   "cell_type": "markdown",
   "id": "0ff0c340-0c49-42c1-96a8-1f109eed1e67",
   "metadata": {},
   "source": [
    "### Solution 解决方案"
   ]
  },
  {
   "cell_type": "code",
   "execution_count": null,
   "id": "e511bd10-a6f0-491e-adcc-57b202007d84",
   "metadata": {},
   "outputs": [],
   "source": [
    "from time import sleep            \n",
    "from random import randint\n",
    "\n",
    "min_num, max_num = 0, 9\n",
    "\n",
    "codes = [\"I don't want to play anymore\", \n",
    "         \"I quit\", \"My mom called me home for dinner\", \n",
    "         \"Bye\", \n",
    "         \"bye\", \n",
    "         \"不玩了\", \n",
    "         \"不猜了\", \n",
    "         \"我妈喊我回家吃饭了\"\n",
    "        ]\n",
    "\n",
    "print(\"我是你的小助手，我想和你玩一个猜数字的游戏。\")\n",
    "print(\"我会从{}-{}之间随便挑出一个数字，你可以反复猜直到才对为止\".format(min_num, max_num))\n",
    "print(\"如果你不想猜了，可以在输数字的地方输入下面任意一句，我就知道你不想玩了。\")\n",
    "print(codes)\n",
    "num_computer_generated = randint(min_num, max_num)\n",
    "your_guess = input(\"我选好了，现在你来猜吧({}-{}):\".format(min_num, max_num))\n",
    "\n",
    "while True:\n",
    "    if your_guess in codes:\n",
    "        print(\"很遗憾，你没有猜出来，下次再玩吧。\")\n",
    "        break\n",
    "    \n",
    "    else:\n",
    "        num_you_guessed = int(your_guess)                 # 尝试把你的输入变成一个数字\n",
    "        if num_you_guessed == num_computer_generated:\n",
    "            print(\"恭喜你，你猜对了。\")\n",
    "            break\n",
    "        else:\n",
    "            your_guess = input(\"没猜对，继续猜:\")\n",
    "    \n",
    "print(\"猜数字游戏结束。\")"
   ]
  },
  {
   "cell_type": "markdown",
   "id": "5839a2ab-9821-45db-8830-3a41231b9e43",
   "metadata": {},
   "source": [
    "### Assignments 作业"
   ]
  },
  {
   "cell_type": "markdown",
   "id": "e057088c-ca30-4242-9738-49fe51746328",
   "metadata": {},
   "source": [
    "1. 运行下面三段程序代码，观察各自的输出结果，说出他们的相同点和不同点，你喜欢哪一种？为什么？"
   ]
  },
  {
   "cell_type": "code",
   "execution_count": 1,
   "id": "6e0d1f78-32b5-4b20-ba30-025998224e7e",
   "metadata": {},
   "outputs": [
    {
     "name": "stdout",
     "output_type": "stream",
     "text": [
      "I love China.\n"
     ]
    }
   ],
   "source": [
    "# 程序代码 1\n",
    "country = \"China\"\n",
    "print(\"I love \" + country + \".\")"
   ]
  },
  {
   "cell_type": "code",
   "execution_count": 2,
   "id": "71709d00-41c7-4bbb-90da-355d11313d11",
   "metadata": {},
   "outputs": [
    {
     "name": "stdout",
     "output_type": "stream",
     "text": [
      "I love China .\n"
     ]
    }
   ],
   "source": [
    "# 程序代码 2\n",
    "country = \"China\"\n",
    "print(\"I love\", country, \".\")"
   ]
  },
  {
   "cell_type": "code",
   "execution_count": 3,
   "id": "c3f6014a-02e5-4c5d-9425-4858939dc840",
   "metadata": {},
   "outputs": [
    {
     "name": "stdout",
     "output_type": "stream",
     "text": [
      "I love China.\n"
     ]
    }
   ],
   "source": [
    "# 程序代码 3\n",
    "country = \"China\"\n",
    "print(\"I love {}.\".format(country))"
   ]
  },
  {
   "cell_type": "code",
   "execution_count": null,
   "id": "5e8c62db-3039-4e89-b523-f53446eab29d",
   "metadata": {},
   "outputs": [],
   "source": [
    "# With number one, it's inserting a variable (country) into the string with addition symbols (+). \n",
    "# With number two, it's also inserting a variable with commas, and there is an extra space after China.\n",
    "# With number three, it's inserting a variable with format and brackets ({}), plus there is no extra space.\n",
    "\n",
    "# I think I like no. 1 and no. 3, mainly because the space in no. 2 just looks annoying. However I don't really\n",
    "# like no. 3 that much because it's complicated to type, whereas no. 1 is simple and doesn't require much\n",
    "# typing or special symbols."
   ]
  },
  {
   "cell_type": "markdown",
   "id": "2fb9f6a2-23ab-4682-9644-22d1c5a473e0",
   "metadata": {},
   "source": [
    "2. Perfect number guessing game 1: At present, our number guessing game program can only generate a certain number between 0 and 9(both included). Many players are not satisfied with only guessing numbers smaller than or equal to 9. They want to challenge this number guessing game with much lager number. 完善猜数字游戏一：目前我们的猜数字游戏程序只能固定生成0-9这两个数之间（包括）的某一个数，许多玩家不满意只猜比9小的数，他们希望挑战的更大数字范围的猜数字游戏。\n",
    "\n",
    "    Please modify the solution code in this lecture or the code completed in previous question。 The program will allow a player to tell the computer the maximum upper limit of the random number (such as 100). The player tell the computer by keyboard input before the game starts. It should be noted that, in order to control the difficulty of the game, the number required by the program must be above 20 (inclusive) and below 1000 (inclusive), otherwise the computer will ask you to re-enter until this requirement is met. Then the computer randomly generates a random number greater than or equal to 0 and less than or equal to the number you give, and let the player guess the number. Please write the complete code in the code cell below. 请你修改示例程序，让猜数字游戏程序可以让猜数字的人在游戏开始前通过键盘输入来告诉计算机能够生成的随机数的最大上限（比如100）。需要注意的是，为了控制游戏难度，程序要求输入的这个数必须是20（含）以上，1000（含）一下，否则计算机会让你重新输入直到满足这个要求。随后计算机随机生成大于等于0且小于等于你给定的这个数之内的随机数，让玩家猜这个数。请将完整的代码写在下面的代码单元格里。\n",
    "   \n"
   ]
  },
  {
   "cell_type": "code",
   "execution_count": 1,
   "id": "76d30dc6-71c5-4d7c-ac65-3b734f1b24bd",
   "metadata": {},
   "outputs": [
    {
     "name": "stdout",
     "output_type": "stream",
     "text": [
      "我是你的小助手，我想和你玩一个猜数字的游戏。\n",
      "我会随便挑出一个数字，你可以反复猜直到才对为止。\n",
      "如果你不想猜了，可以在输数字的地方输入下面任意一句，我就知道你不想玩了。\n",
      "[\"I don't want to play anymore\", 'I quit', 'My mom called me home for dinner', 'Bye', 'bye', '不玩了', '不猜了', '我妈喊我回家吃饭了']\n"
     ]
    },
    {
     "name": "stdin",
     "output_type": "stream",
     "text": [
      "我选的数字，最高可以是几？ 10000\n"
     ]
    },
    {
     "ename": "KeyboardInterrupt",
     "evalue": "Interrupted by user",
     "output_type": "error",
     "traceback": [
      "\u001b[1;31m---------------------------------------------------------------------------\u001b[0m",
      "\u001b[1;31mKeyboardInterrupt\u001b[0m                         Traceback (most recent call last)",
      "Input \u001b[1;32mIn [1]\u001b[0m, in \u001b[0;36m<cell line: 34>\u001b[1;34m()\u001b[0m\n\u001b[0;32m     31\u001b[0m         \u001b[38;5;28;01mbreak\u001b[39;00m\n\u001b[0;32m     33\u001b[0m num_computer_generated \u001b[38;5;241m=\u001b[39m randint(min_num, max_num)\n\u001b[1;32m---> 34\u001b[0m your_guess \u001b[38;5;241m=\u001b[39m \u001b[38;5;28;43minput\u001b[39;49m\u001b[43m(\u001b[49m\u001b[38;5;124;43m\"\u001b[39;49m\u001b[38;5;124;43m我选好了，现在你来猜吧(\u001b[39;49m\u001b[38;5;132;43;01m{}\u001b[39;49;00m\u001b[38;5;124;43m-\u001b[39;49m\u001b[38;5;132;43;01m{}\u001b[39;49;00m\u001b[38;5;124;43m):\u001b[39;49m\u001b[38;5;124;43m\"\u001b[39;49m\u001b[38;5;241;43m.\u001b[39;49m\u001b[43mformat\u001b[49m\u001b[43m(\u001b[49m\u001b[43mmin_num\u001b[49m\u001b[43m,\u001b[49m\u001b[43m \u001b[49m\u001b[43mmax_num\u001b[49m\u001b[43m)\u001b[49m\u001b[43m)\u001b[49m\n\u001b[0;32m     36\u001b[0m \u001b[38;5;28;01mwhile\u001b[39;00m \u001b[38;5;28;01mTrue\u001b[39;00m:\n\u001b[0;32m     37\u001b[0m     \u001b[38;5;28;01mif\u001b[39;00m your_guess \u001b[38;5;129;01min\u001b[39;00m codes:\n",
      "File \u001b[1;32mc:\\users\\qiang\\documents\\elementarymathpython\\venv\\lib\\site-packages\\ipykernel\\kernelbase.py:1075\u001b[0m, in \u001b[0;36mKernel.raw_input\u001b[1;34m(self, prompt)\u001b[0m\n\u001b[0;32m   1071\u001b[0m \u001b[38;5;28;01mif\u001b[39;00m \u001b[38;5;129;01mnot\u001b[39;00m \u001b[38;5;28mself\u001b[39m\u001b[38;5;241m.\u001b[39m_allow_stdin:\n\u001b[0;32m   1072\u001b[0m     \u001b[38;5;28;01mraise\u001b[39;00m StdinNotImplementedError(\n\u001b[0;32m   1073\u001b[0m         \u001b[38;5;124m\"\u001b[39m\u001b[38;5;124mraw_input was called, but this frontend does not support input requests.\u001b[39m\u001b[38;5;124m\"\u001b[39m\n\u001b[0;32m   1074\u001b[0m     )\n\u001b[1;32m-> 1075\u001b[0m \u001b[38;5;28;01mreturn\u001b[39;00m \u001b[38;5;28;43mself\u001b[39;49m\u001b[38;5;241;43m.\u001b[39;49m\u001b[43m_input_request\u001b[49m\u001b[43m(\u001b[49m\n\u001b[0;32m   1076\u001b[0m \u001b[43m    \u001b[49m\u001b[38;5;28;43mstr\u001b[39;49m\u001b[43m(\u001b[49m\u001b[43mprompt\u001b[49m\u001b[43m)\u001b[49m\u001b[43m,\u001b[49m\n\u001b[0;32m   1077\u001b[0m \u001b[43m    \u001b[49m\u001b[38;5;28;43mself\u001b[39;49m\u001b[38;5;241;43m.\u001b[39;49m\u001b[43m_parent_ident\u001b[49m\u001b[43m[\u001b[49m\u001b[38;5;124;43m\"\u001b[39;49m\u001b[38;5;124;43mshell\u001b[39;49m\u001b[38;5;124;43m\"\u001b[39;49m\u001b[43m]\u001b[49m\u001b[43m,\u001b[49m\n\u001b[0;32m   1078\u001b[0m \u001b[43m    \u001b[49m\u001b[38;5;28;43mself\u001b[39;49m\u001b[38;5;241;43m.\u001b[39;49m\u001b[43mget_parent\u001b[49m\u001b[43m(\u001b[49m\u001b[38;5;124;43m\"\u001b[39;49m\u001b[38;5;124;43mshell\u001b[39;49m\u001b[38;5;124;43m\"\u001b[39;49m\u001b[43m)\u001b[49m\u001b[43m,\u001b[49m\n\u001b[0;32m   1079\u001b[0m \u001b[43m    \u001b[49m\u001b[43mpassword\u001b[49m\u001b[38;5;241;43m=\u001b[39;49m\u001b[38;5;28;43;01mFalse\u001b[39;49;00m\u001b[43m,\u001b[49m\n\u001b[0;32m   1080\u001b[0m \u001b[43m\u001b[49m\u001b[43m)\u001b[49m\n",
      "File \u001b[1;32mc:\\users\\qiang\\documents\\elementarymathpython\\venv\\lib\\site-packages\\ipykernel\\kernelbase.py:1120\u001b[0m, in \u001b[0;36mKernel._input_request\u001b[1;34m(self, prompt, ident, parent, password)\u001b[0m\n\u001b[0;32m   1117\u001b[0m             \u001b[38;5;28;01mbreak\u001b[39;00m\n\u001b[0;32m   1118\u001b[0m \u001b[38;5;28;01mexcept\u001b[39;00m \u001b[38;5;167;01mKeyboardInterrupt\u001b[39;00m:\n\u001b[0;32m   1119\u001b[0m     \u001b[38;5;66;03m# re-raise KeyboardInterrupt, to truncate traceback\u001b[39;00m\n\u001b[1;32m-> 1120\u001b[0m     \u001b[38;5;28;01mraise\u001b[39;00m \u001b[38;5;167;01mKeyboardInterrupt\u001b[39;00m(\u001b[38;5;124m\"\u001b[39m\u001b[38;5;124mInterrupted by user\u001b[39m\u001b[38;5;124m\"\u001b[39m) \u001b[38;5;28;01mfrom\u001b[39;00m \u001b[38;5;28mNone\u001b[39m\n\u001b[0;32m   1121\u001b[0m \u001b[38;5;28;01mexcept\u001b[39;00m \u001b[38;5;167;01mException\u001b[39;00m:\n\u001b[0;32m   1122\u001b[0m     \u001b[38;5;28mself\u001b[39m\u001b[38;5;241m.\u001b[39mlog\u001b[38;5;241m.\u001b[39mwarning(\u001b[38;5;124m\"\u001b[39m\u001b[38;5;124mInvalid Message:\u001b[39m\u001b[38;5;124m\"\u001b[39m, exc_info\u001b[38;5;241m=\u001b[39m\u001b[38;5;28;01mTrue\u001b[39;00m)\n",
      "\u001b[1;31mKeyboardInterrupt\u001b[0m: Interrupted by user"
     ]
    },
    {
     "name": "stdin",
     "output_type": "stream",
     "text": [
      "我选好了，现在你来猜吧(0-10000): 1\n"
     ]
    }
   ],
   "source": [
    "from time import sleep            \n",
    "from random import randint\n",
    "\n",
    "min_num = 0\n",
    "\n",
    "codes = [\"I don't want to play anymore\", \n",
    "         \"I quit\", \"My mom called me home for dinner\", \n",
    "         \"Bye\", \n",
    "         \"bye\", \n",
    "         \"不玩了\", \n",
    "         \"不猜了\", \n",
    "         \"我妈喊我回家吃饭了\"\n",
    "        ]\n",
    "\n",
    "print(\"我是你的小助手，我想和你玩一个猜数字的游戏。\")\n",
    "print(\"我会随便挑出一个数字，你可以反复猜直到才对为止。\")\n",
    "print(\"如果你不想猜了，可以在输数字的地方输入下面任意一句，我就知道你不想玩了。\")\n",
    "print(codes)\n",
    "max_num = int(input(\"我选的数字，最高可以是几？\"))\n",
    "\n",
    "while True:\n",
    "    if max_num < 20:\n",
    "        print(\"对不起，数字太小了。再输入一个吧!\")\n",
    "        max_num = int(input(\"我选的数字，最高可以是几？\"))\n",
    "    else:\n",
    "        break\n",
    "    if max_num > 1000:                                     # 程序永远不会执行到这里\n",
    "        print(\"对不起，数字太大了。再输入一个吧!\")\n",
    "        max_num = int(input(\"我选的数字，最高可以是几？\"))\n",
    "    else:\n",
    "        break\n",
    "    \n",
    "num_computer_generated = randint(min_num, max_num)\n",
    "your_guess = input(\"我选好了，现在你来猜吧({}-{}):\".format(min_num, max_num))\n",
    "\n",
    "while True:\n",
    "    if your_guess in codes:\n",
    "        print(\"很遗憾，你没有猜出来，下次再玩吧。\")\n",
    "        break\n",
    "    \n",
    "    else:\n",
    "        num_you_guessed = int(your_guess)                 \n",
    "        if num_you_guessed == num_computer_generated:\n",
    "            print(\"恭喜你，你猜对了。\")\n",
    "            break\n",
    "        else:\n",
    "            your_guess = input(\"没猜对，继续猜:\")\n",
    "    \n",
    "print(\"猜数字游戏结束。\")"
   ]
  },
  {
   "cell_type": "markdown",
   "id": "9710d397-c1b1-4b0a-a502-440d97ed1ce6",
   "metadata": {},
   "source": [
    "3. Perfect number guessing game 2: Currently, our number guessing game will output same information (\"Unfortunately, you didn't guess it, let's play next time\")  when a player don't want guess anymore. Actually, this is not always reasonable, especially when the player does not make a single guess at all. In this situation, the game should not output that information. 完善猜数字游戏二：目前我们的猜数字游戏程序在任何时候当玩家输入表示不想猜的代码后，程序都会输出相同的信息\"很遗憾，你没有猜出来，下次再玩吧。\"并退出。这在某些情况下是不合理的。比如说，当玩家一次都没有猜就不想猜的时候，程序不应该输出\"很遗憾，你没有猜出来，下次再玩吧。\"。\n",
    "\n",
    "   \n",
    "   lease modify the solution code in this lecture or the code completed in previous question to add the following features to the game: when the times that a player guesses does not reach 3, the game will output \"you only guessed {} times, are you really want to quit?\", where {} represents the times that the player guessed. Provide a box to let player answer the question. If the player answers(by typing on keyboard) one of the following words: \"yes\", \"Yes\", \"是\", and \"真的不想猜了\", the game will output \"It's a bit disappointing, tell me if you want to play in the future.\", the the game terminates. If the player's answer is not in the list, then let the game continue. 请你在示例程序或者上一题已经完成的程序上做修改，实现下述功能：当玩家还没有猜满**3**次的时候想退出时，程序提示玩家\"你才猜了{}次，你真的不想猜了？\"({}表示当前已经猜了的次数），并提供一个输入框供玩家输入他们的回答。当程序接收到的回答是“yes\",\"Yes\",“是”,\"真的不想猜了\"中的某一个时，表示玩家确实不想玩了，此时程序输出类似“有点扫兴呢，下次你想玩的时候再玩吧\"，随后程序运行结束；如果程序收到的回答不在设计的几个之内，则让玩家继续猜。\n",
    "   \n",
    "   \n",
    "    More specially, if a player want to stop the game before making the first guess, the game will output the information \"you have not make the first guess\" instead of \"You only guessed 0 times, are you really want to quit?\". Actually, for this scenario, you can customize the response youself as long as it fits the scenario.   特别的，如果玩家一次都没有猜就不想玩时，可以将计算机的提示修改为：\"你一次都没猜呢\"。你可以按照自己的喜好来设计这些提示信息，只要其符合当时的场景即可。"
   ]
  },
  {
   "cell_type": "code",
   "execution_count": 6,
   "id": "35d03e6c-6ac6-4215-9778-dceed0e2c797",
   "metadata": {},
   "outputs": [
    {
     "name": "stdout",
     "output_type": "stream",
     "text": [
      "我是你的小助手，我想和你玩一个猜数字的游戏。\n",
      "我会从0-9之间随便挑出一个数字，你可以反复猜直到才对为止\n",
      "如果你不想猜了，可以在输数字的地方输入下面任意一句，我就知道你不想玩了。\n",
      "[\"I don't want to play anymore\", 'I quit', 'My mom called me home for dinner', 'Bye', 'bye', '不玩了', '不猜了', '我妈喊我回家吃饭了']\n"
     ]
    },
    {
     "name": "stdin",
     "output_type": "stream",
     "text": [
      "我选好了，现在你来猜吧(0-9): 3\n",
      "没猜对，继续猜: 1\n",
      "没猜对，继续猜: 3\n",
      "没猜对，继续猜: 4\n"
     ]
    },
    {
     "name": "stdout",
     "output_type": "stream",
     "text": [
      "恭喜你，你猜对了。\n",
      "猜数字游戏结束。\n"
     ]
    }
   ],
   "source": [
    "from time import sleep            \n",
    "from random import randint\n",
    "\n",
    "min_num, max_num, amount_guesses = 0, 9, 0\n",
    "\n",
    "codes = [\"I don't want to play anymore\", \n",
    "         \"I quit\", \"My mom called me home for dinner\", \n",
    "         \"Bye\", \n",
    "         \"bye\", \n",
    "         \"不玩了\", \n",
    "         \"不猜了\", \n",
    "         \"我妈喊我回家吃饭了\"\n",
    "        ]\n",
    "quit_replies = [\"yes\", \"Yes\", \"是\", \"真的不想猜了\"]\n",
    "\n",
    "print(\"我是你的小助手，我想和你玩一个猜数字的游戏。\")\n",
    "sleep(2)\n",
    "print(\"我会从{}-{}之间随便挑出一个数字，你可以反复猜直到才对为止\".format(min_num, max_num))\n",
    "sleep(2)\n",
    "print(\"如果你不想猜了，可以在输数字的地方输入下面任意一句，我就知道你不想玩了。\")\n",
    "print(codes)\n",
    "sleep(2)\n",
    "num_computer_generated = randint(min_num, max_num)\n",
    "your_guess = input(\"我选好了，现在你来猜吧({}-{}):\".format(min_num, max_num))\n",
    "\n",
    "while True:\n",
    "    if your_guess in codes:\n",
    "        if amount_guesses < 3:\n",
    "            quit_reply = input(\"你只猜了 {} 次, 你确定要退出吗？\".format(amount_guesses))\n",
    "            if quit_reply in quit_replies:\n",
    "                print(\"有点扫兴呢，下次你想玩的时候再玩吧.\")\n",
    "                break\n",
    "            \n",
    "        else: \n",
    "            print(\"有点扫兴呢，下次你想玩的时候再玩吧.\")\n",
    "            break\n",
    "    else:\n",
    "        num_you_guessed = int(your_guess)                 \n",
    "        if num_you_guessed == num_computer_generated:\n",
    "            print(\"恭喜你，你猜对了。\")\n",
    "            break\n",
    "        else:\n",
    "            your_guess = input(\"没猜对，继续猜:\")\n",
    "    amount_guesses = amount_guesses + 1\n",
    "    \n",
    "print(\"猜数字游戏结束。\")"
   ]
  },
  {
   "cell_type": "markdown",
   "id": "7e6e8421-79d4-4f6f-b893-35822b89ae50",
   "metadata": {},
   "source": [
    "4. Perfect Number Guessing Game 3: Many children saied that they liked this number guessing game very much, and they also competed with each other to see who could guess the number with the least number of times. Sometimes they guessed so many times that they could not remember how many times they guessed, so they want the program to tell each player how many times they guessed for the randomly generated number before the program ends. 完善猜数字游戏三：有很多小朋友表示非常喜欢玩这个猜数字游戏，他们在玩的时候也相互比赛看谁能够用最少的次数猜中数字。有时候他们猜的次数太多了，自己都记不住自己猜了几次了，所以他们希望程序再运行结束前告诉每一个玩家这一局共猜了多少次。\n",
    "\n",
    "    Please modify the solution code in this lecture or the code completed in previous question to add this function. Please write the complete code in the code cell below.请你在示例程序或者上一题已经完成的程序上做修改，增加这个功能。请将完整的代码写在下面的代码单元格里。"
   ]
  },
  {
   "cell_type": "code",
   "execution_count": 7,
   "id": "c89bf1ed-7dc8-41ef-828b-c080db320541",
   "metadata": {},
   "outputs": [
    {
     "name": "stdout",
     "output_type": "stream",
     "text": [
      "我是你的小助手，我想和你玩一个猜数字的游戏。\n",
      "我会从0-9之间随便挑出一个数字，你可以反复猜直到才对为止\n",
      "如果你不想猜了，可以在输数字的地方输入下面任意一句，我就知道你不想玩了。\n",
      "[\"I don't want to play anymore\", 'I quit', 'My mom called me home for dinner', 'Bye', 'bye', '不玩了', '不猜了', '我妈喊我回家吃饭了']\n"
     ]
    },
    {
     "name": "stdin",
     "output_type": "stream",
     "text": [
      "我选好了，现在你来猜吧(0-9): 2\n",
      "没猜对，继续猜: 3\n"
     ]
    },
    {
     "name": "stdout",
     "output_type": "stream",
     "text": [
      "恭喜你，你猜对了。\n",
      "猜数字游戏结束，你猜了 2 遍。\n"
     ]
    }
   ],
   "source": [
    "from time import sleep            \n",
    "from random import randint\n",
    "\n",
    "min_num, max_num, amount_guesses = 0, 9, 0\n",
    "\n",
    "codes = [\"I don't want to play anymore\", \n",
    "         \"I quit\", \"My mom called me home for dinner\", \n",
    "         \"Bye\", \n",
    "         \"bye\", \n",
    "         \"不玩了\", \n",
    "         \"不猜了\", \n",
    "         \"我妈喊我回家吃饭了\"\n",
    "        ]\n",
    "quit_replies = [\"yes\", \"Yes\", \"是\", \"真的不想猜了\"]\n",
    "\n",
    "print(\"我是你的小助手，我想和你玩一个猜数字的游戏。\")\n",
    "sleep(2)\n",
    "print(\"我会从{}-{}之间随便挑出一个数字，你可以反复猜直到才对为止\".format(min_num, max_num))\n",
    "sleep(2)\n",
    "print(\"如果你不想猜了，可以在输数字的地方输入下面任意一句，我就知道你不想玩了。\")\n",
    "print(codes)\n",
    "sleep(2)\n",
    "num_computer_generated = randint(min_num, max_num)\n",
    "your_guess = input(\"我选好了，现在你来猜吧({}-{}):\".format(min_num, max_num))\n",
    "\n",
    "while True:\n",
    "    if your_guess in codes:\n",
    "        if amount_guesses < 3:\n",
    "            quit_reply = input(\"你只猜了 {} 次, 你确定要退出吗？\".format(amount_guesses))\n",
    "            if quit_reply in quit_replies:\n",
    "                print(\"有点扫兴呢，下次你想玩的时候再玩吧.\")\n",
    "                break\n",
    "            \n",
    "        else: \n",
    "            print(\"有点扫兴呢，下次你想玩的时候再玩吧.\")\n",
    "            break\n",
    "    else:\n",
    "        num_you_guessed = int(your_guess)                 \n",
    "        if num_you_guessed == num_computer_generated:\n",
    "            print(\"恭喜你，你猜对了。\")\n",
    "            break\n",
    "        else:\n",
    "            your_guess = input(\"没猜对，继续猜:\")\n",
    "    amount_guesses = amount_guesses + 1\n",
    "    \n",
    "print(\"猜数字游戏结束，你猜了 {} 遍。\".format(amount_guesses + 1))"
   ]
  },
  {
   "cell_type": "markdown",
   "id": "ea195a6c-ace7-47cf-8214-ff45b04fdd4d",
   "metadata": {},
   "source": [
    "5. (**Optional, 可选做 /10**) Perfect number guessing game 4: Some players find the game a little difficult, especially when the range of guessing numbers becomes wider. They might have guessed many times and have not guessed correctly. They hope that the program can give some hints every time they fail to guess. For example, tell the player whether the correct number is larger or smaller than the number he guessed, so that the guess range can be narrowed in next guess. This looks like a nice feature, but other players may not like it since it makes the game less difficult and less interesting. To take care of both, our program needs to be modified. 完善猜数字游戏四：有一些小朋友玩家觉得有点难，特别是当猜的数字的范围变大时，猜了很多次都没有猜中，他们希望程序能够在每次没猜中的时候给一些提示，告诉玩家正确的数字比自己猜的数字是大还是小，这样在下一次猜的时候就缩小猜的范围了。这看起来是一个很不错的功能，但是也有一些玩家不喜欢这个功能，认为这会降低难度减少趣味性。为了兼顾两者，我们的程序需要做些修改。\n",
    "\n",
    "   Please modify the solution code in this lecture or the code completed in previous question. Add the following feature: when the program starts to run, ask the player whether or not the player needs a hint of which number is larger when there is a wrong guess. Provide an input box for the player to enter a answer. For this question, it's up to you to design a list of answers that indicate the need for a hint. When the player needs a hint, the player will be told such which number is larger after every wrong guess; when the player chooses no hint, no hint will be given after each wrong guess. Please write the complete code in the code cell below. 请你在示例程序或者上一题已经完成的程序上做修改，增加下述功能：在程序一开始运行的时候，询问玩家是否需在每次猜测错误后给出和要猜的数字谁大谁小的提示。提供一个输入框供玩家输入他们的回答。这一次由你自己来设计一些表示需要提示的回答列表。当玩家需要这类提示信息时，在每一次猜错后就告诉玩家这样的提示；当玩家选择不需要提示时，在玩家猜错后就不给提示。请将完整的代码写在下面的代码单元格里。"
   ]
  },
  {
   "cell_type": "code",
   "execution_count": 12,
   "id": "f03f6b0d-06d3-444d-b16e-e2e022dabf61",
   "metadata": {},
   "outputs": [
    {
     "name": "stdout",
     "output_type": "stream",
     "text": [
      "Hello, I'm Happy Little Computer. I want to play a number-guessing game with you!\n",
      "I will choose a random number between 0 and 9, and you will keep guessing it as long as you haven't gotten it right.\n",
      "If at any time you would like to stop playing, just type one of these:\n",
      "[\"I don't want to play anymore\", 'I quit', 'My mom called me home for dinner', 'bye', 'Bye', '不玩了', '不猜了', '我妈喊我回家吃饭了']\n"
     ]
    },
    {
     "name": "stdin",
     "output_type": "stream",
     "text": [
      "Would you like me to give a hint after every incorrect guess？[y/n] 5\n"
     ]
    },
    {
     "name": "stdout",
     "output_type": "stream",
     "text": [
      "I'm sorry, you can only input y or n. Try again.\n"
     ]
    },
    {
     "name": "stdin",
     "output_type": "stream",
     "text": [
      "Would you like me to give a hint after every incorrect guess？[y/n] n\n",
      "I'm done choosing a number, it's your turn to guess now! (0-9): 4\n",
      "Nope, your number's too low, go up. Try again: 6\n"
     ]
    },
    {
     "name": "stdout",
     "output_type": "stream",
     "text": [
      "Congrats, you got it right!\n",
      "You've guessed 2 times, the game is now over.\n"
     ]
    }
   ],
   "source": [
    "from random import randint\n",
    "\n",
    "min_n, max_n, amount_guesses = 0, 9, 0\n",
    "num_computer_generated = randint(min_n, max_n)\n",
    "\n",
    "exit_responses = [\"I don't want to play anymore\", \"I quit\", \"My mom called me home for dinner\", \"bye\", \"Bye\", \"不玩了\", \"不猜了\", \"我妈喊我回家吃饭了\"]\n",
    "\n",
    "print(\"Hello, I'm Happy Little Computer. I want to play a number-guessing game with you!\")\n",
    "print(\"I will choose a random number between {} and {}, and you will keep guessing it as long as you haven't gotten it right.\".format(min_n, max_n))\n",
    "print(\"If at any time you would like to stop playing, just type one of these:\")\n",
    "print(exit_responses)\n",
    "\n",
    "while True:\n",
    "    hint_option = input(\"Would you like me to give a hint after every incorrect guess？[y/n]\")\n",
    "    if hint_option == \"y\":\n",
    "        break\n",
    "    if hint_option == \"n\":\n",
    "        break\n",
    "    else:\n",
    "        print(\"I'm sorry, you can only input y or n. Try again.\")\n",
    "        \n",
    "your_guess = input(\"I'm done choosing a number, it's your turn to guess now! ({}-{}):\".format(min_num, max_num))\n",
    "\n",
    "while True:\n",
    "    if your_guess in codes:\n",
    "        if amount_guesses <= 3:\n",
    "            quit_response = input(\"Are you sure you would like to quit? You've only guessed {} times. [y/n]\".format(amount_guesses))\n",
    "            if quit_response == \"y\":\n",
    "                print(\"Aw, that's unfortunate. Let's play again when you're feeling up to it!\")\n",
    "                break\n",
    "            if quit_response == \"n\":\n",
    "                your_guess = input(\"Okay, great! Let's guess! ({}-{}):\".format(min_num, max_num))\n",
    "            else:\n",
    "                quit_response = input(\"You can only input y or n, I don't know what you mean. Try again.\")\n",
    "        else: \n",
    "            print(\"Aw, that's unfortunate. Let's play again when you're feeling up to it!\")\n",
    "            break\n",
    "    else:\n",
    "        num_you_guessed = int(your_guess) \n",
    "        amount_guesses = amount_guesses + 1\n",
    "        if num_you_guessed == num_computer_generated:\n",
    "            print(\"Congrats, you got it right!\")\n",
    "            break\n",
    "        if num_you_guessed < num_computer_generated:\n",
    "            your_guess = input(\"Nope, your number's too low, go up. Try again:\")\n",
    "        else:\n",
    "            your_guess = input(\"Nope, your number's too high, go down. Try again:\")   \n",
    "    \n",
    "print(\"You've guessed {} times, the game is now over.\".format(amount_guesses))"
   ]
  },
  {
   "cell_type": "code",
   "execution_count": null,
   "id": "dd50a3ae-f09b-4961-ad0d-fbe85109de19",
   "metadata": {},
   "outputs": [],
   "source": []
  }
 ],
 "metadata": {
  "kernelspec": {
   "display_name": "Python 3 (ipykernel)",
   "language": "python",
   "name": "python3"
  },
  "language_info": {
   "codemirror_mode": {
    "name": "ipython",
    "version": 3
   },
   "file_extension": ".py",
   "mimetype": "text/x-python",
   "name": "python",
   "nbconvert_exporter": "python",
   "pygments_lexer": "ipython3",
   "version": "3.9.0"
  }
 },
 "nbformat": 4,
 "nbformat_minor": 5
}
