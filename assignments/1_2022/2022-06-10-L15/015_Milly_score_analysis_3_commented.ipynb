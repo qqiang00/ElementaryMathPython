{
 "cells": [
  {
   "cell_type": "markdown",
   "id": "relative-location",
   "metadata": {},
   "source": [
    "## 第15讲 分析考试成绩（三）\n",
    "Lecture 15. Analysis Exam Scores(Part 3)"
   ]
  },
  {
   "cell_type": "markdown",
   "id": "2bcecff6-2775-4d25-9c92-bf89df38f7ed",
   "metadata": {},
   "source": [
    "点评和提示\n",
    "\n",
    "1. 第1题中，你准确找到了比较两个数的位置，并打印输出，这是很好的。不过题目的要求不是输出一句话，二十统计每插入一张牌期间比较的次数以及整个摸牌过程中比较的总次数，你可以分别设置两个变量来记录它们，并最终把他们在合适的时候输出。\n",
    "\n",
    "2. 第2题整体做得非常好。如果能在第一、三步期间使用`if`将用字母表示的牌表示成为用数字表示的牌就更好了，因为这样无论一开始的三张JQK牌处在list中什么位置，你都可以做到准确的替换。\n",
    "\n",
    "3. 第3题有些难，可以参考示例程序，在循环抽取左手上的牌的时候，从位置较大的牌开始，如果发现右手上的牌比左手正正在比较的牌还要大，那么就等于找到了右手的牌应该插入的位置了。\n",
    "\n",
    "4. 第4题你的思路新颖，通过循环将已经排好序的list首尾各去除一个元素，最终得到长度只有3的list，这样再找中间的数时就很简单了。值得点赞！"
   ]
  },
  {
   "cell_type": "markdown",
   "id": "d12f05dd",
   "metadata": {},
   "source": [
    "### Problem 问题描述"
   ]
  },
  {
   "cell_type": "markdown",
   "id": "c7cd1f0b-8266-49f3-a77e-806bec2c40ce",
   "metadata": {},
   "source": [
    "In this lecture, we still focus on analyzing the scores of 50 students.\n",
    "```text\n",
    "74, 86, 100, 92, 72, 70, 74, 86, 72, 100, 86, 84, 96, 92, 78, 90, 82, \n",
    "90, 82, 88, 100, 78, 92, 78, 92, 86, 84, 88, 90, 88, 98, 86, 100, 96, \n",
    "96, 94, 54, 90, 100, 78, 100, 98, 84, 100, 78, 86, 98, 88, 94, 88\n",
    "```\n",
    "Please sort the socres from lowest to highest, print the sorted scores. \n",
    "\n",
    "把分数按照从小到大的次序排列，并把排好序的分数打印出来"
   ]
  },
  {
   "cell_type": "markdown",
   "id": "58b48659-5d09-4297-ad74-02cd03a78bb7",
   "metadata": {},
   "source": [
    "### Math Background 数学背景"
   ]
  },
  {
   "cell_type": "markdown",
   "id": "84ff5c68-6020-4bd6-9155-4ca62bd7f828",
   "metadata": {},
   "source": [
    "1. 比较数的大小"
   ]
  },
  {
   "cell_type": "markdown",
   "id": "c87f2ab2-933c-4283-8f53-d650737089f3",
   "metadata": {
    "tags": []
   },
   "source": [
    "### Prerequisites 预备知识"
   ]
  },
  {
   "cell_type": "markdown",
   "id": "fb936c93-0006-4659-a3df-75ea48f27619",
   "metadata": {},
   "source": [
    "#### 1. 往一个列表中插入一个元素\n",
    "\n",
    "考虑摸牌的过程，左手中牌自左至右依次增大，目前有三张牌分别是3，5，7。准备把数字为6的牌放到左手中并保持左手的牌仍然是从小到大排列的，那么6应该被放在5后面、7前面。最后左手中的牌从左到右一次是3，5，6，7。\n",
    "\n",
    "如果用`sorted_cards`表示左手中排好序的牌，`card_picked`表示待插入的牌。我们可以使用`insert()`这个方法来把`card_picked`插入到列表`sorted_cards`中。\n",
    "\n",
    "在使用针对列表型变量的`insert`方法前，我们需要告诉这个方法，要插入哪一个元素（可以用`value`表示）以及把这个元素插入到列表中哪一个位置（可以用`pos`表示）。例如如果们要让新插入的元素6在`sorted_cards`列表中的位置是2，我们可以写下面的代码：\n",
    "```python\n",
    "sorted_cards.insert(2, 6)            # 2表示位置，6表示要插入的元素\n",
    "```"
   ]
  },
  {
   "cell_type": "code",
   "execution_count": null,
   "id": "e18465cc-8ad8-4078-8d6f-17882320a0ab",
   "metadata": {},
   "outputs": [],
   "source": [
    "sorted_cards = [3, 5, 7]     # 按从小到大排列\n",
    "print(sorted_cards)\n",
    "card_picked = 6\n",
    "sorted_cards.insert(2, 6)\n",
    "print(sorted_cards)"
   ]
  },
  {
   "cell_type": "markdown",
   "id": "a7ed9df5-61bf-4387-b681-73a959ad748b",
   "metadata": {},
   "source": [
    "**练习**"
   ]
  },
  {
   "cell_type": "code",
   "execution_count": null,
   "id": "b4267725-e3a4-418d-96cd-bac3c0be3f39",
   "metadata": {},
   "outputs": [],
   "source": [
    "# 将整数型变量元素12插入到列表中，并且使得元素12在列表中的位置是3。\n",
    "nums = [32, 9, 84, 102, 56, 1]\n",
    "num = 12"
   ]
  },
  {
   "cell_type": "code",
   "execution_count": null,
   "id": "4c154b03-04a7-4c5b-a506-f95a8cd808b8",
   "metadata": {},
   "outputs": [],
   "source": [
    "# 将整数型变量元素12插入到列表[32, 9, 84, 102, 56, 1]中，并且使得元素12在列表中的位置是0。\n",
    "nums = [32, 9, 84, 102, 56, 1]\n",
    "num = 12"
   ]
  },
  {
   "cell_type": "code",
   "execution_count": null,
   "id": "e56f5543-b4c3-4e3f-844f-61df8a841c66",
   "metadata": {},
   "outputs": [],
   "source": [
    "# 将整数型变量元素12插入到列表[32, 9, 84, 102, 56, 1]中，并且使得元素12在列表中的位置是5。\n",
    "nums = [32, 9, 84, 102, 56, 1]\n",
    "num = 12"
   ]
  },
  {
   "cell_type": "code",
   "execution_count": null,
   "id": "c4ecfc67-32cf-431a-9fa1-f06f8c661d70",
   "metadata": {},
   "outputs": [],
   "source": [
    "# 将整数型变量元素12插入到列表[32, 9, 84, 102, 56, 1]中，并且使得元素12在列表中的位置是6。\n",
    "nums = [32, 9, 84, 102, 56, 1]\n",
    "num = 12\n",
    "\n",
    "nums.insert(6, 12)\n",
    "#nums.append(12)\n",
    "print(nums)"
   ]
  },
  {
   "cell_type": "markdown",
   "id": "72945ac6-c014-4153-89d3-c5c47587ccc0",
   "metadata": {},
   "source": [
    "#### 2. 将一个元素插入到一个已经排好序的列表中并维持列表的已排序状态"
   ]
  },
  {
   "cell_type": "code",
   "execution_count": null,
   "id": "e2b11905-49cc-4fde-a82c-2187a0954ed8",
   "metadata": {},
   "outputs": [],
   "source": [
    "sorted_cards = [7, 8, 9]  # 按从小到大排列\n",
    "card_right = 6\n",
    "position = 0\n",
    "i = 0\n",
    "while i < len(sorted_cards):                  # 从左(小)到右(大)依次比较\n",
    "    card_left = sorted_cards[i]\n",
    "    if card_left > card_right:\n",
    "        position = i\n",
    "        break\n",
    "    if card_left == card_right:\n",
    "        # find position\n",
    "        position = i + 1\n",
    "        break\n",
    "    if card_left < card_right:\n",
    "        i += 1\n",
    "\n",
    "sorted_cards.insert(position, card_right)\n",
    "print(sorted_cards)"
   ]
  },
  {
   "cell_type": "code",
   "execution_count": null,
   "id": "2422225e-232c-4cc1-aa08-838fa40df281",
   "metadata": {},
   "outputs": [],
   "source": [
    "sorted_cards = [3, 5, 5, 5, 5, 6, 7]  # 按从小到大排列\n",
    "card_right = 6\n",
    "i = 0\n",
    "while i < len(sorted_cards):                  # 从左(小)到右(大)依次比较\n",
    "    print(\"in While Loop\")\n",
    "    if sorted_cards[i] < card_right:\n",
    "        print(\"left card is smaller than right card\")\n",
    "        i += 1\n",
    "    else:\n",
    "        print(\"left card is larger than or equal to right card\")\n",
    "        break\n",
    "\n",
    "sorted_cards.insert(i, card_right)\n",
    "print(sorted_cards)"
   ]
  },
  {
   "cell_type": "code",
   "execution_count": null,
   "id": "2343a55e-b1ab-4140-83ff-09091d5292c2",
   "metadata": {},
   "outputs": [],
   "source": [
    "in While Loop\n",
    "left card is larger than or equal to right card\n",
    "[7, 6]"
   ]
  },
  {
   "cell_type": "code",
   "execution_count": null,
   "id": "47740647-2948-4c62-aabf-94f4a7290cdc",
   "metadata": {},
   "outputs": [],
   "source": [
    "sorted_cards = [3, 5, 7]  # 按从小到大排列\n",
    "card_right = 6\n",
    "\n",
    "position = 0\n",
    "\n",
    "i = 0\n",
    "while i < len(sorted_cards):                  # 从左(小)到右(大)依次比较\n",
    "    card_left = sorted_cards[i]\n",
    "    if card_left > card_right:                \n",
    "        pass\n",
    "    elif card_left == card_right:             \n",
    "        pass\n",
    "    else: # card_left < card_right:\n",
    "        pass\n",
    "\n",
    "sorted_cards.insert(position, card_being_picked)\n",
    "print(sorted_cards)"
   ]
  },
  {
   "cell_type": "markdown",
   "id": "58cc9f65-729a-467b-85ed-60fb5afd65df",
   "metadata": {},
   "source": [
    "**练习** 修改上面的代码，让待插入的牌和已排好序的牌从右（大）到左（小）依次比较"
   ]
  },
  {
   "cell_type": "code",
   "execution_count": null,
   "id": "019719ec-9d12-48d7-b8c4-c937c414388a",
   "metadata": {},
   "outputs": [],
   "source": [
    "sorted_cards = [3, 5, 7]  # 按从小到大排列\n",
    "card_being_picked = 6\n",
    "position = 0\n",
    "\n",
    "# TODO:从右（大）到左（小）\n",
    "\n",
    "sorted_cards.insert(position, card_being_picked)\n",
    "print(sorted_cards)"
   ]
  },
  {
   "cell_type": "markdown",
   "id": "f2e32c1e-8872-4770-b1a8-1266de4801c9",
   "metadata": {},
   "source": [
    "#### 3. 从头开始插入排序 \n",
    "如果一开始左手中没有牌，放在桌子上等待右手拾取的派分别是[5, 3, 7, 6]，那应该如何做呢？"
   ]
  },
  {
   "cell_type": "code",
   "execution_count": null,
   "id": "015b9f7a-f53c-440f-8b56-d30c19c5c2c6",
   "metadata": {},
   "outputs": [],
   "source": [
    "sorted_cards = []\n",
    "table_cards = [5, 3, 7, 6]\n",
    "n_pick = len(table_cards)              # 需要摸牌的次数\n",
    "cur_pick = 0\n",
    "while cur_pick < n_pick:\n",
    "    print(\"\\nPick {}\".format(cur_pick))\n",
    "    card_picked = table_cards[cur_pick]\n",
    "    print(\"  Before Insert: cards in left hand: {}\".format(sorted_cards))\n",
    "    print(\"  Card picked:{}\".format(card_picked))\n",
    "    \n",
    "    i = 0\n",
    "    while i < len(sorted_cards):       # 从左(小)到右(大)依次比较\n",
    "        if card_picked < sorted_cards[i]:\n",
    "            position = i\n",
    "            break\n",
    "        i += 1\n",
    "        \n",
    "    position = i                       # 为什么需要这一行代码？\n",
    "    print(\"  Pos for the card: {}\".format(position))\n",
    "    sorted_cards.insert(position, card_picked)\n",
    "    print(\"  After insert, cards in left Hand: {}\".format(sorted_cards))\n",
    "    cur_pick += 1"
   ]
  },
  {
   "cell_type": "code",
   "execution_count": 61,
   "id": "d3bd3fae-1cd3-4c9c-a52c-11c6d004256a",
   "metadata": {},
   "outputs": [
    {
     "name": "stdout",
     "output_type": "stream",
     "text": [
      "[3, 5, 6, 7]\n"
     ]
    }
   ],
   "source": [
    "# simplified Codes 简化后的代码\n",
    "sorted_cards = []\n",
    "table_cards = [5, 3, 7, 6]\n",
    "\n",
    "n_pick = len(table_cards)              # 需要摸牌的次数\n",
    "cur_pick = 0\n",
    "\n",
    "while cur_pick < n_pick:\n",
    "    card_being_picked = table_cards[cur_pick]\n",
    "    i = 0\n",
    "    while i < len(sorted_cards):       # 从左(小)到右(大)依次比较\n",
    "        if card_being_picked < sorted_cards[i]:\n",
    "            break\n",
    "        i += 1\n",
    "        \n",
    "    sorted_cards.insert(i, card_being_picked)\n",
    "    cur_pick += 1 \n",
    "\n",
    "print(sorted_cards)"
   ]
  },
  {
   "cell_type": "markdown",
   "id": "e193a2f3-1549-43f6-9b15-b91a8ac43b9b",
   "metadata": {
    "tags": []
   },
   "source": [
    "#### 4. 复习`if`语句组合\n",
    "1. else 和离它最近的上面一个if配对\n",
    "2. if 后面可以没有else，但是elif和else不能单独出现\n",
    "3. 可以只有if或if,elif, 可以没有else\n",
    "4. elif可以有不只一个\n",
    "\n",
    "观察下面两组代码输出的差别"
   ]
  },
  {
   "cell_type": "code",
   "execution_count": null,
   "id": "847635a5-d6e7-4fb9-b787-53d80fd2b6ec",
   "metadata": {},
   "outputs": [],
   "source": [
    "card_left1 = 20\n",
    "card_left2 = 10\n",
    "card_right = 15\n",
    "if card_left1 > card_right:  # 20 > 15? True\n",
    "    print(\"left1 {}>{} right\".format(card_left1, card_right))\n",
    "if card_left2 > card_right:  # 10 > 15? False\n",
    "    print(\"left2 {}>{} right\".format(card_left2, card_right))\n",
    "else:\n",
    "    print(\"left2 {}<={} right\".format(card_left2, card_right))"
   ]
  },
  {
   "cell_type": "code",
   "execution_count": null,
   "id": "bc3802f9-210d-477c-97b6-2e2e26987fb3",
   "metadata": {},
   "outputs": [],
   "source": [
    "card_left1 = 20\n",
    "card_left2 = 10\n",
    "card_right = 15\n",
    "if card_left1 > card_right:  # 20 > 15? True\n",
    "    print(\"1 left1 {}>{} right\".format(card_left1, card_right))\n",
    "elif card_left2 > card_right:  # 10 > 15? False\n",
    "    print(\"2 left2 {}>{} right\".format(card_left2, card_right))\n",
    "else:\n",
    "    print(\"left2 {}<={} right\".format(card_left2, card_right))"
   ]
  },
  {
   "cell_type": "markdown",
   "id": "d55f37d9",
   "metadata": {},
   "source": [
    "### Solution 编程求解"
   ]
  },
  {
   "cell_type": "code",
   "execution_count": null,
   "id": "c0bf70f7-d7c2-4eb4-889a-d2341bccb7dc",
   "metadata": {},
   "outputs": [],
   "source": [
    "scores = [74, 86, 100, 92, 72, 70, 74, 86, 72, 100, 86, 84, 96, 92, 78, 90, \n",
    "          82, 90, 82, 88, 100, 78, 92, 78, 92, 86, 84, 88, 90, 88, 98, 86, 100, \n",
    "          96, 96, 94, 54, 90, 100, 78, 100, 98, 84, 100, 78, 86, 98, 88, 94, 88]"
   ]
  },
  {
   "cell_type": "code",
   "execution_count": null,
   "id": "92cd9dfb-72cf-4d81-a328-4bfef9ded5a5",
   "metadata": {},
   "outputs": [],
   "source": [
    "sorted_scores = []\n",
    "n_pick = len(scores)\n",
    "cur_pick = 0\n",
    "while cur_pick < n_pick:\n",
    "    score = scores[cur_pick]\n",
    "    i = 0\n",
    "    while i < len(sorted_scores):       # 从左(小)到右(大)依次比较\n",
    "        if score < sorted_scores[i]:\n",
    "            break\n",
    "        i += 1\n",
    "        \n",
    "    sorted_scores.insert(i, score)\n",
    "    cur_pick += 1 \n",
    "\n",
    "print(sorted_scores)"
   ]
  },
  {
   "cell_type": "markdown",
   "id": "latest-contamination",
   "metadata": {
    "tags": []
   },
   "source": [
    "### Summary 知识点小结"
   ]
  },
  {
   "cell_type": "markdown",
   "id": "afb3f674",
   "metadata": {},
   "source": [
    "1. 插入排序"
   ]
  },
  {
   "cell_type": "markdown",
   "id": "bizarre-assurance",
   "metadata": {},
   "source": [
    "### 计算机小知识"
   ]
  },
  {
   "cell_type": "markdown",
   "id": "92100f08",
   "metadata": {},
   "source": [
    "将数据按照一定的次序排序是计算机算法里面极其重要的一类算法。插入排序只是其中一种排序的方法，这种方法在某些条件下的效率并不高。在生活中也到处可以见到使用排序算法的例子，例如对学生的升高、年龄、考试成绩等进行排序等等。"
   ]
  },
  {
   "cell_type": "markdown",
   "id": "digital-consensus",
   "metadata": {
    "heading_collapsed": true
   },
   "source": [
    "### Assignments 作业"
   ]
  },
  {
   "cell_type": "markdown",
   "id": "controversial-sleeve",
   "metadata": {
    "hidden": true
   },
   "source": [
    "## 1. Analyze the sort code shown in the following cell for picking card game introduced in this lecture, please answer:\n",
    "    \n",
    "    分析本讲给出的如下单元格所示摸牌排序代码，请你回答：\n",
    "    \n",
    "1. Which code line is actually performing the action of **comparing the card picked and a card in left hand**? 其中的哪一行代码是在**比较右手中摸到的牌和左手中某一张牌的大小**\n",
    "2. Add some codes so that the programm can additionaly output how many times the comparing action is performed during each card picking process. Sum up the times together to tell the comparing times for the whole soring process. 在下面的代码中添加一些代码，使得程序能够额外输出：在每一次摸牌中程序分别进行了多少次两张牌大小的比较，以及完成所有的摸牌，程序一共进行了多少次两张牌大小的比较；"
   ]
  },
  {
   "cell_type": "code",
   "execution_count": 44,
   "id": "52018e2c-d589-4bee-8d1c-d03551f4e57f",
   "metadata": {},
   "outputs": [
    {
     "name": "stdout",
     "output_type": "stream",
     "text": [
      "\n",
      "Pick 0\n",
      "  Before Insert: cards in left hand: []\n",
      "  Card picked:5\n",
      "  Pos for the card: 0\n",
      "  After insert, cards in left Hand: [5]\n",
      "\n",
      "Pick 1\n",
      "  Before Insert: cards in left hand: [5]\n",
      "  Card picked:3\n",
      "Now is comparing the size of two numbers\n",
      "  Pos for the card: 0\n",
      "  After insert, cards in left Hand: [3, 5]\n",
      "\n",
      "Pick 2\n",
      "  Before Insert: cards in left hand: [3, 5]\n",
      "  Card picked:7\n",
      "Now is comparing the size of two numbers\n",
      "Now is comparing the size of two numbers\n",
      "  Pos for the card: 2\n",
      "  After insert, cards in left Hand: [3, 5, 7]\n",
      "\n",
      "Pick 3\n",
      "  Before Insert: cards in left hand: [3, 5, 7]\n",
      "  Card picked:6\n",
      "Now is comparing the size of two numbers\n",
      "Now is comparing the size of two numbers\n",
      "Now is comparing the size of two numbers\n",
      "  Pos for the card: 2\n",
      "  After insert, cards in left Hand: [3, 5, 6, 7]\n"
     ]
    }
   ],
   "source": [
    "sorted_cards = []\n",
    "table_cards = [5, 3, 7, 6]\n",
    "n_pick = len(table_cards)              # 需要摸牌的次数\n",
    "cur_pick = 0\n",
    "while cur_pick < n_pick:\n",
    "    print(\"\\nPick {}\".format(cur_pick))\n",
    "    card_being_picked = table_cards[cur_pick]\n",
    "    print(\"  Before Insert: cards in left hand: {}\".format(sorted_cards))\n",
    "    print(\"  Card picked:{}\".format(card_being_picked))\n",
    "    i = 0\n",
    "    while i < len(sorted_cards):       # 从左(小)到右(大)依次比较\n",
    "        print(\"Now is comparing the size of two numbers\")\n",
    "        if card_being_picked < sorted_cards[i]:   #比较右手中摸到的牌和左手中某一张牌的大小\n",
    "            position = i\n",
    "            break\n",
    "        i += 1\n",
    "        \n",
    "    position = i                       # 为什么需要这一行代码？\n",
    "    print(\"  Pos for the card: {}\".format(position))\n",
    "    sorted_cards.insert(position, card_being_picked)\n",
    "    print(\"  After insert, cards in left Hand: {}\".format(sorted_cards))\n",
    "    cur_pick += 1"
   ]
  },
  {
   "cell_type": "markdown",
   "id": "59afabb1-983c-48e5-9532-d6d0de084daf",
   "metadata": {},
   "source": [
    "2. Assume there are 13 cards described by the list variable `cards` 假设下面的列表变量`cards`表示13张牌\n",
    "    ```python\n",
    "    cards = [10, 4, 7, 'K', 'J', 8, 9, 5, 3, 6, 'Q', 2, 1]\n",
    "    ```\n",
    "    Please sort the cards in ascending(card becomes larger as index grows) order. 请将这13张牌按照升序（随着位置增加，牌也增大）排列形成`sorted_cards`：\n",
    "    ```python\n",
    "    sorted_cards = [1, 2, 3, 4, 5, 6, 7, 8, 9, 10, \"J\", \"Q\", \"K\"]\n",
    "    ```\n",
    "\n",
    "    **Hint** You can imagine \"J\" as 11, \"Q\" as 12, and \"K\" as 13, transfer these letters to numbers, after you sorted them, transfer them back. \n",
    "    **提示** 你可以把\"J\",\"Q\",\"K\"分别想象成11, 12, 13，把字母转化为数字，排好序后再转换回去。"
   ]
  },
  {
   "cell_type": "code",
   "execution_count": 59,
   "id": "c1ce7c03-c030-4aa7-b621-a30fb2297489",
   "metadata": {},
   "outputs": [
    {
     "name": "stdout",
     "output_type": "stream",
     "text": [
      "[10]\n",
      "[4, 10]\n",
      "[4, 7, 10]\n",
      "[4, 7, 10, 13]\n",
      "[4, 7, 10, 11, 13]\n",
      "[4, 7, 8, 10, 11, 13]\n",
      "[4, 7, 8, 9, 10, 11, 13]\n",
      "[4, 5, 7, 8, 9, 10, 11, 13]\n",
      "[3, 4, 5, 7, 8, 9, 10, 11, 13]\n",
      "[3, 4, 5, 6, 7, 8, 9, 10, 11, 13]\n",
      "[3, 4, 5, 6, 7, 8, 9, 10, 11, 12, 13]\n",
      "[2, 3, 4, 5, 6, 7, 8, 9, 10, 11, 12, 13]\n",
      "[1, 2, 3, 4, 5, 6, 7, 8, 9, 10, 11, 12, 13]\n",
      "[1, 2, 3, 4, 5, 6, 7, 8, 9, 10, 'J', 'Q', 'K']\n"
     ]
    }
   ],
   "source": [
    "cards = [10, 4, 7, 'K', 'J', 8, 9, 5, 3, 6, 'Q', 2, 1]\n",
    "sorted_cards = []\n",
    "#TODO: write your codes here 在这里填写你的代码\n",
    "# step1, transfer letters to numbers 第一步，将字母变成数字\n",
    "cards[3] = 13\n",
    "cards[4] = 11\n",
    "cards[10] = 12\n",
    "\n",
    "# step2, sort 排序\n",
    "n_pick = len(cards)\n",
    "cur_pick = 0\n",
    "while cur_pick < n_pick:\n",
    "    i = 0\n",
    "    card_being_picked = cards[0]\n",
    "    cards.pop(0)\n",
    "    while i < len(sorted_cards):\n",
    "        if card_being_picked < sorted_cards[i]:        \n",
    "            break\n",
    "        i += 1\n",
    "    position = i\n",
    "    sorted_cards.insert(position, card_being_picked)\n",
    "    print(sorted_cards)\n",
    "    cur_pick += 1\n",
    "\n",
    "# step3, transfer numbers to letters 把一些数字换回成对应的字母\n",
    "sorted_cards[10] = 'J'\n",
    "sorted_cards[11] = 'Q'\n",
    "sorted_cards[12] = 'K'\n",
    "print(sorted_cards)"
   ]
  },
  {
   "cell_type": "code",
   "execution_count": 60,
   "id": "d85b36c0-f15a-472f-9d13-d52a77233181",
   "metadata": {},
   "outputs": [
    {
     "name": "stdout",
     "output_type": "stream",
     "text": [
      "[10, 4, 7, 'K', 'J', 8, 9, 5, 3, 6, 'Q', 2, 1]\n"
     ]
    }
   ],
   "source": [
    "# the cards was generated by the following codes. \n",
    "# 上面打乱了的list是由下面的代码生成的\n",
    "sorted_cards = [1, 2, 3, 4, 5, 6, 7, 8, 9, 10, \"J\", \"Q\", \"K\"]\n",
    "from random import shuffle, seed\n",
    "seed(2)\n",
    "shuffle(sorted_cards)         # 将列表里的元素次序打乱\n",
    "print(sorted_cards)"
   ]
  },
  {
   "cell_type": "markdown",
   "id": "965ce486-6f46-48cd-ad3d-e3948825dfa2",
   "metadata": {},
   "source": [
    "3. In the sorting code of card picking codes provided in this lecture, the algorithm takes out a card in left hand from smallest to largest and then compares it with the card being picked by right hand. Please modify the algorithm so that it takes out a card in left hand **from largest to smallest** to do the comparasion with the card in right hand and then complete the whole sorting process. Please answer:\n",
    "\n",
    "    本讲给出的摸牌排序代码中，算法是按照从左(小)到右(大)的次序分别拿出左侧一张牌和右手中的牌进行比较的。请编写程序让算法按照 **从右（大）到左（小）** 的次序分别拿出左手中一张牌和摸到的牌比较，完成从头开始的插入排序过程。回答：\n",
    "    \n",
    "    1. By using your new algorithm, how many comparisons were performed for each pick and for the whole process. 在你设计的新的算法下，每次摸牌时分别进行了几次牌面数字的比较以及整个排序过程中总共进行了多少次这样的比较。\n",
    "    2. Are the comparison times equal for the two different algorithms, why? 两种算法比较的次数一样吗？为什么？"
   ]
  },
  {
   "cell_type": "code",
   "execution_count": 77,
   "id": "820fcbc0-9bc8-4ff2-bd9d-2bd2250ec0de",
   "metadata": {},
   "outputs": [
    {
     "name": "stdout",
     "output_type": "stream",
     "text": [
      "[5]\n",
      "[5, 3]\n",
      "[5, 7, 3]\n",
      "[5, 6, 7, 3]\n",
      "[5, 6, 7, 3]\n"
     ]
    }
   ],
   "source": [
    "sorted_cards = []\n",
    "table_cards = [5, 3, 7, 6]\n",
    "n_pick = len(table_cards)              # 需要摸牌的次数\n",
    "cur_pick = 0\n",
    "\n",
    "while cur_pick < n_pick:\n",
    "    card_being_picked = table_cards[cur_pick]\n",
    "    i = 0\n",
    "    while i < len(sorted_cards):       # 从左(小)到右(大)依次比较\n",
    "        if card_being_picked > sorted_cards[i]:\n",
    "            break\n",
    "        i += 1\n",
    "        \n",
    "    sorted_cards.insert(i+1, card_being_picked)\n",
    "    print(sorted_cards)\n",
    "    cur_pick += 1 \n",
    "print(sorted_cards)"
   ]
  },
  {
   "cell_type": "code",
   "execution_count": 78,
   "id": "ad70b4fa-6e34-4b48-ac85-7a8e3d2f002b",
   "metadata": {},
   "outputs": [],
   "source": [
    "#TODO：write you answer here\n",
    "#两次的比较次数不一样\n",
    "#比如6，6<7，i += 1，6>5 1次\n",
    "#另一种：6>3，i += 1，6>5，i += 1，6<3 一次"
   ]
  },
  {
   "cell_type": "markdown",
   "id": "b979ede1-e295-4d7c-9647-aef923c092cc",
   "metadata": {},
   "source": [
    "4.  Consider a sorted list with an odd number of elements like: [1, 2, 3, 4, 5], element 3 is in the middle of the list because it has 2 elements to its left(1, 2) and also two elements to its right(4, 5). If a sorted list has an even number of elements, such as [7, 5, 4, 3, 2, 1], then elements 4 and 3 are both considered to be in the middle of the list. There are 2 elements on their left side (7, 5) and two elements on their right side (2, 1).\n",
    "\n",
    "    考虑一个排好序的拥有奇数个元素的列表：[1, 2, 3, 4, 5]，其中元素3处在列表中的正中位置，因为他的左侧有2个元素（分别是1，2），右侧也有两个元素（4，5）。如果一个排好序的列表拥有偶数个元素，例如[7, 5, 4, 3, 2, 1]，那么元素4和3被认为是处在列表中正中位置的两个元素，因为他们的左侧有2个元素（分别是7，5），右侧也有两个元素（2，1）。\n",
    "\n",
    "   \n",
    "    Find the two scores that are exactly in the middle of the sorted scores list who has 50 elements. Calculate the average of the two scores you found.\n",
    "    \n",
    "    在本讲已经排按照从小到大好序的50个成绩组成的成绩列表中，找到位置处在最中间的那两个成绩，并计算这两个成绩的平均数。"
   ]
  },
  {
   "cell_type": "code",
   "execution_count": null,
   "id": "ee13f376-7eac-41f1-a0cc-87e294fb0f69",
   "metadata": {},
   "outputs": [
    {
     "name": "stdout",
     "output_type": "stream",
     "text": [
      "There are two middle numbers: 88 88\n",
      "The average of these two numbers is：132.0\n"
     ]
    }
   ],
   "source": [
    "sorted_scores = [54, 70, 72, 72, 74, 74, 78, 78, 78, 78, 78, 82, 82, 84, 84, 84,\n",
    "                 86, 86, 86, 86, 86, 86, 88, 88, 88, 88, 88, 90, 90, 90, 90, 92,\n",
    "                 92, 92, 92, 94, 94, 96, 96, 96, 98, 98, 98, 100, 100, 100, 100,\n",
    "                 100, 100, 100]\n",
    "\n",
    "while len(sorted_scores) >= 3:\n",
    "    sorted_scores.pop(0)\n",
    "    sorted_scores.pop(len(sorted_scores) - 1)\n",
    "if len(sorted_scores) == 1:\n",
    "    middle_num = sorted_scores[0]\n",
    "    print(\"There is one middle number:\", middle_num)\n",
    "if len(sorted_scores) == 2:\n",
    "    middle_num1 = sorted_scores[0]\n",
    "    middle_num2 = sorted_scores[1]\n",
    "    print(\"There are two middle numbers:\", middle_num1, middle_num2)\n",
    "\n",
    "if len(sorted_scores) == 1:\n",
    "    print(\"The average of these two numbers is：{}\".format(middle_num))\n",
    "if len(sorted_scores) == 2:\n",
    "    average = middle_num1 + middle_num2 / 2\n",
    "    print(\"The average of these two numbers is：{}\".format(average))"
   ]
  },
  {
   "cell_type": "code",
   "execution_count": 7,
   "id": "9c77906a-7732-44bd-aa73-c00bd623582a",
   "metadata": {},
   "outputs": [
    {
     "name": "stdout",
     "output_type": "stream",
     "text": [
      "There is one middle number: 3\n",
      "The average of these two numbers is：3\n"
     ]
    }
   ],
   "source": [
    "sorted_scores = [1, 2, 3, 4, 5]\n",
    "\n",
    "while len(sorted_scores) >= 3:\n",
    "    sorted_scores.pop(0)\n",
    "    sorted_scores.pop(len(sorted_scores) - 1)\n",
    "if len(sorted_scores) == 1:\n",
    "    middle_num = sorted_scores[0]\n",
    "    print(\"There is one middle number:\", middle_num)\n",
    "if len(sorted_scores) == 2:\n",
    "    middle_num1 = sorted_scores[0]\n",
    "    middle_num2 = sorted_scores[1]\n",
    "    print(\"There are two middle numbers:\", middle_num1, middle_num2)\n",
    "\n",
    "if len(sorted_scores) == 1:\n",
    "    print(\"The average of these two numbers is：{}\".format(middle_num))\n",
    "if len(sorted_scores) == 2:\n",
    "    average = (middle_num1 + middle_num2) / 2\n",
    "    print(\"The average of these two numbers is：{}\".format(average))\n",
    "# Answer: 3"
   ]
  },
  {
   "cell_type": "code",
   "execution_count": 8,
   "id": "e310a195-4033-4569-9a2a-2a77825eca6b",
   "metadata": {},
   "outputs": [
    {
     "name": "stdout",
     "output_type": "stream",
     "text": [
      "There are two middle numbers: 3 4\n",
      "The average of these two numbers is：3.5\n"
     ]
    }
   ],
   "source": [
    "sorted_scores = [1, 2, 3, 4, 5, 6]\n",
    "\n",
    "while len(sorted_scores) >= 3:\n",
    "    sorted_scores.pop(0)\n",
    "    sorted_scores.pop(len(sorted_scores) - 1)\n",
    "if len(sorted_scores) == 1:\n",
    "    middle_num = sorted_scores[0]\n",
    "    print(\"There is one middle number:\", middle_num)\n",
    "if len(sorted_scores) == 2:\n",
    "    middle_num1 = sorted_scores[0]\n",
    "    middle_num2 = sorted_scores[1]\n",
    "    print(\"There are two middle numbers:\", middle_num1, middle_num2)\n",
    "\n",
    "if len(sorted_scores) == 1:\n",
    "    print(\"The average of these two numbers is：{}\".format(middle_num))\n",
    "if len(sorted_scores) == 2:\n",
    "    average = (middle_num1 + middle_num2) / 2\n",
    "    print(\"The average of these two numbers is：{}\".format(average))"
   ]
  },
  {
   "cell_type": "code",
   "execution_count": 10,
   "id": "e0b52836-1bf3-422f-87fd-b1d1dd559112",
   "metadata": {},
   "outputs": [
    {
     "name": "stdout",
     "output_type": "stream",
     "text": [
      "There are two middle numbers: 3 4\n",
      "The average of these two numbers is：3.5\n"
     ]
    }
   ],
   "source": [
    "sorted_scores = [ 1, 2, 3, 4, 5, 1000]\n",
    "\n",
    "while len(sorted_scores) >= 3:\n",
    "    sorted_scores.pop(0)\n",
    "    sorted_scores.pop(len(sorted_scores) - 1)\n",
    "if len(sorted_scores) == 1:\n",
    "    middle_num = sorted_scores[0]\n",
    "    print(\"There is one middle number:\", middle_num)\n",
    "if len(sorted_scores) == 2:\n",
    "    middle_num1 = sorted_scores[0]\n",
    "    middle_num2 = sorted_scores[1]\n",
    "    print(\"There are two middle numbers:\", middle_num1, middle_num2)\n",
    "\n",
    "if len(sorted_scores) == 1:\n",
    "    print(\"The average of these two numbers is：{}\".format(middle_num))\n",
    "if len(sorted_scores) == 2:\n",
    "    average = (middle_num1 + middle_num2) / 2\n",
    "    print(\"The average of these two numbers is：{}\".format(average))"
   ]
  },
  {
   "cell_type": "code",
   "execution_count": 11,
   "id": "9da7034f-c7ee-4e32-ab58-5fd19f2f4011",
   "metadata": {},
   "outputs": [
    {
     "name": "stdout",
     "output_type": "stream",
     "text": [
      "There is one middle number: 4\n",
      "The average of these two numbers is：4\n"
     ]
    }
   ],
   "source": [
    "sorted_scores = [ 1, 2, 3, 4, 5, 1000, 10000]\n",
    "\n",
    "while len(sorted_scores) >= 3:\n",
    "    sorted_scores.pop(0)\n",
    "    sorted_scores.pop(len(sorted_scores) - 1)\n",
    "if len(sorted_scores) == 1:\n",
    "    middle_num = sorted_scores[0]\n",
    "    print(\"There is one middle number:\", middle_num)\n",
    "if len(sorted_scores) == 2:\n",
    "    middle_num1 = sorted_scores[0]\n",
    "    middle_num2 = sorted_scores[1]\n",
    "    print(\"There are two middle numbers:\", middle_num1, middle_num2)\n",
    "\n",
    "if len(sorted_scores) == 1:\n",
    "    print(\"The average of these two numbers is：{}\".format(middle_num))\n",
    "if len(sorted_scores) == 2:\n",
    "    average = (middle_num1 + middle_num2) / 2\n",
    "    print(\"The average of these two numbers is：{}\".format(average))# Answer: 3, 4\n",
    "# Answer 4"
   ]
  },
  {
   "cell_type": "code",
   "execution_count": null,
   "id": "6aa4ee61-3d6b-4dbc-9861-5823d5226e4a",
   "metadata": {},
   "outputs": [],
   "source": []
  }
 ],
 "metadata": {
  "kernelspec": {
   "display_name": "Python 3 (ipykernel)",
   "language": "python",
   "name": "python3"
  },
  "language_info": {
   "codemirror_mode": {
    "name": "ipython",
    "version": 3
   },
   "file_extension": ".py",
   "mimetype": "text/x-python",
   "name": "python",
   "nbconvert_exporter": "python",
   "pygments_lexer": "ipython3",
   "version": "3.9.0"
  }
 },
 "nbformat": 4,
 "nbformat_minor": 5
}
