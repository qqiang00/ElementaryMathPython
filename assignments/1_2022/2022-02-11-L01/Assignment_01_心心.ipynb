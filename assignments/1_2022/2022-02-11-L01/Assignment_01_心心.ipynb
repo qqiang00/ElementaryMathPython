{
 "cells": [
  {
   "cell_type": "code",
   "execution_count": 1,
   "id": "7115f48a-0131-4484-b335-2e24a1865b86",
   "metadata": {},
   "outputs": [
    {
     "name": "stdout",
     "output_type": "stream",
     "text": [
      "I love China and Canada.\n"
     ]
    }
   ],
   "source": [
    "#1a\n",
    "print(\"I love China and Canada.\")"
   ]
  },
  {
   "cell_type": "code",
   "execution_count": 2,
   "id": "b9b8ad8c-5a60-4383-abd4-d2147df8151f",
   "metadata": {},
   "outputs": [
    {
     "name": "stdout",
     "output_type": "stream",
     "text": [
      "I like Python programming language, and I like Math too.\n"
     ]
    }
   ],
   "source": [
    "#1b\n",
    "print(\"I like Python programming language, and I like Math too.\")"
   ]
  },
  {
   "cell_type": "code",
   "execution_count": 3,
   "id": "e32ab7a3-845c-4da1-979c-60248b35ab21",
   "metadata": {},
   "outputs": [
    {
     "name": "stdout",
     "output_type": "stream",
     "text": [
      "Our teacher’s name is Qiang.\n"
     ]
    }
   ],
   "source": [
    "#1c\n",
    "print(\"Our teacher’s name is Qiang.\")"
   ]
  },
  {
   "cell_type": "code",
   "execution_count": 4,
   "id": "5d00f3bb-fa5c-4dca-b3b6-136988e87c9a",
   "metadata": {},
   "outputs": [
    {
     "name": "stdout",
     "output_type": "stream",
     "text": [
      "“CN” is the abbreviation of China.\n"
     ]
    }
   ],
   "source": [
    "#1d\n",
    "print(\"“CN” is the abbreviation of China.\")"
   ]
  },
  {
   "cell_type": "code",
   "execution_count": 5,
   "id": "959bbd00-b4bc-4e9a-a503-9abf51ccb74d",
   "metadata": {},
   "outputs": [
    {
     "name": "stdout",
     "output_type": "stream",
     "text": [
      "The abbreviation of Canda is “CAD”.\n"
     ]
    }
   ],
   "source": [
    "#1e\n",
    "print(\"The abbreviation of Canda is “CAD”.\")"
   ]
  },
  {
   "cell_type": "code",
   "execution_count": 6,
   "id": "d233e568-8157-411e-985b-4bda8f809acc",
   "metadata": {},
   "outputs": [
    {
     "name": "stdout",
     "output_type": "stream",
     "text": [
      "中国的首都是’北京’。\n"
     ]
    }
   ],
   "source": [
    "#1f\n",
    "print(\"中国的首都是’北京’。\")"
   ]
  },
  {
   "cell_type": "code",
   "execution_count": 13,
   "id": "3feba26d-9060-4dcf-8b65-db1f215c4100",
   "metadata": {},
   "outputs": [
    {
     "name": "stdout",
     "output_type": "stream",
     "text": [
      "100\n"
     ]
    }
   ],
   "source": [
    "#2a\n",
    "sum = 0\n",
    "for i in range(1, 20, 2):\n",
    "    sum += i\n",
    "print(sum)"
   ]
  },
  {
   "cell_type": "code",
   "execution_count": 22,
   "id": "1e4d11c1-8111-400b-a1f5-f2e5a952ffe3",
   "metadata": {},
   "outputs": [
    {
     "name": "stdout",
     "output_type": "stream",
     "text": [
      "5\n"
     ]
    }
   ],
   "source": [
    "#2b.1\n",
    "sum1 = 0\n",
    "for i in range(2, 11, 2):\n",
    "    sum1 += i\n",
    "sum2 = 0\n",
    "for i in range(1, 10, 2):\n",
    "    sum2 -= i\n",
    "print(sum1+sum2)"
   ]
  },
  {
   "cell_type": "code",
   "execution_count": 23,
   "id": "3551a445-e77b-4515-89f6-38ffd1189766",
   "metadata": {},
   "outputs": [
    {
     "name": "stdout",
     "output_type": "stream",
     "text": [
      "5\n"
     ]
    }
   ],
   "source": [
    "#2b.2\n",
    "sum = 0\n",
    "for i in range(2, 11, 2):\n",
    "    sum += i\n",
    "for i in range(1, 10, 2):\n",
    "    sum -= i\n",
    "print(sum)"
   ]
  },
  {
   "cell_type": "code",
   "execution_count": null,
   "id": "6857210d-615a-4b62-83f7-ae3691e9dfa6",
   "metadata": {},
   "outputs": [
    {
     "name": "stdout",
     "output_type": "stream",
     "text": [
      "31.400000000000002\n"
     ]
    }
   ],
   "source": [
    "#2c\n",
    "print(3.14*2*5)"
   ]
  },
  {
   "cell_type": "code",
   "execution_count": 26,
   "id": "7fb1716c-1bca-43e4-8c8e-bab633cb2aa9",
   "metadata": {},
   "outputs": [
    {
     "name": "stdout",
     "output_type": "stream",
     "text": [
      "30\n"
     ]
    }
   ],
   "source": [
    "#2d\n",
    "print(2*(6+9))"
   ]
  },
  {
   "cell_type": "code",
   "execution_count": 46,
   "id": "78f8f679-e43a-447e-ad22-05596ba1d488",
   "metadata": {},
   "outputs": [
    {
     "name": "stdout",
     "output_type": "stream",
     "text": [
      "The perimeter of this rectangle is 62 and its area is 30.\n"
     ]
    }
   ],
   "source": [
    "#3\n",
    "perimeter = (18+13)*2\n",
    "area = 2*(6+9)\n",
    "print(\"The perimeter of this rectangle is \" + str(perimeter) + \" and its area is \" + str(area) + \".\")"
   ]
  },
  {
   "cell_type": "code",
   "execution_count": null,
   "id": "67a769e9-ff65-40d6-bf83-34af5901022a",
   "metadata": {},
   "outputs": [],
   "source": [
    "#4\n",
    "sum1 = 0\n",
    "for i in range(1, 101):\n",
    "    sum1 += i\n",
    "sum2 = 0\n",
    "for i in range(100, 10001):"
   ]
  }
 ],
 "metadata": {
  "kernelspec": {
   "display_name": "Python 3",
   "language": "python",
   "name": "python3"
  },
  "language_info": {
   "codemirror_mode": {
    "name": "ipython",
    "version": 3
   },
   "file_extension": ".py",
   "mimetype": "text/x-python",
   "name": "python",
   "nbconvert_exporter": "python",
   "pygments_lexer": "ipython3",
   "version": "3.8.10"
  }
 },
 "nbformat": 4,
 "nbformat_minor": 5
}
