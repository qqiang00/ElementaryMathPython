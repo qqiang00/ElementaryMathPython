{
 "cells": [
  {
   "cell_type": "code",
   "execution_count": 8,
   "id": "3dc30eec-71ad-4d55-b891-807aab9aa12f",
   "metadata": {},
   "outputs": [
    {
     "name": "stdout",
     "output_type": "stream",
     "text": [
      "I love China and Canada.\n"
     ]
    }
   ],
   "source": [
    "#1-1\n",
    "print(\"I love China and Canada.\")"
   ]
  },
  {
   "cell_type": "code",
   "execution_count": 9,
   "id": "8eb28121-9f26-47ab-b497-7b7115d8edf9",
   "metadata": {},
   "outputs": [
    {
     "name": "stdout",
     "output_type": "stream",
     "text": [
      "I like Python programming language,and I like Math to.\n"
     ]
    }
   ],
   "source": [
    "#1-2\n",
    "print(\"I like Python programming language,and I like Math to.\")"
   ]
  },
  {
   "cell_type": "code",
   "execution_count": 10,
   "id": "9ef4da24-dfbd-4867-9f1f-bbbc0b2c64b9",
   "metadata": {},
   "outputs": [
    {
     "name": "stdout",
     "output_type": "stream",
     "text": [
      "Our teacher's name is Qiang.\n"
     ]
    }
   ],
   "source": [
    "#1-3\n",
    "print(\"Our teacher's name is Qiang.\")"
   ]
  },
  {
   "cell_type": "code",
   "execution_count": 11,
   "id": "7c7b0e51-4d1c-49d6-ad9a-73d04b6d837f",
   "metadata": {},
   "outputs": [
    {
     "name": "stdout",
     "output_type": "stream",
     "text": [
      "\"CN\" is the abbreviation of China.\n"
     ]
    }
   ],
   "source": [
    "#1-4\n",
    "print('\"CN\" is the abbreviation of China.')"
   ]
  },
  {
   "cell_type": "code",
   "execution_count": 12,
   "id": "a1a73a40-74e9-4735-932d-681e6fa69165",
   "metadata": {},
   "outputs": [
    {
     "name": "stdout",
     "output_type": "stream",
     "text": [
      "The arbbreviation of Canda is \"CAD\".\n"
     ]
    }
   ],
   "source": [
    "#1-5\n",
    "print('The arbbreviation of Canda is \"CAD\".')"
   ]
  },
  {
   "cell_type": "code",
   "execution_count": 13,
   "id": "ea8d99d7-e72b-4fa8-9324-124dbe041133",
   "metadata": {},
   "outputs": [
    {
     "name": "stdout",
     "output_type": "stream",
     "text": [
      "中国的首都是“北京”。\n"
     ]
    }
   ],
   "source": [
    "#1-6\n",
    "print('中国的首都是“北京”。')"
   ]
  },
  {
   "cell_type": "code",
   "execution_count": 14,
   "id": "8a8f9d32-7433-498e-a467-57f1a502a439",
   "metadata": {},
   "outputs": [
    {
     "data": {
      "text/plain": [
       "100"
      ]
     },
     "execution_count": 14,
     "metadata": {},
     "output_type": "execute_result"
    }
   ],
   "source": [
    "#2-1\n",
    "1+3+5+7+9+11+13+15+17+19"
   ]
  },
  {
   "cell_type": "code",
   "execution_count": 16,
   "id": "ff04366e-9447-43be-92cf-a3c6f0c64e22",
   "metadata": {},
   "outputs": [
    {
     "data": {
      "text/plain": [
       "5"
      ]
     },
     "execution_count": 16,
     "metadata": {},
     "output_type": "execute_result"
    }
   ],
   "source": [
    "#2-2\n",
    "10-9+8-7+6-5+4-3+2-1"
   ]
  },
  {
   "cell_type": "code",
   "execution_count": 19,
   "id": "1cbc9d0c-3f3f-4043-b963-86fc279b9be6",
   "metadata": {},
   "outputs": [
    {
     "data": {
      "text/plain": [
       "31.400000000000002"
      ]
     },
     "execution_count": 19,
     "metadata": {},
     "output_type": "execute_result"
    }
   ],
   "source": [
    "#2-3\n",
    "3.14*2*5"
   ]
  },
  {
   "cell_type": "code",
   "execution_count": 20,
   "id": "f942872e-c426-4df4-b94b-3cce8663a418",
   "metadata": {},
   "outputs": [
    {
     "data": {
      "text/plain": [
       "30"
      ]
     },
     "execution_count": 20,
     "metadata": {},
     "output_type": "execute_result"
    }
   ],
   "source": [
    "#2-4\n",
    "2*(6+9)"
   ]
  },
  {
   "cell_type": "code",
   "execution_count": 25,
   "id": "ecbf1eb7-60e2-4663-b165-be601df7171e",
   "metadata": {},
   "outputs": [
    {
     "data": {
      "text/plain": [
       "62"
      ]
     },
     "execution_count": 25,
     "metadata": {},
     "output_type": "execute_result"
    }
   ],
   "source": [
    "#3\n",
    "(18+13)*2"
   ]
  },
  {
   "cell_type": "code",
   "execution_count": 26,
   "id": "25ae4294-e8d4-4d12-adff-4143187a8825",
   "metadata": {},
   "outputs": [
    {
     "data": {
      "text/plain": [
       "234"
      ]
     },
     "execution_count": 26,
     "metadata": {},
     "output_type": "execute_result"
    }
   ],
   "source": [
    "#3\n",
    "18*13"
   ]
  },
  {
   "cell_type": "code",
   "execution_count": null,
   "id": "3476f2c5-9a39-48f1-a8ad-35e15a960789",
   "metadata": {},
   "outputs": [],
   "source": [
    "这个长方形的周长是 62cm，它的面积是18cm*13cm=234cm。"
   ]
  },
  {
   "cell_type": "code",
   "execution_count": null,
   "id": "770e73e2-5e37-48bc-bb8b-103291db5de3",
   "metadata": {},
   "outputs": [],
   "source": [
    "#4-1\n",
    "我认为可以用等差数列计算。"
   ]
  },
  {
   "cell_type": "code",
   "execution_count": 28,
   "id": "cbc9d2e5-4bba-4b6f-80ab-f24a0e6b636a",
   "metadata": {},
   "outputs": [
    {
     "data": {
      "text/plain": [
       "50000050.0"
      ]
     },
     "execution_count": 28,
     "metadata": {},
     "output_type": "execute_result"
    }
   ],
   "source": [
    "#4-2\n",
    "(100+10000)*((10000-99)/2)"
   ]
  },
  {
   "cell_type": "code",
   "execution_count": null,
   "id": "3ceebba6-e93a-472c-bf43-d5488306c7d3",
   "metadata": {},
   "outputs": [],
   "source": []
  }
 ],
 "metadata": {
  "kernelspec": {
   "display_name": "Python 3",
   "language": "python",
   "name": "python3"
  },
  "language_info": {
   "codemirror_mode": {
    "name": "ipython",
    "version": 3
   },
   "file_extension": ".py",
   "mimetype": "text/x-python",
   "name": "python",
   "nbconvert_exporter": "python",
   "pygments_lexer": "ipython3",
   "version": "3.8.10"
  }
 },
 "nbformat": 4,
 "nbformat_minor": 5
}
