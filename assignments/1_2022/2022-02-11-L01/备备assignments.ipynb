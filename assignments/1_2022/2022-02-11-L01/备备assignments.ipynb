{
 "cells": [
  {
   "cell_type": "code",
   "execution_count": 1,
   "id": "f9d20b04",
   "metadata": {},
   "outputs": [
    {
     "name": "stdout",
     "output_type": "stream",
     "text": [
      "I love China and Canada.\n"
     ]
    }
   ],
   "source": [
    "print(\"I love China and Canada.\")"
   ]
  },
  {
   "cell_type": "code",
   "execution_count": 2,
   "id": "d5b597b4",
   "metadata": {},
   "outputs": [
    {
     "name": "stdout",
     "output_type": "stream",
     "text": [
      "I like Python programming language, and I like Math too\n"
     ]
    }
   ],
   "source": [
    "print(\"I like Python programming language, and I like Math too\")"
   ]
  },
  {
   "cell_type": "code",
   "execution_count": 3,
   "id": "2ee58922",
   "metadata": {},
   "outputs": [
    {
     "name": "stdout",
     "output_type": "stream",
     "text": [
      "Our teacher's name is Qiang.\n"
     ]
    }
   ],
   "source": [
    "print(\"Our teacher's name is Qiang.\")"
   ]
  },
  {
   "cell_type": "code",
   "execution_count": 7,
   "id": "71934046",
   "metadata": {},
   "outputs": [
    {
     "name": "stdout",
     "output_type": "stream",
     "text": [
      "CN is the abbreviation of China.'\n"
     ]
    }
   ],
   "source": [
    "print(\"CN is the abbreviation of China.\")"
   ]
  },
  {
   "cell_type": "code",
   "execution_count": 11,
   "id": "d703b3ab",
   "metadata": {},
   "outputs": [
    {
     "name": "stdout",
     "output_type": "stream",
     "text": [
      "The abbreviation of Canada is CAD.\n"
     ]
    }
   ],
   "source": [
    "print(\"The abbreviation of Canada is CAD.\")"
   ]
  },
  {
   "cell_type": "code",
   "execution_count": 12,
   "id": "354431d7",
   "metadata": {},
   "outputs": [
    {
     "name": "stdout",
     "output_type": "stream",
     "text": [
      "中国的首都是北京。\n"
     ]
    }
   ],
   "source": [
    "print(\"中国的首都是北京。\")"
   ]
  },
  {
   "cell_type": "code",
   "execution_count": 13,
   "id": "a4d20225",
   "metadata": {},
   "outputs": [
    {
     "data": {
      "text/plain": [
       "100"
      ]
     },
     "execution_count": 13,
     "metadata": {},
     "output_type": "execute_result"
    }
   ],
   "source": [
    "1+3+5+7+9+11+13+15+17+19"
   ]
  },
  {
   "cell_type": "code",
   "execution_count": 14,
   "id": "6f31983b",
   "metadata": {},
   "outputs": [
    {
     "data": {
      "text/plain": [
       "5"
      ]
     },
     "execution_count": 14,
     "metadata": {},
     "output_type": "execute_result"
    }
   ],
   "source": [
    "10-9+8-7+6-5+4-3+2-1"
   ]
  },
  {
   "cell_type": "code",
   "execution_count": 16,
   "id": "590e37c8",
   "metadata": {},
   "outputs": [
    {
     "data": {
      "text/plain": [
       "31.400000000000002"
      ]
     },
     "execution_count": 16,
     "metadata": {},
     "output_type": "execute_result"
    }
   ],
   "source": [
    "3.14*2*5"
   ]
  },
  {
   "cell_type": "code",
   "execution_count": 17,
   "id": "96e9bf1d",
   "metadata": {},
   "outputs": [
    {
     "data": {
      "text/plain": [
       "30"
      ]
     },
     "execution_count": 17,
     "metadata": {},
     "output_type": "execute_result"
    }
   ],
   "source": [
    "2*(6+9)"
   ]
  },
  {
   "cell_type": "code",
   "execution_count": 6,
   "id": "b5d7cf41",
   "metadata": {},
   "outputs": [
    {
     "data": {
      "text/plain": [
       "62"
      ]
     },
     "execution_count": 6,
     "metadata": {},
     "output_type": "execute_result"
    }
   ],
   "source": [
    "18*2+13*2"
   ]
  },
  {
   "cell_type": "code",
   "execution_count": 4,
   "id": "26836be5",
   "metadata": {},
   "outputs": [
    {
     "name": "stdout",
     "output_type": "stream",
     "text": [
      "这个长方形的周长是234cm。它的面积是18*13.\n"
     ]
    }
   ],
   "source": [
    "print(\"这个长方形的周长是234cm。它的面积是18*13.\")"
   ]
  },
  {
   "cell_type": "code",
   "execution_count": 12,
   "id": "67f125cc",
   "metadata": {},
   "outputs": [
    {
     "data": {
      "text/plain": [
       "50000050.0"
      ]
     },
     "execution_count": 12,
     "metadata": {},
     "output_type": "execute_result"
    }
   ],
   "source": [
    "(100+10000)*9901/2"
   ]
  }
 ],
 "metadata": {
  "kernelspec": {
   "display_name": "Python 3",
   "language": "python",
   "name": "python3"
  },
  "language_info": {
   "codemirror_mode": {
    "name": "ipython",
    "version": 3
   },
   "file_extension": ".py",
   "mimetype": "text/x-python",
   "name": "python",
   "nbconvert_exporter": "python",
   "pygments_lexer": "ipython3",
   "version": "3.5.4"
  }
 },
 "nbformat": 4,
 "nbformat_minor": 5
}
