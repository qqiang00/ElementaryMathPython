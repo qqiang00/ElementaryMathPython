{
 "cells": [
  {
   "cell_type": "markdown",
   "id": "16709c0e-e89f-42d8-ae8d-24a0139a8ff1",
   "metadata": {},
   "source": [
    "**<span style=\"color:red\">-/100</span>** Marked by Qiang\n",
    "\n",
    "没有按照题目要求完成作业，不做评分。\n",
    "\n",
    "值得表扬的是，根据备备提供的代码，反映出他能够使用基本方法完成基本的图形绘制。今后要注意按照题目要求和格式规范完成作业。"
   ]
  },
  {
   "cell_type": "code",
   "execution_count": 1,
   "id": "56814532",
   "metadata": {},
   "outputs": [],
   "source": [
    "from turtle import setup, reset, bye, pu, pd, bk, fd, left, right, st, ht"
   ]
  },
  {
   "cell_type": "code",
   "execution_count": 2,
   "id": "9aaa3fc5",
   "metadata": {},
   "outputs": [],
   "source": [
    "setup(600, 400, 0, 0)"
   ]
  },
  {
   "cell_type": "code",
   "execution_count": 3,
   "id": "21b137e6",
   "metadata": {},
   "outputs": [],
   "source": [
    "reset()"
   ]
  },
  {
   "cell_type": "code",
   "execution_count": 4,
   "id": "cfd406e0",
   "metadata": {},
   "outputs": [],
   "source": [
    "pu()"
   ]
  },
  {
   "cell_type": "code",
   "execution_count": 5,
   "id": "563508f6",
   "metadata": {},
   "outputs": [],
   "source": [
    "bk(200)"
   ]
  },
  {
   "cell_type": "code",
   "execution_count": 6,
   "id": "d5f473c6",
   "metadata": {},
   "outputs": [],
   "source": [
    "pd()"
   ]
  },
  {
   "cell_type": "code",
   "execution_count": 7,
   "id": "e34cb155",
   "metadata": {},
   "outputs": [],
   "source": [
    "fd(200)"
   ]
  },
  {
   "cell_type": "code",
   "execution_count": 8,
   "id": "7f525377",
   "metadata": {},
   "outputs": [],
   "source": [
    "right(90)"
   ]
  },
  {
   "cell_type": "code",
   "execution_count": 9,
   "id": "4557d8f9",
   "metadata": {},
   "outputs": [],
   "source": [
    "fd(200)"
   ]
  },
  {
   "cell_type": "code",
   "execution_count": 10,
   "id": "38695370",
   "metadata": {},
   "outputs": [],
   "source": [
    "reset()"
   ]
  },
  {
   "cell_type": "code",
   "execution_count": 11,
   "id": "73b54216",
   "metadata": {},
   "outputs": [],
   "source": [
    "reset()"
   ]
  },
  {
   "cell_type": "code",
   "execution_count": 12,
   "id": "e7dbdfe3",
   "metadata": {},
   "outputs": [],
   "source": [
    "setup(500, 400, 0, 0)     \n",
    "reset()                  \n",
    "st()                     \n",
    "pu()                     \n",
    "bk(100)                  \n",
    "left(90)                                   \n",
    "pd()                     \n",
    "fd(200)                  \n",
    "right(90)                \n",
    "fd(200)                  \n",
    "right(90)                \n",
    "fd(200)                  \n",
    "right(90)                \n",
    "fd(200)                  \n",
    "ht()                     "
   ]
  },
  {
   "cell_type": "code",
   "execution_count": 13,
   "id": "9511a800",
   "metadata": {},
   "outputs": [],
   "source": [
    "setup(500, 400, 0, 0)  "
   ]
  },
  {
   "cell_type": "code",
   "execution_count": 14,
   "id": "05987ff8",
   "metadata": {},
   "outputs": [],
   "source": [
    "reset()                  "
   ]
  },
  {
   "cell_type": "code",
   "execution_count": 15,
   "id": "b4357b50",
   "metadata": {},
   "outputs": [],
   "source": [
    "st()"
   ]
  },
  {
   "cell_type": "code",
   "execution_count": 16,
   "id": "229a28e3",
   "metadata": {},
   "outputs": [],
   "source": [
    "pu() "
   ]
  },
  {
   "cell_type": "code",
   "execution_count": 17,
   "id": "6a0f0ac3",
   "metadata": {},
   "outputs": [],
   "source": [
    "bk(100)"
   ]
  },
  {
   "cell_type": "code",
   "execution_count": 18,
   "id": "908fe846",
   "metadata": {},
   "outputs": [],
   "source": [
    "left(90)  "
   ]
  },
  {
   "cell_type": "code",
   "execution_count": 19,
   "id": "e8cccc69",
   "metadata": {},
   "outputs": [],
   "source": [
    "pd()"
   ]
  },
  {
   "cell_type": "code",
   "execution_count": 20,
   "id": "a3208486",
   "metadata": {},
   "outputs": [],
   "source": [
    "fd(200)  "
   ]
  },
  {
   "cell_type": "code",
   "execution_count": 21,
   "id": "a99ddea2",
   "metadata": {},
   "outputs": [],
   "source": [
    "right(90)"
   ]
  },
  {
   "cell_type": "code",
   "execution_count": 22,
   "id": "c0b5aae7",
   "metadata": {},
   "outputs": [],
   "source": [
    "fd(200) "
   ]
  },
  {
   "cell_type": "code",
   "execution_count": 23,
   "id": "d8e7deae",
   "metadata": {},
   "outputs": [],
   "source": [
    "right(90) "
   ]
  },
  {
   "cell_type": "code",
   "execution_count": 24,
   "id": "915c192f",
   "metadata": {},
   "outputs": [],
   "source": [
    "fd(200)"
   ]
  },
  {
   "cell_type": "code",
   "execution_count": 25,
   "id": "97fcf3d8",
   "metadata": {},
   "outputs": [],
   "source": [
    "ht() "
   ]
  },
  {
   "cell_type": "code",
   "execution_count": 26,
   "id": "5b794c3d",
   "metadata": {},
   "outputs": [],
   "source": [
    "st()"
   ]
  },
  {
   "cell_type": "code",
   "execution_count": 27,
   "id": "190dec82",
   "metadata": {},
   "outputs": [],
   "source": [
    "setup(500, 400, 0, 0)     \n",
    "reset()                  \n",
    "st()                     \n",
    "pu()                     \n",
    "bk(100)                  \n",
    "left(90)                                   \n",
    "pd()                     \n",
    "fd(200)                  \n",
    "right(90)                \n",
    "fd(200)                  \n",
    "right(90)                \n",
    "fd(200)                  \n",
    "right(90)                \n",
    "fd(200)                  \n",
    "ht()                     "
   ]
  },
  {
   "cell_type": "code",
   "execution_count": 28,
   "id": "43c3d354",
   "metadata": {},
   "outputs": [],
   "source": [
    "st()"
   ]
  },
  {
   "cell_type": "code",
   "execution_count": 29,
   "id": "d062adbd",
   "metadata": {},
   "outputs": [],
   "source": [
    "reset()"
   ]
  },
  {
   "cell_type": "code",
   "execution_count": 30,
   "id": "b447fec7",
   "metadata": {},
   "outputs": [],
   "source": [
    "pu()"
   ]
  },
  {
   "cell_type": "code",
   "execution_count": 31,
   "id": "8a12de51",
   "metadata": {},
   "outputs": [],
   "source": [
    "setup(500, 400, 0, 0)     \n",
    "reset()                  \n",
    "st()                     \n",
    "pu()                     \n",
    "bk(100)                  \n",
    "left(90)                                   \n",
    "pd()                     \n",
    "fd(200)                  \n",
    "right(90)                \n",
    "fd(200)                  \n",
    "right(90)                \n",
    "fd(200)                  \n",
    "right(90)                \n",
    "fd(200)                  \n",
    "ht()                     "
   ]
  },
  {
   "cell_type": "code",
   "execution_count": 32,
   "id": "39ca0959",
   "metadata": {},
   "outputs": [],
   "source": [
    "pu()"
   ]
  },
  {
   "cell_type": "code",
   "execution_count": 33,
   "id": "cd37aa83",
   "metadata": {},
   "outputs": [],
   "source": [
    "bk(100)"
   ]
  },
  {
   "cell_type": "code",
   "execution_count": 34,
   "id": "83bec8cc",
   "metadata": {},
   "outputs": [],
   "source": [
    "reset()"
   ]
  },
  {
   "cell_type": "code",
   "execution_count": 35,
   "id": "b8f8048f",
   "metadata": {},
   "outputs": [],
   "source": [
    "setup(500, 400, 0, 0)     \n",
    "reset()                  \n",
    "st()                     \n",
    "pu()                     \n",
    "bk(100)                  \n",
    "left(90)                                   \n",
    "pd()                     \n",
    "fd(200)                  \n",
    "right(90)                \n",
    "fd(200)                  \n",
    "right(90)                \n",
    "fd(200)                  \n",
    "right(90)                \n",
    "fd(200)                  \n",
    "                     "
   ]
  },
  {
   "cell_type": "code",
   "execution_count": null,
   "id": "6b66511b",
   "metadata": {},
   "outputs": [],
   "source": []
  }
 ],
 "metadata": {
  "kernelspec": {
   "display_name": "Python 3 (ipykernel)",
   "language": "python",
   "name": "python3"
  },
  "language_info": {
   "codemirror_mode": {
    "name": "ipython",
    "version": 3
   },
   "file_extension": ".py",
   "mimetype": "text/x-python",
   "name": "python",
   "nbconvert_exporter": "python",
   "pygments_lexer": "ipython3",
   "version": "3.9.0"
  }
 },
 "nbformat": 4,
 "nbformat_minor": 5
}
