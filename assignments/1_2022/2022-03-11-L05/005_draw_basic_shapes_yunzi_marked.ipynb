{
 "cells": [
  {
   "cell_type": "markdown",
   "id": "ed665503",
   "metadata": {},
   "source": [
    "## 第05讲 绘制简单图形\n",
    "Lecture05 Draw Simple Shapes"
   ]
  },
  {
   "cell_type": "markdown",
   "id": "b584c8b0",
   "metadata": {},
   "source": [
    "**<span style=\"color:red\">98/100</span>** Marked by Qiang\n",
    "\n",
    "最后一题的这里写错了。`input`会给出一个方框，但不是把方框里的字符打印出来。想想应该是什麽。\n",
    "\n",
    "input: 给一个方框，将在方框里的字符打印出来  -2"
   ]
  },
  {
   "cell_type": "markdown",
   "id": "ec90ff76",
   "metadata": {},
   "source": [
    "### Assignments 作业"
   ]
  },
  {
   "cell_type": "markdown",
   "id": "af5e55c1",
   "metadata": {},
   "source": [
    "1. The follow code block draws a square with side length 200 right in the center of a given drawn area. Please provide correct comments for each code line explaing its role right after the \"#\" character. The first comment is already provided as an example. 下面的一代码块可以在一个给定的绘图区内绘制边长为200的正方形。请你在每一行代码后的“#”字符后书写一行代码注释来解释这行代码的具体作用。作为示例，第一行代码的作用已经给出。\n",
    "\n",
    "   Hint: you can put each of the code line into a seperate cell, execute them in order and cell by cell, and observe the changes in the draw area.\n",
    "   提示：你可以把代码块里的代码一行一行的分开放到单独的单元格中，并且依次执行他们，在绘图区观察每一个单元格执行后的效果。"
   ]
  },
  {
   "cell_type": "code",
   "execution_count": null,
   "id": "4d11647c",
   "metadata": {},
   "outputs": [],
   "source": [
    "# if you restarted this page, before run this code cell,\n",
    "# make sure that you executed the cell where turtle methods are imported in this page\n",
    "# 如果你重启了本页面，在执行本单元格的代码前，\n",
    "# 确保你已经执行了本页面中导入turtle库的诸多方法的那一个单元格\n",
    "\n",
    "setup(500, 400, 0, 0)    # prepare a draw area with size 500*400\n",
    "reset()                  # 注意绘图区内的一个实心三角形的朝向\n",
    "st()                     # 显示乌龟\n",
    "pu()                     # 挑选一只画笔并且保持画笔不接触绘图纸\n",
    "bk(100)                  # 后退100给像素\n",
    "left(90)                 # 在当前方向基础上往左转90度\n",
    "bk(100)                  # 后退100给像素\n",
    "pd()                     # 让笔接触绘图纸准备绘图\n",
    "fd(200)                  # 前进200个像素\n",
    "right(90)                # 在当前方向基础上往右转90度\n",
    "fd(200)                  # 前进200个像素\n",
    "right(90)                # 在当前方向基础上往右转90度\n",
    "fd(200)                  # 前进200个像素\n",
    "right(90)                # 在当前方向基础上往右转90度\n",
    "fd(200)                  # 前进200个像素\n",
    "ht()                     # 隐藏乌龟"
   ]
  },
  {
   "cell_type": "code",
   "execution_count": null,
   "id": "18f0ff4b",
   "metadata": {},
   "outputs": [],
   "source": [
    "bye()                    # you can only close an opened draw area by executing \n",
    "                         # this bye() method. "
   ]
  },
  {
   "cell_type": "markdown",
   "id": "9b404e92",
   "metadata": {},
   "source": [
    "2. 1). Try to write codes to draw all the three squares in a draw area like the following picture demostrates:\n",
    "   试着编写代码绘制如下图所示的绘图区内的三个正方形。\n",
    "   Requirements: 要求：\n",
    "     - a) All the three squares are absolutely located in the middle of the draw area whose size is 600*400; 所有的三个正方形都完全位于尺寸为600×400的绘图区域的中心；\n",
    "     - b) The side lengths of the three squares are: 250, 150, and 50, respectively. 三个正方形的边长依次为250，150，和50。\n",
    "\n",
    "   You can write as many codes as you want to complete this exercise. But just think if there should be and can be a solution which doesn't need that many lines of codes. write your thinking down as code comments at the end of your codes. 为了完成这个作业，你可以根据自己的需要编写任意行数的代码。\n",
    "   \n",
    "   2). 思考下有没有必要、以及有没有可能存在一种解决方案（办法），它并不需要写那么多行的代码，回答下面的问题：\n",
    "      - a). If it is possible to write less codes to complete the same task (drawing the three squares) 是否可能通过更少的代码完成同样的绘制三个正方形的工作  \n",
    "      - b). If the answer for previous question is Yes, where can we improve? 如果上题的答案是肯定的，那么在哪些环节我们的代码可以改进？   \n",
    "      - c). If it is necessary to do so, why? 这样做（用更少的代码完成同样的任务）有没有必要，为什么？\n",
    "   <br>\n",
    "   <img src = \"figures/L005_01_squares.png\" width = 500>"
   ]
  },
  {
   "cell_type": "code",
   "execution_count": 2,
   "id": "9d11ac13",
   "metadata": {},
   "outputs": [],
   "source": [
    "# Start your codes here, you can write as many codes as you want\n",
    "# 从这里开始书写里的代码\n",
    "# and don't forget to hide the turtle pointer in the end.\n",
    "# 最后不要忘了隐藏表示乌龟的小三角形。\n",
    "#\n",
    "from turtle import setup, reset, pu, pd, bye, left, right, fd, bk, ht, st\n",
    "setup(500, 400, 0, 0)\n",
    "reset()\n",
    "st()\n",
    "pu()\n",
    "bk(25)\n",
    "left(90)\n",
    "bk(25)\n",
    "pd()\n",
    "fd(50)\n",
    "right(90)\n",
    "fd(50)\n",
    "right(90)\n",
    "fd(50)\n",
    "right(90)\n",
    "fd(50)\n",
    "left(90)\n",
    "pu()\n",
    "fd(50)\n",
    "left(90)\n",
    "pd()\n",
    "bk(50)\n",
    "fd(150)\n",
    "left(90)\n",
    "fd(150)\n",
    "left(90)\n",
    "fd(150)\n",
    "left(90)\n",
    "fd(150)\n",
    "pu()\n",
    "fd(50)\n",
    "left(90)\n",
    "bk(50)\n",
    "pd()\n",
    "fd(250)\n",
    "left(90)\n",
    "fd(250)\n",
    "left(90)\n",
    "fd(250)\n",
    "left(90)\n",
    "fd(250)\n",
    "ht()"
   ]
  },
  {
   "cell_type": "markdown",
   "id": "0e09a800",
   "metadata": {},
   "source": [
    "Write your thinking here (between 50 - 100 words) # 在这里写下你的思考(50-200字或单词期间)\n",
    "your words should answer the questions listed below: 你的文字应该能回答下列三个问题"
   ]
  },
  {
   "cell_type": "code",
   "execution_count": null,
   "id": "6a03560e",
   "metadata": {},
   "outputs": [],
   "source": [
    "# 1. If it is possible to write less codes to complete the same task (drawing the three squares)\n",
    "#    是否可能通过更少的代码完成同样的绘制三个正方形的工作\n",
    "#    是。\n",
    "#"
   ]
  },
  {
   "cell_type": "code",
   "execution_count": null,
   "id": "33b53ce0",
   "metadata": {},
   "outputs": [],
   "source": [
    "# 2. If the answer for question1 is Yes, where we can improve?\n",
    "#    如果上题的答案是肯定的，那么在哪些环节我们的代码可以改进？\n",
    "#    可以将很多重复的代码省略掉，并且用某个方法代替。\n",
    "#"
   ]
  },
  {
   "cell_type": "code",
   "execution_count": null,
   "id": "b5d3c075",
   "metadata": {},
   "outputs": [],
   "source": [
    "# 3. If it is necessary to do so, why?\n",
    "#    这样做（用更少的代码完成同样的任务）有没有必要，为什么？\n",
    "#    有必要，因为这样做可以高效率完成编写，错了还方便修改。\n",
    "#"
   ]
  },
  {
   "cell_type": "markdown",
   "id": "b4cb6165",
   "metadata": {},
   "source": [
    "3. Use what you learned in this lecture and previous ones to draw whatever a picture(can be the combination of simple shapes) you would like, make a screenshot and send it to your teacher. Leave the codes for your drawing in the below cell. \n",
    "   用你在这节课上和以往的几节课上学到的知识来随心所欲地完成一次绘制（可以是各种简单图形的组合），将结果截图保存发送给你的老师。把生成这个图形的代码留在下面的单元格中。"
   ]
  },
  {
   "cell_type": "code",
   "execution_count": 2,
   "id": "3446b199",
   "metadata": {},
   "outputs": [],
   "source": [
    "# Leave your codes for your drawing here\n",
    "# import turtle\n",
    "from turtle import setup, reset, pu, pd, bye, left, right, fd, bk, ht, st\n",
    "setup(500, 400, 0, 0)\n",
    "reset()\n",
    "st()\n",
    "pu()\n",
    "left(90)\n",
    "fd(115)\n",
    "right(130)\n",
    "bk(15)\n",
    "pd()\n",
    "fd(165)\n",
    "right(70)\n",
    "fd(150)\n",
    "right(70)\n",
    "fd(150)\n",
    "right(70)\n",
    "fd(150)\n",
    "right(70)\n",
    "fd(165)\n",
    "ht()"
   ]
  },
  {
   "cell_type": "markdown",
   "id": "dc61956a",
   "metadata": {},
   "source": [
    "4. Write down all the names and role of methods you saw in the lecture1-4. an example `print` is given below:把你在第1讲至第4讲期间见到过的所有方法的名字和它们的作用写在下面"
   ]
  },
  {
   "cell_type": "code",
   "execution_count": null,
   "id": "32a11bb9",
   "metadata": {},
   "outputs": [],
   "source": [
    "# 1. print: 打印一段字符在屏幕上"
   ]
  },
  {
   "cell_type": "code",
   "execution_count": null,
   "id": "d245ddc3",
   "metadata": {},
   "outputs": [],
   "source": [
    "# 2. input: 给一个方框，将在方框里的字符打印出来"
   ]
  },
  {
   "cell_type": "code",
   "execution_count": null,
   "id": "f9e2c452",
   "metadata": {},
   "outputs": [],
   "source": [
    "# 3. int: 将字符串变成整数"
   ]
  },
  {
   "cell_type": "code",
   "execution_count": null,
   "id": "458ebef6",
   "metadata": {},
   "outputs": [],
   "source": [
    "# 4. randint: 随机生成一个数"
   ]
  },
  {
   "cell_type": "code",
   "execution_count": null,
   "id": "73c32302",
   "metadata": {},
   "outputs": [],
   "source": [
    "# 5. random: 随机生成一个0 ~ 1之间的小数"
   ]
  },
  {
   "cell_type": "code",
   "execution_count": null,
   "id": "42e5fef7",
   "metadata": {},
   "outputs": [],
   "source": [
    "# 6."
   ]
  },
  {
   "cell_type": "code",
   "execution_count": null,
   "id": "a6a640de",
   "metadata": {},
   "outputs": [],
   "source": [
    "# you can add more code cell if necessary 如果必要，你可以添加更多的代码单元格"
   ]
  },
  {
   "cell_type": "code",
   "execution_count": null,
   "id": "de6a572e",
   "metadata": {},
   "outputs": [],
   "source": []
  }
 ],
 "metadata": {
  "kernelspec": {
   "display_name": "Python 3 (ipykernel)",
   "language": "python",
   "name": "python3"
  },
  "language_info": {
   "codemirror_mode": {
    "name": "ipython",
    "version": 3
   },
   "file_extension": ".py",
   "mimetype": "text/x-python",
   "name": "python",
   "nbconvert_exporter": "python",
   "pygments_lexer": "ipython3",
   "version": "3.9.0"
  }
 },
 "nbformat": 4,
 "nbformat_minor": 5
}
