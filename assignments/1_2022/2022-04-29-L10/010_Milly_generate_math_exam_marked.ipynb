{
 "cells": [
  {
   "cell_type": "markdown",
   "id": "relative-location",
   "metadata": {
    "tags": []
   },
   "source": [
    "## 第10讲 设计数学考试试卷"
   ]
  },
  {
   "cell_type": "markdown",
   "id": "a3467164-ebb4-46c6-b156-45a5cc4dddd4",
   "metadata": {},
   "source": [
    "**<span style=\"color:red\">97/100</span>** Marked by Qiang\n",
    "第一题表示list的变量应该使用复数形式；\n",
    "运输物资那一题，第一辆卡车装载的食用油时30桶，不是25桶；\n",
    "最后一题虽然写的有点繁琐，但是结果时正确的。"
   ]
  },
  {
   "cell_type": "markdown",
   "id": "c7cd1f0b-8266-49f3-a77e-806bec2c40ce",
   "metadata": {},
   "source": [
    "The mid term math exam for students in Class 3 Grade 1 is approaching. The math lecturer is ill and he doesn't have time to prepare the calculation questions for the exam. Please help the lecturer generate some calculation questions that can be used in the exam. The detailed requirement follows: \n",
    "\n",
    "某小学一年级3班近期会有一次数学期中考试，可是数学老师生病了，没有时间准备给学生们考试用的数学试卷。请你通过编程来帮助数学老师制作一份数学试卷中将要使用的题目。具体要求如下：\n",
    "1. There are 50 addition questions in the exam 这张试卷只有50加法运算题；\n",
    "2. For each addition, the addends should be equal to to greater than 0 but equal to or smaller than 5; the sum should not exceed 10, for the calcuation whose sum exceeds 10 is too difficult to the students in grade 1; 在加法题目中两个加数都等于或大于0而且也都小于或等于5，他们的和应该不超过10，因为和超过10的加法题对于一年级的小朋友太难了；\n",
    "3. Use `randint` method to generate the addends; 使用`randint`方法来随机生成一道题目中的加数；\n",
    "4. Use `print` method to output one question on each line, align the add(\"+\") and equal(\"=\") signs in lines; 使用`print`方法来输出每一道题目，每一题使用一行，加法运算符需要对齐；\n",
    "5. Avoid generating duplicate questions 避免生成重复的题目。\n",
    "\n",
    "The final generated test paper questions should be similar to the following. In order to save space, only 5 addition questions are listed here. In the test paper you generate, there should be 50 addition, each with 2 points, with a full score of 100 points.\n",
    "最终生成的试卷题目应该类似于下面这样，这里为了节省篇幅，只列出了5道加法题。在你生成的试卷中，应该是50道加法题，每题2分，满分100分。\n",
    "\n",
    "```text\n",
    "\n",
    "一年级3班数学期中考试试卷\n",
    "\n",
    "加法运算（5题，每题2分，共10分）\n",
    " 1.  3 + 2 = ____\n",
    " 2.  1 + 4 = ____\n",
    " 3.  5 + 0 = ____\n",
    " 4. 10 + 0 = ____\n",
    " 5.  0 + 0 = ____\n",
    "```"
   ]
  },
  {
   "cell_type": "markdown",
   "id": "95d568a6-3305-4dec-85f2-b5919a4d9b9c",
   "metadata": {},
   "source": []
  },
  {
   "cell_type": "markdown",
   "id": "digital-consensus",
   "metadata": {
    "heading_collapsed": true
   },
   "source": [
    "### Assignments 作业"
   ]
  },
  {
   "cell_type": "markdown",
   "id": "3ec1e09e-f769-4239-8dcf-d618d530dcdc",
   "metadata": {},
   "source": [
    "1.  Use a `list` variable to represent the places you once visited, the places can be as small as a building like a museum, or they can be as big as a city or even a country.  \n",
    "    用一个列表型变量表示你曾经去过的地方，地方可以小到一个建筑物，例如某某博物馆等，也可以大到一座城市乃至一个国家。Detailed requirement follows: 具体要求如下：\n",
    "    - give the list variable a proper name; there is no elements in this variable initially; 给这个变量起一个合适的名字，一开始这个变量里什么数据（元素）都没有；\n",
    "    - find 5 places you visited in your memory, append the places(represented by a string variable) into the list variable according to the order when the visit happened. The earlier the visit is, the earlier that place will be addpended into the list variable.   根据你的回忆，按照时间先后次序依次将至少5个你曾经去过的地方（用字符串表示）添加到这个列表型变量的最后。列表中先添加的地方应该比后添加的地方更早去过；\n",
    "    - each time after you added a place, print out the whole list variable, and observe the order of the data(elelement) in the list; 每添加一个地方，就打印输出一次整个列表型变量，观察里面的数据（元素）排列顺序；"
   ]
  },
  {
   "cell_type": "code",
   "execution_count": 1,
   "id": "0c3879b3-4a81-48d4-b2c3-854e592c2811",
   "metadata": {},
   "outputs": [
    {
     "name": "stdout",
     "output_type": "stream",
     "text": [
      "The place I have being go is:[]\n"
     ]
    }
   ],
   "source": [
    "place_that_I_go = []\n",
    "print(\"The place I have being go is:{}\".format(place_that_I_go))"
   ]
  },
  {
   "cell_type": "code",
   "execution_count": 2,
   "id": "4c8d4b03-21cd-4f5c-841b-b28ff3775f08",
   "metadata": {},
   "outputs": [
    {
     "name": "stdout",
     "output_type": "stream",
     "text": [
      "The place I have being go is:['成都']\n"
     ]
    }
   ],
   "source": [
    "place_that_I_go.append(\"成都\")\n",
    "print(\"The place I have being go is:{}\".format(place_that_I_go))"
   ]
  },
  {
   "cell_type": "code",
   "execution_count": 3,
   "id": "2cb48269-12ce-4d6b-b440-102a16f6047a",
   "metadata": {},
   "outputs": [
    {
     "name": "stdout",
     "output_type": "stream",
     "text": [
      "The place I have being go is:['成都', '连云港']\n"
     ]
    }
   ],
   "source": [
    "place_that_I_go.append(\"连云港\")\n",
    "print(\"The place I have being go is:{}\".format(place_that_I_go))"
   ]
  },
  {
   "cell_type": "code",
   "execution_count": 4,
   "id": "d3e0d08b-8692-4cb9-a983-31f1e2690e2e",
   "metadata": {},
   "outputs": [
    {
     "name": "stdout",
     "output_type": "stream",
     "text": [
      "The place I have being go is:['成都', '连云港', '威海']\n"
     ]
    }
   ],
   "source": [
    "place_that_I_go.append(\"威海\")\n",
    "print(\"The place I have being go is:{}\".format(place_that_I_go))"
   ]
  },
  {
   "cell_type": "code",
   "execution_count": 5,
   "id": "43511459-4e92-4667-99d7-1dd8fbe1d964",
   "metadata": {},
   "outputs": [
    {
     "name": "stdout",
     "output_type": "stream",
     "text": [
      "The place I have being go is:['成都', '连云港', '威海', '大理']\n"
     ]
    }
   ],
   "source": [
    "place_that_I_go.append(\"大理\")\n",
    "print(\"The place I have being go is:{}\".format(place_that_I_go))"
   ]
  },
  {
   "cell_type": "code",
   "execution_count": 6,
   "id": "50a534e0-d9d6-469b-8b69-bb39e5492450",
   "metadata": {},
   "outputs": [
    {
     "name": "stdout",
     "output_type": "stream",
     "text": [
      "The place I have being go is:['成都', '连云港', '威海', '大理', '贵州']\n"
     ]
    }
   ],
   "source": [
    "place_that_I_go.append(\"贵州\")\n",
    "print(\"The place I have being go is:{}\".format(place_that_I_go))"
   ]
  },
  {
   "cell_type": "markdown",
   "id": "f002a332-d9b4-48b0-bc52-08994abdd0d9",
   "metadata": {},
   "source": [
    "2.  Shanghai is fighting against the pandamic of COVID; many families' food and vegetables are transported by trucks from other provinces to Shanghai and then distributed by volunteers to every household in the community. Assuming that there are 3 trucks loaded with rice, vegetables, edible oil, potatoes. These goods are going to be transported to Shanghai. It is also known that the rice loaded on the three trucks is 20 kg per bag, the vegetables are 30 kg per big bag, the edible oil is 5 kg per barrel, and the potatoes are 50 kg per big bag. In order to avoid overweight for each truck and keep the safety of transportation, you are asked to calculate the total load of each truck and tell whether a truck is over loaded or not. The plate number information of the 3 trucks, the number of goods currently loaded and the maximum allowable load are listed in the table below.\n",
    "\n",
    "    上海正在抗击新冠疫情，许多家庭的粮食、蔬菜都是卡车从外地运送到上海再由志愿者分发给小区内的每一户。假设现在有3辆卡车装载着大米、青菜、食用油、土豆等4类物资正准备从某地运往上海。已知这3辆卡车上装载的大米都是20千克每袋，青菜都是15千克每大袋，食用油都是5千克每桶，土豆是40千克每大袋。为了避免卡车装了过多的物资超重而影响驾驶安全，你需要在车辆出发前根据每一辆卡车装载的物资数量汇总出每一辆车上装载的货物总重量并确定它们是否超载。3辆卡车牌号信息、目前装载的货物数量以及最大允许载重如下表所列。\n",
    "    \n",
    "    \n",
    "    |  车牌号(Plate No.)     |   大米Rice(袋) |   青菜Vegetables(大袋)   |   食用油Edible Oil(桶) |  土豆Potatoes(大袋) |  最大允许载重Max Permitted Mass(千克)  | \n",
    "    | :----------:|----------:|--------------:|-------------:|-------------:|------------------:|\n",
    "    | 苏A E5432   |     25    |    25        |     30       |       25     |          2000        |                         \n",
    "    | 苏A R0662   |     65    |    65         |    60        |      65      |         5000        |                          \n",
    "    | 苏A E4385   |    130    |   130         |   130        |     130      |        10000        |\n",
    "\n",
    "\n",
    "    write a program to calculate the current total load of these three trucks, and whether they are overweight? Your program should eventually output the text description similar to the following. All weight values mentioned in the report should be displayed right-aligned and with a proper mass unit.\n",
    "    \n",
    "    请你编程计算这三辆卡车目前总的载重是多少，分别是否超重了？你的程序最终应该输出类似下面的一份文字说明。报告中涉及到的重量的数字均应右对齐显示并且有恰当的质量单位。\n",
    "     \n",
    "    卡车1 苏A E5432, 实际载重  2000 kg(千克)，最大允许载重  2 吨， 未超载\n",
    "    卡车2 苏A R0662, 实际载重  5200 kg(千克), 最大允许载重  5 吨， 已超载 200 kg(千克)\n",
    "    卡车3 苏A E4385, 实际载重 10400 kg(千克), 最大允许载重 10 吨， 已超载 400 kg(千克)\n",
    "#叶老师您好，我是Milly。在“卡车2 苏A R0662, 实际载重  5200 kg(千克), 最大允许载重  5 吨， 已超载 200 kg(千克)”中，我的反复计算结果是 实际载重5175千克，还有：已超载175kg（千克） 您的示例上写错了。"
   ]
  },
  {
   "cell_type": "code",
   "execution_count": 9,
   "id": "4a868460-c4b0-40fd-99ef-54d0cfdf4628",
   "metadata": {},
   "outputs": [
    {
     "name": "stdout",
     "output_type": "stream",
     "text": [
      "1.苏A E5432，实际载重 2000kg(千克)，允许载重 2000千克，未超载.\n",
      "2.苏A R0662，实际载重 5175kg(千克)，允许载重 5000千克，超载175kg(千克).\n",
      "3.苏A R0662，实际载重10400kg(千克)，允许载重10000千克，超载400kg(千克).\n"
     ]
    }
   ],
   "source": [
    "# track1\n",
    "w_max1 = 2000\n",
    "w_rice1, w_veg1, w_oil1, w_pot1 = 20 * 25, 25 * 15, 5 * 25, 40 * 25\n",
    "w_track1 = w_rice1 + w_veg1 + w_oil1 + w_pot1\n",
    "over_w1 = w_track1 - w_max1\n",
    "if w_track1 <= w_max1:\n",
    "    print(\"1.苏A E5432，实际载重{:>5}kg(千克)，允许载重{:>5}千克，未超载.\".format(w_track1, w_max1))\n",
    "else:\n",
    "    print(\"1.苏A E5432，实际载重{:>5}kg(千克)，允许载重{:>5}千克，超载{:>3}kg(千克).\".format(w_track1, w_max1, over_w1))\n",
    "# track2\n",
    "w_max2 = 5000\n",
    "w_rice2, w_veg2, w_oil2, w_pot2 = 65 * 20, 65 * 15, 60 * 5, 65 * 40\n",
    "w_track2 = w_rice2 + w_veg2 + w_oil2 + w_pot2\n",
    "over_w2 = w_track2 - w_max2\n",
    "if w_track2 <= w_max2:\n",
    "    print(\"2.苏A R0662，实际载重{:>5}kg(千克)，允许载重{:>5}千克，未超载.\".format(w_track2, w_max2))\n",
    "else:\n",
    "    print(\"2.苏A R0662，实际载重{:>5}kg(千克)，允许载重{:>5}千克，超载{:>3}kg(千克).\".format(w_track2, w_max2, over_w2))\n",
    "# track3\n",
    "w_max3 = 10000\n",
    "w_rice3, w_veg3, w_oil3, w_pot3 = 20 * 130, 130 * 15, 5 * 130, 40 * 130\n",
    "w_track3 = w_rice3 + w_veg3 + w_oil3 + w_pot3\n",
    "over_w3 = w_track3 - w_max3\n",
    "if w_track3 <= w_max3:\n",
    "    print(\"3.苏A R0662，实际载重{:>5}kg(千克)，允许载重{:>5}千克，未超载.\".format(w_track3, w_max3))\n",
    "else:\n",
    "    print(\"3.苏A R0662，实际载重{:>5}kg(千克)，允许载重{:>5}千克，超载{:>3}kg(千克).\".format(w_track3, w_max3, over_w3))"
   ]
  },
  {
   "cell_type": "markdown",
   "id": "5200750f-e465-4587-88b4-0d56dd953366",
   "metadata": {
    "hidden": true
   },
   "source": [
    "3.  Lecturer Wang in the Grade. 2 heard that you can design a math exam paper by programming. He is very proud of you and would like to ask you to help design a math exam paper that their class will use. The difference is that the exam papers they are going to use are 30 multiplication problems of two integers whose product is within 100, and 20 division problems that dividends are with 100 and be divided evenly by an divisor. Please help Lecturer Wang design such an exam. Pay attention to alignment and avoid duplication of questions. \n",
    "\n",
    "    二年级的王老师听说你能通过编程设计数学试卷，他为你感到高兴，同时也想请你帮忙设计一份他们班将要使用的数学考试卷。不同的是，他们要设计的试卷是30道乘积在100以内的两个整数相乘的运算题，以及20道被除数在100以内的能够整除的除法运算题。请你帮王老师设计一份这样试卷，同样需要注意对齐和避免题目重复。"
   ]
  },
  {
   "cell_type": "code",
   "execution_count": 6,
   "id": "1d199b4b-3388-4a4d-8652-6eafd9dc84c6",
   "metadata": {},
   "outputs": [
    {
     "name": "stdout",
     "output_type": "stream",
     "text": [
      "二年级数学-考试试卷\n",
      "Math Exam for Grade 2.\n",
      "\n",
      "Addition(   /100 points)\n",
      "\n",
      "一.乘法运算（共有30题，每题两分，合计：60分。）\n",
      " 1.  6 * 10 = _____\n",
      " 2. 44 *  1 = _____\n",
      " 3.  8 *  1 = _____\n",
      " 4. 13 *  1 = _____\n",
      " 5.  0 * 13 = _____\n",
      " 6. 42 *  0 = _____\n",
      " 7. 27 *  0 = _____\n",
      " 8. 21 *  2 = _____\n",
      " 9.  2 *  1 = _____\n",
      "10. 99 *  1 = _____\n",
      "11. 15 *  6 = _____\n",
      "12. 93 *  0 = _____\n",
      "13.  5 * 10 = _____\n",
      "14. 23 *  2 = _____\n",
      "15. 44 *  2 = _____\n",
      "16.  8 *  3 = _____\n",
      "17. 15 *  1 = _____\n",
      "18.  1 * 98 = _____\n",
      "19.  1 * 44 = _____\n",
      "20.  4 * 12 = _____\n",
      "21.  9 *  0 = _____\n",
      "22.  1 * 34 = _____\n",
      "23.  0 * 62 = _____\n",
      "24. 30 *  1 = _____\n",
      "25. 31 *  2 = _____\n",
      "26.  2 *  6 = _____\n",
      "27. 38 *  1 = _____\n",
      "28.  0 * 39 = _____\n",
      "29. 64 *  0 = _____\n",
      "30.  4 * 24 = _____\n",
      "二.除法运算（共有20题，每题两分，合计：40分）\n",
      " 1. 80 / 80 = _____\n",
      " 2. 84 /  7 = _____\n",
      " 3. 62 /  1 = _____\n",
      " 4. 25 /  1 = _____\n",
      " 5.  8 /  2 = _____\n",
      " 6. 98 /  1 = _____\n",
      " 7. 30 /  5 = _____\n",
      " 8. 90 / 15 = _____\n",
      " 9. 28 /  2 = _____\n",
      "10.  0 / 63 = _____\n",
      "11. 66 / 66 = _____\n",
      "12. 24 / 12 = _____\n",
      "13. 84 / 21 = _____\n",
      "14. 30 /  3 = _____\n",
      "15. 79 /  1 = _____\n",
      "16. 14 /  2 = _____\n",
      "17. 66 / 22 = _____\n",
      "18. 20 /  2 = _____\n",
      "19. 20 / 20 = _____\n",
      "20. 16 /  1 = _____\n"
     ]
    }
   ],
   "source": [
    "from random import randint\n",
    "min_pro_end, max_pro_end = 0, 100\n",
    "print(\"二年级数学-考试试卷\")\n",
    "print(\"Math Exam for Grade 2.\")\n",
    "print()\n",
    "print(\"Addition(   /100 points)\")\n",
    "print()\n",
    "print(\"一.乘法运算（共有30题，每题两分，合计：60分。）\")\n",
    "test = []\n",
    "n1_generated = 0\n",
    "n_pro = 30\n",
    "while n1_generated < n_pro:\n",
    "    num1 = randint(min_pro_end, max_pro_end)\n",
    "    num2 = randint(min_pro_end, max_pro_end)\n",
    "    product = \"{:>2} * {:>2} = _____\".format(num1, num2)\n",
    "    if num1 * num2 <= 100: \n",
    "        if product not in test:\n",
    "            n1_generated = n1_generated + 1\n",
    "            test.append(product)\n",
    "            print(\"{:>2}. {:<10}\".format(n1_generated, product))       \n",
    "    else:\n",
    "        pass\n",
    "\n",
    "print(\"二.除法运算（共有20题，每题两分，合计：40分）\")\n",
    "n_div = 20\n",
    "n2_generated = 0\n",
    "min_div_end, max_div_end = 1, 100\n",
    "while n2_generated < n_div:\n",
    "    num3 = randint(min_pro_end, max_pro_end)\n",
    "    num4 = randint(min_pro_end, max_pro_end)\n",
    "    if num4 == 0:\n",
    "        pass\n",
    "    else:\n",
    "        division = \"{:>2} / {:>2} = _____\".format(num3 * num4, num4)\n",
    "        if num3 * num4 <= 100: \n",
    "            if division not in test:\n",
    "                n2_generated = n2_generated + 1\n",
    "                test.append(division)\n",
    "                print(\"{:>2}. {:<12}\".format(n2_generated, division))\n",
    "                \n",
    "        else:\n",
    "            pass"
   ]
  },
  {
   "cell_type": "markdown",
   "id": "f70c2469-b87c-48b1-89cc-d28c9da070b0",
   "metadata": {},
   "source": [
    "4. The integers 4, 8, 12, ... etc. can be called the product of 4 multiplied by another integer. For example, 4 can be regarded as the product of 4 and 1, 8 can be regarded as the product of 4 and 2, 12 can be regarded as the product of 4 and 3, and so on. We also call integers 4, 8, 12, ... etc. the multiples of 4, and 4 is a factor of these numbers. \n",
    "\n",
    "    整数4, 8, 12, ... 等都可以堪称是4和另一个整数相乘得到的积。例如4可以看成是4与1相乘的积，8可以看成是4与2相乘的积，12可以看成是4与3相乘的积，等等。同时我们也称4, 8, 12, ...等整数是4的倍数，4是这些数的一个因数。\n",
    "\n",
    "   Use **what you have learned so far**, write a program to：使用**你所学过的知识**，编写程序完成：\n",
    "   \n",
    "    - find all integers between 1 and 101 that are multiples of 4 and put them into a list variable in ascend order. 找到从1到101以内所有是4的倍数的整数，把他们都放到一个列表型变量里。\n",
    "    - Calculate the sum of all these multiples. 计算所有这些4的倍数加起来的和。"
   ]
  },
  {
   "cell_type": "code",
   "execution_count": 16,
   "id": "db0d48f5-4b80-4f6d-aa78-56f07c8e73a6",
   "metadata": {},
   "outputs": [
    {
     "name": "stdout",
     "output_type": "stream",
     "text": [
      " 1.4的倍数-4的 2倍：  8\n",
      " 2.4的倍数-4的23倍： 92\n",
      " 3.4的倍数-4的 5倍： 20\n",
      " 4.4的倍数-4的22倍： 88\n",
      " 5.4的倍数-4的10倍： 40\n",
      " 6.4的倍数-4的 8倍： 32\n",
      " 7.4的倍数-4的18倍： 72\n",
      " 8.4的倍数-4的15倍： 60\n",
      " 9.4的倍数-4的 1倍：  4\n",
      "10.4的倍数-4的 9倍： 36\n",
      "11.4的倍数-4的17倍： 68\n",
      "12.4的倍数-4的21倍： 84\n",
      "13.4的倍数-4的11倍： 44\n",
      "14.4的倍数-4的12倍： 48\n",
      "15.4的倍数-4的 3倍： 12\n",
      "16.4的倍数-4的 7倍： 28\n",
      "17.4的倍数-4的20倍： 80\n",
      "18.4的倍数-4的16倍： 64\n",
      "19.4的倍数-4的25倍：100\n",
      "20.4的倍数-4的14倍： 56\n",
      "21.4的倍数-4的19倍： 76\n",
      "22.4的倍数-4的 6倍： 24\n",
      "23.4的倍数-4的13倍： 52\n",
      "24.4的倍数-4的 4倍： 16\n",
      "25.4的倍数-4的24倍： 96\n",
      "\n",
      "它们的和是1300。\n"
     ]
    }
   ],
   "source": [
    "from random import randint\n",
    "min_num, max_num = 1, 25                   #因最小：4，倍数是1，最大：100，倍数，25，所以开头结尾是1，25.\n",
    "num = []                                   #这个变量放4的倍数\n",
    "i = []                                     #这个变量则是放已经用过的数（4 *（这个数））\n",
    "n_generated = 0\n",
    "num2 = 25\n",
    "summary = 0\n",
    "while n_generated < num2:\n",
    "    none = randint(min_num, max_num)                  #我想不出什么好名字了……\n",
    "    if none in i:\n",
    "        pass\n",
    "    else:\n",
    "        n_generated = n_generated + 1\n",
    "        i.append(none)\n",
    "        none2 = none * 4\n",
    "        num.append(none2)\n",
    "        summary = summary + none2\n",
    "        print(\"{:>2}.4的倍数-4的{:>2}倍：{:>3}\".format(n_generated, none, none2))\n",
    "\n",
    "print()\n",
    "print(\"它们的和是{}。\".format(summary))"
   ]
  },
  {
   "cell_type": "code",
   "execution_count": null,
   "id": "a910ba92-81e0-4a06-bb9e-ce1247f60be5",
   "metadata": {},
   "outputs": [],
   "source": []
  }
 ],
 "metadata": {
  "kernelspec": {
   "display_name": "Python 3 (ipykernel)",
   "language": "python",
   "name": "python3"
  },
  "language_info": {
   "codemirror_mode": {
    "name": "ipython",
    "version": 3
   },
   "file_extension": ".py",
   "mimetype": "text/x-python",
   "name": "python",
   "nbconvert_exporter": "python",
   "pygments_lexer": "ipython3",
   "version": "3.9.0"
  }
 },
 "nbformat": 4,
 "nbformat_minor": 5
}
