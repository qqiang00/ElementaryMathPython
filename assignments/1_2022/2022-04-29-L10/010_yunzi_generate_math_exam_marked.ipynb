{
 "cells": [
  {
   "cell_type": "markdown",
   "id": "c0f4d54d",
   "metadata": {},
   "source": [
    "## 第10讲 设计数学考试试卷"
   ]
  },
  {
   "cell_type": "markdown",
   "id": "1dab6c21-60f8-4e21-9cec-4f1f32370b7a",
   "metadata": {},
   "source": [
    "**<span style=\"color:red\">94/100</span>** Marked by Qiang\n",
    "1. -1 第1题表示去过的地方的列表变量名没有使用复数形式\n",
    "2. -5 第3题生成的题目有重复，不完全符合要求"
   ]
  },
  {
   "cell_type": "markdown",
   "id": "ba24693d",
   "metadata": {},
   "source": [
    "The mid term math exam for students in Class 3 Grade 1 is approaching. The math lecturer is ill and he doesn't have time to prepare the calculation questions for the exam. Please help the lecturer generate some calculation questions that can be used in the exam. The detailed requirement follows: \n",
    "\n",
    "某小学一年级3班近期会有一次数学期中考试，可是数学老师生病了，没有时间准备给学生们考试用的数学试卷。请你通过编程来帮助数学老师制作一份数学试卷中将要使用的题目。具体要求如下：\n",
    "1. There are 50 addition questions in the exam 这张试卷只有50加法运算题；\n",
    "2. For each addition, the addends should be equal to to greater than 0 but equal to or smaller than 5; the sum should not exceed 10, for the calcuation whose sum exceeds 10 is too difficult to the students in grade 1; 在加法题目中两个加数都等于或大于0而且也都小于或等于5，他们的和应该不超过10，因为和超过10的加法题对于一年级的小朋友太难了；\n",
    "3. Use `randint` method to generate the addends; 使用`randint`方法来随机生成一道题目中的加数；\n",
    "4. Use `print` method to output one question on each line, align the add(\"+\") and equal(\"=\") signs in lines; 使用`print`方法来输出每一道题目，每一题使用一行，加法运算符需要对齐；\n",
    "5. Avoid generating duplicate questions 避免生成重复的题目。\n",
    "\n",
    "The final generated test paper questions should be similar to the following. In order to save space, only 5 addition questions are listed here. In the test paper you generate, there should be 50 addition, each with 2 points, with a full score of 100 points.\n",
    "最终生成的试卷题目应该类似于下面这样，这里为了节省篇幅，只列出了5道加法题。在你生成的试卷中，应该是50道加法题，每题2分，满分100分。\n",
    "\n",
    "```text\n",
    "\n",
    "一年级3班数学期中考试试卷\n",
    "\n",
    "加法运算（5题，每题2分，共10分）\n",
    " 1.  3 + 2 = ____\n",
    " 2.  1 + 4 = ____\n",
    " 3.  5 + 0 = ____\n",
    " 4. 10 + 0 = ____\n",
    " 5.  0 + 0 = ____\n",
    "```"
   ]
  },
  {
   "cell_type": "markdown",
   "id": "607cacab",
   "metadata": {},
   "source": []
  },
  {
   "cell_type": "markdown",
   "id": "caf053ce",
   "metadata": {
    "heading_collapsed": true
   },
   "source": [
    "### Assignments 作业"
   ]
  },
  {
   "cell_type": "markdown",
   "id": "ef924720",
   "metadata": {},
   "source": [
    "1.  Use a `list` variable to represent the places you once visited, the places can be as small as a building like a museum, or they can be as big as a city or even a country.  \n",
    "    用一个列表型变量表示你曾经去过的地方，地方可以小到一个建筑物，例如某某博物馆等，也可以大到一座城市乃至一个国家。Detailed requirement follows: 具体要求如下：\n",
    "    - give the list variable a proper name; there is no elements in this variable initially; 给这个变量起一个合适的名字，一开始这个变量里什么数据（元素）都没有；\n",
    "    - find 5 places you visited in your memory, append the places(represented by a string variable) into the list variable according to the order when the visit happened. The earlier the visit is, the earlier that place will be addpended into the list variable.   根据你的回忆，按照时间先后次序依次将至少5个你曾经去过的地方（用字符串表示）添加到这个列表型变量的最后。列表中先添加的地方应该比后添加的地方更早去过；\n",
    "    - each time after you added a place, print out the whole list variable, and observe the order of the data(elelement) in the list; 每添加一个地方，就打印输出一次整个列表型变量，观察里面的数据（元素）排列顺序；"
   ]
  },
  {
   "cell_type": "code",
   "execution_count": 1,
   "id": "7e17e420",
   "metadata": {},
   "outputs": [
    {
     "name": "stdout",
     "output_type": "stream",
     "text": [
      "['Hangzhou']\n",
      "['Hangzhou', 'Suzhou']\n",
      "['Hangzhou', 'Suzhou', 'Qingdao']\n",
      "['Hangzhou', 'Suzhou', 'Qingdao', 'Nanjing']\n",
      "['Hangzhou', 'Suzhou', 'Qingdao', 'Nanjing', 'Xiamen']\n"
     ]
    }
   ],
   "source": [
    "city = []                           # -5 List 的变量名没有使用复数形式\n",
    "city.append(\"Hangzhou\")\n",
    "print(city)\n",
    "city.append(\"Suzhou\")\n",
    "print(city)\n",
    "city.append(\"Qingdao\")\n",
    "print(city)\n",
    "city.append(\"Nanjing\")\n",
    "print(city)\n",
    "city.append(\"Xiamen\")\n",
    "print(city)"
   ]
  },
  {
   "cell_type": "markdown",
   "id": "6a7634f4",
   "metadata": {},
   "source": [
    "2.  Shanghai is fighting against the pandamic of COVID; many families' food and vegetables are transported by trucks from other provinces to Shanghai and then distributed by volunteers to every household in the community. Assuming that there are 3 trucks loaded with rice, vegetables, edible oil, potatoes. These goods are going to be transported to Shanghai. It is also known that the rice loaded on the three trucks is 20 kg per bag, the vegetables are 30 kg per big bag, the edible oil is 5 kg per barrel, and the potatoes are 50 kg per big bag. In order to avoid overweight for each truck and keep the safety of transportation, you are asked to calculate the total load of each truck and tell whether a truck is over loaded or not. The plate number information of the 3 trucks, the number of goods currently loaded and the maximum allowable load are listed in the table below.\n",
    "\n",
    "    上海正在抗击新冠疫情，许多家庭的粮食、蔬菜都是卡车从外地运送到上海再由志愿者分发给小区内的每一户。假设现在有3辆卡车装载着大米、青菜、食用油、土豆等4类物资正准备从某地运往上海。已知这3辆卡车上装载的大米都是20千克每袋，青菜都是15千克每大袋，食用油都是5千克每桶，土豆是40千克每大袋。为了避免卡车装了过多的物资超重而影响驾驶安全，你需要在车辆出发前根据每一辆卡车装载的物资数量汇总出每一辆车上装载的货物总重量并确定它们是否超载。3辆卡车牌号信息、目前装载的货物数量以及最大允许载重如下表所列。\n",
    "    \n",
    "    \n",
    "    |  车牌号(Plate No.)     |   大米Rice(袋) |   青菜Vegetables(大袋)   |   食用油Edible Oil(桶) |  土豆Potatoes(大袋) |  最大允许载重Max Permitted Mass(千克)  | \n",
    "    | :----------:|----------:|--------------:|-------------:|-------------:|------------------:|\n",
    "    | 苏A E5432   |     25    |    25        |     30       |       25     |          2000        |                         \n",
    "    | 苏A R0662   |     65    |    65         |    60        |      65      |         5000        |                          \n",
    "    | 苏A E4385   |    130    |   130         |   130        |     130      |        10000        |\n",
    "\n",
    "\n",
    "    write a program to calculate the current total load of these three trucks, and whether they are overweight? Your program should eventually output the text description similar to the following. All weight values mentioned in the report should be displayed right-aligned and with a proper mass unit.\n",
    "    \n",
    "    请你编程计算这三辆卡车目前总的载重是多少，分别是否超重了？你的程序最终应该输出类似下面的一份文字说明。报告中涉及到的重量的数字均应右对齐显示并且有恰当的质量单位。\n",
    "     \n",
    "    卡车1 苏A E5432, 实际载重  2000 kg(千克)，最大允许载重  2 吨， 未超载\n",
    "    卡车2 苏A R0662, 实际载重  5200 kg(千克), 最大允许载重  5 吨， 已超载 200 kg(千克)\n",
    "    卡车3 苏A E4385, 实际载重 10400 kg(千克), 最大允许载重 10 吨， 已超载 400 kg(千克)\n",
    " "
   ]
  },
  {
   "cell_type": "code",
   "execution_count": 2,
   "id": "eb59de6f",
   "metadata": {},
   "outputs": [
    {
     "name": "stdout",
     "output_type": "stream",
     "text": [
      "卡车1：苏A·E5432, 实际载重 2025kg, 最大允许载重 2吨, 已超载 25 kg\n",
      "卡车2：苏A·R0662, 实际载重 5175kg, 最大允许载重 5吨, 已超载 175 kg\n",
      "卡车3：苏A·E5432, 实际载重10400kg, 最大允许载重10吨, 已超载 400 kg\n"
     ]
    }
   ],
   "source": [
    "num1 = 2\n",
    "num2 = 5\n",
    "num3 = 10\n",
    "rice = 20\n",
    "vegetables = 15\n",
    "edible_oil = 5\n",
    "potatoes = 40\n",
    "The_truck_1 = 25 * rice + 25 * vegetables + 30 * edible_oil + 25 * potatoes\n",
    "The_truck_2 = 65 * rice + 65 * vegetables + 60 * edible_oil + 65 * potatoes\n",
    "The_truck_3 = 130 * rice + 130 * vegetables + 130 * edible_oil + 130 * potatoes\n",
    "if The_truck_1 <= 2000: #2000千克等于两吨\n",
    "    print(\"卡车1：苏A·E5432, 实际载重{:>5}kg, 最大允许载重{:>2}吨, 未超载\".format(The_truck_1, num1))\n",
    "else:\n",
    "    print(\"卡车1：苏A·E5432, 实际载重{:>5}kg, 最大允许载重{:>2}吨, 已超载 {} kg\".format(The_truck_1, num1, The_truck_1 - 2000))\n",
    "if The_truck_2 <= 5000:\n",
    "    print(\"卡车2：苏A·R0662, 实际载重{:>5}kg, 最大允许载重{:>2}吨, 未超载\".format(The_truck_2, num2))\n",
    "else:\n",
    "    print(\"卡车2：苏A·R0662, 实际载重{:>5}kg, 最大允许载重{:>2}吨, 已超载 {} kg\".format(The_truck_2, num2, The_truck_2 - 5000))\n",
    "if The_truck_3 <= 10000:\n",
    "    print(\"卡车3：苏A·E5432, 实际载重{:>5}kg, 最大允许载重{:>2}吨, 未超载\".format(The_truck_3, num3))\n",
    "else:\n",
    "    print(\"卡车3：苏A·E5432, 实际载重{:>5}kg, 最大允许载重{:>2}吨, 已超载 {} kg\".format(The_truck_3, num3, The_truck_3 - 10000))"
   ]
  },
  {
   "cell_type": "markdown",
   "id": "b259d6ac",
   "metadata": {
    "hidden": true
   },
   "source": [
    "3.  Lecturer Wang in the Grade. 2 heard that you can design a math exam paper by programming. He is very proud of you and would like to ask you to help design a math exam paper that their class will use. The difference is that the exam papers they are going to use are 30 multiplication problems of two integers whose product is within 100, and 20 division problems that dividends are with 100 and be divided evenly by an divisor. Please help Lecturer Wang design such an exam. Pay attention to alignment and avoid duplication of questions. \n",
    "\n",
    "    二年级的王老师听说你能通过编程设计数学试卷，他为你感到高兴，同时也想请你帮忙设计一份他们班将要使用的数学考试卷。不同的是，他们要设计的试卷是30道乘积在100以内的两个整数相乘的运算题，以及20道被除数在100以内的能够整除的除法运算题。请你帮王老师设计一份这样试卷，同样需要注意对齐和避免题目重复。"
   ]
  },
  {
   "cell_type": "code",
   "execution_count": 1,
   "id": "69669522",
   "metadata": {},
   "outputs": [
    {
     "name": "stdout",
     "output_type": "stream",
     "text": [
      "2年级X班数学期中考试试卷\n",
      "Mid Term Math Exam for Grade 3. Class 1.\n",
      "乘除法运算（50题，每题2分，共100分）\n",
      "Addition(   /100 points)\n",
      " 1.  6 × 2  = _____\n",
      " 2.  7 × 2  = _____\n",
      " 3.  9 × 5  = _____\n",
      " 4.  0 × 8  = _____\n",
      " 5.  1 × 10 = _____\n",
      " 6.  2 × 0  = _____\n",
      " 7.  0 × 8  = _____\n",
      " 8.  6 × 4  = _____\n",
      " 9.  1 × 1  = _____\n",
      "10.  3 × 6  = _____\n",
      "11.  3 × 1  = _____\n",
      "12.  0 × 4  = _____\n",
      "13.  5 × 6  = _____\n",
      "14. 10 × 10 = _____\n",
      "15.  1 × 9  = _____\n",
      "16.  6 × 4  = _____\n",
      "17.  9 × 7  = _____\n",
      "18.  8 × 2  = _____\n",
      "19. 10 × 0  = _____\n",
      "20.  4 × 2  = _____\n",
      "21.  3 × 1  = _____\n",
      "22.  6 × 8  = _____\n",
      "23. 10 × 6  = _____\n",
      "24.  4 × 1  = _____\n",
      "25.  1 × 8  = _____\n",
      "26.  1 × 10 = _____\n",
      "27.  3 × 0  = _____\n",
      "28.  0 × 3  = _____\n",
      "29.  0 × 4  = _____\n",
      "30.  1 × 2  = _____\n",
      "31.  6 ÷ 1  = _____\n",
      "32.  4 ÷ 1  = _____\n",
      "33.  3 ÷ 1  = _____\n",
      "34. 10 ÷ 2  = _____\n",
      "35.  3 ÷ 1  = _____\n",
      "36.  2 ÷ 1  = _____\n",
      "37. 10 ÷ 2  = _____\n",
      "38.  8 ÷ 1  = _____\n",
      "39.  5 ÷ 1  = _____\n",
      "40.  3 ÷ 1  = _____\n",
      "41. 10 ÷ 1  = _____\n",
      "42.  6 ÷ 2  = _____\n",
      "43. 10 ÷ 5  = _____\n",
      "44.  6 ÷ 2  = _____\n",
      "45.  2 ÷ 1  = _____\n",
      "46.  5 ÷ 1  = _____\n",
      "47.  6 ÷ 3  = _____\n",
      "48.  4 ÷ 2  = _____\n",
      "49.  5 ÷ 1  = _____\n",
      "50. 10 ÷ 2  = _____\n"
     ]
    }
   ],
   "source": [
    "from random import randint\n",
    "n_add = 30\n",
    "min_addend, max_addend = 0, 10\n",
    "min_addend2, max_addend2 = 50, 100\n",
    "min_addend3, max_addend3 = 1, 50\n",
    "print(\"2年级X班数学期中考试试卷\")\n",
    "print(\"Mid Term Math Exam for Grade 3. Class 1.\")\n",
    "print(\"乘除法运算（50题，每题2分，共100分）\")\n",
    "print(\"Addition(   /100 points)\")\n",
    "add_quests = []\n",
    "n_generated = 0\n",
    "i_generated = 0\n",
    "i = 1\n",
    "while n_generated < n_add:\n",
    "    int1 = randint(min_addend, max_addend) \n",
    "    int2 = randint(min_addend, max_addend)    \n",
    "    question = \"{:>2} × {:<2} = _____\".format(int1, int2)\n",
    "    print(\"{:>2}.\".format(i), question)\n",
    "    add_quests.append(question)\n",
    "    i += 1\n",
    "    n_generated += 1\n",
    "while n_generated < n_add + 20:\n",
    "    int1 = randint(min_addend, max_addend) \n",
    "    int2 = randint(min_addend, max_addend)\n",
    "    if int1 <= int2 or int1 == 0 or int2 == 0:\n",
    "        pass\n",
    "    else:\n",
    "        int3 = int1 % int2\n",
    "        if int3 > 0:\n",
    "            pass\n",
    "        else:\n",
    "            question = \"{:>2} ÷ {:<2} = _____\".format(int1, int2)\n",
    "            print(\"{:>2}.\".format(i), question)\n",
    "            add_quests.append(question)\n",
    "            i += 1\n",
    "            n_generated += 1"
   ]
  },
  {
   "cell_type": "markdown",
   "id": "760cb401",
   "metadata": {},
   "source": [
    "4. The integers 4, 8, 12, ... etc. can be called the product of 4 multiplied by another integer. For example, 4 can be regarded as the product of 4 and 1, 8 can be regarded as the product of 4 and 2, 12 can be regarded as the product of 4 and 3, and so on. We also call integers 4, 8, 12, ... etc. the multiples of 4, and 4 is a factor of these numbers. \n",
    "\n",
    "    整数4, 8, 12, ... 等都可以堪称是4和另一个整数相乘得到的积。例如4可以看成是4与1相乘的积，8可以看成是4与2相乘的积，12可以看成是4与3相乘的积，等等。同时我们也称4, 8, 12, ...等整数是4的倍数，4是这些数的一个因数。\n",
    "\n",
    "   Use **what you have learned so far**, write a program to：使用**你所学过的知识**，编写程序完成：\n",
    "   \n",
    "    - find all integers between 1 and 101 that are multiples of 4 and put them into a list variable in ascend order. 找到从1到101以内所有是4的倍数的整数，把他们放到一个列表型变量里。\n",
    "    - Calculate the sum of all these multiples. 计算所有这些4的倍数加起来的和。"
   ]
  },
  {
   "cell_type": "code",
   "execution_count": 7,
   "id": "60a28e93",
   "metadata": {},
   "outputs": [
    {
     "name": "stdout",
     "output_type": "stream",
     "text": [
      "[4, 8, 12, 16, 20, 24, 28, 32, 36, 40, 44, 48, 52, 56, 60, 64, 68, 72, 76, 80, 84, 88, 92, 96, 100]\n",
      "和为 1300\n"
     ]
    }
   ],
   "source": [
    "num = 4\n",
    "num_max = 101\n",
    "list_ = []\n",
    "while num <= num_max:\n",
    "    list_.append(num)\n",
    "    num += 4\n",
    "print(list_)\n",
    "print(\"和为\", sum(list_))"
   ]
  },
  {
   "cell_type": "code",
   "execution_count": null,
   "id": "32b4a4c3",
   "metadata": {},
   "outputs": [],
   "source": []
  }
 ],
 "metadata": {
  "kernelspec": {
   "display_name": "Python 3 (ipykernel)",
   "language": "python",
   "name": "python3"
  },
  "language_info": {
   "codemirror_mode": {
    "name": "ipython",
    "version": 3
   },
   "file_extension": ".py",
   "mimetype": "text/x-python",
   "name": "python",
   "nbconvert_exporter": "python",
   "pygments_lexer": "ipython3",
   "version": "3.9.0"
  }
 },
 "nbformat": 4,
 "nbformat_minor": 5
}
