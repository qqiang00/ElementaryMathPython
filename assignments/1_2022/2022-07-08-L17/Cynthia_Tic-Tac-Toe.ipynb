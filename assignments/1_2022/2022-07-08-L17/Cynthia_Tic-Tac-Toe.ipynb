{
 "cells": [
  {
   "cell_type": "code",
   "execution_count": null,
   "id": "1a54db65-739f-41a4-897e-71fce8f08b48",
   "metadata": {},
   "outputs": [],
   "source": [
    "#@所有人 这周末没有新的课程。为了准备下次的Tic Tac Toe游戏编程，请各位同学在下周利用一周时间思考下面的几个问题，并将自己的思考写成书面的文字，下次上课前相互交流。问题有：\n",
    "#1. Tic Tac Toe游戏的游戏规则（单人还是双人？ 游戏开始时的状态，棋盘的特点，落子的规则，某一万家胜利的条件，有没有可能平局？平局的条件，等）\n",
    "#2. 如果要你向某一个人完整地详细地描述一次游戏从开始到结束整个过程中的所有信息，你觉得需要描述哪些？如何描述准确的描述整个过程？试着与你身边的人玩一次这个游戏，并把整个过程用精简准确的文字描述出来。\n",
    "#3. 如果从编程的角度考虑，用变量来记录上述信息，你会声明（创建）哪些变量？这些变量分别描述什么信息（保存哪些数据）\n",
    "#4. 在一次游戏的过程中哪些过程（步骤）可能是会循环多次发生？"
   ]
  },
  {
   "cell_type": "code",
   "execution_count": null,
   "id": "376c4a39-bbf6-4e57-b1b7-1ca128756747",
   "metadata": {},
   "outputs": [],
   "source": [
    "#1. Rules of Tic Tac Toe\n",
    "# - Two players, game board, pencil or pieces\n",
    "# - The game is traditionally played on an empty 3 x 3 grid\n",
    "# - Each player is a specific symbol (traditionally X and O)\n",
    "# - The players alternate turns placing/writing a symbol on an empty space of their choice\n",
    "# - The first player to get (traditionally) three of their symbols in a row, column or diagonally wins\n",
    "# - A player can win without a 100% completed board\n",
    "# - The game ends when all nine spaces on the board are filled\n",
    "# - If the game ends yet no one has three spaces in a row, column or diagonally, the game ends in a draw"
   ]
  },
  {
   "cell_type": "code",
   "execution_count": null,
   "id": "04c12b41-f3d8-4d80-af53-e7e3a4bac625",
   "metadata": {},
   "outputs": [],
   "source": [
    "#2. Discription of Tic Tac Toe\n",
    "# Two players alternate placing their respective symbol on the 3 x 3 grid.\n",
    "# When someone's symbol is present three times in a row, column, or diagonally, the person wins.\n",
    "# When all spaces are filled, the game ends. If no one has won, the game ends in a draw."
   ]
  },
  {
   "cell_type": "code",
   "execution_count": null,
   "id": "703dfe77-4aa8-46ad-9d6b-653df4600d15",
   "metadata": {},
   "outputs": [],
   "source": [
    "#3. Variables\n",
    "# One for every space\n",
    "#  1 |2 |3         space1, space2, space3\n",
    "#  __|__|__    \n",
    "#  4 |5 |6         space4, space5, space6\n",
    "#  __|__|__\n",
    "#  7 |8 |9         space7, space8, space9\n",
    "#    |  |\n",
    "\n",
    "# winner, loser\n",
    "# X and O = player1, player2\n",
    "# i and n_of_spaces (amount of spaces occupied)\n",
    "# cur_turn (current_turn)"
   ]
  },
  {
   "cell_type": "code",
   "execution_count": null,
   "id": "8557b7f1-5517-40d4-b2b3-ca9b0660eb89",
   "metadata": {},
   "outputs": [],
   "source": [
    "#4. Which parts are repeated, so could be placed in a while loop?\n",
    "# - Each player's turn (choosing a space)\n",
    "# - Adding info += 1 or -= 1"
   ]
  },
  {
   "cell_type": "code",
   "execution_count": 2,
   "id": "5b3c1fa4-83f6-4361-9eba-80a14a7a763d",
   "metadata": {},
   "outputs": [
    {
     "name": "stdout",
     "output_type": "stream",
     "text": [
      "Tic Tac Toe Game Starts!\n",
      "This is the board.\n",
      " - - - \n",
      " - - - \n",
      " - - - \n",
      "When you place your piece somewhere, please use the following to determine the location:\n",
      " 0 1 2 \n",
      " 3 4 5 \n",
      " 6 7 8 \n",
      "The game will end when all 9 squares are filled.\n",
      "The game will end when three of one kind of piece are in a row.\n",
      "That player will win.\n",
      "\n",
      "<< x's Turn >>\n"
     ]
    },
    {
     "name": "stdin",
     "output_type": "stream",
     "text": [
      "Where would you like to place 'x'? 0\n"
     ]
    },
    {
     "name": "stdout",
     "output_type": "stream",
     "text": [
      "Thank you!\n",
      "The current board\n",
      "x - -\n",
      "- - -\n",
      "- - -\n",
      "\n",
      "<< o's Turn >>\n"
     ]
    },
    {
     "name": "stdin",
     "output_type": "stream",
     "text": [
      "Where would you like to place 'o'? 1\n"
     ]
    },
    {
     "name": "stdout",
     "output_type": "stream",
     "text": [
      "Thank you!\n",
      "The current board\n",
      "x o -\n",
      "- - -\n",
      "- - -\n",
      "\n",
      "<< x's Turn >>\n"
     ]
    },
    {
     "name": "stdin",
     "output_type": "stream",
     "text": [
      "Where would you like to place 'x'? 2\n"
     ]
    },
    {
     "name": "stdout",
     "output_type": "stream",
     "text": [
      "Thank you!\n",
      "The current board\n",
      "x o x\n",
      "- - -\n",
      "- - -\n",
      "\n",
      "<< o's Turn >>\n"
     ]
    },
    {
     "name": "stdin",
     "output_type": "stream",
     "text": [
      "Where would you like to place 'o'? 3\n"
     ]
    },
    {
     "name": "stdout",
     "output_type": "stream",
     "text": [
      "Thank you!\n",
      "The current board\n",
      "x o x\n",
      "o - -\n",
      "- - -\n",
      "\n",
      "<< x's Turn >>\n"
     ]
    },
    {
     "name": "stdin",
     "output_type": "stream",
     "text": [
      "Where would you like to place 'x'? 4\n"
     ]
    },
    {
     "name": "stdout",
     "output_type": "stream",
     "text": [
      "Thank you!\n",
      "The current board\n",
      "x o x\n",
      "o x -\n",
      "- - -\n",
      "\n",
      "<< o's Turn >>\n"
     ]
    },
    {
     "name": "stdin",
     "output_type": "stream",
     "text": [
      "Where would you like to place 'o'? 5\n"
     ]
    },
    {
     "name": "stdout",
     "output_type": "stream",
     "text": [
      "Thank you!\n",
      "The current board\n",
      "x o x\n",
      "o x o\n",
      "- - -\n",
      "\n",
      "<< x's Turn >>\n"
     ]
    },
    {
     "name": "stdin",
     "output_type": "stream",
     "text": [
      "Where would you like to place 'x'? 7\n"
     ]
    },
    {
     "name": "stdout",
     "output_type": "stream",
     "text": [
      "Thank you!\n",
      "The current board\n",
      "x o x\n",
      "o x o\n",
      "- x -\n",
      "x Wins!\n",
      "The game has ended.\n"
     ]
    }
   ],
   "source": [
    "X = \"Cynthia\"\n",
    "spaces = [\"-\", \"-\", \"-\", \"-\", \"-\", \"-\", \"-\", \"-\", \"-\"]\n",
    "board_form = [\"-\", \"-\", \"-\"]\n",
    "x = []\n",
    "o = []\n",
    "victory = False\n",
    "\n",
    "i = 1\n",
    "n_of_empty = 9\n",
    "players = [\"Cynthia\", \"Somebody\"]\n",
    "controls = [\"x\", \"o\"]\n",
    "n = 0\n",
    "tf_full = False\n",
    "\n",
    "from time import sleep\n",
    "print(\"Tic Tac Toe Game Starts!\")\n",
    "sleep(2)\n",
    "print(\"This is the board.\")\n",
    "sleep(2)\n",
    "\n",
    "print(\" - - - \")\n",
    "print(\" - - - \")\n",
    "print(\" - - - \")\n",
    "sleep(2)\n",
    "\n",
    "print(\"When you place your piece somewhere, please use the following to determine the location:\")\n",
    "sleep(2)\n",
    "print(\" 0 1 2 \")\n",
    "print(\" 3 4 5 \")\n",
    "print(\" 6 7 8 \")\n",
    "sleep(2)\n",
    "\n",
    "print(\"The game will end when all 9 squares are filled.\")\n",
    "sleep(2)\n",
    "print(\"The game will end when three of one kind of piece are in a row.\")\n",
    "print(\"That player will win.\")\n",
    "\n",
    "while n_of_empty != 0:\n",
    "    if i/2 != int(i/2):\n",
    "        print()\n",
    "        print(\"<< x's Turn >>\")\n",
    "        cur_space = int(input(\"Where would you like to place 'x'?\"))\n",
    "        while True:\n",
    "            check_space = spaces[cur_space]\n",
    "            if check_space == \"-\":\n",
    "                x.append(cur_space)\n",
    "                print(\"Thank you!\")\n",
    "                spaces[cur_space] = \"x\"\n",
    "                break\n",
    "            else:\n",
    "                print(\"Space not available, sorry.\")\n",
    "                cur_space = int(input(\"Where would you like to place 'x'?\"))\n",
    "        n_of_empty -= 1\n",
    "        i += 1       \n",
    "    else:\n",
    "        print()\n",
    "        print(\"<< o's Turn >>\")      \n",
    "        cur_space = int(input(\"Where would you like to place 'o'?\"))\n",
    "        while True:\n",
    "            check_space = spaces[cur_space]\n",
    "            if check_space == \"-\":\n",
    "                o.append(cur_space)\n",
    "                print(\"Thank you!\")\n",
    "                spaces[cur_space] = \"o\"\n",
    "                break\n",
    "            else:\n",
    "                print(\"Space not available, sorry.\")\n",
    "                cur_space = int(input(\"Where would you like to place 'o'?\"))\n",
    "        n_of_empty -= 1\n",
    "        i += 1 \n",
    "    print(\"The current board\")\n",
    "    print(spaces[0], spaces[1], spaces[2])\n",
    "    print(spaces[3], spaces[4], spaces[5])\n",
    "    print(spaces[6], spaces[7], spaces[8])\n",
    "    \n",
    "    if 0 in x and 4 in x and 8 in x:\n",
    "        print(\"x Wins!\")\n",
    "        victory = True\n",
    "    elif 2 in x and 4 in x and 7 in x:\n",
    "        print(\"x Wins!\")\n",
    "        victory = True\n",
    "    elif 0 in x and 1 in x and 2 in x:\n",
    "        print(\"x Wins!\")\n",
    "        victory = True\n",
    "    elif 3 in x and 4 in x and 5 in x:\n",
    "        print(\"x Wins!\")\n",
    "        victory = True\n",
    "    elif 6 in x and 7 in x and 8 in x:\n",
    "        print(\"x Wins!\")\n",
    "        victory = True\n",
    "    elif 0 in x and 3 in x and 6 in x:\n",
    "        print(\"x Wins!\")\n",
    "        victory = True\n",
    "    elif 1 in x and 4 in x and 7 in x:\n",
    "        print(\"x Wins!\")\n",
    "        victory = True\n",
    "    elif 2 in x and 5 in x and 8 in x:\n",
    "        print(\"x Wins!\")\n",
    "        victory = True\n",
    "\n",
    "    elif 0 in o and 4 in o and 8 in o:\n",
    "        print(\"o Wins!\")\n",
    "        victory = True\n",
    "    elif 2 in o and 4 in o and 7 in o:\n",
    "        print(\"o Wins!\")\n",
    "        victory = True\n",
    "    elif 0 in o and 1 in o and 2 in o:\n",
    "        print(\"o Wins!\")\n",
    "        victory = True\n",
    "    elif 3 in o and 4 in o and 5 in o:\n",
    "        print(\"o Wins!\")\n",
    "        victory = True\n",
    "    elif 6 in o and 7 in o and 8 in o:\n",
    "        print(\"o Wins!\")\n",
    "        victory = True\n",
    "    elif 0 in o and 3 in o and 6 in o:\n",
    "        print(\"o Wins!\")\n",
    "        victory = True\n",
    "    elif 1 in o and 4 in o and 7 in o:\n",
    "        print(\"o Wins!\")\n",
    "        victory = True\n",
    "    elif 2 in o and 5 in o and 8 in o:\n",
    "        print(\"o Wins!\")\n",
    "        victory = True\n",
    "    if victory == True:\n",
    "        break\n",
    "    \n",
    "print(\"The game has ended.\")"
   ]
  },
  {
   "cell_type": "code",
   "execution_count": null,
   "id": "b649d367-260d-4fef-80d0-2a70ea232e6a",
   "metadata": {},
   "outputs": [],
   "source": []
  }
 ],
 "metadata": {
  "kernelspec": {
   "display_name": "Python 3 (ipykernel)",
   "language": "python",
   "name": "python3"
  },
  "language_info": {
   "codemirror_mode": {
    "name": "ipython",
    "version": 3
   },
   "file_extension": ".py",
   "mimetype": "text/x-python",
   "name": "python",
   "nbconvert_exporter": "python",
   "pygments_lexer": "ipython3",
   "version": "3.9.0"
  }
 },
 "nbformat": 4,
 "nbformat_minor": 5
}
