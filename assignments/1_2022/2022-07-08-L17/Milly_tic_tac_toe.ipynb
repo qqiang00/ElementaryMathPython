{
 "cells": [
  {
   "cell_type": "code",
   "execution_count": 1,
   "id": "aec97420-746e-4376-96da-39ba105690e5",
   "metadata": {},
   "outputs": [
    {
     "name": "stdout",
     "output_type": "stream",
     "text": [
      "- - -\n",
      "- - -\n",
      "- - -\n"
     ]
    }
   ],
   "source": [
    "print(\"- - -\")\n",
    "print(\"- - -\")\n",
    "print(\"- - -\")"
   ]
  },
  {
   "cell_type": "code",
   "execution_count": 1,
   "id": "fa8283d0-11bd-4027-a73d-a2962dcca585",
   "metadata": {},
   "outputs": [
    {
     "name": "stdout",
     "output_type": "stream",
     "text": [
      "- - -\n",
      "- - -\n",
      "- - -\n"
     ]
    },
    {
     "name": "stdin",
     "output_type": "stream",
     "text": [
      "playerO玩家O: 0\n"
     ]
    },
    {
     "name": "stdout",
     "output_type": "stream",
     "text": [
      "- - -\n",
      "- - -\n",
      "- - O\n"
     ]
    },
    {
     "name": "stdin",
     "output_type": "stream",
     "text": [
      "playerX玩家X: 1\n"
     ]
    },
    {
     "name": "stdout",
     "output_type": "stream",
     "text": [
      "X - -\n",
      "- - -\n",
      "- - O\n"
     ]
    }
   ],
   "source": [
    "#落子代码\n",
    "place1, place2, place3 = \"-\", \"-\", \"-\"\n",
    "place4, place5, place6 = \"-\", \"-\", \"-\"\n",
    "place7, place8, place9 = \"-\", \"-\", \"-\"\n",
    "print(place1, place2, place3)\n",
    "print(place4, place5, place6)\n",
    "print(place7, place8, place9)\n",
    "O = input(\"playerO玩家O:\")\n",
    "if O == \"1\":\n",
    "    if place1 == \"-\":\n",
    "        place1 = \"O\"\n",
    "    else:\n",
    "        O = input(\"你要落子的地方已经有棋子了，请再试一次:\")\n",
    "elif O == \"2\":\n",
    "    if place2 == \"-\":\n",
    "        place2 = \"O\"\n",
    "    else:\n",
    "        O = input(\"你要落子的地方已经有棋子了，请再试一次:\")\n",
    "elif O == \"3\":\n",
    "    if place3 == \"-\":\n",
    "        place3 = \"O\"\n",
    "    else:\n",
    "        O = input(\"你要落子的地方已经有棋子了，请再试一次:\")\n",
    "elif O == \"4\":\n",
    "    if place4 == \"-\":\n",
    "        place4 = \"O\"\n",
    "    else:\n",
    "        O = input(\"你要落子的地方已经有棋子了，请再试一次:\")\n",
    "elif O == \"5\":\n",
    "    if place5 == \"-\":\n",
    "        place5 = \"O\"\n",
    "    else:\n",
    "        O = input(\"你要落子的地方已经有棋子了，请再试一次:\")\n",
    "elif O == \"6\":\n",
    "    if place6 == \"-\":\n",
    "        place6 = \"O\"\n",
    "    else:\n",
    "        O = input(\"你要落子的地方已经有棋子了，请再试一次:\")\n",
    "elif O == \"7\":\n",
    "    if place7 == \"-\":\n",
    "        place7 = \"O\"\n",
    "    else:\n",
    "        O = input(\"你要落子的地方已经有棋子了，请再试一次:\")\n",
    "elif O == \"8\":\n",
    "    if place8 == \"-\":\n",
    "        place8 = \"O\"\n",
    "    else:\n",
    "        O = input(\"你要落子的地方已经有棋子了，请再试一次:\")\n",
    "else:\n",
    "    if place9 == \"-\":\n",
    "        place9 = \"O\"\n",
    "    else:\n",
    "        O = input(\"你要落子的地方已经有棋子了，请再试一次:\")\n",
    "print(place1, place2, place3)\n",
    "print(place4, place5, place6)\n",
    "print(place7, place8, place9)\n",
    "X = input(\"playerX玩家X:\")\n",
    "if X == \"1\":\n",
    "    if place1 == \"-\":\n",
    "        place1 = \"X\"\n",
    "    else:\n",
    "        X = input(\"你要落子的地方已经有棋子了，请再试一次:\")\n",
    "elif X == \"2\":\n",
    "    if place2 == \"-\":\n",
    "        place2 = \"X\"\n",
    "    else:\n",
    "        X = input(\"你要落子的地方已经有棋子了，请再试一次:\")\n",
    "elif X == \"3\":\n",
    "    if place3 == \"-\":\n",
    "        place3 = \"X\"\n",
    "    else:\n",
    "        X = input(\"你要落子的地方已经有棋子了，请再试一次:\")\n",
    "elif X == \"4\":\n",
    "    if place4 == \"-\":\n",
    "        place4 = \"X\"\n",
    "    else:\n",
    "        X = input(\"你要落子的地方已经有棋子了，请再试一次:\")\n",
    "elif X == \"5\":\n",
    "    if place5 == \"-\":\n",
    "        place5 = \"X\"\n",
    "    else:\n",
    "        X = input(\"你要落子的地方已经有棋子了，请再试一次:\")\n",
    "elif X == \"6\":\n",
    "    if place6 == \"-\":\n",
    "        place6 = \"X\"\n",
    "    else:\n",
    "        X = input(\"你要落子的地方已经有棋子了，请再试一次:\")\n",
    "elif X == \"7\":\n",
    "    if place7 == \"-\":\n",
    "        place7 = \"X\"\n",
    "    else:\n",
    "        X = input(\"你要落子的地方已经有棋子了，请再试一次:\")\n",
    "elif X == \"8\":\n",
    "    if place8 == \"-\":\n",
    "        place8 = \"X\"\n",
    "    else:\n",
    "        X = input(\"你要落子的地方已经有棋子了，请再试一次:\")\n",
    "else:\n",
    "    if place9 == \"-\":\n",
    "        place9 = \"X\"\n",
    "    else:\n",
    "        X = input(\"你要落子的地方已经有棋子了，请再试一次:\")\n",
    "print(place1, place2, place3)\n",
    "print(place4, place5, place6)\n",
    "print(place7, place8, place9)"
   ]
  },
  {
   "cell_type": "code",
   "execution_count": 2,
   "id": "adb2bc70-cf2c-47a9-a129-529a35bf31a8",
   "metadata": {},
   "outputs": [
    {
     "name": "stdout",
     "output_type": "stream",
     "text": [
      "X X X\n",
      "- - -\n",
      "- - -\n"
     ]
    }
   ],
   "source": [
    "#检查有没有人赢\n",
    "place1, place2, place3 = \"X\", \"X\", \"X\"\n",
    "place4, place5, place6 = \"-\", \"-\", \"-\"\n",
    "place7, place8, place9 = \"-\", \"-\", \"-\"\n",
    "print(place1, place2, place3)\n",
    "print(place4, place5, place6)\n",
    "print(place7, place8, place9)\n"
   ]
  },
  {
   "cell_type": "code",
   "execution_count": null,
   "id": "b51921e1-dbdc-42eb-9cc1-19f1ff17e02e",
   "metadata": {},
   "outputs": [],
   "source": []
  }
 ],
 "metadata": {
  "kernelspec": {
   "display_name": "Python 3 (ipykernel)",
   "language": "python",
   "name": "python3"
  },
  "language_info": {
   "codemirror_mode": {
    "name": "ipython",
    "version": 3
   },
   "file_extension": ".py",
   "mimetype": "text/x-python",
   "name": "python",
   "nbconvert_exporter": "python",
   "pygments_lexer": "ipython3",
   "version": "3.9.0"
  }
 },
 "nbformat": 4,
 "nbformat_minor": 5
}
