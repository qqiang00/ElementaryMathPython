{
 "cells": [
  {
   "cell_type": "code",
   "execution_count": 27,
   "id": "f147d365",
   "metadata": {},
   "outputs": [
    {
     "name": "stdout",
     "output_type": "stream",
     "text": [
      "- - -\n",
      "- - -\n",
      "- - -\n"
     ]
    }
   ],
   "source": [
    "print(\"- - -\")\n",
    "print(\"- - -\")\n",
    "print(\"- - -\")"
   ]
  },
  {
   "cell_type": "code",
   "execution_count": 1,
   "id": "15b3e401",
   "metadata": {},
   "outputs": [
    {
     "name": "stdout",
     "output_type": "stream",
     "text": [
      "两个玩家，一个打圈（O)，一个打叉（X),\n",
      "轮流在3乘3的格上打自己的符号,\n",
      "最先以横、直、斜连成一线则为胜。\n",
      "===========================游戏开始==============================\n",
      "- - -\n",
      "- - -\n",
      "- - -\n"
     ]
    },
    {
     "name": "stdin",
     "output_type": "stream",
     "text": [
      "play 玩家 o 0\n",
      "play 玩家 o 1\n",
      "play 玩家 o 左上\n"
     ]
    },
    {
     "name": "stdout",
     "output_type": "stream",
     "text": [
      "o - -\n",
      "- - -\n",
      "- - -\n"
     ]
    },
    {
     "name": "stdin",
     "output_type": "stream",
     "text": [
      "play 玩家 x 右下\n"
     ]
    },
    {
     "name": "stdout",
     "output_type": "stream",
     "text": [
      "o - -\n",
      "- - -\n",
      "- - x\n"
     ]
    },
    {
     "name": "stdin",
     "output_type": "stream",
     "text": [
      "play 玩家 o 上\n"
     ]
    },
    {
     "name": "stdout",
     "output_type": "stream",
     "text": [
      "o o -\n",
      "- - -\n",
      "- - x\n"
     ]
    },
    {
     "name": "stdin",
     "output_type": "stream",
     "text": [
      "play 玩家 x 下\n"
     ]
    },
    {
     "name": "stdout",
     "output_type": "stream",
     "text": [
      "o o -\n",
      "- - -\n",
      "- x x\n"
     ]
    },
    {
     "name": "stdin",
     "output_type": "stream",
     "text": [
      "play 玩家 o 左下\n"
     ]
    },
    {
     "name": "stdout",
     "output_type": "stream",
     "text": [
      "o o -\n",
      "- - -\n",
      "o x x\n"
     ]
    },
    {
     "name": "stdin",
     "output_type": "stream",
     "text": [
      "play 玩家 x 右上\n"
     ]
    },
    {
     "name": "stdout",
     "output_type": "stream",
     "text": [
      "o o x\n",
      "- - -\n",
      "o x x\n"
     ]
    },
    {
     "name": "stdin",
     "output_type": "stream",
     "text": [
      "play 玩家 o 中\n"
     ]
    },
    {
     "name": "stdout",
     "output_type": "stream",
     "text": [
      "o o x\n",
      "- o -\n",
      "o x x\n"
     ]
    },
    {
     "name": "stdin",
     "output_type": "stream",
     "text": [
      "play 玩家 x 左\n"
     ]
    },
    {
     "name": "stdout",
     "output_type": "stream",
     "text": [
      "o o x\n",
      "x o -\n",
      "o x x\n"
     ]
    },
    {
     "name": "stdin",
     "output_type": "stream",
     "text": [
      "play 玩家 o 右\n"
     ]
    },
    {
     "name": "stdout",
     "output_type": "stream",
     "text": [
      "o o x\n",
      "x o o\n",
      "o x x\n",
      "和棋!\n"
     ]
    }
   ],
   "source": [
    "a, b, c, d, e, f, g, h, i = [\"-\", \"-\", \"-\", \"-\", \"-\", \"-\", \"-\", \"-\", \"-\"]\n",
    "print(\"两个玩家，一个打圈（O)，一个打叉（X),\")\n",
    "print(\"轮流在3乘3的格上打自己的符号,\")\n",
    "print(\"最先以横、直、斜连成一线则为胜。\")\n",
    "print(\"===========================游戏开始==============================\")\n",
    "print(a, b, c)\n",
    "print(d, e, f)\n",
    "print(g, h, i)\n",
    "n = 2\n",
    "while True:\n",
    "    while 100 % n == 0:\n",
    "        o = input(\"play 玩家 o\")\n",
    "        if o == \"左上\":\n",
    "            if a == \"o\" or a == \"x\":\n",
    "                print(\"已经有棋了!\")\n",
    "                o = input(\"play 玩家 o\")\n",
    "            else:\n",
    "                a = \"o\"\n",
    "            n += 1\n",
    "        if o == \"上\":\n",
    "            if b == \"o\" or b == \"x\":\n",
    "                print(\"已经有棋了!\")\n",
    "                o = input(\"play 玩家 o\")\n",
    "            else:\n",
    "                 b = \"o\"\n",
    "            n += 1\n",
    "        if o == \"右上\":\n",
    "            if c == \"o\" or c == \"x\":\n",
    "                print(\"已经有棋了!\")\n",
    "                o = input(\"play 玩家 o\")\n",
    "            else:\n",
    "                c = \"o\"\n",
    "            n += 1\n",
    "        if o == \"左\":\n",
    "            if d == \"o\" or d == \"x\":\n",
    "                print(\"已经有棋了!\")\n",
    "                o = input(\"play 玩家 o\")\n",
    "            else:\n",
    "                d = \"o\"\n",
    "            n += 1\n",
    "        if o == \"中\":\n",
    "            if o == \"o\" or e == \"x\":\n",
    "                print(\"已经有棋了!\")\n",
    "                e = input(\"play 玩家 o\")\n",
    "            else:\n",
    "                e = \"o\"\n",
    "            n += 1\n",
    "        if o == \"右\":\n",
    "            if f == \"o\" or f == \"x\":\n",
    "                print(\"已经有棋了!\")\n",
    "                o = input(\"play 玩家 o\")\n",
    "            else:\n",
    "                f = \"o\"\n",
    "            n += 1\n",
    "        if o == \"左下\":\n",
    "            if g == \"o\" or a == \"x\":\n",
    "                print(\"已经有棋了!\")\n",
    "                o = input(\"play 玩家 o\")\n",
    "            else:\n",
    "                g = \"o\"\n",
    "            n += 1\n",
    "        if o == \"下\":\n",
    "            if h == \"o\" or a == \"x\":\n",
    "                print(\"已经有棋了!\")\n",
    "                o = input(\"play 玩家 o\")\n",
    "            else:\n",
    "                h = \"o\"\n",
    "            n += 1\n",
    "        if o == \"右下\":\n",
    "            if i == \"o\" or a == \"x\":\n",
    "                print(\"已经有棋了!\")\n",
    "                o = input(\"play 玩家 o\")\n",
    "            else:\n",
    "                i = \"o\"\n",
    "            n += 1\n",
    "    print(a, b, c)\n",
    "    print(d, e, f)\n",
    "    print(g, h, i)\n",
    "    if a == \"o\" and d == \"o\" and g == \"o\":\n",
    "        print(\"win\")\n",
    "        break\n",
    "    if b == \"o\" and e == \"o\" and h == \"o\":\n",
    "        print(\"win\")\n",
    "        break\n",
    "    if c == \"o\" and f == \"o\" and i == \"o\":\n",
    "        print(\"win\")\n",
    "        break\n",
    "    if b == \"o\" and e == \"o\" and h == \"o\":\n",
    "        print(\"win\")\n",
    "        break\n",
    "    if a == \"o\" and b == \"o\" and c == \"o\":\n",
    "        print(\"win\")\n",
    "        break\n",
    "    if d == \"o\" and e == \"o\" and f == \"o\":\n",
    "        print(\"win\")\n",
    "        break\n",
    "    if g == \"o\" and h == \"o\" and i == \"o\":\n",
    "        print(\"win\")\n",
    "        break\n",
    "    if a == \"o\" and e == \"o\" and i == \"o\":\n",
    "        print(\"win\")\n",
    "        break\n",
    "    if c == \"o\" and e == \"o\" and g == \"o\":\n",
    "        print(\"win\")\n",
    "        break\n",
    "    if a != \"-\" and b != \"-\"and c != \"-\"and d != \"-\"and e != \"-\"and f != \"-\"and g != \"-\"and h != \"-\"and i != \"-\":\n",
    "        print(\"和棋!\")\n",
    "        break\n",
    "    while 100 % n != 0:\n",
    "        x = input(\"play 玩家 x\")\n",
    "        if x == \"左上\":\n",
    "            if a == \"o\" or a == \"x\":\n",
    "                print(\"已经有棋了!\")\n",
    "                x = input(\"play 玩家 x\")\n",
    "            else:\n",
    "                a = \"x\"\n",
    "            n -= 1\n",
    "        if x == \"上\":\n",
    "            if b == \"x\" or b == \"x\":\n",
    "                print(\"已经有棋了!\")\n",
    "                x = input(\"play 玩家 x\")\n",
    "            else:\n",
    "                b = \"x\"\n",
    "            n -= 1\n",
    "        if x == \"右上\":\n",
    "            if c == \"o\" or c == \"x\":\n",
    "                print(\"已经有棋了!\")\n",
    "                x = input(\"play 玩家 x\")\n",
    "            else:\n",
    "                c = \"x\"\n",
    "                n -= 1\n",
    "        if x == \"左\":\n",
    "            if d == \"o\" or d == \"x\":\n",
    "                print(\"已经有棋了!\")\n",
    "                x = input(\"play 玩家 x\")\n",
    "            else:\n",
    "                d = \"x\"\n",
    "            n -= 1\n",
    "        if x == \"中\":\n",
    "            if e == \"o\" or e == \"x\":\n",
    "                print(\"已经有棋了!\")\n",
    "                x = input(\"play 玩家 x\")\n",
    "            else:\n",
    "                e = \"x\"\n",
    "            n -= 1\n",
    "        if x == \"右\":\n",
    "            if f == \"o\" or f == \"x\":\n",
    "                print(\"已经有棋了!\")\n",
    "                x = input(\"play 玩家 x\")\n",
    "            else:\n",
    "                f = \"x\"\n",
    "            n -= 1\n",
    "        if x == \"左下\":\n",
    "            if g == \"o\" or a == \"x\":\n",
    "                print(\"已经有棋了!\")\n",
    "                x = input(\"play 玩家 x\")\n",
    "            else:\n",
    "                g = \"x\"\n",
    "            n -= 1\n",
    "        if x == \"下\":\n",
    "            if h == \"o\" or a == \"x\":\n",
    "                print(\"已经有棋了!\")\n",
    "                x = input(\"play 玩家 x\")\n",
    "            else:\n",
    "                h = \"x\"\n",
    "            n -= 1\n",
    "        if x == \"右下\":\n",
    "            if i == \"o\" or a == \"x\":\n",
    "                print(\"已经有棋了!\")\n",
    "                x = input(\"play 玩家 x\")\n",
    "            else: \n",
    "                i = \"x\"\n",
    "            n -= 1\n",
    "    print(a, b, c)\n",
    "    print(d, e, f)\n",
    "    print(g, h, i)\n",
    "    if a == \"x\" and d == \"x\" and g == \"x\":\n",
    "        print(\"win\")\n",
    "        break\n",
    "    if b == \"x\" and e == \"x\" and h == \"x\":\n",
    "        print(\"win\")\n",
    "        break\n",
    "    if c == \"x\" and f == \"x\" and i == \"x\":\n",
    "        print(\"win\")\n",
    "        break\n",
    "    if b == \"x\" and e == \"x\" and h == \"x\":\n",
    "        print(\"win\")\n",
    "        break\n",
    "    if a == \"x\" and b == \"x\" and c == \"x\":\n",
    "        print(\"win\")\n",
    "        break\n",
    "    if d == \"x\" and e == \"x\" and f == \"x\":\n",
    "        print(\"win\")\n",
    "        break\n",
    "    if g == \"x\" and h == \"x\" and i == \"x\":\n",
    "        print(\"win\")\n",
    "        break\n",
    "    if a == \"x\" and e == \"x\" and i == \"x\":\n",
    "        print(\"win\")\n",
    "        break\n",
    "    if c == \"x\" and e == \"x\" and g == \"x\":\n",
    "        print(\"win\")\n",
    "        break\n",
    "    if a != \"-\" and b != \"-\"and c != \"-\"and d != \"-\"and e != \"-\"and f != \"-\"and g != \"-\"and h != \"-\"and i != \"-\":\n",
    "        print(\"和棋!\")\n",
    "        break"
   ]
  },
  {
   "cell_type": "code",
   "execution_count": 13,
   "id": "989f43f3",
   "metadata": {},
   "outputs": [
    {
     "name": "stdout",
     "output_type": "stream",
     "text": [
      "win\n"
     ]
    }
   ],
   "source": [
    "a, b, c, d, e, f, g, h, i = [\"o\", \"-\", \"-\", \"-\", \"o\", \"-\", \"-\", \"-\", \"o\"]\n",
    "if a == \"o\" and d == \"o\" and g == \"o\":\n",
    "        print(\"win\")\n",
    "        break\n",
    "    if b == \"o\" and e == \"o\" and h == \"o\":\n",
    "        print(\"win\")\n",
    "        break\n",
    "    if c == \"o\" and f == \"o\" and i == \"o\":\n",
    "        print(\"win\")\n",
    "        break\n",
    "    if b == \"o\" and e == \"o\" and h == \"o\":\n",
    "        print(\"win\")\n",
    "        break\n",
    "    if a == \"o\" and b == \"o\" and c == \"o\":\n",
    "        print(\"win\")\n",
    "        break\n",
    "    if d == \"o\" and e == \"o\" and f == \"o\":\n",
    "        print(\"win\")\n",
    "        break\n",
    "    if g == \"o\" and h == \"o\" and i == \"o\":\n",
    "        print(\"win\")\n",
    "        break\n",
    "    if a == \"o\" and e == \"o\" and i == \"o\":\n",
    "        print(\"win\")\n",
    "        break\n",
    "    if c == \"o\" and e == \"o\" and g == \"o\":\n",
    "        print(\"win\")\n",
    "        break"
   ]
  },
  {
   "cell_type": "code",
   "execution_count": null,
   "id": "02c62458",
   "metadata": {},
   "outputs": [],
   "source": []
  }
 ],
 "metadata": {
  "kernelspec": {
   "display_name": "Python 3 (ipykernel)",
   "language": "python",
   "name": "python3"
  },
  "language_info": {
   "codemirror_mode": {
    "name": "ipython",
    "version": 3
   },
   "file_extension": ".py",
   "mimetype": "text/x-python",
   "name": "python",
   "nbconvert_exporter": "python",
   "pygments_lexer": "ipython3",
   "version": "3.9.0"
  }
 },
 "nbformat": 4,
 "nbformat_minor": 5
}
