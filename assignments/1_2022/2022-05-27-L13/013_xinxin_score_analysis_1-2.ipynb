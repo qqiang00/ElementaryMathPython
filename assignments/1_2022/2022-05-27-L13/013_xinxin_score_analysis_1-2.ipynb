{
 "cells": [
  {
   "cell_type": "markdown",
   "id": "relative-location",
   "metadata": {},
   "source": [
    "## 第13讲 分析考试成绩（一）\n",
    "Lecture 13. Analysis Exam Scores(Part 1)"
   ]
  },
  {
   "cell_type": "markdown",
   "id": "d12f05dd",
   "metadata": {},
   "source": [
    "### Problem 问题描述"
   ]
  },
  {
   "cell_type": "markdown",
   "id": "c7cd1f0b-8266-49f3-a77e-806bec2c40ce",
   "metadata": {},
   "source": [
    "Do you remember the math exam paper you designed for a class of a primary school? The lecturer hosted a mid term math exam using the questions you designed for all students in the class. Now their results were released; the scores are:\n",
    "\n",
    "你还记得你为小学某班级设计的数学试卷吗？ 老师使用你设计的题目为班上所有学生举行了数学期中考试。 现在他们的成绩出来了，分别是：\n",
    "```text\n",
    "74, 86, 100, 92, 72, 70, 74, 86, 72, 100, 86, 84, 96, 92, 78, 90, 82, 90, 82, 88, 100, 78, 92, 78, 92, 86, 84, 88, 90, 88, 98, 86, 100, 96, 96, 94, 54, 90, 100, 78, 100, 98, 84, 100, 78, 86, 98, 88, 94, 88\n",
    "```\n",
    "Please help the lecturer do the following basic analysis of the scores: 请你帮数学老师对考试成绩做下列简单的分析：\n",
    "1. What is the highest score? How many students have this highest score? 最高分是多少？有几位同学拿到了这个最高分？\n",
    "2. What is the lowest score? How many students have this lowest score? 最低分是多少？有几位同学的成绩是这个最低分？\n",
    "3. What is the average score of class? 全班的平均成绩是多少？\n",
    "4. How many students have scores below the average one? 有多少位同学的成绩是在平均成绩以下？"
   ]
  },
  {
   "cell_type": "code",
   "execution_count": 5,
   "id": "f3353355-fc7a-4842-9457-33af8c14b01c",
   "metadata": {},
   "outputs": [
    {
     "name": "stdout",
     "output_type": "stream",
     "text": [
      "[74, 86]\n"
     ]
    }
   ],
   "source": [
    "scores = []\n",
    "scores.append(74)\n",
    "scores.append(86)\n",
    "print(scores)"
   ]
  },
  {
   "cell_type": "code",
   "execution_count": 6,
   "id": "30a7ce21-9ff3-49d4-a6d5-1dd01066fe8a",
   "metadata": {},
   "outputs": [
    {
     "name": "stdout",
     "output_type": "stream",
     "text": [
      "[74, 86, 100, 92, 72, 70, 74, 86, 72, 100, 86, 84, 96, 92, 78, 90, 82, 90, 82, 88, 100, 78, 92, 78, 92, 86, 84, 88, 90, 88, 98, 86, 100, 96, 96, 94, 54, 90, 100, 78, 100, 98, 84, 100, 78, 86, 98, 88, 94, 88]\n"
     ]
    }
   ],
   "source": [
    "scores = [74, 86, 100, 92, 72, 70, 74, 86, 72, 100,\n",
    "          86, 84, 96, 92, 78, 90, 82, 90, 82, 88, 100, \n",
    "          78, 92, 78, 92, 86, 84, 88, 90, 88, 98, 86, 100, \n",
    "          96, 96, 94, 54, 90, 100, 78, 100, 98, 84, 100, \n",
    "          78, 86, 98, 88, 94, 88]\n",
    "print(scores)"
   ]
  },
  {
   "cell_type": "code",
   "execution_count": 7,
   "id": "7789e6d0-d26e-4684-b431-9de28dde5555",
   "metadata": {},
   "outputs": [
    {
     "data": {
      "text/plain": [
       "50"
      ]
     },
     "execution_count": 7,
     "metadata": {},
     "output_type": "execute_result"
    }
   ],
   "source": [
    "len(scores)"
   ]
  },
  {
   "cell_type": "code",
   "execution_count": 19,
   "id": "4de98b18-0288-4a6c-bcd9-25732907343d",
   "metadata": {},
   "outputs": [
    {
     "name": "stdout",
     "output_type": "stream",
     "text": [
      "88\n"
     ]
    }
   ],
   "source": [
    "# index, 索引(位置）       从0开始计数逐渐增大，最后一个元素的索引就是list长度-1\n",
    "print(scores[49]) # Xinxin"
   ]
  },
  {
   "cell_type": "code",
   "execution_count": 22,
   "id": "e6383fe8-6d3d-45cf-9a34-77a15f22a5c2",
   "metadata": {},
   "outputs": [
    {
     "name": "stdout",
     "output_type": "stream",
     "text": [
      "88\n"
     ]
    }
   ],
   "source": [
    "position = 49       # 0 <= position <= 49 \n",
    "print(scores[position]) # Milly"
   ]
  },
  {
   "cell_type": "code",
   "execution_count": 23,
   "id": "3063874e-b8f7-4ff1-8a7d-6b5021ab62d4",
   "metadata": {},
   "outputs": [
    {
     "ename": "IndexError",
     "evalue": "list index out of range",
     "output_type": "error",
     "traceback": [
      "\u001b[1;31m---------------------------------------------------------------------------\u001b[0m",
      "\u001b[1;31mIndexError\u001b[0m                                Traceback (most recent call last)",
      "Input \u001b[1;32mIn [23]\u001b[0m, in \u001b[0;36m<cell line: 2>\u001b[1;34m()\u001b[0m\n\u001b[0;32m      1\u001b[0m position \u001b[38;5;241m=\u001b[39m \u001b[38;5;241m50\u001b[39m       \u001b[38;5;66;03m# 0 <= position <= 49 \u001b[39;00m\n\u001b[1;32m----> 2\u001b[0m \u001b[38;5;28mprint\u001b[39m(\u001b[43mscores\u001b[49m\u001b[43m[\u001b[49m\u001b[43mposition\u001b[49m\u001b[43m]\u001b[49m)\n",
      "\u001b[1;31mIndexError\u001b[0m: list index out of range"
     ]
    }
   ],
   "source": [
    "position = 50       # 0 <= position <= 49 \n",
    "print(scores[position]) "
   ]
  },
  {
   "cell_type": "code",
   "execution_count": 24,
   "id": "f65c38e6-5804-4943-9367-9a50fea2716d",
   "metadata": {},
   "outputs": [
    {
     "name": "stdout",
     "output_type": "stream",
     "text": [
      "88\n"
     ]
    }
   ],
   "source": [
    "position = -1       # 0 <= position <= 49 \n",
    "print(scores[position]) "
   ]
  },
  {
   "cell_type": "code",
   "execution_count": null,
   "id": "692d0f73-8f7f-4c3f-88ed-997a6f6291ac",
   "metadata": {},
   "outputs": [],
   "source": [
    "scores = [74, 86, 100, 92, 72, 70]\n"
   ]
  },
  {
   "cell_type": "markdown",
   "id": "58b48659-5d09-4297-ad74-02cd03a78bb7",
   "metadata": {},
   "source": [
    "### Math Background 数学背景"
   ]
  },
  {
   "cell_type": "markdown",
   "id": "84ff5c68-6020-4bd6-9155-4ca62bd7f828",
   "metadata": {},
   "source": [
    "1. 求一组数的最大值、最小值\n",
    "2. 计数某一个数在一组数中出现的次数\n",
    "3. 平均数的概念\n",
    "4. 比较数的大小"
   ]
  },
  {
   "cell_type": "markdown",
   "id": "c87f2ab2-933c-4283-8f53-d650737089f3",
   "metadata": {
    "tags": []
   },
   "source": [
    "### Prerequisites 预备知识"
   ]
  },
  {
   "cell_type": "markdown",
   "id": "72945ac6-c014-4153-89d3-c5c47587ccc0",
   "metadata": {},
   "source": [
    "#### 1. 使用索引值获取列表变量中的每一个元素\n",
    "python list 的索引是从0开始逐渐增大的整数。列表中排在**最前面**的元素的索引值是**0**，排在**最后面**的元素的索引值是**列表中元素的个数减1**。"
   ]
  },
  {
   "cell_type": "code",
   "execution_count": 1,
   "id": "e2b11905-49cc-4fde-a82c-2187a0954ed8",
   "metadata": {},
   "outputs": [
    {
     "name": "stdout",
     "output_type": "stream",
     "text": [
      "[]\n"
     ]
    }
   ],
   "source": [
    "places = []\n",
    "print(places)"
   ]
  },
  {
   "cell_type": "code",
   "execution_count": 2,
   "id": "7ee33225-f7d2-4452-975e-b3946636d52b",
   "metadata": {
    "tags": []
   },
   "outputs": [
    {
     "name": "stdout",
     "output_type": "stream",
     "text": [
      "['上海']\n"
     ]
    }
   ],
   "source": [
    "places.append(\"上海\")\n",
    "print(places)\n"
   ]
  },
  {
   "cell_type": "code",
   "execution_count": 3,
   "id": "ce03f608-8cfe-45e6-b8ed-51ee8161ab7f",
   "metadata": {},
   "outputs": [
    {
     "name": "stdout",
     "output_type": "stream",
     "text": [
      "['上海', '北京']\n"
     ]
    }
   ],
   "source": [
    "places.append(\"北京\")\n",
    "print(places)"
   ]
  },
  {
   "cell_type": "code",
   "execution_count": 4,
   "id": "a2edcc36-5576-430c-819c-80b5ace3dfc8",
   "metadata": {},
   "outputs": [
    {
     "name": "stdout",
     "output_type": "stream",
     "text": [
      "['上海', '北京', '上海']\n"
     ]
    }
   ],
   "source": [
    "places.append(\"上海\")\n",
    "print(places)"
   ]
  },
  {
   "cell_type": "code",
   "execution_count": 16,
   "id": "18e53b58-c8eb-4036-b4c5-cecc165476c4",
   "metadata": {},
   "outputs": [
    {
     "data": {
      "text/plain": [
       "'上海'"
      ]
     },
     "execution_count": 16,
     "metadata": {},
     "output_type": "execute_result"
    }
   ],
   "source": [
    "# -4    -3     -2      -1                     # python supports\n",
    "#        0      1       2     3               # most languanges support\n",
    "#    [\"上海\", \"北京\", \"上海\"]"
   ]
  },
  {
   "cell_type": "code",
   "execution_count": 25,
   "id": "dbbc73fc-bcbb-45d6-a076-9d9567ec3c37",
   "metadata": {},
   "outputs": [
    {
     "data": {
      "text/plain": [
       "'北京'"
      ]
     },
     "execution_count": 25,
     "metadata": {},
     "output_type": "execute_result"
    }
   ],
   "source": [
    "places[1]"
   ]
  },
  {
   "cell_type": "code",
   "execution_count": 26,
   "id": "f7c06c77-40b8-4c7b-a261-bbc15d2e846c",
   "metadata": {},
   "outputs": [
    {
     "ename": "IndexError",
     "evalue": "list index out of range",
     "output_type": "error",
     "traceback": [
      "\u001b[1;31m---------------------------------------------------------------------------\u001b[0m",
      "\u001b[1;31mIndexError\u001b[0m                                Traceback (most recent call last)",
      "Input \u001b[1;32mIn [26]\u001b[0m, in \u001b[0;36m<cell line: 1>\u001b[1;34m()\u001b[0m\n\u001b[1;32m----> 1\u001b[0m \u001b[43mplaces\u001b[49m\u001b[43m[\u001b[49m\u001b[38;5;241;43m3\u001b[39;49m\u001b[43m]\u001b[49m\n",
      "\u001b[1;31mIndexError\u001b[0m: list index out of range"
     ]
    }
   ],
   "source": [
    "places[3]           # does not exist 不存在"
   ]
  },
  {
   "cell_type": "markdown",
   "id": "f2e32c1e-8872-4770-b1a8-1266de4801c9",
   "metadata": {},
   "source": [
    "#### 2. 使用循环遍历列表中的所有元素"
   ]
  },
  {
   "cell_type": "code",
   "execution_count": 27,
   "id": "7a7b28c9-6691-4f78-b5af-136786b36c94",
   "metadata": {},
   "outputs": [
    {
     "name": "stdout",
     "output_type": "stream",
     "text": [
      "上海\n",
      "北京\n",
      "上海\n"
     ]
    }
   ],
   "source": [
    "i = 0\n",
    "n = len(places)\n",
    "while i < n:\n",
    "    print(places[i])\n",
    "    i+=1"
   ]
  },
  {
   "cell_type": "markdown",
   "id": "53bec078-ecef-4cd9-830f-db941f49b4b9",
   "metadata": {},
   "source": [
    "#### 3. 找列表中的最大值"
   ]
  },
  {
   "cell_type": "code",
   "execution_count": 31,
   "id": "beca9aa1-1cf6-4634-a99c-5f6240f08e1e",
   "metadata": {},
   "outputs": [
    {
     "ename": "IndexError",
     "evalue": "list index out of range",
     "output_type": "error",
     "traceback": [
      "\u001b[1;31m---------------------------------------------------------------------------\u001b[0m",
      "\u001b[1;31mIndexError\u001b[0m                                Traceback (most recent call last)",
      "Input \u001b[1;32mIn [31]\u001b[0m, in \u001b[0;36m<cell line: 2>\u001b[1;34m()\u001b[0m\n\u001b[0;32m      1\u001b[0m family_ages \u001b[38;5;241m=\u001b[39m [\u001b[38;5;241m11\u001b[39m]   \u001b[38;5;66;03m#, 5, 36, 34, 65]\u001b[39;00m\n\u001b[1;32m----> 2\u001b[0m first, second \u001b[38;5;241m=\u001b[39m family_ages[\u001b[38;5;241m0\u001b[39m], \u001b[43mfamily_ages\u001b[49m\u001b[43m[\u001b[49m\u001b[38;5;241;43m1\u001b[39;49m\u001b[43m]\u001b[49m\n\u001b[0;32m      3\u001b[0m oldest \u001b[38;5;241m=\u001b[39m first \u001b[38;5;28;01mif\u001b[39;00m first \u001b[38;5;241m>\u001b[39m second \u001b[38;5;28;01melse\u001b[39;00m second\n\u001b[0;32m      4\u001b[0m i \u001b[38;5;241m=\u001b[39m \u001b[38;5;241m2\u001b[39m\n",
      "\u001b[1;31mIndexError\u001b[0m: list index out of range"
     ]
    }
   ],
   "source": [
    "family_ages = [11, 5, 36, 34, 65]\n",
    "first, second = family_ages[0], family_ages[1]\n",
    "oldest = first if first > second else second\n",
    "i = 2\n",
    "while i <= len(family_ages)-1:\n",
    "    if family_ages[i] > oldest:\n",
    "        oldest = family_ages[i]\n",
    "    i += 1\n",
    "    \n",
    "print(oldest)\n",
    "\n",
    "\n",
    "# Method1 方法1\n",
    "# step1 步骤1: 先把列表中的前两个元素拿出来比较，把其中大的作为最大值\n",
    "# loop step2 循环步骤2：从列表第3个元素(索引值为2)开始，依次拿出后续的每一个元素，把它和当前的最大值比较\n",
    "#   比较的结果有3中可能性：\n",
    "#       a. 当前的元素比当前的最大值大\n",
    "#       b. 当前的元素和当前的最大值一样大\n",
    "#       c. 当前的元素比当前的最大值小\n",
    "# step3 当前的最大值就是整个列表元素的最大值"
   ]
  },
  {
   "cell_type": "code",
   "execution_count": 33,
   "id": "9932bf8a-8432-40e7-88ef-969310c19367",
   "metadata": {},
   "outputs": [
    {
     "name": "stdout",
     "output_type": "stream",
     "text": [
      "-1\n"
     ]
    }
   ],
   "source": [
    "family_ages = []# 11, 5, 36, 34, 65]\n",
    "\n",
    "# Method2 方法2\n",
    "# step1 步骤1: 先设定一个尽可能小的数作为一开始的最大值\n",
    "# loop step2 循环步骤2：从列表里依次拿出每一个元素，把它和当前的最大值比较\n",
    "#   比较的结果有3中可能性：\n",
    "#       a. 当前的元素比当前的最大值大\n",
    "#       b. 当前的元素和当前的最大值一样大\n",
    "#       c. 当前的元素比当前的最大值小\n",
    "# step3 当前的最大值就是整个列表元素的最大值\n",
    "oldest = -1       # -1 没有最大值\n",
    "i = 0\n",
    "while i < len(family_ages):\n",
    "    if family_ages[i] > oldest:\n",
    "        oldest = family_ages[i]\n",
    "    i += 1\n",
    "print(oldest)"
   ]
  },
  {
   "cell_type": "markdown",
   "id": "73aa01d7-2716-4f51-9cbf-1409b94860c2",
   "metadata": {},
   "source": [
    "#### 4. 同时找列表中的最大最小值和平均值"
   ]
  },
  {
   "cell_type": "code",
   "execution_count": 28,
   "id": "b987f7e2-0f08-4b4a-bb91-6ec9fc0964cc",
   "metadata": {},
   "outputs": [
    {
     "name": "stdout",
     "output_type": "stream",
     "text": [
      "最大年龄: 65\n",
      "最小年龄:  5\n",
      "平均年龄: 30.2\n"
     ]
    }
   ],
   "source": [
    "family_ages = [11, 5, 36, 34, 65]\n",
    "i = 0\n",
    "n = len(family_ages)\n",
    "min_age, max_age = 100, 0       # initialize\n",
    "total_age, average_age = 0, 0\n",
    "\n",
    "while i < n:\n",
    "    age = family_ages[i]\n",
    "    total_age += age\n",
    "    if age < min_age:\n",
    "        min_age = age\n",
    "    if age > max_age:\n",
    "        max_age = age\n",
    "    i += 1\n",
    "    \n",
    "average_age = total_age / n\n",
    "print(\"最大年龄:{:>3}\".format(max_age))\n",
    "print(\"最小年龄:{:>3}\".format(min_age))\n",
    "print(\"平均年龄:{:>5.3}\".format(average_age))"
   ]
  },
  {
   "cell_type": "markdown",
   "id": "d55f37d9",
   "metadata": {},
   "source": [
    "### Solution 编程求解"
   ]
  },
  {
   "cell_type": "code",
   "execution_count": 44,
   "id": "c0bf70f7-d7c2-4eb4-889a-d2341bccb7dc",
   "metadata": {},
   "outputs": [],
   "source": [
    "scores = [74, 86, 100, 92, 72, 70, 74, 86, 72, 100, 86, 84, 96, 92, 78, 90, \n",
    "          82, 90, 82, 88, 100, 78, 92, 78, 92, 86, 84, 88, 90, 88, 98, 86, 100, \n",
    "          96, 96, 94, 54, 90, 100, 78, 100, 98, 84, 100, 78, 86, 98, 88, 94, 88]"
   ]
  },
  {
   "cell_type": "code",
   "execution_count": 45,
   "id": "92cd9dfb-72cf-4d81-a328-4bfef9ded5a5",
   "metadata": {},
   "outputs": [
    {
     "name": "stdout",
     "output_type": "stream",
     "text": [
      "最高分:100\n",
      "最低分: 54\n",
      "平均分: 87.5\n",
      " 7人获得了最高分100\n",
      " 1人获得了最低分54\n",
      "22人的成绩低于平均分87.52\n"
     ]
    }
   ],
   "source": [
    "highest_score = 0             # 假定一开始最高分是0, 为什么不设得高些？\n",
    "lowest_score = 100            # 假定一开始最低分是100，为什么不设的更低些？\n",
    "n_score = len(scores)         # 成绩的数量\n",
    "total_score = 0               # 成绩总和\n",
    "i = 0\n",
    "while i < n_score:\n",
    "    cur_score = scores[i]\n",
    "    total_score += cur_score\n",
    "    if cur_score > highest_score:\n",
    "        highest_score = cur_score\n",
    "    if cur_score < lowest_score:\n",
    "        lowest_score = cur_score\n",
    "    i += 1\n",
    "    \n",
    "average_score = total_score / n_score          # 平均分\n",
    "print(\"最高分:{:>3}\".format(highest_score))\n",
    "print(\"最低分:{:>3}\".format(lowest_score))\n",
    "print(\"平均分:{:>5.3}\".format(average_score))\n",
    "\n",
    "i = 0\n",
    "n_lowest, n_highest = 0, 0    # 分别得到最低最高分的学生数量\n",
    "n_below_average = 0           # 假定低于平均分的学生个数\n",
    "while i < n_score:\n",
    "    cur_score = scores[i]\n",
    "    if cur_score == lowest_score:\n",
    "        n_lowest += 1\n",
    "    if cur_score == highest_score:\n",
    "        n_highest += 1\n",
    "    if cur_score < average_score:\n",
    "        n_below_average += 1\n",
    "    i += 1\n",
    "print(\"{:2}人获得了最高分{}\".format(n_highest, highest_score))\n",
    "print(\"{:2}人获得了最低分{}\".format(n_lowest, lowest_score))\n",
    "print(\"{:2}人的成绩低于平均分{}\".format(n_below_average, average_score))"
   ]
  },
  {
   "cell_type": "code",
   "execution_count": 46,
   "id": "2863a1b3-7c16-4706-bcfe-c15e16083104",
   "metadata": {},
   "outputs": [
    {
     "name": "stdout",
     "output_type": "stream",
     "text": [
      "最高分，最低分，平均分分别是： 100 54 87.52\n",
      "拥有最高分的人数: 7\n",
      "拥有最低分的人数: 1\n",
      "低于平均分的人数: 22\n"
     ]
    }
   ],
   "source": [
    "# this is a 4 line codes that can get the answer for the problem. \n",
    "# but it's hard to read.\n",
    "# 下面的四行代码也可以得到问题的答案，但是不容易理解和阅读。\n",
    "print(\"最高分，最低分，平均分分别是：\", max(scores), min(scores), sum(scores)/len(scores))\n",
    "print(\"拥有最高分的人数:\", sum([scores[i] == max(scores) for i in range(len(scores))]))\n",
    "print(\"拥有最低分的人数:\", sum([scores[i] == min(scores) for i in range(len(scores))]))\n",
    "print(\"低于平均分的人数:\", sum([scores[i] < sum(scores)/len(scores) for i in range(len(scores))]))"
   ]
  },
  {
   "cell_type": "markdown",
   "id": "latest-contamination",
   "metadata": {},
   "source": [
    "### Summary 知识点小结"
   ]
  },
  {
   "cell_type": "markdown",
   "id": "afb3f674",
   "metadata": {},
   "source": [
    "1. 列表的索引，列表元素值的获取\n",
    "2. 复习`while`循环，循环与条件语句的嵌套"
   ]
  },
  {
   "cell_type": "markdown",
   "id": "bizarre-assurance",
   "metadata": {},
   "source": [
    "### 计算机小知识"
   ]
  },
  {
   "cell_type": "markdown",
   "id": "92100f08",
   "metadata": {},
   "source": [
    "人们在长期的生产生活中，优化总结了做好某一件事情的流程。计算机算法很多时候就是把这些流程用计算机编程语言的形式反映出来。许多优秀的算法其理念都来源于生活。例如，银行柜台的排队叫号系统，等待办理业务的客户是有先后次序的，当某一个柜台可以办理下一个客户业务的时候，排在最前面的客户就可以去办理了。每一个客户手中的号码确定了该客户排在队伍的什么位置。这样的排队叫号系统是比较公平有效的。"
   ]
  },
  {
   "cell_type": "markdown",
   "id": "digital-consensus",
   "metadata": {
    "heading_collapsed": true
   },
   "source": [
    "### Assignments 作业"
   ]
  },
  {
   "cell_type": "markdown",
   "id": "controversial-sleeve",
   "metadata": {
    "hidden": true
   },
   "source": [
    "1. Find the minimal, maximal values from the following 100 integers, calculate the average values for the 100 integers and count how many 50 among all the integers. \n",
    "\n",
    "    找到下面100个数中的最大值、最小值, 计算这100个数的平均值并统计整数50在其中出现的次数\n",
    "```python\n",
    "values = [59, 36, 43, 53, 39, 49, 51, 41, 36, 51, 59, 43, 46, 66, 44, 44, 74, \n",
    "          34, 57, 29, 44, 65, 62, 40, 45, 50, 37, 55, 72, 36, 30, 52, 48, 68, \n",
    "          48, 49, 48, 40, 56, 36, 61, 50, 55, 44, 40, 68, 54, 62, 51, 76, 53, \n",
    "          39, 57, 54, 26, 48, 59, 58, 46, 37, 54, 38, 63, 46, 40, 44, 41, 44, \n",
    "          42, 46, 52, 55, 38, 40, 45, 50, 50, 29, 67, 41, 68, 36, 40, 47, 47, \n",
    "          42, 57, 31, 60, 41, 62, 45, 36, 54, 72, 49, 51, 46, 41, 42]\n",
    "```"
   ]
  },
  {
   "cell_type": "code",
   "execution_count": 19,
   "id": "f1c16cc1-6e66-4e5a-9f50-3b1969bfdbe5",
   "metadata": {},
   "outputs": [
    {
     "name": "stdout",
     "output_type": "stream",
     "text": [
      "Average: 48.65.\n",
      "Highest: 76.\n",
      "Lowest: 26.\n",
      "50 appeared 4 times.\n"
     ]
    }
   ],
   "source": [
    "values = [59, 36, 43, 53, 39, 49, 51, 41, 36, 51, 59, 43, 46, 66, 44, 44, 74, \n",
    "       34, 57, 29, 44, 65, 62, 40, 45, 50, 37, 55, 72, 36, 30, 52, 48, 68, \n",
    "       48, 49, 48, 40, 56, 36, 61, 50, 55, 44, 40, 68, 54, 62, 51, 76, 53, \n",
    "       39, 57, 54, 26, 48, 59, 58, 46, 37, 54, 38, 63, 46, 40, 44, 41, 44, \n",
    "       42, 46, 52, 55, 38, 40, 45, 50, 50, 29, 67, 41, 68, 36, 40, 47, 47, \n",
    "       42, 57, 31, 60, 41, 62, 45, 36, 54, 72, 49, 51, 46, 41, 42]\n",
    "amount_values = len(values) \n",
    "\n",
    "i = 0\n",
    "values_sum = 0\n",
    "high_value = 0\n",
    "low_value = 100\n",
    "fifty_appearance = 0\n",
    "\n",
    "while i <= amount_values - 1:\n",
    "    cur_value = values[i]\n",
    "    values_sum = values_sum + cur_value\n",
    "    if cur_value > high_value:\n",
    "        high_value = cur_value\n",
    "    elif cur_value < low_value:\n",
    "        low_value = cur_value\n",
    "    elif cur_value == 50:\n",
    "        fifty_appearance += 1\n",
    "    i = i + 1\n",
    "\n",
    "values_average = str(values_sum / amount_values)\n",
    "print(\"Average: \" + str(values_average) + \".\")\n",
    "print(\"Highest: \" + str(high_value) + \".\")\n",
    "print(\"Lowest: \" + str(low_value) + \".\")\n",
    "print(\"50 appeared \" + str(fifty_appearance) + \" times.\")"
   ]
  },
  {
   "cell_type": "code",
   "execution_count": 18,
   "id": "d02e3afd-1d94-429a-942c-8942afe418ed",
   "metadata": {
    "tags": []
   },
   "outputs": [],
   "source": [
    "from random import randint, gauss, seed\n",
    "seed(0)\n",
    "i, n = 0, 100\n",
    "values = []\n",
    "while i < n:\n",
    "    values.append(int(gauss(50, 10)))\n",
    "    i += 1\n",
    "#print(values)"
   ]
  },
  {
   "cell_type": "markdown",
   "id": "63f2c424-dfca-44d1-ad2e-cbda95145414",
   "metadata": {},
   "source": [
    "2. Use the method `randint` to randomly generate 100, 10,000, and 1,000,000 integers in the range between 0 and 100 (you don't have to print out these numbers), calculate the average of the generated 100, 10,000, and 1,000,000 integers. Calculate the difference between 50 and the average values obtained each time, compare the three differences, can you find anything interesting? How do you explain this phenomenon?\n",
    "\n",
    "    用随机数方法`randint`分别随机生成100个、10000个、1000000个数量的范围在0，100之间的整数（不必打印出这些数），分别计算生成的100，10000，和1000000个整数的平均值。计算每次的平均值与50之间的差，比较三次得到的差，你能发现些什么吗？你怎么解释这种现象？"
   ]
  },
  {
   "cell_type": "code",
   "execution_count": 22,
   "id": "162c9372-c0e9-4e72-bb93-14ee136658c9",
   "metadata": {},
   "outputs": [],
   "source": [
    "from random import randint"
   ]
  },
  {
   "cell_type": "code",
   "execution_count": 42,
   "id": "da81e083-74ad-462e-aa23-ca84ccd44bc3",
   "metadata": {},
   "outputs": [
    {
     "name": "stdout",
     "output_type": "stream",
     "text": [
      "2.6199999999999974\n"
     ]
    }
   ],
   "source": [
    "# n = 100\n",
    "min_v, max_v = 0, 100\n",
    "i, n = 0, 100\n",
    "\n",
    "average = 0\n",
    "while i < n:\n",
    "    average += randint(min_v, max_v) \n",
    "    i += 1\n",
    "\n",
    "average /= n\n",
    "print(average - 50)"
   ]
  },
  {
   "cell_type": "code",
   "execution_count": 45,
   "id": "c2ae2f2a-2c87-4b8a-87fd-9d0d29d5fa87",
   "metadata": {},
   "outputs": [
    {
     "name": "stdout",
     "output_type": "stream",
     "text": [
      "-0.1647999999999996\n"
     ]
    }
   ],
   "source": [
    "# n = 10000\n",
    "min_v, max_v = 0, 100\n",
    "i, n = 0, 10000\n",
    "\n",
    "average = 0\n",
    "while i < n:\n",
    "    average += randint(min_v, max_v) \n",
    "    i += 1\n",
    "\n",
    "average /= n\n",
    "print(average - 50)"
   ]
  },
  {
   "cell_type": "code",
   "execution_count": 41,
   "id": "16b5bdd7-a4b4-4453-b95a-c546b5c42686",
   "metadata": {},
   "outputs": [
    {
     "name": "stdout",
     "output_type": "stream",
     "text": [
      "0.005144999999998845\n"
     ]
    }
   ],
   "source": [
    "# n = 1000000\n",
    "min_v, max_v = 0, 100\n",
    "i, n = 0, 1000000\n",
    "\n",
    "average = 0\n",
    "while i < n:\n",
    "    average += randint(min_v, max_v) \n",
    "    i += 1\n",
    "\n",
    "average /= n\n",
    "print(average - 50)"
   ]
  },
  {
   "cell_type": "code",
   "execution_count": null,
   "id": "e9283513-b21d-40f0-9775-5cc17aaf25b2",
   "metadata": {},
   "outputs": [],
   "source": [
    "# When n = 100, the average - 50 had a integer beginning that was normally 1 or 2.\n",
    "# When n = 1000, the average - 50 got smaller, usually 1 and smaller.\n",
    "# When n = 1000000, the average = 50 was a bit smaller, usually 0 or negative. \n",
    "\n",
    "# Not a really big difference, however, \n",
    "# I'm not sure why when n is a bigger number, the average is smaller."
   ]
  },
  {
   "cell_type": "markdown",
   "id": "a4165380-8f45-4881-b7f2-850533fe67f3",
   "metadata": {},
   "source": [
    "3. 编写程序计算下面三个列表中所有元素的平均数\n",
    "```python\n",
    "[11, 35, 34, 67, 59] \n",
    "[3, 1, 2, 4, 31, 91, 9]\n",
    "[1, 66, 81, 18, 95, 61, 60, 91, 24, 50, 10, 38, 13, 99, 76, 68, 48, 75, 5, 16, 53, 37, 77, 70, 4, 89, 72, 26, 35, 22, 82, 30, 78, 59, 2, 84, 52, 20, 28, 19, 79, 97, 90, 73, 69, 46, 33, 58, 32, 98, 39, 57, 71, 44, 96, 3, 8, 25, 67, 83, 62, 36, 63, 42, 86, 31, 17, 51, 93, 65, 56, 45, 47, 88, 94, 7, 9, 43, 12, 55, 15, 23, 85, 87, 74, 40, 64, 27, 41, 54, 49, 21, 34, 14, 11, 92, 80, 29, 6]\n",
    "```"
   ]
  },
  {
   "cell_type": "code",
   "execution_count": 49,
   "id": "dd3c3885-0973-4f2a-9783-c0233809e2cd",
   "metadata": {},
   "outputs": [
    {
     "name": "stdout",
     "output_type": "stream",
     "text": [
      "Average: 20.142857142857142.\n"
     ]
    }
   ],
   "source": [
    "values = [3, 1, 2, 4, 31, 91, 9]\n",
    "amount_values = len(values) \n",
    "\n",
    "i = 0\n",
    "values_sum = 0\n",
    "\n",
    "while i <= amount_values - 1:\n",
    "    cur_value = values[i]\n",
    "    values_sum = values_sum + cur_value\n",
    "    i = i + 1\n",
    "\n",
    "values_average = str(values_sum / amount_values)\n",
    "print(\"Average: \" + str(values_average) + \".\")"
   ]
  },
  {
   "cell_type": "code",
   "execution_count": 54,
   "id": "38a6c130-4be4-43de-be10-c057cd1dd94c",
   "metadata": {},
   "outputs": [
    {
     "name": "stdout",
     "output_type": "stream",
     "text": [
      "Average: 5.285714285714286.\n"
     ]
    }
   ],
   "source": [
    "values2 = [3, 1, 2, 4, 7, 11, 9]\n",
    "amount_values2 = len(values2) \n",
    "\n",
    "i = 0\n",
    "values2_sum = 0\n",
    "\n",
    "while i <= amount_values2 - 1:\n",
    "    cur_value2 = values2[i]\n",
    "    values2_sum = values2_sum + cur_value2\n",
    "    i = i + 1\n",
    "\n",
    "values2_average = str(values2_sum / amount_values2)\n",
    "print(\"Average: \" + str(values2_average) + \".\")"
   ]
  },
  {
   "cell_type": "code",
   "execution_count": 56,
   "id": "d329e12d-8838-4b97-8e17-03c731d4b56b",
   "metadata": {},
   "outputs": [
    {
     "name": "stdout",
     "output_type": "stream",
     "text": [
      "Average: 50.0.\n"
     ]
    }
   ],
   "source": [
    "values3 = [1, 66, 81, 18, 95, 61, 60, 91, 24, 50, 10, 38, 13, 99, 76, 68, 48, 75,\n",
    "          5, 16, 53, 37, 77, 70, 4, 89, 72, 26, 35, 22, 82, 30, 78, 59, 2, 84, \n",
    "          52, 20, 28, 19, 79, 97, 90, 73, 69, 46, 33, 58, 32, 98, 39, 57, 71, \n",
    "          44, 96, 3, 8, 25, 67, 83, 62, 36, 63, 42, 86, 31, 17, 51, 93, 65, 56, \n",
    "          45, 47, 88, 94, 7, 9, 43, 12, 55, 15, 23, 85, 87, 74, 40, 64, 27, 41, \n",
    "          54, 49, 21, 34, 14, 11, 92, 80, 29, 6]\n",
    "amount_values3 = len(values3) \n",
    "\n",
    "i = 0\n",
    "values3_sum = 0\n",
    "\n",
    "while i <= amount_values3 - 1:\n",
    "    cur_value3 = values3[i]\n",
    "    values3_sum = values3_sum + cur_value3\n",
    "    i = i + 1\n",
    "\n",
    "values3_average = str(values3_sum / amount_values3)\n",
    "print(\"Average: \" + str(values3_average) + \".\")"
   ]
  },
  {
   "cell_type": "code",
   "execution_count": null,
   "id": "49561e8b-c9ba-4e1d-a374-2972911b708e",
   "metadata": {},
   "outputs": [],
   "source": []
  }
 ],
 "metadata": {
  "kernelspec": {
   "display_name": "Python 3 (ipykernel)",
   "language": "python",
   "name": "python3"
  },
  "language_info": {
   "codemirror_mode": {
    "name": "ipython",
    "version": 3
   },
   "file_extension": ".py",
   "mimetype": "text/x-python",
   "name": "python",
   "nbconvert_exporter": "python",
   "pygments_lexer": "ipython3",
   "version": "3.9.0"
  }
 },
 "nbformat": 4,
 "nbformat_minor": 5
}
