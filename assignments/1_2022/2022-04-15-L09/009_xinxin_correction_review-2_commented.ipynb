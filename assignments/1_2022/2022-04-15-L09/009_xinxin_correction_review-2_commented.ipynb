{
 "cells": [
  {
   "cell_type": "markdown",
   "id": "relative-location",
   "metadata": {},
   "source": [
    "## 第09讲 猜数字(二)作业讲解\n",
    "Lecture09 Assignment Correction for Number Guessing Game(Part 2)"
   ]
  },
  {
   "cell_type": "markdown",
   "id": "0b678b1e-4ee4-4ecb-b4bd-2dbf1f028865",
   "metadata": {},
   "source": [
    "**<span style=\"color:red\">1. The first two points are not bugs, but you made the program more friendly to users, I will give you 2 points for them.</span>**\n",
    "    \n",
    "**<span style=\"color:red\">2. For the third point, I didn't reproduce what you said. I need to verify with you together before I decide If another 5 points will be assigned to you.</span>**\n",
    "\n",
    "Commented by Qiang"
   ]
  },
  {
   "cell_type": "markdown",
   "id": "d12f05dd",
   "metadata": {},
   "source": [
    "### Problem 问题描述"
   ]
  },
  {
   "cell_type": "markdown",
   "id": "c7cd1f0b-8266-49f3-a77e-806bec2c40ce",
   "metadata": {},
   "source": [
    "讲解上一讲作业中出现的问题"
   ]
  },
  {
   "cell_type": "markdown",
   "id": "animated-batch",
   "metadata": {},
   "source": [
    "### Math Background 数学背景\n",
    "\n",
    "N/A"
   ]
  },
  {
   "cell_type": "markdown",
   "id": "sorted-furniture",
   "metadata": {
    "heading_collapsed": true
   },
   "source": [
    "### Prerequisites 预备知识"
   ]
  },
  {
   "cell_type": "markdown",
   "id": "ac3f3f62-7bb0-4f00-9a4e-4085b96c14dd",
   "metadata": {
    "tags": []
   },
   "source": [
    "#### 1. 将一个复杂的大问题按时间次序分解为多个小问题\n",
    "\n",
    "准备猜数字的最大值和猜数字循环是有先后关系相互独立的两个小问题"
   ]
  },
  {
   "cell_type": "code",
   "execution_count": null,
   "id": "3d938538-a354-4d7b-a626-f8934450fa4a",
   "metadata": {},
   "outputs": [],
   "source": [
    "# Milly's\n",
    "from random import randint\n",
    "min_num, max_num = 0, None\n",
    "\n",
    "max_num = int(input(\"Please input the largest possible num:\"))\n",
    "if max_num >= 20 and max_num <= 1000:\n",
    "    pass\n",
    "else:\n",
    "    while max_num < 20 or max_num > 1000:\n",
    "        max_num = int(input(\"你选择的数字不符合要求，重新输入\"))\n",
    "\n",
    "print(\"the max_num we will use is:\", max_num)"
   ]
  },
  {
   "cell_type": "code",
   "execution_count": null,
   "id": "c27f82d7-c6d6-423f-bfc6-67d9de42a2d6",
   "metadata": {},
   "outputs": [],
   "source": [
    "# Mine\n",
    "from random import randint\n",
    "min_num, max_num = 0, None\n",
    "\n",
    "max_num = int(input(\"Please input the largest possible num:\"))\n",
    "while max_num < 20 or max_num > 1000:\n",
    "    max_num = int(input(\"你选择的数字不符合要求，重新输入\"))\n",
    "\n",
    "print(\"the max_num we will use is:\", max_num)"
   ]
  },
  {
   "cell_type": "markdown",
   "id": "272e3618-d70a-41c9-b440-a5437de0a7cd",
   "metadata": {},
   "source": [
    "`pass` as a placeholder `pass`作为占位符使用，它构成一行代码，但这行代码不做有实际意义的事情"
   ]
  },
  {
   "cell_type": "code",
   "execution_count": null,
   "id": "42c70f6a-2475-4867-acdf-8104d7c1b5bc",
   "metadata": {},
   "outputs": [],
   "source": [
    "if max_num >= 20:\n",
    "    # TODO\n",
    "    pass\n",
    "else:\n",
    "    # TODO\n",
    "    pass"
   ]
  },
  {
   "cell_type": "markdown",
   "id": "1aa1ae10-9e7e-4204-a57f-c6db8a4b9a23",
   "metadata": {},
   "source": [
    "#### 2. 流程图介绍和初步绘制\n",
    "\n",
    "以上一讲第3题作业为例简单介绍流程图"
   ]
  },
  {
   "cell_type": "code",
   "execution_count": null,
   "id": "4c8e801f-92ab-4458-b010-02266c5a15b9",
   "metadata": {},
   "outputs": [],
   "source": [
    "#\n",
    "times = 3\n",
    "code = \"bye\"\n",
    "codes = [\"I don't want to play anymore\", \n",
    "         \"I quit\", \"My mom called me home for dinner\", \n",
    "         \"Bye\", \n",
    "         \"bye\", \n",
    "         \"不玩了\", \n",
    "         \"不猜了\", \n",
    "         \"我妈喊我回家吃饭了\"\n",
    "        ]\n",
    "confirm_quit_codes = [\"yes\",\"Yes\",\"是\",\"真的不想猜了\"]\n",
    "\n",
    "if code in codes:\n",
    "    # times == 0:                     # print(\"一次都没猜呢，确定不玩了？\")\n",
    "    # times > 0 and times < 3         # print(\"只猜了{}次，确定不玩了?\"\n",
    "    # times >= 3                      # 退出\n"
   ]
  },
  {
   "cell_type": "markdown",
   "id": "62c3bd1a-f66d-41e2-ad35-3344b36d1390",
   "metadata": {
    "tags": []
   },
   "source": [
    "#### 3. 处理2个以上可能性的条件判断\n",
    "\n",
    "以要生成的数在20-1000之间为例介绍：\n",
    "1. 如何使用`if`嵌套来考虑所有可能性\n",
    "2. 使用`and`和`or`的\n",
    "3. 使用`elif`\n",
    "\n"
   ]
  },
  {
   "cell_type": "code",
   "execution_count": null,
   "id": "83a46482-a0cc-48f7-a787-23c925f09acf",
   "metadata": {},
   "outputs": [],
   "source": [
    "# Xinxin's if 嵌套 if\n",
    "from random import randint\n",
    "min_num, max_num = 0, None\n",
    "\n",
    "max_num = int(input(\"Please input the largest possible num:\"))\n",
    "while True:\n",
    "    if max_num < 20:\n",
    "        print(\"对不起，数字太小了。再输入一个吧!\")\n",
    "        max_num = int(input(\"我选的数字，最高可以是几？\"))\n",
    "    else:\n",
    "        if max_num > 1000:\n",
    "            print(\"对不起，数字太大了。再输入一个吧!\")\n",
    "            max_num = int(input(\"我选的数字，最高可以是几？\"))\n",
    "        else:\n",
    "            break\n",
    "\n",
    "print(\"the max_num we will use is:\", max_num)"
   ]
  },
  {
   "cell_type": "code",
   "execution_count": null,
   "id": "50d6cbbe-2632-4272-b2a3-964d8e5b089f",
   "metadata": {},
   "outputs": [],
   "source": [
    "# Another use and \n",
    "from random import randint\n",
    "min_num, max_num = 0, None\n",
    "\n",
    "max_num = int(input(\"Please input the largest possible num:\"))\n",
    "while True:\n",
    "    if max_num >= 20 and max_num <= 1000:\n",
    "        break        \n",
    "    else:\n",
    "        max_num = int(input(\"重新输入\"))\n",
    "\n",
    "print(\"the max_num we will use is:\", max_num)"
   ]
  },
  {
   "cell_type": "code",
   "execution_count": null,
   "id": "d9191e6e-5a2d-4f76-83d4-1f680a803f11",
   "metadata": {},
   "outputs": [],
   "source": [
    "# Use or\n",
    "from random import randint\n",
    "min_num, max_num = 0, None\n",
    "\n",
    "max_num = int(input(\"Please input the largest possible num:\"))\n",
    "while True:\n",
    "    if max_num < 20 or max_num > 1000:\n",
    "        max_num = int(input(\"重新输入\"))\n",
    "    else:\n",
    "        break       \n",
    "\n",
    "print(\"the max_num we will use is:\", max_num)"
   ]
  },
  {
   "cell_type": "code",
   "execution_count": null,
   "id": "bdf171c4-72b9-4ee8-a4a2-f72cb4e06f3f",
   "metadata": {},
   "outputs": [],
   "source": [
    "# Use if ... elif ... else ...\n",
    "from random import randint\n",
    "min_num, max_num = 0, None\n",
    "\n",
    "max_num = int(input(\"Please input the largest possible num:\"))\n",
    "while True:\n",
    "    if max_num < 20:\n",
    "        print(\"对不起，数字太小了。再输入一个吧!\")\n",
    "        max_num = int(input(\"我选的数字，最高可以是几？\"))\n",
    "    elif max_num > 1000:\n",
    "            print(\"对不起，数字太大了。再输入一个吧!\")\n",
    "            max_num = int(input(\"我选的数字，最高可以是几？\"))\n",
    "    else:\n",
    "        pass\n",
    "        break\n",
    "\n",
    "print(\"the max_num we will use is:\", max_num)"
   ]
  },
  {
   "cell_type": "markdown",
   "id": "d87bbf94-3fcf-4a09-b48e-cab8ceb72604",
   "metadata": {},
   "source": [
    "注意：\n",
    "1. `else`和`elif`一定要有一个`if`与之对应，相反`if`可以没有`else`，\n",
    "2. 当在某一个条件下什么事情都不做的时候，可以使用`pass`语句"
   ]
  },
  {
   "cell_type": "code",
   "execution_count": null,
   "id": "f19ea7fa-dee9-4d24-89b1-3af2e1e432c3",
   "metadata": {},
   "outputs": [],
   "source": [
    "max_num = 10\n",
    "elif max_num >20:\n",
    "    print(\"max num>20\")\n",
    "    "
   ]
  },
  {
   "cell_type": "code",
   "execution_count": null,
   "id": "29165938-b501-4890-9f8b-035603ed1454",
   "metadata": {},
   "outputs": [],
   "source": [
    "max_num = 10\n",
    "else max_num >20:\n",
    "    print(\"max num>20\")"
   ]
  },
  {
   "cell_type": "code",
   "execution_count": null,
   "id": "184057de-e1f7-4e3d-809a-5c1d2afa8a32",
   "metadata": {},
   "outputs": [],
   "source": [
    "max_num = 30\n",
    "if max_num >20:\n",
    "    print(\"max num>20\")"
   ]
  },
  {
   "cell_type": "markdown",
   "id": "3e181809-8766-4451-81bd-92d5d9ee2beb",
   "metadata": {},
   "source": [
    "#### 4. 在`while`循环中接受输入的两种常用代码编写方式\n",
    "\n",
    "1. 先在进入`while`循环前提供一次输入机会，进入循环内部先判断输入，根据输入执行相应的代码；最后在循环内部末尾再提供一次输入的机会\n",
    "2. 直接进入`while`循环，在循环的一开始提供一次输入机会，随后判断，根据输入执行相应的代码；"
   ]
  },
  {
   "cell_type": "code",
   "execution_count": null,
   "id": "3f860f77-fcf4-4b30-950d-2d737999cff9",
   "metadata": {},
   "outputs": [],
   "source": [
    "from random import randint\n",
    "min_num, max_num = 0, None\n",
    "\n",
    "max_num = int(input(\"Please input the largest possible num:\"))\n",
    "while True:\n",
    "    if max_num >= 20 and max_num <= 1000:\n",
    "        break        \n",
    "    max_num = int(input(\"重新输入\"))\n",
    "\n",
    "print(\"the max_num we will use is:\", max_num)"
   ]
  },
  {
   "cell_type": "code",
   "execution_count": null,
   "id": "bf03bdce-395b-49e1-8da2-4ddb10f7a80c",
   "metadata": {},
   "outputs": [],
   "source": [
    "from random import randint\n",
    "min_num, max_num = 0, None\n",
    "\n",
    "while True:  \n",
    "    max_num = int(input(\"Please input the largest possible num:\")) \n",
    "    if max_num >= 20 and max_num <= 1000:\n",
    "        break        \n",
    "    \n",
    "print(\"the max_num we will use is:\", max_num)"
   ]
  },
  {
   "cell_type": "markdown",
   "id": "2686188f-4dad-41e6-8db8-8e04c57385df",
   "metadata": {},
   "source": [
    "#### 5. 如何测试一段程序\n",
    "\n",
    "1. 考虑程序可能进入的不同执行路径\n",
    "2. 为不同路径准备测试数据\n",
    "3. 执行程序，观察分析程序输出\n",
    "4. 修改程序代码以符合设计要求并再次测试"
   ]
  },
  {
   "cell_type": "markdown",
   "id": "d55f37d9",
   "metadata": {},
   "source": [
    "### Solution 编程求解\n",
    "\n",
    "上一讲所有完善猜数字游戏的作业整合在一起的代码"
   ]
  },
  {
   "cell_type": "code",
   "execution_count": null,
   "id": "e3d94e2f-6595-4505-8206-6e273626fd7f",
   "metadata": {},
   "outputs": [],
   "source": [
    "from random import randint\n",
    "min_num, max_num = 0, None\n",
    "\n",
    "# codes 是一个 code 的复数形式\n",
    "codes = [\"I don't want to play anymore\", \n",
    "         \"I quit\", \"My mom called me home for dinner\", \n",
    "         \"Bye\", \n",
    "         \"bye\", \n",
    "         \"不玩了\", \n",
    "         \"不猜了\", \n",
    "         \"我妈喊我回家吃饭了\"\n",
    "        ]\n",
    "\n",
    "confirm_quit_codes = [\"yes\",\"Yes\",\"是\",\"真的不想猜了\"]\n",
    "need_hint_codes = [\"yes\", \"Yes\", \"是\"]\n",
    "\n",
    "print(\"我是你的小助手，我想和你玩一个猜数字的游戏。\")\n",
    "max_num = int(input(\"由你来确定要猜的数字的最大可能的值(20-1000之间):\"))\n",
    "while True:\n",
    "    if max_num >= 20 and max_num <= 1000:\n",
    "        print(\"你输入的数字符合要求，就用它了\")\n",
    "        break\n",
    "\n",
    "    max_num = int(input(\"你输入的数字不在范围内，重新输入最大的数字：\"))\n",
    "\n",
    "need_hint = input(\"是否需要每次猜错后给提示?\")\n",
    "if need_hint in need_hint_codes:\n",
    "    need_hint = 1\n",
    "    print(\"你猜错会告诉你猜大了还是猜小了\")\n",
    "else:\n",
    "    need_hint = 0\n",
    "    print(\"猜错了不会给提示\")\n",
    "    \n",
    "print(\"我会从{}-{}之间随便挑出一个数字，你可以反复猜直到才对为止\".format(min_num, max_num))\n",
    "print(\"如果你不想猜了，可以在输数字的地方输入下面任意一句，我就知道你不想玩了。\")\n",
    "print(codes)\n",
    "num_computer_generated = randint(min_num, max_num)\n",
    "your_guess = input(\"我选好了，现在你来猜吧({}-{}):\".format(min_num, max_num))\n",
    "time_guessed = 0\n",
    "while True:\n",
    "    if your_guess in codes:       # 不想玩了\n",
    "        prompt = \"\"\n",
    "        if time_guessed < 3:\n",
    "            prompt = \"你才猜了{}次，不想猜了？\".format(time_guessed)\n",
    "            if time_guessed == 0:\n",
    "                prompt = \"你还没有猜呢就想玩了?\"\n",
    "            confirm = input(prompt)\n",
    "            if confirm in confirm_quit_codes:\n",
    "                break\n",
    "        else:        \n",
    "            print(\"很遗憾，你没有猜出来，下次再玩吧。\")\n",
    "            break\n",
    "    \n",
    "    else:\n",
    "        num_you_guessed = int(your_guess)                 # 尝试把你的输入变成一个数字\n",
    "        time_guessed += 1\n",
    "        if num_you_guessed == num_computer_generated:\n",
    "            print(\"恭喜你，你猜对了。\")\n",
    "            break\n",
    "        else:\n",
    "            prompt2 = \"没猜对\"\n",
    "            if need_hint == 1:\n",
    "                if num_you_guessed < num_computer_generated:\n",
    "                    prompt2 = \"没猜对,你猜的数字小了\"\n",
    "                else:\n",
    "                    prompt2 = \"没猜对，你猜的数字大了\"\n",
    "            print(prompt2)            \n",
    "        \n",
    "    your_guess = input(\"继续猜:\")\n",
    "    \n",
    "print(\"猜数字游戏结束。你一共猜了{}次\".format(time_guessed))"
   ]
  },
  {
   "cell_type": "markdown",
   "id": "4ccd30bd-2e19-43bf-8150-e45a03299081",
   "metadata": {},
   "source": [
    "**测试上面的程序**\n",
    "1. 准备测试数据需要考虑的几个方面\n",
    "    - max_num 的几种可能性代表：0，<20, 20, >20 and <1000, 1000, >1000\n",
    "    - 是否需要提示的输入的可能性代表：'yes', 'no', 'other string'\n",
    "    - 猜数字时各种输入的可能性代表：'bye', '不猜了', 要猜的数字\n",
    "    - 输入是否确认退出的可能性代表代表：'是', 'yes', 'no', other"
   ]
  },
  {
   "cell_type": "markdown",
   "id": "4abf428a-de54-49a0-b367-efc693102d4a",
   "metadata": {},
   "source": [
    "2. 准备测试数据(部分)\n",
    "    - 确定max_num时输入0, 是否需要提示时输入:yes, 猜数字输入: bye, 确认退出时输入:yes\n",
    "    - 确定max_num时输入0, 是否需要提示时输入:yes, 猜数字输入: bye, 确认退出时输入:no\n",
    "    - 确定max_num时输入0, 是否需要提示时输入:yes, 猜数字输入: bye, 确认退出时输入:no\n",
    "    - 其它。    "
   ]
  },
  {
   "cell_type": "markdown",
   "id": "c80652f4-71eb-453f-9926-6f6e2e620b85",
   "metadata": {},
   "source": [
    "3. 准备测试数据有时候是需要很长时间的，因此可以编写程序来生成测试数据甚至是编写程序来测试程序"
   ]
  },
  {
   "cell_type": "code",
   "execution_count": null,
   "id": "cd4226dc-7388-4775-be44-2c9f45087a3e",
   "metadata": {},
   "outputs": [],
   "source": []
  },
  {
   "cell_type": "markdown",
   "id": "latest-contamination",
   "metadata": {},
   "source": [
    "### Summary 知识点小结"
   ]
  },
  {
   "cell_type": "markdown",
   "id": "22d2fbb7-3c91-4542-ada1-37dc12dca7b9",
   "metadata": {},
   "source": [
    "1. 尝试将复杂问题分解为单独小问题的，尝试绘制流程图培养较为严密的逻辑思维能力\n",
    "2. 初步了解`if`条件语句的几种变化形式，`else`和`elif`不能单独出现，`pass`是一句什么都不做的语句\n",
    "3. 初步了解`and`和`or`构成复杂的条件判断\n",
    "4. 理解`while`循环在实际使用中的两种范式\n",
    "5. 初步了解如何测试编写的程序"
   ]
  },
  {
   "cell_type": "markdown",
   "id": "bizarre-assurance",
   "metadata": {},
   "source": [
    "### 计算机小知识"
   ]
  },
  {
   "cell_type": "markdown",
   "id": "92100f08",
   "metadata": {},
   "source": [
    "当你写出一段程序，它可以运行，但执行的过程和结果也许并不符合预期，此时我们认为这段程序出现了\"bug\"。程序中出现\"bug\"是编写和运行计算机程序中非常常见的现象。Bug有时候很隐蔽，不容易被发现，这个时候我们需要通过准备不同的测试场景数据多次测试。发现了Bug需要把它从计算机程序中去除，这个过程称为\"Debug\"。Debug有的时候是一件非常耗时的事情，一些情况下寻求他人帮助也是Debug的一个好办法。"
   ]
  },
  {
   "cell_type": "markdown",
   "id": "digital-consensus",
   "metadata": {
    "heading_collapsed": true
   },
   "source": [
    "### Assignments 作业"
   ]
  },
  {
   "cell_type": "markdown",
   "id": "b7e1d10a-0f5c-4c9a-9616-4a3be7417db0",
   "metadata": {},
   "source": [
    "1. Test the solution code given in this lecture, and if a bug is found, 5 points will be awarded on the basis of the previous homework score, and the score of the previous homework after adding points should not exceed 110 points. You need to prepare appropriate test data for each possible situation, and note whether all data and program operations you use for testing are as expected.\n",
    "\n",
    "    测试本讲给出的solution代码，发现一个bug则在上期作业评分的基础上奖励5分，加分后的上一期作业得分不超过110分。要求，你必须为每一种可能的情况准备恰当的测试数据，并将你测试用的所有数据和程序运行是否符合预期记录下来。"
   ]
  },
  {
   "cell_type": "code",
   "execution_count": null,
   "id": "a39db5eb-badc-497a-999d-5a6885f7b7cb",
   "metadata": {},
   "outputs": [],
   "source": [
    "from random import randint\n",
    "min_num, max_num = 0, None\n",
    "\n",
    "codes = [\"I don't want to play anymore\", \n",
    "         \"I quit\", \"My mom called me home for dinner\", \n",
    "         \"Bye\", \n",
    "         \"bye\", \n",
    "         \"不玩了\", \n",
    "         \"不猜了\", \n",
    "         \"我妈喊我回家吃饭了\"\n",
    "        ]\n",
    "\n",
    "confirm_quit_codes = [\"yes\",\"Yes\",\"是\",\"真的不想猜了\"]\n",
    "need_hint_codes = [\"yes\", \"Yes\", \"是\"]\n",
    "not_need_hint = [\"no\", \"No\", \"不\"]\n",
    "\n",
    "print(\"我是你的小助手，我想和你玩一个猜数字的游戏。\")\n",
    "max_num = int(input(\"由你来确定要猜的数字的最大可能的值(20-1000之间):\"))\n",
    "\n",
    "while True:\n",
    "    if max_num >= 20 and max_num <= 1000:\n",
    "        print(\"你输入的数字符合要求，就用它了\")\n",
    "        break\n",
    "\n",
    "    max_num = int(input(\"你输入的数字不在范围内，重新输入最大的数字：\"))\n",
    "    \n",
    "need_hint = input(\"是否需要每次猜错后给提示?\")\n",
    "\n",
    "while True:\n",
    "        if need_hint in need_hint_codes:\n",
    "            need_hint = 1\n",
    "            print(\"你猜错会告诉你猜大了还是猜小了\")\n",
    "            break\n",
    "        else:\n",
    "            if need_hint in not_need_hint:       \n",
    "                need_hint = 0\n",
    "                print(\"猜错了不会给提示\")\n",
    "                break\n",
    "            else:\n",
    "                need_hint = input(\"对不起，我不知道你是什么意思。在输入一遍吧\")\n",
    "    \n",
    "print(\"我会从{}-{}之间随便挑出一个数字，你可以反复猜直到才对为止\".format(min_num, max_num))\n",
    "print(\"如果你不想猜了，可以在输数字的地方输入下面任意一句，我就知道你不想玩了。\")\n",
    "print(codes)\n",
    "num_computer_generated = randint(min_num, max_num)\n",
    "your_guess = input(\"我选好了，现在你来猜吧({}-{}):\".format(min_num, max_num))\n",
    "time_guessed = 0\n",
    "while True:\n",
    "    if your_guess in codes: \n",
    "        prompt = \"\"\n",
    "        if time_guessed < 3:\n",
    "            prompt = \"你才猜了{}次，不想猜了？\".format(time_guessed)\n",
    "            if time_guessed == 0:\n",
    "                prompt = \"你还没有猜呢就想玩了?\"\n",
    "            confirm = input(prompt)\n",
    "            if confirm in confirm_quit_codes:\n",
    "                break\n",
    "        else:        \n",
    "            print(\"很遗憾，你没有猜出来，下次再玩吧。\")\n",
    "            break\n",
    "    \n",
    "    else:\n",
    "        num_you_guessed = int(your_guess)  \n",
    "        time_guessed += 1\n",
    "        if num_you_guessed == num_computer_generated:\n",
    "            print(\"恭喜你，你猜对了。\")\n",
    "            break\n",
    "        else:\n",
    "            prompt2 = \"没猜对\"\n",
    "            if need_hint == 1:\n",
    "                if num_you_guessed < num_computer_generated:\n",
    "                    prompt2 = \"没猜对,你猜的数字小了\"\n",
    "                    print(prompt2)\n",
    "                else:\n",
    "                    if num_you_guessed > max_num:\n",
    "                        your_guess = input(\"继续猜，你刚刚猜的数字都比最大的数字还要大了:\")\n",
    "                    else:\n",
    "                        prompt2 = \"没猜对，你猜的数字大了\"\n",
    "                        print(prompt2)            \n",
    "        \n",
    "    your_guess = input(\"继续猜:\")\n",
    "    \n",
    "print(\"猜数字游戏结束。你一共猜了{}次\".format(time_guessed))"
   ]
  },
  {
   "cell_type": "code",
   "execution_count": null,
   "id": "3e21458f-48b2-428e-8539-45e7b27e5d88",
   "metadata": {},
   "outputs": [],
   "source": [
    "# first bug:\n",
    "# when asked whether or not the player would like a hint, if the player inputs something random it will automatically\n",
    "# be interpreted as no hints. Edited it, now will ask the player to re-enter if is not something interpretable by the computer\n",
    "\n",
    "# second:\n",
    "# I'm not sure if this counts but if I insert the limit, to, let's say 21, when I guess a number higher than 21, it will\n",
    "# just say the number is too big. Edited it, now it make the player; 1, ask again, and 2, tell the player it is\n",
    "# not within the boundary.\n",
    "\n",
    "# third:\n",
    "# this is a really big problem. If you start off guessing 1 and then going up, it will not give you ANY hints\n",
    "# even if you chose yes to hints at the very beginning! I added the prompt in the \"if\". Now it will give you hints."
   ]
  },
  {
   "cell_type": "markdown",
   "id": "052d5137-ba43-492a-8b93-3fab8f4b9fff",
   "metadata": {},
   "source": [
    "2. Review Lecture 1-8, and prepare for next week's Mid-term exam on class\n",
    "\n",
    "    复习所有第1-8讲的内容，准备下周的其中考试"
   ]
  },
  {
   "cell_type": "code",
   "execution_count": null,
   "id": "64700bc5-cdf9-4113-81d5-142f6fb20481",
   "metadata": {},
   "outputs": [],
   "source": [
    "# Complete"
   ]
  }
 ],
 "metadata": {
  "kernelspec": {
   "display_name": "Python 3 (ipykernel)",
   "language": "python",
   "name": "python3"
  },
  "language_info": {
   "codemirror_mode": {
    "name": "ipython",
    "version": 3
   },
   "file_extension": ".py",
   "mimetype": "text/x-python",
   "name": "python",
   "nbconvert_exporter": "python",
   "pygments_lexer": "ipython3",
   "version": "3.9.0"
  }
 },
 "nbformat": 4,
 "nbformat_minor": 5
}
