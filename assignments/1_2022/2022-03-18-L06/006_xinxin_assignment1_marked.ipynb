{
 "cells": [
  {
   "cell_type": "markdown",
   "id": "1a87dae7-b67b-42e5-b0b1-5d8945e09a98",
   "metadata": {},
   "source": [
    "**<span style=\"color:red\">15/25</span>** Marked by Qiang\n",
    "\n",
    "-15 这一题扣分主要在于pencolor的使用不对，正确的使用是`pencolor(\"red\")`。此外正多边形的边长不是题目要求的120；要求不使用`while`循环；没有完全绘制所有正多边形。"
   ]
  },
  {
   "cell_type": "code",
   "execution_count": 1,
   "id": "bae958b7-1cbb-4e6b-9722-87749182e383",
   "metadata": {},
   "outputs": [],
   "source": [
    "#q.1\n",
    "\n",
    "from turtle import setup, reset, bye, pu, pd, bk, fd, left, right, st, ht\n",
    "\n",
    "reset()\n",
    "side = 50\n",
    "half_side = side / 2\n",
    "from turtle import pencolor\n",
    "setup(600, 600, 0, 0)\n",
    "reset()\n",
    "pu()\n",
    "right(90)    \n",
    "fd(200)      \n",
    "left(90)     \n",
    "bk(half_side) \n",
    "pd()"
   ]
  },
  {
   "cell_type": "code",
   "execution_count": 2,
   "id": "4f361a2d-e6c0-4fa7-b531-16a2696299a8",
   "metadata": {},
   "outputs": [],
   "source": [
    "#q.1\n",
    "#regular triangle\n",
    "\n",
    "i = 0                \n",
    "n = 3        \n",
    "degree = 120   #360 divided by amount of sides     \n",
    "\n",
    "while i < n:\n",
    "    pencolor = (\"red\")\n",
    "    fd(side)\n",
    "    left(degree)\n",
    "    i = i + 1"
   ]
  },
  {
   "cell_type": "code",
   "execution_count": 3,
   "id": "e9e86c5a-d4f0-469c-9028-e21d5ef6b6c9",
   "metadata": {},
   "outputs": [],
   "source": [
    "#q.1\n",
    "#square\n",
    "\n",
    "i = 0                \n",
    "n = 4        \n",
    "degree = 90   #360 divided by amount of sides     \n",
    "\n",
    "while i < n:\n",
    "    pencolor = (\"orange\")\n",
    "    fd(side)\n",
    "    left(degree)\n",
    "    i = i + 1"
   ]
  },
  {
   "cell_type": "code",
   "execution_count": 4,
   "id": "cd4fb675-b50e-4683-9028-c1f5f67130c7",
   "metadata": {},
   "outputs": [],
   "source": [
    "#q.1\n",
    "#regular pentagon\n",
    "\n",
    "i = 0                \n",
    "n = 5        \n",
    "degree = 72 #360 divided by amount of sides     \n",
    "\n",
    "while i < n:\n",
    "    pencolor = (\"yellow\")\n",
    "    fd(side)\n",
    "    left(degree)\n",
    "    i = i + 1"
   ]
  },
  {
   "cell_type": "code",
   "execution_count": 5,
   "id": "0b9e171c-5373-4220-a747-c8d840fdb878",
   "metadata": {},
   "outputs": [],
   "source": [
    "#q.1\n",
    "#regular quadrilateral or square\n",
    "\n",
    "i = 0                \n",
    "n = 6        \n",
    "degree = 60   #360 divided by amount of sides     \n",
    "\n",
    "while i < n:\n",
    "    pencolor = (\"green\")\n",
    "    fd(side)\n",
    "    left(degree)\n",
    "    i = i + 1"
   ]
  },
  {
   "cell_type": "code",
   "execution_count": 6,
   "id": "ee814f96-7a93-4190-a9ca-a0f88813db9d",
   "metadata": {},
   "outputs": [],
   "source": [
    "#q.1\n",
    "#regular heptagon\n",
    "\n",
    "i = 0                \n",
    "n = 7       \n",
    "degree = 51.4285714286   #360 divided by amount of sides     \n",
    "\n",
    "while i < n:\n",
    "    pencolor = (\"cyan\")\n",
    "    fd(side)\n",
    "    left(degree)\n",
    "    i = i + 1"
   ]
  },
  {
   "cell_type": "code",
   "execution_count": 7,
   "id": "0d637340-cd01-44b1-98c1-d92e797bd975",
   "metadata": {},
   "outputs": [],
   "source": [
    "#there are more shapes, though I won't code them"
   ]
  },
  {
   "cell_type": "code",
   "execution_count": null,
   "id": "11d0e992-f463-4d7c-a91e-f2788c5d0c55",
   "metadata": {},
   "outputs": [],
   "source": []
  }
 ],
 "metadata": {
  "kernelspec": {
   "display_name": "Python 3 (ipykernel)",
   "language": "python",
   "name": "python3"
  },
  "language_info": {
   "codemirror_mode": {
    "name": "ipython",
    "version": 3
   },
   "file_extension": ".py",
   "mimetype": "text/x-python",
   "name": "python",
   "nbconvert_exporter": "python",
   "pygments_lexer": "ipython3",
   "version": "3.9.0"
  }
 },
 "nbformat": 4,
 "nbformat_minor": 5
}
