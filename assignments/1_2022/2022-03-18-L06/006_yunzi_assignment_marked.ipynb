{
 "cells": [
  {
   "cell_type": "markdown",
   "id": "2c957f5d",
   "metadata": {},
   "source": [
    "## 第06讲 绘制正多边形（一)\n",
    "Lecture06 Draw Regular Polygons(Part 1)"
   ]
  },
  {
   "cell_type": "markdown",
   "id": "c1654f99-ac7d-4e1f-a753-652c6e00bd7f",
   "metadata": {},
   "source": [
    "**<span style=\"color:red\">90/100</span>** Marked by Qiang\n",
    "\n",
    "整体做得很好。\n",
    "\n",
    "-8：第一题第三题没有按照题目要求设定正多边形的边长。\n",
    "\n",
    "-2: 每新做一题，应调用reset方法来清除上一题的绘图结果"
   ]
  },
  {
   "cell_type": "markdown",
   "id": "bc1e61a6",
   "metadata": {
    "jp-MarkdownHeadingCollapsed": true,
    "tags": []
   },
   "source": [
    "### Problem 问题\n",
    "\n",
    "Use the methods in the `turtle` module to draw step by step as follows: 使用`turtle`模块里的方法按步骤绘制：\n",
    "\n",
    "1. Open a window(draw area) with both width and height 600; 打开宽高均为600的绘图窗口；\n",
    "2. Reset to make the turtle at the center and heading right; 重置海龟使其位于绘图区中央并朝向右侧；\n",
    "3. Lift up the pen; 抬起绘图笔；\n",
    "4. Move turtle 200 right and 60 backward to its current position(center of the draw area), keep the turtle heading right; 将海龟移动至当前位置(绘图区中央）的正右侧200和正后方60的位置，保持海龟仍然朝向右侧；\n",
    "5. Put down the pen, start to Draw; 放下绘图笔，准备绘图；\n",
    "6. Use **<span style=\"color:red\">red</span>** color, repeat **3** times: move forward 120, turn **120** degrees to left; 使用红色画笔，重复3次: 向前移动120后向左转120度；\n",
    "7. Use **<span style=\"color:orange\">orange</span>** color, repeat **4** times: move forward 120, turn **90** degrees to left; 使用橙色画笔，重复4次: 向前移动120后向左转90度；\n",
    "8. Use **<span style=\"color:yellow\">yellow</span>** color, repeat **5** times: move forward 120, turn **72** degrees to left; 使用黄色画笔，重复5次: 向前移动120后向左转72度；\n",
    "9. Use **<span style=\"color:green\">green</span>** color, repeat **6** times: move forward 120, turn **60** degrees to left; 使用绿色画笔，重复6次: 向前移动120后向左转60度；\n",
    "10. Use **<span style=\"color:cyan\">cyan</span>** color, repeat **7** times: move forward 120, turn **51.42857** degrees to left; 使用青色画笔，重复7次: 向前移动120后向左转51.42857度；\n",
    "11. Use **<span style=\"color:blue\">blue</span>** color, repeat **8** times: move forward 120, turn **45** degrees to left; 使用蓝色画笔，重复8次: 向前移动120后向左转45度；\n",
    "12. Use **<span style=\"color:purple\">purple</span>** color, repeat **9** times: move forward 120, turn **40** degrees to left; 使用紫色画笔，重复9次: 向前移动120后向左转40度；\n",
    "13. Use **<span style=\"color:black\">black</span>** color, repeat **10** times: move forward 120, turn **36** degrees to left; 使用黑色画笔，重复10次: 向前移动120后向左转36度；\n",
    "14. Hide turtle. 隐藏海龟图标。\n",
    "\n",
    "Finally, you will be get a figure like the following:\n",
    "\n",
    "<img src=\"figures/L006_01_regular_polygons.png\" width = 500>\n",
    "\n",
    "The figures drawn in turn are: regular triangle, regular quadrilateral (square), regular pentagon, regular hexagon, regular heptagon, regular octagon, regular nonagon, and regular decagon. 依次绘制出来的图形分别为：正三角形、正四边形（正方形）、正五边形、正六边形、正七边形、正八边形、正九边形、和正十边形。\n",
    "\n",
    "For each regular polygon, calculate the product of the number of sides and the angle of each turn. 对于每一个正多边形，计算边的数量和每一次转的角度的乘积。Take regular triangle as an example, the product is 3 * 120 = 360, where 3 is the number of sides(edges) and 120 is the degrees of each left turn。以正三角形为例，它的边数为3，每一次转120度，两者的乘积是3*120=360度。"
   ]
  },
  {
   "cell_type": "markdown",
   "id": "1b8b4d69",
   "metadata": {
    "tags": []
   },
   "source": [
    "### Assignments 作业"
   ]
  },
  {
   "cell_type": "markdown",
   "id": "5b14059c",
   "metadata": {},
   "source": [
    "1. 在不使用循环语句的条件下，按照要求一步一步完成本讲示例的编程，最终在绘图窗口里绘制出同样的正三、四、...、十边形。"
   ]
  },
  {
   "cell_type": "code",
   "execution_count": null,
   "id": "59c2d69e",
   "metadata": {},
   "outputs": [],
   "source": [
    "from turtle import setup, reset, pu, pd, bye, left, right, fd, bk, ht, pencolor\n",
    "setup(600, 600, 8, 2)\n",
    "reset()\n",
    "side = 10\n",
    "half_side = side / 2\n",
    "pu()\n",
    "right(90)\n",
    "fd(200)\n",
    "left(90)\n",
    "bk(half_side)\n",
    "pd()\n"
   ]
  },
  {
   "cell_type": "code",
   "execution_count": null,
   "id": "9eb2270b",
   "metadata": {},
   "outputs": [],
   "source": [
    "pencolor(\"red\")\n",
    "degree = 120\n",
    "fd(side)\n",
    "left(degree)\n",
    "fd(side)\n",
    "left(degree)\n",
    "fd(side)\n",
    "left(degree)\n",
    "fd(side)"
   ]
  },
  {
   "cell_type": "code",
   "execution_count": null,
   "id": "f3be3d5d",
   "metadata": {},
   "outputs": [],
   "source": [
    "pencolor(\"orange\")\n",
    "degree = 90\n",
    "left(degree)\n",
    "fd(side)\n",
    "left(degree)\n",
    "fd(side)\n",
    "left(degree)\n",
    "fd(side)\n",
    "left(degree)\n",
    "fd(side)"
   ]
  },
  {
   "cell_type": "code",
   "execution_count": null,
   "id": "d4022712",
   "metadata": {},
   "outputs": [],
   "source": [
    "pencolor(\"yellow\")\n",
    "degree = 72\n",
    "left(degree)\n",
    "fd(side)\n",
    "left(degree)\n",
    "fd(side)\n",
    "left(degree)\n",
    "fd(side)\n",
    "left(degree)\n",
    "fd(side)\n",
    "left(degree)\n",
    "fd(side)"
   ]
  },
  {
   "cell_type": "code",
   "execution_count": null,
   "id": "ee6c881b",
   "metadata": {},
   "outputs": [],
   "source": [
    "pencolor(\"green\")\n",
    "degree = 60\n",
    "left(degree)\n",
    "fd(side)\n",
    "left(degree)\n",
    "fd(side)\n",
    "left(degree)\n",
    "fd(side)\n",
    "left(degree)\n",
    "fd(side)\n",
    "left(degree)\n",
    "fd(side)\n",
    "left(degree)\n",
    "fd(side)"
   ]
  },
  {
   "cell_type": "code",
   "execution_count": null,
   "id": "f9bec01c",
   "metadata": {},
   "outputs": [],
   "source": [
    "pencolor(\"cyan\")\n",
    "degree = 51.42857\n",
    "left(degree)\n",
    "fd(side)\n",
    "left(degree)\n",
    "fd(side)\n",
    "left(degree)\n",
    "fd(side)\n",
    "left(degree)\n",
    "fd(side)\n",
    "left(degree)\n",
    "fd(side)\n",
    "left(degree)\n",
    "fd(side)\n",
    "left(degree)\n",
    "fd(side)"
   ]
  },
  {
   "cell_type": "code",
   "execution_count": null,
   "id": "0aadad84",
   "metadata": {},
   "outputs": [],
   "source": [
    "pencolor(\"blue\")\n",
    "degree = 45\n",
    "left(degree)\n",
    "fd(side)\n",
    "left(degree)\n",
    "fd(side)\n",
    "left(degree)\n",
    "fd(side)\n",
    "left(degree)\n",
    "fd(side)\n",
    "left(degree)\n",
    "fd(side)\n",
    "left(degree)\n",
    "fd(side)\n",
    "left(degree)\n",
    "fd(side)\n",
    "left(degree)\n",
    "fd(side)"
   ]
  },
  {
   "cell_type": "code",
   "execution_count": null,
   "id": "9ba5b795",
   "metadata": {},
   "outputs": [],
   "source": [
    "pencolor(\"purple\")\n",
    "degree = 40\n",
    "left(degree)\n",
    "fd(side)\n",
    "left(degree)\n",
    "fd(side)\n",
    "left(degree)\n",
    "fd(side)\n",
    "left(degree)\n",
    "fd(side)\n",
    "left(degree)\n",
    "fd(side)\n",
    "left(degree)\n",
    "fd(side)\n",
    "left(degree)\n",
    "fd(side)\n",
    "left(degree)\n",
    "fd(side)\n",
    "left(degree)\n",
    "fd(side)"
   ]
  },
  {
   "cell_type": "code",
   "execution_count": null,
   "id": "2325737c",
   "metadata": {},
   "outputs": [],
   "source": [
    "pencolor(\"black\")\n",
    "degree = 36\n",
    "left(degree)\n",
    "fd(side)\n",
    "left(degree)\n",
    "fd(side)\n",
    "left(degree)\n",
    "fd(side)\n",
    "left(degree)\n",
    "fd(side)\n",
    "left(degree)\n",
    "fd(side)\n",
    "left(degree)\n",
    "fd(side)\n",
    "left(degree)\n",
    "fd(side)\n",
    "left(degree)\n",
    "fd(side)\n",
    "left(degree)\n",
    "fd(side)\n",
    "left(degree)\n",
    "fd(side)"
   ]
  },
  {
   "cell_type": "markdown",
   "id": "4b9e14d0",
   "metadata": {},
   "source": [
    "2. 思考并用文字回答在绘制某一个正多边形的时候，为什么小海龟每次绘制的边的长度相同，每次转的度数也相同？如果改变海龟每次绘制的边长或者（和）改变每次转动的角度，那么还能绘制出正多边形吗？"
   ]
  },
  {
   "cell_type": "code",
   "execution_count": null,
   "id": "9596396d",
   "metadata": {},
   "outputs": [],
   "source": [
    "# 不能，因为如果改变海龟每次绘制的边长或者改变每次转动的角度，那就会因为值不一样而无法首尾相连。"
   ]
  },
  {
   "cell_type": "markdown",
   "id": "cfb8b0fc",
   "metadata": {},
   "source": [
    "3. 仿照本讲示例，绘制边长为50的**正二十边形**。海龟起始点同本讲示例。颜色任选。"
   ]
  },
  {
   "cell_type": "code",
   "execution_count": null,
   "id": "d8aea0a2",
   "metadata": {},
   "outputs": [],
   "source": [
    "i = 0\n",
    "n = 20\n",
    "degree = 18\n",
    "\n",
    "while i < n:\n",
    "    fd(side)\n",
    "    left(degree)\n",
    "    i = i + 1"
   ]
  },
  {
   "cell_type": "markdown",
   "id": "a534a992",
   "metadata": {},
   "source": [
    "4. 仿照本讲示例，绘制边长为10的**正一百边形**。通过修改刚开始绘图时海龟的位置，使得绘制的正一百边形在绘图区域**左右**居中，颜色任选。"
   ]
  },
  {
   "cell_type": "code",
   "execution_count": null,
   "id": "191a3681",
   "metadata": {},
   "outputs": [],
   "source": [
    "i = 0\n",
    "n = 100\n",
    "degree = 3.6\n",
    "\n",
    "while i < n:\n",
    "    fd(side)\n",
    "    left(degree)\n",
    "    i = i + 1"
   ]
  },
  {
   "cell_type": "code",
   "execution_count": null,
   "id": "988c9045",
   "metadata": {},
   "outputs": [],
   "source": []
  }
 ],
 "metadata": {
  "kernelspec": {
   "display_name": "Python 3 (ipykernel)",
   "language": "python",
   "name": "python3"
  },
  "language_info": {
   "codemirror_mode": {
    "name": "ipython",
    "version": 3
   },
   "file_extension": ".py",
   "mimetype": "text/x-python",
   "name": "python",
   "nbconvert_exporter": "python",
   "pygments_lexer": "ipython3",
   "version": "3.9.0"
  }
 },
 "nbformat": 4,
 "nbformat_minor": 5
}
