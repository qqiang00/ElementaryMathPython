{
 "cells": [
  {
   "cell_type": "markdown",
   "id": "e719cadb-5d08-43ce-a43d-dda2d747672c",
   "metadata": {},
   "source": [
    "**<span style=\"color:red\">87/100</span>** Marked by Qiang\n",
    "\n",
    "最后一题没有按照题目要求来做，题目要求计算周长和面积，备备只计算了两个数的和 :("
   ]
  },
  {
   "cell_type": "code",
   "execution_count": 1,
   "id": "e6774d42",
   "metadata": {},
   "outputs": [],
   "source": [
    "from random import randint"
   ]
  },
  {
   "cell_type": "code",
   "execution_count": 24,
   "id": "30a3d460",
   "metadata": {},
   "outputs": [
    {
     "name": "stdout",
     "output_type": "stream",
     "text": [
      "23\n",
      "54\n",
      "74\n",
      "37\n",
      "91\n",
      "48\n",
      "23\n",
      "42\n",
      "72\n",
      "3\n"
     ]
    }
   ],
   "source": [
    "num1 = randint(1, 100)\n",
    "print(num1)\n",
    "num2 = randint(1, 100)\n",
    "print(num2)\n",
    "num3 = randint(1, 100)\n",
    "print(num3)\n",
    "num4 = randint(1, 100)\n",
    "print(num4)\n",
    "num5 = randint(1, 100)\n",
    "print(num5)\n",
    "num6 = randint(1, 100)\n",
    "print(num6)\n",
    "num7 = randint(1, 100)\n",
    "print(num1)\n",
    "num8 = randint(1, 100)\n",
    "print(num8)\n",
    "num9 = randint(1, 100)\n",
    "print(num9)\n",
    "num10 = randint(1, 100)\n",
    "print(num10)"
   ]
  },
  {
   "cell_type": "code",
   "execution_count": 25,
   "id": "da4b0992",
   "metadata": {},
   "outputs": [
    {
     "data": {
      "text/plain": [
       "467"
      ]
     },
     "execution_count": 25,
     "metadata": {},
     "output_type": "execute_result"
    }
   ],
   "source": [
    "23 + 54 + 74 + 37 + 91 + 48 + 23 + 42 + 72 +3  # -1 需要避免直接使用数字，用变量名num1,num2,...代替\n",
    "                                               # -1 并把结果存放到一个新的变量，例如total里去   "
   ]
  },
  {
   "cell_type": "code",
   "execution_count": 26,
   "id": "b67e5926",
   "metadata": {},
   "outputs": [
    {
     "data": {
      "text/plain": [
       "46.7"
      ]
     },
     "execution_count": 26,
     "metadata": {},
     "output_type": "execute_result"
    }
   ],
   "source": [
    "467/10   # -1， 467需要使用在上一行的代码里创建的变量名(例如total)来代替，10可以直接用数字表示"
   ]
  },
  {
   "cell_type": "code",
   "execution_count": 41,
   "id": "ed948b85",
   "metadata": {},
   "outputs": [
    {
     "name": "stdout",
     "output_type": "stream",
     "text": [
      "0.5280049969284946\n"
     ]
    }
   ],
   "source": [
    "from random import random\n",
    "num1 = random()\n",
    "print(num1)"
   ]
  },
  {
   "cell_type": "code",
   "execution_count": 42,
   "id": "4bb2ad5b",
   "metadata": {},
   "outputs": [
    {
     "name": "stdout",
     "output_type": "stream",
     "text": [
      "我意识到这些都是0什么什么什么。\n"
     ]
    }
   ],
   "source": [
    "print(\"我意识到这些都是0什么什么什么。\"\")   "
   ]
  },
  {
   "cell_type": "code",
   "execution_count": null,
   "id": "436d1c84",
   "metadata": {},
   "outputs": [],
   "source": []
  },
  {
   "cell_type": "code",
   "execution_count": 18,
   "id": "dad535e5",
   "metadata": {},
   "outputs": [
    {
     "name": "stdin",
     "output_type": "stream",
     "text": [
      "first num: 6\n",
      "seconde num: 0\n"
     ]
    },
    {
     "name": "stdout",
     "output_type": "stream",
     "text": [
      "Sorry it is not correct\n"
     ]
    }
   ],
   "source": [
    "num1 = input(\"first num:\")\n",
    "num2 = input(\"seconde num:\")\n",
    "if num2 == \"0\":\n",
    "    print(\"Sorry it is not correct\")\n",
    "else:\n",
    "    num3 = num1 / num2                  # 这里的程序写的不正确\n",
    "    print(num1,\"/\",num2,\"=\",num3)"
   ]
  },
  {
   "cell_type": "code",
   "execution_count": 17,
   "id": "dbfbeacf",
   "metadata": {},
   "outputs": [
    {
     "name": "stdin",
     "output_type": "stream",
     "text": [
      "length: 12\n",
      "width: 12\n"
     ]
    },
    {
     "name": "stdout",
     "output_type": "stream",
     "text": [
      "24\n",
      "12 + 12 = 24\n"
     ]
    }
   ],
   "source": [
    "num1 = input(\"length:\")\n",
    "num2 = input(\"width:\")\n",
    "num3 = int(num1) + int(num2)\n",
    "if num2 == \"0\":\n",
    "    print(\"Sorry it is not correct\")\n",
    "if num1 == \"0\":\n",
    "    print(\"Sorry it is not correct\")\n",
    "else:\n",
    "    print(num1,\"+\",num2,\"=\",num3)"
   ]
  },
  {
   "cell_type": "code",
   "execution_count": 21,
   "id": "217f83f9",
   "metadata": {},
   "outputs": [
    {
     "name": "stdin",
     "output_type": "stream",
     "text": [
      "length: 18\n",
      "width: 14\n"
     ]
    },
    {
     "name": "stdout",
     "output_type": "stream",
     "text": [
      "18 + 14 = 32\n"
     ]
    }
   ],
   "source": [
    "num1 = input(\"length:\")\n",
    "num2 = input(\"width:\")\n",
    "num3 = int(num1) + int(num2)\n",
    "if num2 == \"0\":                    \n",
    "    print(\"Sorry it is not correct\")\n",
    "if num1 == \"0\":\n",
    "    print(\"Sorry it is not correct\")\n",
    "else:\n",
    "    print(num1,\"+\",num2,\"=\",num3)"
   ]
  },
  {
   "cell_type": "code",
   "execution_count": 20,
   "id": "782ac273",
   "metadata": {},
   "outputs": [
    {
     "name": "stdin",
     "output_type": "stream",
     "text": [
      "length: 0\n",
      "width: 4\n"
     ]
    },
    {
     "name": "stdout",
     "output_type": "stream",
     "text": [
      "Sorry it is not correct\n"
     ]
    }
   ],
   "source": [
    "num1 = input(\"length:\")\n",
    "num2 = input(\"width:\")\n",
    "num3 = int(num1) + int(num2)\n",
    "if num2 == \"0\":\n",
    "    print(\"Sorry it is not correct\")\n",
    "if num1 == \"0\":\n",
    "    print(\"Sorry it is not correct\")\n",
    "else:\n",
    "    print(num1,\"+\",num2,\"=\",num3)"
   ]
  },
  {
   "cell_type": "code",
   "execution_count": 28,
   "id": "8ca6b2d0",
   "metadata": {},
   "outputs": [
    {
     "name": "stdin",
     "output_type": "stream",
     "text": [
      "length: 1091\n",
      "width: 0\n"
     ]
    },
    {
     "name": "stdout",
     "output_type": "stream",
     "text": [
      "Sorry it is not correct\n",
      "1091 + 0 = 1091\n"
     ]
    }
   ],
   "source": [
    "num1 = input(\"length:\")\n",
    "num2 = input(\"width:\")\n",
    "num3 = int(num1) + int(num2)\n",
    "if num2 == \"0\":\n",
    "    print(\"Sorry it is not correct\")\n",
    "if num1 == \"0\":\n",
    "    print(\"Sorry it is not correct\")\n",
    "else:\n",
    "    print(num1,\"+\",num2,\"=\",num3)"
   ]
  },
  {
   "cell_type": "code",
   "execution_count": 29,
   "id": "5b30332a",
   "metadata": {},
   "outputs": [
    {
     "name": "stdin",
     "output_type": "stream",
     "text": [
      "length: 0\n",
      "width: 0\n"
     ]
    },
    {
     "name": "stdout",
     "output_type": "stream",
     "text": [
      "Sorry it is not correct\n",
      "Sorry it is not correct\n"
     ]
    }
   ],
   "source": [
    "num1 = input(\"length:\")\n",
    "num2 = input(\"width:\")\n",
    "num3 = int(num1) + int(num2)\n",
    "if num2 == \"0\":\n",
    "    print(\"Sorry it is not correct\")\n",
    "if num1 == \"0\":\n",
    "    print(\"Sorry it is not correct\")\n",
    "else:\n",
    "    print(num1,\"+\",num2,\"=\",num3)"
   ]
  },
  {
   "cell_type": "code",
   "execution_count": null,
   "id": "306f40c5",
   "metadata": {},
   "outputs": [],
   "source": []
  },
  {
   "cell_type": "code",
   "execution_count": null,
   "id": "56a50328-801a-4159-9d3e-da321a7aabcb",
   "metadata": {},
   "outputs": [],
   "source": []
  }
 ],
 "metadata": {
  "kernelspec": {
   "display_name": "Python 3",
   "language": "python",
   "name": "python3"
  },
  "language_info": {
   "codemirror_mode": {
    "name": "ipython",
    "version": 3
   },
   "file_extension": ".py",
   "mimetype": "text/x-python",
   "name": "python",
   "nbconvert_exporter": "python",
   "pygments_lexer": "ipython3",
   "version": "3.8.10"
  }
 },
 "nbformat": 4,
 "nbformat_minor": 5
}
