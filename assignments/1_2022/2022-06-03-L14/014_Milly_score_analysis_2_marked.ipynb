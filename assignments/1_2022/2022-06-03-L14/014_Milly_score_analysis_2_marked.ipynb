{
 "cells": [
  {
   "cell_type": "markdown",
   "id": "relative-location",
   "metadata": {},
   "source": [
    "## 第14讲 分析考试成绩（二）\n",
    "Lecture 14. Analysis Exam Scores(Part 2)"
   ]
  },
  {
   "cell_type": "markdown",
   "id": "66bc5d87-55ac-48a2-a510-bfaf782fa207",
   "metadata": {},
   "source": [
    "**<span style=\"color:red\">90/100</span>** Marked by Qiang\n",
    "\n",
    "第一题没有使用for循环，第一题没有按照题目要求算出最大值最小值\n",
    "\n",
    "第二题做得很好！第二题末尾你的问题老师没有看明白，课堂上再交流"
   ]
  },
  {
   "cell_type": "markdown",
   "id": "d12f05dd",
   "metadata": {},
   "source": [
    "### Problem 问题描述"
   ]
  },
  {
   "cell_type": "markdown",
   "id": "c7cd1f0b-8266-49f3-a77e-806bec2c40ce",
   "metadata": {},
   "source": [
    "Do you remember the math exam paper you designed for a class of a primary school? The lecturer hosted a mid term math exam using the questions you designed for all students in the class. Now their results were released; the scores are:\n",
    "\n",
    "你还记得你为小学某班级设计的数学试卷吗？ 老师使用你设计的题目为班上所有学生举行了数学期中考试。 现在他们的成绩出来了，分别是：\n",
    "```text\n",
    "74, 86, 100, 92, 72, 70, 74, 86, 72, 100, 86, 84, 96, 92, 78, 90, 82, \n",
    "90, 82, 88, 100, 78, 92, 78, 92, 86, 84, 88, 90, 88, 98, 86, 100, 96, \n",
    "96, 94, 54, 90, 100, 78, 100, 98, 84, 100, 78, 86, 98, 88, 94, 88\n",
    "```\n",
    "Please help the lecturer do the following basic analysis of the scores: 请你帮数学老师对考试成绩做下列简单的分析：\n",
    "\n",
    "1. What is the average score of class? 全班的平均成绩是多少？\n",
    "\n",
    "2. What is the highest score? How many students have this highest score? 最高分是多少？有几位同学拿到了这个最高分？\n",
    "\n",
    "3. What is the lowest score? How many students have this lowest score? 最低分是多少？有几位同学的成绩是这个最低分？\n",
    "\n",
    "4. How many students have scores below the average one? 有多少位同学的成绩是在平均成绩以下？"
   ]
  },
  {
   "cell_type": "markdown",
   "id": "58b48659-5d09-4297-ad74-02cd03a78bb7",
   "metadata": {},
   "source": [
    "### Math Background 数学背景"
   ]
  },
  {
   "cell_type": "markdown",
   "id": "84ff5c68-6020-4bd6-9155-4ca62bd7f828",
   "metadata": {},
   "source": [
    "1. 求一组数的最大值、最小值\n",
    "2. 计数某一个数在一组数中出现的次数\n",
    "3. 平均数的概念\n",
    "4. 比较数的大小"
   ]
  },
  {
   "cell_type": "markdown",
   "id": "c87f2ab2-933c-4283-8f53-d650737089f3",
   "metadata": {
    "tags": []
   },
   "source": [
    "### Prerequisites 预备知识"
   ]
  },
  {
   "cell_type": "markdown",
   "id": "72945ac6-c014-4153-89d3-c5c47587ccc0",
   "metadata": {},
   "source": [
    "#### 1. 使用索引值-1表示列表中最后一个元素"
   ]
  },
  {
   "cell_type": "code",
   "execution_count": null,
   "id": "e2b11905-49cc-4fde-a82c-2187a0954ed8",
   "metadata": {},
   "outputs": [],
   "source": [
    "students = [\"Cynthia\", \"Milly\", \"Yunzi\"]\n",
    "print(students[-1])"
   ]
  },
  {
   "cell_type": "markdown",
   "id": "f2e32c1e-8872-4770-b1a8-1266de4801c9",
   "metadata": {},
   "source": [
    "#### 2. 使用`for`...`in`... 循环遍历列表中的所有元素"
   ]
  },
  {
   "cell_type": "code",
   "execution_count": null,
   "id": "7a7b28c9-6691-4f78-b5af-136786b36c94",
   "metadata": {},
   "outputs": [],
   "source": [
    "for student in students:\n",
    "    print(student)"
   ]
  },
  {
   "cell_type": "markdown",
   "id": "53bec078-ecef-4cd9-830f-db941f49b4b9",
   "metadata": {},
   "source": [
    "#### 3. 把最后一个元素转移至列表最前"
   ]
  },
  {
   "cell_type": "code",
   "execution_count": null,
   "id": "beca9aa1-1cf6-4634-a99c-5f6240f08e1e",
   "metadata": {},
   "outputs": [],
   "source": [
    "i = 0\n",
    "reordered_students = []\n",
    "while i < len(students):\n",
    "    reordered_students.append(students[i-1])\n",
    "    i += 1\n",
    "    \n",
    "print(reordered_students)"
   ]
  },
  {
   "cell_type": "markdown",
   "id": "16dc86df-9a02-409b-838e-cd463fb61111",
   "metadata": {},
   "source": [
    "#### 4. 交换列表中某两个元素的位置"
   ]
  },
  {
   "cell_type": "code",
   "execution_count": null,
   "id": "7cf1e46b-ebbe-4c8a-a800-cabfe91fa638",
   "metadata": {},
   "outputs": [],
   "source": [
    "print(students)"
   ]
  },
  {
   "cell_type": "markdown",
   "id": "f9cba62a-216c-4ae0-a79a-3d57462ce3a8",
   "metadata": {},
   "source": [
    "交换列表`students`变量中位置为0和2的两个元素的位置"
   ]
  },
  {
   "cell_type": "code",
   "execution_count": null,
   "id": "9d9155dc-a587-459c-8ed2-7254f1044f43",
   "metadata": {},
   "outputs": [],
   "source": [
    "# method 1\n",
    "ages = [11, 9]\n",
    "ages = [ages[1], ages[0]]\n",
    "print(ages)\n",
    "# [9, 11]"
   ]
  },
  {
   "cell_type": "code",
   "execution_count": null,
   "id": "3ef57b30-09e2-4cc4-a538-c679c6e1897c",
   "metadata": {},
   "outputs": [],
   "source": [
    "# method 2\n",
    "ages = [11, 9]\n",
    "first_age = ages[0]\n",
    "second_age = ages[1]\n",
    "ages = [second_age, first_age]\n",
    "print(ages)\n",
    "# [9, 11]"
   ]
  },
  {
   "cell_type": "code",
   "execution_count": null,
   "id": "0721e033-e413-40aa-85dc-01861907b5ca",
   "metadata": {},
   "outputs": [],
   "source": [
    "# method 3\n",
    "ages = [11, 9] #   # Cynthia, Milly, Yunzi\n",
    "reorganized_ages = []\n",
    "prev_age = ages[1]\n",
    "reorganized_ages.append(prev_age)\n",
    "cur_age = ages[0]\n",
    "reorganized_ages.append(cur_age)\n",
    "ages = reorganized_ages\n",
    "print(ages)"
   ]
  },
  {
   "cell_type": "code",
   "execution_count": null,
   "id": "514a9344-e238-4889-bf5f-c094d68251dc",
   "metadata": {},
   "outputs": [],
   "source": [
    "# method 4 - Milly\n",
    "ages = [11, 9, 10, 12]\n",
    "the_ages = []\n",
    "i = len(ages)-1\n",
    "while i > -1:\n",
    "    the_ages.append(ages[i])\n",
    "    i -= 1\n",
    "ages = the_ages\n",
    "print(ages)"
   ]
  },
  {
   "cell_type": "markdown",
   "id": "a7f41191-2324-42ab-a890-0d943e3de626",
   "metadata": {
    "tags": []
   },
   "source": [
    "#### 5. insert element in a position"
   ]
  },
  {
   "cell_type": "code",
   "execution_count": null,
   "id": "bf145412-db06-4d45-a893-55c795869a18",
   "metadata": {},
   "outputs": [],
   "source": [
    "ordered_cards = [3, 5, 7]  # 按从小到大排列\n",
    "next_card = 6\n",
    "print(\"       in left hand:\", ordered_cards)\n",
    "print(\"on desk(right hand):\", next_card)\n",
    "position = 2               # put next_card after 5 把next_card放到值为5的元素后面\n",
    "ordered_cards.insert(position, next_card)\n",
    "print(\"   now in left hand:\", ordered_cards)\n",
    "# result: [3, 5, 6, 7]"
   ]
  },
  {
   "cell_type": "markdown",
   "id": "d55f37d9",
   "metadata": {},
   "source": [
    "### Solution 编程求解"
   ]
  },
  {
   "cell_type": "code",
   "execution_count": null,
   "id": "c0bf70f7-d7c2-4eb4-889a-d2341bccb7dc",
   "metadata": {},
   "outputs": [],
   "source": [
    "scores = [74, 86, 100, 92, 72, 70, 74, 86, 72, 100, 86, 84, 96, 92, 78, 90, \n",
    "          82, 90, 82, 88, 100, 78, 92, 78, 92, 86, 84, 88, 90, 88, 98, 86, 100, \n",
    "          96, 96, 94, 54, 90, 100, 78, 100, 98, 84, 100, 78, 86, 98, 88, 94, 88]"
   ]
  },
  {
   "cell_type": "code",
   "execution_count": null,
   "id": "92cd9dfb-72cf-4d81-a328-4bfef9ded5a5",
   "metadata": {},
   "outputs": [],
   "source": [
    "highest_score = 0             # 假定一开始最高分是0, 为什么不设得高些？\n",
    "lowest_score = 100            # 假定一开始最低分是100，为什么不设的更低些？\n",
    "n_score = len(scores)         # 成绩的数量\n",
    "total_score = 0               # 成绩总和\n",
    "\n",
    "for cur_score in scores:\n",
    "    total_score += cur_score\n",
    "    if cur_score > highest_score:\n",
    "        highest_score = cur_score\n",
    "    if cur_score < lowest_score:\n",
    "        lowest_score = cur_score\n",
    "    \n",
    "average_score = total_score / n_score          # 平均分\n",
    "print(\"最高分:{:>3}\".format(highest_score))\n",
    "print(\"最低分:{:>3}\".format(lowest_score))\n",
    "print(\"平均分:{:>5.3}\".format(average_score))\n",
    "\n",
    "n_lowest, n_highest = 0, 0    # 分别得到最低最高分的学生数量\n",
    "n_below_average = 0           # 假定低于平均分的学生个数\n",
    "for cur_score in scores:\n",
    "    if cur_score == lowest_score:\n",
    "        n_lowest += 1\n",
    "    if cur_score == highest_score:\n",
    "        n_highest += 1\n",
    "    if cur_score < average_score:\n",
    "        n_below_average += 1\n",
    "    i += 1\n",
    "print(\"{:2}人获得了最高分{}\".format(n_highest, highest_score))\n",
    "print(\"{:2}人获得了最低分{}\".format(n_lowest, lowest_score))\n",
    "print(\"{:2}人的成绩低于平均分{}\".format(n_below_average, average_score))"
   ]
  },
  {
   "cell_type": "markdown",
   "id": "latest-contamination",
   "metadata": {},
   "source": [
    "### Summary 知识点小结"
   ]
  },
  {
   "cell_type": "markdown",
   "id": "afb3f674",
   "metadata": {},
   "source": [
    "1. 列表的索引，列表元素值的获取\n",
    "2. 学习`for`...`in`...循环，循环与条件语句的嵌套"
   ]
  },
  {
   "cell_type": "markdown",
   "id": "bizarre-assurance",
   "metadata": {},
   "source": [
    "### 计算机小知识"
   ]
  },
  {
   "cell_type": "markdown",
   "id": "92100f08",
   "metadata": {},
   "source": []
  },
  {
   "cell_type": "markdown",
   "id": "digital-consensus",
   "metadata": {
    "heading_collapsed": true
   },
   "source": [
    "### Assignments 作业"
   ]
  },
  {
   "cell_type": "markdown",
   "id": "controversial-sleeve",
   "metadata": {
    "hidden": true
   },
   "source": [
    "1. Use `for`...`in`... loop, Find the minimal, maximal values from the following 100 integers, calculate the average values for the 100 integers and count how many 50 among all the integers. \n",
    "\n",
    "    使用`for`...`in`...循环，找到下面100个数中的最大值、最小值, 计算这100个数的平均值并统计整数50在其中出现的次数\n",
    "```python\n",
    "values = [59, 36, 43, 53, 39, 49, 51, 41, 36, 51, 59, 43, 46, 66, 44, 44, 74, \n",
    "          34, 57, 29, 44, 65, 62, 40, 45, 50, 37, 55, 72, 36, 30, 52, 48, 68, \n",
    "          48, 49, 48, 40, 56, 36, 61, 50, 55, 44, 40, 68, 54, 62, 51, 76, 53, \n",
    "          39, 57, 54, 26, 48, 59, 58, 46, 37, 54, 38, 63, 46, 40, 44, 41, 44, \n",
    "          42, 46, 52, 55, 38, 40, 45, 50, 50, 29, 67, 41, 68, 36, 40, 47, 47, \n",
    "          42, 57, 31, 60, 41, 62, 45, 36, 54, 72, 49, 51, 46, 41, 42]\n",
    "```"
   ]
  },
  {
   "cell_type": "code",
   "execution_count": 1,
   "id": "f1c16cc1-6e66-4e5a-9f50-3b1969bfdbe5",
   "metadata": {},
   "outputs": [
    {
     "name": "stdout",
     "output_type": "stream",
     "text": [
      "All the numbers's average is: 48.65\n"
     ]
    }
   ],
   "source": [
    "# write your codes here 在这里写你的代码\n",
    "# 平均数计算\n",
    "values = [59, 36, 43, 53, 39, 49, 51, 41, 36, 51, 59, 43, 46, 66, 44, 44, 74, \n",
    "          34, 57, 29, 44, 65, 62, 40, 45, 50, 37, 55, 72, 36, 30, 52, 48, 68, \n",
    "          48, 49, 48, 40, 56, 36, 61, 50, 55, 44, 40, 68, 54, 62, 51, 76, 53, \n",
    "          39, 57, 54, 26, 48, 59, 58, 46, 37, 54, 38, 63, 46, 40, 44, 41, 44, \n",
    "          42, 46, 52, 55, 38, 40, 45, 50, 50, 29, 67, 41, 68, 36, 40, 47, 47, \n",
    "          42, 57, 31, 60, 41, 62, 45, 36, 54, 72, 49, 51, 46, 41, 42]\n",
    "values_num = len(values)\n",
    "all_values = 0\n",
    "i = 0\n",
    "while i < values_num:\n",
    "    all_values += values[i]\n",
    "    i += 1\n",
    "\n",
    "average = all_values / values_num\n",
    "print(\"All the numbers's average is: {}\".format(average))"
   ]
  },
  {
   "cell_type": "code",
   "execution_count": 2,
   "id": "91fcb1d0-e983-4f64-bb1d-9d11f4868a31",
   "metadata": {},
   "outputs": [
    {
     "name": "stdout",
     "output_type": "stream",
     "text": [
      "In the variable values,there are 4 integers 50.\n"
     ]
    }
   ],
   "source": [
    "# 有多少个数字50\n",
    "values = [59, 36, 43, 53, 39, 49, 51, 41, 36, 51, 59, 43, 46, 66, 44, 44, 74, \n",
    "          34, 57, 29, 44, 65, 62, 40, 45, 50, 37, 55, 72, 36, 30, 52, 48, 68, \n",
    "          48, 49, 48, 40, 56, 36, 61, 50, 55, 44, 40, 68, 54, 62, 51, 76, 53, \n",
    "          39, 57, 54, 26, 48, 59, 58, 46, 37, 54, 38, 63, 46, 40, 44, 41, 44, \n",
    "          42, 46, 52, 55, 38, 40, 45, 50, 50, 29, 67, 41, 68, 36, 40, 47, 47, \n",
    "          42, 57, 31, 60, 41, 62, 45, 36, 54, 72, 49, 51, 46, 41, 42]\n",
    "values_num = len(values)\n",
    "num_of_values = 0\n",
    "i = 0\n",
    "num50_quantity = 0\n",
    "while i < values_num:\n",
    "    num_of_values = values[i]\n",
    "    if num_of_values == 50:\n",
    "        num50_quantity += 1\n",
    "    else:\n",
    "        pass\n",
    "    i += 1\n",
    "print(\"In the variable values,there are {} integers 50.\".format(num50_quantity))"
   ]
  },
  {
   "cell_type": "code",
   "execution_count": null,
   "id": "d02e3afd-1d94-429a-942c-8942afe418ed",
   "metadata": {
    "tags": []
   },
   "outputs": [],
   "source": [
    "# the numbers were generated by the following codes. \n",
    "# 上面的100个整数由下面这段代码生成\n",
    "\n",
    "from random import randint, gauss, seed\n",
    "seed(0)\n",
    "i, n = 0, 100\n",
    "values = []\n",
    "while i < n:\n",
    "    values.append(int(gauss(50, 10)))\n",
    "    i += 1\n",
    "#print(values)"
   ]
  },
  {
   "cell_type": "markdown",
   "id": "cdf356b3-2358-4cc3-9fc2-c2a32659b10b",
   "metadata": {
    "tags": []
   },
   "source": [
    "2. Imagine you are playing a card picking game. There are 4 cards: 5, 3, 7, and 6, stacked on a table from top to bottom. You use your right hand to pick up the top card on the table and put it into your left hand. During this process, you need to always keep the cards sorted(left is smaller) in your left hand.  想象一下你在玩抓牌的游戏。现在有分别显示为5，3，7，6的4张牌从上到下依次堆叠在桌子上，你使用右手从桌子上拿起最上面的牌，将它放到到左手上。在此过程中，你需要始终维持左手上的牌自左至右是从小到大排列的。\n",
    "\n",
    "\n",
    "     In order to ensure that the cards in the left hand are always sorted in ascending order, after each pick, you need to determine where the cards picked in the right hand should be placed among the cards in the left hand. Please write code to complete this process. 为了确保左手上的牌始终是按照从小到大次序排列的，每一次摸牌后，你需要确定右手摸到的牌应该放在左手的牌中的位置。请你编写代码完成这个过程。\n",
    "     \n",
    "    \n",
    "    The four cells below simulate each time you pick up a card. The variable `sorted_cards` represents the cards in order on the left hand, and the variable `card_being_picked` represents the card being picked by the right hand. 下面的四个单元格分别模拟了你每次摸牌的情形。其中变量`sorted_cards`表示的是左手上按顺序排列的牌，变量`card_being_picked`表示的是正在被右手拾起来的牌。\n",
    "     \n",
    "    \n",
    "    **Requirements**: You must use **the exact same** codes for each pick to determine the position of the picked card when it was inserted into the cards in left hand. **要求**：你必须使用一套**完全相同**的代码来确定每一次摸到的牌应该插入到左手牌中的位置。\n",
    "     \n",
    "    \n",
    "    The table below shows in detail the situation of your left and right hands and the cards on the table before and after each picking.下表详细的展示了每一次摸牌前后你的左右手和桌子上的牌的情况：\n",
    "     \n",
    "\n",
    "| 状态 | 左手上排好序的牌  | 右手摸到的牌 |  桌子上剩余的牌   | \n",
    "|:----------------:|:-----------:|:------------:|:----------------------:|\n",
    "| State | Cards sorted in left hand | Card being picked |  Cards remaing on table   | \n",
    "| 还没开始摸牌not start picking)  | []  |    | [5, 3, 7, 6] |  \n",
    "| 第一次摸牌时(1st pick)  | []  | 5   | [3, 7, 6] |  \n",
    "| 第二次摸牌时(2nd pick)  | [5]  | 3   | [7, 6] |  \n",
    "| 第三次摸牌时(3rd pick)  | [3, 5]  | 7   | [6] |  \n",
    "| 第四次摸牌时(4th pick)  | [3, 5, 7]  | 6   | [] |\n",
    "| 摸牌完毕后(picking complete) | [3, 5, 6, 7]  |    | [] |"
   ]
  },
  {
   "cell_type": "code",
   "execution_count": 3,
   "id": "b628f205-ad28-44c6-a947-403727ed37cb",
   "metadata": {},
   "outputs": [
    {
     "name": "stdout",
     "output_type": "stream",
     "text": [
      "       State        \tCards sorted in left hand     \tCard being picked   \tCards remaining on table      \n",
      "1st pick 第一次摸牌时     \t[]                            \t5                   \t[3, 7, 6]                     \n",
      "该次摸牌结束后             \t[5]                           \t\n"
     ]
    }
   ],
   "source": [
    "state = \"1st pick 第一次摸牌时\"\n",
    "sorted_cards = []  # 按从小到大排列\n",
    "cards_on_table = [5, 3, 7, 6]\n",
    "card_being_picked = cards_on_table.pop(0)          # always top card on table   \n",
    "print(\"{:^20}\\t{:30}\\t{:20}\\t{:30}\".format(\"State\", \"Cards sorted in left hand\", \n",
    "                              \"Card being picked\", \"Cards remaining on table\"))\n",
    "print(\"{:20}\\t{:30}\\t{:20}\\t{:30}\".format(state, str(sorted_cards), str(card_being_picked), str(cards_on_table)))\n",
    "position = 0\n",
    "\n",
    "while position < len(sorted_cards):\n",
    "    if len(sorted_cards) == 0:\n",
    "        break\n",
    "    elif card_being_picked < sorted_cards[position]:\n",
    "        break\n",
    "    else:\n",
    "        position += 1\n",
    "sorted_cards.insert(position, card_being_picked)\n",
    "print(\"{:20}\\t{:30}\\t\".format(\"该次摸牌结束后\", str(sorted_cards)))\n",
    "# result: [5]"
   ]
  },
  {
   "cell_type": "code",
   "execution_count": 4,
   "id": "e746c318-db26-4e93-8552-f4805117d801",
   "metadata": {
    "tags": []
   },
   "outputs": [
    {
     "name": "stdout",
     "output_type": "stream",
     "text": [
      "       State        \tCards sorted in left hand     \tCard being picked   \tCards remaining on table      \n",
      "2nd pick 第二次摸牌时     \t[5]                           \t3                   \t[7, 6]                        \n",
      "该次摸牌结束后             \t[3, 5]                        \t\n"
     ]
    }
   ],
   "source": [
    "state = \"2nd pick 第二次摸牌时\"\n",
    "sorted_cards = [5]  # 按从小到大排列\n",
    "cards_on_table = [3, 7, 6]\n",
    "card_being_picked = cards_on_table.pop(0)          # always top card on table    \n",
    "print(\"{:^20}\\t{:30}\\t{:20}\\t{:30}\".format(\"State\", \"Cards sorted in left hand\", \n",
    "                              \"Card being picked\", \"Cards remaining on table\"))\n",
    "print(\"{:20}\\t{:30}\\t{:20}\\t{:30}\".format(state, str(sorted_cards), str(card_being_picked), str(cards_on_table)))\n",
    "position = 0\n",
    "\n",
    "while position < len(sorted_cards):\n",
    "    if len(sorted_cards) == 0:\n",
    "        break\n",
    "    elif card_being_picked < sorted_cards[position]:\n",
    "        break\n",
    "    else:\n",
    "        position += 1\n",
    "sorted_cards.insert(position, card_being_picked)\n",
    "print(\"{:20}\\t{:30}\\t\".format(\"该次摸牌结束后\", str(sorted_cards)))\n",
    "# result: [3, 5]"
   ]
  },
  {
   "cell_type": "code",
   "execution_count": 5,
   "id": "aec65584-5006-4a87-b3a8-d25372b9269e",
   "metadata": {
    "tags": []
   },
   "outputs": [
    {
     "name": "stdout",
     "output_type": "stream",
     "text": [
      "       State        \tCards sorted in left hand     \tCard being picked   \tCards remaining on table      \n",
      "3rd pick 第三次摸牌时     \t[3, 5]                        \t7                   \t[6]                           \n",
      "该次摸牌结束后             \t[3, 5, 7]                     \t\n"
     ]
    }
   ],
   "source": [
    "state = \"3rd pick 第三次摸牌时\"\n",
    "sorted_cards = [3, 5]  # 按从小到大排列\n",
    "cards_on_table = [7, 6]\n",
    "card_being_picked = cards_on_table.pop(0)          # always top card on table    \n",
    "print(\"{:^20}\\t{:30}\\t{:20}\\t{:30}\".format(\"State\", \"Cards sorted in left hand\", \n",
    "                              \"Card being picked\", \"Cards remaining on table\"))\n",
    "print(\"{:20}\\t{:30}\\t{:20}\\t{:30}\".format(state, str(sorted_cards), str(card_being_picked), str(cards_on_table)))\n",
    "position = 0\n",
    "\n",
    "while position < len(sorted_cards):\n",
    "    if len(sorted_cards) == 0:\n",
    "        break\n",
    "    elif card_being_picked < sorted_cards[position]:\n",
    "        break\n",
    "    else:\n",
    "        position += 1\n",
    "sorted_cards.insert(position, card_being_picked)\n",
    "print(\"{:20}\\t{:30}\\t\".format(\"该次摸牌结束后\", str(sorted_cards)))\n",
    "# results: [3, 5, 7]"
   ]
  },
  {
   "cell_type": "code",
   "execution_count": 6,
   "id": "7e746af9-632b-4a9b-8a3e-51b8deee0fc3",
   "metadata": {},
   "outputs": [
    {
     "name": "stdout",
     "output_type": "stream",
     "text": [
      "       State        \tCards sorted in left hand     \tCard being picked   \tCards remaining on table      \n",
      "4th pick 第四次摸牌时     \t[3, 5, 7]                     \t6                   \t[]                            \n",
      "该次摸牌结束后             \t[3, 5, 6, 7]                  \t\n"
     ]
    }
   ],
   "source": [
    "state = \"4th pick 第四次摸牌时\"\n",
    "sorted_cards = [3, 5, 7]  # 按从小到大排列\n",
    "cards_on_table = [6]\n",
    "card_being_picked = cards_on_table.pop(0)          # always top card on table    \n",
    "print(\"{:^20}\\t{:30}\\t{:20}\\t{:30}\".format(\"State\", \"Cards sorted in left hand\", \n",
    "                              \"Card being picked\", \"Cards remaining on table\"))\n",
    "print(\"{:20}\\t{:30}\\t{:20}\\t{:30}\".format(state, str(sorted_cards), str(card_being_picked), str(cards_on_table)))\n",
    "position = 0\n",
    "\n",
    "while position < len(sorted_cards):\n",
    "    if len(sorted_cards) == 0:\n",
    "        break\n",
    "    elif card_being_picked < sorted_cards[position]:\n",
    "        break\n",
    "    else:\n",
    "        position += 1\n",
    "sorted_cards.insert(position, card_being_picked)\n",
    "print(\"{:20}\\t{:30}\\t\".format(\"该次摸牌结束后\", str(sorted_cards)))\n",
    "# result: [3, 5, 6, 7]"
   ]
  },
  {
   "cell_type": "code",
   "execution_count": 28,
   "id": "2f9581de-4a8d-404b-bd7d-eb1dc1ffcaa1",
   "metadata": {},
   "outputs": [
    {
     "name": "stdout",
     "output_type": "stream",
     "text": [
      "       State        \tCards sorted in left hand     \tCard being picked   \tCards remaining on table      \n",
      "摸牌完毕后 picking complete\t[3, 5, 6, 7]                  \tNone                \t[]                            \n"
     ]
    }
   ],
   "source": [
    "# Do not modify this cell 不要改动这个单元格的代码\n",
    "state = \"摸牌完毕后 picking complete\"\n",
    "cards_on_table = []\n",
    "card_being_picked = None          # always top card on table \n",
    "print(\"{:^20}\\t{:30}\\t{:20}\\t{:30}\".format(\"State\", \"Cards sorted in left hand\", \n",
    "                              \"Card being picked\", \"Cards remaining on table\"))\n",
    "print(\"{:20}\\t{:30}\\t{:20}\\t{:30}\".format(state, str(sorted_cards), str(card_being_picked), str(cards_on_table)))\n"
   ]
  },
  {
   "cell_type": "markdown",
   "id": "9bd5be25-be36-4afe-945d-10fefcfdddfb",
   "metadata": {},
   "source": [
    "##### 叶老师，这里**可以把循环变量放在中间**吗？"
   ]
  },
  {
   "cell_type": "code",
   "execution_count": null,
   "id": "78443de2-1dea-4b48-805e-b25d17ebc3f9",
   "metadata": {},
   "outputs": [],
   "source": [
    "while position < len(sorted_cards):\n",
    "    if len(sorted_cards) == 0:\n",
    "        break\n",
    "    elif card_being_picked > sorted_cards[position]:\n",
    "        position += 1\n",
    "    else:\n",
    "        break"
   ]
  },
  {
   "cell_type": "code",
   "execution_count": null,
   "id": "624e2d86-e51f-447f-acc2-d71e0d3b5d31",
   "metadata": {},
   "outputs": [],
   "source": []
  }
 ],
 "metadata": {
  "kernelspec": {
   "display_name": "Python 3 (ipykernel)",
   "language": "python",
   "name": "python3"
  },
  "language_info": {
   "codemirror_mode": {
    "name": "ipython",
    "version": 3
   },
   "file_extension": ".py",
   "mimetype": "text/x-python",
   "name": "python",
   "nbconvert_exporter": "python",
   "pygments_lexer": "ipython3",
   "version": "3.9.0"
  }
 },
 "nbformat": 4,
 "nbformat_minor": 5
}
