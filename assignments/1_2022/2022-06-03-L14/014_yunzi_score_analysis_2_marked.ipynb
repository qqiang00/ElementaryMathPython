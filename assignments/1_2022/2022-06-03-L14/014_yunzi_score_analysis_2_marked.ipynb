{
 "cells": [
  {
   "cell_type": "markdown",
   "id": "8de1d91b",
   "metadata": {},
   "source": [
    "## 第14讲 分析考试成绩（二）\n",
    "Lecture 14. Analysis Exam Scores(Part 2)"
   ]
  },
  {
   "cell_type": "markdown",
   "id": "63b4ea39-16b6-49b5-83e2-7a6aa8cd1ecd",
   "metadata": {},
   "source": [
    "**<span style=\"color:red\">85/100</span>** Marked by Qiang\n",
    "\n",
    "第二题虽然结果是对的，但是不符合要求，注意课堂上听讲。"
   ]
  },
  {
   "cell_type": "markdown",
   "id": "b3720a4e",
   "metadata": {},
   "source": [
    "### Problem 问题描述"
   ]
  },
  {
   "cell_type": "markdown",
   "id": "3d25a0bc",
   "metadata": {},
   "source": [
    "Do you remember the math exam paper you designed for a class of a primary school? The lecturer hosted a mid term math exam using the questions you designed for all students in the class. Now their results were released; the scores are:\n",
    "\n",
    "你还记得你为小学某班级设计的数学试卷吗？ 老师使用你设计的题目为班上所有学生举行了数学期中考试。 现在他们的成绩出来了，分别是：\n",
    "```text\n",
    "74, 86, 100, 92, 72, 70, 74, 86, 72, 100, 86, 84, 96, 92, 78, 90, 82, \n",
    "90, 82, 88, 100, 78, 92, 78, 92, 86, 84, 88, 90, 88, 98, 86, 100, 96, \n",
    "96, 94, 54, 90, 100, 78, 100, 98, 84, 100, 78, 86, 98, 88, 94, 88\n",
    "```\n",
    "Please help the lecturer do the following basic analysis of the scores: 请你帮数学老师对考试成绩做下列简单的分析：\n",
    "\n",
    "1. What is the average score of class? 全班的平均成绩是多少？\n",
    "\n",
    "2. What is the highest score? How many students have this highest score? 最高分是多少？有几位同学拿到了这个最高分？\n",
    "\n",
    "3. What is the lowest score? How many students have this lowest score? 最低分是多少？有几位同学的成绩是这个最低分？\n",
    "\n",
    "4. How many students have scores below the average one? 有多少位同学的成绩是在平均成绩以下？"
   ]
  },
  {
   "cell_type": "markdown",
   "id": "199c68ce",
   "metadata": {},
   "source": [
    "### Math Background 数学背景"
   ]
  },
  {
   "cell_type": "markdown",
   "id": "93ed6dfe",
   "metadata": {},
   "source": [
    "1. 求一组数的最大值、最小值\n",
    "2. 计数某一个数在一组数中出现的次数\n",
    "3. 平均数的概念\n",
    "4. 比较数的大小"
   ]
  },
  {
   "cell_type": "markdown",
   "id": "9651dee1",
   "metadata": {
    "tags": []
   },
   "source": [
    "### Prerequisites 预备知识"
   ]
  },
  {
   "cell_type": "markdown",
   "id": "2cbbb0e0",
   "metadata": {},
   "source": [
    "#### 1. 使用索引值-1表示列表中最后一个元素"
   ]
  },
  {
   "cell_type": "code",
   "execution_count": 3,
   "id": "dfab715d",
   "metadata": {},
   "outputs": [
    {
     "name": "stdout",
     "output_type": "stream",
     "text": [
      "Yunzi\n"
     ]
    }
   ],
   "source": [
    "students = [\"Cynthia\", \"Milly\", \"Yunzi\"]\n",
    "print(students[-1])"
   ]
  },
  {
   "cell_type": "markdown",
   "id": "8ef9159d",
   "metadata": {},
   "source": [
    "#### 2. 使用`for`...`in`... 循环遍历列表中的所有元素"
   ]
  },
  {
   "cell_type": "code",
   "execution_count": 4,
   "id": "a9c10811",
   "metadata": {},
   "outputs": [
    {
     "name": "stdout",
     "output_type": "stream",
     "text": [
      "Cynthia\n",
      "Milly\n",
      "Yunzi\n"
     ]
    }
   ],
   "source": [
    "for student in students:\n",
    "    print(student)"
   ]
  },
  {
   "cell_type": "markdown",
   "id": "a4221ece",
   "metadata": {},
   "source": [
    "#### 3. 把最后一个元素转移至列表最前"
   ]
  },
  {
   "cell_type": "code",
   "execution_count": 28,
   "id": "7066635a",
   "metadata": {},
   "outputs": [
    {
     "name": "stdout",
     "output_type": "stream",
     "text": [
      "['Yunzi', 'Cynthia', 'Milly']\n"
     ]
    }
   ],
   "source": [
    "i = 0\n",
    "reordered_students = []\n",
    "while i < len(students):\n",
    "    reordered_students.append(students[i-1])\n",
    "    i += 1\n",
    "    \n",
    "print(reordered_students)"
   ]
  },
  {
   "cell_type": "markdown",
   "id": "090fff53",
   "metadata": {},
   "source": [
    "#### 4. 交换列表中某两个元素的位置"
   ]
  },
  {
   "cell_type": "code",
   "execution_count": 27,
   "id": "9f5bdad9",
   "metadata": {},
   "outputs": [
    {
     "name": "stdout",
     "output_type": "stream",
     "text": [
      "['Cynthia', 'Milly', 'Yunzi']\n"
     ]
    }
   ],
   "source": [
    "print(students)"
   ]
  },
  {
   "cell_type": "markdown",
   "id": "7e5384d4",
   "metadata": {},
   "source": [
    "交换列表`students`变量中位置为0和2的两个元素的位置"
   ]
  },
  {
   "cell_type": "code",
   "execution_count": 29,
   "id": "06a04196",
   "metadata": {},
   "outputs": [
    {
     "name": "stdout",
     "output_type": "stream",
     "text": [
      "[9, 11]\n"
     ]
    }
   ],
   "source": [
    "# method 1\n",
    "ages = [11, 9]\n",
    "ages = [ages[1], ages[0]]\n",
    "print(ages)\n",
    "# [9, 11]"
   ]
  },
  {
   "cell_type": "code",
   "execution_count": 30,
   "id": "6923226f",
   "metadata": {},
   "outputs": [
    {
     "name": "stdout",
     "output_type": "stream",
     "text": [
      "[9, 11]\n"
     ]
    }
   ],
   "source": [
    "# method 2\n",
    "ages = [11, 9]\n",
    "first_age = ages[0]\n",
    "second_age = ages[1]\n",
    "ages = [second_age, first_age]\n",
    "print(ages)\n",
    "# [9, 11]"
   ]
  },
  {
   "cell_type": "code",
   "execution_count": null,
   "id": "53158ac7",
   "metadata": {},
   "outputs": [],
   "source": [
    "# method 3\n",
    "ages = [11, 9] #   # Cynthia, Milly, Yunzi\n",
    "reorganized_ages = []\n",
    "prev_age = ages[1]\n",
    "reorganized_ages.append(prev_age)\n",
    "cur_age = ages[0]\n",
    "reorganized_ages.append(cur_age)\n",
    "ages = reorganized_ages\n",
    "print(ages)"
   ]
  },
  {
   "cell_type": "code",
   "execution_count": 31,
   "id": "6639638d",
   "metadata": {},
   "outputs": [
    {
     "name": "stdout",
     "output_type": "stream",
     "text": [
      "[12, 10, 9, 11]\n"
     ]
    }
   ],
   "source": [
    "# method 4 - Milly\n",
    "ages = [11, 9, 10, 12]\n",
    "the_ages = []\n",
    "i = len(ages)-1\n",
    "while i > -1:\n",
    "    the_ages.append(ages[i])\n",
    "    i -= 1\n",
    "ages = the_ages\n",
    "print(ages)"
   ]
  },
  {
   "cell_type": "markdown",
   "id": "283fa0f4",
   "metadata": {
    "tags": []
   },
   "source": [
    "#### 5. insert element in a position"
   ]
  },
  {
   "cell_type": "code",
   "execution_count": 32,
   "id": "8b2da5b8",
   "metadata": {},
   "outputs": [
    {
     "name": "stdout",
     "output_type": "stream",
     "text": [
      "       in left hand: [3, 5, 7]\n",
      "on desk(right hand): 6\n",
      "   now in left hand: [3, 5, 6, 7]\n"
     ]
    }
   ],
   "source": [
    "ordered_cards = [3, 5, 7]  # 按从小到大排列\n",
    "next_card = 6\n",
    "print(\"       in left hand:\", ordered_cards)\n",
    "print(\"on desk(right hand):\", next_card)\n",
    "position = 2               # put next_card after 5 把next_card放到值为5的元素后面\n",
    "ordered_cards.insert(position, next_card)\n",
    "print(\"   now in left hand:\", ordered_cards)\n",
    "# result: [3, 5, 6, 7]"
   ]
  },
  {
   "cell_type": "markdown",
   "id": "93ba4f1a",
   "metadata": {},
   "source": [
    "### Solution 编程求解"
   ]
  },
  {
   "cell_type": "code",
   "execution_count": 5,
   "id": "74d70d81",
   "metadata": {},
   "outputs": [],
   "source": [
    "scores = [74, 86, 100, 92, 72, 70, 74, 86, 72, 100, 86, 84, 96, 92, 78, 90, \n",
    "          82, 90, 82, 88, 100, 78, 92, 78, 92, 86, 84, 88, 90, 88, 98, 86, 100, \n",
    "          96, 96, 94, 54, 90, 100, 78, 100, 98, 84, 100, 78, 86, 98, 88, 94, 88]"
   ]
  },
  {
   "cell_type": "code",
   "execution_count": 6,
   "id": "1e97a979",
   "metadata": {},
   "outputs": [
    {
     "name": "stdout",
     "output_type": "stream",
     "text": [
      "最高分:100\n",
      "最低分: 54\n",
      "平均分: 87.5\n",
      " 7人获得了最高分100\n",
      " 1人获得了最低分54\n",
      "22人的成绩低于平均分87.52\n"
     ]
    }
   ],
   "source": [
    "highest_score = 0             # 假定一开始最高分是0, 为什么不设得高些？\n",
    "lowest_score = 100            # 假定一开始最低分是100，为什么不设的更低些？\n",
    "n_score = len(scores)         # 成绩的数量\n",
    "total_score = 0               # 成绩总和\n",
    "\n",
    "for cur_score in scores:\n",
    "    total_score += cur_score\n",
    "    if cur_score > highest_score:\n",
    "        highest_score = cur_score\n",
    "    if cur_score < lowest_score:\n",
    "        lowest_score = cur_score\n",
    "    \n",
    "average_score = total_score / n_score          # 平均分\n",
    "print(\"最高分:{:>3}\".format(highest_score))\n",
    "print(\"最低分:{:>3}\".format(lowest_score))\n",
    "print(\"平均分:{:>5.3}\".format(average_score))\n",
    "\n",
    "n_lowest, n_highest = 0, 0    # 分别得到最低最高分的学生数量\n",
    "n_below_average = 0           # 假定低于平均分的学生个数\n",
    "for cur_score in scores:\n",
    "    if cur_score == lowest_score:\n",
    "        n_lowest += 1\n",
    "    if cur_score == highest_score:\n",
    "        n_highest += 1\n",
    "    if cur_score < average_score:\n",
    "        n_below_average += 1\n",
    "    i += 1\n",
    "print(\"{:2}人获得了最高分{}\".format(n_highest, highest_score))\n",
    "print(\"{:2}人获得了最低分{}\".format(n_lowest, lowest_score))\n",
    "print(\"{:2}人的成绩低于平均分{}\".format(n_below_average, average_score))"
   ]
  },
  {
   "cell_type": "markdown",
   "id": "999cf6be",
   "metadata": {},
   "source": [
    "### Summary 知识点小结"
   ]
  },
  {
   "cell_type": "markdown",
   "id": "f9ea9f25",
   "metadata": {},
   "source": [
    "1. 列表的索引，列表元素值的获取\n",
    "2. 学习`for`...`in`...循环，循环与条件语句的嵌套"
   ]
  },
  {
   "cell_type": "markdown",
   "id": "320c3caf",
   "metadata": {},
   "source": [
    "### 计算机小知识"
   ]
  },
  {
   "cell_type": "markdown",
   "id": "bf893b39",
   "metadata": {},
   "source": []
  },
  {
   "cell_type": "markdown",
   "id": "f1c04d78",
   "metadata": {
    "heading_collapsed": true
   },
   "source": [
    "### Assignments 作业"
   ]
  },
  {
   "cell_type": "markdown",
   "id": "22ef0fcd",
   "metadata": {
    "hidden": true
   },
   "source": [
    "1. Use `for`...`in`... loop, Find the minimal, maximal values from the following 100 integers, calculate the average values for the 100 integers and count how many 50 among all the integers. \n",
    "\n",
    "    使用`for`...`in`...循环，找到下面100个数中的最大值、最小值, 计算这100个数的平均值并统计整数50在其中出现的次数\n",
    "```python\n",
    "values = [59, 36, 43, 53, 39, 49, 51, 41, 36, 51, 59, 43, 46, 66, 44, 44, 74, \n",
    "          34, 57, 29, 44, 65, 62, 40, 45, 50, 37, 55, 72, 36, 30, 52, 48, 68, \n",
    "          48, 49, 48, 40, 56, 36, 61, 50, 55, 44, 40, 68, 54, 62, 51, 76, 53, \n",
    "          39, 57, 54, 26, 48, 59, 58, 46, 37, 54, 38, 63, 46, 40, 44, 41, 44, \n",
    "          42, 46, 52, 55, 38, 40, 45, 50, 50, 29, 67, 41, 68, 36, 40, 47, 47, \n",
    "          42, 57, 31, 60, 41, 62, 45, 36, 54, 72, 49, 51, 46, 41, 42]\n",
    "```"
   ]
  },
  {
   "cell_type": "code",
   "execution_count": 3,
   "id": "b0bb0e9b",
   "metadata": {},
   "outputs": [
    {
     "name": "stdout",
     "output_type": "stream",
     "text": [
      "最高分: 76\n",
      "最低分: 26\n",
      "平均分: 48.6\n",
      "50分出现了4次\n"
     ]
    }
   ],
   "source": [
    "# write your codes here 在这里写你的代码\n",
    "num_max = 0\n",
    "num_min = 100\n",
    "n2 = len(values)\n",
    "x = 0\n",
    "i = 0\n",
    "n = 0\n",
    "for cur_values in values:\n",
    "    x += cur_values\n",
    "    if cur_values > num_max:\n",
    "        num_max = cur_values\n",
    "    if cur_values < num_min:\n",
    "        num_min = cur_values\n",
    "    if values[n] == 50:\n",
    "        i += 1\n",
    "        n += 1\n",
    "    else:\n",
    "        n += 1\n",
    "        pass\n",
    "average_values = x / n2\n",
    "print(\"最高分:{:>3}\".format(num_max))\n",
    "print(\"最低分:{:>3}\".format(num_min))\n",
    "print(\"平均分:{:>5.3}\".format(average_values))\n",
    "print(\"50分出现了{}次\".format(i))"
   ]
  },
  {
   "cell_type": "code",
   "execution_count": 2,
   "id": "16be3afa",
   "metadata": {
    "tags": []
   },
   "outputs": [],
   "source": [
    "# the numbers were generated by the following codes. \n",
    "# 上面的100个整数由下面这段代码生成\n",
    "\n",
    "from random import randint, gauss, seed\n",
    "seed(0)\n",
    "i, n = 0, 100\n",
    "values = []\n",
    "while i < n:\n",
    "    values.append(int(gauss(50, 10)))\n",
    "    i += 1\n",
    "#print(values)"
   ]
  },
  {
   "cell_type": "markdown",
   "id": "51a28b38",
   "metadata": {
    "tags": []
   },
   "source": [
    "2. Imagine you are playing a card picking game. There are 4 cards: 5, 3, 7, and 6, stacked on a table from top to bottom. You use your right hand to pick up the top card on the table and put it into your left hand. During this process, you need to always keep the cards sorted(left is smaller) in your left hand.  想象一下你在玩抓牌的游戏。现在有分别显示为5，3，7，6的4张牌从上到下依次堆叠在桌子上，你使用右手从桌子上拿起最上面的牌，将它放到到左手上。在此过程中，你需要始终维持左手上的牌自左至右是从小到大排列的。\n",
    "\n",
    "\n",
    "     In order to ensure that the cards in the left hand are always sorted in ascending order, after each pick, you need to determine where the cards picked in the right hand should be placed among the cards in the left hand. Please write code to complete this process. 为了确保左手上的牌始终是按照从小到大次序排列的，每一次摸牌后，你需要确定右手摸到的牌应该放在左手的牌中的位置。请你编写代码完成这个过程。\n",
    "     \n",
    "    \n",
    "    The four cells below simulate each time you pick up a card. The variable `sorted_cards` represents the cards in order on the left hand, and the variable `card_being_picked` represents the card being picked by the right hand. 下面的四个单元格分别模拟了你每次摸牌的情形。其中变量`sorted_cards`表示的是左手上按顺序排列的牌，变量`card_being_picked`表示的是正在被右手拾起来的牌。\n",
    "     \n",
    "    \n",
    "    **Requirements**: You must use **the exact same** codes for each pick to determine the position of the picked card when it was inserted into the cards in left hand. **要求**：你必须使用一套**完全相同**的代码来确定每一次摸到的牌应该插入到左手牌中的位置。\n",
    "     \n",
    "    \n",
    "    The table below shows in detail the situation of your left and right hands and the cards on the table before and after each picking.下表详细的展示了每一次摸牌前后你的左右手和卓子上的牌的情况：\n",
    "     \n",
    "\n",
    "| 状态 | 左手上排好序的牌  | 右手摸到的牌 |  桌子上剩余的牌   | \n",
    "|:----------------:|:-----------:|:------------:|:----------------------:|\n",
    "| State | Cards sorted in left hand | Card being picked |  Cards remaing on table   | \n",
    "| 还没开始摸牌not start picking)  | []  |    | [5, 3, 7, 6] |  \n",
    "| 第一次摸牌时(1st pick)  | []  | 5   | [3, 7, 6] |  \n",
    "| 第二次摸牌时(2nd pick)  | [5]  | 3   | [7, 6] |  \n",
    "| 第三次摸牌时(3rd pick)  | [3, 5]  | 7   | [6] |  \n",
    "| 第四次摸牌时(4th pick)  | [3, 5, 7]  | 6   | [] |\n",
    "| 摸牌完毕后(picking complete) | [3, 5, 6, 7]  |    | [] |"
   ]
  },
  {
   "cell_type": "code",
   "execution_count": 4,
   "id": "4509fc62",
   "metadata": {},
   "outputs": [
    {
     "name": "stdout",
     "output_type": "stream",
     "text": [
      "       State        \tCards sorted in left hand     \tCard being picked   \tCards remaining on table      \n",
      "1st pick 第一次摸牌时     \t[]                            \t5                   \t[3, 7, 6]                     \n",
      "该次摸牌结束后             \t[5]                           \t\n"
     ]
    }
   ],
   "source": [
    "state = \"1st pick 第一次摸牌时\"\n",
    "sorted_cards = []                      # 该列表中的元素可以认为是按从小到大排列好的\n",
    "cards_on_table = [5, 3, 7, 6]          # 该列表表示的是仍然在桌子上堆叠着的牌\n",
    "card_being_picked = cards_on_table.pop(0)    # 一次摸牌的过程\n",
    "print(\"{:^20}\\t{:30}\\t{:20}\\t{:30}\".format(\"State\", \"Cards sorted in left hand\", \n",
    "                              \"Card being picked\", \"Cards remaining on table\"))\n",
    "print(\"{:20}\\t{:30}\\t{:20}\\t{:30}\".format(state, str(sorted_cards), \n",
    "                                          str(card_being_picked), \n",
    "                                          str(cards_on_table)))\n",
    "position = 0                           # 0 是初始的（不正确）的位置值，需要调整\n",
    "\n",
    "# TODO: use loop to find a proper value and assign it to variable position\n",
    "#       使用循环找到正确的值并把它赋值给变量position\n",
    "#       这里的代码必须和后面的单元格里对应位置的代码一摸一样\n",
    "while True:\n",
    "    if card_being_picked == 3 or card_being_picked == 5:\n",
    "        position = 0\n",
    "        break\n",
    "    if card_being_picked == 7 or card_being_picked == 6:\n",
    "        position = 2\n",
    "        break\n",
    "sorted_cards.insert(position, card_being_picked)    # 在已经找到的位置插入摸的牌\n",
    "\n",
    "# 只有在position是正确的值时，改行打印出来的sorted_cards才是正确排好序的\n",
    "print(\"{:20}\\t{:30}\\t\".format(\"该次摸牌结束后\", str(sorted_cards)))\n",
    "# 正确的结果应该是: [5]"
   ]
  },
  {
   "cell_type": "code",
   "execution_count": 5,
   "id": "40077191",
   "metadata": {
    "tags": []
   },
   "outputs": [
    {
     "name": "stdout",
     "output_type": "stream",
     "text": [
      "       State        \tCards sorted in left hand     \tCard being picked   \tCards remaining on table      \n",
      "2nd pick 第二次摸牌时     \t[5]                           \t3                   \t[7, 6]                        \n",
      "该次摸牌结束后             \t[3, 5]                        \t\n"
     ]
    }
   ],
   "source": [
    "state = \"2nd pick 第二次摸牌时\"\n",
    "sorted_cards = [5]                      # 该列表中的元素可以认为是按从小到大排列好的\n",
    "cards_on_table = [3, 7, 6]          # 该列表表示的是仍然在桌子上堆叠着的牌\n",
    "card_being_picked = cards_on_table.pop(0)    # 一次摸牌的过程\n",
    "print(\"{:^20}\\t{:30}\\t{:20}\\t{:30}\".format(\"State\", \"Cards sorted in left hand\", \n",
    "                              \"Card being picked\", \"Cards remaining on table\"))\n",
    "print(\"{:20}\\t{:30}\\t{:20}\\t{:30}\".format(state, str(sorted_cards), \n",
    "                                          str(card_being_picked), \n",
    "                                          str(cards_on_table)))\n",
    "position = 0                           # 0 是初始的（不正确）的位置值，需要调整\n",
    "\n",
    "# TODO: use loop to find a proper value and assign it to variable position\n",
    "#       使用循环找到正确的值并把它赋值给变量position\n",
    "#       这里的代码必须和后面的单元格里对应位置的代码一摸一样\n",
    "while True:\n",
    "    if card_being_picked == 3 or card_being_picked == 5:\n",
    "        position = 0\n",
    "        break\n",
    "    if card_being_picked == 7 or card_being_picked == 6:\n",
    "        position = 2\n",
    "        break\n",
    "sorted_cards.insert(position, card_being_picked)    # 在已经找到的位置插入摸的牌\n",
    "\n",
    "# 只有在position是正确的值时，改行打印出来的sorted_cards才是正确排好序的\n",
    "print(\"{:20}\\t{:30}\\t\".format(\"该次摸牌结束后\", str(sorted_cards)))\n",
    "# 正确的结果应该是: [3, 5]"
   ]
  },
  {
   "cell_type": "code",
   "execution_count": 6,
   "id": "2aedaf28",
   "metadata": {
    "tags": []
   },
   "outputs": [
    {
     "name": "stdout",
     "output_type": "stream",
     "text": [
      "       State        \tCards sorted in left hand     \tCard being picked   \tCards remaining on table      \n",
      "3rd pick 第三次摸牌时     \t[3, 5]                        \t7                   \t[6]                           \n",
      "该次摸牌结束后             \t[3, 5, 7]                     \t\n"
     ]
    }
   ],
   "source": [
    "state = \"3rd pick 第三次摸牌时\"\n",
    "sorted_cards = [3, 5]                      # 该列表中的元素可以认为是按从小到大排列好的\n",
    "cards_on_table = [7, 6]          # 该列表表示的是仍然在桌子上堆叠着的牌\n",
    "card_being_picked = cards_on_table.pop(0)    # 一次摸牌的过程\n",
    "print(\"{:^20}\\t{:30}\\t{:20}\\t{:30}\".format(\"State\", \"Cards sorted in left hand\", \n",
    "                              \"Card being picked\", \"Cards remaining on table\"))\n",
    "print(\"{:20}\\t{:30}\\t{:20}\\t{:30}\".format(state, str(sorted_cards), \n",
    "                                          str(card_being_picked), \n",
    "                                          str(cards_on_table)))\n",
    "position = 0                           # 0 是初始的（不正确）的位置值，需要调整\n",
    "\n",
    "# TODO: use loop to find a proper value and assign it to variable position\n",
    "#       使用循环找到正确的值并把它赋值给变量position\n",
    "#       这里的代码必须和后面的单元格里对应位置的代码一摸一样\n",
    "while True:\n",
    "    if card_being_picked == 3 or card_being_picked == 5:\n",
    "        position = 0\n",
    "        break\n",
    "    if card_being_picked == 7 or card_being_picked == 6:\n",
    "        position = 2\n",
    "        break\n",
    "sorted_cards.insert(position, card_being_picked)    # 在已经找到的位置插入摸的牌\n",
    "\n",
    "# 只有在position是正确的值时，改行打印出来的sorted_cards才是正确排好序的\n",
    "print(\"{:20}\\t{:30}\\t\".format(\"该次摸牌结束后\", str(sorted_cards)))\n",
    "# 正确的结果应该是: [3, 5, 7]"
   ]
  },
  {
   "cell_type": "code",
   "execution_count": 7,
   "id": "efaa8d5a",
   "metadata": {},
   "outputs": [
    {
     "name": "stdout",
     "output_type": "stream",
     "text": [
      "       State        \tCards sorted in left hand     \tCard being picked   \tCards remaining on table      \n",
      "4th pick 第四次摸牌时     \t[3, 5, 7]                     \t6                   \t[]                            \n",
      "该次摸牌结束后             \t[3, 5, 6, 7]                  \t\n"
     ]
    }
   ],
   "source": [
    "state = \"4th pick 第四次摸牌时\"\n",
    "sorted_cards = [3, 5, 7]                      # 该列表中的元素可以认为是按从小到大排列好的\n",
    "cards_on_table = [6]          # 该列表表示的是仍然在桌子上堆叠着的牌\n",
    "card_being_picked = cards_on_table.pop(0)    # 一次摸牌的过程\n",
    "print(\"{:^20}\\t{:30}\\t{:20}\\t{:30}\".format(\"State\", \"Cards sorted in left hand\", \n",
    "                              \"Card being picked\", \"Cards remaining on table\"))\n",
    "print(\"{:20}\\t{:30}\\t{:20}\\t{:30}\".format(state, str(sorted_cards), \n",
    "                                          str(card_being_picked), \n",
    "                                          str(cards_on_table)))\n",
    "position = 0                           # 0 是初始的（不正确）的位置值，需要调整\n",
    "\n",
    "# TODO: use loop to find a proper value and assign it to variable position\n",
    "#       使用循环找到正确的值并把它赋值给变量position\n",
    "#       这里的代码必须和后面的单元格里对应位置的代码一摸一样\n",
    "while True:\n",
    "    if card_being_picked == 3 or card_being_picked == 5:\n",
    "        position = 0\n",
    "        break\n",
    "    if card_being_picked == 7 or card_being_picked == 6:\n",
    "        position = 2\n",
    "        break\n",
    "sorted_cards.insert(position, card_being_picked)    # 在已经找到的位置插入摸的牌\n",
    "\n",
    "# 只有在position是正确的值时，改行打印出来的sorted_cards才是正确排好序的\n",
    "print(\"{:20}\\t{:30}\\t\".format(\"该次摸牌结束后\", str(sorted_cards)))\n",
    "# 正确的结果应该是: [3, 5, 6, 7]"
   ]
  },
  {
   "cell_type": "code",
   "execution_count": 8,
   "id": "6e25ec66",
   "metadata": {},
   "outputs": [
    {
     "name": "stdout",
     "output_type": "stream",
     "text": [
      "       State        \tCards sorted in left hand     \tCard being picked   \tCards remaining on table      \n",
      "摸牌完毕后 picking complete\t[3, 5, 6, 7]                  \tNone                \t[]                            \n"
     ]
    }
   ],
   "source": [
    "# Do not modify this cell 不要改动这个单元格的代码\n",
    "state = \"摸牌完毕后 picking complete\"\n",
    "cards_on_table = []\n",
    "card_being_picked = None          # always top card on table \n",
    "print(\"{:^20}\\t{:30}\\t{:20}\\t{:30}\".format(\"State\", \"Cards sorted in left hand\", \n",
    "                              \"Card being picked\", \"Cards remaining on table\"))\n",
    "print(\"{:20}\\t{:30}\\t{:20}\\t{:30}\".format(state, str(sorted_cards), \n",
    "                                          str(card_being_picked), \n",
    "                                          str(cards_on_table)))\n"
   ]
  },
  {
   "cell_type": "code",
   "execution_count": null,
   "id": "fe662928",
   "metadata": {},
   "outputs": [],
   "source": []
  }
 ],
 "metadata": {
  "kernelspec": {
   "display_name": "Python 3 (ipykernel)",
   "language": "python",
   "name": "python3"
  },
  "language_info": {
   "codemirror_mode": {
    "name": "ipython",
    "version": 3
   },
   "file_extension": ".py",
   "mimetype": "text/x-python",
   "name": "python",
   "nbconvert_exporter": "python",
   "pygments_lexer": "ipython3",
   "version": "3.9.0"
  }
 },
 "nbformat": 4,
 "nbformat_minor": 5
}
