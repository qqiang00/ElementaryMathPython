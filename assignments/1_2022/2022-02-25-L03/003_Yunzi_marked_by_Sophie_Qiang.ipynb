{
 "cells": [
  {
   "cell_type": "markdown",
   "id": "variable-ground",
   "metadata": {},
   "source": [
    "## 第03讲 和计算机对话\n",
    "Lecture03 Communicate with Computer"
   ]
  },
  {
   "cell_type": "markdown",
   "id": "brazilian-somalia",
   "metadata": {
    "heading_collapsed": true
   },
   "source": [
    "### Assignments 作业\n",
    "\n",
    "**<span style=\"color:red\">100/100</span>** Marked by Qiang"
   ]
  },
  {
   "cell_type": "markdown",
   "id": "forced-wholesale",
   "metadata": {},
   "source": [
    "1. Referring to the example in this lecture, design a simple program that can perform **subtraction**. When the program runs, first print out a sentence telling that the computer will do a **substraction** operation and who will be **minuend** and **subtrahend**, respectively. You can determin the content by yourself but the information should be clear enough without any ambiguity. The rest of the requirements are the same as the example in this lecture. \n",
    "\n",
    "   参照本讲示例的内容，设计一个简单的可以进行减法运算的程序。当程序运行时，你需要首先向屏幕打印输出一行文字，提示即将进行的是减法运算以及明确**被减数**和**减数**。你可以自己决定文字的具体内容，但必须足够清晰以及没有歧义。其它要求同本讲示例的要求。\n",
    "    \n",
    "   **Think and Answer in text**： If the subtrahend is greater than minuend, will your program provide an answer? \n",
    "   \n",
    "   **思考并用文字回答**:如果减数比被减数大，你的程序能给出一个答案吗？"
   ]
  },
  {
   "cell_type": "code",
   "execution_count": 3,
   "id": "starting-norfolk",
   "metadata": {},
   "outputs": [
    {
     "name": "stdout",
     "output_type": "stream",
     "text": [
      "我可以帮你计算一个减法算式。\n"
     ]
    },
    {
     "name": "stdin",
     "output_type": "stream",
     "text": [
      "请输入一个被减数： 78\n",
      "请输入一个减数： 23\n"
     ]
    },
    {
     "name": "stdout",
     "output_type": "stream",
     "text": [
      "78 - 23 = 55\n"
     ]
    }
   ],
   "source": [
    "# write your code here\n",
    "print(\"我可以帮你计算一个减法算式。\")\n",
    "num1 = int(input(\"请输入一个被减数：\"))\n",
    "num2 = int(input(\"请输入一个减数：\"))\n",
    "difference = num1 - num2\n",
    "print(num1, \"-\", num2, \"=\", difference)"
   ]
  },
  {
   "cell_type": "code",
   "execution_count": 16,
   "id": "vertical-shannon",
   "metadata": {},
   "outputs": [],
   "source": [
    "# write your answer for the thinking here\n",
    "# 可以，因为0下面还有负数。"
   ]
  },
  {
   "cell_type": "markdown",
   "id": "nonprofit-carol",
   "metadata": {},
   "source": [
    "2. Referring to the example in this lecture, design a simple program that can perform **Division**. When the program runs, first print out a sentence telling that the computer will do a **Division** operation and who will be **Dividend** and **divisor**, respectively. You can determin the content by yourself but the information should be clear enough without any ambiguity. The rest of the requirements are the same as the example in this lecture. \n",
    "\n",
    "   参照本讲示例的内容，设计一个简单的可以进行**除法**的程序。当程序运行时，你需要首先向屏幕打印输出一行文字，提示即将进行的是**除法**运算以及明确**被除数**和**除数**。你可以自己决定文字的具体内容，但必须足够清晰以及没有歧义。其它要求同本讲示例的要求。\n",
    "    \n",
    "   **Think and Answer in text**： If the divisor is equal to 0, will your program provide an answer? Why?\n",
    "   \n",
    "   **思考并用文字回答**:如果除数为0，你的程序能给出答案吗？ 为什么？"
   ]
  },
  {
   "cell_type": "code",
   "execution_count": 1,
   "id": "worse-input",
   "metadata": {},
   "outputs": [
    {
     "name": "stdout",
     "output_type": "stream",
     "text": [
      "我可以帮你计算一个除法算式。\n"
     ]
    },
    {
     "name": "stdin",
     "output_type": "stream",
     "text": [
      "请输入一个被除数： 2\n",
      "请输入一个除数： 0\n"
     ]
    },
    {
     "ename": "ZeroDivisionError",
     "evalue": "division by zero",
     "output_type": "error",
     "traceback": [
      "\u001b[1;31m---------------------------------------------------------------------------\u001b[0m",
      "\u001b[1;31mZeroDivisionError\u001b[0m                         Traceback (most recent call last)",
      "\u001b[1;32m<ipython-input-1-6d9e4d5c88cc>\u001b[0m in \u001b[0;36m<module>\u001b[1;34m\u001b[0m\n\u001b[0;32m      3\u001b[0m \u001b[0mnum1\u001b[0m \u001b[1;33m=\u001b[0m \u001b[0mint\u001b[0m\u001b[1;33m(\u001b[0m\u001b[0minput\u001b[0m\u001b[1;33m(\u001b[0m\u001b[1;34m\"请输入一个被除数：\"\u001b[0m\u001b[1;33m)\u001b[0m\u001b[1;33m)\u001b[0m\u001b[1;33m\u001b[0m\u001b[0m\n\u001b[0;32m      4\u001b[0m \u001b[0mnum2\u001b[0m \u001b[1;33m=\u001b[0m \u001b[0mint\u001b[0m\u001b[1;33m(\u001b[0m\u001b[0minput\u001b[0m\u001b[1;33m(\u001b[0m\u001b[1;34m\"请输入一个除数：\"\u001b[0m\u001b[1;33m)\u001b[0m\u001b[1;33m)\u001b[0m\u001b[1;33m\u001b[0m\u001b[0m\n\u001b[1;32m----> 5\u001b[1;33m \u001b[0mquotient\u001b[0m \u001b[1;33m=\u001b[0m \u001b[0mnum1\u001b[0m \u001b[1;33m/\u001b[0m \u001b[0mnum2\u001b[0m\u001b[1;33m\u001b[0m\u001b[0m\n\u001b[0m\u001b[0;32m      6\u001b[0m \u001b[0mprint\u001b[0m\u001b[1;33m(\u001b[0m\u001b[0mnum1\u001b[0m\u001b[1;33m,\u001b[0m \u001b[1;34m\"÷\"\u001b[0m\u001b[1;33m,\u001b[0m \u001b[0mnum2\u001b[0m\u001b[1;33m,\u001b[0m \u001b[1;34m\"=\"\u001b[0m\u001b[1;33m,\u001b[0m \u001b[0mquotient\u001b[0m\u001b[1;33m)\u001b[0m\u001b[1;33m\u001b[0m\u001b[0m\n",
      "\u001b[1;31mZeroDivisionError\u001b[0m: division by zero"
     ]
    }
   ],
   "source": [
    "# write your code here\n",
    "print(\"我可以帮你计算一个除法算式。\")\n",
    "num1 = int(input(\"请输入一个被除数：\"))\n",
    "num2 = int(input(\"请输入一个除数：\"))\n",
    "quotient = num1 / num2\n",
    "print(num1, \"÷\", num2, \"=\", quotient)"
   ]
  },
  {
   "cell_type": "code",
   "execution_count": 2,
   "id": "usual-installation",
   "metadata": {},
   "outputs": [],
   "source": [
    "# write your answer for the thinking here\n",
    "# 不能，因为被除数在乘法里是商，而任何数乘0都等于0，但是如果除数为0，那就打破了任何数乘0都等于0的规则，所以会出错。"
   ]
  },
  {
   "cell_type": "markdown",
   "id": "noticed-voluntary",
   "metadata": {},
   "source": [
    "3. Use the 2rd to 11th code cells, write a piece of code in a separate code cell to make the program accepts input from the keyboard. Enter the each content listed below in one code cell, try to convert the received string data to an integer using the `int` method, print it out to the screen again. Observe whether the program can run normally without errors. Write all results in the first code cell as a comment. The first data `0` is given as an example. 使用第2-11个单元格，分别用一个单独的代码单元格编写一段代码，使得程序接受来自键盘的输入。通过键盘输入下面所列的内容，尝试使用`int`方法把接收到的字符串数据转换为整数，并再次打印输出到屏幕上。观察程序是否能够正常运行并把每次结果汇总作为注释写在第一个代码单元格中。\n",
    "\n",
    "   输入的内容依次为：`0`, `100`, `10.1`, `10.9`, `\"100\"`, `Milly`, `\"Milly\"`, `Cynthia`, `\"Cynthia\"`, ` `, 共计10个。"
   ]
  },
  {
   "cell_type": "code",
   "execution_count": 20,
   "id": "knowing-kruger",
   "metadata": {},
   "outputs": [],
   "source": [
    "# Code Cell 1 for your final text answer\n",
    "# 0          Success, the integer is: 0\n",
    "# 100        Success, the integer is: 100\n",
    "# 10.1       defeat\n",
    "# 10.9       defeat\n",
    "# \"100\"      defeat\n",
    "# Milly      defeat\n",
    "# \"Milly\"    defeat\n",
    "# Cynthia    defeat\n",
    "# “Cynthia\"  defeat\n",
    "#            defeat"
   ]
  },
  {
   "cell_type": "code",
   "execution_count": 25,
   "id": "alien-spiritual",
   "metadata": {},
   "outputs": [
    {
     "name": "stdin",
     "output_type": "stream",
     "text": [
      " 0\n"
     ]
    },
    {
     "name": "stdout",
     "output_type": "stream",
     "text": [
      "0\n"
     ]
    }
   ],
   "source": [
    "# Code Cell 2 for your code for the input 0\n",
    "my_input = input()\n",
    "num1 = int(my_input)\n",
    "print(num1)"
   ]
  },
  {
   "cell_type": "code",
   "execution_count": 7,
   "id": "better-income",
   "metadata": {},
   "outputs": [
    {
     "name": "stdin",
     "output_type": "stream",
     "text": [
      " 100\n"
     ]
    },
    {
     "name": "stdout",
     "output_type": "stream",
     "text": [
      "100\n"
     ]
    }
   ],
   "source": [
    "# Code Cell 3 for your code for the input 100\n",
    "my_input = input()\n",
    "num1 = int(my_input)\n",
    "print(num1)"
   ]
  },
  {
   "cell_type": "code",
   "execution_count": 4,
   "id": "practical-toner",
   "metadata": {},
   "outputs": [
    {
     "name": "stdin",
     "output_type": "stream",
     "text": [
      " 10.1\n"
     ]
    },
    {
     "ename": "ValueError",
     "evalue": "invalid literal for int() with base 10: '10.1'",
     "output_type": "error",
     "traceback": [
      "\u001b[1;31m---------------------------------------------------------------------------\u001b[0m",
      "\u001b[1;31mValueError\u001b[0m                                Traceback (most recent call last)",
      "\u001b[1;32m<ipython-input-4-92c724a7f6df>\u001b[0m in \u001b[0;36m<module>\u001b[1;34m\u001b[0m\n\u001b[0;32m      1\u001b[0m \u001b[1;31m# Code Cell 4 for your code for the input 10.1\u001b[0m\u001b[1;33m\u001b[0m\u001b[1;33m\u001b[0m\u001b[0m\n\u001b[0;32m      2\u001b[0m \u001b[1;33m\u001b[0m\u001b[0m\n\u001b[1;32m----> 3\u001b[1;33m \u001b[0mnum1\u001b[0m \u001b[1;33m=\u001b[0m \u001b[0mint\u001b[0m\u001b[1;33m(\u001b[0m\u001b[0minput\u001b[0m\u001b[1;33m(\u001b[0m\u001b[1;33m)\u001b[0m\u001b[1;33m)\u001b[0m\u001b[1;33m\u001b[0m\u001b[0m\n\u001b[0m\u001b[0;32m      4\u001b[0m \u001b[0mprint\u001b[0m\u001b[1;33m(\u001b[0m\u001b[0mnum1\u001b[0m\u001b[1;33m)\u001b[0m\u001b[1;33m\u001b[0m\u001b[0m\n",
      "\u001b[1;31mValueError\u001b[0m: invalid literal for int() with base 10: '10.1'"
     ]
    }
   ],
   "source": [
    "# Code Cell 4 for your code for the input 10.1\n",
    "\n",
    "num1 = int(input())\n",
    "print(num1)"
   ]
  },
  {
   "cell_type": "code",
   "execution_count": 9,
   "id": "prepared-burke",
   "metadata": {},
   "outputs": [
    {
     "name": "stdin",
     "output_type": "stream",
     "text": [
      " 10.9\n"
     ]
    },
    {
     "ename": "ValueError",
     "evalue": "invalid literal for int() with base 10: '10.9'",
     "output_type": "error",
     "traceback": [
      "\u001b[1;31m---------------------------------------------------------------------------\u001b[0m",
      "\u001b[1;31mValueError\u001b[0m                                Traceback (most recent call last)",
      "\u001b[1;32m<ipython-input-9-1b35ec19e0ab>\u001b[0m in \u001b[0;36m<module>\u001b[1;34m\u001b[0m\n\u001b[0;32m      1\u001b[0m \u001b[1;31m# Code Cell 5 for your code for the input 10.9\u001b[0m\u001b[1;33m\u001b[0m\u001b[1;33m\u001b[0m\u001b[0m\n\u001b[0;32m      2\u001b[0m \u001b[0mmy_input\u001b[0m \u001b[1;33m=\u001b[0m \u001b[0minput\u001b[0m\u001b[1;33m(\u001b[0m\u001b[1;33m)\u001b[0m\u001b[1;33m\u001b[0m\u001b[0m\n\u001b[1;32m----> 3\u001b[1;33m \u001b[0mnum1\u001b[0m \u001b[1;33m=\u001b[0m \u001b[0mint\u001b[0m\u001b[1;33m(\u001b[0m\u001b[0mmy_input\u001b[0m\u001b[1;33m)\u001b[0m\u001b[1;33m\u001b[0m\u001b[0m\n\u001b[0m\u001b[0;32m      4\u001b[0m \u001b[0mprint\u001b[0m\u001b[1;33m(\u001b[0m\u001b[0mnum1\u001b[0m\u001b[1;33m)\u001b[0m\u001b[1;33m\u001b[0m\u001b[0m\n",
      "\u001b[1;31mValueError\u001b[0m: invalid literal for int() with base 10: '10.9'"
     ]
    }
   ],
   "source": [
    "# Code Cell 5 for your code for the input 10.9\n",
    "my_input = input()\n",
    "num1 = int(my_input)\n",
    "print(num1)"
   ]
  },
  {
   "cell_type": "code",
   "execution_count": 21,
   "id": "traditional-coral",
   "metadata": {},
   "outputs": [
    {
     "name": "stdin",
     "output_type": "stream",
     "text": [
      " \"100\"\n"
     ]
    },
    {
     "ename": "ValueError",
     "evalue": "invalid literal for int() with base 10: '\"100\"'",
     "output_type": "error",
     "traceback": [
      "\u001b[1;31m---------------------------------------------------------------------------\u001b[0m",
      "\u001b[1;31mValueError\u001b[0m                                Traceback (most recent call last)",
      "\u001b[1;32m<ipython-input-21-6d2f66b11dd2>\u001b[0m in \u001b[0;36m<module>\u001b[1;34m\u001b[0m\n\u001b[0;32m      1\u001b[0m \u001b[1;31m# Code Cell 6 for your code for the input \"100\"\u001b[0m\u001b[1;33m\u001b[0m\u001b[1;33m\u001b[0m\u001b[0m\n\u001b[0;32m      2\u001b[0m \u001b[0mmy_input\u001b[0m \u001b[1;33m=\u001b[0m \u001b[0minput\u001b[0m\u001b[1;33m(\u001b[0m\u001b[1;33m)\u001b[0m\u001b[1;33m\u001b[0m\u001b[0m\n\u001b[1;32m----> 3\u001b[1;33m \u001b[0mnum1\u001b[0m \u001b[1;33m=\u001b[0m \u001b[0mint\u001b[0m\u001b[1;33m(\u001b[0m\u001b[0mmy_input\u001b[0m\u001b[1;33m)\u001b[0m\u001b[1;33m\u001b[0m\u001b[0m\n\u001b[0m\u001b[0;32m      4\u001b[0m \u001b[0mprint\u001b[0m\u001b[1;33m(\u001b[0m\u001b[0mnum1\u001b[0m\u001b[1;33m)\u001b[0m\u001b[1;33m\u001b[0m\u001b[0m\n",
      "\u001b[1;31mValueError\u001b[0m: invalid literal for int() with base 10: '\"100\"'"
     ]
    }
   ],
   "source": [
    "# Code Cell 6 for your code for the input \n",
    "my_input = input()\n",
    "num1 = int(my_input)\n",
    "print(num1)"
   ]
  },
  {
   "cell_type": "code",
   "execution_count": 1,
   "id": "turkish-whale",
   "metadata": {},
   "outputs": [
    {
     "name": "stdin",
     "output_type": "stream",
     "text": [
      " Milly\n"
     ]
    },
    {
     "ename": "ValueError",
     "evalue": "invalid literal for int() with base 10: 'Milly'",
     "output_type": "error",
     "traceback": [
      "\u001b[1;31m---------------------------------------------------------------------------\u001b[0m",
      "\u001b[1;31mValueError\u001b[0m                                Traceback (most recent call last)",
      "\u001b[1;32m<ipython-input-1-1b6b27cbf695>\u001b[0m in \u001b[0;36m<module>\u001b[1;34m\u001b[0m\n\u001b[0;32m      1\u001b[0m \u001b[1;31m# Code Cell 7 for your code for the input Milly\u001b[0m\u001b[1;33m\u001b[0m\u001b[1;33m\u001b[0m\u001b[0m\n\u001b[0;32m      2\u001b[0m \u001b[0mmy_input\u001b[0m \u001b[1;33m=\u001b[0m \u001b[0minput\u001b[0m\u001b[1;33m(\u001b[0m\u001b[1;33m)\u001b[0m\u001b[1;33m\u001b[0m\u001b[0m\n\u001b[1;32m----> 3\u001b[1;33m \u001b[0mnum1\u001b[0m \u001b[1;33m=\u001b[0m \u001b[0mint\u001b[0m\u001b[1;33m(\u001b[0m\u001b[0mmy_input\u001b[0m\u001b[1;33m)\u001b[0m\u001b[1;33m\u001b[0m\u001b[0m\n\u001b[0m\u001b[0;32m      4\u001b[0m \u001b[0mprint\u001b[0m\u001b[1;33m(\u001b[0m\u001b[0mnum1\u001b[0m\u001b[1;33m)\u001b[0m\u001b[1;33m\u001b[0m\u001b[0m\n",
      "\u001b[1;31mValueError\u001b[0m: invalid literal for int() with base 10: 'Milly'"
     ]
    }
   ],
   "source": [
    "# Code Cell 7 for your code for the input Milly\n",
    "my_input = input()\n",
    "num1 = int(my_input)\n",
    "print(num1)"
   ]
  },
  {
   "cell_type": "code",
   "execution_count": 2,
   "id": "respiratory-interim",
   "metadata": {},
   "outputs": [
    {
     "name": "stdin",
     "output_type": "stream",
     "text": [
      " \"Milly\"\n"
     ]
    },
    {
     "ename": "ValueError",
     "evalue": "invalid literal for int() with base 10: '\"Milly\"'",
     "output_type": "error",
     "traceback": [
      "\u001b[1;31m---------------------------------------------------------------------------\u001b[0m",
      "\u001b[1;31mValueError\u001b[0m                                Traceback (most recent call last)",
      "\u001b[1;32m<ipython-input-2-70cb3424ec3a>\u001b[0m in \u001b[0;36m<module>\u001b[1;34m\u001b[0m\n\u001b[0;32m      1\u001b[0m \u001b[1;31m# Code Cell 8 for your code for the input \"Milly\"\u001b[0m\u001b[1;33m\u001b[0m\u001b[1;33m\u001b[0m\u001b[0m\n\u001b[0;32m      2\u001b[0m \u001b[0mmy_input\u001b[0m \u001b[1;33m=\u001b[0m \u001b[0minput\u001b[0m\u001b[1;33m(\u001b[0m\u001b[1;33m)\u001b[0m\u001b[1;33m\u001b[0m\u001b[0m\n\u001b[1;32m----> 3\u001b[1;33m \u001b[0mnum1\u001b[0m \u001b[1;33m=\u001b[0m \u001b[0mint\u001b[0m\u001b[1;33m(\u001b[0m\u001b[0mmy_input\u001b[0m\u001b[1;33m)\u001b[0m\u001b[1;33m\u001b[0m\u001b[0m\n\u001b[0m\u001b[0;32m      4\u001b[0m \u001b[0mprint\u001b[0m\u001b[1;33m(\u001b[0m\u001b[0mnum1\u001b[0m\u001b[1;33m)\u001b[0m\u001b[1;33m\u001b[0m\u001b[0m\n",
      "\u001b[1;31mValueError\u001b[0m: invalid literal for int() with base 10: '\"Milly\"'"
     ]
    }
   ],
   "source": [
    "# Code Cell 8 for your code for the input \"Milly\"\n",
    "my_input = input()\n",
    "num1 = int(my_input)\n",
    "print(num1)"
   ]
  },
  {
   "cell_type": "code",
   "execution_count": 3,
   "id": "organized-daisy",
   "metadata": {},
   "outputs": [
    {
     "name": "stdin",
     "output_type": "stream",
     "text": [
      " Cynthia\n"
     ]
    },
    {
     "ename": "ValueError",
     "evalue": "invalid literal for int() with base 10: 'Cynthia'",
     "output_type": "error",
     "traceback": [
      "\u001b[1;31m---------------------------------------------------------------------------\u001b[0m",
      "\u001b[1;31mValueError\u001b[0m                                Traceback (most recent call last)",
      "\u001b[1;32m<ipython-input-3-36c8731004fb>\u001b[0m in \u001b[0;36m<module>\u001b[1;34m\u001b[0m\n\u001b[0;32m      1\u001b[0m \u001b[1;31m# Code Cell 9 for your code for the input Cynthia\u001b[0m\u001b[1;33m\u001b[0m\u001b[1;33m\u001b[0m\u001b[0m\n\u001b[0;32m      2\u001b[0m \u001b[0mmy_input\u001b[0m \u001b[1;33m=\u001b[0m \u001b[0minput\u001b[0m\u001b[1;33m(\u001b[0m\u001b[1;33m)\u001b[0m\u001b[1;33m\u001b[0m\u001b[0m\n\u001b[1;32m----> 3\u001b[1;33m \u001b[0mnum1\u001b[0m \u001b[1;33m=\u001b[0m \u001b[0mint\u001b[0m\u001b[1;33m(\u001b[0m\u001b[0mmy_input\u001b[0m\u001b[1;33m)\u001b[0m\u001b[1;33m\u001b[0m\u001b[0m\n\u001b[0m\u001b[0;32m      4\u001b[0m \u001b[0mprint\u001b[0m\u001b[1;33m(\u001b[0m\u001b[0mnum1\u001b[0m\u001b[1;33m)\u001b[0m\u001b[1;33m\u001b[0m\u001b[0m\n",
      "\u001b[1;31mValueError\u001b[0m: invalid literal for int() with base 10: 'Cynthia'"
     ]
    }
   ],
   "source": [
    "# Code Cell 9 for your code for the input Cynthia\n",
    "my_input = input()\n",
    "num1 = int(my_input)\n",
    "print(num1)"
   ]
  },
  {
   "cell_type": "code",
   "execution_count": 4,
   "id": "billion-language",
   "metadata": {},
   "outputs": [
    {
     "name": "stdin",
     "output_type": "stream",
     "text": [
      " \"Cynthia\"\n"
     ]
    },
    {
     "ename": "ValueError",
     "evalue": "invalid literal for int() with base 10: '\"Cynthia\"'",
     "output_type": "error",
     "traceback": [
      "\u001b[1;31m---------------------------------------------------------------------------\u001b[0m",
      "\u001b[1;31mValueError\u001b[0m                                Traceback (most recent call last)",
      "\u001b[1;32m<ipython-input-4-87b694d5af01>\u001b[0m in \u001b[0;36m<module>\u001b[1;34m\u001b[0m\n\u001b[0;32m      1\u001b[0m \u001b[1;31m# Code Cell 10 for your code for the input \"Cynthia\"\u001b[0m\u001b[1;33m\u001b[0m\u001b[1;33m\u001b[0m\u001b[0m\n\u001b[0;32m      2\u001b[0m \u001b[0mmy_input\u001b[0m \u001b[1;33m=\u001b[0m \u001b[0minput\u001b[0m\u001b[1;33m(\u001b[0m\u001b[1;33m)\u001b[0m\u001b[1;33m\u001b[0m\u001b[0m\n\u001b[1;32m----> 3\u001b[1;33m \u001b[0mnum1\u001b[0m \u001b[1;33m=\u001b[0m \u001b[0mint\u001b[0m\u001b[1;33m(\u001b[0m\u001b[0mmy_input\u001b[0m\u001b[1;33m)\u001b[0m\u001b[1;33m\u001b[0m\u001b[0m\n\u001b[0m\u001b[0;32m      4\u001b[0m \u001b[0mprint\u001b[0m\u001b[1;33m(\u001b[0m\u001b[0mnum1\u001b[0m\u001b[1;33m)\u001b[0m\u001b[1;33m\u001b[0m\u001b[0m\n",
      "\u001b[1;31mValueError\u001b[0m: invalid literal for int() with base 10: '\"Cynthia\"'"
     ]
    }
   ],
   "source": [
    "# Code Cell 10 for your code for the input \"Cynthia\"\n",
    "my_input = input()\n",
    "num1 = int(my_input)\n",
    "print(num1)"
   ]
  },
  {
   "cell_type": "code",
   "execution_count": 12,
   "id": "exact-guatemala",
   "metadata": {},
   "outputs": [
    {
     "name": "stdin",
     "output_type": "stream",
     "text": [
      " \n"
     ]
    },
    {
     "ename": "ValueError",
     "evalue": "invalid literal for int() with base 10: ''",
     "output_type": "error",
     "traceback": [
      "\u001b[1;31m---------------------------------------------------------------------------\u001b[0m",
      "\u001b[1;31mValueError\u001b[0m                                Traceback (most recent call last)",
      "\u001b[1;32m<ipython-input-12-e42e9f5f1229>\u001b[0m in \u001b[0;36m<module>\u001b[1;34m\u001b[0m\n\u001b[0;32m      1\u001b[0m \u001b[1;31m# Code Cell 11 for your code for the input  <a blank character> <一个空格字符>\u001b[0m\u001b[1;33m\u001b[0m\u001b[1;33m\u001b[0m\u001b[0m\n\u001b[0;32m      2\u001b[0m \u001b[0mmy_input\u001b[0m \u001b[1;33m=\u001b[0m \u001b[0minput\u001b[0m\u001b[1;33m(\u001b[0m\u001b[1;33m)\u001b[0m\u001b[1;33m\u001b[0m\u001b[0m\n\u001b[1;32m----> 3\u001b[1;33m \u001b[0mnum1\u001b[0m \u001b[1;33m=\u001b[0m \u001b[0mint\u001b[0m\u001b[1;33m(\u001b[0m\u001b[0mmy_input\u001b[0m\u001b[1;33m)\u001b[0m\u001b[1;33m\u001b[0m\u001b[0m\n\u001b[0m\u001b[0;32m      4\u001b[0m \u001b[0mprint\u001b[0m\u001b[1;33m(\u001b[0m\u001b[0mnum1\u001b[0m\u001b[1;33m)\u001b[0m\u001b[1;33m\u001b[0m\u001b[0m\n",
      "\u001b[1;31mValueError\u001b[0m: invalid literal for int() with base 10: ''"
     ]
    }
   ],
   "source": [
    "# Code Cell 11 for your code for the input  <a blank character> <一个空格字符>\n",
    "my_input = input()\n",
    "num1 = int(my_input)\n",
    "print(num1)"
   ]
  },
  {
   "cell_type": "markdown",
   "id": "canadian-suite",
   "metadata": {
    "hidden": true
   },
   "source": [
    "4. You are able to design some simple programs. When you are writing and running programs, the computer is like your little assistant to help you solve some mathematical and real problems. As your assistant, the computer would like to know some of your personal information, such as your name, age, age, what grade you are in school, etc. Please write a program to simulate the following dialogue between you and the computer.\n",
    "\n",
    "   你现在已经能够设计一些最简单的程序了。在编写并运行程序的过程中，计算机就相当于你的小助手协助你解决一些数学和实际问题。作为你的小助手，计算机很想知道你的一些个人信息，比如你的姓名、年龄、年龄、你在几年级上学等。请你编写一段程序模拟下面这段你与计算机之间的对话。\n",
    "   \n",
    "   **Note1**:Before writing the program, give your computer a virtual name, such as \"Happy Little Computer\". Ask your parents how old the computer is, such as 5 years old. These information will be included in the dialog. \n",
    "   \n",
    "   **注意1**：在正式编写程序之前，给你的计算机起一个虚拟的名字，例如“开心小电脑”。询问你的爸爸妈妈正在使用的这台计算机的岁数，例如5岁。这些信息需要再对话中使用。\n",
    "   \n",
    "   **Note2**: In addition to your name, age, and class level, please provide another piece of you personal information to your assistant. Use a descent style to include this information in the dialog between you and your assitant by programming. \n",
    "   \n",
    "   **注意2**：除了姓名、年龄，和年级之外，请你再向计算机提供一条关于你的个人信息，并通过编程体现与计算机的对话中，注意衔接自然。\n",
    "\n",
    "    ```text\n",
    "    - Computer: Hello, my name is Happy Little Computer, what is your name?\n",
    "    - You: (enter your name, eg. XXX)\n",
    "    - Computer: Hello, XXX , nice to meet you. I'd be happy to help you learn programming. How old are you?\n",
    "    - you: (enter age, eg. Y)\n",
    "    - Computer: You are already Y years old. I am 5 years old. What grade are you in school?\n",
    "    - You: (Enter your grade, eg. \"4th grade of primary school\")\n",
    "    - Computer: \"You must be able to learn a lot of new things in 4th grade of primary school. Let's learn and progress together.\n",
    "    - You: Okay, but I'm going to play outside. I'll see you again when I do my programming homework, bye!\n",
    "    - Computer: OK, bye!\n",
    "\n",
    "    - 计算机：你好，我叫 开心小电脑 ，你叫什么名字？\n",
    "    - 你：（输入你的名字，例如XXX）\n",
    "    - 计算机：XXX ，你好，很高兴认识你，我也很乐意协助你一起学习编程。你今年几岁了？\n",
    "    - 你：（输入年龄，例如Y）\n",
    "    - 计算机：原来你今年已经 Y 岁啦。我今年也有 5 岁了。你上小学几年级了？\n",
    "    - 你：（输入你的年级，例如“小学4年级”）\n",
    "    - 计算机：“小学4年级 一定能学到很多新的知识吧，咱们一起学习进步。\n",
    "    - 你：好的，可是我现在要出去玩了，等我写编程作业的时候再来找你，再见！\n",
    "    - 计算机：好的，再见！\n",
    "    ```"
   ]
  },
  {
   "cell_type": "code",
   "execution_count": 24,
   "id": "representative-professor",
   "metadata": {
    "hidden": true
   },
   "outputs": [
    {
     "name": "stdout",
     "output_type": "stream",
     "text": [
      "-你好,我叫HONOR,你叫啥?\n"
     ]
    },
    {
     "name": "stdin",
     "output_type": "stream",
     "text": [
      "-我叫 yunzi\n"
     ]
    },
    {
     "name": "stdout",
     "output_type": "stream",
     "text": [
      "-你好 yunzi ,那今年你几岁了?\n"
     ]
    },
    {
     "name": "stdin",
     "output_type": "stream",
     "text": [
      "- 10岁\n"
     ]
    },
    {
     "name": "stdout",
     "output_type": "stream",
     "text": [
      "- 10岁 是个上学的年龄了,你上几年级?\n"
     ]
    },
    {
     "name": "stdin",
     "output_type": "stream",
     "text": [
      "-我上 4年级\n"
     ]
    },
    {
     "name": "stdout",
     "output_type": "stream",
     "text": [
      "- 4年级 的课难不难?\n"
     ]
    },
    {
     "name": "stdin",
     "output_type": "stream",
     "text": [
      "- 还好。对了,我现在要出去玩了,明天再来找你玩,再见\n"
     ]
    },
    {
     "name": "stdout",
     "output_type": "stream",
     "text": [
      "-再见!\n"
     ]
    }
   ],
   "source": [
    "print(\"-你好,我叫HONOR,你叫啥?\")\n",
    "me = input(\"-我叫\")\n",
    "print(\"-你好\",me,\",那今年你几岁了?\")\n",
    "me2 = input(\"-\")\n",
    "print(\"-\",me2,\"是个上学的年龄了,你上几年级?\")\n",
    "me3 = input(\"-我上\")\n",
    "print(\"-\",me3,\"的课难不难?\")\n",
    "input(\"-\")\n",
    "print(\"-再见!\")"
   ]
  },
  {
   "cell_type": "code",
   "execution_count": null,
   "id": "minute-victor",
   "metadata": {},
   "outputs": [],
   "source": []
  }
 ],
 "metadata": {
  "kernelspec": {
   "display_name": "Python 3",
   "language": "python",
   "name": "python3"
  },
  "language_info": {
   "codemirror_mode": {
    "name": "ipython",
    "version": 3
   },
   "file_extension": ".py",
   "mimetype": "text/x-python",
   "name": "python",
   "nbconvert_exporter": "python",
   "pygments_lexer": "ipython3",
   "version": "3.8.10"
  }
 },
 "nbformat": 4,
 "nbformat_minor": 5
}
