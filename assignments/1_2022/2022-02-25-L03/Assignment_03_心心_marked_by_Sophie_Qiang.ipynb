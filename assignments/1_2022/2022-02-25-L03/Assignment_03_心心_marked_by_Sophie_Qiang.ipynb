{
 "cells": [
  {
   "cell_type": "markdown",
   "id": "e498e530-4c13-473f-8540-85689c99b59d",
   "metadata": {},
   "source": [
    "**<span style=\"color:red\">90/100</span>** Marked by Qiang\n",
    "\n",
    "第二题把除法写成了减法，扣除了10分 :("
   ]
  },
  {
   "cell_type": "code",
   "execution_count": null,
   "id": "3d97b564-e141-4809-8dfa-e10a45b1c53f",
   "metadata": {},
   "outputs": [],
   "source": [
    "#1.code\n",
    "print(\"The computer will do a subtraction equation. \")\n",
    "num1 = input(\"What will be the minuend?\")\n",
    "num2 = input(\"What will be the subtrahend?\")\n",
    "difference = int(num1) - int(num2)\n",
    "print(\"The answer to your problem is \", difference, \".\")"
   ]
  },
  {
   "cell_type": "code",
   "execution_count": null,
   "id": "34fd3cae-2f4d-4172-b9fd-9121c4ab0616",
   "metadata": {},
   "outputs": [],
   "source": [
    "#1.thoughts\n",
    "print(\"I think that there will be a result even if the subtrahend is greater than the minuend.\")"
   ]
  },
  {
   "cell_type": "code",
   "execution_count": null,
   "id": "c8e9f244-f130-4cbf-8bcb-29de9a8c6a2a",
   "metadata": {},
   "outputs": [],
   "source": [
    "#2.code\n",
    "print(\"The computer will do a  division equation. \")\n",
    "num1 = input(\"What will be the divident?\")\n",
    "num2 = input(\"What will be the divisor?\")\n",
    "quotient = int(num1) - int(num2)\n",
    "print(\"The answer to your problem is \", quotient, \".\")"
   ]
  },
  {
   "cell_type": "code",
   "execution_count": 1,
   "id": "bbb5a3c4-3963-4e88-87a4-b57687dc6fda",
   "metadata": {},
   "outputs": [
    {
     "name": "stdout",
     "output_type": "stream",
     "text": [
      "I think that there will not be a result. A number divided by 0 is undefined.\n"
     ]
    }
   ],
   "source": [
    "#2.thoughts\n",
    "print(\"I think that there will not be a result. A number divided by 0 is undefined.\")"
   ]
  },
  {
   "cell_type": "code",
   "execution_count": 4,
   "id": "76eb46fa-1978-4134-b110-a1e7352a3b45",
   "metadata": {},
   "outputs": [],
   "source": [
    "# Final Text Answers\n",
    "# 0             | Success. Integer = 0        \n",
    "# 100           | Success. Integer = 100\n",
    "# 10.1          | Error. Cause = .\n",
    "# 10.9          | Error. Cause = .\n",
    "# \"100\"         | Error. Cause = \"\n",
    "# Milly         | Error.\n",
    "# \"Milly\"       | Error.\n",
    "# Cynthia       | Error.\n",
    "# “Cynthia\"     | Error.\n",
    "#               | Error."
   ]
  },
  {
   "cell_type": "code",
   "execution_count": 1,
   "id": "97c037a8-728f-44c1-9d5d-89f5813e4758",
   "metadata": {},
   "outputs": [
    {
     "name": "stdin",
     "output_type": "stream",
     "text": [
      "What number? 0\n"
     ]
    },
    {
     "name": "stdout",
     "output_type": "stream",
     "text": [
      "0\n"
     ]
    }
   ],
   "source": [
    "#3.input_0\n",
    "input1 = input(\"What number?\")\n",
    "num1 = int(input1)\n",
    "print(num1)"
   ]
  },
  {
   "cell_type": "code",
   "execution_count": 2,
   "id": "3371700c-833e-47a9-b7bc-4ba44cf410bd",
   "metadata": {},
   "outputs": [
    {
     "name": "stdin",
     "output_type": "stream",
     "text": [
      "What number? 100\n"
     ]
    },
    {
     "name": "stdout",
     "output_type": "stream",
     "text": [
      "100\n"
     ]
    }
   ],
   "source": [
    "#3.input_100\n",
    "input2 = input(\"What number?\")\n",
    "num2 = int(input2)\n",
    "print(num2)"
   ]
  },
  {
   "cell_type": "code",
   "execution_count": 3,
   "id": "d3d98e5a-4785-470c-b6c3-5e564f8a03f6",
   "metadata": {},
   "outputs": [
    {
     "name": "stdin",
     "output_type": "stream",
     "text": [
      "What number? 10.1\n"
     ]
    },
    {
     "ename": "ValueError",
     "evalue": "invalid literal for int() with base 10: '10.1'",
     "output_type": "error",
     "traceback": [
      "\u001b[0;31m---------------------------------------------------------------------------\u001b[0m",
      "\u001b[0;31mValueError\u001b[0m                                Traceback (most recent call last)",
      "Input \u001b[0;32mIn [3]\u001b[0m, in \u001b[0;36m<module>\u001b[0;34m\u001b[0m\n\u001b[1;32m      1\u001b[0m \u001b[38;5;66;03m#3.input_10.1\u001b[39;00m\n\u001b[1;32m      2\u001b[0m input3 \u001b[38;5;241m=\u001b[39m \u001b[38;5;28minput\u001b[39m(\u001b[38;5;124m\"\u001b[39m\u001b[38;5;124mWhat number?\u001b[39m\u001b[38;5;124m\"\u001b[39m)\n\u001b[0;32m----> 3\u001b[0m num3 \u001b[38;5;241m=\u001b[39m \u001b[38;5;28;43mint\u001b[39;49m\u001b[43m(\u001b[49m\u001b[43minput3\u001b[49m\u001b[43m)\u001b[49m\n\u001b[1;32m      4\u001b[0m \u001b[38;5;28mprint\u001b[39m(num3)\n",
      "\u001b[0;31mValueError\u001b[0m: invalid literal for int() with base 10: '10.1'"
     ]
    }
   ],
   "source": [
    "#3.input_10.1\n",
    "input3 = input(\"What number?\")\n",
    "num3 = int(input3)\n",
    "print(num3)"
   ]
  },
  {
   "cell_type": "code",
   "execution_count": 5,
   "id": "98e848bc-d457-4fd3-8480-c80e11668a75",
   "metadata": {},
   "outputs": [
    {
     "name": "stdin",
     "output_type": "stream",
     "text": [
      "What number? 10.9\n"
     ]
    },
    {
     "ename": "ValueError",
     "evalue": "invalid literal for int() with base 10: '10.9'",
     "output_type": "error",
     "traceback": [
      "\u001b[0;31m---------------------------------------------------------------------------\u001b[0m",
      "\u001b[0;31mValueError\u001b[0m                                Traceback (most recent call last)",
      "Input \u001b[0;32mIn [5]\u001b[0m, in \u001b[0;36m<module>\u001b[0;34m\u001b[0m\n\u001b[1;32m      1\u001b[0m \u001b[38;5;66;03m#3.input_10.9\u001b[39;00m\n\u001b[1;32m      2\u001b[0m input4 \u001b[38;5;241m=\u001b[39m \u001b[38;5;28minput\u001b[39m(\u001b[38;5;124m\"\u001b[39m\u001b[38;5;124mWhat number?\u001b[39m\u001b[38;5;124m\"\u001b[39m)\n\u001b[0;32m----> 3\u001b[0m num4 \u001b[38;5;241m=\u001b[39m \u001b[38;5;28;43mint\u001b[39;49m\u001b[43m(\u001b[49m\u001b[43minput4\u001b[49m\u001b[43m)\u001b[49m\n\u001b[1;32m      4\u001b[0m \u001b[38;5;28mprint\u001b[39m(num4)\n",
      "\u001b[0;31mValueError\u001b[0m: invalid literal for int() with base 10: '10.9'"
     ]
    }
   ],
   "source": [
    "#3.input_10.9\n",
    "input4 = input(\"What number?\")\n",
    "num4 = int(input4)\n",
    "print(num4)"
   ]
  },
  {
   "cell_type": "code",
   "execution_count": 6,
   "id": "4b3fd44a-7a75-41e8-bbd0-65d5a645d5fc",
   "metadata": {},
   "outputs": [
    {
     "name": "stdin",
     "output_type": "stream",
     "text": [
      "What number? \"100\"\n"
     ]
    },
    {
     "ename": "ValueError",
     "evalue": "invalid literal for int() with base 10: '\"100\"'",
     "output_type": "error",
     "traceback": [
      "\u001b[0;31m---------------------------------------------------------------------------\u001b[0m",
      "\u001b[0;31mValueError\u001b[0m                                Traceback (most recent call last)",
      "Input \u001b[0;32mIn [6]\u001b[0m, in \u001b[0;36m<module>\u001b[0;34m\u001b[0m\n\u001b[1;32m      1\u001b[0m \u001b[38;5;66;03m#3.input_\"100\"\u001b[39;00m\n\u001b[1;32m      2\u001b[0m input5 \u001b[38;5;241m=\u001b[39m \u001b[38;5;28minput\u001b[39m(\u001b[38;5;124m\"\u001b[39m\u001b[38;5;124mWhat number?\u001b[39m\u001b[38;5;124m\"\u001b[39m)\n\u001b[0;32m----> 3\u001b[0m num5 \u001b[38;5;241m=\u001b[39m \u001b[38;5;28;43mint\u001b[39;49m\u001b[43m(\u001b[49m\u001b[43minput5\u001b[49m\u001b[43m)\u001b[49m\n\u001b[1;32m      4\u001b[0m \u001b[38;5;28mprint\u001b[39m(num5)\n",
      "\u001b[0;31mValueError\u001b[0m: invalid literal for int() with base 10: '\"100\"'"
     ]
    }
   ],
   "source": [
    "#3.input_\"100\"\n",
    "input5 = input(\"What number?\")\n",
    "num5 = int(input5)\n",
    "print(num5)"
   ]
  },
  {
   "cell_type": "code",
   "execution_count": 7,
   "id": "6a389aa2-502e-4416-8a87-5a204845931f",
   "metadata": {},
   "outputs": [
    {
     "name": "stdin",
     "output_type": "stream",
     "text": [
      "What number? Milly\n"
     ]
    },
    {
     "ename": "ValueError",
     "evalue": "invalid literal for int() with base 10: 'Milly'",
     "output_type": "error",
     "traceback": [
      "\u001b[0;31m---------------------------------------------------------------------------\u001b[0m",
      "\u001b[0;31mValueError\u001b[0m                                Traceback (most recent call last)",
      "Input \u001b[0;32mIn [7]\u001b[0m, in \u001b[0;36m<module>\u001b[0;34m\u001b[0m\n\u001b[1;32m      1\u001b[0m \u001b[38;5;66;03m#3.input_Milly\u001b[39;00m\n\u001b[1;32m      2\u001b[0m input6 \u001b[38;5;241m=\u001b[39m \u001b[38;5;28minput\u001b[39m(\u001b[38;5;124m\"\u001b[39m\u001b[38;5;124mWhat number?\u001b[39m\u001b[38;5;124m\"\u001b[39m)\n\u001b[0;32m----> 3\u001b[0m num6 \u001b[38;5;241m=\u001b[39m \u001b[38;5;28;43mint\u001b[39;49m\u001b[43m(\u001b[49m\u001b[43minput6\u001b[49m\u001b[43m)\u001b[49m\n\u001b[1;32m      4\u001b[0m \u001b[38;5;28mprint\u001b[39m(num6)\n",
      "\u001b[0;31mValueError\u001b[0m: invalid literal for int() with base 10: 'Milly'"
     ]
    }
   ],
   "source": [
    "#3.input_Milly\n",
    "input6 = input(\"What?\")\n",
    "item6 = int(input6)\n",
    "print(item6)"
   ]
  },
  {
   "cell_type": "code",
   "execution_count": 8,
   "id": "7fe4e285-1057-46d5-bf11-3facb5823866",
   "metadata": {},
   "outputs": [
    {
     "name": "stdin",
     "output_type": "stream",
     "text": [
      "What? \"Milly\"\n"
     ]
    },
    {
     "ename": "ValueError",
     "evalue": "invalid literal for int() with base 10: '\"Milly\"'",
     "output_type": "error",
     "traceback": [
      "\u001b[0;31m---------------------------------------------------------------------------\u001b[0m",
      "\u001b[0;31mValueError\u001b[0m                                Traceback (most recent call last)",
      "Input \u001b[0;32mIn [8]\u001b[0m, in \u001b[0;36m<module>\u001b[0;34m\u001b[0m\n\u001b[1;32m      1\u001b[0m \u001b[38;5;66;03m#3.input_\"Milly\"\u001b[39;00m\n\u001b[1;32m      2\u001b[0m input6 \u001b[38;5;241m=\u001b[39m \u001b[38;5;28minput\u001b[39m(\u001b[38;5;124m\"\u001b[39m\u001b[38;5;124mWhat?\u001b[39m\u001b[38;5;124m\"\u001b[39m)\n\u001b[0;32m----> 3\u001b[0m num6 \u001b[38;5;241m=\u001b[39m \u001b[38;5;28;43mint\u001b[39;49m\u001b[43m(\u001b[49m\u001b[43minput6\u001b[49m\u001b[43m)\u001b[49m\n\u001b[1;32m      4\u001b[0m \u001b[38;5;28mprint\u001b[39m(num6)\n",
      "\u001b[0;31mValueError\u001b[0m: invalid literal for int() with base 10: '\"Milly\"'"
     ]
    }
   ],
   "source": [
    "#3.input_\"Milly\"\n",
    "input7 = input(\"What?\")\n",
    "item7 = int(input7)\n",
    "print(item7)"
   ]
  },
  {
   "cell_type": "code",
   "execution_count": 9,
   "id": "07568131-03a4-4bea-8bb5-c894e65a683b",
   "metadata": {},
   "outputs": [
    {
     "name": "stdin",
     "output_type": "stream",
     "text": [
      "What? Cynthia\n"
     ]
    },
    {
     "ename": "ValueError",
     "evalue": "invalid literal for int() with base 10: 'Cynthia'",
     "output_type": "error",
     "traceback": [
      "\u001b[0;31m---------------------------------------------------------------------------\u001b[0m",
      "\u001b[0;31mValueError\u001b[0m                                Traceback (most recent call last)",
      "Input \u001b[0;32mIn [9]\u001b[0m, in \u001b[0;36m<module>\u001b[0;34m\u001b[0m\n\u001b[1;32m      1\u001b[0m \u001b[38;5;66;03m#3.input_Cynthia\u001b[39;00m\n\u001b[1;32m      2\u001b[0m input8 \u001b[38;5;241m=\u001b[39m \u001b[38;5;28minput\u001b[39m(\u001b[38;5;124m\"\u001b[39m\u001b[38;5;124mWhat?\u001b[39m\u001b[38;5;124m\"\u001b[39m)\n\u001b[0;32m----> 3\u001b[0m num8 \u001b[38;5;241m=\u001b[39m \u001b[38;5;28;43mint\u001b[39;49m\u001b[43m(\u001b[49m\u001b[43minput8\u001b[49m\u001b[43m)\u001b[49m\n\u001b[1;32m      4\u001b[0m \u001b[38;5;28mprint\u001b[39m(num8)\n",
      "\u001b[0;31mValueError\u001b[0m: invalid literal for int() with base 10: 'Cynthia'"
     ]
    }
   ],
   "source": [
    "#3.input_Cynthia\n",
    "input8 = input(\"What?\")\n",
    "item8 = int(input8)\n",
    "print(item8)"
   ]
  },
  {
   "cell_type": "code",
   "execution_count": 10,
   "id": "92c429e1-b36c-4f4c-b5bc-1a34881b2908",
   "metadata": {},
   "outputs": [
    {
     "name": "stdin",
     "output_type": "stream",
     "text": [
      "What? \"Cynthia\"\n"
     ]
    },
    {
     "ename": "ValueError",
     "evalue": "invalid literal for int() with base 10: '\"Cynthia\"'",
     "output_type": "error",
     "traceback": [
      "\u001b[0;31m---------------------------------------------------------------------------\u001b[0m",
      "\u001b[0;31mValueError\u001b[0m                                Traceback (most recent call last)",
      "Input \u001b[0;32mIn [10]\u001b[0m, in \u001b[0;36m<module>\u001b[0;34m\u001b[0m\n\u001b[1;32m      1\u001b[0m \u001b[38;5;66;03m#3.input_\"Cynthia\"\u001b[39;00m\n\u001b[1;32m      2\u001b[0m input9 \u001b[38;5;241m=\u001b[39m \u001b[38;5;28minput\u001b[39m(\u001b[38;5;124m\"\u001b[39m\u001b[38;5;124mWhat?\u001b[39m\u001b[38;5;124m\"\u001b[39m)\n\u001b[0;32m----> 3\u001b[0m num9 \u001b[38;5;241m=\u001b[39m \u001b[38;5;28;43mint\u001b[39;49m\u001b[43m(\u001b[49m\u001b[43minput9\u001b[49m\u001b[43m)\u001b[49m\n\u001b[1;32m      4\u001b[0m \u001b[38;5;28mprint\u001b[39m(num9)\n",
      "\u001b[0;31mValueError\u001b[0m: invalid literal for int() with base 10: '\"Cynthia\"'"
     ]
    }
   ],
   "source": [
    "#3.input_\"Cynthia\"\n",
    "input9 = input(\"What?\")\n",
    "item9 = int(input9)\n",
    "print(item9)"
   ]
  },
  {
   "cell_type": "code",
   "execution_count": 11,
   "id": "4d9b8e53-69f6-45c6-814b-801a931ff1d5",
   "metadata": {},
   "outputs": [
    {
     "name": "stdin",
     "output_type": "stream",
     "text": [
      "What?  \n"
     ]
    },
    {
     "ename": "ValueError",
     "evalue": "invalid literal for int() with base 10: ' '",
     "output_type": "error",
     "traceback": [
      "\u001b[0;31m---------------------------------------------------------------------------\u001b[0m",
      "\u001b[0;31mValueError\u001b[0m                                Traceback (most recent call last)",
      "Input \u001b[0;32mIn [11]\u001b[0m, in \u001b[0;36m<module>\u001b[0;34m\u001b[0m\n\u001b[1;32m      1\u001b[0m \u001b[38;5;66;03m#3.input_\u001b[39;00m\n\u001b[1;32m      2\u001b[0m input10 \u001b[38;5;241m=\u001b[39m \u001b[38;5;28minput\u001b[39m(\u001b[38;5;124m\"\u001b[39m\u001b[38;5;124mWhat?\u001b[39m\u001b[38;5;124m\"\u001b[39m)\n\u001b[0;32m----> 3\u001b[0m item10 \u001b[38;5;241m=\u001b[39m \u001b[38;5;28;43mint\u001b[39;49m\u001b[43m(\u001b[49m\u001b[43minput10\u001b[49m\u001b[43m)\u001b[49m\n\u001b[1;32m      4\u001b[0m \u001b[38;5;28mprint\u001b[39m(item10)\n",
      "\u001b[0;31mValueError\u001b[0m: invalid literal for int() with base 10: ' '"
     ]
    }
   ],
   "source": [
    "#3.input_\n",
    "input10 = input(\"What?\")\n",
    "item10 = int(input10)\n",
    "print(item10)"
   ]
  },
  {
   "cell_type": "code",
   "execution_count": 23,
   "id": "07990674-47ec-4716-bc35-fc5fc0d0f52c",
   "metadata": {},
   "outputs": [
    {
     "name": "stdout",
     "output_type": "stream",
     "text": [
      "Hello, my name is Helpful Little Computer.\n"
     ]
    },
    {
     "name": "stdin",
     "output_type": "stream",
     "text": [
      "What's your name? Cynthia\n"
     ]
    },
    {
     "name": "stdout",
     "output_type": "stream",
     "text": [
      "Hello,  Cynthia , nice to meet you!\n"
     ]
    },
    {
     "name": "stdin",
     "output_type": "stream",
     "text": [
      "Let me help you learn programming. How old are you? 10\n"
     ]
    },
    {
     "name": "stdout",
     "output_type": "stream",
     "text": [
      "You are  10 . I am only 2 years old.\n"
     ]
    },
    {
     "name": "stdin",
     "output_type": "stream",
     "text": [
      "What grade are you in school? 5\n"
     ]
    },
    {
     "name": "stdout",
     "output_type": "stream",
     "text": [
      "You must be able to learn a lot of new things in grade 5 . Let's learn and progress together.\n",
      "I have to go now, my battery's running out. See you later when you do your programming homework!\n"
     ]
    }
   ],
   "source": [
    "#4\n",
    "print(\"Hello, my name is Helpful Little Computer.\")\n",
    "name = input(\"What's your name?\")\n",
    "print(\"Hello, \", name, \", nice to meet you!\")\n",
    "age = input(\"Let me help you learn programming. How old are you?\")\n",
    "print(\"You are \", age, \"years old. I am only 2 years old.\")\n",
    "grade = input(\"What grade are you in school?\")\n",
    "print(\"You must be able to learn a lot of new things in grade\", grade, \". Let's learn and progress together.\")\n",
    "print(\"I have to go now, my battery's running out. See you later when you do your programming homework!\")"
   ]
  },
  {
   "cell_type": "code",
   "execution_count": null,
   "id": "6d275add-63ba-46dc-bf49-bd2d945a76e5",
   "metadata": {},
   "outputs": [],
   "source": []
  }
 ],
 "metadata": {
  "kernelspec": {
   "display_name": "Python 3",
   "language": "python",
   "name": "python3"
  },
  "language_info": {
   "codemirror_mode": {
    "name": "ipython",
    "version": 3
   },
   "file_extension": ".py",
   "mimetype": "text/x-python",
   "name": "python",
   "nbconvert_exporter": "python",
   "pygments_lexer": "ipython3",
   "version": "3.8.10"
  }
 },
 "nbformat": 4,
 "nbformat_minor": 5
}
