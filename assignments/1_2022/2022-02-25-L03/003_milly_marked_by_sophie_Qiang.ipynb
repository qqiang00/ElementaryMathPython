{
 "cells": [
  {
   "cell_type": "markdown",
   "id": "relative-location",
   "metadata": {},
   "source": [
    "## 第03讲 和计算机对话\n",
    "Lecture03 Communicate with Computer"
   ]
  },
  {
   "cell_type": "markdown",
   "id": "digital-consensus",
   "metadata": {
    "heading_collapsed": true
   },
   "source": [
    "### Assignments 作业\n",
    "\n",
    "**<span style=\"color:red\">待定/100</span>** Marked by Qiang\n",
    "\n",
    "**<span style=\"color:red\">最后一题请小米粒根据示例代码完成后续部分后再评</span>**"
   ]
  },
  {
   "cell_type": "markdown",
   "id": "d15bb705-50dc-43a8-bf40-948094ef9f2a",
   "metadata": {},
   "source": [
    "1. Referring to the example in this lecture, design a simple program that can perform **subtraction**. When the program runs, first print out a sentence telling that the computer will do a **substraction** operation and who will be **minuend** and **subtrahend**, respectively. You can determin the content by yourself but the information should be clear enough without any ambiguity. The rest of the requirements are the same as the example in this lecture. \n",
    "\n",
    "   参照本讲示例的内容，设计一个简单的可以进行减法运算的程序。当程序运行时，你需要首先向屏幕打印输出一行文字，提示即将进行的是减法运算以及明确**被减数**和**减数**。你可以自己决定文字的具体内容，但必须足够清晰以及没有歧义。其它要求同本讲示例的要求。\n",
    "    \n",
    "   **Think and Answer in text**： If the subtrahend is greater than minuend, will your program provide an answer? \n",
    "   \n",
    "   **思考并用文字回答**:如果减数比被减数大，你的程序能给出一个答案吗？"
   ]
  },
  {
   "cell_type": "code",
   "execution_count": null,
   "id": "192b1a79-08c6-43ab-b140-61704f0d0cf0",
   "metadata": {},
   "outputs": [],
   "source": [
    "# write your code here\n",
    "print(\"我可以帮你做简单的减法运算。\")\n",
    "first = input(\"第一个减数:\")\n",
    "second = input(\"第二个减数:\")\n",
    "num_1 = int((first))\n",
    "num_2 = int((second))\n",
    "sum_12 = num_1 - num_2\n",
    "print(num_1, \" - \", num_2, \" = \", sum_12)"
   ]
  },
  {
   "cell_type": "code",
   "execution_count": null,
   "id": "9256a73b-5f49-48ce-819c-ac8c0ce21c04",
   "metadata": {},
   "outputs": [],
   "source": [
    "# write your answer for the thinking here\n",
    "# 如果减数比被减数大，你的程序能给出一个答案。它会给出一个负数。"
   ]
  },
  {
   "cell_type": "markdown",
   "id": "2753ccfd-9ba2-4c8b-8f6b-b2514846d624",
   "metadata": {},
   "source": [
    "2. Referring to the example in this lecture, design a simple program that can perform **Division**. When the program runs, first print out a sentence telling that the computer will do a **Division** operation and who will be **Dividend** and **divisor**, respectively. You can determin the content by yourself but the information should be clear enough without any ambiguity. The rest of the requirements are the same as the example in this lecture. \n",
    "\n",
    "   参照本讲示例的内容，设计一个简单的可以进行**除法**的程序。当程序运行时，你需要首先向屏幕打印输出一行文字，提示即将进行的是**除法**运算以及明确**被除数**和**除数**。你可以自己决定文字的具体内容，但必须足够清晰以及没有歧义。其它要求同本讲示例的要求。\n",
    "    \n",
    "   **Think and Answer in text**： If the divisor is equal to 0, will your program provide an answer? Why?\n",
    "   \n",
    "   **思考并用文字回答**:如果除数为0，你的程序能给出答案吗？ 为什么？"
   ]
  },
  {
   "cell_type": "code",
   "execution_count": null,
   "id": "6e8d151d-f43b-41d9-8d86-98d19a565d5e",
   "metadata": {},
   "outputs": [],
   "source": [
    "# write your code here\n",
    "print(\"我可以帮你做简单的除法运算。\")\n",
    "first = input(\"第一个除数:\")\n",
    "second = input(\"第二个除数:\")\n",
    "num_1 = int((first))               # (( )) 的效果与 () 的效果一样，可以去掉一对圆括号\n",
    "num_2 = int((second))\n",
    "sum_12 = num_1 / num_2\n",
    "print(num_1, \" / \", num_2, \" = \", sum_12)"
   ]
  },
  {
   "cell_type": "code",
   "execution_count": null,
   "id": "1051b472-8c03-4ab3-bd22-b7b3d733075e",
   "metadata": {},
   "outputs": [],
   "source": [
    "# write your answer for the thinking here\n",
    "# 如果除数为0，程序不能给出答案。 因为除数为零，相当于把被除数分为零份，所以程序不能给出答案。"
   ]
  },
  {
   "cell_type": "markdown",
   "id": "947f8bf8-763f-4f31-9b04-6b47ccf38a03",
   "metadata": {},
   "source": [
    "3. Use the 2rd to 11th code cells, write a piece of code in a separate code cell to make the program accepts input from the keyboard. Enter the each content listed below in one code cell, try to convert the received string data to an integer using the `int` method, print it out to the screen again. Observe whether the program can run normally without errors. Write all results in the first code cell as a comment. The first data `0` is given as an example. 使用第2-11个单元格，分别用一个单独的代码单元格编写一段代码，使得程序接受来自键盘的输入。通过键盘输入下面所列的内容，尝试使用`int`方法把接收到的字符串数据转换为整数，并再次打印输出到屏幕上。观察程序是否能够正常运行并把每次结果汇总作为注释写在第一个代码单元格中。\n",
    "\n",
    "   输入的内容依次为：`0`, `100`, `10.1`, `10.9`, `\"100\"`, `Milly`, `\"Milly\"`, `Cynthia`, `\"Cynthia\"`, ` `, 共计10个。"
   ]
  },
  {
   "cell_type": "code",
   "execution_count": null,
   "id": "820dfa83-4696-4af2-aa9e-f8e39695564b",
   "metadata": {},
   "outputs": [],
   "source": [
    "# Code Cell 1 for your final text answer\n",
    "# 0          Success, the integer is: 0\n",
    "# 100         Success, the integer is: 100\n",
    "# 10.1         Unsuccess\n",
    "# 10.9         Unsuccess\n",
    "# 100         Success, the integer is: 100       # -1 这一题应该是输入\"100\"，包括数字两边的双引号\n",
    "# Milly         Unsuccess\n",
    "# \"Milly\"         Unsuccess\n",
    "# Cynthia         Unsuccess\n",
    "# “Cynthia\"         Unsuccess\n",
    "# <a blank character>             Unsuccess"
   ]
  },
  {
   "cell_type": "code",
   "execution_count": 5,
   "id": "7ba04976-abc0-40f7-a162-204a79d40d8c",
   "metadata": {},
   "outputs": [
    {
     "name": "stdin",
     "output_type": "stream",
     "text": [
      " 0\n"
     ]
    },
    {
     "name": "stdout",
     "output_type": "stream",
     "text": [
      "0\n"
     ]
    }
   ],
   "source": [
    "# Code Cell 2 for your code for the input 0\n",
    "input_1 = input()\n",
    "num1 = int(input_1)\n",
    "print(num1)"
   ]
  },
  {
   "cell_type": "code",
   "execution_count": 6,
   "id": "cf6cbee1-b73f-466a-b17b-73ef5bdeabbd",
   "metadata": {},
   "outputs": [
    {
     "name": "stdin",
     "output_type": "stream",
     "text": [
      " 100\n"
     ]
    },
    {
     "name": "stdout",
     "output_type": "stream",
     "text": [
      "100\n"
     ]
    }
   ],
   "source": [
    "# Code Cell 3 for your code for the input 100\n",
    "input_2 = input()\n",
    "num2 = int(input_2)\n",
    "print(num2)"
   ]
  },
  {
   "cell_type": "code",
   "execution_count": 7,
   "id": "2cea04e0-4734-4286-94b3-5ea3e56b6722",
   "metadata": {},
   "outputs": [
    {
     "name": "stdin",
     "output_type": "stream",
     "text": [
      " 10.1\n"
     ]
    },
    {
     "ename": "ValueError",
     "evalue": "invalid literal for int() with base 10: '10.1'",
     "output_type": "error",
     "traceback": [
      "\u001b[1;31m---------------------------------------------------------------------------\u001b[0m",
      "\u001b[1;31mValueError\u001b[0m                                Traceback (most recent call last)",
      "\u001b[1;32m<ipython-input-7-5af4de15f1bc>\u001b[0m in \u001b[0;36m<module>\u001b[1;34m\u001b[0m\n\u001b[0;32m      1\u001b[0m \u001b[1;31m# Code Cell 4 for your code for the input 10.1\u001b[0m\u001b[1;33m\u001b[0m\u001b[1;33m\u001b[0m\u001b[0m\n\u001b[0;32m      2\u001b[0m \u001b[0minput_3\u001b[0m \u001b[1;33m=\u001b[0m \u001b[0minput\u001b[0m\u001b[1;33m(\u001b[0m\u001b[1;33m)\u001b[0m\u001b[1;33m\u001b[0m\u001b[0m\n\u001b[1;32m----> 3\u001b[1;33m \u001b[0mnum3\u001b[0m \u001b[1;33m=\u001b[0m \u001b[0mint\u001b[0m\u001b[1;33m(\u001b[0m\u001b[0minput_3\u001b[0m\u001b[1;33m)\u001b[0m\u001b[1;33m\u001b[0m\u001b[0m\n\u001b[0m\u001b[0;32m      4\u001b[0m \u001b[0mprint\u001b[0m\u001b[1;33m(\u001b[0m\u001b[0mnum3\u001b[0m\u001b[1;33m)\u001b[0m\u001b[1;33m\u001b[0m\u001b[0m\n",
      "\u001b[1;31mValueError\u001b[0m: invalid literal for int() with base 10: '10.1'"
     ]
    }
   ],
   "source": [
    "# Code Cell 4 for your code for the input 10.1\n",
    "input_3 = input()\n",
    "num3 = int(input_3)\n",
    "print(num3)"
   ]
  },
  {
   "cell_type": "code",
   "execution_count": 8,
   "id": "91cf2ec4-fce7-4ae7-810a-fe69f420a06b",
   "metadata": {},
   "outputs": [
    {
     "name": "stdin",
     "output_type": "stream",
     "text": [
      " 10.9\n"
     ]
    },
    {
     "ename": "ValueError",
     "evalue": "invalid literal for int() with base 10: '10.9'",
     "output_type": "error",
     "traceback": [
      "\u001b[1;31m---------------------------------------------------------------------------\u001b[0m",
      "\u001b[1;31mValueError\u001b[0m                                Traceback (most recent call last)",
      "\u001b[1;32m<ipython-input-8-cdda1f2562cd>\u001b[0m in \u001b[0;36m<module>\u001b[1;34m\u001b[0m\n\u001b[0;32m      1\u001b[0m \u001b[1;31m# Code Cell 5 for your code for the input 10.9\u001b[0m\u001b[1;33m\u001b[0m\u001b[1;33m\u001b[0m\u001b[0m\n\u001b[0;32m      2\u001b[0m \u001b[0minput_4\u001b[0m \u001b[1;33m=\u001b[0m \u001b[0minput\u001b[0m\u001b[1;33m(\u001b[0m\u001b[1;33m)\u001b[0m\u001b[1;33m\u001b[0m\u001b[0m\n\u001b[1;32m----> 3\u001b[1;33m \u001b[0mnum4\u001b[0m \u001b[1;33m=\u001b[0m \u001b[0mint\u001b[0m\u001b[1;33m(\u001b[0m\u001b[0minput_4\u001b[0m\u001b[1;33m)\u001b[0m\u001b[1;33m\u001b[0m\u001b[0m\n\u001b[0m\u001b[0;32m      4\u001b[0m \u001b[0mprint\u001b[0m\u001b[1;33m(\u001b[0m\u001b[0mnum4\u001b[0m\u001b[1;33m)\u001b[0m\u001b[1;33m\u001b[0m\u001b[0m\n",
      "\u001b[1;31mValueError\u001b[0m: invalid literal for int() with base 10: '10.9'"
     ]
    }
   ],
   "source": [
    "# Code Cell 5 for your code for the input 10.9\n",
    "input_4 = input()\n",
    "num4 = int(input_4)\n",
    "print(num4)"
   ]
  },
  {
   "cell_type": "code",
   "execution_count": 9,
   "id": "cfb9a0b0-036f-4f62-9b3a-bad54d3e1343",
   "metadata": {},
   "outputs": [
    {
     "name": "stdin",
     "output_type": "stream",
     "text": [
      " 100\n"
     ]
    },
    {
     "name": "stdout",
     "output_type": "stream",
     "text": [
      "100\n"
     ]
    }
   ],
   "source": [
    "# Code Cell 6 for your code for the input 100\n",
    "input_5 = input()\n",
    "num5 = int(input_5)\n",
    "print(num5)"
   ]
  },
  {
   "cell_type": "code",
   "execution_count": 10,
   "id": "7705feda-1bfc-45c6-a5c0-150ddc72a46b",
   "metadata": {},
   "outputs": [
    {
     "name": "stdin",
     "output_type": "stream",
     "text": [
      " Milly\n"
     ]
    },
    {
     "ename": "ValueError",
     "evalue": "invalid literal for int() with base 10: 'Milly'",
     "output_type": "error",
     "traceback": [
      "\u001b[1;31m---------------------------------------------------------------------------\u001b[0m",
      "\u001b[1;31mValueError\u001b[0m                                Traceback (most recent call last)",
      "\u001b[1;32m<ipython-input-10-b17cbeebb20d>\u001b[0m in \u001b[0;36m<module>\u001b[1;34m\u001b[0m\n\u001b[0;32m      1\u001b[0m \u001b[1;31m# Code Cell 7 for your code for the input Milly\u001b[0m\u001b[1;33m\u001b[0m\u001b[1;33m\u001b[0m\u001b[0m\n\u001b[0;32m      2\u001b[0m \u001b[0minput_6\u001b[0m \u001b[1;33m=\u001b[0m \u001b[0minput\u001b[0m\u001b[1;33m(\u001b[0m\u001b[1;33m)\u001b[0m\u001b[1;33m\u001b[0m\u001b[0m\n\u001b[1;32m----> 3\u001b[1;33m \u001b[0mnum6\u001b[0m \u001b[1;33m=\u001b[0m \u001b[0mint\u001b[0m\u001b[1;33m(\u001b[0m\u001b[0minput_6\u001b[0m\u001b[1;33m)\u001b[0m\u001b[1;33m\u001b[0m\u001b[0m\n\u001b[0m\u001b[0;32m      4\u001b[0m \u001b[0mprint\u001b[0m\u001b[1;33m(\u001b[0m\u001b[0mnum6\u001b[0m\u001b[1;33m)\u001b[0m\u001b[1;33m\u001b[0m\u001b[0m\n",
      "\u001b[1;31mValueError\u001b[0m: invalid literal for int() with base 10: 'Milly'"
     ]
    }
   ],
   "source": [
    "# Code Cell 7 for your code for the input Milly\n",
    "input_6 = input()\n",
    "num6 = int(input_6)\n",
    "print(num6)"
   ]
  },
  {
   "cell_type": "code",
   "execution_count": 11,
   "id": "2fc1066b-738d-4771-beb1-77994b386480",
   "metadata": {},
   "outputs": [
    {
     "name": "stdin",
     "output_type": "stream",
     "text": [
      " \"Milly\"\n"
     ]
    },
    {
     "ename": "ValueError",
     "evalue": "invalid literal for int() with base 10: '\"Milly\"'",
     "output_type": "error",
     "traceback": [
      "\u001b[1;31m---------------------------------------------------------------------------\u001b[0m",
      "\u001b[1;31mValueError\u001b[0m                                Traceback (most recent call last)",
      "\u001b[1;32m<ipython-input-11-31d0176b32d3>\u001b[0m in \u001b[0;36m<module>\u001b[1;34m\u001b[0m\n\u001b[0;32m      1\u001b[0m \u001b[1;31m# Code Cell 8 for your code for the input \"Milly\"\u001b[0m\u001b[1;33m\u001b[0m\u001b[1;33m\u001b[0m\u001b[0m\n\u001b[0;32m      2\u001b[0m \u001b[0minput_7\u001b[0m \u001b[1;33m=\u001b[0m \u001b[0minput\u001b[0m\u001b[1;33m(\u001b[0m\u001b[1;33m)\u001b[0m\u001b[1;33m\u001b[0m\u001b[0m\n\u001b[1;32m----> 3\u001b[1;33m \u001b[0mnum7\u001b[0m \u001b[1;33m=\u001b[0m \u001b[0mint\u001b[0m\u001b[1;33m(\u001b[0m\u001b[0minput_7\u001b[0m\u001b[1;33m)\u001b[0m\u001b[1;33m\u001b[0m\u001b[0m\n\u001b[0m\u001b[0;32m      4\u001b[0m \u001b[0mprint\u001b[0m\u001b[1;33m(\u001b[0m\u001b[0mnum7\u001b[0m\u001b[1;33m)\u001b[0m\u001b[1;33m\u001b[0m\u001b[0m\n",
      "\u001b[1;31mValueError\u001b[0m: invalid literal for int() with base 10: '\"Milly\"'"
     ]
    }
   ],
   "source": [
    "# Code Cell 8 for your code for the input \"Milly\"\n",
    "input_7 = input()\n",
    "num7 = int(input_7)\n",
    "print(num7)"
   ]
  },
  {
   "cell_type": "code",
   "execution_count": 12,
   "id": "e797946e-2b8d-4efc-9a1c-0061a3c02723",
   "metadata": {},
   "outputs": [
    {
     "name": "stdin",
     "output_type": "stream",
     "text": [
      " Cynthia\n"
     ]
    },
    {
     "ename": "ValueError",
     "evalue": "invalid literal for int() with base 10: 'Cynthia'",
     "output_type": "error",
     "traceback": [
      "\u001b[1;31m---------------------------------------------------------------------------\u001b[0m",
      "\u001b[1;31mValueError\u001b[0m                                Traceback (most recent call last)",
      "\u001b[1;32m<ipython-input-12-e9b821ac0fb0>\u001b[0m in \u001b[0;36m<module>\u001b[1;34m\u001b[0m\n\u001b[0;32m      1\u001b[0m \u001b[1;31m# Code Cell 9 for your code for the input Cynthia\u001b[0m\u001b[1;33m\u001b[0m\u001b[1;33m\u001b[0m\u001b[0m\n\u001b[0;32m      2\u001b[0m \u001b[0minput_8\u001b[0m \u001b[1;33m=\u001b[0m \u001b[0minput\u001b[0m\u001b[1;33m(\u001b[0m\u001b[1;33m)\u001b[0m\u001b[1;33m\u001b[0m\u001b[0m\n\u001b[1;32m----> 3\u001b[1;33m \u001b[0mnum8\u001b[0m \u001b[1;33m=\u001b[0m \u001b[0mint\u001b[0m\u001b[1;33m(\u001b[0m\u001b[0minput_8\u001b[0m\u001b[1;33m)\u001b[0m\u001b[1;33m\u001b[0m\u001b[0m\n\u001b[0m\u001b[0;32m      4\u001b[0m \u001b[0mprint\u001b[0m\u001b[1;33m(\u001b[0m\u001b[0mnum8\u001b[0m\u001b[1;33m)\u001b[0m\u001b[1;33m\u001b[0m\u001b[0m\n",
      "\u001b[1;31mValueError\u001b[0m: invalid literal for int() with base 10: 'Cynthia'"
     ]
    }
   ],
   "source": [
    "# Code Cell 9 for your code for the input Cynthia\n",
    "input_8 = input()\n",
    "num8 = int(input_8)\n",
    "print(num8)"
   ]
  },
  {
   "cell_type": "code",
   "execution_count": 13,
   "id": "0fd07332-83a9-4f0f-a58f-3d332cf74853",
   "metadata": {},
   "outputs": [
    {
     "name": "stdin",
     "output_type": "stream",
     "text": [
      " \"Cynthia\"\n"
     ]
    },
    {
     "ename": "ValueError",
     "evalue": "invalid literal for int() with base 10: '\"Cynthia\"'",
     "output_type": "error",
     "traceback": [
      "\u001b[1;31m---------------------------------------------------------------------------\u001b[0m",
      "\u001b[1;31mValueError\u001b[0m                                Traceback (most recent call last)",
      "\u001b[1;32m<ipython-input-13-9bab621b312b>\u001b[0m in \u001b[0;36m<module>\u001b[1;34m\u001b[0m\n\u001b[0;32m      1\u001b[0m \u001b[1;31m# Code Cell 10 for your code for the input \"Cynthia\"\u001b[0m\u001b[1;33m\u001b[0m\u001b[1;33m\u001b[0m\u001b[0m\n\u001b[0;32m      2\u001b[0m \u001b[0minput_9\u001b[0m \u001b[1;33m=\u001b[0m \u001b[0minput\u001b[0m\u001b[1;33m(\u001b[0m\u001b[1;33m)\u001b[0m\u001b[1;33m\u001b[0m\u001b[0m\n\u001b[1;32m----> 3\u001b[1;33m \u001b[0mnum9\u001b[0m \u001b[1;33m=\u001b[0m \u001b[0mint\u001b[0m\u001b[1;33m(\u001b[0m\u001b[0minput_9\u001b[0m\u001b[1;33m)\u001b[0m\u001b[1;33m\u001b[0m\u001b[0m\n\u001b[0m\u001b[0;32m      4\u001b[0m \u001b[0mprint\u001b[0m\u001b[1;33m(\u001b[0m\u001b[0mnum9\u001b[0m\u001b[1;33m)\u001b[0m\u001b[1;33m\u001b[0m\u001b[0m\n",
      "\u001b[1;31mValueError\u001b[0m: invalid literal for int() with base 10: '\"Cynthia\"'"
     ]
    }
   ],
   "source": [
    "# Code Cell 10 for your code for the input \"Cynthia\"\n",
    "input_9 = input()\n",
    "num9 = int(input_9)\n",
    "print(num9)"
   ]
  },
  {
   "cell_type": "code",
   "execution_count": 14,
   "id": "d247137a-8a32-4163-b8c7-decfe36b9514",
   "metadata": {},
   "outputs": [
    {
     "name": "stdin",
     "output_type": "stream",
     "text": [
      "  \n"
     ]
    },
    {
     "ename": "ValueError",
     "evalue": "invalid literal for int() with base 10: ' '",
     "output_type": "error",
     "traceback": [
      "\u001b[1;31m---------------------------------------------------------------------------\u001b[0m",
      "\u001b[1;31mValueError\u001b[0m                                Traceback (most recent call last)",
      "\u001b[1;32m<ipython-input-14-c52cf887d168>\u001b[0m in \u001b[0;36m<module>\u001b[1;34m\u001b[0m\n\u001b[0;32m      1\u001b[0m \u001b[1;31m# Code Cell 11 for your code for the input  <a blank character> <一个空格字符>\u001b[0m\u001b[1;33m\u001b[0m\u001b[1;33m\u001b[0m\u001b[0m\n\u001b[0;32m      2\u001b[0m \u001b[0minput_10\u001b[0m \u001b[1;33m=\u001b[0m \u001b[0minput\u001b[0m\u001b[1;33m(\u001b[0m\u001b[1;33m)\u001b[0m\u001b[1;33m\u001b[0m\u001b[0m\n\u001b[1;32m----> 3\u001b[1;33m \u001b[0mnum10\u001b[0m \u001b[1;33m=\u001b[0m \u001b[0mint\u001b[0m\u001b[1;33m(\u001b[0m\u001b[0minput_10\u001b[0m\u001b[1;33m)\u001b[0m\u001b[1;33m\u001b[0m\u001b[0m\n\u001b[0m\u001b[0;32m      4\u001b[0m \u001b[0mprint\u001b[0m\u001b[1;33m(\u001b[0m\u001b[0mnum10\u001b[0m\u001b[1;33m)\u001b[0m\u001b[1;33m\u001b[0m\u001b[0m\n",
      "\u001b[1;31mValueError\u001b[0m: invalid literal for int() with base 10: ' '"
     ]
    }
   ],
   "source": [
    "# Code Cell 11 for your code for the input  <a blank character> <一个空格字符>\n",
    "input_10 = input()\n",
    "num10 = int(input_10)\n",
    "print(num10)"
   ]
  },
  {
   "cell_type": "markdown",
   "id": "controversial-sleeve",
   "metadata": {
    "hidden": true
   },
   "source": [
    "4. You are able to design some simple programs. When you are writing and running programs, the computer is like your little assistant to help you solve some mathematical and real problems. As your assistant, the computer would like to know some of your personal information, such as your name, age, age, what grade you are in school, etc. Please write a program to simulate the following dialogue between you and the computer.\n",
    "\n",
    "   你现在已经能够设计一些最简单的程序了。在编写并运行程序的过程中，计算机就相当于你的小助手协助你解决一些数学和实际问题。作为你的小助手，计算机很想知道你的一些个人信息，比如你的姓名、年龄、年龄、你在几年级上学等。请你编写一段程序模拟下面这段你与计算机之间的对话。\n",
    "   \n",
    "       \n",
    "   **Hint**: First round of conversation between you and the computer is already provided as an example.\n",
    "    \n",
    "   **提示**: 计算机和你的第一轮对话已经作为例子给出\n",
    "       \n",
    "   **Note1**:Before writing the program, give your computer a virtual name, such as \"Happy Little Computer\". Ask your parents how old the computer is, such as 5 years old. These information will be included in the dialog. \n",
    "   \n",
    "   **注意1**：在正式编写程序之前，给你的计算机起一个虚拟的名字，例如“开心小电脑”。询问你的爸爸妈妈正在使用的这台计算机的岁数，例如5岁。这些信息需要再对话中使用。\n",
    "   \n",
    "   **Note2**: In addition to your name, age, and class level, please provide another piece of you personal information to your assistant. Use a descent style to include this information in the dialog between you and your assitant by programming. \n",
    "   \n",
    "   **注意2**：除了姓名、年龄，和年级之外，请你再向计算机提供一条关于你的个人信息，并通过编程体现与计算机的对话中，注意衔接自然。\n",
    "\n",
    "    ```text\n",
    "    - Computer: Hello, my name is Happy Little Computer, what is your name?\n",
    "    - You: (enter your name, eg. XXX)\n",
    "    - Computer: Hello, XXX , nice to meet you. I'd be happy to help you learn programming. How old are you?\n",
    "    - you: (enter age, eg. Y)\n",
    "    - Computer: You are already Y years old. I am 5 years old. What grade are you in school?\n",
    "    - You: (Enter your grade, eg. \"4th grade of primary school\")\n",
    "    - Computer: \"You must be able to learn a lot of new things in 4th grade of primary school. Let's learn and progress together.\n",
    "    - You: Okay, but I'm going to play outside. I'll see you again when I do my programming homework, bye!\n",
    "    - Computer: OK, bye!\n",
    "\n",
    "    - 计算机：你好，我叫 开心小电脑 ，你叫什么名字？\n",
    "    - 你：（输入你的名字，例如XXX）\n",
    "    - 计算机：XXX ，你好，很高兴认识你，我也很乐意协助你一起学习编程。你今年几岁了？\n",
    "    - 你：（输入年龄，例如Y）\n",
    "    - 计算机：原来你今年已经 Y 岁啦。我今年也有 5 岁了。你上小学几年级了？\n",
    "    - 你：（输入你的年级，例如“小学4年级”）\n",
    "    - 计算机：“小学4年级 一定能学到很多新的知识吧，咱们一起学习进步。\n",
    "    - 你：好的，可是我现在要出去玩了，等我写编程作业的时候再来找你，再见！\n",
    "    - 计算机：好的，再见！\n",
    "    ```    \n"
   ]
  },
  {
   "cell_type": "code",
   "execution_count": 5,
   "id": "f38c61bd-353a-4957-841a-0af212745612",
   "metadata": {},
   "outputs": [
    {
     "name": "stdout",
     "output_type": "stream",
     "text": [
      "计算机: 你好，我叫 开心小电脑 , 你叫什么名字？\n"
     ]
    },
    {
     "name": "stdin",
     "output_type": "stream",
     "text": [
      "你： asd\n"
     ]
    },
    {
     "name": "stdout",
     "output_type": "stream",
     "text": [
      "计算机： asd 你好，很高兴认识你，我也很乐意协助你一起学习编程。你今年几岁了？\n"
     ]
    }
   ],
   "source": [
    "computer_name = \"开心小电脑\"\n",
    "print(\"计算机: 你好，我叫\", computer_name, \", 你叫什么名字？\")\n",
    "my_name = input(\"你：\")\n",
    "print(\"计算机：\", my_name, \"你好，很高兴认识你，我也很乐意协助你一起学习编程。你今年几岁了？\")\n",
    "# TODO continue the conversation."
   ]
  },
  {
   "cell_type": "code",
   "execution_count": null,
   "id": "f69c2134-002a-4013-b965-d41b928f7524",
   "metadata": {},
   "outputs": [],
   "source": [
    "# 做法1"
   ]
  },
  {
   "cell_type": "code",
   "execution_count": 17,
   "id": "healthy-auditor",
   "metadata": {
    "hidden": true
   },
   "outputs": [
    {
     "name": "stdin",
     "output_type": "stream",
     "text": [
      "计算机： 你好，我叫 华为小电脑 ，你叫什么名字？\n"
     ]
    }
   ],
   "source": [
    "计算机 = input(\"计算机：\")"
   ]
  },
  {
   "cell_type": "code",
   "execution_count": 18,
   "id": "063776da-8c0b-4780-91e7-f0126a11b989",
   "metadata": {},
   "outputs": [
    {
     "name": "stdin",
     "output_type": "stream",
     "text": [
      "米粒： 我叫米粒。\n"
     ]
    }
   ],
   "source": [
    "米粒 = input(\"米粒：\")"
   ]
  },
  {
   "cell_type": "code",
   "execution_count": 19,
   "id": "6fc4b093-f4f2-4652-937f-ad7eb0e5e734",
   "metadata": {},
   "outputs": [
    {
     "name": "stdin",
     "output_type": "stream",
     "text": [
      "计算机： 米粒，你好，很高兴认识你，我也很乐意协助你一起学习编程。你今年几岁了？\n"
     ]
    }
   ],
   "source": [
    "计算机 = input(\"计算机：\")"
   ]
  },
  {
   "cell_type": "code",
   "execution_count": 20,
   "id": "88384496-e5d1-405d-a1e0-374215c47496",
   "metadata": {},
   "outputs": [
    {
     "name": "stdin",
     "output_type": "stream",
     "text": [
      "米粒： 我8岁了。\n"
     ]
    }
   ],
   "source": [
    "米粒 = input(\"米粒：\")"
   ]
  },
  {
   "cell_type": "code",
   "execution_count": 23,
   "id": "19e53710-8c97-4743-9525-55a061b6357e",
   "metadata": {},
   "outputs": [
    {
     "name": "stdin",
     "output_type": "stream",
     "text": [
      "计算机： 原来你今年已经 8 岁啦。我今年才 3 岁了。你上小学几年级了？\n"
     ]
    }
   ],
   "source": [
    "计算机 = input(\"计算机：\")"
   ]
  },
  {
   "cell_type": "code",
   "execution_count": 22,
   "id": "a84372c2-7bc6-422f-889f-e2910663f293",
   "metadata": {},
   "outputs": [
    {
     "name": "stdin",
     "output_type": "stream",
     "text": [
      "米粒： 我三年级了。\n"
     ]
    }
   ],
   "source": [
    "米粒 = input(\"米粒：\")"
   ]
  },
  {
   "cell_type": "code",
   "execution_count": 25,
   "id": "722ab354-555d-45c2-9234-647efd0e50c6",
   "metadata": {},
   "outputs": [
    {
     "name": "stdin",
     "output_type": "stream",
     "text": [
      "计算机： 小学3年级 一定能学到很多新的知识吧，咱们一起学习进步。既然你学习那么好，那你喜欢什么运动呢？\n"
     ]
    }
   ],
   "source": [
    "计算机 = input(\"计算机：\")"
   ]
  },
  {
   "cell_type": "code",
   "execution_count": 29,
   "id": "cdcb6934-e58a-45b3-833b-191467a449af",
   "metadata": {},
   "outputs": [
    {
     "name": "stdin",
     "output_type": "stream",
     "text": [
      "米粒： 我喜欢打排球。哦！时间到了，我要去上课了。等我写编程作业的时候再来找你，再见!\n"
     ]
    }
   ],
   "source": [
    "米粒 = input(\"米粒：\")"
   ]
  },
  {
   "cell_type": "code",
   "execution_count": 27,
   "id": "ea57db7a-522e-4add-96a8-73a40e69156e",
   "metadata": {},
   "outputs": [
    {
     "name": "stdin",
     "output_type": "stream",
     "text": [
      "计算机： 好，再见！\n"
     ]
    }
   ],
   "source": [
    "计算机 = input(\"计算机：\")"
   ]
  },
  {
   "cell_type": "code",
   "execution_count": 31,
   "id": "669e19fe-0ea0-4e9c-9520-90d41a8bac9e",
   "metadata": {},
   "outputs": [],
   "source": [
    "# 做法2"
   ]
  },
  {
   "cell_type": "code",
   "execution_count": 30,
   "id": "cca0d694-0a3e-483a-8a2f-7fda306d55f9",
   "metadata": {},
   "outputs": [
    {
     "name": "stdin",
     "output_type": "stream",
     "text": [
      "计算机： 你好，我叫 华为小电脑 ，你叫什么名字？\n",
      "米粒： 我叫米粒。\n",
      "计算机： 米粒，你好，很高兴认识你，我也很乐意协助你一起学习编程。你今年几岁了？\n",
      "米粒：  我8岁了。\n",
      "计算机：  原来你今年已经 8 岁啦。我今年才 3 岁了。你上小学几年级了？\n",
      "米粒：  我三年级了。\n",
      "计算机： 小学3年级 一定能学到很多新的知识吧，咱们一起学习进步。既然你学习那么好，那你喜欢什么运动呢？\n",
      "米粒： 我喜欢打排球。哦！时间到了，我要去上课了。等我写编程作业的时候再来找你，再见!\n",
      "计算机： 好，再见！\n"
     ]
    }
   ],
   "source": [
    "计算机 = input(\"计算机：\")\n",
    "米粒 = input(\"米粒：\")\n",
    "计算机 = input(\"计算机：\")\n",
    "米粒 = input(\"米粒：\")\n",
    "计算机 = input(\"计算机：\")\n",
    "米粒 = input(\"米粒：\")\n",
    "计算机 = input(\"计算机：\")\n",
    "米粒 = input(\"米粒：\")\n",
    "计算机 = input(\"计算机：\")"
   ]
  },
  {
   "cell_type": "code",
   "execution_count": null,
   "id": "1f7a0ed2-00c7-423a-9423-b1365b604caf",
   "metadata": {},
   "outputs": [],
   "source": []
  }
 ],
 "metadata": {
  "kernelspec": {
   "display_name": "Python 3",
   "language": "python",
   "name": "python3"
  },
  "language_info": {
   "codemirror_mode": {
    "name": "ipython",
    "version": 3
   },
   "file_extension": ".py",
   "mimetype": "text/x-python",
   "name": "python",
   "nbconvert_exporter": "python",
   "pygments_lexer": "ipython3",
   "version": "3.8.10"
  }
 },
 "nbformat": 4,
 "nbformat_minor": 5
}
